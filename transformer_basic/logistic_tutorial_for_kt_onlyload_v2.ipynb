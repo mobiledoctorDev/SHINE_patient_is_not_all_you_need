{
 "cells": [
  {
   "cell_type": "code",
   "execution_count": null,
   "id": "2c0694fd",
   "metadata": {},
   "outputs": [],
   "source": [
    "import datetime \n",
    "from datetime import timedelta\n",
    "import numpy as np\n",
    "import pandas as pd\n",
    "import matplotlib.pyplot as plt\n",
    "import joblib\n",
    "\n",
    "from sklearn.linear_model import LogisticRegression\n",
    "from sklearn.metrics import roc_curve, roc_auc_score, plot_roc_curve\n",
    "from sklearn.metrics import accuracy_score, precision_score, recall_score, f1_score, confusion_matrix"
   ]
  },
  {
   "cell_type": "markdown",
   "id": "5fd6cd0f",
   "metadata": {},
   "source": [
    "### load model data & model parameter"
   ]
  },
  {
   "cell_type": "code",
   "execution_count": null,
   "id": "f7d49f82",
   "metadata": {},
   "outputs": [],
   "source": [
    "base_path = './data_store'\n",
    "df_israel_covid = pd.read_csv(f'{base_path}/israel_covid_large.csv')"
   ]
  },
  {
   "cell_type": "markdown",
   "id": "82c8709a",
   "metadata": {},
   "source": [
    "### israel language translated to number"
   ]
  },
  {
   "cell_type": "code",
   "execution_count": null,
   "id": "7fb4b392",
   "metadata": {},
   "outputs": [],
   "source": [
    "def gender_map(gender):\n",
    "    if gender == 'נקבה': return 1 #'Female'\n",
    "    elif gender == 'זכר': return 0 #'Male'\n",
    "    return -1"
   ]
  },
  {
   "cell_type": "code",
   "execution_count": null,
   "id": "9ab81f7e",
   "metadata": {},
   "outputs": [],
   "source": [
    "def corona_result_map(corona_result):\n",
    "    if corona_result == 'אחר': return -1 # 'Other'\n",
    "    elif corona_result == 'שלילי': return 0 # 'Negative'\n",
    "    elif corona_result == 'חיובי': return 1 # 'Positive'\n",
    "    return ''"
   ]
  },
  {
   "cell_type": "code",
   "execution_count": null,
   "id": "910f1d5a",
   "metadata": {},
   "outputs": [],
   "source": [
    "def age_60_and_above_map(age_60_and_above):\n",
    "    if age_60_and_above == 'Yes': return 1\n",
    "    elif age_60_and_above == 'No': return 0\n",
    "    return -1"
   ]
  },
  {
   "cell_type": "code",
   "execution_count": null,
   "id": "93fde7db",
   "metadata": {},
   "outputs": [],
   "source": [
    "def test_indication_map(test_indication):\n",
    "    if test_indication == 'Other': return 0\n",
    "    elif test_indication == 'Abroad': return 1\n",
    "    elif  test_indication == 'Contact with confirmed': return 2\n",
    "    else: return -1"
   ]
  },
  {
   "cell_type": "code",
   "execution_count": null,
   "id": "c4b69955",
   "metadata": {},
   "outputs": [],
   "source": [
    "df_israel_covid['gender'] = df_israel_covid['gender'].apply(gender_map)\n",
    "df_israel_covid['corona_result'] = df_israel_covid['corona_result'].apply(corona_result_map)\n",
    "df_israel_covid['age_60_and_above'] = df_israel_covid['age_60_and_above'].apply(age_60_and_above_map)\n",
    "df_israel_covid['test_indication'] = df_israel_covid['test_indication'].apply(test_indication_map)"
   ]
  },
  {
   "cell_type": "markdown",
   "id": "be3a7a53",
   "metadata": {},
   "source": [
    "### crop outlier"
   ]
  },
  {
   "cell_type": "code",
   "execution_count": null,
   "id": "499c1a69",
   "metadata": {},
   "outputs": [],
   "source": [
    "df_israel_covid_without_o = df_israel_covid[df_israel_covid['corona_result'] != -1]\n",
    "df_israel_covid_without_o = df_israel_covid_without_o[df_israel_covid_without_o['gender'] != -1]\n",
    "df_israel_covid_without_o = df_israel_covid_without_o.sort_values(['test_date']).reset_index(drop=True)"
   ]
  },
  {
   "cell_type": "markdown",
   "id": "3e81a1be",
   "metadata": {},
   "source": [
    "### dataframe to model input and label"
   ]
  },
  {
   "cell_type": "code",
   "execution_count": null,
   "id": "539b6846",
   "metadata": {},
   "outputs": [],
   "source": [
    "raw_datas = df_israel_covid_without_o[['cough', 'fever', 'sore_throat', 'shortness_of_breath', 'head_ache', 'age_60_and_above', 'gender', 'test_indication', 'corona_result']].values"
   ]
  },
  {
   "cell_type": "code",
   "execution_count": null,
   "id": "ae995e66",
   "metadata": {},
   "outputs": [],
   "source": [
    "input_datas = raw_datas[:, :-1]\n",
    "gt_datas = raw_datas[:, -1]"
   ]
  },
  {
   "cell_type": "code",
   "execution_count": null,
   "id": "e0047917",
   "metadata": {},
   "outputs": [],
   "source": [
    "def split_train_test(data, test_ratio):\n",
    "#     shuffled_indices = np.random.permutation(len(data))\n",
    "    test_set_size = int(len(data) * test_ratio)\n",
    "#     test_indices = shuffled_indices[:test_set_size]\n",
    "#     train_indices = shuffled_indices[test_set_size:]\n",
    "    \n",
    "    test_data = data[:test_set_size]\n",
    "    train_data = data[test_set_size:]\n",
    "#     test_data = data[:test_indices]\n",
    "#     train_data = data[train_indices:]\n",
    "    \n",
    "    return train_data, test_data"
   ]
  },
  {
   "cell_type": "code",
   "execution_count": null,
   "id": "84668bbf",
   "metadata": {},
   "outputs": [],
   "source": [
    "def split_input_gt(non_split_data):\n",
    "    splited_input = non_split_data[:, :-1]\n",
    "    splited_gt = non_split_data[:, -1]\n",
    "    \n",
    "    return splited_input, splited_gt"
   ]
  },
  {
   "cell_type": "code",
   "execution_count": null,
   "id": "a49ad8d1",
   "metadata": {},
   "outputs": [],
   "source": [
    "not_test_datas, test_datas = split_train_test(raw_datas, test_ratio=0.2)\n",
    "train_datas, valid_datas = split_train_test(not_test_datas, test_ratio=0.2)\n",
    "\n",
    "train_input, train_gt = split_input_gt(train_datas)\n",
    "valid_input, valid_gt = split_input_gt(valid_datas)\n",
    "test_input, test_gt = split_input_gt(test_datas)"
   ]
  },
  {
   "cell_type": "code",
   "execution_count": null,
   "id": "4d7230f6",
   "metadata": {},
   "outputs": [],
   "source": [
    "base_path = './data_store'"
   ]
  },
  {
   "cell_type": "code",
   "execution_count": null,
   "id": "9e7320be",
   "metadata": {},
   "outputs": [],
   "source": [
    "train_input = np.load(f'{base_path}/train_input.npy')\n",
    "train_gt = np.load(f'{base_path}/train_gt.npy')\n",
    "valid_input = np.load(f'{base_path}/valid_input.npy')\n",
    "valid_gt = np.load(f'{base_path}/valid_gt.npy')"
   ]
  },
  {
   "cell_type": "code",
   "execution_count": null,
   "id": "8d3d1400",
   "metadata": {},
   "outputs": [],
   "source": [
    "loaded_logistic_clf = joblib.load('./data_store/logistic_israel.pkl') "
   ]
  },
  {
   "cell_type": "markdown",
   "id": "829e02d5",
   "metadata": {},
   "source": [
    "### model performance check with validation data"
   ]
  },
  {
   "cell_type": "code",
   "execution_count": null,
   "id": "8386e378",
   "metadata": {},
   "outputs": [],
   "source": [
    "def display_performance(clf, pred, valid_input, valid_gt):\n",
    "    pred = np.array(pred)\n",
    "\n",
    "    print('accuracy %.4f' % (accuracy_score(pred, valid_gt)))\n",
    "    print('precision %.4f' % (precision_score(pred, valid_gt)))\n",
    "    print('recall %.4f' % (recall_score(pred, valid_gt)))\n",
    "    print('f1-score %.4f' % (f1_score(pred, valid_gt)))\n",
    "    print(confusion_matrix(pred, valid_gt))\n",
    "    plot_roc_curve(clf, valid_input, valid_gt)"
   ]
  },
  {
   "cell_type": "code",
   "execution_count": null,
   "id": "cc568c00",
   "metadata": {
    "scrolled": true
   },
   "outputs": [],
   "source": [
    "pred = loaded_logistic_clf.predict(valid_input)\n",
    "display_performance(loaded_logistic_clf, pred, valid_input, valid_gt)"
   ]
  }
 ],
 "metadata": {
  "kernelspec": {
   "display_name": "Python 3",
   "language": "python",
   "name": "python3"
  },
  "language_info": {
   "codemirror_mode": {
    "name": "ipython",
    "version": 3
   },
   "file_extension": ".py",
   "mimetype": "text/x-python",
   "name": "python",
   "nbconvert_exporter": "python",
   "pygments_lexer": "ipython3",
   "version": "3.8.10"
  }
 },
 "nbformat": 4,
 "nbformat_minor": 5
}
