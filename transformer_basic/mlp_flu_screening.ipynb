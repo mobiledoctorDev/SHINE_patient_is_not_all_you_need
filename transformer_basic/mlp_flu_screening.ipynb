{
 "cells": [
  {
   "cell_type": "code",
   "execution_count": 56,
   "id": "9321d4ae",
   "metadata": {},
   "outputs": [],
   "source": [
    "import numpy as np\n",
    "import pandas as pd\n",
    "\n",
    "import torch\n",
    "import torchvision\n",
    "import torchvision.transforms as transforms\n",
    "from torch.nn import TransformerEncoder, TransformerEncoderLayer\n",
    "from torch import nn, optim\n",
    "import torch.nn.functional as F\n",
    "import math, copy, time\n",
    "from torch.autograd import Variable\n",
    "from torch.utils.data import Dataset\n",
    "from torch.utils.data import DataLoader\n",
    "from itertools import cycle\n",
    "from tqdm import tqdm\n",
    "from sklearn.metrics import roc_auc_score, plot_roc_curve, accuracy_score\n",
    "import matplotlib.pyplot as plt\n",
    "import seaborn\n",
    "import os\n",
    "import glob\n",
    "from collections import defaultdict"
   ]
  },
  {
   "cell_type": "code",
   "execution_count": 57,
   "id": "dc565fbe",
   "metadata": {},
   "outputs": [],
   "source": [
    "v1_data_path = f'{os.getcwd()}/../v1/data'"
   ]
  },
  {
   "cell_type": "code",
   "execution_count": 58,
   "id": "69e16ac6",
   "metadata": {},
   "outputs": [],
   "source": [
    "train_files = glob.glob(f'{v1_data_path}/train/*.csv')\n",
    "test_files = glob.glob(f'{v1_data_path}/test/*.csv')\n",
    "df_label = pd.read_csv(f'{v1_data_path}/label.csv')"
   ]
  },
  {
   "cell_type": "code",
   "execution_count": 59,
   "id": "dd0a1266",
   "metadata": {
    "scrolled": true
   },
   "outputs": [],
   "source": [
    "df_label = df_label.sort_values(['RecordID']).reset_index(drop=True)"
   ]
  },
  {
   "cell_type": "code",
   "execution_count": 60,
   "id": "f680e092",
   "metadata": {},
   "outputs": [],
   "source": [
    "input_dict = {\n",
    "    'gender': 0,\n",
    "    'age_0to2': 1,\n",
    "    'age_2to5': 2,\n",
    "    'age_5to12': 3,\n",
    "    'age_12p': 4,\n",
    "    'dew_point_avg': 5,\n",
    "    'humidity_avg': 6,\n",
    "    'pressure_avg': 7,\n",
    "    'surveillance': 8,\n",
    "    'antibiotics': 9,\n",
    "    'temperature_min': 10,\n",
    "    'temperature_max': 11,\n",
    "    'temperature_avg': 12,\n",
    "    'reducer': 13,\n",
    "    'fever': 14,\n",
    "    'isFlu': 15\n",
    "}"
   ]
  },
  {
   "cell_type": "code",
   "execution_count": 61,
   "id": "bf9b57a8",
   "metadata": {},
   "outputs": [],
   "source": [
    "# Train data load\n",
    "df_train_data = []\n",
    "train_days = [0] * 100\n",
    "for idx, train_file in enumerate(train_files):\n",
    "    df_data = pd.read_csv(train_file)\n",
    "    count = int(df_data.tail(1)['Time'].iloc[0].split(':')[0]) // 24 + 1\n",
    "    train_days[count] += 1\n",
    "    isFlu = df_label[df_label['RecordID'] == (int(os.path.basename(train_file)[:-4])-1)]['flu'].iloc[0]\n",
    "    df_isFlu = pd.DataFrame([['0:0', 'isFlu', isFlu]], columns=['Time', 'Parameter', 'Value'])\n",
    "    df_data = pd.concat([df_data, df_isFlu], axis=0,  ignore_index=True)\n",
    "    df_train_data.append(df_data)"
   ]
  },
  {
   "cell_type": "code",
   "execution_count": 62,
   "id": "7434b24e",
   "metadata": {},
   "outputs": [],
   "source": [
    "df_train_days = pd.DataFrame(train_days, columns=['DayCount']).reset_index()"
   ]
  },
  {
   "cell_type": "code",
   "execution_count": 63,
   "id": "73c4163f",
   "metadata": {},
   "outputs": [],
   "source": [
    "df_train_days = df_train_days.drop(index=[0])"
   ]
  },
  {
   "cell_type": "code",
   "execution_count": 64,
   "id": "e7a640c9",
   "metadata": {},
   "outputs": [],
   "source": [
    "df_train_days = df_train_days.rename(columns={'index':'일수'})"
   ]
  },
  {
   "cell_type": "code",
   "execution_count": 65,
   "id": "84aa024f",
   "metadata": {},
   "outputs": [],
   "source": [
    "df_train_days.to_excel('train_data_daycount.xlsx')"
   ]
  },
  {
   "cell_type": "code",
   "execution_count": 66,
   "id": "a3cfd717",
   "metadata": {},
   "outputs": [
    {
     "name": "stdout",
     "output_type": "stream",
     "text": [
      "4 86:39\n",
      "2 47:48\n",
      "4 79:40\n",
      "3 52:33\n",
      "5 114:50\n",
      "2 25:22\n",
      "2 28:30\n",
      "2 36:32\n",
      "1 23:2\n",
      "1 22:40\n",
      "2 41:8\n",
      "2 32:6\n",
      "3 67:58\n",
      "6 121:4\n",
      "4 73:0\n",
      "2 47:30\n",
      "1 12:26\n",
      "7 151:33\n",
      "3 66:17\n",
      "2 43:51\n",
      "2 30:24\n",
      "2 36:57\n",
      "3 58:37\n",
      "3 50:14\n",
      "3 59:6\n",
      "4 92:6\n",
      "3 50:49\n",
      "3 70:33\n",
      "2 26:56\n",
      "3 57:48\n",
      "2 27:18\n",
      "2 31:13\n",
      "3 63:55\n",
      "4 88:59\n",
      "2 46:47\n",
      "3 50:0\n",
      "6 141:47\n",
      "5 102:58\n",
      "2 29:39\n",
      "3 64:54\n",
      "2 35:32\n",
      "2 42:21\n",
      "3 56:17\n",
      "1 6:59\n",
      "2 44:53\n",
      "1 11:59\n",
      "2 33:52\n",
      "2 34:47\n",
      "4 76:24\n",
      "6 138:5\n",
      "4 85:42\n",
      "4 76:0\n",
      "1 21:35\n",
      "2 40:0\n",
      "4 90:42\n",
      "2 40:29\n",
      "3 52:55\n",
      "3 48:5\n",
      "4 81:2\n",
      "4 79:5\n",
      "2 42:34\n",
      "1 5:14\n",
      "1 6:6\n",
      "1 23:27\n",
      "2 40:11\n",
      "1 0:3\n",
      "3 49:26\n",
      "1 0:16\n",
      "4 87:17\n",
      "4 86:48\n",
      "2 36:38\n",
      "3 54:18\n",
      "4 81:17\n",
      "3 65:45\n",
      "1 3:11\n",
      "5 110:22\n",
      "5 100:50\n",
      "1 14:58\n",
      "3 62:34\n",
      "2 26:43\n",
      "2 31:37\n",
      "1 16:43\n",
      "2 45:20\n",
      "5 106:21\n",
      "1 4:8\n",
      "2 46:19\n",
      "2 38:39\n",
      "2 37:32\n",
      "3 69:29\n",
      "2 43:48\n",
      "3 64:17\n",
      "3 54:48\n",
      "2 24:58\n",
      "1 17:52\n",
      "2 37:6\n",
      "3 49:23\n",
      "4 72:12\n",
      "2 30:2\n",
      "3 56:50\n",
      "1 20:47\n",
      "3 69:21\n",
      "1 1:7\n",
      "3 49:9\n",
      "1 0:0\n",
      "4 86:28\n",
      "3 67:7\n",
      "2 31:15\n",
      "3 50:37\n",
      "2 46:53\n",
      "1 17:35\n",
      "4 95:2\n",
      "3 60:59\n",
      "1 20:10\n",
      "4 93:31\n",
      "1 19:36\n",
      "2 39:48\n",
      "5 101:37\n",
      "7 162:21\n",
      "3 49:25\n",
      "1 17:1\n",
      "2 24:10\n",
      "1 11:18\n",
      "4 72:21\n",
      "3 64:9\n",
      "2 30:0\n",
      "3 60:12\n",
      "1 11:2\n",
      "1 5:1\n",
      "3 49:51\n",
      "3 48:36\n",
      "4 90:35\n",
      "4 80:47\n",
      "1 19:36\n",
      "2 39:17\n",
      "3 54:19\n",
      "3 55:34\n",
      "1 23:10\n",
      "2 39:16\n",
      "3 68:46\n",
      "2 35:50\n",
      "1 23:59\n",
      "4 73:3\n",
      "1 14:24\n",
      "6 142:19\n",
      "1 8:32\n",
      "3 69:23\n",
      "2 42:54\n",
      "3 63:57\n",
      "1 15:50\n",
      "3 57:3\n",
      "3 68:24\n",
      "4 84:43\n",
      "3 50:19\n",
      "2 27:13\n",
      "3 63:36\n",
      "4 83:3\n",
      "2 24:5\n",
      "1 22:40\n",
      "4 72:40\n",
      "5 119:42\n",
      "1 17:14\n",
      "3 68:35\n",
      "1 9:24\n",
      "2 29:43\n",
      "6 127:16\n",
      "2 31:57\n",
      "1 0:0\n",
      "1 15:41\n",
      "2 24:1\n",
      "2 34:43\n",
      "4 73:17\n",
      "4 77:10\n",
      "2 44:56\n",
      "2 32:28\n",
      "3 54:3\n",
      "2 41:34\n",
      "1 5:52\n",
      "3 50:6\n",
      "2 33:25\n",
      "4 86:57\n",
      "2 44:10\n",
      "2 31:58\n",
      "6 121:6\n",
      "5 99:58\n",
      "1 3:36\n",
      "2 36:18\n",
      "4 92:58\n",
      "2 47:32\n",
      "2 37:51\n",
      "2 26:2\n",
      "1 0:0\n",
      "2 24:7\n",
      "3 65:19\n",
      "2 24:28\n",
      "1 3:51\n",
      "4 93:23\n",
      "4 76:45\n",
      "3 50:29\n",
      "1 0:0\n",
      "2 37:14\n",
      "1 4:11\n",
      "6 121:38\n",
      "2 28:5\n",
      "1 14:16\n",
      "4 76:41\n",
      "2 28:11\n",
      "2 33:15\n",
      "1 1:39\n",
      "2 40:30\n",
      "3 48:54\n",
      "3 58:22\n",
      "7 150:45\n",
      "2 31:46\n",
      "2 28:46\n",
      "2 33:45\n",
      "3 53:25\n",
      "1 2:1\n",
      "4 87:34\n",
      "1 13:3\n",
      "3 58:19\n",
      "4 93:34\n",
      "7 152:24\n",
      "1 21:6\n",
      "2 47:59\n",
      "4 74:33\n",
      "2 38:34\n",
      "2 43:47\n",
      "1 22:15\n",
      "3 50:31\n",
      "4 93:54\n",
      "2 36:45\n",
      "1 1:58\n",
      "1 3:52\n",
      "2 38:53\n",
      "3 64:35\n",
      "2 29:21\n",
      "1 19:50\n",
      "3 60:13\n",
      "1 17:13\n",
      "1 6:58\n",
      "3 67:22\n",
      "1 8:49\n",
      "1 16:12\n",
      "2 29:12\n",
      "2 43:8\n",
      "1 6:0\n",
      "8 173:57\n",
      "3 56:43\n",
      "4 72:20\n",
      "4 72:35\n",
      "1 12:34\n",
      "1 8:45\n",
      "4 78:16\n",
      "4 75:51\n",
      "6 136:54\n",
      "6 142:39\n",
      "2 41:4\n",
      "3 64:41\n",
      "4 73:58\n",
      "2 41:40\n",
      "6 143:34\n",
      "2 36:58\n",
      "1 7:4\n",
      "3 59:5\n",
      "1 12:7\n",
      "4 89:3\n",
      "2 44:25\n",
      "1 17:34\n",
      "3 48:47\n",
      "1 21:1\n",
      "1 1:59\n",
      "2 28:44\n",
      "1 3:28\n",
      "2 36:44\n",
      "1 21:18\n",
      "3 53:11\n",
      "4 73:32\n",
      "3 58:10\n",
      "1 12:35\n",
      "5 119:44\n",
      "2 24:6\n",
      "6 121:5\n",
      "2 26:31\n",
      "1 20:35\n",
      "2 24:33\n",
      "1 2:9\n",
      "5 111:33\n",
      "4 76:14\n",
      "1 0:0\n",
      "2 24:35\n",
      "5 101:40\n",
      "4 88:55\n",
      "3 70:58\n",
      "2 31:1\n",
      "2 45:10\n",
      "9 212:56\n",
      "1 22:10\n",
      "3 56:18\n",
      "5 116:9\n",
      "1 22:32\n",
      "1 23:58\n",
      "1 18:48\n",
      "2 26:21\n",
      "3 55:6\n",
      "1 8:20\n",
      "3 71:10\n",
      "2 42:31\n",
      "5 113:15\n",
      "3 51:57\n",
      "3 60:37\n",
      "3 67:47\n",
      "5 115:8\n",
      "3 64:23\n",
      "2 30:50\n",
      "2 35:25\n",
      "3 51:35\n",
      "5 103:8\n",
      "13 300:25\n",
      "3 49:46\n",
      "1 0:0\n",
      "1 5:21\n",
      "1 11:42\n",
      "3 57:7\n",
      "4 89:43\n",
      "2 39:42\n",
      "3 66:41\n",
      "3 64:0\n",
      "5 112:12\n",
      "2 24:48\n",
      "1 17:59\n",
      "2 42:42\n",
      "1 20:21\n",
      "1 13:47\n",
      "3 50:27\n",
      "1 1:3\n",
      "3 56:28\n",
      "3 50:4\n",
      "3 53:50\n",
      "3 51:34\n",
      "2 25:43\n",
      "4 80:14\n",
      "2 39:1\n",
      "4 76:13\n",
      "2 31:26\n",
      "1 0:29\n",
      "1 10:36\n",
      "2 43:56\n",
      "4 73:14\n",
      "6 125:41\n",
      "1 10:43\n",
      "2 43:51\n",
      "5 96:16\n",
      "6 142:47\n",
      "3 48:50\n",
      "1 0:0\n",
      "4 73:55\n",
      "2 25:55\n",
      "2 33:45\n",
      "1 0:0\n",
      "1 10:0\n",
      "3 58:17\n",
      "3 70:30\n",
      "5 97:22\n",
      "2 45:48\n",
      "3 60:41\n",
      "5 101:29\n",
      "3 52:29\n",
      "3 58:48\n",
      "1 9:41\n",
      "2 41:15\n",
      "3 49:17\n",
      "3 56:58\n",
      "4 79:11\n",
      "2 33:52\n",
      "4 78:18\n",
      "4 94:1\n",
      "2 37:27\n",
      "3 50:35\n",
      "1 23:59\n",
      "2 46:25\n",
      "2 45:35\n",
      "2 47:13\n",
      "2 46:21\n",
      "3 64:48\n",
      "3 56:22\n",
      "2 45:42\n",
      "1 12:14\n",
      "3 51:38\n",
      "4 91:50\n",
      "3 49:14\n",
      "1 15:24\n",
      "4 88:40\n",
      "1 7:59\n",
      "9 205:58\n",
      "1 5:32\n",
      "3 62:5\n",
      "5 100:19\n",
      "3 61:52\n",
      "6 136:29\n",
      "5 101:48\n",
      "2 36:51\n",
      "3 51:11\n",
      "4 73:23\n",
      "4 83:10\n",
      "2 29:23\n",
      "1 20:29\n",
      "1 20:58\n",
      "3 68:7\n",
      "6 141:25\n",
      "3 61:1\n",
      "1 0:0\n",
      "2 46:43\n",
      "1 0:2\n",
      "3 50:26\n",
      "1 0:0\n",
      "1 20:58\n",
      "4 82:45\n",
      "1 22:56\n",
      "3 59:28\n",
      "2 34:1\n",
      "1 22:10\n",
      "2 42:11\n",
      "1 21:9\n",
      "2 43:13\n",
      "3 66:40\n",
      "1 13:30\n",
      "2 42:33\n",
      "1 22:47\n",
      "2 28:34\n",
      "2 33:4\n",
      "5 96:41\n",
      "3 56:31\n",
      "1 23:30\n",
      "3 56:47\n",
      "3 69:40\n",
      "5 102:39\n",
      "2 27:8\n",
      "1 23:20\n",
      "2 36:2\n",
      "2 24:36\n",
      "1 11:52\n",
      "2 47:48\n",
      "1 16:23\n",
      "3 56:35\n",
      "3 58:33\n",
      "3 68:53\n",
      "2 35:37\n",
      "2 26:41\n",
      "3 52:20\n",
      "2 32:7\n",
      "3 50:17\n",
      "1 13:9\n",
      "3 54:51\n",
      "2 33:30\n",
      "1 17:46\n",
      "2 46:29\n",
      "1 10:53\n",
      "1 9:10\n",
      "1 3:31\n",
      "5 97:52\n",
      "1 17:58\n",
      "3 59:43\n",
      "3 54:48\n",
      "3 59:49\n",
      "2 43:51\n",
      "3 55:51\n",
      "4 90:15\n",
      "3 71:27\n",
      "1 9:19\n",
      "3 63:45\n",
      "1 1:52\n",
      "2 47:38\n",
      "5 115:4\n",
      "3 64:57\n",
      "4 73:22\n",
      "2 35:46\n",
      "1 13:32\n",
      "2 38:46\n",
      "4 89:5\n",
      "4 75:20\n",
      "1 2:16\n",
      "2 46:33\n",
      "1 3:51\n",
      "2 38:53\n",
      "5 106:3\n",
      "2 43:28\n",
      "4 72:6\n",
      "3 52:3\n",
      "2 30:31\n",
      "2 24:33\n",
      "1 10:32\n",
      "3 52:11\n",
      "1 19:12\n",
      "3 57:57\n",
      "3 57:1\n",
      "4 84:19\n",
      "1 11:19\n",
      "2 46:15\n",
      "3 58:0\n",
      "2 30:38\n",
      "1 10:39\n",
      "3 68:31\n",
      "2 30:2\n",
      "3 51:31\n",
      "5 100:21\n",
      "2 39:6\n",
      "2 39:41\n",
      "2 27:37\n",
      "3 60:24\n",
      "3 48:42\n",
      "2 34:7\n",
      "2 31:50\n",
      "7 158:19\n",
      "3 55:38\n",
      "2 37:52\n",
      "1 16:18\n",
      "1 0:1\n",
      "1 15:7\n",
      "2 28:31\n",
      "2 39:2\n",
      "4 81:22\n",
      "2 37:25\n",
      "1 22:25\n",
      "3 61:52\n",
      "1 7:58\n",
      "7 166:9\n",
      "2 35:35\n",
      "4 87:37\n",
      "3 54:27\n",
      "1 23:0\n",
      "3 59:28\n",
      "1 21:27\n",
      "2 44:42\n",
      "3 50:55\n",
      "3 56:29\n",
      "1 3:37\n",
      "1 0:0\n",
      "2 33:47\n",
      "3 64:59\n",
      "4 80:44\n",
      "1 14:48\n",
      "2 36:25\n",
      "1 2:30\n",
      "4 76:41\n",
      "1 18:4\n",
      "3 58:19\n",
      "3 63:24\n",
      "3 62:28\n",
      "2 26:2\n",
      "1 3:53\n",
      "3 60:29\n",
      "2 35:30\n",
      "2 39:33\n",
      "2 43:21\n",
      "1 9:6\n",
      "1 0:11\n",
      "3 58:0\n",
      "1 13:0\n",
      "1 14:54\n",
      "1 17:46\n",
      "2 30:9\n",
      "2 34:13\n",
      "3 49:9\n",
      "3 52:30\n",
      "1 22:10\n",
      "3 60:2\n",
      "2 31:15\n",
      "4 73:8\n",
      "4 82:47\n",
      "3 70:0\n",
      "3 63:9\n",
      "3 55:28\n",
      "1 20:3\n",
      "1 15:50\n",
      "3 69:42\n",
      "1 13:59\n",
      "3 49:25\n",
      "1 2:13\n",
      "2 32:10\n",
      "1 7:30\n",
      "3 57:49\n",
      "1 15:9\n",
      "3 57:49\n",
      "2 33:53\n",
      "2 33:23\n",
      "3 62:42\n",
      "3 58:37\n",
      "3 66:58\n",
      "3 70:2\n",
      "1 9:12\n",
      "1 16:34\n",
      "3 70:18\n",
      "3 55:12\n",
      "2 32:56\n",
      "3 66:1\n",
      "2 42:19\n",
      "2 24:50\n",
      "2 46:22\n",
      "5 98:55\n",
      "1 23:15\n",
      "3 64:24\n",
      "1 9:46\n",
      "2 47:46\n",
      "2 46:14\n",
      "2 35:30\n",
      "2 25:59\n",
      "4 76:5\n",
      "3 64:48\n",
      "3 64:20\n",
      "2 33:50\n",
      "3 55:5\n",
      "4 89:17\n",
      "3 60:11\n",
      "3 58:40\n",
      "5 107:15\n",
      "1 21:15\n",
      "1 17:40\n",
      "4 91:13\n",
      "2 27:16\n",
      "2 34:47\n",
      "1 13:20\n",
      "6 120:14\n",
      "2 30:7\n",
      "2 37:26\n",
      "3 63:23\n",
      "2 32:5\n",
      "2 34:59\n",
      "3 54:25\n",
      "3 58:3\n",
      "1 14:26\n",
      "4 80:30\n",
      "2 39:4\n",
      "2 44:16\n",
      "2 43:14\n",
      "2 40:27\n",
      "2 47:45\n",
      "4 84:13\n",
      "5 107:34\n",
      "12 285:6\n",
      "2 30:20\n",
      "4 78:11\n",
      "3 54:18\n",
      "3 54:18\n",
      "1 20:29\n",
      "2 25:38\n",
      "4 79:33\n",
      "2 38:33\n",
      "1 12:11\n",
      "2 33:52\n",
      "1 18:45\n",
      "2 45:4\n",
      "2 42:13\n",
      "3 50:26\n",
      "3 55:49\n",
      "1 9:35\n",
      "3 56:16\n",
      "4 95:50\n",
      "2 41:53\n",
      "4 90:17\n",
      "1 17:4\n",
      "2 29:19\n",
      "3 64:20\n",
      "3 51:44\n",
      "3 52:59\n",
      "1 8:9\n",
      "2 45:47\n",
      "4 84:57\n",
      "3 56:54\n",
      "1 23:5\n",
      "2 26:36\n",
      "3 49:35\n",
      "2 34:8\n",
      "1 17:15\n",
      "2 28:39\n",
      "2 39:16\n",
      "2 30:27\n",
      "2 26:28\n",
      "4 93:13\n",
      "1 22:17\n",
      "4 88:9\n",
      "3 58:50\n",
      "2 31:1\n",
      "2 25:19\n",
      "2 26:33\n",
      "2 31:22\n",
      "1 4:47\n",
      "1 17:25\n",
      "3 55:51\n",
      "5 106:26\n",
      "2 31:4\n",
      "3 57:28\n",
      "5 102:49\n",
      "1 3:42\n",
      "1 3:7\n",
      "6 121:19\n",
      "2 46:52\n",
      "4 76:55\n",
      "2 32:34\n",
      "1 23:57\n",
      "2 39:12\n",
      "1 2:43\n",
      "1 12:33\n",
      "3 48:58\n",
      "2 42:56\n",
      "4 78:0\n",
      "1 11:36\n",
      "4 83:32\n",
      "3 49:15\n",
      "4 81:20\n",
      "2 38:1\n",
      "1 11:5\n",
      "5 108:40\n",
      "1 8:50\n",
      "2 40:32\n",
      "2 29:44\n",
      "1 1:9\n",
      "4 88:30\n",
      "1 11:51\n",
      "4 79:20\n",
      "4 93:38\n",
      "2 37:52\n",
      "5 108:23\n",
      "2 45:13\n",
      "2 43:45\n",
      "5 96:21\n",
      "3 50:16\n",
      "1 8:36\n",
      "1 20:11\n",
      "3 56:2\n",
      "1 6:53\n",
      "4 93:30\n",
      "1 20:33\n",
      "1 16:59\n",
      "5 97:11\n",
      "2 46:51\n",
      "3 64:25\n",
      "3 63:14\n",
      "3 49:5\n",
      "1 16:3\n",
      "2 30:11\n",
      "2 28:57\n",
      "2 25:27\n",
      "3 48:8\n",
      "5 102:52\n",
      "1 19:58\n",
      "3 54:39\n",
      "4 81:35\n",
      "4 87:24\n",
      "3 50:54\n",
      "3 66:11\n",
      "1 22:28\n",
      "1 0:0\n",
      "2 24:48\n",
      "2 29:12\n",
      "3 52:20\n",
      "3 61:37\n",
      "2 30:31\n",
      "1 7:37\n",
      "3 54:16\n",
      "6 134:31\n",
      "2 36:26\n",
      "4 83:58\n",
      "1 3:4\n",
      "2 40:31\n",
      "2 44:15\n",
      "1 23:55\n",
      "2 29:9\n",
      "1 23:21\n",
      "4 74:44\n",
      "2 41:23\n",
      "2 38:48\n",
      "4 90:15\n",
      "2 45:18\n",
      "1 0:0\n",
      "2 39:17\n",
      "4 83:3\n",
      "1 2:40\n",
      "1 21:46\n",
      "2 39:2\n",
      "4 72:39\n",
      "1 16:57\n",
      "1 4:12\n",
      "3 68:46\n",
      "4 78:53\n",
      "2 47:26\n",
      "4 82:12\n",
      "2 47:0\n",
      "2 45:5\n",
      "2 38:19\n",
      "3 50:54\n",
      "3 50:11\n",
      "3 66:44\n",
      "2 45:3\n",
      "1 22:0\n",
      "3 49:38\n",
      "4 84:46\n",
      "3 61:38\n",
      "2 44:5\n",
      "2 25:44\n",
      "1 10:30\n",
      "1 1:45\n",
      "2 39:26\n",
      "4 81:5\n",
      "3 61:47\n",
      "1 22:15\n",
      "3 48:0\n",
      "3 59:44\n",
      "1 2:0\n",
      "2 46:16\n",
      "2 32:6\n",
      "2 34:48\n",
      "2 45:51\n",
      "1 5:29\n",
      "2 30:29\n",
      "2 47:38\n",
      "2 28:33\n",
      "4 84:1\n",
      "1 9:43\n",
      "1 3:8\n",
      "2 42:35\n",
      "2 38:5\n",
      "2 26:30\n",
      "1 22:2\n",
      "2 30:55\n",
      "3 59:0\n",
      "5 103:50\n",
      "1 0:9\n",
      "1 14:26\n",
      "4 78:24\n",
      "3 69:52\n",
      "3 66:43\n",
      "2 47:43\n",
      "2 28:28\n",
      "2 33:42\n",
      "2 33:13\n",
      "1 7:2\n",
      "2 26:55\n",
      "3 56:34\n",
      "3 70:18\n",
      "2 29:19\n",
      "1 21:4\n",
      "1 14:8\n",
      "2 36:4\n",
      "3 49:27\n",
      "6 127:50\n",
      "1 17:46\n",
      "4 88:42\n",
      "4 80:58\n",
      "1 19:54\n",
      "3 55:51\n",
      "3 57:28\n",
      "6 125:30\n",
      "3 68:5\n",
      "3 65:22\n",
      "2 25:43\n",
      "1 23:18\n",
      "6 122:34\n",
      "2 24:47\n",
      "3 50:4\n",
      "1 1:59\n",
      "1 0:0\n",
      "3 60:19\n",
      "2 29:37\n",
      "2 34:53\n",
      "2 25:34\n",
      "2 44:33\n",
      "2 29:8\n",
      "3 55:15\n",
      "1 23:54\n",
      "3 54:48\n",
      "3 61:50\n",
      "4 79:12\n",
      "3 64:59\n",
      "2 36:1\n",
      "3 69:42\n",
      "1 5:13\n",
      "3 53:58\n",
      "2 47:40\n",
      "2 38:14\n",
      "2 30:30\n",
      "3 51:51\n",
      "3 58:48\n",
      "1 19:7\n",
      "2 34:29\n",
      "4 85:28\n",
      "2 40:27\n",
      "1 11:5\n",
      "4 82:31\n",
      "2 24:39\n",
      "4 75:0\n",
      "4 80:5\n",
      "4 93:31\n",
      "3 55:1\n",
      "1 23:9\n",
      "2 25:51\n",
      "1 13:29\n",
      "3 68:29\n",
      "1 20:56\n",
      "2 42:15\n",
      "1 22:40\n",
      "3 65:12\n",
      "4 87:11\n",
      "1 7:56\n",
      "2 24:33\n",
      "2 39:55\n",
      "4 94:42\n",
      "2 24:31\n",
      "2 36:38\n",
      "1 22:49\n",
      "3 56:7\n",
      "2 31:55\n",
      "5 107:34\n",
      "2 47:40\n",
      "2 46:47\n",
      "1 22:7\n",
      "2 29:48\n",
      "6 133:30\n",
      "3 52:0\n",
      "1 0:45\n",
      "3 52:6\n",
      "1 11:28\n",
      "6 137:4\n",
      "2 31:11\n",
      "1 14:40\n",
      "2 35:31\n",
      "2 40:8\n",
      "1 19:10\n",
      "1 14:10\n",
      "3 69:24\n",
      "5 99:45\n",
      "1 10:50\n",
      "3 59:26\n",
      "2 40:29\n",
      "3 66:13\n",
      "2 27:16\n",
      "4 78:1\n",
      "6 139:44\n",
      "6 130:52\n",
      "1 5:37\n",
      "1 2:5\n",
      "2 31:35\n",
      "3 66:8\n",
      "3 49:0\n",
      "3 54:43\n",
      "1 9:17\n",
      "2 26:46\n",
      "2 37:5\n",
      "1 15:11\n",
      "3 60:44\n",
      "1 22:7\n",
      "2 47:41\n",
      "1 18:56\n",
      "2 39:7\n",
      "1 0:0\n",
      "1 18:1\n",
      "2 44:22\n",
      "1 7:57\n",
      "2 37:37\n",
      "2 45:41\n",
      "2 33:7\n",
      "6 120:34\n",
      "3 49:37\n",
      "1 18:30\n",
      "3 52:34\n",
      "1 19:40\n",
      "4 73:41\n",
      "5 110:10\n",
      "3 53:55\n",
      "3 48:6\n",
      "2 36:8\n",
      "3 62:38\n",
      "4 87:36\n",
      "4 85:59\n",
      "1 5:30\n",
      "2 43:12\n",
      "1 19:13\n",
      "3 60:53\n",
      "4 84:13\n",
      "2 25:45\n",
      "4 78:26\n",
      "2 30:4\n",
      "1 6:56\n",
      "3 66:9\n",
      "2 37:43\n",
      "5 110:11\n",
      "3 52:19\n",
      "2 35:51\n",
      "3 63:0\n",
      "3 48:18\n",
      "2 33:59\n",
      "2 36:10\n",
      "2 38:55\n",
      "4 80:26\n",
      "2 25:39\n",
      "2 24:52\n",
      "5 99:7\n",
      "7 145:58\n",
      "1 22:6\n",
      "1 8:25\n",
      "4 72:39\n",
      "1 13:35\n",
      "1 16:18\n",
      "1 2:5\n",
      "3 57:14\n",
      "2 45:19\n",
      "3 51:23\n",
      "6 133:52\n",
      "3 58:47\n",
      "2 37:37\n",
      "2 31:0\n",
      "4 82:19\n",
      "2 25:51\n",
      "4 79:41\n",
      "2 26:40\n",
      "2 36:57\n",
      "3 52:29\n",
      "4 83:15\n",
      "2 24:59\n",
      "3 50:30\n",
      "2 41:33\n",
      "5 102:33\n",
      "1 9:22\n",
      "1 10:0\n",
      "2 33:40\n",
      "2 26:49\n",
      "5 107:48\n",
      "1 5:12\n",
      "4 85:21\n",
      "4 75:20\n",
      "3 50:17\n",
      "3 49:14\n",
      "3 55:35\n",
      "1 15:21\n",
      "4 72:40\n",
      "2 29:34\n",
      "5 99:15\n",
      "2 41:54\n",
      "2 42:58\n",
      "6 129:13\n",
      "4 91:45\n",
      "1 10:34\n",
      "2 45:15\n",
      "3 58:59\n",
      "4 77:58\n",
      "1 6:0\n",
      "4 74:41\n",
      "2 29:8\n",
      "5 101:39\n",
      "5 111:5\n",
      "1 6:15\n",
      "6 131:54\n",
      "3 62:55\n",
      "2 38:11\n",
      "4 82:58\n",
      "2 28:7\n",
      "2 45:46\n",
      "3 49:32\n",
      "2 31:47\n",
      "2 24:42\n",
      "4 82:36\n",
      "3 51:18\n",
      "3 55:33\n",
      "1 9:20\n",
      "3 61:53\n",
      "3 64:18\n",
      "4 82:41\n",
      "2 39:17\n",
      "3 48:43\n",
      "2 36:0\n",
      "4 76:23\n",
      "2 40:8\n",
      "5 97:12\n",
      "1 15:58\n",
      "1 16:6\n",
      "2 26:6\n",
      "3 70:35\n",
      "2 31:23\n",
      "4 78:51\n",
      "1 14:5\n",
      "3 50:0\n",
      "2 47:43\n",
      "1 14:11\n",
      "1 10:29\n",
      "2 37:9\n",
      "4 73:8\n",
      "5 100:0\n",
      "1 10:16\n",
      "3 66:10\n",
      "3 60:0\n",
      "6 129:28\n",
      "1 23:58\n",
      "3 70:44\n",
      "1 0:46\n",
      "4 75:24\n",
      "5 109:31\n",
      "2 40:52\n",
      "2 43:55\n",
      "1 7:49\n",
      "4 73:19\n",
      "3 53:2\n",
      "3 68:8\n",
      "2 47:49\n",
      "1 19:54\n",
      "2 34:28\n",
      "1 0:1\n",
      "1 9:3\n",
      "6 134:51\n",
      "2 43:39\n",
      "2 40:19\n",
      "1 9:33\n",
      "4 80:49\n",
      "1 2:47\n",
      "5 113:15\n",
      "1 8:6\n",
      "4 93:32\n",
      "2 44:29\n",
      "3 48:29\n",
      "2 24:0\n",
      "2 34:37\n",
      "7 167:47\n"
     ]
    },
    {
     "name": "stdout",
     "output_type": "stream",
     "text": [
      "3 59:38\n",
      "3 48:50\n",
      "2 28:50\n",
      "5 117:53\n",
      "4 81:36\n",
      "2 36:39\n",
      "1 10:2\n",
      "2 28:22\n",
      "4 75:29\n",
      "1 1:5\n",
      "2 45:25\n",
      "4 91:43\n",
      "1 4:45\n",
      "3 61:57\n",
      "2 42:54\n",
      "3 50:26\n",
      "2 42:28\n",
      "2 26:6\n",
      "1 0:0\n",
      "2 31:10\n",
      "3 65:45\n",
      "1 0:0\n",
      "2 44:24\n",
      "1 21:19\n",
      "5 103:42\n",
      "1 0:0\n",
      "1 20:20\n",
      "3 70:20\n",
      "2 33:39\n",
      "2 32:13\n",
      "4 92:57\n",
      "1 8:30\n",
      "2 34:24\n",
      "2 34:7\n",
      "2 43:33\n",
      "5 105:29\n",
      "3 57:31\n",
      "1 10:6\n",
      "1 21:25\n",
      "5 105:41\n",
      "2 31:27\n",
      "4 77:7\n",
      "4 82:32\n",
      "4 87:57\n",
      "5 115:18\n",
      "1 18:46\n",
      "4 73:29\n",
      "1 2:11\n",
      "3 64:33\n",
      "3 53:34\n",
      "2 47:24\n",
      "3 56:18\n",
      "2 42:10\n",
      "3 65:19\n",
      "1 22:58\n",
      "1 5:55\n",
      "1 10:13\n",
      "3 49:39\n",
      "1 10:14\n",
      "3 55:54\n",
      "1 15:54\n",
      "4 87:56\n",
      "3 60:45\n",
      "1 6:22\n",
      "4 82:54\n",
      "2 24:50\n",
      "2 36:50\n",
      "3 49:9\n",
      "1 22:32\n",
      "2 46:9\n",
      "5 111:11\n",
      "2 39:1\n",
      "3 55:33\n",
      "3 67:10\n",
      "1 21:7\n",
      "2 38:7\n",
      "3 62:2\n",
      "3 60:46\n",
      "2 32:30\n",
      "2 36:13\n",
      "1 1:19\n",
      "4 88:47\n",
      "3 71:37\n",
      "5 111:21\n",
      "2 46:30\n",
      "3 58:33\n",
      "3 63:16\n",
      "3 50:23\n",
      "2 31:21\n",
      "3 63:6\n",
      "3 58:15\n",
      "3 62:28\n",
      "3 66:36\n",
      "3 65:10\n",
      "1 11:28\n",
      "2 47:1\n",
      "3 53:49\n",
      "1 18:0\n",
      "3 59:25\n",
      "2 29:46\n",
      "1 17:46\n",
      "2 31:30\n",
      "4 75:0\n",
      "1 21:14\n",
      "3 67:43\n",
      "3 55:33\n",
      "3 64:33\n",
      "2 33:37\n",
      "2 28:25\n",
      "1 12:51\n",
      "2 35:32\n",
      "3 56:24\n",
      "2 47:2\n",
      "3 63:43\n",
      "2 25:59\n",
      "4 72:35\n",
      "3 69:7\n",
      "2 31:24\n",
      "3 53:0\n",
      "3 61:4\n",
      "1 22:6\n",
      "2 34:27\n",
      "2 43:41\n",
      "4 93:31\n",
      "6 140:40\n",
      "2 25:48\n",
      "3 48:6\n",
      "4 74:15\n",
      "1 6:13\n",
      "2 39:6\n",
      "4 92:1\n",
      "4 73:32\n",
      "3 57:15\n",
      "2 24:29\n",
      "4 74:49\n",
      "3 64:53\n",
      "2 27:15\n",
      "2 28:59\n",
      "2 33:29\n",
      "2 43:3\n",
      "3 48:9\n",
      "3 52:58\n",
      "4 94:7\n",
      "2 32:49\n",
      "5 98:1\n",
      "6 122:9\n",
      "1 6:54\n",
      "3 53:42\n",
      "1 12:11\n",
      "2 25:49\n",
      "2 42:0\n",
      "2 46:38\n",
      "3 60:47\n",
      "5 108:20\n",
      "5 108:59\n",
      "1 5:8\n",
      "3 51:0\n",
      "4 80:17\n",
      "2 36:27\n",
      "6 123:0\n",
      "2 42:6\n",
      "3 56:9\n",
      "2 25:56\n",
      "2 47:28\n",
      "3 56:11\n",
      "3 49:32\n",
      "3 51:32\n",
      "2 47:31\n",
      "6 135:7\n",
      "1 23:28\n",
      "2 24:19\n",
      "5 99:11\n",
      "6 123:27\n",
      "2 45:47\n",
      "2 26:53\n",
      "2 39:28\n",
      "3 57:1\n",
      "2 25:19\n",
      "1 23:50\n",
      "2 37:44\n",
      "2 35:45\n",
      "2 39:50\n",
      "1 17:49\n",
      "3 57:3\n",
      "2 24:46\n",
      "1 16:0\n",
      "4 74:53\n",
      "1 6:44\n",
      "1 10:59\n",
      "3 71:37\n",
      "1 20:59\n",
      "1 22:2\n",
      "2 29:29\n",
      "1 19:5\n",
      "2 40:35\n",
      "2 26:50\n",
      "2 40:15\n",
      "2 41:23\n",
      "3 52:44\n",
      "4 78:52\n",
      "1 21:55\n",
      "1 17:5\n",
      "3 60:7\n",
      "2 35:35\n",
      "2 32:23\n",
      "1 2:26\n",
      "2 30:58\n",
      "4 85:44\n",
      "4 89:41\n",
      "3 70:19\n",
      "1 10:29\n",
      "2 33:14\n"
     ]
    }
   ],
   "source": [
    "# Test data load\n",
    "df_test_data = []\n",
    "test_days = [0] * 40\n",
    "for test_file in test_files:\n",
    "    df_data = pd.read_csv(test_file)\n",
    "    count = int(df_data.tail(1)['Time'].iloc[0].split(':')[0]) // 24 + 1\n",
    "    print(count,df_data.tail(1)['Time'].iloc[0])\n",
    "    test_days[count] += 1\n",
    "    isFlu = df_label[df_label['RecordID'] == (int(os.path.basename(test_file)[:-4])-1)]['flu'].iloc[0]\n",
    "    df_isFlu = pd.DataFrame([['0:0', 'isFlu', isFlu]], columns=['Time', 'Parameter', 'Value'])\n",
    "    df_data = pd.concat([df_data, df_isFlu], axis=0,  ignore_index=True)\n",
    "    df_test_data.append(df_data)"
   ]
  },
  {
   "cell_type": "code",
   "execution_count": 67,
   "id": "c38907f0",
   "metadata": {},
   "outputs": [],
   "source": [
    "df_test_days = pd.DataFrame(test_days, columns=['DayCount']).reset_index()"
   ]
  },
  {
   "cell_type": "code",
   "execution_count": 68,
   "id": "c5bb2cf9",
   "metadata": {},
   "outputs": [],
   "source": [
    "df_test_days = df_test_days.drop(index=[0])"
   ]
  },
  {
   "cell_type": "code",
   "execution_count": 69,
   "id": "a48b1f28",
   "metadata": {},
   "outputs": [],
   "source": [
    "df_test_days = df_test_days.rename(columns={'index':'일수'})"
   ]
  },
  {
   "cell_type": "code",
   "execution_count": 70,
   "id": "9ce5f8ca",
   "metadata": {},
   "outputs": [],
   "source": [
    "df_test_days.to_excel('test_data_daycount.xlsx')"
   ]
  },
  {
   "cell_type": "code",
   "execution_count": 71,
   "id": "96325b3b",
   "metadata": {},
   "outputs": [],
   "source": [
    "# Bug check\n",
    "for idx, df in enumerate(df_train_data):\n",
    "    if df[df['Parameter'] == 'isFlu'].shape[0] != 1 : display(df)"
   ]
  },
  {
   "cell_type": "code",
   "execution_count": 72,
   "id": "79ed51af",
   "metadata": {},
   "outputs": [
    {
     "name": "stdout",
     "output_type": "stream",
     "text": [
      "5325 1332 6657\n"
     ]
    }
   ],
   "source": [
    "print(len(df_train_data), len(df_test_data), len(df_train_data+df_test_data))"
   ]
  },
  {
   "cell_type": "code",
   "execution_count": 73,
   "id": "d40b5cee",
   "metadata": {
    "scrolled": false
   },
   "outputs": [
    {
     "name": "stdout",
     "output_type": "stream",
     "text": [
      "253\n",
      "244\n",
      "201\n",
      "226\n"
     ]
    }
   ],
   "source": [
    "for idx, df_data in enumerate(df_train_data):\n",
    "    digit = str(df_data['Parameter'].shape[0])\n",
    "    if len(digit) == 3 and digit[0] >= '2': \n",
    "        print(df_data.shape[0])"
   ]
  },
  {
   "cell_type": "code",
   "execution_count": 74,
   "id": "20b0f092",
   "metadata": {},
   "outputs": [],
   "source": [
    "def time_to_minute(time):\n",
    "    hour_minute = time.split(':')\n",
    "    return int(hour_minute[0]) * 60 + int(hour_minute[1])"
   ]
  },
  {
   "cell_type": "code",
   "execution_count": 75,
   "id": "4ad0c851",
   "metadata": {},
   "outputs": [],
   "source": [
    "def make_input_and_gt(df_data):\n",
    "    max_seq_len = 300\n",
    "    input_datas = np.zeros([1, 16, 2])\n",
    "    gt_datas = []\n",
    "    \n",
    "    for idx_chk, df_piece in tqdm(enumerate(df_data)):\n",
    "        input_data = np.zeros([1, 16, 2])\n",
    "        df_piece['Minute'] = df_piece['Time'].apply(time_to_minute)\n",
    "        df_piece['Parameter_num'] = df_piece['Parameter'].apply(lambda x: input_dict[x])\n",
    "        df_piece = df_piece.sort_values(['Time', 'Parameter_num'])\n",
    "        gt_datas.append([df_piece[df_piece['Parameter'] == 'isFlu']['Value'].iloc[0]])\n",
    "        df_piece = df_piece[df_piece['Parameter'] != 'isFlu'].sort_values(['Minute'])\n",
    "#         display(df_piece)\n",
    "        \n",
    "        \n",
    "        for idx, rows in df_piece.iterrows():\n",
    "            param_num = rows['Parameter_num']\n",
    "            minute = rows['Minute']\n",
    "            value = rows['Value']\n",
    "            input_data[0, param_num, 0] = value\n",
    "            input_data[0, param_num, 1] = minute\n",
    "        \n",
    "        input_data = np.array(input_data)\n",
    "        input_datas = np.concatenate((input_datas, input_data), axis=0)\n",
    "#         print(input_datas.shape)\n",
    "    return torch.Tensor(input_datas[1:].astype(np.float32)), torch.Tensor(np.array(gt_datas))"
   ]
  },
  {
   "cell_type": "code",
   "execution_count": 76,
   "id": "45e2c2c5",
   "metadata": {},
   "outputs": [
    {
     "name": "stderr",
     "output_type": "stream",
     "text": [
      "5325it [00:27, 191.08it/s]\n",
      "1332it [00:07, 187.55it/s]\n"
     ]
    }
   ],
   "source": [
    "input_train_datas, gt_train_datas = make_input_and_gt(df_train_data)\n",
    "input_test_datas, gt_test_datas = make_input_and_gt(df_test_data)"
   ]
  },
  {
   "cell_type": "code",
   "execution_count": 77,
   "id": "1d29b55d",
   "metadata": {},
   "outputs": [
    {
     "data": {
      "text/plain": [
       "(torch.Size([5325, 16, 2]), torch.Size([5325, 1]))"
      ]
     },
     "execution_count": 77,
     "metadata": {},
     "output_type": "execute_result"
    }
   ],
   "source": [
    "input_train_datas.shape, gt_train_datas.shape"
   ]
  },
  {
   "cell_type": "code",
   "execution_count": 78,
   "id": "d1724831",
   "metadata": {},
   "outputs": [],
   "source": [
    "input_train_surveilances = input_train_datas[:, 8, 0]\n",
    "input_test_surveilances = input_test_datas[:, 8, 0]"
   ]
  },
  {
   "cell_type": "code",
   "execution_count": 79,
   "id": "0022747b",
   "metadata": {},
   "outputs": [
    {
     "data": {
      "text/plain": [
       "torch.Size([5325])"
      ]
     },
     "execution_count": 79,
     "metadata": {},
     "output_type": "execute_result"
    }
   ],
   "source": [
    "input_train_surveilances.shape"
   ]
  },
  {
   "cell_type": "code",
   "execution_count": 80,
   "id": "e4e2d191",
   "metadata": {},
   "outputs": [],
   "source": [
    "### time delta 제거해보기\n",
    "input_train_datas_without_td = input_train_datas[:, :, 0]\n",
    "input_test_datas_without_td = input_test_datas[:, :, 0]"
   ]
  },
  {
   "cell_type": "code",
   "execution_count": 81,
   "id": "ab1cc130",
   "metadata": {},
   "outputs": [
    {
     "data": {
      "text/plain": [
       "(torch.Size([1332, 16, 2]), torch.Size([1332, 1]))"
      ]
     },
     "execution_count": 81,
     "metadata": {},
     "output_type": "execute_result"
    }
   ],
   "source": [
    "input_test_datas.shape, gt_test_datas.shape"
   ]
  },
  {
   "cell_type": "code",
   "execution_count": 82,
   "id": "0e66a673",
   "metadata": {},
   "outputs": [],
   "source": [
    "class FluDataset(Dataset):\n",
    "    def __init__(self, input_data, gt, transform=None, target_transform=None):\n",
    "        self.input_data = input_data\n",
    "        self.gt = gt\n",
    "        self.transform = transform\n",
    "        self.target_transform = target_transform\n",
    "    \n",
    "    def __len__(self):\n",
    "        return len(self.input_data)\n",
    "    \n",
    "    def __getitem__(self, idx):\n",
    "        return self.input_data[idx], self.gt[idx]"
   ]
  },
  {
   "cell_type": "code",
   "execution_count": 83,
   "id": "65427cf3",
   "metadata": {},
   "outputs": [],
   "source": [
    "training_data = FluDataset(input_train_datas, gt_train_datas)\n",
    "test_data = FluDataset(input_test_datas, gt_test_datas)\n",
    "\n",
    "train_dataloader = DataLoader(training_data, batch_size=8, shuffle=True) \n",
    "test_dataloader = DataLoader(test_data, batch_size=1, shuffle=True)"
   ]
  },
  {
   "cell_type": "code",
   "execution_count": 107,
   "id": "888ff593",
   "metadata": {},
   "outputs": [],
   "source": [
    "class FluBaselineModel(nn.Module):\n",
    "    def __init__(self):\n",
    "        super(FluBaselineModel, self).__init__()\n",
    "        self.fcs = nn.Sequential(\n",
    "            nn.BatchNorm1d(32),\n",
    "            nn.Linear(32, 8),\n",
    "            nn.BatchNorm1d(8),\n",
    "            nn.ReLU(),\n",
    "            nn.Linear(8, 20),\n",
    "            nn.BatchNorm1d(20),\n",
    "            nn.ReLU(),\n",
    "            nn.Linear(20, 40),\n",
    "            nn.BatchNorm1d(40),\n",
    "            nn.ReLU(),\n",
    "            nn.Linear(40, 80),\n",
    "            nn.BatchNorm1d(80),\n",
    "            nn.ReLU(),\n",
    "            nn.Linear(80, 1),\n",
    "            nn.Sigmoid()\n",
    "        )\n",
    "    \n",
    "    def forward(self, pghd):\n",
    "        pghd = pghd.view(-1, 32)\n",
    "#         print(pghd.shape)\n",
    "        pred = self.fcs(pghd)\n",
    "        return pred"
   ]
  },
  {
   "cell_type": "code",
   "execution_count": 108,
   "id": "d39ee698",
   "metadata": {},
   "outputs": [],
   "source": [
    "model = FluBaselineModel()\n",
    "criterion = nn.BCELoss()\n",
    "optimizer = optim.SGD(model.parameters(), lr=0.001, momentum=0.9)"
   ]
  },
  {
   "cell_type": "code",
   "execution_count": 109,
   "id": "ac06704d",
   "metadata": {},
   "outputs": [
    {
     "data": {
      "text/plain": [
       "(666, 1332)"
      ]
     },
     "execution_count": 109,
     "metadata": {},
     "output_type": "execute_result"
    }
   ],
   "source": [
    "len(train_dataloader), len(test_dataloader)"
   ]
  },
  {
   "cell_type": "code",
   "execution_count": 110,
   "id": "3f9336e2",
   "metadata": {
    "scrolled": true
   },
   "outputs": [
    {
     "name": "stderr",
     "output_type": "stream",
     "text": [
      "\r",
      "  0%|          | 0/3000 [00:00<?, ?it/s]"
     ]
    },
    {
     "name": "stdout",
     "output_type": "stream",
     "text": [
      "\n",
      "Train] epoch] 1, idx] 99 loss] 59.51499181985855\n",
      "\n",
      "Train] epoch] 1, idx] 199 loss] 50.610913172364235\n",
      "\n",
      "Train] epoch] 1, idx] 299 loss] 50.05400274693966\n",
      "\n",
      "Train] epoch] 1, idx] 399 loss] 45.3734420388937\n",
      "\n",
      "Train] epoch] 1, idx] 499 loss] 52.228324219584465\n",
      "\n"
     ]
    },
    {
     "name": "stderr",
     "output_type": "stream",
     "text": [
      "\r",
      "  0%|          | 1/3000 [00:00<49:36,  1.01it/s]"
     ]
    },
    {
     "name": "stdout",
     "output_type": "stream",
     "text": [
      "Train] epoch] 1, idx] 599 loss] 48.178274899721146\n",
      "\n",
      "\n",
      "Train] epoch] 2, idx] 99 loss] 77.13500271737576\n",
      "\n",
      "Train] epoch] 2, idx] 199 loss] 48.52166332304478\n",
      "\n",
      "Train] epoch] 2, idx] 299 loss] 45.63646396994591\n",
      "\n",
      "Train] epoch] 2, idx] 399 loss] 46.06850019097328\n",
      "\n",
      "Train] epoch] 2, idx] 499 loss] 46.89361247420311\n",
      "\n",
      "Train] epoch] 2, idx] 599 loss] 44.79956331849098\n",
      "\n"
     ]
    },
    {
     "name": "stderr",
     "output_type": "stream",
     "text": [
      "\r",
      "  0%|          | 2/3000 [00:02<50:52,  1.02s/it]"
     ]
    },
    {
     "name": "stdout",
     "output_type": "stream",
     "text": [
      "\n",
      "Train] epoch] 3, idx] 99 loss] 73.33974382281303\n",
      "\n",
      "Train] epoch] 3, idx] 199 loss] 43.68725401163101\n",
      "\n",
      "Train] epoch] 3, idx] 299 loss] 48.167637035250664\n",
      "\n",
      "Train] epoch] 3, idx] 399 loss] 47.42650902271271\n",
      "\n",
      "Train] epoch] 3, idx] 499 loss] 45.30392725765705\n",
      "\n"
     ]
    },
    {
     "name": "stderr",
     "output_type": "stream",
     "text": [
      "\r",
      "  0%|          | 3/3000 [00:03<51:03,  1.02s/it]"
     ]
    },
    {
     "name": "stdout",
     "output_type": "stream",
     "text": [
      "Train] epoch] 3, idx] 599 loss] 45.11153446137905\n",
      "\n",
      "\n",
      "Train] epoch] 4, idx] 99 loss] 72.15938957035542\n",
      "\n",
      "Train] epoch] 4, idx] 199 loss] 46.25030034780502\n",
      "\n",
      "Train] epoch] 4, idx] 299 loss] 43.06416380405426\n",
      "\n",
      "Train] epoch] 4, idx] 399 loss] 47.05378258228302\n",
      "\n",
      "Train] epoch] 4, idx] 499 loss] 47.901501789689064\n",
      "\n",
      "Train] epoch] 4, idx] 599 loss] 46.47643239796162\n",
      "\n"
     ]
    },
    {
     "name": "stderr",
     "output_type": "stream",
     "text": [
      "\r",
      "  0%|          | 4/3000 [00:04<51:06,  1.02s/it]"
     ]
    },
    {
     "name": "stdout",
     "output_type": "stream",
     "text": [
      "\n",
      "Train] epoch] 5, idx] 99 loss] 75.90311609208584\n",
      "\n",
      "Train] epoch] 5, idx] 199 loss] 43.41272750496864\n",
      "\n",
      "Train] epoch] 5, idx] 299 loss] 43.90009208023548\n",
      "\n",
      "Train] epoch] 5, idx] 399 loss] 46.49414746463299\n",
      "\n",
      "Train] epoch] 5, idx] 499 loss] 43.14730952680111\n",
      "\n"
     ]
    },
    {
     "name": "stderr",
     "output_type": "stream",
     "text": [
      "\r",
      "  0%|          | 5/3000 [00:05<51:02,  1.02s/it]"
     ]
    },
    {
     "name": "stdout",
     "output_type": "stream",
     "text": [
      "Train] epoch] 5, idx] 599 loss] 37.83086575567722\n",
      "\n",
      "\n",
      "Train] epoch] 6, idx] 99 loss] 78.41180953383446\n",
      "\n",
      "Train] epoch] 6, idx] 199 loss] 41.849414959549904\n",
      "\n",
      "Train] epoch] 6, idx] 299 loss] 43.53782291710377\n",
      "\n",
      "Train] epoch] 6, idx] 399 loss] 42.95099130272865\n",
      "\n",
      "Train] epoch] 6, idx] 499 loss] 45.45348979532719\n",
      "\n",
      "Train] epoch] 6, idx] 599 loss] 45.556024968624115\n",
      "\n"
     ]
    },
    {
     "name": "stderr",
     "output_type": "stream",
     "text": [
      "\r",
      "  0%|          | 6/3000 [00:06<51:23,  1.03s/it]"
     ]
    },
    {
     "name": "stdout",
     "output_type": "stream",
     "text": [
      "\n",
      "Train] epoch] 7, idx] 99 loss] 78.0412003993988\n",
      "\n",
      "Train] epoch] 7, idx] 199 loss] 44.895326405763626\n",
      "\n",
      "Train] epoch] 7, idx] 299 loss] 45.343630984425545\n",
      "\n",
      "Train] epoch] 7, idx] 399 loss] 42.181265875697136\n",
      "\n",
      "Train] epoch] 7, idx] 499 loss] 43.068985253572464\n",
      "\n"
     ]
    },
    {
     "name": "stderr",
     "output_type": "stream",
     "text": [
      "\r",
      "  0%|          | 7/3000 [00:07<51:35,  1.03s/it]"
     ]
    },
    {
     "name": "stdout",
     "output_type": "stream",
     "text": [
      "Train] epoch] 7, idx] 599 loss] 41.8517872095108\n",
      "\n",
      "\n",
      "Train] epoch] 8, idx] 99 loss] 77.47699017822742\n",
      "\n",
      "Train] epoch] 8, idx] 199 loss] 41.40958862006664\n",
      "\n",
      "Train] epoch] 8, idx] 299 loss] 44.78110282123089\n",
      "\n",
      "Train] epoch] 8, idx] 399 loss] 42.22642466425896\n",
      "\n",
      "Train] epoch] 8, idx] 499 loss] 43.78780262172222\n",
      "\n",
      "Train] epoch] 8, idx] 599 loss] 44.56044627726078\n",
      "\n"
     ]
    },
    {
     "name": "stderr",
     "output_type": "stream",
     "text": [
      "\r",
      "  0%|          | 8/3000 [00:08<52:08,  1.05s/it]"
     ]
    },
    {
     "name": "stdout",
     "output_type": "stream",
     "text": [
      "\n",
      "Train] epoch] 9, idx] 99 loss] 72.09700199961662\n",
      "\n",
      "Train] epoch] 9, idx] 199 loss] 40.73739378154278\n",
      "\n",
      "Train] epoch] 9, idx] 299 loss] 47.076768934726715\n",
      "\n",
      "Train] epoch] 9, idx] 399 loss] 44.66430486738682\n",
      "\n",
      "Train] epoch] 9, idx] 499 loss] 42.808049365878105\n",
      "\n"
     ]
    },
    {
     "name": "stderr",
     "output_type": "stream",
     "text": [
      "\r",
      "  0%|          | 9/3000 [00:09<51:50,  1.04s/it]"
     ]
    },
    {
     "name": "stdout",
     "output_type": "stream",
     "text": [
      "Train] epoch] 9, idx] 599 loss] 43.0613858550787\n",
      "\n",
      "\n",
      "Train] epoch] 10, idx] 99 loss] 67.09849990904331\n",
      "\n",
      "Train] epoch] 10, idx] 199 loss] 44.782352805137634\n",
      "\n",
      "Train] epoch] 10, idx] 299 loss] 44.00947244465351\n",
      "\n",
      "Train] epoch] 10, idx] 399 loss] 42.37941460311413\n",
      "\n",
      "Train] epoch] 10, idx] 499 loss] 43.10389895737171\n",
      "\n",
      "Train] epoch] 10, idx] 599 loss] 43.7589018791914\n",
      "\n"
     ]
    },
    {
     "name": "stderr",
     "output_type": "stream",
     "text": [
      "\r",
      "  0%|          | 10/3000 [00:10<51:10,  1.03s/it]"
     ]
    },
    {
     "name": "stdout",
     "output_type": "stream",
     "text": [
      "\n",
      "Train] epoch] 11, idx] 99 loss] 75.22973236441612\n",
      "\n",
      "Train] epoch] 11, idx] 199 loss] 41.45723208785057\n",
      "\n",
      "Train] epoch] 11, idx] 299 loss] 42.32134436070919\n",
      "\n",
      "Train] epoch] 11, idx] 399 loss] 46.53197209537029\n",
      "\n",
      "Train] epoch] 11, idx] 499 loss] 42.024624183773994\n",
      "\n"
     ]
    },
    {
     "name": "stderr",
     "output_type": "stream",
     "text": [
      "\r",
      "  0%|          | 11/3000 [00:11<49:55,  1.00s/it]"
     ]
    },
    {
     "name": "stdout",
     "output_type": "stream",
     "text": [
      "Train] epoch] 11, idx] 599 loss] 42.89651767909527\n",
      "\n",
      "\n",
      "Train] epoch] 12, idx] 99 loss] 67.26948020607233\n",
      "\n",
      "Train] epoch] 12, idx] 199 loss] 42.46770044416189\n",
      "\n",
      "Train] epoch] 12, idx] 299 loss] 37.450638100504875\n",
      "\n",
      "Train] epoch] 12, idx] 399 loss] 42.711346581578255\n",
      "\n",
      "Train] epoch] 12, idx] 499 loss] 41.75072713941336\n",
      "\n",
      "Train] epoch] 12, idx] 599 loss] 42.85033284127712\n",
      "\n"
     ]
    },
    {
     "name": "stderr",
     "output_type": "stream",
     "text": [
      "\r",
      "  0%|          | 12/3000 [00:12<50:03,  1.01s/it]"
     ]
    },
    {
     "name": "stdout",
     "output_type": "stream",
     "text": [
      "\n",
      "Train] epoch] 13, idx] 99 loss] 73.63181453943253\n",
      "\n",
      "Train] epoch] 13, idx] 199 loss] 42.808441400527954\n",
      "\n",
      "Train] epoch] 13, idx] 299 loss] 42.42458987236023\n",
      "\n",
      "Train] epoch] 13, idx] 399 loss] 48.25533477962017\n",
      "\n",
      "Train] epoch] 13, idx] 499 loss] 43.03904651105404\n",
      "\n"
     ]
    },
    {
     "name": "stderr",
     "output_type": "stream",
     "text": [
      "\r",
      "  0%|          | 13/3000 [00:13<50:18,  1.01s/it]"
     ]
    },
    {
     "name": "stdout",
     "output_type": "stream",
     "text": [
      "Train] epoch] 13, idx] 599 loss] 41.57145768404007\n",
      "\n",
      "\n",
      "Train] epoch] 14, idx] 99 loss] 66.27346946299076\n",
      "\n",
      "Train] epoch] 14, idx] 199 loss] 39.26682900637388\n",
      "\n",
      "Train] epoch] 14, idx] 299 loss] 40.7105975151062\n",
      "\n",
      "Train] epoch] 14, idx] 399 loss] 44.3805900067091\n",
      "\n",
      "Train] epoch] 14, idx] 499 loss] 42.75212998688221\n",
      "\n",
      "Train] epoch] 14, idx] 599 loss] 39.479416251182556\n",
      "\n"
     ]
    },
    {
     "name": "stderr",
     "output_type": "stream",
     "text": [
      "\r",
      "  0%|          | 14/3000 [00:14<50:45,  1.02s/it]"
     ]
    },
    {
     "name": "stdout",
     "output_type": "stream",
     "text": [
      "\n",
      "Train] epoch] 15, idx] 99 loss] 72.82586044073105\n",
      "\n",
      "Train] epoch] 15, idx] 199 loss] 37.46159514039755\n",
      "\n",
      "Train] epoch] 15, idx] 299 loss] 44.76010501384735\n",
      "\n",
      "Train] epoch] 15, idx] 399 loss] 42.861098542809486\n",
      "\n",
      "Train] epoch] 15, idx] 499 loss] 38.24468906223774\n",
      "\n"
     ]
    },
    {
     "name": "stderr",
     "output_type": "stream",
     "text": [
      "\r",
      "  0%|          | 15/3000 [00:15<50:35,  1.02s/it]"
     ]
    },
    {
     "name": "stdout",
     "output_type": "stream",
     "text": [
      "Train] epoch] 15, idx] 599 loss] 41.84106780588627\n",
      "\n",
      "\n",
      "Train] epoch] 16, idx] 99 loss] 67.34864979237318\n",
      "\n",
      "Train] epoch] 16, idx] 199 loss] 39.18099907040596\n",
      "\n",
      "Train] epoch] 16, idx] 299 loss] 39.401825316250324\n",
      "\n",
      "Train] epoch] 16, idx] 399 loss] 40.4292087033391\n",
      "\n",
      "Train] epoch] 16, idx] 499 loss] 40.153068996965885\n",
      "\n",
      "Train] epoch] 16, idx] 599 loss] 39.05007000267506\n",
      "\n"
     ]
    },
    {
     "name": "stderr",
     "output_type": "stream",
     "text": [
      "\r",
      "  1%|          | 16/3000 [00:16<51:41,  1.04s/it]"
     ]
    },
    {
     "name": "stdout",
     "output_type": "stream",
     "text": [
      "\n",
      "Train] epoch] 17, idx] 99 loss] 68.46909951418638\n",
      "\n",
      "Train] epoch] 17, idx] 199 loss] 40.323823772370815\n",
      "\n",
      "Train] epoch] 17, idx] 299 loss] 42.27507431805134\n",
      "\n",
      "Train] epoch] 17, idx] 399 loss] 42.08043675869703\n",
      "\n",
      "Train] epoch] 17, idx] 499 loss] 41.14616211503744\n",
      "\n"
     ]
    },
    {
     "name": "stderr",
     "output_type": "stream",
     "text": [
      "\r",
      "  1%|          | 17/3000 [00:17<51:48,  1.04s/it]"
     ]
    },
    {
     "name": "stdout",
     "output_type": "stream",
     "text": [
      "Train] epoch] 17, idx] 599 loss] 40.12056716531515\n",
      "\n",
      "\n",
      "Train] epoch] 18, idx] 99 loss] 67.66627299785614\n",
      "\n",
      "Train] epoch] 18, idx] 199 loss] 41.560256250202656\n",
      "\n",
      "Train] epoch] 18, idx] 299 loss] 37.60271912813187\n",
      "\n",
      "Train] epoch] 18, idx] 399 loss] 41.46659365296364\n",
      "\n",
      "Train] epoch] 18, idx] 499 loss] 42.03727090358734\n",
      "\n",
      "Train] epoch] 18, idx] 599 loss] 40.11335535347462\n",
      "\n"
     ]
    },
    {
     "name": "stderr",
     "output_type": "stream",
     "text": [
      "\r",
      "  1%|          | 18/3000 [00:18<51:44,  1.04s/it]"
     ]
    },
    {
     "name": "stdout",
     "output_type": "stream",
     "text": [
      "\n",
      "Train] epoch] 19, idx] 99 loss] 63.274432957172394\n",
      "\n",
      "Train] epoch] 19, idx] 199 loss] 39.95862463861704\n",
      "\n",
      "Train] epoch] 19, idx] 299 loss] 41.73172993212938\n",
      "\n",
      "Train] epoch] 19, idx] 399 loss] 41.316165059804916\n",
      "\n",
      "Train] epoch] 19, idx] 499 loss] 44.68046309798956\n",
      "\n"
     ]
    },
    {
     "name": "stderr",
     "output_type": "stream",
     "text": [
      "\r",
      "  1%|          | 19/3000 [00:19<51:31,  1.04s/it]"
     ]
    },
    {
     "name": "stdout",
     "output_type": "stream",
     "text": [
      "Train] epoch] 19, idx] 599 loss] 40.3782954365015\n",
      "\n",
      "\n",
      "Train] epoch] 20, idx] 99 loss] 67.19512116163969\n",
      "\n",
      "Train] epoch] 20, idx] 199 loss] 41.54355326294899\n",
      "\n",
      "Train] epoch] 20, idx] 299 loss] 38.96158415079117\n",
      "\n",
      "Train] epoch] 20, idx] 399 loss] 37.35018778592348\n",
      "\n",
      "Train] epoch] 20, idx] 499 loss] 43.691404186189175\n",
      "\n",
      "Train] epoch] 20, idx] 599 loss] 37.896578438580036\n",
      "\n"
     ]
    },
    {
     "name": "stderr",
     "output_type": "stream",
     "text": [
      "\r",
      "  1%|          | 20/3000 [00:20<51:45,  1.04s/it]"
     ]
    },
    {
     "name": "stdout",
     "output_type": "stream",
     "text": [
      "\n",
      "Train] epoch] 21, idx] 99 loss] 62.566957615315914\n",
      "\n",
      "Train] epoch] 21, idx] 199 loss] 41.214226230978966\n",
      "\n",
      "Train] epoch] 21, idx] 299 loss] 39.60012672841549\n",
      "\n",
      "Train] epoch] 21, idx] 399 loss] 42.894367665052414\n",
      "\n",
      "Train] epoch] 21, idx] 499 loss] 35.72909852862358\n",
      "\n"
     ]
    },
    {
     "name": "stderr",
     "output_type": "stream",
     "text": [
      "\r",
      "  1%|          | 21/3000 [00:21<52:07,  1.05s/it]"
     ]
    },
    {
     "name": "stdout",
     "output_type": "stream",
     "text": [
      "Train] epoch] 21, idx] 599 loss] 42.180854208767414\n",
      "\n",
      "\n",
      "Train] epoch] 22, idx] 99 loss] 65.97342018038034\n",
      "\n",
      "Train] epoch] 22, idx] 199 loss] 38.20640828460455\n",
      "\n",
      "Train] epoch] 22, idx] 299 loss] 38.78762127459049\n",
      "\n",
      "Train] epoch] 22, idx] 399 loss] 41.240058556199074\n",
      "\n",
      "Train] epoch] 22, idx] 499 loss] 40.57811588793993\n",
      "\n",
      "Train] epoch] 22, idx] 599 loss] 39.320933759212494\n",
      "\n"
     ]
    },
    {
     "name": "stderr",
     "output_type": "stream",
     "text": [
      "\r",
      "  1%|          | 22/3000 [00:22<51:48,  1.04s/it]"
     ]
    },
    {
     "name": "stdout",
     "output_type": "stream",
     "text": [
      "\n",
      "Train] epoch] 23, idx] 99 loss] 67.72062212228775\n",
      "\n",
      "Train] epoch] 23, idx] 199 loss] 42.66522343456745\n",
      "\n",
      "Train] epoch] 23, idx] 299 loss] 39.75799296796322\n",
      "\n",
      "Train] epoch] 23, idx] 399 loss] 36.085374407470226\n",
      "\n",
      "Train] epoch] 23, idx] 499 loss] 40.1228556856513\n",
      "\n"
     ]
    },
    {
     "name": "stderr",
     "output_type": "stream",
     "text": [
      "\r",
      "  1%|          | 23/3000 [00:23<50:17,  1.01s/it]"
     ]
    },
    {
     "name": "stdout",
     "output_type": "stream",
     "text": [
      "Train] epoch] 23, idx] 599 loss] 37.255586721003056\n",
      "\n",
      "\n",
      "Train] epoch] 24, idx] 99 loss] 64.19684042036533\n",
      "\n",
      "Train] epoch] 24, idx] 199 loss] 37.54529371112585\n",
      "\n",
      "Train] epoch] 24, idx] 299 loss] 39.08343381434679\n",
      "\n",
      "Train] epoch] 24, idx] 399 loss] 45.47057392448187\n",
      "\n",
      "Train] epoch] 24, idx] 499 loss] 38.62259479612112\n",
      "\n",
      "Train] epoch] 24, idx] 599 loss] 39.14973585307598\n",
      "\n"
     ]
    },
    {
     "name": "stderr",
     "output_type": "stream",
     "text": [
      "\r",
      "  1%|          | 24/3000 [00:24<49:15,  1.01it/s]"
     ]
    },
    {
     "name": "stdout",
     "output_type": "stream",
     "text": [
      "\n",
      "Train] epoch] 25, idx] 99 loss] 60.46783751249313\n",
      "\n",
      "Train] epoch] 25, idx] 199 loss] 36.51391602307558\n",
      "\n",
      "Train] epoch] 25, idx] 299 loss] 40.14778824150562\n",
      "\n",
      "Train] epoch] 25, idx] 399 loss] 37.803547121584415\n",
      "\n",
      "Train] epoch] 25, idx] 499 loss] 41.77132470160723\n",
      "\n"
     ]
    },
    {
     "name": "stderr",
     "output_type": "stream",
     "text": [
      "\r",
      "  1%|          | 25/3000 [00:25<48:32,  1.02it/s]"
     ]
    },
    {
     "name": "stdout",
     "output_type": "stream",
     "text": [
      "Train] epoch] 25, idx] 599 loss] 38.42355311661959\n",
      "\n",
      "\n",
      "Train] epoch] 26, idx] 99 loss] 61.94044491648674\n",
      "\n",
      "Train] epoch] 26, idx] 199 loss] 38.35903713852167\n",
      "\n",
      "Train] epoch] 26, idx] 299 loss] 42.28468947857618\n",
      "\n",
      "Train] epoch] 26, idx] 399 loss] 35.74435047805309\n",
      "\n",
      "Train] epoch] 26, idx] 499 loss] 37.18287864327431\n",
      "\n",
      "Train] epoch] 26, idx] 599 loss] 40.592060051858425\n",
      "\n"
     ]
    },
    {
     "name": "stderr",
     "output_type": "stream",
     "text": [
      "\r",
      "  1%|          | 26/3000 [00:26<48:02,  1.03it/s]"
     ]
    },
    {
     "name": "stdout",
     "output_type": "stream",
     "text": [
      "\n",
      "Train] epoch] 27, idx] 99 loss] 60.74171879887581\n",
      "\n",
      "Train] epoch] 27, idx] 199 loss] 40.258968368172646\n",
      "\n",
      "Train] epoch] 27, idx] 299 loss] 38.75836145877838\n",
      "\n",
      "Train] epoch] 27, idx] 399 loss] 40.68603479117155\n",
      "\n",
      "Train] epoch] 27, idx] 499 loss] 40.50951825454831\n",
      "\n"
     ]
    },
    {
     "name": "stderr",
     "output_type": "stream",
     "text": [
      "\r",
      "  1%|          | 27/3000 [00:27<47:39,  1.04it/s]"
     ]
    },
    {
     "name": "stdout",
     "output_type": "stream",
     "text": [
      "Train] epoch] 27, idx] 599 loss] 39.417088232934475\n",
      "\n",
      "\n",
      "Train] epoch] 28, idx] 99 loss] 59.34124344587326\n",
      "\n",
      "Train] epoch] 28, idx] 199 loss] 36.99636532366276\n",
      "\n",
      "Train] epoch] 28, idx] 299 loss] 36.01872019469738\n",
      "\n",
      "Train] epoch] 28, idx] 399 loss] 38.452301144599915\n",
      "\n",
      "Train] epoch] 28, idx] 499 loss] 40.53426346927881\n",
      "\n",
      "Train] epoch] 28, idx] 599 loss] 41.970088846981525\n",
      "\n"
     ]
    },
    {
     "name": "stderr",
     "output_type": "stream",
     "text": [
      "\r",
      "  1%|          | 28/3000 [00:28<47:23,  1.05it/s]"
     ]
    },
    {
     "name": "stdout",
     "output_type": "stream",
     "text": [
      "\n",
      "Train] epoch] 29, idx] 99 loss] 62.883831933140755\n",
      "\n",
      "Train] epoch] 29, idx] 199 loss] 37.52536366134882\n",
      "\n",
      "Train] epoch] 29, idx] 299 loss] 39.181908555328846\n",
      "\n",
      "Train] epoch] 29, idx] 399 loss] 38.67249718308449\n",
      "\n",
      "Train] epoch] 29, idx] 499 loss] 37.648247212171555\n",
      "\n"
     ]
    },
    {
     "name": "stderr",
     "output_type": "stream",
     "text": [
      "\r",
      "  1%|          | 29/3000 [00:29<47:43,  1.04it/s]"
     ]
    },
    {
     "name": "stdout",
     "output_type": "stream",
     "text": [
      "Train] epoch] 29, idx] 599 loss] 37.7823905646801\n",
      "\n",
      "\n",
      "Train] epoch] 30, idx] 99 loss] 63.16468267887831\n",
      "\n",
      "Train] epoch] 30, idx] 199 loss] 40.60384178161621\n",
      "\n",
      "Train] epoch] 30, idx] 299 loss] 40.035959877073765\n",
      "\n",
      "Train] epoch] 30, idx] 399 loss] 39.068440947681665\n",
      "\n",
      "Train] epoch] 30, idx] 499 loss] 37.68120834231377\n",
      "\n",
      "Train] epoch] 30, idx] 599 loss] 42.61648818850517\n",
      "\n"
     ]
    },
    {
     "name": "stderr",
     "output_type": "stream",
     "text": [
      "\r",
      "  1%|          | 30/3000 [00:30<47:26,  1.04it/s]"
     ]
    },
    {
     "name": "stdout",
     "output_type": "stream",
     "text": [
      "\n",
      "Train] epoch] 31, idx] 99 loss] 62.8373692445457\n",
      "\n",
      "Train] epoch] 31, idx] 199 loss] 38.764171704649925\n",
      "\n",
      "Train] epoch] 31, idx] 299 loss] 37.72562929242849\n",
      "\n",
      "Train] epoch] 31, idx] 399 loss] 40.040527395904064\n",
      "\n",
      "Train] epoch] 31, idx] 499 loss] 37.37007877230644\n",
      "\n"
     ]
    },
    {
     "name": "stderr",
     "output_type": "stream",
     "text": [
      "\r",
      "  1%|          | 31/3000 [00:31<47:10,  1.05it/s]"
     ]
    },
    {
     "name": "stdout",
     "output_type": "stream",
     "text": [
      "Train] epoch] 31, idx] 599 loss] 39.85504726320505\n",
      "\n",
      "\n",
      "Train] epoch] 32, idx] 99 loss] 64.22006344422698\n",
      "\n",
      "Train] epoch] 32, idx] 199 loss] 40.65511221438646\n",
      "\n",
      "Train] epoch] 32, idx] 299 loss] 40.8989313095808\n",
      "\n",
      "Train] epoch] 32, idx] 399 loss] 37.19513654708862\n",
      "\n",
      "Train] epoch] 32, idx] 499 loss] 38.555172115564346\n",
      "\n",
      "Train] epoch] 32, idx] 599 loss] 39.404529973864555\n",
      "\n"
     ]
    },
    {
     "name": "stderr",
     "output_type": "stream",
     "text": [
      "\r",
      "  1%|          | 32/3000 [00:32<47:00,  1.05it/s]"
     ]
    },
    {
     "name": "stdout",
     "output_type": "stream",
     "text": [
      "\n",
      "Train] epoch] 33, idx] 99 loss] 63.07825368642807\n",
      "\n",
      "Train] epoch] 33, idx] 199 loss] 35.60802190005779\n",
      "\n",
      "Train] epoch] 33, idx] 299 loss] 39.78281304985285\n",
      "\n",
      "Train] epoch] 33, idx] 399 loss] 36.31489646434784\n",
      "\n",
      "Train] epoch] 33, idx] 499 loss] 34.965838104486465\n",
      "\n"
     ]
    },
    {
     "name": "stderr",
     "output_type": "stream",
     "text": [
      "\r",
      "  1%|          | 33/3000 [00:33<46:50,  1.06it/s]"
     ]
    },
    {
     "name": "stdout",
     "output_type": "stream",
     "text": [
      "Train] epoch] 33, idx] 599 loss] 40.197798769921064\n",
      "\n",
      "\n",
      "Train] epoch] 34, idx] 99 loss] 69.31277108937502\n",
      "\n",
      "Train] epoch] 34, idx] 199 loss] 36.46342981606722\n",
      "\n",
      "Train] epoch] 34, idx] 299 loss] 33.65202967077494\n",
      "\n",
      "Train] epoch] 34, idx] 399 loss] 38.51318781077862\n",
      "\n",
      "Train] epoch] 34, idx] 499 loss] 39.61418096348643\n",
      "\n",
      "Train] epoch] 34, idx] 599 loss] 39.232572481036186\n",
      "\n"
     ]
    },
    {
     "name": "stderr",
     "output_type": "stream",
     "text": [
      "\r",
      "  1%|          | 34/3000 [00:34<46:51,  1.05it/s]"
     ]
    },
    {
     "name": "stdout",
     "output_type": "stream",
     "text": [
      "\n",
      "Train] epoch] 35, idx] 99 loss] 70.94928776472807\n",
      "\n",
      "Train] epoch] 35, idx] 199 loss] 38.730701982975006\n",
      "\n",
      "Train] epoch] 35, idx] 299 loss] 37.98922499269247\n",
      "\n",
      "Train] epoch] 35, idx] 399 loss] 33.03049135953188\n",
      "\n",
      "Train] epoch] 35, idx] 499 loss] 35.261103600263596\n",
      "\n"
     ]
    },
    {
     "name": "stderr",
     "output_type": "stream",
     "text": [
      "\r",
      "  1%|          | 35/3000 [00:34<46:44,  1.06it/s]"
     ]
    },
    {
     "name": "stdout",
     "output_type": "stream",
     "text": [
      "Train] epoch] 35, idx] 599 loss] 40.55964665859938\n",
      "\n",
      "\n",
      "Train] epoch] 36, idx] 99 loss] 62.08908802643418\n",
      "\n",
      "Train] epoch] 36, idx] 199 loss] 38.99640791863203\n",
      "\n",
      "Train] epoch] 36, idx] 299 loss] 41.636979162693024\n",
      "\n",
      "Train] epoch] 36, idx] 399 loss] 34.12929458543658\n",
      "\n",
      "Train] epoch] 36, idx] 499 loss] 39.2494890242815\n",
      "\n",
      "Train] epoch] 36, idx] 599 loss] 37.512957856059074\n",
      "\n"
     ]
    },
    {
     "name": "stderr",
     "output_type": "stream",
     "text": [
      "\r",
      "  1%|          | 36/3000 [00:35<46:41,  1.06it/s]"
     ]
    },
    {
     "name": "stdout",
     "output_type": "stream",
     "text": [
      "\n",
      "Train] epoch] 37, idx] 99 loss] 65.30132093280554\n",
      "\n",
      "Train] epoch] 37, idx] 199 loss] 37.13258671015501\n",
      "\n",
      "Train] epoch] 37, idx] 299 loss] 34.79929915443063\n",
      "\n",
      "Train] epoch] 37, idx] 399 loss] 36.666850589215755\n",
      "\n",
      "Train] epoch] 37, idx] 499 loss] 39.661880023777485\n",
      "\n"
     ]
    },
    {
     "name": "stderr",
     "output_type": "stream",
     "text": [
      "\r",
      "  1%|          | 37/3000 [00:36<46:44,  1.06it/s]"
     ]
    },
    {
     "name": "stdout",
     "output_type": "stream",
     "text": [
      "Train] epoch] 37, idx] 599 loss] 39.2311397343874\n",
      "\n",
      "\n",
      "Train] epoch] 38, idx] 99 loss] 64.36170299351215\n",
      "\n",
      "Train] epoch] 38, idx] 199 loss] 36.52296731248498\n",
      "\n",
      "Train] epoch] 38, idx] 299 loss] 37.31773021072149\n",
      "\n",
      "Train] epoch] 38, idx] 399 loss] 37.92593529075384\n",
      "\n",
      "Train] epoch] 38, idx] 499 loss] 37.93336632102728\n",
      "\n",
      "Train] epoch] 38, idx] 599 loss] 36.96857348829508\n",
      "\n"
     ]
    },
    {
     "name": "stderr",
     "output_type": "stream",
     "text": [
      "\r",
      "  1%|▏         | 38/3000 [00:37<46:59,  1.05it/s]"
     ]
    },
    {
     "name": "stdout",
     "output_type": "stream",
     "text": [
      "\n",
      "Train] epoch] 39, idx] 99 loss] 62.54058701172471\n",
      "\n",
      "Train] epoch] 39, idx] 199 loss] 39.06424053758383\n",
      "\n",
      "Train] epoch] 39, idx] 299 loss] 34.78671836853027\n",
      "\n",
      "Train] epoch] 39, idx] 399 loss] 36.07813002169132\n",
      "\n",
      "Train] epoch] 39, idx] 499 loss] 40.645476050674915\n",
      "\n"
     ]
    },
    {
     "name": "stderr",
     "output_type": "stream",
     "text": [
      "\r",
      "  1%|▏         | 39/3000 [00:38<46:51,  1.05it/s]"
     ]
    },
    {
     "name": "stdout",
     "output_type": "stream",
     "text": [
      "Train] epoch] 39, idx] 599 loss] 35.22082071006298\n",
      "\n",
      "\n",
      "Train] epoch] 40, idx] 99 loss] 65.00001640990376\n",
      "\n",
      "Train] epoch] 40, idx] 199 loss] 39.52705294638872\n",
      "\n",
      "Train] epoch] 40, idx] 299 loss] 33.05105995386839\n",
      "\n",
      "Train] epoch] 40, idx] 399 loss] 40.05566810071468\n",
      "\n",
      "Train] epoch] 40, idx] 499 loss] 37.54728267341852\n",
      "\n",
      "Train] epoch] 40, idx] 599 loss] 38.28623319044709\n",
      "\n"
     ]
    },
    {
     "name": "stderr",
     "output_type": "stream",
     "text": [
      "\r",
      "  1%|▏         | 40/3000 [00:39<46:47,  1.05it/s]"
     ]
    },
    {
     "name": "stdout",
     "output_type": "stream",
     "text": [
      "\n",
      "Train] epoch] 41, idx] 99 loss] 60.40203337371349\n",
      "\n",
      "Train] epoch] 41, idx] 199 loss] 35.764371521770954\n",
      "\n",
      "Train] epoch] 41, idx] 299 loss] 36.747072748839855\n",
      "\n",
      "Train] epoch] 41, idx] 399 loss] 38.000511452555656\n",
      "\n",
      "Train] epoch] 41, idx] 499 loss] 39.19850745052099\n",
      "\n"
     ]
    },
    {
     "name": "stderr",
     "output_type": "stream",
     "text": [
      "\r",
      "  1%|▏         | 41/3000 [00:40<46:39,  1.06it/s]"
     ]
    },
    {
     "name": "stdout",
     "output_type": "stream",
     "text": [
      "Train] epoch] 41, idx] 599 loss] 34.41189722344279\n",
      "\n",
      "\n",
      "Train] epoch] 42, idx] 99 loss] 64.25772835314274\n",
      "\n",
      "Train] epoch] 42, idx] 199 loss] 38.83217569440603\n",
      "\n",
      "Train] epoch] 42, idx] 299 loss] 39.40507519245148\n",
      "\n",
      "Train] epoch] 42, idx] 399 loss] 35.736488692462444\n",
      "\n",
      "Train] epoch] 42, idx] 499 loss] 34.65713149309158\n",
      "\n",
      "Train] epoch] 42, idx] 599 loss] 36.82680534571409\n",
      "\n"
     ]
    },
    {
     "name": "stderr",
     "output_type": "stream",
     "text": [
      "\r",
      "  1%|▏         | 42/3000 [00:41<46:49,  1.05it/s]"
     ]
    },
    {
     "name": "stdout",
     "output_type": "stream",
     "text": [
      "\n",
      "Train] epoch] 43, idx] 99 loss] 61.76346258074045\n",
      "\n",
      "Train] epoch] 43, idx] 199 loss] 39.51684720441699\n",
      "\n",
      "Train] epoch] 43, idx] 299 loss] 36.638945158571005\n",
      "\n",
      "Train] epoch] 43, idx] 399 loss] 39.227584697306156\n",
      "\n",
      "Train] epoch] 43, idx] 499 loss] 31.17075416818261\n",
      "\n"
     ]
    },
    {
     "name": "stderr",
     "output_type": "stream",
     "text": [
      "\r",
      "  1%|▏         | 43/3000 [00:42<47:25,  1.04it/s]"
     ]
    },
    {
     "name": "stdout",
     "output_type": "stream",
     "text": [
      "Train] epoch] 43, idx] 599 loss] 41.471953228116035\n",
      "\n",
      "\n",
      "Train] epoch] 44, idx] 99 loss] 55.86352910846472\n",
      "\n",
      "Train] epoch] 44, idx] 199 loss] 38.11162396520376\n",
      "\n",
      "Train] epoch] 44, idx] 299 loss] 40.37380139529705\n",
      "\n",
      "Train] epoch] 44, idx] 399 loss] 37.07066563144326\n",
      "\n",
      "Train] epoch] 44, idx] 499 loss] 33.84413579851389\n",
      "\n",
      "Train] epoch] 44, idx] 599 loss] 36.69558000564575\n",
      "\n"
     ]
    },
    {
     "name": "stderr",
     "output_type": "stream",
     "text": [
      "\r",
      "  1%|▏         | 44/3000 [00:43<47:25,  1.04it/s]"
     ]
    },
    {
     "name": "stdout",
     "output_type": "stream",
     "text": [
      "\n",
      "Train] epoch] 45, idx] 99 loss] 65.09887969493866\n",
      "\n",
      "Train] epoch] 45, idx] 199 loss] 41.2664739638567\n",
      "\n",
      "Train] epoch] 45, idx] 299 loss] 39.05878299102187\n",
      "\n",
      "Train] epoch] 45, idx] 399 loss] 35.23747465014458\n",
      "\n",
      "Train] epoch] 45, idx] 499 loss] 36.7973627448082\n",
      "\n"
     ]
    },
    {
     "name": "stderr",
     "output_type": "stream",
     "text": [
      "\r",
      "  2%|▏         | 45/3000 [00:44<47:59,  1.03it/s]"
     ]
    },
    {
     "name": "stdout",
     "output_type": "stream",
     "text": [
      "Train] epoch] 45, idx] 599 loss] 35.37741793692112\n",
      "\n",
      "\n",
      "Train] epoch] 46, idx] 99 loss] 60.30145704001188\n",
      "\n",
      "Train] epoch] 46, idx] 199 loss] 33.552964866161346\n",
      "\n",
      "Train] epoch] 46, idx] 299 loss] 38.54758444055915\n",
      "\n",
      "Train] epoch] 46, idx] 399 loss] 36.04492562264204\n",
      "\n",
      "Train] epoch] 46, idx] 499 loss] 38.87872175872326\n",
      "\n",
      "Train] epoch] 46, idx] 599 loss] 36.964112892746925\n",
      "\n"
     ]
    },
    {
     "name": "stderr",
     "output_type": "stream",
     "text": [
      "\r",
      "  2%|▏         | 46/3000 [00:45<47:46,  1.03it/s]"
     ]
    },
    {
     "name": "stdout",
     "output_type": "stream",
     "text": [
      "\n",
      "Train] epoch] 47, idx] 99 loss] 61.672142550349236\n",
      "\n",
      "Train] epoch] 47, idx] 199 loss] 35.528942972421646\n",
      "\n",
      "Train] epoch] 47, idx] 299 loss] 36.36197321861982\n",
      "\n",
      "Train] epoch] 47, idx] 399 loss] 39.3709297850728\n",
      "\n",
      "Train] epoch] 47, idx] 499 loss] 36.490215592086315\n",
      "\n"
     ]
    },
    {
     "name": "stderr",
     "output_type": "stream",
     "text": [
      "\r",
      "  2%|▏         | 47/3000 [00:46<48:12,  1.02it/s]"
     ]
    },
    {
     "name": "stdout",
     "output_type": "stream",
     "text": [
      "Train] epoch] 47, idx] 599 loss] 36.343664295971394\n",
      "\n",
      "\n",
      "Train] epoch] 48, idx] 99 loss] 62.63256158307195\n",
      "\n",
      "Train] epoch] 48, idx] 199 loss] 36.98213953897357\n",
      "\n",
      "Train] epoch] 48, idx] 299 loss] 34.11717361956835\n",
      "\n",
      "Train] epoch] 48, idx] 399 loss] 35.431118473410606\n",
      "\n",
      "Train] epoch] 48, idx] 499 loss] 36.1449468806386\n",
      "\n",
      "Train] epoch] 48, idx] 599 loss] 32.74731992185116\n",
      "\n"
     ]
    },
    {
     "name": "stderr",
     "output_type": "stream",
     "text": [
      "\r",
      "  2%|▏         | 48/3000 [00:47<47:49,  1.03it/s]"
     ]
    },
    {
     "name": "stdout",
     "output_type": "stream",
     "text": [
      "\n",
      "Train] epoch] 49, idx] 99 loss] 61.37732310593128\n",
      "\n",
      "Train] epoch] 49, idx] 199 loss] 39.36545164883137\n",
      "\n",
      "Train] epoch] 49, idx] 299 loss] 36.65741419047117\n",
      "\n",
      "Train] epoch] 49, idx] 399 loss] 37.86752698943019\n",
      "\n",
      "Train] epoch] 49, idx] 499 loss] 35.02027589082718\n",
      "\n"
     ]
    },
    {
     "name": "stderr",
     "output_type": "stream",
     "text": [
      "\r",
      "  2%|▏         | 49/3000 [00:48<47:35,  1.03it/s]"
     ]
    },
    {
     "name": "stdout",
     "output_type": "stream",
     "text": [
      "Train] epoch] 49, idx] 599 loss] 36.037490129470825\n",
      "\n",
      "\n",
      "Train] epoch] 50, idx] 99 loss] 59.943932712078094\n",
      "\n",
      "Train] epoch] 50, idx] 199 loss] 36.22949794307351\n",
      "\n",
      "Train] epoch] 50, idx] 299 loss] 35.53360992670059\n",
      "\n",
      "Train] epoch] 50, idx] 399 loss] 37.78799341619015\n",
      "\n",
      "Train] epoch] 50, idx] 499 loss] 36.6245349496603\n",
      "\n",
      "Train] epoch] 50, idx] 599 loss] 34.72439130395651\n",
      "\n"
     ]
    },
    {
     "name": "stderr",
     "output_type": "stream",
     "text": [
      "\r",
      "  2%|▏         | 50/3000 [00:49<47:24,  1.04it/s]"
     ]
    },
    {
     "name": "stdout",
     "output_type": "stream",
     "text": [
      "\n",
      "Train] epoch] 51, idx] 99 loss] 59.42744607105851\n",
      "\n",
      "Train] epoch] 51, idx] 199 loss] 35.09653901681304\n",
      "\n",
      "Train] epoch] 51, idx] 299 loss] 30.950291581451893\n",
      "\n",
      "Train] epoch] 51, idx] 399 loss] 39.61997625976801\n",
      "\n",
      "Train] epoch] 51, idx] 499 loss] 34.85357287526131\n",
      "\n"
     ]
    },
    {
     "name": "stderr",
     "output_type": "stream",
     "text": [
      "\r",
      "  2%|▏         | 51/3000 [00:50<47:12,  1.04it/s]"
     ]
    },
    {
     "name": "stdout",
     "output_type": "stream",
     "text": [
      "Train] epoch] 51, idx] 599 loss] 35.9441379904747\n",
      "\n",
      "\n",
      "Train] epoch] 52, idx] 99 loss] 58.94442101940513\n",
      "\n",
      "Train] epoch] 52, idx] 199 loss] 36.179411098361015\n",
      "\n",
      "Train] epoch] 52, idx] 299 loss] 35.98905845731497\n",
      "\n",
      "Train] epoch] 52, idx] 399 loss] 35.201445173472166\n",
      "\n",
      "Train] epoch] 52, idx] 499 loss] 36.21337155997753\n",
      "\n",
      "Train] epoch] 52, idx] 599 loss] 36.08984772861004\n",
      "\n"
     ]
    },
    {
     "name": "stderr",
     "output_type": "stream",
     "text": [
      "\r",
      "  2%|▏         | 52/3000 [00:51<47:08,  1.04it/s]"
     ]
    },
    {
     "name": "stdout",
     "output_type": "stream",
     "text": [
      "\n",
      "Train] epoch] 53, idx] 99 loss] 62.309234261512756\n",
      "\n",
      "Train] epoch] 53, idx] 199 loss] 36.4798833951354\n",
      "\n",
      "Train] epoch] 53, idx] 299 loss] 35.892528884112835\n",
      "\n",
      "Train] epoch] 53, idx] 399 loss] 39.07704538106918\n",
      "\n",
      "Train] epoch] 53, idx] 499 loss] 40.777089938521385\n",
      "\n"
     ]
    },
    {
     "name": "stderr",
     "output_type": "stream",
     "text": [
      "\r",
      "  2%|▏         | 53/3000 [00:52<47:20,  1.04it/s]"
     ]
    },
    {
     "name": "stdout",
     "output_type": "stream",
     "text": [
      "Train] epoch] 53, idx] 599 loss] 32.021793611347675\n",
      "\n",
      "\n",
      "Train] epoch] 54, idx] 99 loss] 59.53796646371484\n",
      "\n",
      "Train] epoch] 54, idx] 199 loss] 35.35448332503438\n",
      "\n",
      "Train] epoch] 54, idx] 299 loss] 36.26243735849857\n",
      "\n",
      "Train] epoch] 54, idx] 399 loss] 36.28144158795476\n",
      "\n",
      "Train] epoch] 54, idx] 499 loss] 34.329904954880476\n",
      "\n",
      "Train] epoch] 54, idx] 599 loss] 40.20794064551592\n",
      "\n"
     ]
    },
    {
     "name": "stderr",
     "output_type": "stream",
     "text": [
      "\r",
      "  2%|▏         | 54/3000 [00:53<47:19,  1.04it/s]"
     ]
    },
    {
     "name": "stdout",
     "output_type": "stream",
     "text": [
      "\n",
      "Train] epoch] 55, idx] 99 loss] 57.57510060817003\n",
      "\n",
      "Train] epoch] 55, idx] 199 loss] 36.640352971851826\n",
      "\n",
      "Train] epoch] 55, idx] 299 loss] 36.2086500748992\n",
      "\n",
      "Train] epoch] 55, idx] 399 loss] 33.99288532882929\n",
      "\n",
      "Train] epoch] 55, idx] 499 loss] 35.041254572570324\n",
      "\n"
     ]
    },
    {
     "name": "stderr",
     "output_type": "stream",
     "text": [
      "\r",
      "  2%|▏         | 55/3000 [00:54<47:11,  1.04it/s]"
     ]
    },
    {
     "name": "stdout",
     "output_type": "stream",
     "text": [
      "Train] epoch] 55, idx] 599 loss] 35.99176937714219\n",
      "\n",
      "\n",
      "Train] epoch] 56, idx] 99 loss] 54.938685066998005\n",
      "\n",
      "Train] epoch] 56, idx] 199 loss] 33.286726139485836\n",
      "\n",
      "Train] epoch] 56, idx] 299 loss] 38.62708669900894\n",
      "\n",
      "Train] epoch] 56, idx] 399 loss] 38.99834009259939\n",
      "\n",
      "Train] epoch] 56, idx] 499 loss] 38.08208628743887\n",
      "\n",
      "Train] epoch] 56, idx] 599 loss] 35.44921284914017\n",
      "\n"
     ]
    },
    {
     "name": "stderr",
     "output_type": "stream",
     "text": [
      "\r",
      "  2%|▏         | 56/3000 [00:55<47:05,  1.04it/s]"
     ]
    },
    {
     "name": "stdout",
     "output_type": "stream",
     "text": [
      "\n",
      "Train] epoch] 57, idx] 99 loss] 62.15155183151364\n",
      "\n",
      "Train] epoch] 57, idx] 199 loss] 35.41873002052307\n",
      "\n",
      "Train] epoch] 57, idx] 299 loss] 33.23098086565733\n",
      "\n",
      "Train] epoch] 57, idx] 399 loss] 37.318828739225864\n",
      "\n",
      "Train] epoch] 57, idx] 499 loss] 34.49187193438411\n",
      "\n"
     ]
    },
    {
     "name": "stderr",
     "output_type": "stream",
     "text": [
      "\r",
      "  2%|▏         | 57/3000 [00:56<46:55,  1.05it/s]"
     ]
    },
    {
     "name": "stdout",
     "output_type": "stream",
     "text": [
      "Train] epoch] 57, idx] 599 loss] 35.275166682899\n",
      "\n",
      "\n",
      "Train] epoch] 58, idx] 99 loss] 57.062340799719095\n",
      "\n",
      "Train] epoch] 58, idx] 199 loss] 36.86214578896761\n",
      "\n",
      "Train] epoch] 58, idx] 299 loss] 32.36485268175602\n",
      "\n",
      "Train] epoch] 58, idx] 399 loss] 38.63055305927992\n",
      "\n",
      "Train] epoch] 58, idx] 499 loss] 34.558440655469894\n",
      "\n",
      "Train] epoch] 58, idx] 599 loss] 36.86842930316925\n",
      "\n"
     ]
    },
    {
     "name": "stderr",
     "output_type": "stream",
     "text": [
      "\r",
      "  2%|▏         | 58/3000 [00:57<47:01,  1.04it/s]"
     ]
    },
    {
     "name": "stdout",
     "output_type": "stream",
     "text": [
      "\n",
      "Train] epoch] 59, idx] 99 loss] 59.12084783427417\n",
      "\n",
      "Train] epoch] 59, idx] 199 loss] 34.45924378558993\n",
      "\n",
      "Train] epoch] 59, idx] 299 loss] 35.024189837276936\n",
      "\n",
      "Train] epoch] 59, idx] 399 loss] 36.346691600978374\n",
      "\n",
      "Train] epoch] 59, idx] 499 loss] 33.98096586018801\n",
      "\n"
     ]
    },
    {
     "name": "stderr",
     "output_type": "stream",
     "text": [
      "\r",
      "  2%|▏         | 59/3000 [00:58<46:57,  1.04it/s]"
     ]
    },
    {
     "name": "stdout",
     "output_type": "stream",
     "text": [
      "Train] epoch] 59, idx] 599 loss] 35.09349773824215\n",
      "\n",
      "\n",
      "Train] epoch] 60, idx] 99 loss] 58.67856940254569\n",
      "\n",
      "Train] epoch] 60, idx] 199 loss] 36.29547896236181\n",
      "\n",
      "Train] epoch] 60, idx] 299 loss] 33.94234208762646\n",
      "\n",
      "Train] epoch] 60, idx] 399 loss] 36.10324225574732\n",
      "\n",
      "Train] epoch] 60, idx] 499 loss] 33.66573904454708\n",
      "\n",
      "Train] epoch] 60, idx] 599 loss] 38.76921873539686\n",
      "\n"
     ]
    },
    {
     "name": "stderr",
     "output_type": "stream",
     "text": [
      "\r",
      "  2%|▏         | 60/3000 [00:59<46:51,  1.05it/s]"
     ]
    },
    {
     "name": "stdout",
     "output_type": "stream",
     "text": [
      "\n",
      "Train] epoch] 61, idx] 99 loss] 54.672088999301195\n",
      "\n",
      "Train] epoch] 61, idx] 199 loss] 40.71833820641041\n",
      "\n",
      "Train] epoch] 61, idx] 299 loss] 36.1127585247159\n",
      "\n",
      "Train] epoch] 61, idx] 399 loss] 35.51515826955438\n",
      "\n",
      "Train] epoch] 61, idx] 499 loss] 35.82023784145713\n",
      "\n"
     ]
    },
    {
     "name": "stderr",
     "output_type": "stream",
     "text": [
      "\r",
      "  2%|▏         | 61/3000 [00:59<46:46,  1.05it/s]"
     ]
    },
    {
     "name": "stdout",
     "output_type": "stream",
     "text": [
      "Train] epoch] 61, idx] 599 loss] 35.02425453811884\n",
      "\n",
      "\n",
      "Train] epoch] 62, idx] 99 loss] 56.60974221304059\n",
      "\n",
      "Train] epoch] 62, idx] 199 loss] 39.72634706273675\n",
      "\n",
      "Train] epoch] 62, idx] 299 loss] 32.015807289630175\n",
      "\n",
      "Train] epoch] 62, idx] 399 loss] 34.03504849970341\n",
      "\n",
      "Train] epoch] 62, idx] 499 loss] 33.57299830392003\n",
      "\n",
      "Train] epoch] 62, idx] 599 loss] 36.05629623681307\n",
      "\n"
     ]
    },
    {
     "name": "stderr",
     "output_type": "stream",
     "text": [
      "\r",
      "  2%|▏         | 62/3000 [01:00<46:44,  1.05it/s]"
     ]
    },
    {
     "name": "stdout",
     "output_type": "stream",
     "text": [
      "\n",
      "Train] epoch] 63, idx] 99 loss] 56.30671948194504\n",
      "\n",
      "Train] epoch] 63, idx] 199 loss] 39.79100587219\n",
      "\n",
      "Train] epoch] 63, idx] 299 loss] 39.56767538934946\n",
      "\n",
      "Train] epoch] 63, idx] 399 loss] 33.81078550964594\n",
      "\n",
      "Train] epoch] 63, idx] 499 loss] 33.59160513803363\n",
      "\n"
     ]
    },
    {
     "name": "stderr",
     "output_type": "stream",
     "text": [
      "\r",
      "  2%|▏         | 63/3000 [01:01<46:42,  1.05it/s]"
     ]
    },
    {
     "name": "stdout",
     "output_type": "stream",
     "text": [
      "Train] epoch] 63, idx] 599 loss] 35.45324855297804\n",
      "\n",
      "\n",
      "Train] epoch] 64, idx] 99 loss] 58.09763603657484\n",
      "\n",
      "Train] epoch] 64, idx] 199 loss] 32.98680903017521\n",
      "\n",
      "Train] epoch] 64, idx] 299 loss] 35.137260891497135\n",
      "\n",
      "Train] epoch] 64, idx] 399 loss] 34.678847566246986\n",
      "\n",
      "Train] epoch] 64, idx] 499 loss] 34.59722803533077\n",
      "\n",
      "Train] epoch] 64, idx] 599 loss] 37.956143483519554\n",
      "\n"
     ]
    },
    {
     "name": "stderr",
     "output_type": "stream",
     "text": [
      "\r",
      "  2%|▏         | 64/3000 [01:02<47:00,  1.04it/s]"
     ]
    },
    {
     "name": "stdout",
     "output_type": "stream",
     "text": [
      "\n",
      "Train] epoch] 65, idx] 99 loss] 58.15383108332753\n",
      "\n",
      "Train] epoch] 65, idx] 199 loss] 34.56341799348593\n",
      "\n",
      "Train] epoch] 65, idx] 299 loss] 34.23198049142957\n",
      "\n",
      "Train] epoch] 65, idx] 399 loss] 33.69440007582307\n",
      "\n",
      "Train] epoch] 65, idx] 499 loss] 33.80649718269706\n",
      "\n"
     ]
    },
    {
     "name": "stderr",
     "output_type": "stream",
     "text": [
      "\r",
      "  2%|▏         | 65/3000 [01:03<46:52,  1.04it/s]"
     ]
    },
    {
     "name": "stdout",
     "output_type": "stream",
     "text": [
      "Train] epoch] 65, idx] 599 loss] 36.67550425976515\n",
      "\n",
      "\n",
      "Train] epoch] 66, idx] 99 loss] 59.70338835939765\n",
      "\n",
      "Train] epoch] 66, idx] 199 loss] 37.21654335409403\n",
      "\n",
      "Train] epoch] 66, idx] 299 loss] 34.889134623110294\n",
      "\n",
      "Train] epoch] 66, idx] 399 loss] 40.164636604487896\n",
      "\n",
      "Train] epoch] 66, idx] 499 loss] 36.81810995936394\n",
      "\n",
      "Train] epoch] 66, idx] 599 loss] 32.115587286651134\n",
      "\n"
     ]
    },
    {
     "name": "stderr",
     "output_type": "stream",
     "text": [
      "\r",
      "  2%|▏         | 66/3000 [01:04<46:48,  1.04it/s]"
     ]
    },
    {
     "name": "stdout",
     "output_type": "stream",
     "text": [
      "\n",
      "Train] epoch] 67, idx] 99 loss] 58.2997924759984\n",
      "\n",
      "Train] epoch] 67, idx] 199 loss] 35.39561850577593\n",
      "\n",
      "Train] epoch] 67, idx] 299 loss] 33.700849771499634\n",
      "\n",
      "Train] epoch] 67, idx] 399 loss] 34.78443107753992\n",
      "\n",
      "Train] epoch] 67, idx] 499 loss] 34.2470962330699\n",
      "\n"
     ]
    },
    {
     "name": "stderr",
     "output_type": "stream",
     "text": [
      "\r",
      "  2%|▏         | 67/3000 [01:05<46:57,  1.04it/s]"
     ]
    },
    {
     "name": "stdout",
     "output_type": "stream",
     "text": [
      "Train] epoch] 67, idx] 599 loss] 38.63636566698551\n",
      "\n",
      "\n",
      "Train] epoch] 68, idx] 99 loss] 56.43022107332945\n",
      "\n",
      "Train] epoch] 68, idx] 199 loss] 35.651582166552544\n",
      "\n",
      "Train] epoch] 68, idx] 299 loss] 34.20940927416086\n",
      "\n",
      "Train] epoch] 68, idx] 399 loss] 32.58942412957549\n",
      "\n",
      "Train] epoch] 68, idx] 499 loss] 33.6135076507926\n",
      "\n",
      "Train] epoch] 68, idx] 599 loss] 34.9749161824584\n",
      "\n"
     ]
    },
    {
     "name": "stderr",
     "output_type": "stream",
     "text": [
      "\r",
      "  2%|▏         | 68/3000 [01:06<46:50,  1.04it/s]"
     ]
    },
    {
     "name": "stdout",
     "output_type": "stream",
     "text": [
      "\n",
      "Train] epoch] 69, idx] 99 loss] 58.40381874144077\n",
      "\n",
      "Train] epoch] 69, idx] 199 loss] 34.586032167077065\n",
      "\n",
      "Train] epoch] 69, idx] 299 loss] 35.29861073195934\n",
      "\n",
      "Train] epoch] 69, idx] 399 loss] 37.04383775964379\n",
      "\n",
      "Train] epoch] 69, idx] 499 loss] 35.806167759001255\n",
      "\n"
     ]
    },
    {
     "name": "stderr",
     "output_type": "stream",
     "text": [
      "\r",
      "  2%|▏         | 69/3000 [01:07<47:11,  1.04it/s]"
     ]
    },
    {
     "name": "stdout",
     "output_type": "stream",
     "text": [
      "Train] epoch] 69, idx] 599 loss] 34.05474237538874\n",
      "\n",
      "\n",
      "Train] epoch] 70, idx] 99 loss] 58.347622744739056\n",
      "\n",
      "Train] epoch] 70, idx] 199 loss] 32.91666608676314\n",
      "\n",
      "Train] epoch] 70, idx] 299 loss] 34.074645057320595\n",
      "\n",
      "Train] epoch] 70, idx] 399 loss] 30.464249428361654\n",
      "\n",
      "Train] epoch] 70, idx] 499 loss] 38.91629393398762\n",
      "\n",
      "Train] epoch] 70, idx] 599 loss] 36.329384215176105\n",
      "\n"
     ]
    },
    {
     "name": "stderr",
     "output_type": "stream",
     "text": [
      "\r",
      "  2%|▏         | 70/3000 [01:08<47:04,  1.04it/s]"
     ]
    },
    {
     "name": "stdout",
     "output_type": "stream",
     "text": [
      "\n",
      "Train] epoch] 71, idx] 99 loss] 59.25865565985441\n",
      "\n",
      "Train] epoch] 71, idx] 199 loss] 36.489076629281044\n",
      "\n",
      "Train] epoch] 71, idx] 299 loss] 33.61501331999898\n",
      "\n",
      "Train] epoch] 71, idx] 399 loss] 33.61076910421252\n",
      "\n",
      "Train] epoch] 71, idx] 499 loss] 38.23549384996295\n",
      "\n"
     ]
    },
    {
     "name": "stderr",
     "output_type": "stream",
     "text": [
      "\r",
      "  2%|▏         | 71/3000 [01:09<46:58,  1.04it/s]"
     ]
    },
    {
     "name": "stdout",
     "output_type": "stream",
     "text": [
      "Train] epoch] 71, idx] 599 loss] 34.39804790727794\n",
      "\n",
      "\n",
      "Train] epoch] 72, idx] 99 loss] 53.538497012108564\n",
      "\n",
      "Train] epoch] 72, idx] 199 loss] 37.104843616485596\n",
      "\n",
      "Train] epoch] 72, idx] 299 loss] 34.956671833992004\n",
      "\n",
      "Train] epoch] 72, idx] 399 loss] 32.50729260593653\n",
      "\n",
      "Train] epoch] 72, idx] 499 loss] 40.29784880578518\n",
      "\n",
      "Train] epoch] 72, idx] 599 loss] 34.309182681143284\n",
      "\n"
     ]
    },
    {
     "name": "stderr",
     "output_type": "stream",
     "text": [
      "\r",
      "  2%|▏         | 72/3000 [01:10<46:54,  1.04it/s]"
     ]
    },
    {
     "name": "stdout",
     "output_type": "stream",
     "text": [
      "\n",
      "Train] epoch] 73, idx] 99 loss] 56.81496228277683\n",
      "\n",
      "Train] epoch] 73, idx] 199 loss] 36.42431239038706\n",
      "\n",
      "Train] epoch] 73, idx] 299 loss] 31.612289041280746\n",
      "\n",
      "Train] epoch] 73, idx] 399 loss] 33.04720466397703\n",
      "\n",
      "Train] epoch] 73, idx] 499 loss] 32.06661311350763\n",
      "\n"
     ]
    },
    {
     "name": "stderr",
     "output_type": "stream",
     "text": [
      "\r",
      "  2%|▏         | 73/3000 [01:11<46:50,  1.04it/s]"
     ]
    },
    {
     "name": "stdout",
     "output_type": "stream",
     "text": [
      "Train] epoch] 73, idx] 599 loss] 38.23268184810877\n",
      "\n",
      "\n",
      "Train] epoch] 74, idx] 99 loss] 55.55466836690903\n",
      "\n",
      "Train] epoch] 74, idx] 199 loss] 32.59946095570922\n",
      "\n",
      "Train] epoch] 74, idx] 299 loss] 38.62033550441265\n",
      "\n",
      "Train] epoch] 74, idx] 399 loss] 33.461842358112335\n",
      "\n",
      "Train] epoch] 74, idx] 499 loss] 38.818724885582924\n",
      "\n",
      "Train] epoch] 74, idx] 599 loss] 35.53485194966197\n",
      "\n"
     ]
    },
    {
     "name": "stderr",
     "output_type": "stream",
     "text": [
      "\r",
      "  2%|▏         | 74/3000 [01:12<47:19,  1.03it/s]"
     ]
    },
    {
     "name": "stdout",
     "output_type": "stream",
     "text": [
      "\n",
      "Train] epoch] 75, idx] 99 loss] 63.383161429315805\n",
      "\n",
      "Train] epoch] 75, idx] 199 loss] 33.61781080067158\n",
      "\n",
      "Train] epoch] 75, idx] 299 loss] 31.7010400518775\n",
      "\n",
      "Train] epoch] 75, idx] 399 loss] 34.66454676538706\n",
      "\n",
      "Train] epoch] 75, idx] 499 loss] 34.45492907240987\n",
      "\n"
     ]
    },
    {
     "name": "stderr",
     "output_type": "stream",
     "text": [
      "\r",
      "  2%|▎         | 75/3000 [01:13<47:38,  1.02it/s]"
     ]
    },
    {
     "name": "stdout",
     "output_type": "stream",
     "text": [
      "Train] epoch] 75, idx] 599 loss] 30.717680037021637\n",
      "\n",
      "\n",
      "Train] epoch] 76, idx] 99 loss] 57.16230218484998\n",
      "\n",
      "Train] epoch] 76, idx] 199 loss] 35.24594011157751\n",
      "\n",
      "Train] epoch] 76, idx] 299 loss] 37.23079261928797\n",
      "\n",
      "Train] epoch] 76, idx] 399 loss] 32.90291449055076\n",
      "\n",
      "Train] epoch] 76, idx] 499 loss] 35.99313580989838\n",
      "\n",
      "Train] epoch] 76, idx] 599 loss] 32.15031876787543\n",
      "\n"
     ]
    },
    {
     "name": "stderr",
     "output_type": "stream",
     "text": [
      "\r",
      "  3%|▎         | 76/3000 [01:14<48:40,  1.00it/s]"
     ]
    },
    {
     "name": "stdout",
     "output_type": "stream",
     "text": [
      "\n",
      "Train] epoch] 77, idx] 99 loss] 53.70868752896786\n",
      "\n",
      "Train] epoch] 77, idx] 199 loss] 30.67001074552536\n",
      "\n",
      "Train] epoch] 77, idx] 299 loss] 36.064722411334515\n",
      "\n",
      "Train] epoch] 77, idx] 399 loss] 39.5257625579834\n",
      "\n",
      "Train] epoch] 77, idx] 499 loss] 35.71915753930807\n",
      "\n"
     ]
    },
    {
     "name": "stderr",
     "output_type": "stream",
     "text": [
      "\r",
      "  3%|▎         | 77/3000 [01:15<48:21,  1.01it/s]"
     ]
    },
    {
     "name": "stdout",
     "output_type": "stream",
     "text": [
      "Train] epoch] 77, idx] 599 loss] 34.897777415812016\n",
      "\n",
      "\n",
      "Train] epoch] 78, idx] 99 loss] 58.27159859612584\n",
      "\n",
      "Train] epoch] 78, idx] 199 loss] 36.715298898518085\n",
      "\n",
      "Train] epoch] 78, idx] 299 loss] 39.174214862287045\n",
      "\n",
      "Train] epoch] 78, idx] 399 loss] 34.07480138912797\n",
      "\n",
      "Train] epoch] 78, idx] 499 loss] 31.024155095219612\n",
      "\n",
      "Train] epoch] 78, idx] 599 loss] 34.77608348056674\n",
      "\n"
     ]
    },
    {
     "name": "stderr",
     "output_type": "stream",
     "text": [
      "\r",
      "  3%|▎         | 78/3000 [01:16<48:17,  1.01it/s]"
     ]
    },
    {
     "name": "stdout",
     "output_type": "stream",
     "text": [
      "\n",
      "Train] epoch] 79, idx] 99 loss] 57.419377371668816\n",
      "\n",
      "Train] epoch] 79, idx] 199 loss] 31.822796892374754\n",
      "\n",
      "Train] epoch] 79, idx] 299 loss] 36.936418514698744\n",
      "\n",
      "Train] epoch] 79, idx] 399 loss] 35.353299498558044\n",
      "\n",
      "Train] epoch] 79, idx] 499 loss] 35.50465477257967\n",
      "\n"
     ]
    },
    {
     "name": "stderr",
     "output_type": "stream",
     "text": [
      "\r",
      "  3%|▎         | 79/3000 [01:17<49:02,  1.01s/it]"
     ]
    },
    {
     "name": "stdout",
     "output_type": "stream",
     "text": [
      "Train] epoch] 79, idx] 599 loss] 34.9333253800869\n",
      "\n",
      "\n",
      "Train] epoch] 80, idx] 99 loss] 57.44481052085757\n",
      "\n",
      "Train] epoch] 80, idx] 199 loss] 35.04346027225256\n",
      "\n",
      "Train] epoch] 80, idx] 299 loss] 34.759928446263075\n",
      "\n",
      "Train] epoch] 80, idx] 399 loss] 36.1414827182889\n",
      "\n",
      "Train] epoch] 80, idx] 499 loss] 35.79128819704056\n",
      "\n",
      "Train] epoch] 80, idx] 599 loss] 30.147312808781862\n",
      "\n"
     ]
    },
    {
     "name": "stderr",
     "output_type": "stream",
     "text": [
      "\r",
      "  3%|▎         | 80/3000 [01:18<50:09,  1.03s/it]"
     ]
    },
    {
     "name": "stdout",
     "output_type": "stream",
     "text": [
      "\n",
      "Train] epoch] 81, idx] 99 loss] 60.27240560948849\n",
      "\n",
      "Train] epoch] 81, idx] 199 loss] 33.5054175183177\n",
      "\n",
      "Train] epoch] 81, idx] 299 loss] 34.59711053967476\n",
      "\n",
      "Train] epoch] 81, idx] 399 loss] 33.10612374544144\n",
      "\n",
      "Train] epoch] 81, idx] 499 loss] 31.13555173948407\n",
      "\n"
     ]
    },
    {
     "name": "stderr",
     "output_type": "stream",
     "text": [
      "\r",
      "  3%|▎         | 81/3000 [01:19<50:52,  1.05s/it]"
     ]
    },
    {
     "name": "stdout",
     "output_type": "stream",
     "text": [
      "Train] epoch] 81, idx] 599 loss] 36.08593159914017\n",
      "\n",
      "\n",
      "Train] epoch] 82, idx] 99 loss] 54.51169950515032\n",
      "\n",
      "Train] epoch] 82, idx] 199 loss] 36.168836675584316\n",
      "\n",
      "Train] epoch] 82, idx] 299 loss] 30.766982793807983\n",
      "\n",
      "Train] epoch] 82, idx] 399 loss] 33.96072228997946\n",
      "\n",
      "Train] epoch] 82, idx] 499 loss] 35.264452777802944\n",
      "\n",
      "Train] epoch] 82, idx] 599 loss] 34.56187313422561\n",
      "\n"
     ]
    },
    {
     "name": "stderr",
     "output_type": "stream",
     "text": [
      "\r",
      "  3%|▎         | 82/3000 [01:20<51:38,  1.06s/it]"
     ]
    },
    {
     "name": "stdout",
     "output_type": "stream",
     "text": [
      "\n",
      "Train] epoch] 83, idx] 99 loss] 58.48717067018151\n",
      "\n",
      "Train] epoch] 83, idx] 199 loss] 35.91440877318382\n",
      "\n",
      "Train] epoch] 83, idx] 299 loss] 32.42018532752991\n",
      "\n",
      "Train] epoch] 83, idx] 399 loss] 36.41041974723339\n",
      "\n",
      "Train] epoch] 83, idx] 499 loss] 35.11301790177822\n",
      "\n"
     ]
    },
    {
     "name": "stderr",
     "output_type": "stream",
     "text": [
      "\r",
      "  3%|▎         | 83/3000 [01:21<51:44,  1.06s/it]"
     ]
    },
    {
     "name": "stdout",
     "output_type": "stream",
     "text": [
      "Train] epoch] 83, idx] 599 loss] 34.40977310016751\n",
      "\n",
      "\n",
      "Train] epoch] 84, idx] 99 loss] 57.097838811576366\n",
      "\n",
      "Train] epoch] 84, idx] 199 loss] 31.72153064608574\n",
      "\n",
      "Train] epoch] 84, idx] 299 loss] 35.324331380426884\n",
      "\n",
      "Train] epoch] 84, idx] 399 loss] 36.15844140574336\n",
      "\n",
      "Train] epoch] 84, idx] 499 loss] 33.80280193686485\n",
      "\n",
      "Train] epoch] 84, idx] 599 loss] 34.55374509841204\n",
      "\n"
     ]
    },
    {
     "name": "stderr",
     "output_type": "stream",
     "text": [
      "\r",
      "  3%|▎         | 84/3000 [01:22<51:44,  1.06s/it]"
     ]
    },
    {
     "name": "stdout",
     "output_type": "stream",
     "text": [
      "\n",
      "Train] epoch] 85, idx] 99 loss] 53.15020200237632\n",
      "\n",
      "Train] epoch] 85, idx] 199 loss] 38.33457572758198\n",
      "\n",
      "Train] epoch] 85, idx] 299 loss] 37.3118112757802\n",
      "\n",
      "Train] epoch] 85, idx] 399 loss] 30.92344007268548\n",
      "\n",
      "Train] epoch] 85, idx] 499 loss] 31.24403491988778\n",
      "\n"
     ]
    },
    {
     "name": "stderr",
     "output_type": "stream",
     "text": [
      "\r",
      "  3%|▎         | 85/3000 [01:24<51:56,  1.07s/it]"
     ]
    },
    {
     "name": "stdout",
     "output_type": "stream",
     "text": [
      "Train] epoch] 85, idx] 599 loss] 33.94227455556393\n",
      "\n",
      "\n",
      "Train] epoch] 86, idx] 99 loss] 54.968225594609976\n",
      "\n",
      "Train] epoch] 86, idx] 199 loss] 34.293022092431784\n",
      "\n",
      "Train] epoch] 86, idx] 299 loss] 38.58394085243344\n",
      "\n",
      "Train] epoch] 86, idx] 399 loss] 34.12430026382208\n",
      "\n",
      "Train] epoch] 86, idx] 499 loss] 36.36908705532551\n",
      "\n",
      "Train] epoch] 86, idx] 599 loss] 33.70912617817521\n",
      "\n"
     ]
    },
    {
     "name": "stderr",
     "output_type": "stream",
     "text": [
      "\r",
      "  3%|▎         | 86/3000 [01:25<51:50,  1.07s/it]"
     ]
    },
    {
     "name": "stdout",
     "output_type": "stream",
     "text": [
      "\n",
      "Train] epoch] 87, idx] 99 loss] 53.32168509438634\n",
      "\n",
      "Train] epoch] 87, idx] 199 loss] 32.80230921134353\n",
      "\n",
      "Train] epoch] 87, idx] 299 loss] 33.469074323773384\n",
      "\n",
      "Train] epoch] 87, idx] 399 loss] 37.49824834987521\n",
      "\n",
      "Train] epoch] 87, idx] 499 loss] 36.91934516467154\n",
      "\n"
     ]
    },
    {
     "name": "stderr",
     "output_type": "stream",
     "text": [
      "\r",
      "  3%|▎         | 87/3000 [01:26<52:01,  1.07s/it]"
     ]
    },
    {
     "name": "stdout",
     "output_type": "stream",
     "text": [
      "Train] epoch] 87, idx] 599 loss] 38.13525976240635\n",
      "\n",
      "\n",
      "Train] epoch] 88, idx] 99 loss] 56.46863271296024\n",
      "\n",
      "Train] epoch] 88, idx] 199 loss] 33.042472802102566\n",
      "\n",
      "Train] epoch] 88, idx] 299 loss] 34.7353505268693\n",
      "\n",
      "Train] epoch] 88, idx] 399 loss] 34.74656642973423\n",
      "\n",
      "Train] epoch] 88, idx] 499 loss] 30.687813706696033\n",
      "\n",
      "Train] epoch] 88, idx] 599 loss] 34.64930269122124\n",
      "\n"
     ]
    },
    {
     "name": "stderr",
     "output_type": "stream",
     "text": [
      "\r",
      "  3%|▎         | 88/3000 [01:27<51:39,  1.06s/it]"
     ]
    },
    {
     "name": "stdout",
     "output_type": "stream",
     "text": [
      "\n",
      "Train] epoch] 89, idx] 99 loss] 58.73210098966956\n",
      "\n",
      "Train] epoch] 89, idx] 199 loss] 36.385130889713764\n",
      "\n",
      "Train] epoch] 89, idx] 299 loss] 35.20911939069629\n",
      "\n",
      "Train] epoch] 89, idx] 399 loss] 39.20445592701435\n",
      "\n",
      "Train] epoch] 89, idx] 499 loss] 29.282126182690263\n",
      "\n"
     ]
    },
    {
     "name": "stderr",
     "output_type": "stream",
     "text": [
      "\r",
      "  3%|▎         | 89/3000 [01:28<50:44,  1.05s/it]"
     ]
    },
    {
     "name": "stdout",
     "output_type": "stream",
     "text": [
      "Train] epoch] 89, idx] 599 loss] 32.160634499043226\n",
      "\n",
      "\n",
      "Train] epoch] 90, idx] 99 loss] 62.97250713035464\n",
      "\n",
      "Train] epoch] 90, idx] 199 loss] 35.07348681613803\n",
      "\n",
      "Train] epoch] 90, idx] 299 loss] 30.519469495862722\n",
      "\n",
      "Train] epoch] 90, idx] 399 loss] 32.551679231226444\n",
      "\n",
      "Train] epoch] 90, idx] 499 loss] 36.788854748010635\n",
      "\n",
      "Train] epoch] 90, idx] 599 loss] 34.527898505330086\n",
      "\n"
     ]
    },
    {
     "name": "stderr",
     "output_type": "stream",
     "text": [
      "\r",
      "  3%|▎         | 90/3000 [01:29<51:18,  1.06s/it]"
     ]
    },
    {
     "name": "stdout",
     "output_type": "stream",
     "text": [
      "\n",
      "Train] epoch] 91, idx] 99 loss] 53.8379747569561\n",
      "\n",
      "Train] epoch] 91, idx] 199 loss] 33.13524764403701\n",
      "\n",
      "Train] epoch] 91, idx] 299 loss] 31.549778047949076\n",
      "\n",
      "Train] epoch] 91, idx] 399 loss] 35.01219726912677\n",
      "\n",
      "Train] epoch] 91, idx] 499 loss] 36.95342019200325\n",
      "\n",
      "Train] epoch] 91, idx] 599 loss] 34.21310666203499\n",
      "\n"
     ]
    },
    {
     "name": "stderr",
     "output_type": "stream",
     "text": [
      "\r",
      "  3%|▎         | 91/3000 [01:30<52:35,  1.08s/it]"
     ]
    },
    {
     "name": "stdout",
     "output_type": "stream",
     "text": [
      "\n",
      "Train] epoch] 92, idx] 99 loss] 57.43049515038729\n",
      "\n",
      "Train] epoch] 92, idx] 199 loss] 34.70162531360984\n",
      "\n",
      "Train] epoch] 92, idx] 299 loss] 36.0646392069757\n",
      "\n",
      "Train] epoch] 92, idx] 399 loss] 33.73746267333627\n",
      "\n",
      "Train] epoch] 92, idx] 499 loss] 33.350930370390415\n",
      "\n"
     ]
    },
    {
     "name": "stderr",
     "output_type": "stream",
     "text": [
      "\r",
      "  3%|▎         | 92/3000 [01:31<52:42,  1.09s/it]"
     ]
    },
    {
     "name": "stdout",
     "output_type": "stream",
     "text": [
      "Train] epoch] 92, idx] 599 loss] 30.96317844092846\n",
      "\n",
      "\n",
      "Train] epoch] 93, idx] 99 loss] 57.127835899591446\n",
      "\n",
      "Train] epoch] 93, idx] 199 loss] 31.747369073331356\n",
      "\n",
      "Train] epoch] 93, idx] 299 loss] 32.07579494267702\n",
      "\n",
      "Train] epoch] 93, idx] 399 loss] 36.52572791650891\n",
      "\n",
      "Train] epoch] 93, idx] 499 loss] 34.93503013625741\n",
      "\n",
      "Train] epoch] 93, idx] 599 loss] 36.51264037191868\n",
      "\n"
     ]
    },
    {
     "name": "stderr",
     "output_type": "stream",
     "text": [
      "\r",
      "  3%|▎         | 93/3000 [01:32<52:55,  1.09s/it]"
     ]
    },
    {
     "name": "stdout",
     "output_type": "stream",
     "text": [
      "\n",
      "Train] epoch] 94, idx] 99 loss] 57.777456149458885\n",
      "\n",
      "Train] epoch] 94, idx] 199 loss] 30.519315844401717\n",
      "\n",
      "Train] epoch] 94, idx] 299 loss] 32.92445619031787\n",
      "\n",
      "Train] epoch] 94, idx] 399 loss] 30.863740365952253\n",
      "\n",
      "Train] epoch] 94, idx] 499 loss] 33.23610274493694\n",
      "\n"
     ]
    },
    {
     "name": "stderr",
     "output_type": "stream",
     "text": [
      "\r",
      "  3%|▎         | 94/3000 [01:33<52:23,  1.08s/it]"
     ]
    },
    {
     "name": "stdout",
     "output_type": "stream",
     "text": [
      "Train] epoch] 94, idx] 599 loss] 37.01120213791728\n",
      "\n",
      "\n",
      "Train] epoch] 95, idx] 99 loss] 54.93452923744917\n",
      "\n",
      "Train] epoch] 95, idx] 199 loss] 31.157498728483915\n",
      "\n",
      "Train] epoch] 95, idx] 299 loss] 34.951304476708174\n",
      "\n",
      "Train] epoch] 95, idx] 399 loss] 29.656699992716312\n",
      "\n",
      "Train] epoch] 95, idx] 499 loss] 38.91415002569556\n",
      "\n",
      "Train] epoch] 95, idx] 599 loss] 34.669623617082834\n",
      "\n"
     ]
    },
    {
     "name": "stderr",
     "output_type": "stream",
     "text": [
      "\r",
      "  3%|▎         | 95/3000 [01:34<52:26,  1.08s/it]"
     ]
    },
    {
     "name": "stdout",
     "output_type": "stream",
     "text": [
      "\n",
      "Train] epoch] 96, idx] 99 loss] 51.995327081531286\n",
      "\n",
      "Train] epoch] 96, idx] 199 loss] 35.02482442930341\n",
      "\n",
      "Train] epoch] 96, idx] 299 loss] 33.68239754810929\n",
      "\n",
      "Train] epoch] 96, idx] 399 loss] 34.861752808094025\n",
      "\n",
      "Train] epoch] 96, idx] 499 loss] 37.427343629300594\n",
      "\n"
     ]
    },
    {
     "name": "stderr",
     "output_type": "stream",
     "text": [
      "\r",
      "  3%|▎         | 96/3000 [01:35<51:20,  1.06s/it]"
     ]
    },
    {
     "name": "stdout",
     "output_type": "stream",
     "text": [
      "Train] epoch] 96, idx] 599 loss] 32.81560559570789\n",
      "\n",
      "\n",
      "Train] epoch] 97, idx] 99 loss] 56.24418964609504\n",
      "\n",
      "Train] epoch] 97, idx] 199 loss] 29.850996762514114\n",
      "\n",
      "Train] epoch] 97, idx] 299 loss] 35.22479723393917\n",
      "\n",
      "Train] epoch] 97, idx] 399 loss] 36.62278977036476\n",
      "\n",
      "Train] epoch] 97, idx] 499 loss] 31.99444095417857\n",
      "\n",
      "Train] epoch] 97, idx] 599 loss] 32.44237960875034\n",
      "\n"
     ]
    },
    {
     "name": "stderr",
     "output_type": "stream",
     "text": [
      "\r",
      "  3%|▎         | 97/3000 [01:36<49:51,  1.03s/it]"
     ]
    },
    {
     "name": "stdout",
     "output_type": "stream",
     "text": [
      "\n",
      "Train] epoch] 98, idx] 99 loss] 62.860410910099745\n",
      "\n",
      "Train] epoch] 98, idx] 199 loss] 34.179239608347416\n",
      "\n",
      "Train] epoch] 98, idx] 299 loss] 32.562794491648674\n",
      "\n",
      "Train] epoch] 98, idx] 399 loss] 32.679481104016304\n",
      "\n",
      "Train] epoch] 98, idx] 499 loss] 37.42174610495567\n",
      "\n"
     ]
    },
    {
     "name": "stderr",
     "output_type": "stream",
     "text": [
      "\r",
      "  3%|▎         | 98/3000 [01:37<49:35,  1.03s/it]"
     ]
    },
    {
     "name": "stdout",
     "output_type": "stream",
     "text": [
      "Train] epoch] 98, idx] 599 loss] 29.711148757487535\n",
      "\n",
      "\n",
      "Train] epoch] 99, idx] 99 loss] 58.35987774655223\n",
      "\n",
      "Train] epoch] 99, idx] 199 loss] 30.905431527644396\n",
      "\n",
      "Train] epoch] 99, idx] 299 loss] 35.33616563677788\n",
      "\n",
      "Train] epoch] 99, idx] 399 loss] 36.83277776092291\n",
      "\n",
      "Train] epoch] 99, idx] 499 loss] 34.47802122309804\n",
      "\n",
      "Train] epoch] 99, idx] 599 loss] 29.623555809259415\n",
      "\n"
     ]
    },
    {
     "name": "stderr",
     "output_type": "stream",
     "text": [
      "\r",
      "  3%|▎         | 99/3000 [01:38<48:33,  1.00s/it]"
     ]
    },
    {
     "name": "stdout",
     "output_type": "stream",
     "text": [
      "\n",
      "Train] epoch] 100, idx] 99 loss] 53.13410022482276\n",
      "\n",
      "Train] epoch] 100, idx] 199 loss] 33.55431502684951\n",
      "\n",
      "Train] epoch] 100, idx] 299 loss] 33.62350582703948\n",
      "\n",
      "Train] epoch] 100, idx] 399 loss] 34.51382012665272\n",
      "\n",
      "Train] epoch] 100, idx] 499 loss] 34.10856645554304\n",
      "\n"
     ]
    },
    {
     "name": "stderr",
     "output_type": "stream",
     "text": [
      "\r",
      "  3%|▎         | 100/3000 [01:39<47:43,  1.01it/s]"
     ]
    },
    {
     "name": "stdout",
     "output_type": "stream",
     "text": [
      "Train] epoch] 100, idx] 599 loss] 32.21649241447449\n",
      "\n",
      "\n",
      "Train] epoch] 101, idx] 99 loss] 60.29782621562481\n",
      "\n",
      "Train] epoch] 101, idx] 199 loss] 33.514669205993414\n",
      "\n",
      "Train] epoch] 101, idx] 299 loss] 31.15063240379095\n",
      "\n",
      "Train] epoch] 101, idx] 399 loss] 31.940144758671522\n",
      "\n",
      "Train] epoch] 101, idx] 499 loss] 36.25346400588751\n",
      "\n",
      "Train] epoch] 101, idx] 599 loss] 32.94631780311465\n",
      "\n"
     ]
    },
    {
     "name": "stderr",
     "output_type": "stream",
     "text": [
      "\r",
      "  3%|▎         | 101/3000 [01:40<47:11,  1.02it/s]"
     ]
    },
    {
     "name": "stdout",
     "output_type": "stream",
     "text": [
      "\n",
      "Train] epoch] 102, idx] 99 loss] 58.340741239488125\n",
      "\n",
      "Train] epoch] 102, idx] 199 loss] 30.52683823555708\n",
      "\n",
      "Train] epoch] 102, idx] 299 loss] 35.228523939847946\n",
      "\n",
      "Train] epoch] 102, idx] 399 loss] 32.87672918662429\n",
      "\n",
      "Train] epoch] 102, idx] 499 loss] 33.38804465532303\n",
      "\n"
     ]
    },
    {
     "name": "stderr",
     "output_type": "stream",
     "text": [
      "\r",
      "  3%|▎         | 102/3000 [01:41<46:47,  1.03it/s]"
     ]
    },
    {
     "name": "stdout",
     "output_type": "stream",
     "text": [
      "Train] epoch] 102, idx] 599 loss] 33.13101811893284\n",
      "\n",
      "\n",
      "Train] epoch] 103, idx] 99 loss] 53.94320125319064\n",
      "\n",
      "Train] epoch] 103, idx] 199 loss] 36.15966146439314\n",
      "\n",
      "Train] epoch] 103, idx] 299 loss] 32.28143795207143\n",
      "\n",
      "Train] epoch] 103, idx] 399 loss] 36.48726763576269\n",
      "\n",
      "Train] epoch] 103, idx] 499 loss] 34.21998720988631\n",
      "\n",
      "Train] epoch] 103, idx] 599 loss] 30.262228049337864\n",
      "\n"
     ]
    },
    {
     "name": "stderr",
     "output_type": "stream",
     "text": [
      "\r",
      "  3%|▎         | 103/3000 [01:42<46:35,  1.04it/s]"
     ]
    },
    {
     "name": "stdout",
     "output_type": "stream",
     "text": [
      "\n",
      "Train] epoch] 104, idx] 99 loss] 56.130764961242676\n",
      "\n",
      "Train] epoch] 104, idx] 199 loss] 36.312868908047676\n",
      "\n",
      "Train] epoch] 104, idx] 299 loss] 35.07361951842904\n",
      "\n",
      "Train] epoch] 104, idx] 399 loss] 34.086670480668545\n",
      "\n",
      "Train] epoch] 104, idx] 499 loss] 33.314207285642624\n",
      "\n"
     ]
    },
    {
     "name": "stderr",
     "output_type": "stream",
     "text": [
      "\r",
      "  3%|▎         | 104/3000 [01:43<46:22,  1.04it/s]"
     ]
    },
    {
     "name": "stdout",
     "output_type": "stream",
     "text": [
      "Train] epoch] 104, idx] 599 loss] 31.124216627329588\n",
      "\n",
      "\n",
      "Train] epoch] 105, idx] 99 loss] 57.10388448089361\n",
      "\n",
      "Train] epoch] 105, idx] 199 loss] 31.6792965605855\n",
      "\n",
      "Train] epoch] 105, idx] 299 loss] 33.364669013768435\n",
      "\n",
      "Train] epoch] 105, idx] 399 loss] 35.62094045430422\n",
      "\n",
      "Train] epoch] 105, idx] 499 loss] 30.22221891582012\n",
      "\n",
      "Train] epoch] 105, idx] 599 loss] 34.685778226703405\n",
      "\n"
     ]
    },
    {
     "name": "stderr",
     "output_type": "stream",
     "text": [
      "\r",
      "  4%|▎         | 105/3000 [01:44<46:13,  1.04it/s]"
     ]
    },
    {
     "name": "stdout",
     "output_type": "stream",
     "text": [
      "\n",
      "Train] epoch] 106, idx] 99 loss] 58.632688499987125\n",
      "\n",
      "Train] epoch] 106, idx] 199 loss] 37.13462410122156\n",
      "\n",
      "Train] epoch] 106, idx] 299 loss] 33.1182357929647\n",
      "\n",
      "Train] epoch] 106, idx] 399 loss] 29.704032506793737\n",
      "\n",
      "Train] epoch] 106, idx] 499 loss] 32.36748642846942\n",
      "\n"
     ]
    },
    {
     "name": "stderr",
     "output_type": "stream",
     "text": [
      "\r",
      "  4%|▎         | 106/3000 [01:45<46:03,  1.05it/s]"
     ]
    },
    {
     "name": "stdout",
     "output_type": "stream",
     "text": [
      "Train] epoch] 106, idx] 599 loss] 33.20156021043658\n",
      "\n",
      "\n",
      "Train] epoch] 107, idx] 99 loss] 54.143002696335316\n",
      "\n",
      "Train] epoch] 107, idx] 199 loss] 33.184195924550295\n",
      "\n",
      "Train] epoch] 107, idx] 299 loss] 31.257797848433256\n",
      "\n",
      "Train] epoch] 107, idx] 399 loss] 32.2527755536139\n",
      "\n",
      "Train] epoch] 107, idx] 499 loss] 34.180884663015604\n",
      "\n",
      "Train] epoch] 107, idx] 599 loss] 33.875351406633854\n",
      "\n"
     ]
    },
    {
     "name": "stderr",
     "output_type": "stream",
     "text": [
      "\r",
      "  4%|▎         | 107/3000 [01:46<46:13,  1.04it/s]"
     ]
    },
    {
     "name": "stdout",
     "output_type": "stream",
     "text": [
      "\n",
      "Train] epoch] 108, idx] 99 loss] 59.52272713184357\n",
      "\n",
      "Train] epoch] 108, idx] 199 loss] 35.457201454788446\n",
      "\n",
      "Train] epoch] 108, idx] 299 loss] 32.020034704357386\n",
      "\n",
      "Train] epoch] 108, idx] 399 loss] 31.606702722609043\n",
      "\n",
      "Train] epoch] 108, idx] 499 loss] 31.452554943040013\n",
      "\n"
     ]
    },
    {
     "name": "stderr",
     "output_type": "stream",
     "text": [
      "\r",
      "  4%|▎         | 108/3000 [01:47<46:11,  1.04it/s]"
     ]
    },
    {
     "name": "stdout",
     "output_type": "stream",
     "text": [
      "Train] epoch] 108, idx] 599 loss] 32.88454872369766\n",
      "\n",
      "\n",
      "Train] epoch] 109, idx] 99 loss] 58.18996438756585\n",
      "\n",
      "Train] epoch] 109, idx] 199 loss] 31.842108119279146\n",
      "\n",
      "Train] epoch] 109, idx] 299 loss] 31.701805841177702\n",
      "\n",
      "Train] epoch] 109, idx] 399 loss] 35.83645260334015\n",
      "\n",
      "Train] epoch] 109, idx] 499 loss] 34.03118960186839\n",
      "\n",
      "Train] epoch] 109, idx] 599 loss] 36.368697967380285\n",
      "\n"
     ]
    },
    {
     "name": "stderr",
     "output_type": "stream",
     "text": [
      "\r",
      "  4%|▎         | 109/3000 [01:48<47:10,  1.02it/s]"
     ]
    },
    {
     "name": "stdout",
     "output_type": "stream",
     "text": [
      "\n",
      "Train] epoch] 110, idx] 99 loss] 53.92482276260853\n",
      "\n",
      "Train] epoch] 110, idx] 199 loss] 29.902947645634413\n",
      "\n",
      "Train] epoch] 110, idx] 299 loss] 30.99716581404209\n",
      "\n",
      "Train] epoch] 110, idx] 399 loss] 38.149484410881996\n",
      "\n",
      "Train] epoch] 110, idx] 499 loss] 34.44092697650194\n",
      "\n"
     ]
    },
    {
     "name": "stderr",
     "output_type": "stream",
     "text": [
      "\r",
      "  4%|▎         | 110/3000 [01:49<46:54,  1.03it/s]"
     ]
    },
    {
     "name": "stdout",
     "output_type": "stream",
     "text": [
      "Train] epoch] 110, idx] 599 loss] 34.01727322861552\n",
      "\n",
      "\n",
      "Train] epoch] 111, idx] 99 loss] 52.81171441450715\n",
      "\n",
      "Train] epoch] 111, idx] 199 loss] 33.32882132008672\n",
      "\n",
      "Train] epoch] 111, idx] 299 loss] 33.531715881079435\n",
      "\n",
      "Train] epoch] 111, idx] 399 loss] 33.068021435290575\n",
      "\n",
      "Train] epoch] 111, idx] 499 loss] 33.290068939328194\n",
      "\n",
      "Train] epoch] 111, idx] 599 loss] 35.46090766787529\n",
      "\n"
     ]
    },
    {
     "name": "stderr",
     "output_type": "stream",
     "text": [
      "\r",
      "  4%|▎         | 111/3000 [01:50<46:43,  1.03it/s]"
     ]
    },
    {
     "name": "stdout",
     "output_type": "stream",
     "text": [
      "\n",
      "Train] epoch] 112, idx] 99 loss] 55.130168192088604\n",
      "\n",
      "Train] epoch] 112, idx] 199 loss] 32.12205132842064\n",
      "\n",
      "Train] epoch] 112, idx] 299 loss] 30.080403696745634\n",
      "\n",
      "Train] epoch] 112, idx] 399 loss] 33.25916213542223\n",
      "\n",
      "Train] epoch] 112, idx] 499 loss] 36.189156064763665\n",
      "\n"
     ]
    },
    {
     "name": "stderr",
     "output_type": "stream",
     "text": [
      "\r",
      "  4%|▎         | 112/3000 [01:51<46:27,  1.04it/s]"
     ]
    },
    {
     "name": "stdout",
     "output_type": "stream",
     "text": [
      "Train] epoch] 112, idx] 599 loss] 34.049857314676046\n",
      "\n",
      "\n",
      "Train] epoch] 113, idx] 99 loss] 54.923708744347095\n",
      "\n",
      "Train] epoch] 113, idx] 199 loss] 31.55574980378151\n",
      "\n",
      "Train] epoch] 113, idx] 299 loss] 33.4409788697958\n",
      "\n",
      "Train] epoch] 113, idx] 399 loss] 34.78746968507767\n",
      "\n",
      "Train] epoch] 113, idx] 499 loss] 32.74562415108085\n",
      "\n",
      "Train] epoch] 113, idx] 599 loss] 30.967235576361418\n",
      "\n"
     ]
    },
    {
     "name": "stderr",
     "output_type": "stream",
     "text": [
      "\r",
      "  4%|▍         | 113/3000 [01:52<46:22,  1.04it/s]"
     ]
    },
    {
     "name": "stdout",
     "output_type": "stream",
     "text": [
      "\n",
      "Train] epoch] 114, idx] 99 loss] 53.27713852375746\n",
      "\n",
      "Train] epoch] 114, idx] 199 loss] 29.765664130449295\n",
      "\n",
      "Train] epoch] 114, idx] 299 loss] 32.17662714421749\n",
      "\n",
      "Train] epoch] 114, idx] 399 loss] 35.70501063764095\n",
      "\n",
      "Train] epoch] 114, idx] 499 loss] 34.59652324952185\n",
      "\n"
     ]
    },
    {
     "name": "stderr",
     "output_type": "stream",
     "text": [
      "\r",
      "  4%|▍         | 114/3000 [01:53<46:14,  1.04it/s]"
     ]
    },
    {
     "name": "stdout",
     "output_type": "stream",
     "text": [
      "Train] epoch] 114, idx] 599 loss] 36.74187719076872\n",
      "\n",
      "\n",
      "Train] epoch] 115, idx] 99 loss] 54.83052031695843\n",
      "\n",
      "Train] epoch] 115, idx] 199 loss] 35.67098747193813\n",
      "\n",
      "Train] epoch] 115, idx] 299 loss] 30.041079208254814\n",
      "\n",
      "Train] epoch] 115, idx] 399 loss] 32.37511447817087\n",
      "\n",
      "Train] epoch] 115, idx] 499 loss] 34.93769156187773\n",
      "\n",
      "Train] epoch] 115, idx] 599 loss] 32.78722019866109\n",
      "\n"
     ]
    },
    {
     "name": "stderr",
     "output_type": "stream",
     "text": [
      "\r",
      "  4%|▍         | 115/3000 [01:54<46:20,  1.04it/s]"
     ]
    },
    {
     "name": "stdout",
     "output_type": "stream",
     "text": [
      "\n",
      "Train] epoch] 116, idx] 99 loss] 57.25901339203119\n",
      "\n",
      "Train] epoch] 116, idx] 199 loss] 28.77251075580716\n",
      "\n",
      "Train] epoch] 116, idx] 299 loss] 30.498533081263304\n",
      "\n",
      "Train] epoch] 116, idx] 399 loss] 34.677241448313\n",
      "\n",
      "Train] epoch] 116, idx] 499 loss] 34.66598782688379\n",
      "\n"
     ]
    },
    {
     "name": "stderr",
     "output_type": "stream",
     "text": [
      "\r",
      "  4%|▍         | 116/3000 [01:55<46:12,  1.04it/s]"
     ]
    },
    {
     "name": "stdout",
     "output_type": "stream",
     "text": [
      "Train] epoch] 116, idx] 599 loss] 33.21507987752557\n",
      "\n",
      "\n",
      "Train] epoch] 117, idx] 99 loss] 55.6170451939106\n",
      "\n",
      "Train] epoch] 117, idx] 199 loss] 30.791185598820448\n",
      "\n",
      "Train] epoch] 117, idx] 299 loss] 32.263615656644106\n",
      "\n",
      "Train] epoch] 117, idx] 399 loss] 35.22278616949916\n",
      "\n",
      "Train] epoch] 117, idx] 499 loss] 31.21092162653804\n",
      "\n",
      "Train] epoch] 117, idx] 599 loss] 33.75335098057985\n",
      "\n"
     ]
    },
    {
     "name": "stderr",
     "output_type": "stream",
     "text": [
      "\r",
      "  4%|▍         | 117/3000 [01:56<46:07,  1.04it/s]"
     ]
    },
    {
     "name": "stdout",
     "output_type": "stream",
     "text": [
      "\n",
      "Train] epoch] 118, idx] 99 loss] 50.47524392232299\n",
      "\n",
      "Train] epoch] 118, idx] 199 loss] 35.43722162395716\n",
      "\n",
      "Train] epoch] 118, idx] 299 loss] 32.55039567500353\n",
      "\n",
      "Train] epoch] 118, idx] 399 loss] 33.224833246320486\n",
      "\n",
      "Train] epoch] 118, idx] 499 loss] 33.21960688754916\n",
      "\n"
     ]
    },
    {
     "name": "stderr",
     "output_type": "stream",
     "text": [
      "\r",
      "  4%|▍         | 118/3000 [01:56<46:27,  1.03it/s]"
     ]
    },
    {
     "name": "stdout",
     "output_type": "stream",
     "text": [
      "Train] epoch] 118, idx] 599 loss] 36.19345211982727\n",
      "\n",
      "\n",
      "Train] epoch] 119, idx] 99 loss] 56.674408841878176\n",
      "\n",
      "Train] epoch] 119, idx] 199 loss] 30.225107848644257\n",
      "\n",
      "Train] epoch] 119, idx] 299 loss] 32.87816226109862\n",
      "\n",
      "Train] epoch] 119, idx] 399 loss] 29.347226906567812\n",
      "\n",
      "Train] epoch] 119, idx] 499 loss] 32.16588996723294\n",
      "\n",
      "Train] epoch] 119, idx] 599 loss] 37.95933757722378\n",
      "\n"
     ]
    },
    {
     "name": "stderr",
     "output_type": "stream",
     "text": [
      "\r",
      "  4%|▍         | 119/3000 [01:57<46:22,  1.04it/s]"
     ]
    },
    {
     "name": "stdout",
     "output_type": "stream",
     "text": [
      "\n",
      "Train] epoch] 120, idx] 99 loss] 54.81929366290569\n",
      "\n",
      "Train] epoch] 120, idx] 199 loss] 32.03792842105031\n",
      "\n",
      "Train] epoch] 120, idx] 299 loss] 32.04912058264017\n",
      "\n",
      "Train] epoch] 120, idx] 399 loss] 32.01593455672264\n",
      "\n",
      "Train] epoch] 120, idx] 499 loss] 34.70307095348835\n",
      "\n"
     ]
    },
    {
     "name": "stderr",
     "output_type": "stream",
     "text": [
      "\r",
      "  4%|▍         | 120/3000 [01:58<46:31,  1.03it/s]"
     ]
    },
    {
     "name": "stdout",
     "output_type": "stream",
     "text": [
      "Train] epoch] 120, idx] 599 loss] 35.196953263133764\n",
      "\n",
      "\n",
      "Train] epoch] 121, idx] 99 loss] 51.630411844700575\n",
      "\n",
      "Train] epoch] 121, idx] 199 loss] 32.59542836993933\n",
      "\n",
      "Train] epoch] 121, idx] 299 loss] 34.088521437719464\n",
      "\n",
      "Train] epoch] 121, idx] 399 loss] 32.968230187892914\n",
      "\n",
      "Train] epoch] 121, idx] 499 loss] 34.94898729771376\n",
      "\n",
      "Train] epoch] 121, idx] 599 loss] 33.85106014832854\n",
      "\n"
     ]
    },
    {
     "name": "stderr",
     "output_type": "stream",
     "text": [
      "\r",
      "  4%|▍         | 121/3000 [01:59<46:26,  1.03it/s]"
     ]
    },
    {
     "name": "stdout",
     "output_type": "stream",
     "text": [
      "\n",
      "Train] epoch] 122, idx] 99 loss] 58.806355610489845\n",
      "\n",
      "Train] epoch] 122, idx] 199 loss] 33.58227897062898\n",
      "\n",
      "Train] epoch] 122, idx] 299 loss] 32.394542064517736\n",
      "\n",
      "Train] epoch] 122, idx] 399 loss] 32.43477461859584\n",
      "\n",
      "Train] epoch] 122, idx] 499 loss] 32.425171203911304\n",
      "\n"
     ]
    },
    {
     "name": "stderr",
     "output_type": "stream",
     "text": [
      "\r",
      "  4%|▍         | 122/3000 [02:00<46:15,  1.04it/s]"
     ]
    },
    {
     "name": "stdout",
     "output_type": "stream",
     "text": [
      "Train] epoch] 122, idx] 599 loss] 33.47802385687828\n",
      "\n",
      "\n",
      "Train] epoch] 123, idx] 99 loss] 54.64231625571847\n",
      "\n",
      "Train] epoch] 123, idx] 199 loss] 35.23856168426573\n",
      "\n",
      "Train] epoch] 123, idx] 299 loss] 32.96169937029481\n",
      "\n",
      "Train] epoch] 123, idx] 399 loss] 31.186326507478952\n",
      "\n",
      "Train] epoch] 123, idx] 499 loss] 32.674544773995876\n",
      "\n",
      "Train] epoch] 123, idx] 599 loss] 35.19561503455043\n",
      "\n"
     ]
    },
    {
     "name": "stderr",
     "output_type": "stream",
     "text": [
      "\r",
      "  4%|▍         | 123/3000 [02:01<46:11,  1.04it/s]"
     ]
    },
    {
     "name": "stdout",
     "output_type": "stream",
     "text": [
      "\n",
      "Train] epoch] 124, idx] 99 loss] 56.904105972498655\n",
      "\n",
      "Train] epoch] 124, idx] 199 loss] 36.065560437738895\n",
      "\n",
      "Train] epoch] 124, idx] 299 loss] 32.37044918909669\n",
      "\n",
      "Train] epoch] 124, idx] 399 loss] 33.03004299104214\n",
      "\n",
      "Train] epoch] 124, idx] 499 loss] 34.61721545830369\n",
      "\n"
     ]
    },
    {
     "name": "stderr",
     "output_type": "stream",
     "text": [
      "\r",
      "  4%|▍         | 124/3000 [02:02<46:05,  1.04it/s]"
     ]
    },
    {
     "name": "stdout",
     "output_type": "stream",
     "text": [
      "Train] epoch] 124, idx] 599 loss] 30.723985768854618\n",
      "\n",
      "\n",
      "Train] epoch] 125, idx] 99 loss] 53.90866768360138\n",
      "\n",
      "Train] epoch] 125, idx] 199 loss] 34.42363095656037\n",
      "\n",
      "Train] epoch] 125, idx] 299 loss] 31.57047577574849\n",
      "\n",
      "Train] epoch] 125, idx] 399 loss] 31.454218730330467\n",
      "\n",
      "Train] epoch] 125, idx] 499 loss] 32.150037080049515\n",
      "\n",
      "Train] epoch] 125, idx] 599 loss] 32.535737447440624\n",
      "\n"
     ]
    },
    {
     "name": "stderr",
     "output_type": "stream",
     "text": [
      "\r",
      "  4%|▍         | 125/3000 [02:03<45:57,  1.04it/s]"
     ]
    },
    {
     "name": "stdout",
     "output_type": "stream",
     "text": [
      "\n",
      "Train] epoch] 126, idx] 99 loss] 52.57696256414056\n",
      "\n",
      "Train] epoch] 126, idx] 199 loss] 30.102249935269356\n",
      "\n",
      "Train] epoch] 126, idx] 299 loss] 31.078450828790665\n",
      "\n",
      "Train] epoch] 126, idx] 399 loss] 34.282242715358734\n",
      "\n",
      "Train] epoch] 126, idx] 499 loss] 31.853057496249676\n",
      "\n"
     ]
    },
    {
     "name": "stderr",
     "output_type": "stream",
     "text": [
      "\r",
      "  4%|▍         | 126/3000 [02:04<45:56,  1.04it/s]"
     ]
    },
    {
     "name": "stdout",
     "output_type": "stream",
     "text": [
      "Train] epoch] 126, idx] 599 loss] 32.760277062654495\n",
      "\n",
      "\n",
      "Train] epoch] 127, idx] 99 loss] 53.00532765313983\n",
      "\n",
      "Train] epoch] 127, idx] 199 loss] 32.95880630612373\n",
      "\n",
      "Train] epoch] 127, idx] 299 loss] 36.4067563470453\n",
      "\n",
      "Train] epoch] 127, idx] 399 loss] 36.4884527772665\n",
      "\n",
      "Train] epoch] 127, idx] 499 loss] 28.009866444393992\n",
      "\n",
      "Train] epoch] 127, idx] 599 loss] 34.13343521952629\n",
      "\n"
     ]
    },
    {
     "name": "stderr",
     "output_type": "stream",
     "text": [
      "\r",
      "  4%|▍         | 127/3000 [02:05<46:02,  1.04it/s]"
     ]
    },
    {
     "name": "stdout",
     "output_type": "stream",
     "text": [
      "\n",
      "Train] epoch] 128, idx] 99 loss] 50.790936248376966\n",
      "\n",
      "Train] epoch] 128, idx] 199 loss] 33.151595398783684\n",
      "\n",
      "Train] epoch] 128, idx] 299 loss] 37.81174672394991\n",
      "\n",
      "Train] epoch] 128, idx] 399 loss] 29.638512399047613\n",
      "\n",
      "Train] epoch] 128, idx] 499 loss] 31.154303032904863\n",
      "\n"
     ]
    },
    {
     "name": "stderr",
     "output_type": "stream",
     "text": [
      "\r",
      "  4%|▍         | 128/3000 [02:06<46:03,  1.04it/s]"
     ]
    },
    {
     "name": "stdout",
     "output_type": "stream",
     "text": [
      "Train] epoch] 128, idx] 599 loss] 30.750299904495478\n",
      "\n",
      "\n",
      "Train] epoch] 129, idx] 99 loss] 53.11115404218435\n",
      "\n",
      "Train] epoch] 129, idx] 199 loss] 31.62877231836319\n",
      "\n",
      "Train] epoch] 129, idx] 299 loss] 32.37406885251403\n",
      "\n",
      "Train] epoch] 129, idx] 399 loss] 31.809136986732483\n",
      "\n",
      "Train] epoch] 129, idx] 499 loss] 32.14528637751937\n",
      "\n",
      "Train] epoch] 129, idx] 599 loss] 34.84873681329191\n",
      "\n"
     ]
    },
    {
     "name": "stderr",
     "output_type": "stream",
     "text": [
      "\r",
      "  4%|▍         | 129/3000 [02:07<46:14,  1.03it/s]"
     ]
    },
    {
     "name": "stdout",
     "output_type": "stream",
     "text": [
      "\n",
      "Train] epoch] 130, idx] 99 loss] 51.81674866937101\n",
      "\n",
      "Train] epoch] 130, idx] 199 loss] 30.024321392178535\n",
      "\n",
      "Train] epoch] 130, idx] 299 loss] 32.59751234203577\n",
      "\n",
      "Train] epoch] 130, idx] 399 loss] 33.21423635259271\n",
      "\n",
      "Train] epoch] 130, idx] 499 loss] 34.341983523219824\n",
      "\n"
     ]
    },
    {
     "name": "stderr",
     "output_type": "stream",
     "text": [
      "\r",
      "  4%|▍         | 130/3000 [02:08<46:08,  1.04it/s]"
     ]
    },
    {
     "name": "stdout",
     "output_type": "stream",
     "text": [
      "Train] epoch] 130, idx] 599 loss] 32.712874902412295\n",
      "\n",
      "\n",
      "Train] epoch] 131, idx] 99 loss] 56.205067843198776\n",
      "\n",
      "Train] epoch] 131, idx] 199 loss] 31.954140074551105\n",
      "\n",
      "Train] epoch] 131, idx] 299 loss] 27.57485641911626\n",
      "\n",
      "Train] epoch] 131, idx] 399 loss] 30.197464974597096\n",
      "\n",
      "Train] epoch] 131, idx] 499 loss] 38.180950570851564\n",
      "\n",
      "Train] epoch] 131, idx] 599 loss] 37.011045064777136\n",
      "\n"
     ]
    },
    {
     "name": "stderr",
     "output_type": "stream",
     "text": [
      "\r",
      "  4%|▍         | 131/3000 [02:09<46:16,  1.03it/s]"
     ]
    },
    {
     "name": "stdout",
     "output_type": "stream",
     "text": [
      "\n",
      "Train] epoch] 132, idx] 99 loss] 56.24345836415887\n",
      "\n",
      "Train] epoch] 132, idx] 199 loss] 31.016109958291054\n",
      "\n",
      "Train] epoch] 132, idx] 299 loss] 30.236821865662932\n",
      "\n",
      "Train] epoch] 132, idx] 399 loss] 36.05696480348706\n",
      "\n",
      "Train] epoch] 132, idx] 499 loss] 34.96950479596853\n",
      "\n"
     ]
    },
    {
     "name": "stderr",
     "output_type": "stream",
     "text": [
      "\r",
      "  4%|▍         | 132/3000 [02:10<46:07,  1.04it/s]"
     ]
    },
    {
     "name": "stdout",
     "output_type": "stream",
     "text": [
      "Train] epoch] 132, idx] 599 loss] 29.149036712944508\n",
      "\n",
      "\n",
      "Train] epoch] 133, idx] 99 loss] 54.80002025142312\n",
      "\n",
      "Train] epoch] 133, idx] 199 loss] 32.00681119039655\n",
      "\n",
      "Train] epoch] 133, idx] 299 loss] 34.63835796713829\n",
      "\n",
      "Train] epoch] 133, idx] 399 loss] 27.648154109716415\n",
      "\n",
      "Train] epoch] 133, idx] 499 loss] 33.2709572724998\n",
      "\n",
      "Train] epoch] 133, idx] 599 loss] 33.540415812283754\n",
      "\n"
     ]
    },
    {
     "name": "stderr",
     "output_type": "stream",
     "text": [
      "\r",
      "  4%|▍         | 133/3000 [02:11<46:02,  1.04it/s]"
     ]
    },
    {
     "name": "stdout",
     "output_type": "stream",
     "text": [
      "\n",
      "Train] epoch] 134, idx] 99 loss] 53.58366395533085\n",
      "\n",
      "Train] epoch] 134, idx] 199 loss] 32.37842968851328\n",
      "\n",
      "Train] epoch] 134, idx] 299 loss] 31.944675013422966\n",
      "\n",
      "Train] epoch] 134, idx] 399 loss] 28.979695573449135\n",
      "\n",
      "Train] epoch] 134, idx] 499 loss] 32.80003806203604\n",
      "\n"
     ]
    },
    {
     "name": "stderr",
     "output_type": "stream",
     "text": [
      "\r",
      "  4%|▍         | 134/3000 [02:12<46:10,  1.03it/s]"
     ]
    },
    {
     "name": "stdout",
     "output_type": "stream",
     "text": [
      "Train] epoch] 134, idx] 599 loss] 31.658207524567842\n",
      "\n",
      "\n",
      "Train] epoch] 135, idx] 99 loss] 55.473356526345015\n",
      "\n",
      "Train] epoch] 135, idx] 199 loss] 36.18275937065482\n",
      "\n",
      "Train] epoch] 135, idx] 299 loss] 27.156399358063936\n",
      "\n",
      "Train] epoch] 135, idx] 399 loss] 32.20175729133189\n",
      "\n",
      "Train] epoch] 135, idx] 499 loss] 28.485399208962917\n",
      "\n",
      "Train] epoch] 135, idx] 599 loss] 37.483173951506615\n",
      "\n"
     ]
    },
    {
     "name": "stderr",
     "output_type": "stream",
     "text": [
      "\r",
      "  4%|▍         | 135/3000 [02:13<46:05,  1.04it/s]"
     ]
    },
    {
     "name": "stdout",
     "output_type": "stream",
     "text": [
      "\n",
      "Train] epoch] 136, idx] 99 loss] 56.64369500987232\n",
      "\n",
      "Train] epoch] 136, idx] 199 loss] 31.578473653644323\n",
      "\n",
      "Train] epoch] 136, idx] 299 loss] 32.15117271989584\n",
      "\n",
      "Train] epoch] 136, idx] 399 loss] 34.76411097496748\n",
      "\n",
      "Train] epoch] 136, idx] 499 loss] 29.220555536448956\n",
      "\n"
     ]
    },
    {
     "name": "stderr",
     "output_type": "stream",
     "text": [
      "\r",
      "  5%|▍         | 136/3000 [02:14<46:01,  1.04it/s]"
     ]
    },
    {
     "name": "stdout",
     "output_type": "stream",
     "text": [
      "Train] epoch] 136, idx] 599 loss] 31.762301418930292\n",
      "\n",
      "\n",
      "Train] epoch] 137, idx] 99 loss] 50.00197899155319\n",
      "\n",
      "Train] epoch] 137, idx] 199 loss] 35.60924677550793\n",
      "\n",
      "Train] epoch] 137, idx] 299 loss] 32.502364449203014\n",
      "\n",
      "Train] epoch] 137, idx] 399 loss] 32.5186596699059\n",
      "\n",
      "Train] epoch] 137, idx] 499 loss] 31.682836022228003\n",
      "\n",
      "Train] epoch] 137, idx] 599 loss] 31.64944827929139\n",
      "\n"
     ]
    },
    {
     "name": "stderr",
     "output_type": "stream",
     "text": [
      "\r",
      "  5%|▍         | 137/3000 [02:15<46:02,  1.04it/s]"
     ]
    },
    {
     "name": "stdout",
     "output_type": "stream",
     "text": [
      "\n",
      "Train] epoch] 138, idx] 99 loss] 56.07952568307519\n",
      "\n",
      "Train] epoch] 138, idx] 199 loss] 31.137449361383915\n",
      "\n",
      "Train] epoch] 138, idx] 299 loss] 30.539969261735678\n",
      "\n",
      "Train] epoch] 138, idx] 399 loss] 37.42621944844723\n",
      "\n",
      "Train] epoch] 138, idx] 499 loss] 30.371303964406252\n",
      "\n"
     ]
    },
    {
     "name": "stderr",
     "output_type": "stream",
     "text": [
      "\r",
      "  5%|▍         | 138/3000 [02:16<46:07,  1.03it/s]"
     ]
    },
    {
     "name": "stdout",
     "output_type": "stream",
     "text": [
      "Train] epoch] 138, idx] 599 loss] 34.10954074934125\n",
      "\n",
      "\n",
      "Train] epoch] 139, idx] 99 loss] 50.975249756127596\n",
      "\n",
      "Train] epoch] 139, idx] 199 loss] 32.16028606146574\n",
      "\n",
      "Train] epoch] 139, idx] 299 loss] 34.743939995765686\n",
      "\n",
      "Train] epoch] 139, idx] 399 loss] 32.81038362532854\n",
      "\n",
      "Train] epoch] 139, idx] 499 loss] 31.014458663761616\n",
      "\n",
      "Train] epoch] 139, idx] 599 loss] 32.050523068755865\n",
      "\n"
     ]
    },
    {
     "name": "stderr",
     "output_type": "stream",
     "text": [
      "\r",
      "  5%|▍         | 139/3000 [02:17<46:01,  1.04it/s]"
     ]
    },
    {
     "name": "stdout",
     "output_type": "stream",
     "text": [
      "\n",
      "Train] epoch] 140, idx] 99 loss] 57.70904789119959\n",
      "\n",
      "Train] epoch] 140, idx] 199 loss] 34.02640725672245\n",
      "\n",
      "Train] epoch] 140, idx] 299 loss] 34.301854103803635\n",
      "\n",
      "Train] epoch] 140, idx] 399 loss] 32.94070914387703\n",
      "\n",
      "Train] epoch] 140, idx] 499 loss] 31.704769536852837\n",
      "\n"
     ]
    },
    {
     "name": "stderr",
     "output_type": "stream",
     "text": [
      "\r",
      "  5%|▍         | 140/3000 [02:18<45:49,  1.04it/s]"
     ]
    },
    {
     "name": "stdout",
     "output_type": "stream",
     "text": [
      "Train] epoch] 140, idx] 599 loss] 31.580590590834618\n",
      "\n",
      "\n",
      "Train] epoch] 141, idx] 99 loss] 56.52959872409701\n",
      "\n",
      "Train] epoch] 141, idx] 199 loss] 32.351868849247694\n",
      "\n",
      "Train] epoch] 141, idx] 299 loss] 29.189472369849682\n",
      "\n",
      "Train] epoch] 141, idx] 399 loss] 33.037706695497036\n",
      "\n",
      "Train] epoch] 141, idx] 499 loss] 32.497533513233066\n",
      "\n",
      "Train] epoch] 141, idx] 599 loss] 35.34342223033309\n",
      "\n"
     ]
    },
    {
     "name": "stderr",
     "output_type": "stream",
     "text": [
      "\r",
      "  5%|▍         | 141/3000 [02:19<45:41,  1.04it/s]"
     ]
    },
    {
     "name": "stdout",
     "output_type": "stream",
     "text": [
      "\n",
      "Train] epoch] 142, idx] 99 loss] 54.67360823601484\n",
      "\n",
      "Train] epoch] 142, idx] 199 loss] 38.17564830556512\n",
      "\n",
      "Train] epoch] 142, idx] 299 loss] 30.51149818301201\n",
      "\n",
      "Train] epoch] 142, idx] 399 loss] 33.74364001303911\n",
      "\n",
      "Train] epoch] 142, idx] 499 loss] 30.40182089805603\n",
      "\n"
     ]
    },
    {
     "name": "stderr",
     "output_type": "stream",
     "text": [
      "\r",
      "  5%|▍         | 142/3000 [02:20<46:13,  1.03it/s]"
     ]
    },
    {
     "name": "stdout",
     "output_type": "stream",
     "text": [
      "Train] epoch] 142, idx] 599 loss] 34.405997447669506\n",
      "\n",
      "\n",
      "Train] epoch] 143, idx] 99 loss] 52.46678141877055\n",
      "\n",
      "Train] epoch] 143, idx] 199 loss] 31.21255800873041\n",
      "\n",
      "Train] epoch] 143, idx] 299 loss] 31.78523963317275\n",
      "\n",
      "Train] epoch] 143, idx] 399 loss] 29.835154101252556\n",
      "\n",
      "Train] epoch] 143, idx] 499 loss] 36.82232800871134\n",
      "\n",
      "Train] epoch] 143, idx] 599 loss] 35.09842994809151\n",
      "\n"
     ]
    },
    {
     "name": "stderr",
     "output_type": "stream",
     "text": [
      "\r",
      "  5%|▍         | 143/3000 [02:21<46:03,  1.03it/s]"
     ]
    },
    {
     "name": "stdout",
     "output_type": "stream",
     "text": [
      "\n",
      "Train] epoch] 144, idx] 99 loss] 52.64520184695721\n",
      "\n",
      "Train] epoch] 144, idx] 199 loss] 36.696502931416035\n",
      "\n",
      "Train] epoch] 144, idx] 299 loss] 35.21914283186197\n",
      "\n",
      "Train] epoch] 144, idx] 399 loss] 30.448444832116365\n",
      "\n",
      "Train] epoch] 144, idx] 499 loss] 31.143362056463957\n",
      "\n"
     ]
    },
    {
     "name": "stderr",
     "output_type": "stream",
     "text": [
      "\r",
      "  5%|▍         | 144/3000 [02:22<46:10,  1.03it/s]"
     ]
    },
    {
     "name": "stdout",
     "output_type": "stream",
     "text": [
      "Train] epoch] 144, idx] 599 loss] 35.00669591873884\n",
      "\n",
      "\n",
      "Train] epoch] 145, idx] 99 loss] 57.73596775531769\n",
      "\n",
      "Train] epoch] 145, idx] 199 loss] 35.72507298365235\n",
      "\n",
      "Train] epoch] 145, idx] 299 loss] 33.4337090626359\n",
      "\n",
      "Train] epoch] 145, idx] 399 loss] 32.376412723213434\n",
      "\n",
      "Train] epoch] 145, idx] 499 loss] 27.96999292820692\n",
      "\n",
      "Train] epoch] 145, idx] 599 loss] 33.0043608173728\n",
      "\n"
     ]
    },
    {
     "name": "stderr",
     "output_type": "stream",
     "text": [
      "\r",
      "  5%|▍         | 145/3000 [02:23<46:10,  1.03it/s]"
     ]
    },
    {
     "name": "stdout",
     "output_type": "stream",
     "text": [
      "\n",
      "Train] epoch] 146, idx] 99 loss] 52.28990723565221\n",
      "\n",
      "Train] epoch] 146, idx] 199 loss] 31.003042986616492\n",
      "\n",
      "Train] epoch] 146, idx] 299 loss] 34.189864575862885\n",
      "\n",
      "Train] epoch] 146, idx] 399 loss] 36.03299841657281\n",
      "\n",
      "Train] epoch] 146, idx] 499 loss] 31.506721436977386\n",
      "\n"
     ]
    },
    {
     "name": "stderr",
     "output_type": "stream",
     "text": [
      "\r",
      "  5%|▍         | 146/3000 [02:24<46:41,  1.02it/s]"
     ]
    },
    {
     "name": "stdout",
     "output_type": "stream",
     "text": [
      "Train] epoch] 146, idx] 599 loss] 33.912547167390585\n",
      "\n",
      "\n",
      "Train] epoch] 147, idx] 99 loss] 52.28820542618632\n",
      "\n",
      "Train] epoch] 147, idx] 199 loss] 32.122230380773544\n",
      "\n",
      "Train] epoch] 147, idx] 299 loss] 34.65684072300792\n",
      "\n",
      "Train] epoch] 147, idx] 399 loss] 34.63483686372638\n",
      "\n",
      "Train] epoch] 147, idx] 499 loss] 27.966496516019106\n",
      "\n",
      "Train] epoch] 147, idx] 599 loss] 28.898856069892645\n",
      "\n"
     ]
    },
    {
     "name": "stderr",
     "output_type": "stream",
     "text": [
      "\r",
      "  5%|▍         | 147/3000 [02:25<46:21,  1.03it/s]"
     ]
    },
    {
     "name": "stdout",
     "output_type": "stream",
     "text": [
      "\n",
      "Train] epoch] 148, idx] 99 loss] 46.91023860126734\n",
      "\n",
      "Train] epoch] 148, idx] 199 loss] 29.651782624423504\n",
      "\n",
      "Train] epoch] 148, idx] 299 loss] 31.24973496608436\n",
      "\n",
      "Train] epoch] 148, idx] 399 loss] 30.752963557839394\n",
      "\n",
      "Train] epoch] 148, idx] 499 loss] 31.823949752375484\n",
      "\n"
     ]
    },
    {
     "name": "stderr",
     "output_type": "stream",
     "text": [
      "\r",
      "  5%|▍         | 148/3000 [02:25<46:09,  1.03it/s]"
     ]
    },
    {
     "name": "stdout",
     "output_type": "stream",
     "text": [
      "Train] epoch] 148, idx] 599 loss] 35.75599591434002\n",
      "\n",
      "\n",
      "Train] epoch] 149, idx] 99 loss] 58.24776553735137\n",
      "\n",
      "Train] epoch] 149, idx] 199 loss] 32.99762195721269\n",
      "\n",
      "Train] epoch] 149, idx] 299 loss] 33.909009512513876\n",
      "\n",
      "Train] epoch] 149, idx] 399 loss] 32.640213983133435\n",
      "\n",
      "Train] epoch] 149, idx] 499 loss] 32.05079244822264\n",
      "\n",
      "Train] epoch] 149, idx] 599 loss] 33.77293626219034\n",
      "\n"
     ]
    },
    {
     "name": "stderr",
     "output_type": "stream",
     "text": [
      "\r",
      "  5%|▍         | 149/3000 [02:26<46:19,  1.03it/s]"
     ]
    },
    {
     "name": "stdout",
     "output_type": "stream",
     "text": [
      "\n",
      "Train] epoch] 150, idx] 99 loss] 48.39551259204745\n",
      "\n",
      "Train] epoch] 150, idx] 199 loss] 31.307715326547623\n",
      "\n",
      "Train] epoch] 150, idx] 299 loss] 30.875341957435012\n",
      "\n",
      "Train] epoch] 150, idx] 399 loss] 29.778485871851444\n",
      "\n",
      "Train] epoch] 150, idx] 499 loss] 29.969677425920963\n",
      "\n"
     ]
    },
    {
     "name": "stderr",
     "output_type": "stream",
     "text": [
      "\r",
      "  5%|▌         | 150/3000 [02:27<46:21,  1.02it/s]"
     ]
    },
    {
     "name": "stdout",
     "output_type": "stream",
     "text": [
      "Train] epoch] 150, idx] 599 loss] 34.861167814582586\n",
      "\n",
      "\n",
      "Train] epoch] 151, idx] 99 loss] 52.83312138915062\n",
      "\n",
      "Train] epoch] 151, idx] 199 loss] 31.20835381001234\n",
      "\n",
      "Train] epoch] 151, idx] 299 loss] 32.30399398505688\n",
      "\n",
      "Train] epoch] 151, idx] 399 loss] 33.48494813218713\n",
      "\n",
      "Train] epoch] 151, idx] 499 loss] 32.04519249871373\n",
      "\n",
      "Train] epoch] 151, idx] 599 loss] 31.711977276951075\n",
      "\n"
     ]
    },
    {
     "name": "stderr",
     "output_type": "stream",
     "text": [
      "\r",
      "  5%|▌         | 151/3000 [02:28<46:09,  1.03it/s]"
     ]
    },
    {
     "name": "stdout",
     "output_type": "stream",
     "text": [
      "\n",
      "Train] epoch] 152, idx] 99 loss] 56.31347602978349\n",
      "\n",
      "Train] epoch] 152, idx] 199 loss] 32.40198231488466\n",
      "\n",
      "Train] epoch] 152, idx] 299 loss] 30.418049823492765\n",
      "\n",
      "Train] epoch] 152, idx] 399 loss] 35.156684182584286\n",
      "\n",
      "Train] epoch] 152, idx] 499 loss] 33.74696047604084\n",
      "\n"
     ]
    },
    {
     "name": "stderr",
     "output_type": "stream",
     "text": [
      "\r",
      "  5%|▌         | 152/3000 [02:29<46:28,  1.02it/s]"
     ]
    },
    {
     "name": "stdout",
     "output_type": "stream",
     "text": [
      "Train] epoch] 152, idx] 599 loss] 31.344424448907375\n",
      "\n",
      "\n",
      "Train] epoch] 153, idx] 99 loss] 48.28942220658064\n",
      "\n",
      "Train] epoch] 153, idx] 199 loss] 29.447876947000623\n",
      "\n",
      "Train] epoch] 153, idx] 299 loss] 36.66137160733342\n",
      "\n",
      "Train] epoch] 153, idx] 399 loss] 37.591154742985964\n",
      "\n",
      "Train] epoch] 153, idx] 499 loss] 31.147769797593355\n",
      "\n",
      "Train] epoch] 153, idx] 599 loss] 32.668290792033076\n",
      "\n"
     ]
    },
    {
     "name": "stderr",
     "output_type": "stream",
     "text": [
      "\r",
      "  5%|▌         | 153/3000 [02:30<46:54,  1.01it/s]"
     ]
    },
    {
     "name": "stdout",
     "output_type": "stream",
     "text": [
      "\n",
      "Train] epoch] 154, idx] 99 loss] 52.10934478417039\n",
      "\n",
      "Train] epoch] 154, idx] 199 loss] 32.78031473234296\n",
      "\n",
      "Train] epoch] 154, idx] 299 loss] 31.65151495486498\n",
      "\n",
      "Train] epoch] 154, idx] 399 loss] 31.854891698807478\n",
      "\n",
      "Train] epoch] 154, idx] 499 loss] 32.64747057855129\n",
      "\n"
     ]
    },
    {
     "name": "stderr",
     "output_type": "stream",
     "text": [
      "\r",
      "  5%|▌         | 154/3000 [02:31<46:23,  1.02it/s]"
     ]
    },
    {
     "name": "stdout",
     "output_type": "stream",
     "text": [
      "Train] epoch] 154, idx] 599 loss] 32.63662239164114\n",
      "\n",
      "\n",
      "Train] epoch] 155, idx] 99 loss] 54.58573402836919\n",
      "\n",
      "Train] epoch] 155, idx] 199 loss] 33.495141096413136\n",
      "\n",
      "Train] epoch] 155, idx] 299 loss] 33.25591266900301\n",
      "\n",
      "Train] epoch] 155, idx] 399 loss] 33.12835526838899\n",
      "\n",
      "Train] epoch] 155, idx] 499 loss] 35.496856048703194\n",
      "\n",
      "Train] epoch] 155, idx] 599 loss] 30.37793292477727\n",
      "\n"
     ]
    },
    {
     "name": "stderr",
     "output_type": "stream",
     "text": [
      "\r",
      "  5%|▌         | 155/3000 [02:32<46:13,  1.03it/s]"
     ]
    },
    {
     "name": "stdout",
     "output_type": "stream",
     "text": [
      "\n",
      "Train] epoch] 156, idx] 99 loss] 55.9583316296339\n",
      "\n",
      "Train] epoch] 156, idx] 199 loss] 32.71237488090992\n",
      "\n",
      "Train] epoch] 156, idx] 299 loss] 31.35084503889084\n",
      "\n",
      "Train] epoch] 156, idx] 399 loss] 30.686604011803865\n",
      "\n",
      "Train] epoch] 156, idx] 499 loss] 32.176610082387924\n",
      "\n"
     ]
    },
    {
     "name": "stderr",
     "output_type": "stream",
     "text": [
      "\r",
      "  5%|▌         | 156/3000 [02:33<45:50,  1.03it/s]"
     ]
    },
    {
     "name": "stdout",
     "output_type": "stream",
     "text": [
      "Train] epoch] 156, idx] 599 loss] 31.7108758315444\n",
      "\n",
      "\n",
      "Train] epoch] 157, idx] 99 loss] 53.47365114837885\n",
      "\n",
      "Train] epoch] 157, idx] 199 loss] 32.56064333021641\n",
      "\n",
      "Train] epoch] 157, idx] 299 loss] 31.509620402008295\n",
      "\n",
      "Train] epoch] 157, idx] 399 loss] 32.527019180357456\n",
      "\n",
      "Train] epoch] 157, idx] 499 loss] 32.07851038873196\n",
      "\n",
      "Train] epoch] 157, idx] 599 loss] 32.901561211794615\n",
      "\n"
     ]
    },
    {
     "name": "stderr",
     "output_type": "stream",
     "text": [
      "\r",
      "  5%|▌         | 157/3000 [02:34<45:39,  1.04it/s]"
     ]
    },
    {
     "name": "stdout",
     "output_type": "stream",
     "text": [
      "\n",
      "Train] epoch] 158, idx] 99 loss] 52.31855892576277\n",
      "\n",
      "Train] epoch] 158, idx] 199 loss] 32.522611644119024\n",
      "\n",
      "Train] epoch] 158, idx] 299 loss] 31.955344945192337\n",
      "\n",
      "Train] epoch] 158, idx] 399 loss] 33.76452758535743\n",
      "\n",
      "Train] epoch] 158, idx] 499 loss] 35.606526993215084\n",
      "\n"
     ]
    },
    {
     "name": "stderr",
     "output_type": "stream",
     "text": [
      "\r",
      "  5%|▌         | 158/3000 [02:35<45:30,  1.04it/s]"
     ]
    },
    {
     "name": "stdout",
     "output_type": "stream",
     "text": [
      "Train] epoch] 158, idx] 599 loss] 32.81139752268791\n",
      "\n",
      "\n",
      "Train] epoch] 159, idx] 99 loss] 54.08849732577801\n",
      "\n",
      "Train] epoch] 159, idx] 199 loss] 34.03594597056508\n",
      "\n",
      "Train] epoch] 159, idx] 299 loss] 32.047233648598194\n",
      "\n",
      "Train] epoch] 159, idx] 399 loss] 33.555005855858326\n",
      "\n",
      "Train] epoch] 159, idx] 499 loss] 30.260643316432834\n",
      "\n",
      "Train] epoch] 159, idx] 599 loss] 31.15972873941064\n",
      "\n"
     ]
    },
    {
     "name": "stderr",
     "output_type": "stream",
     "text": [
      "\r",
      "  5%|▌         | 159/3000 [02:36<45:29,  1.04it/s]"
     ]
    },
    {
     "name": "stdout",
     "output_type": "stream",
     "text": [
      "\n",
      "Train] epoch] 160, idx] 99 loss] 54.093562584370375\n",
      "\n",
      "Train] epoch] 160, idx] 199 loss] 32.420681055635214\n",
      "\n",
      "Train] epoch] 160, idx] 299 loss] 30.418651841580868\n",
      "\n",
      "Train] epoch] 160, idx] 399 loss] 30.28087417036295\n",
      "\n",
      "Train] epoch] 160, idx] 499 loss] 32.41425981745124\n",
      "\n"
     ]
    },
    {
     "name": "stderr",
     "output_type": "stream",
     "text": [
      "\r",
      "  5%|▌         | 160/3000 [02:37<45:22,  1.04it/s]"
     ]
    },
    {
     "name": "stdout",
     "output_type": "stream",
     "text": [
      "Train] epoch] 160, idx] 599 loss] 32.948233999311924\n",
      "\n",
      "\n",
      "Train] epoch] 161, idx] 99 loss] 58.03174236230552\n",
      "\n",
      "Train] epoch] 161, idx] 199 loss] 28.72260909155011\n",
      "\n",
      "Train] epoch] 161, idx] 299 loss] 31.576880998909473\n",
      "\n",
      "Train] epoch] 161, idx] 399 loss] 31.452080603688955\n",
      "\n",
      "Train] epoch] 161, idx] 499 loss] 30.79240257292986\n",
      "\n",
      "Train] epoch] 161, idx] 599 loss] 35.76589184999466\n",
      "\n"
     ]
    },
    {
     "name": "stderr",
     "output_type": "stream",
     "text": [
      "\r",
      "  5%|▌         | 161/3000 [02:38<45:19,  1.04it/s]"
     ]
    },
    {
     "name": "stdout",
     "output_type": "stream",
     "text": [
      "\n",
      "Train] epoch] 162, idx] 99 loss] 53.034263122826815\n",
      "\n",
      "Train] epoch] 162, idx] 199 loss] 31.109300646930933\n",
      "\n",
      "Train] epoch] 162, idx] 299 loss] 31.224718421697617\n",
      "\n",
      "Train] epoch] 162, idx] 399 loss] 28.363973297178745\n",
      "\n",
      "Train] epoch] 162, idx] 499 loss] 33.06429324671626\n",
      "\n"
     ]
    },
    {
     "name": "stderr",
     "output_type": "stream",
     "text": [
      "\r",
      "  5%|▌         | 162/3000 [02:39<45:12,  1.05it/s]"
     ]
    },
    {
     "name": "stdout",
     "output_type": "stream",
     "text": [
      "Train] epoch] 162, idx] 599 loss] 34.54920211061835\n",
      "\n",
      "\n",
      "Train] epoch] 163, idx] 99 loss] 53.31119370833039\n",
      "\n",
      "Train] epoch] 163, idx] 199 loss] 33.61688486486673\n",
      "\n",
      "Train] epoch] 163, idx] 299 loss] 31.32086205482483\n",
      "\n",
      "Train] epoch] 163, idx] 399 loss] 30.020977187901735\n",
      "\n",
      "Train] epoch] 163, idx] 499 loss] 34.43894541077316\n",
      "\n",
      "Train] epoch] 163, idx] 599 loss] 32.793186984956264\n",
      "\n"
     ]
    },
    {
     "name": "stderr",
     "output_type": "stream",
     "text": [
      "\r",
      "  5%|▌         | 163/3000 [02:40<45:12,  1.05it/s]"
     ]
    },
    {
     "name": "stdout",
     "output_type": "stream",
     "text": [
      "\n",
      "Train] epoch] 164, idx] 99 loss] 45.279253309592605\n",
      "\n",
      "Train] epoch] 164, idx] 199 loss] 31.182182859629393\n",
      "\n",
      "Train] epoch] 164, idx] 299 loss] 32.48154932633042\n",
      "\n",
      "Train] epoch] 164, idx] 399 loss] 31.315930038690567\n",
      "\n",
      "Train] epoch] 164, idx] 499 loss] 31.42687026783824\n",
      "\n"
     ]
    },
    {
     "name": "stderr",
     "output_type": "stream",
     "text": [
      "\r",
      "  5%|▌         | 164/3000 [02:41<45:30,  1.04it/s]"
     ]
    },
    {
     "name": "stdout",
     "output_type": "stream",
     "text": [
      "Train] epoch] 164, idx] 599 loss] 32.044819893315434\n",
      "\n",
      "\n",
      "Train] epoch] 165, idx] 99 loss] 51.28412076458335\n",
      "\n",
      "Train] epoch] 165, idx] 199 loss] 34.301852609962225\n",
      "\n",
      "Train] epoch] 165, idx] 299 loss] 29.865237960591912\n",
      "\n",
      "Train] epoch] 165, idx] 399 loss] 34.91321538388729\n",
      "\n",
      "Train] epoch] 165, idx] 499 loss] 33.516915146261454\n",
      "\n",
      "Train] epoch] 165, idx] 599 loss] 32.432509403675795\n",
      "\n"
     ]
    },
    {
     "name": "stderr",
     "output_type": "stream",
     "text": [
      "\r",
      "  6%|▌         | 165/3000 [02:42<45:22,  1.04it/s]"
     ]
    },
    {
     "name": "stdout",
     "output_type": "stream",
     "text": [
      "\n",
      "Train] epoch] 166, idx] 99 loss] 50.99372233822942\n",
      "\n",
      "Train] epoch] 166, idx] 199 loss] 27.40651780553162\n",
      "\n",
      "Train] epoch] 166, idx] 299 loss] 34.490287978202105\n",
      "\n",
      "Train] epoch] 166, idx] 399 loss] 32.02413330972195\n",
      "\n",
      "Train] epoch] 166, idx] 499 loss] 28.922053990885615\n",
      "\n"
     ]
    },
    {
     "name": "stderr",
     "output_type": "stream",
     "text": [
      "\r",
      "  6%|▌         | 166/3000 [02:43<45:11,  1.05it/s]"
     ]
    },
    {
     "name": "stdout",
     "output_type": "stream",
     "text": [
      "Train] epoch] 166, idx] 599 loss] 37.36939214169979\n",
      "\n",
      "\n",
      "Train] epoch] 167, idx] 99 loss] 56.280390840023756\n",
      "\n",
      "Train] epoch] 167, idx] 199 loss] 32.40181142836809\n",
      "\n",
      "Train] epoch] 167, idx] 299 loss] 31.255695275962353\n",
      "\n",
      "Train] epoch] 167, idx] 399 loss] 31.147463146597147\n",
      "\n",
      "Train] epoch] 167, idx] 499 loss] 31.283808639273047\n",
      "\n",
      "Train] epoch] 167, idx] 599 loss] 30.567204605787992\n",
      "\n"
     ]
    },
    {
     "name": "stderr",
     "output_type": "stream",
     "text": [
      "\r",
      "  6%|▌         | 167/3000 [02:44<46:12,  1.02it/s]"
     ]
    },
    {
     "name": "stdout",
     "output_type": "stream",
     "text": [
      "\n",
      "Train] epoch] 168, idx] 99 loss] 53.686093647032976\n",
      "\n",
      "Train] epoch] 168, idx] 199 loss] 32.887817572802305\n",
      "\n",
      "Train] epoch] 168, idx] 299 loss] 33.25383259356022\n",
      "\n",
      "Train] epoch] 168, idx] 399 loss] 33.44631556235254\n",
      "\n",
      "Train] epoch] 168, idx] 499 loss] 32.7787212356925\n",
      "\n"
     ]
    },
    {
     "name": "stderr",
     "output_type": "stream",
     "text": [
      "\r",
      "  6%|▌         | 168/3000 [02:45<45:53,  1.03it/s]"
     ]
    },
    {
     "name": "stdout",
     "output_type": "stream",
     "text": [
      "Train] epoch] 168, idx] 599 loss] 31.38339250534773\n",
      "\n",
      "\n",
      "Train] epoch] 169, idx] 99 loss] 51.2383034452796\n",
      "\n",
      "Train] epoch] 169, idx] 199 loss] 31.832128077745438\n",
      "\n",
      "Train] epoch] 169, idx] 299 loss] 32.28145430982113\n",
      "\n",
      "Train] epoch] 169, idx] 399 loss] 30.658564392477274\n",
      "\n",
      "Train] epoch] 169, idx] 499 loss] 31.171872168779373\n",
      "\n",
      "Train] epoch] 169, idx] 599 loss] 31.833518519997597\n",
      "\n"
     ]
    },
    {
     "name": "stderr",
     "output_type": "stream",
     "text": [
      "\r",
      "  6%|▌         | 169/3000 [02:46<46:04,  1.02it/s]"
     ]
    },
    {
     "name": "stdout",
     "output_type": "stream",
     "text": [
      "\n",
      "Train] epoch] 170, idx] 99 loss] 54.39444883540273\n",
      "\n",
      "Train] epoch] 170, idx] 199 loss] 31.13443394564092\n",
      "\n",
      "Train] epoch] 170, idx] 299 loss] 29.56618846207857\n",
      "\n",
      "Train] epoch] 170, idx] 399 loss] 31.440461225807667\n",
      "\n",
      "Train] epoch] 170, idx] 499 loss] 32.73690199479461\n",
      "\n"
     ]
    },
    {
     "name": "stderr",
     "output_type": "stream",
     "text": [
      "\r",
      "  6%|▌         | 170/3000 [02:47<46:09,  1.02it/s]"
     ]
    },
    {
     "name": "stdout",
     "output_type": "stream",
     "text": [
      "Train] epoch] 170, idx] 599 loss] 30.27482194080949\n",
      "\n",
      "\n",
      "Train] epoch] 171, idx] 99 loss] 57.900237660855055\n",
      "\n",
      "Train] epoch] 171, idx] 199 loss] 29.68951767683029\n",
      "\n",
      "Train] epoch] 171, idx] 299 loss] 33.9649959243834\n",
      "\n",
      "Train] epoch] 171, idx] 399 loss] 33.963675908744335\n",
      "\n",
      "Train] epoch] 171, idx] 499 loss] 31.313247930258512\n",
      "\n",
      "Train] epoch] 171, idx] 599 loss] 30.54399099573493\n",
      "\n"
     ]
    },
    {
     "name": "stderr",
     "output_type": "stream",
     "text": [
      "\r",
      "  6%|▌         | 171/3000 [02:48<46:12,  1.02it/s]"
     ]
    },
    {
     "name": "stdout",
     "output_type": "stream",
     "text": [
      "\n",
      "Train] epoch] 172, idx] 99 loss] 52.7682280279696\n",
      "\n",
      "Train] epoch] 172, idx] 199 loss] 28.48542271926999\n",
      "\n",
      "Train] epoch] 172, idx] 299 loss] 34.38493024557829\n",
      "\n",
      "Train] epoch] 172, idx] 399 loss] 28.709053369238973\n",
      "\n",
      "Train] epoch] 172, idx] 499 loss] 33.06871902011335\n",
      "\n"
     ]
    },
    {
     "name": "stderr",
     "output_type": "stream",
     "text": [
      "\r",
      "  6%|▌         | 172/3000 [02:49<45:55,  1.03it/s]"
     ]
    },
    {
     "name": "stdout",
     "output_type": "stream",
     "text": [
      "Train] epoch] 172, idx] 599 loss] 29.888488069176674\n",
      "\n",
      "\n",
      "Train] epoch] 173, idx] 99 loss] 53.82531996630132\n",
      "\n",
      "Train] epoch] 173, idx] 199 loss] 30.39040395990014\n",
      "\n",
      "Train] epoch] 173, idx] 299 loss] 34.692592822015285\n",
      "\n",
      "Train] epoch] 173, idx] 399 loss] 32.70849234238267\n",
      "\n",
      "Train] epoch] 173, idx] 499 loss] 33.51797769963741\n",
      "\n",
      "Train] epoch] 173, idx] 599 loss] 30.188995392993093\n",
      "\n"
     ]
    },
    {
     "name": "stderr",
     "output_type": "stream",
     "text": [
      "\r",
      "  6%|▌         | 173/3000 [02:50<45:36,  1.03it/s]"
     ]
    },
    {
     "name": "stdout",
     "output_type": "stream",
     "text": [
      "\n",
      "Train] epoch] 174, idx] 99 loss] 50.90454023890197\n",
      "\n",
      "Train] epoch] 174, idx] 199 loss] 32.647578090429306\n",
      "\n",
      "Train] epoch] 174, idx] 299 loss] 28.153077386319637\n",
      "\n",
      "Train] epoch] 174, idx] 399 loss] 33.72600420191884\n",
      "\n",
      "Train] epoch] 174, idx] 499 loss] 31.587340973317623\n",
      "\n"
     ]
    },
    {
     "name": "stderr",
     "output_type": "stream",
     "text": [
      "\r",
      "  6%|▌         | 174/3000 [02:51<45:44,  1.03it/s]"
     ]
    },
    {
     "name": "stdout",
     "output_type": "stream",
     "text": [
      "Train] epoch] 174, idx] 599 loss] 32.353997856378555\n",
      "\n",
      "\n",
      "Train] epoch] 175, idx] 99 loss] 54.242832927033305\n",
      "\n",
      "Train] epoch] 175, idx] 199 loss] 29.8288168720901\n",
      "\n",
      "Train] epoch] 175, idx] 299 loss] 31.655742652714252\n",
      "\n",
      "Train] epoch] 175, idx] 399 loss] 29.427898947149515\n",
      "\n",
      "Train] epoch] 175, idx] 499 loss] 33.72759245708585\n",
      "\n",
      "Train] epoch] 175, idx] 599 loss] 31.38693029433489\n",
      "\n"
     ]
    },
    {
     "name": "stderr",
     "output_type": "stream",
     "text": [
      "\r",
      "  6%|▌         | 175/3000 [02:52<45:42,  1.03it/s]"
     ]
    },
    {
     "name": "stdout",
     "output_type": "stream",
     "text": [
      "\n",
      "Train] epoch] 176, idx] 99 loss] 50.672167241573334\n",
      "\n",
      "Train] epoch] 176, idx] 199 loss] 35.780689902603626\n",
      "\n",
      "Train] epoch] 176, idx] 299 loss] 35.82167672365904\n",
      "\n",
      "Train] epoch] 176, idx] 399 loss] 32.60810585319996\n",
      "\n",
      "Train] epoch] 176, idx] 499 loss] 28.978694960474968\n",
      "\n"
     ]
    },
    {
     "name": "stderr",
     "output_type": "stream",
     "text": [
      "\r",
      "  6%|▌         | 176/3000 [02:53<45:30,  1.03it/s]"
     ]
    },
    {
     "name": "stdout",
     "output_type": "stream",
     "text": [
      "Train] epoch] 176, idx] 599 loss] 29.89324564114213\n",
      "\n",
      "\n",
      "Train] epoch] 177, idx] 99 loss] 52.10198539122939\n",
      "\n",
      "Train] epoch] 177, idx] 199 loss] 32.42272973433137\n",
      "\n",
      "Train] epoch] 177, idx] 299 loss] 33.23576531559229\n",
      "\n",
      "Train] epoch] 177, idx] 399 loss] 32.526537124067545\n",
      "\n",
      "Train] epoch] 177, idx] 499 loss] 28.9919723123312\n",
      "\n",
      "Train] epoch] 177, idx] 599 loss] 28.596855651587248\n",
      "\n"
     ]
    },
    {
     "name": "stderr",
     "output_type": "stream",
     "text": [
      "\r",
      "  6%|▌         | 177/3000 [02:54<45:25,  1.04it/s]"
     ]
    },
    {
     "name": "stdout",
     "output_type": "stream",
     "text": [
      "\n",
      "Train] epoch] 178, idx] 99 loss] 53.03558075428009\n",
      "\n",
      "Train] epoch] 178, idx] 199 loss] 34.79840584471822\n",
      "\n",
      "Train] epoch] 178, idx] 299 loss] 33.48089425638318\n",
      "\n",
      "Train] epoch] 178, idx] 399 loss] 29.26593393087387\n",
      "\n",
      "Train] epoch] 178, idx] 499 loss] 28.889011040329933\n",
      "\n"
     ]
    },
    {
     "name": "stderr",
     "output_type": "stream",
     "text": [
      "\r",
      "  6%|▌         | 178/3000 [02:55<46:14,  1.02it/s]"
     ]
    },
    {
     "name": "stdout",
     "output_type": "stream",
     "text": [
      "Train] epoch] 178, idx] 599 loss] 29.420004103332758\n",
      "\n",
      "\n",
      "Train] epoch] 179, idx] 99 loss] 47.03458422794938\n",
      "\n",
      "Train] epoch] 179, idx] 199 loss] 32.55165759474039\n",
      "\n",
      "Train] epoch] 179, idx] 299 loss] 34.43357603251934\n",
      "\n",
      "Train] epoch] 179, idx] 399 loss] 33.3568977303803\n",
      "\n",
      "Train] epoch] 179, idx] 499 loss] 34.590280160307884\n",
      "\n",
      "Train] epoch] 179, idx] 599 loss] 31.579851262271404\n",
      "\n"
     ]
    },
    {
     "name": "stderr",
     "output_type": "stream",
     "text": [
      "\r",
      "  6%|▌         | 179/3000 [02:56<46:59,  1.00it/s]"
     ]
    },
    {
     "name": "stdout",
     "output_type": "stream",
     "text": [
      "\n",
      "Train] epoch] 180, idx] 99 loss] 51.33692593127489\n",
      "\n",
      "Train] epoch] 180, idx] 199 loss] 31.41210002452135\n",
      "\n",
      "Train] epoch] 180, idx] 299 loss] 33.680102322250605\n",
      "\n",
      "Train] epoch] 180, idx] 399 loss] 30.328371869400144\n",
      "\n",
      "Train] epoch] 180, idx] 499 loss] 29.71545686200261\n",
      "\n"
     ]
    },
    {
     "name": "stderr",
     "output_type": "stream",
     "text": [
      "\r",
      "  6%|▌         | 180/3000 [02:57<47:25,  1.01s/it]"
     ]
    },
    {
     "name": "stdout",
     "output_type": "stream",
     "text": [
      "Train] epoch] 180, idx] 599 loss] 31.01871659606695\n",
      "\n",
      "\n",
      "Train] epoch] 181, idx] 99 loss] 53.53018325008452\n",
      "\n",
      "Train] epoch] 181, idx] 199 loss] 30.722079534083605\n",
      "\n",
      "Train] epoch] 181, idx] 299 loss] 29.611769571900368\n",
      "\n",
      "Train] epoch] 181, idx] 399 loss] 35.269123915582895\n",
      "\n",
      "Train] epoch] 181, idx] 499 loss] 33.765846598893404\n",
      "\n",
      "Train] epoch] 181, idx] 599 loss] 33.06649652868509\n",
      "\n"
     ]
    },
    {
     "name": "stderr",
     "output_type": "stream",
     "text": [
      "\r",
      "  6%|▌         | 181/3000 [02:58<47:30,  1.01s/it]"
     ]
    },
    {
     "name": "stdout",
     "output_type": "stream",
     "text": [
      "\n",
      "Train] epoch] 182, idx] 99 loss] 56.01257766969502\n",
      "\n",
      "Train] epoch] 182, idx] 199 loss] 31.095970753580332\n",
      "\n",
      "Train] epoch] 182, idx] 299 loss] 31.513495959341526\n",
      "\n",
      "Train] epoch] 182, idx] 399 loss] 27.855932164937258\n",
      "\n",
      "Train] epoch] 182, idx] 499 loss] 29.162420134991407\n",
      "\n"
     ]
    },
    {
     "name": "stderr",
     "output_type": "stream",
     "text": [
      "\r",
      "  6%|▌         | 182/3000 [02:59<47:30,  1.01s/it]"
     ]
    },
    {
     "name": "stdout",
     "output_type": "stream",
     "text": [
      "Train] epoch] 182, idx] 599 loss] 30.954537328332663\n",
      "\n",
      "\n",
      "Train] epoch] 183, idx] 99 loss] 51.898842277005315\n",
      "\n",
      "Train] epoch] 183, idx] 199 loss] 35.08103295043111\n",
      "\n",
      "Train] epoch] 183, idx] 299 loss] 29.48744409531355\n",
      "\n",
      "Train] epoch] 183, idx] 399 loss] 32.78052192553878\n",
      "\n",
      "Train] epoch] 183, idx] 499 loss] 32.6269087549299\n",
      "\n",
      "Train] epoch] 183, idx] 599 loss] 30.245001047849655\n",
      "\n"
     ]
    },
    {
     "name": "stderr",
     "output_type": "stream",
     "text": [
      "\r",
      "  6%|▌         | 183/3000 [03:00<48:16,  1.03s/it]"
     ]
    },
    {
     "name": "stdout",
     "output_type": "stream",
     "text": [
      "\n",
      "Train] epoch] 184, idx] 99 loss] 52.93723579123616\n",
      "\n",
      "Train] epoch] 184, idx] 199 loss] 30.55023167654872\n",
      "\n",
      "Train] epoch] 184, idx] 299 loss] 30.163775140419602\n",
      "\n",
      "Train] epoch] 184, idx] 399 loss] 28.57993295788765\n",
      "\n",
      "Train] epoch] 184, idx] 499 loss] 31.596253238618374\n",
      "\n"
     ]
    },
    {
     "name": "stderr",
     "output_type": "stream",
     "text": [
      "\r",
      "  6%|▌         | 184/3000 [03:01<47:29,  1.01s/it]"
     ]
    },
    {
     "name": "stdout",
     "output_type": "stream",
     "text": [
      "Train] epoch] 184, idx] 599 loss] 33.82084554806352\n",
      "\n",
      "\n",
      "Train] epoch] 185, idx] 99 loss] 53.92147310450673\n",
      "\n",
      "Train] epoch] 185, idx] 199 loss] 35.11060596071184\n",
      "\n",
      "Train] epoch] 185, idx] 299 loss] 28.52941943705082\n",
      "\n",
      "Train] epoch] 185, idx] 399 loss] 28.835045911371708\n",
      "\n",
      "Train] epoch] 185, idx] 499 loss] 36.168616626411676\n",
      "\n",
      "Train] epoch] 185, idx] 599 loss] 28.627509396523237\n",
      "\n"
     ]
    },
    {
     "name": "stderr",
     "output_type": "stream",
     "text": [
      "\r",
      "  6%|▌         | 185/3000 [03:02<47:38,  1.02s/it]"
     ]
    },
    {
     "name": "stdout",
     "output_type": "stream",
     "text": [
      "\n",
      "Train] epoch] 186, idx] 99 loss] 51.04966533742845\n",
      "\n",
      "Train] epoch] 186, idx] 199 loss] 28.079558171331882\n",
      "\n",
      "Train] epoch] 186, idx] 299 loss] 34.30369298905134\n",
      "\n",
      "Train] epoch] 186, idx] 399 loss] 32.945595145225525\n",
      "\n",
      "Train] epoch] 186, idx] 499 loss] 32.538168620318174\n",
      "\n"
     ]
    },
    {
     "name": "stderr",
     "output_type": "stream",
     "text": [
      "\r",
      "  6%|▌         | 186/3000 [03:03<47:45,  1.02s/it]"
     ]
    },
    {
     "name": "stdout",
     "output_type": "stream",
     "text": [
      "Train] epoch] 186, idx] 599 loss] 34.355359621346\n",
      "\n",
      "\n",
      "Train] epoch] 187, idx] 99 loss] 53.42598181962967\n",
      "\n",
      "Train] epoch] 187, idx] 199 loss] 25.112926225177944\n",
      "\n",
      "Train] epoch] 187, idx] 299 loss] 33.5993642359972\n",
      "\n",
      "Train] epoch] 187, idx] 399 loss] 31.29232245311141\n",
      "\n",
      "Train] epoch] 187, idx] 499 loss] 35.68283906951547\n",
      "\n",
      "Train] epoch] 187, idx] 599 loss] 30.896305600181222\n",
      "\n"
     ]
    },
    {
     "name": "stderr",
     "output_type": "stream",
     "text": [
      "\r",
      "  6%|▌         | 187/3000 [03:04<47:29,  1.01s/it]"
     ]
    },
    {
     "name": "stdout",
     "output_type": "stream",
     "text": [
      "\n",
      "Train] epoch] 188, idx] 99 loss] 54.54136364534497\n",
      "\n",
      "Train] epoch] 188, idx] 199 loss] 32.60768477246165\n",
      "\n",
      "Train] epoch] 188, idx] 299 loss] 30.43865066021681\n",
      "\n",
      "Train] epoch] 188, idx] 399 loss] 34.836838979274035\n",
      "\n",
      "Train] epoch] 188, idx] 499 loss] 29.870798863470554\n",
      "\n"
     ]
    },
    {
     "name": "stderr",
     "output_type": "stream",
     "text": [
      "\r",
      "  6%|▋         | 188/3000 [03:05<47:16,  1.01s/it]"
     ]
    },
    {
     "name": "stdout",
     "output_type": "stream",
     "text": [
      "Train] epoch] 188, idx] 599 loss] 29.171317033469677\n",
      "\n",
      "\n",
      "Train] epoch] 189, idx] 99 loss] 52.14126593526453\n",
      "\n",
      "Train] epoch] 189, idx] 199 loss] 32.01697959378362\n",
      "\n",
      "Train] epoch] 189, idx] 299 loss] 29.741215988993645\n",
      "\n",
      "Train] epoch] 189, idx] 399 loss] 33.52567296847701\n",
      "\n",
      "Train] epoch] 189, idx] 499 loss] 31.662206944078207\n",
      "\n",
      "Train] epoch] 189, idx] 599 loss] 27.713290257379413\n",
      "\n"
     ]
    },
    {
     "name": "stderr",
     "output_type": "stream",
     "text": [
      "\r",
      "  6%|▋         | 189/3000 [03:06<48:06,  1.03s/it]"
     ]
    },
    {
     "name": "stdout",
     "output_type": "stream",
     "text": [
      "\n",
      "Train] epoch] 190, idx] 99 loss] 51.65346905775368\n",
      "\n",
      "Train] epoch] 190, idx] 199 loss] 31.9296032525599\n",
      "\n",
      "Train] epoch] 190, idx] 299 loss] 30.37158527225256\n",
      "\n",
      "Train] epoch] 190, idx] 399 loss] 30.03075755946338\n",
      "\n",
      "Train] epoch] 190, idx] 499 loss] 32.86020692810416\n",
      "\n"
     ]
    },
    {
     "name": "stderr",
     "output_type": "stream",
     "text": [
      "\r",
      "  6%|▋         | 190/3000 [03:07<48:11,  1.03s/it]"
     ]
    },
    {
     "name": "stdout",
     "output_type": "stream",
     "text": [
      "Train] epoch] 190, idx] 599 loss] 33.92043488845229\n",
      "\n",
      "\n",
      "Train] epoch] 191, idx] 99 loss] 50.11333051323891\n",
      "\n",
      "Train] epoch] 191, idx] 199 loss] 34.14212145470083\n",
      "\n",
      "Train] epoch] 191, idx] 299 loss] 34.00909749418497\n",
      "\n",
      "Train] epoch] 191, idx] 399 loss] 31.259695626795292\n",
      "\n",
      "Train] epoch] 191, idx] 499 loss] 30.261637618765235\n",
      "\n",
      "Train] epoch] 191, idx] 599 loss] 28.511433716863394\n",
      "\n"
     ]
    },
    {
     "name": "stderr",
     "output_type": "stream",
     "text": [
      "\r",
      "  6%|▋         | 191/3000 [03:08<47:50,  1.02s/it]"
     ]
    },
    {
     "name": "stdout",
     "output_type": "stream",
     "text": [
      "\n",
      "Train] epoch] 192, idx] 99 loss] 51.94660185277462\n",
      "\n",
      "Train] epoch] 192, idx] 199 loss] 33.58322837203741\n",
      "\n",
      "Train] epoch] 192, idx] 299 loss] 31.192409036681056\n",
      "\n",
      "Train] epoch] 192, idx] 399 loss] 31.493927773088217\n",
      "\n",
      "Train] epoch] 192, idx] 499 loss] 30.11091884225607\n",
      "\n"
     ]
    },
    {
     "name": "stderr",
     "output_type": "stream",
     "text": [
      "\r",
      "  6%|▋         | 192/3000 [03:09<47:55,  1.02s/it]"
     ]
    },
    {
     "name": "stdout",
     "output_type": "stream",
     "text": [
      "Train] epoch] 192, idx] 599 loss] 34.43070586398244\n",
      "\n",
      "\n",
      "Train] epoch] 193, idx] 99 loss] 53.54130156338215\n",
      "\n",
      "Train] epoch] 193, idx] 199 loss] 32.60261278599501\n",
      "\n",
      "Train] epoch] 193, idx] 299 loss] 31.834029890596867\n",
      "\n",
      "Train] epoch] 193, idx] 399 loss] 33.833406602963805\n",
      "\n",
      "Train] epoch] 193, idx] 499 loss] 30.30455395579338\n",
      "\n",
      "Train] epoch] 193, idx] 599 loss] 28.424287270754576\n",
      "\n"
     ]
    },
    {
     "name": "stderr",
     "output_type": "stream",
     "text": [
      "\r",
      "  6%|▋         | 193/3000 [03:10<47:30,  1.02s/it]"
     ]
    },
    {
     "name": "stdout",
     "output_type": "stream",
     "text": [
      "\n",
      "Train] epoch] 194, idx] 99 loss] 50.4309807382524\n",
      "\n",
      "Train] epoch] 194, idx] 199 loss] 33.894207678735256\n",
      "\n",
      "Train] epoch] 194, idx] 299 loss] 29.185809955000877\n",
      "\n",
      "Train] epoch] 194, idx] 399 loss] 28.626742547377944\n",
      "\n",
      "Train] epoch] 194, idx] 499 loss] 33.267461113631725\n",
      "\n"
     ]
    },
    {
     "name": "stderr",
     "output_type": "stream",
     "text": [
      "\r",
      "  6%|▋         | 194/3000 [03:11<47:09,  1.01s/it]"
     ]
    },
    {
     "name": "stdout",
     "output_type": "stream",
     "text": [
      "Train] epoch] 194, idx] 599 loss] 27.513434313237667\n",
      "\n",
      "\n",
      "Train] epoch] 195, idx] 99 loss] 46.49584085121751\n",
      "\n",
      "Train] epoch] 195, idx] 199 loss] 31.90279375575483\n",
      "\n",
      "Train] epoch] 195, idx] 299 loss] 29.926527183502913\n",
      "\n",
      "Train] epoch] 195, idx] 399 loss] 33.61849824152887\n",
      "\n",
      "Train] epoch] 195, idx] 499 loss] 31.571093540638685\n",
      "\n",
      "Train] epoch] 195, idx] 599 loss] 33.10232059843838\n",
      "\n"
     ]
    },
    {
     "name": "stderr",
     "output_type": "stream",
     "text": [
      "\r",
      "  6%|▋         | 195/3000 [03:12<47:28,  1.02s/it]"
     ]
    },
    {
     "name": "stdout",
     "output_type": "stream",
     "text": [
      "\n",
      "Train] epoch] 196, idx] 99 loss] 50.927058935165405\n",
      "\n",
      "Train] epoch] 196, idx] 199 loss] 32.32661994919181\n",
      "\n",
      "Train] epoch] 196, idx] 299 loss] 32.91328503564\n",
      "\n",
      "Train] epoch] 196, idx] 399 loss] 31.50204910337925\n",
      "\n",
      "Train] epoch] 196, idx] 499 loss] 28.508451525121927\n",
      "\n"
     ]
    },
    {
     "name": "stderr",
     "output_type": "stream",
     "text": [
      "\r",
      "  7%|▋         | 196/3000 [03:13<47:43,  1.02s/it]"
     ]
    },
    {
     "name": "stdout",
     "output_type": "stream",
     "text": [
      "Train] epoch] 196, idx] 599 loss] 31.905876472592354\n",
      "\n",
      "\n",
      "Train] epoch] 197, idx] 99 loss] 51.09711227938533\n",
      "\n",
      "Train] epoch] 197, idx] 199 loss] 30.251265458762646\n",
      "\n",
      "Train] epoch] 197, idx] 299 loss] 30.53307728841901\n",
      "\n",
      "Train] epoch] 197, idx] 399 loss] 32.165748154744506\n",
      "\n",
      "Train] epoch] 197, idx] 499 loss] 31.12245442532003\n",
      "\n",
      "Train] epoch] 197, idx] 599 loss] 33.03046425431967\n",
      "\n"
     ]
    },
    {
     "name": "stderr",
     "output_type": "stream",
     "text": [
      "\r",
      "  7%|▋         | 197/3000 [03:14<47:51,  1.02s/it]"
     ]
    },
    {
     "name": "stdout",
     "output_type": "stream",
     "text": [
      "\n",
      "Train] epoch] 198, idx] 99 loss] 48.01479076221585\n",
      "\n",
      "Train] epoch] 198, idx] 199 loss] 27.73607610538602\n",
      "\n",
      "Train] epoch] 198, idx] 299 loss] 32.38387264497578\n",
      "\n",
      "Train] epoch] 198, idx] 399 loss] 37.18029437959194\n",
      "\n",
      "Train] epoch] 198, idx] 499 loss] 34.45665604248643\n",
      "\n"
     ]
    },
    {
     "name": "stderr",
     "output_type": "stream",
     "text": [
      "\r",
      "  7%|▋         | 198/3000 [03:15<48:35,  1.04s/it]"
     ]
    },
    {
     "name": "stdout",
     "output_type": "stream",
     "text": [
      "Train] epoch] 198, idx] 599 loss] 31.262016255408525\n",
      "\n",
      "\n",
      "Train] epoch] 199, idx] 99 loss] 53.02262149378657\n",
      "\n",
      "Train] epoch] 199, idx] 199 loss] 32.50258862413466\n",
      "\n",
      "Train] epoch] 199, idx] 299 loss] 30.65760588273406\n",
      "\n",
      "Train] epoch] 199, idx] 399 loss] 29.446108270436525\n",
      "\n",
      "Train] epoch] 199, idx] 499 loss] 31.41053791716695\n",
      "\n",
      "Train] epoch] 199, idx] 599 loss] 35.72370693087578\n",
      "\n"
     ]
    },
    {
     "name": "stderr",
     "output_type": "stream",
     "text": [
      "\r",
      "  7%|▋         | 199/3000 [03:16<47:36,  1.02s/it]"
     ]
    },
    {
     "name": "stdout",
     "output_type": "stream",
     "text": [
      "\n",
      "Train] epoch] 200, idx] 99 loss] 55.74811964482069\n",
      "\n",
      "Train] epoch] 200, idx] 199 loss] 31.62030702084303\n",
      "\n",
      "Train] epoch] 200, idx] 299 loss] 29.147445559501648\n",
      "\n",
      "Train] epoch] 200, idx] 399 loss] 28.693542055785656\n",
      "\n",
      "Train] epoch] 200, idx] 499 loss] 33.313695687800646\n",
      "\n"
     ]
    },
    {
     "name": "stderr",
     "output_type": "stream",
     "text": [
      "\r",
      "  7%|▋         | 200/3000 [03:17<46:39,  1.00it/s]"
     ]
    },
    {
     "name": "stdout",
     "output_type": "stream",
     "text": [
      "Train] epoch] 200, idx] 599 loss] 30.222053717821836\n",
      "\n",
      "\n",
      "Train] epoch] 201, idx] 99 loss] 49.583909910172224\n",
      "\n",
      "Train] epoch] 201, idx] 199 loss] 31.757213751785457\n",
      "\n",
      "Train] epoch] 201, idx] 299 loss] 29.737260453402996\n",
      "\n",
      "Train] epoch] 201, idx] 399 loss] 31.88402757048607\n",
      "\n",
      "Train] epoch] 201, idx] 499 loss] 32.569792702794075\n",
      "\n",
      "Train] epoch] 201, idx] 599 loss] 33.38063058629632\n",
      "\n"
     ]
    },
    {
     "name": "stderr",
     "output_type": "stream",
     "text": [
      "\r",
      "  7%|▋         | 201/3000 [03:18<46:16,  1.01it/s]"
     ]
    },
    {
     "name": "stdout",
     "output_type": "stream",
     "text": [
      "\n",
      "Train] epoch] 202, idx] 99 loss] 51.316373471170664\n",
      "\n",
      "Train] epoch] 202, idx] 199 loss] 31.80970648303628\n",
      "\n",
      "Train] epoch] 202, idx] 299 loss] 32.619792968034744\n",
      "\n",
      "Train] epoch] 202, idx] 399 loss] 31.10933703929186\n",
      "\n",
      "Train] epoch] 202, idx] 499 loss] 29.4625046774745\n",
      "\n"
     ]
    },
    {
     "name": "stderr",
     "output_type": "stream",
     "text": [
      "\r",
      "  7%|▋         | 202/3000 [03:19<45:42,  1.02it/s]"
     ]
    },
    {
     "name": "stdout",
     "output_type": "stream",
     "text": [
      "Train] epoch] 202, idx] 599 loss] 29.49343940243125\n",
      "\n",
      "\n",
      "Train] epoch] 203, idx] 99 loss] 52.28103013150394\n",
      "\n",
      "Train] epoch] 203, idx] 199 loss] 32.10872935131192\n",
      "\n",
      "Train] epoch] 203, idx] 299 loss] 31.373650457710028\n",
      "\n",
      "Train] epoch] 203, idx] 399 loss] 30.901508182287216\n",
      "\n",
      "Train] epoch] 203, idx] 499 loss] 31.562162501737475\n",
      "\n",
      "Train] epoch] 203, idx] 599 loss] 31.662316393107176\n",
      "\n"
     ]
    },
    {
     "name": "stderr",
     "output_type": "stream",
     "text": [
      "\r",
      "  7%|▋         | 203/3000 [03:20<45:19,  1.03it/s]"
     ]
    },
    {
     "name": "stdout",
     "output_type": "stream",
     "text": [
      "\n",
      "Train] epoch] 204, idx] 99 loss] 53.826898988336325\n",
      "\n",
      "Train] epoch] 204, idx] 199 loss] 30.516590930521488\n",
      "\n",
      "Train] epoch] 204, idx] 299 loss] 27.82081338763237\n",
      "\n",
      "Train] epoch] 204, idx] 399 loss] 32.54663460701704\n",
      "\n",
      "Train] epoch] 204, idx] 499 loss] 31.828372973948717\n",
      "\n"
     ]
    },
    {
     "name": "stderr",
     "output_type": "stream",
     "text": [
      "\r",
      "  7%|▋         | 204/3000 [03:21<45:09,  1.03it/s]"
     ]
    },
    {
     "name": "stdout",
     "output_type": "stream",
     "text": [
      "Train] epoch] 204, idx] 599 loss] 30.912928922101855\n",
      "\n",
      "\n",
      "Train] epoch] 205, idx] 99 loss] 50.61093285121024\n",
      "\n",
      "Train] epoch] 205, idx] 199 loss] 33.62955973483622\n",
      "\n",
      "Train] epoch] 205, idx] 299 loss] 30.64669805020094\n",
      "\n",
      "Train] epoch] 205, idx] 399 loss] 31.0147932395339\n",
      "\n",
      "Train] epoch] 205, idx] 499 loss] 32.35528860986233\n",
      "\n",
      "Train] epoch] 205, idx] 599 loss] 29.745115600526333\n",
      "\n"
     ]
    },
    {
     "name": "stderr",
     "output_type": "stream",
     "text": [
      "\r",
      "  7%|▋         | 205/3000 [03:22<45:15,  1.03it/s]"
     ]
    },
    {
     "name": "stdout",
     "output_type": "stream",
     "text": [
      "\n",
      "Train] epoch] 206, idx] 99 loss] 55.87972057238221\n",
      "\n",
      "Train] epoch] 206, idx] 199 loss] 31.7615065574646\n",
      "\n",
      "Train] epoch] 206, idx] 299 loss] 32.001698195934296\n",
      "\n",
      "Train] epoch] 206, idx] 399 loss] 25.885661639273167\n",
      "\n",
      "Train] epoch] 206, idx] 499 loss] 27.18402460590005\n",
      "\n"
     ]
    },
    {
     "name": "stderr",
     "output_type": "stream",
     "text": [
      "\r",
      "  7%|▋         | 206/3000 [03:23<45:20,  1.03it/s]"
     ]
    },
    {
     "name": "stdout",
     "output_type": "stream",
     "text": [
      "Train] epoch] 206, idx] 599 loss] 30.484421111643314\n",
      "\n",
      "\n",
      "Train] epoch] 207, idx] 99 loss] 52.27118616551161\n",
      "\n",
      "Train] epoch] 207, idx] 199 loss] 32.59303457662463\n",
      "\n",
      "Train] epoch] 207, idx] 299 loss] 33.496129147708416\n",
      "\n",
      "Train] epoch] 207, idx] 399 loss] 28.53987268730998\n",
      "\n",
      "Train] epoch] 207, idx] 499 loss] 29.664541888982058\n",
      "\n",
      "Train] epoch] 207, idx] 599 loss] 31.4558469876647\n",
      "\n"
     ]
    },
    {
     "name": "stderr",
     "output_type": "stream",
     "text": [
      "\r",
      "  7%|▋         | 207/3000 [03:24<45:04,  1.03it/s]"
     ]
    },
    {
     "name": "stdout",
     "output_type": "stream",
     "text": [
      "\n",
      "Train] epoch] 208, idx] 99 loss] 50.65663818642497\n",
      "\n",
      "Train] epoch] 208, idx] 199 loss] 35.0612317584455\n",
      "\n",
      "Train] epoch] 208, idx] 299 loss] 30.56071785464883\n",
      "\n",
      "Train] epoch] 208, idx] 399 loss] 29.433652779087424\n",
      "\n",
      "Train] epoch] 208, idx] 499 loss] 29.135465973988175\n",
      "\n"
     ]
    },
    {
     "name": "stderr",
     "output_type": "stream",
     "text": [
      "\r",
      "  7%|▋         | 208/3000 [03:25<44:50,  1.04it/s]"
     ]
    },
    {
     "name": "stdout",
     "output_type": "stream",
     "text": [
      "Train] epoch] 208, idx] 599 loss] 33.78000504337251\n",
      "\n",
      "\n",
      "Train] epoch] 209, idx] 99 loss] 52.23200022801757\n",
      "\n",
      "Train] epoch] 209, idx] 199 loss] 30.491801355034113\n",
      "\n",
      "Train] epoch] 209, idx] 299 loss] 28.90363147109747\n",
      "\n",
      "Train] epoch] 209, idx] 399 loss] 26.382505330257118\n",
      "\n",
      "Train] epoch] 209, idx] 499 loss] 38.860361594706774\n",
      "\n",
      "Train] epoch] 209, idx] 599 loss] 30.33768749050796\n",
      "\n"
     ]
    },
    {
     "name": "stderr",
     "output_type": "stream",
     "text": [
      "\r",
      "  7%|▋         | 209/3000 [03:26<44:43,  1.04it/s]"
     ]
    },
    {
     "name": "stdout",
     "output_type": "stream",
     "text": [
      "\n",
      "Train] epoch] 210, idx] 99 loss] 55.80089184641838\n",
      "\n",
      "Train] epoch] 210, idx] 199 loss] 28.927005296573043\n",
      "\n",
      "Train] epoch] 210, idx] 299 loss] 33.10260257124901\n",
      "\n",
      "Train] epoch] 210, idx] 399 loss] 30.709780044853687\n",
      "\n",
      "Train] epoch] 210, idx] 499 loss] 27.949752923101187\n",
      "\n"
     ]
    },
    {
     "name": "stderr",
     "output_type": "stream",
     "text": [
      "\r",
      "  7%|▋         | 210/3000 [03:27<44:37,  1.04it/s]"
     ]
    },
    {
     "name": "stdout",
     "output_type": "stream",
     "text": [
      "Train] epoch] 210, idx] 599 loss] 34.31959883868694\n",
      "\n",
      "\n",
      "Train] epoch] 211, idx] 99 loss] 50.460037901997566\n",
      "\n",
      "Train] epoch] 211, idx] 199 loss] 32.236588306725025\n",
      "\n",
      "Train] epoch] 211, idx] 299 loss] 28.894863836467266\n",
      "\n",
      "Train] epoch] 211, idx] 399 loss] 26.060355324298143\n",
      "\n",
      "Train] epoch] 211, idx] 499 loss] 29.532783191651106\n",
      "\n",
      "Train] epoch] 211, idx] 599 loss] 28.781913282349706\n",
      "\n"
     ]
    },
    {
     "name": "stderr",
     "output_type": "stream",
     "text": [
      "\r",
      "  7%|▋         | 211/3000 [03:28<44:31,  1.04it/s]"
     ]
    },
    {
     "name": "stdout",
     "output_type": "stream",
     "text": [
      "\n",
      "Train] epoch] 212, idx] 99 loss] 59.9829992800951\n",
      "\n",
      "Train] epoch] 212, idx] 199 loss] 32.12230099365115\n",
      "\n",
      "Train] epoch] 212, idx] 299 loss] 29.174928871914744\n",
      "\n",
      "Train] epoch] 212, idx] 399 loss] 30.62144642136991\n",
      "\n",
      "Train] epoch] 212, idx] 499 loss] 31.805676275864244\n",
      "\n"
     ]
    },
    {
     "name": "stderr",
     "output_type": "stream",
     "text": [
      "\r",
      "  7%|▋         | 212/3000 [03:29<44:26,  1.05it/s]"
     ]
    },
    {
     "name": "stdout",
     "output_type": "stream",
     "text": [
      "Train] epoch] 212, idx] 599 loss] 30.57432870566845\n",
      "\n",
      "\n",
      "Train] epoch] 213, idx] 99 loss] 45.24352025985718\n",
      "\n",
      "Train] epoch] 213, idx] 199 loss] 29.434536105021834\n",
      "\n",
      "Train] epoch] 213, idx] 299 loss] 32.53982352465391\n",
      "\n",
      "Train] epoch] 213, idx] 399 loss] 31.08632969483733\n",
      "\n",
      "Train] epoch] 213, idx] 499 loss] 30.543586203828454\n",
      "\n",
      "Train] epoch] 213, idx] 599 loss] 34.12787563353777\n",
      "\n"
     ]
    },
    {
     "name": "stderr",
     "output_type": "stream",
     "text": [
      "\r",
      "  7%|▋         | 213/3000 [03:30<45:08,  1.03it/s]"
     ]
    },
    {
     "name": "stdout",
     "output_type": "stream",
     "text": [
      "\n",
      "Train] epoch] 214, idx] 99 loss] 53.38342493586242\n",
      "\n",
      "Train] epoch] 214, idx] 199 loss] 32.16283305361867\n",
      "\n",
      "Train] epoch] 214, idx] 299 loss] 33.13513137027621\n",
      "\n",
      "Train] epoch] 214, idx] 399 loss] 31.5531974285841\n",
      "\n",
      "Train] epoch] 214, idx] 499 loss] 28.617856461554766\n",
      "\n"
     ]
    },
    {
     "name": "stderr",
     "output_type": "stream",
     "text": [
      "\r",
      "  7%|▋         | 214/3000 [03:31<45:23,  1.02it/s]"
     ]
    },
    {
     "name": "stdout",
     "output_type": "stream",
     "text": [
      "Train] epoch] 214, idx] 599 loss] 31.072856426239014\n",
      "\n",
      "\n",
      "Train] epoch] 215, idx] 99 loss] 49.76648157835007\n",
      "\n",
      "Train] epoch] 215, idx] 199 loss] 30.417021244764328\n",
      "\n",
      "Train] epoch] 215, idx] 299 loss] 31.46522125042975\n",
      "\n",
      "Train] epoch] 215, idx] 399 loss] 30.243021428585052\n",
      "\n",
      "Train] epoch] 215, idx] 499 loss] 29.451518857851624\n",
      "\n",
      "Train] epoch] 215, idx] 599 loss] 30.969416297972202\n",
      "\n"
     ]
    },
    {
     "name": "stderr",
     "output_type": "stream",
     "text": [
      "\r",
      "  7%|▋         | 215/3000 [03:32<45:15,  1.03it/s]"
     ]
    },
    {
     "name": "stdout",
     "output_type": "stream",
     "text": [
      "\n",
      "Train] epoch] 216, idx] 99 loss] 53.47819723933935\n",
      "\n",
      "Train] epoch] 216, idx] 199 loss] 29.45566652715206\n",
      "\n",
      "Train] epoch] 216, idx] 299 loss] 27.409083139151335\n",
      "\n",
      "Train] epoch] 216, idx] 399 loss] 29.57867607101798\n",
      "\n",
      "Train] epoch] 216, idx] 499 loss] 37.84005702286959\n",
      "\n"
     ]
    },
    {
     "name": "stderr",
     "output_type": "stream",
     "text": [
      "\r",
      "  7%|▋         | 216/3000 [03:32<44:58,  1.03it/s]"
     ]
    },
    {
     "name": "stdout",
     "output_type": "stream",
     "text": [
      "Train] epoch] 216, idx] 599 loss] 30.530533470213413\n",
      "\n",
      "\n",
      "Train] epoch] 217, idx] 99 loss] 49.85962972044945\n",
      "\n",
      "Train] epoch] 217, idx] 199 loss] 34.46039328351617\n",
      "\n",
      "Train] epoch] 217, idx] 299 loss] 33.47375450655818\n",
      "\n",
      "Train] epoch] 217, idx] 399 loss] 28.323806639760733\n",
      "\n",
      "Train] epoch] 217, idx] 499 loss] 31.06349965929985\n",
      "\n",
      "Train] epoch] 217, idx] 599 loss] 34.40293862298131\n",
      "\n"
     ]
    },
    {
     "name": "stderr",
     "output_type": "stream",
     "text": [
      "\r",
      "  7%|▋         | 217/3000 [03:33<45:04,  1.03it/s]"
     ]
    },
    {
     "name": "stdout",
     "output_type": "stream",
     "text": [
      "\n",
      "Train] epoch] 218, idx] 99 loss] 48.82730086520314\n",
      "\n",
      "Train] epoch] 218, idx] 199 loss] 29.314831644296646\n",
      "\n",
      "Train] epoch] 218, idx] 299 loss] 30.11334576830268\n",
      "\n",
      "Train] epoch] 218, idx] 399 loss] 30.637576013803482\n",
      "\n",
      "Train] epoch] 218, idx] 499 loss] 30.144204169511795\n",
      "\n"
     ]
    },
    {
     "name": "stderr",
     "output_type": "stream",
     "text": [
      "\r",
      "  7%|▋         | 218/3000 [03:34<44:44,  1.04it/s]"
     ]
    },
    {
     "name": "stdout",
     "output_type": "stream",
     "text": [
      "Train] epoch] 218, idx] 599 loss] 31.106302089989185\n",
      "\n",
      "\n",
      "Train] epoch] 219, idx] 99 loss] 56.33683301322162\n",
      "\n",
      "Train] epoch] 219, idx] 199 loss] 32.75641645491123\n",
      "\n",
      "Train] epoch] 219, idx] 299 loss] 32.56842112354934\n",
      "\n",
      "Train] epoch] 219, idx] 399 loss] 30.345815122127533\n",
      "\n",
      "Train] epoch] 219, idx] 499 loss] 31.966126069426537\n",
      "\n",
      "Train] epoch] 219, idx] 599 loss] 31.345304649323225\n",
      "\n"
     ]
    },
    {
     "name": "stderr",
     "output_type": "stream",
     "text": [
      "\r",
      "  7%|▋         | 219/3000 [03:35<44:38,  1.04it/s]"
     ]
    },
    {
     "name": "stdout",
     "output_type": "stream",
     "text": [
      "\n",
      "Train] epoch] 220, idx] 99 loss] 50.856098502874374\n",
      "\n",
      "Train] epoch] 220, idx] 199 loss] 26.759048976004124\n",
      "\n",
      "Train] epoch] 220, idx] 299 loss] 33.2978050801903\n",
      "\n",
      "Train] epoch] 220, idx] 399 loss] 34.42285157740116\n",
      "\n",
      "Train] epoch] 220, idx] 499 loss] 31.42351009696722\n",
      "\n"
     ]
    },
    {
     "name": "stderr",
     "output_type": "stream",
     "text": [
      "\r",
      "  7%|▋         | 220/3000 [03:36<44:36,  1.04it/s]"
     ]
    },
    {
     "name": "stdout",
     "output_type": "stream",
     "text": [
      "Train] epoch] 220, idx] 599 loss] 35.40144030749798\n",
      "\n",
      "\n",
      "Train] epoch] 221, idx] 99 loss] 47.7876499928534\n",
      "\n",
      "Train] epoch] 221, idx] 199 loss] 29.354686003178358\n",
      "\n",
      "Train] epoch] 221, idx] 299 loss] 33.655078671872616\n",
      "\n",
      "Train] epoch] 221, idx] 399 loss] 31.935143060982227\n",
      "\n",
      "Train] epoch] 221, idx] 499 loss] 33.18732334673405\n",
      "\n",
      "Train] epoch] 221, idx] 599 loss] 34.141455713659525\n",
      "\n"
     ]
    },
    {
     "name": "stderr",
     "output_type": "stream",
     "text": [
      "\r",
      "  7%|▋         | 221/3000 [03:37<45:04,  1.03it/s]"
     ]
    },
    {
     "name": "stdout",
     "output_type": "stream",
     "text": [
      "\n",
      "Train] epoch] 222, idx] 99 loss] 47.41624215990305\n",
      "\n",
      "Train] epoch] 222, idx] 199 loss] 28.84136376902461\n",
      "\n",
      "Train] epoch] 222, idx] 299 loss] 30.9447416998446\n",
      "\n",
      "Train] epoch] 222, idx] 399 loss] 31.938691958785057\n",
      "\n",
      "Train] epoch] 222, idx] 499 loss] 35.91463499516249\n",
      "\n"
     ]
    },
    {
     "name": "stderr",
     "output_type": "stream",
     "text": [
      "\r",
      "  7%|▋         | 222/3000 [03:38<44:52,  1.03it/s]"
     ]
    },
    {
     "name": "stdout",
     "output_type": "stream",
     "text": [
      "Train] epoch] 222, idx] 599 loss] 29.99074093811214\n",
      "\n",
      "\n",
      "Train] epoch] 223, idx] 99 loss] 54.50057089328766\n",
      "\n",
      "Train] epoch] 223, idx] 199 loss] 30.852915454655886\n",
      "\n",
      "Train] epoch] 223, idx] 299 loss] 29.131357990205288\n",
      "\n",
      "Train] epoch] 223, idx] 399 loss] 27.342319946736097\n",
      "\n",
      "Train] epoch] 223, idx] 499 loss] 30.68527065962553\n",
      "\n",
      "Train] epoch] 223, idx] 599 loss] 38.12610340490937\n",
      "\n"
     ]
    },
    {
     "name": "stderr",
     "output_type": "stream",
     "text": [
      "\r",
      "  7%|▋         | 223/3000 [03:39<44:53,  1.03it/s]"
     ]
    },
    {
     "name": "stdout",
     "output_type": "stream",
     "text": [
      "\n",
      "Train] epoch] 224, idx] 99 loss] 49.38890638388693\n",
      "\n",
      "Train] epoch] 224, idx] 199 loss] 29.85178055614233\n",
      "\n",
      "Train] epoch] 224, idx] 299 loss] 30.00621878542006\n",
      "\n",
      "Train] epoch] 224, idx] 399 loss] 34.31106475368142\n",
      "\n",
      "Train] epoch] 224, idx] 499 loss] 34.38928022608161\n",
      "\n"
     ]
    },
    {
     "name": "stderr",
     "output_type": "stream",
     "text": [
      "\r",
      "  7%|▋         | 224/3000 [03:40<46:42,  1.01s/it]"
     ]
    },
    {
     "name": "stdout",
     "output_type": "stream",
     "text": [
      "Train] epoch] 224, idx] 599 loss] 33.65440847352147\n",
      "\n",
      "\n",
      "Train] epoch] 225, idx] 99 loss] 50.28239730000496\n",
      "\n",
      "Train] epoch] 225, idx] 199 loss] 28.166278379037976\n",
      "\n",
      "Train] epoch] 225, idx] 299 loss] 32.75282957032323\n",
      "\n",
      "Train] epoch] 225, idx] 399 loss] 32.63603829592466\n",
      "\n",
      "Train] epoch] 225, idx] 499 loss] 28.18623238801956\n",
      "\n",
      "Train] epoch] 225, idx] 599 loss] 35.170867290347815\n",
      "\n"
     ]
    },
    {
     "name": "stderr",
     "output_type": "stream",
     "text": [
      "\r",
      "  8%|▊         | 225/3000 [03:41<46:04,  1.00it/s]"
     ]
    },
    {
     "name": "stdout",
     "output_type": "stream",
     "text": [
      "\n",
      "Train] epoch] 226, idx] 99 loss] 55.735190097242594\n",
      "\n",
      "Train] epoch] 226, idx] 199 loss] 27.201742758974433\n",
      "\n",
      "Train] epoch] 226, idx] 299 loss] 30.583901956677437\n",
      "\n",
      "Train] epoch] 226, idx] 399 loss] 31.081002183258533\n",
      "\n",
      "Train] epoch] 226, idx] 499 loss] 31.360462710261345\n",
      "\n"
     ]
    },
    {
     "name": "stderr",
     "output_type": "stream",
     "text": [
      "\r",
      "  8%|▊         | 226/3000 [03:42<45:51,  1.01it/s]"
     ]
    },
    {
     "name": "stdout",
     "output_type": "stream",
     "text": [
      "Train] epoch] 226, idx] 599 loss] 31.99478804320097\n",
      "\n",
      "\n",
      "Train] epoch] 227, idx] 99 loss] 51.60066217184067\n",
      "\n",
      "Train] epoch] 227, idx] 199 loss] 30.15415341220796\n",
      "\n",
      "Train] epoch] 227, idx] 299 loss] 30.606508059427142\n",
      "\n",
      "Train] epoch] 227, idx] 399 loss] 32.44506258890033\n",
      "\n",
      "Train] epoch] 227, idx] 499 loss] 33.04836202412844\n",
      "\n",
      "Train] epoch] 227, idx] 599 loss] 31.25332745909691\n",
      "\n"
     ]
    },
    {
     "name": "stderr",
     "output_type": "stream",
     "text": [
      "\r",
      "  8%|▊         | 227/3000 [03:43<47:12,  1.02s/it]"
     ]
    },
    {
     "name": "stdout",
     "output_type": "stream",
     "text": [
      "\n",
      "Train] epoch] 228, idx] 99 loss] 52.17691159620881\n",
      "\n",
      "Train] epoch] 228, idx] 199 loss] 28.674790494143963\n",
      "\n",
      "Train] epoch] 228, idx] 299 loss] 31.108669029548764\n",
      "\n",
      "Train] epoch] 228, idx] 399 loss] 31.29798679612577\n",
      "\n",
      "Train] epoch] 228, idx] 499 loss] 34.72852098196745\n",
      "\n"
     ]
    },
    {
     "name": "stderr",
     "output_type": "stream",
     "text": [
      "\r",
      "  8%|▊         | 228/3000 [03:44<46:54,  1.02s/it]"
     ]
    },
    {
     "name": "stdout",
     "output_type": "stream",
     "text": [
      "Train] epoch] 228, idx] 599 loss] 31.340349655598402\n",
      "\n",
      "\n",
      "Train] epoch] 229, idx] 99 loss] 53.63029137998819\n",
      "\n",
      "Train] epoch] 229, idx] 199 loss] 27.816183414310217\n",
      "\n",
      "Train] epoch] 229, idx] 299 loss] 31.34679407812655\n",
      "\n",
      "Train] epoch] 229, idx] 399 loss] 33.598973374813795\n",
      "\n",
      "Train] epoch] 229, idx] 499 loss] 34.75113866478205\n",
      "\n",
      "Train] epoch] 229, idx] 599 loss] 26.306060526520014\n",
      "\n"
     ]
    },
    {
     "name": "stderr",
     "output_type": "stream",
     "text": [
      "\r",
      "  8%|▊         | 229/3000 [03:45<46:25,  1.01s/it]"
     ]
    },
    {
     "name": "stdout",
     "output_type": "stream",
     "text": [
      "\n",
      "Train] epoch] 230, idx] 99 loss] 51.86719121411443\n",
      "\n",
      "Train] epoch] 230, idx] 199 loss] 31.998404992744327\n",
      "\n",
      "Train] epoch] 230, idx] 299 loss] 29.81724059395492\n",
      "\n",
      "Train] epoch] 230, idx] 399 loss] 30.695609007030725\n",
      "\n",
      "Train] epoch] 230, idx] 499 loss] 29.101074047386646\n",
      "\n"
     ]
    },
    {
     "name": "stderr",
     "output_type": "stream",
     "text": [
      "\r",
      "  8%|▊         | 230/3000 [03:46<46:45,  1.01s/it]"
     ]
    },
    {
     "name": "stdout",
     "output_type": "stream",
     "text": [
      "Train] epoch] 230, idx] 599 loss] 32.69749825075269\n",
      "\n",
      "\n",
      "Train] epoch] 231, idx] 99 loss] 48.08554619550705\n",
      "\n",
      "Train] epoch] 231, idx] 199 loss] 32.50917035434395\n",
      "\n",
      "Train] epoch] 231, idx] 299 loss] 32.01770102605224\n",
      "\n",
      "Train] epoch] 231, idx] 399 loss] 31.933289542794228\n",
      "\n",
      "Train] epoch] 231, idx] 499 loss] 24.931178875267506\n",
      "\n",
      "Train] epoch] 231, idx] 599 loss] 31.74375969916582\n",
      "\n"
     ]
    },
    {
     "name": "stderr",
     "output_type": "stream",
     "text": [
      "\r",
      "  8%|▊         | 231/3000 [03:47<47:46,  1.04s/it]"
     ]
    },
    {
     "name": "stdout",
     "output_type": "stream",
     "text": [
      "\n",
      "Train] epoch] 232, idx] 99 loss] 49.343788269907236\n",
      "\n",
      "Train] epoch] 232, idx] 199 loss] 29.479692704975605\n",
      "\n",
      "Train] epoch] 232, idx] 299 loss] 28.603105621412396\n",
      "\n",
      "Train] epoch] 232, idx] 399 loss] 31.778149213641882\n",
      "\n",
      "Train] epoch] 232, idx] 499 loss] 29.60562450438738\n",
      "\n"
     ]
    },
    {
     "name": "stderr",
     "output_type": "stream",
     "text": [
      "\r",
      "  8%|▊         | 232/3000 [03:49<47:41,  1.03s/it]"
     ]
    },
    {
     "name": "stdout",
     "output_type": "stream",
     "text": [
      "Train] epoch] 232, idx] 599 loss] 32.057614639401436\n",
      "\n",
      "\n",
      "Train] epoch] 233, idx] 99 loss] 54.29518819600344\n",
      "\n",
      "Train] epoch] 233, idx] 199 loss] 28.55671751871705\n",
      "\n",
      "Train] epoch] 233, idx] 299 loss] 34.00266359373927\n",
      "\n",
      "Train] epoch] 233, idx] 399 loss] 30.919244039803743\n",
      "\n",
      "Train] epoch] 233, idx] 499 loss] 31.986497852951288\n",
      "\n",
      "Train] epoch] 233, idx] 599 loss] 31.98367865383625\n",
      "\n"
     ]
    },
    {
     "name": "stderr",
     "output_type": "stream",
     "text": [
      "\r",
      "  8%|▊         | 233/3000 [03:50<47:53,  1.04s/it]"
     ]
    },
    {
     "name": "stdout",
     "output_type": "stream",
     "text": [
      "\n",
      "Train] epoch] 234, idx] 99 loss] 52.965102622285485\n",
      "\n",
      "Train] epoch] 234, idx] 199 loss] 29.301542554050684\n",
      "\n",
      "Train] epoch] 234, idx] 299 loss] 33.662268940359354\n",
      "\n",
      "Train] epoch] 234, idx] 399 loss] 32.89278420433402\n",
      "\n",
      "Train] epoch] 234, idx] 499 loss] 30.614190593361855\n",
      "\n"
     ]
    },
    {
     "name": "stderr",
     "output_type": "stream",
     "text": [
      "\r",
      "  8%|▊         | 234/3000 [03:51<46:42,  1.01s/it]"
     ]
    },
    {
     "name": "stdout",
     "output_type": "stream",
     "text": [
      "Train] epoch] 234, idx] 599 loss] 31.67405465990305\n",
      "\n",
      "\n",
      "Train] epoch] 235, idx] 99 loss] 43.00642783381045\n",
      "\n",
      "Train] epoch] 235, idx] 199 loss] 29.628926200792193\n",
      "\n",
      "Train] epoch] 235, idx] 299 loss] 31.2328960057348\n",
      "\n",
      "Train] epoch] 235, idx] 399 loss] 31.924886215478182\n",
      "\n",
      "Train] epoch] 235, idx] 499 loss] 27.90980850532651\n",
      "\n",
      "Train] epoch] 235, idx] 599 loss] 28.96866909135133\n",
      "\n"
     ]
    },
    {
     "name": "stderr",
     "output_type": "stream",
     "text": [
      "\r",
      "  8%|▊         | 235/3000 [03:51<45:44,  1.01it/s]"
     ]
    },
    {
     "name": "stdout",
     "output_type": "stream",
     "text": [
      "\n",
      "Train] epoch] 236, idx] 99 loss] 56.02617158740759\n",
      "\n",
      "Train] epoch] 236, idx] 199 loss] 31.578164000064135\n",
      "\n",
      "Train] epoch] 236, idx] 299 loss] 30.98995139449835\n",
      "\n",
      "Train] epoch] 236, idx] 399 loss] 32.71113010123372\n",
      "\n",
      "Train] epoch] 236, idx] 499 loss] 29.033541386947036\n",
      "\n"
     ]
    },
    {
     "name": "stderr",
     "output_type": "stream",
     "text": [
      "\r",
      "  8%|▊         | 236/3000 [03:52<45:04,  1.02it/s]"
     ]
    },
    {
     "name": "stdout",
     "output_type": "stream",
     "text": [
      "Train] epoch] 236, idx] 599 loss] 30.054018273949623\n",
      "\n",
      "\n",
      "Train] epoch] 237, idx] 99 loss] 49.64874800480902\n",
      "\n",
      "Train] epoch] 237, idx] 199 loss] 31.80826621130109\n",
      "\n",
      "Train] epoch] 237, idx] 299 loss] 31.089266622439027\n",
      "\n",
      "Train] epoch] 237, idx] 399 loss] 29.334135960787535\n",
      "\n",
      "Train] epoch] 237, idx] 499 loss] 34.992019928991795\n",
      "\n",
      "Train] epoch] 237, idx] 599 loss] 31.682442983612418\n",
      "\n"
     ]
    },
    {
     "name": "stderr",
     "output_type": "stream",
     "text": [
      "\r",
      "  8%|▊         | 237/3000 [03:53<44:42,  1.03it/s]"
     ]
    },
    {
     "name": "stdout",
     "output_type": "stream",
     "text": [
      "\n",
      "Train] epoch] 238, idx] 99 loss] 49.9817756973207\n",
      "\n",
      "Train] epoch] 238, idx] 199 loss] 32.062381379306316\n",
      "\n",
      "Train] epoch] 238, idx] 299 loss] 31.780900191515684\n",
      "\n",
      "Train] epoch] 238, idx] 399 loss] 31.251657970249653\n",
      "\n",
      "Train] epoch] 238, idx] 499 loss] 28.55846019089222\n",
      "\n"
     ]
    },
    {
     "name": "stderr",
     "output_type": "stream",
     "text": [
      "\r",
      "  8%|▊         | 238/3000 [03:54<44:22,  1.04it/s]"
     ]
    },
    {
     "name": "stdout",
     "output_type": "stream",
     "text": [
      "Train] epoch] 238, idx] 599 loss] 30.86497813463211\n",
      "\n",
      "\n",
      "Train] epoch] 239, idx] 99 loss] 48.45714337751269\n",
      "\n",
      "Train] epoch] 239, idx] 199 loss] 31.980159267783165\n",
      "\n",
      "Train] epoch] 239, idx] 299 loss] 30.938981033861637\n",
      "\n",
      "Train] epoch] 239, idx] 399 loss] 29.330993574112654\n",
      "\n",
      "Train] epoch] 239, idx] 499 loss] 31.048480860888958\n",
      "\n",
      "Train] epoch] 239, idx] 599 loss] 32.11752317473292\n",
      "\n"
     ]
    },
    {
     "name": "stderr",
     "output_type": "stream",
     "text": [
      "\r",
      "  8%|▊         | 239/3000 [03:55<44:06,  1.04it/s]"
     ]
    },
    {
     "name": "stdout",
     "output_type": "stream",
     "text": [
      "\n",
      "Train] epoch] 240, idx] 99 loss] 51.08184092491865\n",
      "\n",
      "Train] epoch] 240, idx] 199 loss] 29.40645740367472\n",
      "\n",
      "Train] epoch] 240, idx] 299 loss] 33.4234228245914\n",
      "\n",
      "Train] epoch] 240, idx] 399 loss] 36.05971197411418\n",
      "\n",
      "Train] epoch] 240, idx] 499 loss] 30.51576877012849\n",
      "\n"
     ]
    },
    {
     "name": "stderr",
     "output_type": "stream",
     "text": [
      "\r",
      "  8%|▊         | 240/3000 [03:56<43:53,  1.05it/s]"
     ]
    },
    {
     "name": "stdout",
     "output_type": "stream",
     "text": [
      "Train] epoch] 240, idx] 599 loss] 30.69605952128768\n",
      "\n",
      "\n",
      "Train] epoch] 241, idx] 99 loss] 49.68546531535685\n",
      "\n",
      "Train] epoch] 241, idx] 199 loss] 32.15827290713787\n",
      "\n",
      "Train] epoch] 241, idx] 299 loss] 36.830616138875484\n",
      "\n",
      "Train] epoch] 241, idx] 399 loss] 31.29997379332781\n",
      "\n",
      "Train] epoch] 241, idx] 499 loss] 28.918730441480875\n",
      "\n",
      "Train] epoch] 241, idx] 599 loss] 29.396569795906544\n",
      "\n"
     ]
    },
    {
     "name": "stderr",
     "output_type": "stream",
     "text": [
      "\r",
      "  8%|▊         | 241/3000 [03:57<44:00,  1.04it/s]"
     ]
    },
    {
     "name": "stdout",
     "output_type": "stream",
     "text": [
      "\n",
      "Train] epoch] 242, idx] 99 loss] 51.79765421524644\n",
      "\n",
      "Train] epoch] 242, idx] 199 loss] 33.619395373389125\n",
      "\n",
      "Train] epoch] 242, idx] 299 loss] 28.922714168205857\n",
      "\n",
      "Train] epoch] 242, idx] 399 loss] 34.57440776564181\n",
      "\n",
      "Train] epoch] 242, idx] 499 loss] 29.020289566367865\n",
      "\n"
     ]
    },
    {
     "name": "stderr",
     "output_type": "stream",
     "text": [
      "\r",
      "  8%|▊         | 242/3000 [03:58<43:45,  1.05it/s]"
     ]
    },
    {
     "name": "stdout",
     "output_type": "stream",
     "text": [
      "Train] epoch] 242, idx] 599 loss] 33.55304044857621\n",
      "\n",
      "\n",
      "Train] epoch] 243, idx] 99 loss] 46.74866393767297\n",
      "\n",
      "Train] epoch] 243, idx] 199 loss] 28.673706848174334\n",
      "\n",
      "Train] epoch] 243, idx] 299 loss] 30.472868748009205\n",
      "\n",
      "Train] epoch] 243, idx] 399 loss] 32.46482023783028\n",
      "\n",
      "Train] epoch] 243, idx] 499 loss] 30.0761416554451\n",
      "\n",
      "Train] epoch] 243, idx] 599 loss] 33.15134577266872\n",
      "\n"
     ]
    },
    {
     "name": "stderr",
     "output_type": "stream",
     "text": [
      "\r",
      "  8%|▊         | 243/3000 [03:59<43:38,  1.05it/s]"
     ]
    },
    {
     "name": "stdout",
     "output_type": "stream",
     "text": [
      "\n",
      "Train] epoch] 244, idx] 99 loss] 48.00912767276168\n",
      "\n",
      "Train] epoch] 244, idx] 199 loss] 30.87891226261854\n",
      "\n",
      "Train] epoch] 244, idx] 299 loss] 32.21952726319432\n",
      "\n",
      "Train] epoch] 244, idx] 399 loss] 32.467214934527874\n",
      "\n",
      "Train] epoch] 244, idx] 499 loss] 32.290803890675306\n",
      "\n"
     ]
    },
    {
     "name": "stderr",
     "output_type": "stream",
     "text": [
      "\r",
      "  8%|▊         | 244/3000 [04:00<43:28,  1.06it/s]"
     ]
    },
    {
     "name": "stdout",
     "output_type": "stream",
     "text": [
      "Train] epoch] 244, idx] 599 loss] 29.461738681420684\n",
      "\n",
      "\n",
      "Train] epoch] 245, idx] 99 loss] 51.72856359556317\n",
      "\n",
      "Train] epoch] 245, idx] 199 loss] 30.828017910942435\n",
      "\n",
      "Train] epoch] 245, idx] 299 loss] 28.664018411189318\n",
      "\n",
      "Train] epoch] 245, idx] 399 loss] 27.832510873675346\n",
      "\n",
      "Train] epoch] 245, idx] 499 loss] 30.78186133876443\n",
      "\n",
      "Train] epoch] 245, idx] 599 loss] 30.33375985175371\n",
      "\n"
     ]
    },
    {
     "name": "stderr",
     "output_type": "stream",
     "text": [
      "\r",
      "  8%|▊         | 245/3000 [04:01<43:26,  1.06it/s]"
     ]
    },
    {
     "name": "stdout",
     "output_type": "stream",
     "text": [
      "\n",
      "Train] epoch] 246, idx] 99 loss] 55.91995741799474\n",
      "\n",
      "Train] epoch] 246, idx] 199 loss] 29.275831451639533\n",
      "\n",
      "Train] epoch] 246, idx] 299 loss] 34.91159441694617\n",
      "\n",
      "Train] epoch] 246, idx] 399 loss] 28.47751659154892\n",
      "\n",
      "Train] epoch] 246, idx] 499 loss] 30.81989710777998\n",
      "\n"
     ]
    },
    {
     "name": "stderr",
     "output_type": "stream",
     "text": [
      "\r",
      "  8%|▊         | 246/3000 [04:02<43:21,  1.06it/s]"
     ]
    },
    {
     "name": "stdout",
     "output_type": "stream",
     "text": [
      "Train] epoch] 246, idx] 599 loss] 29.809597440063953\n",
      "\n",
      "\n",
      "Train] epoch] 247, idx] 99 loss] 51.745715979486704\n",
      "\n",
      "Train] epoch] 247, idx] 199 loss] 30.178366735577583\n",
      "\n",
      "Train] epoch] 247, idx] 299 loss] 30.28325443342328\n",
      "\n",
      "Train] epoch] 247, idx] 399 loss] 28.059682009741664\n",
      "\n",
      "Train] epoch] 247, idx] 499 loss] 33.44014652073383\n",
      "\n",
      "Train] epoch] 247, idx] 599 loss] 30.652007844299078\n",
      "\n"
     ]
    },
    {
     "name": "stderr",
     "output_type": "stream",
     "text": [
      "\r",
      "  8%|▊         | 247/3000 [04:03<43:26,  1.06it/s]"
     ]
    },
    {
     "name": "stdout",
     "output_type": "stream",
     "text": [
      "\n",
      "Train] epoch] 248, idx] 99 loss] 51.11222631856799\n",
      "\n",
      "Train] epoch] 248, idx] 199 loss] 30.4538581520319\n",
      "\n",
      "Train] epoch] 248, idx] 299 loss] 34.504217091947794\n",
      "\n",
      "Train] epoch] 248, idx] 399 loss] 28.099668418988585\n",
      "\n",
      "Train] epoch] 248, idx] 499 loss] 29.464354295283556\n",
      "\n"
     ]
    },
    {
     "name": "stderr",
     "output_type": "stream",
     "text": [
      "\r",
      "  8%|▊         | 248/3000 [04:04<43:19,  1.06it/s]"
     ]
    },
    {
     "name": "stdout",
     "output_type": "stream",
     "text": [
      "Train] epoch] 248, idx] 599 loss] 27.29317826591432\n",
      "\n",
      "\n",
      "Train] epoch] 249, idx] 99 loss] 52.6101905554533\n",
      "\n",
      "Train] epoch] 249, idx] 199 loss] 28.76655527576804\n",
      "\n",
      "Train] epoch] 249, idx] 299 loss] 26.731139235198498\n",
      "\n",
      "Train] epoch] 249, idx] 399 loss] 29.08361702784896\n",
      "\n",
      "Train] epoch] 249, idx] 499 loss] 30.92662551254034\n",
      "\n",
      "Train] epoch] 249, idx] 599 loss] 29.10034355893731\n",
      "\n"
     ]
    },
    {
     "name": "stderr",
     "output_type": "stream",
     "text": [
      "\r",
      "  8%|▊         | 249/3000 [04:05<43:27,  1.05it/s]"
     ]
    },
    {
     "name": "stdout",
     "output_type": "stream",
     "text": [
      "\n",
      "Train] epoch] 250, idx] 99 loss] 52.62941495142877\n",
      "\n",
      "Train] epoch] 250, idx] 199 loss] 30.186238994821906\n",
      "\n",
      "Train] epoch] 250, idx] 299 loss] 28.664409697055817\n",
      "\n",
      "Train] epoch] 250, idx] 399 loss] 27.5962384827435\n",
      "\n",
      "Train] epoch] 250, idx] 499 loss] 28.36815305799246\n",
      "\n"
     ]
    },
    {
     "name": "stderr",
     "output_type": "stream",
     "text": [
      "\r",
      "  8%|▊         | 250/3000 [04:06<43:41,  1.05it/s]"
     ]
    },
    {
     "name": "stdout",
     "output_type": "stream",
     "text": [
      "Train] epoch] 250, idx] 599 loss] 33.17235451936722\n",
      "\n",
      "\n",
      "Train] epoch] 251, idx] 99 loss] 51.8678287230432\n",
      "\n",
      "Train] epoch] 251, idx] 199 loss] 33.257829301059246\n",
      "\n",
      "Train] epoch] 251, idx] 299 loss] 29.07327040284872\n",
      "\n",
      "Train] epoch] 251, idx] 399 loss] 25.354181364178658\n",
      "\n",
      "Train] epoch] 251, idx] 499 loss] 32.77569944038987\n",
      "\n",
      "Train] epoch] 251, idx] 599 loss] 32.0689337849617\n",
      "\n"
     ]
    },
    {
     "name": "stderr",
     "output_type": "stream",
     "text": [
      "\r",
      "  8%|▊         | 251/3000 [04:07<43:43,  1.05it/s]"
     ]
    },
    {
     "name": "stdout",
     "output_type": "stream",
     "text": [
      "\n",
      "Train] epoch] 252, idx] 99 loss] 56.56143195554614\n",
      "\n",
      "Train] epoch] 252, idx] 199 loss] 28.01276783645153\n",
      "\n",
      "Train] epoch] 252, idx] 299 loss] 32.20012529194355\n",
      "\n",
      "Train] epoch] 252, idx] 399 loss] 29.74135058745742\n",
      "\n",
      "Train] epoch] 252, idx] 499 loss] 30.20802008267492\n",
      "\n"
     ]
    },
    {
     "name": "stderr",
     "output_type": "stream",
     "text": [
      "\r",
      "  8%|▊         | 252/3000 [04:08<43:42,  1.05it/s]"
     ]
    },
    {
     "name": "stdout",
     "output_type": "stream",
     "text": [
      "Train] epoch] 252, idx] 599 loss] 28.005203183740377\n",
      "\n",
      "\n",
      "Train] epoch] 253, idx] 99 loss] 52.24910918995738\n",
      "\n",
      "Train] epoch] 253, idx] 199 loss] 30.434163581579924\n",
      "\n",
      "Train] epoch] 253, idx] 299 loss] 31.14836614765227\n",
      "\n",
      "Train] epoch] 253, idx] 399 loss] 29.973571591079235\n",
      "\n",
      "Train] epoch] 253, idx] 499 loss] 28.044309489428997\n",
      "\n",
      "Train] epoch] 253, idx] 599 loss] 30.745655737817287\n",
      "\n"
     ]
    },
    {
     "name": "stderr",
     "output_type": "stream",
     "text": [
      "\r",
      "  8%|▊         | 253/3000 [04:09<44:26,  1.03it/s]"
     ]
    },
    {
     "name": "stdout",
     "output_type": "stream",
     "text": [
      "\n",
      "Train] epoch] 254, idx] 99 loss] 52.68781138956547\n",
      "\n",
      "Train] epoch] 254, idx] 199 loss] 30.250270487740636\n",
      "\n",
      "Train] epoch] 254, idx] 299 loss] 28.51653433404863\n",
      "\n",
      "Train] epoch] 254, idx] 399 loss] 31.84363406151533\n",
      "\n",
      "Train] epoch] 254, idx] 499 loss] 30.405676260590553\n",
      "\n"
     ]
    },
    {
     "name": "stderr",
     "output_type": "stream",
     "text": [
      "\r",
      "  8%|▊         | 254/3000 [04:10<44:18,  1.03it/s]"
     ]
    },
    {
     "name": "stdout",
     "output_type": "stream",
     "text": [
      "Train] epoch] 254, idx] 599 loss] 29.18644169345498\n",
      "\n",
      "\n",
      "Train] epoch] 255, idx] 99 loss] 55.573508221656084\n",
      "\n",
      "Train] epoch] 255, idx] 199 loss] 31.530957464128733\n",
      "\n",
      "Train] epoch] 255, idx] 299 loss] 31.457705710083246\n",
      "\n",
      "Train] epoch] 255, idx] 399 loss] 28.842609129846096\n",
      "\n",
      "Train] epoch] 255, idx] 499 loss] 30.80413343012333\n",
      "\n",
      "Train] epoch] 255, idx] 599 loss] 30.98068231716752\n",
      "\n"
     ]
    },
    {
     "name": "stderr",
     "output_type": "stream",
     "text": [
      "\r",
      "  8%|▊         | 255/3000 [04:11<44:14,  1.03it/s]"
     ]
    },
    {
     "name": "stdout",
     "output_type": "stream",
     "text": [
      "\n",
      "Train] epoch] 256, idx] 99 loss] 49.5167275108397\n",
      "\n",
      "Train] epoch] 256, idx] 199 loss] 30.412577575072646\n",
      "\n",
      "Train] epoch] 256, idx] 299 loss] 30.578741474077106\n",
      "\n",
      "Train] epoch] 256, idx] 399 loss] 33.04074549674988\n",
      "\n",
      "Train] epoch] 256, idx] 499 loss] 32.2388807926327\n",
      "\n"
     ]
    },
    {
     "name": "stderr",
     "output_type": "stream",
     "text": [
      "\r",
      "  9%|▊         | 256/3000 [04:11<44:06,  1.04it/s]"
     ]
    },
    {
     "name": "stdout",
     "output_type": "stream",
     "text": [
      "Train] epoch] 256, idx] 599 loss] 28.47100974433124\n",
      "\n",
      "\n",
      "Train] epoch] 257, idx] 99 loss] 53.53577554598451\n",
      "\n",
      "Train] epoch] 257, idx] 199 loss] 34.612065844237804\n",
      "\n",
      "Train] epoch] 257, idx] 299 loss] 31.12730361893773\n",
      "\n",
      "Train] epoch] 257, idx] 399 loss] 31.54368495196104\n",
      "\n",
      "Train] epoch] 257, idx] 499 loss] 31.143973648548126\n",
      "\n",
      "Train] epoch] 257, idx] 599 loss] 27.683599565178156\n",
      "\n"
     ]
    },
    {
     "name": "stderr",
     "output_type": "stream",
     "text": [
      "\r",
      "  9%|▊         | 257/3000 [04:12<44:09,  1.04it/s]"
     ]
    },
    {
     "name": "stdout",
     "output_type": "stream",
     "text": [
      "\n",
      "Train] epoch] 258, idx] 99 loss] 50.61193894222379\n",
      "\n",
      "Train] epoch] 258, idx] 199 loss] 26.323276434093714\n",
      "\n",
      "Train] epoch] 258, idx] 299 loss] 28.92260529473424\n",
      "\n",
      "Train] epoch] 258, idx] 399 loss] 30.166946087032557\n",
      "\n",
      "Train] epoch] 258, idx] 499 loss] 31.956881994381547\n",
      "\n"
     ]
    },
    {
     "name": "stderr",
     "output_type": "stream",
     "text": [
      "\r",
      "  9%|▊         | 258/3000 [04:13<43:53,  1.04it/s]"
     ]
    },
    {
     "name": "stdout",
     "output_type": "stream",
     "text": [
      "Train] epoch] 258, idx] 599 loss] 34.44922633096576\n",
      "\n",
      "\n",
      "Train] epoch] 259, idx] 99 loss] 52.97091443091631\n",
      "\n",
      "Train] epoch] 259, idx] 199 loss] 30.31309162825346\n",
      "\n",
      "Train] epoch] 259, idx] 299 loss] 32.206197164952755\n",
      "\n",
      "Train] epoch] 259, idx] 399 loss] 31.01505400799215\n",
      "\n",
      "Train] epoch] 259, idx] 499 loss] 31.547359984368086\n",
      "\n",
      "Train] epoch] 259, idx] 599 loss] 31.4993219897151\n",
      "\n"
     ]
    },
    {
     "name": "stderr",
     "output_type": "stream",
     "text": [
      "\r",
      "  9%|▊         | 259/3000 [04:14<43:47,  1.04it/s]"
     ]
    },
    {
     "name": "stdout",
     "output_type": "stream",
     "text": [
      "\n",
      "Train] epoch] 260, idx] 99 loss] 46.63634746707976\n",
      "\n",
      "Train] epoch] 260, idx] 199 loss] 30.14831456169486\n",
      "\n",
      "Train] epoch] 260, idx] 299 loss] 27.48637755215168\n",
      "\n",
      "Train] epoch] 260, idx] 399 loss] 36.147449519485235\n",
      "\n",
      "Train] epoch] 260, idx] 499 loss] 33.90062850341201\n",
      "\n"
     ]
    },
    {
     "name": "stderr",
     "output_type": "stream",
     "text": [
      "\r",
      "  9%|▊         | 260/3000 [04:15<43:53,  1.04it/s]"
     ]
    },
    {
     "name": "stdout",
     "output_type": "stream",
     "text": [
      "Train] epoch] 260, idx] 599 loss] 27.353210523724556\n",
      "\n",
      "\n",
      "Train] epoch] 261, idx] 99 loss] 49.19327583629638\n",
      "\n",
      "Train] epoch] 261, idx] 199 loss] 29.452645603567362\n",
      "\n",
      "Train] epoch] 261, idx] 299 loss] 30.859176445752382\n",
      "\n",
      "Train] epoch] 261, idx] 399 loss] 30.946400210261345\n",
      "\n",
      "Train] epoch] 261, idx] 499 loss] 30.26781669072807\n",
      "\n",
      "Train] epoch] 261, idx] 599 loss] 31.46331226825714\n",
      "\n"
     ]
    },
    {
     "name": "stderr",
     "output_type": "stream",
     "text": [
      "\r",
      "  9%|▊         | 261/3000 [04:16<44:47,  1.02it/s]"
     ]
    },
    {
     "name": "stdout",
     "output_type": "stream",
     "text": [
      "\n",
      "Train] epoch] 262, idx] 99 loss] 55.80040671676397\n",
      "\n",
      "Train] epoch] 262, idx] 199 loss] 28.402351804077625\n",
      "\n",
      "Train] epoch] 262, idx] 299 loss] 32.516789849847555\n",
      "\n",
      "Train] epoch] 262, idx] 399 loss] 28.953010648489\n",
      "\n",
      "Train] epoch] 262, idx] 499 loss] 28.64169293642044\n",
      "\n"
     ]
    },
    {
     "name": "stderr",
     "output_type": "stream",
     "text": [
      "\r",
      "  9%|▊         | 262/3000 [04:17<44:53,  1.02it/s]"
     ]
    },
    {
     "name": "stdout",
     "output_type": "stream",
     "text": [
      "Train] epoch] 262, idx] 599 loss] 29.40268741361797\n",
      "\n",
      "\n",
      "Train] epoch] 263, idx] 99 loss] 50.16674864292145\n",
      "\n",
      "Train] epoch] 263, idx] 199 loss] 34.49455163627863\n",
      "\n",
      "Train] epoch] 263, idx] 299 loss] 27.969390779733658\n",
      "\n",
      "Train] epoch] 263, idx] 399 loss] 32.218003027141094\n",
      "\n",
      "Train] epoch] 263, idx] 499 loss] 30.659785095602274\n",
      "\n",
      "Train] epoch] 263, idx] 599 loss] 30.471369545906782\n",
      "\n"
     ]
    },
    {
     "name": "stderr",
     "output_type": "stream",
     "text": [
      "\r",
      "  9%|▉         | 263/3000 [04:18<46:04,  1.01s/it]"
     ]
    },
    {
     "name": "stdout",
     "output_type": "stream",
     "text": [
      "\n",
      "Train] epoch] 264, idx] 99 loss] 53.12931175157428\n",
      "\n",
      "Train] epoch] 264, idx] 199 loss] 26.662583084776998\n",
      "\n",
      "Train] epoch] 264, idx] 299 loss] 29.87800719588995\n",
      "\n",
      "Train] epoch] 264, idx] 399 loss] 32.44014274328947\n",
      "\n",
      "Train] epoch] 264, idx] 499 loss] 32.252901991829276\n",
      "\n"
     ]
    },
    {
     "name": "stderr",
     "output_type": "stream",
     "text": [
      "\r",
      "  9%|▉         | 264/3000 [04:20<47:09,  1.03s/it]"
     ]
    },
    {
     "name": "stdout",
     "output_type": "stream",
     "text": [
      "Train] epoch] 264, idx] 599 loss] 28.43696826696396\n",
      "\n",
      "\n",
      "Train] epoch] 265, idx] 99 loss] 45.77397982031107\n",
      "\n",
      "Train] epoch] 265, idx] 199 loss] 28.852246437221766\n",
      "\n",
      "Train] epoch] 265, idx] 299 loss] 27.6386391883716\n",
      "\n",
      "Train] epoch] 265, idx] 399 loss] 31.43898668140173\n",
      "\n",
      "Train] epoch] 265, idx] 499 loss] 35.25534423440695\n",
      "\n",
      "Train] epoch] 265, idx] 599 loss] 28.18919505365193\n",
      "\n"
     ]
    },
    {
     "name": "stderr",
     "output_type": "stream",
     "text": [
      "\r",
      "  9%|▉         | 265/3000 [04:21<47:00,  1.03s/it]"
     ]
    },
    {
     "name": "stdout",
     "output_type": "stream",
     "text": [
      "\n",
      "Train] epoch] 266, idx] 99 loss] 48.13650979101658\n",
      "\n",
      "Train] epoch] 266, idx] 199 loss] 30.064271772280335\n",
      "\n",
      "Train] epoch] 266, idx] 299 loss] 29.38041959889233\n",
      "\n",
      "Train] epoch] 266, idx] 399 loss] 31.6567327324301\n",
      "\n",
      "Train] epoch] 266, idx] 499 loss] 30.62262950837612\n",
      "\n"
     ]
    },
    {
     "name": "stderr",
     "output_type": "stream",
     "text": [
      "\r",
      "  9%|▉         | 266/3000 [04:22<46:46,  1.03s/it]"
     ]
    },
    {
     "name": "stdout",
     "output_type": "stream",
     "text": [
      "Train] epoch] 266, idx] 599 loss] 30.997095277532935\n",
      "\n",
      "\n",
      "Train] epoch] 267, idx] 99 loss] 54.549360405653715\n",
      "\n",
      "Train] epoch] 267, idx] 199 loss] 31.881721902638674\n",
      "\n",
      "Train] epoch] 267, idx] 299 loss] 32.894724721089005\n",
      "\n",
      "Train] epoch] 267, idx] 399 loss] 31.985515624284744\n",
      "\n",
      "Train] epoch] 267, idx] 499 loss] 30.927863586694002\n",
      "\n"
     ]
    },
    {
     "name": "stderr",
     "output_type": "stream",
     "text": [
      "\r",
      "  9%|▉         | 267/3000 [04:23<49:33,  1.09s/it]"
     ]
    },
    {
     "name": "stdout",
     "output_type": "stream",
     "text": [
      "Train] epoch] 267, idx] 599 loss] 29.60397630557418\n",
      "\n",
      "\n",
      "Train] epoch] 268, idx] 99 loss] 52.02612069994211\n",
      "\n",
      "Train] epoch] 268, idx] 199 loss] 29.906027778983116\n",
      "\n",
      "Train] epoch] 268, idx] 299 loss] 27.22925040870905\n",
      "\n",
      "Train] epoch] 268, idx] 399 loss] 33.98858331516385\n",
      "\n",
      "Train] epoch] 268, idx] 499 loss] 31.196791503578424\n",
      "\n",
      "Train] epoch] 268, idx] 599 loss] 32.30271600559354\n",
      "\n"
     ]
    },
    {
     "name": "stderr",
     "output_type": "stream",
     "text": [
      "\r",
      "  9%|▉         | 268/3000 [04:24<51:32,  1.13s/it]"
     ]
    },
    {
     "name": "stdout",
     "output_type": "stream",
     "text": [
      "\n",
      "Train] epoch] 269, idx] 99 loss] 53.248095348477364\n",
      "\n",
      "Train] epoch] 269, idx] 199 loss] 29.565784260630608\n",
      "\n",
      "Train] epoch] 269, idx] 299 loss] 29.114288799464703\n",
      "\n",
      "Train] epoch] 269, idx] 399 loss] 31.57663287781179\n",
      "\n",
      "Train] epoch] 269, idx] 499 loss] 29.075088798999786\n",
      "\n"
     ]
    },
    {
     "name": "stderr",
     "output_type": "stream",
     "text": [
      "\r",
      "  9%|▉         | 269/3000 [04:25<55:31,  1.22s/it]"
     ]
    },
    {
     "name": "stdout",
     "output_type": "stream",
     "text": [
      "Train] epoch] 269, idx] 599 loss] 29.416457504034042\n",
      "\n",
      "\n",
      "Train] epoch] 270, idx] 99 loss] 47.938439048826694\n",
      "\n",
      "Train] epoch] 270, idx] 199 loss] 31.43146027624607\n",
      "\n",
      "Train] epoch] 270, idx] 299 loss] 30.859113682061434\n",
      "\n",
      "Train] epoch] 270, idx] 399 loss] 30.87442827410996\n",
      "\n",
      "Train] epoch] 270, idx] 499 loss] 26.57057398930192\n",
      "\n",
      "Train] epoch] 270, idx] 599 loss] 29.113369887694716\n",
      "\n"
     ]
    },
    {
     "name": "stderr",
     "output_type": "stream",
     "text": [
      "\r",
      "  9%|▉         | 270/3000 [04:27<54:38,  1.20s/it]"
     ]
    },
    {
     "name": "stdout",
     "output_type": "stream",
     "text": [
      "\n",
      "Train] epoch] 271, idx] 99 loss] 49.6626517418772\n",
      "\n",
      "Train] epoch] 271, idx] 199 loss] 32.03469508513808\n",
      "\n",
      "Train] epoch] 271, idx] 299 loss] 29.701137255877256\n",
      "\n",
      "Train] epoch] 271, idx] 399 loss] 30.32965736836195\n",
      "\n",
      "Train] epoch] 271, idx] 499 loss] 29.10748626291752\n",
      "\n"
     ]
    },
    {
     "name": "stderr",
     "output_type": "stream",
     "text": [
      "\r",
      "  9%|▉         | 271/3000 [04:28<52:10,  1.15s/it]"
     ]
    },
    {
     "name": "stdout",
     "output_type": "stream",
     "text": [
      "Train] epoch] 271, idx] 599 loss] 33.25098929926753\n",
      "\n",
      "\n",
      "Train] epoch] 272, idx] 99 loss] 49.74276680313051\n",
      "\n",
      "Train] epoch] 272, idx] 199 loss] 29.684696592390537\n",
      "\n",
      "Train] epoch] 272, idx] 299 loss] 30.38680437207222\n",
      "\n",
      "Train] epoch] 272, idx] 399 loss] 33.79267903417349\n",
      "\n",
      "Train] epoch] 272, idx] 499 loss] 28.168557096272707\n",
      "\n",
      "Train] epoch] 272, idx] 599 loss] 31.523964408785105\n",
      "\n"
     ]
    },
    {
     "name": "stderr",
     "output_type": "stream",
     "text": [
      "\r",
      "  9%|▉         | 272/3000 [04:29<55:25,  1.22s/it]"
     ]
    },
    {
     "name": "stdout",
     "output_type": "stream",
     "text": [
      "\n",
      "Train] epoch] 273, idx] 99 loss] 52.82454144209623\n",
      "\n",
      "Train] epoch] 273, idx] 199 loss] 28.333260817453265\n",
      "\n",
      "Train] epoch] 273, idx] 299 loss] 30.925354704260826\n",
      "\n",
      "Train] epoch] 273, idx] 399 loss] 34.07894807308912\n",
      "\n",
      "Train] epoch] 273, idx] 499 loss] 28.960882673040032\n",
      "\n",
      "Train] epoch] 273, idx] 599 loss] 32.54620943590999\n",
      "\n"
     ]
    },
    {
     "name": "stderr",
     "output_type": "stream",
     "text": [
      "\r",
      "  9%|▉         | 273/3000 [04:30<56:14,  1.24s/it]"
     ]
    },
    {
     "name": "stdout",
     "output_type": "stream",
     "text": [
      "\n",
      "Train] epoch] 274, idx] 99 loss] 49.31494181603193\n",
      "\n",
      "Train] epoch] 274, idx] 199 loss] 31.382631599903107\n",
      "\n",
      "Train] epoch] 274, idx] 299 loss] 29.58476830087602\n",
      "\n",
      "Train] epoch] 274, idx] 399 loss] 30.74083749949932\n",
      "\n",
      "Train] epoch] 274, idx] 499 loss] 28.244386749342084\n",
      "\n"
     ]
    },
    {
     "name": "stderr",
     "output_type": "stream",
     "text": [
      "\r",
      "  9%|▉         | 274/3000 [04:31<53:43,  1.18s/it]"
     ]
    },
    {
     "name": "stdout",
     "output_type": "stream",
     "text": [
      "Train] epoch] 274, idx] 599 loss] 30.199245620518923\n",
      "\n",
      "\n",
      "Train] epoch] 275, idx] 99 loss] 54.1234067697078\n",
      "\n",
      "Train] epoch] 275, idx] 199 loss] 33.622290056198835\n",
      "\n",
      "Train] epoch] 275, idx] 299 loss] 32.55096413940191\n",
      "\n",
      "Train] epoch] 275, idx] 399 loss] 30.704995170235634\n",
      "\n",
      "Train] epoch] 275, idx] 499 loss] 30.185022082179785\n",
      "\n",
      "Train] epoch] 275, idx] 599 loss] 29.293536938726902\n",
      "\n"
     ]
    },
    {
     "name": "stderr",
     "output_type": "stream",
     "text": [
      "\r",
      "  9%|▉         | 275/3000 [04:33<55:58,  1.23s/it]"
     ]
    },
    {
     "name": "stdout",
     "output_type": "stream",
     "text": [
      "\n",
      "Train] epoch] 276, idx] 99 loss] 50.2318498659879\n",
      "\n",
      "Train] epoch] 276, idx] 199 loss] 34.57898025587201\n",
      "\n",
      "Train] epoch] 276, idx] 299 loss] 32.0364213436842\n",
      "\n",
      "Train] epoch] 276, idx] 399 loss] 28.275368659757078\n",
      "\n",
      "Train] epoch] 276, idx] 499 loss] 30.457749038934708\n",
      "\n"
     ]
    },
    {
     "name": "stderr",
     "output_type": "stream",
     "text": [
      "\r",
      "  9%|▉         | 276/3000 [04:34<54:07,  1.19s/it]"
     ]
    },
    {
     "name": "stdout",
     "output_type": "stream",
     "text": [
      "Train] epoch] 276, idx] 599 loss] 28.94654295966029\n",
      "\n",
      "\n",
      "Train] epoch] 277, idx] 99 loss] 52.83620703779161\n",
      "\n",
      "Train] epoch] 277, idx] 199 loss] 30.628582771867514\n",
      "\n",
      "Train] epoch] 277, idx] 299 loss] 28.67959033511579\n",
      "\n",
      "Train] epoch] 277, idx] 399 loss] 28.036069057881832\n",
      "\n",
      "Train] epoch] 277, idx] 499 loss] 32.385008523240685\n",
      "\n",
      "Train] epoch] 277, idx] 599 loss] 32.68119504675269\n",
      "\n"
     ]
    },
    {
     "name": "stderr",
     "output_type": "stream",
     "text": [
      "\r",
      "  9%|▉         | 277/3000 [04:35<52:33,  1.16s/it]"
     ]
    },
    {
     "name": "stdout",
     "output_type": "stream",
     "text": [
      "\n",
      "Train] epoch] 278, idx] 99 loss] 50.367331229150295\n",
      "\n",
      "Train] epoch] 278, idx] 199 loss] 29.644283961504698\n",
      "\n",
      "Train] epoch] 278, idx] 299 loss] 27.67130787856877\n",
      "\n",
      "Train] epoch] 278, idx] 399 loss] 27.81922947987914\n",
      "\n",
      "Train] epoch] 278, idx] 499 loss] 28.991863718256354\n",
      "\n",
      "Train] epoch] 278, idx] 599 loss] 34.759904224425554\n",
      "\n"
     ]
    },
    {
     "name": "stderr",
     "output_type": "stream",
     "text": [
      "\r",
      "  9%|▉         | 278/3000 [04:36<54:35,  1.20s/it]"
     ]
    },
    {
     "name": "stdout",
     "output_type": "stream",
     "text": [
      "\n",
      "Train] epoch] 279, idx] 99 loss] 51.51790540665388\n",
      "\n",
      "Train] epoch] 279, idx] 199 loss] 28.030646193772554\n",
      "\n",
      "Train] epoch] 279, idx] 299 loss] 33.735324401408434\n",
      "\n",
      "Train] epoch] 279, idx] 399 loss] 29.166821932420135\n",
      "\n",
      "Train] epoch] 279, idx] 499 loss] 28.981392435729504\n",
      "\n",
      "Train] epoch] 279, idx] 599 loss] 30.899284832179546\n",
      "\n"
     ]
    },
    {
     "name": "stderr",
     "output_type": "stream",
     "text": [
      "\r",
      "  9%|▉         | 279/3000 [04:37<52:58,  1.17s/it]"
     ]
    },
    {
     "name": "stdout",
     "output_type": "stream",
     "text": [
      "\n",
      "Train] epoch] 280, idx] 99 loss] 53.77551078423858\n",
      "\n",
      "Train] epoch] 280, idx] 199 loss] 29.27076844498515\n",
      "\n",
      "Train] epoch] 280, idx] 299 loss] 26.005689514800906\n",
      "\n",
      "Train] epoch] 280, idx] 399 loss] 31.85468877106905\n",
      "\n",
      "Train] epoch] 280, idx] 499 loss] 30.070936812087893\n",
      "\n"
     ]
    },
    {
     "name": "stderr",
     "output_type": "stream",
     "text": [
      "\r",
      "  9%|▉         | 280/3000 [04:38<50:31,  1.11s/it]"
     ]
    },
    {
     "name": "stdout",
     "output_type": "stream",
     "text": [
      "Train] epoch] 280, idx] 599 loss] 29.15259648859501\n",
      "\n",
      "\n",
      "Train] epoch] 281, idx] 99 loss] 47.93417780101299\n",
      "\n",
      "Train] epoch] 281, idx] 199 loss] 33.907552817836404\n",
      "\n",
      "Train] epoch] 281, idx] 299 loss] 30.102050242945552\n",
      "\n",
      "Train] epoch] 281, idx] 399 loss] 34.641782596707344\n",
      "\n",
      "Train] epoch] 281, idx] 499 loss] 33.784028394147754\n",
      "\n",
      "Train] epoch] 281, idx] 599 loss] 27.98407618701458\n",
      "\n"
     ]
    },
    {
     "name": "stderr",
     "output_type": "stream",
     "text": [
      "\r",
      "  9%|▉         | 281/3000 [04:39<51:43,  1.14s/it]"
     ]
    },
    {
     "name": "stdout",
     "output_type": "stream",
     "text": [
      "\n",
      "Train] epoch] 282, idx] 99 loss] 44.21216072700918\n",
      "\n",
      "Train] epoch] 282, idx] 199 loss] 31.924320500344038\n",
      "\n",
      "Train] epoch] 282, idx] 299 loss] 35.34094315394759\n",
      "\n",
      "Train] epoch] 282, idx] 399 loss] 30.56480633467436\n",
      "\n",
      "Train] epoch] 282, idx] 499 loss] 29.807592775672674\n",
      "\n"
     ]
    },
    {
     "name": "stderr",
     "output_type": "stream",
     "text": [
      "\r",
      "  9%|▉         | 282/3000 [04:41<55:15,  1.22s/it]"
     ]
    },
    {
     "name": "stdout",
     "output_type": "stream",
     "text": [
      "Train] epoch] 282, idx] 599 loss] 28.87146821245551\n",
      "\n",
      "\n",
      "Train] epoch] 283, idx] 99 loss] 48.93955807387829\n",
      "\n",
      "Train] epoch] 283, idx] 199 loss] 31.994517542421818\n",
      "\n",
      "Train] epoch] 283, idx] 299 loss] 28.35076266154647\n",
      "\n",
      "Train] epoch] 283, idx] 399 loss] 30.1103084795177\n",
      "\n",
      "Train] epoch] 283, idx] 499 loss] 29.089721217751503\n",
      "\n",
      "Train] epoch] 283, idx] 599 loss] 31.03003193810582\n",
      "\n"
     ]
    },
    {
     "name": "stderr",
     "output_type": "stream",
     "text": [
      "\r",
      "  9%|▉         | 283/3000 [04:42<51:59,  1.15s/it]"
     ]
    },
    {
     "name": "stdout",
     "output_type": "stream",
     "text": [
      "\n",
      "Train] epoch] 284, idx] 99 loss] 52.54368051700294\n",
      "\n",
      "Train] epoch] 284, idx] 199 loss] 27.232667110860348\n",
      "\n",
      "Train] epoch] 284, idx] 299 loss] 31.998713927343488\n",
      "\n",
      "Train] epoch] 284, idx] 399 loss] 28.454485196620226\n",
      "\n",
      "Train] epoch] 284, idx] 499 loss] 26.003735341131687\n",
      "\n"
     ]
    },
    {
     "name": "stderr",
     "output_type": "stream",
     "text": [
      "\r",
      "  9%|▉         | 284/3000 [04:43<50:50,  1.12s/it]"
     ]
    },
    {
     "name": "stdout",
     "output_type": "stream",
     "text": [
      "Train] epoch] 284, idx] 599 loss] 31.941650815308094\n",
      "\n",
      "\n",
      "Train] epoch] 285, idx] 99 loss] 52.890269009396434\n",
      "\n",
      "Train] epoch] 285, idx] 199 loss] 26.0644898340106\n",
      "\n",
      "Train] epoch] 285, idx] 299 loss] 32.67775783315301\n",
      "\n",
      "Train] epoch] 285, idx] 399 loss] 32.179361276328564\n",
      "\n",
      "Train] epoch] 285, idx] 499 loss] 30.405982192605734\n",
      "\n",
      "Train] epoch] 285, idx] 599 loss] 32.3509906232357\n",
      "\n"
     ]
    },
    {
     "name": "stderr",
     "output_type": "stream",
     "text": [
      "\r",
      " 10%|▉         | 285/3000 [04:44<52:03,  1.15s/it]"
     ]
    },
    {
     "name": "stdout",
     "output_type": "stream",
     "text": [
      "\n",
      "Train] epoch] 286, idx] 99 loss] 50.806614900007844\n",
      "\n",
      "Train] epoch] 286, idx] 199 loss] 29.93522046133876\n",
      "\n",
      "Train] epoch] 286, idx] 299 loss] 29.731384705752134\n",
      "\n",
      "Train] epoch] 286, idx] 399 loss] 32.25346812978387\n",
      "\n",
      "Train] epoch] 286, idx] 499 loss] 31.351933101192117\n",
      "\n"
     ]
    },
    {
     "name": "stderr",
     "output_type": "stream",
     "text": [
      "\r",
      " 10%|▉         | 286/3000 [04:45<49:49,  1.10s/it]"
     ]
    },
    {
     "name": "stdout",
     "output_type": "stream",
     "text": [
      "Train] epoch] 286, idx] 599 loss] 28.3801299482584\n",
      "\n",
      "\n",
      "Train] epoch] 287, idx] 99 loss] 46.34036112576723\n",
      "\n",
      "Train] epoch] 287, idx] 199 loss] 31.614066317677498\n",
      "\n",
      "Train] epoch] 287, idx] 299 loss] 33.76123748719692\n",
      "\n",
      "Train] epoch] 287, idx] 399 loss] 33.45196320861578\n",
      "\n",
      "Train] epoch] 287, idx] 499 loss] 27.635906886309385\n",
      "\n",
      "Train] epoch] 287, idx] 599 loss] 27.068324487656355\n",
      "\n"
     ]
    },
    {
     "name": "stderr",
     "output_type": "stream",
     "text": [
      "\r",
      " 10%|▉         | 287/3000 [04:46<47:59,  1.06s/it]"
     ]
    },
    {
     "name": "stdout",
     "output_type": "stream",
     "text": [
      "\n",
      "Train] epoch] 288, idx] 99 loss] 50.27762856334448\n",
      "\n",
      "Train] epoch] 288, idx] 199 loss] 29.868059556931257\n",
      "\n",
      "Train] epoch] 288, idx] 299 loss] 27.68857257347554\n",
      "\n",
      "Train] epoch] 288, idx] 399 loss] 30.514692410826683\n",
      "\n",
      "Train] epoch] 288, idx] 499 loss] 30.600331258028746\n",
      "\n"
     ]
    },
    {
     "name": "stderr",
     "output_type": "stream",
     "text": [
      "\r",
      " 10%|▉         | 288/3000 [04:47<48:17,  1.07s/it]"
     ]
    },
    {
     "name": "stdout",
     "output_type": "stream",
     "text": [
      "Train] epoch] 288, idx] 599 loss] 29.944335032254457\n",
      "\n",
      "\n",
      "Train] epoch] 289, idx] 99 loss] 48.2666720431298\n",
      "\n",
      "Train] epoch] 289, idx] 199 loss] 30.54120609164238\n",
      "\n",
      "Train] epoch] 289, idx] 299 loss] 31.96988368406892\n",
      "\n",
      "Train] epoch] 289, idx] 399 loss] 28.997817589901388\n",
      "\n",
      "Train] epoch] 289, idx] 499 loss] 28.878776172176003\n",
      "\n"
     ]
    },
    {
     "name": "stderr",
     "output_type": "stream",
     "text": [
      "\r",
      " 10%|▉         | 289/3000 [04:48<50:05,  1.11s/it]"
     ]
    },
    {
     "name": "stdout",
     "output_type": "stream",
     "text": [
      "Train] epoch] 289, idx] 599 loss] 33.56721866503358\n",
      "\n",
      "\n",
      "Train] epoch] 290, idx] 99 loss] 56.53504849039018\n",
      "\n",
      "Train] epoch] 290, idx] 199 loss] 29.417815815657377\n",
      "\n",
      "Train] epoch] 290, idx] 299 loss] 29.150641039013863\n",
      "\n",
      "Train] epoch] 290, idx] 399 loss] 29.294444747269154\n",
      "\n",
      "Train] epoch] 290, idx] 499 loss] 31.3724995367229\n",
      "\n",
      "Train] epoch] 290, idx] 599 loss] 22.37021485902369\n",
      "\n"
     ]
    },
    {
     "name": "stderr",
     "output_type": "stream",
     "text": [
      "\r",
      " 10%|▉         | 290/3000 [04:49<48:23,  1.07s/it]"
     ]
    },
    {
     "name": "stdout",
     "output_type": "stream",
     "text": [
      "\n",
      "Train] epoch] 291, idx] 99 loss] 55.664553225040436\n",
      "\n",
      "Train] epoch] 291, idx] 199 loss] 30.81880627386272\n",
      "\n",
      "Train] epoch] 291, idx] 299 loss] 27.147015469148755\n",
      "\n",
      "Train] epoch] 291, idx] 399 loss] 29.95245261862874\n",
      "\n",
      "Train] epoch] 291, idx] 499 loss] 30.314100166782737\n",
      "\n"
     ]
    },
    {
     "name": "stderr",
     "output_type": "stream",
     "text": [
      "\r",
      " 10%|▉         | 291/3000 [04:50<47:22,  1.05s/it]"
     ]
    },
    {
     "name": "stdout",
     "output_type": "stream",
     "text": [
      "Train] epoch] 291, idx] 599 loss] 31.593941809609532\n",
      "\n",
      "\n",
      "Train] epoch] 292, idx] 99 loss] 49.16440588235855\n",
      "\n",
      "Train] epoch] 292, idx] 199 loss] 31.490727400407195\n",
      "\n",
      "Train] epoch] 292, idx] 299 loss] 27.632631480693817\n",
      "\n",
      "Train] epoch] 292, idx] 399 loss] 26.78688640706241\n",
      "\n",
      "Train] epoch] 292, idx] 499 loss] 34.06230616942048\n",
      "\n",
      "Train] epoch] 292, idx] 599 loss] 30.48653637431562\n",
      "\n"
     ]
    },
    {
     "name": "stderr",
     "output_type": "stream",
     "text": [
      "\r",
      " 10%|▉         | 292/3000 [04:51<46:29,  1.03s/it]"
     ]
    },
    {
     "name": "stdout",
     "output_type": "stream",
     "text": [
      "\n",
      "Train] epoch] 293, idx] 99 loss] 53.07335567474365\n",
      "\n",
      "Train] epoch] 293, idx] 199 loss] 28.48319721221924\n",
      "\n",
      "Train] epoch] 293, idx] 299 loss] 29.59453327022493\n",
      "\n",
      "Train] epoch] 293, idx] 399 loss] 31.158404037356377\n",
      "\n",
      "Train] epoch] 293, idx] 499 loss] 33.592260802164674\n",
      "\n"
     ]
    },
    {
     "name": "stderr",
     "output_type": "stream",
     "text": [
      "\r",
      " 10%|▉         | 293/3000 [04:52<46:13,  1.02s/it]"
     ]
    },
    {
     "name": "stdout",
     "output_type": "stream",
     "text": [
      "Train] epoch] 293, idx] 599 loss] 31.14082619547844\n",
      "\n",
      "\n",
      "Train] epoch] 294, idx] 99 loss] 49.13652181997895\n",
      "\n",
      "Train] epoch] 294, idx] 199 loss] 28.344535771757364\n",
      "\n",
      "Train] epoch] 294, idx] 299 loss] 25.427483271807432\n",
      "\n",
      "Train] epoch] 294, idx] 399 loss] 34.21111383847892\n",
      "\n",
      "Train] epoch] 294, idx] 499 loss] 33.63881433941424\n",
      "\n",
      "Train] epoch] 294, idx] 599 loss] 34.73756619170308\n",
      "\n"
     ]
    },
    {
     "name": "stderr",
     "output_type": "stream",
     "text": [
      "\r",
      " 10%|▉         | 294/3000 [04:53<45:58,  1.02s/it]"
     ]
    },
    {
     "name": "stdout",
     "output_type": "stream",
     "text": [
      "\n",
      "Train] epoch] 295, idx] 99 loss] 52.1531599573791\n",
      "\n",
      "Train] epoch] 295, idx] 199 loss] 27.190221320837736\n",
      "\n",
      "Train] epoch] 295, idx] 299 loss] 30.13717555999756\n",
      "\n",
      "Train] epoch] 295, idx] 399 loss] 28.89369641430676\n",
      "\n",
      "Train] epoch] 295, idx] 499 loss] 35.379991855472326\n",
      "\n"
     ]
    },
    {
     "name": "stderr",
     "output_type": "stream",
     "text": [
      "\r",
      " 10%|▉         | 295/3000 [04:54<45:34,  1.01s/it]"
     ]
    },
    {
     "name": "stdout",
     "output_type": "stream",
     "text": [
      "Train] epoch] 295, idx] 599 loss] 29.623926103115082\n",
      "\n",
      "\n",
      "Train] epoch] 296, idx] 99 loss] 50.78868860192597\n",
      "\n",
      "Train] epoch] 296, idx] 199 loss] 32.589825354516506\n",
      "\n",
      "Train] epoch] 296, idx] 299 loss] 33.140120431780815\n",
      "\n",
      "Train] epoch] 296, idx] 399 loss] 28.73357859812677\n",
      "\n",
      "Train] epoch] 296, idx] 499 loss] 27.985299963504076\n",
      "\n",
      "Train] epoch] 296, idx] 599 loss] 31.37891712039709\n",
      "\n"
     ]
    },
    {
     "name": "stderr",
     "output_type": "stream",
     "text": [
      "\r",
      " 10%|▉         | 296/3000 [04:55<46:05,  1.02s/it]"
     ]
    },
    {
     "name": "stdout",
     "output_type": "stream",
     "text": [
      "\n",
      "Train] epoch] 297, idx] 99 loss] 41.32178187277168\n",
      "\n",
      "Train] epoch] 297, idx] 199 loss] 30.83459312096238\n",
      "\n",
      "Train] epoch] 297, idx] 299 loss] 32.83856073580682\n",
      "\n",
      "Train] epoch] 297, idx] 399 loss] 25.53010143339634\n",
      "\n",
      "Train] epoch] 297, idx] 499 loss] 32.996327959001064\n",
      "\n"
     ]
    },
    {
     "name": "stderr",
     "output_type": "stream",
     "text": [
      "\r",
      " 10%|▉         | 297/3000 [04:56<46:04,  1.02s/it]"
     ]
    },
    {
     "name": "stdout",
     "output_type": "stream",
     "text": [
      "Train] epoch] 297, idx] 599 loss] 31.928336687386036\n",
      "\n",
      "\n",
      "Train] epoch] 298, idx] 99 loss] 51.13312303647399\n",
      "\n",
      "Train] epoch] 298, idx] 199 loss] 32.66724448278546\n",
      "\n",
      "Train] epoch] 298, idx] 299 loss] 30.41646350733936\n",
      "\n",
      "Train] epoch] 298, idx] 399 loss] 26.91194131784141\n",
      "\n",
      "Train] epoch] 298, idx] 499 loss] 28.58723047375679\n",
      "\n",
      "Train] epoch] 298, idx] 599 loss] 27.682291969656944\n",
      "\n"
     ]
    },
    {
     "name": "stderr",
     "output_type": "stream",
     "text": [
      "\r",
      " 10%|▉         | 298/3000 [04:57<45:34,  1.01s/it]"
     ]
    },
    {
     "name": "stdout",
     "output_type": "stream",
     "text": [
      "\n",
      "Train] epoch] 299, idx] 99 loss] 55.51000169292092\n",
      "\n",
      "Train] epoch] 299, idx] 199 loss] 31.890184473246336\n",
      "\n",
      "Train] epoch] 299, idx] 299 loss] 30.162695705890656\n",
      "\n",
      "Train] epoch] 299, idx] 399 loss] 33.32810132578015\n",
      "\n",
      "Train] epoch] 299, idx] 499 loss] 25.90427513886243\n",
      "\n"
     ]
    },
    {
     "name": "stderr",
     "output_type": "stream",
     "text": [
      "\r",
      " 10%|▉         | 299/3000 [04:58<44:53,  1.00it/s]"
     ]
    },
    {
     "name": "stdout",
     "output_type": "stream",
     "text": [
      "Train] epoch] 299, idx] 599 loss] 26.877273052930832\n",
      "\n",
      "\n",
      "Train] epoch] 300, idx] 99 loss] 53.45123002678156\n",
      "\n",
      "Train] epoch] 300, idx] 199 loss] 31.30739360116422\n",
      "\n",
      "Train] epoch] 300, idx] 299 loss] 31.89169690012932\n",
      "\n",
      "Train] epoch] 300, idx] 399 loss] 26.174728125333786\n",
      "\n",
      "Train] epoch] 300, idx] 499 loss] 25.010856730863452\n",
      "\n",
      "Train] epoch] 300, idx] 599 loss] 32.77758126333356\n",
      "\n"
     ]
    },
    {
     "name": "stderr",
     "output_type": "stream",
     "text": [
      "\r",
      " 10%|█         | 300/3000 [04:59<44:45,  1.01it/s]"
     ]
    },
    {
     "name": "stdout",
     "output_type": "stream",
     "text": [
      "\n",
      "Train] epoch] 301, idx] 99 loss] 49.46623112820089\n",
      "\n",
      "Train] epoch] 301, idx] 199 loss] 27.77351900190115\n",
      "\n",
      "Train] epoch] 301, idx] 299 loss] 33.256176544353366\n",
      "\n",
      "Train] epoch] 301, idx] 399 loss] 31.12348859757185\n",
      "\n",
      "Train] epoch] 301, idx] 499 loss] 27.194166388362646\n",
      "\n"
     ]
    },
    {
     "name": "stderr",
     "output_type": "stream",
     "text": [
      "\r",
      " 10%|█         | 301/3000 [05:00<44:58,  1.00it/s]"
     ]
    },
    {
     "name": "stdout",
     "output_type": "stream",
     "text": [
      "Train] epoch] 301, idx] 599 loss] 30.385434167459607\n",
      "\n",
      "\n",
      "Train] epoch] 302, idx] 99 loss] 49.729922542348504\n",
      "\n",
      "Train] epoch] 302, idx] 199 loss] 29.817556647583842\n",
      "\n",
      "Train] epoch] 302, idx] 299 loss] 32.5640640668571\n",
      "\n",
      "Train] epoch] 302, idx] 399 loss] 29.251883257180452\n",
      "\n",
      "Train] epoch] 302, idx] 499 loss] 31.170992577448487\n",
      "\n",
      "Train] epoch] 302, idx] 599 loss] 27.88524790108204\n",
      "\n"
     ]
    },
    {
     "name": "stderr",
     "output_type": "stream",
     "text": [
      "\r",
      " 10%|█         | 302/3000 [05:01<44:18,  1.01it/s]"
     ]
    },
    {
     "name": "stdout",
     "output_type": "stream",
     "text": [
      "\n",
      "Train] epoch] 303, idx] 99 loss] 49.692034497857094\n",
      "\n",
      "Train] epoch] 303, idx] 199 loss] 29.43787033855915\n",
      "\n",
      "Train] epoch] 303, idx] 299 loss] 30.47846782207489\n",
      "\n",
      "Train] epoch] 303, idx] 399 loss] 28.93413484841585\n",
      "\n",
      "Train] epoch] 303, idx] 499 loss] 32.18127404153347\n",
      "\n"
     ]
    },
    {
     "name": "stderr",
     "output_type": "stream",
     "text": [
      "\r",
      " 10%|█         | 303/3000 [05:02<44:22,  1.01it/s]"
     ]
    },
    {
     "name": "stdout",
     "output_type": "stream",
     "text": [
      "Train] epoch] 303, idx] 599 loss] 30.979823656380177\n",
      "\n",
      "\n",
      "Train] epoch] 304, idx] 99 loss] 44.84460409358144\n",
      "\n",
      "Train] epoch] 304, idx] 199 loss] 31.075484855100513\n",
      "\n",
      "Train] epoch] 304, idx] 299 loss] 33.297441406175494\n",
      "\n",
      "Train] epoch] 304, idx] 399 loss] 31.512486331164837\n",
      "\n",
      "Train] epoch] 304, idx] 499 loss] 31.3279617279768\n",
      "\n",
      "Train] epoch] 304, idx] 599 loss] 28.16045173443854\n",
      "\n"
     ]
    },
    {
     "name": "stderr",
     "output_type": "stream",
     "text": [
      "\r",
      " 10%|█         | 304/3000 [05:03<44:16,  1.02it/s]"
     ]
    },
    {
     "name": "stdout",
     "output_type": "stream",
     "text": [
      "\n",
      "Train] epoch] 305, idx] 99 loss] 51.67152886092663\n",
      "\n",
      "Train] epoch] 305, idx] 199 loss] 28.930059116333723\n",
      "\n",
      "Train] epoch] 305, idx] 299 loss] 27.483872739598155\n",
      "\n",
      "Train] epoch] 305, idx] 399 loss] 26.37005900964141\n",
      "\n",
      "Train] epoch] 305, idx] 499 loss] 26.45992761105299\n",
      "\n"
     ]
    },
    {
     "name": "stderr",
     "output_type": "stream",
     "text": [
      "\r",
      " 10%|█         | 305/3000 [05:04<45:09,  1.01s/it]"
     ]
    },
    {
     "name": "stdout",
     "output_type": "stream",
     "text": [
      "Train] epoch] 305, idx] 599 loss] 31.523569414392114\n",
      "\n",
      "\n",
      "Train] epoch] 306, idx] 99 loss] 52.417795710265636\n",
      "\n",
      "Train] epoch] 306, idx] 199 loss] 30.419851768761873\n",
      "\n",
      "Train] epoch] 306, idx] 299 loss] 29.80586480908096\n",
      "\n",
      "Train] epoch] 306, idx] 399 loss] 27.669086636975408\n",
      "\n",
      "Train] epoch] 306, idx] 499 loss] 32.3410830385983\n",
      "\n",
      "Train] epoch] 306, idx] 599 loss] 31.347200869582593\n",
      "\n"
     ]
    },
    {
     "name": "stderr",
     "output_type": "stream",
     "text": [
      "\r",
      " 10%|█         | 306/3000 [05:05<46:14,  1.03s/it]"
     ]
    },
    {
     "name": "stdout",
     "output_type": "stream",
     "text": [
      "\n",
      "Train] epoch] 307, idx] 99 loss] 57.075263272970915\n",
      "\n",
      "Train] epoch] 307, idx] 199 loss] 28.259364277124405\n",
      "\n",
      "Train] epoch] 307, idx] 299 loss] 33.240568932145834\n",
      "\n",
      "Train] epoch] 307, idx] 399 loss] 29.584184922277927\n",
      "\n",
      "Train] epoch] 307, idx] 499 loss] 29.635399729013443\n",
      "\n"
     ]
    },
    {
     "name": "stderr",
     "output_type": "stream",
     "text": [
      "\r",
      " 10%|█         | 307/3000 [05:07<50:45,  1.13s/it]"
     ]
    },
    {
     "name": "stdout",
     "output_type": "stream",
     "text": [
      "Train] epoch] 307, idx] 599 loss] 33.369758516550064\n",
      "\n",
      "\n",
      "Train] epoch] 308, idx] 99 loss] 49.631464121863246\n",
      "\n",
      "Train] epoch] 308, idx] 199 loss] 28.77899124659598\n",
      "\n",
      "Train] epoch] 308, idx] 299 loss] 29.504731453955173\n",
      "\n",
      "Train] epoch] 308, idx] 399 loss] 32.07581090182066\n",
      "\n",
      "Train] epoch] 308, idx] 499 loss] 30.57086592912674\n",
      "\n",
      "Train] epoch] 308, idx] 599 loss] 32.78421886637807\n",
      "\n"
     ]
    },
    {
     "name": "stderr",
     "output_type": "stream",
     "text": [
      "\r",
      " 10%|█         | 308/3000 [05:08<49:02,  1.09s/it]"
     ]
    },
    {
     "name": "stdout",
     "output_type": "stream",
     "text": [
      "\n",
      "Train] epoch] 309, idx] 99 loss] 46.08161741681397\n",
      "\n",
      "Train] epoch] 309, idx] 199 loss] 30.013704136013985\n",
      "\n",
      "Train] epoch] 309, idx] 299 loss] 28.650077970698476\n",
      "\n",
      "Train] epoch] 309, idx] 399 loss] 32.731864124536514\n",
      "\n",
      "Train] epoch] 309, idx] 499 loss] 30.355967255309224\n",
      "\n"
     ]
    },
    {
     "name": "stderr",
     "output_type": "stream",
     "text": [
      "\r",
      " 10%|█         | 309/3000 [05:09<47:56,  1.07s/it]"
     ]
    },
    {
     "name": "stdout",
     "output_type": "stream",
     "text": [
      "Train] epoch] 309, idx] 599 loss] 29.507388696074486\n",
      "\n",
      "\n",
      "Train] epoch] 310, idx] 99 loss] 46.86654423549771\n",
      "\n",
      "Train] epoch] 310, idx] 199 loss] 30.134067807346582\n",
      "\n",
      "Train] epoch] 310, idx] 299 loss] 29.663854690268636\n",
      "\n",
      "Train] epoch] 310, idx] 399 loss] 31.250837109982967\n",
      "\n",
      "Train] epoch] 310, idx] 499 loss] 29.283379189670086\n",
      "\n",
      "Train] epoch] 310, idx] 599 loss] 28.323561251163483\n",
      "\n"
     ]
    },
    {
     "name": "stderr",
     "output_type": "stream",
     "text": [
      "\r",
      " 10%|█         | 310/3000 [05:10<47:11,  1.05s/it]"
     ]
    },
    {
     "name": "stdout",
     "output_type": "stream",
     "text": [
      "\n",
      "Train] epoch] 311, idx] 99 loss] 48.76237587817013\n",
      "\n",
      "Train] epoch] 311, idx] 199 loss] 27.234050653874874\n",
      "\n",
      "Train] epoch] 311, idx] 299 loss] 28.587886847555637\n",
      "\n",
      "Train] epoch] 311, idx] 399 loss] 29.6278725117445\n",
      "\n",
      "Train] epoch] 311, idx] 499 loss] 28.71678170375526\n",
      "\n"
     ]
    },
    {
     "name": "stderr",
     "output_type": "stream",
     "text": [
      "\r",
      " 10%|█         | 311/3000 [05:11<46:53,  1.05s/it]"
     ]
    },
    {
     "name": "stdout",
     "output_type": "stream",
     "text": [
      "Train] epoch] 311, idx] 599 loss] 32.61579976044595\n",
      "\n",
      "\n",
      "Train] epoch] 312, idx] 99 loss] 48.56436374410987\n",
      "\n",
      "Train] epoch] 312, idx] 199 loss] 30.990176741033792\n",
      "\n",
      "Train] epoch] 312, idx] 299 loss] 31.55390875414014\n",
      "\n",
      "Train] epoch] 312, idx] 399 loss] 31.46267008408904\n",
      "\n",
      "Train] epoch] 312, idx] 499 loss] 30.33857554383576\n",
      "\n",
      "Train] epoch] 312, idx] 599 loss] 30.802309542894363\n",
      "\n"
     ]
    },
    {
     "name": "stderr",
     "output_type": "stream",
     "text": [
      "\r",
      " 10%|█         | 312/3000 [05:12<46:25,  1.04s/it]"
     ]
    },
    {
     "name": "stdout",
     "output_type": "stream",
     "text": [
      "\n",
      "Train] epoch] 313, idx] 99 loss] 46.49862362537533\n",
      "\n",
      "Train] epoch] 313, idx] 199 loss] 28.608725601807237\n",
      "\n",
      "Train] epoch] 313, idx] 299 loss] 29.468956953845918\n",
      "\n",
      "Train] epoch] 313, idx] 399 loss] 27.34944506175816\n",
      "\n",
      "Train] epoch] 313, idx] 499 loss] 34.629268530756235\n",
      "\n"
     ]
    },
    {
     "name": "stderr",
     "output_type": "stream",
     "text": [
      "\r",
      " 10%|█         | 313/3000 [05:13<46:41,  1.04s/it]"
     ]
    },
    {
     "name": "stdout",
     "output_type": "stream",
     "text": [
      "Train] epoch] 313, idx] 599 loss] 29.158879917114973\n",
      "\n",
      "\n",
      "Train] epoch] 314, idx] 99 loss] 51.207885175943375\n",
      "\n",
      "Train] epoch] 314, idx] 199 loss] 30.442007079720497\n",
      "\n",
      "Train] epoch] 314, idx] 299 loss] 32.55314510688186\n",
      "\n",
      "Train] epoch] 314, idx] 399 loss] 31.149469517171383\n",
      "\n",
      "Train] epoch] 314, idx] 499 loss] 30.709751158952713\n",
      "\n",
      "Train] epoch] 314, idx] 599 loss] 31.88029444590211\n",
      "\n"
     ]
    },
    {
     "name": "stderr",
     "output_type": "stream",
     "text": [
      "\r",
      " 10%|█         | 314/3000 [05:14<46:20,  1.04s/it]"
     ]
    },
    {
     "name": "stdout",
     "output_type": "stream",
     "text": [
      "\n",
      "Train] epoch] 315, idx] 99 loss] 50.98396936058998\n",
      "\n",
      "Train] epoch] 315, idx] 199 loss] 29.17793506383896\n",
      "\n",
      "Train] epoch] 315, idx] 299 loss] 33.241082433611155\n",
      "\n",
      "Train] epoch] 315, idx] 399 loss] 28.917025338858366\n",
      "\n",
      "Train] epoch] 315, idx] 499 loss] 29.00194762274623\n",
      "\n"
     ]
    },
    {
     "name": "stderr",
     "output_type": "stream",
     "text": [
      "\r",
      " 10%|█         | 315/3000 [05:15<46:06,  1.03s/it]"
     ]
    },
    {
     "name": "stdout",
     "output_type": "stream",
     "text": [
      "Train] epoch] 315, idx] 599 loss] 23.913703501224518\n",
      "\n",
      "\n",
      "Train] epoch] 316, idx] 99 loss] 50.78510789386928\n",
      "\n",
      "Train] epoch] 316, idx] 199 loss] 30.18413489870727\n",
      "\n",
      "Train] epoch] 316, idx] 299 loss] 29.489230828359723\n",
      "\n",
      "Train] epoch] 316, idx] 399 loss] 29.8893960416317\n",
      "\n",
      "Train] epoch] 316, idx] 499 loss] 28.132248926907778\n",
      "\n",
      "Train] epoch] 316, idx] 599 loss] 28.781042085960507\n",
      "\n"
     ]
    },
    {
     "name": "stderr",
     "output_type": "stream",
     "text": [
      "\r",
      " 11%|█         | 316/3000 [05:16<45:29,  1.02s/it]"
     ]
    },
    {
     "name": "stdout",
     "output_type": "stream",
     "text": [
      "\n",
      "Train] epoch] 317, idx] 99 loss] 51.538883827626705\n",
      "\n",
      "Train] epoch] 317, idx] 199 loss] 29.003951722756028\n",
      "\n",
      "Train] epoch] 317, idx] 299 loss] 33.2860701456666\n",
      "\n",
      "Train] epoch] 317, idx] 399 loss] 35.928644973784685\n",
      "\n",
      "Train] epoch] 317, idx] 499 loss] 34.108842473477125\n",
      "\n"
     ]
    },
    {
     "name": "stderr",
     "output_type": "stream",
     "text": [
      "\r",
      " 11%|█         | 317/3000 [05:17<44:58,  1.01s/it]"
     ]
    },
    {
     "name": "stdout",
     "output_type": "stream",
     "text": [
      "Train] epoch] 317, idx] 599 loss] 26.622740153223276\n",
      "\n",
      "\n",
      "Train] epoch] 318, idx] 99 loss] 47.680642331019044\n",
      "\n",
      "Train] epoch] 318, idx] 199 loss] 33.12289464101195\n",
      "\n",
      "Train] epoch] 318, idx] 299 loss] 30.823418360203505\n",
      "\n",
      "Train] epoch] 318, idx] 399 loss] 28.054833818227053\n",
      "\n",
      "Train] epoch] 318, idx] 499 loss] 34.3222714625299\n",
      "\n",
      "Train] epoch] 318, idx] 599 loss] 30.449093967676163\n",
      "\n"
     ]
    },
    {
     "name": "stderr",
     "output_type": "stream",
     "text": [
      "\r",
      " 11%|█         | 318/3000 [05:18<44:57,  1.01s/it]"
     ]
    },
    {
     "name": "stdout",
     "output_type": "stream",
     "text": [
      "\n",
      "Train] epoch] 319, idx] 99 loss] 46.57655915431678\n",
      "\n",
      "Train] epoch] 319, idx] 199 loss] 30.749964829534292\n",
      "\n",
      "Train] epoch] 319, idx] 299 loss] 29.136811209842563\n",
      "\n",
      "Train] epoch] 319, idx] 399 loss] 33.08614198118448\n",
      "\n",
      "Train] epoch] 319, idx] 499 loss] 30.64552164822817\n",
      "\n"
     ]
    },
    {
     "name": "stderr",
     "output_type": "stream",
     "text": [
      "\r",
      " 11%|█         | 319/3000 [05:19<44:32,  1.00it/s]"
     ]
    },
    {
     "name": "stdout",
     "output_type": "stream",
     "text": [
      "Train] epoch] 319, idx] 599 loss] 31.028412837535143\n",
      "\n",
      "\n",
      "Train] epoch] 320, idx] 99 loss] 49.10013245791197\n",
      "\n",
      "Train] epoch] 320, idx] 199 loss] 31.1309997998178\n",
      "\n",
      "Train] epoch] 320, idx] 299 loss] 33.17382387816906\n",
      "\n",
      "Train] epoch] 320, idx] 399 loss] 30.29192445613444\n",
      "\n",
      "Train] epoch] 320, idx] 499 loss] 29.768150821328163\n",
      "\n",
      "Train] epoch] 320, idx] 599 loss] 29.457459311932325\n",
      "\n"
     ]
    },
    {
     "name": "stderr",
     "output_type": "stream",
     "text": [
      "\r",
      " 11%|█         | 320/3000 [05:20<44:58,  1.01s/it]"
     ]
    },
    {
     "name": "stdout",
     "output_type": "stream",
     "text": [
      "\n",
      "Train] epoch] 321, idx] 99 loss] 52.74407787248492\n",
      "\n",
      "Train] epoch] 321, idx] 199 loss] 30.01063778065145\n",
      "\n",
      "Train] epoch] 321, idx] 299 loss] 32.09025373309851\n",
      "\n",
      "Train] epoch] 321, idx] 399 loss] 26.07458766363561\n",
      "\n",
      "Train] epoch] 321, idx] 499 loss] 31.229513058438897\n",
      "\n"
     ]
    },
    {
     "name": "stderr",
     "output_type": "stream",
     "text": [
      "\r",
      " 11%|█         | 321/3000 [05:21<45:27,  1.02s/it]"
     ]
    },
    {
     "name": "stdout",
     "output_type": "stream",
     "text": [
      "Train] epoch] 321, idx] 599 loss] 31.772473499178886\n",
      "\n",
      "\n",
      "Train] epoch] 322, idx] 99 loss] 55.19522406719625\n",
      "\n",
      "Train] epoch] 322, idx] 199 loss] 32.40314410068095\n",
      "\n",
      "Train] epoch] 322, idx] 299 loss] 33.03684016317129\n",
      "\n",
      "Train] epoch] 322, idx] 399 loss] 25.61229395866394\n",
      "\n",
      "Train] epoch] 322, idx] 499 loss] 29.109175484627485\n",
      "\n",
      "Train] epoch] 322, idx] 599 loss] 27.428670378401875\n",
      "\n"
     ]
    },
    {
     "name": "stderr",
     "output_type": "stream",
     "text": [
      "\r",
      " 11%|█         | 322/3000 [05:22<46:23,  1.04s/it]"
     ]
    },
    {
     "name": "stdout",
     "output_type": "stream",
     "text": [
      "\n",
      "Train] epoch] 323, idx] 99 loss] 55.80317603982985\n",
      "\n",
      "Train] epoch] 323, idx] 199 loss] 29.219187822192907\n",
      "\n",
      "Train] epoch] 323, idx] 299 loss] 30.332807226106524\n",
      "\n",
      "Train] epoch] 323, idx] 399 loss] 30.03007814101875\n",
      "\n",
      "Train] epoch] 323, idx] 499 loss] 31.264283379539847\n",
      "\n"
     ]
    },
    {
     "name": "stderr",
     "output_type": "stream",
     "text": [
      "\r",
      " 11%|█         | 323/3000 [05:23<45:27,  1.02s/it]"
     ]
    },
    {
     "name": "stdout",
     "output_type": "stream",
     "text": [
      "Train] epoch] 323, idx] 599 loss] 28.997240372002125\n",
      "\n",
      "\n"
     ]
    },
    {
     "name": "stderr",
     "output_type": "stream",
     "text": [
      "\r",
      " 11%|█         | 323/3000 [05:23<44:43,  1.00s/it]"
     ]
    },
    {
     "name": "stdout",
     "output_type": "stream",
     "text": [
      "Train] epoch] 324, idx] 99 loss] 48.698021341115236\n",
      "\n"
     ]
    },
    {
     "name": "stderr",
     "output_type": "stream",
     "text": [
      "\n"
     ]
    },
    {
     "ename": "KeyboardInterrupt",
     "evalue": "",
     "output_type": "error",
     "traceback": [
      "\u001b[0;31m---------------------------------------------------------------------------\u001b[0m",
      "\u001b[0;31mKeyboardInterrupt\u001b[0m                         Traceback (most recent call last)",
      "\u001b[0;32m<ipython-input-110-5b04fb776853>\u001b[0m in \u001b[0;36m<module>\u001b[0;34m\u001b[0m\n\u001b[1;32m     16\u001b[0m         \u001b[0mtrain_outputs\u001b[0m \u001b[0;34m=\u001b[0m \u001b[0mmodel\u001b[0m\u001b[0;34m(\u001b[0m\u001b[0mtrain_inputs\u001b[0m\u001b[0;34m)\u001b[0m\u001b[0;34m\u001b[0m\u001b[0;34m\u001b[0m\u001b[0m\n\u001b[1;32m     17\u001b[0m         \u001b[0mtrain_loss\u001b[0m \u001b[0;34m=\u001b[0m \u001b[0mcriterion\u001b[0m\u001b[0;34m(\u001b[0m\u001b[0mtrain_outputs\u001b[0m\u001b[0;34m,\u001b[0m \u001b[0mtrain_labels\u001b[0m\u001b[0;34m)\u001b[0m\u001b[0;34m\u001b[0m\u001b[0;34m\u001b[0m\u001b[0m\n\u001b[0;32m---> 18\u001b[0;31m         \u001b[0mtrain_loss\u001b[0m\u001b[0;34m.\u001b[0m\u001b[0mbackward\u001b[0m\u001b[0;34m(\u001b[0m\u001b[0;34m)\u001b[0m\u001b[0;34m\u001b[0m\u001b[0;34m\u001b[0m\u001b[0m\n\u001b[0m\u001b[1;32m     19\u001b[0m         \u001b[0moptimizer\u001b[0m\u001b[0;34m.\u001b[0m\u001b[0mstep\u001b[0m\u001b[0;34m(\u001b[0m\u001b[0;34m)\u001b[0m\u001b[0;34m\u001b[0m\u001b[0;34m\u001b[0m\u001b[0m\n\u001b[1;32m     20\u001b[0m \u001b[0;34m\u001b[0m\u001b[0m\n",
      "\u001b[0;32m~/anaconda3/envs/flu_screening/lib/python3.8/site-packages/torch/tensor.py\u001b[0m in \u001b[0;36mbackward\u001b[0;34m(self, gradient, retain_graph, create_graph, inputs)\u001b[0m\n\u001b[1;32m    243\u001b[0m                 \u001b[0mcreate_graph\u001b[0m\u001b[0;34m=\u001b[0m\u001b[0mcreate_graph\u001b[0m\u001b[0;34m,\u001b[0m\u001b[0;34m\u001b[0m\u001b[0;34m\u001b[0m\u001b[0m\n\u001b[1;32m    244\u001b[0m                 inputs=inputs)\n\u001b[0;32m--> 245\u001b[0;31m         \u001b[0mtorch\u001b[0m\u001b[0;34m.\u001b[0m\u001b[0mautograd\u001b[0m\u001b[0;34m.\u001b[0m\u001b[0mbackward\u001b[0m\u001b[0;34m(\u001b[0m\u001b[0mself\u001b[0m\u001b[0;34m,\u001b[0m \u001b[0mgradient\u001b[0m\u001b[0;34m,\u001b[0m \u001b[0mretain_graph\u001b[0m\u001b[0;34m,\u001b[0m \u001b[0mcreate_graph\u001b[0m\u001b[0;34m,\u001b[0m \u001b[0minputs\u001b[0m\u001b[0;34m=\u001b[0m\u001b[0minputs\u001b[0m\u001b[0;34m)\u001b[0m\u001b[0;34m\u001b[0m\u001b[0;34m\u001b[0m\u001b[0m\n\u001b[0m\u001b[1;32m    246\u001b[0m \u001b[0;34m\u001b[0m\u001b[0m\n\u001b[1;32m    247\u001b[0m     \u001b[0;32mdef\u001b[0m \u001b[0mregister_hook\u001b[0m\u001b[0;34m(\u001b[0m\u001b[0mself\u001b[0m\u001b[0;34m,\u001b[0m \u001b[0mhook\u001b[0m\u001b[0;34m)\u001b[0m\u001b[0;34m:\u001b[0m\u001b[0;34m\u001b[0m\u001b[0;34m\u001b[0m\u001b[0m\n",
      "\u001b[0;32m~/anaconda3/envs/flu_screening/lib/python3.8/site-packages/torch/autograd/__init__.py\u001b[0m in \u001b[0;36mbackward\u001b[0;34m(tensors, grad_tensors, retain_graph, create_graph, grad_variables, inputs)\u001b[0m\n\u001b[1;32m    143\u001b[0m         \u001b[0mretain_graph\u001b[0m \u001b[0;34m=\u001b[0m \u001b[0mcreate_graph\u001b[0m\u001b[0;34m\u001b[0m\u001b[0;34m\u001b[0m\u001b[0m\n\u001b[1;32m    144\u001b[0m \u001b[0;34m\u001b[0m\u001b[0m\n\u001b[0;32m--> 145\u001b[0;31m     Variable._execution_engine.run_backward(\n\u001b[0m\u001b[1;32m    146\u001b[0m         \u001b[0mtensors\u001b[0m\u001b[0;34m,\u001b[0m \u001b[0mgrad_tensors_\u001b[0m\u001b[0;34m,\u001b[0m \u001b[0mretain_graph\u001b[0m\u001b[0;34m,\u001b[0m \u001b[0mcreate_graph\u001b[0m\u001b[0;34m,\u001b[0m \u001b[0minputs\u001b[0m\u001b[0;34m,\u001b[0m\u001b[0;34m\u001b[0m\u001b[0;34m\u001b[0m\u001b[0m\n\u001b[1;32m    147\u001b[0m         allow_unreachable=True, accumulate_grad=True)  # allow_unreachable flag\n",
      "\u001b[0;31mKeyboardInterrupt\u001b[0m: "
     ]
    }
   ],
   "source": [
    "train_running_loss = 0.0\n",
    "test_running_loss = 0.0\n",
    "num_epochs = 3000\n",
    "\n",
    "model.train()\n",
    "for epoch in tqdm(range(num_epochs)):\n",
    "    print()\n",
    "    for idx, data in enumerate(train_dataloader, 0):\n",
    "#     for idx, (train_data, test_data) in enumerate(zip(train_dataloader, test_dataloader)):\n",
    "        train_inputs, train_labels = data\n",
    "#         test_inputs, test_labels = test_data\n",
    "#         print(train_inputs.shape)\n",
    "        \n",
    "        optimizer.zero_grad()\n",
    "        \n",
    "        train_outputs = model(train_inputs)\n",
    "        train_loss = criterion(train_outputs, train_labels)\n",
    "        train_loss.backward()\n",
    "        optimizer.step()\n",
    "        \n",
    "#         test_outputs = model(test_inputs)\n",
    "#         test_loss = criterion(test_outputs, test_labels)\n",
    "        \n",
    "        train_running_loss += train_loss.item()\n",
    "#         test_running_loss += test_loss.item()\n",
    "        \n",
    "        if idx % 100 == 99:\n",
    "            print(f'Train] epoch] {epoch+1}, idx] {idx} loss] {train_running_loss}')\n",
    "#             print(f'Test] epoch] {epoch+1}, idx] {idx} loss] {test_running_loss}')\n",
    "            print()\n",
    "            train_running_loss = 0.0\n",
    "            test_running_loss = 0.0\n",
    "print('Finished Training')"
   ]
  },
  {
   "cell_type": "code",
   "execution_count": 111,
   "id": "4607afde",
   "metadata": {},
   "outputs": [],
   "source": [
    "model.eval()\n",
    "preds = []\n",
    "labels = []\n",
    "for idx, data in enumerate(test_dataloader, 0):\n",
    "    test_inputs, test_labels = data\n",
    "    test_outputs = model(test_inputs)\n",
    "    labels.append(test_labels.item())\n",
    "    preds.append(test_outputs.item())\n",
    "preds = np.asarray(preds)\n",
    "labels = np.asarray(labels)"
   ]
  },
  {
   "cell_type": "code",
   "execution_count": 112,
   "id": "4d10f14a",
   "metadata": {},
   "outputs": [
    {
     "data": {
      "text/plain": [
       "(array([0., 0., 1., 0., 0., 1., 1., 1., 0., 1.]),\n",
       " array([0.25933319, 0.11482081, 0.71508926, 0.02937354, 0.3528474 ,\n",
       "        0.82556987, 0.95734715, 0.80881953, 0.15624155, 0.46607262]))"
      ]
     },
     "execution_count": 112,
     "metadata": {},
     "output_type": "execute_result"
    }
   ],
   "source": [
    "labels[:10], preds[:10]"
   ]
  },
  {
   "cell_type": "code",
   "execution_count": 113,
   "id": "fbfda11d",
   "metadata": {},
   "outputs": [],
   "source": [
    "auc_score = roc_auc_score(labels, preds)"
   ]
  },
  {
   "cell_type": "code",
   "execution_count": 114,
   "id": "6a9d825b",
   "metadata": {},
   "outputs": [],
   "source": [
    "acc = accuracy_score(labels, (preds > 0.5).astype(int))"
   ]
  },
  {
   "cell_type": "code",
   "execution_count": 115,
   "id": "d0f45471",
   "metadata": {},
   "outputs": [
    {
     "data": {
      "text/plain": [
       "(0.8393393393393394, 0.9116426956802544)"
      ]
     },
     "execution_count": 115,
     "metadata": {},
     "output_type": "execute_result"
    }
   ],
   "source": [
    "acc, auc_score"
   ]
  },
  {
   "cell_type": "code",
   "execution_count": null,
   "id": "bf95410f",
   "metadata": {},
   "outputs": [],
   "source": []
  }
 ],
 "metadata": {
  "kernelspec": {
   "display_name": "Python 3",
   "language": "python",
   "name": "python3"
  },
  "language_info": {
   "codemirror_mode": {
    "name": "ipython",
    "version": 3
   },
   "file_extension": ".py",
   "mimetype": "text/x-python",
   "name": "python",
   "nbconvert_exporter": "python",
   "pygments_lexer": "ipython3",
   "version": "3.8.10"
  }
 },
 "nbformat": 4,
 "nbformat_minor": 5
}
