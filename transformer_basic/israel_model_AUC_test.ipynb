{
 "cells": [
  {
   "cell_type": "markdown",
   "id": "53072070",
   "metadata": {},
   "source": [
    "## Import library"
   ]
  },
  {
   "cell_type": "code",
   "execution_count": 1,
   "id": "32a01580",
   "metadata": {},
   "outputs": [],
   "source": [
    "import datetime \n",
    "from datetime import timedelta \n",
    "import os\n",
    "import glob\n",
    "import numpy as np\n",
    "import pandas as pd\n",
    "import torch\n",
    "import torchvision\n",
    "import torchvision.transforms as transforms\n",
    "from sklearn.metrics import roc_curve\n",
    "from torch import nn, optim\n",
    "\n",
    "import torch.nn.functional as F\n",
    "import math, copy, time\n",
    "from torch.autograd import Variable\n",
    "from torch.utils.data import Dataset\n",
    "from torch.utils.data import DataLoader\n",
    "from itertools import cycle\n",
    "from tqdm.notebook import tqdm\n",
    "import re\n",
    "from sklearn.metrics import roc_auc_score, plot_roc_curve\n",
    "\n",
    "import matplotlib.pyplot as plt\n",
    "import seaborn\n",
    "from collections import defaultdict\n",
    "\n",
    "from sklearn import svm\n",
    "\n",
    "import matplotlib.font_manager as fm\n",
    "import seaborn as sns\n",
    "from itertools import product"
   ]
  },
  {
   "cell_type": "markdown",
   "id": "947019e1",
   "metadata": {},
   "source": [
    "## Data load"
   ]
  },
  {
   "cell_type": "code",
   "execution_count": 2,
   "id": "4d863c8d",
   "metadata": {
    "scrolled": true
   },
   "outputs": [
    {
     "name": "stderr",
     "output_type": "stream",
     "text": [
      "/home/md/anaconda3/envs/flu_screening/lib/python3.8/site-packages/IPython/core/interactiveshell.py:3165: DtypeWarning: Columns (7,8) have mixed types.Specify dtype option on import or set low_memory=False.\n",
      "  has_raised = await self.run_ast_nodes(code_ast.body, cell_name,\n"
     ]
    }
   ],
   "source": [
    "# df_israel_covid 이스라엘 데이터셋\n",
    "# corona_isolation_per_day_ver_0059 일일 코로나 격리자 수 \n",
    "# time_series_covid19_confirmed_global 누적 확진자 수 \n",
    "\n",
    "base_path = './opendataset'\n",
    "df_israel_covid = pd.read_csv(f'{base_path}/israel_covid_large_2.csv')\n",
    "# df_israel_covid = pd.read_csv(f'{base_path}/israel_covid_small.csv')\n",
    "df_israel_isolation_per_day = pd.read_csv(f'{base_path}/corona_isolation_per_day_ver_0069.csv')\n",
    "df_timeseries_confirm = pd.read_csv(f'{base_path}/time_series_covid19_confirmed_global.csv')"
   ]
  },
  {
   "cell_type": "code",
   "execution_count": 3,
   "id": "6f573029",
   "metadata": {},
   "outputs": [],
   "source": [
    "df_confirmed_global = df_timeseries_confirm.sum().reset_index()"
   ]
  },
  {
   "cell_type": "code",
   "execution_count": 4,
   "id": "1908b2fa",
   "metadata": {},
   "outputs": [],
   "source": [
    "df_confirmed_global = df_confirmed_global.rename(columns={'index': 'global_confirmed_date', 0: 'global_confirmed_numsum'}).iloc[3:, :]"
   ]
  },
  {
   "cell_type": "code",
   "execution_count": 5,
   "id": "dd2c1c5c",
   "metadata": {},
   "outputs": [],
   "source": [
    "df_confirmed_global = df_confirmed_global.reset_index(drop=True)"
   ]
  },
  {
   "cell_type": "code",
   "execution_count": 6,
   "id": "8e55619d",
   "metadata": {},
   "outputs": [
    {
     "data": {
      "text/html": [
       "<div>\n",
       "<style scoped>\n",
       "    .dataframe tbody tr th:only-of-type {\n",
       "        vertical-align: middle;\n",
       "    }\n",
       "\n",
       "    .dataframe tbody tr th {\n",
       "        vertical-align: top;\n",
       "    }\n",
       "\n",
       "    .dataframe thead th {\n",
       "        text-align: right;\n",
       "    }\n",
       "</style>\n",
       "<table border=\"1\" class=\"dataframe\">\n",
       "  <thead>\n",
       "    <tr style=\"text-align: right;\">\n",
       "      <th></th>\n",
       "      <th>global_confirmed_date</th>\n",
       "      <th>global_confirmed_numsum</th>\n",
       "    </tr>\n",
       "  </thead>\n",
       "  <tbody>\n",
       "    <tr>\n",
       "      <th>0</th>\n",
       "      <td>1/22/20</td>\n",
       "      <td>557</td>\n",
       "    </tr>\n",
       "    <tr>\n",
       "      <th>1</th>\n",
       "      <td>1/23/20</td>\n",
       "      <td>655</td>\n",
       "    </tr>\n",
       "    <tr>\n",
       "      <th>2</th>\n",
       "      <td>1/24/20</td>\n",
       "      <td>941</td>\n",
       "    </tr>\n",
       "    <tr>\n",
       "      <th>3</th>\n",
       "      <td>1/25/20</td>\n",
       "      <td>1433</td>\n",
       "    </tr>\n",
       "    <tr>\n",
       "      <th>4</th>\n",
       "      <td>1/26/20</td>\n",
       "      <td>2118</td>\n",
       "    </tr>\n",
       "    <tr>\n",
       "      <th>...</th>\n",
       "      <td>...</td>\n",
       "      <td>...</td>\n",
       "    </tr>\n",
       "    <tr>\n",
       "      <th>589</th>\n",
       "      <td>9/2/21</td>\n",
       "      <td>219062869</td>\n",
       "    </tr>\n",
       "    <tr>\n",
       "      <th>590</th>\n",
       "      <td>9/3/21</td>\n",
       "      <td>219821446</td>\n",
       "    </tr>\n",
       "    <tr>\n",
       "      <th>591</th>\n",
       "      <td>9/4/21</td>\n",
       "      <td>220282354</td>\n",
       "    </tr>\n",
       "    <tr>\n",
       "      <th>592</th>\n",
       "      <td>9/5/21</td>\n",
       "      <td>220689611</td>\n",
       "    </tr>\n",
       "    <tr>\n",
       "      <th>593</th>\n",
       "      <td>9/6/21</td>\n",
       "      <td>221104483</td>\n",
       "    </tr>\n",
       "  </tbody>\n",
       "</table>\n",
       "<p>594 rows × 2 columns</p>\n",
       "</div>"
      ],
      "text/plain": [
       "    global_confirmed_date global_confirmed_numsum\n",
       "0                 1/22/20                     557\n",
       "1                 1/23/20                     655\n",
       "2                 1/24/20                     941\n",
       "3                 1/25/20                    1433\n",
       "4                 1/26/20                    2118\n",
       "..                    ...                     ...\n",
       "589                9/2/21               219062869\n",
       "590                9/3/21               219821446\n",
       "591                9/4/21               220282354\n",
       "592                9/5/21               220689611\n",
       "593                9/6/21               221104483\n",
       "\n",
       "[594 rows x 2 columns]"
      ]
     },
     "execution_count": 6,
     "metadata": {},
     "output_type": "execute_result"
    }
   ],
   "source": [
    "df_confirmed_global"
   ]
  },
  {
   "cell_type": "code",
   "execution_count": 7,
   "id": "614e2fdd",
   "metadata": {},
   "outputs": [
    {
     "name": "stderr",
     "output_type": "stream",
     "text": [
      "<ipython-input-7-dfada257fb77>:3: SettingWithCopyWarning: \n",
      "A value is trying to be set on a copy of a slice from a DataFrame.\n",
      "Try using .loc[row_indexer,col_indexer] = value instead\n",
      "\n",
      "See the caveats in the documentation: https://pandas.pydata.org/pandas-docs/stable/user_guide/indexing.html#returning-a-view-versus-a-copy\n",
      "  df_confirmed_global['global_confirmed_num'] = df_confirmed_global['global_confirmed_num'].astype(int)\n"
     ]
    }
   ],
   "source": [
    "df_confirmed_global['global_confirmed_num'] = df_confirmed_global['global_confirmed_numsum'] - df_confirmed_global.shift(1)['global_confirmed_numsum']\n",
    "df_confirmed_global = df_confirmed_global.dropna()\n",
    "df_confirmed_global['global_confirmed_num'] = df_confirmed_global['global_confirmed_num'].astype(int)"
   ]
  },
  {
   "cell_type": "code",
   "execution_count": 8,
   "id": "437e9b12",
   "metadata": {},
   "outputs": [],
   "source": [
    "def filter_date(date):\n",
    "    year = f\"20{date[-2:]}\"\n",
    "    month = date[:date.index('/')]\n",
    "    month = f'0{month}' if len(month) == 1 else month\n",
    "    day = date[date.index('/') + 1 : date.rindex('/')]\n",
    "    day = f'0{day}' if len(day) == 1 else day\n",
    "    res = f'{year}-{month}-{day}'\n",
    "    return res"
   ]
  },
  {
   "cell_type": "code",
   "execution_count": 9,
   "id": "9718b94f",
   "metadata": {},
   "outputs": [
    {
     "name": "stderr",
     "output_type": "stream",
     "text": [
      "<ipython-input-9-62bcef823a49>:1: SettingWithCopyWarning: \n",
      "A value is trying to be set on a copy of a slice from a DataFrame.\n",
      "Try using .loc[row_indexer,col_indexer] = value instead\n",
      "\n",
      "See the caveats in the documentation: https://pandas.pydata.org/pandas-docs/stable/user_guide/indexing.html#returning-a-view-versus-a-copy\n",
      "  df_confirmed_global['global_confirmed_date'] = df_confirmed_global['global_confirmed_date'].apply(filter_date)\n"
     ]
    }
   ],
   "source": [
    "df_confirmed_global['global_confirmed_date'] = df_confirmed_global['global_confirmed_date'].apply(filter_date)"
   ]
  },
  {
   "cell_type": "markdown",
   "id": "4045abb0",
   "metadata": {},
   "source": [
    "## preprocessing"
   ]
  },
  {
   "cell_type": "code",
   "execution_count": 10,
   "id": "85fccf9b",
   "metadata": {},
   "outputs": [],
   "source": [
    "# 누적 확진자수를 2021-08-17 와 같은 포멧으로 전처리해주는 과정\n",
    "\n",
    "rows = []\n",
    "for idx, values in enumerate(df_timeseries_confirm[df_timeseries_confirm['Country/Region'] == 'Israel'].iteritems()):\n",
    "    if idx < 4: continue\n",
    "    year = f\"20{values[0][-2:]}\"\n",
    "    month = values[0][:values[0].index('/')]\n",
    "    month = f'0{month}' if len(month) == 1 else month\n",
    "    day = values[0][values[0].index('/') + 1 : values[0].rindex('/')]\n",
    "    day = f'0{day}' if len(day) == 1 else day\n",
    "    date = f'{year}-{month}-{day}'\n",
    "    confirmed_num = values[1].item()\n",
    "    rows.append([date, confirmed_num])\n",
    "df_numsum_confirmed = pd.DataFrame(rows, columns=['confirmed_date', 'confirmed_numsum'])"
   ]
  },
  {
   "cell_type": "code",
   "execution_count": 11,
   "id": "d9af766a",
   "metadata": {},
   "outputs": [],
   "source": [
    "# 누적 확진자를 통해 일일 확진자 구하기\n",
    "\n",
    "df_numsum_confirmed['confirmed_num'] = df_numsum_confirmed['confirmed_numsum'] - df_numsum_confirmed.shift(1)['confirmed_numsum']\n",
    "df_numsum_confirmed = df_numsum_confirmed.dropna()\n",
    "df_numsum_confirmed['confirmed_num'] = df_numsum_confirmed['confirmed_num'].astype(int)"
   ]
  },
  {
   "cell_type": "code",
   "execution_count": 12,
   "id": "0db7f06c",
   "metadata": {},
   "outputs": [
    {
     "name": "stdout",
     "output_type": "stream",
     "text": [
      "before -28\n",
      "after 28\n",
      "\n",
      "before -53\n",
      "after 34\n",
      "\n"
     ]
    }
   ],
   "source": [
    "# 일일 확진자수가 음수인 경우 그 전날 확진자를 가져다 쓰는 과정\n",
    "\n",
    "for idx, row in df_numsum_confirmed[df_numsum_confirmed['confirmed_num'] < 0].iterrows():\n",
    "    print(\"before\", df_numsum_confirmed.loc[idx,'confirmed_num'])\n",
    "    df_numsum_confirmed.loc[idx,'confirmed_num'] = df_numsum_confirmed.loc[idx-1,'confirmed_num']\n",
    "    print(\"after\", df_numsum_confirmed.loc[idx,'confirmed_num'])\n",
    "    print()"
   ]
  },
  {
   "cell_type": "code",
   "execution_count": 13,
   "id": "e1e666d5",
   "metadata": {},
   "outputs": [
    {
     "data": {
      "text/html": [
       "<div>\n",
       "<style scoped>\n",
       "    .dataframe tbody tr th:only-of-type {\n",
       "        vertical-align: middle;\n",
       "    }\n",
       "\n",
       "    .dataframe tbody tr th {\n",
       "        vertical-align: top;\n",
       "    }\n",
       "\n",
       "    .dataframe thead th {\n",
       "        text-align: right;\n",
       "    }\n",
       "</style>\n",
       "<table border=\"1\" class=\"dataframe\">\n",
       "  <thead>\n",
       "    <tr style=\"text-align: right;\">\n",
       "      <th></th>\n",
       "      <th>confirmed_date</th>\n",
       "      <th>confirmed_numsum</th>\n",
       "      <th>confirmed_num</th>\n",
       "    </tr>\n",
       "  </thead>\n",
       "  <tbody>\n",
       "    <tr>\n",
       "      <th>1</th>\n",
       "      <td>2020-01-23</td>\n",
       "      <td>0</td>\n",
       "      <td>0</td>\n",
       "    </tr>\n",
       "    <tr>\n",
       "      <th>2</th>\n",
       "      <td>2020-01-24</td>\n",
       "      <td>0</td>\n",
       "      <td>0</td>\n",
       "    </tr>\n",
       "    <tr>\n",
       "      <th>3</th>\n",
       "      <td>2020-01-25</td>\n",
       "      <td>0</td>\n",
       "      <td>0</td>\n",
       "    </tr>\n",
       "    <tr>\n",
       "      <th>4</th>\n",
       "      <td>2020-01-26</td>\n",
       "      <td>0</td>\n",
       "      <td>0</td>\n",
       "    </tr>\n",
       "    <tr>\n",
       "      <th>5</th>\n",
       "      <td>2020-01-27</td>\n",
       "      <td>0</td>\n",
       "      <td>0</td>\n",
       "    </tr>\n",
       "  </tbody>\n",
       "</table>\n",
       "</div>"
      ],
      "text/plain": [
       "  confirmed_date  confirmed_numsum  confirmed_num\n",
       "1     2020-01-23                 0              0\n",
       "2     2020-01-24                 0              0\n",
       "3     2020-01-25                 0              0\n",
       "4     2020-01-26                 0              0\n",
       "5     2020-01-27                 0              0"
      ]
     },
     "execution_count": 13,
     "metadata": {},
     "output_type": "execute_result"
    }
   ],
   "source": [
    "df_numsum_confirmed.head(5)\n",
    "# df_numsum_confirmed.tail(5)"
   ]
  },
  {
   "cell_type": "code",
   "execution_count": 14,
   "id": "6e2cd533",
   "metadata": {},
   "outputs": [],
   "source": [
    "df_israel_covid = df_israel_covid[df_israel_covid['test_date'] < '2021-09-01']\n",
    "df_israel_isolation_per_day = df_israel_isolation_per_day[df_israel_isolation_per_day['date'] < '2021-09-01']\n",
    "df_numsum_confirmed = df_numsum_confirmed[df_numsum_confirmed['confirmed_date'] < '2021-06-01']\n",
    "df_confirmed_global = df_confirmed_global[df_confirmed_global['global_confirmed_date'] < '2021-06-01']"
   ]
  },
  {
   "cell_type": "code",
   "execution_count": 15,
   "id": "2e6b79be",
   "metadata": {
    "scrolled": true
   },
   "outputs": [],
   "source": [
    "df_israel_isolation_per_day['join_date'] = (pd.to_datetime(df_israel_isolation_per_day['date']) + timedelta(days=1)).dt.strftime('%Y-%m-%d')\n",
    "\n",
    "# 요일을 숫자로 기록한 컬럼 하나 만듬\n",
    "df_israel_covid['weekday'] = pd.to_datetime(df_israel_covid['test_date']).dt.dayofweek"
   ]
  },
  {
   "cell_type": "code",
   "execution_count": 16,
   "id": "0050016f",
   "metadata": {},
   "outputs": [],
   "source": [
    "# 기존 이스라엘 데이터에 격리자 컬럼을 넣어주는 과정\n",
    "\n",
    "df_israel_covid = pd.merge(df_israel_covid, df_israel_isolation_per_day, how='left', left_on='test_date', right_on='join_date')"
   ]
  },
  {
   "cell_type": "code",
   "execution_count": 17,
   "id": "74ac23e4",
   "metadata": {},
   "outputs": [
    {
     "data": {
      "text/html": [
       "<div>\n",
       "<style scoped>\n",
       "    .dataframe tbody tr th:only-of-type {\n",
       "        vertical-align: middle;\n",
       "    }\n",
       "\n",
       "    .dataframe tbody tr th {\n",
       "        vertical-align: top;\n",
       "    }\n",
       "\n",
       "    .dataframe thead th {\n",
       "        text-align: right;\n",
       "    }\n",
       "</style>\n",
       "<table border=\"1\" class=\"dataframe\">\n",
       "  <thead>\n",
       "    <tr style=\"text-align: right;\">\n",
       "      <th></th>\n",
       "      <th>test_date</th>\n",
       "      <th>cough</th>\n",
       "      <th>fever</th>\n",
       "      <th>sore_throat</th>\n",
       "      <th>shortness_of_breath</th>\n",
       "      <th>head_ache</th>\n",
       "      <th>corona_result</th>\n",
       "      <th>age_60_and_above</th>\n",
       "      <th>gender</th>\n",
       "      <th>test_indication</th>\n",
       "      <th>weekday</th>\n",
       "      <th>date</th>\n",
       "      <th>isolated_today_contact_with_confirmed</th>\n",
       "      <th>isolated_today_abroad</th>\n",
       "      <th>new_contact_with_confirmed</th>\n",
       "      <th>new_from_abroad</th>\n",
       "      <th>join_date</th>\n",
       "    </tr>\n",
       "  </thead>\n",
       "  <tbody>\n",
       "    <tr>\n",
       "      <th>6925780</th>\n",
       "      <td>2020-03-11</td>\n",
       "      <td>0</td>\n",
       "      <td>0</td>\n",
       "      <td>0</td>\n",
       "      <td>0</td>\n",
       "      <td>0</td>\n",
       "      <td>שלילי</td>\n",
       "      <td>NaN</td>\n",
       "      <td>זכר</td>\n",
       "      <td>Other</td>\n",
       "      <td>2</td>\n",
       "      <td>2020-03-10</td>\n",
       "      <td>3715</td>\n",
       "      <td>20792</td>\n",
       "      <td>2154</td>\n",
       "      <td>3638</td>\n",
       "      <td>2020-03-11</td>\n",
       "    </tr>\n",
       "    <tr>\n",
       "      <th>6925531</th>\n",
       "      <td>2020-03-11</td>\n",
       "      <td>1</td>\n",
       "      <td>0</td>\n",
       "      <td>1</td>\n",
       "      <td>0</td>\n",
       "      <td>0</td>\n",
       "      <td>שלילי</td>\n",
       "      <td>NaN</td>\n",
       "      <td>נקבה</td>\n",
       "      <td>Abroad</td>\n",
       "      <td>2</td>\n",
       "      <td>2020-03-10</td>\n",
       "      <td>3715</td>\n",
       "      <td>20792</td>\n",
       "      <td>2154</td>\n",
       "      <td>3638</td>\n",
       "      <td>2020-03-11</td>\n",
       "    </tr>\n",
       "    <tr>\n",
       "      <th>6925532</th>\n",
       "      <td>2020-03-11</td>\n",
       "      <td>1</td>\n",
       "      <td>0</td>\n",
       "      <td>0</td>\n",
       "      <td>1</td>\n",
       "      <td>0</td>\n",
       "      <td>שלילי</td>\n",
       "      <td>NaN</td>\n",
       "      <td>נקבה</td>\n",
       "      <td>Other</td>\n",
       "      <td>2</td>\n",
       "      <td>2020-03-10</td>\n",
       "      <td>3715</td>\n",
       "      <td>20792</td>\n",
       "      <td>2154</td>\n",
       "      <td>3638</td>\n",
       "      <td>2020-03-11</td>\n",
       "    </tr>\n",
       "    <tr>\n",
       "      <th>6925533</th>\n",
       "      <td>2020-03-11</td>\n",
       "      <td>0</td>\n",
       "      <td>0</td>\n",
       "      <td>0</td>\n",
       "      <td>0</td>\n",
       "      <td>0</td>\n",
       "      <td>שלילי</td>\n",
       "      <td>NaN</td>\n",
       "      <td>זכר</td>\n",
       "      <td>Other</td>\n",
       "      <td>2</td>\n",
       "      <td>2020-03-10</td>\n",
       "      <td>3715</td>\n",
       "      <td>20792</td>\n",
       "      <td>2154</td>\n",
       "      <td>3638</td>\n",
       "      <td>2020-03-11</td>\n",
       "    </tr>\n",
       "    <tr>\n",
       "      <th>6925534</th>\n",
       "      <td>2020-03-11</td>\n",
       "      <td>0</td>\n",
       "      <td>0</td>\n",
       "      <td>0</td>\n",
       "      <td>0</td>\n",
       "      <td>0</td>\n",
       "      <td>שלילי</td>\n",
       "      <td>NaN</td>\n",
       "      <td>נקבה</td>\n",
       "      <td>Other</td>\n",
       "      <td>2</td>\n",
       "      <td>2020-03-10</td>\n",
       "      <td>3715</td>\n",
       "      <td>20792</td>\n",
       "      <td>2154</td>\n",
       "      <td>3638</td>\n",
       "      <td>2020-03-11</td>\n",
       "    </tr>\n",
       "  </tbody>\n",
       "</table>\n",
       "</div>"
      ],
      "text/plain": [
       "          test_date  cough  fever  sore_throat  shortness_of_breath  \\\n",
       "6925780  2020-03-11      0      0            0                    0   \n",
       "6925531  2020-03-11      1      0            1                    0   \n",
       "6925532  2020-03-11      1      0            0                    1   \n",
       "6925533  2020-03-11      0      0            0                    0   \n",
       "6925534  2020-03-11      0      0            0                    0   \n",
       "\n",
       "         head_ache corona_result age_60_and_above gender test_indication  \\\n",
       "6925780          0         שלילי              NaN    זכר           Other   \n",
       "6925531          0         שלילי              NaN   נקבה          Abroad   \n",
       "6925532          0         שלילי              NaN   נקבה           Other   \n",
       "6925533          0         שלילי              NaN    זכר           Other   \n",
       "6925534          0         שלילי              NaN   נקבה           Other   \n",
       "\n",
       "         weekday        date  isolated_today_contact_with_confirmed  \\\n",
       "6925780        2  2020-03-10                                   3715   \n",
       "6925531        2  2020-03-10                                   3715   \n",
       "6925532        2  2020-03-10                                   3715   \n",
       "6925533        2  2020-03-10                                   3715   \n",
       "6925534        2  2020-03-10                                   3715   \n",
       "\n",
       "         isolated_today_abroad new_contact_with_confirmed new_from_abroad  \\\n",
       "6925780                  20792                       2154            3638   \n",
       "6925531                  20792                       2154            3638   \n",
       "6925532                  20792                       2154            3638   \n",
       "6925533                  20792                       2154            3638   \n",
       "6925534                  20792                       2154            3638   \n",
       "\n",
       "          join_date  \n",
       "6925780  2020-03-11  \n",
       "6925531  2020-03-11  \n",
       "6925532  2020-03-11  \n",
       "6925533  2020-03-11  \n",
       "6925534  2020-03-11  "
      ]
     },
     "execution_count": 17,
     "metadata": {},
     "output_type": "execute_result"
    }
   ],
   "source": [
    "df_israel_covid = df_israel_covid.sort_values('test_date')\n",
    "df_israel_covid.head(5)"
   ]
  },
  {
   "cell_type": "code",
   "execution_count": 18,
   "id": "3b0d753f",
   "metadata": {},
   "outputs": [],
   "source": [
    "# 기존 이스라엘 데이터에 이스라엘 일일 확진자랑 일일 누적 확진자 컬럼을 넣어주는 과정\n",
    "\n",
    "df_israel_covid = pd.merge(df_israel_covid, df_numsum_confirmed, how='left', left_on='test_date', right_on='confirmed_date')"
   ]
  },
  {
   "cell_type": "code",
   "execution_count": 19,
   "id": "4ba3f125",
   "metadata": {},
   "outputs": [],
   "source": [
    "# 기존 이스라엘 데이터에 글로벌 일일 확진자랑 일일 누적 확진자 컬럼을 넣어주는 과정\n",
    "\n",
    "df_israel_covid = pd.merge(df_israel_covid, df_confirmed_global, how='left', left_on='test_date', right_on='global_confirmed_date')"
   ]
  },
  {
   "cell_type": "code",
   "execution_count": 20,
   "id": "d35dcc5a",
   "metadata": {},
   "outputs": [
    {
     "data": {
      "text/plain": [
       "Index(['test_date', 'cough', 'fever', 'sore_throat', 'shortness_of_breath',\n",
       "       'head_ache', 'corona_result', 'age_60_and_above', 'gender',\n",
       "       'test_indication', 'weekday', 'date',\n",
       "       'isolated_today_contact_with_confirmed', 'isolated_today_abroad',\n",
       "       'new_contact_with_confirmed', 'new_from_abroad', 'join_date',\n",
       "       'confirmed_date', 'confirmed_numsum', 'confirmed_num',\n",
       "       'global_confirmed_date', 'global_confirmed_numsum',\n",
       "       'global_confirmed_num'],\n",
       "      dtype='object')"
      ]
     },
     "execution_count": 20,
     "metadata": {},
     "output_type": "execute_result"
    }
   ],
   "source": [
    "df_israel_covid.columns"
   ]
  },
  {
   "cell_type": "code",
   "execution_count": 21,
   "id": "44746057",
   "metadata": {},
   "outputs": [
    {
     "data": {
      "text/plain": [
       "6925781"
      ]
     },
     "execution_count": 21,
     "metadata": {},
     "output_type": "execute_result"
    }
   ],
   "source": [
    "df_israel_covid.shape[0]"
   ]
  },
  {
   "cell_type": "code",
   "execution_count": 22,
   "id": "a1ef2dd3",
   "metadata": {},
   "outputs": [
    {
     "name": "stdout",
     "output_type": "stream",
     "text": [
      "6925781\n"
     ]
    }
   ],
   "source": [
    "head_ne = df_israel_covid[df_israel_covid['head_ache'] == 0]\n",
    "head_po = df_israel_covid[df_israel_covid['head_ache'] == 1]\n",
    "print(head_ne.shape[0]+head_po.shape[0])"
   ]
  },
  {
   "cell_type": "markdown",
   "id": "78bbebbd",
   "metadata": {},
   "source": [
    "## 번역하기"
   ]
  },
  {
   "cell_type": "code",
   "execution_count": 23,
   "id": "100f63bd",
   "metadata": {},
   "outputs": [],
   "source": [
    "def gender_map(gender):\n",
    "    if gender == 'נקבה': return 1 #'Female'\n",
    "    elif gender == 'זכר': return 0 #'Male'\n",
    "    return -1"
   ]
  },
  {
   "cell_type": "code",
   "execution_count": 24,
   "id": "b3ac58cc",
   "metadata": {},
   "outputs": [],
   "source": [
    "def corona_result_map(corona_result):\n",
    "    if corona_result == 'אחר': return -1 # 'Other'\n",
    "    elif corona_result == 'שלילי': return 0 # 'Negative'\n",
    "    elif corona_result == 'חיובי': return 1 # 'Positive'\n",
    "    return ''"
   ]
  },
  {
   "cell_type": "code",
   "execution_count": 25,
   "id": "e7fb0561",
   "metadata": {},
   "outputs": [],
   "source": [
    "def corona_result_map_vis(corona_result):\n",
    "    if corona_result == -1: return 'Other'\n",
    "    elif corona_result == 0: return 'Negative' \n",
    "    elif corona_result == 1: return 'Positive' \n",
    "    return ''"
   ]
  },
  {
   "cell_type": "code",
   "execution_count": 26,
   "id": "d8fa2757",
   "metadata": {},
   "outputs": [],
   "source": [
    "def age_60_and_above_map(age_60_and_above):\n",
    "    if age_60_and_above == 'Yes': return 1\n",
    "    elif age_60_and_above == 'No': return 0\n",
    "    return -1"
   ]
  },
  {
   "cell_type": "code",
   "execution_count": 27,
   "id": "a7bc697b",
   "metadata": {},
   "outputs": [],
   "source": [
    "def test_indication_map(test_indication):\n",
    "    if test_indication == 'Other': return 0\n",
    "    elif test_indication == 'Abroad': return 1\n",
    "    elif  test_indication == 'Contact with confirmed': return 2\n",
    "    else: return -1"
   ]
  },
  {
   "cell_type": "code",
   "execution_count": 28,
   "id": "cb3e13cd",
   "metadata": {},
   "outputs": [],
   "source": [
    "df_israel_covid['gender'] = df_israel_covid['gender'].apply(gender_map)\n",
    "df_israel_covid['corona_result'] = df_israel_covid['corona_result'].apply(corona_result_map)\n",
    "df_israel_covid['age_60_and_above'] = df_israel_covid['age_60_and_above'].apply(age_60_and_above_map)\n",
    "df_israel_covid['test_indication'] = df_israel_covid['test_indication'].apply(test_indication_map)"
   ]
  },
  {
   "cell_type": "markdown",
   "id": "9f4d74b2",
   "metadata": {},
   "source": [
    "## model input preprocessing"
   ]
  },
  {
   "cell_type": "code",
   "execution_count": 29,
   "id": "7dfca38a",
   "metadata": {},
   "outputs": [],
   "source": [
    "df_israel_covid['indication_other'] = df_israel_covid['test_indication'].apply(lambda x : 1 if x == 0 else 0)\n",
    "df_israel_covid['indication_abroad'] = df_israel_covid['test_indication'].apply(lambda x : 1 if x == 1 else 0)\n",
    "df_israel_covid['indication_contact'] = df_israel_covid['test_indication'].apply(lambda x : 1 if x == 2 else 0)"
   ]
  },
  {
   "cell_type": "code",
   "execution_count": 30,
   "id": "c139e9d3",
   "metadata": {},
   "outputs": [
    {
     "data": {
      "text/html": [
       "<div>\n",
       "<style scoped>\n",
       "    .dataframe tbody tr th:only-of-type {\n",
       "        vertical-align: middle;\n",
       "    }\n",
       "\n",
       "    .dataframe tbody tr th {\n",
       "        vertical-align: top;\n",
       "    }\n",
       "\n",
       "    .dataframe thead th {\n",
       "        text-align: right;\n",
       "    }\n",
       "</style>\n",
       "<table border=\"1\" class=\"dataframe\">\n",
       "  <thead>\n",
       "    <tr style=\"text-align: right;\">\n",
       "      <th></th>\n",
       "      <th>test_indication</th>\n",
       "      <th>indication_other</th>\n",
       "      <th>indication_abroad</th>\n",
       "      <th>indication_contact</th>\n",
       "    </tr>\n",
       "  </thead>\n",
       "  <tbody>\n",
       "    <tr>\n",
       "      <th>0</th>\n",
       "      <td>0</td>\n",
       "      <td>1</td>\n",
       "      <td>0</td>\n",
       "      <td>0</td>\n",
       "    </tr>\n",
       "    <tr>\n",
       "      <th>1</th>\n",
       "      <td>1</td>\n",
       "      <td>0</td>\n",
       "      <td>1</td>\n",
       "      <td>0</td>\n",
       "    </tr>\n",
       "    <tr>\n",
       "      <th>2</th>\n",
       "      <td>0</td>\n",
       "      <td>1</td>\n",
       "      <td>0</td>\n",
       "      <td>0</td>\n",
       "    </tr>\n",
       "    <tr>\n",
       "      <th>3</th>\n",
       "      <td>0</td>\n",
       "      <td>1</td>\n",
       "      <td>0</td>\n",
       "      <td>0</td>\n",
       "    </tr>\n",
       "    <tr>\n",
       "      <th>4</th>\n",
       "      <td>0</td>\n",
       "      <td>1</td>\n",
       "      <td>0</td>\n",
       "      <td>0</td>\n",
       "    </tr>\n",
       "    <tr>\n",
       "      <th>5</th>\n",
       "      <td>0</td>\n",
       "      <td>1</td>\n",
       "      <td>0</td>\n",
       "      <td>0</td>\n",
       "    </tr>\n",
       "    <tr>\n",
       "      <th>6</th>\n",
       "      <td>0</td>\n",
       "      <td>1</td>\n",
       "      <td>0</td>\n",
       "      <td>0</td>\n",
       "    </tr>\n",
       "    <tr>\n",
       "      <th>7</th>\n",
       "      <td>0</td>\n",
       "      <td>1</td>\n",
       "      <td>0</td>\n",
       "      <td>0</td>\n",
       "    </tr>\n",
       "    <tr>\n",
       "      <th>8</th>\n",
       "      <td>0</td>\n",
       "      <td>1</td>\n",
       "      <td>0</td>\n",
       "      <td>0</td>\n",
       "    </tr>\n",
       "    <tr>\n",
       "      <th>9</th>\n",
       "      <td>0</td>\n",
       "      <td>1</td>\n",
       "      <td>0</td>\n",
       "      <td>0</td>\n",
       "    </tr>\n",
       "    <tr>\n",
       "      <th>10</th>\n",
       "      <td>0</td>\n",
       "      <td>1</td>\n",
       "      <td>0</td>\n",
       "      <td>0</td>\n",
       "    </tr>\n",
       "    <tr>\n",
       "      <th>11</th>\n",
       "      <td>0</td>\n",
       "      <td>1</td>\n",
       "      <td>0</td>\n",
       "      <td>0</td>\n",
       "    </tr>\n",
       "    <tr>\n",
       "      <th>12</th>\n",
       "      <td>0</td>\n",
       "      <td>1</td>\n",
       "      <td>0</td>\n",
       "      <td>0</td>\n",
       "    </tr>\n",
       "    <tr>\n",
       "      <th>13</th>\n",
       "      <td>0</td>\n",
       "      <td>1</td>\n",
       "      <td>0</td>\n",
       "      <td>0</td>\n",
       "    </tr>\n",
       "    <tr>\n",
       "      <th>14</th>\n",
       "      <td>0</td>\n",
       "      <td>1</td>\n",
       "      <td>0</td>\n",
       "      <td>0</td>\n",
       "    </tr>\n",
       "    <tr>\n",
       "      <th>15</th>\n",
       "      <td>0</td>\n",
       "      <td>1</td>\n",
       "      <td>0</td>\n",
       "      <td>0</td>\n",
       "    </tr>\n",
       "    <tr>\n",
       "      <th>16</th>\n",
       "      <td>2</td>\n",
       "      <td>0</td>\n",
       "      <td>0</td>\n",
       "      <td>1</td>\n",
       "    </tr>\n",
       "    <tr>\n",
       "      <th>17</th>\n",
       "      <td>2</td>\n",
       "      <td>0</td>\n",
       "      <td>0</td>\n",
       "      <td>1</td>\n",
       "    </tr>\n",
       "    <tr>\n",
       "      <th>18</th>\n",
       "      <td>2</td>\n",
       "      <td>0</td>\n",
       "      <td>0</td>\n",
       "      <td>1</td>\n",
       "    </tr>\n",
       "    <tr>\n",
       "      <th>19</th>\n",
       "      <td>0</td>\n",
       "      <td>1</td>\n",
       "      <td>0</td>\n",
       "      <td>0</td>\n",
       "    </tr>\n",
       "    <tr>\n",
       "      <th>20</th>\n",
       "      <td>0</td>\n",
       "      <td>1</td>\n",
       "      <td>0</td>\n",
       "      <td>0</td>\n",
       "    </tr>\n",
       "    <tr>\n",
       "      <th>21</th>\n",
       "      <td>0</td>\n",
       "      <td>1</td>\n",
       "      <td>0</td>\n",
       "      <td>0</td>\n",
       "    </tr>\n",
       "    <tr>\n",
       "      <th>22</th>\n",
       "      <td>2</td>\n",
       "      <td>0</td>\n",
       "      <td>0</td>\n",
       "      <td>1</td>\n",
       "    </tr>\n",
       "    <tr>\n",
       "      <th>23</th>\n",
       "      <td>0</td>\n",
       "      <td>1</td>\n",
       "      <td>0</td>\n",
       "      <td>0</td>\n",
       "    </tr>\n",
       "    <tr>\n",
       "      <th>24</th>\n",
       "      <td>1</td>\n",
       "      <td>0</td>\n",
       "      <td>1</td>\n",
       "      <td>0</td>\n",
       "    </tr>\n",
       "    <tr>\n",
       "      <th>25</th>\n",
       "      <td>0</td>\n",
       "      <td>1</td>\n",
       "      <td>0</td>\n",
       "      <td>0</td>\n",
       "    </tr>\n",
       "    <tr>\n",
       "      <th>26</th>\n",
       "      <td>0</td>\n",
       "      <td>1</td>\n",
       "      <td>0</td>\n",
       "      <td>0</td>\n",
       "    </tr>\n",
       "    <tr>\n",
       "      <th>27</th>\n",
       "      <td>0</td>\n",
       "      <td>1</td>\n",
       "      <td>0</td>\n",
       "      <td>0</td>\n",
       "    </tr>\n",
       "    <tr>\n",
       "      <th>28</th>\n",
       "      <td>1</td>\n",
       "      <td>0</td>\n",
       "      <td>1</td>\n",
       "      <td>0</td>\n",
       "    </tr>\n",
       "    <tr>\n",
       "      <th>29</th>\n",
       "      <td>1</td>\n",
       "      <td>0</td>\n",
       "      <td>1</td>\n",
       "      <td>0</td>\n",
       "    </tr>\n",
       "  </tbody>\n",
       "</table>\n",
       "</div>"
      ],
      "text/plain": [
       "    test_indication  indication_other  indication_abroad  indication_contact\n",
       "0                 0                 1                  0                   0\n",
       "1                 1                 0                  1                   0\n",
       "2                 0                 1                  0                   0\n",
       "3                 0                 1                  0                   0\n",
       "4                 0                 1                  0                   0\n",
       "5                 0                 1                  0                   0\n",
       "6                 0                 1                  0                   0\n",
       "7                 0                 1                  0                   0\n",
       "8                 0                 1                  0                   0\n",
       "9                 0                 1                  0                   0\n",
       "10                0                 1                  0                   0\n",
       "11                0                 1                  0                   0\n",
       "12                0                 1                  0                   0\n",
       "13                0                 1                  0                   0\n",
       "14                0                 1                  0                   0\n",
       "15                0                 1                  0                   0\n",
       "16                2                 0                  0                   1\n",
       "17                2                 0                  0                   1\n",
       "18                2                 0                  0                   1\n",
       "19                0                 1                  0                   0\n",
       "20                0                 1                  0                   0\n",
       "21                0                 1                  0                   0\n",
       "22                2                 0                  0                   1\n",
       "23                0                 1                  0                   0\n",
       "24                1                 0                  1                   0\n",
       "25                0                 1                  0                   0\n",
       "26                0                 1                  0                   0\n",
       "27                0                 1                  0                   0\n",
       "28                1                 0                  1                   0\n",
       "29                1                 0                  1                   0"
      ]
     },
     "execution_count": 30,
     "metadata": {},
     "output_type": "execute_result"
    }
   ],
   "source": [
    "df_israel_covid[['test_indication', 'indication_other', 'indication_abroad', 'indication_contact']].head(30)"
   ]
  },
  {
   "cell_type": "code",
   "execution_count": 31,
   "id": "440a79e4",
   "metadata": {},
   "outputs": [],
   "source": [
    "# other 빼버림\n",
    "df_israel_covid_without_o = df_israel_covid[df_israel_covid['corona_result'] != -1]"
   ]
  },
  {
   "cell_type": "code",
   "execution_count": 32,
   "id": "224d8130",
   "metadata": {},
   "outputs": [
    {
     "data": {
      "text/plain": [
       "6776916"
      ]
     },
     "execution_count": 32,
     "metadata": {},
     "output_type": "execute_result"
    }
   ],
   "source": [
    "df_israel_covid_without_o.shape[0]"
   ]
  },
  {
   "cell_type": "code",
   "execution_count": 33,
   "id": "e28d2805",
   "metadata": {},
   "outputs": [],
   "source": [
    "# 성별 없는 사람들 빼버림\n",
    "df_israel_covid_without_o = df_israel_covid_without_o[df_israel_covid_without_o['gender'] != -1]"
   ]
  },
  {
   "cell_type": "code",
   "execution_count": 34,
   "id": "44724662",
   "metadata": {},
   "outputs": [
    {
     "data": {
      "text/plain": [
       "6275088"
      ]
     },
     "execution_count": 34,
     "metadata": {},
     "output_type": "execute_result"
    }
   ],
   "source": [
    "df_israel_covid_without_o.shape[0]"
   ]
  },
  {
   "cell_type": "code",
   "execution_count": 35,
   "id": "0b4c853a",
   "metadata": {},
   "outputs": [],
   "source": [
    "df_israel_covid_without_o = df_israel_covid_without_o.sort_values(['test_date']).reset_index(drop=True)"
   ]
  },
  {
   "cell_type": "code",
   "execution_count": 36,
   "id": "e5048d3a",
   "metadata": {},
   "outputs": [
    {
     "data": {
      "text/plain": [
       "'2020-03-11'"
      ]
     },
     "execution_count": 36,
     "metadata": {},
     "output_type": "execute_result"
    }
   ],
   "source": [
    "df_israel_covid_without_o['test_date'].min()"
   ]
  },
  {
   "cell_type": "code",
   "execution_count": 37,
   "id": "49d79058",
   "metadata": {},
   "outputs": [],
   "source": [
    "# # week_num 이라는 칼럼을 새로 만들었다. 1년에 52주라 \n",
    "# def date_to_weeknum_map(test_date):\n",
    "#     week_num_st_idx = 52\n",
    "#     year_last_num = int(test_date[2:4])\n",
    "#     week_num = datetime.date(int(test_date[:4]), int(test_date[5:7]), int(test_date[8:])).isocalendar()[1]\n",
    "#     return week_num_st_idx * year_last_num + week_num"
   ]
  },
  {
   "cell_type": "markdown",
   "id": "b34caf3f",
   "metadata": {},
   "source": [
    "# Add 2nd degree data\n",
    "추가 feature\n",
    "- new_contact_with_confirmed\n",
    "- positive_ratio\n",
    "- weekday_ratio\n",
    "- confirmed_ratio"
   ]
  },
  {
   "cell_type": "code",
   "execution_count": 38,
   "id": "501d4295",
   "metadata": {},
   "outputs": [],
   "source": [
    "df_israel_covid_without_o['new_contact_with_confirmed'] = df_israel_covid_without_o['new_contact_with_confirmed'].astype(int)"
   ]
  },
  {
   "cell_type": "code",
   "execution_count": 39,
   "id": "4ad75571",
   "metadata": {},
   "outputs": [],
   "source": [
    "df_israel_covid_without_o['contact'] = df_israel_covid_without_o['new_contact_with_confirmed'] / 36903"
   ]
  },
  {
   "cell_type": "code",
   "execution_count": 40,
   "id": "6846cb89",
   "metadata": {},
   "outputs": [],
   "source": [
    "df_confirm_by_sampling = df_israel_covid_without_o[df_israel_covid_without_o['corona_result'] == 1].groupby('test_date').count().reset_index()[['test_date', 'date']]\n",
    "df_confirm_by_sampling = df_confirm_by_sampling.rename(columns={'test_date': 'yesterday', 'date': 'positive_cnt'})"
   ]
  },
  {
   "cell_type": "code",
   "execution_count": 41,
   "id": "e93dde46",
   "metadata": {},
   "outputs": [],
   "source": [
    "df_israel_covid_without_o = pd.merge(df_israel_covid_without_o, df_confirm_by_sampling, how='left', left_on='date', right_on='yesterday')"
   ]
  },
  {
   "cell_type": "code",
   "execution_count": 42,
   "id": "1f87a28d",
   "metadata": {},
   "outputs": [
    {
     "data": {
      "text/plain": [
       "6275088"
      ]
     },
     "execution_count": 42,
     "metadata": {},
     "output_type": "execute_result"
    }
   ],
   "source": [
    "df_israel_covid_without_o.shape[0]"
   ]
  },
  {
   "cell_type": "code",
   "execution_count": 43,
   "id": "746a21e6",
   "metadata": {},
   "outputs": [],
   "source": [
    "df_israel_covid_without_o = df_israel_covid_without_o[~df_israel_covid_without_o['positive_cnt'].isnull()]"
   ]
  },
  {
   "cell_type": "code",
   "execution_count": 44,
   "id": "4ae1e8a5",
   "metadata": {},
   "outputs": [],
   "source": [
    "df_israel_covid_without_o['positive_cnt'] = df_israel_covid_without_o['positive_cnt'].astype(int)"
   ]
  },
  {
   "cell_type": "code",
   "execution_count": 45,
   "id": "e0e212b5",
   "metadata": {},
   "outputs": [],
   "source": [
    "df_israel_covid_without_o['positive_ratio'] = df_israel_covid_without_o['positive_cnt'] / df_israel_covid_without_o['positive_cnt'].max()"
   ]
  },
  {
   "cell_type": "code",
   "execution_count": 46,
   "id": "ebd3988d",
   "metadata": {},
   "outputs": [],
   "source": [
    "df_israel_covid_without_o['weekday_ratio'] = df_israel_covid_without_o['weekday'] / 6"
   ]
  },
  {
   "cell_type": "code",
   "execution_count": 47,
   "id": "295fc6ec",
   "metadata": {},
   "outputs": [],
   "source": [
    "df_israel_covid_without_o['confirmed_ratio'] = df_israel_covid_without_o['confirmed_num'] / df_israel_covid_without_o['confirmed_num'].max()"
   ]
  },
  {
   "cell_type": "code",
   "execution_count": 48,
   "id": "7f504c29",
   "metadata": {},
   "outputs": [],
   "source": [
    "df_israel_covid_without_o['global_confirmed_ratio'] = df_israel_covid_without_o['global_confirmed_num'] / df_israel_covid_without_o['global_confirmed_num'].max()"
   ]
  },
  {
   "cell_type": "code",
   "execution_count": 49,
   "id": "af0bcdc3",
   "metadata": {},
   "outputs": [
    {
     "data": {
      "text/plain": [
       "11934.0"
      ]
     },
     "execution_count": 49,
     "metadata": {},
     "output_type": "execute_result"
    }
   ],
   "source": [
    "df_israel_covid_without_o['confirmed_num'].max()"
   ]
  },
  {
   "cell_type": "code",
   "execution_count": 50,
   "id": "dcc8e239",
   "metadata": {},
   "outputs": [
    {
     "data": {
      "text/html": [
       "<div>\n",
       "<style scoped>\n",
       "    .dataframe tbody tr th:only-of-type {\n",
       "        vertical-align: middle;\n",
       "    }\n",
       "\n",
       "    .dataframe tbody tr th {\n",
       "        vertical-align: top;\n",
       "    }\n",
       "\n",
       "    .dataframe thead th {\n",
       "        text-align: right;\n",
       "    }\n",
       "</style>\n",
       "<table border=\"1\" class=\"dataframe\">\n",
       "  <thead>\n",
       "    <tr style=\"text-align: right;\">\n",
       "      <th></th>\n",
       "      <th>test_date</th>\n",
       "      <th>cough</th>\n",
       "      <th>fever</th>\n",
       "      <th>sore_throat</th>\n",
       "      <th>shortness_of_breath</th>\n",
       "      <th>head_ache</th>\n",
       "      <th>corona_result</th>\n",
       "      <th>age_60_and_above</th>\n",
       "      <th>gender</th>\n",
       "      <th>test_indication</th>\n",
       "      <th>...</th>\n",
       "      <th>indication_other</th>\n",
       "      <th>indication_abroad</th>\n",
       "      <th>indication_contact</th>\n",
       "      <th>contact</th>\n",
       "      <th>yesterday</th>\n",
       "      <th>positive_cnt</th>\n",
       "      <th>positive_ratio</th>\n",
       "      <th>weekday_ratio</th>\n",
       "      <th>confirmed_ratio</th>\n",
       "      <th>global_confirmed_ratio</th>\n",
       "    </tr>\n",
       "  </thead>\n",
       "  <tbody>\n",
       "    <tr>\n",
       "      <th>361</th>\n",
       "      <td>2020-03-12</td>\n",
       "      <td>1</td>\n",
       "      <td>1</td>\n",
       "      <td>1</td>\n",
       "      <td>1</td>\n",
       "      <td>0</td>\n",
       "      <td>0</td>\n",
       "      <td>-1</td>\n",
       "      <td>1</td>\n",
       "      <td>0</td>\n",
       "      <td>...</td>\n",
       "      <td>1</td>\n",
       "      <td>0</td>\n",
       "      <td>0</td>\n",
       "      <td>0.056174</td>\n",
       "      <td>2020-03-11</td>\n",
       "      <td>42</td>\n",
       "      <td>0.007795</td>\n",
       "      <td>0.5</td>\n",
       "      <td>0.00176</td>\n",
       "      <td>0.003864</td>\n",
       "    </tr>\n",
       "    <tr>\n",
       "      <th>362</th>\n",
       "      <td>2020-03-12</td>\n",
       "      <td>0</td>\n",
       "      <td>0</td>\n",
       "      <td>0</td>\n",
       "      <td>0</td>\n",
       "      <td>0</td>\n",
       "      <td>0</td>\n",
       "      <td>-1</td>\n",
       "      <td>0</td>\n",
       "      <td>0</td>\n",
       "      <td>...</td>\n",
       "      <td>1</td>\n",
       "      <td>0</td>\n",
       "      <td>0</td>\n",
       "      <td>0.056174</td>\n",
       "      <td>2020-03-11</td>\n",
       "      <td>42</td>\n",
       "      <td>0.007795</td>\n",
       "      <td>0.5</td>\n",
       "      <td>0.00176</td>\n",
       "      <td>0.003864</td>\n",
       "    </tr>\n",
       "    <tr>\n",
       "      <th>363</th>\n",
       "      <td>2020-03-12</td>\n",
       "      <td>0</td>\n",
       "      <td>0</td>\n",
       "      <td>0</td>\n",
       "      <td>0</td>\n",
       "      <td>0</td>\n",
       "      <td>0</td>\n",
       "      <td>-1</td>\n",
       "      <td>1</td>\n",
       "      <td>0</td>\n",
       "      <td>...</td>\n",
       "      <td>1</td>\n",
       "      <td>0</td>\n",
       "      <td>0</td>\n",
       "      <td>0.056174</td>\n",
       "      <td>2020-03-11</td>\n",
       "      <td>42</td>\n",
       "      <td>0.007795</td>\n",
       "      <td>0.5</td>\n",
       "      <td>0.00176</td>\n",
       "      <td>0.003864</td>\n",
       "    </tr>\n",
       "    <tr>\n",
       "      <th>364</th>\n",
       "      <td>2020-03-12</td>\n",
       "      <td>0</td>\n",
       "      <td>0</td>\n",
       "      <td>0</td>\n",
       "      <td>0</td>\n",
       "      <td>0</td>\n",
       "      <td>0</td>\n",
       "      <td>-1</td>\n",
       "      <td>1</td>\n",
       "      <td>0</td>\n",
       "      <td>...</td>\n",
       "      <td>1</td>\n",
       "      <td>0</td>\n",
       "      <td>0</td>\n",
       "      <td>0.056174</td>\n",
       "      <td>2020-03-11</td>\n",
       "      <td>42</td>\n",
       "      <td>0.007795</td>\n",
       "      <td>0.5</td>\n",
       "      <td>0.00176</td>\n",
       "      <td>0.003864</td>\n",
       "    </tr>\n",
       "    <tr>\n",
       "      <th>365</th>\n",
       "      <td>2020-03-12</td>\n",
       "      <td>0</td>\n",
       "      <td>0</td>\n",
       "      <td>0</td>\n",
       "      <td>0</td>\n",
       "      <td>0</td>\n",
       "      <td>0</td>\n",
       "      <td>-1</td>\n",
       "      <td>1</td>\n",
       "      <td>0</td>\n",
       "      <td>...</td>\n",
       "      <td>1</td>\n",
       "      <td>0</td>\n",
       "      <td>0</td>\n",
       "      <td>0.056174</td>\n",
       "      <td>2020-03-11</td>\n",
       "      <td>42</td>\n",
       "      <td>0.007795</td>\n",
       "      <td>0.5</td>\n",
       "      <td>0.00176</td>\n",
       "      <td>0.003864</td>\n",
       "    </tr>\n",
       "  </tbody>\n",
       "</table>\n",
       "<p>5 rows × 33 columns</p>\n",
       "</div>"
      ],
      "text/plain": [
       "      test_date  cough  fever  sore_throat  shortness_of_breath  head_ache  \\\n",
       "361  2020-03-12      1      1            1                    1          0   \n",
       "362  2020-03-12      0      0            0                    0          0   \n",
       "363  2020-03-12      0      0            0                    0          0   \n",
       "364  2020-03-12      0      0            0                    0          0   \n",
       "365  2020-03-12      0      0            0                    0          0   \n",
       "\n",
       "     corona_result  age_60_and_above  gender  test_indication  ...  \\\n",
       "361              0                -1       1                0  ...   \n",
       "362              0                -1       0                0  ...   \n",
       "363              0                -1       1                0  ...   \n",
       "364              0                -1       1                0  ...   \n",
       "365              0                -1       1                0  ...   \n",
       "\n",
       "     indication_other indication_abroad  indication_contact   contact  \\\n",
       "361                 1                 0                   0  0.056174   \n",
       "362                 1                 0                   0  0.056174   \n",
       "363                 1                 0                   0  0.056174   \n",
       "364                 1                 0                   0  0.056174   \n",
       "365                 1                 0                   0  0.056174   \n",
       "\n",
       "      yesterday positive_cnt positive_ratio weekday_ratio  confirmed_ratio  \\\n",
       "361  2020-03-11           42       0.007795           0.5          0.00176   \n",
       "362  2020-03-11           42       0.007795           0.5          0.00176   \n",
       "363  2020-03-11           42       0.007795           0.5          0.00176   \n",
       "364  2020-03-11           42       0.007795           0.5          0.00176   \n",
       "365  2020-03-11           42       0.007795           0.5          0.00176   \n",
       "\n",
       "     global_confirmed_ratio  \n",
       "361                0.003864  \n",
       "362                0.003864  \n",
       "363                0.003864  \n",
       "364                0.003864  \n",
       "365                0.003864  \n",
       "\n",
       "[5 rows x 33 columns]"
      ]
     },
     "execution_count": 50,
     "metadata": {},
     "output_type": "execute_result"
    }
   ],
   "source": [
    "df_israel_covid_without_o.head(5)"
   ]
  },
  {
   "cell_type": "code",
   "execution_count": 51,
   "id": "774979ae",
   "metadata": {},
   "outputs": [
    {
     "data": {
      "text/plain": [
       "Index(['test_date', 'cough', 'fever', 'sore_throat', 'shortness_of_breath',\n",
       "       'head_ache', 'corona_result', 'age_60_and_above', 'gender',\n",
       "       'test_indication', 'weekday', 'date',\n",
       "       'isolated_today_contact_with_confirmed', 'isolated_today_abroad',\n",
       "       'new_contact_with_confirmed', 'new_from_abroad', 'join_date',\n",
       "       'confirmed_date', 'confirmed_numsum', 'confirmed_num',\n",
       "       'global_confirmed_date', 'global_confirmed_numsum',\n",
       "       'global_confirmed_num', 'indication_other', 'indication_abroad',\n",
       "       'indication_contact', 'contact', 'yesterday', 'positive_cnt',\n",
       "       'positive_ratio', 'weekday_ratio', 'confirmed_ratio',\n",
       "       'global_confirmed_ratio'],\n",
       "      dtype='object')"
      ]
     },
     "execution_count": 51,
     "metadata": {},
     "output_type": "execute_result"
    }
   ],
   "source": [
    "df_israel_covid_without_o.columns"
   ]
  },
  {
   "cell_type": "code",
   "execution_count": 52,
   "id": "d44f6454",
   "metadata": {},
   "outputs": [],
   "source": [
    "df_israel_covid_without_o = df_israel_covid_without_o[~df_israel_covid_without_o['confirmed_ratio'].isnull()]"
   ]
  },
  {
   "cell_type": "code",
   "execution_count": 53,
   "id": "dad5453e",
   "metadata": {},
   "outputs": [],
   "source": [
    "df_israel_covid_without_o['year'] = df_israel_covid_without_o['test_date'].apply(lambda x: int(x[:4]))\n",
    "df_israel_covid_without_o['month'] = df_israel_covid_without_o['test_date'].apply(lambda x: int(x[5:7]))\n",
    "df_israel_covid_without_o['day'] = df_israel_covid_without_o['test_date'].apply(lambda x: int(x[8:10]))"
   ]
  },
  {
   "cell_type": "code",
   "execution_count": 54,
   "id": "0c952ae9",
   "metadata": {},
   "outputs": [],
   "source": [
    "# 여기서 내가 사용할 feature 고르기\n",
    "df_input_only_symptom = df_israel_covid_without_o[['cough', 'fever', 'sore_throat', 'shortness_of_breath', 'head_ache', 'corona_result']]\n",
    "df_input = df_israel_covid_without_o[['cough', 'fever', 'sore_throat', 'shortness_of_breath', 'head_ache', 'gender', 'confirmed_ratio', 'global_confirmed_ratio', 'indication_other', 'indication_abroad', 'indication_contact', 'corona_result']]\n",
    "\n",
    "raw_datas_only_symptom = df_input_only_symptom.values\n",
    "raw_datas = df_input.values"
   ]
  },
  {
   "cell_type": "code",
   "execution_count": 55,
   "id": "7f0c08b0",
   "metadata": {},
   "outputs": [
    {
     "data": {
      "text/html": [
       "<div>\n",
       "<style scoped>\n",
       "    .dataframe tbody tr th:only-of-type {\n",
       "        vertical-align: middle;\n",
       "    }\n",
       "\n",
       "    .dataframe tbody tr th {\n",
       "        vertical-align: top;\n",
       "    }\n",
       "\n",
       "    .dataframe thead th {\n",
       "        text-align: right;\n",
       "    }\n",
       "</style>\n",
       "<table border=\"1\" class=\"dataframe\">\n",
       "  <thead>\n",
       "    <tr style=\"text-align: right;\">\n",
       "      <th></th>\n",
       "      <th>test_date</th>\n",
       "      <th>cough</th>\n",
       "      <th>fever</th>\n",
       "      <th>sore_throat</th>\n",
       "      <th>shortness_of_breath</th>\n",
       "      <th>head_ache</th>\n",
       "      <th>corona_result</th>\n",
       "      <th>age_60_and_above</th>\n",
       "      <th>gender</th>\n",
       "      <th>test_indication</th>\n",
       "      <th>...</th>\n",
       "      <th>contact</th>\n",
       "      <th>yesterday</th>\n",
       "      <th>positive_cnt</th>\n",
       "      <th>positive_ratio</th>\n",
       "      <th>weekday_ratio</th>\n",
       "      <th>confirmed_ratio</th>\n",
       "      <th>global_confirmed_ratio</th>\n",
       "      <th>year</th>\n",
       "      <th>month</th>\n",
       "      <th>day</th>\n",
       "    </tr>\n",
       "  </thead>\n",
       "  <tbody>\n",
       "    <tr>\n",
       "      <th>361</th>\n",
       "      <td>2020-03-12</td>\n",
       "      <td>1</td>\n",
       "      <td>1</td>\n",
       "      <td>1</td>\n",
       "      <td>1</td>\n",
       "      <td>0</td>\n",
       "      <td>0</td>\n",
       "      <td>-1</td>\n",
       "      <td>1</td>\n",
       "      <td>0</td>\n",
       "      <td>...</td>\n",
       "      <td>0.056174</td>\n",
       "      <td>2020-03-11</td>\n",
       "      <td>42</td>\n",
       "      <td>0.007795</td>\n",
       "      <td>0.5</td>\n",
       "      <td>0.001760</td>\n",
       "      <td>0.003864</td>\n",
       "      <td>2020</td>\n",
       "      <td>3</td>\n",
       "      <td>12</td>\n",
       "    </tr>\n",
       "    <tr>\n",
       "      <th>362</th>\n",
       "      <td>2020-03-12</td>\n",
       "      <td>0</td>\n",
       "      <td>0</td>\n",
       "      <td>0</td>\n",
       "      <td>0</td>\n",
       "      <td>0</td>\n",
       "      <td>0</td>\n",
       "      <td>-1</td>\n",
       "      <td>0</td>\n",
       "      <td>0</td>\n",
       "      <td>...</td>\n",
       "      <td>0.056174</td>\n",
       "      <td>2020-03-11</td>\n",
       "      <td>42</td>\n",
       "      <td>0.007795</td>\n",
       "      <td>0.5</td>\n",
       "      <td>0.001760</td>\n",
       "      <td>0.003864</td>\n",
       "      <td>2020</td>\n",
       "      <td>3</td>\n",
       "      <td>12</td>\n",
       "    </tr>\n",
       "    <tr>\n",
       "      <th>363</th>\n",
       "      <td>2020-03-12</td>\n",
       "      <td>0</td>\n",
       "      <td>0</td>\n",
       "      <td>0</td>\n",
       "      <td>0</td>\n",
       "      <td>0</td>\n",
       "      <td>0</td>\n",
       "      <td>-1</td>\n",
       "      <td>1</td>\n",
       "      <td>0</td>\n",
       "      <td>...</td>\n",
       "      <td>0.056174</td>\n",
       "      <td>2020-03-11</td>\n",
       "      <td>42</td>\n",
       "      <td>0.007795</td>\n",
       "      <td>0.5</td>\n",
       "      <td>0.001760</td>\n",
       "      <td>0.003864</td>\n",
       "      <td>2020</td>\n",
       "      <td>3</td>\n",
       "      <td>12</td>\n",
       "    </tr>\n",
       "    <tr>\n",
       "      <th>364</th>\n",
       "      <td>2020-03-12</td>\n",
       "      <td>0</td>\n",
       "      <td>0</td>\n",
       "      <td>0</td>\n",
       "      <td>0</td>\n",
       "      <td>0</td>\n",
       "      <td>0</td>\n",
       "      <td>-1</td>\n",
       "      <td>1</td>\n",
       "      <td>0</td>\n",
       "      <td>...</td>\n",
       "      <td>0.056174</td>\n",
       "      <td>2020-03-11</td>\n",
       "      <td>42</td>\n",
       "      <td>0.007795</td>\n",
       "      <td>0.5</td>\n",
       "      <td>0.001760</td>\n",
       "      <td>0.003864</td>\n",
       "      <td>2020</td>\n",
       "      <td>3</td>\n",
       "      <td>12</td>\n",
       "    </tr>\n",
       "    <tr>\n",
       "      <th>365</th>\n",
       "      <td>2020-03-12</td>\n",
       "      <td>0</td>\n",
       "      <td>0</td>\n",
       "      <td>0</td>\n",
       "      <td>0</td>\n",
       "      <td>0</td>\n",
       "      <td>0</td>\n",
       "      <td>-1</td>\n",
       "      <td>1</td>\n",
       "      <td>0</td>\n",
       "      <td>...</td>\n",
       "      <td>0.056174</td>\n",
       "      <td>2020-03-11</td>\n",
       "      <td>42</td>\n",
       "      <td>0.007795</td>\n",
       "      <td>0.5</td>\n",
       "      <td>0.001760</td>\n",
       "      <td>0.003864</td>\n",
       "      <td>2020</td>\n",
       "      <td>3</td>\n",
       "      <td>12</td>\n",
       "    </tr>\n",
       "    <tr>\n",
       "      <th>...</th>\n",
       "      <td>...</td>\n",
       "      <td>...</td>\n",
       "      <td>...</td>\n",
       "      <td>...</td>\n",
       "      <td>...</td>\n",
       "      <td>...</td>\n",
       "      <td>...</td>\n",
       "      <td>...</td>\n",
       "      <td>...</td>\n",
       "      <td>...</td>\n",
       "      <td>...</td>\n",
       "      <td>...</td>\n",
       "      <td>...</td>\n",
       "      <td>...</td>\n",
       "      <td>...</td>\n",
       "      <td>...</td>\n",
       "      <td>...</td>\n",
       "      <td>...</td>\n",
       "      <td>...</td>\n",
       "      <td>...</td>\n",
       "      <td>...</td>\n",
       "    </tr>\n",
       "    <tr>\n",
       "      <th>5375922</th>\n",
       "      <td>2021-04-22</td>\n",
       "      <td>0</td>\n",
       "      <td>0</td>\n",
       "      <td>0</td>\n",
       "      <td>0</td>\n",
       "      <td>0</td>\n",
       "      <td>0</td>\n",
       "      <td>-1</td>\n",
       "      <td>1</td>\n",
       "      <td>0</td>\n",
       "      <td>...</td>\n",
       "      <td>0.018237</td>\n",
       "      <td>2021-04-21</td>\n",
       "      <td>42</td>\n",
       "      <td>0.007795</td>\n",
       "      <td>0.5</td>\n",
       "      <td>0.026395</td>\n",
       "      <td>0.600431</td>\n",
       "      <td>2021</td>\n",
       "      <td>4</td>\n",
       "      <td>22</td>\n",
       "    </tr>\n",
       "    <tr>\n",
       "      <th>5375923</th>\n",
       "      <td>2021-04-22</td>\n",
       "      <td>0</td>\n",
       "      <td>0</td>\n",
       "      <td>0</td>\n",
       "      <td>0</td>\n",
       "      <td>0</td>\n",
       "      <td>0</td>\n",
       "      <td>-1</td>\n",
       "      <td>1</td>\n",
       "      <td>0</td>\n",
       "      <td>...</td>\n",
       "      <td>0.018237</td>\n",
       "      <td>2021-04-21</td>\n",
       "      <td>42</td>\n",
       "      <td>0.007795</td>\n",
       "      <td>0.5</td>\n",
       "      <td>0.026395</td>\n",
       "      <td>0.600431</td>\n",
       "      <td>2021</td>\n",
       "      <td>4</td>\n",
       "      <td>22</td>\n",
       "    </tr>\n",
       "    <tr>\n",
       "      <th>5375924</th>\n",
       "      <td>2021-04-22</td>\n",
       "      <td>0</td>\n",
       "      <td>0</td>\n",
       "      <td>0</td>\n",
       "      <td>0</td>\n",
       "      <td>0</td>\n",
       "      <td>0</td>\n",
       "      <td>-1</td>\n",
       "      <td>0</td>\n",
       "      <td>0</td>\n",
       "      <td>...</td>\n",
       "      <td>0.018237</td>\n",
       "      <td>2021-04-21</td>\n",
       "      <td>42</td>\n",
       "      <td>0.007795</td>\n",
       "      <td>0.5</td>\n",
       "      <td>0.026395</td>\n",
       "      <td>0.600431</td>\n",
       "      <td>2021</td>\n",
       "      <td>4</td>\n",
       "      <td>22</td>\n",
       "    </tr>\n",
       "    <tr>\n",
       "      <th>5375925</th>\n",
       "      <td>2021-04-22</td>\n",
       "      <td>0</td>\n",
       "      <td>0</td>\n",
       "      <td>0</td>\n",
       "      <td>0</td>\n",
       "      <td>0</td>\n",
       "      <td>0</td>\n",
       "      <td>-1</td>\n",
       "      <td>0</td>\n",
       "      <td>0</td>\n",
       "      <td>...</td>\n",
       "      <td>0.018237</td>\n",
       "      <td>2021-04-21</td>\n",
       "      <td>42</td>\n",
       "      <td>0.007795</td>\n",
       "      <td>0.5</td>\n",
       "      <td>0.026395</td>\n",
       "      <td>0.600431</td>\n",
       "      <td>2021</td>\n",
       "      <td>4</td>\n",
       "      <td>22</td>\n",
       "    </tr>\n",
       "    <tr>\n",
       "      <th>5375926</th>\n",
       "      <td>2021-04-22</td>\n",
       "      <td>0</td>\n",
       "      <td>0</td>\n",
       "      <td>0</td>\n",
       "      <td>0</td>\n",
       "      <td>0</td>\n",
       "      <td>0</td>\n",
       "      <td>-1</td>\n",
       "      <td>0</td>\n",
       "      <td>0</td>\n",
       "      <td>...</td>\n",
       "      <td>0.018237</td>\n",
       "      <td>2021-04-21</td>\n",
       "      <td>42</td>\n",
       "      <td>0.007795</td>\n",
       "      <td>0.5</td>\n",
       "      <td>0.026395</td>\n",
       "      <td>0.600431</td>\n",
       "      <td>2021</td>\n",
       "      <td>4</td>\n",
       "      <td>22</td>\n",
       "    </tr>\n",
       "  </tbody>\n",
       "</table>\n",
       "<p>5345913 rows × 36 columns</p>\n",
       "</div>"
      ],
      "text/plain": [
       "          test_date  cough  fever  sore_throat  shortness_of_breath  \\\n",
       "361      2020-03-12      1      1            1                    1   \n",
       "362      2020-03-12      0      0            0                    0   \n",
       "363      2020-03-12      0      0            0                    0   \n",
       "364      2020-03-12      0      0            0                    0   \n",
       "365      2020-03-12      0      0            0                    0   \n",
       "...             ...    ...    ...          ...                  ...   \n",
       "5375922  2021-04-22      0      0            0                    0   \n",
       "5375923  2021-04-22      0      0            0                    0   \n",
       "5375924  2021-04-22      0      0            0                    0   \n",
       "5375925  2021-04-22      0      0            0                    0   \n",
       "5375926  2021-04-22      0      0            0                    0   \n",
       "\n",
       "         head_ache  corona_result  age_60_and_above  gender  test_indication  \\\n",
       "361              0              0                -1       1                0   \n",
       "362              0              0                -1       0                0   \n",
       "363              0              0                -1       1                0   \n",
       "364              0              0                -1       1                0   \n",
       "365              0              0                -1       1                0   \n",
       "...            ...            ...               ...     ...              ...   \n",
       "5375922          0              0                -1       1                0   \n",
       "5375923          0              0                -1       1                0   \n",
       "5375924          0              0                -1       0                0   \n",
       "5375925          0              0                -1       0                0   \n",
       "5375926          0              0                -1       0                0   \n",
       "\n",
       "         ...   contact   yesterday  positive_cnt  positive_ratio  \\\n",
       "361      ...  0.056174  2020-03-11            42        0.007795   \n",
       "362      ...  0.056174  2020-03-11            42        0.007795   \n",
       "363      ...  0.056174  2020-03-11            42        0.007795   \n",
       "364      ...  0.056174  2020-03-11            42        0.007795   \n",
       "365      ...  0.056174  2020-03-11            42        0.007795   \n",
       "...      ...       ...         ...           ...             ...   \n",
       "5375922  ...  0.018237  2021-04-21            42        0.007795   \n",
       "5375923  ...  0.018237  2021-04-21            42        0.007795   \n",
       "5375924  ...  0.018237  2021-04-21            42        0.007795   \n",
       "5375925  ...  0.018237  2021-04-21            42        0.007795   \n",
       "5375926  ...  0.018237  2021-04-21            42        0.007795   \n",
       "\n",
       "         weekday_ratio confirmed_ratio global_confirmed_ratio  year  month  \\\n",
       "361                0.5        0.001760               0.003864  2020      3   \n",
       "362                0.5        0.001760               0.003864  2020      3   \n",
       "363                0.5        0.001760               0.003864  2020      3   \n",
       "364                0.5        0.001760               0.003864  2020      3   \n",
       "365                0.5        0.001760               0.003864  2020      3   \n",
       "...                ...             ...                    ...   ...    ...   \n",
       "5375922            0.5        0.026395               0.600431  2021      4   \n",
       "5375923            0.5        0.026395               0.600431  2021      4   \n",
       "5375924            0.5        0.026395               0.600431  2021      4   \n",
       "5375925            0.5        0.026395               0.600431  2021      4   \n",
       "5375926            0.5        0.026395               0.600431  2021      4   \n",
       "\n",
       "         day  \n",
       "361       12  \n",
       "362       12  \n",
       "363       12  \n",
       "364       12  \n",
       "365       12  \n",
       "...      ...  \n",
       "5375922   22  \n",
       "5375923   22  \n",
       "5375924   22  \n",
       "5375925   22  \n",
       "5375926   22  \n",
       "\n",
       "[5345913 rows x 36 columns]"
      ]
     },
     "execution_count": 55,
     "metadata": {},
     "output_type": "execute_result"
    }
   ],
   "source": [
    "df_israel_covid_without_o"
   ]
  },
  {
   "cell_type": "code",
   "execution_count": 56,
   "id": "e9cab160",
   "metadata": {},
   "outputs": [
    {
     "data": {
      "text/html": [
       "<div>\n",
       "<style scoped>\n",
       "    .dataframe tbody tr th:only-of-type {\n",
       "        vertical-align: middle;\n",
       "    }\n",
       "\n",
       "    .dataframe tbody tr th {\n",
       "        vertical-align: top;\n",
       "    }\n",
       "\n",
       "    .dataframe thead th {\n",
       "        text-align: right;\n",
       "    }\n",
       "</style>\n",
       "<table border=\"1\" class=\"dataframe\">\n",
       "  <thead>\n",
       "    <tr style=\"text-align: right;\">\n",
       "      <th></th>\n",
       "      <th>cough</th>\n",
       "      <th>fever</th>\n",
       "      <th>sore_throat</th>\n",
       "      <th>shortness_of_breath</th>\n",
       "      <th>head_ache</th>\n",
       "      <th>gender</th>\n",
       "      <th>confirmed_ratio</th>\n",
       "      <th>global_confirmed_ratio</th>\n",
       "      <th>indication_other</th>\n",
       "      <th>indication_abroad</th>\n",
       "      <th>indication_contact</th>\n",
       "      <th>corona_result</th>\n",
       "    </tr>\n",
       "  </thead>\n",
       "  <tbody>\n",
       "    <tr>\n",
       "      <th>count</th>\n",
       "      <td>5.345913e+06</td>\n",
       "      <td>5.345913e+06</td>\n",
       "      <td>5.345913e+06</td>\n",
       "      <td>5.345913e+06</td>\n",
       "      <td>5.345913e+06</td>\n",
       "      <td>5.345913e+06</td>\n",
       "      <td>5.345913e+06</td>\n",
       "      <td>5.345913e+06</td>\n",
       "      <td>5.345913e+06</td>\n",
       "      <td>5.345913e+06</td>\n",
       "      <td>5.345913e+06</td>\n",
       "      <td>5.345913e+06</td>\n",
       "    </tr>\n",
       "    <tr>\n",
       "      <th>mean</th>\n",
       "      <td>4.963493e-02</td>\n",
       "      <td>3.851017e-02</td>\n",
       "      <td>1.842978e-02</td>\n",
       "      <td>4.828174e-03</td>\n",
       "      <td>3.798640e-02</td>\n",
       "      <td>5.207305e-01</td>\n",
       "      <td>2.597199e-01</td>\n",
       "      <td>2.824709e-01</td>\n",
       "      <td>9.119273e-01</td>\n",
       "      <td>4.229586e-03</td>\n",
       "      <td>8.384312e-02</td>\n",
       "      <td>7.944592e-02</td>\n",
       "    </tr>\n",
       "    <tr>\n",
       "      <th>std</th>\n",
       "      <td>2.171896e-01</td>\n",
       "      <td>1.924244e-01</td>\n",
       "      <td>1.344995e-01</td>\n",
       "      <td>6.931713e-02</td>\n",
       "      <td>1.911634e-01</td>\n",
       "      <td>4.995701e-01</td>\n",
       "      <td>2.258918e-01</td>\n",
       "      <td>1.453237e-01</td>\n",
       "      <td>2.834006e-01</td>\n",
       "      <td>6.489759e-02</td>\n",
       "      <td>2.771524e-01</td>\n",
       "      <td>2.704335e-01</td>\n",
       "    </tr>\n",
       "    <tr>\n",
       "      <th>min</th>\n",
       "      <td>0.000000e+00</td>\n",
       "      <td>0.000000e+00</td>\n",
       "      <td>0.000000e+00</td>\n",
       "      <td>0.000000e+00</td>\n",
       "      <td>0.000000e+00</td>\n",
       "      <td>0.000000e+00</td>\n",
       "      <td>0.000000e+00</td>\n",
       "      <td>3.863713e-03</td>\n",
       "      <td>0.000000e+00</td>\n",
       "      <td>0.000000e+00</td>\n",
       "      <td>0.000000e+00</td>\n",
       "      <td>0.000000e+00</td>\n",
       "    </tr>\n",
       "    <tr>\n",
       "      <th>25%</th>\n",
       "      <td>0.000000e+00</td>\n",
       "      <td>0.000000e+00</td>\n",
       "      <td>0.000000e+00</td>\n",
       "      <td>0.000000e+00</td>\n",
       "      <td>0.000000e+00</td>\n",
       "      <td>0.000000e+00</td>\n",
       "      <td>7.315234e-02</td>\n",
       "      <td>1.754418e-01</td>\n",
       "      <td>1.000000e+00</td>\n",
       "      <td>0.000000e+00</td>\n",
       "      <td>0.000000e+00</td>\n",
       "      <td>0.000000e+00</td>\n",
       "    </tr>\n",
       "    <tr>\n",
       "      <th>50%</th>\n",
       "      <td>0.000000e+00</td>\n",
       "      <td>0.000000e+00</td>\n",
       "      <td>0.000000e+00</td>\n",
       "      <td>0.000000e+00</td>\n",
       "      <td>0.000000e+00</td>\n",
       "      <td>1.000000e+00</td>\n",
       "      <td>1.680912e-01</td>\n",
       "      <td>2.741507e-01</td>\n",
       "      <td>1.000000e+00</td>\n",
       "      <td>0.000000e+00</td>\n",
       "      <td>0.000000e+00</td>\n",
       "      <td>0.000000e+00</td>\n",
       "    </tr>\n",
       "    <tr>\n",
       "      <th>75%</th>\n",
       "      <td>0.000000e+00</td>\n",
       "      <td>0.000000e+00</td>\n",
       "      <td>0.000000e+00</td>\n",
       "      <td>0.000000e+00</td>\n",
       "      <td>0.000000e+00</td>\n",
       "      <td>1.000000e+00</td>\n",
       "      <td>4.026311e-01</td>\n",
       "      <td>3.930446e-01</td>\n",
       "      <td>1.000000e+00</td>\n",
       "      <td>0.000000e+00</td>\n",
       "      <td>0.000000e+00</td>\n",
       "      <td>0.000000e+00</td>\n",
       "    </tr>\n",
       "    <tr>\n",
       "      <th>max</th>\n",
       "      <td>1.000000e+00</td>\n",
       "      <td>1.000000e+00</td>\n",
       "      <td>1.000000e+00</td>\n",
       "      <td>1.000000e+00</td>\n",
       "      <td>1.000000e+00</td>\n",
       "      <td>1.000000e+00</td>\n",
       "      <td>1.000000e+00</td>\n",
       "      <td>1.000000e+00</td>\n",
       "      <td>1.000000e+00</td>\n",
       "      <td>1.000000e+00</td>\n",
       "      <td>1.000000e+00</td>\n",
       "      <td>1.000000e+00</td>\n",
       "    </tr>\n",
       "  </tbody>\n",
       "</table>\n",
       "</div>"
      ],
      "text/plain": [
       "              cough         fever   sore_throat  shortness_of_breath  \\\n",
       "count  5.345913e+06  5.345913e+06  5.345913e+06         5.345913e+06   \n",
       "mean   4.963493e-02  3.851017e-02  1.842978e-02         4.828174e-03   \n",
       "std    2.171896e-01  1.924244e-01  1.344995e-01         6.931713e-02   \n",
       "min    0.000000e+00  0.000000e+00  0.000000e+00         0.000000e+00   \n",
       "25%    0.000000e+00  0.000000e+00  0.000000e+00         0.000000e+00   \n",
       "50%    0.000000e+00  0.000000e+00  0.000000e+00         0.000000e+00   \n",
       "75%    0.000000e+00  0.000000e+00  0.000000e+00         0.000000e+00   \n",
       "max    1.000000e+00  1.000000e+00  1.000000e+00         1.000000e+00   \n",
       "\n",
       "          head_ache        gender  confirmed_ratio  global_confirmed_ratio  \\\n",
       "count  5.345913e+06  5.345913e+06     5.345913e+06            5.345913e+06   \n",
       "mean   3.798640e-02  5.207305e-01     2.597199e-01            2.824709e-01   \n",
       "std    1.911634e-01  4.995701e-01     2.258918e-01            1.453237e-01   \n",
       "min    0.000000e+00  0.000000e+00     0.000000e+00            3.863713e-03   \n",
       "25%    0.000000e+00  0.000000e+00     7.315234e-02            1.754418e-01   \n",
       "50%    0.000000e+00  1.000000e+00     1.680912e-01            2.741507e-01   \n",
       "75%    0.000000e+00  1.000000e+00     4.026311e-01            3.930446e-01   \n",
       "max    1.000000e+00  1.000000e+00     1.000000e+00            1.000000e+00   \n",
       "\n",
       "       indication_other  indication_abroad  indication_contact  corona_result  \n",
       "count      5.345913e+06       5.345913e+06        5.345913e+06   5.345913e+06  \n",
       "mean       9.119273e-01       4.229586e-03        8.384312e-02   7.944592e-02  \n",
       "std        2.834006e-01       6.489759e-02        2.771524e-01   2.704335e-01  \n",
       "min        0.000000e+00       0.000000e+00        0.000000e+00   0.000000e+00  \n",
       "25%        1.000000e+00       0.000000e+00        0.000000e+00   0.000000e+00  \n",
       "50%        1.000000e+00       0.000000e+00        0.000000e+00   0.000000e+00  \n",
       "75%        1.000000e+00       0.000000e+00        0.000000e+00   0.000000e+00  \n",
       "max        1.000000e+00       1.000000e+00        1.000000e+00   1.000000e+00  "
      ]
     },
     "execution_count": 56,
     "metadata": {},
     "output_type": "execute_result"
    }
   ],
   "source": [
    "df_input.describe()"
   ]
  },
  {
   "cell_type": "code",
   "execution_count": 57,
   "id": "c5534eee",
   "metadata": {},
   "outputs": [],
   "source": [
    "def split_train_test(data, test_ratio):\n",
    "    shuffled_indices = np.random.permutation(len(data)).astype(int)\n",
    "    test_set_size = int(len(data) * test_ratio)\n",
    "    \n",
    "    test_indices = shuffled_indices[:test_set_size]\n",
    "    train_indices = shuffled_indices[test_set_size:]\n",
    "    \n",
    "    print(len(data))\n",
    "    print(test_indices.dtype)\n",
    "    print(train_indices.dtype)\n",
    "    \n",
    "    test_data = data[:test_set_size]\n",
    "    train_data = data[test_set_size:]\n",
    "    test_data = data[test_indices]\n",
    "    train_data = data[train_indices]\n",
    "    \n",
    "    return train_data, test_data"
   ]
  },
  {
   "cell_type": "code",
   "execution_count": 58,
   "id": "d96e5428",
   "metadata": {},
   "outputs": [],
   "source": [
    "def split_input_gt(non_split_data):\n",
    "    splited_input = non_split_data[:, :-1]\n",
    "    splited_gt = non_split_data[:, -1]\n",
    "    \n",
    "    return splited_input, splited_gt"
   ]
  },
  {
   "cell_type": "code",
   "execution_count": 59,
   "id": "b96a71aa",
   "metadata": {},
   "outputs": [
    {
     "name": "stdout",
     "output_type": "stream",
     "text": [
      "5345913\n",
      "int64\n",
      "int64\n",
      "4276731\n",
      "int64\n",
      "int64\n"
     ]
    }
   ],
   "source": [
    "not_test_datas, test_datas = split_train_test(raw_datas, test_ratio=0.2)\n",
    "train_datas, valid_datas = split_train_test(not_test_datas, test_ratio=0.2)\n",
    "\n",
    "train_input, train_gt = split_input_gt(train_datas)\n",
    "valid_input, valid_gt = split_input_gt(valid_datas)\n",
    "test_input, test_gt = split_input_gt(test_datas)"
   ]
  },
  {
   "cell_type": "code",
   "execution_count": 60,
   "id": "9397f2b4",
   "metadata": {},
   "outputs": [
    {
     "name": "stdout",
     "output_type": "stream",
     "text": [
      "5345913\n",
      "int64\n",
      "int64\n",
      "4276731\n",
      "int64\n",
      "int64\n"
     ]
    }
   ],
   "source": [
    "not_test_datas_only_symptom, test_datas_only_symptom = split_train_test(raw_datas_only_symptom, test_ratio=0.2)\n",
    "train_datas_only_symptom, valid_datas_only_symptom = split_train_test(not_test_datas_only_symptom, test_ratio=0.2)\n",
    "\n",
    "train_input_only_symptom, train_gt_only_symptom = split_input_gt(train_datas_only_symptom)\n",
    "valid_input_only_symptom, valid_gt_only_symptom = split_input_gt(valid_datas_only_symptom)\n",
    "test_input_only_symptom, test_gt_only_symptom = split_input_gt(train_datas_only_symptom)"
   ]
  },
  {
   "cell_type": "code",
   "execution_count": 61,
   "id": "68a0ad46",
   "metadata": {},
   "outputs": [
    {
     "name": "stdout",
     "output_type": "stream",
     "text": [
      "(3421385, 11) (3421385,) (855346, 11) (855346,) (1069182, 11) (1069182,)\n"
     ]
    }
   ],
   "source": [
    "print(train_input.shape, train_gt.shape, valid_input.shape, valid_gt.shape, test_input.shape, test_gt.shape)"
   ]
  },
  {
   "cell_type": "code",
   "execution_count": 62,
   "id": "1876e371",
   "metadata": {},
   "outputs": [
    {
     "name": "stdout",
     "output_type": "stream",
     "text": [
      "(3421385, 5) (3421385,) (855346, 5) (855346,) (3421385, 5) (3421385,)\n"
     ]
    }
   ],
   "source": [
    "print(train_input_only_symptom.shape, train_gt_only_symptom.shape, valid_input_only_symptom.shape, valid_gt_only_symptom.shape, test_input_only_symptom.shape, test_gt_only_symptom.shape)"
   ]
  },
  {
   "cell_type": "code",
   "execution_count": 63,
   "id": "5dd8c33c",
   "metadata": {},
   "outputs": [
    {
     "data": {
      "text/plain": [
       "(3421385, 11)"
      ]
     },
     "execution_count": 63,
     "metadata": {},
     "output_type": "execute_result"
    }
   ],
   "source": [
    "train_input.shape"
   ]
  },
  {
   "cell_type": "code",
   "execution_count": 64,
   "id": "f0abc129",
   "metadata": {},
   "outputs": [],
   "source": [
    "class IsraelDataset(Dataset):\n",
    "    def __init__(self, input_data, gt, transform=None, target_transform=None):\n",
    "        self.input_data = input_data\n",
    "        self.gt = gt\n",
    "        self.transform = transform\n",
    "        self.target_transform = target_transform\n",
    "    \n",
    "    def __len__(self):\n",
    "        return len(self.input_data)\n",
    "    \n",
    "    def __getitem__(self, idx):\n",
    "        return self.input_data[idx], self.gt[idx]"
   ]
  },
  {
   "cell_type": "code",
   "execution_count": 65,
   "id": "60771561",
   "metadata": {},
   "outputs": [],
   "source": [
    "def plot_roc_curve_for_dnn(fper, tper):\n",
    "    plt.plot(fper, tper, color='red', label='ROC')\n",
    "    plt.plot([0, 1], [0, 1], color='green', linestyle='--')\n",
    "    plt.xlabel('False Positive Rate')\n",
    "    plt.ylabel('True Positive Rate')\n",
    "    plt.title('Receiver Operating Characteristic Curve')\n",
    "    plt.legend()\n",
    "    plt.show()"
   ]
  },
  {
   "cell_type": "code",
   "execution_count": 66,
   "id": "cea8c206",
   "metadata": {},
   "outputs": [],
   "source": [
    "def display_performance(clf, pred, valid_input, valid_gt, save_name=None):\n",
    "    pred = np.array(pred)\n",
    "\n",
    "    print('accuracy %.4f' % (accuracy_score(pred, valid_gt)))\n",
    "    print('precision %.4f' % (precision_score(pred, valid_gt)))\n",
    "    print('recall %.4f' % (recall_score(pred, valid_gt)))\n",
    "    print('f1-score %.4f' % (f1_score(pred, valid_gt)))\n",
    "    print(confusion_matrix(pred, valid_gt))\n",
    "    \n",
    "    plot_roc_curve(clf, valid_input, valid_gt)\n",
    "    \n",
    "    if save_name != None: plt.savefig(f'./eda_result/{save_name}.png')"
   ]
  },
  {
   "cell_type": "code",
   "execution_count": 67,
   "id": "1955c07b",
   "metadata": {},
   "outputs": [],
   "source": [
    "from sklearn import tree\n",
    "from sklearn.tree import DecisionTreeClassifier\n",
    "from sklearn.linear_model import LogisticRegression\n",
    "from sklearn.metrics import accuracy_score, precision_score, recall_score, f1_score, confusion_matrix\n",
    "\n",
    "logistic_clf = LogisticRegression(C=1000.0, random_state=0)\n",
    "logistic_clf = logistic_clf.fit(train_input, train_gt)"
   ]
  },
  {
   "cell_type": "code",
   "execution_count": 68,
   "id": "8100c6ab",
   "metadata": {},
   "outputs": [
    {
     "name": "stdout",
     "output_type": "stream",
     "text": [
      "accuracy 0.9190\n",
      "precision 0.1853\n",
      "recall 0.4750\n",
      "f1-score 0.2666\n",
      "[[773510  55336]\n",
      " [ 13913  12587]]\n"
     ]
    },
    {
     "data": {
      "image/png": "[encoded data removed]",
      "text/plain": [
       "<Figure size 432x288 with 1 Axes>"
      ]
     },
     "metadata": {
      "needs_background": "light"
     },
     "output_type": "display_data"
    }
   ],
   "source": [
    "pred = logistic_clf.predict(valid_input)\n",
    "display_performance(logistic_clf, pred, valid_input, valid_gt, 'logistic_auc')"
   ]
  },
  {
   "cell_type": "code",
   "execution_count": 69,
   "id": "53525b9e",
   "metadata": {},
   "outputs": [],
   "source": [
    "class BaselineModel(nn.Module):\n",
    "    def __init__(self):\n",
    "        super(BaselineModel, self).__init__()\n",
    "#         nn.BatchNorm1d(9)\n",
    "        self.fcs1 = nn.Sequential(\n",
    "            nn.Linear(11, 400),\n",
    "            nn.BatchNorm1d(400),\n",
    "            nn.ReLU()\n",
    "        )\n",
    "#         dropout 넣기\n",
    "#         nn.linear, L1 norm L2 norm\n",
    "        self.fcs2 = nn.Sequential(\n",
    "            nn.Linear(400, 400),\n",
    "            nn.BatchNorm1d(400),\n",
    "            nn.ReLU()\n",
    "        )\n",
    "        self.fcs3 = nn.Sequential(\n",
    "            nn.Linear(400, 400),\n",
    "            nn.BatchNorm1d(400),\n",
    "            nn.ReLU()\n",
    "        )\n",
    "        self.fcs4 = nn.Sequential(\n",
    "            nn.Linear(400, 400),\n",
    "            nn.BatchNorm1d(400),\n",
    "            nn.ReLU()\n",
    "        )\n",
    "        self.fcs5 = nn.Sequential(\n",
    "            nn.Linear(400, 1),\n",
    "#             nn.Sigmoid()\n",
    "        )\n",
    "    \n",
    "    def forward(self, x):\n",
    "        x = x.view(-1, 11)\n",
    "        x = self.fcs1(x)\n",
    "        x = x + self.fcs2(x)\n",
    "        x = x + self.fcs3(x)\n",
    "        x = x + self.fcs4(x)\n",
    "        pred = self.fcs5(x)\n",
    "        return pred"
   ]
  },
  {
   "cell_type": "code",
   "execution_count": 70,
   "id": "63c22fda",
   "metadata": {},
   "outputs": [
    {
     "data": {
      "text/plain": [
       "((3421385, 11), (855346, 11), (1069182, 11))"
      ]
     },
     "execution_count": 70,
     "metadata": {},
     "output_type": "execute_result"
    }
   ],
   "source": [
    "training_data = IsraelDataset(torch.Tensor(train_input), torch.Tensor(train_gt.reshape(-1, 1)))\n",
    "valid_data = IsraelDataset(torch.Tensor(valid_input), torch.Tensor(valid_gt.reshape(-1, 1)))\n",
    "test_data = IsraelDataset(torch.Tensor(test_input), torch.Tensor(test_gt.reshape(-1, 1)))\n",
    "                          \n",
    "train_dataloader = DataLoader(training_data, batch_size = 512, shuffle=False)\n",
    "valid_dataloader = DataLoader(valid_data, batch_size=128, shuffle=False)\n",
    "test_dataloader = DataLoader(test_data, batch_size=1, shuffle=False)\n",
    "\n",
    "train_input.shape, valid_input.shape, test_input.shape"
   ]
  },
  {
   "cell_type": "code",
   "execution_count": 71,
   "id": "0a06941d",
   "metadata": {},
   "outputs": [
    {
     "name": "stdout",
     "output_type": "stream",
     "text": [
      "torch.Size([128, 11])\n",
      "torch.Size([128, 11])\n"
     ]
    }
   ],
   "source": [
    "for val_inputs, val_labels in valid_dataloader:\n",
    "    break\n",
    "print(val_inputs.shape)\n",
    "\n",
    "print(val_inputs.shape)"
   ]
  },
  {
   "cell_type": "code",
   "execution_count": 72,
   "id": "f99e31cc",
   "metadata": {},
   "outputs": [],
   "source": [
    "import torch\n",
    "from torch import Tensor\n",
    "import torch.nn as nn\n",
    "from typing import Type, Any, Callable, Union, List, Optional\n",
    "\n",
    "\n",
    "def conv3(in_planes: int, out_planes: int, stride: int = 1, groups: int = 1) -> nn.Conv1d:\n",
    "    return nn.Conv1d(in_planes, out_planes,\n",
    "                     kernel_size=3,\n",
    "                     stride=stride, padding=1,\n",
    "                     groups=groups, bias=False,\n",
    "                     )\n",
    "\n",
    "\n",
    "class BasicBlock(nn.Module):\n",
    "    expansion: int = 1\n",
    "\n",
    "    def __init__(self, inplanes: int, planes: int, stride: int = 1, ) -> None:\n",
    "        super(BasicBlock, self).__init__()\n",
    "        norm_layer = nn.BatchNorm1d\n",
    "        self.conv1 = conv3(inplanes, planes, stride)\n",
    "        self.bn1 = norm_layer(planes)\n",
    "        self.relu = nn.ReLU(inplace=True)\n",
    "        self.conv2 = conv3(planes, planes)\n",
    "        self.bn2 = norm_layer(planes)\n",
    "        self.stride = stride\n",
    "\n",
    "    def forward(self, x: Tensor) -> Tensor:\n",
    "        identity = x\n",
    "\n",
    "        out = self.conv1(x)\n",
    "        out = self.bn1(out)\n",
    "        out = self.relu(out)\n",
    "\n",
    "        out = self.conv2(out)\n",
    "        out = self.bn2(out)\n",
    "\n",
    "        out += identity\n",
    "        out = self.relu(out)\n",
    "\n",
    "        return out\n",
    "\n",
    "\n",
    "class ResNet(nn.Module):\n",
    "    def __init__(self, block, layers, num_classes, n_channels=64, dropout=0.2):\n",
    "\n",
    "        super(ResNet, self).__init__()\n",
    "\n",
    "        self.inplanes = 1\n",
    "        self.outplanes = n_channels\n",
    "        self.conv1 = nn.Conv1d(self.inplanes, self.outplanes, kernel_size=7, stride=1, padding=3, bias=False)\n",
    "        self.bn1 = nn.BatchNorm1d(self.outplanes)\n",
    "        self.relu = nn.ReLU(inplace=True)\n",
    "\n",
    "        # Update inplanes for the next layer\n",
    "        self.inplanes = self.outplanes\n",
    "\n",
    "        # ResNet blocks\n",
    "        self.layer1 = self._make_layer(block, n_channels, layers[0])\n",
    "        self.layer2 = self._make_layer(block, n_channels, layers[1], stride=1,)\n",
    "        self.layer3 = self._make_layer(block, n_channels, layers[2], stride=1,)\n",
    "        self.layer4 = self._make_layer(block, n_channels, layers[3], stride=1,)\n",
    "        self.layer5 = self._make_layer(block, n_channels, layers[3], stride=1,)\n",
    "        self.layer6 = self._make_layer(block, n_channels, layers[3], stride=1,)\n",
    "        self.layer7 = self._make_layer(block, n_channels, layers[3], stride=1,)\n",
    "        self.layer8 = self._make_layer(block, n_channels, layers[3], stride=1,)\n",
    "        self.avgpool = nn.AdaptiveAvgPool1d((1, ))\n",
    "        \n",
    "        self.dropout = nn.Dropout(p=dropout)\n",
    "        self.fc = nn.Linear(self.inplanes * block.expansion, num_classes)\n",
    "\n",
    "    def _make_layer(self, block, planes: int, blocks: int, stride: int = 1, dilate: bool = False):\n",
    "        layers = []\n",
    "        layers.append(block(self.inplanes, planes, stride))\n",
    "        self.inplanes = planes * block.expansion\n",
    "        for _ in range(1, blocks):\n",
    "            layers.append(block(self.inplanes, planes, stride))\n",
    "\n",
    "        return nn.Sequential(*layers)\n",
    "\n",
    "    def forward(self, x: Tensor):\n",
    "        # See note [TorchScript super()]\n",
    "        x = self.conv1(x)\n",
    "        x = self.bn1(x)\n",
    "        x = self.relu(x)\n",
    "\n",
    "        x = self.layer1(x)\n",
    "        x = self.layer2(x)\n",
    "        x = self.layer3(x)\n",
    "        x = self.layer4(x)\n",
    "\n",
    "        x = self.avgpool(x)\n",
    "        x = torch.flatten(x, 1)\n",
    "        x = self.fc(x)\n",
    "        return x\n"
   ]
  },
  {
   "cell_type": "code",
   "execution_count": 73,
   "id": "39a19156",
   "metadata": {},
   "outputs": [
    {
     "name": "stdout",
     "output_type": "stream",
     "text": [
      "cuda\n"
     ]
    }
   ],
   "source": [
    "device = 'cuda' if torch.cuda.is_available() else 'cpu'\n",
    "print(device)"
   ]
  },
  {
   "cell_type": "code",
   "execution_count": 74,
   "id": "c104245e",
   "metadata": {},
   "outputs": [],
   "source": [
    "model = BaselineModel().to(device)"
   ]
  },
  {
   "cell_type": "code",
   "execution_count": 75,
   "id": "542baabd",
   "metadata": {
    "scrolled": true
   },
   "outputs": [
    {
     "data": {
      "text/plain": [
       "BaselineModel(\n",
       "  (fcs1): Sequential(\n",
       "    (0): Linear(in_features=11, out_features=400, bias=True)\n",
       "    (1): BatchNorm1d(400, eps=1e-05, momentum=0.1, affine=True, track_running_stats=True)\n",
       "    (2): ReLU()\n",
       "  )\n",
       "  (fcs2): Sequential(\n",
       "    (0): Linear(in_features=400, out_features=400, bias=True)\n",
       "    (1): BatchNorm1d(400, eps=1e-05, momentum=0.1, affine=True, track_running_stats=True)\n",
       "    (2): ReLU()\n",
       "  )\n",
       "  (fcs3): Sequential(\n",
       "    (0): Linear(in_features=400, out_features=400, bias=True)\n",
       "    (1): BatchNorm1d(400, eps=1e-05, momentum=0.1, affine=True, track_running_stats=True)\n",
       "    (2): ReLU()\n",
       "  )\n",
       "  (fcs4): Sequential(\n",
       "    (0): Linear(in_features=400, out_features=400, bias=True)\n",
       "    (1): BatchNorm1d(400, eps=1e-05, momentum=0.1, affine=True, track_running_stats=True)\n",
       "    (2): ReLU()\n",
       "  )\n",
       "  (fcs5): Sequential(\n",
       "    (0): Linear(in_features=400, out_features=1, bias=True)\n",
       "  )\n",
       ")"
      ]
     },
     "execution_count": 75,
     "metadata": {},
     "output_type": "execute_result"
    }
   ],
   "source": [
    "model"
   ]
  },
  {
   "cell_type": "code",
   "execution_count": 76,
   "id": "a7051d26",
   "metadata": {},
   "outputs": [
    {
     "ename": "FileNotFoundError",
     "evalue": "[Errno 2] No such file or directory: './eda_result/cnn_model_epoch35_v4.pth'",
     "output_type": "error",
     "traceback": [
      "\u001b[0;31m---------------------------------------------------------------------------\u001b[0m",
      "\u001b[0;31mFileNotFoundError\u001b[0m                         Traceback (most recent call last)",
      "\u001b[0;32m<ipython-input-76-4aa3d189cfe9>\u001b[0m in \u001b[0;36m<module>\u001b[0;34m\u001b[0m\n\u001b[0;32m----> 1\u001b[0;31m \u001b[0mmodel\u001b[0m\u001b[0;34m.\u001b[0m\u001b[0mload_state_dict\u001b[0m\u001b[0;34m(\u001b[0m\u001b[0mtorch\u001b[0m\u001b[0;34m.\u001b[0m\u001b[0mload\u001b[0m\u001b[0;34m(\u001b[0m\u001b[0;34m'./eda_result/cnn_model_epoch35_v4.pth'\u001b[0m\u001b[0;34m)\u001b[0m\u001b[0;34m)\u001b[0m\u001b[0;34m\u001b[0m\u001b[0;34m\u001b[0m\u001b[0m\n\u001b[0m",
      "\u001b[0;32m~/anaconda3/envs/flu_screening/lib/python3.8/site-packages/torch/serialization.py\u001b[0m in \u001b[0;36mload\u001b[0;34m(f, map_location, pickle_module, **pickle_load_args)\u001b[0m\n\u001b[1;32m    577\u001b[0m         \u001b[0mpickle_load_args\u001b[0m\u001b[0;34m[\u001b[0m\u001b[0;34m'encoding'\u001b[0m\u001b[0;34m]\u001b[0m \u001b[0;34m=\u001b[0m \u001b[0;34m'utf-8'\u001b[0m\u001b[0;34m\u001b[0m\u001b[0;34m\u001b[0m\u001b[0m\n\u001b[1;32m    578\u001b[0m \u001b[0;34m\u001b[0m\u001b[0m\n\u001b[0;32m--> 579\u001b[0;31m     \u001b[0;32mwith\u001b[0m \u001b[0m_open_file_like\u001b[0m\u001b[0;34m(\u001b[0m\u001b[0mf\u001b[0m\u001b[0;34m,\u001b[0m \u001b[0;34m'rb'\u001b[0m\u001b[0;34m)\u001b[0m \u001b[0;32mas\u001b[0m \u001b[0mopened_file\u001b[0m\u001b[0;34m:\u001b[0m\u001b[0;34m\u001b[0m\u001b[0;34m\u001b[0m\u001b[0m\n\u001b[0m\u001b[1;32m    580\u001b[0m         \u001b[0;32mif\u001b[0m \u001b[0m_is_zipfile\u001b[0m\u001b[0;34m(\u001b[0m\u001b[0mopened_file\u001b[0m\u001b[0;34m)\u001b[0m\u001b[0;34m:\u001b[0m\u001b[0;34m\u001b[0m\u001b[0;34m\u001b[0m\u001b[0m\n\u001b[1;32m    581\u001b[0m             \u001b[0;31m# The zipfile reader is going to advance the current file position.\u001b[0m\u001b[0;34m\u001b[0m\u001b[0;34m\u001b[0m\u001b[0;34m\u001b[0m\u001b[0m\n",
      "\u001b[0;32m~/anaconda3/envs/flu_screening/lib/python3.8/site-packages/torch/serialization.py\u001b[0m in \u001b[0;36m_open_file_like\u001b[0;34m(name_or_buffer, mode)\u001b[0m\n\u001b[1;32m    228\u001b[0m \u001b[0;32mdef\u001b[0m \u001b[0m_open_file_like\u001b[0m\u001b[0;34m(\u001b[0m\u001b[0mname_or_buffer\u001b[0m\u001b[0;34m,\u001b[0m \u001b[0mmode\u001b[0m\u001b[0;34m)\u001b[0m\u001b[0;34m:\u001b[0m\u001b[0;34m\u001b[0m\u001b[0;34m\u001b[0m\u001b[0m\n\u001b[1;32m    229\u001b[0m     \u001b[0;32mif\u001b[0m \u001b[0m_is_path\u001b[0m\u001b[0;34m(\u001b[0m\u001b[0mname_or_buffer\u001b[0m\u001b[0;34m)\u001b[0m\u001b[0;34m:\u001b[0m\u001b[0;34m\u001b[0m\u001b[0;34m\u001b[0m\u001b[0m\n\u001b[0;32m--> 230\u001b[0;31m         \u001b[0;32mreturn\u001b[0m \u001b[0m_open_file\u001b[0m\u001b[0;34m(\u001b[0m\u001b[0mname_or_buffer\u001b[0m\u001b[0;34m,\u001b[0m \u001b[0mmode\u001b[0m\u001b[0;34m)\u001b[0m\u001b[0;34m\u001b[0m\u001b[0;34m\u001b[0m\u001b[0m\n\u001b[0m\u001b[1;32m    231\u001b[0m     \u001b[0;32melse\u001b[0m\u001b[0;34m:\u001b[0m\u001b[0;34m\u001b[0m\u001b[0;34m\u001b[0m\u001b[0m\n\u001b[1;32m    232\u001b[0m         \u001b[0;32mif\u001b[0m \u001b[0;34m'w'\u001b[0m \u001b[0;32min\u001b[0m \u001b[0mmode\u001b[0m\u001b[0;34m:\u001b[0m\u001b[0;34m\u001b[0m\u001b[0;34m\u001b[0m\u001b[0m\n",
      "\u001b[0;32m~/anaconda3/envs/flu_screening/lib/python3.8/site-packages/torch/serialization.py\u001b[0m in \u001b[0;36m__init__\u001b[0;34m(self, name, mode)\u001b[0m\n\u001b[1;32m    209\u001b[0m \u001b[0;32mclass\u001b[0m \u001b[0m_open_file\u001b[0m\u001b[0;34m(\u001b[0m\u001b[0m_opener\u001b[0m\u001b[0;34m)\u001b[0m\u001b[0;34m:\u001b[0m\u001b[0;34m\u001b[0m\u001b[0;34m\u001b[0m\u001b[0m\n\u001b[1;32m    210\u001b[0m     \u001b[0;32mdef\u001b[0m \u001b[0m__init__\u001b[0m\u001b[0;34m(\u001b[0m\u001b[0mself\u001b[0m\u001b[0;34m,\u001b[0m \u001b[0mname\u001b[0m\u001b[0;34m,\u001b[0m \u001b[0mmode\u001b[0m\u001b[0;34m)\u001b[0m\u001b[0;34m:\u001b[0m\u001b[0;34m\u001b[0m\u001b[0;34m\u001b[0m\u001b[0m\n\u001b[0;32m--> 211\u001b[0;31m         \u001b[0msuper\u001b[0m\u001b[0;34m(\u001b[0m\u001b[0m_open_file\u001b[0m\u001b[0;34m,\u001b[0m \u001b[0mself\u001b[0m\u001b[0;34m)\u001b[0m\u001b[0;34m.\u001b[0m\u001b[0m__init__\u001b[0m\u001b[0;34m(\u001b[0m\u001b[0mopen\u001b[0m\u001b[0;34m(\u001b[0m\u001b[0mname\u001b[0m\u001b[0;34m,\u001b[0m \u001b[0mmode\u001b[0m\u001b[0;34m)\u001b[0m\u001b[0;34m)\u001b[0m\u001b[0;34m\u001b[0m\u001b[0;34m\u001b[0m\u001b[0m\n\u001b[0m\u001b[1;32m    212\u001b[0m \u001b[0;34m\u001b[0m\u001b[0m\n\u001b[1;32m    213\u001b[0m     \u001b[0;32mdef\u001b[0m \u001b[0m__exit__\u001b[0m\u001b[0;34m(\u001b[0m\u001b[0mself\u001b[0m\u001b[0;34m,\u001b[0m \u001b[0;34m*\u001b[0m\u001b[0margs\u001b[0m\u001b[0;34m)\u001b[0m\u001b[0;34m:\u001b[0m\u001b[0;34m\u001b[0m\u001b[0;34m\u001b[0m\u001b[0m\n",
      "\u001b[0;31mFileNotFoundError\u001b[0m: [Errno 2] No such file or directory: './eda_result/cnn_model_epoch35_v4.pth'"
     ]
    }
   ],
   "source": [
    "model.load_state_dict(torch.load('./eda_result/cnn_model_epoch35_v4.pth'))"
   ]
  },
  {
   "cell_type": "code",
   "execution_count": null,
   "id": "18eb7102",
   "metadata": {},
   "outputs": [],
   "source": [
    "model.eval()"
   ]
  },
  {
   "cell_type": "code",
   "execution_count": null,
   "id": "76a7da26",
   "metadata": {},
   "outputs": [],
   "source": [
    "# 'cough', 'fever', 'sore_throat', 'shortness_of_breath', \n",
    "# 'head_ache', 'gender', 'confirmed_ratio', 'global_confirmed_ratio', \n",
    "# 'indication_other', 'indication_abroad', 'indication_contact'\n",
    "mock_input = torch.Tensor([[1, 0, 0, 0, 0, 0, 0.6, 0.8, 1, 0, 0]]).to(device)\n",
    "mock_input = torch.unsqueeze(mock_input, 1)\n",
    "\n",
    "torch.sigmoid(model(mock_input))"
   ]
  },
  {
   "cell_type": "code",
   "execution_count": null,
   "id": "9a127775",
   "metadata": {},
   "outputs": [],
   "source": [
    "# ['cough', 'fever', 'sore_throat', 'shortness_of_breath', \n",
    "#  'head_ache', 'gender', 'confirmed_ratio', 'global_confirmed_ratio', \n",
    "#  'test_indication', 'corona_result']"
   ]
  },
  {
   "cell_type": "code",
   "execution_count": null,
   "id": "e6123a4a",
   "metadata": {},
   "outputs": [],
   "source": [
    "symp_other_x = []\n",
    "symp_other_y = []\n",
    "\n",
    "symp_abroad_x = []\n",
    "symp_abroad_y = []\n",
    "\n",
    "symp_contact_x = []\n",
    "symp_contact_y = []\n",
    "\n",
    "for i in range(11935):\n",
    "    symp_input_o = torch.unsqueeze(torch.Tensor([[0, 0, 1, 0, 1, 1, i/11934, 0.6, 1, 0, 0]]).to(device), 1)\n",
    "    symp_input_a = torch.unsqueeze(torch.Tensor([[0, 0, 1, 0, 1, 1, i/11934, 0.6, 0, 1, 0]]).to(device), 1)\n",
    "    symp_input_c = torch.unsqueeze(torch.Tensor([[0, 0, 1, 0, 1, 1, i/11934, 0.6, 0, 0, 1]]).to(device), 1)\n",
    "    \n",
    "    if i % 10 == 0:\n",
    "        symp_other_x.append(i/11934)\n",
    "        symp_other_y.append(torch.sigmoid(model(symp_input_o)).item())\n",
    "        \n",
    "        symp_abroad_x.append(i/11934)\n",
    "        symp_abroad_y.append(torch.sigmoid(model(symp_input_a)).item())\n",
    "        \n",
    "        symp_contact_x.append(i/11934)\n",
    "        symp_contact_y.append(torch.sigmoid(model(symp_input_c)).item())"
   ]
  },
  {
   "cell_type": "code",
   "execution_count": null,
   "id": "3cfb0c25",
   "metadata": {},
   "outputs": [],
   "source": [
    "plt.plot(symp_other_x, symp_other_y)\n",
    "plt.grid(True, axis='y')\n",
    "plt.ylim([0, 1]) \n",
    "plt.show()"
   ]
  },
  {
   "cell_type": "code",
   "execution_count": null,
   "id": "6c6e8039",
   "metadata": {},
   "outputs": [],
   "source": [
    "plt.plot(symp_abroad_x, symp_abroad_y)\n",
    "plt.grid(True, axis='y')\n",
    "plt.ylim([0, 1]) \n",
    "plt.show()"
   ]
  },
  {
   "cell_type": "code",
   "execution_count": null,
   "id": "ea288f7a",
   "metadata": {},
   "outputs": [],
   "source": [
    "plt.plot(symp_contact_x, symp_contact_y)\n",
    "plt.grid(True, axis='y')\n",
    "plt.ylim([0, 1]) \n",
    "plt.show()"
   ]
  }
 ],
 "metadata": {
  "kernelspec": {
   "display_name": "Python 3",
   "language": "python",
   "name": "python3"
  },
  "language_info": {
   "codemirror_mode": {
    "name": "ipython",
    "version": 3
   },
   "file_extension": ".py",
   "mimetype": "text/x-python",
   "name": "python",
   "nbconvert_exporter": "python",
   "pygments_lexer": "ipython3",
   "version": "3.8.10"
  }
 },
 "nbformat": 4,
 "nbformat_minor": 5
}
