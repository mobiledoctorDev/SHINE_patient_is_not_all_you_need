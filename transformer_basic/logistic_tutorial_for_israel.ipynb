{
 "cells": [
  {
   "cell_type": "code",
   "execution_count": 1,
   "id": "2c0694fd",
   "metadata": {},
   "outputs": [],
   "source": [
    "import datetime \n",
    "from datetime import timedelta\n",
    "import numpy as np\n",
    "import pandas as pd\n",
    "import matplotlib.pyplot as plt\n",
    "import joblib\n",
    "\n",
    "from sklearn.linear_model import LogisticRegression\n",
    "from sklearn.metrics import roc_curve, roc_auc_score\n",
    "from sklearn.metrics import accuracy_score, precision_score, recall_score, f1_score, confusion_matrix"
   ]
  },
  {
   "cell_type": "markdown",
   "id": "8b1a69d9",
   "metadata": {},
   "source": [
    "### Load Data"
   ]
  },
  {
   "cell_type": "code",
   "execution_count": 2,
   "id": "f7d49f82",
   "metadata": {},
   "outputs": [
    {
     "name": "stderr",
     "output_type": "stream",
     "text": [
      "/home/md/anaconda3/envs/flu_screening/lib/python3.8/site-packages/IPython/core/interactiveshell.py:3165: DtypeWarning: Columns (7,8) have mixed types.Specify dtype option on import or set low_memory=False.\n",
      "  has_raised = await self.run_ast_nodes(code_ast.body, cell_name,\n"
     ]
    }
   ],
   "source": [
    "base_path = './opendataset'\n",
    "\n",
    "df_israel_covid = pd.read_csv(f'{base_path}/israel_covid_large.csv')\n",
    "df_israel_isolation_per_day = pd.read_csv(f'{base_path}/corona_isolation_per_day_ver_0059.csv')\n",
    "df_timeseries_confirm = pd.read_csv(f'{base_path}/time_series_covid19_confirmed_global.csv')"
   ]
  },
  {
   "cell_type": "markdown",
   "id": "e5566f8a",
   "metadata": {},
   "source": [
    "### confrimed data preprocessing and add some columns"
   ]
  },
  {
   "cell_type": "code",
   "execution_count": 3,
   "id": "ba2d78a3",
   "metadata": {},
   "outputs": [],
   "source": [
    "rows = []\n",
    "for idx, values in enumerate(df_timeseries_confirm[df_timeseries_confirm['Country/Region'] == 'Israel'].iteritems()):\n",
    "    if idx < 4: continue\n",
    "    year = f\"20{values[0][-2:]}\"\n",
    "    month = values[0][:values[0].index('/')]\n",
    "    month = f'0{month}' if len(month) == 1 else month\n",
    "    day = values[0][values[0].index('/') + 1 : values[0].rindex('/')]\n",
    "    day = f'0{day}' if len(day) == 1 else day\n",
    "    date = f'{year}-{month}-{day}'\n",
    "    confirmed_num = values[1].item()\n",
    "    rows.append([date, confirmed_num])\n",
    "df_numsum_confirmed = pd.DataFrame(rows, columns=['confirmed_date', 'confirmed_numsum'])"
   ]
  },
  {
   "cell_type": "code",
   "execution_count": 4,
   "id": "afc480a6",
   "metadata": {},
   "outputs": [],
   "source": [
    "df_numsum_confirmed['confirmed_num'] = df_numsum_confirmed['confirmed_numsum'] - df_numsum_confirmed.shift(1)['confirmed_numsum']\n",
    "df_numsum_confirmed = df_numsum_confirmed.dropna()\n",
    "df_numsum_confirmed['confirmed_num'] = df_numsum_confirmed['confirmed_num'].astype(int)"
   ]
  },
  {
   "cell_type": "code",
   "execution_count": 5,
   "id": "3f6c62d1",
   "metadata": {},
   "outputs": [
    {
     "name": "stdout",
     "output_type": "stream",
     "text": [
      "before -28\n",
      "after 28\n",
      "\n",
      "before -53\n",
      "after 34\n",
      "\n"
     ]
    }
   ],
   "source": [
    "for idx, row in df_numsum_confirmed[df_numsum_confirmed['confirmed_num'] < 0].iterrows():\n",
    "    print(\"before\", df_numsum_confirmed.loc[idx,'confirmed_num'])\n",
    "    df_numsum_confirmed.loc[idx,'confirmed_num'] = df_numsum_confirmed.loc[idx-1,'confirmed_num']\n",
    "    print(\"after\", df_numsum_confirmed.loc[idx,'confirmed_num'])\n",
    "    print()"
   ]
  },
  {
   "cell_type": "code",
   "execution_count": 6,
   "id": "3661df89",
   "metadata": {},
   "outputs": [],
   "source": [
    "df_israel_isolation_per_day['join_date'] = (pd.to_datetime(df_israel_isolation_per_day['date']) + timedelta(days=1)).dt.strftime('%Y-%m-%d')\n",
    "df_israel_covid['weekday'] = pd.to_datetime(df_israel_covid['test_date']).dt.dayofweek"
   ]
  },
  {
   "cell_type": "code",
   "execution_count": 7,
   "id": "634342a9",
   "metadata": {},
   "outputs": [],
   "source": [
    "def date_to_weeknum_map(test_date):\n",
    "    week_num_st_idx = 52\n",
    "    year_last_num = int(test_date[2:4])\n",
    "    week_num = datetime.date(int(test_date[:4]), int(test_date[5:7]), int(test_date[8:])).isocalendar()[1]\n",
    "    return week_num_st_idx * year_last_num + week_num"
   ]
  },
  {
   "cell_type": "code",
   "execution_count": 8,
   "id": "1dd3c69a",
   "metadata": {},
   "outputs": [],
   "source": [
    "df_israel_covid['week_num'] = df_israel_covid['test_date'].apply(date_to_weeknum_map)"
   ]
  },
  {
   "cell_type": "markdown",
   "id": "1147bda4",
   "metadata": {},
   "source": [
    "### join symptom data, isolation data, confirmed data"
   ]
  },
  {
   "cell_type": "code",
   "execution_count": 9,
   "id": "738c9e22",
   "metadata": {},
   "outputs": [],
   "source": [
    "df_israel_covid = pd.merge(df_israel_covid, df_israel_isolation_per_day, how='left', left_on='test_date', right_on='join_date')\n",
    "df_israel_covid = pd.merge(df_israel_covid, df_numsum_confirmed, how='left', left_on='test_date', right_on='confirmed_date')\n",
    "\n",
    "df_israel_covid = df_israel_covid.sort_values('test_date')"
   ]
  },
  {
   "cell_type": "markdown",
   "id": "82c8709a",
   "metadata": {},
   "source": [
    "### israel language translated to number"
   ]
  },
  {
   "cell_type": "code",
   "execution_count": 10,
   "id": "7fb4b392",
   "metadata": {},
   "outputs": [],
   "source": [
    "def gender_map(gender):\n",
    "    if gender == 'נקבה': return 1 #'Female'\n",
    "    elif gender == 'זכר': return 0 #'Male'\n",
    "    return -1"
   ]
  },
  {
   "cell_type": "code",
   "execution_count": 11,
   "id": "9ab81f7e",
   "metadata": {},
   "outputs": [],
   "source": [
    "def corona_result_map(corona_result):\n",
    "    if corona_result == 'אחר': return -1 # 'Other'\n",
    "    elif corona_result == 'שלילי': return 0 # 'Negative'\n",
    "    elif corona_result == 'חיובי': return 1 # 'Positive'\n",
    "    return ''"
   ]
  },
  {
   "cell_type": "code",
   "execution_count": 12,
   "id": "910f1d5a",
   "metadata": {},
   "outputs": [],
   "source": [
    "def age_60_and_above_map(age_60_and_above):\n",
    "    if age_60_and_above == 'Yes': return 1\n",
    "    elif age_60_and_above == 'No': return 0\n",
    "    return -1"
   ]
  },
  {
   "cell_type": "code",
   "execution_count": 13,
   "id": "93fde7db",
   "metadata": {},
   "outputs": [],
   "source": [
    "def test_indication_map(test_indication):\n",
    "    if test_indication == 'Other': return 0\n",
    "    elif test_indication == 'Abroad': return 1\n",
    "    elif  test_indication == 'Contact with confirmed': return 2\n",
    "    else: return -1"
   ]
  },
  {
   "cell_type": "code",
   "execution_count": 14,
   "id": "c4b69955",
   "metadata": {},
   "outputs": [],
   "source": [
    "df_israel_covid['gender'] = df_israel_covid['gender'].apply(gender_map)\n",
    "df_israel_covid['corona_result'] = df_israel_covid['corona_result'].apply(corona_result_map)\n",
    "df_israel_covid['age_60_and_above'] = df_israel_covid['age_60_and_above'].apply(age_60_and_above_map)\n",
    "df_israel_covid['test_indication'] = df_israel_covid['test_indication'].apply(test_indication_map)"
   ]
  },
  {
   "cell_type": "markdown",
   "id": "be3a7a53",
   "metadata": {},
   "source": [
    "### crop outlier"
   ]
  },
  {
   "cell_type": "code",
   "execution_count": 15,
   "id": "499c1a69",
   "metadata": {},
   "outputs": [],
   "source": [
    "df_israel_covid_without_o = df_israel_covid[df_israel_covid['corona_result'] != -1]\n",
    "df_israel_covid_without_o = df_israel_covid_without_o[df_israel_covid_without_o['gender'] != -1]\n",
    "df_israel_covid_without_o = df_israel_covid_without_o.sort_values(['test_date']).reset_index(drop=True)"
   ]
  },
  {
   "cell_type": "code",
   "execution_count": 16,
   "id": "b2333330",
   "metadata": {},
   "outputs": [],
   "source": [
    "df_israel_covid_without_o['new_contact_with_confirmed'] = df_israel_covid_without_o['new_contact_with_confirmed'].astype(int)"
   ]
  },
  {
   "cell_type": "markdown",
   "id": "d886e2d0",
   "metadata": {},
   "source": [
    "### scaling "
   ]
  },
  {
   "cell_type": "code",
   "execution_count": 17,
   "id": "2c75d06d",
   "metadata": {},
   "outputs": [],
   "source": [
    "df_israel_covid_without_o['contact'] = df_israel_covid_without_o['new_contact_with_confirmed'] / df_israel_covid_without_o['new_contact_with_confirmed'].max()\n",
    "df_israel_covid_without_o['confirmed_ratio'] = df_israel_covid_without_o['confirmed_num'] / df_israel_covid_without_o['confirmed_num'].max()\n",
    "df_israel_covid_without_o['weekday_ratio'] = df_israel_covid_without_o['weekday'] / 6"
   ]
  },
  {
   "cell_type": "markdown",
   "id": "3e81a1be",
   "metadata": {},
   "source": [
    "### dataframe to model input and label"
   ]
  },
  {
   "cell_type": "code",
   "execution_count": 18,
   "id": "539b6846",
   "metadata": {},
   "outputs": [],
   "source": [
    "# 증상 5가지, 60세 이상, 성별, 일일 확진자 수(비율), 요일(비율), 코로나 판정 결과 \n",
    "raw_datas = df_israel_covid_without_o[['cough', 'fever', 'sore_throat', 'shortness_of_breath', 'head_ache', 'age_60_and_above', 'gender', 'confirmed_ratio', 'weekday_ratio', 'corona_result']].values"
   ]
  },
  {
   "cell_type": "code",
   "execution_count": 19,
   "id": "ae995e66",
   "metadata": {},
   "outputs": [],
   "source": [
    "input_datas = raw_datas[:, :-1]\n",
    "gt_datas = raw_datas[:, -1]"
   ]
  },
  {
   "cell_type": "markdown",
   "id": "b08ad0b4",
   "metadata": {},
   "source": [
    "### split train, validation, test datasets"
   ]
  },
  {
   "cell_type": "code",
   "execution_count": 20,
   "id": "e0047917",
   "metadata": {},
   "outputs": [],
   "source": [
    "def split_train_test(data, test_ratio):\n",
    "#     shuffled_indices = np.random.permutation(len(data))\n",
    "    test_set_size = int(len(data) * test_ratio)\n",
    "#     test_indices = shuffled_indices[:test_set_size]\n",
    "#     train_indices = shuffled_indices[test_set_size:]\n",
    "    \n",
    "    test_data = data[:test_set_size]\n",
    "    train_data = data[test_set_size:]\n",
    "#     test_data = data[:test_indices]\n",
    "#     train_data = data[train_indices:]\n",
    "    \n",
    "    return train_data, test_data"
   ]
  },
  {
   "cell_type": "code",
   "execution_count": 21,
   "id": "84668bbf",
   "metadata": {},
   "outputs": [],
   "source": [
    "def split_input_gt(non_split_data):\n",
    "    splited_input = non_split_data[:, :-1]\n",
    "    splited_gt = non_split_data[:, -1]\n",
    "    \n",
    "    return splited_input, splited_gt"
   ]
  },
  {
   "cell_type": "code",
   "execution_count": 22,
   "id": "a49ad8d1",
   "metadata": {},
   "outputs": [],
   "source": [
    "not_test_datas, test_datas = split_train_test(raw_datas, test_ratio=0.2)\n",
    "train_datas, valid_datas = split_train_test(not_test_datas, test_ratio=0.2)\n",
    "\n",
    "train_input, train_gt = split_input_gt(train_datas)\n",
    "valid_input, valid_gt = split_input_gt(valid_datas)\n",
    "test_input, test_gt = split_input_gt(test_datas)"
   ]
  },
  {
   "cell_type": "code",
   "execution_count": 23,
   "id": "884491a8",
   "metadata": {},
   "outputs": [
    {
     "name": "stdout",
     "output_type": "stream",
     "text": [
      "(3489815, 9) (3489815,) (872453, 9) (872453,) (1090567, 9) (1090567,)\n"
     ]
    }
   ],
   "source": [
    "print(train_input.shape, train_gt.shape, valid_input.shape, valid_gt.shape, test_input.shape, test_gt.shape)"
   ]
  },
  {
   "cell_type": "markdown",
   "id": "1ef7584e",
   "metadata": {},
   "source": [
    "### model training"
   ]
  },
  {
   "cell_type": "code",
   "execution_count": 24,
   "id": "8e93a792",
   "metadata": {},
   "outputs": [],
   "source": [
    "logistic_clf = LogisticRegression(C=1000.0, random_state=0)\n",
    "logistic_clf = logistic_clf.fit(train_input, train_gt)"
   ]
  },
  {
   "cell_type": "markdown",
   "id": "a95cde56",
   "metadata": {},
   "source": [
    "### save model param "
   ]
  },
  {
   "cell_type": "code",
   "execution_count": 25,
   "id": "332e8ed2",
   "metadata": {},
   "outputs": [
    {
     "data": {
      "text/plain": [
       "['logistic_israel.pkl']"
      ]
     },
     "execution_count": 25,
     "metadata": {},
     "output_type": "execute_result"
    }
   ],
   "source": [
    "joblib.dump(logistic_clf, 'logistic_israel.pkl') "
   ]
  },
  {
   "cell_type": "markdown",
   "id": "829e02d5",
   "metadata": {},
   "source": [
    "### model performance check with validation data"
   ]
  },
  {
   "cell_type": "code",
   "execution_count": 26,
   "id": "4256f030",
   "metadata": {},
   "outputs": [],
   "source": [
    "def plot_roc_curve(fper, tper):\n",
    "    plt.plot(fper, tper, color='red', label='ROC')\n",
    "    plt.plot([0, 1], [0, 1], color='green', linestyle='--')\n",
    "    plt.xlabel('False Positive Rate')\n",
    "    plt.ylabel('True Positive Rate')\n",
    "    plt.title('Receiver Operating Characteristic Curve')\n",
    "    plt.legend()\n",
    "    plt.show()"
   ]
  },
  {
   "cell_type": "code",
   "execution_count": 27,
   "id": "8386e378",
   "metadata": {},
   "outputs": [],
   "source": [
    "def display_performance(pred, valid_gt):\n",
    "    pred = np.array(pred)\n",
    "\n",
    "    print('accuracy %.4f' % (accuracy_score(pred, valid_gt)))\n",
    "    print('precision %.4f' % (precision_score(pred, valid_gt)))\n",
    "    print('recall %.4f' % (recall_score(pred, valid_gt)))\n",
    "    print('f1-score %.4f' % (f1_score(pred, valid_gt)))\n",
    "    print(confusion_matrix(pred, valid_gt))\n",
    "    fper, tper, thresholds = roc_curve(pred, valid_gt)\n",
    "    plot_roc_curve(fper, tper)"
   ]
  },
  {
   "cell_type": "code",
   "execution_count": 28,
   "id": "6036a292",
   "metadata": {},
   "outputs": [],
   "source": [
    "loaded_logistic_clf = joblib.load('logistic_israel.pkl') "
   ]
  },
  {
   "cell_type": "code",
   "execution_count": 29,
   "id": "cc568c00",
   "metadata": {},
   "outputs": [
    {
     "name": "stdout",
     "output_type": "stream",
     "text": [
      "accuracy 0.8779\n",
      "precision 0.1514\n",
      "recall 0.4901\n",
      "f1-score 0.2313\n",
      "[[749885  89866]\n",
      " [ 16675  16027]]\n"
     ]
    },
    {
     "data": {
      "image/png": "[encoded data removed]",
      "text/plain": [
       "<Figure size 432x288 with 1 Axes>"
      ]
     },
     "metadata": {
      "needs_background": "light"
     },
     "output_type": "display_data"
    }
   ],
   "source": [
    "pred = loaded_logistic_clf.predict(valid_input)\n",
    "display_performance(pred, valid_gt)"
   ]
  }
 ],
 "metadata": {
  "kernelspec": {
   "display_name": "Python 3",
   "language": "python",
   "name": "python3"
  },
  "language_info": {
   "codemirror_mode": {
    "name": "ipython",
    "version": 3
   },
   "file_extension": ".py",
   "mimetype": "text/x-python",
   "name": "python",
   "nbconvert_exporter": "python",
   "pygments_lexer": "ipython3",
   "version": "3.8.10"
  }
 },
 "nbformat": 4,
 "nbformat_minor": 5
}
