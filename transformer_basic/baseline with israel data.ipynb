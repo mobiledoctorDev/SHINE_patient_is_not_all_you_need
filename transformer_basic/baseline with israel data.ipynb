{
 "cells": [
  {
   "cell_type": "markdown",
   "id": "53072070",
   "metadata": {},
   "source": [
    "## Import library"
   ]
  },
  {
   "cell_type": "code",
   "execution_count": 1,
   "id": "32a01580",
   "metadata": {},
   "outputs": [],
   "source": [
    "import datetime \n",
    "from datetime import timedelta \n",
    "import os\n",
    "import glob\n",
    "import numpy as np\n",
    "import pandas as pd\n",
    "import torch\n",
    "import torchvision\n",
    "import torchvision.transforms as transforms\n",
    "from sklearn.metrics import roc_curve\n",
    "from torch import nn, optim\n",
    "\n",
    "import torch.nn.functional as F\n",
    "import math, copy, time\n",
    "from torch.autograd import Variable\n",
    "from torch.utils.data import Dataset\n",
    "from torch.utils.data import DataLoader\n",
    "from itertools import cycle\n",
    "from tqdm.notebook import tqdm\n",
    "import re\n",
    "from sklearn.metrics import roc_auc_score, plot_roc_curve\n",
    "\n",
    "import matplotlib.pyplot as plt\n",
    "import seaborn\n",
    "from collections import defaultdict\n",
    "\n",
    "from sklearn import svm\n",
    "\n",
    "import matplotlib.font_manager as fm\n",
    "import seaborn as sns\n",
    "from itertools import product"
   ]
  },
  {
   "cell_type": "markdown",
   "id": "947019e1",
   "metadata": {},
   "source": [
    "## Data load"
   ]
  },
  {
   "cell_type": "code",
   "execution_count": 2,
   "id": "4d863c8d",
   "metadata": {
    "scrolled": true
   },
   "outputs": [
    {
     "name": "stderr",
     "output_type": "stream",
     "text": [
      "/home/md/anaconda3/envs/flu_screening/lib/python3.8/site-packages/IPython/core/interactiveshell.py:3165: DtypeWarning: Columns (7,8) have mixed types.Specify dtype option on import or set low_memory=False.\n",
      "  has_raised = await self.run_ast_nodes(code_ast.body, cell_name,\n"
     ]
    }
   ],
   "source": [
    "# df_israel_covid 이스라엘 데이터셋\n",
    "# corona_isolation_per_day_ver_0059 일일 코로나 격리자 수 \n",
    "# time_series_covid19_confirmed_global 누적 확진자 수 \n",
    "\n",
    "base_path = './opendataset'\n",
    "df_israel_covid = pd.read_csv(f'{base_path}/israel_covid_large_2.csv')\n",
    "# df_israel_covid = pd.read_csv(f'{base_path}/israel_covid_small.csv')\n",
    "df_israel_isolation_per_day = pd.read_csv(f'{base_path}/corona_isolation_per_day_ver_0069.csv')\n",
    "df_timeseries_confirm = pd.read_csv(f'{base_path}/time_series_covid19_confirmed_global.csv')"
   ]
  },
  {
   "cell_type": "code",
   "execution_count": 3,
   "id": "9718b94f",
   "metadata": {},
   "outputs": [
    {
     "data": {
      "text/html": [
       "<div>\n",
       "<style scoped>\n",
       "    .dataframe tbody tr th:only-of-type {\n",
       "        vertical-align: middle;\n",
       "    }\n",
       "\n",
       "    .dataframe tbody tr th {\n",
       "        vertical-align: top;\n",
       "    }\n",
       "\n",
       "    .dataframe thead th {\n",
       "        text-align: right;\n",
       "    }\n",
       "</style>\n",
       "<table border=\"1\" class=\"dataframe\">\n",
       "  <thead>\n",
       "    <tr style=\"text-align: right;\">\n",
       "      <th></th>\n",
       "      <th>Province/State</th>\n",
       "      <th>Country/Region</th>\n",
       "      <th>Lat</th>\n",
       "      <th>Long</th>\n",
       "      <th>1/22/20</th>\n",
       "      <th>1/23/20</th>\n",
       "      <th>1/24/20</th>\n",
       "      <th>1/25/20</th>\n",
       "      <th>1/26/20</th>\n",
       "      <th>1/27/20</th>\n",
       "      <th>...</th>\n",
       "      <th>8/28/21</th>\n",
       "      <th>8/29/21</th>\n",
       "      <th>8/30/21</th>\n",
       "      <th>8/31/21</th>\n",
       "      <th>9/1/21</th>\n",
       "      <th>9/2/21</th>\n",
       "      <th>9/3/21</th>\n",
       "      <th>9/4/21</th>\n",
       "      <th>9/5/21</th>\n",
       "      <th>9/6/21</th>\n",
       "    </tr>\n",
       "  </thead>\n",
       "  <tbody>\n",
       "    <tr>\n",
       "      <th>0</th>\n",
       "      <td>NaN</td>\n",
       "      <td>Afghanistan</td>\n",
       "      <td>33.93911</td>\n",
       "      <td>67.709953</td>\n",
       "      <td>0</td>\n",
       "      <td>0</td>\n",
       "      <td>0</td>\n",
       "      <td>0</td>\n",
       "      <td>0</td>\n",
       "      <td>0</td>\n",
       "      <td>...</td>\n",
       "      <td>152960</td>\n",
       "      <td>152960</td>\n",
       "      <td>153148</td>\n",
       "      <td>153220</td>\n",
       "      <td>153260</td>\n",
       "      <td>153306</td>\n",
       "      <td>153375</td>\n",
       "      <td>153375</td>\n",
       "      <td>153375</td>\n",
       "      <td>153534</td>\n",
       "    </tr>\n",
       "    <tr>\n",
       "      <th>1</th>\n",
       "      <td>NaN</td>\n",
       "      <td>Albania</td>\n",
       "      <td>41.15330</td>\n",
       "      <td>20.168300</td>\n",
       "      <td>0</td>\n",
       "      <td>0</td>\n",
       "      <td>0</td>\n",
       "      <td>0</td>\n",
       "      <td>0</td>\n",
       "      <td>0</td>\n",
       "      <td>...</td>\n",
       "      <td>144079</td>\n",
       "      <td>144847</td>\n",
       "      <td>145333</td>\n",
       "      <td>146387</td>\n",
       "      <td>147369</td>\n",
       "      <td>148222</td>\n",
       "      <td>149117</td>\n",
       "      <td>150101</td>\n",
       "      <td>150997</td>\n",
       "      <td>151499</td>\n",
       "    </tr>\n",
       "    <tr>\n",
       "      <th>2</th>\n",
       "      <td>NaN</td>\n",
       "      <td>Algeria</td>\n",
       "      <td>28.03390</td>\n",
       "      <td>1.659600</td>\n",
       "      <td>0</td>\n",
       "      <td>0</td>\n",
       "      <td>0</td>\n",
       "      <td>0</td>\n",
       "      <td>0</td>\n",
       "      <td>0</td>\n",
       "      <td>...</td>\n",
       "      <td>194671</td>\n",
       "      <td>195162</td>\n",
       "      <td>195574</td>\n",
       "      <td>196080</td>\n",
       "      <td>196527</td>\n",
       "      <td>196915</td>\n",
       "      <td>197308</td>\n",
       "      <td>197659</td>\n",
       "      <td>198004</td>\n",
       "      <td>198313</td>\n",
       "    </tr>\n",
       "    <tr>\n",
       "      <th>3</th>\n",
       "      <td>NaN</td>\n",
       "      <td>Andorra</td>\n",
       "      <td>42.50630</td>\n",
       "      <td>1.521800</td>\n",
       "      <td>0</td>\n",
       "      <td>0</td>\n",
       "      <td>0</td>\n",
       "      <td>0</td>\n",
       "      <td>0</td>\n",
       "      <td>0</td>\n",
       "      <td>...</td>\n",
       "      <td>15025</td>\n",
       "      <td>15025</td>\n",
       "      <td>15032</td>\n",
       "      <td>15033</td>\n",
       "      <td>15046</td>\n",
       "      <td>15052</td>\n",
       "      <td>15055</td>\n",
       "      <td>15055</td>\n",
       "      <td>15055</td>\n",
       "      <td>15069</td>\n",
       "    </tr>\n",
       "    <tr>\n",
       "      <th>4</th>\n",
       "      <td>NaN</td>\n",
       "      <td>Angola</td>\n",
       "      <td>-11.20270</td>\n",
       "      <td>17.873900</td>\n",
       "      <td>0</td>\n",
       "      <td>0</td>\n",
       "      <td>0</td>\n",
       "      <td>0</td>\n",
       "      <td>0</td>\n",
       "      <td>0</td>\n",
       "      <td>...</td>\n",
       "      <td>47079</td>\n",
       "      <td>47168</td>\n",
       "      <td>47331</td>\n",
       "      <td>47544</td>\n",
       "      <td>47781</td>\n",
       "      <td>48004</td>\n",
       "      <td>48261</td>\n",
       "      <td>48475</td>\n",
       "      <td>48656</td>\n",
       "      <td>48790</td>\n",
       "    </tr>\n",
       "  </tbody>\n",
       "</table>\n",
       "<p>5 rows × 598 columns</p>\n",
       "</div>"
      ],
      "text/plain": [
       "  Province/State Country/Region       Lat       Long  1/22/20  1/23/20  \\\n",
       "0            NaN    Afghanistan  33.93911  67.709953        0        0   \n",
       "1            NaN        Albania  41.15330  20.168300        0        0   \n",
       "2            NaN        Algeria  28.03390   1.659600        0        0   \n",
       "3            NaN        Andorra  42.50630   1.521800        0        0   \n",
       "4            NaN         Angola -11.20270  17.873900        0        0   \n",
       "\n",
       "   1/24/20  1/25/20  1/26/20  1/27/20  ...  8/28/21  8/29/21  8/30/21  \\\n",
       "0        0        0        0        0  ...   152960   152960   153148   \n",
       "1        0        0        0        0  ...   144079   144847   145333   \n",
       "2        0        0        0        0  ...   194671   195162   195574   \n",
       "3        0        0        0        0  ...    15025    15025    15032   \n",
       "4        0        0        0        0  ...    47079    47168    47331   \n",
       "\n",
       "   8/31/21  9/1/21  9/2/21  9/3/21  9/4/21  9/5/21  9/6/21  \n",
       "0   153220  153260  153306  153375  153375  153375  153534  \n",
       "1   146387  147369  148222  149117  150101  150997  151499  \n",
       "2   196080  196527  196915  197308  197659  198004  198313  \n",
       "3    15033   15046   15052   15055   15055   15055   15069  \n",
       "4    47544   47781   48004   48261   48475   48656   48790  \n",
       "\n",
       "[5 rows x 598 columns]"
      ]
     },
     "execution_count": 3,
     "metadata": {},
     "output_type": "execute_result"
    }
   ],
   "source": [
    "df_timeseries_confirm.head(5)"
   ]
  },
  {
   "cell_type": "markdown",
   "id": "4045abb0",
   "metadata": {},
   "source": [
    "## preprocessing"
   ]
  },
  {
   "cell_type": "code",
   "execution_count": 4,
   "id": "85fccf9b",
   "metadata": {},
   "outputs": [],
   "source": [
    "# 누적 확진자수를 2021-08-17 와 같은 포멧으로 전처리해주는 과정\n",
    "\n",
    "rows = []\n",
    "for idx, values in enumerate(df_timeseries_confirm[df_timeseries_confirm['Country/Region'] == 'Israel'].iteritems()):\n",
    "    if idx < 4: continue\n",
    "    year = f\"20{values[0][-2:]}\"\n",
    "    month = values[0][:values[0].index('/')]\n",
    "    month = f'0{month}' if len(month) == 1 else month\n",
    "    day = values[0][values[0].index('/') + 1 : values[0].rindex('/')]\n",
    "    day = f'0{day}' if len(day) == 1 else day\n",
    "    date = f'{year}-{month}-{day}'\n",
    "    confirmed_num = values[1].item()\n",
    "    rows.append([date, confirmed_num])\n",
    "df_numsum_confirmed = pd.DataFrame(rows, columns=['confirmed_date', 'confirmed_numsum'])"
   ]
  },
  {
   "cell_type": "code",
   "execution_count": 5,
   "id": "d9af766a",
   "metadata": {},
   "outputs": [],
   "source": [
    "# 누적 확진자를 통해 일일 확진자 구하기\n",
    "\n",
    "df_numsum_confirmed['confirmed_num'] = df_numsum_confirmed['confirmed_numsum'] - df_numsum_confirmed.shift(1)['confirmed_numsum']\n",
    "df_numsum_confirmed = df_numsum_confirmed.dropna()\n",
    "df_numsum_confirmed['confirmed_num'] = df_numsum_confirmed['confirmed_num'].astype(int)"
   ]
  },
  {
   "cell_type": "code",
   "execution_count": 6,
   "id": "0db7f06c",
   "metadata": {},
   "outputs": [
    {
     "name": "stdout",
     "output_type": "stream",
     "text": [
      "before -28\n",
      "after 28\n",
      "\n",
      "before -53\n",
      "after 34\n",
      "\n"
     ]
    }
   ],
   "source": [
    "# 일일 확진자수가 음수인 경우 그 전날 확진자를 가져다 쓰는 과정\n",
    "\n",
    "for idx, row in df_numsum_confirmed[df_numsum_confirmed['confirmed_num'] < 0].iterrows():\n",
    "    print(\"before\", df_numsum_confirmed.loc[idx,'confirmed_num'])\n",
    "    df_numsum_confirmed.loc[idx,'confirmed_num'] = df_numsum_confirmed.loc[idx-1,'confirmed_num']\n",
    "    print(\"after\", df_numsum_confirmed.loc[idx,'confirmed_num'])\n",
    "    print()"
   ]
  },
  {
   "cell_type": "code",
   "execution_count": 7,
   "id": "e1e666d5",
   "metadata": {},
   "outputs": [
    {
     "data": {
      "text/html": [
       "<div>\n",
       "<style scoped>\n",
       "    .dataframe tbody tr th:only-of-type {\n",
       "        vertical-align: middle;\n",
       "    }\n",
       "\n",
       "    .dataframe tbody tr th {\n",
       "        vertical-align: top;\n",
       "    }\n",
       "\n",
       "    .dataframe thead th {\n",
       "        text-align: right;\n",
       "    }\n",
       "</style>\n",
       "<table border=\"1\" class=\"dataframe\">\n",
       "  <thead>\n",
       "    <tr style=\"text-align: right;\">\n",
       "      <th></th>\n",
       "      <th>confirmed_date</th>\n",
       "      <th>confirmed_numsum</th>\n",
       "      <th>confirmed_num</th>\n",
       "    </tr>\n",
       "  </thead>\n",
       "  <tbody>\n",
       "    <tr>\n",
       "      <th>1</th>\n",
       "      <td>2020-01-23</td>\n",
       "      <td>0</td>\n",
       "      <td>0</td>\n",
       "    </tr>\n",
       "    <tr>\n",
       "      <th>2</th>\n",
       "      <td>2020-01-24</td>\n",
       "      <td>0</td>\n",
       "      <td>0</td>\n",
       "    </tr>\n",
       "    <tr>\n",
       "      <th>3</th>\n",
       "      <td>2020-01-25</td>\n",
       "      <td>0</td>\n",
       "      <td>0</td>\n",
       "    </tr>\n",
       "    <tr>\n",
       "      <th>4</th>\n",
       "      <td>2020-01-26</td>\n",
       "      <td>0</td>\n",
       "      <td>0</td>\n",
       "    </tr>\n",
       "    <tr>\n",
       "      <th>5</th>\n",
       "      <td>2020-01-27</td>\n",
       "      <td>0</td>\n",
       "      <td>0</td>\n",
       "    </tr>\n",
       "  </tbody>\n",
       "</table>\n",
       "</div>"
      ],
      "text/plain": [
       "  confirmed_date  confirmed_numsum  confirmed_num\n",
       "1     2020-01-23                 0              0\n",
       "2     2020-01-24                 0              0\n",
       "3     2020-01-25                 0              0\n",
       "4     2020-01-26                 0              0\n",
       "5     2020-01-27                 0              0"
      ]
     },
     "execution_count": 7,
     "metadata": {},
     "output_type": "execute_result"
    }
   ],
   "source": [
    "df_numsum_confirmed.head(5)\n",
    "# df_numsum_confirmed.tail(5)"
   ]
  },
  {
   "cell_type": "code",
   "execution_count": 8,
   "id": "6e2cd533",
   "metadata": {},
   "outputs": [],
   "source": [
    "df_israel_covid = df_israel_covid[df_israel_covid['test_date'] < '2021-09-01']\n",
    "df_israel_isolation_per_day = df_israel_isolation_per_day[df_israel_isolation_per_day['date'] < '2021-09-01']\n",
    "df_numsum_confirmed = df_numsum_confirmed[df_numsum_confirmed['confirmed_date'] < '2021-06-01']"
   ]
  },
  {
   "cell_type": "code",
   "execution_count": 9,
   "id": "2e6b79be",
   "metadata": {
    "scrolled": true
   },
   "outputs": [],
   "source": [
    "df_israel_isolation_per_day['join_date'] = (pd.to_datetime(df_israel_isolation_per_day['date']) + timedelta(days=1)).dt.strftime('%Y-%m-%d')\n",
    "\n",
    "# 요일을 숫자로 기록한 컬럼 하나 만듬\n",
    "df_israel_covid['weekday'] = pd.to_datetime(df_israel_covid['test_date']).dt.dayofweek"
   ]
  },
  {
   "cell_type": "code",
   "execution_count": 10,
   "id": "0050016f",
   "metadata": {},
   "outputs": [],
   "source": [
    "# 기존 이스라엘 데이터에 격리자 컬럼을 넣어주는 과정\n",
    "\n",
    "df_israel_covid = pd.merge(df_israel_covid, df_israel_isolation_per_day, how='left', left_on='test_date', right_on='join_date')"
   ]
  },
  {
   "cell_type": "code",
   "execution_count": 11,
   "id": "74ac23e4",
   "metadata": {},
   "outputs": [
    {
     "data": {
      "text/html": [
       "<div>\n",
       "<style scoped>\n",
       "    .dataframe tbody tr th:only-of-type {\n",
       "        vertical-align: middle;\n",
       "    }\n",
       "\n",
       "    .dataframe tbody tr th {\n",
       "        vertical-align: top;\n",
       "    }\n",
       "\n",
       "    .dataframe thead th {\n",
       "        text-align: right;\n",
       "    }\n",
       "</style>\n",
       "<table border=\"1\" class=\"dataframe\">\n",
       "  <thead>\n",
       "    <tr style=\"text-align: right;\">\n",
       "      <th></th>\n",
       "      <th>test_date</th>\n",
       "      <th>cough</th>\n",
       "      <th>fever</th>\n",
       "      <th>sore_throat</th>\n",
       "      <th>shortness_of_breath</th>\n",
       "      <th>head_ache</th>\n",
       "      <th>corona_result</th>\n",
       "      <th>age_60_and_above</th>\n",
       "      <th>gender</th>\n",
       "      <th>test_indication</th>\n",
       "      <th>weekday</th>\n",
       "      <th>date</th>\n",
       "      <th>isolated_today_contact_with_confirmed</th>\n",
       "      <th>isolated_today_abroad</th>\n",
       "      <th>new_contact_with_confirmed</th>\n",
       "      <th>new_from_abroad</th>\n",
       "      <th>join_date</th>\n",
       "    </tr>\n",
       "  </thead>\n",
       "  <tbody>\n",
       "    <tr>\n",
       "      <th>6925780</th>\n",
       "      <td>2020-03-11</td>\n",
       "      <td>0</td>\n",
       "      <td>0</td>\n",
       "      <td>0</td>\n",
       "      <td>0</td>\n",
       "      <td>0</td>\n",
       "      <td>שלילי</td>\n",
       "      <td>NaN</td>\n",
       "      <td>זכר</td>\n",
       "      <td>Other</td>\n",
       "      <td>2</td>\n",
       "      <td>2020-03-10</td>\n",
       "      <td>3715</td>\n",
       "      <td>20792</td>\n",
       "      <td>2154</td>\n",
       "      <td>3638</td>\n",
       "      <td>2020-03-11</td>\n",
       "    </tr>\n",
       "    <tr>\n",
       "      <th>6925531</th>\n",
       "      <td>2020-03-11</td>\n",
       "      <td>1</td>\n",
       "      <td>0</td>\n",
       "      <td>1</td>\n",
       "      <td>0</td>\n",
       "      <td>0</td>\n",
       "      <td>שלילי</td>\n",
       "      <td>NaN</td>\n",
       "      <td>נקבה</td>\n",
       "      <td>Abroad</td>\n",
       "      <td>2</td>\n",
       "      <td>2020-03-10</td>\n",
       "      <td>3715</td>\n",
       "      <td>20792</td>\n",
       "      <td>2154</td>\n",
       "      <td>3638</td>\n",
       "      <td>2020-03-11</td>\n",
       "    </tr>\n",
       "    <tr>\n",
       "      <th>6925532</th>\n",
       "      <td>2020-03-11</td>\n",
       "      <td>1</td>\n",
       "      <td>0</td>\n",
       "      <td>0</td>\n",
       "      <td>1</td>\n",
       "      <td>0</td>\n",
       "      <td>שלילי</td>\n",
       "      <td>NaN</td>\n",
       "      <td>נקבה</td>\n",
       "      <td>Other</td>\n",
       "      <td>2</td>\n",
       "      <td>2020-03-10</td>\n",
       "      <td>3715</td>\n",
       "      <td>20792</td>\n",
       "      <td>2154</td>\n",
       "      <td>3638</td>\n",
       "      <td>2020-03-11</td>\n",
       "    </tr>\n",
       "    <tr>\n",
       "      <th>6925533</th>\n",
       "      <td>2020-03-11</td>\n",
       "      <td>0</td>\n",
       "      <td>0</td>\n",
       "      <td>0</td>\n",
       "      <td>0</td>\n",
       "      <td>0</td>\n",
       "      <td>שלילי</td>\n",
       "      <td>NaN</td>\n",
       "      <td>זכר</td>\n",
       "      <td>Other</td>\n",
       "      <td>2</td>\n",
       "      <td>2020-03-10</td>\n",
       "      <td>3715</td>\n",
       "      <td>20792</td>\n",
       "      <td>2154</td>\n",
       "      <td>3638</td>\n",
       "      <td>2020-03-11</td>\n",
       "    </tr>\n",
       "    <tr>\n",
       "      <th>6925534</th>\n",
       "      <td>2020-03-11</td>\n",
       "      <td>0</td>\n",
       "      <td>0</td>\n",
       "      <td>0</td>\n",
       "      <td>0</td>\n",
       "      <td>0</td>\n",
       "      <td>שלילי</td>\n",
       "      <td>NaN</td>\n",
       "      <td>נקבה</td>\n",
       "      <td>Other</td>\n",
       "      <td>2</td>\n",
       "      <td>2020-03-10</td>\n",
       "      <td>3715</td>\n",
       "      <td>20792</td>\n",
       "      <td>2154</td>\n",
       "      <td>3638</td>\n",
       "      <td>2020-03-11</td>\n",
       "    </tr>\n",
       "  </tbody>\n",
       "</table>\n",
       "</div>"
      ],
      "text/plain": [
       "          test_date  cough  fever  sore_throat  shortness_of_breath  \\\n",
       "6925780  2020-03-11      0      0            0                    0   \n",
       "6925531  2020-03-11      1      0            1                    0   \n",
       "6925532  2020-03-11      1      0            0                    1   \n",
       "6925533  2020-03-11      0      0            0                    0   \n",
       "6925534  2020-03-11      0      0            0                    0   \n",
       "\n",
       "         head_ache corona_result age_60_and_above gender test_indication  \\\n",
       "6925780          0         שלילי              NaN    זכר           Other   \n",
       "6925531          0         שלילי              NaN   נקבה          Abroad   \n",
       "6925532          0         שלילי              NaN   נקבה           Other   \n",
       "6925533          0         שלילי              NaN    זכר           Other   \n",
       "6925534          0         שלילי              NaN   נקבה           Other   \n",
       "\n",
       "         weekday        date  isolated_today_contact_with_confirmed  \\\n",
       "6925780        2  2020-03-10                                   3715   \n",
       "6925531        2  2020-03-10                                   3715   \n",
       "6925532        2  2020-03-10                                   3715   \n",
       "6925533        2  2020-03-10                                   3715   \n",
       "6925534        2  2020-03-10                                   3715   \n",
       "\n",
       "         isolated_today_abroad new_contact_with_confirmed new_from_abroad  \\\n",
       "6925780                  20792                       2154            3638   \n",
       "6925531                  20792                       2154            3638   \n",
       "6925532                  20792                       2154            3638   \n",
       "6925533                  20792                       2154            3638   \n",
       "6925534                  20792                       2154            3638   \n",
       "\n",
       "          join_date  \n",
       "6925780  2020-03-11  \n",
       "6925531  2020-03-11  \n",
       "6925532  2020-03-11  \n",
       "6925533  2020-03-11  \n",
       "6925534  2020-03-11  "
      ]
     },
     "execution_count": 11,
     "metadata": {},
     "output_type": "execute_result"
    }
   ],
   "source": [
    "df_israel_covid = df_israel_covid.sort_values('test_date')\n",
    "df_israel_covid.head(5)"
   ]
  },
  {
   "cell_type": "code",
   "execution_count": 12,
   "id": "3b0d753f",
   "metadata": {},
   "outputs": [],
   "source": [
    "# 기존 이스라엘 데이터에 일일 확진자랑 일일 누적 확진자 컬럼을 넣어주는 과정\n",
    "\n",
    "df_israel_covid = pd.merge(df_israel_covid, df_numsum_confirmed, how='left', left_on='test_date', right_on='confirmed_date')"
   ]
  },
  {
   "cell_type": "code",
   "execution_count": 13,
   "id": "44746057",
   "metadata": {},
   "outputs": [
    {
     "data": {
      "text/plain": [
       "6925781"
      ]
     },
     "execution_count": 13,
     "metadata": {},
     "output_type": "execute_result"
    }
   ],
   "source": [
    "df_israel_covid.shape[0]"
   ]
  },
  {
   "cell_type": "code",
   "execution_count": 14,
   "id": "a1ef2dd3",
   "metadata": {},
   "outputs": [
    {
     "name": "stdout",
     "output_type": "stream",
     "text": [
      "6925781\n"
     ]
    }
   ],
   "source": [
    "head_ne = df_israel_covid[df_israel_covid['head_ache'] == 0]\n",
    "head_po = df_israel_covid[df_israel_covid['head_ache'] == 1]\n",
    "print(head_ne.shape[0]+head_po.shape[0])"
   ]
  },
  {
   "cell_type": "markdown",
   "id": "78bbebbd",
   "metadata": {},
   "source": [
    "## 번역하기"
   ]
  },
  {
   "cell_type": "code",
   "execution_count": 15,
   "id": "100f63bd",
   "metadata": {},
   "outputs": [],
   "source": [
    "def gender_map(gender):\n",
    "    if gender == 'נקבה': return 1 #'Female'\n",
    "    elif gender == 'זכר': return 0 #'Male'\n",
    "    return -1"
   ]
  },
  {
   "cell_type": "code",
   "execution_count": 16,
   "id": "b3ac58cc",
   "metadata": {},
   "outputs": [],
   "source": [
    "def corona_result_map(corona_result):\n",
    "    if corona_result == 'אחר': return -1 # 'Other'\n",
    "    elif corona_result == 'שלילי': return 0 # 'Negative'\n",
    "    elif corona_result == 'חיובי': return 1 # 'Positive'\n",
    "    return ''"
   ]
  },
  {
   "cell_type": "code",
   "execution_count": 17,
   "id": "e7fb0561",
   "metadata": {},
   "outputs": [],
   "source": [
    "def corona_result_map_vis(corona_result):\n",
    "    if corona_result == -1: return 'Other'\n",
    "    elif corona_result == 0: return 'Negative' \n",
    "    elif corona_result == 1: return 'Positive' \n",
    "    return ''"
   ]
  },
  {
   "cell_type": "code",
   "execution_count": 18,
   "id": "d8fa2757",
   "metadata": {},
   "outputs": [],
   "source": [
    "def age_60_and_above_map(age_60_and_above):\n",
    "    if age_60_and_above == 'Yes': return 1\n",
    "    elif age_60_and_above == 'No': return 0\n",
    "    return -1"
   ]
  },
  {
   "cell_type": "code",
   "execution_count": 19,
   "id": "a7bc697b",
   "metadata": {},
   "outputs": [],
   "source": [
    "def test_indication_map(test_indication):\n",
    "    if test_indication == 'Other': return 0\n",
    "    elif test_indication == 'Abroad': return 1\n",
    "    elif  test_indication == 'Contact with confirmed': return 2\n",
    "    else: return -1"
   ]
  },
  {
   "cell_type": "code",
   "execution_count": 20,
   "id": "cb3e13cd",
   "metadata": {},
   "outputs": [],
   "source": [
    "df_israel_covid['gender'] = df_israel_covid['gender'].apply(gender_map)\n",
    "df_israel_covid['corona_result'] = df_israel_covid['corona_result'].apply(corona_result_map)\n",
    "df_israel_covid['age_60_and_above'] = df_israel_covid['age_60_and_above'].apply(age_60_and_above_map)\n",
    "df_israel_covid['test_indication'] = df_israel_covid['test_indication'].apply(test_indication_map)"
   ]
  },
  {
   "cell_type": "markdown",
   "id": "b1c0cd5a",
   "metadata": {},
   "source": [
    "## Data 기초 통계"
   ]
  },
  {
   "cell_type": "code",
   "execution_count": 21,
   "id": "b01eb613",
   "metadata": {},
   "outputs": [],
   "source": [
    "df_israel_covid_for_vis = df_israel_covid"
   ]
  },
  {
   "cell_type": "code",
   "execution_count": 22,
   "id": "70f1ac91",
   "metadata": {},
   "outputs": [],
   "source": [
    "df_israel_covid_for_vis['corona result'] = df_israel_covid_for_vis['corona_result'].apply(corona_result_map_vis)"
   ]
  },
  {
   "cell_type": "code",
   "execution_count": 23,
   "id": "7aae48b6",
   "metadata": {},
   "outputs": [
    {
     "data": {
      "text/plain": [
       "0          Negative\n",
       "1          Negative\n",
       "2          Negative\n",
       "3          Negative\n",
       "4          Negative\n",
       "             ...   \n",
       "6925776    Negative\n",
       "6925777    Negative\n",
       "6925778    Negative\n",
       "6925779    Negative\n",
       "6925780       Other\n",
       "Name: corona result, Length: 6925781, dtype: object"
      ]
     },
     "execution_count": 23,
     "metadata": {},
     "output_type": "execute_result"
    }
   ],
   "source": [
    "df_israel_covid_for_vis['corona result']"
   ]
  },
  {
   "cell_type": "code",
   "execution_count": 24,
   "id": "78b7b763",
   "metadata": {},
   "outputs": [],
   "source": [
    "# 양성 데이터 수\n",
    "num_of_pos = df_israel_covid[df_israel_covid['corona_result'] == 1].shape[0]"
   ]
  },
  {
   "cell_type": "code",
   "execution_count": 25,
   "id": "47eb1b37",
   "metadata": {},
   "outputs": [
    {
     "data": {
      "text/plain": [
       "479575"
      ]
     },
     "execution_count": 25,
     "metadata": {},
     "output_type": "execute_result"
    }
   ],
   "source": [
    "num_of_pos"
   ]
  },
  {
   "cell_type": "code",
   "execution_count": 26,
   "id": "5f445bde",
   "metadata": {},
   "outputs": [],
   "source": [
    "# 음성 데이터 수\n",
    "num_of_neg = df_israel_covid[df_israel_covid['corona_result'] == 0].shape[0]"
   ]
  },
  {
   "cell_type": "code",
   "execution_count": 27,
   "id": "03055d71",
   "metadata": {},
   "outputs": [
    {
     "data": {
      "text/plain": [
       "6297341"
      ]
     },
     "execution_count": 27,
     "metadata": {},
     "output_type": "execute_result"
    }
   ],
   "source": [
    "num_of_neg"
   ]
  },
  {
   "cell_type": "code",
   "execution_count": 28,
   "id": "8b3acbf8",
   "metadata": {},
   "outputs": [],
   "source": [
    "SAVE_FLAG = False"
   ]
  },
  {
   "cell_type": "code",
   "execution_count": 29,
   "id": "5532fc5d",
   "metadata": {},
   "outputs": [],
   "source": [
    "pic_path = './eda_result'"
   ]
  },
  {
   "cell_type": "code",
   "execution_count": 30,
   "id": "ececddc3",
   "metadata": {},
   "outputs": [
    {
     "data": {
      "text/plain": [
       "<AxesSubplot:xlabel='corona result', ylabel='count'>"
      ]
     },
     "execution_count": 30,
     "metadata": {},
     "output_type": "execute_result"
    },
    {
     "data": {
      "image/png": "[encoded data removed]",
      "text/plain": [
       "<Figure size 432x288 with 1 Axes>"
      ]
     },
     "metadata": {},
     "output_type": "display_data"
    }
   ],
   "source": [
    "sns.set(style=\"darkgrid\")\n",
    "g = sns.countplot(data=df_israel_covid_for_vis, x='corona result', \\\n",
    "                  order=df_israel_covid_for_vis['corona result'].value_counts().index, palette='pastel')\n",
    "for p in g.patches:\n",
    "        g.annotate('{:}'.format(p.get_height()), (p.get_x()+0.23, p.get_height()+ 100))\n",
    "\n",
    "if SAVE_FLAG: plt.savefig(f'{pic_path}/corona_result.png')\n",
    "g"
   ]
  },
  {
   "cell_type": "code",
   "execution_count": 31,
   "id": "74f6a0aa",
   "metadata": {},
   "outputs": [],
   "source": [
    "# other 데이터 수\n",
    "num_of_oth = df_israel_covid[df_israel_covid['corona_result'] == -1].shape[0]"
   ]
  },
  {
   "cell_type": "code",
   "execution_count": 32,
   "id": "fb54cfd6",
   "metadata": {},
   "outputs": [
    {
     "data": {
      "text/plain": [
       "148865"
      ]
     },
     "execution_count": 32,
     "metadata": {},
     "output_type": "execute_result"
    }
   ],
   "source": [
    "num_of_oth"
   ]
  },
  {
   "cell_type": "code",
   "execution_count": 33,
   "id": "e98d4219",
   "metadata": {},
   "outputs": [
    {
     "name": "stdout",
     "output_type": "stream",
     "text": [
      "양성/음성 비율: 0.08\n"
     ]
    }
   ],
   "source": [
    "print(f\"양성/음성 비율: {round(num_of_pos/num_of_neg, 2)}\")"
   ]
  },
  {
   "cell_type": "code",
   "execution_count": 34,
   "id": "7cae1f4a",
   "metadata": {},
   "outputs": [
    {
     "data": {
      "text/plain": [
       "6925781"
      ]
     },
     "execution_count": 34,
     "metadata": {},
     "output_type": "execute_result"
    }
   ],
   "source": [
    "total_num = num_of_pos + num_of_neg + num_of_oth\n",
    "total_num"
   ]
  },
  {
   "cell_type": "code",
   "execution_count": 35,
   "id": "779b845a",
   "metadata": {},
   "outputs": [
    {
     "data": {
      "text/plain": [
       "Index(['test_date', 'cough', 'fever', 'sore_throat', 'shortness_of_breath',\n",
       "       'head_ache', 'corona_result', 'age_60_and_above', 'gender',\n",
       "       'test_indication', 'weekday', 'date',\n",
       "       'isolated_today_contact_with_confirmed', 'isolated_today_abroad',\n",
       "       'new_contact_with_confirmed', 'new_from_abroad', 'join_date',\n",
       "       'confirmed_date', 'confirmed_numsum', 'confirmed_num', 'corona result'],\n",
       "      dtype='object')"
      ]
     },
     "execution_count": 35,
     "metadata": {},
     "output_type": "execute_result"
    }
   ],
   "source": [
    "df_israel_covid.columns"
   ]
  },
  {
   "cell_type": "markdown",
   "id": "d717f428",
   "metadata": {},
   "source": [
    "## 증상 유, 증상 무, 증상갯수/전체갯수, 전체 증상 갯수"
   ]
  },
  {
   "cell_type": "code",
   "execution_count": 36,
   "id": "433703df",
   "metadata": {},
   "outputs": [
    {
     "name": "stdout",
     "output_type": "stream",
     "text": [
      "290244 6635537 0.041907764626112204 6925781\n"
     ]
    }
   ],
   "source": [
    "num_cough = df_israel_covid[df_israel_covid['cough'] == 1].shape[0]\n",
    "num_not_cough = df_israel_covid[df_israel_covid['cough'] == 0].shape[0]\n",
    "print(num_cough, num_not_cough, num_cough/total_num, num_cough+num_not_cough)"
   ]
  },
  {
   "cell_type": "code",
   "execution_count": 37,
   "id": "64adf829",
   "metadata": {},
   "outputs": [
    {
     "data": {
      "text/html": [
       "<div>\n",
       "<style scoped>\n",
       "    .dataframe tbody tr th:only-of-type {\n",
       "        vertical-align: middle;\n",
       "    }\n",
       "\n",
       "    .dataframe tbody tr th {\n",
       "        vertical-align: top;\n",
       "    }\n",
       "\n",
       "    .dataframe thead th {\n",
       "        text-align: right;\n",
       "    }\n",
       "</style>\n",
       "<table border=\"1\" class=\"dataframe\">\n",
       "  <thead>\n",
       "    <tr style=\"text-align: right;\">\n",
       "      <th></th>\n",
       "      <th>total</th>\n",
       "      <th>speeding</th>\n",
       "      <th>alcohol</th>\n",
       "      <th>not_distracted</th>\n",
       "      <th>no_previous</th>\n",
       "      <th>ins_premium</th>\n",
       "      <th>ins_losses</th>\n",
       "      <th>abbrev</th>\n",
       "    </tr>\n",
       "  </thead>\n",
       "  <tbody>\n",
       "    <tr>\n",
       "      <th>40</th>\n",
       "      <td>23.9</td>\n",
       "      <td>9.082</td>\n",
       "      <td>9.799</td>\n",
       "      <td>22.944</td>\n",
       "      <td>19.359</td>\n",
       "      <td>858.97</td>\n",
       "      <td>116.29</td>\n",
       "      <td>SC</td>\n",
       "    </tr>\n",
       "    <tr>\n",
       "      <th>34</th>\n",
       "      <td>23.9</td>\n",
       "      <td>5.497</td>\n",
       "      <td>10.038</td>\n",
       "      <td>23.661</td>\n",
       "      <td>20.554</td>\n",
       "      <td>688.75</td>\n",
       "      <td>109.72</td>\n",
       "      <td>ND</td>\n",
       "    </tr>\n",
       "    <tr>\n",
       "      <th>48</th>\n",
       "      <td>23.8</td>\n",
       "      <td>8.092</td>\n",
       "      <td>6.664</td>\n",
       "      <td>23.086</td>\n",
       "      <td>20.706</td>\n",
       "      <td>992.61</td>\n",
       "      <td>152.56</td>\n",
       "      <td>WV</td>\n",
       "    </tr>\n",
       "    <tr>\n",
       "      <th>3</th>\n",
       "      <td>22.4</td>\n",
       "      <td>4.032</td>\n",
       "      <td>5.824</td>\n",
       "      <td>21.056</td>\n",
       "      <td>21.280</td>\n",
       "      <td>827.34</td>\n",
       "      <td>142.39</td>\n",
       "      <td>AR</td>\n",
       "    </tr>\n",
       "    <tr>\n",
       "      <th>17</th>\n",
       "      <td>21.4</td>\n",
       "      <td>4.066</td>\n",
       "      <td>4.922</td>\n",
       "      <td>16.692</td>\n",
       "      <td>16.264</td>\n",
       "      <td>872.51</td>\n",
       "      <td>137.13</td>\n",
       "      <td>KY</td>\n",
       "    </tr>\n",
       "  </tbody>\n",
       "</table>\n",
       "</div>"
      ],
      "text/plain": [
       "    total  speeding  alcohol  not_distracted  no_previous  ins_premium  \\\n",
       "40   23.9     9.082    9.799          22.944       19.359       858.97   \n",
       "34   23.9     5.497   10.038          23.661       20.554       688.75   \n",
       "48   23.8     8.092    6.664          23.086       20.706       992.61   \n",
       "3    22.4     4.032    5.824          21.056       21.280       827.34   \n",
       "17   21.4     4.066    4.922          16.692       16.264       872.51   \n",
       "\n",
       "    ins_losses abbrev  \n",
       "40      116.29     SC  \n",
       "34      109.72     ND  \n",
       "48      152.56     WV  \n",
       "3       142.39     AR  \n",
       "17      137.13     KY  "
      ]
     },
     "execution_count": 37,
     "metadata": {},
     "output_type": "execute_result"
    }
   ],
   "source": [
    "pd.DataFrame(data=[[1,2,3],[4,5,6]], columns=[1, 2, 3])\n",
    "crashes = sns.load_dataset(\"car_crashes\").sort_values(\"total\", ascending=False)\n",
    "crashes.head(5)"
   ]
  },
  {
   "cell_type": "code",
   "execution_count": 38,
   "id": "19daf88a",
   "metadata": {},
   "outputs": [],
   "source": [
    "def get_symptom_num(df, attr):\n",
    "    num_symp = df[df[attr] == 1].shape[0]\n",
    "    num_symp_not = df[df[attr] == 0].shape[0]\n",
    "    total = num_symp + num_symp_not\n",
    "    ratio = num_symp / total\n",
    "    return num_symp, num_symp_not, ratio, total"
   ]
  },
  {
   "cell_type": "code",
   "execution_count": 39,
   "id": "9cae98b1",
   "metadata": {},
   "outputs": [
    {
     "name": "stdout",
     "output_type": "stream",
     "text": [
      "290244 6635537 0.041907764626112204 6925781\n"
     ]
    }
   ],
   "source": [
    "num_cough, num_not_cough, ratio_cough, total_cough = get_symptom_num(df_israel_covid, 'cough')\n",
    "print(num_cough, num_not_cough, ratio_cough, total_cough)"
   ]
  },
  {
   "cell_type": "code",
   "execution_count": 40,
   "id": "70cb8307",
   "metadata": {},
   "outputs": [
    {
     "name": "stdout",
     "output_type": "stream",
     "text": [
      "228526 6697255 0.032996423074884984 6925781\n"
     ]
    }
   ],
   "source": [
    "num_fever, num_not_fever, ratio_fever, total_fever = get_symptom_num(df_israel_covid, 'fever')\n",
    "print(num_fever, num_not_fever, ratio_fever, total_fever)"
   ]
  },
  {
   "cell_type": "code",
   "execution_count": 41,
   "id": "7331ac2f",
   "metadata": {},
   "outputs": [
    {
     "name": "stdout",
     "output_type": "stream",
     "text": [
      "108427 6817354 0.015655562888864088 6925781\n"
     ]
    }
   ],
   "source": [
    "num_sore_throat, num_not_sore_throat, ratio_sore_throat, total_sore_throat = get_symptom_num(df_israel_covid, 'sore_throat')\n",
    "print(num_sore_throat, num_not_sore_throat, ratio_sore_throat, total_sore_throat)"
   ]
  },
  {
   "cell_type": "code",
   "execution_count": 42,
   "id": "a8d5ea39",
   "metadata": {},
   "outputs": [
    {
     "name": "stdout",
     "output_type": "stream",
     "text": [
      "27998 6897783 0.004042576570064806 6925781\n"
     ]
    }
   ],
   "source": [
    "num_shortness_of_breath, num_not_shortness_of_breath, ratio_shortness_of_breath, total_shortness_of_breath = get_symptom_num(df_israel_covid, 'shortness_of_breath')\n",
    "print(num_shortness_of_breath, num_not_shortness_of_breath, ratio_shortness_of_breath, total_shortness_of_breath)"
   ]
  },
  {
   "cell_type": "code",
   "execution_count": 43,
   "id": "ee8d008a",
   "metadata": {},
   "outputs": [
    {
     "name": "stdout",
     "output_type": "stream",
     "text": [
      "222259 6703522 0.032091543177585315 6925781\n"
     ]
    }
   ],
   "source": [
    "num_head_ache, num_not_head_ache, ratio_head_ache, total_head_ache = get_symptom_num(df_israel_covid, 'head_ache')\n",
    "print(num_head_ache, num_not_head_ache, ratio_head_ache, total_head_ache)"
   ]
  },
  {
   "cell_type": "code",
   "execution_count": 44,
   "id": "8a7021f4",
   "metadata": {},
   "outputs": [
    {
     "name": "stdout",
     "output_type": "stream",
     "text": [
      "690868 4822913 1412000 0.09975308199898322 6925781\n"
     ]
    }
   ],
   "source": [
    "num_60_up = df_israel_covid[df_israel_covid['age_60_and_above'] == 1].shape[0]\n",
    "num_60_down = df_israel_covid[df_israel_covid['age_60_and_above'] == 0].shape[0]\n",
    "num_unk = df_israel_covid[df_israel_covid['age_60_and_above'] == -1].shape[0]\n",
    "print(num_60_up, num_60_down, num_unk,  num_60_up/(num_60_up+num_60_down+num_unk), num_60_up+num_60_down+num_unk)"
   ]
  },
  {
   "cell_type": "code",
   "execution_count": 45,
   "id": "dc6cbec0",
   "metadata": {},
   "outputs": [
    {
     "name": "stdout",
     "output_type": "stream",
     "text": [
      "6412347 25649 487785 6925781\n"
     ]
    }
   ],
   "source": [
    "num_other = df_israel_covid[df_israel_covid['test_indication'] == 0].shape[0]\n",
    "num_abroad = df_israel_covid[df_israel_covid['test_indication'] == 1].shape[0]\n",
    "num_contact = df_israel_covid[df_israel_covid['test_indication'] == 2].shape[0]\n",
    "# num_unk = df_israel_covid[df_israel_covid['test_indication'] == -1].shape[0]\n",
    "print(num_other, num_abroad, num_contact, num_other+num_abroad+num_contact)"
   ]
  },
  {
   "cell_type": "code",
   "execution_count": 46,
   "id": "9a857f9c",
   "metadata": {},
   "outputs": [],
   "source": [
    "ratio_symp = [ratio_cough, ratio_fever, ratio_sore_throat, ratio_shortness_of_breath, ratio_head_ache]"
   ]
  },
  {
   "cell_type": "code",
   "execution_count": 47,
   "id": "7b0cae2c",
   "metadata": {},
   "outputs": [],
   "source": [
    "df_symptom = pd.DataFrame(columns=['Symptom', 'Total', '# of symptoms'])\n",
    "df_symptom.loc[-1] = ['Cough', num_cough+num_not_cough, num_cough]\n",
    "df_symptom.index = df_symptom.index + 1\n",
    "df_symptom.loc[-1] = ['Fever',  num_fever+num_not_fever, num_fever]\n",
    "df_symptom.index = df_symptom.index + 1\n",
    "df_symptom.loc[-1] = ['Sore throat', num_sore_throat+num_not_sore_throat, num_sore_throat]\n",
    "df_symptom.index = df_symptom.index + 1\n",
    "df_symptom.loc[-1] = ['Shortness of breath', num_shortness_of_breath+num_not_shortness_of_breath, num_shortness_of_breath]\n",
    "df_symptom.index = df_symptom.index + 1\n",
    "df_symptom.loc[-1] = ['Headache', num_head_ache+num_not_head_ache, num_head_ache]\n",
    "df_symptom = df_symptom.reset_index(drop=True)"
   ]
  },
  {
   "cell_type": "code",
   "execution_count": 48,
   "id": "8bf62209",
   "metadata": {},
   "outputs": [
    {
     "data": {
      "image/png": "[encoded data removed]",
      "text/plain": [
       "<Figure size 720x360 with 1 Axes>"
      ]
     },
     "metadata": {},
     "output_type": "display_data"
    }
   ],
   "source": [
    "f, ax = plt.subplots(figsize=(10, 5))\n",
    "sns.set_theme(style=\"whitegrid\")\n",
    "sns.set_color_codes(\"pastel\")\n",
    "g1 = sns.barplot(x=\"Total\", y=\"Symptom\", data=df_symptom, label=\"Total\", color=\"b\")\n",
    "sns.set_color_codes(\"muted\")\n",
    "g2 = sns.barplot(x=\"# of symptoms\", y=\"Symptom\", data=df_symptom, label=\"# of symptoms\", color=\"b\")\n",
    "\n",
    "for i, v in enumerate(df_symptom['Total'].values):\n",
    "    ax.text(v - 500000, i + .15, str(v), color='b', size=13, weight='bold')\n",
    "    percent_symp = round(ratio_symp[i]*100, 2)\n",
    "    ax.text(v - 3000000, i + .15, f'{percent_symp}%', color='black', size=15, weight='bold')\n",
    "\n",
    "for i, v in enumerate(df_symptom['# of symptoms'].values):\n",
    "    ax.text(v - 3, i + .15, str(v), color='b', size=13, weight='bold')\n",
    "\n",
    "if SAVE_FLAG: plt.savefig(f'{pic_path}/증상유무 비율.png')\n",
    "plt.show()"
   ]
  },
  {
   "cell_type": "code",
   "execution_count": 49,
   "id": "d620b87b",
   "metadata": {},
   "outputs": [],
   "source": [
    "df_israel_covid_p = df_israel_covid[df_israel_covid['corona_result'] == 1]\n",
    "num_cough, num_not_cough, ratio_cough, total_cough = get_symptom_num(df_israel_covid_p, 'cough')\n",
    "num_fever, num_not_fever, ratio_fever, total_fever = get_symptom_num(df_israel_covid_p, 'fever')\n",
    "num_sore_throat, num_not_sore_throat, ratio_sore_throat, total_sore_throat = get_symptom_num(df_israel_covid_p, 'sore_throat')\n",
    "num_shortness_of_breath, num_not_shortness_of_breath, ratio_shortness_of_breath, total_shortness_of_breath = get_symptom_num(df_israel_covid_p, 'shortness_of_breath')\n",
    "num_head_ache, num_not_head_ache, ratio_head_ache, total_head_ache = get_symptom_num(df_israel_covid_p, 'head_ache')\n",
    "ratio_symp = [ratio_cough, ratio_fever, ratio_sore_throat, ratio_shortness_of_breath, ratio_head_ache]"
   ]
  },
  {
   "cell_type": "code",
   "execution_count": 50,
   "id": "a43a9221",
   "metadata": {},
   "outputs": [],
   "source": [
    "df_symptom = pd.DataFrame(columns=['Symptom', 'Total', '# of symptoms'])\n",
    "df_symptom.loc[-1] = ['Cough', num_cough+num_not_cough, num_cough]\n",
    "df_symptom.index = df_symptom.index + 1\n",
    "df_symptom.loc[-1] = ['Fever',  num_fever+num_not_fever, num_fever]\n",
    "df_symptom.index = df_symptom.index + 1\n",
    "df_symptom.loc[-1] = ['Sore throat', num_sore_throat+num_not_sore_throat, num_sore_throat]\n",
    "df_symptom.index = df_symptom.index + 1\n",
    "df_symptom.loc[-1] = ['Shortness of breath', num_shortness_of_breath+num_not_shortness_of_breath, num_shortness_of_breath]\n",
    "df_symptom.index = df_symptom.index + 1\n",
    "df_symptom.loc[-1] = ['Headache', num_head_ache+num_not_head_ache, num_head_ache]\n",
    "df_symptom = df_symptom.reset_index(drop=True)"
   ]
  },
  {
   "cell_type": "code",
   "execution_count": 51,
   "id": "052c99a3",
   "metadata": {},
   "outputs": [
    {
     "data": {
      "image/png": "[encoded data removed]",
      "text/plain": [
       "<Figure size 720x360 with 1 Axes>"
      ]
     },
     "metadata": {},
     "output_type": "display_data"
    }
   ],
   "source": [
    "f, ax = plt.subplots(figsize=(10, 5))\n",
    "sns.set_theme(style=\"whitegrid\")\n",
    "sns.set_color_codes(\"pastel\")\n",
    "g1 = sns.barplot(x=\"Total\", y=\"Symptom\", data=df_symptom, label=\"Total\", color=\"b\")\n",
    "sns.set_color_codes(\"muted\")\n",
    "g2 = sns.barplot(x=\"# of symptoms\", y=\"Symptom\", data=df_symptom, label=\"# of symptoms\", color=\"b\")\n",
    "\n",
    "for i, v in enumerate(df_symptom['Total'].values):\n",
    "    ax.text(v-30000, i + .15, str(v), color='b', size=13, weight='bold')\n",
    "    percent_symp = round(ratio_symp[i]*100, 2)\n",
    "    ax.text(v - 200000, i + .15, f'{percent_symp}%', color='black', size=15, weight='bold')\n",
    "\n",
    "for i, v in enumerate(df_symptom['# of symptoms'].values):\n",
    "    ax.text(v - 3, i + .15, str(v), color='b', size=13, weight='bold')\n",
    "if SAVE_FLAG:  plt.savefig(f'{pic_path}/양성_증상유무비율.png')\n",
    "plt.show()"
   ]
  },
  {
   "cell_type": "code",
   "execution_count": 52,
   "id": "28f8a9bd",
   "metadata": {},
   "outputs": [],
   "source": [
    "df_israel_covid_n = df_israel_covid[df_israel_covid['corona_result'] == 0]\n",
    "num_cough, num_not_cough, ratio_cough, total_cough = get_symptom_num(df_israel_covid_n, 'cough')\n",
    "num_fever, num_not_fever, ratio_fever, total_fever = get_symptom_num(df_israel_covid_n, 'fever')\n",
    "num_sore_throat, num_not_sore_throat, ratio_sore_throat, total_sore_throat = get_symptom_num(df_israel_covid_n, 'sore_throat')\n",
    "num_shortness_of_breath, num_not_shortness_of_breath, ratio_shortness_of_breath, total_shortness_of_breath = get_symptom_num(df_israel_covid_n, 'shortness_of_breath')\n",
    "num_head_ache, num_not_head_ache, ratio_head_ache, total_head_ache = get_symptom_num(df_israel_covid_n, 'head_ache')\n",
    "ratio_symp = [ratio_cough, ratio_fever, ratio_sore_throat, ratio_shortness_of_breath, ratio_head_ache]"
   ]
  },
  {
   "cell_type": "code",
   "execution_count": 53,
   "id": "514f9996",
   "metadata": {},
   "outputs": [],
   "source": [
    "df_symptom = pd.DataFrame(columns=['Symptom', 'Total', '# of symptoms'])\n",
    "df_symptom.loc[-1] = ['Cough', num_cough+num_not_cough, num_cough]\n",
    "df_symptom.index = df_symptom.index + 1\n",
    "df_symptom.loc[-1] = ['Fever',  num_fever+num_not_fever, num_fever]\n",
    "df_symptom.index = df_symptom.index + 1\n",
    "df_symptom.loc[-1] = ['Sore throat', num_sore_throat+num_not_sore_throat, num_sore_throat]\n",
    "df_symptom.index = df_symptom.index + 1\n",
    "df_symptom.loc[-1] = ['Shortness of breath', num_shortness_of_breath+num_not_shortness_of_breath, num_shortness_of_breath]\n",
    "df_symptom.index = df_symptom.index + 1\n",
    "df_symptom.loc[-1] = ['Headache', num_head_ache+num_not_head_ache, num_head_ache]\n",
    "df_symptom = df_symptom.reset_index(drop=True)"
   ]
  },
  {
   "cell_type": "code",
   "execution_count": 54,
   "id": "4f7a91be",
   "metadata": {},
   "outputs": [
    {
     "data": {
      "image/png": "[encoded data removed]",
      "text/plain": [
       "<Figure size 720x360 with 1 Axes>"
      ]
     },
     "metadata": {},
     "output_type": "display_data"
    }
   ],
   "source": [
    "f, ax = plt.subplots(figsize=(10, 5))\n",
    "sns.set_theme(style=\"whitegrid\")\n",
    "sns.set_color_codes(\"pastel\")\n",
    "g1 = sns.barplot(x=\"Total\", y=\"Symptom\", data=df_symptom, label=\"Total\", color=\"b\")\n",
    "sns.set_color_codes(\"muted\")\n",
    "g2 = sns.barplot(x=\"# of symptoms\", y=\"Symptom\", data=df_symptom, label=\"# of symptoms\", color=\"b\")\n",
    "\n",
    "for i, v in enumerate(df_symptom['Total'].values):\n",
    "    ax.text(v-400000, i + .15, str(v), color='b', size=13, weight='bold')\n",
    "    percent_symp = round(ratio_symp[i]*100, 2)\n",
    "    ax.text(v - 2700000, i + .15, f'{percent_symp}%', color='black', size=15, weight='bold')\n",
    "\n",
    "for i, v in enumerate(df_symptom['# of symptoms'].values):\n",
    "    ax.text(v - 3, i + .15, str(v), color='b', size=13, weight='bold')\n",
    "\n",
    "if SAVE_FLAG: plt.savefig(f'{pic_path}/음성_증상유무비율.png')\n",
    "plt.show()"
   ]
  },
  {
   "cell_type": "code",
   "execution_count": 55,
   "id": "07c72293",
   "metadata": {},
   "outputs": [],
   "source": [
    "df_israel_covid_o = df_israel_covid[df_israel_covid['corona_result'] == -1]\n",
    "num_cough, num_not_cough, ratio_cough, total_cough = get_symptom_num(df_israel_covid_o, 'cough')\n",
    "num_fever, num_not_fever, ratio_fever, total_fever = get_symptom_num(df_israel_covid_o, 'fever')\n",
    "num_sore_throat, num_not_sore_throat, ratio_sore_throat, total_sore_throat = get_symptom_num(df_israel_covid_o, 'sore_throat')\n",
    "num_shortness_of_breath, num_not_shortness_of_breath, ratio_shortness_of_breath, total_shortness_of_breath = get_symptom_num(df_israel_covid_o, 'shortness_of_breath')\n",
    "num_head_ache, num_not_head_ache, ratio_head_ache, total_head_ache = get_symptom_num(df_israel_covid_o, 'head_ache')\n",
    "ratio_symp = [ratio_cough, ratio_fever, ratio_sore_throat, ratio_shortness_of_breath, ratio_head_ache]"
   ]
  },
  {
   "cell_type": "code",
   "execution_count": 56,
   "id": "fcc45fca",
   "metadata": {},
   "outputs": [],
   "source": [
    "df_symptom = pd.DataFrame(columns=['Symptom', 'Total', '# of symptoms'])\n",
    "df_symptom.loc[-1] = ['Cough', num_cough+num_not_cough, num_cough]\n",
    "df_symptom.index = df_symptom.index + 1\n",
    "df_symptom.loc[-1] = ['Fever',  num_fever+num_not_fever, num_fever]\n",
    "df_symptom.index = df_symptom.index + 1\n",
    "df_symptom.loc[-1] = ['Sore throat', num_sore_throat+num_not_sore_throat, num_sore_throat]\n",
    "df_symptom.index = df_symptom.index + 1\n",
    "df_symptom.loc[-1] = ['Shortness of breath', num_shortness_of_breath+num_not_shortness_of_breath, num_shortness_of_breath]\n",
    "df_symptom.index = df_symptom.index + 1\n",
    "df_symptom.loc[-1] = ['Headache', num_head_ache+num_not_head_ache, num_head_ache]\n",
    "df_symptom = df_symptom.reset_index(drop=True)"
   ]
  },
  {
   "cell_type": "code",
   "execution_count": 57,
   "id": "c5cbce3a",
   "metadata": {},
   "outputs": [
    {
     "data": {
      "image/png": "[encoded data removed]",
      "text/plain": [
       "<Figure size 720x360 with 1 Axes>"
      ]
     },
     "metadata": {},
     "output_type": "display_data"
    }
   ],
   "source": [
    "f, ax = plt.subplots(figsize=(10, 5))\n",
    "sns.set_theme(style=\"whitegrid\")\n",
    "sns.set_color_codes(\"pastel\")\n",
    "g1 = sns.barplot(x=\"Total\", y=\"Symptom\", data=df_symptom, label=\"Total\", color=\"b\")\n",
    "sns.set_color_codes(\"muted\")\n",
    "g2 = sns.barplot(x=\"# of symptoms\", y=\"Symptom\", data=df_symptom, label=\"# of symptoms\", color=\"b\")\n",
    "\n",
    "for i, v in enumerate(df_symptom['Total'].values):\n",
    "    ax.text(v-8000, i + .15, str(v), color='b', size=13, weight='bold')\n",
    "    percent_symp = round(ratio_symp[i]*100, 2)\n",
    "    ax.text(v - 60000, i + .15, f'{percent_symp}%', color='black', size=15, weight='bold')\n",
    "for i, v in enumerate(df_symptom['# of symptoms'].values):\n",
    "    ax.text(v - 3, i + .15, str(v), color='b', size=13, weight='bold')\n",
    "if SAVE_FLAG: plt.savefig(f'{pic_path}/기타 증상유무비율.png')\n",
    "plt.show()"
   ]
  },
  {
   "cell_type": "markdown",
   "id": "7cc96223",
   "metadata": {},
   "source": [
    "## data를 코로나 결과가 양성, 음성, 기타인 데이터로 분리해서 비교 "
   ]
  },
  {
   "cell_type": "code",
   "execution_count": 58,
   "id": "de3fbc98",
   "metadata": {},
   "outputs": [
    {
     "data": {
      "text/html": [
       "<div>\n",
       "<style scoped>\n",
       "    .dataframe tbody tr th:only-of-type {\n",
       "        vertical-align: middle;\n",
       "    }\n",
       "\n",
       "    .dataframe tbody tr th {\n",
       "        vertical-align: top;\n",
       "    }\n",
       "\n",
       "    .dataframe thead th {\n",
       "        text-align: right;\n",
       "    }\n",
       "</style>\n",
       "<table border=\"1\" class=\"dataframe\">\n",
       "  <thead>\n",
       "    <tr style=\"text-align: right;\">\n",
       "      <th></th>\n",
       "      <th>test_date</th>\n",
       "      <th>cough</th>\n",
       "      <th>fever</th>\n",
       "      <th>sore_throat</th>\n",
       "      <th>shortness_of_breath</th>\n",
       "      <th>head_ache</th>\n",
       "      <th>corona_result</th>\n",
       "      <th>age_60_and_above</th>\n",
       "      <th>gender</th>\n",
       "      <th>test_indication</th>\n",
       "      <th>...</th>\n",
       "      <th>date</th>\n",
       "      <th>isolated_today_contact_with_confirmed</th>\n",
       "      <th>isolated_today_abroad</th>\n",
       "      <th>new_contact_with_confirmed</th>\n",
       "      <th>new_from_abroad</th>\n",
       "      <th>join_date</th>\n",
       "      <th>confirmed_date</th>\n",
       "      <th>confirmed_numsum</th>\n",
       "      <th>confirmed_num</th>\n",
       "      <th>corona result</th>\n",
       "    </tr>\n",
       "  </thead>\n",
       "  <tbody>\n",
       "    <tr>\n",
       "      <th>6925041</th>\n",
       "      <td>2021-08-31</td>\n",
       "      <td>0</td>\n",
       "      <td>0</td>\n",
       "      <td>0</td>\n",
       "      <td>0</td>\n",
       "      <td>0</td>\n",
       "      <td>1</td>\n",
       "      <td>0</td>\n",
       "      <td>-1</td>\n",
       "      <td>0</td>\n",
       "      <td>...</td>\n",
       "      <td>2021-08-30</td>\n",
       "      <td>30785</td>\n",
       "      <td>76593</td>\n",
       "      <td>6446</td>\n",
       "      <td>8006</td>\n",
       "      <td>2021-08-31</td>\n",
       "      <td>NaN</td>\n",
       "      <td>NaN</td>\n",
       "      <td>NaN</td>\n",
       "      <td>Positive</td>\n",
       "    </tr>\n",
       "    <tr>\n",
       "      <th>6925044</th>\n",
       "      <td>2021-08-31</td>\n",
       "      <td>0</td>\n",
       "      <td>0</td>\n",
       "      <td>0</td>\n",
       "      <td>0</td>\n",
       "      <td>0</td>\n",
       "      <td>1</td>\n",
       "      <td>0</td>\n",
       "      <td>1</td>\n",
       "      <td>0</td>\n",
       "      <td>...</td>\n",
       "      <td>2021-08-30</td>\n",
       "      <td>30785</td>\n",
       "      <td>76593</td>\n",
       "      <td>6446</td>\n",
       "      <td>8006</td>\n",
       "      <td>2021-08-31</td>\n",
       "      <td>NaN</td>\n",
       "      <td>NaN</td>\n",
       "      <td>NaN</td>\n",
       "      <td>Positive</td>\n",
       "    </tr>\n",
       "    <tr>\n",
       "      <th>6925099</th>\n",
       "      <td>2021-08-31</td>\n",
       "      <td>0</td>\n",
       "      <td>0</td>\n",
       "      <td>0</td>\n",
       "      <td>0</td>\n",
       "      <td>0</td>\n",
       "      <td>1</td>\n",
       "      <td>-1</td>\n",
       "      <td>1</td>\n",
       "      <td>0</td>\n",
       "      <td>...</td>\n",
       "      <td>2021-08-30</td>\n",
       "      <td>30785</td>\n",
       "      <td>76593</td>\n",
       "      <td>6446</td>\n",
       "      <td>8006</td>\n",
       "      <td>2021-08-31</td>\n",
       "      <td>NaN</td>\n",
       "      <td>NaN</td>\n",
       "      <td>NaN</td>\n",
       "      <td>Positive</td>\n",
       "    </tr>\n",
       "    <tr>\n",
       "      <th>6925552</th>\n",
       "      <td>2021-08-31</td>\n",
       "      <td>0</td>\n",
       "      <td>0</td>\n",
       "      <td>0</td>\n",
       "      <td>0</td>\n",
       "      <td>0</td>\n",
       "      <td>1</td>\n",
       "      <td>0</td>\n",
       "      <td>0</td>\n",
       "      <td>0</td>\n",
       "      <td>...</td>\n",
       "      <td>2021-08-30</td>\n",
       "      <td>30785</td>\n",
       "      <td>76593</td>\n",
       "      <td>6446</td>\n",
       "      <td>8006</td>\n",
       "      <td>2021-08-31</td>\n",
       "      <td>NaN</td>\n",
       "      <td>NaN</td>\n",
       "      <td>NaN</td>\n",
       "      <td>Positive</td>\n",
       "    </tr>\n",
       "    <tr>\n",
       "      <th>6925554</th>\n",
       "      <td>2021-08-31</td>\n",
       "      <td>0</td>\n",
       "      <td>0</td>\n",
       "      <td>0</td>\n",
       "      <td>0</td>\n",
       "      <td>0</td>\n",
       "      <td>1</td>\n",
       "      <td>0</td>\n",
       "      <td>0</td>\n",
       "      <td>0</td>\n",
       "      <td>...</td>\n",
       "      <td>2021-08-30</td>\n",
       "      <td>30785</td>\n",
       "      <td>76593</td>\n",
       "      <td>6446</td>\n",
       "      <td>8006</td>\n",
       "      <td>2021-08-31</td>\n",
       "      <td>NaN</td>\n",
       "      <td>NaN</td>\n",
       "      <td>NaN</td>\n",
       "      <td>Positive</td>\n",
       "    </tr>\n",
       "  </tbody>\n",
       "</table>\n",
       "<p>5 rows × 21 columns</p>\n",
       "</div>"
      ],
      "text/plain": [
       "          test_date  cough  fever  sore_throat  shortness_of_breath  \\\n",
       "6925041  2021-08-31      0      0            0                    0   \n",
       "6925044  2021-08-31      0      0            0                    0   \n",
       "6925099  2021-08-31      0      0            0                    0   \n",
       "6925552  2021-08-31      0      0            0                    0   \n",
       "6925554  2021-08-31      0      0            0                    0   \n",
       "\n",
       "         head_ache  corona_result  age_60_and_above  gender  test_indication  \\\n",
       "6925041          0              1                 0      -1                0   \n",
       "6925044          0              1                 0       1                0   \n",
       "6925099          0              1                -1       1                0   \n",
       "6925552          0              1                 0       0                0   \n",
       "6925554          0              1                 0       0                0   \n",
       "\n",
       "         ...        date isolated_today_contact_with_confirmed  \\\n",
       "6925041  ...  2021-08-30                                 30785   \n",
       "6925044  ...  2021-08-30                                 30785   \n",
       "6925099  ...  2021-08-30                                 30785   \n",
       "6925552  ...  2021-08-30                                 30785   \n",
       "6925554  ...  2021-08-30                                 30785   \n",
       "\n",
       "         isolated_today_abroad  new_contact_with_confirmed new_from_abroad  \\\n",
       "6925041                  76593                        6446            8006   \n",
       "6925044                  76593                        6446            8006   \n",
       "6925099                  76593                        6446            8006   \n",
       "6925552                  76593                        6446            8006   \n",
       "6925554                  76593                        6446            8006   \n",
       "\n",
       "          join_date confirmed_date confirmed_numsum  confirmed_num  \\\n",
       "6925041  2021-08-31            NaN              NaN            NaN   \n",
       "6925044  2021-08-31            NaN              NaN            NaN   \n",
       "6925099  2021-08-31            NaN              NaN            NaN   \n",
       "6925552  2021-08-31            NaN              NaN            NaN   \n",
       "6925554  2021-08-31            NaN              NaN            NaN   \n",
       "\n",
       "         corona result  \n",
       "6925041       Positive  \n",
       "6925044       Positive  \n",
       "6925099       Positive  \n",
       "6925552       Positive  \n",
       "6925554       Positive  \n",
       "\n",
       "[5 rows x 21 columns]"
      ]
     },
     "execution_count": 58,
     "metadata": {},
     "output_type": "execute_result"
    }
   ],
   "source": [
    "df_israel_covid_p.tail(5)"
   ]
  },
  {
   "cell_type": "code",
   "execution_count": 59,
   "id": "4f8999de",
   "metadata": {},
   "outputs": [
    {
     "data": {
      "text/html": [
       "<div>\n",
       "<style scoped>\n",
       "    .dataframe tbody tr th:only-of-type {\n",
       "        vertical-align: middle;\n",
       "    }\n",
       "\n",
       "    .dataframe tbody tr th {\n",
       "        vertical-align: top;\n",
       "    }\n",
       "\n",
       "    .dataframe thead th {\n",
       "        text-align: right;\n",
       "    }\n",
       "</style>\n",
       "<table border=\"1\" class=\"dataframe\">\n",
       "  <thead>\n",
       "    <tr style=\"text-align: right;\">\n",
       "      <th></th>\n",
       "      <th>test_date</th>\n",
       "      <th>cough</th>\n",
       "      <th>fever</th>\n",
       "      <th>sore_throat</th>\n",
       "      <th>shortness_of_breath</th>\n",
       "      <th>head_ache</th>\n",
       "      <th>corona_result</th>\n",
       "      <th>age_60_and_above</th>\n",
       "      <th>gender</th>\n",
       "      <th>test_indication</th>\n",
       "      <th>...</th>\n",
       "      <th>date</th>\n",
       "      <th>isolated_today_contact_with_confirmed</th>\n",
       "      <th>isolated_today_abroad</th>\n",
       "      <th>new_contact_with_confirmed</th>\n",
       "      <th>new_from_abroad</th>\n",
       "      <th>join_date</th>\n",
       "      <th>confirmed_date</th>\n",
       "      <th>confirmed_numsum</th>\n",
       "      <th>confirmed_num</th>\n",
       "      <th>corona result</th>\n",
       "    </tr>\n",
       "  </thead>\n",
       "  <tbody>\n",
       "    <tr>\n",
       "      <th>6925775</th>\n",
       "      <td>2021-08-31</td>\n",
       "      <td>0</td>\n",
       "      <td>0</td>\n",
       "      <td>0</td>\n",
       "      <td>0</td>\n",
       "      <td>0</td>\n",
       "      <td>0</td>\n",
       "      <td>1</td>\n",
       "      <td>0</td>\n",
       "      <td>0</td>\n",
       "      <td>...</td>\n",
       "      <td>2021-08-30</td>\n",
       "      <td>30785</td>\n",
       "      <td>76593</td>\n",
       "      <td>6446</td>\n",
       "      <td>8006</td>\n",
       "      <td>2021-08-31</td>\n",
       "      <td>NaN</td>\n",
       "      <td>NaN</td>\n",
       "      <td>NaN</td>\n",
       "      <td>Negative</td>\n",
       "    </tr>\n",
       "    <tr>\n",
       "      <th>6925776</th>\n",
       "      <td>2021-08-31</td>\n",
       "      <td>0</td>\n",
       "      <td>0</td>\n",
       "      <td>0</td>\n",
       "      <td>0</td>\n",
       "      <td>0</td>\n",
       "      <td>0</td>\n",
       "      <td>0</td>\n",
       "      <td>0</td>\n",
       "      <td>0</td>\n",
       "      <td>...</td>\n",
       "      <td>2021-08-30</td>\n",
       "      <td>30785</td>\n",
       "      <td>76593</td>\n",
       "      <td>6446</td>\n",
       "      <td>8006</td>\n",
       "      <td>2021-08-31</td>\n",
       "      <td>NaN</td>\n",
       "      <td>NaN</td>\n",
       "      <td>NaN</td>\n",
       "      <td>Negative</td>\n",
       "    </tr>\n",
       "    <tr>\n",
       "      <th>6925777</th>\n",
       "      <td>2021-08-31</td>\n",
       "      <td>0</td>\n",
       "      <td>0</td>\n",
       "      <td>0</td>\n",
       "      <td>0</td>\n",
       "      <td>0</td>\n",
       "      <td>0</td>\n",
       "      <td>1</td>\n",
       "      <td>0</td>\n",
       "      <td>0</td>\n",
       "      <td>...</td>\n",
       "      <td>2021-08-30</td>\n",
       "      <td>30785</td>\n",
       "      <td>76593</td>\n",
       "      <td>6446</td>\n",
       "      <td>8006</td>\n",
       "      <td>2021-08-31</td>\n",
       "      <td>NaN</td>\n",
       "      <td>NaN</td>\n",
       "      <td>NaN</td>\n",
       "      <td>Negative</td>\n",
       "    </tr>\n",
       "    <tr>\n",
       "      <th>6925778</th>\n",
       "      <td>2021-08-31</td>\n",
       "      <td>0</td>\n",
       "      <td>0</td>\n",
       "      <td>0</td>\n",
       "      <td>0</td>\n",
       "      <td>0</td>\n",
       "      <td>0</td>\n",
       "      <td>0</td>\n",
       "      <td>1</td>\n",
       "      <td>0</td>\n",
       "      <td>...</td>\n",
       "      <td>2021-08-30</td>\n",
       "      <td>30785</td>\n",
       "      <td>76593</td>\n",
       "      <td>6446</td>\n",
       "      <td>8006</td>\n",
       "      <td>2021-08-31</td>\n",
       "      <td>NaN</td>\n",
       "      <td>NaN</td>\n",
       "      <td>NaN</td>\n",
       "      <td>Negative</td>\n",
       "    </tr>\n",
       "    <tr>\n",
       "      <th>6925779</th>\n",
       "      <td>2021-08-31</td>\n",
       "      <td>0</td>\n",
       "      <td>0</td>\n",
       "      <td>0</td>\n",
       "      <td>0</td>\n",
       "      <td>0</td>\n",
       "      <td>0</td>\n",
       "      <td>0</td>\n",
       "      <td>1</td>\n",
       "      <td>0</td>\n",
       "      <td>...</td>\n",
       "      <td>2021-08-30</td>\n",
       "      <td>30785</td>\n",
       "      <td>76593</td>\n",
       "      <td>6446</td>\n",
       "      <td>8006</td>\n",
       "      <td>2021-08-31</td>\n",
       "      <td>NaN</td>\n",
       "      <td>NaN</td>\n",
       "      <td>NaN</td>\n",
       "      <td>Negative</td>\n",
       "    </tr>\n",
       "  </tbody>\n",
       "</table>\n",
       "<p>5 rows × 21 columns</p>\n",
       "</div>"
      ],
      "text/plain": [
       "          test_date  cough  fever  sore_throat  shortness_of_breath  \\\n",
       "6925775  2021-08-31      0      0            0                    0   \n",
       "6925776  2021-08-31      0      0            0                    0   \n",
       "6925777  2021-08-31      0      0            0                    0   \n",
       "6925778  2021-08-31      0      0            0                    0   \n",
       "6925779  2021-08-31      0      0            0                    0   \n",
       "\n",
       "         head_ache  corona_result  age_60_and_above  gender  test_indication  \\\n",
       "6925775          0              0                 1       0                0   \n",
       "6925776          0              0                 0       0                0   \n",
       "6925777          0              0                 1       0                0   \n",
       "6925778          0              0                 0       1                0   \n",
       "6925779          0              0                 0       1                0   \n",
       "\n",
       "         ...        date isolated_today_contact_with_confirmed  \\\n",
       "6925775  ...  2021-08-30                                 30785   \n",
       "6925776  ...  2021-08-30                                 30785   \n",
       "6925777  ...  2021-08-30                                 30785   \n",
       "6925778  ...  2021-08-30                                 30785   \n",
       "6925779  ...  2021-08-30                                 30785   \n",
       "\n",
       "         isolated_today_abroad  new_contact_with_confirmed new_from_abroad  \\\n",
       "6925775                  76593                        6446            8006   \n",
       "6925776                  76593                        6446            8006   \n",
       "6925777                  76593                        6446            8006   \n",
       "6925778                  76593                        6446            8006   \n",
       "6925779                  76593                        6446            8006   \n",
       "\n",
       "          join_date confirmed_date confirmed_numsum  confirmed_num  \\\n",
       "6925775  2021-08-31            NaN              NaN            NaN   \n",
       "6925776  2021-08-31            NaN              NaN            NaN   \n",
       "6925777  2021-08-31            NaN              NaN            NaN   \n",
       "6925778  2021-08-31            NaN              NaN            NaN   \n",
       "6925779  2021-08-31            NaN              NaN            NaN   \n",
       "\n",
       "         corona result  \n",
       "6925775       Negative  \n",
       "6925776       Negative  \n",
       "6925777       Negative  \n",
       "6925778       Negative  \n",
       "6925779       Negative  \n",
       "\n",
       "[5 rows x 21 columns]"
      ]
     },
     "execution_count": 59,
     "metadata": {},
     "output_type": "execute_result"
    }
   ],
   "source": [
    "df_israel_covid_n.tail(5)"
   ]
  },
  {
   "cell_type": "code",
   "execution_count": 60,
   "id": "3c3d273f",
   "metadata": {},
   "outputs": [
    {
     "data": {
      "text/html": [
       "<div>\n",
       "<style scoped>\n",
       "    .dataframe tbody tr th:only-of-type {\n",
       "        vertical-align: middle;\n",
       "    }\n",
       "\n",
       "    .dataframe tbody tr th {\n",
       "        vertical-align: top;\n",
       "    }\n",
       "\n",
       "    .dataframe thead th {\n",
       "        text-align: right;\n",
       "    }\n",
       "</style>\n",
       "<table border=\"1\" class=\"dataframe\">\n",
       "  <thead>\n",
       "    <tr style=\"text-align: right;\">\n",
       "      <th></th>\n",
       "      <th>test_date</th>\n",
       "      <th>cough</th>\n",
       "      <th>fever</th>\n",
       "      <th>sore_throat</th>\n",
       "      <th>shortness_of_breath</th>\n",
       "      <th>head_ache</th>\n",
       "      <th>corona_result</th>\n",
       "      <th>age_60_and_above</th>\n",
       "      <th>gender</th>\n",
       "      <th>test_indication</th>\n",
       "      <th>...</th>\n",
       "      <th>date</th>\n",
       "      <th>isolated_today_contact_with_confirmed</th>\n",
       "      <th>isolated_today_abroad</th>\n",
       "      <th>new_contact_with_confirmed</th>\n",
       "      <th>new_from_abroad</th>\n",
       "      <th>join_date</th>\n",
       "      <th>confirmed_date</th>\n",
       "      <th>confirmed_numsum</th>\n",
       "      <th>confirmed_num</th>\n",
       "      <th>corona result</th>\n",
       "    </tr>\n",
       "  </thead>\n",
       "  <tbody>\n",
       "    <tr>\n",
       "      <th>6925140</th>\n",
       "      <td>2021-08-31</td>\n",
       "      <td>0</td>\n",
       "      <td>0</td>\n",
       "      <td>0</td>\n",
       "      <td>0</td>\n",
       "      <td>0</td>\n",
       "      <td>-1</td>\n",
       "      <td>0</td>\n",
       "      <td>0</td>\n",
       "      <td>0</td>\n",
       "      <td>...</td>\n",
       "      <td>2021-08-30</td>\n",
       "      <td>30785</td>\n",
       "      <td>76593</td>\n",
       "      <td>6446</td>\n",
       "      <td>8006</td>\n",
       "      <td>2021-08-31</td>\n",
       "      <td>NaN</td>\n",
       "      <td>NaN</td>\n",
       "      <td>NaN</td>\n",
       "      <td>Other</td>\n",
       "    </tr>\n",
       "    <tr>\n",
       "      <th>6925225</th>\n",
       "      <td>2021-08-31</td>\n",
       "      <td>0</td>\n",
       "      <td>0</td>\n",
       "      <td>0</td>\n",
       "      <td>0</td>\n",
       "      <td>0</td>\n",
       "      <td>-1</td>\n",
       "      <td>0</td>\n",
       "      <td>0</td>\n",
       "      <td>0</td>\n",
       "      <td>...</td>\n",
       "      <td>2021-08-30</td>\n",
       "      <td>30785</td>\n",
       "      <td>76593</td>\n",
       "      <td>6446</td>\n",
       "      <td>8006</td>\n",
       "      <td>2021-08-31</td>\n",
       "      <td>NaN</td>\n",
       "      <td>NaN</td>\n",
       "      <td>NaN</td>\n",
       "      <td>Other</td>\n",
       "    </tr>\n",
       "    <tr>\n",
       "      <th>6925534</th>\n",
       "      <td>2021-08-31</td>\n",
       "      <td>0</td>\n",
       "      <td>0</td>\n",
       "      <td>0</td>\n",
       "      <td>0</td>\n",
       "      <td>0</td>\n",
       "      <td>-1</td>\n",
       "      <td>0</td>\n",
       "      <td>0</td>\n",
       "      <td>0</td>\n",
       "      <td>...</td>\n",
       "      <td>2021-08-30</td>\n",
       "      <td>30785</td>\n",
       "      <td>76593</td>\n",
       "      <td>6446</td>\n",
       "      <td>8006</td>\n",
       "      <td>2021-08-31</td>\n",
       "      <td>NaN</td>\n",
       "      <td>NaN</td>\n",
       "      <td>NaN</td>\n",
       "      <td>Other</td>\n",
       "    </tr>\n",
       "    <tr>\n",
       "      <th>6925734</th>\n",
       "      <td>2021-08-31</td>\n",
       "      <td>0</td>\n",
       "      <td>0</td>\n",
       "      <td>0</td>\n",
       "      <td>0</td>\n",
       "      <td>0</td>\n",
       "      <td>-1</td>\n",
       "      <td>0</td>\n",
       "      <td>1</td>\n",
       "      <td>0</td>\n",
       "      <td>...</td>\n",
       "      <td>2021-08-30</td>\n",
       "      <td>30785</td>\n",
       "      <td>76593</td>\n",
       "      <td>6446</td>\n",
       "      <td>8006</td>\n",
       "      <td>2021-08-31</td>\n",
       "      <td>NaN</td>\n",
       "      <td>NaN</td>\n",
       "      <td>NaN</td>\n",
       "      <td>Other</td>\n",
       "    </tr>\n",
       "    <tr>\n",
       "      <th>6925780</th>\n",
       "      <td>2021-08-31</td>\n",
       "      <td>0</td>\n",
       "      <td>0</td>\n",
       "      <td>0</td>\n",
       "      <td>0</td>\n",
       "      <td>0</td>\n",
       "      <td>-1</td>\n",
       "      <td>0</td>\n",
       "      <td>1</td>\n",
       "      <td>0</td>\n",
       "      <td>...</td>\n",
       "      <td>2021-08-30</td>\n",
       "      <td>30785</td>\n",
       "      <td>76593</td>\n",
       "      <td>6446</td>\n",
       "      <td>8006</td>\n",
       "      <td>2021-08-31</td>\n",
       "      <td>NaN</td>\n",
       "      <td>NaN</td>\n",
       "      <td>NaN</td>\n",
       "      <td>Other</td>\n",
       "    </tr>\n",
       "  </tbody>\n",
       "</table>\n",
       "<p>5 rows × 21 columns</p>\n",
       "</div>"
      ],
      "text/plain": [
       "          test_date  cough  fever  sore_throat  shortness_of_breath  \\\n",
       "6925140  2021-08-31      0      0            0                    0   \n",
       "6925225  2021-08-31      0      0            0                    0   \n",
       "6925534  2021-08-31      0      0            0                    0   \n",
       "6925734  2021-08-31      0      0            0                    0   \n",
       "6925780  2021-08-31      0      0            0                    0   \n",
       "\n",
       "         head_ache  corona_result  age_60_and_above  gender  test_indication  \\\n",
       "6925140          0             -1                 0       0                0   \n",
       "6925225          0             -1                 0       0                0   \n",
       "6925534          0             -1                 0       0                0   \n",
       "6925734          0             -1                 0       1                0   \n",
       "6925780          0             -1                 0       1                0   \n",
       "\n",
       "         ...        date isolated_today_contact_with_confirmed  \\\n",
       "6925140  ...  2021-08-30                                 30785   \n",
       "6925225  ...  2021-08-30                                 30785   \n",
       "6925534  ...  2021-08-30                                 30785   \n",
       "6925734  ...  2021-08-30                                 30785   \n",
       "6925780  ...  2021-08-30                                 30785   \n",
       "\n",
       "         isolated_today_abroad  new_contact_with_confirmed new_from_abroad  \\\n",
       "6925140                  76593                        6446            8006   \n",
       "6925225                  76593                        6446            8006   \n",
       "6925534                  76593                        6446            8006   \n",
       "6925734                  76593                        6446            8006   \n",
       "6925780                  76593                        6446            8006   \n",
       "\n",
       "          join_date confirmed_date confirmed_numsum  confirmed_num  \\\n",
       "6925140  2021-08-31            NaN              NaN            NaN   \n",
       "6925225  2021-08-31            NaN              NaN            NaN   \n",
       "6925534  2021-08-31            NaN              NaN            NaN   \n",
       "6925734  2021-08-31            NaN              NaN            NaN   \n",
       "6925780  2021-08-31            NaN              NaN            NaN   \n",
       "\n",
       "         corona result  \n",
       "6925140          Other  \n",
       "6925225          Other  \n",
       "6925534          Other  \n",
       "6925734          Other  \n",
       "6925780          Other  \n",
       "\n",
       "[5 rows x 21 columns]"
      ]
     },
     "execution_count": 60,
     "metadata": {},
     "output_type": "execute_result"
    }
   ],
   "source": [
    "df_israel_covid_o.tail(5)"
   ]
  },
  {
   "cell_type": "code",
   "execution_count": 61,
   "id": "dbfa124f",
   "metadata": {},
   "outputs": [],
   "source": [
    "# 데이터 갯수 & 증상 비율들\n",
    "def cnt_has_symptom(df):\n",
    "    fever_cnt = df[df['fever'] == 1].shape[0]\n",
    "    cough_cnt = df[df['cough'] == 1].shape[0]    \n",
    "    sore_throat_cnt = df[df['sore_throat'] == 1].shape[0]\n",
    "    shortness_of_breath_cnt = df[df['shortness_of_breath'] == 1].shape[0]\n",
    "    head_ache_cnt = df[df['head_ache'] == 1].shape[0]\n",
    "    total = fever_cnt+cough_cnt+sore_throat_cnt+shortness_of_breath_cnt+head_ache_cnt\n",
    "    \n",
    "    fever_percent = round(100 * fever_cnt / total, 1)\n",
    "    cough_percent = round(100 * cough_cnt / total, 1)\n",
    "    sore_throat_percent = round(100 * sore_throat_cnt / total, 1)\n",
    "    shortness_of_breath_percent = round(100 * shortness_of_breath_cnt / total, 1)\n",
    "    head_ache_percent = round(100 * head_ache_cnt / total, 1)\n",
    "    \n",
    "    return fever_percent, cough_percent, sore_throat_percent, shortness_of_breath_percent, head_ache_percent"
   ]
  },
  {
   "cell_type": "code",
   "execution_count": 62,
   "id": "f099b601",
   "metadata": {},
   "outputs": [
    {
     "data": {
      "image/png": "[encoded data removed]",
      "text/plain": [
       "<Figure size 720x360 with 3 Axes>"
      ]
     },
     "metadata": {},
     "output_type": "display_data"
    }
   ],
   "source": [
    "ratio1 = [*cnt_has_symptom(df_israel_covid)]\n",
    "ratio2 = [*cnt_has_symptom(df_israel_covid_p)]\n",
    "ratio3 = [*cnt_has_symptom(df_israel_covid_n)]\n",
    "\n",
    "font_color = '#525252'\n",
    "colors = ['#f7ecb0', '#ffb3e6', '#99ff99', '#66b3ff', '#c7b3fb','#ff6666']\n",
    "labels = ['Cough', 'Fever', 'Sore throat', 'Shortness of breath', 'Headache']\n",
    "title = 'Symptom Ratio'\n",
    "\n",
    "fig, axes = plt.subplots(1, 3, figsize=(10, 5), facecolor='#e8f4f0')\n",
    "\n",
    "ax = axes[0]\n",
    "ax.pie(ratio1, labels=[str(v) + '%' for v in ratio1], \\\n",
    "        wedgeprops=dict(width=.5), \\\n",
    "        colors=colors, startangle=30, \\\n",
    "        textprops={'color':font_color})\n",
    "ax.set_title('All', fontsize=17, color=font_color)\n",
    "\n",
    "ax = axes[1]\n",
    "ax.pie(ratio2, labels=[str(v) + '%' for v in ratio2], \\\n",
    "        wedgeprops=dict(width=.5), \\\n",
    "        colors=colors, startangle=30, \\\n",
    "        textprops={'color':font_color})\n",
    "ax.set_title('Positive', fontsize=17, color=font_color)\n",
    "\n",
    "ax = axes[2]\n",
    "ax.pie(ratio3, labels=[str(v) + '%' for v in ratio3], \\\n",
    "        wedgeprops=dict(width=.5), \\\n",
    "        colors=colors, startangle=30, \\\n",
    "        textprops={'color':font_color})\n",
    "ax.set_title('Negative', fontsize=17, color=font_color)\n",
    "\n",
    "legend = plt.legend(labels, \n",
    "                        bbox_to_anchor=(1.3, .87), # Legend position\n",
    "                        loc='lower left',  \n",
    "                        ncol=1,\n",
    "                        fontsize=13,\n",
    "                        fancybox=True)\n",
    "title = fig.suptitle('Ratio of symptom', y=.95, fontsize=22, color=font_color)\n",
    "\n",
    "\n",
    "if SAVE_FLAG: plt.savefig(f'{pic_path}/코로나검진결과에따른증상비율.png')"
   ]
  },
  {
   "cell_type": "markdown",
   "id": "71444e31",
   "metadata": {},
   "source": [
    "## 양성 음성에 따른 증상 갯수 차이 비교"
   ]
  },
  {
   "cell_type": "code",
   "execution_count": 63,
   "id": "152d567e",
   "metadata": {},
   "outputs": [],
   "source": [
    "# pos_list = [0] * 6\n",
    "# for idx, row in df_israel_covid_p.iterrows():\n",
    "#     cnt_idx = row['cough'] + row['fever'] + row['sore_throat'] + \\\n",
    "#             + row['shortness_of_breath'] + row['head_ache']\n",
    "#     pos_list[cnt_idx] += 1\n",
    "# print(pos_list)"
   ]
  },
  {
   "cell_type": "code",
   "execution_count": 64,
   "id": "f0bb65fa",
   "metadata": {},
   "outputs": [],
   "source": [
    "# df_pos_symnum = pd.DataFrame(pos_list, columns= ['# of people'])\n",
    "# df_pos_symnum = df_pos_symnum.reset_index()\n",
    "# df_pos_symnum = df_pos_symnum.rename(columns={'index': '# of symptoms'})"
   ]
  },
  {
   "cell_type": "code",
   "execution_count": 65,
   "id": "e88d4bda",
   "metadata": {},
   "outputs": [],
   "source": [
    "# sns.set(style=\"darkgrid\")\n",
    "# g = sns.barplot(data= df_pos_symnum, x= \"# of symptoms\", y=\"# of people\", palette='pastel')\n",
    "# for p in g.patches:\n",
    "#         g.annotate(int(p.get_height()), (p.get_x()+0.03, p.get_height()+ 10))\n",
    "# g.set_title('Positive')\n",
    "# if SAVE_FLAG: plt.savefig(f'{pic_path}/양성_증상갯수분포.png')"
   ]
  },
  {
   "cell_type": "code",
   "execution_count": 66,
   "id": "61658a2c",
   "metadata": {},
   "outputs": [
    {
     "name": "stdout",
     "output_type": "stream",
     "text": [
      "0.5479434156402605 0.23920961084836875 0.14578895424394364 0.05148635437786836 0.013474133164099776 0.0020975317254589955\n"
     ]
    }
   ],
   "source": [
    "print(234848/428599, 102525/428599, 62485/428599, 22067/428599, 5775/428599, 899/428599)"
   ]
  },
  {
   "cell_type": "code",
   "execution_count": 67,
   "id": "9f31a11a",
   "metadata": {},
   "outputs": [],
   "source": [
    "# neg_list = [0] * 6\n",
    "# for idx, row in df_israel_covid_n.iterrows():\n",
    "#     cnt_idx = row['cough'] + row['fever'] + row['sore_throat'] + \\\n",
    "#             + row['shortness_of_breath'] + row['head_ache']\n",
    "#     neg_list[cnt_idx] += 1\n",
    "# print(neg_list)"
   ]
  },
  {
   "cell_type": "code",
   "execution_count": 68,
   "id": "c7f352b3",
   "metadata": {},
   "outputs": [],
   "source": [
    "# neg_list"
   ]
  },
  {
   "cell_type": "code",
   "execution_count": 69,
   "id": "b6c6d0b5",
   "metadata": {},
   "outputs": [],
   "source": [
    "# df_neg_symnum = pd.DataFrame(neg_list, columns= ['# of people'])\n",
    "# df_neg_symnum = df_neg_symnum.reset_index()\n",
    "# df_neg_symnum = df_neg_symnum.rename(columns={'index': '# of symptoms'})"
   ]
  },
  {
   "cell_type": "code",
   "execution_count": 70,
   "id": "fa78b83a",
   "metadata": {},
   "outputs": [],
   "source": [
    "# sns.set(style=\"darkgrid\")\n",
    "# g = sns.barplot(data= df_neg_symnum, x= \"# of symptoms\", y=\"# of people\", palette='pastel')\n",
    "# for p in g.patches:\n",
    "#         g.annotate(int(p.get_height()), (p.get_x()+0.01, p.get_height()+ 10))\n",
    "# g.set_title('Negative')\n",
    "# if SAVE_FLAG: plt.savefig(f'{pic_path}/음성_증상갯수분포.png')"
   ]
  },
  {
   "cell_type": "code",
   "execution_count": 71,
   "id": "0e91068d",
   "metadata": {},
   "outputs": [],
   "source": [
    "def count_has_symptom(df):\n",
    "    cough_cnt = df[df['cough'] == 1].shape[0]\n",
    "    fever_cnt = df[df['fever'] == 1].shape[0]\n",
    "    sore_throat_cnt = df[df['sore_throat'] == 1].shape[0]\n",
    "    shortness_of_breath_cnt = df[df['shortness_of_breath'] == 1].shape[0]\n",
    "    head_ache_cnt = df[df['head_ache'] == 1].shape[0]\n",
    "    \n",
    "    return cough_cnt, fever_cnt, sore_throat_cnt, shortness_of_breath_cnt, head_ache_cnt"
   ]
  },
  {
   "cell_type": "code",
   "execution_count": 72,
   "id": "88d4d6b4",
   "metadata": {},
   "outputs": [],
   "source": [
    "dz_names = ['Cough', 'Fever', 'Sore th', 'short bre', 'Headache']\n",
    "pos_symp_nums = [*count_has_symptom(df_israel_covid_p)]\n",
    "neg_symp_nums = [*count_has_symptom(df_israel_covid_n)]\n",
    "\n",
    "rowss = []\n",
    "# df_for_symptoms_vis.index = df_for_symptoms_vis.index + 1\n",
    "rowss.append([[dz_name, pos_symp_num, 'Positive'] for dz_name, pos_symp_num in zip(dz_names, pos_symp_nums)])\n",
    "rowss.append([[dz_name, neg_symp_num, 'Negative'] for dz_name, neg_symp_num in zip(dz_names, neg_symp_nums)])\n",
    "\n",
    "df_for_symptoms_vis = pd.DataFrame(columns=['Symptom', '# of Symptoms', 'Corona result'])\n",
    "for rows in rowss:\n",
    "    for row in rows:\n",
    "        df_for_symptoms_vis.loc[-1] = row\n",
    "        df_for_symptoms_vis.index = df_for_symptoms_vis.index + 1"
   ]
  },
  {
   "cell_type": "code",
   "execution_count": 73,
   "id": "b53251ac",
   "metadata": {},
   "outputs": [
    {
     "data": {
      "text/html": [
       "<div>\n",
       "<style scoped>\n",
       "    .dataframe tbody tr th:only-of-type {\n",
       "        vertical-align: middle;\n",
       "    }\n",
       "\n",
       "    .dataframe tbody tr th {\n",
       "        vertical-align: top;\n",
       "    }\n",
       "\n",
       "    .dataframe thead th {\n",
       "        text-align: right;\n",
       "    }\n",
       "</style>\n",
       "<table border=\"1\" class=\"dataframe\">\n",
       "  <thead>\n",
       "    <tr style=\"text-align: right;\">\n",
       "      <th></th>\n",
       "      <th>Symptom</th>\n",
       "      <th># of Symptoms</th>\n",
       "      <th>Corona result</th>\n",
       "    </tr>\n",
       "  </thead>\n",
       "  <tbody>\n",
       "    <tr>\n",
       "      <th>9</th>\n",
       "      <td>Cough</td>\n",
       "      <td>101607</td>\n",
       "      <td>Positive</td>\n",
       "    </tr>\n",
       "    <tr>\n",
       "      <th>8</th>\n",
       "      <td>Fever</td>\n",
       "      <td>92231</td>\n",
       "      <td>Positive</td>\n",
       "    </tr>\n",
       "    <tr>\n",
       "      <th>7</th>\n",
       "      <td>Sore th</td>\n",
       "      <td>46109</td>\n",
       "      <td>Positive</td>\n",
       "    </tr>\n",
       "    <tr>\n",
       "      <th>6</th>\n",
       "      <td>short bre</td>\n",
       "      <td>13756</td>\n",
       "      <td>Positive</td>\n",
       "    </tr>\n",
       "    <tr>\n",
       "      <th>5</th>\n",
       "      <td>Headache</td>\n",
       "      <td>95976</td>\n",
       "      <td>Positive</td>\n",
       "    </tr>\n",
       "    <tr>\n",
       "      <th>4</th>\n",
       "      <td>Cough</td>\n",
       "      <td>182740</td>\n",
       "      <td>Negative</td>\n",
       "    </tr>\n",
       "    <tr>\n",
       "      <th>3</th>\n",
       "      <td>Fever</td>\n",
       "      <td>131794</td>\n",
       "      <td>Negative</td>\n",
       "    </tr>\n",
       "    <tr>\n",
       "      <th>2</th>\n",
       "      <td>Sore th</td>\n",
       "      <td>60050</td>\n",
       "      <td>Negative</td>\n",
       "    </tr>\n",
       "    <tr>\n",
       "      <th>1</th>\n",
       "      <td>short bre</td>\n",
       "      <td>13615</td>\n",
       "      <td>Negative</td>\n",
       "    </tr>\n",
       "    <tr>\n",
       "      <th>0</th>\n",
       "      <td>Headache</td>\n",
       "      <td>121729</td>\n",
       "      <td>Negative</td>\n",
       "    </tr>\n",
       "  </tbody>\n",
       "</table>\n",
       "</div>"
      ],
      "text/plain": [
       "     Symptom # of Symptoms Corona result\n",
       "9      Cough        101607      Positive\n",
       "8      Fever         92231      Positive\n",
       "7    Sore th         46109      Positive\n",
       "6  short bre         13756      Positive\n",
       "5   Headache         95976      Positive\n",
       "4      Cough        182740      Negative\n",
       "3      Fever        131794      Negative\n",
       "2    Sore th         60050      Negative\n",
       "1  short bre         13615      Negative\n",
       "0   Headache        121729      Negative"
      ]
     },
     "execution_count": 73,
     "metadata": {},
     "output_type": "execute_result"
    }
   ],
   "source": [
    "df_for_symptoms_vis"
   ]
  },
  {
   "cell_type": "code",
   "execution_count": 74,
   "id": "f49d2417",
   "metadata": {},
   "outputs": [
    {
     "name": "stderr",
     "output_type": "stream",
     "text": [
      "/home/md/anaconda3/envs/flu_screening/lib/python3.8/site-packages/seaborn/categorical.py:3714: UserWarning: The `factorplot` function has been renamed to `catplot`. The original name will be removed in a future release. Please update your code. Note that the default `kind` in `factorplot` (`'point'`) has changed `'strip'` in `catplot`.\n",
      "  warnings.warn(msg)\n"
     ]
    },
    {
     "data": {
      "text/plain": [
       "<Figure size 720x720 with 0 Axes>"
      ]
     },
     "metadata": {},
     "output_type": "display_data"
    },
    {
     "data": {
      "image/png": "[encoded data removed]",
      "text/plain": [
       "<Figure size 449.675x360 with 1 Axes>"
      ]
     },
     "metadata": {},
     "output_type": "display_data"
    }
   ],
   "source": [
    "plt.figure(figsize = (10,10))\n",
    "sns.factorplot(x='Symptom', y='# of Symptoms', hue='Corona result', data=df_for_symptoms_vis, kind='bar', palette='pastel')\n",
    "if SAVE_FLAG: plt.savefig(f'{pic_path}/코로나검진결과분포by증상.png')"
   ]
  },
  {
   "cell_type": "markdown",
   "id": "5d254dfb",
   "metadata": {},
   "source": [
    "## rulebasemodel preprocessing"
   ]
  },
  {
   "cell_type": "code",
   "execution_count": 75,
   "id": "11d10f4d",
   "metadata": {},
   "outputs": [],
   "source": [
    "df_rulebase = pd.read_excel('rulebasemodel_chart.xlsx')"
   ]
  },
  {
   "cell_type": "code",
   "execution_count": 76,
   "id": "e285f34b",
   "metadata": {},
   "outputs": [
    {
     "data": {
      "text/html": [
       "<div>\n",
       "<style scoped>\n",
       "    .dataframe tbody tr th:only-of-type {\n",
       "        vertical-align: middle;\n",
       "    }\n",
       "\n",
       "    .dataframe tbody tr th {\n",
       "        vertical-align: top;\n",
       "    }\n",
       "\n",
       "    .dataframe thead th {\n",
       "        text-align: right;\n",
       "    }\n",
       "</style>\n",
       "<table border=\"1\" class=\"dataframe\">\n",
       "  <thead>\n",
       "    <tr style=\"text-align: right;\">\n",
       "      <th></th>\n",
       "      <th>cough</th>\n",
       "      <th>fever</th>\n",
       "      <th>sore_throat</th>\n",
       "      <th>shortness_of_breath</th>\n",
       "      <th>head_ache</th>\n",
       "      <th>sex</th>\n",
       "      <th>result</th>\n",
       "      <th>cough_2</th>\n",
       "      <th>fever_2</th>\n",
       "      <th>sore_throat_2</th>\n",
       "      <th>...</th>\n",
       "      <th>sex_2</th>\n",
       "      <th>result_2</th>\n",
       "      <th>Unnamed: 14</th>\n",
       "      <th>Unnamed: 15</th>\n",
       "      <th>Unnamed: 16</th>\n",
       "      <th>sex</th>\n",
       "      <th>male: 0, female:1, dontknow -1</th>\n",
       "      <th>Unnamed: 19</th>\n",
       "      <th>Unnamed: 20</th>\n",
       "      <th>설문에는 있는데, 남녀 차이가 없이 결과가 나온다</th>\n",
       "    </tr>\n",
       "  </thead>\n",
       "  <tbody>\n",
       "    <tr>\n",
       "      <th>0</th>\n",
       "      <td>0</td>\n",
       "      <td>0</td>\n",
       "      <td>0</td>\n",
       "      <td>0</td>\n",
       "      <td>0</td>\n",
       "      <td>-1</td>\n",
       "      <td>0</td>\n",
       "      <td>0</td>\n",
       "      <td>0</td>\n",
       "      <td>0</td>\n",
       "      <td>...</td>\n",
       "      <td>-1</td>\n",
       "      <td>0</td>\n",
       "      <td>NaN</td>\n",
       "      <td>NaN</td>\n",
       "      <td>NaN</td>\n",
       "      <td>result</td>\n",
       "      <td>LOW: 0, MEDIUM: 1, HIGH=2 VERY LOW:3</td>\n",
       "      <td>NaN</td>\n",
       "      <td>NaN</td>\n",
       "      <td>NaN</td>\n",
       "    </tr>\n",
       "    <tr>\n",
       "      <th>1</th>\n",
       "      <td>1</td>\n",
       "      <td>0</td>\n",
       "      <td>0</td>\n",
       "      <td>0</td>\n",
       "      <td>0</td>\n",
       "      <td>-1</td>\n",
       "      <td>1</td>\n",
       "      <td>1</td>\n",
       "      <td>0</td>\n",
       "      <td>0</td>\n",
       "      <td>...</td>\n",
       "      <td>-1</td>\n",
       "      <td>0</td>\n",
       "      <td>NaN</td>\n",
       "      <td>NaN</td>\n",
       "      <td>NaN</td>\n",
       "      <td>test_indication</td>\n",
       "      <td>contact:1 non contact 0</td>\n",
       "      <td>NaN</td>\n",
       "      <td>NaN</td>\n",
       "      <td>contact이면 무조건 HIGH 나와서 제외</td>\n",
       "    </tr>\n",
       "    <tr>\n",
       "      <th>2</th>\n",
       "      <td>0</td>\n",
       "      <td>1</td>\n",
       "      <td>0</td>\n",
       "      <td>0</td>\n",
       "      <td>0</td>\n",
       "      <td>-1</td>\n",
       "      <td>1</td>\n",
       "      <td>0</td>\n",
       "      <td>1</td>\n",
       "      <td>0</td>\n",
       "      <td>...</td>\n",
       "      <td>-1</td>\n",
       "      <td>0</td>\n",
       "      <td>NaN</td>\n",
       "      <td>NaN</td>\n",
       "      <td>NaN</td>\n",
       "      <td>NaN</td>\n",
       "      <td>NaN</td>\n",
       "      <td>NaN</td>\n",
       "      <td>NaN</td>\n",
       "      <td>NaN</td>\n",
       "    </tr>\n",
       "    <tr>\n",
       "      <th>3</th>\n",
       "      <td>0</td>\n",
       "      <td>0</td>\n",
       "      <td>1</td>\n",
       "      <td>0</td>\n",
       "      <td>0</td>\n",
       "      <td>-1</td>\n",
       "      <td>1</td>\n",
       "      <td>0</td>\n",
       "      <td>0</td>\n",
       "      <td>1</td>\n",
       "      <td>...</td>\n",
       "      <td>-1</td>\n",
       "      <td>1</td>\n",
       "      <td>NaN</td>\n",
       "      <td>NaN</td>\n",
       "      <td>NaN</td>\n",
       "      <td>NaN</td>\n",
       "      <td>NaN</td>\n",
       "      <td>NaN</td>\n",
       "      <td>NaN</td>\n",
       "      <td>NaN</td>\n",
       "    </tr>\n",
       "    <tr>\n",
       "      <th>4</th>\n",
       "      <td>0</td>\n",
       "      <td>0</td>\n",
       "      <td>0</td>\n",
       "      <td>1</td>\n",
       "      <td>0</td>\n",
       "      <td>-1</td>\n",
       "      <td>1</td>\n",
       "      <td>0</td>\n",
       "      <td>0</td>\n",
       "      <td>0</td>\n",
       "      <td>...</td>\n",
       "      <td>-1</td>\n",
       "      <td>2</td>\n",
       "      <td>NaN</td>\n",
       "      <td>NaN</td>\n",
       "      <td>NaN</td>\n",
       "      <td>NaN</td>\n",
       "      <td>NaN</td>\n",
       "      <td>NaN</td>\n",
       "      <td>NaN</td>\n",
       "      <td>NaN</td>\n",
       "    </tr>\n",
       "  </tbody>\n",
       "</table>\n",
       "<p>5 rows × 22 columns</p>\n",
       "</div>"
      ],
      "text/plain": [
       "   cough  fever  sore_throat  shortness_of_breath  head_ache  sex  result  \\\n",
       "0      0      0            0                    0          0   -1       0   \n",
       "1      1      0            0                    0          0   -1       1   \n",
       "2      0      1            0                    0          0   -1       1   \n",
       "3      0      0            1                    0          0   -1       1   \n",
       "4      0      0            0                    1          0   -1       1   \n",
       "\n",
       "   cough_2  fever_2  sore_throat_2  ...  sex_2  result_2  Unnamed: 14  \\\n",
       "0        0        0              0  ...     -1         0          NaN   \n",
       "1        1        0              0  ...     -1         0          NaN   \n",
       "2        0        1              0  ...     -1         0          NaN   \n",
       "3        0        0              1  ...     -1         1          NaN   \n",
       "4        0        0              0  ...     -1         2          NaN   \n",
       "\n",
       "   Unnamed: 15  Unnamed: 16              sex   \\\n",
       "0          NaN          NaN            result   \n",
       "1          NaN          NaN  test_indication    \n",
       "2          NaN          NaN               NaN   \n",
       "3          NaN          NaN               NaN   \n",
       "4          NaN          NaN               NaN   \n",
       "\n",
       "         male: 0, female:1, dontknow -1 Unnamed: 19 Unnamed: 20  \\\n",
       "0  LOW: 0, MEDIUM: 1, HIGH=2 VERY LOW:3         NaN         NaN   \n",
       "1               contact:1 non contact 0         NaN         NaN   \n",
       "2                                   NaN         NaN         NaN   \n",
       "3                                   NaN         NaN         NaN   \n",
       "4                                   NaN         NaN         NaN   \n",
       "\n",
       "   설문에는 있는데, 남녀 차이가 없이 결과가 나온다  \n",
       "0                          NaN  \n",
       "1    contact이면 무조건 HIGH 나와서 제외  \n",
       "2                          NaN  \n",
       "3                          NaN  \n",
       "4                          NaN  \n",
       "\n",
       "[5 rows x 22 columns]"
      ]
     },
     "execution_count": 76,
     "metadata": {},
     "output_type": "execute_result"
    }
   ],
   "source": [
    "df_rulebase.head(5)"
   ]
  },
  {
   "cell_type": "code",
   "execution_count": 77,
   "id": "eba2a0bb",
   "metadata": {},
   "outputs": [],
   "source": [
    "df_symtoma_rule = df_rulebase[['cough', 'fever', 'sore_throat', 'shortness_of_breath', 'head_ache', 'result']]\n",
    "df_shine1_rule  = df_rulebase[['cough_2', 'fever_2', 'sore_throat_2', 'shortness_of_breath_2', 'head_ache_2', 'result_2']]"
   ]
  },
  {
   "cell_type": "code",
   "execution_count": 78,
   "id": "55ef8282",
   "metadata": {},
   "outputs": [],
   "source": [
    "df_shine1_rule = df_shine1_rule.rename(columns={'cough_2': 'cough', 'fever_2': 'fever', 'sore_throat_2': 'sore_throat', 'shortness_of_breath_2': 'shortness_of_breath', 'head_ache_2': 'head_ache', 'result_2': 'result'})"
   ]
  },
  {
   "cell_type": "code",
   "execution_count": 79,
   "id": "dc02b704",
   "metadata": {},
   "outputs": [
    {
     "data": {
      "text/html": [
       "<div>\n",
       "<style scoped>\n",
       "    .dataframe tbody tr th:only-of-type {\n",
       "        vertical-align: middle;\n",
       "    }\n",
       "\n",
       "    .dataframe tbody tr th {\n",
       "        vertical-align: top;\n",
       "    }\n",
       "\n",
       "    .dataframe thead th {\n",
       "        text-align: right;\n",
       "    }\n",
       "</style>\n",
       "<table border=\"1\" class=\"dataframe\">\n",
       "  <thead>\n",
       "    <tr style=\"text-align: right;\">\n",
       "      <th></th>\n",
       "      <th>cough</th>\n",
       "      <th>fever</th>\n",
       "      <th>sore_throat</th>\n",
       "      <th>shortness_of_breath</th>\n",
       "      <th>head_ache</th>\n",
       "      <th>result</th>\n",
       "    </tr>\n",
       "  </thead>\n",
       "  <tbody>\n",
       "    <tr>\n",
       "      <th>0</th>\n",
       "      <td>0</td>\n",
       "      <td>0</td>\n",
       "      <td>0</td>\n",
       "      <td>0</td>\n",
       "      <td>0</td>\n",
       "      <td>0</td>\n",
       "    </tr>\n",
       "    <tr>\n",
       "      <th>1</th>\n",
       "      <td>1</td>\n",
       "      <td>0</td>\n",
       "      <td>0</td>\n",
       "      <td>0</td>\n",
       "      <td>0</td>\n",
       "      <td>1</td>\n",
       "    </tr>\n",
       "    <tr>\n",
       "      <th>2</th>\n",
       "      <td>0</td>\n",
       "      <td>1</td>\n",
       "      <td>0</td>\n",
       "      <td>0</td>\n",
       "      <td>0</td>\n",
       "      <td>1</td>\n",
       "    </tr>\n",
       "    <tr>\n",
       "      <th>3</th>\n",
       "      <td>0</td>\n",
       "      <td>0</td>\n",
       "      <td>1</td>\n",
       "      <td>0</td>\n",
       "      <td>0</td>\n",
       "      <td>1</td>\n",
       "    </tr>\n",
       "    <tr>\n",
       "      <th>4</th>\n",
       "      <td>0</td>\n",
       "      <td>0</td>\n",
       "      <td>0</td>\n",
       "      <td>1</td>\n",
       "      <td>0</td>\n",
       "      <td>1</td>\n",
       "    </tr>\n",
       "  </tbody>\n",
       "</table>\n",
       "</div>"
      ],
      "text/plain": [
       "   cough  fever  sore_throat  shortness_of_breath  head_ache  result\n",
       "0      0      0            0                    0          0       0\n",
       "1      1      0            0                    0          0       1\n",
       "2      0      1            0                    0          0       1\n",
       "3      0      0            1                    0          0       1\n",
       "4      0      0            0                    1          0       1"
      ]
     },
     "metadata": {},
     "output_type": "display_data"
    },
    {
     "data": {
      "text/html": [
       "<div>\n",
       "<style scoped>\n",
       "    .dataframe tbody tr th:only-of-type {\n",
       "        vertical-align: middle;\n",
       "    }\n",
       "\n",
       "    .dataframe tbody tr th {\n",
       "        vertical-align: top;\n",
       "    }\n",
       "\n",
       "    .dataframe thead th {\n",
       "        text-align: right;\n",
       "    }\n",
       "</style>\n",
       "<table border=\"1\" class=\"dataframe\">\n",
       "  <thead>\n",
       "    <tr style=\"text-align: right;\">\n",
       "      <th></th>\n",
       "      <th>cough</th>\n",
       "      <th>fever</th>\n",
       "      <th>sore_throat</th>\n",
       "      <th>shortness_of_breath</th>\n",
       "      <th>head_ache</th>\n",
       "      <th>result</th>\n",
       "    </tr>\n",
       "  </thead>\n",
       "  <tbody>\n",
       "    <tr>\n",
       "      <th>0</th>\n",
       "      <td>0</td>\n",
       "      <td>0</td>\n",
       "      <td>0</td>\n",
       "      <td>0</td>\n",
       "      <td>0</td>\n",
       "      <td>0</td>\n",
       "    </tr>\n",
       "    <tr>\n",
       "      <th>1</th>\n",
       "      <td>1</td>\n",
       "      <td>0</td>\n",
       "      <td>0</td>\n",
       "      <td>0</td>\n",
       "      <td>0</td>\n",
       "      <td>0</td>\n",
       "    </tr>\n",
       "    <tr>\n",
       "      <th>2</th>\n",
       "      <td>0</td>\n",
       "      <td>1</td>\n",
       "      <td>0</td>\n",
       "      <td>0</td>\n",
       "      <td>0</td>\n",
       "      <td>0</td>\n",
       "    </tr>\n",
       "    <tr>\n",
       "      <th>3</th>\n",
       "      <td>0</td>\n",
       "      <td>0</td>\n",
       "      <td>1</td>\n",
       "      <td>0</td>\n",
       "      <td>0</td>\n",
       "      <td>1</td>\n",
       "    </tr>\n",
       "    <tr>\n",
       "      <th>4</th>\n",
       "      <td>0</td>\n",
       "      <td>0</td>\n",
       "      <td>0</td>\n",
       "      <td>1</td>\n",
       "      <td>0</td>\n",
       "      <td>2</td>\n",
       "    </tr>\n",
       "  </tbody>\n",
       "</table>\n",
       "</div>"
      ],
      "text/plain": [
       "   cough  fever  sore_throat  shortness_of_breath  head_ache  result\n",
       "0      0      0            0                    0          0       0\n",
       "1      1      0            0                    0          0       0\n",
       "2      0      1            0                    0          0       0\n",
       "3      0      0            1                    0          0       1\n",
       "4      0      0            0                    1          0       2"
      ]
     },
     "metadata": {},
     "output_type": "display_data"
    }
   ],
   "source": [
    "display(df_symtoma_rule.head(5))\n",
    "display(df_shine1_rule.head(5))"
   ]
  },
  {
   "cell_type": "markdown",
   "id": "9f4d74b2",
   "metadata": {},
   "source": [
    "## model input preprocessing"
   ]
  },
  {
   "cell_type": "code",
   "execution_count": 80,
   "id": "440a79e4",
   "metadata": {},
   "outputs": [],
   "source": [
    "# other 빼버림\n",
    "df_israel_covid_without_o = df_israel_covid[df_israel_covid['corona_result'] != -1]"
   ]
  },
  {
   "cell_type": "code",
   "execution_count": 81,
   "id": "224d8130",
   "metadata": {},
   "outputs": [
    {
     "data": {
      "text/plain": [
       "6776916"
      ]
     },
     "execution_count": 81,
     "metadata": {},
     "output_type": "execute_result"
    }
   ],
   "source": [
    "df_israel_covid_without_o.shape[0]"
   ]
  },
  {
   "cell_type": "code",
   "execution_count": 82,
   "id": "e28d2805",
   "metadata": {},
   "outputs": [],
   "source": [
    "# 성별 없는 사람들 빼버림\n",
    "df_israel_covid_without_o = df_israel_covid_without_o[df_israel_covid_without_o['gender'] != -1]"
   ]
  },
  {
   "cell_type": "code",
   "execution_count": 83,
   "id": "44724662",
   "metadata": {},
   "outputs": [
    {
     "data": {
      "text/plain": [
       "6275088"
      ]
     },
     "execution_count": 83,
     "metadata": {},
     "output_type": "execute_result"
    }
   ],
   "source": [
    "df_israel_covid_without_o.shape[0]"
   ]
  },
  {
   "cell_type": "code",
   "execution_count": 84,
   "id": "0b4c853a",
   "metadata": {},
   "outputs": [],
   "source": [
    "df_israel_covid_without_o = df_israel_covid_without_o.sort_values(['test_date']).reset_index(drop=True)"
   ]
  },
  {
   "cell_type": "code",
   "execution_count": 85,
   "id": "e5048d3a",
   "metadata": {},
   "outputs": [
    {
     "data": {
      "text/plain": [
       "'2020-03-11'"
      ]
     },
     "execution_count": 85,
     "metadata": {},
     "output_type": "execute_result"
    }
   ],
   "source": [
    "df_israel_covid_without_o['test_date'].min()"
   ]
  },
  {
   "cell_type": "code",
   "execution_count": 86,
   "id": "49d79058",
   "metadata": {},
   "outputs": [],
   "source": [
    "# # week_num 이라는 칼럼을 새로 만들었다. 1년에 52주라 \n",
    "# def date_to_weeknum_map(test_date):\n",
    "#     week_num_st_idx = 52\n",
    "#     year_last_num = int(test_date[2:4])\n",
    "#     week_num = datetime.date(int(test_date[:4]), int(test_date[5:7]), int(test_date[8:])).isocalendar()[1]\n",
    "#     return week_num_st_idx * year_last_num + week_num"
   ]
  },
  {
   "cell_type": "markdown",
   "id": "b34caf3f",
   "metadata": {},
   "source": [
    "# Add 2nd degree data\n",
    "추가 feature\n",
    "- new_contact_with_confirmed\n",
    "- positive_ratio\n",
    "- weekday_ratio\n",
    "- confirmed_ratio"
   ]
  },
  {
   "cell_type": "code",
   "execution_count": 87,
   "id": "501d4295",
   "metadata": {},
   "outputs": [],
   "source": [
    "df_israel_covid_without_o['new_contact_with_confirmed'] = df_israel_covid_without_o['new_contact_with_confirmed'].astype(int)"
   ]
  },
  {
   "cell_type": "code",
   "execution_count": 88,
   "id": "4ad75571",
   "metadata": {},
   "outputs": [],
   "source": [
    "df_israel_covid_without_o['contact'] = df_israel_covid_without_o['new_contact_with_confirmed'] / 36903"
   ]
  },
  {
   "cell_type": "code",
   "execution_count": 89,
   "id": "6846cb89",
   "metadata": {},
   "outputs": [],
   "source": [
    "df_confirm_by_sampling = df_israel_covid_without_o[df_israel_covid_without_o['corona_result'] == 1].groupby('test_date').count().reset_index()[['test_date', 'date']]\n",
    "df_confirm_by_sampling = df_confirm_by_sampling.rename(columns={'test_date': 'yesterday', 'date': 'positive_cnt'})"
   ]
  },
  {
   "cell_type": "code",
   "execution_count": 90,
   "id": "e93dde46",
   "metadata": {},
   "outputs": [],
   "source": [
    "df_israel_covid_without_o = pd.merge(df_israel_covid_without_o, df_confirm_by_sampling, how='left', left_on='date', right_on='yesterday')"
   ]
  },
  {
   "cell_type": "code",
   "execution_count": 91,
   "id": "1f87a28d",
   "metadata": {},
   "outputs": [
    {
     "data": {
      "text/plain": [
       "6275088"
      ]
     },
     "execution_count": 91,
     "metadata": {},
     "output_type": "execute_result"
    }
   ],
   "source": [
    "df_israel_covid_without_o.shape[0]"
   ]
  },
  {
   "cell_type": "code",
   "execution_count": 92,
   "id": "746a21e6",
   "metadata": {},
   "outputs": [],
   "source": [
    "df_israel_covid_without_o = df_israel_covid_without_o[~df_israel_covid_without_o['positive_cnt'].isnull()]"
   ]
  },
  {
   "cell_type": "code",
   "execution_count": 93,
   "id": "4ae1e8a5",
   "metadata": {},
   "outputs": [],
   "source": [
    "df_israel_covid_without_o['positive_cnt'] = df_israel_covid_without_o['positive_cnt'].astype(int)"
   ]
  },
  {
   "cell_type": "code",
   "execution_count": 94,
   "id": "e0e212b5",
   "metadata": {},
   "outputs": [],
   "source": [
    "df_israel_covid_without_o['positive_ratio'] = df_israel_covid_without_o['positive_cnt'] / df_israel_covid_without_o['positive_cnt'].max()"
   ]
  },
  {
   "cell_type": "code",
   "execution_count": 95,
   "id": "ebd3988d",
   "metadata": {},
   "outputs": [],
   "source": [
    "df_israel_covid_without_o['weekday_ratio'] = df_israel_covid_without_o['weekday'] / 6"
   ]
  },
  {
   "cell_type": "code",
   "execution_count": 96,
   "id": "295fc6ec",
   "metadata": {},
   "outputs": [],
   "source": [
    "df_israel_covid_without_o['confirmed_ratio'] = df_israel_covid_without_o['confirmed_num'] / df_israel_covid_without_o['confirmed_num'].max()"
   ]
  },
  {
   "cell_type": "code",
   "execution_count": 97,
   "id": "af0bcdc3",
   "metadata": {},
   "outputs": [
    {
     "data": {
      "text/plain": [
       "11934.0"
      ]
     },
     "execution_count": 97,
     "metadata": {},
     "output_type": "execute_result"
    }
   ],
   "source": [
    "df_israel_covid_without_o['confirmed_num'].max()"
   ]
  },
  {
   "cell_type": "code",
   "execution_count": 98,
   "id": "b95c6648",
   "metadata": {},
   "outputs": [],
   "source": [
    "df_israel_covid_without_o['confirmed_ratio'] = df_israel_covid_without_o['confirmed_ratio'] * 100"
   ]
  },
  {
   "cell_type": "code",
   "execution_count": 99,
   "id": "dee92ddb",
   "metadata": {},
   "outputs": [
    {
     "data": {
      "text/plain": [
       "1485775"
      ]
     },
     "execution_count": 99,
     "metadata": {},
     "output_type": "execute_result"
    }
   ],
   "source": [
    "df_israel_covid_without_o[df_israel_covid_without_o['confirmed_num'] < 1000].shape[0]"
   ]
  },
  {
   "cell_type": "code",
   "execution_count": 100,
   "id": "956ddd79",
   "metadata": {},
   "outputs": [
    {
     "data": {
      "text/plain": [
       "2661085"
      ]
     },
     "execution_count": 100,
     "metadata": {},
     "output_type": "execute_result"
    }
   ],
   "source": [
    "df_israel_covid_without_o[df_israel_covid_without_o['confirmed_num'] < 2000].shape[0]"
   ]
  },
  {
   "cell_type": "code",
   "execution_count": 101,
   "id": "867fc034",
   "metadata": {},
   "outputs": [
    {
     "data": {
      "text/plain": [
       "3154933"
      ]
     },
     "execution_count": 101,
     "metadata": {},
     "output_type": "execute_result"
    }
   ],
   "source": [
    "df_israel_covid_without_o[df_israel_covid_without_o['confirmed_num'] < 3000].shape[0]"
   ]
  },
  {
   "cell_type": "code",
   "execution_count": 102,
   "id": "96d17764",
   "metadata": {},
   "outputs": [
    {
     "data": {
      "text/plain": [
       "3597657"
      ]
     },
     "execution_count": 102,
     "metadata": {},
     "output_type": "execute_result"
    }
   ],
   "source": [
    "df_israel_covid_without_o[df_israel_covid_without_o['confirmed_num'] < 4000].shape[0]"
   ]
  },
  {
   "cell_type": "code",
   "execution_count": 103,
   "id": "b4384b39",
   "metadata": {},
   "outputs": [
    {
     "data": {
      "text/plain": [
       "4086290"
      ]
     },
     "execution_count": 103,
     "metadata": {},
     "output_type": "execute_result"
    }
   ],
   "source": [
    "df_israel_covid_without_o[df_israel_covid_without_o['confirmed_num'] < 5000].shape[0]"
   ]
  },
  {
   "cell_type": "code",
   "execution_count": 104,
   "id": "774979ae",
   "metadata": {},
   "outputs": [
    {
     "data": {
      "text/plain": [
       "Index(['test_date', 'cough', 'fever', 'sore_throat', 'shortness_of_breath',\n",
       "       'head_ache', 'corona_result', 'age_60_and_above', 'gender',\n",
       "       'test_indication', 'weekday', 'date',\n",
       "       'isolated_today_contact_with_confirmed', 'isolated_today_abroad',\n",
       "       'new_contact_with_confirmed', 'new_from_abroad', 'join_date',\n",
       "       'confirmed_date', 'confirmed_numsum', 'confirmed_num', 'corona result',\n",
       "       'contact', 'yesterday', 'positive_cnt', 'positive_ratio',\n",
       "       'weekday_ratio', 'confirmed_ratio'],\n",
       "      dtype='object')"
      ]
     },
     "execution_count": 104,
     "metadata": {},
     "output_type": "execute_result"
    }
   ],
   "source": [
    "df_israel_covid_without_o.columns"
   ]
  },
  {
   "cell_type": "code",
   "execution_count": 105,
   "id": "d44f6454",
   "metadata": {},
   "outputs": [],
   "source": [
    "df_israel_covid_without_o = df_israel_covid_without_o[~df_israel_covid_without_o['confirmed_ratio'].isnull()]"
   ]
  },
  {
   "cell_type": "code",
   "execution_count": 106,
   "id": "dad5453e",
   "metadata": {},
   "outputs": [],
   "source": [
    "df_israel_covid_without_o['year'] = df_israel_covid_without_o['test_date'].apply(lambda x: int(x[:4]))\n",
    "df_israel_covid_without_o['month'] = df_israel_covid_without_o['test_date'].apply(lambda x: int(x[5:7]))\n",
    "df_israel_covid_without_o['day'] = df_israel_covid_without_o['test_date'].apply(lambda x: int(x[8:10]))"
   ]
  },
  {
   "cell_type": "code",
   "execution_count": 107,
   "id": "0c952ae9",
   "metadata": {},
   "outputs": [],
   "source": [
    "# 여기서 내가 사용할 feature 고르기\n",
    "df_input_only_symptom = df_israel_covid_without_o[['cough', 'fever', 'sore_throat', 'shortness_of_breath', 'head_ache', 'corona_result']]\n",
    "df_input = df_israel_covid_without_o[['cough', 'fever', 'sore_throat', 'shortness_of_breath', 'head_ache', 'gender', 'confirmed_ratio', 'test_indication', 'corona_result']]\n",
    "\n",
    "raw_datas_only_symptom = df_input_only_symptom.values\n",
    "raw_datas = df_input.values"
   ]
  },
  {
   "cell_type": "code",
   "execution_count": 108,
   "id": "4239b5ef",
   "metadata": {},
   "outputs": [
    {
     "data": {
      "text/plain": [
       "10110"
      ]
     },
     "execution_count": 108,
     "metadata": {},
     "output_type": "execute_result"
    }
   ],
   "source": [
    "df_input[df_input['confirmed_ratio'] < 0.05].shape[0]"
   ]
  },
  {
   "cell_type": "code",
   "execution_count": 109,
   "id": "474c63fc",
   "metadata": {},
   "outputs": [
    {
     "data": {
      "text/plain": [
       "10110"
      ]
     },
     "execution_count": 109,
     "metadata": {},
     "output_type": "execute_result"
    }
   ],
   "source": [
    "df_input[df_input['confirmed_ratio'] < 0.1].shape[0]"
   ]
  },
  {
   "cell_type": "code",
   "execution_count": 110,
   "id": "2f401b1d",
   "metadata": {},
   "outputs": [
    {
     "data": {
      "text/plain": [
       "12358"
      ]
     },
     "execution_count": 110,
     "metadata": {},
     "output_type": "execute_result"
    }
   ],
   "source": [
    "df_input[df_input['confirmed_ratio'] < 0.15].shape[0]"
   ]
  },
  {
   "cell_type": "code",
   "execution_count": 111,
   "id": "806ed190",
   "metadata": {},
   "outputs": [
    {
     "data": {
      "text/plain": [
       "12990"
      ]
     },
     "execution_count": 111,
     "metadata": {},
     "output_type": "execute_result"
    }
   ],
   "source": [
    "df_input[df_input['confirmed_ratio'] < 0.2].shape[0]"
   ]
  },
  {
   "cell_type": "code",
   "execution_count": 112,
   "id": "6506dd95",
   "metadata": {},
   "outputs": [
    {
     "data": {
      "text/plain": [
       "5332923"
      ]
     },
     "execution_count": 112,
     "metadata": {},
     "output_type": "execute_result"
    }
   ],
   "source": [
    "df_input[df_input['confirmed_ratio'] >= 0.2].shape[0]"
   ]
  },
  {
   "cell_type": "code",
   "execution_count": 113,
   "id": "7f0c08b0",
   "metadata": {},
   "outputs": [
    {
     "data": {
      "text/html": [
       "<div>\n",
       "<style scoped>\n",
       "    .dataframe tbody tr th:only-of-type {\n",
       "        vertical-align: middle;\n",
       "    }\n",
       "\n",
       "    .dataframe tbody tr th {\n",
       "        vertical-align: top;\n",
       "    }\n",
       "\n",
       "    .dataframe thead th {\n",
       "        text-align: right;\n",
       "    }\n",
       "</style>\n",
       "<table border=\"1\" class=\"dataframe\">\n",
       "  <thead>\n",
       "    <tr style=\"text-align: right;\">\n",
       "      <th></th>\n",
       "      <th>test_date</th>\n",
       "      <th>cough</th>\n",
       "      <th>fever</th>\n",
       "      <th>sore_throat</th>\n",
       "      <th>shortness_of_breath</th>\n",
       "      <th>head_ache</th>\n",
       "      <th>corona_result</th>\n",
       "      <th>age_60_and_above</th>\n",
       "      <th>gender</th>\n",
       "      <th>test_indication</th>\n",
       "      <th>...</th>\n",
       "      <th>corona result</th>\n",
       "      <th>contact</th>\n",
       "      <th>yesterday</th>\n",
       "      <th>positive_cnt</th>\n",
       "      <th>positive_ratio</th>\n",
       "      <th>weekday_ratio</th>\n",
       "      <th>confirmed_ratio</th>\n",
       "      <th>year</th>\n",
       "      <th>month</th>\n",
       "      <th>day</th>\n",
       "    </tr>\n",
       "  </thead>\n",
       "  <tbody>\n",
       "    <tr>\n",
       "      <th>361</th>\n",
       "      <td>2020-03-12</td>\n",
       "      <td>1</td>\n",
       "      <td>1</td>\n",
       "      <td>1</td>\n",
       "      <td>1</td>\n",
       "      <td>0</td>\n",
       "      <td>0</td>\n",
       "      <td>-1</td>\n",
       "      <td>1</td>\n",
       "      <td>0</td>\n",
       "      <td>...</td>\n",
       "      <td>Negative</td>\n",
       "      <td>0.056174</td>\n",
       "      <td>2020-03-11</td>\n",
       "      <td>42</td>\n",
       "      <td>0.007795</td>\n",
       "      <td>0.5</td>\n",
       "      <td>0.175968</td>\n",
       "      <td>2020</td>\n",
       "      <td>3</td>\n",
       "      <td>12</td>\n",
       "    </tr>\n",
       "    <tr>\n",
       "      <th>362</th>\n",
       "      <td>2020-03-12</td>\n",
       "      <td>0</td>\n",
       "      <td>0</td>\n",
       "      <td>0</td>\n",
       "      <td>0</td>\n",
       "      <td>0</td>\n",
       "      <td>0</td>\n",
       "      <td>-1</td>\n",
       "      <td>0</td>\n",
       "      <td>0</td>\n",
       "      <td>...</td>\n",
       "      <td>Negative</td>\n",
       "      <td>0.056174</td>\n",
       "      <td>2020-03-11</td>\n",
       "      <td>42</td>\n",
       "      <td>0.007795</td>\n",
       "      <td>0.5</td>\n",
       "      <td>0.175968</td>\n",
       "      <td>2020</td>\n",
       "      <td>3</td>\n",
       "      <td>12</td>\n",
       "    </tr>\n",
       "    <tr>\n",
       "      <th>363</th>\n",
       "      <td>2020-03-12</td>\n",
       "      <td>0</td>\n",
       "      <td>0</td>\n",
       "      <td>0</td>\n",
       "      <td>0</td>\n",
       "      <td>0</td>\n",
       "      <td>0</td>\n",
       "      <td>-1</td>\n",
       "      <td>1</td>\n",
       "      <td>0</td>\n",
       "      <td>...</td>\n",
       "      <td>Negative</td>\n",
       "      <td>0.056174</td>\n",
       "      <td>2020-03-11</td>\n",
       "      <td>42</td>\n",
       "      <td>0.007795</td>\n",
       "      <td>0.5</td>\n",
       "      <td>0.175968</td>\n",
       "      <td>2020</td>\n",
       "      <td>3</td>\n",
       "      <td>12</td>\n",
       "    </tr>\n",
       "    <tr>\n",
       "      <th>364</th>\n",
       "      <td>2020-03-12</td>\n",
       "      <td>0</td>\n",
       "      <td>0</td>\n",
       "      <td>0</td>\n",
       "      <td>0</td>\n",
       "      <td>0</td>\n",
       "      <td>0</td>\n",
       "      <td>-1</td>\n",
       "      <td>1</td>\n",
       "      <td>0</td>\n",
       "      <td>...</td>\n",
       "      <td>Negative</td>\n",
       "      <td>0.056174</td>\n",
       "      <td>2020-03-11</td>\n",
       "      <td>42</td>\n",
       "      <td>0.007795</td>\n",
       "      <td>0.5</td>\n",
       "      <td>0.175968</td>\n",
       "      <td>2020</td>\n",
       "      <td>3</td>\n",
       "      <td>12</td>\n",
       "    </tr>\n",
       "    <tr>\n",
       "      <th>365</th>\n",
       "      <td>2020-03-12</td>\n",
       "      <td>0</td>\n",
       "      <td>0</td>\n",
       "      <td>0</td>\n",
       "      <td>0</td>\n",
       "      <td>0</td>\n",
       "      <td>0</td>\n",
       "      <td>-1</td>\n",
       "      <td>1</td>\n",
       "      <td>0</td>\n",
       "      <td>...</td>\n",
       "      <td>Negative</td>\n",
       "      <td>0.056174</td>\n",
       "      <td>2020-03-11</td>\n",
       "      <td>42</td>\n",
       "      <td>0.007795</td>\n",
       "      <td>0.5</td>\n",
       "      <td>0.175968</td>\n",
       "      <td>2020</td>\n",
       "      <td>3</td>\n",
       "      <td>12</td>\n",
       "    </tr>\n",
       "    <tr>\n",
       "      <th>...</th>\n",
       "      <td>...</td>\n",
       "      <td>...</td>\n",
       "      <td>...</td>\n",
       "      <td>...</td>\n",
       "      <td>...</td>\n",
       "      <td>...</td>\n",
       "      <td>...</td>\n",
       "      <td>...</td>\n",
       "      <td>...</td>\n",
       "      <td>...</td>\n",
       "      <td>...</td>\n",
       "      <td>...</td>\n",
       "      <td>...</td>\n",
       "      <td>...</td>\n",
       "      <td>...</td>\n",
       "      <td>...</td>\n",
       "      <td>...</td>\n",
       "      <td>...</td>\n",
       "      <td>...</td>\n",
       "      <td>...</td>\n",
       "      <td>...</td>\n",
       "    </tr>\n",
       "    <tr>\n",
       "      <th>5375922</th>\n",
       "      <td>2021-04-22</td>\n",
       "      <td>0</td>\n",
       "      <td>0</td>\n",
       "      <td>0</td>\n",
       "      <td>0</td>\n",
       "      <td>0</td>\n",
       "      <td>0</td>\n",
       "      <td>-1</td>\n",
       "      <td>1</td>\n",
       "      <td>0</td>\n",
       "      <td>...</td>\n",
       "      <td>Negative</td>\n",
       "      <td>0.018237</td>\n",
       "      <td>2021-04-21</td>\n",
       "      <td>42</td>\n",
       "      <td>0.007795</td>\n",
       "      <td>0.5</td>\n",
       "      <td>2.639517</td>\n",
       "      <td>2021</td>\n",
       "      <td>4</td>\n",
       "      <td>22</td>\n",
       "    </tr>\n",
       "    <tr>\n",
       "      <th>5375923</th>\n",
       "      <td>2021-04-22</td>\n",
       "      <td>0</td>\n",
       "      <td>0</td>\n",
       "      <td>0</td>\n",
       "      <td>0</td>\n",
       "      <td>0</td>\n",
       "      <td>0</td>\n",
       "      <td>-1</td>\n",
       "      <td>1</td>\n",
       "      <td>0</td>\n",
       "      <td>...</td>\n",
       "      <td>Negative</td>\n",
       "      <td>0.018237</td>\n",
       "      <td>2021-04-21</td>\n",
       "      <td>42</td>\n",
       "      <td>0.007795</td>\n",
       "      <td>0.5</td>\n",
       "      <td>2.639517</td>\n",
       "      <td>2021</td>\n",
       "      <td>4</td>\n",
       "      <td>22</td>\n",
       "    </tr>\n",
       "    <tr>\n",
       "      <th>5375924</th>\n",
       "      <td>2021-04-22</td>\n",
       "      <td>0</td>\n",
       "      <td>0</td>\n",
       "      <td>0</td>\n",
       "      <td>0</td>\n",
       "      <td>0</td>\n",
       "      <td>0</td>\n",
       "      <td>-1</td>\n",
       "      <td>0</td>\n",
       "      <td>0</td>\n",
       "      <td>...</td>\n",
       "      <td>Negative</td>\n",
       "      <td>0.018237</td>\n",
       "      <td>2021-04-21</td>\n",
       "      <td>42</td>\n",
       "      <td>0.007795</td>\n",
       "      <td>0.5</td>\n",
       "      <td>2.639517</td>\n",
       "      <td>2021</td>\n",
       "      <td>4</td>\n",
       "      <td>22</td>\n",
       "    </tr>\n",
       "    <tr>\n",
       "      <th>5375925</th>\n",
       "      <td>2021-04-22</td>\n",
       "      <td>0</td>\n",
       "      <td>0</td>\n",
       "      <td>0</td>\n",
       "      <td>0</td>\n",
       "      <td>0</td>\n",
       "      <td>0</td>\n",
       "      <td>-1</td>\n",
       "      <td>0</td>\n",
       "      <td>0</td>\n",
       "      <td>...</td>\n",
       "      <td>Negative</td>\n",
       "      <td>0.018237</td>\n",
       "      <td>2021-04-21</td>\n",
       "      <td>42</td>\n",
       "      <td>0.007795</td>\n",
       "      <td>0.5</td>\n",
       "      <td>2.639517</td>\n",
       "      <td>2021</td>\n",
       "      <td>4</td>\n",
       "      <td>22</td>\n",
       "    </tr>\n",
       "    <tr>\n",
       "      <th>5375926</th>\n",
       "      <td>2021-04-22</td>\n",
       "      <td>0</td>\n",
       "      <td>0</td>\n",
       "      <td>0</td>\n",
       "      <td>0</td>\n",
       "      <td>0</td>\n",
       "      <td>0</td>\n",
       "      <td>-1</td>\n",
       "      <td>0</td>\n",
       "      <td>0</td>\n",
       "      <td>...</td>\n",
       "      <td>Negative</td>\n",
       "      <td>0.018237</td>\n",
       "      <td>2021-04-21</td>\n",
       "      <td>42</td>\n",
       "      <td>0.007795</td>\n",
       "      <td>0.5</td>\n",
       "      <td>2.639517</td>\n",
       "      <td>2021</td>\n",
       "      <td>4</td>\n",
       "      <td>22</td>\n",
       "    </tr>\n",
       "  </tbody>\n",
       "</table>\n",
       "<p>5345913 rows × 30 columns</p>\n",
       "</div>"
      ],
      "text/plain": [
       "          test_date  cough  fever  sore_throat  shortness_of_breath  \\\n",
       "361      2020-03-12      1      1            1                    1   \n",
       "362      2020-03-12      0      0            0                    0   \n",
       "363      2020-03-12      0      0            0                    0   \n",
       "364      2020-03-12      0      0            0                    0   \n",
       "365      2020-03-12      0      0            0                    0   \n",
       "...             ...    ...    ...          ...                  ...   \n",
       "5375922  2021-04-22      0      0            0                    0   \n",
       "5375923  2021-04-22      0      0            0                    0   \n",
       "5375924  2021-04-22      0      0            0                    0   \n",
       "5375925  2021-04-22      0      0            0                    0   \n",
       "5375926  2021-04-22      0      0            0                    0   \n",
       "\n",
       "         head_ache  corona_result  age_60_and_above  gender  test_indication  \\\n",
       "361              0              0                -1       1                0   \n",
       "362              0              0                -1       0                0   \n",
       "363              0              0                -1       1                0   \n",
       "364              0              0                -1       1                0   \n",
       "365              0              0                -1       1                0   \n",
       "...            ...            ...               ...     ...              ...   \n",
       "5375922          0              0                -1       1                0   \n",
       "5375923          0              0                -1       1                0   \n",
       "5375924          0              0                -1       0                0   \n",
       "5375925          0              0                -1       0                0   \n",
       "5375926          0              0                -1       0                0   \n",
       "\n",
       "         ...  corona result   contact   yesterday  positive_cnt  \\\n",
       "361      ...       Negative  0.056174  2020-03-11            42   \n",
       "362      ...       Negative  0.056174  2020-03-11            42   \n",
       "363      ...       Negative  0.056174  2020-03-11            42   \n",
       "364      ...       Negative  0.056174  2020-03-11            42   \n",
       "365      ...       Negative  0.056174  2020-03-11            42   \n",
       "...      ...            ...       ...         ...           ...   \n",
       "5375922  ...       Negative  0.018237  2021-04-21            42   \n",
       "5375923  ...       Negative  0.018237  2021-04-21            42   \n",
       "5375924  ...       Negative  0.018237  2021-04-21            42   \n",
       "5375925  ...       Negative  0.018237  2021-04-21            42   \n",
       "5375926  ...       Negative  0.018237  2021-04-21            42   \n",
       "\n",
       "         positive_ratio weekday_ratio confirmed_ratio  year  month  day  \n",
       "361            0.007795           0.5        0.175968  2020      3   12  \n",
       "362            0.007795           0.5        0.175968  2020      3   12  \n",
       "363            0.007795           0.5        0.175968  2020      3   12  \n",
       "364            0.007795           0.5        0.175968  2020      3   12  \n",
       "365            0.007795           0.5        0.175968  2020      3   12  \n",
       "...                 ...           ...             ...   ...    ...  ...  \n",
       "5375922        0.007795           0.5        2.639517  2021      4   22  \n",
       "5375923        0.007795           0.5        2.639517  2021      4   22  \n",
       "5375924        0.007795           0.5        2.639517  2021      4   22  \n",
       "5375925        0.007795           0.5        2.639517  2021      4   22  \n",
       "5375926        0.007795           0.5        2.639517  2021      4   22  \n",
       "\n",
       "[5345913 rows x 30 columns]"
      ]
     },
     "execution_count": 113,
     "metadata": {},
     "output_type": "execute_result"
    }
   ],
   "source": [
    "df_israel_covid_without_o"
   ]
  },
  {
   "cell_type": "code",
   "execution_count": 114,
   "id": "e9cab160",
   "metadata": {},
   "outputs": [
    {
     "data": {
      "text/html": [
       "<div>\n",
       "<style scoped>\n",
       "    .dataframe tbody tr th:only-of-type {\n",
       "        vertical-align: middle;\n",
       "    }\n",
       "\n",
       "    .dataframe tbody tr th {\n",
       "        vertical-align: top;\n",
       "    }\n",
       "\n",
       "    .dataframe thead th {\n",
       "        text-align: right;\n",
       "    }\n",
       "</style>\n",
       "<table border=\"1\" class=\"dataframe\">\n",
       "  <thead>\n",
       "    <tr style=\"text-align: right;\">\n",
       "      <th></th>\n",
       "      <th>cough</th>\n",
       "      <th>fever</th>\n",
       "      <th>sore_throat</th>\n",
       "      <th>shortness_of_breath</th>\n",
       "      <th>head_ache</th>\n",
       "      <th>gender</th>\n",
       "      <th>confirmed_ratio</th>\n",
       "      <th>test_indication</th>\n",
       "      <th>corona_result</th>\n",
       "    </tr>\n",
       "  </thead>\n",
       "  <tbody>\n",
       "    <tr>\n",
       "      <th>count</th>\n",
       "      <td>5.345913e+06</td>\n",
       "      <td>5.345913e+06</td>\n",
       "      <td>5.345913e+06</td>\n",
       "      <td>5.345913e+06</td>\n",
       "      <td>5.345913e+06</td>\n",
       "      <td>5.345913e+06</td>\n",
       "      <td>5.345913e+06</td>\n",
       "      <td>5.345913e+06</td>\n",
       "      <td>5.345913e+06</td>\n",
       "    </tr>\n",
       "    <tr>\n",
       "      <th>mean</th>\n",
       "      <td>4.963493e-02</td>\n",
       "      <td>3.851017e-02</td>\n",
       "      <td>1.842978e-02</td>\n",
       "      <td>4.828174e-03</td>\n",
       "      <td>3.798640e-02</td>\n",
       "      <td>5.207305e-01</td>\n",
       "      <td>2.597199e+01</td>\n",
       "      <td>1.719158e-01</td>\n",
       "      <td>7.944592e-02</td>\n",
       "    </tr>\n",
       "    <tr>\n",
       "      <th>std</th>\n",
       "      <td>2.171896e-01</td>\n",
       "      <td>1.924244e-01</td>\n",
       "      <td>1.344995e-01</td>\n",
       "      <td>6.931713e-02</td>\n",
       "      <td>1.911634e-01</td>\n",
       "      <td>4.995701e-01</td>\n",
       "      <td>2.258918e+01</td>\n",
       "      <td>5.568187e-01</td>\n",
       "      <td>2.704335e-01</td>\n",
       "    </tr>\n",
       "    <tr>\n",
       "      <th>min</th>\n",
       "      <td>0.000000e+00</td>\n",
       "      <td>0.000000e+00</td>\n",
       "      <td>0.000000e+00</td>\n",
       "      <td>0.000000e+00</td>\n",
       "      <td>0.000000e+00</td>\n",
       "      <td>0.000000e+00</td>\n",
       "      <td>0.000000e+00</td>\n",
       "      <td>0.000000e+00</td>\n",
       "      <td>0.000000e+00</td>\n",
       "    </tr>\n",
       "    <tr>\n",
       "      <th>25%</th>\n",
       "      <td>0.000000e+00</td>\n",
       "      <td>0.000000e+00</td>\n",
       "      <td>0.000000e+00</td>\n",
       "      <td>0.000000e+00</td>\n",
       "      <td>0.000000e+00</td>\n",
       "      <td>0.000000e+00</td>\n",
       "      <td>7.315234e+00</td>\n",
       "      <td>0.000000e+00</td>\n",
       "      <td>0.000000e+00</td>\n",
       "    </tr>\n",
       "    <tr>\n",
       "      <th>50%</th>\n",
       "      <td>0.000000e+00</td>\n",
       "      <td>0.000000e+00</td>\n",
       "      <td>0.000000e+00</td>\n",
       "      <td>0.000000e+00</td>\n",
       "      <td>0.000000e+00</td>\n",
       "      <td>1.000000e+00</td>\n",
       "      <td>1.680912e+01</td>\n",
       "      <td>0.000000e+00</td>\n",
       "      <td>0.000000e+00</td>\n",
       "    </tr>\n",
       "    <tr>\n",
       "      <th>75%</th>\n",
       "      <td>0.000000e+00</td>\n",
       "      <td>0.000000e+00</td>\n",
       "      <td>0.000000e+00</td>\n",
       "      <td>0.000000e+00</td>\n",
       "      <td>0.000000e+00</td>\n",
       "      <td>1.000000e+00</td>\n",
       "      <td>4.026311e+01</td>\n",
       "      <td>0.000000e+00</td>\n",
       "      <td>0.000000e+00</td>\n",
       "    </tr>\n",
       "    <tr>\n",
       "      <th>max</th>\n",
       "      <td>1.000000e+00</td>\n",
       "      <td>1.000000e+00</td>\n",
       "      <td>1.000000e+00</td>\n",
       "      <td>1.000000e+00</td>\n",
       "      <td>1.000000e+00</td>\n",
       "      <td>1.000000e+00</td>\n",
       "      <td>1.000000e+02</td>\n",
       "      <td>2.000000e+00</td>\n",
       "      <td>1.000000e+00</td>\n",
       "    </tr>\n",
       "  </tbody>\n",
       "</table>\n",
       "</div>"
      ],
      "text/plain": [
       "              cough         fever   sore_throat  shortness_of_breath  \\\n",
       "count  5.345913e+06  5.345913e+06  5.345913e+06         5.345913e+06   \n",
       "mean   4.963493e-02  3.851017e-02  1.842978e-02         4.828174e-03   \n",
       "std    2.171896e-01  1.924244e-01  1.344995e-01         6.931713e-02   \n",
       "min    0.000000e+00  0.000000e+00  0.000000e+00         0.000000e+00   \n",
       "25%    0.000000e+00  0.000000e+00  0.000000e+00         0.000000e+00   \n",
       "50%    0.000000e+00  0.000000e+00  0.000000e+00         0.000000e+00   \n",
       "75%    0.000000e+00  0.000000e+00  0.000000e+00         0.000000e+00   \n",
       "max    1.000000e+00  1.000000e+00  1.000000e+00         1.000000e+00   \n",
       "\n",
       "          head_ache        gender  confirmed_ratio  test_indication  \\\n",
       "count  5.345913e+06  5.345913e+06     5.345913e+06     5.345913e+06   \n",
       "mean   3.798640e-02  5.207305e-01     2.597199e+01     1.719158e-01   \n",
       "std    1.911634e-01  4.995701e-01     2.258918e+01     5.568187e-01   \n",
       "min    0.000000e+00  0.000000e+00     0.000000e+00     0.000000e+00   \n",
       "25%    0.000000e+00  0.000000e+00     7.315234e+00     0.000000e+00   \n",
       "50%    0.000000e+00  1.000000e+00     1.680912e+01     0.000000e+00   \n",
       "75%    0.000000e+00  1.000000e+00     4.026311e+01     0.000000e+00   \n",
       "max    1.000000e+00  1.000000e+00     1.000000e+02     2.000000e+00   \n",
       "\n",
       "       corona_result  \n",
       "count   5.345913e+06  \n",
       "mean    7.944592e-02  \n",
       "std     2.704335e-01  \n",
       "min     0.000000e+00  \n",
       "25%     0.000000e+00  \n",
       "50%     0.000000e+00  \n",
       "75%     0.000000e+00  \n",
       "max     1.000000e+00  "
      ]
     },
     "execution_count": 114,
     "metadata": {},
     "output_type": "execute_result"
    }
   ],
   "source": [
    "df_input.describe()"
   ]
  },
  {
   "cell_type": "code",
   "execution_count": 141,
   "id": "c5534eee",
   "metadata": {},
   "outputs": [],
   "source": [
    "def split_train_test(data, test_ratio):\n",
    "    shuffled_indices = np.random.permutation(len(data)).astype(int)\n",
    "    test_set_size = int(len(data) * test_ratio)\n",
    "    \n",
    "    test_indices = shuffled_indices[:test_set_size]\n",
    "    train_indices = shuffled_indices[test_set_size:]\n",
    "    \n",
    "    print(len(data))\n",
    "    print(test_indices.dtype)\n",
    "    print(train_indices.dtype)\n",
    "    \n",
    "    test_data = data[:test_set_size]\n",
    "    train_data = data[test_set_size:]\n",
    "    test_data = data[test_indices]\n",
    "    train_data = data[train_indices]\n",
    "    \n",
    "    return train_data, test_data"
   ]
  },
  {
   "cell_type": "code",
   "execution_count": 142,
   "id": "d96e5428",
   "metadata": {},
   "outputs": [],
   "source": [
    "def split_input_gt(non_split_data):\n",
    "    splited_input = non_split_data[:, :-1]\n",
    "    splited_gt = non_split_data[:, -1]\n",
    "    \n",
    "    return splited_input, splited_gt"
   ]
  },
  {
   "cell_type": "code",
   "execution_count": 143,
   "id": "b96a71aa",
   "metadata": {},
   "outputs": [
    {
     "name": "stdout",
     "output_type": "stream",
     "text": [
      "5345913\n",
      "int64\n",
      "int64\n",
      "4276731\n",
      "int64\n",
      "int64\n"
     ]
    }
   ],
   "source": [
    "not_test_datas, test_datas = split_train_test(raw_datas, test_ratio=0.2)\n",
    "train_datas, valid_datas = split_train_test(not_test_datas, test_ratio=0.2)\n",
    "\n",
    "train_input, train_gt = split_input_gt(train_datas)\n",
    "valid_input, valid_gt = split_input_gt(valid_datas)\n",
    "test_input, test_gt = split_input_gt(test_datas)"
   ]
  },
  {
   "cell_type": "code",
   "execution_count": 144,
   "id": "9397f2b4",
   "metadata": {},
   "outputs": [
    {
     "name": "stdout",
     "output_type": "stream",
     "text": [
      "5345913\n",
      "int64\n",
      "int64\n",
      "4276731\n",
      "int64\n",
      "int64\n"
     ]
    }
   ],
   "source": [
    "not_test_datas_only_symptom, test_datas_only_symptom = split_train_test(raw_datas_only_symptom, test_ratio=0.2)\n",
    "train_datas_only_symptom, valid_datas_only_symptom = split_train_test(not_test_datas_only_symptom, test_ratio=0.2)\n",
    "\n",
    "train_input_only_symptom, train_gt_only_symptom = split_input_gt(train_datas_only_symptom)\n",
    "valid_input_only_symptom, valid_gt_only_symptom = split_input_gt(valid_datas_only_symptom)\n",
    "test_input_only_symptom, test_gt_only_symptom = split_input_gt(train_datas_only_symptom)"
   ]
  },
  {
   "cell_type": "code",
   "execution_count": 145,
   "id": "68a0ad46",
   "metadata": {},
   "outputs": [
    {
     "name": "stdout",
     "output_type": "stream",
     "text": [
      "(3421385, 8) (3421385,) (855346, 8) (855346,) (1069182, 8) (1069182,)\n"
     ]
    }
   ],
   "source": [
    "print(train_input.shape, train_gt.shape, valid_input.shape, valid_gt.shape, test_input.shape, test_gt.shape)"
   ]
  },
  {
   "cell_type": "code",
   "execution_count": 146,
   "id": "1876e371",
   "metadata": {},
   "outputs": [
    {
     "name": "stdout",
     "output_type": "stream",
     "text": [
      "(3421385, 5) (3421385,) (855346, 5) (855346,) (3421385, 5) (3421385,)\n"
     ]
    }
   ],
   "source": [
    "print(train_input_only_symptom.shape, train_gt_only_symptom.shape, valid_input_only_symptom.shape, valid_gt_only_symptom.shape, test_input_only_symptom.shape, test_gt_only_symptom.shape)"
   ]
  },
  {
   "cell_type": "code",
   "execution_count": 147,
   "id": "5dd8c33c",
   "metadata": {},
   "outputs": [
    {
     "data": {
      "text/plain": [
       "(3421385, 8)"
      ]
     },
     "execution_count": 147,
     "metadata": {},
     "output_type": "execute_result"
    }
   ],
   "source": [
    "train_input.shape"
   ]
  },
  {
   "cell_type": "code",
   "execution_count": 148,
   "id": "028a6158",
   "metadata": {},
   "outputs": [],
   "source": [
    "from collections import defaultdict\n",
    "def rulebase_classifier(input_data, dict_rule):\n",
    "    result_by_rule = dict_rule[tuple(input_data)]\n",
    "    dict_return_value = defaultdict(int)\n",
    "    dict_return_value.update({\n",
    "        0: 0,\n",
    "        1: 0.3,\n",
    "        2: 0.8,\n",
    "    })\n",
    "    return dict_return_value[result_by_rule]"
   ]
  },
  {
   "cell_type": "code",
   "execution_count": 149,
   "id": "f777f9eb",
   "metadata": {},
   "outputs": [
    {
     "data": {
      "text/html": [
       "<div>\n",
       "<style scoped>\n",
       "    .dataframe tbody tr th:only-of-type {\n",
       "        vertical-align: middle;\n",
       "    }\n",
       "\n",
       "    .dataframe tbody tr th {\n",
       "        vertical-align: top;\n",
       "    }\n",
       "\n",
       "    .dataframe thead th {\n",
       "        text-align: right;\n",
       "    }\n",
       "</style>\n",
       "<table border=\"1\" class=\"dataframe\">\n",
       "  <thead>\n",
       "    <tr style=\"text-align: right;\">\n",
       "      <th></th>\n",
       "      <th>cough</th>\n",
       "      <th>fever</th>\n",
       "      <th>sore_throat</th>\n",
       "      <th>shortness_of_breath</th>\n",
       "      <th>head_ache</th>\n",
       "      <th>result</th>\n",
       "    </tr>\n",
       "  </thead>\n",
       "  <tbody>\n",
       "    <tr>\n",
       "      <th>0</th>\n",
       "      <td>0</td>\n",
       "      <td>0</td>\n",
       "      <td>0</td>\n",
       "      <td>0</td>\n",
       "      <td>0</td>\n",
       "      <td>0</td>\n",
       "    </tr>\n",
       "    <tr>\n",
       "      <th>1</th>\n",
       "      <td>1</td>\n",
       "      <td>0</td>\n",
       "      <td>0</td>\n",
       "      <td>0</td>\n",
       "      <td>0</td>\n",
       "      <td>1</td>\n",
       "    </tr>\n",
       "    <tr>\n",
       "      <th>2</th>\n",
       "      <td>0</td>\n",
       "      <td>1</td>\n",
       "      <td>0</td>\n",
       "      <td>0</td>\n",
       "      <td>0</td>\n",
       "      <td>1</td>\n",
       "    </tr>\n",
       "    <tr>\n",
       "      <th>3</th>\n",
       "      <td>0</td>\n",
       "      <td>0</td>\n",
       "      <td>1</td>\n",
       "      <td>0</td>\n",
       "      <td>0</td>\n",
       "      <td>1</td>\n",
       "    </tr>\n",
       "    <tr>\n",
       "      <th>4</th>\n",
       "      <td>0</td>\n",
       "      <td>0</td>\n",
       "      <td>0</td>\n",
       "      <td>1</td>\n",
       "      <td>0</td>\n",
       "      <td>1</td>\n",
       "    </tr>\n",
       "    <tr>\n",
       "      <th>5</th>\n",
       "      <td>0</td>\n",
       "      <td>0</td>\n",
       "      <td>0</td>\n",
       "      <td>0</td>\n",
       "      <td>1</td>\n",
       "      <td>0</td>\n",
       "    </tr>\n",
       "    <tr>\n",
       "      <th>6</th>\n",
       "      <td>1</td>\n",
       "      <td>1</td>\n",
       "      <td>0</td>\n",
       "      <td>0</td>\n",
       "      <td>0</td>\n",
       "      <td>1</td>\n",
       "    </tr>\n",
       "    <tr>\n",
       "      <th>7</th>\n",
       "      <td>1</td>\n",
       "      <td>0</td>\n",
       "      <td>1</td>\n",
       "      <td>0</td>\n",
       "      <td>0</td>\n",
       "      <td>1</td>\n",
       "    </tr>\n",
       "    <tr>\n",
       "      <th>8</th>\n",
       "      <td>1</td>\n",
       "      <td>0</td>\n",
       "      <td>0</td>\n",
       "      <td>1</td>\n",
       "      <td>0</td>\n",
       "      <td>1</td>\n",
       "    </tr>\n",
       "    <tr>\n",
       "      <th>9</th>\n",
       "      <td>1</td>\n",
       "      <td>0</td>\n",
       "      <td>0</td>\n",
       "      <td>0</td>\n",
       "      <td>1</td>\n",
       "      <td>1</td>\n",
       "    </tr>\n",
       "    <tr>\n",
       "      <th>10</th>\n",
       "      <td>0</td>\n",
       "      <td>1</td>\n",
       "      <td>1</td>\n",
       "      <td>0</td>\n",
       "      <td>0</td>\n",
       "      <td>1</td>\n",
       "    </tr>\n",
       "    <tr>\n",
       "      <th>11</th>\n",
       "      <td>0</td>\n",
       "      <td>1</td>\n",
       "      <td>0</td>\n",
       "      <td>1</td>\n",
       "      <td>0</td>\n",
       "      <td>1</td>\n",
       "    </tr>\n",
       "    <tr>\n",
       "      <th>12</th>\n",
       "      <td>0</td>\n",
       "      <td>1</td>\n",
       "      <td>0</td>\n",
       "      <td>0</td>\n",
       "      <td>1</td>\n",
       "      <td>1</td>\n",
       "    </tr>\n",
       "    <tr>\n",
       "      <th>13</th>\n",
       "      <td>0</td>\n",
       "      <td>0</td>\n",
       "      <td>1</td>\n",
       "      <td>1</td>\n",
       "      <td>0</td>\n",
       "      <td>2</td>\n",
       "    </tr>\n",
       "    <tr>\n",
       "      <th>14</th>\n",
       "      <td>0</td>\n",
       "      <td>0</td>\n",
       "      <td>1</td>\n",
       "      <td>0</td>\n",
       "      <td>1</td>\n",
       "      <td>1</td>\n",
       "    </tr>\n",
       "    <tr>\n",
       "      <th>15</th>\n",
       "      <td>0</td>\n",
       "      <td>0</td>\n",
       "      <td>0</td>\n",
       "      <td>1</td>\n",
       "      <td>1</td>\n",
       "      <td>1</td>\n",
       "    </tr>\n",
       "    <tr>\n",
       "      <th>16</th>\n",
       "      <td>1</td>\n",
       "      <td>1</td>\n",
       "      <td>1</td>\n",
       "      <td>0</td>\n",
       "      <td>0</td>\n",
       "      <td>1</td>\n",
       "    </tr>\n",
       "    <tr>\n",
       "      <th>17</th>\n",
       "      <td>1</td>\n",
       "      <td>1</td>\n",
       "      <td>0</td>\n",
       "      <td>1</td>\n",
       "      <td>0</td>\n",
       "      <td>1</td>\n",
       "    </tr>\n",
       "    <tr>\n",
       "      <th>18</th>\n",
       "      <td>1</td>\n",
       "      <td>1</td>\n",
       "      <td>0</td>\n",
       "      <td>0</td>\n",
       "      <td>1</td>\n",
       "      <td>1</td>\n",
       "    </tr>\n",
       "    <tr>\n",
       "      <th>19</th>\n",
       "      <td>1</td>\n",
       "      <td>0</td>\n",
       "      <td>1</td>\n",
       "      <td>1</td>\n",
       "      <td>0</td>\n",
       "      <td>2</td>\n",
       "    </tr>\n",
       "    <tr>\n",
       "      <th>20</th>\n",
       "      <td>1</td>\n",
       "      <td>0</td>\n",
       "      <td>1</td>\n",
       "      <td>0</td>\n",
       "      <td>1</td>\n",
       "      <td>1</td>\n",
       "    </tr>\n",
       "    <tr>\n",
       "      <th>21</th>\n",
       "      <td>1</td>\n",
       "      <td>0</td>\n",
       "      <td>0</td>\n",
       "      <td>1</td>\n",
       "      <td>1</td>\n",
       "      <td>1</td>\n",
       "    </tr>\n",
       "    <tr>\n",
       "      <th>22</th>\n",
       "      <td>0</td>\n",
       "      <td>1</td>\n",
       "      <td>1</td>\n",
       "      <td>1</td>\n",
       "      <td>0</td>\n",
       "      <td>1</td>\n",
       "    </tr>\n",
       "    <tr>\n",
       "      <th>23</th>\n",
       "      <td>0</td>\n",
       "      <td>1</td>\n",
       "      <td>1</td>\n",
       "      <td>0</td>\n",
       "      <td>1</td>\n",
       "      <td>1</td>\n",
       "    </tr>\n",
       "    <tr>\n",
       "      <th>24</th>\n",
       "      <td>0</td>\n",
       "      <td>1</td>\n",
       "      <td>0</td>\n",
       "      <td>1</td>\n",
       "      <td>1</td>\n",
       "      <td>2</td>\n",
       "    </tr>\n",
       "    <tr>\n",
       "      <th>25</th>\n",
       "      <td>0</td>\n",
       "      <td>0</td>\n",
       "      <td>1</td>\n",
       "      <td>1</td>\n",
       "      <td>1</td>\n",
       "      <td>2</td>\n",
       "    </tr>\n",
       "    <tr>\n",
       "      <th>26</th>\n",
       "      <td>1</td>\n",
       "      <td>1</td>\n",
       "      <td>1</td>\n",
       "      <td>1</td>\n",
       "      <td>0</td>\n",
       "      <td>2</td>\n",
       "    </tr>\n",
       "    <tr>\n",
       "      <th>27</th>\n",
       "      <td>1</td>\n",
       "      <td>1</td>\n",
       "      <td>1</td>\n",
       "      <td>0</td>\n",
       "      <td>1</td>\n",
       "      <td>1</td>\n",
       "    </tr>\n",
       "    <tr>\n",
       "      <th>28</th>\n",
       "      <td>1</td>\n",
       "      <td>1</td>\n",
       "      <td>0</td>\n",
       "      <td>1</td>\n",
       "      <td>1</td>\n",
       "      <td>2</td>\n",
       "    </tr>\n",
       "    <tr>\n",
       "      <th>29</th>\n",
       "      <td>1</td>\n",
       "      <td>0</td>\n",
       "      <td>1</td>\n",
       "      <td>1</td>\n",
       "      <td>1</td>\n",
       "      <td>2</td>\n",
       "    </tr>\n",
       "    <tr>\n",
       "      <th>30</th>\n",
       "      <td>0</td>\n",
       "      <td>1</td>\n",
       "      <td>1</td>\n",
       "      <td>1</td>\n",
       "      <td>1</td>\n",
       "      <td>2</td>\n",
       "    </tr>\n",
       "    <tr>\n",
       "      <th>31</th>\n",
       "      <td>1</td>\n",
       "      <td>1</td>\n",
       "      <td>1</td>\n",
       "      <td>1</td>\n",
       "      <td>1</td>\n",
       "      <td>2</td>\n",
       "    </tr>\n",
       "  </tbody>\n",
       "</table>\n",
       "</div>"
      ],
      "text/plain": [
       "    cough  fever  sore_throat  shortness_of_breath  head_ache  result\n",
       "0       0      0            0                    0          0       0\n",
       "1       1      0            0                    0          0       1\n",
       "2       0      1            0                    0          0       1\n",
       "3       0      0            1                    0          0       1\n",
       "4       0      0            0                    1          0       1\n",
       "5       0      0            0                    0          1       0\n",
       "6       1      1            0                    0          0       1\n",
       "7       1      0            1                    0          0       1\n",
       "8       1      0            0                    1          0       1\n",
       "9       1      0            0                    0          1       1\n",
       "10      0      1            1                    0          0       1\n",
       "11      0      1            0                    1          0       1\n",
       "12      0      1            0                    0          1       1\n",
       "13      0      0            1                    1          0       2\n",
       "14      0      0            1                    0          1       1\n",
       "15      0      0            0                    1          1       1\n",
       "16      1      1            1                    0          0       1\n",
       "17      1      1            0                    1          0       1\n",
       "18      1      1            0                    0          1       1\n",
       "19      1      0            1                    1          0       2\n",
       "20      1      0            1                    0          1       1\n",
       "21      1      0            0                    1          1       1\n",
       "22      0      1            1                    1          0       1\n",
       "23      0      1            1                    0          1       1\n",
       "24      0      1            0                    1          1       2\n",
       "25      0      0            1                    1          1       2\n",
       "26      1      1            1                    1          0       2\n",
       "27      1      1            1                    0          1       1\n",
       "28      1      1            0                    1          1       2\n",
       "29      1      0            1                    1          1       2\n",
       "30      0      1            1                    1          1       2\n",
       "31      1      1            1                    1          1       2"
      ]
     },
     "execution_count": 149,
     "metadata": {},
     "output_type": "execute_result"
    }
   ],
   "source": [
    "def get_preds_by_rule(input_datas, dict_rule):\n",
    "    preds = []\n",
    "    for idx, input_data in enumerate(input_datas):\n",
    "        preds.append(rulebase_classifier_2(input_data, dict_rule))\n",
    "#         preds = [rulebase_classifier(input_data, df_rule) for input_data in input_datas]\n",
    "    return np.array(preds, dtype=np.float64)\n",
    "\n",
    "df_symtoma_rule"
   ]
  },
  {
   "cell_type": "code",
   "execution_count": 150,
   "id": "fe5c122f",
   "metadata": {},
   "outputs": [],
   "source": [
    "def plot_roc_curve_for_dnn(fper, tper):\n",
    "    plt.plot(fper, tper, color='red', label='ROC')\n",
    "    plt.plot([0, 1], [0, 1], color='green', linestyle='--')\n",
    "    plt.xlabel('False Positive Rate')\n",
    "    plt.ylabel('True Positive Rate')\n",
    "    plt.title('Receiver Operating Characteristic Curve')\n",
    "    plt.legend()\n",
    "    plt.show()"
   ]
  },
  {
   "cell_type": "code",
   "execution_count": 151,
   "id": "3cb61079",
   "metadata": {},
   "outputs": [],
   "source": [
    "def get_preds_by_rule(input_datas, df_rule):\n",
    "    preds = []\n",
    "    for idx, input_data in enumerate(input_datas):\n",
    "        preds.append(rulebase_classifier(input_data, df_rule))\n",
    "#         preds = [rulebase_classifier(input_data, df_rule) for input_data in input_datas]\n",
    "    return np.array(preds, dtype=np.float64)"
   ]
  },
  {
   "cell_type": "code",
   "execution_count": 152,
   "id": "a8373d4b",
   "metadata": {},
   "outputs": [],
   "source": [
    "shine1_dict_rule = df_shine1_rule.set_index(['cough', 'fever', 'sore_throat', 'shortness_of_breath', 'head_ache']).to_dict()['result']\n",
    "symtoma_dict_rule = df_symtoma_rule.set_index(['cough', 'fever', 'sore_throat', 'shortness_of_breath', 'head_ache']).to_dict()['result']\n",
    "\n",
    "shine1_preds = get_preds_by_rule(valid_input_only_symptom, shine1_dict_rule)\n",
    "symtoma_preds = get_preds_by_rule(valid_input_only_symptom, symtoma_dict_rule)"
   ]
  },
  {
   "cell_type": "code",
   "execution_count": 153,
   "id": "124a0d65",
   "metadata": {},
   "outputs": [
    {
     "name": "stdout",
     "output_type": "stream",
     "text": [
      "0.6378494687689437\n"
     ]
    },
    {
     "data": {
      "image/png": "[encoded data removed]",
      "text/plain": [
       "<Figure size 432x288 with 1 Axes>"
      ]
     },
     "metadata": {},
     "output_type": "display_data"
    }
   ],
   "source": [
    "fper, tper, thresholds = roc_curve(valid_gt_only_symptom, shine1_preds)\n",
    "print(roc_auc_score(valid_gt_only_symptom, shine1_preds))\n",
    "plot_roc_curve_for_dnn(fper, tper)"
   ]
  },
  {
   "cell_type": "code",
   "execution_count": 154,
   "id": "b926a356",
   "metadata": {},
   "outputs": [
    {
     "name": "stdout",
     "output_type": "stream",
     "text": [
      "0.6634921446925337\n"
     ]
    },
    {
     "data": {
      "image/png": "[encoded data removed]",
      "text/plain": [
       "<Figure size 432x288 with 1 Axes>"
      ]
     },
     "metadata": {},
     "output_type": "display_data"
    }
   ],
   "source": [
    "fper, tper, thresholds = roc_curve(valid_gt_only_symptom, symtoma_preds)\n",
    "print(roc_auc_score(valid_gt_only_symptom, symtoma_preds))\n",
    "plot_roc_curve_for_dnn(fper, tper)"
   ]
  },
  {
   "cell_type": "code",
   "execution_count": 155,
   "id": "51d4da6d",
   "metadata": {},
   "outputs": [
    {
     "name": "stdout",
     "output_type": "stream",
     "text": [
      "# of train data positive:  271855.0\n",
      "# of train data negative:  3149530.0\n",
      "ratio of P/N:  0.08631605350639619\n",
      "\n",
      "# of valid data positive:  67848.0\n",
      "# of valid data negative:  787498.0\n",
      "ratio of P/N:  0.08615640928611883\n",
      "\n",
      "# of test data positive:  85008.0\n",
      "# of test data negative:  984174.0\n",
      "ratio of P/N:  0.08637497027964568\n"
     ]
    }
   ],
   "source": [
    "print(\"# of train data positive: \", train_gt.sum())\n",
    "print(\"# of train data negative: \", train_gt.shape[0] - train_gt.sum())\n",
    "print(\"ratio of P/N: \", train_gt.sum()/(train_gt.shape[0] - train_gt.sum()))\n",
    "print(\"\")\n",
    "\n",
    "print(\"# of valid data positive: \", valid_gt.sum())\n",
    "print(\"# of valid data negative: \", valid_gt.shape[0] - valid_gt.sum())\n",
    "print(\"ratio of P/N: \", valid_gt.sum()/(valid_gt.shape[0] - valid_gt.sum()))\n",
    "print(\"\")\n",
    "\n",
    "print(\"# of test data positive: \", test_gt.sum())\n",
    "print(\"# of test data negative: \", test_gt.shape[0] - test_gt.sum())\n",
    "print(\"ratio of P/N: \", test_gt.sum()/(test_gt.shape[0] - test_gt.sum()))"
   ]
  },
  {
   "cell_type": "code",
   "execution_count": 156,
   "id": "f0abc129",
   "metadata": {},
   "outputs": [],
   "source": [
    "class IsraelDataset(Dataset):\n",
    "    def __init__(self, input_data, gt, transform=None, target_transform=None):\n",
    "        self.input_data = input_data\n",
    "        self.gt = gt\n",
    "        self.transform = transform\n",
    "        self.target_transform = target_transform\n",
    "    \n",
    "    def __len__(self):\n",
    "        return len(self.input_data)\n",
    "    \n",
    "    def __getitem__(self, idx):\n",
    "        return self.input_data[idx], self.gt[idx]"
   ]
  },
  {
   "cell_type": "code",
   "execution_count": 157,
   "id": "60771561",
   "metadata": {},
   "outputs": [],
   "source": [
    "def plot_roc_curve_for_dnn(fper, tper):\n",
    "    plt.plot(fper, tper, color='red', label='ROC')\n",
    "    plt.plot([0, 1], [0, 1], color='green', linestyle='--')\n",
    "    plt.xlabel('False Positive Rate')\n",
    "    plt.ylabel('True Positive Rate')\n",
    "    plt.title('Receiver Operating Characteristic Curve')\n",
    "    plt.legend()\n",
    "    plt.show()"
   ]
  },
  {
   "cell_type": "code",
   "execution_count": 158,
   "id": "cea8c206",
   "metadata": {},
   "outputs": [],
   "source": [
    "def display_performance(clf, pred, valid_input, valid_gt, save_name=None):\n",
    "    pred = np.array(pred)\n",
    "\n",
    "    print('accuracy %.4f' % (accuracy_score(pred, valid_gt)))\n",
    "    print('precision %.4f' % (precision_score(pred, valid_gt)))\n",
    "    print('recall %.4f' % (recall_score(pred, valid_gt)))\n",
    "    print('f1-score %.4f' % (f1_score(pred, valid_gt)))\n",
    "    print(confusion_matrix(pred, valid_gt))\n",
    "    \n",
    "    plot_roc_curve(clf, valid_input, valid_gt)\n",
    "    \n",
    "    if save_name != None: plt.savefig(f'./eda_result/{save_name}.png')"
   ]
  },
  {
   "cell_type": "code",
   "execution_count": 159,
   "id": "1955c07b",
   "metadata": {},
   "outputs": [
    {
     "name": "stderr",
     "output_type": "stream",
     "text": [
      "/home/md/anaconda3/envs/flu_screening/lib/python3.8/site-packages/sklearn/linear_model/_logistic.py:763: ConvergenceWarning: lbfgs failed to converge (status=1):\n",
      "STOP: TOTAL NO. of ITERATIONS REACHED LIMIT.\n",
      "\n",
      "Increase the number of iterations (max_iter) or scale the data as shown in:\n",
      "    https://scikit-learn.org/stable/modules/preprocessing.html\n",
      "Please also refer to the documentation for alternative solver options:\n",
      "    https://scikit-learn.org/stable/modules/linear_model.html#logistic-regression\n",
      "  n_iter_i = _check_optimize_result(\n"
     ]
    }
   ],
   "source": [
    "from sklearn import tree\n",
    "from sklearn.tree import DecisionTreeClassifier\n",
    "from sklearn.linear_model import LogisticRegression\n",
    "from sklearn.metrics import accuracy_score, precision_score, recall_score, f1_score, confusion_matrix\n",
    "\n",
    "logistic_clf = LogisticRegression(C=1000.0, random_state=0)\n",
    "logistic_clf = logistic_clf.fit(train_input, train_gt)"
   ]
  },
  {
   "cell_type": "code",
   "execution_count": null,
   "id": "8100c6ab",
   "metadata": {},
   "outputs": [],
   "source": [
    "pred = logistic_clf.predict(valid_input)\n",
    "display_performance(logistic_clf, pred, valid_input, valid_gt, 'logistic_auc')"
   ]
  },
  {
   "cell_type": "code",
   "execution_count": null,
   "id": "d42da9f4",
   "metadata": {},
   "outputs": [],
   "source": [
    "from sklearn.ensemble import RandomForestClassifier\n",
    "rf_clf = RandomForestClassifier(n_estimators=5, random_state=0)\n",
    "rf_clf.fit(train_input, train_gt)"
   ]
  },
  {
   "cell_type": "code",
   "execution_count": null,
   "id": "98f1b526",
   "metadata": {
    "scrolled": true
   },
   "outputs": [],
   "source": [
    "pred = rf_clf.predict(valid_input)\n",
    "display_performance(rf_clf, pred, valid_input, valid_gt, 'randomforest_auc')"
   ]
  },
  {
   "cell_type": "code",
   "execution_count": null,
   "id": "99a54522",
   "metadata": {},
   "outputs": [],
   "source": [
    "dt_clf = DecisionTreeClassifier(random_state=0)\n",
    "dt_clf.fit(train_input, train_gt)"
   ]
  },
  {
   "cell_type": "code",
   "execution_count": 118,
   "id": "bad0f8e9",
   "metadata": {},
   "outputs": [
    {
     "ename": "NameError",
     "evalue": "name 'dt_clf' is not defined",
     "output_type": "error",
     "traceback": [
      "\u001b[0;31m---------------------------------------------------------------------------\u001b[0m",
      "\u001b[0;31mNameError\u001b[0m                                 Traceback (most recent call last)",
      "\u001b[0;32m<ipython-input-118-6cc2b8a678c9>\u001b[0m in \u001b[0;36m<module>\u001b[0;34m\u001b[0m\n\u001b[0;32m----> 1\u001b[0;31m \u001b[0mpred\u001b[0m \u001b[0;34m=\u001b[0m \u001b[0mdt_clf\u001b[0m\u001b[0;34m.\u001b[0m\u001b[0mpredict\u001b[0m\u001b[0;34m(\u001b[0m\u001b[0mvalid_input\u001b[0m\u001b[0;34m)\u001b[0m\u001b[0;34m\u001b[0m\u001b[0;34m\u001b[0m\u001b[0m\n\u001b[0m\u001b[1;32m      2\u001b[0m \u001b[0mdisplay_performance\u001b[0m\u001b[0;34m(\u001b[0m\u001b[0mdt_clf\u001b[0m\u001b[0;34m,\u001b[0m \u001b[0mpred\u001b[0m\u001b[0;34m,\u001b[0m \u001b[0mvalid_input\u001b[0m\u001b[0;34m,\u001b[0m \u001b[0mvalid_gt\u001b[0m\u001b[0;34m,\u001b[0m \u001b[0;34m'decisiontree_auc'\u001b[0m\u001b[0;34m)\u001b[0m\u001b[0;34m\u001b[0m\u001b[0;34m\u001b[0m\u001b[0m\n",
      "\u001b[0;31mNameError\u001b[0m: name 'dt_clf' is not defined"
     ]
    }
   ],
   "source": [
    "pred = dt_clf.predict(valid_input)\n",
    "display_performance(dt_clf, pred, valid_input, valid_gt, 'decisiontree_auc')"
   ]
  },
  {
   "cell_type": "code",
   "execution_count": null,
   "id": "021a3ec3",
   "metadata": {},
   "outputs": [],
   "source": [
    "from sklearn.ensemble import GradientBoostingClassifier\n",
    "gb_clf = GradientBoostingClassifier(random_state=0)\n",
    "gb_clf.fit(train_input, train_gt)"
   ]
  },
  {
   "cell_type": "code",
   "execution_count": null,
   "id": "bcbf4fa9",
   "metadata": {},
   "outputs": [],
   "source": [
    "pred = gb_clf.predict(valid_input)\n",
    "display_performance(gb_clf, pred, valid_input, valid_gt, 'gbm_auc')"
   ]
  },
  {
   "cell_type": "code",
   "execution_count": 119,
   "id": "a85baae1",
   "metadata": {},
   "outputs": [
    {
     "data": {
      "text/html": [
       "<div>\n",
       "<style scoped>\n",
       "    .dataframe tbody tr th:only-of-type {\n",
       "        vertical-align: middle;\n",
       "    }\n",
       "\n",
       "    .dataframe tbody tr th {\n",
       "        vertical-align: top;\n",
       "    }\n",
       "\n",
       "    .dataframe thead th {\n",
       "        text-align: right;\n",
       "    }\n",
       "</style>\n",
       "<table border=\"1\" class=\"dataframe\">\n",
       "  <thead>\n",
       "    <tr style=\"text-align: right;\">\n",
       "      <th></th>\n",
       "      <th>cough</th>\n",
       "      <th>fever</th>\n",
       "      <th>sore_throat</th>\n",
       "      <th>shortness_of_breath</th>\n",
       "      <th>head_ache</th>\n",
       "      <th>gender</th>\n",
       "      <th>confirmed_ratio</th>\n",
       "      <th>test_indication</th>\n",
       "      <th>corona_result</th>\n",
       "    </tr>\n",
       "  </thead>\n",
       "  <tbody>\n",
       "    <tr>\n",
       "      <th>count</th>\n",
       "      <td>5.345913e+06</td>\n",
       "      <td>5.345913e+06</td>\n",
       "      <td>5.345913e+06</td>\n",
       "      <td>5.345913e+06</td>\n",
       "      <td>5.345913e+06</td>\n",
       "      <td>5.345913e+06</td>\n",
       "      <td>5.345913e+06</td>\n",
       "      <td>5.345913e+06</td>\n",
       "      <td>5.345913e+06</td>\n",
       "    </tr>\n",
       "    <tr>\n",
       "      <th>mean</th>\n",
       "      <td>4.963493e-02</td>\n",
       "      <td>3.851017e-02</td>\n",
       "      <td>1.842978e-02</td>\n",
       "      <td>4.828174e-03</td>\n",
       "      <td>3.798640e-02</td>\n",
       "      <td>5.207305e-01</td>\n",
       "      <td>2.597199e+01</td>\n",
       "      <td>1.719158e-01</td>\n",
       "      <td>7.944592e-02</td>\n",
       "    </tr>\n",
       "    <tr>\n",
       "      <th>std</th>\n",
       "      <td>2.171896e-01</td>\n",
       "      <td>1.924244e-01</td>\n",
       "      <td>1.344995e-01</td>\n",
       "      <td>6.931713e-02</td>\n",
       "      <td>1.911634e-01</td>\n",
       "      <td>4.995701e-01</td>\n",
       "      <td>2.258918e+01</td>\n",
       "      <td>5.568187e-01</td>\n",
       "      <td>2.704335e-01</td>\n",
       "    </tr>\n",
       "    <tr>\n",
       "      <th>min</th>\n",
       "      <td>0.000000e+00</td>\n",
       "      <td>0.000000e+00</td>\n",
       "      <td>0.000000e+00</td>\n",
       "      <td>0.000000e+00</td>\n",
       "      <td>0.000000e+00</td>\n",
       "      <td>0.000000e+00</td>\n",
       "      <td>0.000000e+00</td>\n",
       "      <td>0.000000e+00</td>\n",
       "      <td>0.000000e+00</td>\n",
       "    </tr>\n",
       "    <tr>\n",
       "      <th>25%</th>\n",
       "      <td>0.000000e+00</td>\n",
       "      <td>0.000000e+00</td>\n",
       "      <td>0.000000e+00</td>\n",
       "      <td>0.000000e+00</td>\n",
       "      <td>0.000000e+00</td>\n",
       "      <td>0.000000e+00</td>\n",
       "      <td>7.315234e+00</td>\n",
       "      <td>0.000000e+00</td>\n",
       "      <td>0.000000e+00</td>\n",
       "    </tr>\n",
       "    <tr>\n",
       "      <th>50%</th>\n",
       "      <td>0.000000e+00</td>\n",
       "      <td>0.000000e+00</td>\n",
       "      <td>0.000000e+00</td>\n",
       "      <td>0.000000e+00</td>\n",
       "      <td>0.000000e+00</td>\n",
       "      <td>1.000000e+00</td>\n",
       "      <td>1.680912e+01</td>\n",
       "      <td>0.000000e+00</td>\n",
       "      <td>0.000000e+00</td>\n",
       "    </tr>\n",
       "    <tr>\n",
       "      <th>75%</th>\n",
       "      <td>0.000000e+00</td>\n",
       "      <td>0.000000e+00</td>\n",
       "      <td>0.000000e+00</td>\n",
       "      <td>0.000000e+00</td>\n",
       "      <td>0.000000e+00</td>\n",
       "      <td>1.000000e+00</td>\n",
       "      <td>4.026311e+01</td>\n",
       "      <td>0.000000e+00</td>\n",
       "      <td>0.000000e+00</td>\n",
       "    </tr>\n",
       "    <tr>\n",
       "      <th>max</th>\n",
       "      <td>1.000000e+00</td>\n",
       "      <td>1.000000e+00</td>\n",
       "      <td>1.000000e+00</td>\n",
       "      <td>1.000000e+00</td>\n",
       "      <td>1.000000e+00</td>\n",
       "      <td>1.000000e+00</td>\n",
       "      <td>1.000000e+02</td>\n",
       "      <td>2.000000e+00</td>\n",
       "      <td>1.000000e+00</td>\n",
       "    </tr>\n",
       "  </tbody>\n",
       "</table>\n",
       "</div>"
      ],
      "text/plain": [
       "              cough         fever   sore_throat  shortness_of_breath  \\\n",
       "count  5.345913e+06  5.345913e+06  5.345913e+06         5.345913e+06   \n",
       "mean   4.963493e-02  3.851017e-02  1.842978e-02         4.828174e-03   \n",
       "std    2.171896e-01  1.924244e-01  1.344995e-01         6.931713e-02   \n",
       "min    0.000000e+00  0.000000e+00  0.000000e+00         0.000000e+00   \n",
       "25%    0.000000e+00  0.000000e+00  0.000000e+00         0.000000e+00   \n",
       "50%    0.000000e+00  0.000000e+00  0.000000e+00         0.000000e+00   \n",
       "75%    0.000000e+00  0.000000e+00  0.000000e+00         0.000000e+00   \n",
       "max    1.000000e+00  1.000000e+00  1.000000e+00         1.000000e+00   \n",
       "\n",
       "          head_ache        gender  confirmed_ratio  test_indication  \\\n",
       "count  5.345913e+06  5.345913e+06     5.345913e+06     5.345913e+06   \n",
       "mean   3.798640e-02  5.207305e-01     2.597199e+01     1.719158e-01   \n",
       "std    1.911634e-01  4.995701e-01     2.258918e+01     5.568187e-01   \n",
       "min    0.000000e+00  0.000000e+00     0.000000e+00     0.000000e+00   \n",
       "25%    0.000000e+00  0.000000e+00     7.315234e+00     0.000000e+00   \n",
       "50%    0.000000e+00  1.000000e+00     1.680912e+01     0.000000e+00   \n",
       "75%    0.000000e+00  1.000000e+00     4.026311e+01     0.000000e+00   \n",
       "max    1.000000e+00  1.000000e+00     1.000000e+02     2.000000e+00   \n",
       "\n",
       "       corona_result  \n",
       "count   5.345913e+06  \n",
       "mean    7.944592e-02  \n",
       "std     2.704335e-01  \n",
       "min     0.000000e+00  \n",
       "25%     0.000000e+00  \n",
       "50%     0.000000e+00  \n",
       "75%     0.000000e+00  \n",
       "max     1.000000e+00  "
      ]
     },
     "execution_count": 119,
     "metadata": {},
     "output_type": "execute_result"
    }
   ],
   "source": [
    "df_input.describe()"
   ]
  },
  {
   "cell_type": "code",
   "execution_count": 120,
   "id": "53525b9e",
   "metadata": {},
   "outputs": [],
   "source": [
    "# class BaselineModel(nn.Module):\n",
    "#     def __init__(self):\n",
    "#         super(BaselineModel, self).__init__()\n",
    "# #         nn.BatchNorm1d(9)\n",
    "#         self.fcs1 = nn.Sequential(\n",
    "#             nn.Linear(9, 400),\n",
    "#             nn.BatchNorm1d(400),\n",
    "#             nn.ReLU()\n",
    "#         )\n",
    "# #         dropout 넣기\n",
    "# #         nn.linear, L1 norm L2 norm\n",
    "#         self.fcs2 = nn.Sequential(\n",
    "#             nn.Linear(400, 400),\n",
    "#             nn.BatchNorm1d(400),\n",
    "#             nn.ReLU()\n",
    "#         )\n",
    "#         self.fcs3 = nn.Sequential(\n",
    "#             nn.Linear(400, 400),\n",
    "#             nn.BatchNorm1d(400),\n",
    "#             nn.ReLU()\n",
    "#         )\n",
    "#         self.fcs4 = nn.Sequential(\n",
    "#             nn.Linear(400, 400),\n",
    "#             nn.BatchNorm1d(400),\n",
    "#             nn.ReLU()\n",
    "#         )\n",
    "#         self.fcs5 = nn.Sequential(\n",
    "#             nn.Linear(400, 1),\n",
    "# #             nn.Sigmoid()\n",
    "#         )\n",
    "    \n",
    "#     def forward(self, x):\n",
    "#         x = x.view(-1, 9)\n",
    "#         x = self.fcs1(x)\n",
    "#         x = x + self.fcs2(x)\n",
    "#         x = x + self.fcs3(x)\n",
    "#         x = x + self.fcs4(x)\n",
    "#         pred = self.fcs5(x)\n",
    "#         return pred"
   ]
  },
  {
   "cell_type": "code",
   "execution_count": 121,
   "id": "6e3e6965",
   "metadata": {},
   "outputs": [],
   "source": [
    "#  if test_indication == 'Other': return 0\n",
    "#     elif test_indication == 'Abroad': return 1\n",
    "#     elif  test_indication == 'Contact with confirmed': return 2"
   ]
  },
  {
   "cell_type": "code",
   "execution_count": 160,
   "id": "63c22fda",
   "metadata": {},
   "outputs": [
    {
     "data": {
      "text/plain": [
       "((3421385, 8), (855346, 8), (1069182, 8))"
      ]
     },
     "execution_count": 160,
     "metadata": {},
     "output_type": "execute_result"
    }
   ],
   "source": [
    "training_data = IsraelDataset(torch.Tensor(train_input), torch.Tensor(train_gt.reshape(-1, 1)))\n",
    "valid_data = IsraelDataset(torch.Tensor(valid_input), torch.Tensor(valid_gt.reshape(-1, 1)))\n",
    "test_data = IsraelDataset(torch.Tensor(test_input), torch.Tensor(test_gt.reshape(-1, 1)))\n",
    "                          \n",
    "train_dataloader = DataLoader(training_data, batch_size = 512, shuffle=False)\n",
    "valid_dataloader = DataLoader(valid_data, batch_size=128, shuffle=False)\n",
    "test_dataloader = DataLoader(test_data, batch_size=1, shuffle=False)\n",
    "\n",
    "train_input.shape, valid_input.shape, test_input.shape"
   ]
  },
  {
   "cell_type": "code",
   "execution_count": 161,
   "id": "0a06941d",
   "metadata": {},
   "outputs": [
    {
     "name": "stdout",
     "output_type": "stream",
     "text": [
      "torch.Size([128, 8])\n",
      "torch.Size([128, 8])\n"
     ]
    }
   ],
   "source": [
    "for val_inputs, val_labels in valid_dataloader:\n",
    "    break\n",
    "print(val_inputs.shape)\n",
    "\n",
    "print(val_inputs.shape)"
   ]
  },
  {
   "cell_type": "code",
   "execution_count": 162,
   "id": "f99e31cc",
   "metadata": {},
   "outputs": [],
   "source": [
    "import torch\n",
    "from torch import Tensor\n",
    "import torch.nn as nn\n",
    "from typing import Type, Any, Callable, Union, List, Optional\n",
    "\n",
    "\n",
    "def conv3(in_planes: int, out_planes: int, stride: int = 1, groups: int = 1) -> nn.Conv1d:\n",
    "    return nn.Conv1d(in_planes, out_planes,\n",
    "                     kernel_size=3,\n",
    "                     stride=stride, padding=1,\n",
    "                     groups=groups, bias=False,\n",
    "                     )\n",
    "\n",
    "\n",
    "class BasicBlock(nn.Module):\n",
    "    expansion: int = 1\n",
    "\n",
    "    def __init__(self, inplanes: int, planes: int, stride: int = 1, ) -> None:\n",
    "        super(BasicBlock, self).__init__()\n",
    "        norm_layer = nn.BatchNorm1d\n",
    "        self.conv1 = conv3(inplanes, planes, stride)\n",
    "        self.bn1 = norm_layer(planes)\n",
    "        self.relu = nn.ReLU(inplace=True)\n",
    "        self.conv2 = conv3(planes, planes)\n",
    "        self.bn2 = norm_layer(planes)\n",
    "        self.stride = stride\n",
    "\n",
    "    def forward(self, x: Tensor) -> Tensor:\n",
    "        identity = x\n",
    "\n",
    "        out = self.conv1(x)\n",
    "        out = self.bn1(out)\n",
    "        out = self.relu(out)\n",
    "\n",
    "        out = self.conv2(out)\n",
    "        out = self.bn2(out)\n",
    "\n",
    "        out += identity\n",
    "        out = self.relu(out)\n",
    "\n",
    "        return out\n",
    "\n",
    "\n",
    "class ResNet(nn.Module):\n",
    "    def __init__(self, block, layers, num_classes, n_channels=64, dropout=0.2):\n",
    "\n",
    "        super(ResNet, self).__init__()\n",
    "\n",
    "        self.inplanes = 1\n",
    "        self.outplanes = n_channels\n",
    "        self.conv1 = nn.Conv1d(self.inplanes, self.outplanes, kernel_size=7, stride=1, padding=3, bias=False)\n",
    "        self.bn1 = nn.BatchNorm1d(self.outplanes)\n",
    "        self.relu = nn.ReLU(inplace=True)\n",
    "\n",
    "        # Update inplanes for the next layer\n",
    "        self.inplanes = self.outplanes\n",
    "\n",
    "        # ResNet blocks\n",
    "        self.layer1 = self._make_layer(block, n_channels, layers[0])\n",
    "        self.layer2 = self._make_layer(block, n_channels, layers[1], stride=1,)\n",
    "        self.layer3 = self._make_layer(block, n_channels, layers[2], stride=1,)\n",
    "        self.layer4 = self._make_layer(block, n_channels, layers[3], stride=1,)\n",
    "        self.layer5 = self._make_layer(block, n_channels, layers[3], stride=1,)\n",
    "        self.layer6 = self._make_layer(block, n_channels, layers[3], stride=1,)\n",
    "        self.layer7 = self._make_layer(block, n_channels, layers[3], stride=1,)\n",
    "        self.layer8 = self._make_layer(block, n_channels, layers[3], stride=1,)\n",
    "        self.avgpool = nn.AdaptiveAvgPool1d((1, ))\n",
    "        \n",
    "        self.dropout = nn.Dropout(p=dropout)\n",
    "        self.fc = nn.Linear(self.inplanes * block.expansion, num_classes)\n",
    "\n",
    "    def _make_layer(self, block, planes: int, blocks: int, stride: int = 1, dilate: bool = False):\n",
    "        layers = []\n",
    "        layers.append(block(self.inplanes, planes, stride))\n",
    "        self.inplanes = planes * block.expansion\n",
    "        for _ in range(1, blocks):\n",
    "            layers.append(block(self.inplanes, planes, stride))\n",
    "\n",
    "        return nn.Sequential(*layers)\n",
    "\n",
    "    def forward(self, x: Tensor):\n",
    "        # See note [TorchScript super()]\n",
    "        x = self.conv1(x)\n",
    "        x = self.bn1(x)\n",
    "        x = self.relu(x)\n",
    "\n",
    "        x = self.layer1(x)\n",
    "        x = self.layer2(x)\n",
    "        x = self.layer3(x)\n",
    "        x = self.layer4(x)\n",
    "\n",
    "        x = self.avgpool(x)\n",
    "        x = torch.flatten(x, 1)\n",
    "        x = self.fc(x)\n",
    "        return x\n"
   ]
  },
  {
   "cell_type": "code",
   "execution_count": 163,
   "id": "39a19156",
   "metadata": {},
   "outputs": [
    {
     "name": "stdout",
     "output_type": "stream",
     "text": [
      "cuda\n"
     ]
    }
   ],
   "source": [
    "device = 'cuda' if torch.cuda.is_available() else 'cpu'\n",
    "print(device)"
   ]
  },
  {
   "cell_type": "code",
   "execution_count": 164,
   "id": "3d3b0d98",
   "metadata": {},
   "outputs": [],
   "source": [
    "model = ResNet(BasicBlock, [2, 2, 2, 2], 1, n_channels=64, dropout=0.9).to(device)"
   ]
  },
  {
   "cell_type": "code",
   "execution_count": 165,
   "id": "542baabd",
   "metadata": {
    "scrolled": true
   },
   "outputs": [
    {
     "data": {
      "text/plain": [
       "ResNet(\n",
       "  (conv1): Conv1d(1, 64, kernel_size=(7,), stride=(1,), padding=(3,), bias=False)\n",
       "  (bn1): BatchNorm1d(64, eps=1e-05, momentum=0.1, affine=True, track_running_stats=True)\n",
       "  (relu): ReLU(inplace=True)\n",
       "  (layer1): Sequential(\n",
       "    (0): BasicBlock(\n",
       "      (conv1): Conv1d(64, 64, kernel_size=(3,), stride=(1,), padding=(1,), bias=False)\n",
       "      (bn1): BatchNorm1d(64, eps=1e-05, momentum=0.1, affine=True, track_running_stats=True)\n",
       "      (relu): ReLU(inplace=True)\n",
       "      (conv2): Conv1d(64, 64, kernel_size=(3,), stride=(1,), padding=(1,), bias=False)\n",
       "      (bn2): BatchNorm1d(64, eps=1e-05, momentum=0.1, affine=True, track_running_stats=True)\n",
       "    )\n",
       "    (1): BasicBlock(\n",
       "      (conv1): Conv1d(64, 64, kernel_size=(3,), stride=(1,), padding=(1,), bias=False)\n",
       "      (bn1): BatchNorm1d(64, eps=1e-05, momentum=0.1, affine=True, track_running_stats=True)\n",
       "      (relu): ReLU(inplace=True)\n",
       "      (conv2): Conv1d(64, 64, kernel_size=(3,), stride=(1,), padding=(1,), bias=False)\n",
       "      (bn2): BatchNorm1d(64, eps=1e-05, momentum=0.1, affine=True, track_running_stats=True)\n",
       "    )\n",
       "  )\n",
       "  (layer2): Sequential(\n",
       "    (0): BasicBlock(\n",
       "      (conv1): Conv1d(64, 64, kernel_size=(3,), stride=(1,), padding=(1,), bias=False)\n",
       "      (bn1): BatchNorm1d(64, eps=1e-05, momentum=0.1, affine=True, track_running_stats=True)\n",
       "      (relu): ReLU(inplace=True)\n",
       "      (conv2): Conv1d(64, 64, kernel_size=(3,), stride=(1,), padding=(1,), bias=False)\n",
       "      (bn2): BatchNorm1d(64, eps=1e-05, momentum=0.1, affine=True, track_running_stats=True)\n",
       "    )\n",
       "    (1): BasicBlock(\n",
       "      (conv1): Conv1d(64, 64, kernel_size=(3,), stride=(1,), padding=(1,), bias=False)\n",
       "      (bn1): BatchNorm1d(64, eps=1e-05, momentum=0.1, affine=True, track_running_stats=True)\n",
       "      (relu): ReLU(inplace=True)\n",
       "      (conv2): Conv1d(64, 64, kernel_size=(3,), stride=(1,), padding=(1,), bias=False)\n",
       "      (bn2): BatchNorm1d(64, eps=1e-05, momentum=0.1, affine=True, track_running_stats=True)\n",
       "    )\n",
       "  )\n",
       "  (layer3): Sequential(\n",
       "    (0): BasicBlock(\n",
       "      (conv1): Conv1d(64, 64, kernel_size=(3,), stride=(1,), padding=(1,), bias=False)\n",
       "      (bn1): BatchNorm1d(64, eps=1e-05, momentum=0.1, affine=True, track_running_stats=True)\n",
       "      (relu): ReLU(inplace=True)\n",
       "      (conv2): Conv1d(64, 64, kernel_size=(3,), stride=(1,), padding=(1,), bias=False)\n",
       "      (bn2): BatchNorm1d(64, eps=1e-05, momentum=0.1, affine=True, track_running_stats=True)\n",
       "    )\n",
       "    (1): BasicBlock(\n",
       "      (conv1): Conv1d(64, 64, kernel_size=(3,), stride=(1,), padding=(1,), bias=False)\n",
       "      (bn1): BatchNorm1d(64, eps=1e-05, momentum=0.1, affine=True, track_running_stats=True)\n",
       "      (relu): ReLU(inplace=True)\n",
       "      (conv2): Conv1d(64, 64, kernel_size=(3,), stride=(1,), padding=(1,), bias=False)\n",
       "      (bn2): BatchNorm1d(64, eps=1e-05, momentum=0.1, affine=True, track_running_stats=True)\n",
       "    )\n",
       "  )\n",
       "  (layer4): Sequential(\n",
       "    (0): BasicBlock(\n",
       "      (conv1): Conv1d(64, 64, kernel_size=(3,), stride=(1,), padding=(1,), bias=False)\n",
       "      (bn1): BatchNorm1d(64, eps=1e-05, momentum=0.1, affine=True, track_running_stats=True)\n",
       "      (relu): ReLU(inplace=True)\n",
       "      (conv2): Conv1d(64, 64, kernel_size=(3,), stride=(1,), padding=(1,), bias=False)\n",
       "      (bn2): BatchNorm1d(64, eps=1e-05, momentum=0.1, affine=True, track_running_stats=True)\n",
       "    )\n",
       "    (1): BasicBlock(\n",
       "      (conv1): Conv1d(64, 64, kernel_size=(3,), stride=(1,), padding=(1,), bias=False)\n",
       "      (bn1): BatchNorm1d(64, eps=1e-05, momentum=0.1, affine=True, track_running_stats=True)\n",
       "      (relu): ReLU(inplace=True)\n",
       "      (conv2): Conv1d(64, 64, kernel_size=(3,), stride=(1,), padding=(1,), bias=False)\n",
       "      (bn2): BatchNorm1d(64, eps=1e-05, momentum=0.1, affine=True, track_running_stats=True)\n",
       "    )\n",
       "  )\n",
       "  (layer5): Sequential(\n",
       "    (0): BasicBlock(\n",
       "      (conv1): Conv1d(64, 64, kernel_size=(3,), stride=(1,), padding=(1,), bias=False)\n",
       "      (bn1): BatchNorm1d(64, eps=1e-05, momentum=0.1, affine=True, track_running_stats=True)\n",
       "      (relu): ReLU(inplace=True)\n",
       "      (conv2): Conv1d(64, 64, kernel_size=(3,), stride=(1,), padding=(1,), bias=False)\n",
       "      (bn2): BatchNorm1d(64, eps=1e-05, momentum=0.1, affine=True, track_running_stats=True)\n",
       "    )\n",
       "    (1): BasicBlock(\n",
       "      (conv1): Conv1d(64, 64, kernel_size=(3,), stride=(1,), padding=(1,), bias=False)\n",
       "      (bn1): BatchNorm1d(64, eps=1e-05, momentum=0.1, affine=True, track_running_stats=True)\n",
       "      (relu): ReLU(inplace=True)\n",
       "      (conv2): Conv1d(64, 64, kernel_size=(3,), stride=(1,), padding=(1,), bias=False)\n",
       "      (bn2): BatchNorm1d(64, eps=1e-05, momentum=0.1, affine=True, track_running_stats=True)\n",
       "    )\n",
       "  )\n",
       "  (layer6): Sequential(\n",
       "    (0): BasicBlock(\n",
       "      (conv1): Conv1d(64, 64, kernel_size=(3,), stride=(1,), padding=(1,), bias=False)\n",
       "      (bn1): BatchNorm1d(64, eps=1e-05, momentum=0.1, affine=True, track_running_stats=True)\n",
       "      (relu): ReLU(inplace=True)\n",
       "      (conv2): Conv1d(64, 64, kernel_size=(3,), stride=(1,), padding=(1,), bias=False)\n",
       "      (bn2): BatchNorm1d(64, eps=1e-05, momentum=0.1, affine=True, track_running_stats=True)\n",
       "    )\n",
       "    (1): BasicBlock(\n",
       "      (conv1): Conv1d(64, 64, kernel_size=(3,), stride=(1,), padding=(1,), bias=False)\n",
       "      (bn1): BatchNorm1d(64, eps=1e-05, momentum=0.1, affine=True, track_running_stats=True)\n",
       "      (relu): ReLU(inplace=True)\n",
       "      (conv2): Conv1d(64, 64, kernel_size=(3,), stride=(1,), padding=(1,), bias=False)\n",
       "      (bn2): BatchNorm1d(64, eps=1e-05, momentum=0.1, affine=True, track_running_stats=True)\n",
       "    )\n",
       "  )\n",
       "  (layer7): Sequential(\n",
       "    (0): BasicBlock(\n",
       "      (conv1): Conv1d(64, 64, kernel_size=(3,), stride=(1,), padding=(1,), bias=False)\n",
       "      (bn1): BatchNorm1d(64, eps=1e-05, momentum=0.1, affine=True, track_running_stats=True)\n",
       "      (relu): ReLU(inplace=True)\n",
       "      (conv2): Conv1d(64, 64, kernel_size=(3,), stride=(1,), padding=(1,), bias=False)\n",
       "      (bn2): BatchNorm1d(64, eps=1e-05, momentum=0.1, affine=True, track_running_stats=True)\n",
       "    )\n",
       "    (1): BasicBlock(\n",
       "      (conv1): Conv1d(64, 64, kernel_size=(3,), stride=(1,), padding=(1,), bias=False)\n",
       "      (bn1): BatchNorm1d(64, eps=1e-05, momentum=0.1, affine=True, track_running_stats=True)\n",
       "      (relu): ReLU(inplace=True)\n",
       "      (conv2): Conv1d(64, 64, kernel_size=(3,), stride=(1,), padding=(1,), bias=False)\n",
       "      (bn2): BatchNorm1d(64, eps=1e-05, momentum=0.1, affine=True, track_running_stats=True)\n",
       "    )\n",
       "  )\n",
       "  (layer8): Sequential(\n",
       "    (0): BasicBlock(\n",
       "      (conv1): Conv1d(64, 64, kernel_size=(3,), stride=(1,), padding=(1,), bias=False)\n",
       "      (bn1): BatchNorm1d(64, eps=1e-05, momentum=0.1, affine=True, track_running_stats=True)\n",
       "      (relu): ReLU(inplace=True)\n",
       "      (conv2): Conv1d(64, 64, kernel_size=(3,), stride=(1,), padding=(1,), bias=False)\n",
       "      (bn2): BatchNorm1d(64, eps=1e-05, momentum=0.1, affine=True, track_running_stats=True)\n",
       "    )\n",
       "    (1): BasicBlock(\n",
       "      (conv1): Conv1d(64, 64, kernel_size=(3,), stride=(1,), padding=(1,), bias=False)\n",
       "      (bn1): BatchNorm1d(64, eps=1e-05, momentum=0.1, affine=True, track_running_stats=True)\n",
       "      (relu): ReLU(inplace=True)\n",
       "      (conv2): Conv1d(64, 64, kernel_size=(3,), stride=(1,), padding=(1,), bias=False)\n",
       "      (bn2): BatchNorm1d(64, eps=1e-05, momentum=0.1, affine=True, track_running_stats=True)\n",
       "    )\n",
       "  )\n",
       "  (avgpool): AdaptiveAvgPool1d(output_size=(1,))\n",
       "  (dropout): Dropout(p=0.9, inplace=False)\n",
       "  (fc): Linear(in_features=64, out_features=1, bias=True)\n",
       ")"
      ]
     },
     "execution_count": 165,
     "metadata": {},
     "output_type": "execute_result"
    }
   ],
   "source": [
    "model"
   ]
  },
  {
   "cell_type": "code",
   "execution_count": 166,
   "id": "6b17dc08",
   "metadata": {},
   "outputs": [],
   "source": [
    "criterion = nn.BCELoss()\n",
    "optimizer = optim.Adam(model.parameters(), lr=0.001) # lr 크기좀 늘려보기"
   ]
  },
  {
   "cell_type": "code",
   "execution_count": 167,
   "id": "b2e7e336",
   "metadata": {},
   "outputs": [],
   "source": [
    "def show_progress(train_history, val_history):\n",
    "    plt.plot(train_history)\n",
    "    plt.plot(val_history)\n",
    "    plt.legend(['train_loss', 'val_loss'])\n",
    "    plt.show()"
   ]
  },
  {
   "cell_type": "code",
   "execution_count": 136,
   "id": "110f591a",
   "metadata": {},
   "outputs": [],
   "source": [
    "import gc"
   ]
  },
  {
   "cell_type": "code",
   "execution_count": 169,
   "id": "16fcc7b5",
   "metadata": {},
   "outputs": [
    {
     "data": {
      "application/vnd.jupyter.widget-view+json": {
       "model_id": "5a331f91093d483191c78220a62e1d23",
       "version_major": 2,
       "version_minor": 0
      },
      "text/plain": [
       "  0%|          | 0/20 [00:00<?, ?it/s]"
      ]
     },
     "metadata": {},
     "output_type": "display_data"
    },
    {
     "data": {
      "application/vnd.jupyter.widget-view+json": {
       "model_id": "071ca73303a94b4cb0ee54089f98b39f",
       "version_major": 2,
       "version_minor": 0
      },
      "text/plain": [
       "  0%|          | 0/6683 [00:00<?, ?it/s]"
      ]
     },
     "metadata": {},
     "output_type": "display_data"
    },
    {
     "name": "stderr",
     "output_type": "stream",
     "text": [
      "/home/md/anaconda3/envs/flu_screening/lib/python3.8/site-packages/torch/nn/functional.py:1709: UserWarning: nn.functional.sigmoid is deprecated. Use torch.sigmoid instead.\n",
      "  warnings.warn(\"nn.functional.sigmoid is deprecated. Use torch.sigmoid instead.\")\n"
     ]
    },
    {
     "data": {
      "application/vnd.jupyter.widget-view+json": {
       "model_id": "ca8f277db5f947e6bb29081805fc0951",
       "version_major": 2,
       "version_minor": 0
      },
      "text/plain": [
       "  0%|          | 0/6683 [00:00<?, ?it/s]"
      ]
     },
     "metadata": {},
     "output_type": "display_data"
    },
    {
     "name": "stdout",
     "output_type": "stream",
     "text": [
      "[[0.01125125]\n",
      " [0.01233296]\n",
      " [0.02775743]\n",
      " [0.00962135]\n",
      " [0.01748552]] [[0.]\n",
      " [0.]\n",
      " [0.]\n",
      " [0.]\n",
      " [0.]]\n",
      "Done. Train loss:0.19191623418479734, Validation loss: 0.1911073178950361 VAL_AUC:0.8642435339852217\n"
     ]
    },
    {
     "data": {
      "image/png": "[encoded data removed]",
      "text/plain": [
       "<Figure size 432x288 with 1 Axes>"
      ]
     },
     "metadata": {},
     "output_type": "display_data"
    },
    {
     "data": {
      "application/vnd.jupyter.widget-view+json": {
       "model_id": "4b9a038ac5ce4f8e9e5a9ad0b44b9471",
       "version_major": 2,
       "version_minor": 0
      },
      "text/plain": [
       "  0%|          | 0/6683 [00:00<?, ?it/s]"
      ]
     },
     "metadata": {},
     "output_type": "display_data"
    },
    {
     "name": "stderr",
     "output_type": "stream",
     "text": [
      "/home/md/anaconda3/envs/flu_screening/lib/python3.8/site-packages/torch/nn/functional.py:1709: UserWarning: nn.functional.sigmoid is deprecated. Use torch.sigmoid instead.\n",
      "  warnings.warn(\"nn.functional.sigmoid is deprecated. Use torch.sigmoid instead.\")\n"
     ]
    },
    {
     "ename": "KeyboardInterrupt",
     "evalue": "",
     "output_type": "error",
     "traceback": [
      "\u001b[0;31m---------------------------------------------------------------------------\u001b[0m",
      "\u001b[0;31mKeyboardInterrupt\u001b[0m                         Traceback (most recent call last)",
      "\u001b[0;32m<ipython-input-169-33c2c216e079>\u001b[0m in \u001b[0;36m<module>\u001b[0;34m\u001b[0m\n\u001b[1;32m     19\u001b[0m         \u001b[0mtrain_outputs\u001b[0m \u001b[0;34m=\u001b[0m \u001b[0mnn\u001b[0m\u001b[0;34m.\u001b[0m\u001b[0mfunctional\u001b[0m\u001b[0;34m.\u001b[0m\u001b[0msigmoid\u001b[0m\u001b[0;34m(\u001b[0m\u001b[0mtrain_outputs\u001b[0m\u001b[0;34m)\u001b[0m\u001b[0;34m\u001b[0m\u001b[0;34m\u001b[0m\u001b[0m\n\u001b[1;32m     20\u001b[0m         \u001b[0mtrain_loss\u001b[0m \u001b[0;34m=\u001b[0m \u001b[0mcriterion\u001b[0m\u001b[0;34m(\u001b[0m\u001b[0mtrain_outputs\u001b[0m\u001b[0;34m,\u001b[0m \u001b[0mtrain_labels\u001b[0m\u001b[0;34m)\u001b[0m\u001b[0;34m\u001b[0m\u001b[0;34m\u001b[0m\u001b[0m\n\u001b[0;32m---> 21\u001b[0;31m         \u001b[0mtrain_loss\u001b[0m\u001b[0;34m.\u001b[0m\u001b[0mbackward\u001b[0m\u001b[0;34m(\u001b[0m\u001b[0;34m)\u001b[0m\u001b[0;34m\u001b[0m\u001b[0;34m\u001b[0m\u001b[0m\n\u001b[0m\u001b[1;32m     22\u001b[0m         \u001b[0moptimizer\u001b[0m\u001b[0;34m.\u001b[0m\u001b[0mstep\u001b[0m\u001b[0;34m(\u001b[0m\u001b[0;34m)\u001b[0m\u001b[0;34m\u001b[0m\u001b[0;34m\u001b[0m\u001b[0m\n\u001b[1;32m     23\u001b[0m \u001b[0;34m\u001b[0m\u001b[0m\n",
      "\u001b[0;32m~/anaconda3/envs/flu_screening/lib/python3.8/site-packages/torch/tensor.py\u001b[0m in \u001b[0;36mbackward\u001b[0;34m(self, gradient, retain_graph, create_graph, inputs)\u001b[0m\n\u001b[1;32m    243\u001b[0m                 \u001b[0mcreate_graph\u001b[0m\u001b[0;34m=\u001b[0m\u001b[0mcreate_graph\u001b[0m\u001b[0;34m,\u001b[0m\u001b[0;34m\u001b[0m\u001b[0;34m\u001b[0m\u001b[0m\n\u001b[1;32m    244\u001b[0m                 inputs=inputs)\n\u001b[0;32m--> 245\u001b[0;31m         \u001b[0mtorch\u001b[0m\u001b[0;34m.\u001b[0m\u001b[0mautograd\u001b[0m\u001b[0;34m.\u001b[0m\u001b[0mbackward\u001b[0m\u001b[0;34m(\u001b[0m\u001b[0mself\u001b[0m\u001b[0;34m,\u001b[0m \u001b[0mgradient\u001b[0m\u001b[0;34m,\u001b[0m \u001b[0mretain_graph\u001b[0m\u001b[0;34m,\u001b[0m \u001b[0mcreate_graph\u001b[0m\u001b[0;34m,\u001b[0m \u001b[0minputs\u001b[0m\u001b[0;34m=\u001b[0m\u001b[0minputs\u001b[0m\u001b[0;34m)\u001b[0m\u001b[0;34m\u001b[0m\u001b[0;34m\u001b[0m\u001b[0m\n\u001b[0m\u001b[1;32m    246\u001b[0m \u001b[0;34m\u001b[0m\u001b[0m\n\u001b[1;32m    247\u001b[0m     \u001b[0;32mdef\u001b[0m \u001b[0mregister_hook\u001b[0m\u001b[0;34m(\u001b[0m\u001b[0mself\u001b[0m\u001b[0;34m,\u001b[0m \u001b[0mhook\u001b[0m\u001b[0;34m)\u001b[0m\u001b[0;34m:\u001b[0m\u001b[0;34m\u001b[0m\u001b[0;34m\u001b[0m\u001b[0m\n",
      "\u001b[0;32m~/anaconda3/envs/flu_screening/lib/python3.8/site-packages/torch/autograd/__init__.py\u001b[0m in \u001b[0;36mbackward\u001b[0;34m(tensors, grad_tensors, retain_graph, create_graph, grad_variables, inputs)\u001b[0m\n\u001b[1;32m    143\u001b[0m         \u001b[0mretain_graph\u001b[0m \u001b[0;34m=\u001b[0m \u001b[0mcreate_graph\u001b[0m\u001b[0;34m\u001b[0m\u001b[0;34m\u001b[0m\u001b[0m\n\u001b[1;32m    144\u001b[0m \u001b[0;34m\u001b[0m\u001b[0m\n\u001b[0;32m--> 145\u001b[0;31m     Variable._execution_engine.run_backward(\n\u001b[0m\u001b[1;32m    146\u001b[0m         \u001b[0mtensors\u001b[0m\u001b[0;34m,\u001b[0m \u001b[0mgrad_tensors_\u001b[0m\u001b[0;34m,\u001b[0m \u001b[0mretain_graph\u001b[0m\u001b[0;34m,\u001b[0m \u001b[0mcreate_graph\u001b[0m\u001b[0;34m,\u001b[0m \u001b[0minputs\u001b[0m\u001b[0;34m,\u001b[0m\u001b[0;34m\u001b[0m\u001b[0;34m\u001b[0m\u001b[0m\n\u001b[1;32m    147\u001b[0m         allow_unreachable=True, accumulate_grad=True)  # allow_unreachable flag\n",
      "\u001b[0;31mKeyboardInterrupt\u001b[0m: "
     ]
    }
   ],
   "source": [
    "train_running_loss = 0.0\n",
    "num_epochs = 20\n",
    "\n",
    "train_history = []\n",
    "val_history = []\n",
    "torch.cuda.empty_cache()\n",
    "\n",
    "for epoch in tqdm(range(num_epochs)):\n",
    "    model.train()\n",
    "    train_losses = []\n",
    "    for train_inputs, train_labels in tqdm(train_dataloader):\n",
    "        train_inputs = torch.unsqueeze(train_inputs, 1)\n",
    "        train_inputs = train_inputs.to(device)\n",
    "        train_labels = train_labels.to(device)\n",
    "\n",
    "        optimizer.zero_grad()\n",
    "        \n",
    "        train_outputs = model(train_inputs)\n",
    "        train_outputs = nn.functional.sigmoid(train_outputs)\n",
    "        train_loss = criterion(train_outputs, train_labels)\n",
    "        train_loss.backward()\n",
    "        optimizer.step()\n",
    "        \n",
    "        ##\n",
    "#         print('train loss]', train_loss)\n",
    "        train_losses.append(train_loss.tolist())\n",
    "    \n",
    "#     del variables\n",
    "    torch.cuda.empty_cache()\n",
    "    \n",
    "    model.eval()\n",
    "    \n",
    "    val_losses = []\n",
    "    val_all_outputs = []\n",
    "    val_all_labels = []\n",
    "    for val_inputs, val_labels in tqdm(valid_dataloader):\n",
    "        \n",
    "        val_inputs = torch.unsqueeze(val_inputs, 1)\n",
    "        val_outputs = model(torch.Tensor(val_inputs).to(device))\n",
    "        \n",
    "        val_outputs = torch.sigmoid(val_outputs)\n",
    "        \n",
    "        ##\n",
    "        val_loss_on_batch = criterion(val_outputs, val_labels.to(device))\n",
    "#         print('valid loss]', val_loss_on_batch)\n",
    "        \n",
    "        val_losses.append(val_loss_on_batch.tolist())\n",
    "        val_all_outputs.append(val_outputs.cpu().detach().numpy())\n",
    "        val_all_labels.append(val_labels.cpu().detach().numpy())\n",
    "        \n",
    "        \n",
    "    val_all_outputs = np.concatenate(val_all_outputs, axis=0)\n",
    "    val_all_labels = np.concatenate(val_all_labels, axis=0)\n",
    "    print(val_all_outputs[:5], val_all_labels[:5])\n",
    "    auc = roc_auc_score(val_all_labels, val_all_outputs)    \n",
    "    \n",
    "\n",
    "    total_val_loss = sum(val_losses) / len(valid_dataloader)\n",
    "    total_train_loss = sum(train_losses) / len(train_dataloader)\n",
    "    \n",
    "    print('Done. Train loss:{}, Validation loss: {} VAL_AUC:{}'.format(total_train_loss, total_val_loss, auc))\n",
    "    \n",
    "    fper, tper, thresholds = roc_curve(val_all_labels, val_all_outputs)\n",
    "    plot_roc_curve_for_dnn(fper, tper)\n",
    "    \n",
    "#     print('debug')\n",
    "#     print(type(total_train_loss))\n",
    "#     print(type(total_val_loss))\n",
    "#     train_history.append(total_train_loss)\n",
    "#     val_history.append(total_val_loss)\n",
    "#     train_history.append(total_train_loss.cpu().detach().numpy())\n",
    "#     val_history.append(total_val_loss.cpu().detach().numpy())\n",
    "    \n",
    "#     show_progress(train_history, val_history)\n",
    "    \n",
    "#     del val_losses\n",
    "#     del val_all_outputs\n",
    "#     del val_all_labels\n",
    "    "
   ]
  },
  {
   "cell_type": "code",
   "execution_count": null,
   "id": "8733a80d",
   "metadata": {},
   "outputs": [],
   "source": [
    "torch.save(model.state_dict(), './eda_result/cnn_model_3.pth')"
   ]
  },
  {
   "cell_type": "code",
   "execution_count": 168,
   "id": "a7051d26",
   "metadata": {},
   "outputs": [
    {
     "data": {
      "text/plain": [
       "<All keys matched successfully>"
      ]
     },
     "execution_count": 168,
     "metadata": {},
     "output_type": "execute_result"
    }
   ],
   "source": [
    "model.load_state_dict(torch.load('./eda_result/cnn_model_3.pth'))"
   ]
  },
  {
   "cell_type": "code",
   "execution_count": 138,
   "id": "18eb7102",
   "metadata": {},
   "outputs": [
    {
     "data": {
      "text/plain": [
       "ResNet(\n",
       "  (conv1): Conv1d(1, 64, kernel_size=(7,), stride=(1,), padding=(3,), bias=False)\n",
       "  (bn1): BatchNorm1d(64, eps=1e-05, momentum=0.1, affine=True, track_running_stats=True)\n",
       "  (relu): ReLU(inplace=True)\n",
       "  (layer1): Sequential(\n",
       "    (0): BasicBlock(\n",
       "      (conv1): Conv1d(64, 64, kernel_size=(3,), stride=(1,), padding=(1,), bias=False)\n",
       "      (bn1): BatchNorm1d(64, eps=1e-05, momentum=0.1, affine=True, track_running_stats=True)\n",
       "      (relu): ReLU(inplace=True)\n",
       "      (conv2): Conv1d(64, 64, kernel_size=(3,), stride=(1,), padding=(1,), bias=False)\n",
       "      (bn2): BatchNorm1d(64, eps=1e-05, momentum=0.1, affine=True, track_running_stats=True)\n",
       "    )\n",
       "    (1): BasicBlock(\n",
       "      (conv1): Conv1d(64, 64, kernel_size=(3,), stride=(1,), padding=(1,), bias=False)\n",
       "      (bn1): BatchNorm1d(64, eps=1e-05, momentum=0.1, affine=True, track_running_stats=True)\n",
       "      (relu): ReLU(inplace=True)\n",
       "      (conv2): Conv1d(64, 64, kernel_size=(3,), stride=(1,), padding=(1,), bias=False)\n",
       "      (bn2): BatchNorm1d(64, eps=1e-05, momentum=0.1, affine=True, track_running_stats=True)\n",
       "    )\n",
       "  )\n",
       "  (layer2): Sequential(\n",
       "    (0): BasicBlock(\n",
       "      (conv1): Conv1d(64, 64, kernel_size=(3,), stride=(1,), padding=(1,), bias=False)\n",
       "      (bn1): BatchNorm1d(64, eps=1e-05, momentum=0.1, affine=True, track_running_stats=True)\n",
       "      (relu): ReLU(inplace=True)\n",
       "      (conv2): Conv1d(64, 64, kernel_size=(3,), stride=(1,), padding=(1,), bias=False)\n",
       "      (bn2): BatchNorm1d(64, eps=1e-05, momentum=0.1, affine=True, track_running_stats=True)\n",
       "    )\n",
       "    (1): BasicBlock(\n",
       "      (conv1): Conv1d(64, 64, kernel_size=(3,), stride=(1,), padding=(1,), bias=False)\n",
       "      (bn1): BatchNorm1d(64, eps=1e-05, momentum=0.1, affine=True, track_running_stats=True)\n",
       "      (relu): ReLU(inplace=True)\n",
       "      (conv2): Conv1d(64, 64, kernel_size=(3,), stride=(1,), padding=(1,), bias=False)\n",
       "      (bn2): BatchNorm1d(64, eps=1e-05, momentum=0.1, affine=True, track_running_stats=True)\n",
       "    )\n",
       "  )\n",
       "  (layer3): Sequential(\n",
       "    (0): BasicBlock(\n",
       "      (conv1): Conv1d(64, 64, kernel_size=(3,), stride=(1,), padding=(1,), bias=False)\n",
       "      (bn1): BatchNorm1d(64, eps=1e-05, momentum=0.1, affine=True, track_running_stats=True)\n",
       "      (relu): ReLU(inplace=True)\n",
       "      (conv2): Conv1d(64, 64, kernel_size=(3,), stride=(1,), padding=(1,), bias=False)\n",
       "      (bn2): BatchNorm1d(64, eps=1e-05, momentum=0.1, affine=True, track_running_stats=True)\n",
       "    )\n",
       "    (1): BasicBlock(\n",
       "      (conv1): Conv1d(64, 64, kernel_size=(3,), stride=(1,), padding=(1,), bias=False)\n",
       "      (bn1): BatchNorm1d(64, eps=1e-05, momentum=0.1, affine=True, track_running_stats=True)\n",
       "      (relu): ReLU(inplace=True)\n",
       "      (conv2): Conv1d(64, 64, kernel_size=(3,), stride=(1,), padding=(1,), bias=False)\n",
       "      (bn2): BatchNorm1d(64, eps=1e-05, momentum=0.1, affine=True, track_running_stats=True)\n",
       "    )\n",
       "  )\n",
       "  (layer4): Sequential(\n",
       "    (0): BasicBlock(\n",
       "      (conv1): Conv1d(64, 64, kernel_size=(3,), stride=(1,), padding=(1,), bias=False)\n",
       "      (bn1): BatchNorm1d(64, eps=1e-05, momentum=0.1, affine=True, track_running_stats=True)\n",
       "      (relu): ReLU(inplace=True)\n",
       "      (conv2): Conv1d(64, 64, kernel_size=(3,), stride=(1,), padding=(1,), bias=False)\n",
       "      (bn2): BatchNorm1d(64, eps=1e-05, momentum=0.1, affine=True, track_running_stats=True)\n",
       "    )\n",
       "    (1): BasicBlock(\n",
       "      (conv1): Conv1d(64, 64, kernel_size=(3,), stride=(1,), padding=(1,), bias=False)\n",
       "      (bn1): BatchNorm1d(64, eps=1e-05, momentum=0.1, affine=True, track_running_stats=True)\n",
       "      (relu): ReLU(inplace=True)\n",
       "      (conv2): Conv1d(64, 64, kernel_size=(3,), stride=(1,), padding=(1,), bias=False)\n",
       "      (bn2): BatchNorm1d(64, eps=1e-05, momentum=0.1, affine=True, track_running_stats=True)\n",
       "    )\n",
       "  )\n",
       "  (layer5): Sequential(\n",
       "    (0): BasicBlock(\n",
       "      (conv1): Conv1d(64, 64, kernel_size=(3,), stride=(1,), padding=(1,), bias=False)\n",
       "      (bn1): BatchNorm1d(64, eps=1e-05, momentum=0.1, affine=True, track_running_stats=True)\n",
       "      (relu): ReLU(inplace=True)\n",
       "      (conv2): Conv1d(64, 64, kernel_size=(3,), stride=(1,), padding=(1,), bias=False)\n",
       "      (bn2): BatchNorm1d(64, eps=1e-05, momentum=0.1, affine=True, track_running_stats=True)\n",
       "    )\n",
       "    (1): BasicBlock(\n",
       "      (conv1): Conv1d(64, 64, kernel_size=(3,), stride=(1,), padding=(1,), bias=False)\n",
       "      (bn1): BatchNorm1d(64, eps=1e-05, momentum=0.1, affine=True, track_running_stats=True)\n",
       "      (relu): ReLU(inplace=True)\n",
       "      (conv2): Conv1d(64, 64, kernel_size=(3,), stride=(1,), padding=(1,), bias=False)\n",
       "      (bn2): BatchNorm1d(64, eps=1e-05, momentum=0.1, affine=True, track_running_stats=True)\n",
       "    )\n",
       "  )\n",
       "  (layer6): Sequential(\n",
       "    (0): BasicBlock(\n",
       "      (conv1): Conv1d(64, 64, kernel_size=(3,), stride=(1,), padding=(1,), bias=False)\n",
       "      (bn1): BatchNorm1d(64, eps=1e-05, momentum=0.1, affine=True, track_running_stats=True)\n",
       "      (relu): ReLU(inplace=True)\n",
       "      (conv2): Conv1d(64, 64, kernel_size=(3,), stride=(1,), padding=(1,), bias=False)\n",
       "      (bn2): BatchNorm1d(64, eps=1e-05, momentum=0.1, affine=True, track_running_stats=True)\n",
       "    )\n",
       "    (1): BasicBlock(\n",
       "      (conv1): Conv1d(64, 64, kernel_size=(3,), stride=(1,), padding=(1,), bias=False)\n",
       "      (bn1): BatchNorm1d(64, eps=1e-05, momentum=0.1, affine=True, track_running_stats=True)\n",
       "      (relu): ReLU(inplace=True)\n",
       "      (conv2): Conv1d(64, 64, kernel_size=(3,), stride=(1,), padding=(1,), bias=False)\n",
       "      (bn2): BatchNorm1d(64, eps=1e-05, momentum=0.1, affine=True, track_running_stats=True)\n",
       "    )\n",
       "  )\n",
       "  (layer7): Sequential(\n",
       "    (0): BasicBlock(\n",
       "      (conv1): Conv1d(64, 64, kernel_size=(3,), stride=(1,), padding=(1,), bias=False)\n",
       "      (bn1): BatchNorm1d(64, eps=1e-05, momentum=0.1, affine=True, track_running_stats=True)\n",
       "      (relu): ReLU(inplace=True)\n",
       "      (conv2): Conv1d(64, 64, kernel_size=(3,), stride=(1,), padding=(1,), bias=False)\n",
       "      (bn2): BatchNorm1d(64, eps=1e-05, momentum=0.1, affine=True, track_running_stats=True)\n",
       "    )\n",
       "    (1): BasicBlock(\n",
       "      (conv1): Conv1d(64, 64, kernel_size=(3,), stride=(1,), padding=(1,), bias=False)\n",
       "      (bn1): BatchNorm1d(64, eps=1e-05, momentum=0.1, affine=True, track_running_stats=True)\n",
       "      (relu): ReLU(inplace=True)\n",
       "      (conv2): Conv1d(64, 64, kernel_size=(3,), stride=(1,), padding=(1,), bias=False)\n",
       "      (bn2): BatchNorm1d(64, eps=1e-05, momentum=0.1, affine=True, track_running_stats=True)\n",
       "    )\n",
       "  )\n",
       "  (layer8): Sequential(\n",
       "    (0): BasicBlock(\n",
       "      (conv1): Conv1d(64, 64, kernel_size=(3,), stride=(1,), padding=(1,), bias=False)\n",
       "      (bn1): BatchNorm1d(64, eps=1e-05, momentum=0.1, affine=True, track_running_stats=True)\n",
       "      (relu): ReLU(inplace=True)\n",
       "      (conv2): Conv1d(64, 64, kernel_size=(3,), stride=(1,), padding=(1,), bias=False)\n",
       "      (bn2): BatchNorm1d(64, eps=1e-05, momentum=0.1, affine=True, track_running_stats=True)\n",
       "    )\n",
       "    (1): BasicBlock(\n",
       "      (conv1): Conv1d(64, 64, kernel_size=(3,), stride=(1,), padding=(1,), bias=False)\n",
       "      (bn1): BatchNorm1d(64, eps=1e-05, momentum=0.1, affine=True, track_running_stats=True)\n",
       "      (relu): ReLU(inplace=True)\n",
       "      (conv2): Conv1d(64, 64, kernel_size=(3,), stride=(1,), padding=(1,), bias=False)\n",
       "      (bn2): BatchNorm1d(64, eps=1e-05, momentum=0.1, affine=True, track_running_stats=True)\n",
       "    )\n",
       "  )\n",
       "  (avgpool): AdaptiveAvgPool1d(output_size=(1,))\n",
       "  (dropout): Dropout(p=0.9, inplace=False)\n",
       "  (fc): Linear(in_features=64, out_features=1, bias=True)\n",
       ")"
      ]
     },
     "execution_count": 138,
     "metadata": {},
     "output_type": "execute_result"
    }
   ],
   "source": [
    "model.eval()"
   ]
  },
  {
   "cell_type": "code",
   "execution_count": 249,
   "id": "76a7da26",
   "metadata": {},
   "outputs": [
    {
     "data": {
      "text/plain": [
       "tensor([[0.2799]], device='cuda:0', grad_fn=<SigmoidBackward>)"
      ]
     },
     "execution_count": 249,
     "metadata": {},
     "output_type": "execute_result"
    }
   ],
   "source": [
    "# 11934\n",
    "# model = BaselineModel().to(device)\n",
    "#'cough', 'fever', 'sore_throat', 'shortness_of_breath', 'head_ache', 'age_60_and_above',\n",
    "# 'gender', 'confirmed_ratio', 'weekday_ratio', 'test_indication', 'corona_result'\n",
    "mock_input = torch.Tensor([[0,0,0,0,0,0, 0.6, 0, 2]]).to(device)\n",
    "mock_input = torch.unsqueeze(mock_input, 1)\n",
    "\n",
    "torch.sigmoid(model(mock_input))"
   ]
  },
  {
   "cell_type": "code",
   "execution_count": 250,
   "id": "9a127775",
   "metadata": {},
   "outputs": [],
   "source": [
    "#  if test_indication == 'Other': return 0\n",
    "#     elif test_indication == 'Abroad': return 1\n",
    "#     elif  test_indication == 'Contact with confirmed': return 2"
   ]
  },
  {
   "cell_type": "code",
   "execution_count": 263,
   "id": "e6123a4a",
   "metadata": {},
   "outputs": [],
   "source": [
    "nosymp_other_x = []\n",
    "nosymp_other_y = []\n",
    "\n",
    "nosymp_abroad_x = []\n",
    "nosymp_abroad_y = []\n",
    "\n",
    "nosymp_contact_x = []\n",
    "nosymp_contact_y = []\n",
    "\n",
    "for i in range(11935):\n",
    "    no_symptom_input_o = torch.unsqueeze(torch.Tensor([[0,0,0,0,0,0, 100 * i/11934, 0]]).to(device), 1)\n",
    "    no_symptom_input_a = torch.unsqueeze(torch.Tensor([[0,0,0,0,0,0, 100 * i/11934, 1]]).to(device), 1)\n",
    "    no_symptom_input_c = torch.unsqueeze(torch.Tensor([[0,0,0,0,0,0, 100 * i/11934, 2]]).to(device), 1)\n",
    "    \n",
    "    if i % 10 == 0:\n",
    "        nosymp_other_x.append(i/11934)\n",
    "        nosymp_other_y.append(torch.sigmoid(model(no_symptom_input_o)).item())\n",
    "        \n",
    "        nosymp_abroad_x.append(i/11934)\n",
    "        nosymp_abroad_y.append(torch.sigmoid(model(no_symptom_input_a)).item())\n",
    "        \n",
    "        nosymp_contact_x.append(i/11934)\n",
    "        nosymp_contact_y.append(torch.sigmoid(model(no_symptom_input_c)).item())"
   ]
  },
  {
   "cell_type": "code",
   "execution_count": 264,
   "id": "3cfb0c25",
   "metadata": {},
   "outputs": [
    {
     "data": {
      "image/png": "[encoded data removed]",
      "text/plain": [
       "<Figure size 432x288 with 1 Axes>"
      ]
     },
     "metadata": {},
     "output_type": "display_data"
    }
   ],
   "source": [
    "plt.plot(nosymp_other_x, nosymp_other_y)\n",
    "plt.show()"
   ]
  },
  {
   "cell_type": "code",
   "execution_count": 265,
   "id": "6c6e8039",
   "metadata": {},
   "outputs": [
    {
     "data": {
      "image/png": "[encoded data removed]",
      "text/plain": [
       "<Figure size 432x288 with 1 Axes>"
      ]
     },
     "metadata": {},
     "output_type": "display_data"
    }
   ],
   "source": [
    "plt.plot(nosymp_abroad_x, nosymp_abroad_y)\n",
    "plt.show()"
   ]
  },
  {
   "cell_type": "code",
   "execution_count": 266,
   "id": "ea288f7a",
   "metadata": {},
   "outputs": [
    {
     "data": {
      "image/png": "[encoded data removed]",
      "text/plain": [
       "<Figure size 432x288 with 1 Axes>"
      ]
     },
     "metadata": {},
     "output_type": "display_data"
    }
   ],
   "source": [
    "plt.plot(nosymp_contact_x, nosymp_contact_y)\n",
    "plt.show()"
   ]
  },
  {
   "cell_type": "code",
   "execution_count": 408,
   "id": "e4ce0b53",
   "metadata": {},
   "outputs": [
    {
     "data": {
      "application/vnd.jupyter.widget-view+json": {
       "model_id": "ed433378c5b246a3b13d3157c28bbf43",
       "version_major": 2,
       "version_minor": 0
      },
      "text/plain": [
       "  0%|          | 0/1069182 [00:00<?, ?it/s]"
      ]
     },
     "metadata": {},
     "output_type": "display_data"
    },
    {
     "name": "stdout",
     "output_type": "stream",
     "text": [
      "tensor([[0.0000, 0.0000, 0.0000, 0.0000, 0.0000, 0.0000, 0.0000, 0.3348, 0.3333,\n",
      "         0.0000]])\n"
     ]
    }
   ],
   "source": [
    "model.eval()\n",
    "\n",
    "pred = []\n",
    "positive_res_data = []\n",
    "negative_res_data = []\n",
    "for test_data in tqdm(test_dataloader):\n",
    "        \n",
    "    test_inputs, test_labels = test_data\n",
    "    print(test_inputs)\n",
    "#     break\n",
    "    test_inputs = torch.unsqueeze(test_inputs, 1)\n",
    "    test_outputs = model(torch.Tensor(test_inputs).to(device))\n",
    "    test_outputs = torch.sigmoid(test_outputs)\n",
    "    if test_outputs[0][0].item() > 0.5:\n",
    "        pred.append([1])\n",
    "        positive_res_data.append(test_inputs.numpy().tolist())\n",
    "    else:\n",
    "        pred.append([0])\n",
    "        negative_res_data.append(test_inputs.numpy().tolist())\n",
    "    break"
   ]
  },
  {
   "cell_type": "code",
   "execution_count": 178,
   "id": "a417f3aa",
   "metadata": {},
   "outputs": [],
   "source": [
    "import pickle \n",
    "\n",
    "with open(\"./base_pred.pkl\", \"wb\") as fp:\n",
    "    pickle.dump(pred, fp)\n",
    "    \n",
    "with open(\"./base_positive_res_data.pkl\", \"wb\") as fp:\n",
    "    pickle.dump(positive_res_data, fp)\n",
    "    \n",
    "with open(\"./base_negative_res_data.pkl\", \"wb\") as fp:\n",
    "    pickle.dump(negative_res_data, fp)"
   ]
  },
  {
   "cell_type": "code",
   "execution_count": 179,
   "id": "37bc074d",
   "metadata": {},
   "outputs": [],
   "source": [
    "import pickle"
   ]
  },
  {
   "cell_type": "code",
   "execution_count": 183,
   "id": "1a7deef4",
   "metadata": {},
   "outputs": [],
   "source": [
    "pred = []\n",
    "positive_res_data = []\n",
    "negative_res_data = []\n",
    "\n",
    "with open(\"./base_pred.pkl\", \"rb\") as fp:\n",
    "    pred = pickle.load(fp)\n",
    "    \n",
    "with open(\"./base_positive_res_data.pkl\", \"rb\") as fp:\n",
    "    positive_res_data = pickle.load(fp)\n",
    "    \n",
    "with open(\"./base_negative_res_data.pkl\", \"rb\") as fp:\n",
    "    negative_res_data = pickle.load(fp)"
   ]
  },
  {
   "cell_type": "code",
   "execution_count": null,
   "id": "aa9fe818",
   "metadata": {},
   "outputs": [],
   "source": [
    "# def display_performance(pred, valid_gt):\n",
    "#     pred = np.array(pred)\n",
    "\n",
    "#     print('accuracy %.4f' % (accuracy_score(pred, valid_gt)))\n",
    "#     print('precision %.4f' % (precision_score(pred, valid_gt)))\n",
    "#     print('recall %.4f' % (recall_score(pred, valid_gt)))\n",
    "#     print('f1-score %.4f' % (f1_score(pred, valid_gt)))\n",
    "#     print(confusion_matrix(pred, valid_gt))\n",
    "#     fper, tper, thresholds = roc_curve(pred, valid_gt)\n",
    "#     print(tper)\n",
    "#     print(fper)\n",
    "#     print(thresholds)\n",
    "#     print(roc_auc_score(valid_gt, pred))\n",
    "#     optimal_idx = np.argmax(tper - fper)\n",
    "#     optimal_threshold = thresholds[optimal_idx]\n",
    "#     print(\"Threshold value is:\", optimal_threshold)\n",
    "#     # plot_roc_curve(fpr, tpr)\n",
    "#     plot_roc_curve(fper, tper)"
   ]
  },
  {
   "cell_type": "markdown",
   "id": "2a7b77b3",
   "metadata": {},
   "source": [
    "### 8-feature - epoch 1\n",
    "- accuracy 0.8779\n",
    "- precision 0.2652\n",
    "- recall 0.4887\n",
    "- f1-score 0.3438\n",
    "\n",
    "### 8-feature - epoch 10\n",
    "- accuracy 0.1348\n",
    "- precision 0.9928\n",
    "- recall 0.1217\n",
    "- f1-score 0.2169\n",
    "\n",
    "### 9-feature(isolated_today_contact_with_confirmed or new_contact_with_confirmed)\n",
    "- accuracy 0.8793\n",
    "- precision 0.0000\n",
    "- 모두 음성으로 판단하는 대참사\n",
    "\n",
    "### 9-feature(isolated_today_contact_with_confirmed or new_contact_with_confirmed) - epoch 5\n",
    "- accuracy 0.8699\n",
    "- precision 0.5792\n",
    "- recall 0.4685\n",
    "- f1-score 0.5180\n",
    "\n",
    "### 9-feature(contact) - epoch 20\n",
    "- accuracy 0.8702\n",
    "- precision 0.2208\n",
    "- recall 0.4144\n",
    "- f1-score 0.2881\n",
    "\n",
    "### 9-feature(positive ratio) - epoch 20\n",
    "- accuracy 0.7904\n",
    "- precision 0.5766\n",
    "- recall 0.3010\n",
    "- f1-score 0.3956\n",
    "\n",
    "### 10-feature( 'positive_ratio', 'contact') - epoch 20\n",
    "- accuracy 0.8713\n",
    "- precision 0.5797\n",
    "- recall 0.4671\n",
    "- f1-score 0.5174\n",
    "\n",
    "### 12-feature('contact', 'positive_ratio', 'weekday_ratio', 'confirmed_ratio') - epoch 20\n",
    "- accuracy 0.8698\n",
    "- precision 0.5809\n",
    "- recall 0.4650\n",
    "- f1-score 0.5166\n",
    "\n",
    "\n",
    "accuracy 0.8793\n",
    "precision 0.1684\n",
    "recall 0.4877\n",
    "f1-score 0.2503\n",
    "[[740307  85788]\n",
    " [ 18244  17368]]"
   ]
  },
  {
   "cell_type": "code",
   "execution_count": 177,
   "id": "245df118",
   "metadata": {},
   "outputs": [],
   "source": [
    "# 'cough', 'fever', 'sore_throat', 'shortness_of_breath', 'head_ache', 'age_60_and_above', 'gender', 'confirmed_ratio', 'weekday_ratio', 'corona_result'"
   ]
  },
  {
   "cell_type": "code",
   "execution_count": null,
   "id": "9916bdf4",
   "metadata": {},
   "outputs": [],
   "source": [
    "df_pos = pd.DataFrame(np.array(positive_res_data).reshape(-1, 8), columns=['cough', 'fever', 'sore_throat', 'shortness_of_breath', 'head_ache', 'age_60_and_above', 'gender', 'test_indication'])\n",
    "df_neg = pd.DataFrame(np.array(negative_res_data).reshape(-1, 8), columns=['cough', 'fever', 'sore_throat', 'shortness_of_breath', 'head_ache', 'age_60_and_above', 'gender', 'test_indication'])"
   ]
  },
  {
   "cell_type": "code",
   "execution_count": null,
   "id": "fa3ba22e",
   "metadata": {},
   "outputs": [],
   "source": [
    "print(f\"양성 갯수: {df_pos.shape[0]}, 음성 갯수: {df_neg.shape[0]}, 양성 / 음성 비율: {round(df_pos.shape[0] / df_neg.shape[0] * 100, 2)}%\")"
   ]
  },
  {
   "cell_type": "code",
   "execution_count": null,
   "id": "0022f2cb",
   "metadata": {},
   "outputs": [],
   "source": [
    "df_pos_symptom_cnt = [0] * 6\n",
    "df_neg_symptom_cnt = [0] * 6\n",
    "pos_symptom_confusion_matrix = np.zeros((2,2,2,2,2), dtype=int)\n",
    "neg_symptom_confusion_matrix = np.zeros((2,2,2,2,2), dtype=int)\n",
    "\n",
    "for idx, row in tqdm(df_pos.iterrows()):\n",
    "    symptoms = row[['cough', 'fever', 'sore_throat', 'shortness_of_breath', 'head_ache']].astype(int).tolist()\n",
    "    pos_symptom_confusion_matrix[symptoms[0], symptoms[1], symptoms[2], symptoms[3], symptoms[4]] += 1\n",
    "    cnt_idx = int(sum(symptoms))\n",
    "    df_pos_symptom_cnt[cnt_idx] += 1\n",
    "    \n",
    "for idx, row in tqdm(df_neg.iterrows()):\n",
    "    #     if idx == df_pos.shape[0]: break\n",
    "    symptoms = row[['cough', 'fever', 'sore_throat', 'shortness_of_breath', 'head_ache']].astype(int).tolist()\n",
    "    neg_symptom_confusion_matrix[symptoms[0], symptoms[1], symptoms[2], symptoms[3], symptoms[4]] += 1\n",
    "    cnt_idx = int(sum(symptoms))\n",
    "    df_neg_symptom_cnt[cnt_idx] += 1"
   ]
  },
  {
   "cell_type": "code",
   "execution_count": null,
   "id": "f9dbfeb4",
   "metadata": {},
   "outputs": [],
   "source": [
    "df_pos.shape[0], df_neg.shape[0]"
   ]
  },
  {
   "cell_type": "code",
   "execution_count": null,
   "id": "3f2f18b1",
   "metadata": {},
   "outputs": [],
   "source": [
    "def positive_percent_of_ormore_number(number):\n",
    "    neg_ormore_num = sum(df_neg_symptom_cnt[number:])\n",
    "    pos_ormore_num = sum(df_pos_symptom_cnt[number:])\n",
    "    total = neg_ormore_num + pos_ormore_num\n",
    "    if total == 0: 'lower the number'\n",
    "    return round((pos_ormore_num / total) * 100, 2)"
   ]
  },
  {
   "cell_type": "code",
   "execution_count": null,
   "id": "1c27c092",
   "metadata": {},
   "outputs": [],
   "source": [
    "print(f\"음성 예측 데이터 [0개, 1개, 2개, 3개, 4개, 5개] : {df_neg_symptom_cnt[:6]}\")\n",
    "print(f\"양성 예측 데이터 [0개, 1개, 2개, 3개, 4개, 5개] : {df_pos_symptom_cnt[:6]}\\n\")\n",
    "\n",
    "for number in range(6):\n",
    "    print(f\"{number}개 이상] {positive_percent_of_ormore_number(number)}% 양성\")\n",
    "    print(f\"증상 {number}개] 음성/양성% : {round(df_neg_symptom_cnt[number] / df_pos_symptom_cnt[number]*100, 2)}%\\n\")"
   ]
  },
  {
   "cell_type": "code",
   "execution_count": null,
   "id": "8591d40e",
   "metadata": {},
   "outputs": [],
   "source": [
    "pos_symptom_confusion_matrix"
   ]
  },
  {
   "cell_type": "code",
   "execution_count": null,
   "id": "ce20782f",
   "metadata": {},
   "outputs": [],
   "source": [
    "def confusion_matrix_display(confusion_matrix):\n",
    "    for i in range(32):\n",
    "        idx = bin(i).replace(\"0b\", \"0\" * (7-len(bin(i))))\n",
    "        cnt = 0\n",
    "        if idx[0] == '1': \n",
    "            print('[ cough',end = ' ')\n",
    "            cnt += 1\n",
    "        if idx[1] == '1': \n",
    "            print('fever',end = ' ')\n",
    "            cnt += 1\n",
    "        if idx[2] == '1': \n",
    "            print('sore_throat',end = ' ')\n",
    "            cnt += 1\n",
    "        if idx[3] == '1': \n",
    "            print('shortness_of_breath',end = ' ')\n",
    "            cnt += 1\n",
    "        if idx[4] == '1': \n",
    "            print('head_ache',end = ' ')\n",
    "            cnt += 1\n",
    "        print(f'{cnt}개 증상 ]')\n",
    "            \n",
    "        print(confusion_matrix[int(idx[0]),int(idx[1]),int(idx[2]),int(idx[3]),int(idx[4])])"
   ]
  },
  {
   "cell_type": "code",
   "execution_count": null,
   "id": "0d5577d5",
   "metadata": {},
   "outputs": [],
   "source": [
    "confusion_matrix_display(neg_symptom_confusion_matrix)"
   ]
  },
  {
   "cell_type": "code",
   "execution_count": null,
   "id": "685df3a9",
   "metadata": {},
   "outputs": [],
   "source": [
    "confusion_matrix_display(pos_symptom_confusion_matrix)"
   ]
  },
  {
   "cell_type": "code",
   "execution_count": null,
   "id": "5b65ac8f",
   "metadata": {},
   "outputs": [],
   "source": [
    "pred = np.array(pred)\n",
    "\n",
    "print('accuracy %.4f' % (accuracy_score(pred, valid_gt)))\n",
    "print('precision %.4f' % (precision_score(pred, valid_gt)))\n",
    "print('recall %.4f' % (recall_score(pred, valid_gt)))\n",
    "print('f1-score %.4f' % (f1_score(pred, valid_gt)))\n",
    "print(confusion_matrix(pred, valid_gt))"
   ]
  },
  {
   "cell_type": "code",
   "execution_count": null,
   "id": "71c781b6",
   "metadata": {},
   "outputs": [],
   "source": [
    "pred\n",
    "# pred_chk"
   ]
  },
  {
   "cell_type": "markdown",
   "id": "6810aefe",
   "metadata": {},
   "source": [
    "### random forest result\n",
    "- accuracy 0.9257\n",
    "- precision 0.2314\n",
    "- recall 0.5553\n",
    "- f1-score 0.3267\n",
    "- [[791936  52206]\n",
    "- [ 12591  15720]]\n",
    "\n",
    "### 1-layer sigmoid epoch3 result\n",
    "- accuracy 0.9222\n",
    "- precision 0.1958\n",
    "- recall 0.5013\n",
    "- f1-score 0.2816\n",
    "- [[791299  54627]\n",
    "- [ 13228  13299]]\n",
    "\n",
    "### compare with logistic regression\n",
    "- accuracy 0.9224\n",
    "- precision 0.1953\n",
    "- recall 0.5049\n",
    "- f1-score 0.2816\n",
    "- [[791517  54661]\n",
    "- [ 13010  13265]]\n",
    "\n",
    "### 2-layer epoch3 result\n",
    "- 8-4-1(sig-sig)\n",
    "- accuracy 0.9248\n",
    "- precision 0.2626\n",
    "- recall 0.5342\n",
    "- f1-score 0.3521\n",
    "- [[788976  50090]\n",
    "-  [ 15551  17836]]\n",
    "\n",
    "### 2-layer epoch3 result\n",
    "- 8-4-1(relu-sig)\n",
    "- accuracy 0.9256 \n",
    "- precision 0.1999\n",
    "- recall 0.5635\n",
    "- f1-score 0.2951\n",
    "- [[794008  54349]\n",
    "- [ 10519  13577]]\n",
    "\n",
    "### 2-layer epoch3 result\n",
    "- 8-20-1(relu-sig)\n",
    "- accuracy 0.9255\n",
    "- precision 0.2392\n",
    "- recall 0.5498\n",
    "- f1-score 0.3333\n",
    "- [[791226  51680]\n",
    "-  [ 13301  16246]]\n",
    "\n",
    "### 2-layer epcoh3 result \n",
    "- 8-400-1(relu-sig)\n",
    "- accuracy 0.9256\n",
    "- precision 0.2904\n",
    "- recall 0.5415\n",
    "- f1-score 0.3781\n",
    "- [[787821  48197]\n",
    "- [ 16706  19729]]\n",
    "\n",
    "### 3-layer epoch3 result\n",
    "- 8-4-2-1 (relu-relu-sigmoid) (sigmoid-sigmoid-sigmoid 동일한 결과)\n",
    "- accuracy 0.9221\n",
    "- precision 0.0000\n",
    "- recall 0.0000\n",
    "- f1-score 0.0000\n",
    "- [[804527  67926]\n",
    "-  [     0      0]]\n",
    "- 확인 결과 모든 출력을 음성으로 출력함(1-layer가 오히려 낫네?)"
   ]
  },
  {
   "cell_type": "markdown",
   "id": "18069c58",
   "metadata": {},
   "source": [
    "## 시간 순서대로 train, valid, test 나눔\n",
    "\n",
    "### Logistic Regression\n",
    "- accuracy 0.8782\n",
    "- precision 0.2240\n",
    "- recall 0.4901\n",
    "- f1-score 0.3075\n",
    "- [[742649  81690]\n",
    "  [ 24533  23581]]\n",
    "  \n",
    "### Random Forest\n",
    "- accuracy 0.8761\n",
    "- precision 0.4298\n",
    "- recall 0.4848\n",
    "- f1-score 0.4556\n",
    "- [[719101  60026]\n",
    "- [ 48081  45245]]\n",
    "\n",
    "### Decision Tree\n",
    "- accuracy 0.8761\n",
    "- precision 0.4299\n",
    "- recall 0.4848\n",
    "- f1-score 0.4557\n",
    "- [[719094  60017]\n",
    "- [ 48088  45254]]\n",
    "\n",
    "### Gradient Boosting \n",
    "- accuracy 0.8789\n",
    "- precision 0.3059\n",
    "- recall 0.4973\n",
    "- f1-score 0.3788\n",
    "- [[734633  73070]\n",
    "- [ 32549  32201]]\n",
    "\n",
    "### 3-layer NN \n",
    "- epochs = 10, batch_size = 128\n",
    "- 8-1200-1\n",
    "- accuracy 0.8699\n",
    "- precision 0.5794\n",
    "- recall 0.4683\n",
    "- f1-score 0.5180\n",
    "- [[697921  44274]\n",
    "- [ 69261  60997]]"
   ]
  },
  {
   "cell_type": "code",
   "execution_count": 3,
   "id": "1feaff3d",
   "metadata": {},
   "outputs": [],
   "source": [
    "test_json = {\n",
    "  \"baby_id\": \"11111\",\n",
    "  \"user_id\": \"11113\",\n",
    "  \"timestamp\": \"\",\n",
    "  \"input_data\": {\n",
    "    \"COVID_SELF_CHECK\": {\n",
    "      \"3\": \"5\",\n",
    "      \"4\": [\n",
    "        \"104\",\n",
    "        \"107\",\n",
    "        \"102\"\n",
    "      ]\n",
    "    },\n",
    "    \"BASIC_INFO_01\": {\n",
    "      \"3\": \"5\",\n",
    "      \"4\": [\n",
    "        \"104\",\n",
    "        \"107\",\n",
    "        \"102\"\n",
    "      ]\n",
    "    },\n",
    "    \"UNDERLYING_DISEASE_QNA_01\": {\n",
    "      \"3\": \"5\",\n",
    "      \"4\": [\n",
    "        \"104\",\n",
    "        \"107\",\n",
    "        \"102\"\n",
    "      ]\n",
    "    },\n",
    "    \"UNDERLYING_DISEASE_QNA_02\": {\n",
    "      \"3\": \"5\",\n",
    "      \"4\": [\n",
    "        \"104\",\n",
    "        \"107\",\n",
    "        \"102\"\n",
    "      ]\n",
    "    },\n",
    "    \"BASIC_INFO_02\": {\n",
    "      \"3\": \"5\",\n",
    "      \"4\": [\n",
    "        \"104\",\n",
    "        \"107\",\n",
    "        \"102\"\n",
    "      ]\n",
    "    }\n",
    "  }\n",
    "}"
   ]
  },
  {
   "cell_type": "code",
   "execution_count": 4,
   "id": "437fbe52",
   "metadata": {},
   "outputs": [],
   "source": [
    "import numpy as np\n",
    "\n",
    "def json_to_np(json):\n",
    "    baby_id = json['baby_id']\n",
    "    user_id = json['user_id']\n",
    "    return np.array([baby_id, user_id])"
   ]
  },
  {
   "cell_type": "code",
   "execution_count": 6,
   "id": "86163f5f",
   "metadata": {},
   "outputs": [
    {
     "data": {
      "text/plain": [
       "array(['11111', '11113'], dtype='<U5')"
      ]
     },
     "execution_count": 6,
     "metadata": {},
     "output_type": "execute_result"
    }
   ],
   "source": [
    "json_to_np(test_json)"
   ]
  },
  {
   "cell_type": "code",
   "execution_count": null,
   "id": "15895937",
   "metadata": {},
   "outputs": [],
   "source": [
    "def input_data_to_np(input_data):"
   ]
  },
  {
   "cell_type": "code",
   "execution_count": 16,
   "id": "68201ba7",
   "metadata": {},
   "outputs": [],
   "source": [
    "input_data = {\n",
    "    \"COVID_SELF_CHECK\": {\n",
    "      \"3\": \"5\",\n",
    "      \"4\": [\n",
    "        \"104\",\n",
    "        \"107\",\n",
    "        \"102\"\n",
    "      ]\n",
    "    },\n",
    "    \"BASIC_INFO_01\": {\n",
    "      \"3\": \"5\",\n",
    "      \"4\": [\n",
    "        \"104\",\n",
    "        \"107\",\n",
    "        \"102\"\n",
    "      ]\n",
    "    },\n",
    "    \"UNDERLYING_DISEASE_QNA_01\": {\n",
    "      \"3\": \"5\",\n",
    "      \"4\": [\n",
    "        \"104\",\n",
    "        \"107\",\n",
    "        \"102\"\n",
    "      ]\n",
    "    },\n",
    "    \"UNDERLYING_DISEASE_QNA_02\": {\n",
    "      \"3\": \"5\",\n",
    "      \"4\": [\n",
    "        \"104\",\n",
    "        \"107\",\n",
    "        \"102\"\n",
    "      ]\n",
    "    },\n",
    "    \"BASIC_INFO_02\": {\n",
    "      \"3\": \"5\",\n",
    "      \"4\": [\n",
    "        \"104\",\n",
    "        \"107\",\n",
    "        \"102\"\n",
    "      ]\n",
    "    }\n",
    "}   "
   ]
  },
  {
   "cell_type": "code",
   "execution_count": 17,
   "id": "934b75e6",
   "metadata": {},
   "outputs": [
    {
     "data": {
      "text/plain": [
       "{'COVID_SELF_CHECK': {'3': '5', '4': ['104', '107', '102']},\n",
       " 'BASIC_INFO_01': {'3': '5', '4': ['104', '107', '102']},\n",
       " 'UNDERLYING_DISEASE_QNA_01': {'3': '5', '4': ['104', '107', '102']},\n",
       " 'UNDERLYING_DISEASE_QNA_02': {'3': '5', '4': ['104', '107', '102']},\n",
       " 'BASIC_INFO_02': {'3': '5', '4': ['104', '107', '102']}}"
      ]
     },
     "execution_count": 17,
     "metadata": {},
     "output_type": "execute_result"
    }
   ],
   "source": [
    "input_data"
   ]
  },
  {
   "cell_type": "code",
   "execution_count": 18,
   "id": "13b76349",
   "metadata": {},
   "outputs": [
    {
     "data": {
      "text/plain": [
       "dict_values([{'3': '5', '4': ['104', '107', '102']}, {'3': '5', '4': ['104', '107', '102']}, {'3': '5', '4': ['104', '107', '102']}, {'3': '5', '4': ['104', '107', '102']}, {'3': '5', '4': ['104', '107', '102']}])"
      ]
     },
     "execution_count": 18,
     "metadata": {},
     "output_type": "execute_result"
    }
   ],
   "source": [
    "input_data.values()"
   ]
  },
  {
   "cell_type": "code",
   "execution_count": null,
   "id": "09df336a",
   "metadata": {},
   "outputs": [],
   "source": []
  }
 ],
 "metadata": {
  "kernelspec": {
   "display_name": "Python 3",
   "language": "python",
   "name": "python3"
  },
  "language_info": {
   "codemirror_mode": {
    "name": "ipython",
    "version": 3
   },
   "file_extension": ".py",
   "mimetype": "text/x-python",
   "name": "python",
   "nbconvert_exporter": "python",
   "pygments_lexer": "ipython3",
   "version": "3.8.10"
  }
 },
 "nbformat": 4,
 "nbformat_minor": 5
}
