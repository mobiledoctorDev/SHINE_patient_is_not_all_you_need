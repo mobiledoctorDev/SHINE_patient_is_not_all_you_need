{
 "cells": [
  {
   "cell_type": "markdown",
   "id": "53072070",
   "metadata": {},
   "source": [
    "## Import library"
   ]
  },
  {
   "cell_type": "code",
   "execution_count": 1,
   "id": "32a01580",
   "metadata": {},
   "outputs": [],
   "source": [
    "import datetime \n",
    "from datetime import timedelta \n",
    "import os\n",
    "import glob\n",
    "import numpy as np\n",
    "import pandas as pd\n",
    "import torch\n",
    "import torchvision\n",
    "import torchvision.transforms as transforms\n",
    "from sklearn.metrics import roc_curve\n",
    "from torch import nn, optim\n",
    "\n",
    "import torch.nn.functional as F\n",
    "import math, copy, time\n",
    "from torch.autograd import Variable\n",
    "from torch.utils.data import Dataset\n",
    "from torch.utils.data import DataLoader\n",
    "from itertools import cycle\n",
    "from tqdm.notebook import tqdm\n",
    "import re\n",
    "from sklearn.metrics import roc_auc_score, plot_roc_curve\n",
    "\n",
    "import matplotlib.pyplot as plt\n",
    "import seaborn\n",
    "from collections import defaultdict\n",
    "\n",
    "from sklearn import svm\n",
    "\n",
    "import matplotlib.font_manager as fm\n",
    "import seaborn as sns\n",
    "from itertools import product"
   ]
  },
  {
   "cell_type": "markdown",
   "id": "947019e1",
   "metadata": {},
   "source": [
    "## Data load"
   ]
  },
  {
   "cell_type": "code",
   "execution_count": 2,
   "id": "4d863c8d",
   "metadata": {
    "scrolled": true
   },
   "outputs": [
    {
     "name": "stderr",
     "output_type": "stream",
     "text": [
      "/home/md/anaconda3/envs/flu_screening/lib/python3.8/site-packages/IPython/core/interactiveshell.py:3165: DtypeWarning: Columns (7,8) have mixed types.Specify dtype option on import or set low_memory=False.\n",
      "  has_raised = await self.run_ast_nodes(code_ast.body, cell_name,\n"
     ]
    }
   ],
   "source": [
    "# df_israel_covid 이스라엘 데이터셋\n",
    "# corona_isolation_per_day_ver_0059 일일 코로나 격리자 수 \n",
    "# time_series_covid19_confirmed_global 누적 확진자 수 \n",
    "\n",
    "base_path = './opendataset'\n",
    "df_israel_covid = pd.read_csv(f'{base_path}/israel_covid_large_2.csv')\n",
    "# df_israel_covid = pd.read_csv(f'{base_path}/israel_covid_small.csv')\n",
    "df_israel_isolation_per_day = pd.read_csv(f'{base_path}/corona_isolation_per_day_ver_0069.csv')\n",
    "df_timeseries_confirm = pd.read_csv(f'{base_path}/time_series_covid19_confirmed_global.csv')"
   ]
  },
  {
   "cell_type": "code",
   "execution_count": 3,
   "id": "6f573029",
   "metadata": {},
   "outputs": [],
   "source": [
    "df_confirmed_global = df_timeseries_confirm.sum().reset_index()"
   ]
  },
  {
   "cell_type": "code",
   "execution_count": 4,
   "id": "1908b2fa",
   "metadata": {},
   "outputs": [],
   "source": [
    "df_confirmed_global = df_confirmed_global.rename(columns={'index': 'global_confirmed_date', 0: 'global_confirmed_numsum'}).iloc[3:, :]"
   ]
  },
  {
   "cell_type": "code",
   "execution_count": 5,
   "id": "dd2c1c5c",
   "metadata": {},
   "outputs": [],
   "source": [
    "df_confirmed_global = df_confirmed_global.reset_index(drop=True)"
   ]
  },
  {
   "cell_type": "code",
   "execution_count": 6,
   "id": "8e55619d",
   "metadata": {},
   "outputs": [
    {
     "data": {
      "text/html": [
       "<div>\n",
       "<style scoped>\n",
       "    .dataframe tbody tr th:only-of-type {\n",
       "        vertical-align: middle;\n",
       "    }\n",
       "\n",
       "    .dataframe tbody tr th {\n",
       "        vertical-align: top;\n",
       "    }\n",
       "\n",
       "    .dataframe thead th {\n",
       "        text-align: right;\n",
       "    }\n",
       "</style>\n",
       "<table border=\"1\" class=\"dataframe\">\n",
       "  <thead>\n",
       "    <tr style=\"text-align: right;\">\n",
       "      <th></th>\n",
       "      <th>global_confirmed_date</th>\n",
       "      <th>global_confirmed_numsum</th>\n",
       "    </tr>\n",
       "  </thead>\n",
       "  <tbody>\n",
       "    <tr>\n",
       "      <th>0</th>\n",
       "      <td>1/22/20</td>\n",
       "      <td>557</td>\n",
       "    </tr>\n",
       "    <tr>\n",
       "      <th>1</th>\n",
       "      <td>1/23/20</td>\n",
       "      <td>655</td>\n",
       "    </tr>\n",
       "    <tr>\n",
       "      <th>2</th>\n",
       "      <td>1/24/20</td>\n",
       "      <td>941</td>\n",
       "    </tr>\n",
       "    <tr>\n",
       "      <th>3</th>\n",
       "      <td>1/25/20</td>\n",
       "      <td>1433</td>\n",
       "    </tr>\n",
       "    <tr>\n",
       "      <th>4</th>\n",
       "      <td>1/26/20</td>\n",
       "      <td>2118</td>\n",
       "    </tr>\n",
       "    <tr>\n",
       "      <th>...</th>\n",
       "      <td>...</td>\n",
       "      <td>...</td>\n",
       "    </tr>\n",
       "    <tr>\n",
       "      <th>589</th>\n",
       "      <td>9/2/21</td>\n",
       "      <td>219062869</td>\n",
       "    </tr>\n",
       "    <tr>\n",
       "      <th>590</th>\n",
       "      <td>9/3/21</td>\n",
       "      <td>219821446</td>\n",
       "    </tr>\n",
       "    <tr>\n",
       "      <th>591</th>\n",
       "      <td>9/4/21</td>\n",
       "      <td>220282354</td>\n",
       "    </tr>\n",
       "    <tr>\n",
       "      <th>592</th>\n",
       "      <td>9/5/21</td>\n",
       "      <td>220689611</td>\n",
       "    </tr>\n",
       "    <tr>\n",
       "      <th>593</th>\n",
       "      <td>9/6/21</td>\n",
       "      <td>221104483</td>\n",
       "    </tr>\n",
       "  </tbody>\n",
       "</table>\n",
       "<p>594 rows × 2 columns</p>\n",
       "</div>"
      ],
      "text/plain": [
       "    global_confirmed_date global_confirmed_numsum\n",
       "0                 1/22/20                     557\n",
       "1                 1/23/20                     655\n",
       "2                 1/24/20                     941\n",
       "3                 1/25/20                    1433\n",
       "4                 1/26/20                    2118\n",
       "..                    ...                     ...\n",
       "589                9/2/21               219062869\n",
       "590                9/3/21               219821446\n",
       "591                9/4/21               220282354\n",
       "592                9/5/21               220689611\n",
       "593                9/6/21               221104483\n",
       "\n",
       "[594 rows x 2 columns]"
      ]
     },
     "execution_count": 6,
     "metadata": {},
     "output_type": "execute_result"
    }
   ],
   "source": [
    "df_confirmed_global"
   ]
  },
  {
   "cell_type": "code",
   "execution_count": 7,
   "id": "614e2fdd",
   "metadata": {},
   "outputs": [
    {
     "name": "stderr",
     "output_type": "stream",
     "text": [
      "<ipython-input-7-dfada257fb77>:3: SettingWithCopyWarning: \n",
      "A value is trying to be set on a copy of a slice from a DataFrame.\n",
      "Try using .loc[row_indexer,col_indexer] = value instead\n",
      "\n",
      "See the caveats in the documentation: https://pandas.pydata.org/pandas-docs/stable/user_guide/indexing.html#returning-a-view-versus-a-copy\n",
      "  df_confirmed_global['global_confirmed_num'] = df_confirmed_global['global_confirmed_num'].astype(int)\n"
     ]
    }
   ],
   "source": [
    "df_confirmed_global['global_confirmed_num'] = df_confirmed_global['global_confirmed_numsum'] - df_confirmed_global.shift(1)['global_confirmed_numsum']\n",
    "df_confirmed_global = df_confirmed_global.dropna()\n",
    "df_confirmed_global['global_confirmed_num'] = df_confirmed_global['global_confirmed_num'].astype(int)"
   ]
  },
  {
   "cell_type": "code",
   "execution_count": 8,
   "id": "437e9b12",
   "metadata": {},
   "outputs": [],
   "source": [
    "def filter_date(date):\n",
    "    year = f\"20{date[-2:]}\"\n",
    "    month = date[:date.index('/')]\n",
    "    month = f'0{month}' if len(month) == 1 else month\n",
    "    day = date[date.index('/') + 1 : date.rindex('/')]\n",
    "    day = f'0{day}' if len(day) == 1 else day\n",
    "    res = f'{year}-{month}-{day}'\n",
    "    return res"
   ]
  },
  {
   "cell_type": "code",
   "execution_count": 9,
   "id": "9718b94f",
   "metadata": {},
   "outputs": [
    {
     "name": "stderr",
     "output_type": "stream",
     "text": [
      "<ipython-input-9-62bcef823a49>:1: SettingWithCopyWarning: \n",
      "A value is trying to be set on a copy of a slice from a DataFrame.\n",
      "Try using .loc[row_indexer,col_indexer] = value instead\n",
      "\n",
      "See the caveats in the documentation: https://pandas.pydata.org/pandas-docs/stable/user_guide/indexing.html#returning-a-view-versus-a-copy\n",
      "  df_confirmed_global['global_confirmed_date'] = df_confirmed_global['global_confirmed_date'].apply(filter_date)\n"
     ]
    }
   ],
   "source": [
    "df_confirmed_global['global_confirmed_date'] = df_confirmed_global['global_confirmed_date'].apply(filter_date)"
   ]
  },
  {
   "cell_type": "markdown",
   "id": "4045abb0",
   "metadata": {},
   "source": [
    "## preprocessing"
   ]
  },
  {
   "cell_type": "code",
   "execution_count": 205,
   "id": "85fccf9b",
   "metadata": {},
   "outputs": [],
   "source": [
    "# 누적 확진자수를 2021-08-17 와 같은 포멧으로 전처리해주는 과정\n",
    "\n",
    "rows = []\n",
    "for idx, values in enumerate(df_timeseries_confirm[df_timeseries_confirm['Country/Region'] == 'Israel'].iteritems()):\n",
    "    if idx < 4: continue\n",
    "    year = f\"20{values[0][-2:]}\"\n",
    "    month = values[0][:values[0].index('/')]\n",
    "    month = f'0{month}' if len(month) == 1 else month\n",
    "    day = values[0][values[0].index('/') + 1 : values[0].rindex('/')]\n",
    "    day = f'0{day}' if len(day) == 1 else day\n",
    "    date = f'{year}-{month}-{day}'\n",
    "    confirmed_num = values[1].item()\n",
    "    rows.append([date, confirmed_num])\n",
    "df_numsum_confirmed = pd.DataFrame(rows, columns=['confirmed_date', 'confirmed_numsum'])"
   ]
  },
  {
   "cell_type": "code",
   "execution_count": 206,
   "id": "d9af766a",
   "metadata": {},
   "outputs": [],
   "source": [
    "# 누적 확진자를 통해 일일 확진자 구하기\n",
    "\n",
    "df_numsum_confirmed['confirmed_num'] = df_numsum_confirmed['confirmed_numsum'] - df_numsum_confirmed.shift(1)['confirmed_numsum']\n",
    "df_numsum_confirmed = df_numsum_confirmed.dropna()\n",
    "df_numsum_confirmed['confirmed_num'] = df_numsum_confirmed['confirmed_num'].astype(int)"
   ]
  },
  {
   "cell_type": "code",
   "execution_count": 207,
   "id": "0db7f06c",
   "metadata": {},
   "outputs": [
    {
     "name": "stdout",
     "output_type": "stream",
     "text": [
      "before -28\n",
      "after 28\n",
      "\n",
      "before -53\n",
      "after 34\n",
      "\n"
     ]
    }
   ],
   "source": [
    "# 일일 확진자수가 음수인 경우 그 전날 확진자를 가져다 쓰는 과정\n",
    "\n",
    "for idx, row in df_numsum_confirmed[df_numsum_confirmed['confirmed_num'] < 0].iterrows():\n",
    "    print(\"before\", df_numsum_confirmed.loc[idx,'confirmed_num'])\n",
    "    df_numsum_confirmed.loc[idx,'confirmed_num'] = df_numsum_confirmed.loc[idx-1,'confirmed_num']\n",
    "    print(\"after\", df_numsum_confirmed.loc[idx,'confirmed_num'])\n",
    "    print()"
   ]
  },
  {
   "cell_type": "code",
   "execution_count": 208,
   "id": "e1e666d5",
   "metadata": {},
   "outputs": [
    {
     "data": {
      "text/html": [
       "<div>\n",
       "<style scoped>\n",
       "    .dataframe tbody tr th:only-of-type {\n",
       "        vertical-align: middle;\n",
       "    }\n",
       "\n",
       "    .dataframe tbody tr th {\n",
       "        vertical-align: top;\n",
       "    }\n",
       "\n",
       "    .dataframe thead th {\n",
       "        text-align: right;\n",
       "    }\n",
       "</style>\n",
       "<table border=\"1\" class=\"dataframe\">\n",
       "  <thead>\n",
       "    <tr style=\"text-align: right;\">\n",
       "      <th></th>\n",
       "      <th>confirmed_date</th>\n",
       "      <th>confirmed_numsum</th>\n",
       "      <th>confirmed_num</th>\n",
       "    </tr>\n",
       "  </thead>\n",
       "  <tbody>\n",
       "    <tr>\n",
       "      <th>1</th>\n",
       "      <td>2020-01-23</td>\n",
       "      <td>0</td>\n",
       "      <td>0</td>\n",
       "    </tr>\n",
       "    <tr>\n",
       "      <th>2</th>\n",
       "      <td>2020-01-24</td>\n",
       "      <td>0</td>\n",
       "      <td>0</td>\n",
       "    </tr>\n",
       "    <tr>\n",
       "      <th>3</th>\n",
       "      <td>2020-01-25</td>\n",
       "      <td>0</td>\n",
       "      <td>0</td>\n",
       "    </tr>\n",
       "    <tr>\n",
       "      <th>4</th>\n",
       "      <td>2020-01-26</td>\n",
       "      <td>0</td>\n",
       "      <td>0</td>\n",
       "    </tr>\n",
       "    <tr>\n",
       "      <th>5</th>\n",
       "      <td>2020-01-27</td>\n",
       "      <td>0</td>\n",
       "      <td>0</td>\n",
       "    </tr>\n",
       "  </tbody>\n",
       "</table>\n",
       "</div>"
      ],
      "text/plain": [
       "  confirmed_date  confirmed_numsum  confirmed_num\n",
       "1     2020-01-23                 0              0\n",
       "2     2020-01-24                 0              0\n",
       "3     2020-01-25                 0              0\n",
       "4     2020-01-26                 0              0\n",
       "5     2020-01-27                 0              0"
      ]
     },
     "execution_count": 208,
     "metadata": {},
     "output_type": "execute_result"
    }
   ],
   "source": [
    "df_numsum_confirmed.head(5)\n",
    "# df_numsum_confirmed.tail(5)"
   ]
  },
  {
   "cell_type": "code",
   "execution_count": 209,
   "id": "6e2cd533",
   "metadata": {},
   "outputs": [],
   "source": [
    "df_israel_covid = df_israel_covid[df_israel_covid['test_date'] < '2021-09-01']\n",
    "df_israel_isolation_per_day = df_israel_isolation_per_day[df_israel_isolation_per_day['date'] < '2021-09-01']\n",
    "df_numsum_confirmed = df_numsum_confirmed[df_numsum_confirmed['confirmed_date'] < '2021-06-01']\n",
    "df_confirmed_global = df_confirmed_global[df_confirmed_global['global_confirmed_date'] < '2021-06-01']"
   ]
  },
  {
   "cell_type": "code",
   "execution_count": 210,
   "id": "2e6b79be",
   "metadata": {
    "scrolled": true
   },
   "outputs": [],
   "source": [
    "df_israel_isolation_per_day['join_date'] = (pd.to_datetime(df_israel_isolation_per_day['date']) + timedelta(days=1)).dt.strftime('%Y-%m-%d')\n",
    "\n",
    "# 요일을 숫자로 기록한 컬럼 하나 만듬\n",
    "df_israel_covid['weekday'] = pd.to_datetime(df_israel_covid['test_date']).dt.dayofweek"
   ]
  },
  {
   "cell_type": "code",
   "execution_count": 211,
   "id": "0050016f",
   "metadata": {},
   "outputs": [],
   "source": [
    "# 기존 이스라엘 데이터에 격리자 컬럼을 넣어주는 과정\n",
    "\n",
    "df_israel_covid = pd.merge(df_israel_covid, df_israel_isolation_per_day, how='left', left_on='test_date', right_on='join_date')"
   ]
  },
  {
   "cell_type": "code",
   "execution_count": 212,
   "id": "74ac23e4",
   "metadata": {},
   "outputs": [
    {
     "data": {
      "text/html": [
       "<div>\n",
       "<style scoped>\n",
       "    .dataframe tbody tr th:only-of-type {\n",
       "        vertical-align: middle;\n",
       "    }\n",
       "\n",
       "    .dataframe tbody tr th {\n",
       "        vertical-align: top;\n",
       "    }\n",
       "\n",
       "    .dataframe thead th {\n",
       "        text-align: right;\n",
       "    }\n",
       "</style>\n",
       "<table border=\"1\" class=\"dataframe\">\n",
       "  <thead>\n",
       "    <tr style=\"text-align: right;\">\n",
       "      <th></th>\n",
       "      <th>test_date</th>\n",
       "      <th>cough</th>\n",
       "      <th>fever</th>\n",
       "      <th>sore_throat</th>\n",
       "      <th>shortness_of_breath</th>\n",
       "      <th>head_ache</th>\n",
       "      <th>corona_result</th>\n",
       "      <th>age_60_and_above</th>\n",
       "      <th>gender</th>\n",
       "      <th>test_indication</th>\n",
       "      <th>weekday</th>\n",
       "      <th>date</th>\n",
       "      <th>isolated_today_contact_with_confirmed</th>\n",
       "      <th>isolated_today_abroad</th>\n",
       "      <th>new_contact_with_confirmed</th>\n",
       "      <th>new_from_abroad</th>\n",
       "      <th>join_date</th>\n",
       "    </tr>\n",
       "  </thead>\n",
       "  <tbody>\n",
       "    <tr>\n",
       "      <th>6925780</th>\n",
       "      <td>2020-03-11</td>\n",
       "      <td>0</td>\n",
       "      <td>0</td>\n",
       "      <td>0</td>\n",
       "      <td>0</td>\n",
       "      <td>0</td>\n",
       "      <td>שלילי</td>\n",
       "      <td>NaN</td>\n",
       "      <td>זכר</td>\n",
       "      <td>Other</td>\n",
       "      <td>2</td>\n",
       "      <td>2020-03-10</td>\n",
       "      <td>3715</td>\n",
       "      <td>20792</td>\n",
       "      <td>2154</td>\n",
       "      <td>3638</td>\n",
       "      <td>2020-03-11</td>\n",
       "    </tr>\n",
       "    <tr>\n",
       "      <th>6925531</th>\n",
       "      <td>2020-03-11</td>\n",
       "      <td>1</td>\n",
       "      <td>0</td>\n",
       "      <td>1</td>\n",
       "      <td>0</td>\n",
       "      <td>0</td>\n",
       "      <td>שלילי</td>\n",
       "      <td>NaN</td>\n",
       "      <td>נקבה</td>\n",
       "      <td>Abroad</td>\n",
       "      <td>2</td>\n",
       "      <td>2020-03-10</td>\n",
       "      <td>3715</td>\n",
       "      <td>20792</td>\n",
       "      <td>2154</td>\n",
       "      <td>3638</td>\n",
       "      <td>2020-03-11</td>\n",
       "    </tr>\n",
       "    <tr>\n",
       "      <th>6925532</th>\n",
       "      <td>2020-03-11</td>\n",
       "      <td>1</td>\n",
       "      <td>0</td>\n",
       "      <td>0</td>\n",
       "      <td>1</td>\n",
       "      <td>0</td>\n",
       "      <td>שלילי</td>\n",
       "      <td>NaN</td>\n",
       "      <td>נקבה</td>\n",
       "      <td>Other</td>\n",
       "      <td>2</td>\n",
       "      <td>2020-03-10</td>\n",
       "      <td>3715</td>\n",
       "      <td>20792</td>\n",
       "      <td>2154</td>\n",
       "      <td>3638</td>\n",
       "      <td>2020-03-11</td>\n",
       "    </tr>\n",
       "    <tr>\n",
       "      <th>6925533</th>\n",
       "      <td>2020-03-11</td>\n",
       "      <td>0</td>\n",
       "      <td>0</td>\n",
       "      <td>0</td>\n",
       "      <td>0</td>\n",
       "      <td>0</td>\n",
       "      <td>שלילי</td>\n",
       "      <td>NaN</td>\n",
       "      <td>זכר</td>\n",
       "      <td>Other</td>\n",
       "      <td>2</td>\n",
       "      <td>2020-03-10</td>\n",
       "      <td>3715</td>\n",
       "      <td>20792</td>\n",
       "      <td>2154</td>\n",
       "      <td>3638</td>\n",
       "      <td>2020-03-11</td>\n",
       "    </tr>\n",
       "    <tr>\n",
       "      <th>6925534</th>\n",
       "      <td>2020-03-11</td>\n",
       "      <td>0</td>\n",
       "      <td>0</td>\n",
       "      <td>0</td>\n",
       "      <td>0</td>\n",
       "      <td>0</td>\n",
       "      <td>שלילי</td>\n",
       "      <td>NaN</td>\n",
       "      <td>נקבה</td>\n",
       "      <td>Other</td>\n",
       "      <td>2</td>\n",
       "      <td>2020-03-10</td>\n",
       "      <td>3715</td>\n",
       "      <td>20792</td>\n",
       "      <td>2154</td>\n",
       "      <td>3638</td>\n",
       "      <td>2020-03-11</td>\n",
       "    </tr>\n",
       "  </tbody>\n",
       "</table>\n",
       "</div>"
      ],
      "text/plain": [
       "          test_date  cough  fever  sore_throat  shortness_of_breath  \\\n",
       "6925780  2020-03-11      0      0            0                    0   \n",
       "6925531  2020-03-11      1      0            1                    0   \n",
       "6925532  2020-03-11      1      0            0                    1   \n",
       "6925533  2020-03-11      0      0            0                    0   \n",
       "6925534  2020-03-11      0      0            0                    0   \n",
       "\n",
       "         head_ache corona_result age_60_and_above gender test_indication  \\\n",
       "6925780          0         שלילי              NaN    זכר           Other   \n",
       "6925531          0         שלילי              NaN   נקבה          Abroad   \n",
       "6925532          0         שלילי              NaN   נקבה           Other   \n",
       "6925533          0         שלילי              NaN    זכר           Other   \n",
       "6925534          0         שלילי              NaN   נקבה           Other   \n",
       "\n",
       "         weekday        date  isolated_today_contact_with_confirmed  \\\n",
       "6925780        2  2020-03-10                                   3715   \n",
       "6925531        2  2020-03-10                                   3715   \n",
       "6925532        2  2020-03-10                                   3715   \n",
       "6925533        2  2020-03-10                                   3715   \n",
       "6925534        2  2020-03-10                                   3715   \n",
       "\n",
       "         isolated_today_abroad new_contact_with_confirmed new_from_abroad  \\\n",
       "6925780                  20792                       2154            3638   \n",
       "6925531                  20792                       2154            3638   \n",
       "6925532                  20792                       2154            3638   \n",
       "6925533                  20792                       2154            3638   \n",
       "6925534                  20792                       2154            3638   \n",
       "\n",
       "          join_date  \n",
       "6925780  2020-03-11  \n",
       "6925531  2020-03-11  \n",
       "6925532  2020-03-11  \n",
       "6925533  2020-03-11  \n",
       "6925534  2020-03-11  "
      ]
     },
     "execution_count": 212,
     "metadata": {},
     "output_type": "execute_result"
    }
   ],
   "source": [
    "df_israel_covid = df_israel_covid.sort_values('test_date')\n",
    "df_israel_covid.head(5)"
   ]
  },
  {
   "cell_type": "code",
   "execution_count": 213,
   "id": "3b0d753f",
   "metadata": {},
   "outputs": [],
   "source": [
    "# 기존 이스라엘 데이터에 이스라엘 일일 확진자랑 일일 누적 확진자 컬럼을 넣어주는 과정\n",
    "\n",
    "df_israel_covid = pd.merge(df_israel_covid, df_numsum_confirmed, how='left', left_on='test_date', right_on='confirmed_date')"
   ]
  },
  {
   "cell_type": "code",
   "execution_count": 214,
   "id": "4ba3f125",
   "metadata": {},
   "outputs": [],
   "source": [
    "# 기존 이스라엘 데이터에 글로벌 일일 확진자랑 일일 누적 확진자 컬럼을 넣어주는 과정\n",
    "\n",
    "df_israel_covid = pd.merge(df_israel_covid, df_confirmed_global, how='left', left_on='test_date', right_on='global_confirmed_date')"
   ]
  },
  {
   "cell_type": "code",
   "execution_count": 215,
   "id": "d35dcc5a",
   "metadata": {},
   "outputs": [
    {
     "data": {
      "text/html": [
       "<div>\n",
       "<style scoped>\n",
       "    .dataframe tbody tr th:only-of-type {\n",
       "        vertical-align: middle;\n",
       "    }\n",
       "\n",
       "    .dataframe tbody tr th {\n",
       "        vertical-align: top;\n",
       "    }\n",
       "\n",
       "    .dataframe thead th {\n",
       "        text-align: right;\n",
       "    }\n",
       "</style>\n",
       "<table border=\"1\" class=\"dataframe\">\n",
       "  <thead>\n",
       "    <tr style=\"text-align: right;\">\n",
       "      <th></th>\n",
       "      <th>test_date</th>\n",
       "      <th>cough</th>\n",
       "      <th>fever</th>\n",
       "      <th>sore_throat</th>\n",
       "      <th>shortness_of_breath</th>\n",
       "      <th>head_ache</th>\n",
       "      <th>corona_result</th>\n",
       "      <th>age_60_and_above</th>\n",
       "      <th>gender</th>\n",
       "      <th>test_indication</th>\n",
       "      <th>...</th>\n",
       "      <th>isolated_today_abroad</th>\n",
       "      <th>new_contact_with_confirmed</th>\n",
       "      <th>new_from_abroad</th>\n",
       "      <th>join_date</th>\n",
       "      <th>confirmed_date</th>\n",
       "      <th>confirmed_numsum</th>\n",
       "      <th>confirmed_num</th>\n",
       "      <th>global_confirmed_date</th>\n",
       "      <th>global_confirmed_numsum</th>\n",
       "      <th>global_confirmed_num</th>\n",
       "    </tr>\n",
       "  </thead>\n",
       "  <tbody>\n",
       "    <tr>\n",
       "      <th>0</th>\n",
       "      <td>2020-03-11</td>\n",
       "      <td>0</td>\n",
       "      <td>0</td>\n",
       "      <td>0</td>\n",
       "      <td>0</td>\n",
       "      <td>0</td>\n",
       "      <td>שלילי</td>\n",
       "      <td>NaN</td>\n",
       "      <td>זכר</td>\n",
       "      <td>Other</td>\n",
       "      <td>...</td>\n",
       "      <td>20792</td>\n",
       "      <td>2154</td>\n",
       "      <td>3638</td>\n",
       "      <td>2020-03-11</td>\n",
       "      <td>2020-03-11</td>\n",
       "      <td>60.0</td>\n",
       "      <td>28.0</td>\n",
       "      <td>2020-03-11</td>\n",
       "      <td>126719</td>\n",
       "      <td>7667.0</td>\n",
       "    </tr>\n",
       "    <tr>\n",
       "      <th>1</th>\n",
       "      <td>2020-03-11</td>\n",
       "      <td>1</td>\n",
       "      <td>0</td>\n",
       "      <td>1</td>\n",
       "      <td>0</td>\n",
       "      <td>0</td>\n",
       "      <td>שלילי</td>\n",
       "      <td>NaN</td>\n",
       "      <td>נקבה</td>\n",
       "      <td>Abroad</td>\n",
       "      <td>...</td>\n",
       "      <td>20792</td>\n",
       "      <td>2154</td>\n",
       "      <td>3638</td>\n",
       "      <td>2020-03-11</td>\n",
       "      <td>2020-03-11</td>\n",
       "      <td>60.0</td>\n",
       "      <td>28.0</td>\n",
       "      <td>2020-03-11</td>\n",
       "      <td>126719</td>\n",
       "      <td>7667.0</td>\n",
       "    </tr>\n",
       "    <tr>\n",
       "      <th>2</th>\n",
       "      <td>2020-03-11</td>\n",
       "      <td>1</td>\n",
       "      <td>0</td>\n",
       "      <td>0</td>\n",
       "      <td>1</td>\n",
       "      <td>0</td>\n",
       "      <td>שלילי</td>\n",
       "      <td>NaN</td>\n",
       "      <td>נקבה</td>\n",
       "      <td>Other</td>\n",
       "      <td>...</td>\n",
       "      <td>20792</td>\n",
       "      <td>2154</td>\n",
       "      <td>3638</td>\n",
       "      <td>2020-03-11</td>\n",
       "      <td>2020-03-11</td>\n",
       "      <td>60.0</td>\n",
       "      <td>28.0</td>\n",
       "      <td>2020-03-11</td>\n",
       "      <td>126719</td>\n",
       "      <td>7667.0</td>\n",
       "    </tr>\n",
       "    <tr>\n",
       "      <th>3</th>\n",
       "      <td>2020-03-11</td>\n",
       "      <td>0</td>\n",
       "      <td>0</td>\n",
       "      <td>0</td>\n",
       "      <td>0</td>\n",
       "      <td>0</td>\n",
       "      <td>שלילי</td>\n",
       "      <td>NaN</td>\n",
       "      <td>זכר</td>\n",
       "      <td>Other</td>\n",
       "      <td>...</td>\n",
       "      <td>20792</td>\n",
       "      <td>2154</td>\n",
       "      <td>3638</td>\n",
       "      <td>2020-03-11</td>\n",
       "      <td>2020-03-11</td>\n",
       "      <td>60.0</td>\n",
       "      <td>28.0</td>\n",
       "      <td>2020-03-11</td>\n",
       "      <td>126719</td>\n",
       "      <td>7667.0</td>\n",
       "    </tr>\n",
       "    <tr>\n",
       "      <th>4</th>\n",
       "      <td>2020-03-11</td>\n",
       "      <td>0</td>\n",
       "      <td>0</td>\n",
       "      <td>0</td>\n",
       "      <td>0</td>\n",
       "      <td>0</td>\n",
       "      <td>שלילי</td>\n",
       "      <td>NaN</td>\n",
       "      <td>נקבה</td>\n",
       "      <td>Other</td>\n",
       "      <td>...</td>\n",
       "      <td>20792</td>\n",
       "      <td>2154</td>\n",
       "      <td>3638</td>\n",
       "      <td>2020-03-11</td>\n",
       "      <td>2020-03-11</td>\n",
       "      <td>60.0</td>\n",
       "      <td>28.0</td>\n",
       "      <td>2020-03-11</td>\n",
       "      <td>126719</td>\n",
       "      <td>7667.0</td>\n",
       "    </tr>\n",
       "    <tr>\n",
       "      <th>...</th>\n",
       "      <td>...</td>\n",
       "      <td>...</td>\n",
       "      <td>...</td>\n",
       "      <td>...</td>\n",
       "      <td>...</td>\n",
       "      <td>...</td>\n",
       "      <td>...</td>\n",
       "      <td>...</td>\n",
       "      <td>...</td>\n",
       "      <td>...</td>\n",
       "      <td>...</td>\n",
       "      <td>...</td>\n",
       "      <td>...</td>\n",
       "      <td>...</td>\n",
       "      <td>...</td>\n",
       "      <td>...</td>\n",
       "      <td>...</td>\n",
       "      <td>...</td>\n",
       "      <td>...</td>\n",
       "      <td>...</td>\n",
       "      <td>...</td>\n",
       "    </tr>\n",
       "    <tr>\n",
       "      <th>6925776</th>\n",
       "      <td>2021-08-31</td>\n",
       "      <td>0</td>\n",
       "      <td>0</td>\n",
       "      <td>0</td>\n",
       "      <td>0</td>\n",
       "      <td>0</td>\n",
       "      <td>שלילי</td>\n",
       "      <td>No</td>\n",
       "      <td>זכר</td>\n",
       "      <td>Other</td>\n",
       "      <td>...</td>\n",
       "      <td>76593</td>\n",
       "      <td>6446</td>\n",
       "      <td>8006</td>\n",
       "      <td>2021-08-31</td>\n",
       "      <td>NaN</td>\n",
       "      <td>NaN</td>\n",
       "      <td>NaN</td>\n",
       "      <td>NaN</td>\n",
       "      <td>NaN</td>\n",
       "      <td>NaN</td>\n",
       "    </tr>\n",
       "    <tr>\n",
       "      <th>6925777</th>\n",
       "      <td>2021-08-31</td>\n",
       "      <td>0</td>\n",
       "      <td>0</td>\n",
       "      <td>0</td>\n",
       "      <td>0</td>\n",
       "      <td>0</td>\n",
       "      <td>שלילי</td>\n",
       "      <td>Yes</td>\n",
       "      <td>זכר</td>\n",
       "      <td>Other</td>\n",
       "      <td>...</td>\n",
       "      <td>76593</td>\n",
       "      <td>6446</td>\n",
       "      <td>8006</td>\n",
       "      <td>2021-08-31</td>\n",
       "      <td>NaN</td>\n",
       "      <td>NaN</td>\n",
       "      <td>NaN</td>\n",
       "      <td>NaN</td>\n",
       "      <td>NaN</td>\n",
       "      <td>NaN</td>\n",
       "    </tr>\n",
       "    <tr>\n",
       "      <th>6925778</th>\n",
       "      <td>2021-08-31</td>\n",
       "      <td>0</td>\n",
       "      <td>0</td>\n",
       "      <td>0</td>\n",
       "      <td>0</td>\n",
       "      <td>0</td>\n",
       "      <td>שלילי</td>\n",
       "      <td>No</td>\n",
       "      <td>נקבה</td>\n",
       "      <td>Other</td>\n",
       "      <td>...</td>\n",
       "      <td>76593</td>\n",
       "      <td>6446</td>\n",
       "      <td>8006</td>\n",
       "      <td>2021-08-31</td>\n",
       "      <td>NaN</td>\n",
       "      <td>NaN</td>\n",
       "      <td>NaN</td>\n",
       "      <td>NaN</td>\n",
       "      <td>NaN</td>\n",
       "      <td>NaN</td>\n",
       "    </tr>\n",
       "    <tr>\n",
       "      <th>6925779</th>\n",
       "      <td>2021-08-31</td>\n",
       "      <td>0</td>\n",
       "      <td>0</td>\n",
       "      <td>0</td>\n",
       "      <td>0</td>\n",
       "      <td>0</td>\n",
       "      <td>שלילי</td>\n",
       "      <td>No</td>\n",
       "      <td>נקבה</td>\n",
       "      <td>Other</td>\n",
       "      <td>...</td>\n",
       "      <td>76593</td>\n",
       "      <td>6446</td>\n",
       "      <td>8006</td>\n",
       "      <td>2021-08-31</td>\n",
       "      <td>NaN</td>\n",
       "      <td>NaN</td>\n",
       "      <td>NaN</td>\n",
       "      <td>NaN</td>\n",
       "      <td>NaN</td>\n",
       "      <td>NaN</td>\n",
       "    </tr>\n",
       "    <tr>\n",
       "      <th>6925780</th>\n",
       "      <td>2021-08-31</td>\n",
       "      <td>0</td>\n",
       "      <td>0</td>\n",
       "      <td>0</td>\n",
       "      <td>0</td>\n",
       "      <td>0</td>\n",
       "      <td>אחר</td>\n",
       "      <td>No</td>\n",
       "      <td>נקבה</td>\n",
       "      <td>Other</td>\n",
       "      <td>...</td>\n",
       "      <td>76593</td>\n",
       "      <td>6446</td>\n",
       "      <td>8006</td>\n",
       "      <td>2021-08-31</td>\n",
       "      <td>NaN</td>\n",
       "      <td>NaN</td>\n",
       "      <td>NaN</td>\n",
       "      <td>NaN</td>\n",
       "      <td>NaN</td>\n",
       "      <td>NaN</td>\n",
       "    </tr>\n",
       "  </tbody>\n",
       "</table>\n",
       "<p>6925781 rows × 23 columns</p>\n",
       "</div>"
      ],
      "text/plain": [
       "          test_date  cough  fever  sore_throat  shortness_of_breath  \\\n",
       "0        2020-03-11      0      0            0                    0   \n",
       "1        2020-03-11      1      0            1                    0   \n",
       "2        2020-03-11      1      0            0                    1   \n",
       "3        2020-03-11      0      0            0                    0   \n",
       "4        2020-03-11      0      0            0                    0   \n",
       "...             ...    ...    ...          ...                  ...   \n",
       "6925776  2021-08-31      0      0            0                    0   \n",
       "6925777  2021-08-31      0      0            0                    0   \n",
       "6925778  2021-08-31      0      0            0                    0   \n",
       "6925779  2021-08-31      0      0            0                    0   \n",
       "6925780  2021-08-31      0      0            0                    0   \n",
       "\n",
       "         head_ache corona_result age_60_and_above gender test_indication  ...  \\\n",
       "0                0         שלילי              NaN    זכר           Other  ...   \n",
       "1                0         שלילי              NaN   נקבה          Abroad  ...   \n",
       "2                0         שלילי              NaN   נקבה           Other  ...   \n",
       "3                0         שלילי              NaN    זכר           Other  ...   \n",
       "4                0         שלילי              NaN   נקבה           Other  ...   \n",
       "...            ...           ...              ...    ...             ...  ...   \n",
       "6925776          0         שלילי               No    זכר           Other  ...   \n",
       "6925777          0         שלילי              Yes    זכר           Other  ...   \n",
       "6925778          0         שלילי               No   נקבה           Other  ...   \n",
       "6925779          0         שלילי               No   נקבה           Other  ...   \n",
       "6925780          0           אחר               No   נקבה           Other  ...   \n",
       "\n",
       "         isolated_today_abroad new_contact_with_confirmed  new_from_abroad  \\\n",
       "0                        20792                       2154             3638   \n",
       "1                        20792                       2154             3638   \n",
       "2                        20792                       2154             3638   \n",
       "3                        20792                       2154             3638   \n",
       "4                        20792                       2154             3638   \n",
       "...                        ...                        ...              ...   \n",
       "6925776                  76593                       6446             8006   \n",
       "6925777                  76593                       6446             8006   \n",
       "6925778                  76593                       6446             8006   \n",
       "6925779                  76593                       6446             8006   \n",
       "6925780                  76593                       6446             8006   \n",
       "\n",
       "          join_date confirmed_date confirmed_numsum confirmed_num  \\\n",
       "0        2020-03-11     2020-03-11             60.0          28.0   \n",
       "1        2020-03-11     2020-03-11             60.0          28.0   \n",
       "2        2020-03-11     2020-03-11             60.0          28.0   \n",
       "3        2020-03-11     2020-03-11             60.0          28.0   \n",
       "4        2020-03-11     2020-03-11             60.0          28.0   \n",
       "...             ...            ...              ...           ...   \n",
       "6925776  2021-08-31            NaN              NaN           NaN   \n",
       "6925777  2021-08-31            NaN              NaN           NaN   \n",
       "6925778  2021-08-31            NaN              NaN           NaN   \n",
       "6925779  2021-08-31            NaN              NaN           NaN   \n",
       "6925780  2021-08-31            NaN              NaN           NaN   \n",
       "\n",
       "        global_confirmed_date  global_confirmed_numsum  global_confirmed_num  \n",
       "0                  2020-03-11                   126719                7667.0  \n",
       "1                  2020-03-11                   126719                7667.0  \n",
       "2                  2020-03-11                   126719                7667.0  \n",
       "3                  2020-03-11                   126719                7667.0  \n",
       "4                  2020-03-11                   126719                7667.0  \n",
       "...                       ...                      ...                   ...  \n",
       "6925776                   NaN                      NaN                   NaN  \n",
       "6925777                   NaN                      NaN                   NaN  \n",
       "6925778                   NaN                      NaN                   NaN  \n",
       "6925779                   NaN                      NaN                   NaN  \n",
       "6925780                   NaN                      NaN                   NaN  \n",
       "\n",
       "[6925781 rows x 23 columns]"
      ]
     },
     "execution_count": 215,
     "metadata": {},
     "output_type": "execute_result"
    }
   ],
   "source": [
    "df_israel_covid"
   ]
  },
  {
   "cell_type": "code",
   "execution_count": 216,
   "id": "44746057",
   "metadata": {},
   "outputs": [
    {
     "data": {
      "text/plain": [
       "6925781"
      ]
     },
     "execution_count": 216,
     "metadata": {},
     "output_type": "execute_result"
    }
   ],
   "source": [
    "df_israel_covid.shape[0]"
   ]
  },
  {
   "cell_type": "code",
   "execution_count": 217,
   "id": "a1ef2dd3",
   "metadata": {},
   "outputs": [
    {
     "name": "stdout",
     "output_type": "stream",
     "text": [
      "6925781\n"
     ]
    }
   ],
   "source": [
    "head_ne = df_israel_covid[df_israel_covid['head_ache'] == 0]\n",
    "head_po = df_israel_covid[df_israel_covid['head_ache'] == 1]\n",
    "print(head_ne.shape[0]+head_po.shape[0])"
   ]
  },
  {
   "cell_type": "code",
   "execution_count": 227,
   "id": "cf32e1a3",
   "metadata": {},
   "outputs": [
    {
     "data": {
      "text/plain": [
       "1537"
      ]
     },
     "execution_count": 227,
     "metadata": {},
     "output_type": "execute_result"
    }
   ],
   "source": [
    "head_po[head_po['test_indication'] == 'Abroad'].shape[0]"
   ]
  },
  {
   "cell_type": "code",
   "execution_count": 228,
   "id": "bcd54a5c",
   "metadata": {},
   "outputs": [
    {
     "data": {
      "text/plain": [
       "101895"
      ]
     },
     "execution_count": 228,
     "metadata": {},
     "output_type": "execute_result"
    }
   ],
   "source": [
    "head_po[head_po['test_indication'] == 'Other'].shape[0]"
   ]
  },
  {
   "cell_type": "code",
   "execution_count": 229,
   "id": "e56b50c6",
   "metadata": {},
   "outputs": [
    {
     "data": {
      "text/plain": [
       "118827"
      ]
     },
     "execution_count": 229,
     "metadata": {},
     "output_type": "execute_result"
    }
   ],
   "source": [
    "head_po[head_po['test_indication'] == 'Contact with confirmed'].shape[0]"
   ]
  },
  {
   "cell_type": "code",
   "execution_count": 230,
   "id": "126deeff",
   "metadata": {},
   "outputs": [
    {
     "data": {
      "text/plain": [
       "24112"
      ]
     },
     "execution_count": 230,
     "metadata": {},
     "output_type": "execute_result"
    }
   ],
   "source": [
    "head_ne[head_ne['test_indication'] == 'Abroad'].shape[0]"
   ]
  },
  {
   "cell_type": "code",
   "execution_count": 231,
   "id": "96dcbc53",
   "metadata": {},
   "outputs": [
    {
     "data": {
      "text/plain": [
       "6310452"
      ]
     },
     "execution_count": 231,
     "metadata": {},
     "output_type": "execute_result"
    }
   ],
   "source": [
    "head_ne[head_ne['test_indication'] == 'Other'].shape[0]"
   ]
  },
  {
   "cell_type": "code",
   "execution_count": 232,
   "id": "6ac90b41",
   "metadata": {},
   "outputs": [
    {
     "data": {
      "text/plain": [
       "368958"
      ]
     },
     "execution_count": 232,
     "metadata": {},
     "output_type": "execute_result"
    }
   ],
   "source": [
    "head_ne[head_ne['test_indication'] == 'Contact with confirmed'].shape[0]"
   ]
  },
  {
   "cell_type": "markdown",
   "id": "78bbebbd",
   "metadata": {},
   "source": [
    "## 번역하기"
   ]
  },
  {
   "cell_type": "code",
   "execution_count": 218,
   "id": "100f63bd",
   "metadata": {},
   "outputs": [],
   "source": [
    "def gender_map(gender):\n",
    "    if gender == 'נקבה': return 1 #'Female'\n",
    "    elif gender == 'זכר': return 0 #'Male'\n",
    "    return -1"
   ]
  },
  {
   "cell_type": "code",
   "execution_count": 219,
   "id": "b3ac58cc",
   "metadata": {},
   "outputs": [],
   "source": [
    "def corona_result_map(corona_result):\n",
    "    if corona_result == 'אחר': return -1 # 'Other'\n",
    "    elif corona_result == 'שלילי': return 0 # 'Negative'\n",
    "    elif corona_result == 'חיובי': return 1 # 'Positive'\n",
    "    return ''"
   ]
  },
  {
   "cell_type": "code",
   "execution_count": 220,
   "id": "e7fb0561",
   "metadata": {},
   "outputs": [],
   "source": [
    "def corona_result_map_vis(corona_result):\n",
    "    if corona_result == -1: return 'Other'\n",
    "    elif corona_result == 0: return 'Negative' \n",
    "    elif corona_result == 1: return 'Positive' \n",
    "    return ''"
   ]
  },
  {
   "cell_type": "code",
   "execution_count": 221,
   "id": "d8fa2757",
   "metadata": {},
   "outputs": [],
   "source": [
    "def age_60_and_above_map(age_60_and_above):\n",
    "    if age_60_and_above == 'Yes': return 1\n",
    "    elif age_60_and_above == 'No': return 0\n",
    "    return -1"
   ]
  },
  {
   "cell_type": "code",
   "execution_count": 222,
   "id": "a7bc697b",
   "metadata": {},
   "outputs": [],
   "source": [
    "def test_indication_map(test_indication):\n",
    "    if test_indication == 'Other': return 0\n",
    "    elif test_indication == 'Abroad': return 1\n",
    "    elif  test_indication == 'Contact with confirmed': return 2\n",
    "    else: return -1"
   ]
  },
  {
   "cell_type": "code",
   "execution_count": 223,
   "id": "cb3e13cd",
   "metadata": {},
   "outputs": [],
   "source": [
    "df_israel_covid['gender'] = df_israel_covid['gender'].apply(gender_map)\n",
    "df_israel_covid['corona_result'] = df_israel_covid['corona_result'].apply(corona_result_map)\n",
    "df_israel_covid['age_60_and_above'] = df_israel_covid['age_60_and_above'].apply(age_60_and_above_map)\n",
    "df_israel_covid['test_indication'] = df_israel_covid['test_indication'].apply(test_indication_map)"
   ]
  },
  {
   "cell_type": "code",
   "execution_count": 34,
   "id": "83d599cd",
   "metadata": {},
   "outputs": [],
   "source": [
    "df_israel_covid['indication_other'] = df_israel_covid['test_indication'].apply(lambda x : 1 if x == 0 else 0)\n",
    "df_israel_covid['indication_abroad'] = df_israel_covid['test_indication'].apply(lambda x : 1 if x == 1 else 0)\n",
    "df_israel_covid['indication_contact'] = df_israel_covid['test_indication'].apply(lambda x : 1 if x == 2 else 0)"
   ]
  },
  {
   "cell_type": "markdown",
   "id": "9f4d74b2",
   "metadata": {},
   "source": [
    "## model input preprocessing"
   ]
  },
  {
   "cell_type": "code",
   "execution_count": 38,
   "id": "440a79e4",
   "metadata": {},
   "outputs": [],
   "source": [
    "# other 빼버림\n",
    "df_israel_covid_without_o = df_israel_covid[df_israel_covid['corona_result'] != -1]"
   ]
  },
  {
   "cell_type": "code",
   "execution_count": 39,
   "id": "224d8130",
   "metadata": {},
   "outputs": [
    {
     "data": {
      "text/plain": [
       "6776916"
      ]
     },
     "execution_count": 39,
     "metadata": {},
     "output_type": "execute_result"
    }
   ],
   "source": [
    "df_israel_covid_without_o.shape[0]"
   ]
  },
  {
   "cell_type": "code",
   "execution_count": 40,
   "id": "e28d2805",
   "metadata": {},
   "outputs": [],
   "source": [
    "# 성별 없는 사람들 빼버림\n",
    "df_israel_covid_without_o = df_israel_covid_without_o[df_israel_covid_without_o['gender'] != -1]"
   ]
  },
  {
   "cell_type": "code",
   "execution_count": 41,
   "id": "44724662",
   "metadata": {},
   "outputs": [
    {
     "data": {
      "text/plain": [
       "6275088"
      ]
     },
     "execution_count": 41,
     "metadata": {},
     "output_type": "execute_result"
    }
   ],
   "source": [
    "df_israel_covid_without_o.shape[0]"
   ]
  },
  {
   "cell_type": "code",
   "execution_count": 42,
   "id": "0b4c853a",
   "metadata": {},
   "outputs": [],
   "source": [
    "df_israel_covid_without_o = df_israel_covid_without_o.sort_values(['test_date']).reset_index(drop=True)"
   ]
  },
  {
   "cell_type": "code",
   "execution_count": 43,
   "id": "e5048d3a",
   "metadata": {},
   "outputs": [
    {
     "data": {
      "text/plain": [
       "'2020-03-11'"
      ]
     },
     "execution_count": 43,
     "metadata": {},
     "output_type": "execute_result"
    }
   ],
   "source": [
    "df_israel_covid_without_o['test_date'].min()"
   ]
  },
  {
   "cell_type": "code",
   "execution_count": 44,
   "id": "49d79058",
   "metadata": {},
   "outputs": [],
   "source": [
    "# # week_num 이라는 칼럼을 새로 만들었다. 1년에 52주라 \n",
    "# def date_to_weeknum_map(test_date):\n",
    "#     week_num_st_idx = 52\n",
    "#     year_last_num = int(test_date[2:4])\n",
    "#     week_num = datetime.date(int(test_date[:4]), int(test_date[5:7]), int(test_date[8:])).isocalendar()[1]\n",
    "#     return week_num_st_idx * year_last_num + week_num"
   ]
  },
  {
   "cell_type": "markdown",
   "id": "b34caf3f",
   "metadata": {},
   "source": [
    "# Add 2nd degree data\n",
    "추가 feature\n",
    "- new_contact_with_confirmed\n",
    "- positive_ratio\n",
    "- weekday_ratio\n",
    "- confirmed_ratio"
   ]
  },
  {
   "cell_type": "code",
   "execution_count": 45,
   "id": "501d4295",
   "metadata": {},
   "outputs": [],
   "source": [
    "df_israel_covid_without_o['new_contact_with_confirmed'] = df_israel_covid_without_o['new_contact_with_confirmed'].astype(int)"
   ]
  },
  {
   "cell_type": "code",
   "execution_count": 46,
   "id": "4ad75571",
   "metadata": {},
   "outputs": [],
   "source": [
    "df_israel_covid_without_o['contact'] = df_israel_covid_without_o['new_contact_with_confirmed'] / df_israel_covid_without_o['new_contact_with_confirmed'].max()"
   ]
  },
  {
   "cell_type": "code",
   "execution_count": 47,
   "id": "6846cb89",
   "metadata": {},
   "outputs": [],
   "source": [
    "df_confirm_by_sampling = df_israel_covid_without_o[df_israel_covid_without_o['corona_result'] == 1].groupby('test_date').count().reset_index()[['test_date', 'date']]\n",
    "df_confirm_by_sampling = df_confirm_by_sampling.rename(columns={'test_date': 'yesterday', 'date': 'positive_cnt'})"
   ]
  },
  {
   "cell_type": "code",
   "execution_count": 48,
   "id": "e93dde46",
   "metadata": {},
   "outputs": [],
   "source": [
    "df_israel_covid_without_o = pd.merge(df_israel_covid_without_o, df_confirm_by_sampling, how='left', left_on='date', right_on='yesterday')"
   ]
  },
  {
   "cell_type": "code",
   "execution_count": 49,
   "id": "1f87a28d",
   "metadata": {},
   "outputs": [
    {
     "data": {
      "text/plain": [
       "6275088"
      ]
     },
     "execution_count": 49,
     "metadata": {},
     "output_type": "execute_result"
    }
   ],
   "source": [
    "df_israel_covid_without_o.shape[0]"
   ]
  },
  {
   "cell_type": "code",
   "execution_count": 50,
   "id": "746a21e6",
   "metadata": {},
   "outputs": [],
   "source": [
    "df_israel_covid_without_o = df_israel_covid_without_o[~df_israel_covid_without_o['positive_cnt'].isnull()]"
   ]
  },
  {
   "cell_type": "code",
   "execution_count": 51,
   "id": "4ae1e8a5",
   "metadata": {},
   "outputs": [],
   "source": [
    "df_israel_covid_without_o['positive_cnt'] = df_israel_covid_without_o['positive_cnt'].astype(int)"
   ]
  },
  {
   "cell_type": "code",
   "execution_count": 52,
   "id": "e0e212b5",
   "metadata": {},
   "outputs": [],
   "source": [
    "df_israel_covid_without_o['positive_ratio'] = df_israel_covid_without_o['positive_cnt'] / df_israel_covid_without_o['positive_cnt'].max()"
   ]
  },
  {
   "cell_type": "code",
   "execution_count": 53,
   "id": "ebd3988d",
   "metadata": {},
   "outputs": [],
   "source": [
    "df_israel_covid_without_o['weekday_ratio'] = df_israel_covid_without_o['weekday'] / 6"
   ]
  },
  {
   "cell_type": "code",
   "execution_count": 54,
   "id": "295fc6ec",
   "metadata": {},
   "outputs": [],
   "source": [
    "df_israel_covid_without_o['confirmed_ratio'] = df_israel_covid_without_o['confirmed_num'] / df_israel_covid_without_o['confirmed_num'].max()"
   ]
  },
  {
   "cell_type": "code",
   "execution_count": 55,
   "id": "7f504c29",
   "metadata": {},
   "outputs": [],
   "source": [
    "df_israel_covid_without_o['global_confirmed_ratio'] = df_israel_covid_without_o['global_confirmed_num'] / df_israel_covid_without_o['global_confirmed_num'].max()"
   ]
  },
  {
   "cell_type": "code",
   "execution_count": 56,
   "id": "af0bcdc3",
   "metadata": {},
   "outputs": [
    {
     "data": {
      "text/plain": [
       "11934.0"
      ]
     },
     "execution_count": 56,
     "metadata": {},
     "output_type": "execute_result"
    }
   ],
   "source": [
    "df_israel_covid_without_o['confirmed_num'].max()"
   ]
  },
  {
   "cell_type": "code",
   "execution_count": 190,
   "id": "dcc8e239",
   "metadata": {},
   "outputs": [
    {
     "data": {
      "text/html": [
       "<div>\n",
       "<style scoped>\n",
       "    .dataframe tbody tr th:only-of-type {\n",
       "        vertical-align: middle;\n",
       "    }\n",
       "\n",
       "    .dataframe tbody tr th {\n",
       "        vertical-align: top;\n",
       "    }\n",
       "\n",
       "    .dataframe thead th {\n",
       "        text-align: right;\n",
       "    }\n",
       "</style>\n",
       "<table border=\"1\" class=\"dataframe\">\n",
       "  <thead>\n",
       "    <tr style=\"text-align: right;\">\n",
       "      <th></th>\n",
       "      <th>test_indication</th>\n",
       "      <th>indication_other</th>\n",
       "      <th>indication_abroad</th>\n",
       "      <th>indication_contact</th>\n",
       "    </tr>\n",
       "  </thead>\n",
       "  <tbody>\n",
       "    <tr>\n",
       "      <th>361</th>\n",
       "      <td>0</td>\n",
       "      <td>1</td>\n",
       "      <td>0</td>\n",
       "      <td>0</td>\n",
       "    </tr>\n",
       "    <tr>\n",
       "      <th>362</th>\n",
       "      <td>0</td>\n",
       "      <td>1</td>\n",
       "      <td>0</td>\n",
       "      <td>0</td>\n",
       "    </tr>\n",
       "    <tr>\n",
       "      <th>363</th>\n",
       "      <td>0</td>\n",
       "      <td>1</td>\n",
       "      <td>0</td>\n",
       "      <td>0</td>\n",
       "    </tr>\n",
       "    <tr>\n",
       "      <th>364</th>\n",
       "      <td>0</td>\n",
       "      <td>1</td>\n",
       "      <td>0</td>\n",
       "      <td>0</td>\n",
       "    </tr>\n",
       "    <tr>\n",
       "      <th>365</th>\n",
       "      <td>0</td>\n",
       "      <td>1</td>\n",
       "      <td>0</td>\n",
       "      <td>0</td>\n",
       "    </tr>\n",
       "    <tr>\n",
       "      <th>366</th>\n",
       "      <td>0</td>\n",
       "      <td>1</td>\n",
       "      <td>0</td>\n",
       "      <td>0</td>\n",
       "    </tr>\n",
       "    <tr>\n",
       "      <th>367</th>\n",
       "      <td>0</td>\n",
       "      <td>1</td>\n",
       "      <td>0</td>\n",
       "      <td>0</td>\n",
       "    </tr>\n",
       "    <tr>\n",
       "      <th>368</th>\n",
       "      <td>0</td>\n",
       "      <td>1</td>\n",
       "      <td>0</td>\n",
       "      <td>0</td>\n",
       "    </tr>\n",
       "    <tr>\n",
       "      <th>369</th>\n",
       "      <td>0</td>\n",
       "      <td>1</td>\n",
       "      <td>0</td>\n",
       "      <td>0</td>\n",
       "    </tr>\n",
       "    <tr>\n",
       "      <th>370</th>\n",
       "      <td>0</td>\n",
       "      <td>1</td>\n",
       "      <td>0</td>\n",
       "      <td>0</td>\n",
       "    </tr>\n",
       "    <tr>\n",
       "      <th>371</th>\n",
       "      <td>1</td>\n",
       "      <td>0</td>\n",
       "      <td>1</td>\n",
       "      <td>0</td>\n",
       "    </tr>\n",
       "    <tr>\n",
       "      <th>372</th>\n",
       "      <td>0</td>\n",
       "      <td>1</td>\n",
       "      <td>0</td>\n",
       "      <td>0</td>\n",
       "    </tr>\n",
       "    <tr>\n",
       "      <th>373</th>\n",
       "      <td>2</td>\n",
       "      <td>0</td>\n",
       "      <td>0</td>\n",
       "      <td>1</td>\n",
       "    </tr>\n",
       "    <tr>\n",
       "      <th>374</th>\n",
       "      <td>0</td>\n",
       "      <td>1</td>\n",
       "      <td>0</td>\n",
       "      <td>0</td>\n",
       "    </tr>\n",
       "    <tr>\n",
       "      <th>375</th>\n",
       "      <td>0</td>\n",
       "      <td>1</td>\n",
       "      <td>0</td>\n",
       "      <td>0</td>\n",
       "    </tr>\n",
       "    <tr>\n",
       "      <th>376</th>\n",
       "      <td>0</td>\n",
       "      <td>1</td>\n",
       "      <td>0</td>\n",
       "      <td>0</td>\n",
       "    </tr>\n",
       "    <tr>\n",
       "      <th>377</th>\n",
       "      <td>0</td>\n",
       "      <td>1</td>\n",
       "      <td>0</td>\n",
       "      <td>0</td>\n",
       "    </tr>\n",
       "    <tr>\n",
       "      <th>378</th>\n",
       "      <td>1</td>\n",
       "      <td>0</td>\n",
       "      <td>1</td>\n",
       "      <td>0</td>\n",
       "    </tr>\n",
       "    <tr>\n",
       "      <th>379</th>\n",
       "      <td>0</td>\n",
       "      <td>1</td>\n",
       "      <td>0</td>\n",
       "      <td>0</td>\n",
       "    </tr>\n",
       "    <tr>\n",
       "      <th>380</th>\n",
       "      <td>0</td>\n",
       "      <td>1</td>\n",
       "      <td>0</td>\n",
       "      <td>0</td>\n",
       "    </tr>\n",
       "    <tr>\n",
       "      <th>381</th>\n",
       "      <td>0</td>\n",
       "      <td>1</td>\n",
       "      <td>0</td>\n",
       "      <td>0</td>\n",
       "    </tr>\n",
       "    <tr>\n",
       "      <th>382</th>\n",
       "      <td>0</td>\n",
       "      <td>1</td>\n",
       "      <td>0</td>\n",
       "      <td>0</td>\n",
       "    </tr>\n",
       "    <tr>\n",
       "      <th>383</th>\n",
       "      <td>2</td>\n",
       "      <td>0</td>\n",
       "      <td>0</td>\n",
       "      <td>1</td>\n",
       "    </tr>\n",
       "    <tr>\n",
       "      <th>384</th>\n",
       "      <td>0</td>\n",
       "      <td>1</td>\n",
       "      <td>0</td>\n",
       "      <td>0</td>\n",
       "    </tr>\n",
       "    <tr>\n",
       "      <th>385</th>\n",
       "      <td>0</td>\n",
       "      <td>1</td>\n",
       "      <td>0</td>\n",
       "      <td>0</td>\n",
       "    </tr>\n",
       "    <tr>\n",
       "      <th>386</th>\n",
       "      <td>1</td>\n",
       "      <td>0</td>\n",
       "      <td>1</td>\n",
       "      <td>0</td>\n",
       "    </tr>\n",
       "    <tr>\n",
       "      <th>387</th>\n",
       "      <td>0</td>\n",
       "      <td>1</td>\n",
       "      <td>0</td>\n",
       "      <td>0</td>\n",
       "    </tr>\n",
       "    <tr>\n",
       "      <th>388</th>\n",
       "      <td>0</td>\n",
       "      <td>1</td>\n",
       "      <td>0</td>\n",
       "      <td>0</td>\n",
       "    </tr>\n",
       "    <tr>\n",
       "      <th>389</th>\n",
       "      <td>1</td>\n",
       "      <td>0</td>\n",
       "      <td>1</td>\n",
       "      <td>0</td>\n",
       "    </tr>\n",
       "    <tr>\n",
       "      <th>390</th>\n",
       "      <td>0</td>\n",
       "      <td>1</td>\n",
       "      <td>0</td>\n",
       "      <td>0</td>\n",
       "    </tr>\n",
       "  </tbody>\n",
       "</table>\n",
       "</div>"
      ],
      "text/plain": [
       "     test_indication  indication_other  indication_abroad  indication_contact\n",
       "361                0                 1                  0                   0\n",
       "362                0                 1                  0                   0\n",
       "363                0                 1                  0                   0\n",
       "364                0                 1                  0                   0\n",
       "365                0                 1                  0                   0\n",
       "366                0                 1                  0                   0\n",
       "367                0                 1                  0                   0\n",
       "368                0                 1                  0                   0\n",
       "369                0                 1                  0                   0\n",
       "370                0                 1                  0                   0\n",
       "371                1                 0                  1                   0\n",
       "372                0                 1                  0                   0\n",
       "373                2                 0                  0                   1\n",
       "374                0                 1                  0                   0\n",
       "375                0                 1                  0                   0\n",
       "376                0                 1                  0                   0\n",
       "377                0                 1                  0                   0\n",
       "378                1                 0                  1                   0\n",
       "379                0                 1                  0                   0\n",
       "380                0                 1                  0                   0\n",
       "381                0                 1                  0                   0\n",
       "382                0                 1                  0                   0\n",
       "383                2                 0                  0                   1\n",
       "384                0                 1                  0                   0\n",
       "385                0                 1                  0                   0\n",
       "386                1                 0                  1                   0\n",
       "387                0                 1                  0                   0\n",
       "388                0                 1                  0                   0\n",
       "389                1                 0                  1                   0\n",
       "390                0                 1                  0                   0"
      ]
     },
     "execution_count": 190,
     "metadata": {},
     "output_type": "execute_result"
    }
   ],
   "source": [
    "df_israel_covid_without_o[['test_indication', 'indication_other', 'indication_abroad', 'indication_contact']].head(30)"
   ]
  },
  {
   "cell_type": "code",
   "execution_count": 58,
   "id": "774979ae",
   "metadata": {},
   "outputs": [
    {
     "data": {
      "text/plain": [
       "Index(['test_date', 'cough', 'fever', 'sore_throat', 'shortness_of_breath',\n",
       "       'head_ache', 'corona_result', 'age_60_and_above', 'gender',\n",
       "       'test_indication', 'weekday', 'date',\n",
       "       'isolated_today_contact_with_confirmed', 'isolated_today_abroad',\n",
       "       'new_contact_with_confirmed', 'new_from_abroad', 'join_date',\n",
       "       'confirmed_date', 'confirmed_numsum', 'confirmed_num',\n",
       "       'global_confirmed_date', 'global_confirmed_numsum',\n",
       "       'global_confirmed_num', 'indication_other', 'indication_abroad',\n",
       "       'indication_contact', 'contact', 'yesterday', 'positive_cnt',\n",
       "       'positive_ratio', 'weekday_ratio', 'confirmed_ratio',\n",
       "       'global_confirmed_ratio'],\n",
       "      dtype='object')"
      ]
     },
     "execution_count": 58,
     "metadata": {},
     "output_type": "execute_result"
    }
   ],
   "source": [
    "df_israel_covid_without_o.columns"
   ]
  },
  {
   "cell_type": "code",
   "execution_count": 59,
   "id": "d44f6454",
   "metadata": {},
   "outputs": [],
   "source": [
    "df_israel_covid_without_o = df_israel_covid_without_o[~df_israel_covid_without_o['confirmed_ratio'].isnull()]"
   ]
  },
  {
   "cell_type": "code",
   "execution_count": 60,
   "id": "dad5453e",
   "metadata": {},
   "outputs": [],
   "source": [
    "df_israel_covid_without_o['year'] = df_israel_covid_without_o['test_date'].apply(lambda x: int(x[:4]))\n",
    "df_israel_covid_without_o['month'] = df_israel_covid_without_o['test_date'].apply(lambda x: int(x[5:7]))\n",
    "df_israel_covid_without_o['day'] = df_israel_covid_without_o['test_date'].apply(lambda x: int(x[8:10]))"
   ]
  },
  {
   "cell_type": "code",
   "execution_count": 61,
   "id": "0c952ae9",
   "metadata": {},
   "outputs": [],
   "source": [
    "# 여기서 내가 사용할 feature 고르기\n",
    "df_input_only_symptom = df_israel_covid_without_o[['cough', 'fever', 'sore_throat', 'shortness_of_breath', 'head_ache', 'corona_result']]\n",
    "df_input = df_israel_covid_without_o[['cough', 'fever', 'sore_throat', 'shortness_of_breath', 'head_ache', 'gender', 'confirmed_ratio', 'global_confirmed_ratio', 'indication_other', 'indication_abroad', 'indication_contact', 'corona_result']]\n",
    "\n",
    "raw_datas_only_symptom = df_input_only_symptom.values\n",
    "raw_datas = df_input.values"
   ]
  },
  {
   "cell_type": "code",
   "execution_count": 62,
   "id": "7f0c08b0",
   "metadata": {},
   "outputs": [
    {
     "data": {
      "text/html": [
       "<div>\n",
       "<style scoped>\n",
       "    .dataframe tbody tr th:only-of-type {\n",
       "        vertical-align: middle;\n",
       "    }\n",
       "\n",
       "    .dataframe tbody tr th {\n",
       "        vertical-align: top;\n",
       "    }\n",
       "\n",
       "    .dataframe thead th {\n",
       "        text-align: right;\n",
       "    }\n",
       "</style>\n",
       "<table border=\"1\" class=\"dataframe\">\n",
       "  <thead>\n",
       "    <tr style=\"text-align: right;\">\n",
       "      <th></th>\n",
       "      <th>test_date</th>\n",
       "      <th>cough</th>\n",
       "      <th>fever</th>\n",
       "      <th>sore_throat</th>\n",
       "      <th>shortness_of_breath</th>\n",
       "      <th>head_ache</th>\n",
       "      <th>corona_result</th>\n",
       "      <th>age_60_and_above</th>\n",
       "      <th>gender</th>\n",
       "      <th>test_indication</th>\n",
       "      <th>...</th>\n",
       "      <th>contact</th>\n",
       "      <th>yesterday</th>\n",
       "      <th>positive_cnt</th>\n",
       "      <th>positive_ratio</th>\n",
       "      <th>weekday_ratio</th>\n",
       "      <th>confirmed_ratio</th>\n",
       "      <th>global_confirmed_ratio</th>\n",
       "      <th>year</th>\n",
       "      <th>month</th>\n",
       "      <th>day</th>\n",
       "    </tr>\n",
       "  </thead>\n",
       "  <tbody>\n",
       "    <tr>\n",
       "      <th>361</th>\n",
       "      <td>2020-03-12</td>\n",
       "      <td>1</td>\n",
       "      <td>1</td>\n",
       "      <td>1</td>\n",
       "      <td>1</td>\n",
       "      <td>0</td>\n",
       "      <td>0</td>\n",
       "      <td>-1</td>\n",
       "      <td>1</td>\n",
       "      <td>0</td>\n",
       "      <td>...</td>\n",
       "      <td>0.056174</td>\n",
       "      <td>2020-03-11</td>\n",
       "      <td>42</td>\n",
       "      <td>0.007795</td>\n",
       "      <td>0.5</td>\n",
       "      <td>0.001760</td>\n",
       "      <td>0.003864</td>\n",
       "      <td>2020</td>\n",
       "      <td>3</td>\n",
       "      <td>12</td>\n",
       "    </tr>\n",
       "    <tr>\n",
       "      <th>362</th>\n",
       "      <td>2020-03-12</td>\n",
       "      <td>0</td>\n",
       "      <td>0</td>\n",
       "      <td>0</td>\n",
       "      <td>0</td>\n",
       "      <td>0</td>\n",
       "      <td>0</td>\n",
       "      <td>-1</td>\n",
       "      <td>0</td>\n",
       "      <td>0</td>\n",
       "      <td>...</td>\n",
       "      <td>0.056174</td>\n",
       "      <td>2020-03-11</td>\n",
       "      <td>42</td>\n",
       "      <td>0.007795</td>\n",
       "      <td>0.5</td>\n",
       "      <td>0.001760</td>\n",
       "      <td>0.003864</td>\n",
       "      <td>2020</td>\n",
       "      <td>3</td>\n",
       "      <td>12</td>\n",
       "    </tr>\n",
       "    <tr>\n",
       "      <th>363</th>\n",
       "      <td>2020-03-12</td>\n",
       "      <td>0</td>\n",
       "      <td>0</td>\n",
       "      <td>0</td>\n",
       "      <td>0</td>\n",
       "      <td>0</td>\n",
       "      <td>0</td>\n",
       "      <td>-1</td>\n",
       "      <td>1</td>\n",
       "      <td>0</td>\n",
       "      <td>...</td>\n",
       "      <td>0.056174</td>\n",
       "      <td>2020-03-11</td>\n",
       "      <td>42</td>\n",
       "      <td>0.007795</td>\n",
       "      <td>0.5</td>\n",
       "      <td>0.001760</td>\n",
       "      <td>0.003864</td>\n",
       "      <td>2020</td>\n",
       "      <td>3</td>\n",
       "      <td>12</td>\n",
       "    </tr>\n",
       "    <tr>\n",
       "      <th>364</th>\n",
       "      <td>2020-03-12</td>\n",
       "      <td>0</td>\n",
       "      <td>0</td>\n",
       "      <td>0</td>\n",
       "      <td>0</td>\n",
       "      <td>0</td>\n",
       "      <td>0</td>\n",
       "      <td>-1</td>\n",
       "      <td>1</td>\n",
       "      <td>0</td>\n",
       "      <td>...</td>\n",
       "      <td>0.056174</td>\n",
       "      <td>2020-03-11</td>\n",
       "      <td>42</td>\n",
       "      <td>0.007795</td>\n",
       "      <td>0.5</td>\n",
       "      <td>0.001760</td>\n",
       "      <td>0.003864</td>\n",
       "      <td>2020</td>\n",
       "      <td>3</td>\n",
       "      <td>12</td>\n",
       "    </tr>\n",
       "    <tr>\n",
       "      <th>365</th>\n",
       "      <td>2020-03-12</td>\n",
       "      <td>0</td>\n",
       "      <td>0</td>\n",
       "      <td>0</td>\n",
       "      <td>0</td>\n",
       "      <td>0</td>\n",
       "      <td>0</td>\n",
       "      <td>-1</td>\n",
       "      <td>1</td>\n",
       "      <td>0</td>\n",
       "      <td>...</td>\n",
       "      <td>0.056174</td>\n",
       "      <td>2020-03-11</td>\n",
       "      <td>42</td>\n",
       "      <td>0.007795</td>\n",
       "      <td>0.5</td>\n",
       "      <td>0.001760</td>\n",
       "      <td>0.003864</td>\n",
       "      <td>2020</td>\n",
       "      <td>3</td>\n",
       "      <td>12</td>\n",
       "    </tr>\n",
       "    <tr>\n",
       "      <th>...</th>\n",
       "      <td>...</td>\n",
       "      <td>...</td>\n",
       "      <td>...</td>\n",
       "      <td>...</td>\n",
       "      <td>...</td>\n",
       "      <td>...</td>\n",
       "      <td>...</td>\n",
       "      <td>...</td>\n",
       "      <td>...</td>\n",
       "      <td>...</td>\n",
       "      <td>...</td>\n",
       "      <td>...</td>\n",
       "      <td>...</td>\n",
       "      <td>...</td>\n",
       "      <td>...</td>\n",
       "      <td>...</td>\n",
       "      <td>...</td>\n",
       "      <td>...</td>\n",
       "      <td>...</td>\n",
       "      <td>...</td>\n",
       "      <td>...</td>\n",
       "    </tr>\n",
       "    <tr>\n",
       "      <th>5375922</th>\n",
       "      <td>2021-04-22</td>\n",
       "      <td>0</td>\n",
       "      <td>0</td>\n",
       "      <td>0</td>\n",
       "      <td>0</td>\n",
       "      <td>0</td>\n",
       "      <td>0</td>\n",
       "      <td>-1</td>\n",
       "      <td>1</td>\n",
       "      <td>0</td>\n",
       "      <td>...</td>\n",
       "      <td>0.018237</td>\n",
       "      <td>2021-04-21</td>\n",
       "      <td>42</td>\n",
       "      <td>0.007795</td>\n",
       "      <td>0.5</td>\n",
       "      <td>0.026395</td>\n",
       "      <td>0.600431</td>\n",
       "      <td>2021</td>\n",
       "      <td>4</td>\n",
       "      <td>22</td>\n",
       "    </tr>\n",
       "    <tr>\n",
       "      <th>5375923</th>\n",
       "      <td>2021-04-22</td>\n",
       "      <td>0</td>\n",
       "      <td>0</td>\n",
       "      <td>0</td>\n",
       "      <td>0</td>\n",
       "      <td>0</td>\n",
       "      <td>0</td>\n",
       "      <td>-1</td>\n",
       "      <td>1</td>\n",
       "      <td>0</td>\n",
       "      <td>...</td>\n",
       "      <td>0.018237</td>\n",
       "      <td>2021-04-21</td>\n",
       "      <td>42</td>\n",
       "      <td>0.007795</td>\n",
       "      <td>0.5</td>\n",
       "      <td>0.026395</td>\n",
       "      <td>0.600431</td>\n",
       "      <td>2021</td>\n",
       "      <td>4</td>\n",
       "      <td>22</td>\n",
       "    </tr>\n",
       "    <tr>\n",
       "      <th>5375924</th>\n",
       "      <td>2021-04-22</td>\n",
       "      <td>0</td>\n",
       "      <td>0</td>\n",
       "      <td>0</td>\n",
       "      <td>0</td>\n",
       "      <td>0</td>\n",
       "      <td>0</td>\n",
       "      <td>-1</td>\n",
       "      <td>0</td>\n",
       "      <td>0</td>\n",
       "      <td>...</td>\n",
       "      <td>0.018237</td>\n",
       "      <td>2021-04-21</td>\n",
       "      <td>42</td>\n",
       "      <td>0.007795</td>\n",
       "      <td>0.5</td>\n",
       "      <td>0.026395</td>\n",
       "      <td>0.600431</td>\n",
       "      <td>2021</td>\n",
       "      <td>4</td>\n",
       "      <td>22</td>\n",
       "    </tr>\n",
       "    <tr>\n",
       "      <th>5375925</th>\n",
       "      <td>2021-04-22</td>\n",
       "      <td>0</td>\n",
       "      <td>0</td>\n",
       "      <td>0</td>\n",
       "      <td>0</td>\n",
       "      <td>0</td>\n",
       "      <td>0</td>\n",
       "      <td>-1</td>\n",
       "      <td>0</td>\n",
       "      <td>0</td>\n",
       "      <td>...</td>\n",
       "      <td>0.018237</td>\n",
       "      <td>2021-04-21</td>\n",
       "      <td>42</td>\n",
       "      <td>0.007795</td>\n",
       "      <td>0.5</td>\n",
       "      <td>0.026395</td>\n",
       "      <td>0.600431</td>\n",
       "      <td>2021</td>\n",
       "      <td>4</td>\n",
       "      <td>22</td>\n",
       "    </tr>\n",
       "    <tr>\n",
       "      <th>5375926</th>\n",
       "      <td>2021-04-22</td>\n",
       "      <td>0</td>\n",
       "      <td>0</td>\n",
       "      <td>0</td>\n",
       "      <td>0</td>\n",
       "      <td>0</td>\n",
       "      <td>0</td>\n",
       "      <td>-1</td>\n",
       "      <td>0</td>\n",
       "      <td>0</td>\n",
       "      <td>...</td>\n",
       "      <td>0.018237</td>\n",
       "      <td>2021-04-21</td>\n",
       "      <td>42</td>\n",
       "      <td>0.007795</td>\n",
       "      <td>0.5</td>\n",
       "      <td>0.026395</td>\n",
       "      <td>0.600431</td>\n",
       "      <td>2021</td>\n",
       "      <td>4</td>\n",
       "      <td>22</td>\n",
       "    </tr>\n",
       "  </tbody>\n",
       "</table>\n",
       "<p>5345913 rows × 36 columns</p>\n",
       "</div>"
      ],
      "text/plain": [
       "          test_date  cough  fever  sore_throat  shortness_of_breath  \\\n",
       "361      2020-03-12      1      1            1                    1   \n",
       "362      2020-03-12      0      0            0                    0   \n",
       "363      2020-03-12      0      0            0                    0   \n",
       "364      2020-03-12      0      0            0                    0   \n",
       "365      2020-03-12      0      0            0                    0   \n",
       "...             ...    ...    ...          ...                  ...   \n",
       "5375922  2021-04-22      0      0            0                    0   \n",
       "5375923  2021-04-22      0      0            0                    0   \n",
       "5375924  2021-04-22      0      0            0                    0   \n",
       "5375925  2021-04-22      0      0            0                    0   \n",
       "5375926  2021-04-22      0      0            0                    0   \n",
       "\n",
       "         head_ache  corona_result  age_60_and_above  gender  test_indication  \\\n",
       "361              0              0                -1       1                0   \n",
       "362              0              0                -1       0                0   \n",
       "363              0              0                -1       1                0   \n",
       "364              0              0                -1       1                0   \n",
       "365              0              0                -1       1                0   \n",
       "...            ...            ...               ...     ...              ...   \n",
       "5375922          0              0                -1       1                0   \n",
       "5375923          0              0                -1       1                0   \n",
       "5375924          0              0                -1       0                0   \n",
       "5375925          0              0                -1       0                0   \n",
       "5375926          0              0                -1       0                0   \n",
       "\n",
       "         ...   contact   yesterday  positive_cnt  positive_ratio  \\\n",
       "361      ...  0.056174  2020-03-11            42        0.007795   \n",
       "362      ...  0.056174  2020-03-11            42        0.007795   \n",
       "363      ...  0.056174  2020-03-11            42        0.007795   \n",
       "364      ...  0.056174  2020-03-11            42        0.007795   \n",
       "365      ...  0.056174  2020-03-11            42        0.007795   \n",
       "...      ...       ...         ...           ...             ...   \n",
       "5375922  ...  0.018237  2021-04-21            42        0.007795   \n",
       "5375923  ...  0.018237  2021-04-21            42        0.007795   \n",
       "5375924  ...  0.018237  2021-04-21            42        0.007795   \n",
       "5375925  ...  0.018237  2021-04-21            42        0.007795   \n",
       "5375926  ...  0.018237  2021-04-21            42        0.007795   \n",
       "\n",
       "         weekday_ratio confirmed_ratio global_confirmed_ratio  year  month  \\\n",
       "361                0.5        0.001760               0.003864  2020      3   \n",
       "362                0.5        0.001760               0.003864  2020      3   \n",
       "363                0.5        0.001760               0.003864  2020      3   \n",
       "364                0.5        0.001760               0.003864  2020      3   \n",
       "365                0.5        0.001760               0.003864  2020      3   \n",
       "...                ...             ...                    ...   ...    ...   \n",
       "5375922            0.5        0.026395               0.600431  2021      4   \n",
       "5375923            0.5        0.026395               0.600431  2021      4   \n",
       "5375924            0.5        0.026395               0.600431  2021      4   \n",
       "5375925            0.5        0.026395               0.600431  2021      4   \n",
       "5375926            0.5        0.026395               0.600431  2021      4   \n",
       "\n",
       "         day  \n",
       "361       12  \n",
       "362       12  \n",
       "363       12  \n",
       "364       12  \n",
       "365       12  \n",
       "...      ...  \n",
       "5375922   22  \n",
       "5375923   22  \n",
       "5375924   22  \n",
       "5375925   22  \n",
       "5375926   22  \n",
       "\n",
       "[5345913 rows x 36 columns]"
      ]
     },
     "execution_count": 62,
     "metadata": {},
     "output_type": "execute_result"
    }
   ],
   "source": [
    "df_israel_covid_without_o"
   ]
  },
  {
   "cell_type": "code",
   "execution_count": 63,
   "id": "e9cab160",
   "metadata": {},
   "outputs": [
    {
     "data": {
      "text/html": [
       "<div>\n",
       "<style scoped>\n",
       "    .dataframe tbody tr th:only-of-type {\n",
       "        vertical-align: middle;\n",
       "    }\n",
       "\n",
       "    .dataframe tbody tr th {\n",
       "        vertical-align: top;\n",
       "    }\n",
       "\n",
       "    .dataframe thead th {\n",
       "        text-align: right;\n",
       "    }\n",
       "</style>\n",
       "<table border=\"1\" class=\"dataframe\">\n",
       "  <thead>\n",
       "    <tr style=\"text-align: right;\">\n",
       "      <th></th>\n",
       "      <th>cough</th>\n",
       "      <th>fever</th>\n",
       "      <th>sore_throat</th>\n",
       "      <th>shortness_of_breath</th>\n",
       "      <th>head_ache</th>\n",
       "      <th>gender</th>\n",
       "      <th>confirmed_ratio</th>\n",
       "      <th>global_confirmed_ratio</th>\n",
       "      <th>indication_other</th>\n",
       "      <th>indication_abroad</th>\n",
       "      <th>indication_contact</th>\n",
       "      <th>corona_result</th>\n",
       "    </tr>\n",
       "  </thead>\n",
       "  <tbody>\n",
       "    <tr>\n",
       "      <th>count</th>\n",
       "      <td>5.345913e+06</td>\n",
       "      <td>5.345913e+06</td>\n",
       "      <td>5.345913e+06</td>\n",
       "      <td>5.345913e+06</td>\n",
       "      <td>5.345913e+06</td>\n",
       "      <td>5.345913e+06</td>\n",
       "      <td>5.345913e+06</td>\n",
       "      <td>5.345913e+06</td>\n",
       "      <td>5.345913e+06</td>\n",
       "      <td>5.345913e+06</td>\n",
       "      <td>5.345913e+06</td>\n",
       "      <td>5.345913e+06</td>\n",
       "    </tr>\n",
       "    <tr>\n",
       "      <th>mean</th>\n",
       "      <td>4.963493e-02</td>\n",
       "      <td>3.851017e-02</td>\n",
       "      <td>1.842978e-02</td>\n",
       "      <td>4.828174e-03</td>\n",
       "      <td>3.798640e-02</td>\n",
       "      <td>5.207305e-01</td>\n",
       "      <td>2.597199e-01</td>\n",
       "      <td>2.824709e-01</td>\n",
       "      <td>9.119273e-01</td>\n",
       "      <td>4.229586e-03</td>\n",
       "      <td>8.384312e-02</td>\n",
       "      <td>7.944592e-02</td>\n",
       "    </tr>\n",
       "    <tr>\n",
       "      <th>std</th>\n",
       "      <td>2.171896e-01</td>\n",
       "      <td>1.924244e-01</td>\n",
       "      <td>1.344995e-01</td>\n",
       "      <td>6.931713e-02</td>\n",
       "      <td>1.911634e-01</td>\n",
       "      <td>4.995701e-01</td>\n",
       "      <td>2.258918e-01</td>\n",
       "      <td>1.453237e-01</td>\n",
       "      <td>2.834006e-01</td>\n",
       "      <td>6.489759e-02</td>\n",
       "      <td>2.771524e-01</td>\n",
       "      <td>2.704335e-01</td>\n",
       "    </tr>\n",
       "    <tr>\n",
       "      <th>min</th>\n",
       "      <td>0.000000e+00</td>\n",
       "      <td>0.000000e+00</td>\n",
       "      <td>0.000000e+00</td>\n",
       "      <td>0.000000e+00</td>\n",
       "      <td>0.000000e+00</td>\n",
       "      <td>0.000000e+00</td>\n",
       "      <td>0.000000e+00</td>\n",
       "      <td>3.863713e-03</td>\n",
       "      <td>0.000000e+00</td>\n",
       "      <td>0.000000e+00</td>\n",
       "      <td>0.000000e+00</td>\n",
       "      <td>0.000000e+00</td>\n",
       "    </tr>\n",
       "    <tr>\n",
       "      <th>25%</th>\n",
       "      <td>0.000000e+00</td>\n",
       "      <td>0.000000e+00</td>\n",
       "      <td>0.000000e+00</td>\n",
       "      <td>0.000000e+00</td>\n",
       "      <td>0.000000e+00</td>\n",
       "      <td>0.000000e+00</td>\n",
       "      <td>7.315234e-02</td>\n",
       "      <td>1.754418e-01</td>\n",
       "      <td>1.000000e+00</td>\n",
       "      <td>0.000000e+00</td>\n",
       "      <td>0.000000e+00</td>\n",
       "      <td>0.000000e+00</td>\n",
       "    </tr>\n",
       "    <tr>\n",
       "      <th>50%</th>\n",
       "      <td>0.000000e+00</td>\n",
       "      <td>0.000000e+00</td>\n",
       "      <td>0.000000e+00</td>\n",
       "      <td>0.000000e+00</td>\n",
       "      <td>0.000000e+00</td>\n",
       "      <td>1.000000e+00</td>\n",
       "      <td>1.680912e-01</td>\n",
       "      <td>2.741507e-01</td>\n",
       "      <td>1.000000e+00</td>\n",
       "      <td>0.000000e+00</td>\n",
       "      <td>0.000000e+00</td>\n",
       "      <td>0.000000e+00</td>\n",
       "    </tr>\n",
       "    <tr>\n",
       "      <th>75%</th>\n",
       "      <td>0.000000e+00</td>\n",
       "      <td>0.000000e+00</td>\n",
       "      <td>0.000000e+00</td>\n",
       "      <td>0.000000e+00</td>\n",
       "      <td>0.000000e+00</td>\n",
       "      <td>1.000000e+00</td>\n",
       "      <td>4.026311e-01</td>\n",
       "      <td>3.930446e-01</td>\n",
       "      <td>1.000000e+00</td>\n",
       "      <td>0.000000e+00</td>\n",
       "      <td>0.000000e+00</td>\n",
       "      <td>0.000000e+00</td>\n",
       "    </tr>\n",
       "    <tr>\n",
       "      <th>max</th>\n",
       "      <td>1.000000e+00</td>\n",
       "      <td>1.000000e+00</td>\n",
       "      <td>1.000000e+00</td>\n",
       "      <td>1.000000e+00</td>\n",
       "      <td>1.000000e+00</td>\n",
       "      <td>1.000000e+00</td>\n",
       "      <td>1.000000e+00</td>\n",
       "      <td>1.000000e+00</td>\n",
       "      <td>1.000000e+00</td>\n",
       "      <td>1.000000e+00</td>\n",
       "      <td>1.000000e+00</td>\n",
       "      <td>1.000000e+00</td>\n",
       "    </tr>\n",
       "  </tbody>\n",
       "</table>\n",
       "</div>"
      ],
      "text/plain": [
       "              cough         fever   sore_throat  shortness_of_breath  \\\n",
       "count  5.345913e+06  5.345913e+06  5.345913e+06         5.345913e+06   \n",
       "mean   4.963493e-02  3.851017e-02  1.842978e-02         4.828174e-03   \n",
       "std    2.171896e-01  1.924244e-01  1.344995e-01         6.931713e-02   \n",
       "min    0.000000e+00  0.000000e+00  0.000000e+00         0.000000e+00   \n",
       "25%    0.000000e+00  0.000000e+00  0.000000e+00         0.000000e+00   \n",
       "50%    0.000000e+00  0.000000e+00  0.000000e+00         0.000000e+00   \n",
       "75%    0.000000e+00  0.000000e+00  0.000000e+00         0.000000e+00   \n",
       "max    1.000000e+00  1.000000e+00  1.000000e+00         1.000000e+00   \n",
       "\n",
       "          head_ache        gender  confirmed_ratio  global_confirmed_ratio  \\\n",
       "count  5.345913e+06  5.345913e+06     5.345913e+06            5.345913e+06   \n",
       "mean   3.798640e-02  5.207305e-01     2.597199e-01            2.824709e-01   \n",
       "std    1.911634e-01  4.995701e-01     2.258918e-01            1.453237e-01   \n",
       "min    0.000000e+00  0.000000e+00     0.000000e+00            3.863713e-03   \n",
       "25%    0.000000e+00  0.000000e+00     7.315234e-02            1.754418e-01   \n",
       "50%    0.000000e+00  1.000000e+00     1.680912e-01            2.741507e-01   \n",
       "75%    0.000000e+00  1.000000e+00     4.026311e-01            3.930446e-01   \n",
       "max    1.000000e+00  1.000000e+00     1.000000e+00            1.000000e+00   \n",
       "\n",
       "       indication_other  indication_abroad  indication_contact  corona_result  \n",
       "count      5.345913e+06       5.345913e+06        5.345913e+06   5.345913e+06  \n",
       "mean       9.119273e-01       4.229586e-03        8.384312e-02   7.944592e-02  \n",
       "std        2.834006e-01       6.489759e-02        2.771524e-01   2.704335e-01  \n",
       "min        0.000000e+00       0.000000e+00        0.000000e+00   0.000000e+00  \n",
       "25%        1.000000e+00       0.000000e+00        0.000000e+00   0.000000e+00  \n",
       "50%        1.000000e+00       0.000000e+00        0.000000e+00   0.000000e+00  \n",
       "75%        1.000000e+00       0.000000e+00        0.000000e+00   0.000000e+00  \n",
       "max        1.000000e+00       1.000000e+00        1.000000e+00   1.000000e+00  "
      ]
     },
     "execution_count": 63,
     "metadata": {},
     "output_type": "execute_result"
    }
   ],
   "source": [
    "df_input.describe()"
   ]
  },
  {
   "cell_type": "code",
   "execution_count": 64,
   "id": "c5534eee",
   "metadata": {},
   "outputs": [],
   "source": [
    "def split_train_test(data, test_ratio):\n",
    "    shuffled_indices = np.random.permutation(len(data)).astype(int)\n",
    "    test_set_size = int(len(data) * test_ratio)\n",
    "    \n",
    "    test_indices = shuffled_indices[:test_set_size]\n",
    "    train_indices = shuffled_indices[test_set_size:]\n",
    "    \n",
    "    print(len(data))\n",
    "    print(test_indices.dtype)\n",
    "    print(train_indices.dtype)\n",
    "    \n",
    "    test_data = data[:test_set_size]\n",
    "    train_data = data[test_set_size:]\n",
    "    test_data = data[test_indices]\n",
    "    train_data = data[train_indices]\n",
    "    \n",
    "    return train_data, test_data"
   ]
  },
  {
   "cell_type": "code",
   "execution_count": 65,
   "id": "d96e5428",
   "metadata": {},
   "outputs": [],
   "source": [
    "def split_input_gt(non_split_data):\n",
    "    splited_input = non_split_data[:, :-1]\n",
    "    splited_gt = non_split_data[:, -1]\n",
    "    \n",
    "    return splited_input, splited_gt"
   ]
  },
  {
   "cell_type": "code",
   "execution_count": 66,
   "id": "b96a71aa",
   "metadata": {},
   "outputs": [
    {
     "name": "stdout",
     "output_type": "stream",
     "text": [
      "5345913\n",
      "int64\n",
      "int64\n",
      "4276731\n",
      "int64\n",
      "int64\n"
     ]
    }
   ],
   "source": [
    "not_test_datas, test_datas = split_train_test(raw_datas, test_ratio=0.2)\n",
    "train_datas, valid_datas = split_train_test(not_test_datas, test_ratio=0.2)\n",
    "\n",
    "train_input, train_gt = split_input_gt(train_datas)\n",
    "valid_input, valid_gt = split_input_gt(valid_datas)\n",
    "test_input, test_gt = split_input_gt(test_datas)"
   ]
  },
  {
   "cell_type": "code",
   "execution_count": 67,
   "id": "9397f2b4",
   "metadata": {},
   "outputs": [
    {
     "name": "stdout",
     "output_type": "stream",
     "text": [
      "5345913\n",
      "int64\n",
      "int64\n",
      "4276731\n",
      "int64\n",
      "int64\n"
     ]
    }
   ],
   "source": [
    "not_test_datas_only_symptom, test_datas_only_symptom = split_train_test(raw_datas_only_symptom, test_ratio=0.2)\n",
    "train_datas_only_symptom, valid_datas_only_symptom = split_train_test(not_test_datas_only_symptom, test_ratio=0.2)\n",
    "\n",
    "train_input_only_symptom, train_gt_only_symptom = split_input_gt(train_datas_only_symptom)\n",
    "valid_input_only_symptom, valid_gt_only_symptom = split_input_gt(valid_datas_only_symptom)\n",
    "test_input_only_symptom, test_gt_only_symptom = split_input_gt(train_datas_only_symptom)"
   ]
  },
  {
   "cell_type": "code",
   "execution_count": 68,
   "id": "68a0ad46",
   "metadata": {},
   "outputs": [
    {
     "name": "stdout",
     "output_type": "stream",
     "text": [
      "(3421385, 11) (3421385,) (855346, 11) (855346,) (1069182, 11) (1069182,)\n"
     ]
    }
   ],
   "source": [
    "print(train_input.shape, train_gt.shape, valid_input.shape, valid_gt.shape, test_input.shape, test_gt.shape)"
   ]
  },
  {
   "cell_type": "code",
   "execution_count": 69,
   "id": "1876e371",
   "metadata": {},
   "outputs": [
    {
     "name": "stdout",
     "output_type": "stream",
     "text": [
      "(3421385, 5) (3421385,) (855346, 5) (855346,) (3421385, 5) (3421385,)\n"
     ]
    }
   ],
   "source": [
    "print(train_input_only_symptom.shape, train_gt_only_symptom.shape, valid_input_only_symptom.shape, valid_gt_only_symptom.shape, test_input_only_symptom.shape, test_gt_only_symptom.shape)"
   ]
  },
  {
   "cell_type": "code",
   "execution_count": 70,
   "id": "5dd8c33c",
   "metadata": {},
   "outputs": [
    {
     "data": {
      "text/plain": [
       "(3421385, 11)"
      ]
     },
     "execution_count": 70,
     "metadata": {},
     "output_type": "execute_result"
    }
   ],
   "source": [
    "train_input.shape"
   ]
  },
  {
   "cell_type": "code",
   "execution_count": 71,
   "id": "fe5c122f",
   "metadata": {},
   "outputs": [],
   "source": [
    "def plot_roc_curve_for_dnn(fper, tper):\n",
    "    plt.plot(fper, tper, color='red', label='ROC')\n",
    "    plt.plot([0, 1], [0, 1], color='green', linestyle='--')\n",
    "    plt.xlabel('False Positive Rate')\n",
    "    plt.ylabel('True Positive Rate')\n",
    "    plt.title('Receiver Operating Characteristic Curve')\n",
    "    plt.legend()\n",
    "    plt.show()"
   ]
  },
  {
   "cell_type": "code",
   "execution_count": 72,
   "id": "3cb61079",
   "metadata": {},
   "outputs": [],
   "source": [
    "def get_preds_by_rule(input_datas, df_rule):\n",
    "    preds = []\n",
    "    for idx, input_data in enumerate(input_datas):\n",
    "        preds.append(rulebase_classifier(input_data, df_rule))\n",
    "#         preds = [rulebase_classifier(input_data, df_rule) for input_data in input_datas]\n",
    "    return np.array(preds, dtype=np.float64)"
   ]
  },
  {
   "cell_type": "code",
   "execution_count": 73,
   "id": "51d4da6d",
   "metadata": {},
   "outputs": [
    {
     "name": "stdout",
     "output_type": "stream",
     "text": [
      "# of train data positive:  271925.0\n",
      "# of train data negative:  3149460.0\n",
      "ratio of P/N:  0.08634019800219721\n",
      "\n",
      "# of valid data positive:  67773.0\n",
      "# of valid data negative:  787573.0\n",
      "ratio of P/N:  0.0860529754067242\n",
      "\n",
      "# of test data positive:  85013.0\n",
      "# of test data negative:  984169.0\n",
      "ratio of P/N:  0.0863804895297454\n"
     ]
    }
   ],
   "source": [
    "print(\"# of train data positive: \", train_gt.sum())\n",
    "print(\"# of train data negative: \", train_gt.shape[0] - train_gt.sum())\n",
    "print(\"ratio of P/N: \", train_gt.sum()/(train_gt.shape[0] - train_gt.sum()))\n",
    "print(\"\")\n",
    "\n",
    "print(\"# of valid data positive: \", valid_gt.sum())\n",
    "print(\"# of valid data negative: \", valid_gt.shape[0] - valid_gt.sum())\n",
    "print(\"ratio of P/N: \", valid_gt.sum()/(valid_gt.shape[0] - valid_gt.sum()))\n",
    "print(\"\")\n",
    "\n",
    "print(\"# of test data positive: \", test_gt.sum())\n",
    "print(\"# of test data negative: \", test_gt.shape[0] - test_gt.sum())\n",
    "print(\"ratio of P/N: \", test_gt.sum()/(test_gt.shape[0] - test_gt.sum()))"
   ]
  },
  {
   "cell_type": "code",
   "execution_count": 74,
   "id": "f0abc129",
   "metadata": {},
   "outputs": [],
   "source": [
    "class IsraelDataset(Dataset):\n",
    "    def __init__(self, input_data, gt, transform=None, target_transform=None):\n",
    "        self.input_data = input_data\n",
    "        self.gt = gt\n",
    "        self.transform = transform\n",
    "        self.target_transform = target_transform\n",
    "    \n",
    "    def __len__(self):\n",
    "        return len(self.input_data)\n",
    "    \n",
    "    def __getitem__(self, idx):\n",
    "        return self.input_data[idx], self.gt[idx]"
   ]
  },
  {
   "cell_type": "code",
   "execution_count": 75,
   "id": "60771561",
   "metadata": {},
   "outputs": [],
   "source": [
    "def plot_roc_curve_for_dnn(fper, tper):\n",
    "    plt.plot(fper, tper, color='red', label='ROC')\n",
    "    plt.plot([0, 1], [0, 1], color='green', linestyle='--')\n",
    "    plt.xlabel('False Positive Rate')\n",
    "    plt.ylabel('True Positive Rate')\n",
    "    plt.title('Receiver Operating Characteristic Curve')\n",
    "    plt.legend()\n",
    "    plt.show()"
   ]
  },
  {
   "cell_type": "code",
   "execution_count": 76,
   "id": "cea8c206",
   "metadata": {},
   "outputs": [],
   "source": [
    "def display_performance(clf, pred, valid_input, valid_gt, save_name=None):\n",
    "    pred = np.array(pred)\n",
    "\n",
    "    print('accuracy %.4f' % (accuracy_score(pred, valid_gt)))\n",
    "    print('precision %.4f' % (precision_score(pred, valid_gt)))\n",
    "    print('recall %.4f' % (recall_score(pred, valid_gt)))\n",
    "    print('f1-score %.4f' % (f1_score(pred, valid_gt)))\n",
    "    print(confusion_matrix(pred, valid_gt))\n",
    "    \n",
    "    plot_roc_curve(clf, valid_input, valid_gt)\n",
    "    \n",
    "    if save_name != None: plt.savefig(f'./eda_result/{save_name}.png')"
   ]
  },
  {
   "cell_type": "code",
   "execution_count": 77,
   "id": "1955c07b",
   "metadata": {},
   "outputs": [],
   "source": [
    "from sklearn import tree\n",
    "from sklearn.tree import DecisionTreeClassifier\n",
    "from sklearn.linear_model import LogisticRegression\n",
    "from sklearn.metrics import accuracy_score, precision_score, recall_score, f1_score, confusion_matrix\n",
    "\n",
    "logistic_clf = LogisticRegression(C=1000.0, random_state=0)\n",
    "logistic_clf = logistic_clf.fit(train_input, train_gt)"
   ]
  },
  {
   "cell_type": "code",
   "execution_count": 78,
   "id": "8100c6ab",
   "metadata": {},
   "outputs": [
    {
     "name": "stdout",
     "output_type": "stream",
     "text": [
      "accuracy 0.9193\n",
      "precision 0.1855\n",
      "recall 0.4766\n",
      "f1-score 0.2671\n",
      "[[773770  55202]\n",
      " [ 13803  12571]]\n"
     ]
    },
    {
     "data": {
      "image/png": "[encoded data removed]",
      "text/plain": [
       "<Figure size 432x288 with 1 Axes>"
      ]
     },
     "metadata": {
      "needs_background": "light"
     },
     "output_type": "display_data"
    }
   ],
   "source": [
    "pred = logistic_clf.predict(valid_input)\n",
    "display_performance(logistic_clf, pred, valid_input, valid_gt, 'logistic_auc')"
   ]
  },
  {
   "cell_type": "code",
   "execution_count": 79,
   "id": "d42da9f4",
   "metadata": {},
   "outputs": [
    {
     "data": {
      "text/plain": [
       "RandomForestClassifier(n_estimators=5, random_state=0)"
      ]
     },
     "execution_count": 79,
     "metadata": {},
     "output_type": "execute_result"
    }
   ],
   "source": [
    "from sklearn.ensemble import RandomForestClassifier\n",
    "rf_clf = RandomForestClassifier(n_estimators=5, random_state=0)\n",
    "rf_clf.fit(train_input, train_gt)"
   ]
  },
  {
   "cell_type": "code",
   "execution_count": 80,
   "id": "98f1b526",
   "metadata": {
    "scrolled": true
   },
   "outputs": [
    {
     "name": "stdout",
     "output_type": "stream",
     "text": [
      "accuracy 0.9286\n",
      "precision 0.3567\n",
      "recall 0.5799\n",
      "f1-score 0.4417\n",
      "[[770065  43601]\n",
      " [ 17508  24172]]\n"
     ]
    },
    {
     "data": {
      "image/png": "[encoded data removed]",
      "text/plain": [
       "<Figure size 432x288 with 1 Axes>"
      ]
     },
     "metadata": {
      "needs_background": "light"
     },
     "output_type": "display_data"
    }
   ],
   "source": [
    "pred = rf_clf.predict(valid_input)\n",
    "display_performance(rf_clf, pred, valid_input, valid_gt, 'randomforest_auc')"
   ]
  },
  {
   "cell_type": "code",
   "execution_count": 135,
   "id": "99a54522",
   "metadata": {},
   "outputs": [
    {
     "data": {
      "text/plain": [
       "DecisionTreeClassifier(random_state=0)"
      ]
     },
     "execution_count": 135,
     "metadata": {},
     "output_type": "execute_result"
    }
   ],
   "source": [
    "dt_clf = DecisionTreeClassifier(random_state=0)\n",
    "dt_clf.fit(train_input, train_gt)"
   ]
  },
  {
   "cell_type": "code",
   "execution_count": 136,
   "id": "bad0f8e9",
   "metadata": {},
   "outputs": [
    {
     "name": "stdout",
     "output_type": "stream",
     "text": [
      "accuracy 0.9292\n",
      "precision 0.3474\n",
      "recall 0.5906\n",
      "f1-score 0.4375\n",
      "[[771222  44244]\n",
      " [ 16325  23555]]\n"
     ]
    },
    {
     "data": {
      "image/png": "[encoded data removed]",
      "text/plain": [
       "<Figure size 432x288 with 1 Axes>"
      ]
     },
     "metadata": {
      "needs_background": "light"
     },
     "output_type": "display_data"
    }
   ],
   "source": [
    "pred = dt_clf.predict(valid_input)\n",
    "display_performance(dt_clf, pred, valid_input, valid_gt, 'decisiontree_auc')"
   ]
  },
  {
   "cell_type": "code",
   "execution_count": 137,
   "id": "021a3ec3",
   "metadata": {},
   "outputs": [
    {
     "data": {
      "text/plain": [
       "GradientBoostingClassifier(random_state=0)"
      ]
     },
     "execution_count": 137,
     "metadata": {},
     "output_type": "execute_result"
    }
   ],
   "source": [
    "from sklearn.ensemble import GradientBoostingClassifier\n",
    "gb_clf = GradientBoostingClassifier(random_state=0)\n",
    "gb_clf.fit(train_input, train_gt)"
   ]
  },
  {
   "cell_type": "code",
   "execution_count": 138,
   "id": "bcbf4fa9",
   "metadata": {},
   "outputs": [
    {
     "name": "stdout",
     "output_type": "stream",
     "text": [
      "accuracy 0.9251\n",
      "precision 0.3304\n",
      "recall 0.5458\n",
      "f1-score 0.4116\n",
      "[[768910  45401]\n",
      " [ 18637  22398]]\n"
     ]
    },
    {
     "data": {
      "image/png": "[encoded data removed]",
      "text/plain": [
       "<Figure size 432x288 with 1 Axes>"
      ]
     },
     "metadata": {
      "needs_background": "light"
     },
     "output_type": "display_data"
    }
   ],
   "source": [
    "pred = gb_clf.predict(valid_input)\n",
    "display_performance(gb_clf, pred, valid_input, valid_gt, 'gbm_auc')"
   ]
  },
  {
   "cell_type": "code",
   "execution_count": 401,
   "id": "a85baae1",
   "metadata": {},
   "outputs": [
    {
     "data": {
      "text/html": [
       "<div>\n",
       "<style scoped>\n",
       "    .dataframe tbody tr th:only-of-type {\n",
       "        vertical-align: middle;\n",
       "    }\n",
       "\n",
       "    .dataframe tbody tr th {\n",
       "        vertical-align: top;\n",
       "    }\n",
       "\n",
       "    .dataframe thead th {\n",
       "        text-align: right;\n",
       "    }\n",
       "</style>\n",
       "<table border=\"1\" class=\"dataframe\">\n",
       "  <thead>\n",
       "    <tr style=\"text-align: right;\">\n",
       "      <th></th>\n",
       "      <th>cough</th>\n",
       "      <th>fever</th>\n",
       "      <th>sore_throat</th>\n",
       "      <th>shortness_of_breath</th>\n",
       "      <th>head_ache</th>\n",
       "      <th>gender</th>\n",
       "      <th>confirmed_ratio</th>\n",
       "      <th>global_confirmed_ratio</th>\n",
       "      <th>test_indication</th>\n",
       "      <th>corona_result</th>\n",
       "    </tr>\n",
       "  </thead>\n",
       "  <tbody>\n",
       "    <tr>\n",
       "      <th>count</th>\n",
       "      <td>5.345913e+06</td>\n",
       "      <td>5.345913e+06</td>\n",
       "      <td>5.345913e+06</td>\n",
       "      <td>5.345913e+06</td>\n",
       "      <td>5.345913e+06</td>\n",
       "      <td>5.345913e+06</td>\n",
       "      <td>5.345913e+06</td>\n",
       "      <td>5.345913e+06</td>\n",
       "      <td>5.345913e+06</td>\n",
       "      <td>5.345913e+06</td>\n",
       "    </tr>\n",
       "    <tr>\n",
       "      <th>mean</th>\n",
       "      <td>4.963493e-02</td>\n",
       "      <td>3.851017e-02</td>\n",
       "      <td>1.842978e-02</td>\n",
       "      <td>4.828174e-03</td>\n",
       "      <td>3.798640e-02</td>\n",
       "      <td>5.207305e-01</td>\n",
       "      <td>2.597199e-01</td>\n",
       "      <td>2.824709e-01</td>\n",
       "      <td>8.384312e-02</td>\n",
       "      <td>7.944592e-02</td>\n",
       "    </tr>\n",
       "    <tr>\n",
       "      <th>std</th>\n",
       "      <td>2.171896e-01</td>\n",
       "      <td>1.924244e-01</td>\n",
       "      <td>1.344995e-01</td>\n",
       "      <td>6.931713e-02</td>\n",
       "      <td>1.911634e-01</td>\n",
       "      <td>4.995701e-01</td>\n",
       "      <td>2.258918e-01</td>\n",
       "      <td>1.453237e-01</td>\n",
       "      <td>2.771524e-01</td>\n",
       "      <td>2.704335e-01</td>\n",
       "    </tr>\n",
       "    <tr>\n",
       "      <th>min</th>\n",
       "      <td>0.000000e+00</td>\n",
       "      <td>0.000000e+00</td>\n",
       "      <td>0.000000e+00</td>\n",
       "      <td>0.000000e+00</td>\n",
       "      <td>0.000000e+00</td>\n",
       "      <td>0.000000e+00</td>\n",
       "      <td>0.000000e+00</td>\n",
       "      <td>3.863713e-03</td>\n",
       "      <td>0.000000e+00</td>\n",
       "      <td>0.000000e+00</td>\n",
       "    </tr>\n",
       "    <tr>\n",
       "      <th>25%</th>\n",
       "      <td>0.000000e+00</td>\n",
       "      <td>0.000000e+00</td>\n",
       "      <td>0.000000e+00</td>\n",
       "      <td>0.000000e+00</td>\n",
       "      <td>0.000000e+00</td>\n",
       "      <td>0.000000e+00</td>\n",
       "      <td>7.315234e-02</td>\n",
       "      <td>1.754418e-01</td>\n",
       "      <td>0.000000e+00</td>\n",
       "      <td>0.000000e+00</td>\n",
       "    </tr>\n",
       "    <tr>\n",
       "      <th>50%</th>\n",
       "      <td>0.000000e+00</td>\n",
       "      <td>0.000000e+00</td>\n",
       "      <td>0.000000e+00</td>\n",
       "      <td>0.000000e+00</td>\n",
       "      <td>0.000000e+00</td>\n",
       "      <td>1.000000e+00</td>\n",
       "      <td>1.680912e-01</td>\n",
       "      <td>2.741507e-01</td>\n",
       "      <td>0.000000e+00</td>\n",
       "      <td>0.000000e+00</td>\n",
       "    </tr>\n",
       "    <tr>\n",
       "      <th>75%</th>\n",
       "      <td>0.000000e+00</td>\n",
       "      <td>0.000000e+00</td>\n",
       "      <td>0.000000e+00</td>\n",
       "      <td>0.000000e+00</td>\n",
       "      <td>0.000000e+00</td>\n",
       "      <td>1.000000e+00</td>\n",
       "      <td>4.026311e-01</td>\n",
       "      <td>3.930446e-01</td>\n",
       "      <td>0.000000e+00</td>\n",
       "      <td>0.000000e+00</td>\n",
       "    </tr>\n",
       "    <tr>\n",
       "      <th>max</th>\n",
       "      <td>1.000000e+00</td>\n",
       "      <td>1.000000e+00</td>\n",
       "      <td>1.000000e+00</td>\n",
       "      <td>1.000000e+00</td>\n",
       "      <td>1.000000e+00</td>\n",
       "      <td>1.000000e+00</td>\n",
       "      <td>1.000000e+00</td>\n",
       "      <td>1.000000e+00</td>\n",
       "      <td>1.000000e+00</td>\n",
       "      <td>1.000000e+00</td>\n",
       "    </tr>\n",
       "  </tbody>\n",
       "</table>\n",
       "</div>"
      ],
      "text/plain": [
       "              cough         fever   sore_throat  shortness_of_breath  \\\n",
       "count  5.345913e+06  5.345913e+06  5.345913e+06         5.345913e+06   \n",
       "mean   4.963493e-02  3.851017e-02  1.842978e-02         4.828174e-03   \n",
       "std    2.171896e-01  1.924244e-01  1.344995e-01         6.931713e-02   \n",
       "min    0.000000e+00  0.000000e+00  0.000000e+00         0.000000e+00   \n",
       "25%    0.000000e+00  0.000000e+00  0.000000e+00         0.000000e+00   \n",
       "50%    0.000000e+00  0.000000e+00  0.000000e+00         0.000000e+00   \n",
       "75%    0.000000e+00  0.000000e+00  0.000000e+00         0.000000e+00   \n",
       "max    1.000000e+00  1.000000e+00  1.000000e+00         1.000000e+00   \n",
       "\n",
       "          head_ache        gender  confirmed_ratio  global_confirmed_ratio  \\\n",
       "count  5.345913e+06  5.345913e+06     5.345913e+06            5.345913e+06   \n",
       "mean   3.798640e-02  5.207305e-01     2.597199e-01            2.824709e-01   \n",
       "std    1.911634e-01  4.995701e-01     2.258918e-01            1.453237e-01   \n",
       "min    0.000000e+00  0.000000e+00     0.000000e+00            3.863713e-03   \n",
       "25%    0.000000e+00  0.000000e+00     7.315234e-02            1.754418e-01   \n",
       "50%    0.000000e+00  1.000000e+00     1.680912e-01            2.741507e-01   \n",
       "75%    0.000000e+00  1.000000e+00     4.026311e-01            3.930446e-01   \n",
       "max    1.000000e+00  1.000000e+00     1.000000e+00            1.000000e+00   \n",
       "\n",
       "       test_indication  corona_result  \n",
       "count     5.345913e+06   5.345913e+06  \n",
       "mean      8.384312e-02   7.944592e-02  \n",
       "std       2.771524e-01   2.704335e-01  \n",
       "min       0.000000e+00   0.000000e+00  \n",
       "25%       0.000000e+00   0.000000e+00  \n",
       "50%       0.000000e+00   0.000000e+00  \n",
       "75%       0.000000e+00   0.000000e+00  \n",
       "max       1.000000e+00   1.000000e+00  "
      ]
     },
     "execution_count": 401,
     "metadata": {},
     "output_type": "execute_result"
    }
   ],
   "source": [
    "df_input.describe()"
   ]
  },
  {
   "cell_type": "code",
   "execution_count": 94,
   "id": "53525b9e",
   "metadata": {},
   "outputs": [],
   "source": [
    "a"
   ]
  },
  {
   "cell_type": "code",
   "execution_count": 95,
   "id": "6e3e6965",
   "metadata": {},
   "outputs": [],
   "source": [
    "#  if test_indication == 'Other': return 0\n",
    "#     elif test_indication == 'Abroad': return 1\n",
    "#     elif  test_indication == 'Contact with confirmed': return 2"
   ]
  },
  {
   "cell_type": "code",
   "execution_count": 96,
   "id": "63c22fda",
   "metadata": {},
   "outputs": [
    {
     "data": {
      "text/plain": [
       "((3421385, 11), (855346, 11), (1069182, 11))"
      ]
     },
     "execution_count": 96,
     "metadata": {},
     "output_type": "execute_result"
    }
   ],
   "source": [
    "training_data = IsraelDataset(torch.Tensor(train_input), torch.Tensor(train_gt.reshape(-1, 1)))\n",
    "valid_data = IsraelDataset(torch.Tensor(valid_input), torch.Tensor(valid_gt.reshape(-1, 1)))\n",
    "test_data = IsraelDataset(torch.Tensor(test_input), torch.Tensor(test_gt.reshape(-1, 1)))\n",
    "                          \n",
    "train_dataloader = DataLoader(training_data, batch_size = 512, shuffle=False)\n",
    "valid_dataloader = DataLoader(valid_data, batch_size=128, shuffle=False)\n",
    "test_dataloader = DataLoader(test_data, batch_size=1, shuffle=False)\n",
    "\n",
    "train_input.shape, valid_input.shape, test_input.shape"
   ]
  },
  {
   "cell_type": "code",
   "execution_count": 97,
   "id": "0a06941d",
   "metadata": {},
   "outputs": [
    {
     "name": "stdout",
     "output_type": "stream",
     "text": [
      "torch.Size([128, 11])\n",
      "torch.Size([128, 11])\n"
     ]
    }
   ],
   "source": [
    "for val_inputs, val_labels in valid_dataloader:\n",
    "    break\n",
    "print(val_inputs.shape)\n",
    "\n",
    "print(val_inputs.shape)"
   ]
  },
  {
   "cell_type": "code",
   "execution_count": 98,
   "id": "f99e31cc",
   "metadata": {},
   "outputs": [],
   "source": [
    "import torch\n",
    "from torch import Tensor\n",
    "import torch.nn as nn\n",
    "from typing import Type, Any, Callable, Union, List, Optional\n",
    "\n",
    "\n",
    "def conv3(in_planes: int, out_planes: int, stride: int = 1, groups: int = 1) -> nn.Conv1d:\n",
    "    return nn.Conv1d(in_planes, out_planes,\n",
    "                     kernel_size=3,\n",
    "                     stride=stride, padding=1,\n",
    "                     groups=groups, bias=False,\n",
    "                     )\n",
    "\n",
    "\n",
    "class BasicBlock(nn.Module):\n",
    "    expansion: int = 1\n",
    "\n",
    "    def __init__(self, inplanes: int, planes: int, stride: int = 1, ) -> None:\n",
    "        super(BasicBlock, self).__init__()\n",
    "        norm_layer = nn.BatchNorm1d\n",
    "        self.conv1 = conv3(inplanes, planes, stride)\n",
    "        self.bn1 = norm_layer(planes)\n",
    "        self.relu = nn.ReLU(inplace=True)\n",
    "        self.conv2 = conv3(planes, planes)\n",
    "        self.bn2 = norm_layer(planes)\n",
    "        self.stride = stride\n",
    "\n",
    "    def forward(self, x: Tensor) -> Tensor:\n",
    "        identity = x\n",
    "\n",
    "        out = self.conv1(x)\n",
    "        out = self.bn1(out)\n",
    "        out = self.relu(out)\n",
    "\n",
    "        out = self.conv2(out)\n",
    "        out = self.bn2(out)\n",
    "\n",
    "        out += identity\n",
    "        out = self.relu(out)\n",
    "\n",
    "        return out\n",
    "\n",
    "\n",
    "class ResNet(nn.Module):\n",
    "    def __init__(self, block, layers, num_classes, n_channels=64, dropout=0.2):\n",
    "\n",
    "        super(ResNet, self).__init__()\n",
    "\n",
    "        self.inplanes = 1\n",
    "        self.outplanes = n_channels\n",
    "        self.conv1 = nn.Conv1d(self.inplanes, self.outplanes, kernel_size=7, stride=1, padding=3, bias=False)\n",
    "        self.bn1 = nn.BatchNorm1d(self.outplanes)\n",
    "        self.relu = nn.ReLU(inplace=True)\n",
    "\n",
    "        # Update inplanes for the next layer\n",
    "        self.inplanes = self.outplanes\n",
    "\n",
    "        # ResNet blocks\n",
    "        self.layer1 = self._make_layer(block, n_channels, layers[0])\n",
    "        self.layer2 = self._make_layer(block, n_channels, layers[1], stride=1,)\n",
    "        self.layer3 = self._make_layer(block, n_channels, layers[2], stride=1,)\n",
    "        self.layer4 = self._make_layer(block, n_channels, layers[3], stride=1,)\n",
    "        self.layer5 = self._make_layer(block, n_channels, layers[3], stride=1,)\n",
    "        self.layer6 = self._make_layer(block, n_channels, layers[3], stride=1,)\n",
    "        self.layer7 = self._make_layer(block, n_channels, layers[3], stride=1,)\n",
    "        self.layer8 = self._make_layer(block, n_channels, layers[3], stride=1,)\n",
    "        self.avgpool = nn.AdaptiveAvgPool1d((1, ))\n",
    "        \n",
    "        self.dropout = nn.Dropout(p=dropout)\n",
    "        self.fc = nn.Linear(self.inplanes * block.expansion, num_classes)\n",
    "\n",
    "    def _make_layer(self, block, planes: int, blocks: int, stride: int = 1, dilate: bool = False):\n",
    "        layers = []\n",
    "        layers.append(block(self.inplanes, planes, stride))\n",
    "        self.inplanes = planes * block.expansion\n",
    "        for _ in range(1, blocks):\n",
    "            layers.append(block(self.inplanes, planes, stride))\n",
    "\n",
    "        return nn.Sequential(*layers)\n",
    "\n",
    "    def forward(self, x: Tensor):\n",
    "        # See note [TorchScript super()]\n",
    "        x = self.conv1(x)\n",
    "        x = self.bn1(x)\n",
    "        x = self.relu(x)\n",
    "\n",
    "        x = self.layer1(x)\n",
    "        x = self.layer2(x)\n",
    "        x = self.layer3(x)\n",
    "        x = self.layer4(x)\n",
    "\n",
    "        x = self.avgpool(x)\n",
    "        x = torch.flatten(x, 1)\n",
    "        x = self.fc(x)\n",
    "        return x\n"
   ]
  },
  {
   "cell_type": "code",
   "execution_count": 166,
   "id": "39a19156",
   "metadata": {},
   "outputs": [
    {
     "name": "stdout",
     "output_type": "stream",
     "text": [
      "cuda\n"
     ]
    }
   ],
   "source": [
    "device = 'cuda' if torch.cuda.is_available() else 'cpu'\n",
    "print(device)"
   ]
  },
  {
   "cell_type": "code",
   "execution_count": 234,
   "id": "c104245e",
   "metadata": {},
   "outputs": [],
   "source": [
    "model = BaselineModel().to(device)"
   ]
  },
  {
   "cell_type": "code",
   "execution_count": 235,
   "id": "3d3b0d98",
   "metadata": {},
   "outputs": [],
   "source": [
    "# model = ResNet(BasicBlock, [2, 2, 2, 2], 1, n_channels=64, dropout=0.9).to(device)"
   ]
  },
  {
   "cell_type": "code",
   "execution_count": 236,
   "id": "542baabd",
   "metadata": {
    "scrolled": true
   },
   "outputs": [
    {
     "data": {
      "text/plain": [
       "BaselineModel(\n",
       "  (fcs1): Sequential(\n",
       "    (0): Linear(in_features=11, out_features=400, bias=True)\n",
       "    (1): BatchNorm1d(400, eps=1e-05, momentum=0.1, affine=True, track_running_stats=True)\n",
       "    (2): ReLU()\n",
       "  )\n",
       "  (fcs2): Sequential(\n",
       "    (0): Linear(in_features=400, out_features=400, bias=True)\n",
       "    (1): BatchNorm1d(400, eps=1e-05, momentum=0.1, affine=True, track_running_stats=True)\n",
       "    (2): ReLU()\n",
       "  )\n",
       "  (fcs3): Sequential(\n",
       "    (0): Linear(in_features=400, out_features=400, bias=True)\n",
       "    (1): BatchNorm1d(400, eps=1e-05, momentum=0.1, affine=True, track_running_stats=True)\n",
       "    (2): ReLU()\n",
       "  )\n",
       "  (fcs4): Sequential(\n",
       "    (0): Linear(in_features=400, out_features=400, bias=True)\n",
       "    (1): BatchNorm1d(400, eps=1e-05, momentum=0.1, affine=True, track_running_stats=True)\n",
       "    (2): ReLU()\n",
       "  )\n",
       "  (fcs5): Sequential(\n",
       "    (0): Linear(in_features=400, out_features=1, bias=True)\n",
       "  )\n",
       ")"
      ]
     },
     "execution_count": 236,
     "metadata": {},
     "output_type": "execute_result"
    }
   ],
   "source": [
    "model"
   ]
  },
  {
   "cell_type": "code",
   "execution_count": 237,
   "id": "6b17dc08",
   "metadata": {},
   "outputs": [],
   "source": [
    "criterion = nn.BCELoss()\n",
    "optimizer = optim.Adam(model.parameters(), lr=0.001) # lr 크기좀 늘려보기"
   ]
  },
  {
   "cell_type": "code",
   "execution_count": 238,
   "id": "b2e7e336",
   "metadata": {},
   "outputs": [],
   "source": [
    "def show_progress(train_history, val_history):\n",
    "    plt.plot(train_history)\n",
    "    plt.plot(val_history)\n",
    "    plt.legend(['train_loss', 'val_loss'])\n",
    "    plt.show()"
   ]
  },
  {
   "cell_type": "code",
   "execution_count": 239,
   "id": "110f591a",
   "metadata": {},
   "outputs": [],
   "source": [
    "import gc"
   ]
  },
  {
   "cell_type": "code",
   "execution_count": 243,
   "id": "fce0e917",
   "metadata": {},
   "outputs": [
    {
     "data": {
      "text/plain": [
       "<All keys matched successfully>"
      ]
     },
     "execution_count": 243,
     "metadata": {},
     "output_type": "execute_result"
    }
   ],
   "source": [
    "model.load_state_dict(torch.load('./eda_result/base_model_epoch11_v4.pth'))"
   ]
  },
  {
   "cell_type": "code",
   "execution_count": 244,
   "id": "3767e900",
   "metadata": {},
   "outputs": [],
   "source": [
    "# 'cough', 'fever', 'sore_throat', 'shortness_of_breath', \n",
    "# 'head_ache', 'gender', 'confirmed_ratio', 'global_confirmed_ratio', \n",
    "# 'indication_other', 'indication_abroad', 'indication_contact', 'corona_result'"
   ]
  },
  {
   "cell_type": "code",
   "execution_count": 262,
   "id": "16fcc7b5",
   "metadata": {},
   "outputs": [
    {
     "data": {
      "application/vnd.jupyter.widget-view+json": {
       "model_id": "94e273e5e9f14e21b124f27930c712f1",
       "version_major": 2,
       "version_minor": 0
      },
      "text/plain": [
       "  0%|          | 0/30 [00:00<?, ?it/s]"
      ]
     },
     "metadata": {},
     "output_type": "display_data"
    },
    {
     "data": {
      "application/vnd.jupyter.widget-view+json": {
       "model_id": "7e7700ac5f2a408596c2dc62fcb89e6e",
       "version_major": 2,
       "version_minor": 0
      },
      "text/plain": [
       "  0%|          | 0/6683 [00:00<?, ?it/s]"
      ]
     },
     "metadata": {},
     "output_type": "display_data"
    },
    {
     "data": {
      "application/vnd.jupyter.widget-view+json": {
       "model_id": "9cf46bff7f7f4b178b7fcf14022e0015",
       "version_major": 2,
       "version_minor": 0
      },
      "text/plain": [
       "  0%|          | 0/6683 [00:00<?, ?it/s]"
      ]
     },
     "metadata": {},
     "output_type": "display_data"
    },
    {
     "name": "stdout",
     "output_type": "stream",
     "text": [
      "[[0.10025561]\n",
      " [0.0372918 ]\n",
      " [0.5219776 ]\n",
      " [0.070514  ]\n",
      " [0.06484943]] [[0.]\n",
      " [0.]\n",
      " [1.]\n",
      " [0.]\n",
      " [0.]]\n",
      "Done. Train loss:0.18618408560231117, Validation loss: 0.1870726793419141 VAL_AUC:0.8754072419123606\n"
     ]
    },
    {
     "data": {
      "image/png": "[encoded data removed]",
      "text/plain": [
       "<Figure size 432x288 with 1 Axes>"
      ]
     },
     "metadata": {
      "needs_background": "light"
     },
     "output_type": "display_data"
    },
    {
     "data": {
      "application/vnd.jupyter.widget-view+json": {
       "model_id": "d70c536bf7234ebda5a10a436cc7becd",
       "version_major": 2,
       "version_minor": 0
      },
      "text/plain": [
       "  0%|          | 0/6683 [00:00<?, ?it/s]"
      ]
     },
     "metadata": {},
     "output_type": "display_data"
    },
    {
     "name": "stderr",
     "output_type": "stream",
     "text": [
      "/home/md/anaconda3/envs/flu_screening/lib/python3.8/site-packages/torch/nn/functional.py:1709: UserWarning: nn.functional.sigmoid is deprecated. Use torch.sigmoid instead.\n",
      "  warnings.warn(\"nn.functional.sigmoid is deprecated. Use torch.sigmoid instead.\")\n"
     ]
    },
    {
     "data": {
      "application/vnd.jupyter.widget-view+json": {
       "model_id": "5af475effe9c440a8989bd3f763c54a3",
       "version_major": 2,
       "version_minor": 0
      },
      "text/plain": [
       "  0%|          | 0/6683 [00:00<?, ?it/s]"
      ]
     },
     "metadata": {},
     "output_type": "display_data"
    },
    {
     "name": "stdout",
     "output_type": "stream",
     "text": [
      "[[0.11207324]\n",
      " [0.03682728]\n",
      " [0.5120285 ]\n",
      " [0.07005847]\n",
      " [0.0656257 ]] [[0.]\n",
      " [0.]\n",
      " [1.]\n",
      " [0.]\n",
      " [0.]]\n",
      "Done. Train loss:0.1861377331345591, Validation loss: 0.18709306824535965 VAL_AUC:0.8753362771271284\n"
     ]
    },
    {
     "data": {
      "image/png": "[encoded data removed]",
      "text/plain": [
       "<Figure size 432x288 with 1 Axes>"
      ]
     },
     "metadata": {
      "needs_background": "light"
     },
     "output_type": "display_data"
    },
    {
     "data": {
      "application/vnd.jupyter.widget-view+json": {
       "model_id": "c7e338ee3d2a44b68d23cac7f135a091",
       "version_major": 2,
       "version_minor": 0
      },
      "text/plain": [
       "  0%|          | 0/6683 [00:00<?, ?it/s]"
      ]
     },
     "metadata": {},
     "output_type": "display_data"
    },
    {
     "name": "stderr",
     "output_type": "stream",
     "text": [
      "/home/md/anaconda3/envs/flu_screening/lib/python3.8/site-packages/torch/nn/functional.py:1709: UserWarning: nn.functional.sigmoid is deprecated. Use torch.sigmoid instead.\n",
      "  warnings.warn(\"nn.functional.sigmoid is deprecated. Use torch.sigmoid instead.\")\n"
     ]
    },
    {
     "data": {
      "application/vnd.jupyter.widget-view+json": {
       "model_id": "a0ab57e371a34d498fb5f82ff6f39d9d",
       "version_major": 2,
       "version_minor": 0
      },
      "text/plain": [
       "  0%|          | 0/6683 [00:00<?, ?it/s]"
      ]
     },
     "metadata": {},
     "output_type": "display_data"
    },
    {
     "name": "stdout",
     "output_type": "stream",
     "text": [
      "[[0.1096011 ]\n",
      " [0.03766425]\n",
      " [0.50054723]\n",
      " [0.06799015]\n",
      " [0.0647224 ]] [[0.]\n",
      " [0.]\n",
      " [1.]\n",
      " [0.]\n",
      " [0.]]\n",
      "Done. Train loss:0.18608643708338946, Validation loss: 0.18711763688772984 VAL_AUC:0.8752950751190994\n"
     ]
    },
    {
     "data": {
      "image/png": "[encoded data removed]",
      "text/plain": [
       "<Figure size 432x288 with 1 Axes>"
      ]
     },
     "metadata": {
      "needs_background": "light"
     },
     "output_type": "display_data"
    },
    {
     "data": {
      "application/vnd.jupyter.widget-view+json": {
       "model_id": "932ea624b03e4a93b0b996859158516b",
       "version_major": 2,
       "version_minor": 0
      },
      "text/plain": [
       "  0%|          | 0/6683 [00:00<?, ?it/s]"
      ]
     },
     "metadata": {},
     "output_type": "display_data"
    },
    {
     "name": "stderr",
     "output_type": "stream",
     "text": [
      "/home/md/anaconda3/envs/flu_screening/lib/python3.8/site-packages/torch/nn/functional.py:1709: UserWarning: nn.functional.sigmoid is deprecated. Use torch.sigmoid instead.\n",
      "  warnings.warn(\"nn.functional.sigmoid is deprecated. Use torch.sigmoid instead.\")\n"
     ]
    },
    {
     "data": {
      "application/vnd.jupyter.widget-view+json": {
       "model_id": "e08bd55a4e234b14a1bf036983fac9cc",
       "version_major": 2,
       "version_minor": 0
      },
      "text/plain": [
       "  0%|          | 0/6683 [00:00<?, ?it/s]"
      ]
     },
     "metadata": {},
     "output_type": "display_data"
    },
    {
     "name": "stdout",
     "output_type": "stream",
     "text": [
      "[[0.11054641]\n",
      " [0.03789249]\n",
      " [0.49156776]\n",
      " [0.07059567]\n",
      " [0.06590956]] [[0.]\n",
      " [0.]\n",
      " [1.]\n",
      " [0.]\n",
      " [0.]]\n",
      "Done. Train loss:0.1860356480061571, Validation loss: 0.18715410796025458 VAL_AUC:0.8752545327966597\n"
     ]
    },
    {
     "data": {
      "image/png": "[encoded data removed]",
      "text/plain": [
       "<Figure size 432x288 with 1 Axes>"
      ]
     },
     "metadata": {
      "needs_background": "light"
     },
     "output_type": "display_data"
    },
    {
     "data": {
      "application/vnd.jupyter.widget-view+json": {
       "model_id": "50cb450479004b569d9513d7415b5dd9",
       "version_major": 2,
       "version_minor": 0
      },
      "text/plain": [
       "  0%|          | 0/6683 [00:00<?, ?it/s]"
      ]
     },
     "metadata": {},
     "output_type": "display_data"
    },
    {
     "name": "stderr",
     "output_type": "stream",
     "text": [
      "/home/md/anaconda3/envs/flu_screening/lib/python3.8/site-packages/torch/nn/functional.py:1709: UserWarning: nn.functional.sigmoid is deprecated. Use torch.sigmoid instead.\n",
      "  warnings.warn(\"nn.functional.sigmoid is deprecated. Use torch.sigmoid instead.\")\n"
     ]
    },
    {
     "data": {
      "application/vnd.jupyter.widget-view+json": {
       "model_id": "b3acaa28260c442fb63e53d1d87d4620",
       "version_major": 2,
       "version_minor": 0
      },
      "text/plain": [
       "  0%|          | 0/6683 [00:00<?, ?it/s]"
      ]
     },
     "metadata": {},
     "output_type": "display_data"
    },
    {
     "name": "stdout",
     "output_type": "stream",
     "text": [
      "[[0.10366401]\n",
      " [0.03743891]\n",
      " [0.50077295]\n",
      " [0.06811266]\n",
      " [0.06223131]] [[0.]\n",
      " [0.]\n",
      " [1.]\n",
      " [0.]\n",
      " [0.]]\n",
      "Done. Train loss:0.18598077158812507, Validation loss: 0.1871922387240239 VAL_AUC:0.8752525790320709\n"
     ]
    },
    {
     "data": {
      "image/png": "[encoded data removed]",
      "text/plain": [
       "<Figure size 432x288 with 1 Axes>"
      ]
     },
     "metadata": {
      "needs_background": "light"
     },
     "output_type": "display_data"
    },
    {
     "data": {
      "application/vnd.jupyter.widget-view+json": {
       "model_id": "5d4373d3d0b842dfa446091a61359b5e",
       "version_major": 2,
       "version_minor": 0
      },
      "text/plain": [
       "  0%|          | 0/6683 [00:00<?, ?it/s]"
      ]
     },
     "metadata": {},
     "output_type": "display_data"
    },
    {
     "name": "stderr",
     "output_type": "stream",
     "text": [
      "/home/md/anaconda3/envs/flu_screening/lib/python3.8/site-packages/torch/nn/functional.py:1709: UserWarning: nn.functional.sigmoid is deprecated. Use torch.sigmoid instead.\n",
      "  warnings.warn(\"nn.functional.sigmoid is deprecated. Use torch.sigmoid instead.\")\n"
     ]
    },
    {
     "ename": "KeyboardInterrupt",
     "evalue": "",
     "output_type": "error",
     "traceback": [
      "\u001b[0;31m---------------------------------------------------------------------------\u001b[0m",
      "\u001b[0;31mKeyboardInterrupt\u001b[0m                         Traceback (most recent call last)",
      "\u001b[0;32m<ipython-input-262-70ca69b14000>\u001b[0m in \u001b[0;36m<module>\u001b[0;34m\u001b[0m\n\u001b[1;32m     20\u001b[0m         \u001b[0mtrain_loss\u001b[0m \u001b[0;34m=\u001b[0m \u001b[0mcriterion\u001b[0m\u001b[0;34m(\u001b[0m\u001b[0mtrain_outputs\u001b[0m\u001b[0;34m,\u001b[0m \u001b[0mtrain_labels\u001b[0m\u001b[0;34m)\u001b[0m\u001b[0;34m\u001b[0m\u001b[0;34m\u001b[0m\u001b[0m\n\u001b[1;32m     21\u001b[0m         \u001b[0mtrain_loss\u001b[0m\u001b[0;34m.\u001b[0m\u001b[0mbackward\u001b[0m\u001b[0;34m(\u001b[0m\u001b[0;34m)\u001b[0m\u001b[0;34m\u001b[0m\u001b[0;34m\u001b[0m\u001b[0m\n\u001b[0;32m---> 22\u001b[0;31m         \u001b[0moptimizer\u001b[0m\u001b[0;34m.\u001b[0m\u001b[0mstep\u001b[0m\u001b[0;34m(\u001b[0m\u001b[0;34m)\u001b[0m\u001b[0;34m\u001b[0m\u001b[0;34m\u001b[0m\u001b[0m\n\u001b[0m\u001b[1;32m     23\u001b[0m \u001b[0;34m\u001b[0m\u001b[0m\n\u001b[1;32m     24\u001b[0m         \u001b[0;31m##\u001b[0m\u001b[0;34m\u001b[0m\u001b[0;34m\u001b[0m\u001b[0;34m\u001b[0m\u001b[0m\n",
      "\u001b[0;32m~/anaconda3/envs/flu_screening/lib/python3.8/site-packages/torch/optim/optimizer.py\u001b[0m in \u001b[0;36mwrapper\u001b[0;34m(*args, **kwargs)\u001b[0m\n\u001b[1;32m     87\u001b[0m                 \u001b[0mprofile_name\u001b[0m \u001b[0;34m=\u001b[0m \u001b[0;34m\"Optimizer.step#{}.step\"\u001b[0m\u001b[0;34m.\u001b[0m\u001b[0mformat\u001b[0m\u001b[0;34m(\u001b[0m\u001b[0mobj\u001b[0m\u001b[0;34m.\u001b[0m\u001b[0m__class__\u001b[0m\u001b[0;34m.\u001b[0m\u001b[0m__name__\u001b[0m\u001b[0;34m)\u001b[0m\u001b[0;34m\u001b[0m\u001b[0;34m\u001b[0m\u001b[0m\n\u001b[1;32m     88\u001b[0m                 \u001b[0;32mwith\u001b[0m \u001b[0mtorch\u001b[0m\u001b[0;34m.\u001b[0m\u001b[0mautograd\u001b[0m\u001b[0;34m.\u001b[0m\u001b[0mprofiler\u001b[0m\u001b[0;34m.\u001b[0m\u001b[0mrecord_function\u001b[0m\u001b[0;34m(\u001b[0m\u001b[0mprofile_name\u001b[0m\u001b[0;34m)\u001b[0m\u001b[0;34m:\u001b[0m\u001b[0;34m\u001b[0m\u001b[0;34m\u001b[0m\u001b[0m\n\u001b[0;32m---> 89\u001b[0;31m                     \u001b[0;32mreturn\u001b[0m \u001b[0mfunc\u001b[0m\u001b[0;34m(\u001b[0m\u001b[0;34m*\u001b[0m\u001b[0margs\u001b[0m\u001b[0;34m,\u001b[0m \u001b[0;34m**\u001b[0m\u001b[0mkwargs\u001b[0m\u001b[0;34m)\u001b[0m\u001b[0;34m\u001b[0m\u001b[0;34m\u001b[0m\u001b[0m\n\u001b[0m\u001b[1;32m     90\u001b[0m             \u001b[0;32mreturn\u001b[0m \u001b[0mwrapper\u001b[0m\u001b[0;34m\u001b[0m\u001b[0;34m\u001b[0m\u001b[0m\n\u001b[1;32m     91\u001b[0m \u001b[0;34m\u001b[0m\u001b[0m\n",
      "\u001b[0;32m~/anaconda3/envs/flu_screening/lib/python3.8/site-packages/torch/autograd/grad_mode.py\u001b[0m in \u001b[0;36mdecorate_context\u001b[0;34m(*args, **kwargs)\u001b[0m\n\u001b[1;32m     25\u001b[0m         \u001b[0;32mdef\u001b[0m \u001b[0mdecorate_context\u001b[0m\u001b[0;34m(\u001b[0m\u001b[0;34m*\u001b[0m\u001b[0margs\u001b[0m\u001b[0;34m,\u001b[0m \u001b[0;34m**\u001b[0m\u001b[0mkwargs\u001b[0m\u001b[0;34m)\u001b[0m\u001b[0;34m:\u001b[0m\u001b[0;34m\u001b[0m\u001b[0;34m\u001b[0m\u001b[0m\n\u001b[1;32m     26\u001b[0m             \u001b[0;32mwith\u001b[0m \u001b[0mself\u001b[0m\u001b[0;34m.\u001b[0m\u001b[0m__class__\u001b[0m\u001b[0;34m(\u001b[0m\u001b[0;34m)\u001b[0m\u001b[0;34m:\u001b[0m\u001b[0;34m\u001b[0m\u001b[0;34m\u001b[0m\u001b[0m\n\u001b[0;32m---> 27\u001b[0;31m                 \u001b[0;32mreturn\u001b[0m \u001b[0mfunc\u001b[0m\u001b[0;34m(\u001b[0m\u001b[0;34m*\u001b[0m\u001b[0margs\u001b[0m\u001b[0;34m,\u001b[0m \u001b[0;34m**\u001b[0m\u001b[0mkwargs\u001b[0m\u001b[0;34m)\u001b[0m\u001b[0;34m\u001b[0m\u001b[0;34m\u001b[0m\u001b[0m\n\u001b[0m\u001b[1;32m     28\u001b[0m         \u001b[0;32mreturn\u001b[0m \u001b[0mcast\u001b[0m\u001b[0;34m(\u001b[0m\u001b[0mF\u001b[0m\u001b[0;34m,\u001b[0m \u001b[0mdecorate_context\u001b[0m\u001b[0;34m)\u001b[0m\u001b[0;34m\u001b[0m\u001b[0;34m\u001b[0m\u001b[0m\n\u001b[1;32m     29\u001b[0m \u001b[0;34m\u001b[0m\u001b[0m\n",
      "\u001b[0;32m~/anaconda3/envs/flu_screening/lib/python3.8/site-packages/torch/optim/adam.py\u001b[0m in \u001b[0;36mstep\u001b[0;34m(self, closure)\u001b[0m\n\u001b[1;32m    106\u001b[0m \u001b[0;34m\u001b[0m\u001b[0m\n\u001b[1;32m    107\u001b[0m             \u001b[0mbeta1\u001b[0m\u001b[0;34m,\u001b[0m \u001b[0mbeta2\u001b[0m \u001b[0;34m=\u001b[0m \u001b[0mgroup\u001b[0m\u001b[0;34m[\u001b[0m\u001b[0;34m'betas'\u001b[0m\u001b[0;34m]\u001b[0m\u001b[0;34m\u001b[0m\u001b[0;34m\u001b[0m\u001b[0m\n\u001b[0;32m--> 108\u001b[0;31m             F.adam(params_with_grad,\n\u001b[0m\u001b[1;32m    109\u001b[0m                    \u001b[0mgrads\u001b[0m\u001b[0;34m,\u001b[0m\u001b[0;34m\u001b[0m\u001b[0;34m\u001b[0m\u001b[0m\n\u001b[1;32m    110\u001b[0m                    \u001b[0mexp_avgs\u001b[0m\u001b[0;34m,\u001b[0m\u001b[0;34m\u001b[0m\u001b[0;34m\u001b[0m\u001b[0m\n",
      "\u001b[0;32m~/anaconda3/envs/flu_screening/lib/python3.8/site-packages/torch/optim/_functional.py\u001b[0m in \u001b[0;36madam\u001b[0;34m(params, grads, exp_avgs, exp_avg_sqs, max_exp_avg_sqs, state_steps, amsgrad, beta1, beta2, lr, weight_decay, eps)\u001b[0m\n\u001b[1;32m     82\u001b[0m \u001b[0;34m\u001b[0m\u001b[0m\n\u001b[1;32m     83\u001b[0m         \u001b[0;31m# Decay the first and second moment running average coefficient\u001b[0m\u001b[0;34m\u001b[0m\u001b[0;34m\u001b[0m\u001b[0;34m\u001b[0m\u001b[0m\n\u001b[0;32m---> 84\u001b[0;31m         \u001b[0mexp_avg\u001b[0m\u001b[0;34m.\u001b[0m\u001b[0mmul_\u001b[0m\u001b[0;34m(\u001b[0m\u001b[0mbeta1\u001b[0m\u001b[0;34m)\u001b[0m\u001b[0;34m.\u001b[0m\u001b[0madd_\u001b[0m\u001b[0;34m(\u001b[0m\u001b[0mgrad\u001b[0m\u001b[0;34m,\u001b[0m \u001b[0malpha\u001b[0m\u001b[0;34m=\u001b[0m\u001b[0;36m1\u001b[0m \u001b[0;34m-\u001b[0m \u001b[0mbeta1\u001b[0m\u001b[0;34m)\u001b[0m\u001b[0;34m\u001b[0m\u001b[0;34m\u001b[0m\u001b[0m\n\u001b[0m\u001b[1;32m     85\u001b[0m         \u001b[0mexp_avg_sq\u001b[0m\u001b[0;34m.\u001b[0m\u001b[0mmul_\u001b[0m\u001b[0;34m(\u001b[0m\u001b[0mbeta2\u001b[0m\u001b[0;34m)\u001b[0m\u001b[0;34m.\u001b[0m\u001b[0maddcmul_\u001b[0m\u001b[0;34m(\u001b[0m\u001b[0mgrad\u001b[0m\u001b[0;34m,\u001b[0m \u001b[0mgrad\u001b[0m\u001b[0;34m,\u001b[0m \u001b[0mvalue\u001b[0m\u001b[0;34m=\u001b[0m\u001b[0;36m1\u001b[0m \u001b[0;34m-\u001b[0m \u001b[0mbeta2\u001b[0m\u001b[0;34m)\u001b[0m\u001b[0;34m\u001b[0m\u001b[0;34m\u001b[0m\u001b[0m\n\u001b[1;32m     86\u001b[0m         \u001b[0;32mif\u001b[0m \u001b[0mamsgrad\u001b[0m\u001b[0;34m:\u001b[0m\u001b[0;34m\u001b[0m\u001b[0;34m\u001b[0m\u001b[0m\n",
      "\u001b[0;31mKeyboardInterrupt\u001b[0m: "
     ]
    }
   ],
   "source": [
    "train_running_loss = 0.0\n",
    "num_epochs = 30\n",
    "\n",
    "train_history = []\n",
    "val_history = []\n",
    "torch.cuda.empty_cache()\n",
    "\n",
    "for epoch in tqdm(range(num_epochs)):\n",
    "    model.train()\n",
    "    train_losses = []\n",
    "    for train_inputs, train_labels in tqdm(train_dataloader):\n",
    "        train_inputs = torch.unsqueeze(train_inputs, 1)\n",
    "        train_inputs = train_inputs.to(device)\n",
    "        train_labels = train_labels.to(device)\n",
    "\n",
    "        optimizer.zero_grad()\n",
    "        \n",
    "        train_outputs = model(train_inputs)\n",
    "        train_outputs = nn.functional.sigmoid(train_outputs)\n",
    "        train_loss = criterion(train_outputs, train_labels)\n",
    "        train_loss.backward()\n",
    "        optimizer.step()\n",
    "        \n",
    "        ##\n",
    "#         print('train loss]', train_loss)\n",
    "        train_losses.append(train_loss.tolist())\n",
    "    \n",
    "#     del variables\n",
    "    torch.cuda.empty_cache()\n",
    "    \n",
    "    model.eval()\n",
    "    \n",
    "    val_losses = []\n",
    "    val_all_outputs = []\n",
    "    val_all_labels = []\n",
    "    for val_inputs, val_labels in tqdm(valid_dataloader):\n",
    "        \n",
    "        val_inputs = torch.unsqueeze(val_inputs, 1)\n",
    "        val_outputs = model(torch.Tensor(val_inputs).to(device))\n",
    "        \n",
    "        val_outputs = torch.sigmoid(val_outputs)\n",
    "        \n",
    "        ##\n",
    "        val_loss_on_batch = criterion(val_outputs, val_labels.to(device))\n",
    "#         print('valid loss]', val_loss_on_batch)\n",
    "        \n",
    "        val_losses.append(val_loss_on_batch.tolist())\n",
    "        val_all_outputs.append(val_outputs.cpu().detach().numpy())\n",
    "        val_all_labels.append(val_labels.cpu().detach().numpy())\n",
    "        \n",
    "        \n",
    "    val_all_outputs = np.concatenate(val_all_outputs, axis=0)\n",
    "    val_all_labels = np.concatenate(val_all_labels, axis=0)\n",
    "    print(val_all_outputs[:5], val_all_labels[:5])\n",
    "    auc = roc_auc_score(val_all_labels, val_all_outputs)    \n",
    "    \n",
    "\n",
    "    total_val_loss = sum(val_losses) / len(valid_dataloader)\n",
    "    total_train_loss = sum(train_losses) / len(train_dataloader)\n",
    "    \n",
    "    print('Done. Train loss:{}, Validation loss: {} VAL_AUC:{}'.format(total_train_loss, total_val_loss, auc))\n",
    "    \n",
    "    fper, tper, thresholds = roc_curve(val_all_labels, val_all_outputs)\n",
    "    plot_roc_curve_for_dnn(fper, tper)\n",
    "    \n",
    "#     print('debug')\n",
    "#     print(type(total_train_loss))\n",
    "#     print(type(total_val_loss))\n",
    "#     train_history.append(total_train_loss)\n",
    "#     val_history.append(total_val_loss)\n",
    "#     train_history.append(total_train_loss.cpu().detach().numpy())\n",
    "#     val_history.append(total_val_loss.cpu().detach().numpy())\n",
    "    \n",
    "#     show_progress(train_history, val_history)\n",
    "    \n",
    "#     del val_losses\n",
    "#     del val_all_outputs\n",
    "#     del val_all_labels\n",
    "    torch.save(model.state_dict(), f'./eda_result/cnn_model_epoch{epoch+31}_v4.pth')"
   ]
  },
  {
   "cell_type": "code",
   "execution_count": null,
   "id": "8733a80d",
   "metadata": {},
   "outputs": [],
   "source": []
  },
  {
   "cell_type": "code",
   "execution_count": 263,
   "id": "a7051d26",
   "metadata": {},
   "outputs": [
    {
     "data": {
      "text/plain": [
       "<All keys matched successfully>"
      ]
     },
     "execution_count": 263,
     "metadata": {},
     "output_type": "execute_result"
    }
   ],
   "source": [
    "model.load_state_dict(torch.load('./eda_result/cnn_model_epoch35_v4.pth'))"
   ]
  },
  {
   "cell_type": "code",
   "execution_count": 264,
   "id": "18eb7102",
   "metadata": {},
   "outputs": [
    {
     "data": {
      "text/plain": [
       "BaselineModel(\n",
       "  (fcs1): Sequential(\n",
       "    (0): Linear(in_features=11, out_features=400, bias=True)\n",
       "    (1): BatchNorm1d(400, eps=1e-05, momentum=0.1, affine=True, track_running_stats=True)\n",
       "    (2): ReLU()\n",
       "  )\n",
       "  (fcs2): Sequential(\n",
       "    (0): Linear(in_features=400, out_features=400, bias=True)\n",
       "    (1): BatchNorm1d(400, eps=1e-05, momentum=0.1, affine=True, track_running_stats=True)\n",
       "    (2): ReLU()\n",
       "  )\n",
       "  (fcs3): Sequential(\n",
       "    (0): Linear(in_features=400, out_features=400, bias=True)\n",
       "    (1): BatchNorm1d(400, eps=1e-05, momentum=0.1, affine=True, track_running_stats=True)\n",
       "    (2): ReLU()\n",
       "  )\n",
       "  (fcs4): Sequential(\n",
       "    (0): Linear(in_features=400, out_features=400, bias=True)\n",
       "    (1): BatchNorm1d(400, eps=1e-05, momentum=0.1, affine=True, track_running_stats=True)\n",
       "    (2): ReLU()\n",
       "  )\n",
       "  (fcs5): Sequential(\n",
       "    (0): Linear(in_features=400, out_features=1, bias=True)\n",
       "  )\n",
       ")"
      ]
     },
     "execution_count": 264,
     "metadata": {},
     "output_type": "execute_result"
    }
   ],
   "source": [
    "model.eval()"
   ]
  },
  {
   "cell_type": "code",
   "execution_count": 328,
   "id": "76a7da26",
   "metadata": {},
   "outputs": [
    {
     "data": {
      "text/plain": [
       "tensor([[0.5349]], device='cuda:0', grad_fn=<SigmoidBackward>)"
      ]
     },
     "execution_count": 328,
     "metadata": {},
     "output_type": "execute_result"
    }
   ],
   "source": [
    "# 11934\n",
    "# model = BaselineModel().to(device)\n",
    "# 'cough', 'fever', 'sore_throat', 'shortness_of_breath', \n",
    "# 'head_ache', 'gender', 'confirmed_ratio', 'global_confirmed_ratio', \n",
    "# 'indication_other', 'indication_abroad', 'indication_contact'\n",
    "mock_input = torch.Tensor([[1, 0, 0, 0, 0, 0, 0.6, 0.8, 1, 0, 0]]).to(device)\n",
    "mock_input = torch.unsqueeze(mock_input, 1)\n",
    "\n",
    "torch.sigmoid(model(mock_input))"
   ]
  },
  {
   "cell_type": "code",
   "execution_count": 266,
   "id": "9a127775",
   "metadata": {},
   "outputs": [],
   "source": [
    "#  if test_indication == 'Other': return 0\n",
    "#     elif test_indication == 'Abroad': return 1\n",
    "#     elif  test_indication == 'Contact with confirmed': return 2"
   ]
  },
  {
   "cell_type": "code",
   "execution_count": 321,
   "id": "e6123a4a",
   "metadata": {},
   "outputs": [],
   "source": [
    "symp_other_x = []\n",
    "symp_other_y = []\n",
    "\n",
    "symp_abroad_x = []\n",
    "symp_abroad_y = []\n",
    "\n",
    "symp_contact_x = []\n",
    "symp_contact_y = []\n",
    "\n",
    "for i in range(11935):\n",
    "    symp_input_o = torch.unsqueeze(torch.Tensor([[0, 0, 1, 0, 1, 1, i/11934, 0.6, 1, 0, 0]]).to(device), 1)\n",
    "    symp_input_a = torch.unsqueeze(torch.Tensor([[0, 0, 1, 0, 1, 1, i/11934, 0.6, 0, 1, 0]]).to(device), 1)\n",
    "    symp_input_c = torch.unsqueeze(torch.Tensor([[0, 0, 1, 0, 1, 1, i/11934, 0.6, 0, 0, 1]]).to(device), 1)\n",
    "    \n",
    "    if i % 10 == 0:\n",
    "        symp_other_x.append(i/11934)\n",
    "        symp_other_y.append(torch.sigmoid(model(symp_input_o)).item())\n",
    "        \n",
    "        symp_abroad_x.append(i/11934)\n",
    "        symp_abroad_y.append(torch.sigmoid(model(symp_input_a)).item())\n",
    "        \n",
    "        symp_contact_x.append(i/11934)\n",
    "        symp_contact_y.append(torch.sigmoid(model(symp_input_c)).item())"
   ]
  },
  {
   "cell_type": "code",
   "execution_count": 322,
   "id": "3cfb0c25",
   "metadata": {},
   "outputs": [
    {
     "data": {
      "image/png": "[encoded data removed]",
      "text/plain": [
       "<Figure size 432x288 with 1 Axes>"
      ]
     },
     "metadata": {
      "needs_background": "light"
     },
     "output_type": "display_data"
    }
   ],
   "source": [
    "plt.plot(symp_other_x, symp_other_y)\n",
    "plt.grid(True, axis='y')\n",
    "plt.ylim([0, 1]) \n",
    "plt.show()"
   ]
  },
  {
   "cell_type": "code",
   "execution_count": 323,
   "id": "8d7e78a0",
   "metadata": {},
   "outputs": [
    {
     "data": {
      "image/png": "[encoded data removed]",
      "text/plain": [
       "<Figure size 432x288 with 1 Axes>"
      ]
     },
     "metadata": {
      "needs_background": "light"
     },
     "output_type": "display_data"
    }
   ],
   "source": [
    "plt.plot(symp_abroad_x, symp_abroad_y)\n",
    "plt.grid(True, axis='y')\n",
    "plt.ylim([0, 1]) \n",
    "plt.show()"
   ]
  },
  {
   "cell_type": "code",
   "execution_count": 324,
   "id": "fc8f772c",
   "metadata": {},
   "outputs": [
    {
     "data": {
      "image/png": "[encoded data removed]",
      "text/plain": [
       "<Figure size 432x288 with 1 Axes>"
      ]
     },
     "metadata": {
      "needs_background": "light"
     },
     "output_type": "display_data"
    }
   ],
   "source": [
    "plt.plot(symp_contact_x, symp_contact_y)\n",
    "plt.grid(True, axis='y')\n",
    "plt.ylim([0, 1]) \n",
    "plt.show()"
   ]
  },
  {
   "cell_type": "code",
   "execution_count": 332,
   "id": "e4ce0b53",
   "metadata": {},
   "outputs": [
    {
     "data": {
      "application/vnd.jupyter.widget-view+json": {
       "model_id": "0d625a8279ed4abebd415623066d4574",
       "version_major": 2,
       "version_minor": 0
      },
      "text/plain": [
       "  0%|          | 0/1069182 [00:00<?, ?it/s]"
      ]
     },
     "metadata": {},
     "output_type": "display_data"
    }
   ],
   "source": [
    "model.eval()\n",
    "\n",
    "pred = []\n",
    "positive_res_data = []\n",
    "negative_res_data = []\n",
    "for test_data in tqdm(test_dataloader):\n",
    "        \n",
    "    test_inputs, test_labels = test_data\n",
    "    test_outputs = model(torch.Tensor(test_inputs).to(device))\n",
    "    if test_outputs[0][0].item() > 0.5:\n",
    "        pred.append([1])\n",
    "        positive_res_data.append(test_inputs.numpy().tolist())\n",
    "    else:\n",
    "        pred.append([0])\n",
    "        negative_res_data.append(test_inputs.numpy().tolist())"
   ]
  },
  {
   "cell_type": "code",
   "execution_count": 334,
   "id": "95241f6f",
   "metadata": {},
   "outputs": [
    {
     "name": "stdout",
     "output_type": "stream",
     "text": [
      "accuracy 0.9231\n",
      "precision 0.0678\n",
      "recall 0.6585\n",
      "f1-score 0.1229\n",
      "[[981180  79250]\n",
      " [  2989   5763]]\n",
      "[0.         0.65847806 1.        ]\n",
      "[0.         0.07473383 1.        ]\n",
      "[2. 1. 0.]\n",
      "0.5323762760801031\n",
      "Threshold value is: 1.0\n"
     ]
    },
    {
     "ename": "TypeError",
     "evalue": "plot_roc_curve() missing 1 required positional argument: 'y'",
     "output_type": "error",
     "traceback": [
      "\u001b[0;31m---------------------------------------------------------------------------\u001b[0m",
      "\u001b[0;31mTypeError\u001b[0m                                 Traceback (most recent call last)",
      "\u001b[0;32m<ipython-input-334-137fb55e9005>\u001b[0m in \u001b[0;36m<module>\u001b[0;34m\u001b[0m\n\u001b[0;32m----> 1\u001b[0;31m \u001b[0mdisplay_performance_for_dnn\u001b[0m\u001b[0;34m(\u001b[0m\u001b[0mpred\u001b[0m\u001b[0;34m,\u001b[0m \u001b[0mtest_gt\u001b[0m\u001b[0;34m)\u001b[0m\u001b[0;34m\u001b[0m\u001b[0;34m\u001b[0m\u001b[0m\n\u001b[0m",
      "\u001b[0;32m<ipython-input-333-9f9b238d5312>\u001b[0m in \u001b[0;36mdisplay_performance_for_dnn\u001b[0;34m(pred, valid_gt)\u001b[0m\n\u001b[1;32m     16\u001b[0m     \u001b[0mprint\u001b[0m\u001b[0;34m(\u001b[0m\u001b[0;34m\"Threshold value is:\"\u001b[0m\u001b[0;34m,\u001b[0m \u001b[0moptimal_threshold\u001b[0m\u001b[0;34m)\u001b[0m\u001b[0;34m\u001b[0m\u001b[0;34m\u001b[0m\u001b[0m\n\u001b[1;32m     17\u001b[0m     \u001b[0;31m# plot_roc_curve(fpr, tpr)\u001b[0m\u001b[0;34m\u001b[0m\u001b[0;34m\u001b[0m\u001b[0;34m\u001b[0m\u001b[0m\n\u001b[0;32m---> 18\u001b[0;31m     \u001b[0mplot_roc_curve\u001b[0m\u001b[0;34m(\u001b[0m\u001b[0mfper\u001b[0m\u001b[0;34m,\u001b[0m \u001b[0mtper\u001b[0m\u001b[0;34m)\u001b[0m\u001b[0;34m\u001b[0m\u001b[0;34m\u001b[0m\u001b[0m\n\u001b[0m",
      "\u001b[0;32m~/anaconda3/envs/flu_screening/lib/python3.8/site-packages/sklearn/utils/validation.py\u001b[0m in \u001b[0;36minner_f\u001b[0;34m(*args, **kwargs)\u001b[0m\n\u001b[1;32m     61\u001b[0m             \u001b[0mextra_args\u001b[0m \u001b[0;34m=\u001b[0m \u001b[0mlen\u001b[0m\u001b[0;34m(\u001b[0m\u001b[0margs\u001b[0m\u001b[0;34m)\u001b[0m \u001b[0;34m-\u001b[0m \u001b[0mlen\u001b[0m\u001b[0;34m(\u001b[0m\u001b[0mall_args\u001b[0m\u001b[0;34m)\u001b[0m\u001b[0;34m\u001b[0m\u001b[0;34m\u001b[0m\u001b[0m\n\u001b[1;32m     62\u001b[0m             \u001b[0;32mif\u001b[0m \u001b[0mextra_args\u001b[0m \u001b[0;34m<=\u001b[0m \u001b[0;36m0\u001b[0m\u001b[0;34m:\u001b[0m\u001b[0;34m\u001b[0m\u001b[0;34m\u001b[0m\u001b[0m\n\u001b[0;32m---> 63\u001b[0;31m                 \u001b[0;32mreturn\u001b[0m \u001b[0mf\u001b[0m\u001b[0;34m(\u001b[0m\u001b[0;34m*\u001b[0m\u001b[0margs\u001b[0m\u001b[0;34m,\u001b[0m \u001b[0;34m**\u001b[0m\u001b[0mkwargs\u001b[0m\u001b[0;34m)\u001b[0m\u001b[0;34m\u001b[0m\u001b[0;34m\u001b[0m\u001b[0m\n\u001b[0m\u001b[1;32m     64\u001b[0m \u001b[0;34m\u001b[0m\u001b[0m\n\u001b[1;32m     65\u001b[0m             \u001b[0;31m# extra_args > 0\u001b[0m\u001b[0;34m\u001b[0m\u001b[0;34m\u001b[0m\u001b[0;34m\u001b[0m\u001b[0m\n",
      "\u001b[0;31mTypeError\u001b[0m: plot_roc_curve() missing 1 required positional argument: 'y'"
     ]
    }
   ],
   "source": [
    "display_performance_for_dnn(pred, test_gt)"
   ]
  },
  {
   "cell_type": "code",
   "execution_count": 329,
   "id": "a417f3aa",
   "metadata": {},
   "outputs": [],
   "source": [
    "# import pickle \n",
    "\n",
    "# with open(\"./base_pred.pkl\", \"wb\") as fp:\n",
    "#     pickle.dump(pred, fp)\n",
    "    \n",
    "# with open(\"./base_positive_res_data.pkl\", \"wb\") as fp:\n",
    "#     pickle.dump(positive_res_data, fp)\n",
    "    \n",
    "# with open(\"./base_negative_res_data.pkl\", \"wb\") as fp:\n",
    "#     pickle.dump(negative_res_data, fp)"
   ]
  },
  {
   "cell_type": "code",
   "execution_count": 330,
   "id": "1a7deef4",
   "metadata": {},
   "outputs": [],
   "source": [
    "# pred = []\n",
    "# positive_res_data = []\n",
    "# negative_res_data = []\n",
    "\n",
    "# with open(\"./base_pred.pkl\", \"rb\") as fp:\n",
    "#     pred = pickle.load(fp)\n",
    "    \n",
    "# with open(\"./base_positive_res_data.pkl\", \"rb\") as fp:\n",
    "#     positive_res_data = pickle.load(fp)\n",
    "    \n",
    "# with open(\"./base_negative_res_data.pkl\", \"rb\") as fp:\n",
    "#     negative_res_data = pickle.load(fp)"
   ]
  },
  {
   "cell_type": "code",
   "execution_count": 333,
   "id": "aa9fe818",
   "metadata": {},
   "outputs": [],
   "source": [
    "def display_performance_for_dnn(pred, valid_gt):\n",
    "    pred = np.array(pred)\n",
    "\n",
    "    print('accuracy %.4f' % (accuracy_score(pred, valid_gt)))\n",
    "    print('precision %.4f' % (precision_score(pred, valid_gt)))\n",
    "    print('recall %.4f' % (recall_score(pred, valid_gt)))\n",
    "    print('f1-score %.4f' % (f1_score(pred, valid_gt)))\n",
    "    print(confusion_matrix(pred, valid_gt))\n",
    "    fper, tper, thresholds = roc_curve(pred, valid_gt)\n",
    "    print(tper)\n",
    "    print(fper)\n",
    "    print(thresholds)\n",
    "    print(roc_auc_score(valid_gt, pred))\n",
    "    optimal_idx = np.argmax(tper - fper)\n",
    "    optimal_threshold = thresholds[optimal_idx]\n",
    "    print(\"Threshold value is:\", optimal_threshold)\n",
    "    # plot_roc_curve(fpr, tpr)\n",
    "    plot_roc_curve(fper, tper)"
   ]
  },
  {
   "cell_type": "markdown",
   "id": "2a7b77b3",
   "metadata": {},
   "source": [
    "### 8-feature - epoch 1\n",
    "- accuracy 0.8779\n",
    "- precision 0.2652\n",
    "- recall 0.4887\n",
    "- f1-score 0.3438\n",
    "\n",
    "### 8-feature - epoch 10\n",
    "- accuracy 0.1348\n",
    "- precision 0.9928\n",
    "- recall 0.1217\n",
    "- f1-score 0.2169\n",
    "\n",
    "### 9-feature(isolated_today_contact_with_confirmed or new_contact_with_confirmed)\n",
    "- accuracy 0.8793\n",
    "- precision 0.0000\n",
    "- 모두 음성으로 판단하는 대참사\n",
    "\n",
    "### 9-feature(isolated_today_contact_with_confirmed or new_contact_with_confirmed) - epoch 5\n",
    "- accuracy 0.8699\n",
    "- precision 0.5792\n",
    "- recall 0.4685\n",
    "- f1-score 0.5180\n",
    "\n",
    "### 9-feature(contact) - epoch 20\n",
    "- accuracy 0.8702\n",
    "- precision 0.2208\n",
    "- recall 0.4144\n",
    "- f1-score 0.2881\n",
    "\n",
    "### 9-feature(positive ratio) - epoch 20\n",
    "- accuracy 0.7904\n",
    "- precision 0.5766\n",
    "- recall 0.3010\n",
    "- f1-score 0.3956\n",
    "\n",
    "### 10-feature( 'positive_ratio', 'contact') - epoch 20\n",
    "- accuracy 0.8713\n",
    "- precision 0.5797\n",
    "- recall 0.4671\n",
    "- f1-score 0.5174\n",
    "\n",
    "### 12-feature('contact', 'positive_ratio', 'weekday_ratio', 'confirmed_ratio') - epoch 20\n",
    "- accuracy 0.8698\n",
    "- precision 0.5809\n",
    "- recall 0.4650\n",
    "- f1-score 0.5166\n",
    "\n",
    "\n",
    "accuracy 0.8793\n",
    "precision 0.1684\n",
    "recall 0.4877\n",
    "f1-score 0.2503\n",
    "[[740307  85788]\n",
    " [ 18244  17368]]"
   ]
  },
  {
   "cell_type": "code",
   "execution_count": 177,
   "id": "245df118",
   "metadata": {},
   "outputs": [],
   "source": [
    "# 'cough', 'fever', 'sore_throat', 'shortness_of_breath', 'head_ache', 'age_60_and_above', 'gender', 'confirmed_ratio', 'weekday_ratio', 'corona_result'"
   ]
  },
  {
   "cell_type": "code",
   "execution_count": null,
   "id": "9916bdf4",
   "metadata": {},
   "outputs": [],
   "source": [
    "df_pos = pd.DataFrame(np.array(positive_res_data).reshape(-1, 8), columns=['cough', 'fever', 'sore_throat', 'shortness_of_breath', 'head_ache', 'age_60_and_above', 'gender', 'test_indication'])\n",
    "df_neg = pd.DataFrame(np.array(negative_res_data).reshape(-1, 8), columns=['cough', 'fever', 'sore_throat', 'shortness_of_breath', 'head_ache', 'age_60_and_above', 'gender', 'test_indication'])"
   ]
  },
  {
   "cell_type": "code",
   "execution_count": null,
   "id": "fa3ba22e",
   "metadata": {},
   "outputs": [],
   "source": [
    "print(f\"양성 갯수: {df_pos.shape[0]}, 음성 갯수: {df_neg.shape[0]}, 양성 / 음성 비율: {round(df_pos.shape[0] / df_neg.shape[0] * 100, 2)}%\")"
   ]
  },
  {
   "cell_type": "code",
   "execution_count": null,
   "id": "0022f2cb",
   "metadata": {},
   "outputs": [],
   "source": [
    "df_pos_symptom_cnt = [0] * 6\n",
    "df_neg_symptom_cnt = [0] * 6\n",
    "pos_symptom_confusion_matrix = np.zeros((2,2,2,2,2), dtype=int)\n",
    "neg_symptom_confusion_matrix = np.zeros((2,2,2,2,2), dtype=int)\n",
    "\n",
    "for idx, row in tqdm(df_pos.iterrows()):\n",
    "    symptoms = row[['cough', 'fever', 'sore_throat', 'shortness_of_breath', 'head_ache']].astype(int).tolist()\n",
    "    pos_symptom_confusion_matrix[symptoms[0], symptoms[1], symptoms[2], symptoms[3], symptoms[4]] += 1\n",
    "    cnt_idx = int(sum(symptoms))\n",
    "    df_pos_symptom_cnt[cnt_idx] += 1\n",
    "    \n",
    "for idx, row in tqdm(df_neg.iterrows()):\n",
    "    #     if idx == df_pos.shape[0]: break\n",
    "    symptoms = row[['cough', 'fever', 'sore_throat', 'shortness_of_breath', 'head_ache']].astype(int).tolist()\n",
    "    neg_symptom_confusion_matrix[symptoms[0], symptoms[1], symptoms[2], symptoms[3], symptoms[4]] += 1\n",
    "    cnt_idx = int(sum(symptoms))\n",
    "    df_neg_symptom_cnt[cnt_idx] += 1"
   ]
  },
  {
   "cell_type": "code",
   "execution_count": null,
   "id": "f9dbfeb4",
   "metadata": {},
   "outputs": [],
   "source": [
    "df_pos.shape[0], df_neg.shape[0]"
   ]
  },
  {
   "cell_type": "code",
   "execution_count": null,
   "id": "3f2f18b1",
   "metadata": {},
   "outputs": [],
   "source": [
    "def positive_percent_of_ormore_number(number):\n",
    "    neg_ormore_num = sum(df_neg_symptom_cnt[number:])\n",
    "    pos_ormore_num = sum(df_pos_symptom_cnt[number:])\n",
    "    total = neg_ormore_num + pos_ormore_num\n",
    "    if total == 0: 'lower the number'\n",
    "    return round((pos_ormore_num / total) * 100, 2)"
   ]
  },
  {
   "cell_type": "code",
   "execution_count": null,
   "id": "1c27c092",
   "metadata": {},
   "outputs": [],
   "source": [
    "print(f\"음성 예측 데이터 [0개, 1개, 2개, 3개, 4개, 5개] : {df_neg_symptom_cnt[:6]}\")\n",
    "print(f\"양성 예측 데이터 [0개, 1개, 2개, 3개, 4개, 5개] : {df_pos_symptom_cnt[:6]}\\n\")\n",
    "\n",
    "for number in range(6):\n",
    "    print(f\"{number}개 이상] {positive_percent_of_ormore_number(number)}% 양성\")\n",
    "    print(f\"증상 {number}개] 음성/양성% : {round(df_neg_symptom_cnt[number] / df_pos_symptom_cnt[number]*100, 2)}%\\n\")"
   ]
  },
  {
   "cell_type": "code",
   "execution_count": null,
   "id": "8591d40e",
   "metadata": {},
   "outputs": [],
   "source": [
    "pos_symptom_confusion_matrix"
   ]
  },
  {
   "cell_type": "code",
   "execution_count": null,
   "id": "ce20782f",
   "metadata": {},
   "outputs": [],
   "source": [
    "def confusion_matrix_display(confusion_matrix):\n",
    "    for i in range(32):\n",
    "        idx = bin(i).replace(\"0b\", \"0\" * (7-len(bin(i))))\n",
    "        cnt = 0\n",
    "        if idx[0] == '1': \n",
    "            print('[ cough',end = ' ')\n",
    "            cnt += 1\n",
    "        if idx[1] == '1': \n",
    "            print('fever',end = ' ')\n",
    "            cnt += 1\n",
    "        if idx[2] == '1': \n",
    "            print('sore_throat',end = ' ')\n",
    "            cnt += 1\n",
    "        if idx[3] == '1': \n",
    "            print('shortness_of_breath',end = ' ')\n",
    "            cnt += 1\n",
    "        if idx[4] == '1': \n",
    "            print('head_ache',end = ' ')\n",
    "            cnt += 1\n",
    "        print(f'{cnt}개 증상 ]')\n",
    "            \n",
    "        print(confusion_matrix[int(idx[0]),int(idx[1]),int(idx[2]),int(idx[3]),int(idx[4])])"
   ]
  },
  {
   "cell_type": "code",
   "execution_count": null,
   "id": "0d5577d5",
   "metadata": {},
   "outputs": [],
   "source": [
    "confusion_matrix_display(neg_symptom_confusion_matrix)"
   ]
  },
  {
   "cell_type": "code",
   "execution_count": null,
   "id": "685df3a9",
   "metadata": {},
   "outputs": [],
   "source": [
    "confusion_matrix_display(pos_symptom_confusion_matrix)"
   ]
  },
  {
   "cell_type": "code",
   "execution_count": null,
   "id": "5b65ac8f",
   "metadata": {},
   "outputs": [],
   "source": [
    "pred = np.array(pred)\n",
    "\n",
    "print('accuracy %.4f' % (accuracy_score(pred, valid_gt)))\n",
    "print('precision %.4f' % (precision_score(pred, valid_gt)))\n",
    "print('recall %.4f' % (recall_score(pred, valid_gt)))\n",
    "print('f1-score %.4f' % (f1_score(pred, valid_gt)))\n",
    "print(confusion_matrix(pred, valid_gt))"
   ]
  },
  {
   "cell_type": "code",
   "execution_count": null,
   "id": "71c781b6",
   "metadata": {},
   "outputs": [],
   "source": [
    "pred\n",
    "# pred_chk"
   ]
  },
  {
   "cell_type": "markdown",
   "id": "6810aefe",
   "metadata": {},
   "source": [
    "### random forest result\n",
    "- accuracy 0.9257\n",
    "- precision 0.2314\n",
    "- recall 0.5553\n",
    "- f1-score 0.3267\n",
    "- [[791936  52206]\n",
    "- [ 12591  15720]]\n",
    "\n",
    "### 1-layer sigmoid epoch3 result\n",
    "- accuracy 0.9222\n",
    "- precision 0.1958\n",
    "- recall 0.5013\n",
    "- f1-score 0.2816\n",
    "- [[791299  54627]\n",
    "- [ 13228  13299]]\n",
    "\n",
    "### compare with logistic regression\n",
    "- accuracy 0.9224\n",
    "- precision 0.1953\n",
    "- recall 0.5049\n",
    "- f1-score 0.2816\n",
    "- [[791517  54661]\n",
    "- [ 13010  13265]]\n",
    "\n",
    "### 2-layer epoch3 result\n",
    "- 8-4-1(sig-sig)\n",
    "- accuracy 0.9248\n",
    "- precision 0.2626\n",
    "- recall 0.5342\n",
    "- f1-score 0.3521\n",
    "- [[788976  50090]\n",
    "-  [ 15551  17836]]\n",
    "\n",
    "### 2-layer epoch3 result\n",
    "- 8-4-1(relu-sig)\n",
    "- accuracy 0.9256 \n",
    "- precision 0.1999\n",
    "- recall 0.5635\n",
    "- f1-score 0.2951\n",
    "- [[794008  54349]\n",
    "- [ 10519  13577]]\n",
    "\n",
    "### 2-layer epoch3 result\n",
    "- 8-20-1(relu-sig)\n",
    "- accuracy 0.9255\n",
    "- precision 0.2392\n",
    "- recall 0.5498\n",
    "- f1-score 0.3333\n",
    "- [[791226  51680]\n",
    "-  [ 13301  16246]]\n",
    "\n",
    "### 2-layer epcoh3 result \n",
    "- 8-400-1(relu-sig)\n",
    "- accuracy 0.9256\n",
    "- precision 0.2904\n",
    "- recall 0.5415\n",
    "- f1-score 0.3781\n",
    "- [[787821  48197]\n",
    "- [ 16706  19729]]\n",
    "\n",
    "### 3-layer epoch3 result\n",
    "- 8-4-2-1 (relu-relu-sigmoid) (sigmoid-sigmoid-sigmoid 동일한 결과)\n",
    "- accuracy 0.9221\n",
    "- precision 0.0000\n",
    "- recall 0.0000\n",
    "- f1-score 0.0000\n",
    "- [[804527  67926]\n",
    "-  [     0      0]]\n",
    "- 확인 결과 모든 출력을 음성으로 출력함(1-layer가 오히려 낫네?)"
   ]
  },
  {
   "cell_type": "markdown",
   "id": "18069c58",
   "metadata": {},
   "source": [
    "## 시간 순서대로 train, valid, test 나눔\n",
    "\n",
    "### Logistic Regression\n",
    "- accuracy 0.8782\n",
    "- precision 0.2240\n",
    "- recall 0.4901\n",
    "- f1-score 0.3075\n",
    "- [[742649  81690]\n",
    "  [ 24533  23581]]\n",
    "  \n",
    "### Random Forest\n",
    "- accuracy 0.8761\n",
    "- precision 0.4298\n",
    "- recall 0.4848\n",
    "- f1-score 0.4556\n",
    "- [[719101  60026]\n",
    "- [ 48081  45245]]\n",
    "\n",
    "### Decision Tree\n",
    "- accuracy 0.8761\n",
    "- precision 0.4299\n",
    "- recall 0.4848\n",
    "- f1-score 0.4557\n",
    "- [[719094  60017]\n",
    "- [ 48088  45254]]\n",
    "\n",
    "### Gradient Boosting \n",
    "- accuracy 0.8789\n",
    "- precision 0.3059\n",
    "- recall 0.4973\n",
    "- f1-score 0.3788\n",
    "- [[734633  73070]\n",
    "- [ 32549  32201]]\n",
    "\n",
    "### 3-layer NN \n",
    "- epochs = 10, batch_size = 128\n",
    "- 8-1200-1\n",
    "- accuracy 0.8699\n",
    "- precision 0.5794\n",
    "- recall 0.4683\n",
    "- f1-score 0.5180\n",
    "- [[697921  44274]\n",
    "- [ 69261  60997]]"
   ]
  },
  {
   "cell_type": "code",
   "execution_count": null,
   "id": "1feaff3d",
   "metadata": {},
   "outputs": [],
   "source": []
  }
 ],
 "metadata": {
  "kernelspec": {
   "display_name": "Python 3",
   "language": "python",
   "name": "python3"
  },
  "language_info": {
   "codemirror_mode": {
    "name": "ipython",
    "version": 3
   },
   "file_extension": ".py",
   "mimetype": "text/x-python",
   "name": "python",
   "nbconvert_exporter": "python",
   "pygments_lexer": "ipython3",
   "version": "3.8.10"
  }
 },
 "nbformat": 4,
 "nbformat_minor": 5
}
