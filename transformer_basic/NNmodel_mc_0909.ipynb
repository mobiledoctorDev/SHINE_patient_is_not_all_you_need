{
 "cells": [
  {
   "cell_type": "markdown",
   "id": "53072070",
   "metadata": {},
   "source": [
    "## Import library"
   ]
  },
  {
   "cell_type": "code",
   "execution_count": 1,
   "id": "32a01580",
   "metadata": {},
   "outputs": [],
   "source": [
    "import datetime \n",
    "from datetime import timedelta \n",
    "import os\n",
    "import glob\n",
    "import numpy as np\n",
    "import pandas as pd\n",
    "import torch\n",
    "import torchvision\n",
    "import torchvision.transforms as transforms\n",
    "from sklearn.metrics import roc_curve\n",
    "from torch import nn, optim\n",
    "\n",
    "import torch.nn.functional as F\n",
    "import math, copy, time\n",
    "from torch.autograd import Variable\n",
    "from torch.utils.data import Dataset\n",
    "from torch.utils.data import DataLoader\n",
    "from itertools import cycle\n",
    "from tqdm.notebook import tqdm\n",
    "import re\n",
    "from sklearn.metrics import roc_auc_score, plot_roc_curve\n",
    "\n",
    "import matplotlib.pyplot as plt\n",
    "import seaborn\n",
    "from collections import defaultdict\n",
    "\n",
    "from sklearn import svm"
   ]
  },
  {
   "cell_type": "code",
   "execution_count": 51,
   "id": "9b588d54",
   "metadata": {},
   "outputs": [
    {
     "ename": "AttributeError",
     "evalue": "module 'matplotlib.pyplot' has no attribute '__version__'",
     "output_type": "error",
     "traceback": [
      "\u001b[0;31m---------------------------------------------------------------------------\u001b[0m",
      "\u001b[0;31mAttributeError\u001b[0m                            Traceback (most recent call last)",
      "\u001b[0;32m<ipython-input-51-8279f2a58554>\u001b[0m in \u001b[0;36m<module>\u001b[0;34m\u001b[0m\n\u001b[0;32m----> 1\u001b[0;31m \u001b[0mprint\u001b[0m\u001b[0;34m(\u001b[0m\u001b[0mplt\u001b[0m\u001b[0;34m.\u001b[0m\u001b[0m__version__\u001b[0m\u001b[0;34m)\u001b[0m\u001b[0;34m\u001b[0m\u001b[0;34m\u001b[0m\u001b[0m\n\u001b[0m",
      "\u001b[0;31mAttributeError\u001b[0m: module 'matplotlib.pyplot' has no attribute '__version__'"
     ]
    }
   ],
   "source": [
    "print(matplotlib.__version__)"
   ]
  },
  {
   "cell_type": "markdown",
   "id": "947019e1",
   "metadata": {},
   "source": [
    "## Data load"
   ]
  },
  {
   "cell_type": "code",
   "execution_count": 2,
   "id": "4d863c8d",
   "metadata": {
    "scrolled": true
   },
   "outputs": [],
   "source": [
    "# df_israel_covid 이스라엘 데이터셋\n",
    "# corona_isolation_per_day_ver_0059 일일 코로나 격리자 수 \n",
    "# time_series_covid19_confirmed_global 누적 확진자 수 \n",
    "\n",
    "base_path = './opendataset'\n",
    "df_israel_covid = pd.read_csv(f'{base_path}/israel_covid_small.csv')\n",
    "df_israel_isolation_per_day = pd.read_csv(f'{base_path}/corona_isolation_per_day_ver_0069.csv')\n",
    "df_timeseries_confirm = pd.read_csv(f'{base_path}/time_series_covid19_confirmed_global.csv')"
   ]
  },
  {
   "cell_type": "code",
   "execution_count": 3,
   "id": "9718b94f",
   "metadata": {},
   "outputs": [
    {
     "data": {
      "text/html": [
       "<div>\n",
       "<style scoped>\n",
       "    .dataframe tbody tr th:only-of-type {\n",
       "        vertical-align: middle;\n",
       "    }\n",
       "\n",
       "    .dataframe tbody tr th {\n",
       "        vertical-align: top;\n",
       "    }\n",
       "\n",
       "    .dataframe thead th {\n",
       "        text-align: right;\n",
       "    }\n",
       "</style>\n",
       "<table border=\"1\" class=\"dataframe\">\n",
       "  <thead>\n",
       "    <tr style=\"text-align: right;\">\n",
       "      <th></th>\n",
       "      <th>Province/State</th>\n",
       "      <th>Country/Region</th>\n",
       "      <th>Lat</th>\n",
       "      <th>Long</th>\n",
       "      <th>1/22/20</th>\n",
       "      <th>1/23/20</th>\n",
       "      <th>1/24/20</th>\n",
       "      <th>1/25/20</th>\n",
       "      <th>1/26/20</th>\n",
       "      <th>1/27/20</th>\n",
       "      <th>...</th>\n",
       "      <th>8/28/21</th>\n",
       "      <th>8/29/21</th>\n",
       "      <th>8/30/21</th>\n",
       "      <th>8/31/21</th>\n",
       "      <th>9/1/21</th>\n",
       "      <th>9/2/21</th>\n",
       "      <th>9/3/21</th>\n",
       "      <th>9/4/21</th>\n",
       "      <th>9/5/21</th>\n",
       "      <th>9/6/21</th>\n",
       "    </tr>\n",
       "  </thead>\n",
       "  <tbody>\n",
       "    <tr>\n",
       "      <th>0</th>\n",
       "      <td>NaN</td>\n",
       "      <td>Afghanistan</td>\n",
       "      <td>33.93911</td>\n",
       "      <td>67.709953</td>\n",
       "      <td>0</td>\n",
       "      <td>0</td>\n",
       "      <td>0</td>\n",
       "      <td>0</td>\n",
       "      <td>0</td>\n",
       "      <td>0</td>\n",
       "      <td>...</td>\n",
       "      <td>152960</td>\n",
       "      <td>152960</td>\n",
       "      <td>153148</td>\n",
       "      <td>153220</td>\n",
       "      <td>153260</td>\n",
       "      <td>153306</td>\n",
       "      <td>153375</td>\n",
       "      <td>153375</td>\n",
       "      <td>153375</td>\n",
       "      <td>153534</td>\n",
       "    </tr>\n",
       "    <tr>\n",
       "      <th>1</th>\n",
       "      <td>NaN</td>\n",
       "      <td>Albania</td>\n",
       "      <td>41.15330</td>\n",
       "      <td>20.168300</td>\n",
       "      <td>0</td>\n",
       "      <td>0</td>\n",
       "      <td>0</td>\n",
       "      <td>0</td>\n",
       "      <td>0</td>\n",
       "      <td>0</td>\n",
       "      <td>...</td>\n",
       "      <td>144079</td>\n",
       "      <td>144847</td>\n",
       "      <td>145333</td>\n",
       "      <td>146387</td>\n",
       "      <td>147369</td>\n",
       "      <td>148222</td>\n",
       "      <td>149117</td>\n",
       "      <td>150101</td>\n",
       "      <td>150997</td>\n",
       "      <td>151499</td>\n",
       "    </tr>\n",
       "    <tr>\n",
       "      <th>2</th>\n",
       "      <td>NaN</td>\n",
       "      <td>Algeria</td>\n",
       "      <td>28.03390</td>\n",
       "      <td>1.659600</td>\n",
       "      <td>0</td>\n",
       "      <td>0</td>\n",
       "      <td>0</td>\n",
       "      <td>0</td>\n",
       "      <td>0</td>\n",
       "      <td>0</td>\n",
       "      <td>...</td>\n",
       "      <td>194671</td>\n",
       "      <td>195162</td>\n",
       "      <td>195574</td>\n",
       "      <td>196080</td>\n",
       "      <td>196527</td>\n",
       "      <td>196915</td>\n",
       "      <td>197308</td>\n",
       "      <td>197659</td>\n",
       "      <td>198004</td>\n",
       "      <td>198313</td>\n",
       "    </tr>\n",
       "    <tr>\n",
       "      <th>3</th>\n",
       "      <td>NaN</td>\n",
       "      <td>Andorra</td>\n",
       "      <td>42.50630</td>\n",
       "      <td>1.521800</td>\n",
       "      <td>0</td>\n",
       "      <td>0</td>\n",
       "      <td>0</td>\n",
       "      <td>0</td>\n",
       "      <td>0</td>\n",
       "      <td>0</td>\n",
       "      <td>...</td>\n",
       "      <td>15025</td>\n",
       "      <td>15025</td>\n",
       "      <td>15032</td>\n",
       "      <td>15033</td>\n",
       "      <td>15046</td>\n",
       "      <td>15052</td>\n",
       "      <td>15055</td>\n",
       "      <td>15055</td>\n",
       "      <td>15055</td>\n",
       "      <td>15069</td>\n",
       "    </tr>\n",
       "    <tr>\n",
       "      <th>4</th>\n",
       "      <td>NaN</td>\n",
       "      <td>Angola</td>\n",
       "      <td>-11.20270</td>\n",
       "      <td>17.873900</td>\n",
       "      <td>0</td>\n",
       "      <td>0</td>\n",
       "      <td>0</td>\n",
       "      <td>0</td>\n",
       "      <td>0</td>\n",
       "      <td>0</td>\n",
       "      <td>...</td>\n",
       "      <td>47079</td>\n",
       "      <td>47168</td>\n",
       "      <td>47331</td>\n",
       "      <td>47544</td>\n",
       "      <td>47781</td>\n",
       "      <td>48004</td>\n",
       "      <td>48261</td>\n",
       "      <td>48475</td>\n",
       "      <td>48656</td>\n",
       "      <td>48790</td>\n",
       "    </tr>\n",
       "  </tbody>\n",
       "</table>\n",
       "<p>5 rows × 598 columns</p>\n",
       "</div>"
      ],
      "text/plain": [
       "  Province/State Country/Region       Lat       Long  1/22/20  1/23/20  \\\n",
       "0            NaN    Afghanistan  33.93911  67.709953        0        0   \n",
       "1            NaN        Albania  41.15330  20.168300        0        0   \n",
       "2            NaN        Algeria  28.03390   1.659600        0        0   \n",
       "3            NaN        Andorra  42.50630   1.521800        0        0   \n",
       "4            NaN         Angola -11.20270  17.873900        0        0   \n",
       "\n",
       "   1/24/20  1/25/20  1/26/20  1/27/20  ...  8/28/21  8/29/21  8/30/21  \\\n",
       "0        0        0        0        0  ...   152960   152960   153148   \n",
       "1        0        0        0        0  ...   144079   144847   145333   \n",
       "2        0        0        0        0  ...   194671   195162   195574   \n",
       "3        0        0        0        0  ...    15025    15025    15032   \n",
       "4        0        0        0        0  ...    47079    47168    47331   \n",
       "\n",
       "   8/31/21  9/1/21  9/2/21  9/3/21  9/4/21  9/5/21  9/6/21  \n",
       "0   153220  153260  153306  153375  153375  153375  153534  \n",
       "1   146387  147369  148222  149117  150101  150997  151499  \n",
       "2   196080  196527  196915  197308  197659  198004  198313  \n",
       "3    15033   15046   15052   15055   15055   15055   15069  \n",
       "4    47544   47781   48004   48261   48475   48656   48790  \n",
       "\n",
       "[5 rows x 598 columns]"
      ]
     },
     "execution_count": 3,
     "metadata": {},
     "output_type": "execute_result"
    }
   ],
   "source": [
    "df_timeseries_confirm.head(5)"
   ]
  },
  {
   "cell_type": "markdown",
   "id": "4045abb0",
   "metadata": {},
   "source": [
    "## preprocessing"
   ]
  },
  {
   "cell_type": "code",
   "execution_count": 4,
   "id": "85fccf9b",
   "metadata": {},
   "outputs": [],
   "source": [
    "# 누적 확진자수를 2021-08-17 와 같은 포멧으로 전처리해주는 과정\n",
    "\n",
    "rows = []\n",
    "for idx, values in enumerate(df_timeseries_confirm[df_timeseries_confirm['Country/Region'] == 'Israel'].iteritems()):\n",
    "    if idx < 4: continue\n",
    "    year = f\"20{values[0][-2:]}\"\n",
    "    month = values[0][:values[0].index('/')]\n",
    "    month = f'0{month}' if len(month) == 1 else month\n",
    "    day = values[0][values[0].index('/') + 1 : values[0].rindex('/')]\n",
    "    day = f'0{day}' if len(day) == 1 else day\n",
    "    date = f'{year}-{month}-{day}'\n",
    "    confirmed_num = values[1].item()\n",
    "    rows.append([date, confirmed_num])\n",
    "df_numsum_confirmed = pd.DataFrame(rows, columns=['confirmed_date', 'confirmed_numsum'])"
   ]
  },
  {
   "cell_type": "code",
   "execution_count": 5,
   "id": "d9af766a",
   "metadata": {},
   "outputs": [],
   "source": [
    "# 누적 확진자를 통해 일일 확진자 구하기\n",
    "\n",
    "df_numsum_confirmed['confirmed_num'] = df_numsum_confirmed['confirmed_numsum'] - df_numsum_confirmed.shift(1)['confirmed_numsum']\n",
    "df_numsum_confirmed = df_numsum_confirmed.dropna()\n",
    "df_numsum_confirmed['confirmed_num'] = df_numsum_confirmed['confirmed_num'].astype(int)"
   ]
  },
  {
   "cell_type": "code",
   "execution_count": 6,
   "id": "0db7f06c",
   "metadata": {},
   "outputs": [
    {
     "name": "stdout",
     "output_type": "stream",
     "text": [
      "before -28\n",
      "after 28\n",
      "\n",
      "before -53\n",
      "after 34\n",
      "\n"
     ]
    }
   ],
   "source": [
    "# 일일 확진자수가 음수인 경우 그 전날 확진자를 가져다 쓰는 과정\n",
    "\n",
    "for idx, row in df_numsum_confirmed[df_numsum_confirmed['confirmed_num'] < 0].iterrows():\n",
    "    print(\"before\", df_numsum_confirmed.loc[idx,'confirmed_num'])\n",
    "    df_numsum_confirmed.loc[idx,'confirmed_num'] = df_numsum_confirmed.loc[idx-1,'confirmed_num']\n",
    "    print(\"after\", df_numsum_confirmed.loc[idx,'confirmed_num'])\n",
    "    print()"
   ]
  },
  {
   "cell_type": "code",
   "execution_count": 7,
   "id": "e1e666d5",
   "metadata": {},
   "outputs": [
    {
     "data": {
      "text/html": [
       "<div>\n",
       "<style scoped>\n",
       "    .dataframe tbody tr th:only-of-type {\n",
       "        vertical-align: middle;\n",
       "    }\n",
       "\n",
       "    .dataframe tbody tr th {\n",
       "        vertical-align: top;\n",
       "    }\n",
       "\n",
       "    .dataframe thead th {\n",
       "        text-align: right;\n",
       "    }\n",
       "</style>\n",
       "<table border=\"1\" class=\"dataframe\">\n",
       "  <thead>\n",
       "    <tr style=\"text-align: right;\">\n",
       "      <th></th>\n",
       "      <th>confirmed_date</th>\n",
       "      <th>confirmed_numsum</th>\n",
       "      <th>confirmed_num</th>\n",
       "    </tr>\n",
       "  </thead>\n",
       "  <tbody>\n",
       "    <tr>\n",
       "      <th>589</th>\n",
       "      <td>2021-09-02</td>\n",
       "      <td>1096881</td>\n",
       "      <td>13900</td>\n",
       "    </tr>\n",
       "    <tr>\n",
       "      <th>590</th>\n",
       "      <td>2021-09-03</td>\n",
       "      <td>1104971</td>\n",
       "      <td>8090</td>\n",
       "    </tr>\n",
       "    <tr>\n",
       "      <th>591</th>\n",
       "      <td>2021-09-04</td>\n",
       "      <td>1112964</td>\n",
       "      <td>7993</td>\n",
       "    </tr>\n",
       "    <tr>\n",
       "      <th>592</th>\n",
       "      <td>2021-09-05</td>\n",
       "      <td>1117596</td>\n",
       "      <td>4632</td>\n",
       "    </tr>\n",
       "    <tr>\n",
       "      <th>593</th>\n",
       "      <td>2021-09-06</td>\n",
       "      <td>1117596</td>\n",
       "      <td>0</td>\n",
       "    </tr>\n",
       "  </tbody>\n",
       "</table>\n",
       "</div>"
      ],
      "text/plain": [
       "    confirmed_date  confirmed_numsum  confirmed_num\n",
       "589     2021-09-02           1096881          13900\n",
       "590     2021-09-03           1104971           8090\n",
       "591     2021-09-04           1112964           7993\n",
       "592     2021-09-05           1117596           4632\n",
       "593     2021-09-06           1117596              0"
      ]
     },
     "execution_count": 7,
     "metadata": {},
     "output_type": "execute_result"
    }
   ],
   "source": [
    "df_numsum_confirmed.tail(5)"
   ]
  },
  {
   "cell_type": "code",
   "execution_count": 8,
   "id": "6e2cd533",
   "metadata": {},
   "outputs": [],
   "source": [
    "df_israel_covid = df_israel_covid[df_israel_covid['test_date'] < '2021-09-01']\n",
    "df_israel_covid = df_israel_covid[df_israel_covid['test_date'] >= '2021-06-01']\n",
    "df_israel_isolation_per_day = df_israel_isolation_per_day[df_israel_isolation_per_day['date'] < '2021-09-01']\n",
    "df_israel_isolation_per_day = df_israel_isolation_per_day[df_israel_isolation_per_day['date'] >= '2021-06-01']\n",
    "df_numsum_confirmed = df_numsum_confirmed[df_numsum_confirmed['confirmed_date'] < '2021-09-01']\n",
    "df_numsum_confirmed = df_numsum_confirmed[df_numsum_confirmed['confirmed_date'] >= '2021-06-01']"
   ]
  },
  {
   "cell_type": "code",
   "execution_count": 9,
   "id": "2efdb71e",
   "metadata": {},
   "outputs": [
    {
     "data": {
      "text/html": [
       "<div>\n",
       "<style scoped>\n",
       "    .dataframe tbody tr th:only-of-type {\n",
       "        vertical-align: middle;\n",
       "    }\n",
       "\n",
       "    .dataframe tbody tr th {\n",
       "        vertical-align: top;\n",
       "    }\n",
       "\n",
       "    .dataframe thead th {\n",
       "        text-align: right;\n",
       "    }\n",
       "</style>\n",
       "<table border=\"1\" class=\"dataframe\">\n",
       "  <thead>\n",
       "    <tr style=\"text-align: right;\">\n",
       "      <th></th>\n",
       "      <th>confirmed_date</th>\n",
       "      <th>confirmed_numsum</th>\n",
       "      <th>confirmed_num</th>\n",
       "    </tr>\n",
       "  </thead>\n",
       "  <tbody>\n",
       "    <tr>\n",
       "      <th>583</th>\n",
       "      <td>2021-08-27</td>\n",
       "      <td>1034623</td>\n",
       "      <td>6352</td>\n",
       "    </tr>\n",
       "    <tr>\n",
       "      <th>584</th>\n",
       "      <td>2021-08-28</td>\n",
       "      <td>1045800</td>\n",
       "      <td>11177</td>\n",
       "    </tr>\n",
       "    <tr>\n",
       "      <th>585</th>\n",
       "      <td>2021-08-29</td>\n",
       "      <td>1051609</td>\n",
       "      <td>5809</td>\n",
       "    </tr>\n",
       "    <tr>\n",
       "      <th>586</th>\n",
       "      <td>2021-08-30</td>\n",
       "      <td>1061488</td>\n",
       "      <td>9879</td>\n",
       "    </tr>\n",
       "    <tr>\n",
       "      <th>587</th>\n",
       "      <td>2021-08-31</td>\n",
       "      <td>1066352</td>\n",
       "      <td>4864</td>\n",
       "    </tr>\n",
       "  </tbody>\n",
       "</table>\n",
       "</div>"
      ],
      "text/plain": [
       "    confirmed_date  confirmed_numsum  confirmed_num\n",
       "583     2021-08-27           1034623           6352\n",
       "584     2021-08-28           1045800          11177\n",
       "585     2021-08-29           1051609           5809\n",
       "586     2021-08-30           1061488           9879\n",
       "587     2021-08-31           1066352           4864"
      ]
     },
     "execution_count": 9,
     "metadata": {},
     "output_type": "execute_result"
    }
   ],
   "source": [
    "df_numsum_confirmed.tail(5)"
   ]
  },
  {
   "cell_type": "code",
   "execution_count": 10,
   "id": "2e6b79be",
   "metadata": {
    "scrolled": true
   },
   "outputs": [],
   "source": [
    "df_israel_isolation_per_day['join_date'] = (pd.to_datetime(df_israel_isolation_per_day['date']) + timedelta(days=1)).dt.strftime('%Y-%m-%d')\n",
    "\n",
    "# 요일을 숫자로 기록한 컬럼 하나 만듬\n",
    "df_israel_covid['weekday'] = pd.to_datetime(df_israel_covid['test_date']).dt.dayofweek"
   ]
  },
  {
   "cell_type": "code",
   "execution_count": 11,
   "id": "c7ac5851",
   "metadata": {},
   "outputs": [
    {
     "data": {
      "text/plain": [
       "count          11602\n",
       "unique            92\n",
       "top       2021-08-23\n",
       "freq             252\n",
       "Name: test_date, dtype: object"
      ]
     },
     "execution_count": 11,
     "metadata": {},
     "output_type": "execute_result"
    }
   ],
   "source": [
    "df_israel_covid['test_date'].describe()"
   ]
  },
  {
   "cell_type": "code",
   "execution_count": 12,
   "id": "a17f8704",
   "metadata": {},
   "outputs": [
    {
     "data": {
      "text/plain": [
       "count             92\n",
       "unique            92\n",
       "top       2021-06-05\n",
       "freq               1\n",
       "Name: join_date, dtype: object"
      ]
     },
     "execution_count": 12,
     "metadata": {},
     "output_type": "execute_result"
    }
   ],
   "source": [
    "df_israel_isolation_per_day['join_date'].describe()"
   ]
  },
  {
   "cell_type": "code",
   "execution_count": 13,
   "id": "e1885255",
   "metadata": {},
   "outputs": [
    {
     "data": {
      "text/html": [
       "<div>\n",
       "<style scoped>\n",
       "    .dataframe tbody tr th:only-of-type {\n",
       "        vertical-align: middle;\n",
       "    }\n",
       "\n",
       "    .dataframe tbody tr th {\n",
       "        vertical-align: top;\n",
       "    }\n",
       "\n",
       "    .dataframe thead th {\n",
       "        text-align: right;\n",
       "    }\n",
       "</style>\n",
       "<table border=\"1\" class=\"dataframe\">\n",
       "  <thead>\n",
       "    <tr style=\"text-align: right;\">\n",
       "      <th></th>\n",
       "      <th>confirmed_numsum</th>\n",
       "      <th>confirmed_num</th>\n",
       "    </tr>\n",
       "  </thead>\n",
       "  <tbody>\n",
       "    <tr>\n",
       "      <th>count</th>\n",
       "      <td>9.200000e+01</td>\n",
       "      <td>92.000000</td>\n",
       "    </tr>\n",
       "    <tr>\n",
       "      <th>mean</th>\n",
       "      <td>8.838310e+05</td>\n",
       "      <td>2466.054348</td>\n",
       "    </tr>\n",
       "    <tr>\n",
       "      <th>std</th>\n",
       "      <td>6.347984e+04</td>\n",
       "      <td>3121.443944</td>\n",
       "    </tr>\n",
       "    <tr>\n",
       "      <th>min</th>\n",
       "      <td>8.395110e+05</td>\n",
       "      <td>0.000000</td>\n",
       "    </tr>\n",
       "    <tr>\n",
       "      <th>25%</th>\n",
       "      <td>8.403892e+05</td>\n",
       "      <td>140.250000</td>\n",
       "    </tr>\n",
       "    <tr>\n",
       "      <th>50%</th>\n",
       "      <td>8.505360e+05</td>\n",
       "      <td>908.000000</td>\n",
       "    </tr>\n",
       "    <tr>\n",
       "      <th>75%</th>\n",
       "      <td>9.019628e+05</td>\n",
       "      <td>4274.500000</td>\n",
       "    </tr>\n",
       "    <tr>\n",
       "      <th>max</th>\n",
       "      <td>1.066352e+06</td>\n",
       "      <td>12113.000000</td>\n",
       "    </tr>\n",
       "  </tbody>\n",
       "</table>\n",
       "</div>"
      ],
      "text/plain": [
       "       confirmed_numsum  confirmed_num\n",
       "count      9.200000e+01      92.000000\n",
       "mean       8.838310e+05    2466.054348\n",
       "std        6.347984e+04    3121.443944\n",
       "min        8.395110e+05       0.000000\n",
       "25%        8.403892e+05     140.250000\n",
       "50%        8.505360e+05     908.000000\n",
       "75%        9.019628e+05    4274.500000\n",
       "max        1.066352e+06   12113.000000"
      ]
     },
     "execution_count": 13,
     "metadata": {},
     "output_type": "execute_result"
    }
   ],
   "source": [
    "df_numsum_confirmed.describe()"
   ]
  },
  {
   "cell_type": "code",
   "execution_count": 14,
   "id": "0050016f",
   "metadata": {},
   "outputs": [
    {
     "name": "stdout",
     "output_type": "stream",
     "text": [
      "After merge: (11602, 18)\n"
     ]
    },
    {
     "data": {
      "text/html": [
       "<div>\n",
       "<style scoped>\n",
       "    .dataframe tbody tr th:only-of-type {\n",
       "        vertical-align: middle;\n",
       "    }\n",
       "\n",
       "    .dataframe tbody tr th {\n",
       "        vertical-align: top;\n",
       "    }\n",
       "\n",
       "    .dataframe thead th {\n",
       "        text-align: right;\n",
       "    }\n",
       "</style>\n",
       "<table border=\"1\" class=\"dataframe\">\n",
       "  <thead>\n",
       "    <tr style=\"text-align: right;\">\n",
       "      <th></th>\n",
       "      <th>Unnamed: 0</th>\n",
       "      <th>test_date</th>\n",
       "      <th>cough</th>\n",
       "      <th>fever</th>\n",
       "      <th>sore_throat</th>\n",
       "      <th>shortness_of_breath</th>\n",
       "      <th>head_ache</th>\n",
       "      <th>corona_result</th>\n",
       "      <th>age_60_and_above</th>\n",
       "      <th>gender</th>\n",
       "      <th>test_indication</th>\n",
       "      <th>weekday</th>\n",
       "      <th>date</th>\n",
       "      <th>isolated_today_contact_with_confirmed</th>\n",
       "      <th>isolated_today_abroad</th>\n",
       "      <th>new_contact_with_confirmed</th>\n",
       "      <th>new_from_abroad</th>\n",
       "      <th>join_date</th>\n",
       "    </tr>\n",
       "  </thead>\n",
       "  <tbody>\n",
       "    <tr>\n",
       "      <th>0</th>\n",
       "      <td>1183158</td>\n",
       "      <td>2021-06-01</td>\n",
       "      <td>0</td>\n",
       "      <td>0</td>\n",
       "      <td>0</td>\n",
       "      <td>0</td>\n",
       "      <td>0</td>\n",
       "      <td>שלילי</td>\n",
       "      <td>NaN</td>\n",
       "      <td>NaN</td>\n",
       "      <td>Other</td>\n",
       "      <td>1</td>\n",
       "      <td>NaN</td>\n",
       "      <td>NaN</td>\n",
       "      <td>NaN</td>\n",
       "      <td>NaN</td>\n",
       "      <td>NaN</td>\n",
       "      <td>NaN</td>\n",
       "    </tr>\n",
       "    <tr>\n",
       "      <th>22</th>\n",
       "      <td>1182576</td>\n",
       "      <td>2021-06-01</td>\n",
       "      <td>0</td>\n",
       "      <td>0</td>\n",
       "      <td>0</td>\n",
       "      <td>0</td>\n",
       "      <td>0</td>\n",
       "      <td>אחר</td>\n",
       "      <td>NaN</td>\n",
       "      <td>NaN</td>\n",
       "      <td>Other</td>\n",
       "      <td>1</td>\n",
       "      <td>NaN</td>\n",
       "      <td>NaN</td>\n",
       "      <td>NaN</td>\n",
       "      <td>NaN</td>\n",
       "      <td>NaN</td>\n",
       "      <td>NaN</td>\n",
       "    </tr>\n",
       "    <tr>\n",
       "      <th>23</th>\n",
       "      <td>1180371</td>\n",
       "      <td>2021-06-01</td>\n",
       "      <td>0</td>\n",
       "      <td>0</td>\n",
       "      <td>0</td>\n",
       "      <td>0</td>\n",
       "      <td>0</td>\n",
       "      <td>שלילי</td>\n",
       "      <td>NaN</td>\n",
       "      <td>NaN</td>\n",
       "      <td>Other</td>\n",
       "      <td>1</td>\n",
       "      <td>NaN</td>\n",
       "      <td>NaN</td>\n",
       "      <td>NaN</td>\n",
       "      <td>NaN</td>\n",
       "      <td>NaN</td>\n",
       "      <td>NaN</td>\n",
       "    </tr>\n",
       "    <tr>\n",
       "      <th>24</th>\n",
       "      <td>1181561</td>\n",
       "      <td>2021-06-01</td>\n",
       "      <td>0</td>\n",
       "      <td>0</td>\n",
       "      <td>0</td>\n",
       "      <td>0</td>\n",
       "      <td>0</td>\n",
       "      <td>שלילי</td>\n",
       "      <td>NaN</td>\n",
       "      <td>NaN</td>\n",
       "      <td>Other</td>\n",
       "      <td>1</td>\n",
       "      <td>NaN</td>\n",
       "      <td>NaN</td>\n",
       "      <td>NaN</td>\n",
       "      <td>NaN</td>\n",
       "      <td>NaN</td>\n",
       "      <td>NaN</td>\n",
       "    </tr>\n",
       "    <tr>\n",
       "      <th>25</th>\n",
       "      <td>1179102</td>\n",
       "      <td>2021-06-01</td>\n",
       "      <td>0</td>\n",
       "      <td>0</td>\n",
       "      <td>0</td>\n",
       "      <td>0</td>\n",
       "      <td>0</td>\n",
       "      <td>שלילי</td>\n",
       "      <td>NaN</td>\n",
       "      <td>NaN</td>\n",
       "      <td>Other</td>\n",
       "      <td>1</td>\n",
       "      <td>NaN</td>\n",
       "      <td>NaN</td>\n",
       "      <td>NaN</td>\n",
       "      <td>NaN</td>\n",
       "      <td>NaN</td>\n",
       "      <td>NaN</td>\n",
       "    </tr>\n",
       "  </tbody>\n",
       "</table>\n",
       "</div>"
      ],
      "text/plain": [
       "    Unnamed: 0   test_date  cough  fever  sore_throat  shortness_of_breath  \\\n",
       "0      1183158  2021-06-01      0      0            0                    0   \n",
       "22     1182576  2021-06-01      0      0            0                    0   \n",
       "23     1180371  2021-06-01      0      0            0                    0   \n",
       "24     1181561  2021-06-01      0      0            0                    0   \n",
       "25     1179102  2021-06-01      0      0            0                    0   \n",
       "\n",
       "    head_ache corona_result age_60_and_above gender test_indication  weekday  \\\n",
       "0           0         שלילי              NaN    NaN           Other        1   \n",
       "22          0           אחר              NaN    NaN           Other        1   \n",
       "23          0         שלילי              NaN    NaN           Other        1   \n",
       "24          0         שלילי              NaN    NaN           Other        1   \n",
       "25          0         שלילי              NaN    NaN           Other        1   \n",
       "\n",
       "   date  isolated_today_contact_with_confirmed  isolated_today_abroad  \\\n",
       "0   NaN                                    NaN                    NaN   \n",
       "22  NaN                                    NaN                    NaN   \n",
       "23  NaN                                    NaN                    NaN   \n",
       "24  NaN                                    NaN                    NaN   \n",
       "25  NaN                                    NaN                    NaN   \n",
       "\n",
       "   new_contact_with_confirmed new_from_abroad join_date  \n",
       "0                         NaN             NaN       NaN  \n",
       "22                        NaN             NaN       NaN  \n",
       "23                        NaN             NaN       NaN  \n",
       "24                        NaN             NaN       NaN  \n",
       "25                        NaN             NaN       NaN  "
      ]
     },
     "execution_count": 14,
     "metadata": {},
     "output_type": "execute_result"
    }
   ],
   "source": [
    "# 기존 이스라엘 데이터에 격리자 컬럼을 넣어주는 과정\n",
    "\n",
    "df_israel_covid = pd.merge(df_israel_covid, df_israel_isolation_per_day, how='left', left_on='test_date', right_on='join_date')\n",
    "print(\"After merge:\", df_israel_covid.shape)\n",
    "df_israel_covid = df_israel_covid.sort_values('test_date')\n",
    "df_israel_covid.head(5)"
   ]
  },
  {
   "cell_type": "code",
   "execution_count": 15,
   "id": "3b0d753f",
   "metadata": {},
   "outputs": [
    {
     "name": "stdout",
     "output_type": "stream",
     "text": [
      "After merge accumulated:  11602\n"
     ]
    }
   ],
   "source": [
    "# 기존 이스라엘 데이터에 일일 확진자랑 일일 누적 확진자 컬럼을 넣어주는 과정\n",
    "\n",
    "df_israel_covid = pd.merge(df_israel_covid, df_numsum_confirmed, how='left', left_on='test_date', right_on='confirmed_date')\n",
    "print(\"After merge accumulated: \", df_israel_covid.shape[0])"
   ]
  },
  {
   "cell_type": "code",
   "execution_count": 16,
   "id": "a1ef2dd3",
   "metadata": {},
   "outputs": [
    {
     "name": "stdout",
     "output_type": "stream",
     "text": [
      "11602\n"
     ]
    }
   ],
   "source": [
    "head_ne = df_israel_covid[df_israel_covid['head_ache'] == 0]\n",
    "head_po = df_israel_covid[df_israel_covid['head_ache'] == 1]\n",
    "print(head_ne.shape[0]+head_po.shape[0])"
   ]
  },
  {
   "cell_type": "markdown",
   "id": "bfdeecbf",
   "metadata": {},
   "source": [
    "null 값이 있는지 확인"
   ]
  },
  {
   "cell_type": "code",
   "execution_count": 17,
   "id": "b0204f79",
   "metadata": {},
   "outputs": [
    {
     "data": {
      "text/plain": [
       "(0, 21)"
      ]
     },
     "execution_count": 17,
     "metadata": {},
     "output_type": "execute_result"
    }
   ],
   "source": [
    "# 없어야함.\n",
    "df_israel_covid[df_israel_covid['confirmed_num'].isnull()].shape"
   ]
  },
  {
   "cell_type": "markdown",
   "id": "78bbebbd",
   "metadata": {},
   "source": [
    "## 번역하기"
   ]
  },
  {
   "cell_type": "code",
   "execution_count": 18,
   "id": "100f63bd",
   "metadata": {},
   "outputs": [],
   "source": [
    "def gender_map(gender):\n",
    "    if gender == 'נקבה': return 1 #'Female'\n",
    "    elif gender == 'זכר': return 0 #'Male'\n",
    "    return -1"
   ]
  },
  {
   "cell_type": "code",
   "execution_count": 19,
   "id": "b3ac58cc",
   "metadata": {},
   "outputs": [],
   "source": [
    "def corona_result_map(corona_result):\n",
    "    if corona_result == 'אחר': return -1 # 'Other'\n",
    "    elif corona_result == 'שלילי': return 0 # 'Negative'\n",
    "    elif corona_result == 'חיובי': return 1 # 'Positive'\n",
    "    return ''"
   ]
  },
  {
   "cell_type": "code",
   "execution_count": 20,
   "id": "d8fa2757",
   "metadata": {},
   "outputs": [],
   "source": [
    "def age_60_and_above_map(age_60_and_above):\n",
    "    if age_60_and_above == 'Yes': return 1\n",
    "    elif age_60_and_above == 'No': return 0\n",
    "    return -1"
   ]
  },
  {
   "cell_type": "code",
   "execution_count": 21,
   "id": "a7bc697b",
   "metadata": {},
   "outputs": [],
   "source": [
    "def test_indication_map(test_indication):\n",
    "    if test_indication == 'Other': return 0\n",
    "    elif test_indication == 'Abroad': return 1\n",
    "    elif  test_indication == 'Contact with confirmed': return 2\n",
    "    else: return -1"
   ]
  },
  {
   "cell_type": "code",
   "execution_count": 22,
   "id": "cb3e13cd",
   "metadata": {},
   "outputs": [],
   "source": [
    "df_israel_covid['gender'] = df_israel_covid['gender'].apply(gender_map)\n",
    "df_israel_covid['corona_result'] = df_israel_covid['corona_result'].apply(corona_result_map)\n",
    "df_israel_covid['age_60_and_above'] = df_israel_covid['age_60_and_above'].apply(age_60_and_above_map)\n",
    "df_israel_covid['test_indication'] = df_israel_covid['test_indication'].apply(test_indication_map)"
   ]
  },
  {
   "cell_type": "code",
   "execution_count": 23,
   "id": "f4c9f836",
   "metadata": {},
   "outputs": [],
   "source": [
    "def split_train_test(data, test_ratio):\n",
    "    shuffled_indices = np.random.permutation(len(data)).astype(int)\n",
    "    test_set_size = int(len(data) * test_ratio)\n",
    "    \n",
    "    test_indices = shuffled_indices[:test_set_size]\n",
    "    train_indices = shuffled_indices[test_set_size:]\n",
    "    \n",
    "    print(len(data))\n",
    "    print(test_indices.dtype)\n",
    "    print(train_indices.dtype)\n",
    "    \n",
    "    test_data = data[:test_set_size]\n",
    "    train_data = data[test_set_size:]\n",
    "    test_data = data[test_indices]\n",
    "    train_data = data[train_indices]\n",
    "    \n",
    "    return train_data, test_data"
   ]
  },
  {
   "cell_type": "code",
   "execution_count": 24,
   "id": "c068d5ac",
   "metadata": {},
   "outputs": [],
   "source": [
    "def split_input_gt(non_split_data):\n",
    "    splited_input = non_split_data[:, :-1]\n",
    "    splited_gt = non_split_data[:, -1]\n",
    "    \n",
    "    return splited_input, splited_gt"
   ]
  },
  {
   "cell_type": "markdown",
   "id": "9f4d74b2",
   "metadata": {},
   "source": [
    "## model input preprocessing"
   ]
  },
  {
   "cell_type": "code",
   "execution_count": 25,
   "id": "440a79e4",
   "metadata": {},
   "outputs": [],
   "source": [
    "# other 빼버림\n",
    "df_israel_covid_without_o = df_israel_covid[df_israel_covid['corona_result'] != -1]"
   ]
  },
  {
   "cell_type": "code",
   "execution_count": 26,
   "id": "224d8130",
   "metadata": {},
   "outputs": [
    {
     "data": {
      "text/plain": [
       "11083"
      ]
     },
     "execution_count": 26,
     "metadata": {},
     "output_type": "execute_result"
    }
   ],
   "source": [
    "df_israel_covid_without_o.shape[0]"
   ]
  },
  {
   "cell_type": "code",
   "execution_count": 27,
   "id": "e28d2805",
   "metadata": {},
   "outputs": [],
   "source": [
    "# 성별 없는 사람들 빼버림\n",
    "df_israel_covid_without_o = df_israel_covid_without_o[df_israel_covid_without_o['gender'] != -1]"
   ]
  },
  {
   "cell_type": "code",
   "execution_count": 28,
   "id": "44724662",
   "metadata": {},
   "outputs": [
    {
     "data": {
      "text/plain": [
       "8963"
      ]
     },
     "execution_count": 28,
     "metadata": {},
     "output_type": "execute_result"
    }
   ],
   "source": [
    "df_israel_covid_without_o.shape[0]"
   ]
  },
  {
   "cell_type": "code",
   "execution_count": 29,
   "id": "0b4c853a",
   "metadata": {},
   "outputs": [],
   "source": [
    "df_israel_covid_without_o = df_israel_covid_without_o.sort_values(['test_date']).reset_index(drop=True)"
   ]
  },
  {
   "cell_type": "code",
   "execution_count": 30,
   "id": "e5048d3a",
   "metadata": {},
   "outputs": [
    {
     "data": {
      "text/plain": [
       "'2021-06-05'"
      ]
     },
     "execution_count": 30,
     "metadata": {},
     "output_type": "execute_result"
    }
   ],
   "source": [
    "df_israel_covid_without_o['test_date'].min()"
   ]
  },
  {
   "cell_type": "code",
   "execution_count": 31,
   "id": "49d79058",
   "metadata": {},
   "outputs": [],
   "source": [
    "# # week_num 이라는 칼럼을 새로 만들었다. 1년에 52주라 \n",
    "# def date_to_weeknum_map(test_date):\n",
    "#     week_num_st_idx = 52\n",
    "#     year_last_num = int(test_date[2:4])\n",
    "#     week_num = datetime.date(int(test_date[:4]), int(test_date[5:7]), int(test_date[8:])).isocalendar()[1]\n",
    "#     return week_num_st_idx * year_last_num + week_num"
   ]
  },
  {
   "cell_type": "code",
   "execution_count": 32,
   "id": "21477bf8",
   "metadata": {},
   "outputs": [],
   "source": [
    "# df_israel_covid_without_o['week_num'] = df_israel_covid_without_o['test_date'].apply(date_to_weeknum_map)"
   ]
  },
  {
   "cell_type": "markdown",
   "id": "72e556f0",
   "metadata": {},
   "source": [
    "# Add 2nd degree data\n",
    "추가 feature\n",
    "- new_contact_with_confirmed\n",
    "- positive_ratio\n",
    "- weekday_ratio\n",
    "- confirmed_ratio"
   ]
  },
  {
   "cell_type": "code",
   "execution_count": 33,
   "id": "501d4295",
   "metadata": {},
   "outputs": [],
   "source": [
    "df_israel_covid_without_o['new_contact_with_confirmed'] = df_israel_covid_without_o['new_contact_with_confirmed'].astype(int)"
   ]
  },
  {
   "cell_type": "code",
   "execution_count": 34,
   "id": "4ad75571",
   "metadata": {},
   "outputs": [],
   "source": [
    "# 36903이 뭔지?\n",
    "df_israel_covid_without_o['contact'] = df_israel_covid_without_o['new_contact_with_confirmed'] / df_israel_covid_without_o['new_contact_with_confirmed'].max()"
   ]
  },
  {
   "cell_type": "code",
   "execution_count": 35,
   "id": "6846cb89",
   "metadata": {},
   "outputs": [],
   "source": [
    "df_confirm_by_sampling = df_israel_covid_without_o[df_israel_covid_without_o['corona_result'] == 1].groupby('test_date').count().reset_index()[['test_date', 'date']]\n",
    "df_confirm_by_sampling = df_confirm_by_sampling.rename(columns={'test_date': 'yesterday', 'date': 'positive_cnt'})"
   ]
  },
  {
   "cell_type": "code",
   "execution_count": 36,
   "id": "e93dde46",
   "metadata": {},
   "outputs": [],
   "source": [
    "df_israel_covid_without_o = pd.merge(df_israel_covid_without_o, df_confirm_by_sampling, how='left', left_on='date', right_on='yesterday')"
   ]
  },
  {
   "cell_type": "code",
   "execution_count": 37,
   "id": "1f87a28d",
   "metadata": {},
   "outputs": [
    {
     "data": {
      "text/plain": [
       "8963"
      ]
     },
     "execution_count": 37,
     "metadata": {},
     "output_type": "execute_result"
    }
   ],
   "source": [
    "df_israel_covid_without_o.shape[0]"
   ]
  },
  {
   "cell_type": "code",
   "execution_count": 38,
   "id": "746a21e6",
   "metadata": {},
   "outputs": [],
   "source": [
    "df_israel_covid_without_o = df_israel_covid_without_o[~df_israel_covid_without_o['positive_cnt'].isnull()]"
   ]
  },
  {
   "cell_type": "code",
   "execution_count": 39,
   "id": "4ae1e8a5",
   "metadata": {},
   "outputs": [],
   "source": [
    "df_israel_covid_without_o['positive_cnt'] = df_israel_covid_without_o['positive_cnt'].astype(int)"
   ]
  },
  {
   "cell_type": "code",
   "execution_count": 40,
   "id": "e0e212b5",
   "metadata": {},
   "outputs": [],
   "source": [
    "df_israel_covid_without_o['positive_ratio'] = df_israel_covid_without_o['positive_cnt'] / df_israel_covid_without_o['positive_cnt'].max()"
   ]
  },
  {
   "cell_type": "code",
   "execution_count": 41,
   "id": "ebd3988d",
   "metadata": {},
   "outputs": [],
   "source": [
    "df_israel_covid_without_o['weekday_ratio'] = df_israel_covid_without_o['weekday'] / 6"
   ]
  },
  {
   "cell_type": "code",
   "execution_count": 42,
   "id": "295fc6ec",
   "metadata": {},
   "outputs": [],
   "source": [
    "df_israel_covid_without_o['confirmed_ratio'] = df_israel_covid_without_o['confirmed_num'] / df_israel_covid_without_o['confirmed_num'].max()"
   ]
  },
  {
   "cell_type": "code",
   "execution_count": 43,
   "id": "774979ae",
   "metadata": {},
   "outputs": [
    {
     "data": {
      "text/plain": [
       "Index(['Unnamed: 0', 'test_date', 'cough', 'fever', 'sore_throat',\n",
       "       'shortness_of_breath', 'head_ache', 'corona_result', 'age_60_and_above',\n",
       "       'gender', 'test_indication', 'weekday', 'date',\n",
       "       'isolated_today_contact_with_confirmed', 'isolated_today_abroad',\n",
       "       'new_contact_with_confirmed', 'new_from_abroad', 'join_date',\n",
       "       'confirmed_date', 'confirmed_numsum', 'confirmed_num', 'contact',\n",
       "       'yesterday', 'positive_cnt', 'positive_ratio', 'weekday_ratio',\n",
       "       'confirmed_ratio'],\n",
       "      dtype='object')"
      ]
     },
     "execution_count": 43,
     "metadata": {},
     "output_type": "execute_result"
    }
   ],
   "source": [
    "df_israel_covid_without_o.columns"
   ]
  },
  {
   "cell_type": "code",
   "execution_count": 44,
   "id": "f1155f84",
   "metadata": {},
   "outputs": [],
   "source": [
    "# 여기서 내가 사용할 feature 고르기\n",
    "# df_input = = df_israel_covid_without_o[['cough', 'fever', 'sore_throat', 'shortness_of_breath', 'head_ache', 'corona_result']]\n",
    "df_input = df_israel_covid_without_o[['cough', 'fever', 'sore_throat', 'shortness_of_breath', 'head_ache', 'age_60_and_above', 'gender', 'confirmed_ratio', 'weekday_ratio', 'corona_result']]\n",
    "raw_datas = df_input.values"
   ]
  },
  {
   "cell_type": "code",
   "execution_count": 45,
   "id": "c4368dcb",
   "metadata": {},
   "outputs": [
    {
     "data": {
      "text/html": [
       "<div>\n",
       "<style scoped>\n",
       "    .dataframe tbody tr th:only-of-type {\n",
       "        vertical-align: middle;\n",
       "    }\n",
       "\n",
       "    .dataframe tbody tr th {\n",
       "        vertical-align: top;\n",
       "    }\n",
       "\n",
       "    .dataframe thead th {\n",
       "        text-align: right;\n",
       "    }\n",
       "</style>\n",
       "<table border=\"1\" class=\"dataframe\">\n",
       "  <thead>\n",
       "    <tr style=\"text-align: right;\">\n",
       "      <th></th>\n",
       "      <th>cough</th>\n",
       "      <th>fever</th>\n",
       "      <th>sore_throat</th>\n",
       "      <th>shortness_of_breath</th>\n",
       "      <th>head_ache</th>\n",
       "      <th>age_60_and_above</th>\n",
       "      <th>gender</th>\n",
       "      <th>confirmed_ratio</th>\n",
       "      <th>weekday_ratio</th>\n",
       "      <th>corona_result</th>\n",
       "    </tr>\n",
       "  </thead>\n",
       "  <tbody>\n",
       "    <tr>\n",
       "      <th>count</th>\n",
       "      <td>7230.000000</td>\n",
       "      <td>7230.000000</td>\n",
       "      <td>7230.000000</td>\n",
       "      <td>7230.000000</td>\n",
       "      <td>7230.000000</td>\n",
       "      <td>7230.000000</td>\n",
       "      <td>7230.000000</td>\n",
       "      <td>7230.000000</td>\n",
       "      <td>7230.000000</td>\n",
       "      <td>7230.000000</td>\n",
       "    </tr>\n",
       "    <tr>\n",
       "      <th>mean</th>\n",
       "      <td>0.017704</td>\n",
       "      <td>0.017566</td>\n",
       "      <td>0.007884</td>\n",
       "      <td>0.001521</td>\n",
       "      <td>0.012310</td>\n",
       "      <td>0.062102</td>\n",
       "      <td>0.539004</td>\n",
       "      <td>0.400977</td>\n",
       "      <td>0.433679</td>\n",
       "      <td>0.072337</td>\n",
       "    </tr>\n",
       "    <tr>\n",
       "      <th>std</th>\n",
       "      <td>0.131882</td>\n",
       "      <td>0.131376</td>\n",
       "      <td>0.088446</td>\n",
       "      <td>0.038979</td>\n",
       "      <td>0.110272</td>\n",
       "      <td>0.467378</td>\n",
       "      <td>0.498511</td>\n",
       "      <td>0.252509</td>\n",
       "      <td>0.338471</td>\n",
       "      <td>0.259064</td>\n",
       "    </tr>\n",
       "    <tr>\n",
       "      <th>min</th>\n",
       "      <td>0.000000</td>\n",
       "      <td>0.000000</td>\n",
       "      <td>0.000000</td>\n",
       "      <td>0.000000</td>\n",
       "      <td>0.000000</td>\n",
       "      <td>-1.000000</td>\n",
       "      <td>0.000000</td>\n",
       "      <td>0.040948</td>\n",
       "      <td>0.000000</td>\n",
       "      <td>0.000000</td>\n",
       "    </tr>\n",
       "    <tr>\n",
       "      <th>25%</th>\n",
       "      <td>0.000000</td>\n",
       "      <td>0.000000</td>\n",
       "      <td>0.000000</td>\n",
       "      <td>0.000000</td>\n",
       "      <td>0.000000</td>\n",
       "      <td>0.000000</td>\n",
       "      <td>0.000000</td>\n",
       "      <td>0.181210</td>\n",
       "      <td>0.166667</td>\n",
       "      <td>0.000000</td>\n",
       "    </tr>\n",
       "    <tr>\n",
       "      <th>50%</th>\n",
       "      <td>0.000000</td>\n",
       "      <td>0.000000</td>\n",
       "      <td>0.000000</td>\n",
       "      <td>0.000000</td>\n",
       "      <td>0.000000</td>\n",
       "      <td>0.000000</td>\n",
       "      <td>1.000000</td>\n",
       "      <td>0.368530</td>\n",
       "      <td>0.333333</td>\n",
       "      <td>0.000000</td>\n",
       "    </tr>\n",
       "    <tr>\n",
       "      <th>75%</th>\n",
       "      <td>0.000000</td>\n",
       "      <td>0.000000</td>\n",
       "      <td>0.000000</td>\n",
       "      <td>0.000000</td>\n",
       "      <td>0.000000</td>\n",
       "      <td>0.000000</td>\n",
       "      <td>1.000000</td>\n",
       "      <td>0.600760</td>\n",
       "      <td>0.666667</td>\n",
       "      <td>0.000000</td>\n",
       "    </tr>\n",
       "    <tr>\n",
       "      <th>max</th>\n",
       "      <td>1.000000</td>\n",
       "      <td>1.000000</td>\n",
       "      <td>1.000000</td>\n",
       "      <td>1.000000</td>\n",
       "      <td>1.000000</td>\n",
       "      <td>1.000000</td>\n",
       "      <td>1.000000</td>\n",
       "      <td>1.000000</td>\n",
       "      <td>1.000000</td>\n",
       "      <td>1.000000</td>\n",
       "    </tr>\n",
       "  </tbody>\n",
       "</table>\n",
       "</div>"
      ],
      "text/plain": [
       "             cough        fever  sore_throat  shortness_of_breath  \\\n",
       "count  7230.000000  7230.000000  7230.000000          7230.000000   \n",
       "mean      0.017704     0.017566     0.007884             0.001521   \n",
       "std       0.131882     0.131376     0.088446             0.038979   \n",
       "min       0.000000     0.000000     0.000000             0.000000   \n",
       "25%       0.000000     0.000000     0.000000             0.000000   \n",
       "50%       0.000000     0.000000     0.000000             0.000000   \n",
       "75%       0.000000     0.000000     0.000000             0.000000   \n",
       "max       1.000000     1.000000     1.000000             1.000000   \n",
       "\n",
       "         head_ache  age_60_and_above       gender  confirmed_ratio  \\\n",
       "count  7230.000000       7230.000000  7230.000000      7230.000000   \n",
       "mean      0.012310          0.062102     0.539004         0.400977   \n",
       "std       0.110272          0.467378     0.498511         0.252509   \n",
       "min       0.000000         -1.000000     0.000000         0.040948   \n",
       "25%       0.000000          0.000000     0.000000         0.181210   \n",
       "50%       0.000000          0.000000     1.000000         0.368530   \n",
       "75%       0.000000          0.000000     1.000000         0.600760   \n",
       "max       1.000000          1.000000     1.000000         1.000000   \n",
       "\n",
       "       weekday_ratio  corona_result  \n",
       "count    7230.000000    7230.000000  \n",
       "mean        0.433679       0.072337  \n",
       "std         0.338471       0.259064  \n",
       "min         0.000000       0.000000  \n",
       "25%         0.166667       0.000000  \n",
       "50%         0.333333       0.000000  \n",
       "75%         0.666667       0.000000  \n",
       "max         1.000000       1.000000  "
      ]
     },
     "execution_count": 45,
     "metadata": {},
     "output_type": "execute_result"
    }
   ],
   "source": [
    "df_input.describe()"
   ]
  },
  {
   "cell_type": "code",
   "execution_count": 46,
   "id": "05543985",
   "metadata": {},
   "outputs": [
    {
     "name": "stdout",
     "output_type": "stream",
     "text": [
      "7230\n",
      "int64\n",
      "int64\n",
      "5784\n",
      "int64\n",
      "int64\n"
     ]
    }
   ],
   "source": [
    "not_test_datas, test_datas = split_train_test(raw_datas, test_ratio=0.2)\n",
    "train_datas, valid_datas = split_train_test(not_test_datas, test_ratio=0.2)\n",
    "\n",
    "train_input, train_gt = split_input_gt(train_datas)\n",
    "valid_input, valid_gt = split_input_gt(valid_datas)\n",
    "test_input, test_gt = split_input_gt(test_datas)"
   ]
  },
  {
   "cell_type": "code",
   "execution_count": 47,
   "id": "b0b4048d",
   "metadata": {},
   "outputs": [
    {
     "name": "stdout",
     "output_type": "stream",
     "text": [
      "(4628, 9) (4628,) (1156, 9) (1156,) (1446, 9) (1446,)\n"
     ]
    }
   ],
   "source": [
    "print(train_input.shape, train_gt.shape, valid_input.shape, valid_gt.shape, test_input.shape, test_gt.shape)"
   ]
  },
  {
   "cell_type": "code",
   "execution_count": 48,
   "id": "51d4da6d",
   "metadata": {},
   "outputs": [
    {
     "name": "stdout",
     "output_type": "stream",
     "text": [
      "# of train data positive:  318.0\n",
      "# of train data negative:  4310.0\n",
      "ratio of P/N:  0.07378190255220418\n",
      "\n",
      "# of valid data positive:  86.0\n",
      "# of valid data negative:  1070.0\n",
      "ratio of P/N:  0.08037383177570094\n",
      "\n",
      "# of test data positive:  119.0\n",
      "# of test data negative:  1327.0\n",
      "ratio of P/N:  0.08967596081386586\n"
     ]
    }
   ],
   "source": [
    "print(\"# of train data positive: \", train_gt.sum())\n",
    "print(\"# of train data negative: \", train_gt.shape[0] - train_gt.sum())\n",
    "print(\"ratio of P/N: \", train_gt.sum()/(train_gt.shape[0] - train_gt.sum()))\n",
    "print(\"\")\n",
    "\n",
    "print(\"# of valid data positive: \", valid_gt.sum())\n",
    "print(\"# of valid data negative: \", valid_gt.shape[0] - valid_gt.sum())\n",
    "print(\"ratio of P/N: \", valid_gt.sum()/(valid_gt.shape[0] - valid_gt.sum()))\n",
    "print(\"\")\n",
    "\n",
    "print(\"# of test data positive: \", test_gt.sum())\n",
    "print(\"# of test data negative: \", test_gt.shape[0] - test_gt.sum())\n",
    "print(\"ratio of P/N: \", test_gt.sum()/(test_gt.shape[0] - test_gt.sum()))"
   ]
  },
  {
   "cell_type": "code",
   "execution_count": 271,
   "id": "f0abc129",
   "metadata": {},
   "outputs": [],
   "source": [
    "class IsraelDataset(Dataset):\n",
    "    def __init__(self, input_data, gt, transform=None, target_transform=None):\n",
    "        self.input_data = input_data\n",
    "        self.gt = gt\n",
    "        self.transform = transform\n",
    "        self.target_transform = target_transform\n",
    "    \n",
    "    def __len__(self):\n",
    "        return len(self.input_data)\n",
    "    \n",
    "    def __getitem__(self, idx):\n",
    "        return self.input_data[idx], self.gt[idx]"
   ]
  },
  {
   "cell_type": "code",
   "execution_count": 272,
   "id": "60771561",
   "metadata": {},
   "outputs": [],
   "source": [
    "# def plot_roc_curve(fper, tper):\n",
    "#     plt.plot(fper, tper, color='red', label='ROC')\n",
    "#     plt.plot([0, 1], [0, 1], color='green', linestyle='--')\n",
    "#     plt.xlabel('False Positive Rate')\n",
    "#     plt.ylabel('True Positive Rate')\n",
    "#     plt.title('Receiver Operating Characteristic Curve')\n",
    "#     plt.legend()\n",
    "#     plt.show()"
   ]
  },
  {
   "cell_type": "code",
   "execution_count": 273,
   "id": "cea8c206",
   "metadata": {},
   "outputs": [],
   "source": [
    "def display_performance(clf, pred, valid_input, valid_gt):\n",
    "    pred = np.array(pred)\n",
    "\n",
    "    print('accuracy %.4f' % (accuracy_score(pred, valid_gt)))\n",
    "    print('precision %.4f' % (precision_score(pred, valid_gt)))\n",
    "    print('recall %.4f' % (recall_score(pred, valid_gt)))\n",
    "    print('f1-score %.4f' % (f1_score(pred, valid_gt)))\n",
    "    print(confusion_matrix(pred, valid_gt))\n",
    "    plot_roc_curve(clf, valid_input, valid_gt)"
   ]
  },
  {
   "cell_type": "code",
   "execution_count": 274,
   "id": "53525b9e",
   "metadata": {},
   "outputs": [],
   "source": [
    "class BaselineModel(nn.Module):\n",
    "    def __init__(self):\n",
    "        super(BaselineModel, self).__init__()\n",
    "        self.fcs1 = nn.Sequential(\n",
    "            nn.BatchNorm1d(9),\n",
    "            nn.Linear(9, 400),\n",
    "            nn.BatchNorm1d(400),\n",
    "            nn.ReLU()\n",
    "        )\n",
    "        self.fcs2 = nn.Sequential(\n",
    "            nn.Linear(400, 400),\n",
    "            nn.BatchNorm1d(400),\n",
    "            nn.ReLU()\n",
    "        )\n",
    "        self.fcs3 = nn.Sequential(\n",
    "            nn.Linear(400, 400),\n",
    "            nn.BatchNorm1d(400),\n",
    "            nn.ReLU()\n",
    "        )\n",
    "        self.fcs4 = nn.Sequential(\n",
    "            nn.Linear(400, 400),\n",
    "            nn.BatchNorm1d(400),\n",
    "            nn.ReLU()\n",
    "        )\n",
    "        self.fcs5 = nn.Sequential(\n",
    "            nn.Linear(400, 1),\n",
    "            nn.Sigmoid()\n",
    "        )\n",
    "    \n",
    "    def forward(self, x):\n",
    "        x = self.fcs1(x)\n",
    "        x = x + self.fcs2(x)\n",
    "        x = x + self.fcs3(x)\n",
    "        x = x + self.fcs4(x)\n",
    "        pred = self.fcs5(x)\n",
    "        return pred"
   ]
  },
  {
   "cell_type": "code",
   "execution_count": 275,
   "id": "63c22fda",
   "metadata": {},
   "outputs": [
    {
     "data": {
      "text/plain": [
       "(1156, 9)"
      ]
     },
     "execution_count": 275,
     "metadata": {},
     "output_type": "execute_result"
    }
   ],
   "source": [
    "training_data = IsraelDataset(torch.Tensor(train_input), torch.Tensor(train_gt.reshape(-1, 1)))\n",
    "valid_data = IsraelDataset(torch.Tensor(valid_input), torch.Tensor(valid_gt.reshape(-1, 1)))\n",
    "\n",
    "train_dataloader = DataLoader(training_data, batch_size = 128, shuffle=False)\n",
    "valid_dataloader = DataLoader(valid_data, batch_size=1, shuffle=False)\n",
    "\n",
    "valid_input.shape"
   ]
  },
  {
   "cell_type": "code",
   "execution_count": 276,
   "id": "39a19156",
   "metadata": {},
   "outputs": [
    {
     "name": "stdout",
     "output_type": "stream",
     "text": [
      "cpu\n"
     ]
    }
   ],
   "source": [
    "device = 'cuda' if torch.cuda.is_available() else 'cpu'\n",
    "print(device)"
   ]
  },
  {
   "cell_type": "code",
   "execution_count": 277,
   "id": "6b17dc08",
   "metadata": {},
   "outputs": [],
   "source": [
    "model = BaselineModel().to(device)\n",
    "criterion = nn.BCELoss()\n",
    "optimizer = optim.Adam(model.parameters(), lr=0.001) # lr 크기좀 늘려보기"
   ]
  },
  {
   "cell_type": "code",
   "execution_count": 278,
   "id": "6538701e",
   "metadata": {},
   "outputs": [],
   "source": [
    "def show_progress(train_history, val_history):\n",
    "    \n",
    "    plt.plot(train_history)\n",
    "    plt.plot(val_history)\n",
    "    plt.legend()\n",
    "    plt.show()"
   ]
  },
  {
   "cell_type": "code",
   "execution_count": 279,
   "id": "16fcc7b5",
   "metadata": {
    "scrolled": true
   },
   "outputs": [
    {
     "data": {
      "application/vnd.jupyter.widget-view+json": {
       "model_id": "ecd015b5bd97487a848ee4e4c30b79b1",
       "version_major": 2,
       "version_minor": 0
      },
      "text/plain": [
       "HBox(children=(IntProgress(value=0, max=20), HTML(value='')))"
      ]
     },
     "metadata": {},
     "output_type": "display_data"
    },
    {
     "data": {
      "application/vnd.jupyter.widget-view+json": {
       "model_id": "422a3fa743414999b0fe52edc8f6d0d4",
       "version_major": 2,
       "version_minor": 0
      },
      "text/plain": [
       "HBox(children=(IntProgress(value=0, max=37), HTML(value='')))"
      ]
     },
     "metadata": {},
     "output_type": "display_data"
    },
    {
     "name": "stdout",
     "output_type": "stream",
     "text": [
      "\n",
      "Done. Train loss:0.37044215202331543, Vlidation loss: 0.2569316327571869\n"
     ]
    },
    {
     "data": {
      "image/png": "[encoded data removed]",
      "text/plain": [
       "<Figure size 432x288 with 1 Axes>"
      ]
     },
     "metadata": {
      "needs_background": "light"
     },
     "output_type": "display_data"
    },
    {
     "data": {
      "application/vnd.jupyter.widget-view+json": {
       "model_id": "833bd81a150248c8a2b77f52beed2148",
       "version_major": 2,
       "version_minor": 0
      },
      "text/plain": [
       "HBox(children=(IntProgress(value=0, max=37), HTML(value='')))"
      ]
     },
     "metadata": {},
     "output_type": "display_data"
    },
    {
     "name": "stdout",
     "output_type": "stream",
     "text": [
      "\n",
      "Done. Train loss:0.2166023552417755, Vlidation loss: 0.2712671756744385\n"
     ]
    },
    {
     "data": {
      "image/png": "[encoded data removed]",
      "text/plain": [
       "<Figure size 432x288 with 1 Axes>"
      ]
     },
     "metadata": {
      "needs_background": "light"
     },
     "output_type": "display_data"
    },
    {
     "data": {
      "application/vnd.jupyter.widget-view+json": {
       "model_id": "fe86ea28b3704a30881a41f24378e140",
       "version_major": 2,
       "version_minor": 0
      },
      "text/plain": [
       "HBox(children=(IntProgress(value=0, max=37), HTML(value='')))"
      ]
     },
     "metadata": {},
     "output_type": "display_data"
    },
    {
     "name": "stdout",
     "output_type": "stream",
     "text": [
      "\n",
      "Done. Train loss:0.211492657661438, Vlidation loss: 0.2752034664154053\n"
     ]
    },
    {
     "data": {
      "image/png": "[encoded data removed]",
      "text/plain": [
       "<Figure size 432x288 with 1 Axes>"
      ]
     },
     "metadata": {
      "needs_background": "light"
     },
     "output_type": "display_data"
    },
    {
     "data": {
      "application/vnd.jupyter.widget-view+json": {
       "model_id": "322db61decf14298b53978ec776127a2",
       "version_major": 2,
       "version_minor": 0
      },
      "text/plain": [
       "HBox(children=(IntProgress(value=0, max=37), HTML(value='')))"
      ]
     },
     "metadata": {},
     "output_type": "display_data"
    },
    {
     "name": "stdout",
     "output_type": "stream",
     "text": [
      "\n",
      "Done. Train loss:0.20711855590343475, Vlidation loss: 0.2790749669075012\n"
     ]
    },
    {
     "data": {
      "image/png": "[encoded data removed]",
      "text/plain": [
       "<Figure size 432x288 with 1 Axes>"
      ]
     },
     "metadata": {
      "needs_background": "light"
     },
     "output_type": "display_data"
    },
    {
     "data": {
      "application/vnd.jupyter.widget-view+json": {
       "model_id": "2bf216e557a241088c8fc19ff288536b",
       "version_major": 2,
       "version_minor": 0
      },
      "text/plain": [
       "HBox(children=(IntProgress(value=0, max=37), HTML(value='')))"
      ]
     },
     "metadata": {},
     "output_type": "display_data"
    },
    {
     "name": "stdout",
     "output_type": "stream",
     "text": [
      "\n",
      "Done. Train loss:0.20491038262844086, Vlidation loss: 0.27552711963653564\n"
     ]
    },
    {
     "data": {
      "image/png": "[encoded data removed]",
      "text/plain": [
       "<Figure size 432x288 with 1 Axes>"
      ]
     },
     "metadata": {
      "needs_background": "light"
     },
     "output_type": "display_data"
    },
    {
     "data": {
      "application/vnd.jupyter.widget-view+json": {
       "model_id": "4d65cb10a1334a36ae7e2a8b239fe3f0",
       "version_major": 2,
       "version_minor": 0
      },
      "text/plain": [
       "HBox(children=(IntProgress(value=0, max=37), HTML(value='')))"
      ]
     },
     "metadata": {},
     "output_type": "display_data"
    },
    {
     "name": "stdout",
     "output_type": "stream",
     "text": [
      "\n",
      "Done. Train loss:0.1999201774597168, Vlidation loss: 0.26774266362190247\n"
     ]
    },
    {
     "data": {
      "image/png": "[encoded data removed]",
      "text/plain": [
       "<Figure size 432x288 with 1 Axes>"
      ]
     },
     "metadata": {
      "needs_background": "light"
     },
     "output_type": "display_data"
    },
    {
     "data": {
      "application/vnd.jupyter.widget-view+json": {
       "model_id": "86a9829ccf084a8ebd445292db16d6da",
       "version_major": 2,
       "version_minor": 0
      },
      "text/plain": [
       "HBox(children=(IntProgress(value=0, max=37), HTML(value='')))"
      ]
     },
     "metadata": {},
     "output_type": "display_data"
    },
    {
     "name": "stdout",
     "output_type": "stream",
     "text": [
      "\n",
      "Done. Train loss:0.1956268846988678, Vlidation loss: 0.2667495608329773\n"
     ]
    },
    {
     "data": {
      "image/png": "[encoded data removed]",
      "text/plain": [
       "<Figure size 432x288 with 1 Axes>"
      ]
     },
     "metadata": {
      "needs_background": "light"
     },
     "output_type": "display_data"
    },
    {
     "data": {
      "application/vnd.jupyter.widget-view+json": {
       "model_id": "9d4d36ee99fb4d9ba0e508b1351e1a67",
       "version_major": 2,
       "version_minor": 0
      },
      "text/plain": [
       "HBox(children=(IntProgress(value=0, max=37), HTML(value='')))"
      ]
     },
     "metadata": {},
     "output_type": "display_data"
    },
    {
     "name": "stdout",
     "output_type": "stream",
     "text": [
      "\n",
      "Done. Train loss:0.1929742991924286, Vlidation loss: 0.2705572843551636\n"
     ]
    },
    {
     "data": {
      "image/png": "[encoded data removed]",
      "text/plain": [
       "<Figure size 432x288 with 1 Axes>"
      ]
     },
     "metadata": {
      "needs_background": "light"
     },
     "output_type": "display_data"
    },
    {
     "data": {
      "application/vnd.jupyter.widget-view+json": {
       "model_id": "20b8ea611e154669827dd3c2f4b4c581",
       "version_major": 2,
       "version_minor": 0
      },
      "text/plain": [
       "HBox(children=(IntProgress(value=0, max=37), HTML(value='')))"
      ]
     },
     "metadata": {},
     "output_type": "display_data"
    },
    {
     "name": "stdout",
     "output_type": "stream",
     "text": [
      "\n",
      "Done. Train loss:0.1903105229139328, Vlidation loss: 0.2697572410106659\n"
     ]
    },
    {
     "data": {
      "image/png": "[encoded data removed]",
      "text/plain": [
       "<Figure size 432x288 with 1 Axes>"
      ]
     },
     "metadata": {
      "needs_background": "light"
     },
     "output_type": "display_data"
    },
    {
     "data": {
      "application/vnd.jupyter.widget-view+json": {
       "model_id": "b7db844b7ee04312baa3b0a75a3ed5f0",
       "version_major": 2,
       "version_minor": 0
      },
      "text/plain": [
       "HBox(children=(IntProgress(value=0, max=37), HTML(value='')))"
      ]
     },
     "metadata": {},
     "output_type": "display_data"
    },
    {
     "name": "stdout",
     "output_type": "stream",
     "text": [
      "\n",
      "Done. Train loss:0.18742814660072327, Vlidation loss: 0.2720280885696411\n"
     ]
    },
    {
     "data": {
      "image/png": "[encoded data removed]",
      "text/plain": [
       "<Figure size 432x288 with 1 Axes>"
      ]
     },
     "metadata": {
      "needs_background": "light"
     },
     "output_type": "display_data"
    },
    {
     "data": {
      "application/vnd.jupyter.widget-view+json": {
       "model_id": "c1b1ff18c4934dd0a7c9f444a57d089e",
       "version_major": 2,
       "version_minor": 0
      },
      "text/plain": [
       "HBox(children=(IntProgress(value=0, max=37), HTML(value='')))"
      ]
     },
     "metadata": {},
     "output_type": "display_data"
    },
    {
     "name": "stdout",
     "output_type": "stream",
     "text": [
      "\n",
      "Done. Train loss:0.1858753263950348, Vlidation loss: 0.2726910710334778\n"
     ]
    },
    {
     "data": {
      "image/png": "[encoded data removed]",
      "text/plain": [
       "<Figure size 432x288 with 1 Axes>"
      ]
     },
     "metadata": {
      "needs_background": "light"
     },
     "output_type": "display_data"
    },
    {
     "data": {
      "application/vnd.jupyter.widget-view+json": {
       "model_id": "bb6596047de543818a2f532f551a6ba2",
       "version_major": 2,
       "version_minor": 0
      },
      "text/plain": [
       "HBox(children=(IntProgress(value=0, max=37), HTML(value='')))"
      ]
     },
     "metadata": {},
     "output_type": "display_data"
    },
    {
     "name": "stdout",
     "output_type": "stream",
     "text": [
      "\n",
      "Done. Train loss:0.18468531966209412, Vlidation loss: 0.27255579829216003\n"
     ]
    },
    {
     "data": {
      "image/png": "[encoded data removed]",
      "text/plain": [
       "<Figure size 432x288 with 1 Axes>"
      ]
     },
     "metadata": {
      "needs_background": "light"
     },
     "output_type": "display_data"
    },
    {
     "data": {
      "application/vnd.jupyter.widget-view+json": {
       "model_id": "a8e485a2ebb648f485a9eef8c428207a",
       "version_major": 2,
       "version_minor": 0
      },
      "text/plain": [
       "HBox(children=(IntProgress(value=0, max=37), HTML(value='')))"
      ]
     },
     "metadata": {},
     "output_type": "display_data"
    },
    {
     "name": "stdout",
     "output_type": "stream",
     "text": [
      "\n",
      "Done. Train loss:0.18279647827148438, Vlidation loss: 0.27346694469451904\n"
     ]
    },
    {
     "data": {
      "image/png": "[encoded data removed]",
      "text/plain": [
       "<Figure size 432x288 with 1 Axes>"
      ]
     },
     "metadata": {
      "needs_background": "light"
     },
     "output_type": "display_data"
    },
    {
     "data": {
      "application/vnd.jupyter.widget-view+json": {
       "model_id": "c97689103c894502a775547883749f9c",
       "version_major": 2,
       "version_minor": 0
      },
      "text/plain": [
       "HBox(children=(IntProgress(value=0, max=37), HTML(value='')))"
      ]
     },
     "metadata": {},
     "output_type": "display_data"
    },
    {
     "name": "stdout",
     "output_type": "stream",
     "text": [
      "\n",
      "Done. Train loss:0.18095262348651886, Vlidation loss: 0.2742830812931061\n"
     ]
    },
    {
     "data": {
      "image/png": "[encoded data removed]",
      "text/plain": [
       "<Figure size 432x288 with 1 Axes>"
      ]
     },
     "metadata": {
      "needs_background": "light"
     },
     "output_type": "display_data"
    },
    {
     "data": {
      "application/vnd.jupyter.widget-view+json": {
       "model_id": "b2af6fa688724ad2844fa55e952f2708",
       "version_major": 2,
       "version_minor": 0
      },
      "text/plain": [
       "HBox(children=(IntProgress(value=0, max=37), HTML(value='')))"
      ]
     },
     "metadata": {},
     "output_type": "display_data"
    },
    {
     "name": "stdout",
     "output_type": "stream",
     "text": [
      "\n",
      "Done. Train loss:0.17844587564468384, Vlidation loss: 0.27159103751182556\n"
     ]
    },
    {
     "data": {
      "image/png": "[encoded data removed]",
      "text/plain": [
       "<Figure size 432x288 with 1 Axes>"
      ]
     },
     "metadata": {
      "needs_background": "light"
     },
     "output_type": "display_data"
    },
    {
     "data": {
      "application/vnd.jupyter.widget-view+json": {
       "model_id": "cc8b8a5bd26a4f88bd818dc26cb3f5c0",
       "version_major": 2,
       "version_minor": 0
      },
      "text/plain": [
       "HBox(children=(IntProgress(value=0, max=37), HTML(value='')))"
      ]
     },
     "metadata": {},
     "output_type": "display_data"
    },
    {
     "name": "stdout",
     "output_type": "stream",
     "text": [
      "\n",
      "Done. Train loss:0.17576804757118225, Vlidation loss: 0.2776314914226532\n"
     ]
    },
    {
     "data": {
      "image/png": "[encoded data removed]",
      "text/plain": [
       "<Figure size 432x288 with 1 Axes>"
      ]
     },
     "metadata": {
      "needs_background": "light"
     },
     "output_type": "display_data"
    },
    {
     "data": {
      "application/vnd.jupyter.widget-view+json": {
       "model_id": "5bafccfa7fae4ee9b4c76d50043cf780",
       "version_major": 2,
       "version_minor": 0
      },
      "text/plain": [
       "HBox(children=(IntProgress(value=0, max=37), HTML(value='')))"
      ]
     },
     "metadata": {},
     "output_type": "display_data"
    },
    {
     "name": "stdout",
     "output_type": "stream",
     "text": [
      "\n",
      "Done. Train loss:0.17424581944942474, Vlidation loss: 0.27689868211746216\n"
     ]
    },
    {
     "data": {
      "image/png": "[encoded data removed]",
      "text/plain": [
       "<Figure size 432x288 with 1 Axes>"
      ]
     },
     "metadata": {
      "needs_background": "light"
     },
     "output_type": "display_data"
    },
    {
     "data": {
      "application/vnd.jupyter.widget-view+json": {
       "model_id": "658480b5aa4a4501905b57451bd3573a",
       "version_major": 2,
       "version_minor": 0
      },
      "text/plain": [
       "HBox(children=(IntProgress(value=0, max=37), HTML(value='')))"
      ]
     },
     "metadata": {},
     "output_type": "display_data"
    },
    {
     "name": "stdout",
     "output_type": "stream",
     "text": [
      "\n",
      "Done. Train loss:0.17174668610095978, Vlidation loss: 0.27777785062789917\n"
     ]
    },
    {
     "data": {
      "image/png": "[encoded data removed]",
      "text/plain": [
       "<Figure size 432x288 with 1 Axes>"
      ]
     },
     "metadata": {
      "needs_background": "light"
     },
     "output_type": "display_data"
    },
    {
     "data": {
      "application/vnd.jupyter.widget-view+json": {
       "model_id": "16d56e4a32a34e5dba0d9b17c7e1eb45",
       "version_major": 2,
       "version_minor": 0
      },
      "text/plain": [
       "HBox(children=(IntProgress(value=0, max=37), HTML(value='')))"
      ]
     },
     "metadata": {},
     "output_type": "display_data"
    },
    {
     "name": "stdout",
     "output_type": "stream",
     "text": [
      "\n",
      "Done. Train loss:0.1695677936077118, Vlidation loss: 0.28738877177238464\n"
     ]
    },
    {
     "data": {
      "image/png": "[encoded data removed]",
      "text/plain": [
       "<Figure size 432x288 with 1 Axes>"
      ]
     },
     "metadata": {
      "needs_background": "light"
     },
     "output_type": "display_data"
    },
    {
     "data": {
      "application/vnd.jupyter.widget-view+json": {
       "model_id": "707a8bc43d354bd282dc52c508038c4c",
       "version_major": 2,
       "version_minor": 0
      },
      "text/plain": [
       "HBox(children=(IntProgress(value=0, max=37), HTML(value='')))"
      ]
     },
     "metadata": {},
     "output_type": "display_data"
    },
    {
     "name": "stdout",
     "output_type": "stream",
     "text": [
      "\n",
      "Done. Train loss:0.1690891832113266, Vlidation loss: 0.2850084900856018\n"
     ]
    },
    {
     "data": {
      "image/png": "[encoded data removed]",
      "text/plain": [
       "<Figure size 432x288 with 1 Axes>"
      ]
     },
     "metadata": {
      "needs_background": "light"
     },
     "output_type": "display_data"
    },
    {
     "name": "stdout",
     "output_type": "stream",
     "text": [
      "\n"
     ]
    }
   ],
   "source": [
    "train_running_loss = 0.0\n",
    "num_epochs = 20\n",
    "\n",
    "train_history = []\n",
    "val_history = []\n",
    "\n",
    "for epoch in tqdm(range(num_epochs)):\n",
    "    model.train()\n",
    "    train_losses = []\n",
    "    for train_data in tqdm(train_dataloader):\n",
    "        train_inputs, train_labels = train_data\n",
    "        train_inputs = train_inputs.to(device)\n",
    "        train_labels = train_labels.to(device)\n",
    "\n",
    "        optimizer.zero_grad()\n",
    "        \n",
    "        train_outputs = model(train_inputs)\n",
    "        train_loss = criterion(train_outputs, train_labels)\n",
    "        train_loss.backward()\n",
    "        optimizer.step()\n",
    "        train_losses.append(train_loss)\n",
    "    \n",
    "    model.eval()\n",
    "    \n",
    "    val_losses = []\n",
    "    for valid_data in valid_dataloader:\n",
    "        val_inputs, val_labels = valid_data\n",
    "        val_outputs = model(torch.Tensor(val_inputs).to(device))\n",
    "        \n",
    "        val_loss_on_batch = criterion(val_outputs, val_labels)\n",
    "        val_losses.append(val_loss_on_batch)\n",
    "    \n",
    "    total_val_loss = sum(val_losses) / len(valid_dataloader)\n",
    "    total_train_loss = sum(train_losses) / len(train_dataloader)\n",
    "    print('Done. Train loss:{}, Vlidation loss: {}'.format(total_train_loss, total_val_loss))\n",
    "    \n",
    "    train_history.append(total_train_loss)\n",
    "    val_history.append(total_val_loss)\n",
    "    \n",
    "    show_progress(train_history, val_history)\n",
    "    \n",
    "    "
   ]
  },
  {
   "cell_type": "markdown",
   "id": "2a7b77b3",
   "metadata": {},
   "source": [
    "### 8-feature - epoch 1\n",
    "- accuracy 0.8779\n",
    "- precision 0.2652\n",
    "- recall 0.4887\n",
    "- f1-score 0.3438\n",
    "\n",
    "### 8-feature - epoch 10\n",
    "- accuracy 0.1348\n",
    "- precision 0.9928\n",
    "- recall 0.1217\n",
    "- f1-score 0.2169\n",
    "\n",
    "### 9-feature(isolated_today_contact_with_confirmed or new_contact_with_confirmed)\n",
    "- accuracy 0.8793\n",
    "- precision 0.0000\n",
    "- 모두 음성으로 판단하는 대참사\n",
    "\n",
    "### 9-feature(isolated_today_contact_with_confirmed or new_contact_with_confirmed) - epoch 5\n",
    "- accuracy 0.8699\n",
    "- precision 0.5792\n",
    "- recall 0.4685\n",
    "- f1-score 0.5180\n",
    "\n",
    "### 9-feature(contact) - epoch 20\n",
    "- accuracy 0.8702\n",
    "- precision 0.2208\n",
    "- recall 0.4144\n",
    "- f1-score 0.2881\n",
    "\n",
    "### 9-feature(positive ratio) - epoch 20\n",
    "- accuracy 0.7904\n",
    "- precision 0.5766\n",
    "- recall 0.3010\n",
    "- f1-score 0.3956\n",
    "\n",
    "### 10-feature( 'positive_ratio', 'contact') - epoch 20\n",
    "- accuracy 0.8713\n",
    "- precision 0.5797\n",
    "- recall 0.4671\n",
    "- f1-score 0.5174\n",
    "\n",
    "### 12-feature('contact', 'positive_ratio', 'weekday_ratio', 'confirmed_ratio') - epoch 20\n",
    "- accuracy 0.8698\n",
    "- precision 0.5809\n",
    "- recall 0.4650\n",
    "- f1-score 0.5166\n",
    "\n",
    "\n",
    "accuracy 0.8793\n",
    "precision 0.1684\n",
    "recall 0.4877\n",
    "f1-score 0.2503\n",
    "[[740307  85788]\n",
    " [ 18244  17368]]"
   ]
  },
  {
   "cell_type": "code",
   "execution_count": 265,
   "id": "9916bdf4",
   "metadata": {},
   "outputs": [
    {
     "ename": "NameError",
     "evalue": "name 'positive_res_data' is not defined",
     "output_type": "error",
     "traceback": [
      "\u001b[0;31m---------------------------------------------------------------------------\u001b[0m",
      "\u001b[0;31mNameError\u001b[0m                                 Traceback (most recent call last)",
      "\u001b[0;32m<ipython-input-265-2a9d54221a11>\u001b[0m in \u001b[0;36m<module>\u001b[0;34m\u001b[0m\n\u001b[0;32m----> 1\u001b[0;31m \u001b[0mdf_pos\u001b[0m \u001b[0;34m=\u001b[0m \u001b[0mpd\u001b[0m\u001b[0;34m.\u001b[0m\u001b[0mDataFrame\u001b[0m\u001b[0;34m(\u001b[0m\u001b[0mnp\u001b[0m\u001b[0;34m.\u001b[0m\u001b[0marray\u001b[0m\u001b[0;34m(\u001b[0m\u001b[0mpositive_res_data\u001b[0m\u001b[0;34m)\u001b[0m\u001b[0;34m.\u001b[0m\u001b[0mreshape\u001b[0m\u001b[0;34m(\u001b[0m\u001b[0;34m-\u001b[0m\u001b[0;36m1\u001b[0m\u001b[0;34m,\u001b[0m \u001b[0;36m8\u001b[0m\u001b[0;34m)\u001b[0m\u001b[0;34m,\u001b[0m \u001b[0mcolumns\u001b[0m\u001b[0;34m=\u001b[0m\u001b[0;34m[\u001b[0m\u001b[0;34m'cough'\u001b[0m\u001b[0;34m,\u001b[0m \u001b[0;34m'fever'\u001b[0m\u001b[0;34m,\u001b[0m \u001b[0;34m'sore_throat'\u001b[0m\u001b[0;34m,\u001b[0m \u001b[0;34m'shortness_of_breath'\u001b[0m\u001b[0;34m,\u001b[0m \u001b[0;34m'head_ache'\u001b[0m\u001b[0;34m,\u001b[0m \u001b[0;34m'age_60_and_above'\u001b[0m\u001b[0;34m,\u001b[0m \u001b[0;34m'gender'\u001b[0m\u001b[0;34m,\u001b[0m \u001b[0;34m'test_indication'\u001b[0m\u001b[0;34m]\u001b[0m\u001b[0;34m)\u001b[0m\u001b[0;34m\u001b[0m\u001b[0;34m\u001b[0m\u001b[0m\n\u001b[0m\u001b[1;32m      2\u001b[0m \u001b[0mdf_neg\u001b[0m \u001b[0;34m=\u001b[0m \u001b[0mpd\u001b[0m\u001b[0;34m.\u001b[0m\u001b[0mDataFrame\u001b[0m\u001b[0;34m(\u001b[0m\u001b[0mnp\u001b[0m\u001b[0;34m.\u001b[0m\u001b[0marray\u001b[0m\u001b[0;34m(\u001b[0m\u001b[0mnegative_res_data\u001b[0m\u001b[0;34m)\u001b[0m\u001b[0;34m.\u001b[0m\u001b[0mreshape\u001b[0m\u001b[0;34m(\u001b[0m\u001b[0;34m-\u001b[0m\u001b[0;36m1\u001b[0m\u001b[0;34m,\u001b[0m \u001b[0;36m8\u001b[0m\u001b[0;34m)\u001b[0m\u001b[0;34m,\u001b[0m \u001b[0mcolumns\u001b[0m\u001b[0;34m=\u001b[0m\u001b[0;34m[\u001b[0m\u001b[0;34m'cough'\u001b[0m\u001b[0;34m,\u001b[0m \u001b[0;34m'fever'\u001b[0m\u001b[0;34m,\u001b[0m \u001b[0;34m'sore_throat'\u001b[0m\u001b[0;34m,\u001b[0m \u001b[0;34m'shortness_of_breath'\u001b[0m\u001b[0;34m,\u001b[0m \u001b[0;34m'head_ache'\u001b[0m\u001b[0;34m,\u001b[0m \u001b[0;34m'age_60_and_above'\u001b[0m\u001b[0;34m,\u001b[0m \u001b[0;34m'gender'\u001b[0m\u001b[0;34m,\u001b[0m \u001b[0;34m'test_indication'\u001b[0m\u001b[0;34m]\u001b[0m\u001b[0;34m)\u001b[0m\u001b[0;34m\u001b[0m\u001b[0;34m\u001b[0m\u001b[0m\n",
      "\u001b[0;31mNameError\u001b[0m: name 'positive_res_data' is not defined"
     ]
    }
   ],
   "source": [
    "df_pos = pd.DataFrame(np.array(positive_res_data).reshape(-1, 8), columns=['cough', 'fever', 'sore_throat', 'shortness_of_breath', 'head_ache', 'age_60_and_above', 'gender', 'test_indication'])\n",
    "df_neg = pd.DataFrame(np.array(negative_res_data).reshape(-1, 8), columns=['cough', 'fever', 'sore_throat', 'shortness_of_breath', 'head_ache', 'age_60_and_above', 'gender', 'test_indication'])"
   ]
  },
  {
   "cell_type": "code",
   "execution_count": null,
   "id": "fa3ba22e",
   "metadata": {},
   "outputs": [],
   "source": [
    "print(f\"양성 갯수: {df_pos.shape[0]}, 음성 갯수: {df_neg.shape[0]}, 양성 / 음성 비율: {round(df_pos.shape[0] / df_neg.shape[0] * 100, 2)}%\")"
   ]
  },
  {
   "cell_type": "code",
   "execution_count": null,
   "id": "0022f2cb",
   "metadata": {},
   "outputs": [],
   "source": [
    "df_pos_symptom_cnt = [0] * 6\n",
    "df_neg_symptom_cnt = [0] * 6\n",
    "pos_symptom_confusion_matrix = np.zeros((2,2,2,2,2), dtype=int)\n",
    "neg_symptom_confusion_matrix = np.zeros((2,2,2,2,2), dtype=int)\n",
    "\n",
    "for idx, row in tqdm(df_pos.iterrows()):\n",
    "    symptoms = row[['cough', 'fever', 'sore_throat', 'shortness_of_breath', 'head_ache']].astype(int).tolist()\n",
    "    pos_symptom_confusion_matrix[symptoms[0], symptoms[1], symptoms[2], symptoms[3], symptoms[4]] += 1\n",
    "    cnt_idx = int(sum(symptoms))\n",
    "    df_pos_symptom_cnt[cnt_idx] += 1\n",
    "    \n",
    "for idx, row in tqdm(df_neg.iterrows()):\n",
    "    #     if idx == df_pos.shape[0]: break\n",
    "    symptoms = row[['cough', 'fever', 'sore_throat', 'shortness_of_breath', 'head_ache']].astype(int).tolist()\n",
    "    neg_symptom_confusion_matrix[symptoms[0], symptoms[1], symptoms[2], symptoms[3], symptoms[4]] += 1\n",
    "    cnt_idx = int(sum(symptoms))\n",
    "    df_neg_symptom_cnt[cnt_idx] += 1"
   ]
  },
  {
   "cell_type": "code",
   "execution_count": null,
   "id": "f9dbfeb4",
   "metadata": {},
   "outputs": [],
   "source": [
    "df_pos.shape[0], df_neg.shape[0]"
   ]
  },
  {
   "cell_type": "code",
   "execution_count": null,
   "id": "3f2f18b1",
   "metadata": {},
   "outputs": [],
   "source": [
    "def positive_percent_of_ormore_number(number):\n",
    "    neg_ormore_num = sum(df_neg_symptom_cnt[number:])\n",
    "    pos_ormore_num = sum(df_pos_symptom_cnt[number:])\n",
    "    total = neg_ormore_num + pos_ormore_num\n",
    "    if total == 0: 'lower the number'\n",
    "    return round((pos_ormore_num / total) * 100, 2)"
   ]
  },
  {
   "cell_type": "code",
   "execution_count": null,
   "id": "1c27c092",
   "metadata": {},
   "outputs": [],
   "source": [
    "print(f\"음성 예측 데이터 [0개, 1개, 2개, 3개, 4개, 5개] : {df_neg_symptom_cnt[:6]}\")\n",
    "print(f\"양성 예측 데이터 [0개, 1개, 2개, 3개, 4개, 5개] : {df_pos_symptom_cnt[:6]}\\n\")\n",
    "\n",
    "for number in range(6):\n",
    "    print(f\"{number}개 이상] {positive_percent_of_ormore_number(number)}% 양성\")\n",
    "    print(f\"증상 {number}개] 음성/양성% : {round(df_neg_symptom_cnt[number] / df_pos_symptom_cnt[number]*100, 2)}%\\n\")"
   ]
  },
  {
   "cell_type": "code",
   "execution_count": null,
   "id": "8591d40e",
   "metadata": {},
   "outputs": [],
   "source": [
    "pos_symptom_confusion_matrix"
   ]
  },
  {
   "cell_type": "code",
   "execution_count": null,
   "id": "ce20782f",
   "metadata": {},
   "outputs": [],
   "source": [
    "def confusion_matrix_display(confusion_matrix):\n",
    "    for i in range(32):\n",
    "        idx = bin(i).replace(\"0b\", \"0\" * (7-len(bin(i))))\n",
    "        cnt = 0\n",
    "        if idx[0] == '1': \n",
    "            print('[ cough',end = ' ')\n",
    "            cnt += 1\n",
    "        if idx[1] == '1': \n",
    "            print('fever',end = ' ')\n",
    "            cnt += 1\n",
    "        if idx[2] == '1': \n",
    "            print('sore_throat',end = ' ')\n",
    "            cnt += 1\n",
    "        if idx[3] == '1': \n",
    "            print('shortness_of_breath',end = ' ')\n",
    "            cnt += 1\n",
    "        if idx[4] == '1': \n",
    "            print('head_ache',end = ' ')\n",
    "            cnt += 1\n",
    "        print(f'{cnt}개 증상 ]')\n",
    "            \n",
    "        print(confusion_matrix[int(idx[0]),int(idx[1]),int(idx[2]),int(idx[3]),int(idx[4])])"
   ]
  },
  {
   "cell_type": "code",
   "execution_count": null,
   "id": "0d5577d5",
   "metadata": {},
   "outputs": [],
   "source": [
    "confusion_matrix_display(neg_symptom_confusion_matrix)"
   ]
  },
  {
   "cell_type": "code",
   "execution_count": null,
   "id": "685df3a9",
   "metadata": {},
   "outputs": [],
   "source": [
    "confusion_matrix_display(pos_symptom_confusion_matrix)"
   ]
  },
  {
   "cell_type": "code",
   "execution_count": null,
   "id": "5b65ac8f",
   "metadata": {},
   "outputs": [],
   "source": [
    "pred = np.array(pred)\n",
    "\n",
    "print('accuracy %.4f' % (accuracy_score(pred, valid_gt)))\n",
    "print('precision %.4f' % (precision_score(pred, valid_gt)))\n",
    "print('recall %.4f' % (recall_score(pred, valid_gt)))\n",
    "print('f1-score %.4f' % (f1_score(pred, valid_gt)))\n",
    "print(confusion_matrix(pred, valid_gt))"
   ]
  },
  {
   "cell_type": "code",
   "execution_count": null,
   "id": "71c781b6",
   "metadata": {},
   "outputs": [],
   "source": [
    "pred\n",
    "# pred_chk"
   ]
  },
  {
   "cell_type": "markdown",
   "id": "6810aefe",
   "metadata": {},
   "source": [
    "### random forest result\n",
    "- accuracy 0.9257\n",
    "- precision 0.2314\n",
    "- recall 0.5553\n",
    "- f1-score 0.3267\n",
    "- [[791936  52206]\n",
    "- [ 12591  15720]]\n",
    "\n",
    "### 1-layer sigmoid epoch3 result\n",
    "- accuracy 0.9222\n",
    "- precision 0.1958\n",
    "- recall 0.5013\n",
    "- f1-score 0.2816\n",
    "- [[791299  54627]\n",
    "- [ 13228  13299]]\n",
    "\n",
    "### compare with logistic regression\n",
    "- accuracy 0.9224\n",
    "- precision 0.1953\n",
    "- recall 0.5049\n",
    "- f1-score 0.2816\n",
    "- [[791517  54661]\n",
    "- [ 13010  13265]]\n",
    "\n",
    "### 2-layer epoch3 result\n",
    "- 8-4-1(sig-sig)\n",
    "- accuracy 0.9248\n",
    "- precision 0.2626\n",
    "- recall 0.5342\n",
    "- f1-score 0.3521\n",
    "- [[788976  50090]\n",
    "-  [ 15551  17836]]\n",
    "\n",
    "### 2-layer epoch3 result\n",
    "- 8-4-1(relu-sig)\n",
    "- accuracy 0.9256 \n",
    "- precision 0.1999\n",
    "- recall 0.5635\n",
    "- f1-score 0.2951\n",
    "- [[794008  54349]\n",
    "- [ 10519  13577]]\n",
    "\n",
    "### 2-layer epoch3 result\n",
    "- 8-20-1(relu-sig)\n",
    "- accuracy 0.9255\n",
    "- precision 0.2392\n",
    "- recall 0.5498\n",
    "- f1-score 0.3333\n",
    "- [[791226  51680]\n",
    "-  [ 13301  16246]]\n",
    "\n",
    "### 2-layer epcoh3 result \n",
    "- 8-400-1(relu-sig)\n",
    "- accuracy 0.9256\n",
    "- precision 0.2904\n",
    "- recall 0.5415\n",
    "- f1-score 0.3781\n",
    "- [[787821  48197]\n",
    "- [ 16706  19729]]\n",
    "\n",
    "### 3-layer epoch3 result\n",
    "- 8-4-2-1 (relu-relu-sigmoid) (sigmoid-sigmoid-sigmoid 동일한 결과)\n",
    "- accuracy 0.9221\n",
    "- precision 0.0000\n",
    "- recall 0.0000\n",
    "- f1-score 0.0000\n",
    "- [[804527  67926]\n",
    "-  [     0      0]]\n",
    "- 확인 결과 모든 출력을 음성으로 출력함(1-layer가 오히려 낫네?)"
   ]
  },
  {
   "cell_type": "markdown",
   "id": "18069c58",
   "metadata": {},
   "source": [
    "## 시간 순서대로 train, valid, test 나눔\n",
    "\n",
    "### Logistic Regression\n",
    "- accuracy 0.8782\n",
    "- precision 0.2240\n",
    "- recall 0.4901\n",
    "- f1-score 0.3075\n",
    "- [[742649  81690]\n",
    "  [ 24533  23581]]\n",
    "  \n",
    "### Random Forest\n",
    "- accuracy 0.8761\n",
    "- precision 0.4298\n",
    "- recall 0.4848\n",
    "- f1-score 0.4556\n",
    "- [[719101  60026]\n",
    "- [ 48081  45245]]\n",
    "\n",
    "### Decision Tree\n",
    "- accuracy 0.8761\n",
    "- precision 0.4299\n",
    "- recall 0.4848\n",
    "- f1-score 0.4557\n",
    "- [[719094  60017]\n",
    "- [ 48088  45254]]\n",
    "\n",
    "### Gradient Boosting \n",
    "- accuracy 0.8789\n",
    "- precision 0.3059\n",
    "- recall 0.4973\n",
    "- f1-score 0.3788\n",
    "- [[734633  73070]\n",
    "- [ 32549  32201]]\n",
    "\n",
    "### 3-layer NN \n",
    "- epochs = 10, batch_size = 128\n",
    "- 8-1200-1\n",
    "- accuracy 0.8699\n",
    "- precision 0.5794\n",
    "- recall 0.4683\n",
    "- f1-score 0.5180\n",
    "- [[697921  44274]\n",
    "- [ 69261  60997]]"
   ]
  },
  {
   "cell_type": "code",
   "execution_count": null,
   "id": "1feaff3d",
   "metadata": {},
   "outputs": [],
   "source": []
  },
  {
   "cell_type": "code",
   "execution_count": null,
   "id": "8679775c",
   "metadata": {},
   "outputs": [],
   "source": []
  },
  {
   "cell_type": "code",
   "execution_count": null,
   "id": "3a74f15f",
   "metadata": {},
   "outputs": [],
   "source": []
  },
  {
   "cell_type": "code",
   "execution_count": null,
   "id": "0330c286",
   "metadata": {},
   "outputs": [],
   "source": []
  },
  {
   "cell_type": "code",
   "execution_count": null,
   "id": "c9a21aa5",
   "metadata": {},
   "outputs": [],
   "source": []
  },
  {
   "cell_type": "code",
   "execution_count": null,
   "id": "4e58c792",
   "metadata": {},
   "outputs": [],
   "source": []
  }
 ],
 "metadata": {
  "kernelspec": {
   "display_name": "Python 3",
   "language": "python",
   "name": "python3"
  },
  "language_info": {
   "codemirror_mode": {
    "name": "ipython",
    "version": 3
   },
   "file_extension": ".py",
   "mimetype": "text/x-python",
   "name": "python",
   "nbconvert_exporter": "python",
   "pygments_lexer": "ipython3",
   "version": "3.8.10"
  }
 },
 "nbformat": 4,
 "nbformat_minor": 5
}
