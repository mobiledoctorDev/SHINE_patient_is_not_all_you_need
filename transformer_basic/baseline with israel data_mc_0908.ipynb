{
 "cells": [
  {
   "cell_type": "markdown",
   "id": "53072070",
   "metadata": {},
   "source": [
    "## Import library"
   ]
  },
  {
   "cell_type": "code",
   "execution_count": 1,
   "id": "32a01580",
   "metadata": {},
   "outputs": [],
   "source": [
    "import datetime \n",
    "from datetime import timedelta \n",
    "import os\n",
    "import glob\n",
    "import numpy as np\n",
    "import pandas as pd\n",
    "import torch\n",
    "import torchvision\n",
    "import torchvision.transforms as transforms\n",
    "from sklearn.metrics import roc_curve\n",
    "from torch import nn, optim\n",
    "\n",
    "import torch.nn.functional as F\n",
    "import math, copy, time\n",
    "from torch.autograd import Variable\n",
    "from torch.utils.data import Dataset\n",
    "from torch.utils.data import DataLoader\n",
    "from itertools import cycle\n",
    "from tqdm.notebook import tqdm\n",
    "import re\n",
    "from sklearn.metrics import roc_auc_score, plot_roc_curve\n",
    "\n",
    "import matplotlib.pyplot as plt\n",
    "import seaborn\n",
    "from collections import defaultdict\n",
    "\n",
    "from sklearn import svm"
   ]
  },
  {
   "cell_type": "markdown",
   "id": "947019e1",
   "metadata": {},
   "source": [
    "## Data load"
   ]
  },
  {
   "cell_type": "code",
   "execution_count": 2,
   "id": "4d863c8d",
   "metadata": {
    "scrolled": true
   },
   "outputs": [],
   "source": [
    "# df_israel_covid 이스라엘 데이터셋\n",
    "# corona_isolation_per_day_ver_0059 일일 코로나 격리자 수 \n",
    "# time_series_covid19_confirmed_global 누적 확진자 수 \n",
    "\n",
    "base_path = './opendataset'\n",
    "df_israel_covid = pd.read_csv(f'{base_path}/israel_covid_small.csv')\n",
    "df_israel_isolation_per_day = pd.read_csv(f'{base_path}/corona_isolation_per_day_ver_0069.csv')\n",
    "df_timeseries_confirm = pd.read_csv(f'{base_path}/time_series_covid19_confirmed_global.csv')"
   ]
  },
  {
   "cell_type": "code",
   "execution_count": 3,
   "id": "9718b94f",
   "metadata": {},
   "outputs": [
    {
     "data": {
      "text/html": [
       "<div>\n",
       "<style scoped>\n",
       "    .dataframe tbody tr th:only-of-type {\n",
       "        vertical-align: middle;\n",
       "    }\n",
       "\n",
       "    .dataframe tbody tr th {\n",
       "        vertical-align: top;\n",
       "    }\n",
       "\n",
       "    .dataframe thead th {\n",
       "        text-align: right;\n",
       "    }\n",
       "</style>\n",
       "<table border=\"1\" class=\"dataframe\">\n",
       "  <thead>\n",
       "    <tr style=\"text-align: right;\">\n",
       "      <th></th>\n",
       "      <th>Province/State</th>\n",
       "      <th>Country/Region</th>\n",
       "      <th>Lat</th>\n",
       "      <th>Long</th>\n",
       "      <th>1/22/20</th>\n",
       "      <th>1/23/20</th>\n",
       "      <th>1/24/20</th>\n",
       "      <th>1/25/20</th>\n",
       "      <th>1/26/20</th>\n",
       "      <th>1/27/20</th>\n",
       "      <th>...</th>\n",
       "      <th>8/28/21</th>\n",
       "      <th>8/29/21</th>\n",
       "      <th>8/30/21</th>\n",
       "      <th>8/31/21</th>\n",
       "      <th>9/1/21</th>\n",
       "      <th>9/2/21</th>\n",
       "      <th>9/3/21</th>\n",
       "      <th>9/4/21</th>\n",
       "      <th>9/5/21</th>\n",
       "      <th>9/6/21</th>\n",
       "    </tr>\n",
       "  </thead>\n",
       "  <tbody>\n",
       "    <tr>\n",
       "      <td>0</td>\n",
       "      <td>NaN</td>\n",
       "      <td>Afghanistan</td>\n",
       "      <td>33.93911</td>\n",
       "      <td>67.709953</td>\n",
       "      <td>0</td>\n",
       "      <td>0</td>\n",
       "      <td>0</td>\n",
       "      <td>0</td>\n",
       "      <td>0</td>\n",
       "      <td>0</td>\n",
       "      <td>...</td>\n",
       "      <td>152960</td>\n",
       "      <td>152960</td>\n",
       "      <td>153148</td>\n",
       "      <td>153220</td>\n",
       "      <td>153260</td>\n",
       "      <td>153306</td>\n",
       "      <td>153375</td>\n",
       "      <td>153375</td>\n",
       "      <td>153375</td>\n",
       "      <td>153534</td>\n",
       "    </tr>\n",
       "    <tr>\n",
       "      <td>1</td>\n",
       "      <td>NaN</td>\n",
       "      <td>Albania</td>\n",
       "      <td>41.15330</td>\n",
       "      <td>20.168300</td>\n",
       "      <td>0</td>\n",
       "      <td>0</td>\n",
       "      <td>0</td>\n",
       "      <td>0</td>\n",
       "      <td>0</td>\n",
       "      <td>0</td>\n",
       "      <td>...</td>\n",
       "      <td>144079</td>\n",
       "      <td>144847</td>\n",
       "      <td>145333</td>\n",
       "      <td>146387</td>\n",
       "      <td>147369</td>\n",
       "      <td>148222</td>\n",
       "      <td>149117</td>\n",
       "      <td>150101</td>\n",
       "      <td>150997</td>\n",
       "      <td>151499</td>\n",
       "    </tr>\n",
       "    <tr>\n",
       "      <td>2</td>\n",
       "      <td>NaN</td>\n",
       "      <td>Algeria</td>\n",
       "      <td>28.03390</td>\n",
       "      <td>1.659600</td>\n",
       "      <td>0</td>\n",
       "      <td>0</td>\n",
       "      <td>0</td>\n",
       "      <td>0</td>\n",
       "      <td>0</td>\n",
       "      <td>0</td>\n",
       "      <td>...</td>\n",
       "      <td>194671</td>\n",
       "      <td>195162</td>\n",
       "      <td>195574</td>\n",
       "      <td>196080</td>\n",
       "      <td>196527</td>\n",
       "      <td>196915</td>\n",
       "      <td>197308</td>\n",
       "      <td>197659</td>\n",
       "      <td>198004</td>\n",
       "      <td>198313</td>\n",
       "    </tr>\n",
       "    <tr>\n",
       "      <td>3</td>\n",
       "      <td>NaN</td>\n",
       "      <td>Andorra</td>\n",
       "      <td>42.50630</td>\n",
       "      <td>1.521800</td>\n",
       "      <td>0</td>\n",
       "      <td>0</td>\n",
       "      <td>0</td>\n",
       "      <td>0</td>\n",
       "      <td>0</td>\n",
       "      <td>0</td>\n",
       "      <td>...</td>\n",
       "      <td>15025</td>\n",
       "      <td>15025</td>\n",
       "      <td>15032</td>\n",
       "      <td>15033</td>\n",
       "      <td>15046</td>\n",
       "      <td>15052</td>\n",
       "      <td>15055</td>\n",
       "      <td>15055</td>\n",
       "      <td>15055</td>\n",
       "      <td>15069</td>\n",
       "    </tr>\n",
       "    <tr>\n",
       "      <td>4</td>\n",
       "      <td>NaN</td>\n",
       "      <td>Angola</td>\n",
       "      <td>-11.20270</td>\n",
       "      <td>17.873900</td>\n",
       "      <td>0</td>\n",
       "      <td>0</td>\n",
       "      <td>0</td>\n",
       "      <td>0</td>\n",
       "      <td>0</td>\n",
       "      <td>0</td>\n",
       "      <td>...</td>\n",
       "      <td>47079</td>\n",
       "      <td>47168</td>\n",
       "      <td>47331</td>\n",
       "      <td>47544</td>\n",
       "      <td>47781</td>\n",
       "      <td>48004</td>\n",
       "      <td>48261</td>\n",
       "      <td>48475</td>\n",
       "      <td>48656</td>\n",
       "      <td>48790</td>\n",
       "    </tr>\n",
       "  </tbody>\n",
       "</table>\n",
       "<p>5 rows × 598 columns</p>\n",
       "</div>"
      ],
      "text/plain": [
       "  Province/State Country/Region       Lat       Long  1/22/20  1/23/20  \\\n",
       "0            NaN    Afghanistan  33.93911  67.709953        0        0   \n",
       "1            NaN        Albania  41.15330  20.168300        0        0   \n",
       "2            NaN        Algeria  28.03390   1.659600        0        0   \n",
       "3            NaN        Andorra  42.50630   1.521800        0        0   \n",
       "4            NaN         Angola -11.20270  17.873900        0        0   \n",
       "\n",
       "   1/24/20  1/25/20  1/26/20  1/27/20  ...  8/28/21  8/29/21  8/30/21  \\\n",
       "0        0        0        0        0  ...   152960   152960   153148   \n",
       "1        0        0        0        0  ...   144079   144847   145333   \n",
       "2        0        0        0        0  ...   194671   195162   195574   \n",
       "3        0        0        0        0  ...    15025    15025    15032   \n",
       "4        0        0        0        0  ...    47079    47168    47331   \n",
       "\n",
       "   8/31/21  9/1/21  9/2/21  9/3/21  9/4/21  9/5/21  9/6/21  \n",
       "0   153220  153260  153306  153375  153375  153375  153534  \n",
       "1   146387  147369  148222  149117  150101  150997  151499  \n",
       "2   196080  196527  196915  197308  197659  198004  198313  \n",
       "3    15033   15046   15052   15055   15055   15055   15069  \n",
       "4    47544   47781   48004   48261   48475   48656   48790  \n",
       "\n",
       "[5 rows x 598 columns]"
      ]
     },
     "execution_count": 3,
     "metadata": {},
     "output_type": "execute_result"
    }
   ],
   "source": [
    "df_timeseries_confirm.head(5)"
   ]
  },
  {
   "cell_type": "markdown",
   "id": "4045abb0",
   "metadata": {},
   "source": [
    "## preprocessing"
   ]
  },
  {
   "cell_type": "code",
   "execution_count": 4,
   "id": "85fccf9b",
   "metadata": {},
   "outputs": [
    {
     "name": "stderr",
     "output_type": "stream",
     "text": [
      "/Users/mckim/anaconda3/envs/flu_pred/lib/python3.7/site-packages/ipykernel_launcher.py:12: FutureWarning: `item` has been deprecated and will be removed in a future version\n",
      "  if sys.path[0] == '':\n"
     ]
    }
   ],
   "source": [
    "# 누적 확진자수를 2021-08-17 와 같은 포멧으로 전처리해주는 과정\n",
    "\n",
    "rows = []\n",
    "for idx, values in enumerate(df_timeseries_confirm[df_timeseries_confirm['Country/Region'] == 'Israel'].iteritems()):\n",
    "    if idx < 4: continue\n",
    "    year = f\"20{values[0][-2:]}\"\n",
    "    month = values[0][:values[0].index('/')]\n",
    "    month = f'0{month}' if len(month) == 1 else month\n",
    "    day = values[0][values[0].index('/') + 1 : values[0].rindex('/')]\n",
    "    day = f'0{day}' if len(day) == 1 else day\n",
    "    date = f'{year}-{month}-{day}'\n",
    "    confirmed_num = values[1].item()\n",
    "    rows.append([date, confirmed_num])\n",
    "df_numsum_confirmed = pd.DataFrame(rows, columns=['confirmed_date', 'confirmed_numsum'])"
   ]
  },
  {
   "cell_type": "code",
   "execution_count": 5,
   "id": "d9af766a",
   "metadata": {},
   "outputs": [],
   "source": [
    "# 누적 확진자를 통해 일일 확진자 구하기\n",
    "\n",
    "df_numsum_confirmed['confirmed_num'] = df_numsum_confirmed['confirmed_numsum'] - df_numsum_confirmed.shift(1)['confirmed_numsum']\n",
    "df_numsum_confirmed = df_numsum_confirmed.dropna()\n",
    "df_numsum_confirmed['confirmed_num'] = df_numsum_confirmed['confirmed_num'].astype(int)"
   ]
  },
  {
   "cell_type": "code",
   "execution_count": 6,
   "id": "0db7f06c",
   "metadata": {},
   "outputs": [
    {
     "name": "stdout",
     "output_type": "stream",
     "text": [
      "before -28\n",
      "after 28\n",
      "\n",
      "before -53\n",
      "after 34\n",
      "\n"
     ]
    }
   ],
   "source": [
    "# 일일 확진자수가 음수인 경우 그 전날 확진자를 가져다 쓰는 과정\n",
    "\n",
    "for idx, row in df_numsum_confirmed[df_numsum_confirmed['confirmed_num'] < 0].iterrows():\n",
    "    print(\"before\", df_numsum_confirmed.loc[idx,'confirmed_num'])\n",
    "    df_numsum_confirmed.loc[idx,'confirmed_num'] = df_numsum_confirmed.loc[idx-1,'confirmed_num']\n",
    "    print(\"after\", df_numsum_confirmed.loc[idx,'confirmed_num'])\n",
    "    print()"
   ]
  },
  {
   "cell_type": "code",
   "execution_count": 7,
   "id": "e1e666d5",
   "metadata": {},
   "outputs": [
    {
     "data": {
      "text/html": [
       "<div>\n",
       "<style scoped>\n",
       "    .dataframe tbody tr th:only-of-type {\n",
       "        vertical-align: middle;\n",
       "    }\n",
       "\n",
       "    .dataframe tbody tr th {\n",
       "        vertical-align: top;\n",
       "    }\n",
       "\n",
       "    .dataframe thead th {\n",
       "        text-align: right;\n",
       "    }\n",
       "</style>\n",
       "<table border=\"1\" class=\"dataframe\">\n",
       "  <thead>\n",
       "    <tr style=\"text-align: right;\">\n",
       "      <th></th>\n",
       "      <th>confirmed_date</th>\n",
       "      <th>confirmed_numsum</th>\n",
       "      <th>confirmed_num</th>\n",
       "    </tr>\n",
       "  </thead>\n",
       "  <tbody>\n",
       "    <tr>\n",
       "      <td>589</td>\n",
       "      <td>2021-09-02</td>\n",
       "      <td>1096881</td>\n",
       "      <td>13900</td>\n",
       "    </tr>\n",
       "    <tr>\n",
       "      <td>590</td>\n",
       "      <td>2021-09-03</td>\n",
       "      <td>1104971</td>\n",
       "      <td>8090</td>\n",
       "    </tr>\n",
       "    <tr>\n",
       "      <td>591</td>\n",
       "      <td>2021-09-04</td>\n",
       "      <td>1112964</td>\n",
       "      <td>7993</td>\n",
       "    </tr>\n",
       "    <tr>\n",
       "      <td>592</td>\n",
       "      <td>2021-09-05</td>\n",
       "      <td>1117596</td>\n",
       "      <td>4632</td>\n",
       "    </tr>\n",
       "    <tr>\n",
       "      <td>593</td>\n",
       "      <td>2021-09-06</td>\n",
       "      <td>1117596</td>\n",
       "      <td>0</td>\n",
       "    </tr>\n",
       "  </tbody>\n",
       "</table>\n",
       "</div>"
      ],
      "text/plain": [
       "    confirmed_date  confirmed_numsum  confirmed_num\n",
       "589     2021-09-02           1096881          13900\n",
       "590     2021-09-03           1104971           8090\n",
       "591     2021-09-04           1112964           7993\n",
       "592     2021-09-05           1117596           4632\n",
       "593     2021-09-06           1117596              0"
      ]
     },
     "execution_count": 7,
     "metadata": {},
     "output_type": "execute_result"
    }
   ],
   "source": [
    "df_numsum_confirmed.tail(5)"
   ]
  },
  {
   "cell_type": "code",
   "execution_count": 1,
   "id": "6e2cd533",
   "metadata": {},
   "outputs": [
    {
     "ename": "NameError",
     "evalue": "name 'df_israel_covid' is not defined",
     "output_type": "error",
     "traceback": [
      "\u001b[0;31m---------------------------------------------------------------------------\u001b[0m",
      "\u001b[0;31mNameError\u001b[0m                                 Traceback (most recent call last)",
      "\u001b[0;32m<ipython-input-1-113cc50af77a>\u001b[0m in \u001b[0;36m<module>\u001b[0;34m\u001b[0m\n\u001b[0;32m----> 1\u001b[0;31m \u001b[0mdf_israel_covid\u001b[0m \u001b[0;34m=\u001b[0m \u001b[0mdf_israel_covid\u001b[0m\u001b[0;34m[\u001b[0m\u001b[0mdf_israel_covid\u001b[0m\u001b[0;34m[\u001b[0m\u001b[0;34m'test_date'\u001b[0m\u001b[0;34m]\u001b[0m \u001b[0;34m<\u001b[0m \u001b[0;34m'2021-09-01'\u001b[0m\u001b[0;34m]\u001b[0m\u001b[0;34m\u001b[0m\u001b[0;34m\u001b[0m\u001b[0m\n\u001b[0m\u001b[1;32m      2\u001b[0m \u001b[0mdf_israel_covid\u001b[0m \u001b[0;34m=\u001b[0m \u001b[0mdf_israel_covid\u001b[0m\u001b[0;34m[\u001b[0m\u001b[0mdf_israel_covid\u001b[0m\u001b[0;34m[\u001b[0m\u001b[0;34m'test_date'\u001b[0m\u001b[0;34m]\u001b[0m \u001b[0;34m>=\u001b[0m \u001b[0;34m'2021-06-01'\u001b[0m\u001b[0;34m]\u001b[0m\u001b[0;34m\u001b[0m\u001b[0;34m\u001b[0m\u001b[0m\n\u001b[1;32m      3\u001b[0m \u001b[0mdf_israel_isolation_per_day\u001b[0m \u001b[0;34m=\u001b[0m \u001b[0mdf_israel_isolation_per_day\u001b[0m\u001b[0;34m[\u001b[0m\u001b[0mdf_israel_isolation_per_day\u001b[0m\u001b[0;34m[\u001b[0m\u001b[0;34m'date'\u001b[0m\u001b[0;34m]\u001b[0m \u001b[0;34m<\u001b[0m \u001b[0;34m'2021-09-01'\u001b[0m\u001b[0;34m]\u001b[0m\u001b[0;34m\u001b[0m\u001b[0;34m\u001b[0m\u001b[0m\n\u001b[1;32m      4\u001b[0m \u001b[0mdf_israel_isolation_per_day\u001b[0m \u001b[0;34m=\u001b[0m \u001b[0mdf_israel_isolation_per_day\u001b[0m\u001b[0;34m[\u001b[0m\u001b[0mdf_israel_isolation_per_day\u001b[0m\u001b[0;34m[\u001b[0m\u001b[0;34m'date'\u001b[0m\u001b[0;34m]\u001b[0m \u001b[0;34m>=\u001b[0m \u001b[0;34m'2021-06-01'\u001b[0m\u001b[0;34m]\u001b[0m\u001b[0;34m\u001b[0m\u001b[0;34m\u001b[0m\u001b[0m\n\u001b[1;32m      5\u001b[0m \u001b[0mdf_numsum_confirmed\u001b[0m \u001b[0;34m=\u001b[0m \u001b[0mdf_numsum_confirmed\u001b[0m\u001b[0;34m[\u001b[0m\u001b[0mdf_numsum_confirmed\u001b[0m\u001b[0;34m[\u001b[0m\u001b[0;34m'confirmed_date'\u001b[0m\u001b[0;34m]\u001b[0m \u001b[0;34m<\u001b[0m \u001b[0;34m'2021-06-01'\u001b[0m\u001b[0;34m]\u001b[0m\u001b[0;34m\u001b[0m\u001b[0;34m\u001b[0m\u001b[0m\n",
      "\u001b[0;31mNameError\u001b[0m: name 'df_israel_covid' is not defined"
     ]
    }
   ],
   "source": [
    "df_israel_covid = df_israel_covid[df_israel_covid['test_date'] < '2021-09-01']\n",
    "df_israel_covid = df_israel_covid[df_israel_covid['test_date'] >= '2021-06-01']\n",
    "df_israel_isolation_per_day = df_israel_isolation_per_day[df_israel_isolation_per_day['date'] < '2021-09-01']\n",
    "df_israel_isolation_per_day = df_israel_isolation_per_day[df_israel_isolation_per_day['date'] >= '2021-06-01']\n",
    "df_numsum_confirmed = df_numsum_confirmed[df_numsum_confirmed['confirmed_date'] < '2021-06-01']\n",
    "df_numsum_confirmed = df_numsum_confirmed[df_numsum_confirmed['confirmed_date'] >= '2021-06-01']"
   ]
  },
  {
   "cell_type": "code",
   "execution_count": 9,
   "id": "2e6b79be",
   "metadata": {
    "scrolled": true
   },
   "outputs": [],
   "source": [
    "df_israel_isolation_per_day['join_date'] = (pd.to_datetime(df_israel_isolation_per_day['date']) + timedelta(days=1)).dt.strftime('%Y-%m-%d')\n",
    "\n",
    "# 요일을 숫자로 기록한 컬럼 하나 만듬\n",
    "df_israel_covid['weekday'] = pd.to_datetime(df_israel_covid['test_date']).dt.dayofweek"
   ]
  },
  {
   "cell_type": "code",
   "execution_count": 10,
   "id": "0050016f",
   "metadata": {},
   "outputs": [],
   "source": [
    "# 기존 이스라엘 데이터에 격리자 컬럼을 넣어주는 과정\n",
    "\n",
    "df_israel_covid = pd.merge(df_israel_covid, df_israel_isolation_per_day, how='left', left_on='test_date', right_on='join_date')"
   ]
  },
  {
   "cell_type": "code",
   "execution_count": 11,
   "id": "74ac23e4",
   "metadata": {},
   "outputs": [
    {
     "data": {
      "text/html": [
       "<div>\n",
       "<style scoped>\n",
       "    .dataframe tbody tr th:only-of-type {\n",
       "        vertical-align: middle;\n",
       "    }\n",
       "\n",
       "    .dataframe tbody tr th {\n",
       "        vertical-align: top;\n",
       "    }\n",
       "\n",
       "    .dataframe thead th {\n",
       "        text-align: right;\n",
       "    }\n",
       "</style>\n",
       "<table border=\"1\" class=\"dataframe\">\n",
       "  <thead>\n",
       "    <tr style=\"text-align: right;\">\n",
       "      <th></th>\n",
       "      <th>Unnamed: 0</th>\n",
       "      <th>test_date</th>\n",
       "      <th>cough</th>\n",
       "      <th>fever</th>\n",
       "      <th>sore_throat</th>\n",
       "      <th>shortness_of_breath</th>\n",
       "      <th>head_ache</th>\n",
       "      <th>corona_result</th>\n",
       "      <th>age_60_and_above</th>\n",
       "      <th>gender</th>\n",
       "      <th>test_indication</th>\n",
       "      <th>weekday</th>\n",
       "      <th>date</th>\n",
       "      <th>isolated_today_contact_with_confirmed</th>\n",
       "      <th>isolated_today_abroad</th>\n",
       "      <th>new_contact_with_confirmed</th>\n",
       "      <th>new_from_abroad</th>\n",
       "      <th>join_date</th>\n",
       "    </tr>\n",
       "  </thead>\n",
       "  <tbody>\n",
       "    <tr>\n",
       "      <td>0</td>\n",
       "      <td>1183158</td>\n",
       "      <td>2021-06-01</td>\n",
       "      <td>0</td>\n",
       "      <td>0</td>\n",
       "      <td>0</td>\n",
       "      <td>0</td>\n",
       "      <td>0</td>\n",
       "      <td>שלילי</td>\n",
       "      <td>NaN</td>\n",
       "      <td>NaN</td>\n",
       "      <td>Other</td>\n",
       "      <td>1</td>\n",
       "      <td>NaN</td>\n",
       "      <td>NaN</td>\n",
       "      <td>NaN</td>\n",
       "      <td>NaN</td>\n",
       "      <td>NaN</td>\n",
       "      <td>NaN</td>\n",
       "    </tr>\n",
       "    <tr>\n",
       "      <td>22</td>\n",
       "      <td>1182576</td>\n",
       "      <td>2021-06-01</td>\n",
       "      <td>0</td>\n",
       "      <td>0</td>\n",
       "      <td>0</td>\n",
       "      <td>0</td>\n",
       "      <td>0</td>\n",
       "      <td>אחר</td>\n",
       "      <td>NaN</td>\n",
       "      <td>NaN</td>\n",
       "      <td>Other</td>\n",
       "      <td>1</td>\n",
       "      <td>NaN</td>\n",
       "      <td>NaN</td>\n",
       "      <td>NaN</td>\n",
       "      <td>NaN</td>\n",
       "      <td>NaN</td>\n",
       "      <td>NaN</td>\n",
       "    </tr>\n",
       "    <tr>\n",
       "      <td>23</td>\n",
       "      <td>1180371</td>\n",
       "      <td>2021-06-01</td>\n",
       "      <td>0</td>\n",
       "      <td>0</td>\n",
       "      <td>0</td>\n",
       "      <td>0</td>\n",
       "      <td>0</td>\n",
       "      <td>שלילי</td>\n",
       "      <td>NaN</td>\n",
       "      <td>NaN</td>\n",
       "      <td>Other</td>\n",
       "      <td>1</td>\n",
       "      <td>NaN</td>\n",
       "      <td>NaN</td>\n",
       "      <td>NaN</td>\n",
       "      <td>NaN</td>\n",
       "      <td>NaN</td>\n",
       "      <td>NaN</td>\n",
       "    </tr>\n",
       "    <tr>\n",
       "      <td>24</td>\n",
       "      <td>1181561</td>\n",
       "      <td>2021-06-01</td>\n",
       "      <td>0</td>\n",
       "      <td>0</td>\n",
       "      <td>0</td>\n",
       "      <td>0</td>\n",
       "      <td>0</td>\n",
       "      <td>שלילי</td>\n",
       "      <td>NaN</td>\n",
       "      <td>NaN</td>\n",
       "      <td>Other</td>\n",
       "      <td>1</td>\n",
       "      <td>NaN</td>\n",
       "      <td>NaN</td>\n",
       "      <td>NaN</td>\n",
       "      <td>NaN</td>\n",
       "      <td>NaN</td>\n",
       "      <td>NaN</td>\n",
       "    </tr>\n",
       "    <tr>\n",
       "      <td>25</td>\n",
       "      <td>1179102</td>\n",
       "      <td>2021-06-01</td>\n",
       "      <td>0</td>\n",
       "      <td>0</td>\n",
       "      <td>0</td>\n",
       "      <td>0</td>\n",
       "      <td>0</td>\n",
       "      <td>שלילי</td>\n",
       "      <td>NaN</td>\n",
       "      <td>NaN</td>\n",
       "      <td>Other</td>\n",
       "      <td>1</td>\n",
       "      <td>NaN</td>\n",
       "      <td>NaN</td>\n",
       "      <td>NaN</td>\n",
       "      <td>NaN</td>\n",
       "      <td>NaN</td>\n",
       "      <td>NaN</td>\n",
       "    </tr>\n",
       "  </tbody>\n",
       "</table>\n",
       "</div>"
      ],
      "text/plain": [
       "    Unnamed: 0   test_date  cough  fever  sore_throat  shortness_of_breath  \\\n",
       "0      1183158  2021-06-01      0      0            0                    0   \n",
       "22     1182576  2021-06-01      0      0            0                    0   \n",
       "23     1180371  2021-06-01      0      0            0                    0   \n",
       "24     1181561  2021-06-01      0      0            0                    0   \n",
       "25     1179102  2021-06-01      0      0            0                    0   \n",
       "\n",
       "    head_ache corona_result age_60_and_above gender test_indication  weekday  \\\n",
       "0           0         שלילי              NaN    NaN           Other        1   \n",
       "22          0           אחר              NaN    NaN           Other        1   \n",
       "23          0         שלילי              NaN    NaN           Other        1   \n",
       "24          0         שלילי              NaN    NaN           Other        1   \n",
       "25          0         שלילי              NaN    NaN           Other        1   \n",
       "\n",
       "   date  isolated_today_contact_with_confirmed  isolated_today_abroad  \\\n",
       "0   NaN                                    NaN                    NaN   \n",
       "22  NaN                                    NaN                    NaN   \n",
       "23  NaN                                    NaN                    NaN   \n",
       "24  NaN                                    NaN                    NaN   \n",
       "25  NaN                                    NaN                    NaN   \n",
       "\n",
       "   new_contact_with_confirmed new_from_abroad join_date  \n",
       "0                         NaN             NaN       NaN  \n",
       "22                        NaN             NaN       NaN  \n",
       "23                        NaN             NaN       NaN  \n",
       "24                        NaN             NaN       NaN  \n",
       "25                        NaN             NaN       NaN  "
      ]
     },
     "execution_count": 11,
     "metadata": {},
     "output_type": "execute_result"
    }
   ],
   "source": [
    "df_israel_covid = df_israel_covid.sort_values('test_date')\n",
    "df_israel_covid.head(5)"
   ]
  },
  {
   "cell_type": "code",
   "execution_count": 12,
   "id": "3b0d753f",
   "metadata": {},
   "outputs": [],
   "source": [
    "# 기존 이스라엘 데이터에 일일 확진자랑 일일 누적 확진자 컬럼을 넣어주는 과정\n",
    "\n",
    "df_israel_covid = pd.merge(df_israel_covid, df_numsum_confirmed, how='left', left_on='test_date', right_on='confirmed_date')"
   ]
  },
  {
   "cell_type": "code",
   "execution_count": 13,
   "id": "44746057",
   "metadata": {},
   "outputs": [
    {
     "data": {
      "text/plain": [
       "11602"
      ]
     },
     "execution_count": 13,
     "metadata": {},
     "output_type": "execute_result"
    }
   ],
   "source": [
    "df_israel_covid.shape[0]"
   ]
  },
  {
   "cell_type": "code",
   "execution_count": 14,
   "id": "a1ef2dd3",
   "metadata": {},
   "outputs": [
    {
     "name": "stdout",
     "output_type": "stream",
     "text": [
      "11602\n"
     ]
    }
   ],
   "source": [
    "head_ne = df_israel_covid[df_israel_covid['head_ache'] == 0]\n",
    "head_po = df_israel_covid[df_israel_covid['head_ache'] == 1]\n",
    "print(head_ne.shape[0]+head_po.shape[0])"
   ]
  },
  {
   "cell_type": "markdown",
   "id": "78bbebbd",
   "metadata": {},
   "source": [
    "## 번역하기"
   ]
  },
  {
   "cell_type": "code",
   "execution_count": 15,
   "id": "100f63bd",
   "metadata": {},
   "outputs": [],
   "source": [
    "def gender_map(gender):\n",
    "    if gender == 'נקבה': return 1 #'Female'\n",
    "    elif gender == 'זכר': return 0 #'Male'\n",
    "    return -1"
   ]
  },
  {
   "cell_type": "code",
   "execution_count": 16,
   "id": "b3ac58cc",
   "metadata": {},
   "outputs": [],
   "source": [
    "def corona_result_map(corona_result):\n",
    "    if corona_result == 'אחר': return -1 # 'Other'\n",
    "    elif corona_result == 'שלילי': return 0 # 'Negative'\n",
    "    elif corona_result == 'חיובי': return 1 # 'Positive'\n",
    "    return ''"
   ]
  },
  {
   "cell_type": "code",
   "execution_count": 17,
   "id": "d8fa2757",
   "metadata": {},
   "outputs": [],
   "source": [
    "def age_60_and_above_map(age_60_and_above):\n",
    "    if age_60_and_above == 'Yes': return 1\n",
    "    elif age_60_and_above == 'No': return 0\n",
    "    return -1"
   ]
  },
  {
   "cell_type": "code",
   "execution_count": 18,
   "id": "a7bc697b",
   "metadata": {},
   "outputs": [],
   "source": [
    "def test_indication_map(test_indication):\n",
    "    if test_indication == 'Other': return 0\n",
    "    elif test_indication == 'Abroad': return 1\n",
    "    elif  test_indication == 'Contact with confirmed': return 2\n",
    "    else: return -1"
   ]
  },
  {
   "cell_type": "code",
   "execution_count": 19,
   "id": "cb3e13cd",
   "metadata": {},
   "outputs": [],
   "source": [
    "df_israel_covid['gender'] = df_israel_covid['gender'].apply(gender_map)\n",
    "df_israel_covid['corona_result'] = df_israel_covid['corona_result'].apply(corona_result_map)\n",
    "df_israel_covid['age_60_and_above'] = df_israel_covid['age_60_and_above'].apply(age_60_and_above_map)\n",
    "df_israel_covid['test_indication'] = df_israel_covid['test_indication'].apply(test_indication_map)"
   ]
  },
  {
   "cell_type": "markdown",
   "id": "b1c0cd5a",
   "metadata": {},
   "source": [
    "## Data 기초 통계"
   ]
  },
  {
   "cell_type": "code",
   "execution_count": 20,
   "id": "78b7b763",
   "metadata": {},
   "outputs": [],
   "source": [
    "# 양성 데이터 수\n",
    "num_of_pos = df_israel_covid[df_israel_covid['corona_result'] == 1].shape[0]"
   ]
  },
  {
   "cell_type": "code",
   "execution_count": 21,
   "id": "47eb1b37",
   "metadata": {},
   "outputs": [
    {
     "data": {
      "text/plain": [
       "554"
      ]
     },
     "execution_count": 21,
     "metadata": {},
     "output_type": "execute_result"
    }
   ],
   "source": [
    "num_of_pos"
   ]
  },
  {
   "cell_type": "code",
   "execution_count": 22,
   "id": "5f445bde",
   "metadata": {},
   "outputs": [],
   "source": [
    "# 음성 데이터 수\n",
    "num_of_neg = df_israel_covid[df_israel_covid['corona_result'] == 0].shape[0]"
   ]
  },
  {
   "cell_type": "code",
   "execution_count": 23,
   "id": "03055d71",
   "metadata": {},
   "outputs": [
    {
     "data": {
      "text/plain": [
       "10529"
      ]
     },
     "execution_count": 23,
     "metadata": {},
     "output_type": "execute_result"
    }
   ],
   "source": [
    "num_of_neg"
   ]
  },
  {
   "cell_type": "code",
   "execution_count": 24,
   "id": "74f6a0aa",
   "metadata": {},
   "outputs": [],
   "source": [
    "# other 데이터 수\n",
    "num_of_oth = df_israel_covid[df_israel_covid['corona_result'] == -1].shape[0]"
   ]
  },
  {
   "cell_type": "code",
   "execution_count": 25,
   "id": "fb54cfd6",
   "metadata": {},
   "outputs": [
    {
     "data": {
      "text/plain": [
       "519"
      ]
     },
     "execution_count": 25,
     "metadata": {},
     "output_type": "execute_result"
    }
   ],
   "source": [
    "num_of_oth"
   ]
  },
  {
   "cell_type": "code",
   "execution_count": 26,
   "id": "e98d4219",
   "metadata": {},
   "outputs": [
    {
     "name": "stdout",
     "output_type": "stream",
     "text": [
      "양성/음성 비율: 0.05\n"
     ]
    }
   ],
   "source": [
    "print(f\"양성/음성 비율: {round(num_of_pos/num_of_neg, 2)}\")"
   ]
  },
  {
   "cell_type": "code",
   "execution_count": 27,
   "id": "7cae1f4a",
   "metadata": {},
   "outputs": [
    {
     "data": {
      "text/plain": [
       "11602"
      ]
     },
     "execution_count": 27,
     "metadata": {},
     "output_type": "execute_result"
    }
   ],
   "source": [
    "total_num = num_of_pos + num_of_neg + num_of_oth\n",
    "total_num"
   ]
  },
  {
   "cell_type": "markdown",
   "id": "d717f428",
   "metadata": {},
   "source": [
    "## 증상 유, 증상 무, 증상갯수/전체갯수, 전체 증상 갯수"
   ]
  },
  {
   "cell_type": "code",
   "execution_count": 28,
   "id": "433703df",
   "metadata": {},
   "outputs": [
    {
     "name": "stdout",
     "output_type": "stream",
     "text": [
      "159 11443 0.01370453370108602 11602\n"
     ]
    }
   ],
   "source": [
    "num_cough = df_israel_covid[df_israel_covid['cough'] == 1].shape[0]\n",
    "num_not_cough = df_israel_covid[df_israel_covid['cough'] == 0].shape[0]\n",
    "print(num_cough, num_not_cough, num_cough/total_num, num_cough+num_not_cough)"
   ]
  },
  {
   "cell_type": "code",
   "execution_count": 29,
   "id": "b4fe11e6",
   "metadata": {},
   "outputs": [
    {
     "name": "stdout",
     "output_type": "stream",
     "text": [
      "155 11447 0.013359765557662473 11602\n"
     ]
    }
   ],
   "source": [
    "num_fever = df_israel_covid[df_israel_covid['fever'] == 1].shape[0]\n",
    "num_not_fever = df_israel_covid[df_israel_covid['fever'] == 0].shape[0]\n",
    "print(num_fever, num_not_fever, num_fever/total_num, num_fever+num_not_fever)"
   ]
  },
  {
   "cell_type": "code",
   "execution_count": 30,
   "id": "a8d5ea39",
   "metadata": {},
   "outputs": [
    {
     "name": "stdout",
     "output_type": "stream",
     "text": [
      "73 11529 0.006292018617479745 11602\n"
     ]
    }
   ],
   "source": [
    "num_sore_throat = df_israel_covid[df_israel_covid['sore_throat'] == 1].shape[0]\n",
    "num_not_sore_throat = df_israel_covid[df_israel_covid['sore_throat'] == 0].shape[0]\n",
    "print(num_sore_throat, num_not_sore_throat, num_sore_throat/total_num, num_sore_throat+num_not_sore_throat)"
   ]
  },
  {
   "cell_type": "code",
   "execution_count": 31,
   "id": "5f36a0a1",
   "metadata": {},
   "outputs": [
    {
     "name": "stdout",
     "output_type": "stream",
     "text": [
      "11 11591 0.000948112394414756 11602\n"
     ]
    }
   ],
   "source": [
    "num_shortness_of_breath = df_israel_covid[df_israel_covid['shortness_of_breath'] == 1].shape[0]\n",
    "num_not_shortness_of_breath = df_israel_covid[df_israel_covid['shortness_of_breath'] == 0].shape[0]\n",
    "print(num_shortness_of_breath, num_not_shortness_of_breath, num_shortness_of_breath/total_num, num_shortness_of_breath+num_not_shortness_of_breath)"
   ]
  },
  {
   "cell_type": "code",
   "execution_count": 32,
   "id": "07c64334",
   "metadata": {},
   "outputs": [
    {
     "name": "stdout",
     "output_type": "stream",
     "text": [
      "118 11484 0.010170660230994655 11602\n"
     ]
    }
   ],
   "source": [
    "num_head_ache = df_israel_covid[df_israel_covid['head_ache'] == 1].shape[0]\n",
    "num_not_head_ache = df_israel_covid[df_israel_covid['head_ache'] == 0].shape[0]\n",
    "print(num_head_ache, num_not_head_ache, num_head_ache/total_num, num_head_ache+num_not_head_ache)"
   ]
  },
  {
   "cell_type": "code",
   "execution_count": 33,
   "id": "eca00b3e",
   "metadata": {},
   "outputs": [
    {
     "name": "stdout",
     "output_type": "stream",
     "text": [
      "5036 4333 2233 0.46248265556622903 11602\n"
     ]
    }
   ],
   "source": [
    "num_women = df_israel_covid[df_israel_covid['gender'] == 1].shape[0]\n",
    "num_man = df_israel_covid[df_israel_covid['gender'] == 0].shape[0]\n",
    "num_unk = df_israel_covid[df_israel_covid['gender'] == -1].shape[0]\n",
    "print(num_women, num_man, num_unk, num_man/(num_women+num_man), num_women+num_man+num_unk)"
   ]
  },
  {
   "cell_type": "code",
   "execution_count": 34,
   "id": "8a7021f4",
   "metadata": {},
   "outputs": [
    {
     "name": "stdout",
     "output_type": "stream",
     "text": [
      "1240 6867 3495 0.10687812446129978 11602\n"
     ]
    }
   ],
   "source": [
    "num_60_up = df_israel_covid[df_israel_covid['age_60_and_above'] == 1].shape[0]\n",
    "num_60_down = df_israel_covid[df_israel_covid['age_60_and_above'] == 0].shape[0]\n",
    "num_unk = df_israel_covid[df_israel_covid['age_60_and_above'] == -1].shape[0]\n",
    "print(num_60_up, num_60_down, num_unk,  num_60_up/(num_60_up+num_60_down+num_unk), num_60_up+num_60_down+num_unk)"
   ]
  },
  {
   "cell_type": "code",
   "execution_count": 35,
   "id": "dc6cbec0",
   "metadata": {},
   "outputs": [
    {
     "name": "stdout",
     "output_type": "stream",
     "text": [
      "11388 18 196 11602\n"
     ]
    }
   ],
   "source": [
    "num_other = df_israel_covid[df_israel_covid['test_indication'] == 0].shape[0]\n",
    "num_abroad = df_israel_covid[df_israel_covid['test_indication'] == 1].shape[0]\n",
    "num_contact = df_israel_covid[df_israel_covid['test_indication'] == 2].shape[0]\n",
    "# num_unk = df_israel_covid[df_israel_covid['test_indication'] == -1].shape[0]\n",
    "print(num_other, num_abroad, num_contact, num_other+num_abroad+num_contact)"
   ]
  },
  {
   "cell_type": "markdown",
   "id": "7cc96223",
   "metadata": {},
   "source": [
    "## data를 코로나 결과가 양성, 음성, 기타인 데이터로 분리해서 비교 "
   ]
  },
  {
   "cell_type": "code",
   "execution_count": 36,
   "id": "1357280f",
   "metadata": {},
   "outputs": [],
   "source": [
    "df_israel_covid_p = df_israel_covid[df_israel_covid['corona_result'] == 1]"
   ]
  },
  {
   "cell_type": "code",
   "execution_count": 37,
   "id": "5ba343a4",
   "metadata": {},
   "outputs": [],
   "source": [
    "df_israel_covid_n = df_israel_covid[df_israel_covid['corona_result'] == 0]"
   ]
  },
  {
   "cell_type": "code",
   "execution_count": 38,
   "id": "747a1b75",
   "metadata": {},
   "outputs": [],
   "source": [
    "df_israel_covid_o = df_israel_covid[df_israel_covid['corona_result'] == -1]"
   ]
  },
  {
   "cell_type": "code",
   "execution_count": 39,
   "id": "de3fbc98",
   "metadata": {},
   "outputs": [
    {
     "data": {
      "text/html": [
       "<div>\n",
       "<style scoped>\n",
       "    .dataframe tbody tr th:only-of-type {\n",
       "        vertical-align: middle;\n",
       "    }\n",
       "\n",
       "    .dataframe tbody tr th {\n",
       "        vertical-align: top;\n",
       "    }\n",
       "\n",
       "    .dataframe thead th {\n",
       "        text-align: right;\n",
       "    }\n",
       "</style>\n",
       "<table border=\"1\" class=\"dataframe\">\n",
       "  <thead>\n",
       "    <tr style=\"text-align: right;\">\n",
       "      <th></th>\n",
       "      <th>Unnamed: 0</th>\n",
       "      <th>test_date</th>\n",
       "      <th>cough</th>\n",
       "      <th>fever</th>\n",
       "      <th>sore_throat</th>\n",
       "      <th>shortness_of_breath</th>\n",
       "      <th>head_ache</th>\n",
       "      <th>corona_result</th>\n",
       "      <th>age_60_and_above</th>\n",
       "      <th>gender</th>\n",
       "      <th>...</th>\n",
       "      <th>weekday</th>\n",
       "      <th>date</th>\n",
       "      <th>isolated_today_contact_with_confirmed</th>\n",
       "      <th>isolated_today_abroad</th>\n",
       "      <th>new_contact_with_confirmed</th>\n",
       "      <th>new_from_abroad</th>\n",
       "      <th>join_date</th>\n",
       "      <th>confirmed_date</th>\n",
       "      <th>confirmed_numsum</th>\n",
       "      <th>confirmed_num</th>\n",
       "    </tr>\n",
       "  </thead>\n",
       "  <tbody>\n",
       "    <tr>\n",
       "      <td>11539</td>\n",
       "      <td>52849</td>\n",
       "      <td>2021-08-31</td>\n",
       "      <td>0</td>\n",
       "      <td>0</td>\n",
       "      <td>0</td>\n",
       "      <td>0</td>\n",
       "      <td>0</td>\n",
       "      <td>1</td>\n",
       "      <td>0</td>\n",
       "      <td>1</td>\n",
       "      <td>...</td>\n",
       "      <td>1</td>\n",
       "      <td>2021-08-30</td>\n",
       "      <td>30785.0</td>\n",
       "      <td>76593.0</td>\n",
       "      <td>6446</td>\n",
       "      <td>8006</td>\n",
       "      <td>2021-08-31</td>\n",
       "      <td>NaN</td>\n",
       "      <td>NaN</td>\n",
       "      <td>NaN</td>\n",
       "    </tr>\n",
       "    <tr>\n",
       "      <td>11541</td>\n",
       "      <td>52816</td>\n",
       "      <td>2021-08-31</td>\n",
       "      <td>0</td>\n",
       "      <td>1</td>\n",
       "      <td>1</td>\n",
       "      <td>0</td>\n",
       "      <td>0</td>\n",
       "      <td>1</td>\n",
       "      <td>0</td>\n",
       "      <td>0</td>\n",
       "      <td>...</td>\n",
       "      <td>1</td>\n",
       "      <td>2021-08-30</td>\n",
       "      <td>30785.0</td>\n",
       "      <td>76593.0</td>\n",
       "      <td>6446</td>\n",
       "      <td>8006</td>\n",
       "      <td>2021-08-31</td>\n",
       "      <td>NaN</td>\n",
       "      <td>NaN</td>\n",
       "      <td>NaN</td>\n",
       "    </tr>\n",
       "    <tr>\n",
       "      <td>11555</td>\n",
       "      <td>52892</td>\n",
       "      <td>2021-08-31</td>\n",
       "      <td>0</td>\n",
       "      <td>1</td>\n",
       "      <td>0</td>\n",
       "      <td>0</td>\n",
       "      <td>0</td>\n",
       "      <td>1</td>\n",
       "      <td>1</td>\n",
       "      <td>0</td>\n",
       "      <td>...</td>\n",
       "      <td>1</td>\n",
       "      <td>2021-08-30</td>\n",
       "      <td>30785.0</td>\n",
       "      <td>76593.0</td>\n",
       "      <td>6446</td>\n",
       "      <td>8006</td>\n",
       "      <td>2021-08-31</td>\n",
       "      <td>NaN</td>\n",
       "      <td>NaN</td>\n",
       "      <td>NaN</td>\n",
       "    </tr>\n",
       "    <tr>\n",
       "      <td>11565</td>\n",
       "      <td>41565</td>\n",
       "      <td>2021-08-31</td>\n",
       "      <td>0</td>\n",
       "      <td>0</td>\n",
       "      <td>0</td>\n",
       "      <td>0</td>\n",
       "      <td>0</td>\n",
       "      <td>1</td>\n",
       "      <td>-1</td>\n",
       "      <td>-1</td>\n",
       "      <td>...</td>\n",
       "      <td>1</td>\n",
       "      <td>2021-08-30</td>\n",
       "      <td>30785.0</td>\n",
       "      <td>76593.0</td>\n",
       "      <td>6446</td>\n",
       "      <td>8006</td>\n",
       "      <td>2021-08-31</td>\n",
       "      <td>NaN</td>\n",
       "      <td>NaN</td>\n",
       "      <td>NaN</td>\n",
       "    </tr>\n",
       "    <tr>\n",
       "      <td>11584</td>\n",
       "      <td>41086</td>\n",
       "      <td>2021-08-31</td>\n",
       "      <td>0</td>\n",
       "      <td>1</td>\n",
       "      <td>0</td>\n",
       "      <td>0</td>\n",
       "      <td>0</td>\n",
       "      <td>1</td>\n",
       "      <td>0</td>\n",
       "      <td>1</td>\n",
       "      <td>...</td>\n",
       "      <td>1</td>\n",
       "      <td>2021-08-30</td>\n",
       "      <td>30785.0</td>\n",
       "      <td>76593.0</td>\n",
       "      <td>6446</td>\n",
       "      <td>8006</td>\n",
       "      <td>2021-08-31</td>\n",
       "      <td>NaN</td>\n",
       "      <td>NaN</td>\n",
       "      <td>NaN</td>\n",
       "    </tr>\n",
       "  </tbody>\n",
       "</table>\n",
       "<p>5 rows × 21 columns</p>\n",
       "</div>"
      ],
      "text/plain": [
       "       Unnamed: 0   test_date  cough  fever  sore_throat  shortness_of_breath  \\\n",
       "11539       52849  2021-08-31      0      0            0                    0   \n",
       "11541       52816  2021-08-31      0      1            1                    0   \n",
       "11555       52892  2021-08-31      0      1            0                    0   \n",
       "11565       41565  2021-08-31      0      0            0                    0   \n",
       "11584       41086  2021-08-31      0      1            0                    0   \n",
       "\n",
       "       head_ache  corona_result  age_60_and_above  gender  ...  weekday  \\\n",
       "11539          0              1                 0       1  ...        1   \n",
       "11541          0              1                 0       0  ...        1   \n",
       "11555          0              1                 1       0  ...        1   \n",
       "11565          0              1                -1      -1  ...        1   \n",
       "11584          0              1                 0       1  ...        1   \n",
       "\n",
       "             date isolated_today_contact_with_confirmed  \\\n",
       "11539  2021-08-30                               30785.0   \n",
       "11541  2021-08-30                               30785.0   \n",
       "11555  2021-08-30                               30785.0   \n",
       "11565  2021-08-30                               30785.0   \n",
       "11584  2021-08-30                               30785.0   \n",
       "\n",
       "       isolated_today_abroad  new_contact_with_confirmed new_from_abroad  \\\n",
       "11539                76593.0                        6446            8006   \n",
       "11541                76593.0                        6446            8006   \n",
       "11555                76593.0                        6446            8006   \n",
       "11565                76593.0                        6446            8006   \n",
       "11584                76593.0                        6446            8006   \n",
       "\n",
       "        join_date confirmed_date confirmed_numsum  confirmed_num  \n",
       "11539  2021-08-31            NaN              NaN            NaN  \n",
       "11541  2021-08-31            NaN              NaN            NaN  \n",
       "11555  2021-08-31            NaN              NaN            NaN  \n",
       "11565  2021-08-31            NaN              NaN            NaN  \n",
       "11584  2021-08-31            NaN              NaN            NaN  \n",
       "\n",
       "[5 rows x 21 columns]"
      ]
     },
     "execution_count": 39,
     "metadata": {},
     "output_type": "execute_result"
    }
   ],
   "source": [
    "df_israel_covid_p.tail(5)"
   ]
  },
  {
   "cell_type": "code",
   "execution_count": 40,
   "id": "4f8999de",
   "metadata": {},
   "outputs": [
    {
     "data": {
      "text/html": [
       "<div>\n",
       "<style scoped>\n",
       "    .dataframe tbody tr th:only-of-type {\n",
       "        vertical-align: middle;\n",
       "    }\n",
       "\n",
       "    .dataframe tbody tr th {\n",
       "        vertical-align: top;\n",
       "    }\n",
       "\n",
       "    .dataframe thead th {\n",
       "        text-align: right;\n",
       "    }\n",
       "</style>\n",
       "<table border=\"1\" class=\"dataframe\">\n",
       "  <thead>\n",
       "    <tr style=\"text-align: right;\">\n",
       "      <th></th>\n",
       "      <th>Unnamed: 0</th>\n",
       "      <th>test_date</th>\n",
       "      <th>cough</th>\n",
       "      <th>fever</th>\n",
       "      <th>sore_throat</th>\n",
       "      <th>shortness_of_breath</th>\n",
       "      <th>head_ache</th>\n",
       "      <th>corona_result</th>\n",
       "      <th>age_60_and_above</th>\n",
       "      <th>gender</th>\n",
       "      <th>...</th>\n",
       "      <th>weekday</th>\n",
       "      <th>date</th>\n",
       "      <th>isolated_today_contact_with_confirmed</th>\n",
       "      <th>isolated_today_abroad</th>\n",
       "      <th>new_contact_with_confirmed</th>\n",
       "      <th>new_from_abroad</th>\n",
       "      <th>join_date</th>\n",
       "      <th>confirmed_date</th>\n",
       "      <th>confirmed_numsum</th>\n",
       "      <th>confirmed_num</th>\n",
       "    </tr>\n",
       "  </thead>\n",
       "  <tbody>\n",
       "    <tr>\n",
       "      <td>11597</td>\n",
       "      <td>50510</td>\n",
       "      <td>2021-08-31</td>\n",
       "      <td>0</td>\n",
       "      <td>0</td>\n",
       "      <td>0</td>\n",
       "      <td>0</td>\n",
       "      <td>0</td>\n",
       "      <td>0</td>\n",
       "      <td>-1</td>\n",
       "      <td>1</td>\n",
       "      <td>...</td>\n",
       "      <td>1</td>\n",
       "      <td>2021-08-30</td>\n",
       "      <td>30785.0</td>\n",
       "      <td>76593.0</td>\n",
       "      <td>6446</td>\n",
       "      <td>8006</td>\n",
       "      <td>2021-08-31</td>\n",
       "      <td>NaN</td>\n",
       "      <td>NaN</td>\n",
       "      <td>NaN</td>\n",
       "    </tr>\n",
       "    <tr>\n",
       "      <td>11598</td>\n",
       "      <td>48997</td>\n",
       "      <td>2021-08-31</td>\n",
       "      <td>0</td>\n",
       "      <td>0</td>\n",
       "      <td>0</td>\n",
       "      <td>0</td>\n",
       "      <td>0</td>\n",
       "      <td>0</td>\n",
       "      <td>0</td>\n",
       "      <td>0</td>\n",
       "      <td>...</td>\n",
       "      <td>1</td>\n",
       "      <td>2021-08-30</td>\n",
       "      <td>30785.0</td>\n",
       "      <td>76593.0</td>\n",
       "      <td>6446</td>\n",
       "      <td>8006</td>\n",
       "      <td>2021-08-31</td>\n",
       "      <td>NaN</td>\n",
       "      <td>NaN</td>\n",
       "      <td>NaN</td>\n",
       "    </tr>\n",
       "    <tr>\n",
       "      <td>11599</td>\n",
       "      <td>49597</td>\n",
       "      <td>2021-08-31</td>\n",
       "      <td>0</td>\n",
       "      <td>0</td>\n",
       "      <td>0</td>\n",
       "      <td>0</td>\n",
       "      <td>0</td>\n",
       "      <td>0</td>\n",
       "      <td>0</td>\n",
       "      <td>0</td>\n",
       "      <td>...</td>\n",
       "      <td>1</td>\n",
       "      <td>2021-08-30</td>\n",
       "      <td>30785.0</td>\n",
       "      <td>76593.0</td>\n",
       "      <td>6446</td>\n",
       "      <td>8006</td>\n",
       "      <td>2021-08-31</td>\n",
       "      <td>NaN</td>\n",
       "      <td>NaN</td>\n",
       "      <td>NaN</td>\n",
       "    </tr>\n",
       "    <tr>\n",
       "      <td>11600</td>\n",
       "      <td>48016</td>\n",
       "      <td>2021-08-31</td>\n",
       "      <td>0</td>\n",
       "      <td>0</td>\n",
       "      <td>0</td>\n",
       "      <td>0</td>\n",
       "      <td>0</td>\n",
       "      <td>0</td>\n",
       "      <td>1</td>\n",
       "      <td>0</td>\n",
       "      <td>...</td>\n",
       "      <td>1</td>\n",
       "      <td>2021-08-30</td>\n",
       "      <td>30785.0</td>\n",
       "      <td>76593.0</td>\n",
       "      <td>6446</td>\n",
       "      <td>8006</td>\n",
       "      <td>2021-08-31</td>\n",
       "      <td>NaN</td>\n",
       "      <td>NaN</td>\n",
       "      <td>NaN</td>\n",
       "    </tr>\n",
       "    <tr>\n",
       "      <td>11601</td>\n",
       "      <td>61288</td>\n",
       "      <td>2021-08-31</td>\n",
       "      <td>0</td>\n",
       "      <td>0</td>\n",
       "      <td>0</td>\n",
       "      <td>0</td>\n",
       "      <td>0</td>\n",
       "      <td>0</td>\n",
       "      <td>0</td>\n",
       "      <td>0</td>\n",
       "      <td>...</td>\n",
       "      <td>1</td>\n",
       "      <td>2021-08-30</td>\n",
       "      <td>30785.0</td>\n",
       "      <td>76593.0</td>\n",
       "      <td>6446</td>\n",
       "      <td>8006</td>\n",
       "      <td>2021-08-31</td>\n",
       "      <td>NaN</td>\n",
       "      <td>NaN</td>\n",
       "      <td>NaN</td>\n",
       "    </tr>\n",
       "  </tbody>\n",
       "</table>\n",
       "<p>5 rows × 21 columns</p>\n",
       "</div>"
      ],
      "text/plain": [
       "       Unnamed: 0   test_date  cough  fever  sore_throat  shortness_of_breath  \\\n",
       "11597       50510  2021-08-31      0      0            0                    0   \n",
       "11598       48997  2021-08-31      0      0            0                    0   \n",
       "11599       49597  2021-08-31      0      0            0                    0   \n",
       "11600       48016  2021-08-31      0      0            0                    0   \n",
       "11601       61288  2021-08-31      0      0            0                    0   \n",
       "\n",
       "       head_ache  corona_result  age_60_and_above  gender  ...  weekday  \\\n",
       "11597          0              0                -1       1  ...        1   \n",
       "11598          0              0                 0       0  ...        1   \n",
       "11599          0              0                 0       0  ...        1   \n",
       "11600          0              0                 1       0  ...        1   \n",
       "11601          0              0                 0       0  ...        1   \n",
       "\n",
       "             date isolated_today_contact_with_confirmed  \\\n",
       "11597  2021-08-30                               30785.0   \n",
       "11598  2021-08-30                               30785.0   \n",
       "11599  2021-08-30                               30785.0   \n",
       "11600  2021-08-30                               30785.0   \n",
       "11601  2021-08-30                               30785.0   \n",
       "\n",
       "       isolated_today_abroad  new_contact_with_confirmed new_from_abroad  \\\n",
       "11597                76593.0                        6446            8006   \n",
       "11598                76593.0                        6446            8006   \n",
       "11599                76593.0                        6446            8006   \n",
       "11600                76593.0                        6446            8006   \n",
       "11601                76593.0                        6446            8006   \n",
       "\n",
       "        join_date confirmed_date confirmed_numsum  confirmed_num  \n",
       "11597  2021-08-31            NaN              NaN            NaN  \n",
       "11598  2021-08-31            NaN              NaN            NaN  \n",
       "11599  2021-08-31            NaN              NaN            NaN  \n",
       "11600  2021-08-31            NaN              NaN            NaN  \n",
       "11601  2021-08-31            NaN              NaN            NaN  \n",
       "\n",
       "[5 rows x 21 columns]"
      ]
     },
     "execution_count": 40,
     "metadata": {},
     "output_type": "execute_result"
    }
   ],
   "source": [
    "df_israel_covid_n.tail(5)"
   ]
  },
  {
   "cell_type": "code",
   "execution_count": 41,
   "id": "3c3d273f",
   "metadata": {},
   "outputs": [
    {
     "data": {
      "text/html": [
       "<div>\n",
       "<style scoped>\n",
       "    .dataframe tbody tr th:only-of-type {\n",
       "        vertical-align: middle;\n",
       "    }\n",
       "\n",
       "    .dataframe tbody tr th {\n",
       "        vertical-align: top;\n",
       "    }\n",
       "\n",
       "    .dataframe thead th {\n",
       "        text-align: right;\n",
       "    }\n",
       "</style>\n",
       "<table border=\"1\" class=\"dataframe\">\n",
       "  <thead>\n",
       "    <tr style=\"text-align: right;\">\n",
       "      <th></th>\n",
       "      <th>Unnamed: 0</th>\n",
       "      <th>test_date</th>\n",
       "      <th>cough</th>\n",
       "      <th>fever</th>\n",
       "      <th>sore_throat</th>\n",
       "      <th>shortness_of_breath</th>\n",
       "      <th>head_ache</th>\n",
       "      <th>corona_result</th>\n",
       "      <th>age_60_and_above</th>\n",
       "      <th>gender</th>\n",
       "      <th>...</th>\n",
       "      <th>weekday</th>\n",
       "      <th>date</th>\n",
       "      <th>isolated_today_contact_with_confirmed</th>\n",
       "      <th>isolated_today_abroad</th>\n",
       "      <th>new_contact_with_confirmed</th>\n",
       "      <th>new_from_abroad</th>\n",
       "      <th>join_date</th>\n",
       "      <th>confirmed_date</th>\n",
       "      <th>confirmed_numsum</th>\n",
       "      <th>confirmed_num</th>\n",
       "    </tr>\n",
       "  </thead>\n",
       "  <tbody>\n",
       "    <tr>\n",
       "      <td>11554</td>\n",
       "      <td>49141</td>\n",
       "      <td>2021-08-31</td>\n",
       "      <td>0</td>\n",
       "      <td>0</td>\n",
       "      <td>0</td>\n",
       "      <td>0</td>\n",
       "      <td>0</td>\n",
       "      <td>-1</td>\n",
       "      <td>0</td>\n",
       "      <td>0</td>\n",
       "      <td>...</td>\n",
       "      <td>1</td>\n",
       "      <td>2021-08-30</td>\n",
       "      <td>30785.0</td>\n",
       "      <td>76593.0</td>\n",
       "      <td>6446</td>\n",
       "      <td>8006</td>\n",
       "      <td>2021-08-31</td>\n",
       "      <td>NaN</td>\n",
       "      <td>NaN</td>\n",
       "      <td>NaN</td>\n",
       "    </tr>\n",
       "    <tr>\n",
       "      <td>11559</td>\n",
       "      <td>42429</td>\n",
       "      <td>2021-08-31</td>\n",
       "      <td>0</td>\n",
       "      <td>0</td>\n",
       "      <td>0</td>\n",
       "      <td>0</td>\n",
       "      <td>0</td>\n",
       "      <td>-1</td>\n",
       "      <td>0</td>\n",
       "      <td>-1</td>\n",
       "      <td>...</td>\n",
       "      <td>1</td>\n",
       "      <td>2021-08-30</td>\n",
       "      <td>30785.0</td>\n",
       "      <td>76593.0</td>\n",
       "      <td>6446</td>\n",
       "      <td>8006</td>\n",
       "      <td>2021-08-31</td>\n",
       "      <td>NaN</td>\n",
       "      <td>NaN</td>\n",
       "      <td>NaN</td>\n",
       "    </tr>\n",
       "    <tr>\n",
       "      <td>11578</td>\n",
       "      <td>60150</td>\n",
       "      <td>2021-08-31</td>\n",
       "      <td>0</td>\n",
       "      <td>0</td>\n",
       "      <td>0</td>\n",
       "      <td>0</td>\n",
       "      <td>0</td>\n",
       "      <td>-1</td>\n",
       "      <td>0</td>\n",
       "      <td>1</td>\n",
       "      <td>...</td>\n",
       "      <td>1</td>\n",
       "      <td>2021-08-30</td>\n",
       "      <td>30785.0</td>\n",
       "      <td>76593.0</td>\n",
       "      <td>6446</td>\n",
       "      <td>8006</td>\n",
       "      <td>2021-08-31</td>\n",
       "      <td>NaN</td>\n",
       "      <td>NaN</td>\n",
       "      <td>NaN</td>\n",
       "    </tr>\n",
       "    <tr>\n",
       "      <td>11579</td>\n",
       "      <td>57586</td>\n",
       "      <td>2021-08-31</td>\n",
       "      <td>0</td>\n",
       "      <td>0</td>\n",
       "      <td>0</td>\n",
       "      <td>0</td>\n",
       "      <td>0</td>\n",
       "      <td>-1</td>\n",
       "      <td>1</td>\n",
       "      <td>1</td>\n",
       "      <td>...</td>\n",
       "      <td>1</td>\n",
       "      <td>2021-08-30</td>\n",
       "      <td>30785.0</td>\n",
       "      <td>76593.0</td>\n",
       "      <td>6446</td>\n",
       "      <td>8006</td>\n",
       "      <td>2021-08-31</td>\n",
       "      <td>NaN</td>\n",
       "      <td>NaN</td>\n",
       "      <td>NaN</td>\n",
       "    </tr>\n",
       "    <tr>\n",
       "      <td>11590</td>\n",
       "      <td>57632</td>\n",
       "      <td>2021-08-31</td>\n",
       "      <td>0</td>\n",
       "      <td>0</td>\n",
       "      <td>0</td>\n",
       "      <td>0</td>\n",
       "      <td>0</td>\n",
       "      <td>-1</td>\n",
       "      <td>0</td>\n",
       "      <td>0</td>\n",
       "      <td>...</td>\n",
       "      <td>1</td>\n",
       "      <td>2021-08-30</td>\n",
       "      <td>30785.0</td>\n",
       "      <td>76593.0</td>\n",
       "      <td>6446</td>\n",
       "      <td>8006</td>\n",
       "      <td>2021-08-31</td>\n",
       "      <td>NaN</td>\n",
       "      <td>NaN</td>\n",
       "      <td>NaN</td>\n",
       "    </tr>\n",
       "  </tbody>\n",
       "</table>\n",
       "<p>5 rows × 21 columns</p>\n",
       "</div>"
      ],
      "text/plain": [
       "       Unnamed: 0   test_date  cough  fever  sore_throat  shortness_of_breath  \\\n",
       "11554       49141  2021-08-31      0      0            0                    0   \n",
       "11559       42429  2021-08-31      0      0            0                    0   \n",
       "11578       60150  2021-08-31      0      0            0                    0   \n",
       "11579       57586  2021-08-31      0      0            0                    0   \n",
       "11590       57632  2021-08-31      0      0            0                    0   \n",
       "\n",
       "       head_ache  corona_result  age_60_and_above  gender  ...  weekday  \\\n",
       "11554          0             -1                 0       0  ...        1   \n",
       "11559          0             -1                 0      -1  ...        1   \n",
       "11578          0             -1                 0       1  ...        1   \n",
       "11579          0             -1                 1       1  ...        1   \n",
       "11590          0             -1                 0       0  ...        1   \n",
       "\n",
       "             date isolated_today_contact_with_confirmed  \\\n",
       "11554  2021-08-30                               30785.0   \n",
       "11559  2021-08-30                               30785.0   \n",
       "11578  2021-08-30                               30785.0   \n",
       "11579  2021-08-30                               30785.0   \n",
       "11590  2021-08-30                               30785.0   \n",
       "\n",
       "       isolated_today_abroad  new_contact_with_confirmed new_from_abroad  \\\n",
       "11554                76593.0                        6446            8006   \n",
       "11559                76593.0                        6446            8006   \n",
       "11578                76593.0                        6446            8006   \n",
       "11579                76593.0                        6446            8006   \n",
       "11590                76593.0                        6446            8006   \n",
       "\n",
       "        join_date confirmed_date confirmed_numsum  confirmed_num  \n",
       "11554  2021-08-31            NaN              NaN            NaN  \n",
       "11559  2021-08-31            NaN              NaN            NaN  \n",
       "11578  2021-08-31            NaN              NaN            NaN  \n",
       "11579  2021-08-31            NaN              NaN            NaN  \n",
       "11590  2021-08-31            NaN              NaN            NaN  \n",
       "\n",
       "[5 rows x 21 columns]"
      ]
     },
     "execution_count": 41,
     "metadata": {},
     "output_type": "execute_result"
    }
   ],
   "source": [
    "df_israel_covid_o.tail(5)"
   ]
  },
  {
   "cell_type": "code",
   "execution_count": 42,
   "id": "dbfa124f",
   "metadata": {},
   "outputs": [],
   "source": [
    "# 데이터 갯수 & 증상 비율들\n",
    "\n",
    "def cnt_has_symptom(df):\n",
    "    print('# of data ]', df.shape[0])\n",
    "    print('# of fever ] ', df[df['fever'] == 1].shape[0] / df.shape[0])\n",
    "    print('# of cough ] ', df[df['cough'] == 1].shape[0] / df.shape[0])    \n",
    "    print('# of sore_throat ] ', df[df['sore_throat'] == 1].shape[0] / df.shape[0])    \n",
    "    print('# of shortness_of_breath ] ', df[df['shortness_of_breath'] == 1].shape[0] / df.shape[0])\n",
    "    print('# of head_ache ] ', df[df['head_ache'] == 1].shape[0] / df.shape[0])"
   ]
  },
  {
   "cell_type": "code",
   "execution_count": 43,
   "id": "d2af9e98",
   "metadata": {
    "scrolled": true
   },
   "outputs": [
    {
     "name": "stdout",
     "output_type": "stream",
     "text": [
      "# of data ] 554\n",
      "# of fever ]  0.17870036101083034\n",
      "# of cough ]  0.17689530685920576\n",
      "# of sore_throat ]  0.07220216606498195\n",
      "# of shortness_of_breath ]  0.018050541516245487\n",
      "# of head_ache ]  0.11913357400722022\n"
     ]
    }
   ],
   "source": [
    "cnt_has_symptom(df_israel_covid_p)"
   ]
  },
  {
   "cell_type": "code",
   "execution_count": 44,
   "id": "d41837da",
   "metadata": {},
   "outputs": [
    {
     "name": "stdout",
     "output_type": "stream",
     "text": [
      "# of data ] 10529\n",
      "# of fever ]  0.004463861715262608\n",
      "# of cough ]  0.004843764839965809\n",
      "# of sore_throat ]  0.002374394529395004\n",
      "# of shortness_of_breath ]  9.497578117580017e-05\n",
      "# of head_ache ]  0.003988982809383607\n"
     ]
    }
   ],
   "source": [
    "cnt_has_symptom(df_israel_covid_n)"
   ]
  },
  {
   "cell_type": "code",
   "execution_count": 45,
   "id": "c0c122d5",
   "metadata": {},
   "outputs": [
    {
     "name": "stdout",
     "output_type": "stream",
     "text": [
      "# of data ] 519\n",
      "# of fever ]  0.017341040462427744\n",
      "# of cough ]  0.019267822736030827\n",
      "# of sore_throat ]  0.015414258188824663\n",
      "# of shortness_of_breath ]  0.0\n",
      "# of head_ache ]  0.019267822736030827\n"
     ]
    }
   ],
   "source": [
    "cnt_has_symptom(df_israel_covid_o)"
   ]
  },
  {
   "cell_type": "markdown",
   "id": "71444e31",
   "metadata": {},
   "source": [
    "## 양성 음성에 따른 증상 갯수 차이 비교"
   ]
  },
  {
   "cell_type": "code",
   "execution_count": 46,
   "id": "152d567e",
   "metadata": {},
   "outputs": [
    {
     "name": "stdout",
     "output_type": "stream",
     "text": [
      "[376, 83, 63, 25, 6, 1]\n"
     ]
    }
   ],
   "source": [
    "pos_list = [0] * 6\n",
    "for idx, row in df_israel_covid_p.iterrows():\n",
    "    cnt_idx = row['cough'] + row['fever'] + row['sore_throat'] + \\\n",
    "            + row['shortness_of_breath'] + row['head_ache']\n",
    "    pos_list[cnt_idx] += 1\n",
    "print(pos_list)"
   ]
  },
  {
   "cell_type": "code",
   "execution_count": 47,
   "id": "61658a2c",
   "metadata": {},
   "outputs": [
    {
     "name": "stdout",
     "output_type": "stream",
     "text": [
      "0.5479434156402605 0.23920961084836875 0.14578895424394364 0.05148635437786836 0.013474133164099776 0.0020975317254589955\n"
     ]
    }
   ],
   "source": [
    "print(234848/428599, 102525/428599, 62485/428599, 22067/428599, 5775/428599, 899/428599)"
   ]
  },
  {
   "cell_type": "code",
   "execution_count": 48,
   "id": "9f31a11a",
   "metadata": {},
   "outputs": [
    {
     "name": "stdout",
     "output_type": "stream",
     "text": [
      "[10432, 46, 34, 16, 1, 0]\n"
     ]
    }
   ],
   "source": [
    "neg_list = [0] * 6\n",
    "for idx, row in df_israel_covid_n.iterrows():\n",
    "    cnt_idx = row['cough'] + row['fever'] + row['sore_throat'] + \\\n",
    "            + row['shortness_of_breath'] + row['head_ache']\n",
    "    neg_list[cnt_idx] += 1\n",
    "print(neg_list)"
   ]
  },
  {
   "cell_type": "code",
   "execution_count": 49,
   "id": "e95d09f3",
   "metadata": {},
   "outputs": [
    {
     "name": "stdout",
     "output_type": "stream",
     "text": [
      "0.9523702497156177 0.028073414173375583 0.01433836773266872 0.004032408124580072 0.0010284510628702584 0.00015710919088766692\n"
     ]
    }
   ],
   "source": [
    "print(5194994/5454805, 153135/5454805, 78213/5454805, 21996/5454805, 5610/5454805, 857/5454805)"
   ]
  },
  {
   "cell_type": "markdown",
   "id": "5d254dfb",
   "metadata": {},
   "source": [
    "## rulebasemodel preprocessing"
   ]
  },
  {
   "cell_type": "code",
   "execution_count": 55,
   "id": "11d10f4d",
   "metadata": {},
   "outputs": [],
   "source": [
    "df_rulebase = pd.read_excel('rulebasemodel_chart.xlsx', engine='openpyxl')"
   ]
  },
  {
   "cell_type": "code",
   "execution_count": 56,
   "id": "e285f34b",
   "metadata": {},
   "outputs": [
    {
     "data": {
      "text/html": [
       "<div>\n",
       "<style scoped>\n",
       "    .dataframe tbody tr th:only-of-type {\n",
       "        vertical-align: middle;\n",
       "    }\n",
       "\n",
       "    .dataframe tbody tr th {\n",
       "        vertical-align: top;\n",
       "    }\n",
       "\n",
       "    .dataframe thead th {\n",
       "        text-align: right;\n",
       "    }\n",
       "</style>\n",
       "<table border=\"1\" class=\"dataframe\">\n",
       "  <thead>\n",
       "    <tr style=\"text-align: right;\">\n",
       "      <th></th>\n",
       "      <th>cough</th>\n",
       "      <th>fever</th>\n",
       "      <th>sore_throat</th>\n",
       "      <th>shortness_of_breath</th>\n",
       "      <th>head_ache</th>\n",
       "      <th>sex</th>\n",
       "      <th>result</th>\n",
       "      <th>cough_2</th>\n",
       "      <th>fever_2</th>\n",
       "      <th>sore_throat_2</th>\n",
       "      <th>...</th>\n",
       "      <th>sex_2</th>\n",
       "      <th>result_2</th>\n",
       "      <th>Unnamed: 14</th>\n",
       "      <th>Unnamed: 15</th>\n",
       "      <th>Unnamed: 16</th>\n",
       "      <th>sex</th>\n",
       "      <th>male: 0, female:1, dontknow -1</th>\n",
       "      <th>Unnamed: 19</th>\n",
       "      <th>Unnamed: 20</th>\n",
       "      <th>설문에는 있는데, 남녀 차이가 없이 결과가 나온다</th>\n",
       "    </tr>\n",
       "  </thead>\n",
       "  <tbody>\n",
       "    <tr>\n",
       "      <td>0</td>\n",
       "      <td>0</td>\n",
       "      <td>0</td>\n",
       "      <td>0</td>\n",
       "      <td>0</td>\n",
       "      <td>0</td>\n",
       "      <td>-1</td>\n",
       "      <td>0</td>\n",
       "      <td>0</td>\n",
       "      <td>0</td>\n",
       "      <td>0</td>\n",
       "      <td>...</td>\n",
       "      <td>-1</td>\n",
       "      <td>0</td>\n",
       "      <td>NaN</td>\n",
       "      <td>NaN</td>\n",
       "      <td>NaN</td>\n",
       "      <td>result</td>\n",
       "      <td>LOW: 0, MEDIUM: 1, HIGH=2 VERY LOW:3</td>\n",
       "      <td>NaN</td>\n",
       "      <td>NaN</td>\n",
       "      <td>NaN</td>\n",
       "    </tr>\n",
       "    <tr>\n",
       "      <td>1</td>\n",
       "      <td>1</td>\n",
       "      <td>0</td>\n",
       "      <td>0</td>\n",
       "      <td>0</td>\n",
       "      <td>0</td>\n",
       "      <td>-1</td>\n",
       "      <td>1</td>\n",
       "      <td>1</td>\n",
       "      <td>0</td>\n",
       "      <td>0</td>\n",
       "      <td>...</td>\n",
       "      <td>-1</td>\n",
       "      <td>0</td>\n",
       "      <td>NaN</td>\n",
       "      <td>NaN</td>\n",
       "      <td>NaN</td>\n",
       "      <td>test_indication</td>\n",
       "      <td>contact:1 non contact 0</td>\n",
       "      <td>NaN</td>\n",
       "      <td>NaN</td>\n",
       "      <td>contact이면 무조건 HIGH 나와서 제외</td>\n",
       "    </tr>\n",
       "    <tr>\n",
       "      <td>2</td>\n",
       "      <td>0</td>\n",
       "      <td>1</td>\n",
       "      <td>0</td>\n",
       "      <td>0</td>\n",
       "      <td>0</td>\n",
       "      <td>-1</td>\n",
       "      <td>1</td>\n",
       "      <td>0</td>\n",
       "      <td>1</td>\n",
       "      <td>0</td>\n",
       "      <td>...</td>\n",
       "      <td>-1</td>\n",
       "      <td>0</td>\n",
       "      <td>NaN</td>\n",
       "      <td>NaN</td>\n",
       "      <td>NaN</td>\n",
       "      <td>NaN</td>\n",
       "      <td>NaN</td>\n",
       "      <td>NaN</td>\n",
       "      <td>NaN</td>\n",
       "      <td>NaN</td>\n",
       "    </tr>\n",
       "    <tr>\n",
       "      <td>3</td>\n",
       "      <td>0</td>\n",
       "      <td>0</td>\n",
       "      <td>1</td>\n",
       "      <td>0</td>\n",
       "      <td>0</td>\n",
       "      <td>-1</td>\n",
       "      <td>1</td>\n",
       "      <td>0</td>\n",
       "      <td>0</td>\n",
       "      <td>1</td>\n",
       "      <td>...</td>\n",
       "      <td>-1</td>\n",
       "      <td>1</td>\n",
       "      <td>NaN</td>\n",
       "      <td>NaN</td>\n",
       "      <td>NaN</td>\n",
       "      <td>NaN</td>\n",
       "      <td>NaN</td>\n",
       "      <td>NaN</td>\n",
       "      <td>NaN</td>\n",
       "      <td>NaN</td>\n",
       "    </tr>\n",
       "    <tr>\n",
       "      <td>4</td>\n",
       "      <td>0</td>\n",
       "      <td>0</td>\n",
       "      <td>0</td>\n",
       "      <td>1</td>\n",
       "      <td>0</td>\n",
       "      <td>-1</td>\n",
       "      <td>1</td>\n",
       "      <td>0</td>\n",
       "      <td>0</td>\n",
       "      <td>0</td>\n",
       "      <td>...</td>\n",
       "      <td>-1</td>\n",
       "      <td>2</td>\n",
       "      <td>NaN</td>\n",
       "      <td>NaN</td>\n",
       "      <td>NaN</td>\n",
       "      <td>NaN</td>\n",
       "      <td>NaN</td>\n",
       "      <td>NaN</td>\n",
       "      <td>NaN</td>\n",
       "      <td>NaN</td>\n",
       "    </tr>\n",
       "  </tbody>\n",
       "</table>\n",
       "<p>5 rows × 22 columns</p>\n",
       "</div>"
      ],
      "text/plain": [
       "   cough  fever  sore_throat  shortness_of_breath  head_ache  sex  result  \\\n",
       "0      0      0            0                    0          0   -1       0   \n",
       "1      1      0            0                    0          0   -1       1   \n",
       "2      0      1            0                    0          0   -1       1   \n",
       "3      0      0            1                    0          0   -1       1   \n",
       "4      0      0            0                    1          0   -1       1   \n",
       "\n",
       "   cough_2  fever_2  sore_throat_2  ...  sex_2  result_2  Unnamed: 14  \\\n",
       "0        0        0              0  ...     -1         0          NaN   \n",
       "1        1        0              0  ...     -1         0          NaN   \n",
       "2        0        1              0  ...     -1         0          NaN   \n",
       "3        0        0              1  ...     -1         1          NaN   \n",
       "4        0        0              0  ...     -1         2          NaN   \n",
       "\n",
       "   Unnamed: 15  Unnamed: 16              sex   \\\n",
       "0          NaN          NaN            result   \n",
       "1          NaN          NaN  test_indication    \n",
       "2          NaN          NaN               NaN   \n",
       "3          NaN          NaN               NaN   \n",
       "4          NaN          NaN               NaN   \n",
       "\n",
       "         male: 0, female:1, dontknow -1 Unnamed: 19 Unnamed: 20  \\\n",
       "0  LOW: 0, MEDIUM: 1, HIGH=2 VERY LOW:3         NaN         NaN   \n",
       "1               contact:1 non contact 0         NaN         NaN   \n",
       "2                                   NaN         NaN         NaN   \n",
       "3                                   NaN         NaN         NaN   \n",
       "4                                   NaN         NaN         NaN   \n",
       "\n",
       "   설문에는 있는데, 남녀 차이가 없이 결과가 나온다  \n",
       "0                          NaN  \n",
       "1    contact이면 무조건 HIGH 나와서 제외  \n",
       "2                          NaN  \n",
       "3                          NaN  \n",
       "4                          NaN  \n",
       "\n",
       "[5 rows x 22 columns]"
      ]
     },
     "execution_count": 56,
     "metadata": {},
     "output_type": "execute_result"
    }
   ],
   "source": [
    "df_rulebase.head(5)"
   ]
  },
  {
   "cell_type": "code",
   "execution_count": 57,
   "id": "eba2a0bb",
   "metadata": {},
   "outputs": [],
   "source": [
    "df_symtoma_rule = df_rulebase[['cough', 'fever', 'sore_throat', 'shortness_of_breath', 'head_ache', 'result']]\n",
    "df_shine1_rule  = df_rulebase[['cough_2', 'fever_2', 'sore_throat_2', 'shortness_of_breath_2', 'head_ache_2', 'result_2']]"
   ]
  },
  {
   "cell_type": "code",
   "execution_count": 58,
   "id": "fe7a6d73",
   "metadata": {},
   "outputs": [],
   "source": [
    "df_shine1_rule = df_shine1_rule.rename(columns={'cough_2': 'cough', 'fever_2': 'fever', 'sore_throat_2': 'sore_throat', 'shortness_of_breath_2': 'shortness_of_breath', 'head_ache_2': 'head_ache', 'result_2': 'result'})"
   ]
  },
  {
   "cell_type": "code",
   "execution_count": 59,
   "id": "a2d1bebb",
   "metadata": {},
   "outputs": [
    {
     "data": {
      "text/html": [
       "<div>\n",
       "<style scoped>\n",
       "    .dataframe tbody tr th:only-of-type {\n",
       "        vertical-align: middle;\n",
       "    }\n",
       "\n",
       "    .dataframe tbody tr th {\n",
       "        vertical-align: top;\n",
       "    }\n",
       "\n",
       "    .dataframe thead th {\n",
       "        text-align: right;\n",
       "    }\n",
       "</style>\n",
       "<table border=\"1\" class=\"dataframe\">\n",
       "  <thead>\n",
       "    <tr style=\"text-align: right;\">\n",
       "      <th></th>\n",
       "      <th>cough</th>\n",
       "      <th>fever</th>\n",
       "      <th>sore_throat</th>\n",
       "      <th>shortness_of_breath</th>\n",
       "      <th>head_ache</th>\n",
       "      <th>result</th>\n",
       "    </tr>\n",
       "  </thead>\n",
       "  <tbody>\n",
       "    <tr>\n",
       "      <td>0</td>\n",
       "      <td>0</td>\n",
       "      <td>0</td>\n",
       "      <td>0</td>\n",
       "      <td>0</td>\n",
       "      <td>0</td>\n",
       "      <td>0</td>\n",
       "    </tr>\n",
       "    <tr>\n",
       "      <td>1</td>\n",
       "      <td>1</td>\n",
       "      <td>0</td>\n",
       "      <td>0</td>\n",
       "      <td>0</td>\n",
       "      <td>0</td>\n",
       "      <td>1</td>\n",
       "    </tr>\n",
       "    <tr>\n",
       "      <td>2</td>\n",
       "      <td>0</td>\n",
       "      <td>1</td>\n",
       "      <td>0</td>\n",
       "      <td>0</td>\n",
       "      <td>0</td>\n",
       "      <td>1</td>\n",
       "    </tr>\n",
       "    <tr>\n",
       "      <td>3</td>\n",
       "      <td>0</td>\n",
       "      <td>0</td>\n",
       "      <td>1</td>\n",
       "      <td>0</td>\n",
       "      <td>0</td>\n",
       "      <td>1</td>\n",
       "    </tr>\n",
       "    <tr>\n",
       "      <td>4</td>\n",
       "      <td>0</td>\n",
       "      <td>0</td>\n",
       "      <td>0</td>\n",
       "      <td>1</td>\n",
       "      <td>0</td>\n",
       "      <td>1</td>\n",
       "    </tr>\n",
       "  </tbody>\n",
       "</table>\n",
       "</div>"
      ],
      "text/plain": [
       "   cough  fever  sore_throat  shortness_of_breath  head_ache  result\n",
       "0      0      0            0                    0          0       0\n",
       "1      1      0            0                    0          0       1\n",
       "2      0      1            0                    0          0       1\n",
       "3      0      0            1                    0          0       1\n",
       "4      0      0            0                    1          0       1"
      ]
     },
     "metadata": {},
     "output_type": "display_data"
    },
    {
     "data": {
      "text/html": [
       "<div>\n",
       "<style scoped>\n",
       "    .dataframe tbody tr th:only-of-type {\n",
       "        vertical-align: middle;\n",
       "    }\n",
       "\n",
       "    .dataframe tbody tr th {\n",
       "        vertical-align: top;\n",
       "    }\n",
       "\n",
       "    .dataframe thead th {\n",
       "        text-align: right;\n",
       "    }\n",
       "</style>\n",
       "<table border=\"1\" class=\"dataframe\">\n",
       "  <thead>\n",
       "    <tr style=\"text-align: right;\">\n",
       "      <th></th>\n",
       "      <th>cough</th>\n",
       "      <th>fever</th>\n",
       "      <th>sore_throat</th>\n",
       "      <th>shortness_of_breath</th>\n",
       "      <th>head_ache</th>\n",
       "      <th>result</th>\n",
       "    </tr>\n",
       "  </thead>\n",
       "  <tbody>\n",
       "    <tr>\n",
       "      <td>0</td>\n",
       "      <td>0</td>\n",
       "      <td>0</td>\n",
       "      <td>0</td>\n",
       "      <td>0</td>\n",
       "      <td>0</td>\n",
       "      <td>0</td>\n",
       "    </tr>\n",
       "    <tr>\n",
       "      <td>1</td>\n",
       "      <td>1</td>\n",
       "      <td>0</td>\n",
       "      <td>0</td>\n",
       "      <td>0</td>\n",
       "      <td>0</td>\n",
       "      <td>0</td>\n",
       "    </tr>\n",
       "    <tr>\n",
       "      <td>2</td>\n",
       "      <td>0</td>\n",
       "      <td>1</td>\n",
       "      <td>0</td>\n",
       "      <td>0</td>\n",
       "      <td>0</td>\n",
       "      <td>0</td>\n",
       "    </tr>\n",
       "    <tr>\n",
       "      <td>3</td>\n",
       "      <td>0</td>\n",
       "      <td>0</td>\n",
       "      <td>1</td>\n",
       "      <td>0</td>\n",
       "      <td>0</td>\n",
       "      <td>1</td>\n",
       "    </tr>\n",
       "    <tr>\n",
       "      <td>4</td>\n",
       "      <td>0</td>\n",
       "      <td>0</td>\n",
       "      <td>0</td>\n",
       "      <td>1</td>\n",
       "      <td>0</td>\n",
       "      <td>2</td>\n",
       "    </tr>\n",
       "  </tbody>\n",
       "</table>\n",
       "</div>"
      ],
      "text/plain": [
       "   cough  fever  sore_throat  shortness_of_breath  head_ache  result\n",
       "0      0      0            0                    0          0       0\n",
       "1      1      0            0                    0          0       0\n",
       "2      0      1            0                    0          0       0\n",
       "3      0      0            1                    0          0       1\n",
       "4      0      0            0                    1          0       2"
      ]
     },
     "metadata": {},
     "output_type": "display_data"
    }
   ],
   "source": [
    "display(df_symtoma_rule.head(5))\n",
    "display(df_shine1_rule.head(5))"
   ]
  },
  {
   "cell_type": "markdown",
   "id": "9f4d74b2",
   "metadata": {},
   "source": [
    "## model input preprocessing"
   ]
  },
  {
   "cell_type": "code",
   "execution_count": 60,
   "id": "440a79e4",
   "metadata": {},
   "outputs": [],
   "source": [
    "# other 빼버림\n",
    "df_israel_covid_without_o = df_israel_covid[df_israel_covid['corona_result'] != -1]"
   ]
  },
  {
   "cell_type": "code",
   "execution_count": 61,
   "id": "224d8130",
   "metadata": {},
   "outputs": [
    {
     "data": {
      "text/plain": [
       "11083"
      ]
     },
     "execution_count": 61,
     "metadata": {},
     "output_type": "execute_result"
    }
   ],
   "source": [
    "df_israel_covid_without_o.shape[0]"
   ]
  },
  {
   "cell_type": "code",
   "execution_count": 62,
   "id": "e28d2805",
   "metadata": {},
   "outputs": [],
   "source": [
    "# 성별 없는 사람들 빼버림\n",
    "df_israel_covid_without_o = df_israel_covid_without_o[df_israel_covid_without_o['gender'] != -1]"
   ]
  },
  {
   "cell_type": "code",
   "execution_count": 63,
   "id": "44724662",
   "metadata": {},
   "outputs": [
    {
     "data": {
      "text/plain": [
       "8963"
      ]
     },
     "execution_count": 63,
     "metadata": {},
     "output_type": "execute_result"
    }
   ],
   "source": [
    "df_israel_covid_without_o.shape[0]"
   ]
  },
  {
   "cell_type": "code",
   "execution_count": 64,
   "id": "0b4c853a",
   "metadata": {},
   "outputs": [],
   "source": [
    "df_israel_covid_without_o = df_israel_covid_without_o.sort_values(['test_date']).reset_index(drop=True)"
   ]
  },
  {
   "cell_type": "code",
   "execution_count": 65,
   "id": "e5048d3a",
   "metadata": {},
   "outputs": [
    {
     "data": {
      "text/plain": [
       "'2021-06-05'"
      ]
     },
     "execution_count": 65,
     "metadata": {},
     "output_type": "execute_result"
    }
   ],
   "source": [
    "df_israel_covid_without_o['test_date'].min()"
   ]
  },
  {
   "cell_type": "code",
   "execution_count": 66,
   "id": "49d79058",
   "metadata": {},
   "outputs": [],
   "source": [
    "# # week_num 이라는 칼럼을 새로 만들었다. 1년에 52주라 \n",
    "# def date_to_weeknum_map(test_date):\n",
    "#     week_num_st_idx = 52\n",
    "#     year_last_num = int(test_date[2:4])\n",
    "#     week_num = datetime.date(int(test_date[:4]), int(test_date[5:7]), int(test_date[8:])).isocalendar()[1]\n",
    "#     return week_num_st_idx * year_last_num + week_num"
   ]
  },
  {
   "cell_type": "code",
   "execution_count": 67,
   "id": "21477bf8",
   "metadata": {},
   "outputs": [],
   "source": [
    "# df_israel_covid_without_o['week_num'] = df_israel_covid_without_o['test_date'].apply(date_to_weeknum_map)"
   ]
  },
  {
   "cell_type": "markdown",
   "id": "cd862713",
   "metadata": {},
   "source": [
    "## 확진자 수 가져오는 api (지금은 사용x)"
   ]
  },
  {
   "cell_type": "code",
   "execution_count": 68,
   "id": "710b43c1",
   "metadata": {},
   "outputs": [],
   "source": [
    "# from urllib.request import Request, urlopen\n",
    "# from urllib.parse import urlencode, quote_plus\n",
    "# from bs4 import BeautifulSoup\n",
    "\n",
    "# url = 'http://openapi.data.go.kr/openapi/service/rest/Covid19/getCovid19NatInfStateJson'\n",
    "# service_key = 'KYLVjDwXBWqEgO6Ph8q7a2oIjeVFvYkaLsmUBEa2qIO7YqtQYm4aUpsVIPWomkpPDfeJXNkITA4OBlgMip2v7g%3D%3D'\n",
    "# queryParams = '?' + urlencode({ quote_plus('serviceKey') : service_key, quote_plus('pageNo') : '1', quote_plus('numOfRows') : '10', quote_plus('startCreateDt') : '20200310', quote_plus('endCreateDt') : '20210812' })\n",
    "# queryParams = queryParams.replace('%25', '%')\n",
    "# print(url + queryParams)\n",
    "# request = Request(url + queryParams)\n",
    "# request.get_method = lambda: 'GET'\n",
    "# response_body = urlopen(request).read()\n",
    "\n",
    "# bs = BeautifulSoup(response_body, 'html.parser')\n",
    "\n",
    "# links = bs.find_all('item')\n",
    "# # print(links)\n",
    "# for link in links:\n",
    "#      if link.find_all('nationnmen', text=re.compile(\"Israel\")):\n",
    "#         print(link.find('nationnmen').text)\n",
    "#         print(link.find('stdday').text)\n",
    "#         print(link.find('natdefcnt').text)"
   ]
  },
  {
   "cell_type": "code",
   "execution_count": 69,
   "id": "7eb7bb47",
   "metadata": {},
   "outputs": [
    {
     "data": {
      "text/html": [
       "<div>\n",
       "<style scoped>\n",
       "    .dataframe tbody tr th:only-of-type {\n",
       "        vertical-align: middle;\n",
       "    }\n",
       "\n",
       "    .dataframe tbody tr th {\n",
       "        vertical-align: top;\n",
       "    }\n",
       "\n",
       "    .dataframe thead th {\n",
       "        text-align: right;\n",
       "    }\n",
       "</style>\n",
       "<table border=\"1\" class=\"dataframe\">\n",
       "  <thead>\n",
       "    <tr style=\"text-align: right;\">\n",
       "      <th></th>\n",
       "      <th>Unnamed: 0</th>\n",
       "      <th>test_date</th>\n",
       "      <th>cough</th>\n",
       "      <th>fever</th>\n",
       "      <th>sore_throat</th>\n",
       "      <th>shortness_of_breath</th>\n",
       "      <th>head_ache</th>\n",
       "      <th>corona_result</th>\n",
       "      <th>age_60_and_above</th>\n",
       "      <th>gender</th>\n",
       "      <th>...</th>\n",
       "      <th>weekday</th>\n",
       "      <th>date</th>\n",
       "      <th>isolated_today_contact_with_confirmed</th>\n",
       "      <th>isolated_today_abroad</th>\n",
       "      <th>new_contact_with_confirmed</th>\n",
       "      <th>new_from_abroad</th>\n",
       "      <th>join_date</th>\n",
       "      <th>confirmed_date</th>\n",
       "      <th>confirmed_numsum</th>\n",
       "      <th>confirmed_num</th>\n",
       "    </tr>\n",
       "  </thead>\n",
       "  <tbody>\n",
       "  </tbody>\n",
       "</table>\n",
       "<p>0 rows × 21 columns</p>\n",
       "</div>"
      ],
      "text/plain": [
       "Empty DataFrame\n",
       "Columns: [Unnamed: 0, test_date, cough, fever, sore_throat, shortness_of_breath, head_ache, corona_result, age_60_and_above, gender, test_indication, weekday, date, isolated_today_contact_with_confirmed, isolated_today_abroad, new_contact_with_confirmed, new_from_abroad, join_date, confirmed_date, confirmed_numsum, confirmed_num]\n",
       "Index: []\n",
       "\n",
       "[0 rows x 21 columns]"
      ]
     },
     "execution_count": 69,
     "metadata": {},
     "output_type": "execute_result"
    }
   ],
   "source": [
    "df_israel_covid_without_o[(df_israel_covid_without_o['test_date'] == '2021-01-01') & (df_israel_covid_without_o['corona_result'] == 1)]"
   ]
  },
  {
   "cell_type": "code",
   "execution_count": 70,
   "id": "501d4295",
   "metadata": {},
   "outputs": [],
   "source": [
    "df_israel_covid_without_o['new_contact_with_confirmed'] = df_israel_covid_without_o['new_contact_with_confirmed'].astype(int)"
   ]
  },
  {
   "cell_type": "code",
   "execution_count": 71,
   "id": "4ad75571",
   "metadata": {},
   "outputs": [],
   "source": [
    "df_israel_covid_without_o['contact'] = df_israel_covid_without_o['new_contact_with_confirmed'] / 36903"
   ]
  },
  {
   "cell_type": "code",
   "execution_count": 72,
   "id": "6846cb89",
   "metadata": {},
   "outputs": [],
   "source": [
    "df_confirm_by_sampling = df_israel_covid_without_o[df_israel_covid_without_o['corona_result'] == 1].groupby('test_date').count().reset_index()[['test_date', 'date']]\n",
    "df_confirm_by_sampling = df_confirm_by_sampling.rename(columns={'test_date': 'yesterday', 'date': 'positive_cnt'})"
   ]
  },
  {
   "cell_type": "code",
   "execution_count": 73,
   "id": "e93dde46",
   "metadata": {},
   "outputs": [],
   "source": [
    "df_israel_covid_without_o = pd.merge(df_israel_covid_without_o, df_confirm_by_sampling, how='left', left_on='date', right_on='yesterday')"
   ]
  },
  {
   "cell_type": "code",
   "execution_count": 74,
   "id": "1f87a28d",
   "metadata": {},
   "outputs": [
    {
     "data": {
      "text/plain": [
       "8963"
      ]
     },
     "execution_count": 74,
     "metadata": {},
     "output_type": "execute_result"
    }
   ],
   "source": [
    "df_israel_covid_without_o.shape[0]"
   ]
  },
  {
   "cell_type": "code",
   "execution_count": 75,
   "id": "746a21e6",
   "metadata": {},
   "outputs": [],
   "source": [
    "df_israel_covid_without_o = df_israel_covid_without_o[~df_israel_covid_without_o['positive_cnt'].isnull()]"
   ]
  },
  {
   "cell_type": "code",
   "execution_count": 76,
   "id": "4ae1e8a5",
   "metadata": {},
   "outputs": [],
   "source": [
    "df_israel_covid_without_o['positive_cnt'] = df_israel_covid_without_o['positive_cnt'].astype(int)"
   ]
  },
  {
   "cell_type": "code",
   "execution_count": 77,
   "id": "e0e212b5",
   "metadata": {},
   "outputs": [],
   "source": [
    "df_israel_covid_without_o['positive_ratio'] = df_israel_covid_without_o['positive_cnt'] / df_israel_covid_without_o['positive_cnt'].max()"
   ]
  },
  {
   "cell_type": "code",
   "execution_count": 78,
   "id": "ebd3988d",
   "metadata": {},
   "outputs": [],
   "source": [
    "df_israel_covid_without_o['weekday_ratio'] = df_israel_covid_without_o['weekday'] / 6"
   ]
  },
  {
   "cell_type": "code",
   "execution_count": 79,
   "id": "295fc6ec",
   "metadata": {},
   "outputs": [],
   "source": [
    "df_israel_covid_without_o['confirmed_ratio'] = df_israel_covid_without_o['confirmed_num'] / df_israel_covid_without_o['confirmed_num'].max()"
   ]
  },
  {
   "cell_type": "code",
   "execution_count": 80,
   "id": "774979ae",
   "metadata": {},
   "outputs": [
    {
     "data": {
      "text/plain": [
       "Index(['Unnamed: 0', 'test_date', 'cough', 'fever', 'sore_throat',\n",
       "       'shortness_of_breath', 'head_ache', 'corona_result', 'age_60_and_above',\n",
       "       'gender', 'test_indication', 'weekday', 'date',\n",
       "       'isolated_today_contact_with_confirmed', 'isolated_today_abroad',\n",
       "       'new_contact_with_confirmed', 'new_from_abroad', 'join_date',\n",
       "       'confirmed_date', 'confirmed_numsum', 'confirmed_num', 'contact',\n",
       "       'yesterday', 'positive_cnt', 'positive_ratio', 'weekday_ratio',\n",
       "       'confirmed_ratio'],\n",
       "      dtype='object')"
      ]
     },
     "execution_count": 80,
     "metadata": {},
     "output_type": "execute_result"
    }
   ],
   "source": [
    "df_israel_covid_without_o.columns"
   ]
  },
  {
   "cell_type": "code",
   "execution_count": 81,
   "id": "0c952ae9",
   "metadata": {},
   "outputs": [],
   "source": [
    "# 여기서 내가 사용할 feature 고르기\n",
    "raw_datas = df_israel_covid_without_o[['cough', 'fever', 'sore_throat', 'shortness_of_breath', 'head_ache', 'corona_result']].values\n",
    "# raw_datas = df_israel_covid_without_o[['cough', 'fever', 'sore_throat', 'shortness_of_breath', 'head_ache', 'age_60_and_above', 'gender', 'confirmed_ratio', 'weekday_ratio', 'corona_result']].values"
   ]
  },
  {
   "cell_type": "code",
   "execution_count": 82,
   "id": "b96a71aa",
   "metadata": {},
   "outputs": [],
   "source": [
    "input_datas = raw_datas[:, :-1]\n",
    "gt_datas = raw_datas[:, -1]"
   ]
  },
  {
   "cell_type": "code",
   "execution_count": 83,
   "id": "c12b8408",
   "metadata": {},
   "outputs": [
    {
     "data": {
      "text/plain": [
       "(7230, 5)"
      ]
     },
     "execution_count": 83,
     "metadata": {},
     "output_type": "execute_result"
    }
   ],
   "source": [
    "input_datas.shape"
   ]
  },
  {
   "cell_type": "code",
   "execution_count": 118,
   "id": "8cd8e21c",
   "metadata": {},
   "outputs": [],
   "source": [
    "def get_result_by_rule(input_data, df_rule):\n",
    "    cough_flag = df_rule['cough'] == input_data[0]\n",
    "    fever_flag = df_rule['fever'] == input_data[1]\n",
    "    sore_throat_flag = df_rule['sore_throat'] == input_data[2]\n",
    "    shortness_of_breath_flag = df_rule['shortness_of_breath'] == input_data[3]\n",
    "    head_ache_flag = df_rule['head_ache'] == input_data[4]\n",
    "    \n",
    "    final_flag = cough_flag & fever_flag & sore_throat_flag & shortness_of_breath_flag & head_ache_flag\n",
    "    \n",
    "    return df_rule[final_flag]['result'].item()"
   ]
  },
  {
   "cell_type": "code",
   "execution_count": 125,
   "id": "82c19ac3",
   "metadata": {},
   "outputs": [],
   "source": [
    "from collections import defaultdict\n",
    "def rulebase_classifier(input_data, dict_rule):\n",
    "    result_by_rule = dict_rule[tuple(input_data)]\n",
    "    dict_return_value = defaultdict(int)\n",
    "    dict_return_value.update({\n",
    "        0: 0,\n",
    "        1: 0.3,\n",
    "        2: 0.8,\n",
    "    })\n",
    "    return dict_return_value[result_by_rule]\n",
    "def get_preds_by_rule(input_datas, dict_rule):\n",
    "    preds = []\n",
    "    for idx, input_data in enumerate(input_datas):\n",
    "        preds.append(rulebase_classifier(input_data, dict_rule))\n",
    "#         preds = [rulebase_classifier(input_data, df_rule) for input_data in input_datas]\n",
    "    return np.array(preds, dtype=np.float64)\n",
    "\n",
    "dict_rule = df_shine1_rule.set_index(['cough', 'fever', 'sore_throat', 'shortness_of_breath', 'head_ache']).to_dict()['result']\n",
    "dict_rule"
   ]
  },
  {
   "cell_type": "code",
   "execution_count": 132,
   "id": "472773b1",
   "metadata": {},
   "outputs": [],
   "source": [
    "preds = get_preds_by_rule(input_datas, dict_rule)"
   ]
  },
  {
   "cell_type": "code",
   "execution_count": 133,
   "id": "3488ed37",
   "metadata": {},
   "outputs": [
    {
     "data": {
      "text/plain": [
       "(53.499999999999865, 523)"
      ]
     },
     "execution_count": 133,
     "metadata": {},
     "output_type": "execute_result"
    }
   ],
   "source": [
    "sum(preds), sum(gt_datas)"
   ]
  },
  {
   "cell_type": "code",
   "execution_count": 134,
   "id": "ba94793c",
   "metadata": {},
   "outputs": [
    {
     "ename": "ValueError",
     "evalue": "continuous format is not supported",
     "output_type": "error",
     "traceback": [
      "\u001b[0;31m---------------------------------------------------------------------------\u001b[0m",
      "\u001b[0;31mValueError\u001b[0m                                Traceback (most recent call last)",
      "\u001b[0;32m<ipython-input-134-8a1cc69f2c0e>\u001b[0m in \u001b[0;36m<module>\u001b[0;34m\u001b[0m\n\u001b[0;32m----> 1\u001b[0;31m \u001b[0mroc_auc_score\u001b[0m\u001b[0;34m(\u001b[0m\u001b[0mpreds\u001b[0m\u001b[0;34m,\u001b[0m \u001b[0mgt_datas\u001b[0m\u001b[0;34m)\u001b[0m\u001b[0;34m\u001b[0m\u001b[0;34m\u001b[0m\u001b[0m\n\u001b[0m",
      "\u001b[0;32m~/anaconda3/envs/flu_pred/lib/python3.7/site-packages/sklearn/utils/validation.py\u001b[0m in \u001b[0;36minner_f\u001b[0;34m(*args, **kwargs)\u001b[0m\n\u001b[1;32m     61\u001b[0m             \u001b[0mextra_args\u001b[0m \u001b[0;34m=\u001b[0m \u001b[0mlen\u001b[0m\u001b[0;34m(\u001b[0m\u001b[0margs\u001b[0m\u001b[0;34m)\u001b[0m \u001b[0;34m-\u001b[0m \u001b[0mlen\u001b[0m\u001b[0;34m(\u001b[0m\u001b[0mall_args\u001b[0m\u001b[0;34m)\u001b[0m\u001b[0;34m\u001b[0m\u001b[0;34m\u001b[0m\u001b[0m\n\u001b[1;32m     62\u001b[0m             \u001b[0;32mif\u001b[0m \u001b[0mextra_args\u001b[0m \u001b[0;34m<=\u001b[0m \u001b[0;36m0\u001b[0m\u001b[0;34m:\u001b[0m\u001b[0;34m\u001b[0m\u001b[0;34m\u001b[0m\u001b[0m\n\u001b[0;32m---> 63\u001b[0;31m                 \u001b[0;32mreturn\u001b[0m \u001b[0mf\u001b[0m\u001b[0;34m(\u001b[0m\u001b[0;34m*\u001b[0m\u001b[0margs\u001b[0m\u001b[0;34m,\u001b[0m \u001b[0;34m**\u001b[0m\u001b[0mkwargs\u001b[0m\u001b[0;34m)\u001b[0m\u001b[0;34m\u001b[0m\u001b[0;34m\u001b[0m\u001b[0m\n\u001b[0m\u001b[1;32m     64\u001b[0m \u001b[0;34m\u001b[0m\u001b[0m\n\u001b[1;32m     65\u001b[0m             \u001b[0;31m# extra_args > 0\u001b[0m\u001b[0;34m\u001b[0m\u001b[0;34m\u001b[0m\u001b[0;34m\u001b[0m\u001b[0m\n",
      "\u001b[0;32m~/anaconda3/envs/flu_pred/lib/python3.7/site-packages/sklearn/metrics/_ranking.py\u001b[0m in \u001b[0;36mroc_auc_score\u001b[0;34m(y_true, y_score, average, sample_weight, max_fpr, multi_class, labels)\u001b[0m\n\u001b[1;32m    548\u001b[0m                                              max_fpr=max_fpr),\n\u001b[1;32m    549\u001b[0m                                      \u001b[0my_true\u001b[0m\u001b[0;34m,\u001b[0m \u001b[0my_score\u001b[0m\u001b[0;34m,\u001b[0m \u001b[0maverage\u001b[0m\u001b[0;34m,\u001b[0m\u001b[0;34m\u001b[0m\u001b[0;34m\u001b[0m\u001b[0m\n\u001b[0;32m--> 550\u001b[0;31m                                      sample_weight=sample_weight)\n\u001b[0m\u001b[1;32m    551\u001b[0m \u001b[0;34m\u001b[0m\u001b[0m\n\u001b[1;32m    552\u001b[0m \u001b[0;34m\u001b[0m\u001b[0m\n",
      "\u001b[0;32m~/anaconda3/envs/flu_pred/lib/python3.7/site-packages/sklearn/metrics/_base.py\u001b[0m in \u001b[0;36m_average_binary_score\u001b[0;34m(binary_metric, y_true, y_score, average, sample_weight)\u001b[0m\n\u001b[1;32m     72\u001b[0m     \u001b[0my_type\u001b[0m \u001b[0;34m=\u001b[0m \u001b[0mtype_of_target\u001b[0m\u001b[0;34m(\u001b[0m\u001b[0my_true\u001b[0m\u001b[0;34m)\u001b[0m\u001b[0;34m\u001b[0m\u001b[0;34m\u001b[0m\u001b[0m\n\u001b[1;32m     73\u001b[0m     \u001b[0;32mif\u001b[0m \u001b[0my_type\u001b[0m \u001b[0;32mnot\u001b[0m \u001b[0;32min\u001b[0m \u001b[0;34m(\u001b[0m\u001b[0;34m\"binary\"\u001b[0m\u001b[0;34m,\u001b[0m \u001b[0;34m\"multilabel-indicator\"\u001b[0m\u001b[0;34m)\u001b[0m\u001b[0;34m:\u001b[0m\u001b[0;34m\u001b[0m\u001b[0;34m\u001b[0m\u001b[0m\n\u001b[0;32m---> 74\u001b[0;31m         \u001b[0;32mraise\u001b[0m \u001b[0mValueError\u001b[0m\u001b[0;34m(\u001b[0m\u001b[0;34m\"{0} format is not supported\"\u001b[0m\u001b[0;34m.\u001b[0m\u001b[0mformat\u001b[0m\u001b[0;34m(\u001b[0m\u001b[0my_type\u001b[0m\u001b[0;34m)\u001b[0m\u001b[0;34m)\u001b[0m\u001b[0;34m\u001b[0m\u001b[0;34m\u001b[0m\u001b[0m\n\u001b[0m\u001b[1;32m     75\u001b[0m \u001b[0;34m\u001b[0m\u001b[0m\n\u001b[1;32m     76\u001b[0m     \u001b[0;32mif\u001b[0m \u001b[0my_type\u001b[0m \u001b[0;34m==\u001b[0m \u001b[0;34m\"binary\"\u001b[0m\u001b[0;34m:\u001b[0m\u001b[0;34m\u001b[0m\u001b[0;34m\u001b[0m\u001b[0m\n",
      "\u001b[0;31mValueError\u001b[0m: continuous format is not supported"
     ]
    }
   ],
   "source": [
    "roc_auc_score(preds, gt_datas)"
   ]
  },
  {
   "cell_type": "code",
   "execution_count": null,
   "id": "f4c9f836",
   "metadata": {},
   "outputs": [],
   "source": [
    "def split_train_test(data, test_ratio):\n",
    "    shuffled_indices = np.random.permutation(len(data)).astype(int)\n",
    "    test_set_size = int(len(data) * test_ratio)\n",
    "    \n",
    "    test_indices = shuffled_indices[:test_set_size]\n",
    "    train_indices = shuffled_indices[test_set_size:]\n",
    "    \n",
    "    print(len(data))\n",
    "    print(test_indices.dtype)\n",
    "    print(train_indices.dtype)\n",
    "    \n",
    "    test_data = data[:test_set_size]\n",
    "    train_data = data[test_set_size:]\n",
    "    test_data = data[test_indices]\n",
    "    train_data = data[train_indices]\n",
    "    \n",
    "    return train_data, test_data"
   ]
  },
  {
   "cell_type": "code",
   "execution_count": null,
   "id": "c068d5ac",
   "metadata": {},
   "outputs": [],
   "source": [
    "def split_input_gt(non_split_data):\n",
    "    splited_input = non_split_data[:, :-1]\n",
    "    splited_gt = non_split_data[:, -1]\n",
    "    \n",
    "    return splited_input, splited_gt"
   ]
  },
  {
   "cell_type": "code",
   "execution_count": null,
   "id": "05543985",
   "metadata": {},
   "outputs": [],
   "source": [
    "not_test_datas, test_datas = split_train_test(raw_datas, test_ratio=0.2)\n",
    "train_datas, valid_datas = split_train_test(not_test_datas, test_ratio=0.2)\n",
    "\n",
    "train_input, train_gt = split_input_gt(train_datas)\n",
    "valid_input, valid_gt = split_input_gt(valid_datas)\n",
    "test_input, test_gt = split_input_gt(test_datas)"
   ]
  },
  {
   "cell_type": "code",
   "execution_count": null,
   "id": "b0b4048d",
   "metadata": {},
   "outputs": [],
   "source": [
    "print(train_input.shape, train_gt.shape, valid_input.shape, valid_gt.shape, test_input.shape, test_gt.shape)"
   ]
  },
  {
   "cell_type": "code",
   "execution_count": null,
   "id": "51d4da6d",
   "metadata": {},
   "outputs": [],
   "source": [
    "print(\"# of train data positive: \", train_gt.sum())\n",
    "print(\"# of train data negative: \", train_gt.shape[0] - train_gt.sum())\n",
    "print(\"ratio of P/N: \", train_gt.sum()/(train_gt.shape[0] - train_gt.sum()))\n",
    "print(\"\")\n",
    "\n",
    "print(\"# of valid data positive: \", valid_gt.sum())\n",
    "print(\"# of valid data negative: \", valid_gt.shape[0] - valid_gt.sum())\n",
    "print(\"ratio of P/N: \", valid_gt.sum()/(valid_gt.shape[0] - valid_gt.sum()))\n",
    "print(\"\")\n",
    "\n",
    "print(\"# of test data positive: \", test_gt.sum())\n",
    "print(\"# of test data negative: \", test_gt.shape[0] - test_gt.sum())\n",
    "print(\"ratio of P/N: \", test_gt.sum()/(test_gt.shape[0] - test_gt.sum()))"
   ]
  },
  {
   "cell_type": "code",
   "execution_count": null,
   "id": "f0abc129",
   "metadata": {},
   "outputs": [],
   "source": [
    "class IsraelDataset(Dataset):\n",
    "    def __init__(self, input_data, gt, transform=None, target_transform=None):\n",
    "        self.input_data = input_data\n",
    "        self.gt = gt\n",
    "        self.transform = transform\n",
    "        self.target_transform = target_transform\n",
    "    \n",
    "    def __len__(self):\n",
    "        return len(self.input_data)\n",
    "    \n",
    "    def __getitem__(self, idx):\n",
    "        return self.input_data[idx], self.gt[idx]"
   ]
  },
  {
   "cell_type": "code",
   "execution_count": null,
   "id": "60771561",
   "metadata": {},
   "outputs": [],
   "source": [
    "# def plot_roc_curve(fper, tper):\n",
    "#     plt.plot(fper, tper, color='red', label='ROC')\n",
    "#     plt.plot([0, 1], [0, 1], color='green', linestyle='--')\n",
    "#     plt.xlabel('False Positive Rate')\n",
    "#     plt.ylabel('True Positive Rate')\n",
    "#     plt.title('Receiver Operating Characteristic Curve')\n",
    "#     plt.legend()\n",
    "#     plt.show()"
   ]
  },
  {
   "cell_type": "code",
   "execution_count": null,
   "id": "cea8c206",
   "metadata": {},
   "outputs": [],
   "source": [
    "def display_performance(clf, pred, valid_input, valid_gt):\n",
    "    pred = np.array(pred)\n",
    "\n",
    "    print('accuracy %.4f' % (accuracy_score(pred, valid_gt)))\n",
    "    print('precision %.4f' % (precision_score(pred, valid_gt)))\n",
    "    print('recall %.4f' % (recall_score(pred, valid_gt)))\n",
    "    print('f1-score %.4f' % (f1_score(pred, valid_gt)))\n",
    "    print(confusion_matrix(pred, valid_gt))\n",
    "    plot_roc_curve(clf, valid_input, valid_gt)"
   ]
  },
  {
   "cell_type": "code",
   "execution_count": null,
   "id": "1955c07b",
   "metadata": {},
   "outputs": [],
   "source": [
    "from sklearn import tree\n",
    "from sklearn.tree import DecisionTreeClassifier\n",
    "from sklearn.linear_model import LogisticRegression\n",
    "from sklearn.metrics import accuracy_score, precision_score, recall_score, f1_score, confusion_matrix\n",
    "\n",
    "logistic_clf = LogisticRegression(C=1000.0, random_state=0)\n",
    "logistic_clf = logistic_clf.fit(train_input, train_gt)"
   ]
  },
  {
   "cell_type": "code",
   "execution_count": null,
   "id": "8100c6ab",
   "metadata": {},
   "outputs": [],
   "source": [
    "pred = logistic_clf.predict(valid_input)\n",
    "display_performance(logistic_clf, pred, valid_input, valid_gt)"
   ]
  },
  {
   "cell_type": "code",
   "execution_count": null,
   "id": "d42da9f4",
   "metadata": {},
   "outputs": [],
   "source": [
    "from sklearn.ensemble import RandomForestClassifier\n",
    "rf_clf = RandomForestClassifier(n_estimators=5, random_state=0)\n",
    "rf_clf.fit(train_input, train_gt)"
   ]
  },
  {
   "cell_type": "code",
   "execution_count": null,
   "id": "98f1b526",
   "metadata": {
    "scrolled": true
   },
   "outputs": [],
   "source": [
    "pred = rf_clf.predict(valid_input)\n",
    "display_performance(logistic_clf, pred, valid_input, valid_gt)"
   ]
  },
  {
   "cell_type": "code",
   "execution_count": null,
   "id": "99a54522",
   "metadata": {},
   "outputs": [],
   "source": [
    "dt_clf = DecisionTreeClassifier(random_state=0)\n",
    "dt_clf.fit(train_input, train_gt)"
   ]
  },
  {
   "cell_type": "code",
   "execution_count": null,
   "id": "bad0f8e9",
   "metadata": {},
   "outputs": [],
   "source": [
    "pred = dt_clf.predict(valid_input)\n",
    "display_performance(logistic_clf, pred, valid_input, valid_gt)"
   ]
  },
  {
   "cell_type": "code",
   "execution_count": null,
   "id": "021a3ec3",
   "metadata": {},
   "outputs": [],
   "source": [
    "from sklearn.ensemble import GradientBoostingClassifier\n",
    "gb_clf = GradientBoostingClassifier(random_state=0)\n",
    "gb_clf.fit(train_input, train_gt)"
   ]
  },
  {
   "cell_type": "code",
   "execution_count": null,
   "id": "bcbf4fa9",
   "metadata": {},
   "outputs": [],
   "source": [
    "pred = gb_clf.predict(valid_input)\n",
    "display_performance(logistic_clf, pred, valid_input, valid_gt)"
   ]
  },
  {
   "cell_type": "code",
   "execution_count": null,
   "id": "53525b9e",
   "metadata": {},
   "outputs": [],
   "source": [
    "class BaselineModel(nn.Module):\n",
    "    def __init__(self):\n",
    "        super(BaselineModel, self).__init__()\n",
    "#         nn.BatchNorm1d(9)\n",
    "        self.fcs1 = nn.Sequential(\n",
    "            nn.Linear(9, 400),\n",
    "            nn.BatchNorm1d(400),\n",
    "            nn.ReLU()\n",
    "        )\n",
    "#         dropout 넣기\n",
    "#         nn.linear, L1 norm L2 norm\n",
    "        self.fcs2 = nn.Sequential(\n",
    "            nn.Linear(400, 400),\n",
    "            nn.BatchNorm1d(400),\n",
    "            nn.ReLU()\n",
    "        )\n",
    "        self.fcs3 = nn.Sequential(\n",
    "            nn.Linear(400, 400),\n",
    "            nn.BatchNorm1d(400),\n",
    "            nn.ReLU()\n",
    "        )\n",
    "        self.fcs4 = nn.Sequential(\n",
    "            nn.Linear(400, 400),\n",
    "            nn.BatchNorm1d(400),\n",
    "            nn.ReLU()\n",
    "        )\n",
    "        self.fcs5 = nn.Sequential(\n",
    "            nn.Linear(400, 1),\n",
    "            nn.Sigmoid()\n",
    "        )\n",
    "    \n",
    "    def forward(self, x):\n",
    "        x = self.fcs1(x)\n",
    "        x = x + self.fcs2(x)\n",
    "        x = x + self.fcs3(x)\n",
    "        x = x + self.fcs4(x)\n",
    "        pred = self.fcs5(x)\n",
    "        return pred"
   ]
  },
  {
   "cell_type": "code",
   "execution_count": null,
   "id": "63c22fda",
   "metadata": {},
   "outputs": [],
   "source": [
    "training_data = IsraelDataset(torch.Tensor(train_input), torch.Tensor(train_gt.reshape(-1, 1)))\n",
    "valid_data = IsraelDataset(torch.Tensor(valid_input), torch.Tensor(valid_gt.reshape(-1, 1)))\n",
    "\n",
    "train_dataloader = DataLoader(training_data, batch_size = 128, shuffle=False)\n",
    "valid_dataloader = DataLoader(valid_data, batch_size=1, shuffle=False)\n",
    "\n",
    "valid_input.shape"
   ]
  },
  {
   "cell_type": "code",
   "execution_count": null,
   "id": "39a19156",
   "metadata": {},
   "outputs": [],
   "source": [
    "device = 'cuda' if torch.cuda.is_available() else 'cpu'\n",
    "print(device)"
   ]
  },
  {
   "cell_type": "code",
   "execution_count": null,
   "id": "6b17dc08",
   "metadata": {},
   "outputs": [],
   "source": [
    "model = BaselineModel().to(device)\n",
    "criterion = nn.BCELoss()\n",
    "optimizer = optim.Adam(model.parameters(), lr=0.001) # lr 크기좀 늘려보기"
   ]
  },
  {
   "cell_type": "code",
   "execution_count": null,
   "id": "16fcc7b5",
   "metadata": {},
   "outputs": [],
   "source": [
    "# train_running_loss = 0.0\n",
    "# num_epochs = 20\n",
    "\n",
    "# for epoch in tqdm(range(num_epochs)):\n",
    "#     model.train()\n",
    "#     for train_data in tqdm(train_dataloader):\n",
    "#         train_inputs, train_labels = train_data\n",
    "#         train_inputs = train_inputs.to(device)\n",
    "#         train_labels = train_labels.to(device)\n",
    "\n",
    "#         optimizer.zero_grad()\n",
    "        \n",
    "#         train_outputs = model(train_inputs)\n",
    "#         train_loss = criterion(train_outputs, train_labels)\n",
    "#         train_loss.backward()\n",
    "#         optimizer.step()\n",
    "    \n",
    "#     model.eval()\n",
    "\n",
    "#     pred = []\n",
    "#     positive_res_data = []\n",
    "#     negative_res_data = []\n",
    "#     for valid_data in tqdm(valid_dataloader):\n",
    "#         valid_inputs, train_labels = valid_data\n",
    "#         valid_outputs = model(torch.Tensor(valid_inputs).to(device))\n",
    "#         if valid_outputs[0][0].item() > 0.5:\n",
    "#             pred.append([valid_outputs[0][0].item()])\n",
    "#             positive_res_data.append(valid_inputs.numpy().tolist())\n",
    "#         else:\n",
    "#             pred.append([valid_outputs[0][0].item()])\n",
    "#             negative_res_data.append(valid_inputs.numpy().tolist())\n",
    "            \n",
    "#     display_performance(pred, valid_gt)\n",
    "\n",
    "#     print('Done')\n",
    "# display_performance(model, pred, valid_input, valid_gt)"
   ]
  },
  {
   "cell_type": "code",
   "execution_count": null,
   "id": "e4ce0b53",
   "metadata": {},
   "outputs": [],
   "source": [
    "# model.eval()\n",
    "\n",
    "# pred = []\n",
    "# positive_res_data = []\n",
    "# negative_res_data = []\n",
    "# for valid_data in tqdm(valid_dataloader):\n",
    "        \n",
    "#     valid_inputs, train_labels = valid_data\n",
    "#     valid_outputs = model(torch.Tensor(valid_inputs).to(device))\n",
    "#     if valid_outputs[0][0].item() > 0.5:\n",
    "#         pred.append([1])\n",
    "#         positive_res_data.append(valid_inputs.numpy().tolist())\n",
    "#     else:\n",
    "#         pred.append([0])\n",
    "#         negative_res_data.append(valid_inputs.numpy().tolist())"
   ]
  },
  {
   "cell_type": "code",
   "execution_count": null,
   "id": "aa9fe818",
   "metadata": {},
   "outputs": [],
   "source": [
    "# def display_performance(pred, valid_gt):\n",
    "#     pred = np.array(pred)\n",
    "\n",
    "#     print('accuracy %.4f' % (accuracy_score(pred, valid_gt)))\n",
    "#     print('precision %.4f' % (precision_score(pred, valid_gt)))\n",
    "#     print('recall %.4f' % (recall_score(pred, valid_gt)))\n",
    "#     print('f1-score %.4f' % (f1_score(pred, valid_gt)))\n",
    "#     print(confusion_matrix(pred, valid_gt))\n",
    "#     fper, tper, thresholds = roc_curve(pred, valid_gt)\n",
    "#     print(tper)\n",
    "#     print(fper)\n",
    "#     print(thresholds)\n",
    "#     print(roc_auc_score(valid_gt, pred))\n",
    "#     optimal_idx = np.argmax(tper - fper)\n",
    "#     optimal_threshold = thresholds[optimal_idx]\n",
    "#     print(\"Threshold value is:\", optimal_threshold)\n",
    "#     # plot_roc_curve(fpr, tpr)\n",
    "#     plot_roc_curve(fper, tper)"
   ]
  },
  {
   "cell_type": "markdown",
   "id": "2a7b77b3",
   "metadata": {},
   "source": [
    "### 8-feature - epoch 1\n",
    "- accuracy 0.8779\n",
    "- precision 0.2652\n",
    "- recall 0.4887\n",
    "- f1-score 0.3438\n",
    "\n",
    "### 8-feature - epoch 10\n",
    "- accuracy 0.1348\n",
    "- precision 0.9928\n",
    "- recall 0.1217\n",
    "- f1-score 0.2169\n",
    "\n",
    "### 9-feature(isolated_today_contact_with_confirmed or new_contact_with_confirmed)\n",
    "- accuracy 0.8793\n",
    "- precision 0.0000\n",
    "- 모두 음성으로 판단하는 대참사\n",
    "\n",
    "### 9-feature(isolated_today_contact_with_confirmed or new_contact_with_confirmed) - epoch 5\n",
    "- accuracy 0.8699\n",
    "- precision 0.5792\n",
    "- recall 0.4685\n",
    "- f1-score 0.5180\n",
    "\n",
    "### 9-feature(contact) - epoch 20\n",
    "- accuracy 0.8702\n",
    "- precision 0.2208\n",
    "- recall 0.4144\n",
    "- f1-score 0.2881\n",
    "\n",
    "### 9-feature(positive ratio) - epoch 20\n",
    "- accuracy 0.7904\n",
    "- precision 0.5766\n",
    "- recall 0.3010\n",
    "- f1-score 0.3956\n",
    "\n",
    "### 10-feature( 'positive_ratio', 'contact') - epoch 20\n",
    "- accuracy 0.8713\n",
    "- precision 0.5797\n",
    "- recall 0.4671\n",
    "- f1-score 0.5174\n",
    "\n",
    "### 12-feature('contact', 'positive_ratio', 'weekday_ratio', 'confirmed_ratio') - epoch 20\n",
    "- accuracy 0.8698\n",
    "- precision 0.5809\n",
    "- recall 0.4650\n",
    "- f1-score 0.5166\n",
    "\n",
    "\n",
    "accuracy 0.8793\n",
    "precision 0.1684\n",
    "recall 0.4877\n",
    "f1-score 0.2503\n",
    "[[740307  85788]\n",
    " [ 18244  17368]]"
   ]
  },
  {
   "cell_type": "code",
   "execution_count": null,
   "id": "9916bdf4",
   "metadata": {},
   "outputs": [],
   "source": [
    "df_pos = pd.DataFrame(np.array(positive_res_data).reshape(-1, 8), columns=['cough', 'fever', 'sore_throat', 'shortness_of_breath', 'head_ache', 'age_60_and_above', 'gender', 'test_indication'])\n",
    "df_neg = pd.DataFrame(np.array(negative_res_data).reshape(-1, 8), columns=['cough', 'fever', 'sore_throat', 'shortness_of_breath', 'head_ache', 'age_60_and_above', 'gender', 'test_indication'])"
   ]
  },
  {
   "cell_type": "code",
   "execution_count": null,
   "id": "fa3ba22e",
   "metadata": {},
   "outputs": [],
   "source": [
    "print(f\"양성 갯수: {df_pos.shape[0]}, 음성 갯수: {df_neg.shape[0]}, 양성 / 음성 비율: {round(df_pos.shape[0] / df_neg.shape[0] * 100, 2)}%\")"
   ]
  },
  {
   "cell_type": "code",
   "execution_count": null,
   "id": "0022f2cb",
   "metadata": {},
   "outputs": [],
   "source": [
    "df_pos_symptom_cnt = [0] * 6\n",
    "df_neg_symptom_cnt = [0] * 6\n",
    "pos_symptom_confusion_matrix = np.zeros((2,2,2,2,2), dtype=int)\n",
    "neg_symptom_confusion_matrix = np.zeros((2,2,2,2,2), dtype=int)\n",
    "\n",
    "for idx, row in tqdm(df_pos.iterrows()):\n",
    "    symptoms = row[['cough', 'fever', 'sore_throat', 'shortness_of_breath', 'head_ache']].astype(int).tolist()\n",
    "    pos_symptom_confusion_matrix[symptoms[0], symptoms[1], symptoms[2], symptoms[3], symptoms[4]] += 1\n",
    "    cnt_idx = int(sum(symptoms))\n",
    "    df_pos_symptom_cnt[cnt_idx] += 1\n",
    "    \n",
    "for idx, row in tqdm(df_neg.iterrows()):\n",
    "    #     if idx == df_pos.shape[0]: break\n",
    "    symptoms = row[['cough', 'fever', 'sore_throat', 'shortness_of_breath', 'head_ache']].astype(int).tolist()\n",
    "    neg_symptom_confusion_matrix[symptoms[0], symptoms[1], symptoms[2], symptoms[3], symptoms[4]] += 1\n",
    "    cnt_idx = int(sum(symptoms))\n",
    "    df_neg_symptom_cnt[cnt_idx] += 1"
   ]
  },
  {
   "cell_type": "code",
   "execution_count": null,
   "id": "f9dbfeb4",
   "metadata": {},
   "outputs": [],
   "source": [
    "df_pos.shape[0], df_neg.shape[0]"
   ]
  },
  {
   "cell_type": "code",
   "execution_count": null,
   "id": "3f2f18b1",
   "metadata": {},
   "outputs": [],
   "source": [
    "def positive_percent_of_ormore_number(number):\n",
    "    neg_ormore_num = sum(df_neg_symptom_cnt[number:])\n",
    "    pos_ormore_num = sum(df_pos_symptom_cnt[number:])\n",
    "    total = neg_ormore_num + pos_ormore_num\n",
    "    if total == 0: 'lower the number'\n",
    "    return round((pos_ormore_num / total) * 100, 2)"
   ]
  },
  {
   "cell_type": "code",
   "execution_count": null,
   "id": "1c27c092",
   "metadata": {},
   "outputs": [],
   "source": [
    "print(f\"음성 예측 데이터 [0개, 1개, 2개, 3개, 4개, 5개] : {df_neg_symptom_cnt[:6]}\")\n",
    "print(f\"양성 예측 데이터 [0개, 1개, 2개, 3개, 4개, 5개] : {df_pos_symptom_cnt[:6]}\\n\")\n",
    "\n",
    "for number in range(6):\n",
    "    print(f\"{number}개 이상] {positive_percent_of_ormore_number(number)}% 양성\")\n",
    "    print(f\"증상 {number}개] 음성/양성% : {round(df_neg_symptom_cnt[number] / df_pos_symptom_cnt[number]*100, 2)}%\\n\")"
   ]
  },
  {
   "cell_type": "code",
   "execution_count": null,
   "id": "8591d40e",
   "metadata": {},
   "outputs": [],
   "source": [
    "pos_symptom_confusion_matrix"
   ]
  },
  {
   "cell_type": "code",
   "execution_count": null,
   "id": "ce20782f",
   "metadata": {},
   "outputs": [],
   "source": [
    "def confusion_matrix_display(confusion_matrix):\n",
    "    for i in range(32):\n",
    "        idx = bin(i).replace(\"0b\", \"0\" * (7-len(bin(i))))\n",
    "        cnt = 0\n",
    "        if idx[0] == '1': \n",
    "            print('[ cough',end = ' ')\n",
    "            cnt += 1\n",
    "        if idx[1] == '1': \n",
    "            print('fever',end = ' ')\n",
    "            cnt += 1\n",
    "        if idx[2] == '1': \n",
    "            print('sore_throat',end = ' ')\n",
    "            cnt += 1\n",
    "        if idx[3] == '1': \n",
    "            print('shortness_of_breath',end = ' ')\n",
    "            cnt += 1\n",
    "        if idx[4] == '1': \n",
    "            print('head_ache',end = ' ')\n",
    "            cnt += 1\n",
    "        print(f'{cnt}개 증상 ]')\n",
    "            \n",
    "        print(confusion_matrix[int(idx[0]),int(idx[1]),int(idx[2]),int(idx[3]),int(idx[4])])"
   ]
  },
  {
   "cell_type": "code",
   "execution_count": null,
   "id": "0d5577d5",
   "metadata": {},
   "outputs": [],
   "source": [
    "confusion_matrix_display(neg_symptom_confusion_matrix)"
   ]
  },
  {
   "cell_type": "code",
   "execution_count": null,
   "id": "685df3a9",
   "metadata": {},
   "outputs": [],
   "source": [
    "confusion_matrix_display(pos_symptom_confusion_matrix)"
   ]
  },
  {
   "cell_type": "code",
   "execution_count": null,
   "id": "5b65ac8f",
   "metadata": {},
   "outputs": [],
   "source": [
    "pred = np.array(pred)\n",
    "\n",
    "print('accuracy %.4f' % (accuracy_score(pred, valid_gt)))\n",
    "print('precision %.4f' % (precision_score(pred, valid_gt)))\n",
    "print('recall %.4f' % (recall_score(pred, valid_gt)))\n",
    "print('f1-score %.4f' % (f1_score(pred, valid_gt)))\n",
    "print(confusion_matrix(pred, valid_gt))"
   ]
  },
  {
   "cell_type": "code",
   "execution_count": null,
   "id": "71c781b6",
   "metadata": {},
   "outputs": [],
   "source": [
    "pred\n",
    "# pred_chk"
   ]
  },
  {
   "cell_type": "markdown",
   "id": "6810aefe",
   "metadata": {},
   "source": [
    "### random forest result\n",
    "- accuracy 0.9257\n",
    "- precision 0.2314\n",
    "- recall 0.5553\n",
    "- f1-score 0.3267\n",
    "- [[791936  52206]\n",
    "- [ 12591  15720]]\n",
    "\n",
    "### 1-layer sigmoid epoch3 result\n",
    "- accuracy 0.9222\n",
    "- precision 0.1958\n",
    "- recall 0.5013\n",
    "- f1-score 0.2816\n",
    "- [[791299  54627]\n",
    "- [ 13228  13299]]\n",
    "\n",
    "### compare with logistic regression\n",
    "- accuracy 0.9224\n",
    "- precision 0.1953\n",
    "- recall 0.5049\n",
    "- f1-score 0.2816\n",
    "- [[791517  54661]\n",
    "- [ 13010  13265]]\n",
    "\n",
    "### 2-layer epoch3 result\n",
    "- 8-4-1(sig-sig)\n",
    "- accuracy 0.9248\n",
    "- precision 0.2626\n",
    "- recall 0.5342\n",
    "- f1-score 0.3521\n",
    "- [[788976  50090]\n",
    "-  [ 15551  17836]]\n",
    "\n",
    "### 2-layer epoch3 result\n",
    "- 8-4-1(relu-sig)\n",
    "- accuracy 0.9256 \n",
    "- precision 0.1999\n",
    "- recall 0.5635\n",
    "- f1-score 0.2951\n",
    "- [[794008  54349]\n",
    "- [ 10519  13577]]\n",
    "\n",
    "### 2-layer epoch3 result\n",
    "- 8-20-1(relu-sig)\n",
    "- accuracy 0.9255\n",
    "- precision 0.2392\n",
    "- recall 0.5498\n",
    "- f1-score 0.3333\n",
    "- [[791226  51680]\n",
    "-  [ 13301  16246]]\n",
    "\n",
    "### 2-layer epcoh3 result \n",
    "- 8-400-1(relu-sig)\n",
    "- accuracy 0.9256\n",
    "- precision 0.2904\n",
    "- recall 0.5415\n",
    "- f1-score 0.3781\n",
    "- [[787821  48197]\n",
    "- [ 16706  19729]]\n",
    "\n",
    "### 3-layer epoch3 result\n",
    "- 8-4-2-1 (relu-relu-sigmoid) (sigmoid-sigmoid-sigmoid 동일한 결과)\n",
    "- accuracy 0.9221\n",
    "- precision 0.0000\n",
    "- recall 0.0000\n",
    "- f1-score 0.0000\n",
    "- [[804527  67926]\n",
    "-  [     0      0]]\n",
    "- 확인 결과 모든 출력을 음성으로 출력함(1-layer가 오히려 낫네?)"
   ]
  },
  {
   "cell_type": "markdown",
   "id": "18069c58",
   "metadata": {},
   "source": [
    "## 시간 순서대로 train, valid, test 나눔\n",
    "\n",
    "### Logistic Regression\n",
    "- accuracy 0.8782\n",
    "- precision 0.2240\n",
    "- recall 0.4901\n",
    "- f1-score 0.3075\n",
    "- [[742649  81690]\n",
    "  [ 24533  23581]]\n",
    "  \n",
    "### Random Forest\n",
    "- accuracy 0.8761\n",
    "- precision 0.4298\n",
    "- recall 0.4848\n",
    "- f1-score 0.4556\n",
    "- [[719101  60026]\n",
    "- [ 48081  45245]]\n",
    "\n",
    "### Decision Tree\n",
    "- accuracy 0.8761\n",
    "- precision 0.4299\n",
    "- recall 0.4848\n",
    "- f1-score 0.4557\n",
    "- [[719094  60017]\n",
    "- [ 48088  45254]]\n",
    "\n",
    "### Gradient Boosting \n",
    "- accuracy 0.8789\n",
    "- precision 0.3059\n",
    "- recall 0.4973\n",
    "- f1-score 0.3788\n",
    "- [[734633  73070]\n",
    "- [ 32549  32201]]\n",
    "\n",
    "### 3-layer NN \n",
    "- epochs = 10, batch_size = 128\n",
    "- 8-1200-1\n",
    "- accuracy 0.8699\n",
    "- precision 0.5794\n",
    "- recall 0.4683\n",
    "- f1-score 0.5180\n",
    "- [[697921  44274]\n",
    "- [ 69261  60997]]"
   ]
  },
  {
   "cell_type": "code",
   "execution_count": null,
   "id": "1feaff3d",
   "metadata": {},
   "outputs": [],
   "source": []
  },
  {
   "cell_type": "code",
   "execution_count": null,
   "id": "4231d105",
   "metadata": {},
   "outputs": [],
   "source": []
  },
  {
   "cell_type": "code",
   "execution_count": null,
   "id": "27faffda",
   "metadata": {},
   "outputs": [],
   "source": []
  },
  {
   "cell_type": "code",
   "execution_count": null,
   "id": "2f90905f",
   "metadata": {},
   "outputs": [],
   "source": []
  },
  {
   "cell_type": "code",
   "execution_count": null,
   "id": "9730698a",
   "metadata": {},
   "outputs": [],
   "source": []
  },
  {
   "cell_type": "code",
   "execution_count": null,
   "id": "85a0f7b6",
   "metadata": {},
   "outputs": [],
   "source": []
  }
 ],
 "metadata": {
  "kernelspec": {
   "display_name": "Python 3",
   "language": "python",
   "name": "python3"
  },
  "language_info": {
   "codemirror_mode": {
    "name": "ipython",
    "version": 3
   },
   "file_extension": ".py",
   "mimetype": "text/x-python",
   "name": "python",
   "nbconvert_exporter": "python",
   "pygments_lexer": "ipython3",
   "version": "3.8.10"
  }
 },
 "nbformat": 4,
 "nbformat_minor": 5
}
