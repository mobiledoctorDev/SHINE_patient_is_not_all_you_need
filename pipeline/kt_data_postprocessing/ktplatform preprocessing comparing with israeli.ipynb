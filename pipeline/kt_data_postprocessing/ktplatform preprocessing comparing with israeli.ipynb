{
 "cells": [
  {
   "cell_type": "code",
   "execution_count": null,
   "id": "83fc3269",
   "metadata": {},
   "outputs": [],
   "source": [
    "from reversegeocoding import ReverGeoCoder\n",
    "from db_connector import DBConnector\n",
    "from location_processor import LocationProcessor\n",
    "from common import *\n",
    "from symptom_processor import SymptomProcessor\n",
    "\n",
    "from datetime import datetime\n",
    "from sklearn.metrics import roc_auc_score, plot_roc_curve\n",
    "\n",
    "import json\n",
    "import math\n",
    "import matplotlib.pyplot as plt\n",
    "import numpy as np\n",
    "import pandas as pd\n",
    "pd.set_option('display.max_columns', 50)\n",
    "pd.set_option('display.max_rows', 1000)\n",
    "\n",
    "\n",
    "import mysql.connector\n",
    "import seaborn as sns\n",
    "from datetime import date\n",
    "from datetime import datetime\n",
    "from datetime import timedelta\n",
    "\n",
    "from getpass import getpass\n",
    "import os\n",
    "import glob\n",
    "import torch\n",
    "import torchvision\n",
    "import torchvision.transforms as transforms\n",
    "from torch import nn, optim\n",
    "\n",
    "import torch.nn.functional as F\n",
    "import math, copy, time\n",
    "from torch.autograd import Variable\n",
    "from torch.utils.data import Dataset\n",
    "from torch.utils.data import DataLoader\n",
    "from itertools import cycle\n",
    "from tqdm.notebook import tqdm\n",
    "import re\n",
    "from sklearn.metrics import roc_auc_score, plot_roc_curve, roc_curve\n",
    "\n",
    "import matplotlib.pyplot as plt\n",
    "import seaborn\n",
    "from collections import defaultdict\n",
    "import shap\n",
    "\n",
    "from sklearn import svm"
   ]
  },
  {
   "cell_type": "code",
   "execution_count": null,
   "id": "ef8cc36f",
   "metadata": {},
   "outputs": [],
   "source": [
    "geo_coder = ReverGeoCoder()\n",
    "db_connector = DBConnector()\n",
    "location_processor = LocationProcessor()"
   ]
  },
  {
   "cell_type": "code",
   "execution_count": null,
   "id": "c5be0236",
   "metadata": {},
   "outputs": [],
   "source": [
    "df_pcr = db_connector.get_df(\"SELECT * FROM shine2_general_pcr\")"
   ]
  },
  {
   "cell_type": "code",
   "execution_count": null,
   "id": "887e7f04",
   "metadata": {},
   "outputs": [],
   "source": [
    "df_pcr = location_processor.limit_to_korea_location(df_pcr)"
   ]
  },
  {
   "cell_type": "code",
   "execution_count": null,
   "id": "6b932dbd",
   "metadata": {},
   "outputs": [],
   "source": [
    "df_pcr_loc = geo_coder.query_df(df_pcr)"
   ]
  },
  {
   "cell_type": "markdown",
   "id": "e9283012",
   "metadata": {},
   "source": [
    "### 샤인데이터에 들어있는 시군구 리스트 이름 뽑아와서 주소를 시군구로 바꿔주는 작업"
   ]
  },
  {
   "cell_type": "code",
   "execution_count": null,
   "id": "2d33fca6",
   "metadata": {},
   "outputs": [],
   "source": [
    "df_pcr_loc = location_processor.make_sidosigungu_columns(df_pcr_loc)"
   ]
  },
  {
   "cell_type": "code",
   "execution_count": null,
   "id": "fe8c28a5",
   "metadata": {},
   "outputs": [],
   "source": [
    "df_pcr_loc.head()"
   ]
  },
  {
   "cell_type": "markdown",
   "id": "76a50149",
   "metadata": {},
   "source": [
    "### 이벤트 기간\n",
    "- 1차: 2.28~4.4\n",
    "- 2차: 8.16~10.30"
   ]
  },
  {
   "cell_type": "markdown",
   "id": "2d4f415e",
   "metadata": {},
   "source": [
    "### 여기서 일단 sigungu 있는 애들만 따로 저장"
   ]
  },
  {
   "cell_type": "code",
   "execution_count": null,
   "id": "33e7054a",
   "metadata": {},
   "outputs": [],
   "source": [
    "df_pcr_loc = (df_pcr_loc[~((df_pcr_loc['sido'] == '') | (df_pcr_loc['sigungu'] == ''))])"
   ]
  },
  {
   "cell_type": "code",
   "execution_count": null,
   "id": "83cb644a",
   "metadata": {},
   "outputs": [],
   "source": [
    "df_pcr_loc.head()"
   ]
  },
  {
   "cell_type": "code",
   "execution_count": null,
   "id": "62a2b622",
   "metadata": {},
   "outputs": [],
   "source": [
    "df_pcr_loc[df_pcr_loc['pcr_result'] == '1'].shape[0], df_pcr_loc[df_pcr_loc['pcr_result'] == '2'].shape[0]"
   ]
  },
  {
   "cell_type": "markdown",
   "id": "6d18cdc4",
   "metadata": {},
   "source": [
    "### baby 정보 가져오기"
   ]
  },
  {
   "cell_type": "code",
   "execution_count": null,
   "id": "0c75219e",
   "metadata": {},
   "outputs": [],
   "source": [
    "df_kt_baby = db_connector.get_df('SELECT * FROM shine2_general_user')"
   ]
  },
  {
   "cell_type": "code",
   "execution_count": null,
   "id": "d41740ed",
   "metadata": {},
   "outputs": [],
   "source": [
    "df_kt_baby = df_kt_baby[~df_kt_baby['gender'].isnull()]"
   ]
  },
  {
   "cell_type": "code",
   "execution_count": null,
   "id": "0960bdad",
   "metadata": {},
   "outputs": [],
   "source": [
    "df_kt_baby['birthday'] = df_kt_baby['birthday'].astype(str)"
   ]
  },
  {
   "cell_type": "code",
   "execution_count": null,
   "id": "582e9d4d",
   "metadata": {},
   "outputs": [],
   "source": [
    "df_kt_baby['birthday'].apply(lambda x : x[:4]).unique()"
   ]
  },
  {
   "cell_type": "code",
   "execution_count": null,
   "id": "24165192",
   "metadata": {},
   "outputs": [],
   "source": [
    "df_kt_baby['gender'] = df_kt_baby['gender'].astype(int)"
   ]
  },
  {
   "cell_type": "code",
   "execution_count": null,
   "id": "cce76784",
   "metadata": {},
   "outputs": [],
   "source": [
    "df_kt_baby['age'] = df_kt_baby['birthday'].apply(lambda x: datetime.now().year - int(x[:4]))"
   ]
  },
  {
   "cell_type": "code",
   "execution_count": null,
   "id": "2ce6063d",
   "metadata": {},
   "outputs": [],
   "source": [
    "df_kt_baby['age_60_and_above'] = df_kt_baby['age'].apply(lambda age: 1 if age >= 60 else 0)"
   ]
  },
  {
   "cell_type": "code",
   "execution_count": null,
   "id": "57743155",
   "metadata": {},
   "outputs": [],
   "source": [
    "df_kt_baby[df_kt_baby['age_60_and_above'] == 1]"
   ]
  },
  {
   "cell_type": "markdown",
   "id": "e68c373c",
   "metadata": {},
   "source": [
    "### 시군구 넣어준 md_data에서 pcr 데이터랑 selfcheck 데이터 따로 뽑기"
   ]
  },
  {
   "cell_type": "code",
   "execution_count": null,
   "id": "261ca40f",
   "metadata": {},
   "outputs": [],
   "source": [
    "patients_str = ','.join(df_pcr_loc['patient_id'].astype(str).unique().tolist())"
   ]
  },
  {
   "cell_type": "code",
   "execution_count": null,
   "id": "998c1ba2",
   "metadata": {},
   "outputs": [],
   "source": [
    "df_selfcheck = db_connector.get_df(f\"SELECT * FROM shine2_general_selfcheck WHERE patient_id IN ({patients_str})\")"
   ]
  },
  {
   "cell_type": "code",
   "execution_count": null,
   "id": "d7843b73",
   "metadata": {},
   "outputs": [],
   "source": [
    "df_selfcheck['reg_date'].astype(str)"
   ]
  },
  {
   "cell_type": "code",
   "execution_count": null,
   "id": "aeae5dcd",
   "metadata": {},
   "outputs": [],
   "source": [
    "df_pcr_loc.shape[0]"
   ]
  },
  {
   "cell_type": "code",
   "execution_count": null,
   "id": "b4f11c58",
   "metadata": {},
   "outputs": [],
   "source": [
    "df_pcr_loc[df_pcr_loc['pcr_result'] == '2'].shape[0], df_pcr_loc[df_pcr_loc['pcr_result'] == '1'].shape[0]"
   ]
  },
  {
   "cell_type": "code",
   "execution_count": null,
   "id": "54f34c67",
   "metadata": {},
   "outputs": [],
   "source": [
    "df_pcr_loc['patient_id'].shape[0], df_pcr_loc['patient_id'].unique().shape[0]"
   ]
  },
  {
   "cell_type": "code",
   "execution_count": null,
   "id": "1f4bb73f",
   "metadata": {},
   "outputs": [],
   "source": [
    "df_pcr_loc.shape[0]"
   ]
  },
  {
   "cell_type": "code",
   "execution_count": null,
   "id": "9f8c8d93",
   "metadata": {},
   "outputs": [],
   "source": [
    "df_kt_baby['patient_id'] = df_kt_baby['patient_id'].astype(int)"
   ]
  },
  {
   "cell_type": "markdown",
   "id": "2d74e421",
   "metadata": {},
   "source": [
    "### pcr 데이터에 유저 정보(생일, 성별, 나이, 60세이상) 입력 + pcr에 붙은 sido, sigungu 살림"
   ]
  },
  {
   "cell_type": "code",
   "execution_count": null,
   "id": "ed324414",
   "metadata": {},
   "outputs": [],
   "source": [
    "df_pcr_loc = pd.merge(df_pcr_loc, df_kt_baby, how='left', on='patient_id')"
   ]
  },
  {
   "cell_type": "code",
   "execution_count": null,
   "id": "4a725153",
   "metadata": {},
   "outputs": [],
   "source": [
    "df_pcr_loc.columns"
   ]
  },
  {
   "cell_type": "code",
   "execution_count": null,
   "id": "3bea6738",
   "metadata": {},
   "outputs": [],
   "source": [
    "df_pcr_loc['pcr_date'] = df_pcr_loc['pcr_date'].astype(str)\n",
    "df_selfcheck['selfcheck_date'] = df_selfcheck['selfcheck_date'].astype(str)"
   ]
  },
  {
   "cell_type": "markdown",
   "id": "434ecb29",
   "metadata": {},
   "source": [
    "### pcr 데이터 입력 당시 시군구를 넣음"
   ]
  },
  {
   "cell_type": "code",
   "execution_count": null,
   "id": "28307fc9",
   "metadata": {},
   "outputs": [],
   "source": [
    "df_res_temp = pd.merge(df_pcr_loc, df_selfcheck, how='inner', on='patient_id', suffixes=('_pcr', '_selfcheck'))"
   ]
  },
  {
   "cell_type": "code",
   "execution_count": null,
   "id": "9047d0e9",
   "metadata": {},
   "outputs": [],
   "source": [
    "df_res_temp.columns"
   ]
  },
  {
   "cell_type": "code",
   "execution_count": null,
   "id": "1b9ef3b3",
   "metadata": {},
   "outputs": [],
   "source": [
    "df_res_temp['time_diff'] = df_res_temp.apply(lambda x: generate_diff_date(x['selfcheck_date'], x['pcr_date']), axis=1)"
   ]
  },
  {
   "cell_type": "code",
   "execution_count": null,
   "id": "89f9ed00",
   "metadata": {},
   "outputs": [],
   "source": [
    "df_res_temp = df_res_temp.sort_values('time_diff')\n",
    "df_res_temp = df_res_temp.drop_duplicates(subset='_id_pcr', keep=\"first\")"
   ]
  },
  {
   "cell_type": "code",
   "execution_count": null,
   "id": "58a80a5e",
   "metadata": {},
   "outputs": [],
   "source": [
    "df_res_temp = df_res_temp[df_res_temp['time_diff'] <= 14]"
   ]
  },
  {
   "cell_type": "code",
   "execution_count": null,
   "id": "b5724d28",
   "metadata": {},
   "outputs": [],
   "source": [
    "df_res_temp.head()"
   ]
  },
  {
   "cell_type": "code",
   "execution_count": null,
   "id": "0dbb1524",
   "metadata": {},
   "outputs": [],
   "source": [
    "df_res = df_res_temp[['patient_id', 'gender', 'age', 'birthday', 'age_60_and_above',\\\n",
    "                                   'fever', 'sx_name', 'etc_status', 'is_abroad', 'is_visit', \\\n",
    "                                   'is_contact', 'is_isolation', 'selfcheck_reason',\\\n",
    "                                   'selfcheck_date', 'pcr_date', 'pcr_place', 'sido', 'sigungu', 'pcr_result']]"
   ]
  },
  {
   "cell_type": "code",
   "execution_count": null,
   "id": "5112e779",
   "metadata": {},
   "outputs": [],
   "source": [
    "df_res['fever'] = df_res['fever'].apply(lambda x: 0 if x == '' else x)"
   ]
  },
  {
   "cell_type": "code",
   "execution_count": null,
   "id": "02caa214",
   "metadata": {},
   "outputs": [],
   "source": [
    "symptom_processor = SymptomProcessor()"
   ]
  },
  {
   "cell_type": "code",
   "execution_count": null,
   "id": "68964e87",
   "metadata": {},
   "outputs": [],
   "source": [
    "df_res = symptom_processor.make_symptom_columns(df_res)"
   ]
  },
  {
   "cell_type": "code",
   "execution_count": null,
   "id": "c0f1304a",
   "metadata": {},
   "outputs": [],
   "source": [
    "df_res['weekday'] = pd.to_datetime(df_res['pcr_date']).dt.dayofweek"
   ]
  },
  {
   "cell_type": "code",
   "execution_count": null,
   "id": "32b244ba",
   "metadata": {},
   "outputs": [],
   "source": [
    "df_res['pcr_result'] = df_res['pcr_result'].astype(int)"
   ]
  },
  {
   "cell_type": "code",
   "execution_count": null,
   "id": "90938f58",
   "metadata": {},
   "outputs": [],
   "source": [
    "df_res['age_ratio'] = df_res['age'] / 100"
   ]
  },
  {
   "cell_type": "code",
   "execution_count": null,
   "id": "d7ec30cc",
   "metadata": {},
   "outputs": [],
   "source": [
    "df_res[df_res['pcr_result'] == 1].shape[0], df_res[df_res['pcr_result'] == 2].shape[0]"
   ]
  },
  {
   "cell_type": "code",
   "execution_count": null,
   "id": "b575be87",
   "metadata": {},
   "outputs": [],
   "source": [
    "df_res = df_res.sort_values('pcr_date', ascending=True)"
   ]
  },
  {
   "cell_type": "code",
   "execution_count": null,
   "id": "232bd27a",
   "metadata": {},
   "outputs": [],
   "source": [
    "df_res['pcr_result'] = df_res['pcr_result'].apply(lambda x: x-1)"
   ]
  },
  {
   "cell_type": "code",
   "execution_count": null,
   "id": "980cb351",
   "metadata": {},
   "outputs": [],
   "source": [
    "df_res['pcr_result'] = df_res['pcr_result'].astype(int)"
   ]
  },
  {
   "cell_type": "code",
   "execution_count": null,
   "id": "933b6883",
   "metadata": {},
   "outputs": [],
   "source": [
    "df_res['age_ratio'] = df_res['age'] / 100"
   ]
  },
  {
   "cell_type": "code",
   "execution_count": null,
   "id": "d2519826",
   "metadata": {},
   "outputs": [],
   "source": [
    "df_res[df_res['pcr_result'] == 0].shape[0], df_res[df_res['pcr_result'] == 1].shape[0]"
   ]
  },
  {
   "cell_type": "code",
   "execution_count": null,
   "id": "fad83cad",
   "metadata": {},
   "outputs": [],
   "source": [
    "df_res.columns"
   ]
  },
  {
   "cell_type": "code",
   "execution_count": null,
   "id": "8943051c",
   "metadata": {},
   "outputs": [],
   "source": [
    "df_res['pcr_date'].max()"
   ]
  },
  {
   "cell_type": "code",
   "execution_count": null,
   "id": "3901318d",
   "metadata": {},
   "outputs": [],
   "source": [
    "df_res[df_res['pcr_date'] <= '2022-03-11'].shape"
   ]
  },
  {
   "cell_type": "code",
   "execution_count": null,
   "id": "8263edf3",
   "metadata": {},
   "outputs": [],
   "source": [
    "df_covid = df_res"
   ]
  },
  {
   "cell_type": "markdown",
   "id": "eb769625",
   "metadata": {},
   "source": [
    "### 본격적으로 유행도 붙여주는 작업"
   ]
  },
  {
   "cell_type": "code",
   "execution_count": null,
   "id": "ac9a56a4",
   "metadata": {},
   "outputs": [],
   "source": [
    "import surveillance_processor"
   ]
  },
  {
   "cell_type": "code",
   "execution_count": null,
   "id": "b8f51f7b",
   "metadata": {},
   "outputs": [],
   "source": [
    "surveillance_processor = surveillance_processor.SurveillanceProcessor()"
   ]
  },
  {
   "cell_type": "code",
   "execution_count": null,
   "id": "9a098440",
   "metadata": {},
   "outputs": [],
   "source": [
    "surveillance_processor"
   ]
  },
  {
   "cell_type": "code",
   "execution_count": null,
   "id": "60e58b70",
   "metadata": {},
   "outputs": [],
   "source": [
    "global_confirmed_df, kor_confirmed_df = surveillance_processor.get_confirmed_df()"
   ]
  },
  {
   "cell_type": "code",
   "execution_count": null,
   "id": "d548ed4b",
   "metadata": {},
   "outputs": [],
   "source": [
    "kor_confirmed_df.tail()"
   ]
  },
  {
   "cell_type": "code",
   "execution_count": null,
   "id": "d059f3a0",
   "metadata": {},
   "outputs": [],
   "source": [
    "global_confirmed_df.tail()"
   ]
  },
  {
   "cell_type": "code",
   "execution_count": null,
   "id": "e96c65fa",
   "metadata": {},
   "outputs": [],
   "source": [
    "CONFIRMED_MAX = 11934 / 9.217 * 51.78  # 66033\n",
    "GLOBAL_CONFIRMED_MAX = 1498041"
   ]
  },
  {
   "cell_type": "code",
   "execution_count": null,
   "id": "0a51f52c",
   "metadata": {},
   "outputs": [],
   "source": [
    "kor_confirmed_df['confirmed_ratio'] = kor_confirmed_df['confirmed_num'] / CONFIRMED_MAX\n",
    "global_confirmed_df['global_confirmed_ratio'] = global_confirmed_df['global_confirmed_num'] / GLOBAL_CONFIRMED_MAX\n",
    "kor_confirmed_df['confirmed_week_ratio'] = kor_confirmed_df['confirmed_week_num'] / CONFIRMED_MAX\n",
    "global_confirmed_df['global_confirmed_week_ratio'] = global_confirmed_df['global_confirmed_week_num'] / GLOBAL_CONFIRMED_MAX"
   ]
  },
  {
   "cell_type": "code",
   "execution_count": null,
   "id": "cb8d221e",
   "metadata": {},
   "outputs": [],
   "source": [
    "df_pcr_loc"
   ]
  },
  {
   "cell_type": "code",
   "execution_count": null,
   "id": "c5775bae",
   "metadata": {},
   "outputs": [],
   "source": [
    "df_sigungu_population = df_pcr_loc[['sido', 'sigungu']].drop_duplicates().reset_index(drop=True)"
   ]
  },
  {
   "cell_type": "code",
   "execution_count": null,
   "id": "3a0d960d",
   "metadata": {},
   "outputs": [],
   "source": [
    "df_sigungu_population"
   ]
  },
  {
   "cell_type": "code",
   "execution_count": null,
   "id": "65bee841",
   "metadata": {},
   "outputs": [],
   "source": [
    "df_sigungu_population['population'] = df_sigungu_population.apply(lambda x: location_processor.find_population(x['sido'], x['sigungu']), axis=1)"
   ]
  },
  {
   "cell_type": "code",
   "execution_count": null,
   "id": "7aab34c6",
   "metadata": {},
   "outputs": [],
   "source": [
    "df_sigungu_population = df_sigungu_population[~df_sigungu_population['population'].isnull()].reset_index(drop=True)"
   ]
  },
  {
   "cell_type": "markdown",
   "id": "9e7ffd2e",
   "metadata": {},
   "source": [
    "### 시도시군구 인구수 구함"
   ]
  },
  {
   "cell_type": "code",
   "execution_count": null,
   "id": "8298832c",
   "metadata": {},
   "outputs": [],
   "source": [
    "df_sigungu_population.sort_values(['sido', 'sigungu'])"
   ]
  },
  {
   "cell_type": "code",
   "execution_count": null,
   "id": "33f8521c",
   "metadata": {},
   "outputs": [],
   "source": [
    "def find_sigungu_confirmed_ratio(sido, sigungu, confirmed_total):\n",
    "    sido_condit = df_sigungu_population['sido'] == sido \n",
    "    sigungu_condit = df_sigungu_population['sigungu'] == sigungu\n",
    "    df_popul = df_sigungu_population[sido_condit & sigungu_condit]\n",
    "    if df_popul.shape[0] == 0: return None\n",
    "    return float(confirmed_total) / df_popul['population'].item()"
   ]
  },
  {
   "cell_type": "markdown",
   "id": "25b2e212",
   "metadata": {},
   "source": [
    "### 우리 지역별 확진자수 디비에서 가져와서 csv파일에 저장한거 불러옴"
   ]
  },
  {
   "cell_type": "code",
   "execution_count": null,
   "id": "73d1c93c",
   "metadata": {},
   "outputs": [],
   "source": [
    "# df_confirmed_sigungu_old = pd.read_csv('sigungu_confirmed_num.csv')"
   ]
  },
  {
   "cell_type": "code",
   "execution_count": null,
   "id": "41d2d321",
   "metadata": {},
   "outputs": [],
   "source": [
    "df_confirmed_sigungu = db_connector.get_df('SELECT * FROM shine2_covid_sigungu')"
   ]
  },
  {
   "cell_type": "code",
   "execution_count": null,
   "id": "035b06c2",
   "metadata": {},
   "outputs": [],
   "source": [
    "df_confirmed_sigungu"
   ]
  },
  {
   "cell_type": "code",
   "execution_count": null,
   "id": "562574f3",
   "metadata": {},
   "outputs": [],
   "source": [
    "df_confirmed_sigungu['confirmed_total'] = df_confirmed_sigungu['confirmed_total'].apply(commanum_revert_to_int)"
   ]
  },
  {
   "cell_type": "code",
   "execution_count": null,
   "id": "56d1ea8a",
   "metadata": {},
   "outputs": [],
   "source": [
    "df_confirmed_sigungu['standard_date'] = df_confirmed_sigungu['standard_date'].astype(str)"
   ]
  },
  {
   "cell_type": "markdown",
   "id": "d0248312",
   "metadata": {},
   "source": [
    "### 기존에 시군구 다 존재하던 애들에 sigungu_confirmed_ratio 붙여줌"
   ]
  },
  {
   "cell_type": "code",
   "execution_count": null,
   "id": "f24ba071",
   "metadata": {},
   "outputs": [],
   "source": [
    "df_confirmed_sigungu['sigungu_confirmed_ratio'] = df_confirmed_sigungu.apply(lambda x : find_sigungu_confirmed_ratio(x['sido'], x['sigungu'], x['confirmed_total']), axis=1)"
   ]
  },
  {
   "cell_type": "code",
   "execution_count": null,
   "id": "ee73003f",
   "metadata": {},
   "outputs": [],
   "source": [
    "df_confirmed_sigungu = df_confirmed_sigungu[~df_confirmed_sigungu['sigungu_confirmed_ratio'].isnull()]"
   ]
  },
  {
   "cell_type": "code",
   "execution_count": null,
   "id": "5b2aab9b",
   "metadata": {},
   "outputs": [],
   "source": [
    "df_confirmed_sigungu = df_confirmed_sigungu.rename(columns={'standard_date': 'pcr_date'})"
   ]
  },
  {
   "cell_type": "code",
   "execution_count": null,
   "id": "0b4b1536",
   "metadata": {},
   "outputs": [],
   "source": [
    "df_confirmed_sigungu['pcr_date'] = df_confirmed_sigungu['pcr_date'].astype(str).apply(lambda x : x[:10])"
   ]
  },
  {
   "cell_type": "markdown",
   "id": "5084a8a8",
   "metadata": {},
   "source": [
    "### 전세계 유행도, 한국 유행도 붙임"
   ]
  },
  {
   "cell_type": "code",
   "execution_count": null,
   "id": "89fa6310",
   "metadata": {},
   "outputs": [],
   "source": [
    "df_covid = pd.merge(df_covid, kor_confirmed_df, how='left', left_on='pcr_date', right_on='confirmed_date')"
   ]
  },
  {
   "cell_type": "code",
   "execution_count": null,
   "id": "8501e315",
   "metadata": {},
   "outputs": [],
   "source": [
    "df_covid = pd.merge(df_covid, global_confirmed_df, how='left', left_on='pcr_date', right_on='global_confirmed_date')"
   ]
  },
  {
   "cell_type": "code",
   "execution_count": null,
   "id": "0d8320e5",
   "metadata": {},
   "outputs": [],
   "source": [
    "df_covid.head()"
   ]
  },
  {
   "cell_type": "markdown",
   "id": "8eafffb2",
   "metadata": {},
   "source": [
    "### 시군구 유행도 붙임"
   ]
  },
  {
   "cell_type": "code",
   "execution_count": null,
   "id": "97a064f2",
   "metadata": {},
   "outputs": [],
   "source": [
    "df_confirmed_sigungu"
   ]
  },
  {
   "cell_type": "code",
   "execution_count": null,
   "id": "9cd03322",
   "metadata": {},
   "outputs": [],
   "source": [
    "df_covid = pd.merge(df_covid, df_confirmed_sigungu, on=['pcr_date', 'sido', 'sigungu'], how='left')"
   ]
  },
  {
   "cell_type": "code",
   "execution_count": null,
   "id": "27cc8722",
   "metadata": {},
   "outputs": [],
   "source": [
    "display(df_confirmed_sigungu)\n",
    "display(df_covid)"
   ]
  },
  {
   "cell_type": "code",
   "execution_count": null,
   "id": "3ef8cdac",
   "metadata": {},
   "outputs": [],
   "source": [
    "df_covid[df_covid['sigungu_confirmed_ratio'].isnull()].shape, df_covid[~df_covid['sigungu_confirmed_ratio'].isnull()].shape"
   ]
  },
  {
   "cell_type": "code",
   "execution_count": null,
   "id": "1f3a9d8e",
   "metadata": {},
   "outputs": [],
   "source": [
    "df_covid['sigungu_confirmed_ratio'].unique()"
   ]
  },
  {
   "cell_type": "code",
   "execution_count": null,
   "id": "c9bd00cd",
   "metadata": {},
   "outputs": [],
   "source": [
    "CONFIRMED_MAX = 11934 / 9.217 * 51.78  # 66033\n",
    "GLOBAL_CONFIRMED_MAX = 1498041"
   ]
  },
  {
   "cell_type": "code",
   "execution_count": null,
   "id": "f62eb4a4",
   "metadata": {},
   "outputs": [],
   "source": [
    "df_covid['confirmed_ratio'] = df_covid['confirmed_num'] / CONFIRMED_MAX\n",
    "df_covid['global_confirmed_ratio'] = df_covid['global_confirmed_num'] / GLOBAL_CONFIRMED_MAX\n",
    "df_covid['confirmed_week_ratio'] = df_covid['confirmed_week_num'] / CONFIRMED_MAX\n",
    "df_covid['global_confirmed_week_ratio'] = df_covid['global_confirmed_week_num'] / GLOBAL_CONFIRMED_MAX"
   ]
  },
  {
   "cell_type": "code",
   "execution_count": null,
   "id": "7b5837bd",
   "metadata": {},
   "outputs": [],
   "source": [
    "df_covid = df_covid[~df_covid['confirmed_date'].isna()]"
   ]
  },
  {
   "cell_type": "markdown",
   "id": "25e0d432",
   "metadata": {},
   "source": [
    "### 시군구 있는 데이터 없는 데이터 구분하는 마스킹 컬럼 추가"
   ]
  },
  {
   "cell_type": "code",
   "execution_count": null,
   "id": "4b976c52",
   "metadata": {},
   "outputs": [],
   "source": [
    "def mask_filter(sido, sigungu):\n",
    "    if sido == '' or sigungu == '': return 0\n",
    "    return 1"
   ]
  },
  {
   "cell_type": "code",
   "execution_count": null,
   "id": "f66e63f7",
   "metadata": {},
   "outputs": [],
   "source": [
    "df_covid['mask'] = df_covid.apply(lambda x: mask_filter(x['sido'], x['sigungu']), axis=1)"
   ]
  },
  {
   "cell_type": "code",
   "execution_count": null,
   "id": "b2ea769a",
   "metadata": {},
   "outputs": [],
   "source": [
    "df_covid['sigungu_confirmed_ratio'] = df_covid['sigungu_confirmed_ratio'].fillna(0)"
   ]
  },
  {
   "cell_type": "code",
   "execution_count": null,
   "id": "4e35db5a",
   "metadata": {},
   "outputs": [],
   "source": [
    "df_covid.columns"
   ]
  },
  {
   "cell_type": "code",
   "execution_count": null,
   "id": "7d07eaa2",
   "metadata": {},
   "outputs": [],
   "source": [
    "israel_symptom_input_cols = ['cough', 'fever', 'sore_throat', 'shortness_of_breath', 'head_ache']\n",
    "\n",
    "symptom_input_cols = (['runny_nose', 'muscle_pain', 'chills',  'loss_of_taste', \n",
    "                       'loss_of_smell', 'sputum', 'chest_pain'])\n",
    "\n",
    "surveilance_cols = (['global_confirmed_ratio', 'confirmed_ratio', 'sigungu_confirmed_ratio'])\n",
    "# surveilance_cols = (['global_confirmed_ratio', 'confirmed_ratio'])\n",
    "\n",
    "# shap value 찍어보자!! kernel explain\n",
    "\n",
    "mask_col = ['mask']\n",
    "\n",
    "indication_cols = ['indication_other','indication_abroad', 'indication_contact']\n",
    "other_cols = ['gender', 'age_ratio', 'weekday']\n",
    "res_col = ['pcr_result']\n",
    "\n",
    "# cols = (israel_symptom_input_cols + symptom_input_cols + \n",
    "#         indication_cols + surveilance_cols + mask_col + \n",
    "#         other_cols + res_col)\n",
    "\n",
    "israel_etc_input_cols = ['age_60_and_above', 'gender', 'indication_other','indication_abroad', 'indication_contact']\n",
    "cols = israel_symptom_input_cols + israel_etc_input_cols + res_col\n",
    "\n",
    "# cols = israel_symptom_input_cols + symptom_input_cols + surveilance_cols + mask_col + res_col\n",
    "\n",
    "\n",
    "# symptom_input_cols = ['cough', 'fever', 'confirmed_ratio', \\\n",
    "#                       'sigungu_confirmed_ratio', 'mask', 'pcr_result']\n",
    "#\n",
    "# 'indication_other','indication_abroad', 'indication_contact'\n",
    "#'mask', 'confirmed_ratio', 'sigungu_confirmed_ratio'\n",
    "# 'confirmed_week_ratio', 'global_confirmed_week_ratio', \n",
    "\n",
    "# 0~10 기존 / 11~17 추가된 7 feature\n",
    "\n",
    "# input_cols = ['cough', 'fever', 'sore_throat','shortness_of_breath',\\\n",
    "#               'head_ache', 'gender', 'runny_nose', 'muscle_pain', 'chills',\\\n",
    "#               'loss_of_taste', 'loss_of_smell', 'sputum', 'chest_pain', 'age_ratio', 'weekday'\n",
    "#\n",
    "#               'gender', 'confirmed_ratio',\\\n",
    "#               'global_confirmed_ratio', 'indication_other',\\\n",
    "#               'indication_abroad', 'indication_contact', 'pcr_result']"
   ]
  },
  {
   "cell_type": "code",
   "execution_count": null,
   "id": "84e68c63",
   "metadata": {},
   "outputs": [],
   "source": [
    "input_cols = ['pcr_date'] + cols\n",
    "# input_cols = cols"
   ]
  },
  {
   "cell_type": "code",
   "execution_count": null,
   "id": "d8ae1e5a",
   "metadata": {},
   "outputs": [],
   "source": [
    "df_input = df_covid[~df_covid['confirmed_ratio'].isna()]"
   ]
  },
  {
   "cell_type": "markdown",
   "id": "c64abebd",
   "metadata": {},
   "source": [
    "### mask를 이용해서 시군구 있는 애들만 뽑는다 (실험 조건 중 하나)"
   ]
  },
  {
   "cell_type": "code",
   "execution_count": null,
   "id": "05d9d79b",
   "metadata": {},
   "outputs": [],
   "source": [
    "# df_input = df_input[df_input['mask'] == 1]"
   ]
  },
  {
   "cell_type": "code",
   "execution_count": null,
   "id": "19293607",
   "metadata": {},
   "outputs": [],
   "source": [
    "df_input['pcr_result'].unique()"
   ]
  },
  {
   "cell_type": "code",
   "execution_count": null,
   "id": "cfd377c0",
   "metadata": {},
   "outputs": [],
   "source": [
    "neg_cnt = df_input[df_input['pcr_result'] == 0].shape[0]\n",
    "neg_cnt"
   ]
  },
  {
   "cell_type": "markdown",
   "id": "1bda886d",
   "metadata": {},
   "source": [
    "#### 이벤트 기간\n",
    "1차: 2.28 - 4.4\n",
    "2차: 8.16 - 10.31"
   ]
  },
  {
   "cell_type": "code",
   "execution_count": null,
   "id": "2d52bbd6",
   "metadata": {},
   "outputs": [],
   "source": [
    "event_start_date_1 = '2022-02-14'\n",
    "event_end_date_1 = '2022-04-18'\n",
    "event_start_date_2 = '2022-08-02'\n",
    "event_end_date_2 = '2022-11-14'"
   ]
  },
  {
   "cell_type": "code",
   "execution_count": null,
   "id": "c41d18e9",
   "metadata": {},
   "outputs": [],
   "source": [
    "# df_input_balanced = df_input[(event_start_date_2 <= df_input['test_date']) & (df_input['test_date'] <= event_end_date_2)]\n",
    "df_input_balanced = df_input"
   ]
  },
  {
   "cell_type": "code",
   "execution_count": null,
   "id": "8ae9d243",
   "metadata": {},
   "outputs": [],
   "source": [
    "from collections import Counter"
   ]
  },
  {
   "cell_type": "code",
   "execution_count": null,
   "id": "3b660886",
   "metadata": {},
   "outputs": [],
   "source": [
    "baby_id_counter = Counter(df_input_balanced['patient_id'])"
   ]
  },
  {
   "cell_type": "code",
   "execution_count": null,
   "id": "b6677011",
   "metadata": {},
   "outputs": [],
   "source": [
    "baby_ids_only_one = [x for x, count in baby_id_counter.items() if count == 1]\n",
    "len(baby_ids_only_one)"
   ]
  },
  {
   "cell_type": "code",
   "execution_count": null,
   "id": "f86c9850",
   "metadata": {},
   "outputs": [],
   "source": [
    "baby_ids = df_input_balanced['patient_id'].unique()"
   ]
  },
  {
   "cell_type": "code",
   "execution_count": null,
   "id": "10b2eb13",
   "metadata": {},
   "outputs": [],
   "source": [
    "baby_ids.shape"
   ]
  },
  {
   "cell_type": "code",
   "execution_count": null,
   "id": "44803d7e",
   "metadata": {},
   "outputs": [],
   "source": [
    "Counter(baby_id_counter.values())"
   ]
  },
  {
   "cell_type": "code",
   "execution_count": null,
   "id": "23bfa2c2",
   "metadata": {},
   "outputs": [],
   "source": [
    "# df_input_balanced = df_input_balanced[df_input_balanced['baby_id'].isin(baby_ids_only_one)]"
   ]
  },
  {
   "cell_type": "code",
   "execution_count": null,
   "id": "a3c56f13",
   "metadata": {},
   "outputs": [],
   "source": [
    "# df_input_balanced"
   ]
  },
  {
   "cell_type": "code",
   "execution_count": null,
   "id": "0b3097e1",
   "metadata": {},
   "outputs": [],
   "source": [
    "# input_cols.append('baby_id')"
   ]
  },
  {
   "cell_type": "code",
   "execution_count": null,
   "id": "7b2e7a56",
   "metadata": {},
   "outputs": [],
   "source": [
    "input_cols = ['patient_id'] + input_cols\n",
    "input_cols"
   ]
  },
  {
   "cell_type": "code",
   "execution_count": null,
   "id": "0c5f9009",
   "metadata": {},
   "outputs": [],
   "source": [
    "df_input_final = df_input_balanced[input_cols]"
   ]
  },
  {
   "cell_type": "code",
   "execution_count": null,
   "id": "9e272567",
   "metadata": {},
   "outputs": [],
   "source": [
    "df_input_final.sort_values('pcr_date')"
   ]
  },
  {
   "cell_type": "markdown",
   "id": "c30371f2",
   "metadata": {},
   "source": [
    "### 최종 데이터셋 음성 양성 갯수"
   ]
  },
  {
   "cell_type": "code",
   "execution_count": null,
   "id": "27e4cae2",
   "metadata": {},
   "outputs": [],
   "source": [
    "df_input_final[df_input_final['pcr_result'] == 0].shape, df_input_final[df_input_final['pcr_result'] == 1].shape"
   ]
  },
  {
   "cell_type": "code",
   "execution_count": null,
   "id": "4d450d56",
   "metadata": {},
   "outputs": [],
   "source": [
    "def split_input_gt(non_split_data):\n",
    "    splited_input = non_split_data[:, :-1]\n",
    "    splited_gt = non_split_data[:, -1]\n",
    "    \n",
    "    return splited_input, splited_gt"
   ]
  },
  {
   "cell_type": "code",
   "execution_count": null,
   "id": "f8849580",
   "metadata": {},
   "outputs": [],
   "source": [
    "for col in input_cols:\n",
    "    if df_input_final[df_input_final[col].isna()].shape[0] != 0:\n",
    "        df_input_final[df_input_final[col].isna()] = df_input_final[df_input_final[col].isna()].fillna(0)"
   ]
  },
  {
   "cell_type": "code",
   "execution_count": null,
   "id": "ce8ece5e",
   "metadata": {},
   "outputs": [],
   "source": [
    "np.random.seed(1212)"
   ]
  },
  {
   "cell_type": "code",
   "execution_count": null,
   "id": "1bd303ed",
   "metadata": {},
   "outputs": [],
   "source": [
    "df_train, df_test = split_df_with_ratio(df_input_final, 0.4)\n",
    "df_test, df_vaild = split_df_with_ratio(df_test, 0.5)"
   ]
  },
  {
   "cell_type": "code",
   "execution_count": null,
   "id": "e4b1605b",
   "metadata": {},
   "outputs": [],
   "source": [
    "df_train['pcr_result'].value_counts()"
   ]
  },
  {
   "cell_type": "code",
   "execution_count": null,
   "id": "dca0c810",
   "metadata": {},
   "outputs": [],
   "source": [
    "df_test['pcr_result'].value_counts()"
   ]
  },
  {
   "cell_type": "code",
   "execution_count": null,
   "id": "0d6d1d2e",
   "metadata": {},
   "outputs": [],
   "source": [
    "df_vaild['pcr_result'].value_counts()"
   ]
  },
  {
   "cell_type": "code",
   "execution_count": null,
   "id": "339cbbfc",
   "metadata": {},
   "outputs": [],
   "source": [
    "df_train.shape, df_test.shape, df_vaild.shape"
   ]
  },
  {
   "cell_type": "code",
   "execution_count": null,
   "id": "416c06bb",
   "metadata": {},
   "outputs": [],
   "source": [
    "# df_train.to_csv('df_train_v3_1.csv', index=False)\n",
    "# df_vaild.to_csv('df_valid_v3_1.csv', index=False)\n",
    "# df_test.to_csv('df_test_v3_1.csv', index=False)"
   ]
  }
 ],
 "metadata": {
  "kernelspec": {
   "display_name": "Python 3",
   "language": "python",
   "name": "python3"
  },
  "language_info": {
   "codemirror_mode": {
    "name": "ipython",
    "version": 3
   },
   "file_extension": ".py",
   "mimetype": "text/x-python",
   "name": "python",
   "nbconvert_exporter": "python",
   "pygments_lexer": "ipython3",
   "version": "3.8.10"
  }
 },
 "nbformat": 4,
 "nbformat_minor": 5
}
