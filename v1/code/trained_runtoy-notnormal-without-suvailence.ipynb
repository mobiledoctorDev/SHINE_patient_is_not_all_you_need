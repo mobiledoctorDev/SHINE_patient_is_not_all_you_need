{
 "cells": [
  {
   "cell_type": "code",
   "execution_count": 1,
   "metadata": {},
   "outputs": [
    {
     "name": "stdout",
     "output_type": "stream",
     "text": [
      "import done\n",
      "device: cuda\n"
     ]
    }
   ],
   "source": [
    "import torch\n",
    "import os\n",
    "import sys\n",
    "sys.path.append('/home/md/Ranger-Deep-Learning-Optimizer/ranger')\n",
    "import ranger2020\n",
    "import numpy as np\n",
    "import pandas as pd\n",
    "import warnings\n",
    "import numbers\n",
    "import torch.utils.data as utils\n",
    "from sklearn.metrics import roc_curve, roc_auc_score\n",
    "import glob\n",
    "from tqdm.notebook import tqdm\n",
    "from pycm import *\n",
    "from pathlib import Path\n",
    "import os\n",
    "import random\n",
    "import matplotlib.pyplot as plt\n",
    "import datetime\n",
    "\n",
    "print(\"import done\")\n",
    "\n",
    "random.seed(42)\n",
    "device = torch.device('cuda' if torch.cuda.is_available() else 'cpu')\n",
    "print('device:', device)"
   ]
  },
  {
   "cell_type": "code",
   "execution_count": 2,
   "metadata": {},
   "outputs": [],
   "source": [
    "v1_data_path = f'{os.getcwd()}/../data'\n",
    "train_files = glob.glob(f'{v1_data_path}/train/*.csv')\n",
    "test_files = glob.glob(f'{v1_data_path}/test/*.csv')\n",
    "df_label = pd.read_csv(f'{v1_data_path}/label.csv')"
   ]
  },
  {
   "cell_type": "code",
   "execution_count": 3,
   "metadata": {},
   "outputs": [
    {
     "data": {
      "text/plain": [
       "['/home/md/workspace/Apollo_model_dev/v1/code/../data/train/5119.csv',\n",
       " '/home/md/workspace/Apollo_model_dev/v1/code/../data/train/6161.csv',\n",
       " '/home/md/workspace/Apollo_model_dev/v1/code/../data/train/5723.csv',\n",
       " '/home/md/workspace/Apollo_model_dev/v1/code/../data/train/978.csv',\n",
       " '/home/md/workspace/Apollo_model_dev/v1/code/../data/train/4956.csv',\n",
       " '/home/md/workspace/Apollo_model_dev/v1/code/../data/train/2608.csv',\n",
       " '/home/md/workspace/Apollo_model_dev/v1/code/../data/train/4296.csv',\n",
       " '/home/md/workspace/Apollo_model_dev/v1/code/../data/train/1242.csv',\n",
       " '/home/md/workspace/Apollo_model_dev/v1/code/../data/train/6551.csv',\n",
       " '/home/md/workspace/Apollo_model_dev/v1/code/../data/train/2819.csv',\n",
       " '/home/md/workspace/Apollo_model_dev/v1/code/../data/train/1190.csv',\n",
       " '/home/md/workspace/Apollo_model_dev/v1/code/../data/train/3761.csv',\n",
       " '/home/md/workspace/Apollo_model_dev/v1/code/../data/train/386.csv',\n",
       " '/home/md/workspace/Apollo_model_dev/v1/code/../data/train/3275.csv',\n",
       " '/home/md/workspace/Apollo_model_dev/v1/code/../data/train/5049.csv',\n",
       " '/home/md/workspace/Apollo_model_dev/v1/code/../data/train/3997.csv',\n",
       " '/home/md/workspace/Apollo_model_dev/v1/code/../data/train/4486.csv',\n",
       " '/home/md/workspace/Apollo_model_dev/v1/code/../data/train/3050.csv',\n",
       " '/home/md/workspace/Apollo_model_dev/v1/code/../data/train/1020.csv',\n",
       " '/home/md/workspace/Apollo_model_dev/v1/code/../data/train/6485.csv',\n",
       " '/home/md/workspace/Apollo_model_dev/v1/code/../data/train/712.csv',\n",
       " '/home/md/workspace/Apollo_model_dev/v1/code/../data/train/3789.csv',\n",
       " '/home/md/workspace/Apollo_model_dev/v1/code/../data/train/1638.csv',\n",
       " '/home/md/workspace/Apollo_model_dev/v1/code/../data/train/1779.csv',\n",
       " '/home/md/workspace/Apollo_model_dev/v1/code/../data/train/5728.csv',\n",
       " '/home/md/workspace/Apollo_model_dev/v1/code/../data/train/4834.csv',\n",
       " '/home/md/workspace/Apollo_model_dev/v1/code/../data/train/4724.csv',\n",
       " '/home/md/workspace/Apollo_model_dev/v1/code/../data/train/761.csv',\n",
       " '/home/md/workspace/Apollo_model_dev/v1/code/../data/train/6281.csv',\n",
       " '/home/md/workspace/Apollo_model_dev/v1/code/../data/train/4520.csv',\n",
       " '/home/md/workspace/Apollo_model_dev/v1/code/../data/train/2270.csv',\n",
       " '/home/md/workspace/Apollo_model_dev/v1/code/../data/train/3654.csv',\n",
       " '/home/md/workspace/Apollo_model_dev/v1/code/../data/train/4531.csv',\n",
       " '/home/md/workspace/Apollo_model_dev/v1/code/../data/train/2021.csv',\n",
       " '/home/md/workspace/Apollo_model_dev/v1/code/../data/train/3887.csv',\n",
       " '/home/md/workspace/Apollo_model_dev/v1/code/../data/train/5897.csv',\n",
       " '/home/md/workspace/Apollo_model_dev/v1/code/../data/train/2750.csv',\n",
       " '/home/md/workspace/Apollo_model_dev/v1/code/../data/train/123.csv',\n",
       " '/home/md/workspace/Apollo_model_dev/v1/code/../data/train/3095.csv',\n",
       " '/home/md/workspace/Apollo_model_dev/v1/code/../data/train/5890.csv',\n",
       " '/home/md/workspace/Apollo_model_dev/v1/code/../data/train/5894.csv',\n",
       " '/home/md/workspace/Apollo_model_dev/v1/code/../data/train/4483.csv',\n",
       " '/home/md/workspace/Apollo_model_dev/v1/code/../data/train/5806.csv',\n",
       " '/home/md/workspace/Apollo_model_dev/v1/code/../data/train/2245.csv',\n",
       " '/home/md/workspace/Apollo_model_dev/v1/code/../data/train/1615.csv',\n",
       " '/home/md/workspace/Apollo_model_dev/v1/code/../data/train/5845.csv',\n",
       " '/home/md/workspace/Apollo_model_dev/v1/code/../data/train/3239.csv',\n",
       " '/home/md/workspace/Apollo_model_dev/v1/code/../data/train/6497.csv',\n",
       " '/home/md/workspace/Apollo_model_dev/v1/code/../data/train/3576.csv',\n",
       " '/home/md/workspace/Apollo_model_dev/v1/code/../data/train/5037.csv',\n",
       " '/home/md/workspace/Apollo_model_dev/v1/code/../data/train/4251.csv',\n",
       " '/home/md/workspace/Apollo_model_dev/v1/code/../data/train/5148.csv',\n",
       " '/home/md/workspace/Apollo_model_dev/v1/code/../data/train/5742.csv',\n",
       " '/home/md/workspace/Apollo_model_dev/v1/code/../data/train/441.csv',\n",
       " '/home/md/workspace/Apollo_model_dev/v1/code/../data/train/6603.csv',\n",
       " '/home/md/workspace/Apollo_model_dev/v1/code/../data/train/2566.csv',\n",
       " '/home/md/workspace/Apollo_model_dev/v1/code/../data/train/44.csv',\n",
       " '/home/md/workspace/Apollo_model_dev/v1/code/../data/train/1450.csv',\n",
       " '/home/md/workspace/Apollo_model_dev/v1/code/../data/train/6520.csv',\n",
       " '/home/md/workspace/Apollo_model_dev/v1/code/../data/train/2170.csv',\n",
       " '/home/md/workspace/Apollo_model_dev/v1/code/../data/train/3478.csv',\n",
       " '/home/md/workspace/Apollo_model_dev/v1/code/../data/train/2720.csv',\n",
       " '/home/md/workspace/Apollo_model_dev/v1/code/../data/train/3968.csv',\n",
       " '/home/md/workspace/Apollo_model_dev/v1/code/../data/train/4589.csv',\n",
       " '/home/md/workspace/Apollo_model_dev/v1/code/../data/train/5163.csv',\n",
       " '/home/md/workspace/Apollo_model_dev/v1/code/../data/train/4332.csv',\n",
       " '/home/md/workspace/Apollo_model_dev/v1/code/../data/train/2093.csv',\n",
       " '/home/md/workspace/Apollo_model_dev/v1/code/../data/train/3521.csv',\n",
       " '/home/md/workspace/Apollo_model_dev/v1/code/../data/train/2564.csv',\n",
       " '/home/md/workspace/Apollo_model_dev/v1/code/../data/train/4743.csv',\n",
       " '/home/md/workspace/Apollo_model_dev/v1/code/../data/train/3867.csv',\n",
       " '/home/md/workspace/Apollo_model_dev/v1/code/../data/train/3491.csv',\n",
       " '/home/md/workspace/Apollo_model_dev/v1/code/../data/train/2299.csv',\n",
       " '/home/md/workspace/Apollo_model_dev/v1/code/../data/train/5154.csv',\n",
       " '/home/md/workspace/Apollo_model_dev/v1/code/../data/train/2396.csv',\n",
       " '/home/md/workspace/Apollo_model_dev/v1/code/../data/train/1576.csv',\n",
       " '/home/md/workspace/Apollo_model_dev/v1/code/../data/train/5213.csv',\n",
       " '/home/md/workspace/Apollo_model_dev/v1/code/../data/train/1352.csv',\n",
       " '/home/md/workspace/Apollo_model_dev/v1/code/../data/train/4056.csv',\n",
       " '/home/md/workspace/Apollo_model_dev/v1/code/../data/train/2187.csv',\n",
       " '/home/md/workspace/Apollo_model_dev/v1/code/../data/train/6147.csv',\n",
       " '/home/md/workspace/Apollo_model_dev/v1/code/../data/train/945.csv',\n",
       " '/home/md/workspace/Apollo_model_dev/v1/code/../data/train/2022.csv',\n",
       " '/home/md/workspace/Apollo_model_dev/v1/code/../data/train/4333.csv',\n",
       " '/home/md/workspace/Apollo_model_dev/v1/code/../data/train/4350.csv',\n",
       " '/home/md/workspace/Apollo_model_dev/v1/code/../data/train/1237.csv',\n",
       " '/home/md/workspace/Apollo_model_dev/v1/code/../data/train/1437.csv',\n",
       " '/home/md/workspace/Apollo_model_dev/v1/code/../data/train/5490.csv',\n",
       " '/home/md/workspace/Apollo_model_dev/v1/code/../data/train/4878.csv',\n",
       " '/home/md/workspace/Apollo_model_dev/v1/code/../data/train/3282.csv',\n",
       " '/home/md/workspace/Apollo_model_dev/v1/code/../data/train/1818.csv',\n",
       " '/home/md/workspace/Apollo_model_dev/v1/code/../data/train/4689.csv',\n",
       " '/home/md/workspace/Apollo_model_dev/v1/code/../data/train/4687.csv',\n",
       " '/home/md/workspace/Apollo_model_dev/v1/code/../data/train/24.csv',\n",
       " '/home/md/workspace/Apollo_model_dev/v1/code/../data/train/6218.csv',\n",
       " '/home/md/workspace/Apollo_model_dev/v1/code/../data/train/14.csv',\n",
       " '/home/md/workspace/Apollo_model_dev/v1/code/../data/train/458.csv',\n",
       " '/home/md/workspace/Apollo_model_dev/v1/code/../data/train/767.csv',\n",
       " '/home/md/workspace/Apollo_model_dev/v1/code/../data/train/4665.csv',\n",
       " '/home/md/workspace/Apollo_model_dev/v1/code/../data/train/6010.csv',\n",
       " '/home/md/workspace/Apollo_model_dev/v1/code/../data/train/883.csv',\n",
       " '/home/md/workspace/Apollo_model_dev/v1/code/../data/train/626.csv',\n",
       " '/home/md/workspace/Apollo_model_dev/v1/code/../data/train/1337.csv',\n",
       " '/home/md/workspace/Apollo_model_dev/v1/code/../data/train/3921.csv',\n",
       " '/home/md/workspace/Apollo_model_dev/v1/code/../data/train/1575.csv',\n",
       " '/home/md/workspace/Apollo_model_dev/v1/code/../data/train/4139.csv',\n",
       " '/home/md/workspace/Apollo_model_dev/v1/code/../data/train/1346.csv',\n",
       " '/home/md/workspace/Apollo_model_dev/v1/code/../data/train/6339.csv',\n",
       " '/home/md/workspace/Apollo_model_dev/v1/code/../data/train/2350.csv',\n",
       " '/home/md/workspace/Apollo_model_dev/v1/code/../data/train/6290.csv',\n",
       " '/home/md/workspace/Apollo_model_dev/v1/code/../data/train/3299.csv',\n",
       " '/home/md/workspace/Apollo_model_dev/v1/code/../data/train/435.csv',\n",
       " '/home/md/workspace/Apollo_model_dev/v1/code/../data/train/4836.csv',\n",
       " '/home/md/workspace/Apollo_model_dev/v1/code/../data/train/292.csv',\n",
       " '/home/md/workspace/Apollo_model_dev/v1/code/../data/train/3499.csv',\n",
       " '/home/md/workspace/Apollo_model_dev/v1/code/../data/train/881.csv',\n",
       " '/home/md/workspace/Apollo_model_dev/v1/code/../data/train/6451.csv',\n",
       " '/home/md/workspace/Apollo_model_dev/v1/code/../data/train/5540.csv',\n",
       " '/home/md/workspace/Apollo_model_dev/v1/code/../data/train/4710.csv',\n",
       " '/home/md/workspace/Apollo_model_dev/v1/code/../data/train/802.csv',\n",
       " '/home/md/workspace/Apollo_model_dev/v1/code/../data/train/3866.csv',\n",
       " '/home/md/workspace/Apollo_model_dev/v1/code/../data/train/641.csv',\n",
       " '/home/md/workspace/Apollo_model_dev/v1/code/../data/train/5417.csv',\n",
       " '/home/md/workspace/Apollo_model_dev/v1/code/../data/train/5306.csv',\n",
       " '/home/md/workspace/Apollo_model_dev/v1/code/../data/train/6366.csv',\n",
       " '/home/md/workspace/Apollo_model_dev/v1/code/../data/train/749.csv',\n",
       " '/home/md/workspace/Apollo_model_dev/v1/code/../data/train/5492.csv',\n",
       " '/home/md/workspace/Apollo_model_dev/v1/code/../data/train/3269.csv',\n",
       " '/home/md/workspace/Apollo_model_dev/v1/code/../data/train/848.csv',\n",
       " '/home/md/workspace/Apollo_model_dev/v1/code/../data/train/5632.csv',\n",
       " '/home/md/workspace/Apollo_model_dev/v1/code/../data/train/5111.csv',\n",
       " '/home/md/workspace/Apollo_model_dev/v1/code/../data/train/2510.csv',\n",
       " '/home/md/workspace/Apollo_model_dev/v1/code/../data/train/5823.csv',\n",
       " '/home/md/workspace/Apollo_model_dev/v1/code/../data/train/4228.csv',\n",
       " '/home/md/workspace/Apollo_model_dev/v1/code/../data/train/5557.csv',\n",
       " '/home/md/workspace/Apollo_model_dev/v1/code/../data/train/3676.csv',\n",
       " '/home/md/workspace/Apollo_model_dev/v1/code/../data/train/4865.csv',\n",
       " '/home/md/workspace/Apollo_model_dev/v1/code/../data/train/662.csv',\n",
       " '/home/md/workspace/Apollo_model_dev/v1/code/../data/train/493.csv',\n",
       " '/home/md/workspace/Apollo_model_dev/v1/code/../data/train/1496.csv',\n",
       " '/home/md/workspace/Apollo_model_dev/v1/code/../data/train/1840.csv',\n",
       " '/home/md/workspace/Apollo_model_dev/v1/code/../data/train/5397.csv',\n",
       " '/home/md/workspace/Apollo_model_dev/v1/code/../data/train/1091.csv',\n",
       " '/home/md/workspace/Apollo_model_dev/v1/code/../data/train/3950.csv',\n",
       " '/home/md/workspace/Apollo_model_dev/v1/code/../data/train/703.csv',\n",
       " '/home/md/workspace/Apollo_model_dev/v1/code/../data/train/4217.csv',\n",
       " '/home/md/workspace/Apollo_model_dev/v1/code/../data/train/4808.csv',\n",
       " '/home/md/workspace/Apollo_model_dev/v1/code/../data/train/1442.csv',\n",
       " '/home/md/workspace/Apollo_model_dev/v1/code/../data/train/839.csv',\n",
       " '/home/md/workspace/Apollo_model_dev/v1/code/../data/train/261.csv',\n",
       " '/home/md/workspace/Apollo_model_dev/v1/code/../data/train/1572.csv',\n",
       " '/home/md/workspace/Apollo_model_dev/v1/code/../data/train/439.csv',\n",
       " '/home/md/workspace/Apollo_model_dev/v1/code/../data/train/4763.csv',\n",
       " '/home/md/workspace/Apollo_model_dev/v1/code/../data/train/3430.csv',\n",
       " '/home/md/workspace/Apollo_model_dev/v1/code/../data/train/6028.csv',\n",
       " '/home/md/workspace/Apollo_model_dev/v1/code/../data/train/6321.csv',\n",
       " '/home/md/workspace/Apollo_model_dev/v1/code/../data/train/4099.csv',\n",
       " '/home/md/workspace/Apollo_model_dev/v1/code/../data/train/4010.csv',\n",
       " '/home/md/workspace/Apollo_model_dev/v1/code/../data/train/408.csv',\n",
       " '/home/md/workspace/Apollo_model_dev/v1/code/../data/train/754.csv',\n",
       " '/home/md/workspace/Apollo_model_dev/v1/code/../data/train/6262.csv',\n",
       " '/home/md/workspace/Apollo_model_dev/v1/code/../data/train/5081.csv',\n",
       " '/home/md/workspace/Apollo_model_dev/v1/code/../data/train/3689.csv',\n",
       " '/home/md/workspace/Apollo_model_dev/v1/code/../data/train/2505.csv',\n",
       " '/home/md/workspace/Apollo_model_dev/v1/code/../data/train/2429.csv',\n",
       " '/home/md/workspace/Apollo_model_dev/v1/code/../data/train/2447.csv',\n",
       " '/home/md/workspace/Apollo_model_dev/v1/code/../data/train/1936.csv',\n",
       " '/home/md/workspace/Apollo_model_dev/v1/code/../data/train/3813.csv',\n",
       " '/home/md/workspace/Apollo_model_dev/v1/code/../data/train/2207.csv',\n",
       " '/home/md/workspace/Apollo_model_dev/v1/code/../data/train/4600.csv',\n",
       " '/home/md/workspace/Apollo_model_dev/v1/code/../data/train/3734.csv',\n",
       " '/home/md/workspace/Apollo_model_dev/v1/code/../data/train/187.csv',\n",
       " '/home/md/workspace/Apollo_model_dev/v1/code/../data/train/2654.csv',\n",
       " '/home/md/workspace/Apollo_model_dev/v1/code/../data/train/1553.csv',\n",
       " '/home/md/workspace/Apollo_model_dev/v1/code/../data/train/3033.csv',\n",
       " '/home/md/workspace/Apollo_model_dev/v1/code/../data/train/976.csv',\n",
       " '/home/md/workspace/Apollo_model_dev/v1/code/../data/train/2503.csv',\n",
       " '/home/md/workspace/Apollo_model_dev/v1/code/../data/train/1316.csv',\n",
       " '/home/md/workspace/Apollo_model_dev/v1/code/../data/train/2623.csv',\n",
       " '/home/md/workspace/Apollo_model_dev/v1/code/../data/train/2918.csv',\n",
       " '/home/md/workspace/Apollo_model_dev/v1/code/../data/train/2162.csv',\n",
       " '/home/md/workspace/Apollo_model_dev/v1/code/../data/train/1284.csv',\n",
       " '/home/md/workspace/Apollo_model_dev/v1/code/../data/train/6507.csv',\n",
       " '/home/md/workspace/Apollo_model_dev/v1/code/../data/train/702.csv',\n",
       " '/home/md/workspace/Apollo_model_dev/v1/code/../data/train/373.csv',\n",
       " '/home/md/workspace/Apollo_model_dev/v1/code/../data/train/424.csv',\n",
       " '/home/md/workspace/Apollo_model_dev/v1/code/../data/train/1294.csv',\n",
       " '/home/md/workspace/Apollo_model_dev/v1/code/../data/train/2114.csv',\n",
       " '/home/md/workspace/Apollo_model_dev/v1/code/../data/train/4327.csv',\n",
       " '/home/md/workspace/Apollo_model_dev/v1/code/../data/train/1399.csv',\n",
       " '/home/md/workspace/Apollo_model_dev/v1/code/../data/train/3729.csv',\n",
       " '/home/md/workspace/Apollo_model_dev/v1/code/../data/train/705.csv',\n",
       " '/home/md/workspace/Apollo_model_dev/v1/code/../data/train/4587.csv',\n",
       " '/home/md/workspace/Apollo_model_dev/v1/code/../data/train/2337.csv',\n",
       " '/home/md/workspace/Apollo_model_dev/v1/code/../data/train/3264.csv',\n",
       " '/home/md/workspace/Apollo_model_dev/v1/code/../data/train/3930.csv',\n",
       " '/home/md/workspace/Apollo_model_dev/v1/code/../data/train/1691.csv',\n",
       " '/home/md/workspace/Apollo_model_dev/v1/code/../data/train/2614.csv',\n",
       " '/home/md/workspace/Apollo_model_dev/v1/code/../data/train/6313.csv',\n",
       " '/home/md/workspace/Apollo_model_dev/v1/code/../data/train/3837.csv',\n",
       " '/home/md/workspace/Apollo_model_dev/v1/code/../data/train/4376.csv',\n",
       " '/home/md/workspace/Apollo_model_dev/v1/code/../data/train/2799.csv',\n",
       " '/home/md/workspace/Apollo_model_dev/v1/code/../data/train/5036.csv',\n",
       " '/home/md/workspace/Apollo_model_dev/v1/code/../data/train/314.csv',\n",
       " '/home/md/workspace/Apollo_model_dev/v1/code/../data/train/979.csv',\n",
       " '/home/md/workspace/Apollo_model_dev/v1/code/../data/train/4773.csv',\n",
       " '/home/md/workspace/Apollo_model_dev/v1/code/../data/train/903.csv',\n",
       " '/home/md/workspace/Apollo_model_dev/v1/code/../data/train/5628.csv',\n",
       " '/home/md/workspace/Apollo_model_dev/v1/code/../data/train/5643.csv',\n",
       " '/home/md/workspace/Apollo_model_dev/v1/code/../data/train/6612.csv',\n",
       " '/home/md/workspace/Apollo_model_dev/v1/code/../data/train/546.csv',\n",
       " '/home/md/workspace/Apollo_model_dev/v1/code/../data/train/4967.csv',\n",
       " '/home/md/workspace/Apollo_model_dev/v1/code/../data/train/6504.csv',\n",
       " '/home/md/workspace/Apollo_model_dev/v1/code/../data/train/2185.csv',\n",
       " '/home/md/workspace/Apollo_model_dev/v1/code/../data/train/4614.csv',\n",
       " '/home/md/workspace/Apollo_model_dev/v1/code/../data/train/369.csv',\n",
       " '/home/md/workspace/Apollo_model_dev/v1/code/../data/train/4331.csv',\n",
       " '/home/md/workspace/Apollo_model_dev/v1/code/../data/train/4511.csv',\n",
       " '/home/md/workspace/Apollo_model_dev/v1/code/../data/train/5439.csv',\n",
       " '/home/md/workspace/Apollo_model_dev/v1/code/../data/train/566.csv',\n",
       " '/home/md/workspace/Apollo_model_dev/v1/code/../data/train/5552.csv',\n",
       " '/home/md/workspace/Apollo_model_dev/v1/code/../data/train/4537.csv',\n",
       " '/home/md/workspace/Apollo_model_dev/v1/code/../data/train/1949.csv',\n",
       " '/home/md/workspace/Apollo_model_dev/v1/code/../data/train/1714.csv',\n",
       " '/home/md/workspace/Apollo_model_dev/v1/code/../data/train/2375.csv',\n",
       " '/home/md/workspace/Apollo_model_dev/v1/code/../data/train/5879.csv',\n",
       " '/home/md/workspace/Apollo_model_dev/v1/code/../data/train/5421.csv',\n",
       " '/home/md/workspace/Apollo_model_dev/v1/code/../data/train/1181.csv',\n",
       " '/home/md/workspace/Apollo_model_dev/v1/code/../data/train/4750.csv',\n",
       " '/home/md/workspace/Apollo_model_dev/v1/code/../data/train/6119.csv',\n",
       " '/home/md/workspace/Apollo_model_dev/v1/code/../data/train/2618.csv',\n",
       " '/home/md/workspace/Apollo_model_dev/v1/code/../data/train/6293.csv',\n",
       " '/home/md/workspace/Apollo_model_dev/v1/code/../data/train/5559.csv',\n",
       " '/home/md/workspace/Apollo_model_dev/v1/code/../data/train/2117.csv',\n",
       " '/home/md/workspace/Apollo_model_dev/v1/code/../data/train/1032.csv',\n",
       " '/home/md/workspace/Apollo_model_dev/v1/code/../data/train/4899.csv',\n",
       " '/home/md/workspace/Apollo_model_dev/v1/code/../data/train/2529.csv',\n",
       " '/home/md/workspace/Apollo_model_dev/v1/code/../data/train/5365.csv',\n",
       " '/home/md/workspace/Apollo_model_dev/v1/code/../data/train/1224.csv',\n",
       " '/home/md/workspace/Apollo_model_dev/v1/code/../data/train/625.csv',\n",
       " '/home/md/workspace/Apollo_model_dev/v1/code/../data/train/6224.csv',\n",
       " '/home/md/workspace/Apollo_model_dev/v1/code/../data/train/3932.csv',\n",
       " '/home/md/workspace/Apollo_model_dev/v1/code/../data/train/2828.csv',\n",
       " '/home/md/workspace/Apollo_model_dev/v1/code/../data/train/1397.csv',\n",
       " '/home/md/workspace/Apollo_model_dev/v1/code/../data/train/5891.csv',\n",
       " '/home/md/workspace/Apollo_model_dev/v1/code/../data/train/5428.csv',\n",
       " '/home/md/workspace/Apollo_model_dev/v1/code/../data/train/2949.csv',\n",
       " '/home/md/workspace/Apollo_model_dev/v1/code/../data/train/3200.csv',\n",
       " '/home/md/workspace/Apollo_model_dev/v1/code/../data/train/2692.csv',\n",
       " '/home/md/workspace/Apollo_model_dev/v1/code/../data/train/5721.csv',\n",
       " '/home/md/workspace/Apollo_model_dev/v1/code/../data/train/4050.csv',\n",
       " '/home/md/workspace/Apollo_model_dev/v1/code/../data/train/1567.csv',\n",
       " '/home/md/workspace/Apollo_model_dev/v1/code/../data/train/571.csv',\n",
       " '/home/md/workspace/Apollo_model_dev/v1/code/../data/train/3015.csv',\n",
       " '/home/md/workspace/Apollo_model_dev/v1/code/../data/train/1842.csv',\n",
       " '/home/md/workspace/Apollo_model_dev/v1/code/../data/train/5137.csv',\n",
       " '/home/md/workspace/Apollo_model_dev/v1/code/../data/train/4075.csv',\n",
       " '/home/md/workspace/Apollo_model_dev/v1/code/../data/train/1457.csv',\n",
       " '/home/md/workspace/Apollo_model_dev/v1/code/../data/train/4126.csv',\n",
       " '/home/md/workspace/Apollo_model_dev/v1/code/../data/train/4279.csv',\n",
       " '/home/md/workspace/Apollo_model_dev/v1/code/../data/train/5653.csv',\n",
       " '/home/md/workspace/Apollo_model_dev/v1/code/../data/train/6193.csv',\n",
       " '/home/md/workspace/Apollo_model_dev/v1/code/../data/train/5303.csv',\n",
       " '/home/md/workspace/Apollo_model_dev/v1/code/../data/train/1051.csv',\n",
       " '/home/md/workspace/Apollo_model_dev/v1/code/../data/train/6466.csv',\n",
       " '/home/md/workspace/Apollo_model_dev/v1/code/../data/train/4810.csv',\n",
       " '/home/md/workspace/Apollo_model_dev/v1/code/../data/train/4983.csv',\n",
       " '/home/md/workspace/Apollo_model_dev/v1/code/../data/train/2742.csv',\n",
       " '/home/md/workspace/Apollo_model_dev/v1/code/../data/train/6064.csv',\n",
       " '/home/md/workspace/Apollo_model_dev/v1/code/../data/train/1234.csv',\n",
       " '/home/md/workspace/Apollo_model_dev/v1/code/../data/train/3805.csv',\n",
       " '/home/md/workspace/Apollo_model_dev/v1/code/../data/train/4181.csv',\n",
       " '/home/md/workspace/Apollo_model_dev/v1/code/../data/train/437.csv',\n",
       " '/home/md/workspace/Apollo_model_dev/v1/code/../data/train/6135.csv',\n",
       " '/home/md/workspace/Apollo_model_dev/v1/code/../data/train/4372.csv',\n",
       " '/home/md/workspace/Apollo_model_dev/v1/code/../data/train/4066.csv',\n",
       " '/home/md/workspace/Apollo_model_dev/v1/code/../data/train/6431.csv',\n",
       " '/home/md/workspace/Apollo_model_dev/v1/code/../data/train/1985.csv',\n",
       " '/home/md/workspace/Apollo_model_dev/v1/code/../data/train/6049.csv',\n",
       " '/home/md/workspace/Apollo_model_dev/v1/code/../data/train/685.csv',\n",
       " '/home/md/workspace/Apollo_model_dev/v1/code/../data/train/5507.csv',\n",
       " '/home/md/workspace/Apollo_model_dev/v1/code/../data/train/5668.csv',\n",
       " '/home/md/workspace/Apollo_model_dev/v1/code/../data/train/4295.csv',\n",
       " '/home/md/workspace/Apollo_model_dev/v1/code/../data/train/3129.csv',\n",
       " '/home/md/workspace/Apollo_model_dev/v1/code/../data/train/4695.csv',\n",
       " '/home/md/workspace/Apollo_model_dev/v1/code/../data/train/2545.csv',\n",
       " '/home/md/workspace/Apollo_model_dev/v1/code/../data/train/1416.csv',\n",
       " '/home/md/workspace/Apollo_model_dev/v1/code/../data/train/2199.csv',\n",
       " '/home/md/workspace/Apollo_model_dev/v1/code/../data/train/6272.csv',\n",
       " '/home/md/workspace/Apollo_model_dev/v1/code/../data/train/5669.csv',\n",
       " '/home/md/workspace/Apollo_model_dev/v1/code/../data/train/6324.csv',\n",
       " '/home/md/workspace/Apollo_model_dev/v1/code/../data/train/3552.csv',\n",
       " '/home/md/workspace/Apollo_model_dev/v1/code/../data/train/2028.csv',\n",
       " '/home/md/workspace/Apollo_model_dev/v1/code/../data/train/447.csv',\n",
       " '/home/md/workspace/Apollo_model_dev/v1/code/../data/train/2803.csv',\n",
       " '/home/md/workspace/Apollo_model_dev/v1/code/../data/train/3845.csv',\n",
       " '/home/md/workspace/Apollo_model_dev/v1/code/../data/train/6550.csv',\n",
       " '/home/md/workspace/Apollo_model_dev/v1/code/../data/train/339.csv',\n",
       " '/home/md/workspace/Apollo_model_dev/v1/code/../data/train/2169.csv',\n",
       " '/home/md/workspace/Apollo_model_dev/v1/code/../data/train/3201.csv',\n",
       " '/home/md/workspace/Apollo_model_dev/v1/code/../data/train/2574.csv',\n",
       " '/home/md/workspace/Apollo_model_dev/v1/code/../data/train/4556.csv',\n",
       " '/home/md/workspace/Apollo_model_dev/v1/code/../data/train/2657.csv',\n",
       " '/home/md/workspace/Apollo_model_dev/v1/code/../data/train/19.csv',\n",
       " '/home/md/workspace/Apollo_model_dev/v1/code/../data/train/5591.csv',\n",
       " '/home/md/workspace/Apollo_model_dev/v1/code/../data/train/6344.csv',\n",
       " '/home/md/workspace/Apollo_model_dev/v1/code/../data/train/3126.csv',\n",
       " '/home/md/workspace/Apollo_model_dev/v1/code/../data/train/3358.csv',\n",
       " '/home/md/workspace/Apollo_model_dev/v1/code/../data/train/2108.csv',\n",
       " '/home/md/workspace/Apollo_model_dev/v1/code/../data/train/2785.csv',\n",
       " '/home/md/workspace/Apollo_model_dev/v1/code/../data/train/5224.csv',\n",
       " '/home/md/workspace/Apollo_model_dev/v1/code/../data/train/4770.csv',\n",
       " '/home/md/workspace/Apollo_model_dev/v1/code/../data/train/53.csv',\n",
       " '/home/md/workspace/Apollo_model_dev/v1/code/../data/train/5059.csv',\n",
       " '/home/md/workspace/Apollo_model_dev/v1/code/../data/train/145.csv',\n",
       " '/home/md/workspace/Apollo_model_dev/v1/code/../data/train/1811.csv',\n",
       " '/home/md/workspace/Apollo_model_dev/v1/code/../data/train/6452.csv',\n",
       " '/home/md/workspace/Apollo_model_dev/v1/code/../data/train/2587.csv',\n",
       " '/home/md/workspace/Apollo_model_dev/v1/code/../data/train/5586.csv',\n",
       " '/home/md/workspace/Apollo_model_dev/v1/code/../data/train/1054.csv',\n",
       " '/home/md/workspace/Apollo_model_dev/v1/code/../data/train/1507.csv',\n",
       " '/home/md/workspace/Apollo_model_dev/v1/code/../data/train/937.csv',\n",
       " '/home/md/workspace/Apollo_model_dev/v1/code/../data/train/5498.csv',\n",
       " '/home/md/workspace/Apollo_model_dev/v1/code/../data/train/6109.csv',\n",
       " '/home/md/workspace/Apollo_model_dev/v1/code/../data/train/4877.csv',\n",
       " '/home/md/workspace/Apollo_model_dev/v1/code/../data/train/2937.csv',\n",
       " '/home/md/workspace/Apollo_model_dev/v1/code/../data/train/1172.csv',\n",
       " '/home/md/workspace/Apollo_model_dev/v1/code/../data/train/1231.csv',\n",
       " '/home/md/workspace/Apollo_model_dev/v1/code/../data/train/2331.csv',\n",
       " '/home/md/workspace/Apollo_model_dev/v1/code/../data/train/4647.csv',\n",
       " '/home/md/workspace/Apollo_model_dev/v1/code/../data/train/6196.csv',\n",
       " '/home/md/workspace/Apollo_model_dev/v1/code/../data/train/3103.csv',\n",
       " '/home/md/workspace/Apollo_model_dev/v1/code/../data/train/3563.csv',\n",
       " '/home/md/workspace/Apollo_model_dev/v1/code/../data/train/4700.csv',\n",
       " '/home/md/workspace/Apollo_model_dev/v1/code/../data/train/3161.csv',\n",
       " '/home/md/workspace/Apollo_model_dev/v1/code/../data/train/5966.csv',\n",
       " '/home/md/workspace/Apollo_model_dev/v1/code/../data/train/6587.csv',\n",
       " '/home/md/workspace/Apollo_model_dev/v1/code/../data/train/6552.csv',\n",
       " '/home/md/workspace/Apollo_model_dev/v1/code/../data/train/5021.csv',\n",
       " '/home/md/workspace/Apollo_model_dev/v1/code/../data/train/518.csv',\n",
       " '/home/md/workspace/Apollo_model_dev/v1/code/../data/train/6470.csv',\n",
       " '/home/md/workspace/Apollo_model_dev/v1/code/../data/train/3400.csv',\n",
       " '/home/md/workspace/Apollo_model_dev/v1/code/../data/train/6041.csv',\n",
       " '/home/md/workspace/Apollo_model_dev/v1/code/../data/train/2218.csv',\n",
       " '/home/md/workspace/Apollo_model_dev/v1/code/../data/train/3250.csv',\n",
       " '/home/md/workspace/Apollo_model_dev/v1/code/../data/train/5000.csv',\n",
       " '/home/md/workspace/Apollo_model_dev/v1/code/../data/train/3245.csv',\n",
       " '/home/md/workspace/Apollo_model_dev/v1/code/../data/train/6173.csv',\n",
       " '/home/md/workspace/Apollo_model_dev/v1/code/../data/train/2746.csv',\n",
       " '/home/md/workspace/Apollo_model_dev/v1/code/../data/train/421.csv',\n",
       " '/home/md/workspace/Apollo_model_dev/v1/code/../data/train/141.csv',\n",
       " '/home/md/workspace/Apollo_model_dev/v1/code/../data/train/6302.csv',\n",
       " '/home/md/workspace/Apollo_model_dev/v1/code/../data/train/1892.csv',\n",
       " '/home/md/workspace/Apollo_model_dev/v1/code/../data/train/6337.csv',\n",
       " '/home/md/workspace/Apollo_model_dev/v1/code/../data/train/2074.csv',\n",
       " '/home/md/workspace/Apollo_model_dev/v1/code/../data/train/35.csv',\n",
       " '/home/md/workspace/Apollo_model_dev/v1/code/../data/train/336.csv',\n",
       " '/home/md/workspace/Apollo_model_dev/v1/code/../data/train/653.csv',\n",
       " '/home/md/workspace/Apollo_model_dev/v1/code/../data/train/135.csv',\n",
       " '/home/md/workspace/Apollo_model_dev/v1/code/../data/train/5231.csv',\n",
       " '/home/md/workspace/Apollo_model_dev/v1/code/../data/train/2280.csv',\n",
       " '/home/md/workspace/Apollo_model_dev/v1/code/../data/train/654.csv',\n",
       " '/home/md/workspace/Apollo_model_dev/v1/code/../data/train/4706.csv',\n",
       " '/home/md/workspace/Apollo_model_dev/v1/code/../data/train/3828.csv',\n",
       " '/home/md/workspace/Apollo_model_dev/v1/code/../data/train/3178.csv',\n",
       " '/home/md/workspace/Apollo_model_dev/v1/code/../data/train/399.csv',\n",
       " '/home/md/workspace/Apollo_model_dev/v1/code/../data/train/4686.csv',\n",
       " '/home/md/workspace/Apollo_model_dev/v1/code/../data/train/5785.csv',\n",
       " '/home/md/workspace/Apollo_model_dev/v1/code/../data/train/3113.csv',\n",
       " '/home/md/workspace/Apollo_model_dev/v1/code/../data/train/5762.csv',\n",
       " '/home/md/workspace/Apollo_model_dev/v1/code/../data/train/4084.csv',\n",
       " '/home/md/workspace/Apollo_model_dev/v1/code/../data/train/6188.csv',\n",
       " '/home/md/workspace/Apollo_model_dev/v1/code/../data/train/3659.csv',\n",
       " '/home/md/workspace/Apollo_model_dev/v1/code/../data/train/915.csv',\n",
       " '/home/md/workspace/Apollo_model_dev/v1/code/../data/train/6657.csv',\n",
       " '/home/md/workspace/Apollo_model_dev/v1/code/../data/train/2178.csv',\n",
       " '/home/md/workspace/Apollo_model_dev/v1/code/../data/train/3415.csv',\n",
       " '/home/md/workspace/Apollo_model_dev/v1/code/../data/train/3307.csv',\n",
       " '/home/md/workspace/Apollo_model_dev/v1/code/../data/train/5364.csv',\n",
       " '/home/md/workspace/Apollo_model_dev/v1/code/../data/train/2598.csv',\n",
       " '/home/md/workspace/Apollo_model_dev/v1/code/../data/train/2462.csv',\n",
       " '/home/md/workspace/Apollo_model_dev/v1/code/../data/train/4233.csv',\n",
       " '/home/md/workspace/Apollo_model_dev/v1/code/../data/train/5368.csv',\n",
       " '/home/md/workspace/Apollo_model_dev/v1/code/../data/train/1971.csv',\n",
       " '/home/md/workspace/Apollo_model_dev/v1/code/../data/train/2588.csv',\n",
       " '/home/md/workspace/Apollo_model_dev/v1/code/../data/train/67.csv',\n",
       " '/home/md/workspace/Apollo_model_dev/v1/code/../data/train/5595.csv',\n",
       " '/home/md/workspace/Apollo_model_dev/v1/code/../data/train/5871.csv',\n",
       " '/home/md/workspace/Apollo_model_dev/v1/code/../data/train/2868.csv',\n",
       " '/home/md/workspace/Apollo_model_dev/v1/code/../data/train/3184.csv',\n",
       " '/home/md/workspace/Apollo_model_dev/v1/code/../data/train/3511.csv',\n",
       " '/home/md/workspace/Apollo_model_dev/v1/code/../data/train/2260.csv',\n",
       " '/home/md/workspace/Apollo_model_dev/v1/code/../data/train/2858.csv',\n",
       " '/home/md/workspace/Apollo_model_dev/v1/code/../data/train/5183.csv',\n",
       " '/home/md/workspace/Apollo_model_dev/v1/code/../data/train/2382.csv',\n",
       " '/home/md/workspace/Apollo_model_dev/v1/code/../data/train/3824.csv',\n",
       " '/home/md/workspace/Apollo_model_dev/v1/code/../data/train/6289.csv',\n",
       " '/home/md/workspace/Apollo_model_dev/v1/code/../data/train/5060.csv',\n",
       " '/home/md/workspace/Apollo_model_dev/v1/code/../data/train/1533.csv',\n",
       " '/home/md/workspace/Apollo_model_dev/v1/code/../data/train/2269.csv',\n",
       " '/home/md/workspace/Apollo_model_dev/v1/code/../data/train/4294.csv',\n",
       " '/home/md/workspace/Apollo_model_dev/v1/code/../data/train/5138.csv',\n",
       " '/home/md/workspace/Apollo_model_dev/v1/code/../data/train/3972.csv',\n",
       " '/home/md/workspace/Apollo_model_dev/v1/code/../data/train/5923.csv',\n",
       " '/home/md/workspace/Apollo_model_dev/v1/code/../data/train/1078.csv',\n",
       " '/home/md/workspace/Apollo_model_dev/v1/code/../data/train/4947.csv',\n",
       " '/home/md/workspace/Apollo_model_dev/v1/code/../data/train/4345.csv',\n",
       " '/home/md/workspace/Apollo_model_dev/v1/code/../data/train/5576.csv',\n",
       " '/home/md/workspace/Apollo_model_dev/v1/code/../data/train/3258.csv',\n",
       " '/home/md/workspace/Apollo_model_dev/v1/code/../data/train/3431.csv',\n",
       " '/home/md/workspace/Apollo_model_dev/v1/code/../data/train/192.csv',\n",
       " '/home/md/workspace/Apollo_model_dev/v1/code/../data/train/4497.csv',\n",
       " '/home/md/workspace/Apollo_model_dev/v1/code/../data/train/2848.csv',\n",
       " '/home/md/workspace/Apollo_model_dev/v1/code/../data/train/3443.csv',\n",
       " '/home/md/workspace/Apollo_model_dev/v1/code/../data/train/997.csv',\n",
       " '/home/md/workspace/Apollo_model_dev/v1/code/../data/train/1909.csv',\n",
       " '/home/md/workspace/Apollo_model_dev/v1/code/../data/train/2973.csv',\n",
       " '/home/md/workspace/Apollo_model_dev/v1/code/../data/train/2987.csv',\n",
       " '/home/md/workspace/Apollo_model_dev/v1/code/../data/train/5319.csv',\n",
       " '/home/md/workspace/Apollo_model_dev/v1/code/../data/train/6082.csv',\n",
       " '/home/md/workspace/Apollo_model_dev/v1/code/../data/train/3198.csv',\n",
       " '/home/md/workspace/Apollo_model_dev/v1/code/../data/train/2633.csv',\n",
       " '/home/md/workspace/Apollo_model_dev/v1/code/../data/train/2596.csv',\n",
       " '/home/md/workspace/Apollo_model_dev/v1/code/../data/train/3386.csv',\n",
       " '/home/md/workspace/Apollo_model_dev/v1/code/../data/train/3912.csv',\n",
       " '/home/md/workspace/Apollo_model_dev/v1/code/../data/train/5781.csv',\n",
       " '/home/md/workspace/Apollo_model_dev/v1/code/../data/train/165.csv',\n",
       " '/home/md/workspace/Apollo_model_dev/v1/code/../data/train/3668.csv',\n",
       " '/home/md/workspace/Apollo_model_dev/v1/code/../data/train/3948.csv',\n",
       " '/home/md/workspace/Apollo_model_dev/v1/code/../data/train/3885.csv',\n",
       " '/home/md/workspace/Apollo_model_dev/v1/code/../data/train/6178.csv',\n",
       " '/home/md/workspace/Apollo_model_dev/v1/code/../data/train/1381.csv',\n",
       " '/home/md/workspace/Apollo_model_dev/v1/code/../data/train/4872.csv',\n",
       " '/home/md/workspace/Apollo_model_dev/v1/code/../data/train/5420.csv',\n",
       " '/home/md/workspace/Apollo_model_dev/v1/code/../data/train/5635.csv',\n",
       " '/home/md/workspace/Apollo_model_dev/v1/code/../data/train/6044.csv',\n",
       " '/home/md/workspace/Apollo_model_dev/v1/code/../data/train/2964.csv',\n",
       " '/home/md/workspace/Apollo_model_dev/v1/code/../data/train/3352.csv',\n",
       " '/home/md/workspace/Apollo_model_dev/v1/code/../data/train/3603.csv',\n",
       " '/home/md/workspace/Apollo_model_dev/v1/code/../data/train/490.csv',\n",
       " '/home/md/workspace/Apollo_model_dev/v1/code/../data/train/4523.csv',\n",
       " '/home/md/workspace/Apollo_model_dev/v1/code/../data/train/3639.csv',\n",
       " '/home/md/workspace/Apollo_model_dev/v1/code/../data/train/1159.csv',\n",
       " '/home/md/workspace/Apollo_model_dev/v1/code/../data/train/5473.csv',\n",
       " '/home/md/workspace/Apollo_model_dev/v1/code/../data/train/1035.csv',\n",
       " '/home/md/workspace/Apollo_model_dev/v1/code/../data/train/3656.csv',\n",
       " '/home/md/workspace/Apollo_model_dev/v1/code/../data/train/3139.csv',\n",
       " '/home/md/workspace/Apollo_model_dev/v1/code/../data/train/820.csv',\n",
       " '/home/md/workspace/Apollo_model_dev/v1/code/../data/train/444.csv',\n",
       " '/home/md/workspace/Apollo_model_dev/v1/code/../data/train/3289.csv',\n",
       " '/home/md/workspace/Apollo_model_dev/v1/code/../data/train/1780.csv',\n",
       " '/home/md/workspace/Apollo_model_dev/v1/code/../data/train/3716.csv',\n",
       " '/home/md/workspace/Apollo_model_dev/v1/code/../data/train/3218.csv',\n",
       " '/home/md/workspace/Apollo_model_dev/v1/code/../data/train/5296.csv',\n",
       " '/home/md/workspace/Apollo_model_dev/v1/code/../data/train/3192.csv',\n",
       " '/home/md/workspace/Apollo_model_dev/v1/code/../data/train/3963.csv',\n",
       " '/home/md/workspace/Apollo_model_dev/v1/code/../data/train/2500.csv',\n",
       " '/home/md/workspace/Apollo_model_dev/v1/code/../data/train/3395.csv',\n",
       " '/home/md/workspace/Apollo_model_dev/v1/code/../data/train/743.csv',\n",
       " '/home/md/workspace/Apollo_model_dev/v1/code/../data/train/1326.csv',\n",
       " '/home/md/workspace/Apollo_model_dev/v1/code/../data/train/1791.csv',\n",
       " '/home/md/workspace/Apollo_model_dev/v1/code/../data/train/6443.csv',\n",
       " '/home/md/workspace/Apollo_model_dev/v1/code/../data/train/6450.csv',\n",
       " '/home/md/workspace/Apollo_model_dev/v1/code/../data/train/803.csv',\n",
       " '/home/md/workspace/Apollo_model_dev/v1/code/../data/train/1235.csv',\n",
       " '/home/md/workspace/Apollo_model_dev/v1/code/../data/train/2997.csv',\n",
       " '/home/md/workspace/Apollo_model_dev/v1/code/../data/train/4917.csv',\n",
       " '/home/md/workspace/Apollo_model_dev/v1/code/../data/train/1269.csv',\n",
       " '/home/md/workspace/Apollo_model_dev/v1/code/../data/train/892.csv',\n",
       " '/home/md/workspace/Apollo_model_dev/v1/code/../data/train/4262.csv',\n",
       " '/home/md/workspace/Apollo_model_dev/v1/code/../data/train/2418.csv',\n",
       " '/home/md/workspace/Apollo_model_dev/v1/code/../data/train/658.csv',\n",
       " '/home/md/workspace/Apollo_model_dev/v1/code/../data/train/124.csv',\n",
       " '/home/md/workspace/Apollo_model_dev/v1/code/../data/train/1992.csv',\n",
       " '/home/md/workspace/Apollo_model_dev/v1/code/../data/train/4334.csv',\n",
       " '/home/md/workspace/Apollo_model_dev/v1/code/../data/train/3886.csv',\n",
       " '/home/md/workspace/Apollo_model_dev/v1/code/../data/train/2601.csv',\n",
       " '/home/md/workspace/Apollo_model_dev/v1/code/../data/train/2583.csv',\n",
       " '/home/md/workspace/Apollo_model_dev/v1/code/../data/train/4715.csv',\n",
       " '/home/md/workspace/Apollo_model_dev/v1/code/../data/train/6408.csv',\n",
       " '/home/md/workspace/Apollo_model_dev/v1/code/../data/train/338.csv',\n",
       " '/home/md/workspace/Apollo_model_dev/v1/code/../data/train/2076.csv',\n",
       " '/home/md/workspace/Apollo_model_dev/v1/code/../data/train/1371.csv',\n",
       " '/home/md/workspace/Apollo_model_dev/v1/code/../data/train/1501.csv',\n",
       " '/home/md/workspace/Apollo_model_dev/v1/code/../data/train/1690.csv',\n",
       " '/home/md/workspace/Apollo_model_dev/v1/code/../data/train/1872.csv',\n",
       " '/home/md/workspace/Apollo_model_dev/v1/code/../data/train/4088.csv',\n",
       " '/home/md/workspace/Apollo_model_dev/v1/code/../data/train/2599.csv',\n",
       " '/home/md/workspace/Apollo_model_dev/v1/code/../data/train/2006.csv',\n",
       " '/home/md/workspace/Apollo_model_dev/v1/code/../data/train/5065.csv',\n",
       " '/home/md/workspace/Apollo_model_dev/v1/code/../data/train/3025.csv',\n",
       " '/home/md/workspace/Apollo_model_dev/v1/code/../data/train/6567.csv',\n",
       " '/home/md/workspace/Apollo_model_dev/v1/code/../data/train/4349.csv',\n",
       " '/home/md/workspace/Apollo_model_dev/v1/code/../data/train/4830.csv',\n",
       " '/home/md/workspace/Apollo_model_dev/v1/code/../data/train/6607.csv',\n",
       " '/home/md/workspace/Apollo_model_dev/v1/code/../data/train/3747.csv',\n",
       " '/home/md/workspace/Apollo_model_dev/v1/code/../data/train/4209.csv',\n",
       " '/home/md/workspace/Apollo_model_dev/v1/code/../data/train/4797.csv',\n",
       " '/home/md/workspace/Apollo_model_dev/v1/code/../data/train/6261.csv',\n",
       " '/home/md/workspace/Apollo_model_dev/v1/code/../data/train/209.csv',\n",
       " '/home/md/workspace/Apollo_model_dev/v1/code/../data/train/2355.csv',\n",
       " '/home/md/workspace/Apollo_model_dev/v1/code/../data/train/319.csv',\n",
       " '/home/md/workspace/Apollo_model_dev/v1/code/../data/train/2366.csv',\n",
       " '/home/md/workspace/Apollo_model_dev/v1/code/../data/train/5174.csv',\n",
       " '/home/md/workspace/Apollo_model_dev/v1/code/../data/train/4534.csv',\n",
       " '/home/md/workspace/Apollo_model_dev/v1/code/../data/train/5331.csv',\n",
       " '/home/md/workspace/Apollo_model_dev/v1/code/../data/train/5162.csv',\n",
       " '/home/md/workspace/Apollo_model_dev/v1/code/../data/train/4417.csv',\n",
       " '/home/md/workspace/Apollo_model_dev/v1/code/../data/train/2002.csv',\n",
       " '/home/md/workspace/Apollo_model_dev/v1/code/../data/train/2833.csv',\n",
       " '/home/md/workspace/Apollo_model_dev/v1/code/../data/train/4219.csv',\n",
       " '/home/md/workspace/Apollo_model_dev/v1/code/../data/train/5064.csv',\n",
       " '/home/md/workspace/Apollo_model_dev/v1/code/../data/train/1737.csv',\n",
       " '/home/md/workspace/Apollo_model_dev/v1/code/../data/train/2213.csv',\n",
       " '/home/md/workspace/Apollo_model_dev/v1/code/../data/train/4470.csv',\n",
       " '/home/md/workspace/Apollo_model_dev/v1/code/../data/train/57.csv',\n",
       " '/home/md/workspace/Apollo_model_dev/v1/code/../data/train/6100.csv',\n",
       " '/home/md/workspace/Apollo_model_dev/v1/code/../data/train/1295.csv',\n",
       " '/home/md/workspace/Apollo_model_dev/v1/code/../data/train/3641.csv',\n",
       " '/home/md/workspace/Apollo_model_dev/v1/code/../data/train/131.csv',\n",
       " '/home/md/workspace/Apollo_model_dev/v1/code/../data/train/4554.csv',\n",
       " '/home/md/workspace/Apollo_model_dev/v1/code/../data/train/2581.csv',\n",
       " '/home/md/workspace/Apollo_model_dev/v1/code/../data/train/6134.csv',\n",
       " '/home/md/workspace/Apollo_model_dev/v1/code/../data/train/1257.csv',\n",
       " '/home/md/workspace/Apollo_model_dev/v1/code/../data/train/3753.csv',\n",
       " '/home/md/workspace/Apollo_model_dev/v1/code/../data/train/1074.csv',\n",
       " '/home/md/workspace/Apollo_model_dev/v1/code/../data/train/856.csv',\n",
       " '/home/md/workspace/Apollo_model_dev/v1/code/../data/train/3827.csv',\n",
       " '/home/md/workspace/Apollo_model_dev/v1/code/../data/train/346.csv',\n",
       " '/home/md/workspace/Apollo_model_dev/v1/code/../data/train/5924.csv',\n",
       " '/home/md/workspace/Apollo_model_dev/v1/code/../data/train/576.csv',\n",
       " '/home/md/workspace/Apollo_model_dev/v1/code/../data/train/3585.csv',\n",
       " '/home/md/workspace/Apollo_model_dev/v1/code/../data/train/1725.csv',\n",
       " '/home/md/workspace/Apollo_model_dev/v1/code/../data/train/2523.csv',\n",
       " '/home/md/workspace/Apollo_model_dev/v1/code/../data/train/3587.csv',\n",
       " '/home/md/workspace/Apollo_model_dev/v1/code/../data/train/1617.csv',\n",
       " '/home/md/workspace/Apollo_model_dev/v1/code/../data/train/6599.csv',\n",
       " '/home/md/workspace/Apollo_model_dev/v1/code/../data/train/5533.csv',\n",
       " '/home/md/workspace/Apollo_model_dev/v1/code/../data/train/4039.csv',\n",
       " '/home/md/workspace/Apollo_model_dev/v1/code/../data/train/4871.csv',\n",
       " '/home/md/workspace/Apollo_model_dev/v1/code/../data/train/128.csv',\n",
       " '/home/md/workspace/Apollo_model_dev/v1/code/../data/train/1744.csv',\n",
       " '/home/md/workspace/Apollo_model_dev/v1/code/../data/train/4368.csv',\n",
       " '/home/md/workspace/Apollo_model_dev/v1/code/../data/train/4832.csv',\n",
       " '/home/md/workspace/Apollo_model_dev/v1/code/../data/train/5574.csv',\n",
       " '/home/md/workspace/Apollo_model_dev/v1/code/../data/train/2522.csv',\n",
       " '/home/md/workspace/Apollo_model_dev/v1/code/../data/train/5640.csv',\n",
       " '/home/md/workspace/Apollo_model_dev/v1/code/../data/train/3038.csv',\n",
       " '/home/md/workspace/Apollo_model_dev/v1/code/../data/train/672.csv',\n",
       " '/home/md/workspace/Apollo_model_dev/v1/code/../data/train/909.csv',\n",
       " '/home/md/workspace/Apollo_model_dev/v1/code/../data/train/219.csv',\n",
       " '/home/md/workspace/Apollo_model_dev/v1/code/../data/train/2686.csv',\n",
       " '/home/md/workspace/Apollo_model_dev/v1/code/../data/train/879.csv',\n",
       " '/home/md/workspace/Apollo_model_dev/v1/code/../data/train/5636.csv',\n",
       " '/home/md/workspace/Apollo_model_dev/v1/code/../data/train/1423.csv',\n",
       " '/home/md/workspace/Apollo_model_dev/v1/code/../data/train/4890.csv',\n",
       " '/home/md/workspace/Apollo_model_dev/v1/code/../data/train/5583.csv',\n",
       " '/home/md/workspace/Apollo_model_dev/v1/code/../data/train/2810.csv',\n",
       " '/home/md/workspace/Apollo_model_dev/v1/code/../data/train/2290.csv',\n",
       " '/home/md/workspace/Apollo_model_dev/v1/code/../data/train/6087.csv',\n",
       " '/home/md/workspace/Apollo_model_dev/v1/code/../data/train/1204.csv',\n",
       " '/home/md/workspace/Apollo_model_dev/v1/code/../data/train/1829.csv',\n",
       " '/home/md/workspace/Apollo_model_dev/v1/code/../data/train/1260.csv',\n",
       " '/home/md/workspace/Apollo_model_dev/v1/code/../data/train/2148.csv',\n",
       " '/home/md/workspace/Apollo_model_dev/v1/code/../data/train/2873.csv',\n",
       " '/home/md/workspace/Apollo_model_dev/v1/code/../data/train/5282.csv',\n",
       " '/home/md/workspace/Apollo_model_dev/v1/code/../data/train/4058.csv',\n",
       " '/home/md/workspace/Apollo_model_dev/v1/code/../data/train/6441.csv',\n",
       " '/home/md/workspace/Apollo_model_dev/v1/code/../data/train/5902.csv',\n",
       " '/home/md/workspace/Apollo_model_dev/v1/code/../data/train/6333.csv',\n",
       " '/home/md/workspace/Apollo_model_dev/v1/code/../data/train/1861.csv',\n",
       " '/home/md/workspace/Apollo_model_dev/v1/code/../data/train/4174.csv',\n",
       " '/home/md/workspace/Apollo_model_dev/v1/code/../data/train/4434.csv',\n",
       " '/home/md/workspace/Apollo_model_dev/v1/code/../data/train/227.csv',\n",
       " '/home/md/workspace/Apollo_model_dev/v1/code/../data/train/6463.csv',\n",
       " '/home/md/workspace/Apollo_model_dev/v1/code/../data/train/457.csv',\n",
       " '/home/md/workspace/Apollo_model_dev/v1/code/../data/train/3880.csv',\n",
       " '/home/md/workspace/Apollo_model_dev/v1/code/../data/train/6394.csv',\n",
       " '/home/md/workspace/Apollo_model_dev/v1/code/../data/train/3767.csv',\n",
       " '/home/md/workspace/Apollo_model_dev/v1/code/../data/train/6605.csv',\n",
       " '/home/md/workspace/Apollo_model_dev/v1/code/../data/train/5679.csv',\n",
       " '/home/md/workspace/Apollo_model_dev/v1/code/../data/train/4477.csv',\n",
       " '/home/md/workspace/Apollo_model_dev/v1/code/../data/train/5361.csv',\n",
       " '/home/md/workspace/Apollo_model_dev/v1/code/../data/train/5736.csv',\n",
       " '/home/md/workspace/Apollo_model_dev/v1/code/../data/train/3337.csv',\n",
       " '/home/md/workspace/Apollo_model_dev/v1/code/../data/train/6026.csv',\n",
       " '/home/md/workspace/Apollo_model_dev/v1/code/../data/train/3897.csv',\n",
       " '/home/md/workspace/Apollo_model_dev/v1/code/../data/train/4400.csv',\n",
       " '/home/md/workspace/Apollo_model_dev/v1/code/../data/train/108.csv',\n",
       " '/home/md/workspace/Apollo_model_dev/v1/code/../data/train/5377.csv',\n",
       " '/home/md/workspace/Apollo_model_dev/v1/code/../data/train/3878.csv',\n",
       " '/home/md/workspace/Apollo_model_dev/v1/code/../data/train/2492.csv',\n",
       " '/home/md/workspace/Apollo_model_dev/v1/code/../data/train/6240.csv',\n",
       " '/home/md/workspace/Apollo_model_dev/v1/code/../data/train/4692.csv',\n",
       " '/home/md/workspace/Apollo_model_dev/v1/code/../data/train/974.csv',\n",
       " '/home/md/workspace/Apollo_model_dev/v1/code/../data/train/4768.csv',\n",
       " '/home/md/workspace/Apollo_model_dev/v1/code/../data/train/266.csv',\n",
       " '/home/md/workspace/Apollo_model_dev/v1/code/../data/train/2003.csv',\n",
       " '/home/md/workspace/Apollo_model_dev/v1/code/../data/train/460.csv',\n",
       " '/home/md/workspace/Apollo_model_dev/v1/code/../data/train/4269.csv',\n",
       " '/home/md/workspace/Apollo_model_dev/v1/code/../data/train/2470.csv',\n",
       " '/home/md/workspace/Apollo_model_dev/v1/code/../data/train/3846.csv',\n",
       " '/home/md/workspace/Apollo_model_dev/v1/code/../data/train/1526.csv',\n",
       " '/home/md/workspace/Apollo_model_dev/v1/code/../data/train/2765.csv',\n",
       " '/home/md/workspace/Apollo_model_dev/v1/code/../data/train/6016.csv',\n",
       " '/home/md/workspace/Apollo_model_dev/v1/code/../data/train/1321.csv',\n",
       " '/home/md/workspace/Apollo_model_dev/v1/code/../data/train/3902.csv',\n",
       " '/home/md/workspace/Apollo_model_dev/v1/code/../data/train/3097.csv',\n",
       " '/home/md/workspace/Apollo_model_dev/v1/code/../data/train/927.csv',\n",
       " '/home/md/workspace/Apollo_model_dev/v1/code/../data/train/4500.csv',\n",
       " '/home/md/workspace/Apollo_model_dev/v1/code/../data/train/5200.csv',\n",
       " '/home/md/workspace/Apollo_model_dev/v1/code/../data/train/5143.csv',\n",
       " '/home/md/workspace/Apollo_model_dev/v1/code/../data/train/3063.csv',\n",
       " '/home/md/workspace/Apollo_model_dev/v1/code/../data/train/4184.csv',\n",
       " '/home/md/workspace/Apollo_model_dev/v1/code/../data/train/2098.csv',\n",
       " '/home/md/workspace/Apollo_model_dev/v1/code/../data/train/776.csv',\n",
       " '/home/md/workspace/Apollo_model_dev/v1/code/../data/train/5227.csv',\n",
       " '/home/md/workspace/Apollo_model_dev/v1/code/../data/train/4975.csv',\n",
       " '/home/md/workspace/Apollo_model_dev/v1/code/../data/train/3044.csv',\n",
       " '/home/md/workspace/Apollo_model_dev/v1/code/../data/train/3043.csv',\n",
       " '/home/md/workspace/Apollo_model_dev/v1/code/../data/train/4362.csv',\n",
       " '/home/md/workspace/Apollo_model_dev/v1/code/../data/train/2663.csv',\n",
       " '/home/md/workspace/Apollo_model_dev/v1/code/../data/train/1765.csv',\n",
       " '/home/md/workspace/Apollo_model_dev/v1/code/../data/train/3538.csv',\n",
       " '/home/md/workspace/Apollo_model_dev/v1/code/../data/train/6244.csv',\n",
       " '/home/md/workspace/Apollo_model_dev/v1/code/../data/train/4825.csv',\n",
       " '/home/md/workspace/Apollo_model_dev/v1/code/../data/train/3749.csv',\n",
       " '/home/md/workspace/Apollo_model_dev/v1/code/../data/train/6297.csv',\n",
       " '/home/md/workspace/Apollo_model_dev/v1/code/../data/train/2453.csv',\n",
       " '/home/md/workspace/Apollo_model_dev/v1/code/../data/train/248.csv',\n",
       " '/home/md/workspace/Apollo_model_dev/v1/code/../data/train/554.csv',\n",
       " '/home/md/workspace/Apollo_model_dev/v1/code/../data/train/3638.csv',\n",
       " '/home/md/workspace/Apollo_model_dev/v1/code/../data/train/3898.csv',\n",
       " '/home/md/workspace/Apollo_model_dev/v1/code/../data/train/725.csv',\n",
       " '/home/md/workspace/Apollo_model_dev/v1/code/../data/train/1310.csv',\n",
       " '/home/md/workspace/Apollo_model_dev/v1/code/../data/train/5345.csv',\n",
       " '/home/md/workspace/Apollo_model_dev/v1/code/../data/train/5001.csv',\n",
       " '/home/md/workspace/Apollo_model_dev/v1/code/../data/train/3820.csv',\n",
       " '/home/md/workspace/Apollo_model_dev/v1/code/../data/train/4713.csv',\n",
       " '/home/md/workspace/Apollo_model_dev/v1/code/../data/train/6639.csv',\n",
       " '/home/md/workspace/Apollo_model_dev/v1/code/../data/train/334.csv',\n",
       " '/home/md/workspace/Apollo_model_dev/v1/code/../data/train/5484.csv',\n",
       " '/home/md/workspace/Apollo_model_dev/v1/code/../data/train/65.csv',\n",
       " '/home/md/workspace/Apollo_model_dev/v1/code/../data/train/660.csv',\n",
       " '/home/md/workspace/Apollo_model_dev/v1/code/../data/train/1006.csv',\n",
       " '/home/md/workspace/Apollo_model_dev/v1/code/../data/train/6638.csv',\n",
       " '/home/md/workspace/Apollo_model_dev/v1/code/../data/train/2149.csv',\n",
       " '/home/md/workspace/Apollo_model_dev/v1/code/../data/train/5357.csv',\n",
       " '/home/md/workspace/Apollo_model_dev/v1/code/../data/train/4393.csv',\n",
       " '/home/md/workspace/Apollo_model_dev/v1/code/../data/train/6426.csv',\n",
       " '/home/md/workspace/Apollo_model_dev/v1/code/../data/train/3652.csv',\n",
       " '/home/md/workspace/Apollo_model_dev/v1/code/../data/train/3619.csv',\n",
       " '/home/md/workspace/Apollo_model_dev/v1/code/../data/train/1846.csv',\n",
       " '/home/md/workspace/Apollo_model_dev/v1/code/../data/train/6083.csv',\n",
       " '/home/md/workspace/Apollo_model_dev/v1/code/../data/train/1599.csv',\n",
       " '/home/md/workspace/Apollo_model_dev/v1/code/../data/train/5819.csv',\n",
       " '/home/md/workspace/Apollo_model_dev/v1/code/../data/train/2680.csv',\n",
       " '/home/md/workspace/Apollo_model_dev/v1/code/../data/train/2752.csv',\n",
       " '/home/md/workspace/Apollo_model_dev/v1/code/../data/train/286.csv',\n",
       " '/home/md/workspace/Apollo_model_dev/v1/code/../data/train/406.csv',\n",
       " '/home/md/workspace/Apollo_model_dev/v1/code/../data/train/68.csv',\n",
       " '/home/md/workspace/Apollo_model_dev/v1/code/../data/train/1255.csv',\n",
       " '/home/md/workspace/Apollo_model_dev/v1/code/../data/train/5378.csv',\n",
       " '/home/md/workspace/Apollo_model_dev/v1/code/../data/train/695.csv',\n",
       " '/home/md/workspace/Apollo_model_dev/v1/code/../data/train/1385.csv',\n",
       " '/home/md/workspace/Apollo_model_dev/v1/code/../data/train/1979.csv',\n",
       " '/home/md/workspace/Apollo_model_dev/v1/code/../data/train/5984.csv',\n",
       " '/home/md/workspace/Apollo_model_dev/v1/code/../data/train/1315.csv',\n",
       " '/home/md/workspace/Apollo_model_dev/v1/code/../data/train/2719.csv',\n",
       " '/home/md/workspace/Apollo_model_dev/v1/code/../data/train/3605.csv',\n",
       " '/home/md/workspace/Apollo_model_dev/v1/code/../data/train/5409.csv',\n",
       " '/home/md/workspace/Apollo_model_dev/v1/code/../data/train/1596.csv',\n",
       " '/home/md/workspace/Apollo_model_dev/v1/code/../data/train/2431.csv',\n",
       " '/home/md/workspace/Apollo_model_dev/v1/code/../data/train/882.csv',\n",
       " '/home/md/workspace/Apollo_model_dev/v1/code/../data/train/1486.csv',\n",
       " '/home/md/workspace/Apollo_model_dev/v1/code/../data/train/575.csv',\n",
       " '/home/md/workspace/Apollo_model_dev/v1/code/../data/train/3197.csv',\n",
       " '/home/md/workspace/Apollo_model_dev/v1/code/../data/train/2525.csv',\n",
       " '/home/md/workspace/Apollo_model_dev/v1/code/../data/train/3882.csv',\n",
       " '/home/md/workspace/Apollo_model_dev/v1/code/../data/train/3838.csv',\n",
       " '/home/md/workspace/Apollo_model_dev/v1/code/../data/train/1303.csv',\n",
       " '/home/md/workspace/Apollo_model_dev/v1/code/../data/train/1880.csv',\n",
       " '/home/md/workspace/Apollo_model_dev/v1/code/../data/train/4819.csv',\n",
       " '/home/md/workspace/Apollo_model_dev/v1/code/../data/train/2682.csv',\n",
       " '/home/md/workspace/Apollo_model_dev/v1/code/../data/train/6562.csv',\n",
       " '/home/md/workspace/Apollo_model_dev/v1/code/../data/train/2893.csv',\n",
       " '/home/md/workspace/Apollo_model_dev/v1/code/../data/train/239.csv',\n",
       " '/home/md/workspace/Apollo_model_dev/v1/code/../data/train/6456.csv',\n",
       " '/home/md/workspace/Apollo_model_dev/v1/code/../data/train/1855.csv',\n",
       " '/home/md/workspace/Apollo_model_dev/v1/code/../data/train/4213.csv',\n",
       " '/home/md/workspace/Apollo_model_dev/v1/code/../data/train/5489.csv',\n",
       " '/home/md/workspace/Apollo_model_dev/v1/code/../data/train/6092.csv',\n",
       " '/home/md/workspace/Apollo_model_dev/v1/code/../data/train/2273.csv',\n",
       " '/home/md/workspace/Apollo_model_dev/v1/code/../data/train/1452.csv',\n",
       " '/home/md/workspace/Apollo_model_dev/v1/code/../data/train/3939.csv',\n",
       " '/home/md/workspace/Apollo_model_dev/v1/code/../data/train/2854.csv',\n",
       " '/home/md/workspace/Apollo_model_dev/v1/code/../data/train/4904.csv',\n",
       " '/home/md/workspace/Apollo_model_dev/v1/code/../data/train/817.csv',\n",
       " '/home/md/workspace/Apollo_model_dev/v1/code/../data/train/1578.csv',\n",
       " '/home/md/workspace/Apollo_model_dev/v1/code/../data/train/3107.csv',\n",
       " '/home/md/workspace/Apollo_model_dev/v1/code/../data/train/1752.csv',\n",
       " '/home/md/workspace/Apollo_model_dev/v1/code/../data/train/2058.csv',\n",
       " '/home/md/workspace/Apollo_model_dev/v1/code/../data/train/4357.csv',\n",
       " '/home/md/workspace/Apollo_model_dev/v1/code/../data/train/874.csv',\n",
       " '/home/md/workspace/Apollo_model_dev/v1/code/../data/train/1287.csv',\n",
       " '/home/md/workspace/Apollo_model_dev/v1/code/../data/train/4022.csv',\n",
       " '/home/md/workspace/Apollo_model_dev/v1/code/../data/train/6555.csv',\n",
       " '/home/md/workspace/Apollo_model_dev/v1/code/../data/train/3908.csv',\n",
       " '/home/md/workspace/Apollo_model_dev/v1/code/../data/train/3403.csv',\n",
       " '/home/md/workspace/Apollo_model_dev/v1/code/../data/train/3707.csv',\n",
       " '/home/md/workspace/Apollo_model_dev/v1/code/../data/train/3960.csv',\n",
       " '/home/md/workspace/Apollo_model_dev/v1/code/../data/train/315.csv',\n",
       " '/home/md/workspace/Apollo_model_dev/v1/code/../data/train/4220.csv',\n",
       " '/home/md/workspace/Apollo_model_dev/v1/code/../data/train/759.csv',\n",
       " '/home/md/workspace/Apollo_model_dev/v1/code/../data/train/5704.csv',\n",
       " '/home/md/workspace/Apollo_model_dev/v1/code/../data/train/1672.csv',\n",
       " '/home/md/workspace/Apollo_model_dev/v1/code/../data/train/5413.csv',\n",
       " '/home/md/workspace/Apollo_model_dev/v1/code/../data/train/6009.csv',\n",
       " '/home/md/workspace/Apollo_model_dev/v1/code/../data/train/755.csv',\n",
       " '/home/md/workspace/Apollo_model_dev/v1/code/../data/train/2424.csv',\n",
       " '/home/md/workspace/Apollo_model_dev/v1/code/../data/train/2540.csv',\n",
       " '/home/md/workspace/Apollo_model_dev/v1/code/../data/train/6045.csv',\n",
       " '/home/md/workspace/Apollo_model_dev/v1/code/../data/train/3434.csv',\n",
       " '/home/md/workspace/Apollo_model_dev/v1/code/../data/train/454.csv',\n",
       " '/home/md/workspace/Apollo_model_dev/v1/code/../data/train/258.csv',\n",
       " '/home/md/workspace/Apollo_model_dev/v1/code/../data/train/1030.csv',\n",
       " '/home/md/workspace/Apollo_model_dev/v1/code/../data/train/4358.csv',\n",
       " '/home/md/workspace/Apollo_model_dev/v1/code/../data/train/5326.csv',\n",
       " '/home/md/workspace/Apollo_model_dev/v1/code/../data/train/2408.csv',\n",
       " '/home/md/workspace/Apollo_model_dev/v1/code/../data/train/3751.csv',\n",
       " '/home/md/workspace/Apollo_model_dev/v1/code/../data/train/1494.csv',\n",
       " '/home/md/workspace/Apollo_model_dev/v1/code/../data/train/3333.csv',\n",
       " '/home/md/workspace/Apollo_model_dev/v1/code/../data/train/3550.csv',\n",
       " '/home/md/workspace/Apollo_model_dev/v1/code/../data/train/2405.csv',\n",
       " '/home/md/workspace/Apollo_model_dev/v1/code/../data/train/2754.csv',\n",
       " '/home/md/workspace/Apollo_model_dev/v1/code/../data/train/1259.csv',\n",
       " '/home/md/workspace/Apollo_model_dev/v1/code/../data/train/23.csv',\n",
       " '/home/md/workspace/Apollo_model_dev/v1/code/../data/train/6425.csv',\n",
       " '/home/md/workspace/Apollo_model_dev/v1/code/../data/train/1505.csv',\n",
       " '/home/md/workspace/Apollo_model_dev/v1/code/../data/train/864.csv',\n",
       " '/home/md/workspace/Apollo_model_dev/v1/code/../data/train/4325.csv',\n",
       " '/home/md/workspace/Apollo_model_dev/v1/code/../data/train/637.csv',\n",
       " '/home/md/workspace/Apollo_model_dev/v1/code/../data/train/3611.csv',\n",
       " '/home/md/workspace/Apollo_model_dev/v1/code/../data/train/2357.csv',\n",
       " '/home/md/workspace/Apollo_model_dev/v1/code/../data/train/1195.csv',\n",
       " '/home/md/workspace/Apollo_model_dev/v1/code/../data/train/3700.csv',\n",
       " '/home/md/workspace/Apollo_model_dev/v1/code/../data/train/5885.csv',\n",
       " '/home/md/workspace/Apollo_model_dev/v1/code/../data/train/5171.csv',\n",
       " '/home/md/workspace/Apollo_model_dev/v1/code/../data/train/3169.csv',\n",
       " '/home/md/workspace/Apollo_model_dev/v1/code/../data/train/4833.csv',\n",
       " '/home/md/workspace/Apollo_model_dev/v1/code/../data/train/4490.csv',\n",
       " '/home/md/workspace/Apollo_model_dev/v1/code/../data/train/169.csv',\n",
       " '/home/md/workspace/Apollo_model_dev/v1/code/../data/train/6619.csv',\n",
       " '/home/md/workspace/Apollo_model_dev/v1/code/../data/train/3257.csv',\n",
       " '/home/md/workspace/Apollo_model_dev/v1/code/../data/train/2552.csv',\n",
       " '/home/md/workspace/Apollo_model_dev/v1/code/../data/train/5912.csv',\n",
       " '/home/md/workspace/Apollo_model_dev/v1/code/../data/train/6526.csv',\n",
       " '/home/md/workspace/Apollo_model_dev/v1/code/../data/train/2900.csv',\n",
       " '/home/md/workspace/Apollo_model_dev/v1/code/../data/train/99.csv',\n",
       " '/home/md/workspace/Apollo_model_dev/v1/code/../data/train/3967.csv',\n",
       " '/home/md/workspace/Apollo_model_dev/v1/code/../data/train/6124.csv',\n",
       " '/home/md/workspace/Apollo_model_dev/v1/code/../data/train/4110.csv',\n",
       " '/home/md/workspace/Apollo_model_dev/v1/code/../data/train/5090.csv',\n",
       " '/home/md/workspace/Apollo_model_dev/v1/code/../data/train/5018.csv',\n",
       " '/home/md/workspace/Apollo_model_dev/v1/code/../data/train/3670.csv',\n",
       " '/home/md/workspace/Apollo_model_dev/v1/code/../data/train/2121.csv',\n",
       " '/home/md/workspace/Apollo_model_dev/v1/code/../data/train/2133.csv',\n",
       " '/home/md/workspace/Apollo_model_dev/v1/code/../data/train/3739.csv',\n",
       " '/home/md/workspace/Apollo_model_dev/v1/code/../data/train/2798.csv',\n",
       " '/home/md/workspace/Apollo_model_dev/v1/code/../data/train/6132.csv',\n",
       " '/home/md/workspace/Apollo_model_dev/v1/code/../data/train/2176.csv',\n",
       " '/home/md/workspace/Apollo_model_dev/v1/code/../data/train/3942.csv',\n",
       " '/home/md/workspace/Apollo_model_dev/v1/code/../data/train/5218.csv',\n",
       " '/home/md/workspace/Apollo_model_dev/v1/code/../data/train/4223.csv',\n",
       " '/home/md/workspace/Apollo_model_dev/v1/code/../data/train/3622.csv',\n",
       " '/home/md/workspace/Apollo_model_dev/v1/code/../data/train/4997.csv',\n",
       " '/home/md/workspace/Apollo_model_dev/v1/code/../data/train/5641.csv',\n",
       " '/home/md/workspace/Apollo_model_dev/v1/code/../data/train/6454.csv',\n",
       " '/home/md/workspace/Apollo_model_dev/v1/code/../data/train/1379.csv',\n",
       " '/home/md/workspace/Apollo_model_dev/v1/code/../data/train/986.csv',\n",
       " '/home/md/workspace/Apollo_model_dev/v1/code/../data/train/3629.csv',\n",
       " '/home/md/workspace/Apollo_model_dev/v1/code/../data/train/1830.csv',\n",
       " '/home/md/workspace/Apollo_model_dev/v1/code/../data/train/5886.csv',\n",
       " '/home/md/workspace/Apollo_model_dev/v1/code/../data/train/1569.csv',\n",
       " '/home/md/workspace/Apollo_model_dev/v1/code/../data/train/622.csv',\n",
       " '/home/md/workspace/Apollo_model_dev/v1/code/../data/train/5318.csv',\n",
       " '/home/md/workspace/Apollo_model_dev/v1/code/../data/train/1607.csv',\n",
       " '/home/md/workspace/Apollo_model_dev/v1/code/../data/train/3298.csv',\n",
       " '/home/md/workspace/Apollo_model_dev/v1/code/../data/train/3497.csv',\n",
       " '/home/md/workspace/Apollo_model_dev/v1/code/../data/train/1740.csv',\n",
       " '/home/md/workspace/Apollo_model_dev/v1/code/../data/train/367.csv',\n",
       " '/home/md/workspace/Apollo_model_dev/v1/code/../data/train/4896.csv',\n",
       " '/home/md/workspace/Apollo_model_dev/v1/code/../data/train/2544.csv',\n",
       " '/home/md/workspace/Apollo_model_dev/v1/code/../data/train/2903.csv',\n",
       " '/home/md/workspace/Apollo_model_dev/v1/code/../data/train/1193.csv',\n",
       " '/home/md/workspace/Apollo_model_dev/v1/code/../data/train/5444.csv',\n",
       " '/home/md/workspace/Apollo_model_dev/v1/code/../data/train/3976.csv',\n",
       " '/home/md/workspace/Apollo_model_dev/v1/code/../data/train/6122.csv',\n",
       " '/home/md/workspace/Apollo_model_dev/v1/code/../data/train/3615.csv',\n",
       " '/home/md/workspace/Apollo_model_dev/v1/code/../data/train/2889.csv',\n",
       " '/home/md/workspace/Apollo_model_dev/v1/code/../data/train/180.csv',\n",
       " '/home/md/workspace/Apollo_model_dev/v1/code/../data/train/3760.csv',\n",
       " '/home/md/workspace/Apollo_model_dev/v1/code/../data/train/1774.csv',\n",
       " '/home/md/workspace/Apollo_model_dev/v1/code/../data/train/1213.csv',\n",
       " '/home/md/workspace/Apollo_model_dev/v1/code/../data/train/5071.csv',\n",
       " '/home/md/workspace/Apollo_model_dev/v1/code/../data/train/6047.csv',\n",
       " '/home/md/workspace/Apollo_model_dev/v1/code/../data/train/5448.csv',\n",
       " '/home/md/workspace/Apollo_model_dev/v1/code/../data/train/6054.csv',\n",
       " '/home/md/workspace/Apollo_model_dev/v1/code/../data/train/2034.csv',\n",
       " '/home/md/workspace/Apollo_model_dev/v1/code/../data/train/4906.csv',\n",
       " '/home/md/workspace/Apollo_model_dev/v1/code/../data/train/4610.csv',\n",
       " '/home/md/workspace/Apollo_model_dev/v1/code/../data/train/2948.csv',\n",
       " '/home/md/workspace/Apollo_model_dev/v1/code/../data/train/5633.csv',\n",
       " '/home/md/workspace/Apollo_model_dev/v1/code/../data/train/398.csv',\n",
       " '/home/md/workspace/Apollo_model_dev/v1/code/../data/train/3370.csv',\n",
       " '/home/md/workspace/Apollo_model_dev/v1/code/../data/train/522.csv',\n",
       " '/home/md/workspace/Apollo_model_dev/v1/code/../data/train/5673.csv',\n",
       " '/home/md/workspace/Apollo_model_dev/v1/code/../data/train/4151.csv',\n",
       " '/home/md/workspace/Apollo_model_dev/v1/code/../data/train/3227.csv',\n",
       " '/home/md/workspace/Apollo_model_dev/v1/code/../data/train/1684.csv',\n",
       " '/home/md/workspace/Apollo_model_dev/v1/code/../data/train/5054.csv',\n",
       " '/home/md/workspace/Apollo_model_dev/v1/code/../data/train/5784.csv',\n",
       " '/home/md/workspace/Apollo_model_dev/v1/code/../data/train/5941.csv',\n",
       " '/home/md/workspace/Apollo_model_dev/v1/code/../data/train/6004.csv',\n",
       " '/home/md/workspace/Apollo_model_dev/v1/code/../data/train/1512.csv',\n",
       " '/home/md/workspace/Apollo_model_dev/v1/code/../data/train/838.csv',\n",
       " '/home/md/workspace/Apollo_model_dev/v1/code/../data/train/6433.csv',\n",
       " '/home/md/workspace/Apollo_model_dev/v1/code/../data/train/6476.csv',\n",
       " '/home/md/workspace/Apollo_model_dev/v1/code/../data/train/5987.csv',\n",
       " '/home/md/workspace/Apollo_model_dev/v1/code/../data/train/1745.csv',\n",
       " '/home/md/workspace/Apollo_model_dev/v1/code/../data/train/5472.csv',\n",
       " '/home/md/workspace/Apollo_model_dev/v1/code/../data/train/1940.csv',\n",
       " '/home/md/workspace/Apollo_model_dev/v1/code/../data/train/6253.csv',\n",
       " '/home/md/workspace/Apollo_model_dev/v1/code/../data/train/1246.csv',\n",
       " '/home/md/workspace/Apollo_model_dev/v1/code/../data/train/4535.csv',\n",
       " '/home/md/workspace/Apollo_model_dev/v1/code/../data/train/3771.csv',\n",
       " '/home/md/workspace/Apollo_model_dev/v1/code/../data/train/5454.csv',\n",
       " '/home/md/workspace/Apollo_model_dev/v1/code/../data/train/377.csv',\n",
       " '/home/md/workspace/Apollo_model_dev/v1/code/../data/train/1608.csv',\n",
       " '/home/md/workspace/Apollo_model_dev/v1/code/../data/train/6052.csv',\n",
       " '/home/md/workspace/Apollo_model_dev/v1/code/../data/train/2980.csv',\n",
       " '/home/md/workspace/Apollo_model_dev/v1/code/../data/train/3455.csv',\n",
       " '/home/md/workspace/Apollo_model_dev/v1/code/../data/train/3428.csv',\n",
       " '/home/md/workspace/Apollo_model_dev/v1/code/../data/train/6280.csv',\n",
       " '/home/md/workspace/Apollo_model_dev/v1/code/../data/train/2981.csv',\n",
       " '/home/md/workspace/Apollo_model_dev/v1/code/../data/train/401.csv',\n",
       " '/home/md/workspace/Apollo_model_dev/v1/code/../data/train/4840.csv',\n",
       " '/home/md/workspace/Apollo_model_dev/v1/code/../data/train/3929.csv',\n",
       " '/home/md/workspace/Apollo_model_dev/v1/code/../data/train/3237.csv',\n",
       " '/home/md/workspace/Apollo_model_dev/v1/code/../data/train/4292.csv',\n",
       " '/home/md/workspace/Apollo_model_dev/v1/code/../data/train/3966.csv',\n",
       " '/home/md/workspace/Apollo_model_dev/v1/code/../data/train/4936.csv',\n",
       " '/home/md/workspace/Apollo_model_dev/v1/code/../data/train/4447.csv',\n",
       " '/home/md/workspace/Apollo_model_dev/v1/code/../data/train/263.csv',\n",
       " '/home/md/workspace/Apollo_model_dev/v1/code/../data/train/5747.csv',\n",
       " '/home/md/workspace/Apollo_model_dev/v1/code/../data/train/5853.csv',\n",
       " '/home/md/workspace/Apollo_model_dev/v1/code/../data/train/5812.csv',\n",
       " '/home/md/workspace/Apollo_model_dev/v1/code/../data/train/1588.csv',\n",
       " '/home/md/workspace/Apollo_model_dev/v1/code/../data/train/2421.csv',\n",
       " '/home/md/workspace/Apollo_model_dev/v1/code/../data/train/3836.csv',\n",
       " '/home/md/workspace/Apollo_model_dev/v1/code/../data/train/3951.csv',\n",
       " '/home/md/workspace/Apollo_model_dev/v1/code/../data/train/3954.csv',\n",
       " '/home/md/workspace/Apollo_model_dev/v1/code/../data/train/2578.csv',\n",
       " '/home/md/workspace/Apollo_model_dev/v1/code/../data/train/3807.csv',\n",
       " '/home/md/workspace/Apollo_model_dev/v1/code/../data/train/6651.csv',\n",
       " '/home/md/workspace/Apollo_model_dev/v1/code/../data/train/5242.csv',\n",
       " '/home/md/workspace/Apollo_model_dev/v1/code/../data/train/1039.csv',\n",
       " '/home/md/workspace/Apollo_model_dev/v1/code/../data/train/2710.csv',\n",
       " '/home/md/workspace/Apollo_model_dev/v1/code/../data/train/491.csv',\n",
       " '/home/md/workspace/Apollo_model_dev/v1/code/../data/train/5074.csv',\n",
       " '/home/md/workspace/Apollo_model_dev/v1/code/../data/train/4806.csv',\n",
       " '/home/md/workspace/Apollo_model_dev/v1/code/../data/train/275.csv',\n",
       " '/home/md/workspace/Apollo_model_dev/v1/code/../data/train/297.csv',\n",
       " '/home/md/workspace/Apollo_model_dev/v1/code/../data/train/2101.csv',\n",
       " '/home/md/workspace/Apollo_model_dev/v1/code/../data/train/4648.csv',\n",
       " '/home/md/workspace/Apollo_model_dev/v1/code/../data/train/746.csv',\n",
       " '/home/md/workspace/Apollo_model_dev/v1/code/../data/train/5962.csv',\n",
       " '/home/md/workspace/Apollo_model_dev/v1/code/../data/train/5192.csv',\n",
       " '/home/md/workspace/Apollo_model_dev/v1/code/../data/train/2281.csv',\n",
       " '/home/md/workspace/Apollo_model_dev/v1/code/../data/train/1031.csv',\n",
       " '/home/md/workspace/Apollo_model_dev/v1/code/../data/train/5945.csv',\n",
       " '/home/md/workspace/Apollo_model_dev/v1/code/../data/train/5927.csv',\n",
       " '/home/md/workspace/Apollo_model_dev/v1/code/../data/train/2609.csv',\n",
       " '/home/md/workspace/Apollo_model_dev/v1/code/../data/train/2689.csv',\n",
       " '/home/md/workspace/Apollo_model_dev/v1/code/../data/train/1632.csv',\n",
       " '/home/md/workspace/Apollo_model_dev/v1/code/../data/train/4338.csv',\n",
       " '/home/md/workspace/Apollo_model_dev/v1/code/../data/train/5372.csv',\n",
       " '/home/md/workspace/Apollo_model_dev/v1/code/../data/train/1333.csv',\n",
       " '/home/md/workspace/Apollo_model_dev/v1/code/../data/train/1483.csv',\n",
       " '/home/md/workspace/Apollo_model_dev/v1/code/../data/train/5995.csv',\n",
       " '/home/md/workspace/Apollo_model_dev/v1/code/../data/train/5528.csv',\n",
       " '/home/md/workspace/Apollo_model_dev/v1/code/../data/train/2495.csv',\n",
       " '/home/md/workspace/Apollo_model_dev/v1/code/../data/train/6462.csv',\n",
       " '/home/md/workspace/Apollo_model_dev/v1/code/../data/train/1271.csv',\n",
       " '/home/md/workspace/Apollo_model_dev/v1/code/../data/train/6483.csv',\n",
       " '/home/md/workspace/Apollo_model_dev/v1/code/../data/train/2215.csv',\n",
       " '/home/md/workspace/Apollo_model_dev/v1/code/../data/train/3970.csv',\n",
       " '/home/md/workspace/Apollo_model_dev/v1/code/../data/train/6361.csv',\n",
       " '/home/md/workspace/Apollo_model_dev/v1/code/../data/train/4568.csv',\n",
       " '/home/md/workspace/Apollo_model_dev/v1/code/../data/train/6247.csv',\n",
       " '/home/md/workspace/Apollo_model_dev/v1/code/../data/train/3625.csv',\n",
       " '/home/md/workspace/Apollo_model_dev/v1/code/../data/train/2991.csv',\n",
       " '/home/md/workspace/Apollo_model_dev/v1/code/../data/train/3249.csv',\n",
       " '/home/md/workspace/Apollo_model_dev/v1/code/../data/train/1041.csv',\n",
       " '/home/md/workspace/Apollo_model_dev/v1/code/../data/train/4656.csv',\n",
       " '/home/md/workspace/Apollo_model_dev/v1/code/../data/train/5767.csv',\n",
       " '/home/md/workspace/Apollo_model_dev/v1/code/../data/train/1042.csv',\n",
       " '/home/md/workspace/Apollo_model_dev/v1/code/../data/train/318.csv',\n",
       " '/home/md/workspace/Apollo_model_dev/v1/code/../data/train/3911.csv',\n",
       " '/home/md/workspace/Apollo_model_dev/v1/code/../data/train/1929.csv',\n",
       " '/home/md/workspace/Apollo_model_dev/v1/code/../data/train/5570.csv',\n",
       " '/home/md/workspace/Apollo_model_dev/v1/code/../data/train/2358.csv',\n",
       " '/home/md/workspace/Apollo_model_dev/v1/code/../data/train/247.csv',\n",
       " '/home/md/workspace/Apollo_model_dev/v1/code/../data/train/4907.csv',\n",
       " '/home/md/workspace/Apollo_model_dev/v1/code/../data/train/2530.csv',\n",
       " '/home/md/workspace/Apollo_model_dev/v1/code/../data/train/1014.csv',\n",
       " '/home/md/workspace/Apollo_model_dev/v1/code/../data/train/63.csv',\n",
       " '/home/md/workspace/Apollo_model_dev/v1/code/../data/train/3883.csv',\n",
       " '/home/md/workspace/Apollo_model_dev/v1/code/../data/train/1428.csv',\n",
       " '/home/md/workspace/Apollo_model_dev/v1/code/../data/train/1247.csv',\n",
       " '/home/md/workspace/Apollo_model_dev/v1/code/../data/train/4958.csv',\n",
       " '/home/md/workspace/Apollo_model_dev/v1/code/../data/train/2770.csv',\n",
       " '/home/md/workspace/Apollo_model_dev/v1/code/../data/train/1916.csv',\n",
       " '/home/md/workspace/Apollo_model_dev/v1/code/../data/train/4935.csv',\n",
       " '/home/md/workspace/Apollo_model_dev/v1/code/../data/train/4222.csv',\n",
       " '/home/md/workspace/Apollo_model_dev/v1/code/../data/train/148.csv',\n",
       " '/home/md/workspace/Apollo_model_dev/v1/code/../data/train/5480.csv',\n",
       " '/home/md/workspace/Apollo_model_dev/v1/code/../data/train/739.csv',\n",
       " '/home/md/workspace/Apollo_model_dev/v1/code/../data/train/4815.csv',\n",
       " '/home/md/workspace/Apollo_model_dev/v1/code/../data/train/1741.csv',\n",
       " '/home/md/workspace/Apollo_model_dev/v1/code/../data/train/6308.csv',\n",
       " '/home/md/workspace/Apollo_model_dev/v1/code/../data/train/3933.csv',\n",
       " '/home/md/workspace/Apollo_model_dev/v1/code/../data/train/4884.csv',\n",
       " '/home/md/workspace/Apollo_model_dev/v1/code/../data/train/1000.csv',\n",
       " '/home/md/workspace/Apollo_model_dev/v1/code/../data/train/4288.csv',\n",
       " '/home/md/workspace/Apollo_model_dev/v1/code/../data/train/6381.csv',\n",
       " '/home/md/workspace/Apollo_model_dev/v1/code/../data/train/5474.csv',\n",
       " '/home/md/workspace/Apollo_model_dev/v1/code/../data/train/215.csv',\n",
       " '/home/md/workspace/Apollo_model_dev/v1/code/../data/train/309.csv',\n",
       " '/home/md/workspace/Apollo_model_dev/v1/code/../data/train/614.csv',\n",
       " '/home/md/workspace/Apollo_model_dev/v1/code/../data/train/288.csv',\n",
       " '/home/md/workspace/Apollo_model_dev/v1/code/../data/train/1099.csv',\n",
       " '/home/md/workspace/Apollo_model_dev/v1/code/../data/train/771.csv',\n",
       " '/home/md/workspace/Apollo_model_dev/v1/code/../data/train/1221.csv',\n",
       " '/home/md/workspace/Apollo_model_dev/v1/code/../data/train/3568.csv',\n",
       " '/home/md/workspace/Apollo_model_dev/v1/code/../data/train/6609.csv',\n",
       " '/home/md/workspace/Apollo_model_dev/v1/code/../data/train/3323.csv',\n",
       " '/home/md/workspace/Apollo_model_dev/v1/code/../data/train/2930.csv',\n",
       " '/home/md/workspace/Apollo_model_dev/v1/code/../data/train/550.csv',\n",
       " '/home/md/workspace/Apollo_model_dev/v1/code/../data/train/5457.csv',\n",
       " '/home/md/workspace/Apollo_model_dev/v1/code/../data/train/2012.csv',\n",
       " '/home/md/workspace/Apollo_model_dev/v1/code/../data/train/4979.csv',\n",
       " '/home/md/workspace/Apollo_model_dev/v1/code/../data/train/3986.csv',\n",
       " '/home/md/workspace/Apollo_model_dev/v1/code/../data/train/1029.csv',\n",
       " '/home/md/workspace/Apollo_model_dev/v1/code/../data/train/4574.csv',\n",
       " '/home/md/workspace/Apollo_model_dev/v1/code/../data/train/2394.csv',\n",
       " '/home/md/workspace/Apollo_model_dev/v1/code/../data/train/4457.csv',\n",
       " '/home/md/workspace/Apollo_model_dev/v1/code/../data/train/6510.csv',\n",
       " '/home/md/workspace/Apollo_model_dev/v1/code/../data/train/3366.csv',\n",
       " '/home/md/workspace/Apollo_model_dev/v1/code/../data/train/325.csv',\n",
       " '/home/md/workspace/Apollo_model_dev/v1/code/../data/train/798.csv',\n",
       " '/home/md/workspace/Apollo_model_dev/v1/code/../data/train/2913.csv',\n",
       " '/home/md/workspace/Apollo_model_dev/v1/code/../data/train/2610.csv',\n",
       " '/home/md/workspace/Apollo_model_dev/v1/code/../data/train/3357.csv',\n",
       " '/home/md/workspace/Apollo_model_dev/v1/code/../data/train/2694.csv',\n",
       " '/home/md/workspace/Apollo_model_dev/v1/code/../data/train/4501.csv',\n",
       " '/home/md/workspace/Apollo_model_dev/v1/code/../data/train/1209.csv',\n",
       " '/home/md/workspace/Apollo_model_dev/v1/code/../data/train/629.csv',\n",
       " '/home/md/workspace/Apollo_model_dev/v1/code/../data/train/5261.csv',\n",
       " '/home/md/workspace/Apollo_model_dev/v1/code/../data/train/1319.csv',\n",
       " '/home/md/workspace/Apollo_model_dev/v1/code/../data/train/1912.csv',\n",
       " '/home/md/workspace/Apollo_model_dev/v1/code/../data/train/2792.csv',\n",
       " '/home/md/workspace/Apollo_model_dev/v1/code/../data/train/3437.csv',\n",
       " '/home/md/workspace/Apollo_model_dev/v1/code/../data/train/2351.csv',\n",
       " '/home/md/workspace/Apollo_model_dev/v1/code/../data/train/748.csv',\n",
       " '/home/md/workspace/Apollo_model_dev/v1/code/../data/train/139.csv',\n",
       " '/home/md/workspace/Apollo_model_dev/v1/code/../data/train/1406.csv',\n",
       " '/home/md/workspace/Apollo_model_dev/v1/code/../data/train/3678.csv',\n",
       " '/home/md/workspace/Apollo_model_dev/v1/code/../data/train/170.csv',\n",
       " '/home/md/workspace/Apollo_model_dev/v1/code/../data/train/831.csv',\n",
       " '/home/md/workspace/Apollo_model_dev/v1/code/../data/train/4049.csv',\n",
       " '/home/md/workspace/Apollo_model_dev/v1/code/../data/train/3588.csv',\n",
       " '/home/md/workspace/Apollo_model_dev/v1/code/../data/train/6061.csv',\n",
       " '/home/md/workspace/Apollo_model_dev/v1/code/../data/train/3012.csv',\n",
       " '/home/md/workspace/Apollo_model_dev/v1/code/../data/train/704.csv',\n",
       " '/home/md/workspace/Apollo_model_dev/v1/code/../data/train/4649.csv',\n",
       " '/home/md/workspace/Apollo_model_dev/v1/code/../data/train/3438.csv',\n",
       " '/home/md/workspace/Apollo_model_dev/v1/code/../data/train/3919.csv',\n",
       " '/home/md/workspace/Apollo_model_dev/v1/code/../data/train/1924.csv',\n",
       " '/home/md/workspace/Apollo_model_dev/v1/code/../data/train/3803.csv',\n",
       " '/home/md/workspace/Apollo_model_dev/v1/code/../data/train/2559.csv',\n",
       " '/home/md/workspace/Apollo_model_dev/v1/code/../data/train/1773.csv',\n",
       " '/home/md/workspace/Apollo_model_dev/v1/code/../data/train/2361.csv',\n",
       " '/home/md/workspace/Apollo_model_dev/v1/code/../data/train/1630.csv',\n",
       " '/home/md/workspace/Apollo_model_dev/v1/code/../data/train/4739.csv',\n",
       " '/home/md/workspace/Apollo_model_dev/v1/code/../data/train/390.csv',\n",
       " '/home/md/workspace/Apollo_model_dev/v1/code/../data/train/2905.csv',\n",
       " '/home/md/workspace/Apollo_model_dev/v1/code/../data/train/806.csv',\n",
       " '/home/md/workspace/Apollo_model_dev/v1/code/../data/train/414.csv',\n",
       " '/home/md/workspace/Apollo_model_dev/v1/code/../data/train/6021.csv',\n",
       " ...]"
      ]
     },
     "execution_count": 3,
     "metadata": {},
     "output_type": "execute_result"
    }
   ],
   "source": [
    "train_files"
   ]
  },
  {
   "cell_type": "code",
   "execution_count": 18,
   "metadata": {},
   "outputs": [],
   "source": [
    "def timeparser(time):\n",
    "    return pd.to_timedelta(str(time) + ':00')\n",
    "\n",
    "# 날짜 단위 시간을 변경, t_delta 표현\n",
    "def timedelta_today_figure(timedelta):\n",
    "    return timedelta.days + (timedelta.seconds / 86400)\n",
    "\n",
    "def df_to_inputs(df, inputdict, inputs):\n",
    "    for row_index, value in df.iterrows():\n",
    "        agg_no = inputdict[value.Parameter]\n",
    "        inputs[agg_no].append(value.Value)\n",
    "    return inputs\n",
    "\n",
    "# desc: [sz, min, max, mean, median, std, var]\n",
    "# inputs.shape: [D, T]\n",
    "def normalization(desc, inputs):\n",
    "    for i in range(desc.shape[0]):\n",
    "        for j in range(len(inputs[i])):\n",
    "            inputs[i][j] = (inputs[i][j] - desc[i][3]) / desc[i][5]\n",
    "    return inputs"
   ]
  },
  {
   "cell_type": "code",
   "execution_count": 19,
   "metadata": {},
   "outputs": [],
   "source": [
    "# #data loeader랑  GRUD  모델 ,df_to_xmd 구현해보기\n",
    "# df = pd.read_csv(f\"{os.getcwd()}/../Flu_screening_api/mock_data/1.csv\", header=0, dtype={'Time':str}, parse_dates=['Time'], date_parser=timeparser)"
   ]
  },
  {
   "cell_type": "code",
   "execution_count": 20,
   "metadata": {},
   "outputs": [],
   "source": [
    "# # 이 부분이 너무너무 이상하다. split:17, size:70\n",
    "# def df_to_x_m_d(df, inputdict, size, id_position, split):\n",
    "#     grouped_data = df.groupby('Time')\n",
    "#     print(\"grp_data.ngrps:\", grouped_data.ngroups)\n",
    "    \n",
    "#     x = np.zeros((len(inputdict), grouped_data.ngroups))\n",
    "#     masking = np.zeros((len(inputdict), grouped_data.ngroups))\n",
    "#     delta = np.zeros((split, size))\n",
    "#     timetable = np.zeros(grouped_data.ngroups)\n",
    "#     id = 0\n",
    "    \n",
    "#     all_x = np.zeros((split, 1))\n",
    "#     s_dataset = np.zeros((3, split, size))\n",
    "    \n",
    "#     if grouped_data.ngroups > size:\n",
    "#         pre_time = pd.to_timedelta(0)\n",
    "#         t = 0\n",
    "#         for row_index, value in df.iterrows():\n",
    "#             agg_no = inputdict[value.Parameter]\n",
    "#             if pre_time != value.Time:\n",
    "#                 pre_time = value.Time\n",
    "#                 if t+1 < row_index and t+1 < len(timetable):\n",
    "#                     t += 1\n",
    "#                 print(\"\")\n",
    "#                 timetable[t] = timedelta_today_figure(value.Time)\n",
    "#             x[agg_no, t] = value.Value\n",
    "#             masking[agg_no, t] = 1\n",
    "        \n",
    "#         # 최대한 안비어있는 놈들 위주로 뽑음\n",
    "#         ran_index = grouped_data.count()\n",
    "#         ran_index = ran_index.reset_index()\n",
    "#         ran_index = ran_index.sort_values('Value', ascending=False)\n",
    "#         ran_index = ran_index[:size]\n",
    "#         ran_index = ran_index.sort_index()\n",
    "#         ran_index = np.asarray(ran_index.index.values)\n",
    "#         ran_index[0] = 0\n",
    "#         ran_index[size-1] = grouped_data.ngroups-1\n",
    "        \n",
    "#         # t=0인 무조건 뽑힘\n",
    "#         id = x[id_position, 0]\n",
    "        \n",
    "#         x = x[:split, :]\n",
    "#         masking = masking[:split, :]\n",
    "        \n",
    "#         x_sample = np.zeros((split, size))\n",
    "#         m_sample = np.zeros((split, size))\n",
    "#         time_sample = np.zeros(size)\n",
    "        \n",
    "#         t_x_sample = x_sample.T\n",
    "#         t_marsking = m_sample.T\n",
    "        \n",
    "#         t_x = x.T\n",
    "#         t_m = masking.T\n",
    "        \n",
    "#         it = np.nditer(ran_index, flags=['f_index'])\n",
    "#         while not it.finished:\n",
    "#             t_x_sample[it.index] = t_x[it[0]]\n",
    "#             t_marsking[it.index] = t_m[it[0]]\n",
    "#             time_sample[it.index] = timetable[it[0]]\n",
    "#             it.iternext()\n",
    "        \n",
    "#         x = x_sample\n",
    "#         masking = m_sample\n",
    "#         timetable = time_sample\n",
    "        \n",
    "#         for index, value in np.ndenumerate(masking):\n",
    "#             if index[1] == 0:\n",
    "#                 delta[index[0], index[1]] = 0\n",
    "#             elif masking[index[0], index[1] - 1] == 0:\n",
    "#                 delta[index[0], index[1]] = timetable[index[1]] - timetable[index[1] - 1] + delta[\n",
    "#                     index[0], index[1] - 1]\n",
    "#             else:\n",
    "#                 delta[index[0], index[1]] = timetable[index[1]] - timetable[index[1] - 1]\n",
    "        \n",
    "#     else:\n",
    "#         pre_time = pd.to_timedelta(0)\n",
    "#         t = 0\n",
    "#         for row_index, value in df.iterrows():\n",
    "#             print(row_index)\n",
    "#             return 0\n",
    "#             agg_no = inputdict[value.Parameter]\n",
    "#             if pre_time != value.Time:\n",
    "#                 pre_time = value.Time\n",
    "#                 if t+1 < row_index and t+1 < len(timetable):\n",
    "#                     t += 1\n",
    "#                     timetable[t] = timedelta_today_figure(value.Time)\n",
    "#                 x[agg_no, t] = value.Value\n",
    "#                 masking[agg_no, t] = 1\n",
    "#         id = x[id_position, 0]\n",
    "#         x = x[:split, :]\n",
    "#         masking = masking[:split, :]\n",
    "        \n",
    "#         x = np.pad(x, ((0,0), (size-grouped_data.ngroups, 0)), 'constant')\n",
    "#         masking = np.pad(masking, ((0,0), (size-grouped_data.ngroups, 0)), 'constant')\n",
    "#         timetable = np.pad(timetable, (size-grouped_data.ngroups, 0), 'constant')\n",
    "        \n",
    "#         for index, value in np.ndenumerate(masking):\n",
    "#             '''\n",
    "#             index[0] = row, agg\n",
    "#             index[1] = col, time\n",
    "#             '''\n",
    "#             if index[1] == 0:\n",
    "#                 delta[index[0], index[1]] = 0\n",
    "#             elif masking[index[0], index[1] - 1] == 0:\n",
    "#                 delta[index[0], index[1]] = timetable[index[1]] - timetable[index[1] - 1] + delta[\n",
    "#                     index[0], index[1] - 1]\n",
    "#             else:\n",
    "#                 delta[index[0], index[1]] = timetable[index[1]] - timetable[index[1] - 1]\n",
    "    \n",
    "#     all_x = np.concatenate((all_x, x), axis=1)\n",
    "#     all_x = all_x[:, 1:]\n",
    "    \n",
    "#     s_dataset[0] = x\n",
    "#     s_dataset[1] = masking\n",
    "#     s_dataset[2] = delta\n",
    "    \n",
    "#     return s_dataset, all_x, id"
   ]
  },
  {
   "cell_type": "code",
   "execution_count": 21,
   "metadata": {},
   "outputs": [],
   "source": [
    "def df_to_x_m_d(df, inputdict, size, id_posistion, split):\n",
    "    grouped_data = df.groupby('Time')\n",
    "    # generate input vectors\n",
    "    x = np.zeros((len(inputdict), grouped_data.ngroups))\n",
    "    masking = np.zeros((len(inputdict), grouped_data.ngroups))\n",
    "    delta = np.zeros((split, size))\n",
    "    timetable = np.zeros(grouped_data.ngroups)\n",
    "    id = 0\n",
    "\n",
    "    all_x = np.zeros((split, 1))\n",
    "\n",
    "    s_dataset = np.zeros((3, split, size))\n",
    "\n",
    "    if grouped_data.ngroups > size:\n",
    "\n",
    "        # fill the x and masking vectors\n",
    "        pre_time = pd.to_timedelta(0)\n",
    "        t = 0\n",
    "        for row_index, value in df.iterrows():\n",
    "            '''\n",
    "            t = colum, time frame\n",
    "            agg_no = row, variable\n",
    "            '''\n",
    "            # print(value)\n",
    "            agg_no = inputdict[value.Parameter]\n",
    "            # same timeline check.\n",
    "            if pre_time != value.Time:\n",
    "                pre_time = value.Time\n",
    "                if t + 1 < row_index and t + 1 < len(timetable):\n",
    "                    t += 1\n",
    "                timetable[t] = timedelta_today_figure(value.Time)\n",
    "                # print(len(timetable), t, agg_no)\n",
    "            # print('agg_no : {}\\t t : {}\\t value : {}'.format(agg_no, t, value.Value))\n",
    "            x[agg_no, t] = value.Value\n",
    "            masking[agg_no, t] = 1\n",
    "\n",
    "        '''\n",
    "        # generate random index array \n",
    "        ran_index = np.random.choice(grouped_data.ngroups, size=size, replace=False)\n",
    "        ran_index.sort()\n",
    "        ran_index[0] = 0\n",
    "        ran_index[size-1] = grouped_data.ngroups-1\n",
    "        '''\n",
    "\n",
    "        # generate index that has most parameters and first/last one.\n",
    "        ran_index = grouped_data.count()\n",
    "        ran_index = ran_index.reset_index()\n",
    "        ran_index = ran_index.sort_values('Value', ascending=False)\n",
    "        ran_index = ran_index[:size]\n",
    "        ran_index = ran_index.sort_index()\n",
    "        ran_index = np.asarray(ran_index.index.values)\n",
    "        ran_index[0] = 0\n",
    "        ran_index[size - 1] = grouped_data.ngroups - 1\n",
    "\n",
    "        # print(ran_index)\n",
    "\n",
    "        # take id for outcome comparing\n",
    "        id = x[id_posistion, 0]\n",
    "\n",
    "        # remove unnesserly parts(rows)\n",
    "        x = x[:split, :]\n",
    "        masking = masking[:split, :]\n",
    "\n",
    "        # coulme(time) sampling\n",
    "        x_sample = np.zeros((split, size))\n",
    "        m_sample = np.zeros((split, size))\n",
    "        time_sample = np.zeros(size)\n",
    "\n",
    "        t_x_sample = x_sample.T\n",
    "        t_marsking = m_sample.T\n",
    "        # t_time = t_sample.T\n",
    "\n",
    "        t_x = x.T\n",
    "        t_m = masking.T\n",
    "        # t_t = t.T\n",
    "\n",
    "        it = np.nditer(ran_index, flags=['f_index'])\n",
    "        while not it.finished:\n",
    "            # print('it.index = {}, it[0] = {}, ran_index = {}'.format(it.index, it[0], ran_index[it.index]))\n",
    "            t_x_sample[it.index] = t_x[it[0]]\n",
    "            t_marsking[it.index] = t_m[it[0]]\n",
    "            time_sample[it.index] = timetable[it[0]]\n",
    "            it.iternext()\n",
    "\n",
    "        x = x_sample\n",
    "        masking = m_sample\n",
    "        timetable = time_sample\n",
    "        '''\n",
    "        # normalize the X\n",
    "        nor_x = x/max_input[:, np.newaxis]\n",
    "        '''\n",
    "        # fill the delta vectors\n",
    "        for index, value in np.ndenumerate(masking):\n",
    "            '''\n",
    "            index[0] = row, agg\n",
    "            index[1] = col, time\n",
    "            '''\n",
    "            if index[1] == 0:\n",
    "                delta[index[0], index[1]] = 0\n",
    "            elif masking[index[0], index[1] - 1] == 0:\n",
    "                delta[index[0], index[1]] = timetable[index[1]] - timetable[index[1] - 1] + delta[\n",
    "                    index[0], index[1] - 1]\n",
    "            else:\n",
    "                delta[index[0], index[1]] = timetable[index[1]] - timetable[index[1] - 1]\n",
    "\n",
    "    else:\n",
    "        # print(grouped_data.ngroups, size)\n",
    "        # print(df)\n",
    "        # fill the x and masking vectors\n",
    "        pre_time = pd.to_timedelta(0)\n",
    "        t = 0\n",
    "        for row_index, value in df.iterrows():\n",
    "            '''\n",
    "            t = colum, time frame\n",
    "            agg_no = row, variable\n",
    "            '''\n",
    "            # print(value)\n",
    "            agg_no = inputdict[value.Parameter]\n",
    "\n",
    "            # same timeline check.\n",
    "            if pre_time != value.Time:\n",
    "                pre_time = value.Time\n",
    "                if t + 1 < row_index and t + 1 < len(timetable):\n",
    "                    t += 1\n",
    "                timetable[t] = timedelta_today_figure(value.Time)\n",
    "            # print('agg_no : {}\\t t : {}\\t value : {}'.format(agg_no, t, value.Value))\n",
    "            x[agg_no, t] = value.Value\n",
    "            masking[agg_no, t] = 1\n",
    "\n",
    "        # take id for outcome comparing\n",
    "        id = x[id_posistion, 0]\n",
    "\n",
    "        # remove unnesserly parts(rows)\n",
    "        x = x[:split, :]\n",
    "        masking = masking[:split, :]\n",
    "\n",
    "        x = np.pad(x, ((0, 0), (size - grouped_data.ngroups, 0)), 'constant')\n",
    "        masking = np.pad(masking, ((0, 0), (size - grouped_data.ngroups, 0)), 'constant')\n",
    "        timetable = np.pad(timetable, (size - grouped_data.ngroups, 0), 'constant')\n",
    "        '''\n",
    "        # normalize the X\n",
    "        nor_x = x/max_input[:, np.newaxis]\n",
    "        '''\n",
    "        # fill the delta vectors\n",
    "        for index, value in np.ndenumerate(masking):\n",
    "            '''\n",
    "            index[0] = row, agg\n",
    "            index[1] = col, time\n",
    "            '''\n",
    "            if index[1] == 0:\n",
    "                delta[index[0], index[1]] = 0\n",
    "            elif masking[index[0], index[1] - 1] == 0:\n",
    "                delta[index[0], index[1]] = timetable[index[1]] - timetable[index[1] - 1] + delta[\n",
    "                    index[0], index[1] - 1]\n",
    "            else:\n",
    "                delta[index[0], index[1]] = timetable[index[1]] - timetable[index[1] - 1]\n",
    "\n",
    "    all_x = np.concatenate((all_x, x), axis=1)\n",
    "    all_x = all_x[:, 1:]\n",
    "\n",
    "    s_dataset[0] = x\n",
    "    s_dataset[1] = masking\n",
    "    s_dataset[2] = delta\n",
    "\n",
    "    return s_dataset, all_x, id"
   ]
  },
  {
   "cell_type": "code",
   "execution_count": 22,
   "metadata": {},
   "outputs": [],
   "source": [
    "# episode에 담긴 모든 time_step에 대한 각각 feature 평균\n",
    "def get_mean(x):\n",
    "    x_mean = []\n",
    "    for i in range(x.shape[0]):\n",
    "        mean = np.mean(x[i])\n",
    "        x_mean.append(mean)\n",
    "    return x_mean\n",
    "\n",
    "def get_median(x):\n",
    "    x_median = []\n",
    "    for i in range(x.shape[0]):\n",
    "        median = np.median(x[i])\n",
    "        x_median.append(median)\n",
    "    return x_median\n",
    "\n",
    "def get_std(x):\n",
    "    x_std = []\n",
    "    for i in range(x.shape[0]):\n",
    "        std = np.std(x[i])\n",
    "        x_std.append(std)\n",
    "    return x_std\n",
    "\n",
    "def get_var(x):\n",
    "    x_var = []\n",
    "    for i in range(x.shape[0]):\n",
    "        var = np.var(x[i])\n",
    "        x_var.append(var)\n",
    "    return x_var"
   ]
  },
  {
   "cell_type": "code",
   "execution_count": 23,
   "metadata": {},
   "outputs": [],
   "source": [
    "# dataset 전체를 가지고 계산한 mean, std로 해서 정규화해주는 과정\n",
    "def dataset_normalize(dataset, mean, std):\n",
    "    for i in range(dataset.shape[0]):\n",
    "        # timestep 전부 빼주려고 사이즈 늘려줌(broadcasting)\n",
    "        dataset[i][0] = (dataset[i][0] - mean[:, None])\n",
    "        dataset[i][0] = dataset[i][0] / std[:, None]\n",
    "    return dataset\n",
    "\n",
    "# [N, 3, 17, 70]\n",
    "def normalize_chk(dataset):\n",
    "    all_x_add = np.zeros((dataset[0][0].shape[0], 1))\n",
    "    for i in range(dataset.shape[0]):\n",
    "        all_x_add = np.concatenate((all_x_add, dataset[i][0]), axis=1)\n",
    "    mean = get_mean(all_x_add)\n",
    "    median = get_median(all_x_add)\n",
    "    std = get_std(all_x_add)\n",
    "    var = get_var(all_x_add)\n",
    "    \n",
    "    print('mean')\n",
    "    print(mean)\n",
    "    print('median')\n",
    "    print(median)\n",
    "    print('std')\n",
    "    print(std)\n",
    "    print('var')\n",
    "    print(var)\n",
    "\n",
    "    return mean, median, std, var\n",
    "\n",
    "def df_to_y1(df):\n",
    "    output = df.values\n",
    "    output = output[:, 2:]\n",
    "    return output"
   ]
  },
  {
   "cell_type": "code",
   "execution_count": 24,
   "metadata": {},
   "outputs": [],
   "source": [
    "class GRUD(torch.nn.Module):\n",
    "    def __init__(self, input_size, hidden_size, output_size, num_layers=1, x_mean=0,\n",
    "                 bias=True, batch_first=False, bidirectional=False, dropout_type='mloss', dropout=0):\n",
    "        super(GRUD, self).__init__()\n",
    "        self.input_size = input_size\n",
    "        self.hidden_size = hidden_size\n",
    "        self.output_size = output_size\n",
    "        self.num_layers = num_layers\n",
    "        self.zeros = torch.autograd.Variable(torch.zeros(input_size))\n",
    "        self.x_mean = torch.autograd.Variable(torch.clone(x_mean).detach())\n",
    "        self.bias = bias\n",
    "        self.batch_first = batch_first\n",
    "        self.dropout_type = dropout_type\n",
    "        self.dropout = dropout\n",
    "        self.bidirectional = bidirectional\n",
    "        num_directions = 2 if bidirectional else 1\n",
    "\n",
    "        if not isinstance(dropout, numbers.Number) or not 0 <= dropout <= 1 or isinstance(dropout, bool):\n",
    "            raise ValueError(\"dropout should be a number in range [0, 1] \"\n",
    "                             \"representing the probability of an element being \"\n",
    "                             \"zeroed\")\n",
    "        if dropout > 0 and num_layers == 1:\n",
    "            warnings.warn(\"dropout option adds dropout after all but last \"\n",
    "                          \"recurrent layer, so non-zero dropout expects \"\n",
    "                          \"num_layers greater than 1, but got dropout={} and \"\n",
    "                          \"num_layers={}\".format(dropout, num_layers))\n",
    "\n",
    "\n",
    "        self._all_weights = []\n",
    "\n",
    "        '''\n",
    "        w_ih = Parameter(torch.Tensor(gate_size, layer_input_size))\n",
    "        w_hh = Parameter(torch.Tensor(gate_size, hidden_size))\n",
    "        b_ih = Parameter(torch.Tensor(gate_size))\n",
    "        b_hh = Parameter(torch.Tensor(gate_size))\n",
    "        layer_params = (w_ih, w_hh, b_ih, b_hh)\n",
    "        '''\n",
    "        # decay rates gamma\n",
    "        w_dg_x = torch.nn.Parameter(torch.Tensor(input_size))\n",
    "        w_dg_h = torch.nn.Parameter(torch.Tensor(hidden_size))\n",
    "\n",
    "        # z\n",
    "        w_xz = torch.nn.Parameter(torch.Tensor(input_size))\n",
    "        w_hz = torch.nn.Parameter(torch.Tensor(hidden_size))\n",
    "        w_mz = torch.nn.Parameter(torch.Tensor(input_size))\n",
    "\n",
    "        # r\n",
    "        w_xr = torch.nn.Parameter(torch.Tensor(input_size))\n",
    "        w_hr = torch.nn.Parameter(torch.Tensor(hidden_size))\n",
    "        w_mr = torch.nn.Parameter(torch.Tensor(input_size))\n",
    "\n",
    "        # h_tilde\n",
    "        w_xh = torch.nn.Parameter(torch.Tensor(input_size))\n",
    "        w_hh = torch.nn.Parameter(torch.Tensor(hidden_size))\n",
    "        w_mh = torch.nn.Parameter(torch.Tensor(input_size))\n",
    "\n",
    "        # y (output)\n",
    "        w_hy = torch.nn.Parameter(torch.Tensor(output_size, hidden_size))\n",
    "\n",
    "        # bias\n",
    "        b_dg_x = torch.nn.Parameter(torch.Tensor(hidden_size))\n",
    "        b_dg_h = torch.nn.Parameter(torch.Tensor(hidden_size))\n",
    "        b_z = torch.nn.Parameter(torch.Tensor(hidden_size))\n",
    "        b_r = torch.nn.Parameter(torch.Tensor(hidden_size))\n",
    "        b_h = torch.nn.Parameter(torch.Tensor(hidden_size))\n",
    "        b_y = torch.nn.Parameter(torch.Tensor(output_size))\n",
    "\n",
    "        layer_params = (w_dg_x, w_dg_h,\n",
    "                        w_xz, w_hz, w_mz,\n",
    "                        w_xr, w_hr, w_mr,\n",
    "                        w_xh, w_hh, w_mh,\n",
    "                        w_hy,\n",
    "                        b_dg_x, b_dg_h, b_z, b_r, b_h, b_y)\n",
    "\n",
    "        use_gpu = torch.cuda.is_available()\n",
    "        if use_gpu:\n",
    "            w_dg_x = w_dg_x.cuda()\n",
    "            w_dg_h = w_dg_h.cuda()\n",
    "            w_xz, w_hz, w_mz = w_xz.cuda(), w_hz.cuda(), w_mz.cuda()\n",
    "            w_xr, w_hr, w_mr = w_xr.cuda(), w_hr.cuda(), w_mr.cuda()\n",
    "            w_xh, w_hh, w_mh = w_xh.cuda(), w_hh.cuda(), w_mh.cuda()\n",
    "            w_hy = w_hy.cuda()\n",
    "            b_dg_x, b_dg_h, b_z, b_r, b_h = b_dg_x.cuda(), b_dg_h.cuda(), b_z.cuda(), b_r.cuda(), b_h.cuda()\n",
    "            b_y = b_y.cuda()\n",
    "\n",
    "        param_names = ['weight_dg_x', 'weight_dg_h',\n",
    "                       'weight_xz', 'weight_hz', 'weight_mz',\n",
    "                       'weight_xr', 'weight_hr', 'weight_mr',\n",
    "                       'weight_xh', 'weight_hh', 'weight_mh',\n",
    "                       'weight_hy']\n",
    "        if bias:\n",
    "            param_names += ['bias_dg_x', 'bias_dg_h',\n",
    "                            'bias_z',\n",
    "                            'bias_r',\n",
    "                            'bias_h',\n",
    "                            'bias_y']\n",
    "\n",
    "        for name, param in zip(param_names, layer_params):\n",
    "            setattr(self, name, param)\n",
    "        self._all_weights.append(param_names)\n",
    "\n",
    "        self.flatten_parameters()\n",
    "        self.reset_parameters()\n",
    "\n",
    "    def flatten_parameters(self):\n",
    "        \"\"\"\n",
    "        Resets parameter data pointer so that they can use faster code paths.\n",
    "        Right now, this works only if the module is on the GPU and cuDNN is enabled.\n",
    "        Otherwise, it's a no-op.\n",
    "        \"\"\"\n",
    "        any_param = next(self.parameters()).data\n",
    "        if not any_param.is_cuda or not torch.backends.cudnn.is_acceptable(any_param):\n",
    "            return\n",
    "\n",
    "        # If any parameters alias, we fall back to the slower, copying code path. This is\n",
    "        # a sufficient check, because overlapping parameter buffers that don't completely\n",
    "        # alias would break the assumptions of the uniqueness check in\n",
    "        # Module.named_parameters().\n",
    "        all_weights = self._flat_weights\n",
    "        unique_data_ptrs = set(p.data_ptr() for p in all_weights)\n",
    "        if len(unique_data_ptrs) != len(all_weights):\n",
    "            return\n",
    "\n",
    "        with torch.cuda.device_of(any_param):\n",
    "            import torch.backends.cudnn.rnn as rnn\n",
    "\n",
    "            # NB: This is a temporary hack while we still don't have Tensor\n",
    "            # bindings for ATen functions\n",
    "            with torch.no_grad():\n",
    "                # NB: this is an INPLACE function on all_weights, that's why the\n",
    "                # no_grad() is necessary.\n",
    "                torch._cudnn_rnn_flatten_weight(\n",
    "                    all_weights, (4 if self.bias else 2),\n",
    "                    self.input_size, rnn.get_cudnn_mode(self.mode), self.hidden_size, self.num_layers,\n",
    "                    self.batch_first, bool(self.bidirectional))\n",
    "\n",
    "    def _apply(self, fn):\n",
    "        ret = super(GRUD, self)._apply(fn)\n",
    "        self.flatten_parameters()\n",
    "        return ret\n",
    "\n",
    "    def reset_parameters(self):\n",
    "        stdv = 1.0 / math.sqrt(self.hidden_size)\n",
    "        for weight in self.parameters():\n",
    "            torch.nn.init.uniform_(weight, -stdv, stdv)\n",
    "\n",
    "    def check_forward_args(self, input, hidden, batch_sizes):\n",
    "        is_input_packed = batch_sizes is not None\n",
    "        expected_input_dim = 2 if is_input_packed else 3\n",
    "        if input.dim() != expected_input_dim:\n",
    "            raise RuntimeError(\n",
    "                'input must have {} dimensions, got {}'.format(\n",
    "                    expected_input_dim, input.dim()))\n",
    "        if self.input_size != input.size(-1):\n",
    "            raise RuntimeError(\n",
    "                'input.size(-1) must be equal to input_size. Expected {}, got {}'.format(\n",
    "                    self.input_size, input.size(-1)))\n",
    "\n",
    "        if is_input_packed:\n",
    "            mini_batch = int(batch_sizes[0])\n",
    "        else:\n",
    "            mini_batch = input.size(0) if self.batch_first else input.size(1)\n",
    "\n",
    "        num_directions = 2 if self.bidirectional else 1\n",
    "        expected_hidden_size = (self.num_layers * num_directions,\n",
    "                                mini_batch, self.hidden_size)\n",
    "\n",
    "        def check_hidden_size(hx, expected_hidden_size, msg='Expected hidden size {}, got {}'):\n",
    "            if tuple(hx.size()) != expected_hidden_size:\n",
    "                raise RuntimeError(msg.format(expected_hidden_size, tuple(hx.size())))\n",
    "\n",
    "        if self.mode == 'LSTM':\n",
    "            check_hidden_size(hidden[0], expected_hidden_size,\n",
    "                              'Expected hidden[0] size {}, got {}')\n",
    "            check_hidden_size(hidden[1], expected_hidden_size,\n",
    "                              'Expected hidden[1] size {}, got {}')\n",
    "        else:\n",
    "            check_hidden_size(hidden, expected_hidden_size)\n",
    "\n",
    "    def extra_repr(self):\n",
    "        s = '{input_size}, {hidden_size}'\n",
    "        if self.num_layers != 1:\n",
    "            s += ', num_layers={num_layers}'\n",
    "        if self.bias is not True:\n",
    "            s += ', bias={bias}'\n",
    "        if self.batch_first is not False:\n",
    "            s += ', batch_first={batch_first}'\n",
    "        if self.dropout != 0:\n",
    "            s += ', dropout={dropout}'\n",
    "        if self.bidirectional is not False:\n",
    "            s += ', bidirectional={bidirectional}'\n",
    "        return s.format(**self.__dict__)\n",
    "\n",
    "    def __setstate__(self, d):\n",
    "        super(GRUD, self).__setstate__(d)\n",
    "        if 'all_weights' in d:\n",
    "            self._all_weights = d['all_weights']\n",
    "        if isinstance(self._all_weights[0][0], str):\n",
    "            return\n",
    "        num_layers = self.num_layers\n",
    "        num_directions = 2 if self.bidirectional else 1\n",
    "        self._all_weights = []\n",
    "\n",
    "        weights = ['weight_dg_x', 'weight_dg_h',\n",
    "                   'weight_xz', 'weight_hz', 'weight_mz',\n",
    "                   'weight_xr', 'weight_hr', 'weight_mr',\n",
    "                   'weight_xh', 'weight_hh', 'weight_mh',\n",
    "                   'weight_hy',\n",
    "                   'bias_dg_x', 'bias_dg_h',\n",
    "                   'bias_z', 'bias_r', 'bias_h', 'bias_y']\n",
    "\n",
    "        if self.bias:\n",
    "            self._all_weights += [weights]\n",
    "        else:\n",
    "            self._all_weights += [weights[:2]]\n",
    "\n",
    "    @property\n",
    "    def _flat_weights(self):\n",
    "        return list(self._parameters.values())\n",
    "\n",
    "    @property\n",
    "    def all_weights(self):\n",
    "        return [[getattr(self, weight) for weight in weights] for weights in self._all_weights]\n",
    "\n",
    "    def forward(self, input):\n",
    "        # input.size = (3, 33,49) : num_input or num_hidden, num_layer or step\n",
    "        X = torch.squeeze(input[0])  # .size = (33,49)\n",
    "        Mask = torch.squeeze(input[1])  # .size = (33,49)\n",
    "        Delta = torch.squeeze(input[2])  # .size = (33,49)\n",
    "        Hidden_State = torch.autograd.Variable(torch.zeros(input_size))\n",
    "\n",
    "\n",
    "        step_size = X.size(1)  # 49\n",
    "        # print('step size : ', step_size)\n",
    "\n",
    "        output = None\n",
    "        h = Hidden_State\n",
    "\n",
    "        # decay rates gamma\n",
    "        w_dg_x = getattr(self, 'weight_dg_x')\n",
    "        w_dg_h = getattr(self, 'weight_dg_h')\n",
    "\n",
    "        # z\n",
    "        w_xz = getattr(self, 'weight_xz')\n",
    "        w_hz = getattr(self, 'weight_hz')\n",
    "        w_mz = getattr(self, 'weight_mz')\n",
    "\n",
    "        # r\n",
    "        w_xr = getattr(self, 'weight_xr')\n",
    "        w_hr = getattr(self, 'weight_hr')\n",
    "        w_mr = getattr(self, 'weight_mr')\n",
    "\n",
    "        # h_tilde\n",
    "        w_xh = getattr(self, 'weight_xh')\n",
    "        w_hh = getattr(self, 'weight_hh')\n",
    "        w_mh = getattr(self, 'weight_mh')\n",
    "\n",
    "        # bias\n",
    "        b_dg_x = getattr(self, 'bias_dg_x')\n",
    "        b_dg_h = getattr(self, 'bias_dg_h')\n",
    "        b_z = getattr(self, 'bias_z')\n",
    "        b_r = getattr(self, 'bias_r')\n",
    "        b_h = getattr(self, 'bias_h')\n",
    "\n",
    "        for layer in range(num_layers):\n",
    "\n",
    "            x = torch.squeeze(X[:, layer:layer + 1])\n",
    "            m = torch.squeeze(Mask[:, layer:layer + 1])\n",
    "            d = torch.squeeze(Delta[:, layer:layer + 1])\n",
    "\n",
    "            # (4)\n",
    "            gamma_x = torch.exp(-torch.max(self.zeros, (w_dg_x * d + b_dg_x)))\n",
    "            gamma_h = torch.exp(-torch.max(self.zeros, (w_dg_h * d + b_dg_h)))\n",
    "\n",
    "            # (5)\n",
    "            x = m * x + (1 - m) * (gamma_x * x + (1 - gamma_x) * self.x_mean)\n",
    "\n",
    "            # (6)\n",
    "            if self.dropout == 0:\n",
    "                h = gamma_h * h\n",
    "\n",
    "                z = torch.sigmoid((w_xz * x + w_hz * h + w_mz * m + b_z))\n",
    "                r = torch.sigmoid((w_xr * x + w_hr * h + w_mr * m + b_r))\n",
    "                h_tilde = torch.tanh((w_xh * x + w_hh * (r * h) + w_mh * m + b_h))\n",
    "\n",
    "                h = (1 - z) * h + z * h_tilde\n",
    "\n",
    "            elif self.dropout_type == 'Moon':\n",
    "                '''\n",
    "                RNNDROP: a novel dropout for rnn in asr(2015)\n",
    "                '''\n",
    "                h = gamma_h * h\n",
    "\n",
    "                z = torch.sigmoid((w_xz * x + w_hz * h + w_mz * m + b_z))\n",
    "                r = torch.sigmoid((w_xr * x + w_hr * h + w_mr * m + b_r))\n",
    "\n",
    "                h_tilde = torch.tanh((w_xh * x + w_hh * (r * h) + w_mh * m + b_h))\n",
    "\n",
    "                h = (1 - z) * h + z * h_tilde\n",
    "                dropout = torch.nn.Dropout(p=self.dropout)\n",
    "                h = dropout(h)\n",
    "\n",
    "            elif self.dropout_type == 'Gal':\n",
    "                '''\n",
    "                A Theoretically grounded application of dropout in recurrent neural networks(2015)\n",
    "                '''\n",
    "                dropout = torch.nn.Dropout(p=self.dropout)\n",
    "                h = dropout(h)\n",
    "\n",
    "                h = gamma_h * h\n",
    "\n",
    "                z = torch.sigmoid((w_xz * x + w_hz * h + w_mz * m + b_z))\n",
    "                r = torch.sigmoid((w_xr * x + w_hr * h + w_mr * m + b_r))\n",
    "                h_tilde = torch.tanh((w_xh * x + w_hh * (r * h) + w_mh * m + b_h))\n",
    "\n",
    "                h = (1 - z) * h + z * h_tilde\n",
    "\n",
    "            elif self.dropout_type == 'mloss':\n",
    "                '''\n",
    "                recurrent dropout without memory loss arXiv 1603.05118\n",
    "                g = h_tilde, p = the probability to not drop a neuron\n",
    "                '''\n",
    "\n",
    "                h = gamma_h * h\n",
    "\n",
    "                z = torch.sigmoid((w_xz * x + w_hz * h + w_mz * m + b_z))\n",
    "                r = torch.sigmoid((w_xr * x + w_hr * h + w_mr * m + b_r))\n",
    "                h_tilde = torch.tanh((w_xh * x + w_hh * (r * h) + w_mh * m + b_h))\n",
    "\n",
    "                dropout = torch.nn.Dropout(p=self.dropout)\n",
    "                h_tilde = dropout(h_tilde)\n",
    "\n",
    "                h = (1 - z) * h + z * h_tilde\n",
    "\n",
    "            else:\n",
    "                h = gamma_h * h\n",
    "\n",
    "                z = torch.sigmoid((w_xz * x + w_hz * h + w_mz * m + b_z))\n",
    "                r = torch.sigmoid((w_xr * x + w_hr * h + w_mr * m + b_r))\n",
    "                h_tilde = torch.tanh((w_xh * x + w_hh * (r * h) + w_mh * m + b_h))\n",
    "\n",
    "                h = (1 - z) * h + z * h_tilde\n",
    "\n",
    "        w_hy = getattr(self, 'weight_hy')\n",
    "        b_y = getattr(self, 'bias_y')\n",
    "        if epoch == save_point:\n",
    "            temp_h_col.append(list(h.detach().numpy()))\n",
    "\n",
    "        output = torch.matmul(w_hy, h) + b_y\n",
    "        output = torch.sigmoid(output)\n",
    "\n",
    "\n",
    "        return output"
   ]
  },
  {
   "cell_type": "code",
   "execution_count": 25,
   "metadata": {},
   "outputs": [],
   "source": [
    "def count_parameters(model):\n",
    "    return sum(p.numel() for p in model.parameters() if p.requires_grad)"
   ]
  },
  {
   "cell_type": "code",
   "execution_count": 26,
   "metadata": {},
   "outputs": [],
   "source": [
    "def data_dataloader(dataset, outcomes, train_proportion=0.8, dev_proportion=0.2, test_proportion=0.2):\n",
    "    train_index = int(np.floor(dataset.shape[0] * train_proportion))\n",
    "    dev_index = int(np.floor(dataset.shape[0] * (train_proportion - dev_proportion)))\n",
    "\n",
    "    # split dataset to tarin/dev/test set\n",
    "    train_data, train_label = dataset[:train_index, :, :, :], outcomes[:train_index, :]\n",
    "    dev_data, dev_label = dataset[dev_index:train_index, :, :, :], outcomes[dev_index:train_index, :]\n",
    "    test_data, test_label = dataset[train_index:, :, :, :], outcomes[train_index:, :]\n",
    "\n",
    "    # ndarray to tensor\n",
    "    train_data, train_label = torch.Tensor(train_data), torch.Tensor(train_label)\n",
    "    dev_data, dev_label = torch.Tensor(dev_data), torch.Tensor(dev_label)\n",
    "    test_data, test_label = torch.Tensor(test_data), torch.Tensor(test_label)\n",
    "\n",
    "    # tensor to dataset\n",
    "    train_dataset = utils.TensorDataset(train_data, train_label)\n",
    "    dev_dataset = utils.TensorDataset(dev_data, dev_label)\n",
    "    test_dataset = utils.TensorDataset(test_data, test_label)\n",
    "\n",
    "    # dataset to dataloader\n",
    "    train_dataloader = utils.DataLoader(train_dataset)\n",
    "    dev_dataloader = utils.DataLoader(dev_dataset)\n",
    "    test_dataloader = utils.DataLoader(test_dataset)\n",
    "\n",
    "    print(\"train_data.shape : {}\\t train_label.shape : {}\".format(train_data.shape, train_label.shape))\n",
    "    print(\"dev_data.shape : {}\\t dev_label.shape : {}\".format(dev_data.shape, dev_label.shape))\n",
    "    print(\"test_data.shape : {}\\t test_label.shape : {}\".format(test_data.shape, test_label.shape))\n",
    "\n",
    "    return train_dataloader, dev_dataloader, test_dataloader"
   ]
  },
  {
   "cell_type": "code",
   "execution_count": 33,
   "metadata": {},
   "outputs": [],
   "source": [
    "folder_date = datetime.datetime.now().strftime('%Y%m%d')\n",
    "outpath_folder = f'{os.getcwd()}/output/notnormal/{folder_date}'\n",
    "\n",
    "import itertools\n",
    "import statistics\n",
    "if os.path.exists(f'{outpath_folder}/dataset.npy'):\n",
    "    pass\n",
    "else:\n",
    "    input_parent = f'{os.getcwd()}/model_data'\n",
    "    var_list = []\n",
    "    shuffler = []\n",
    "    len_checker = []\n",
    "    path, dirs, files = next(os.walk(input_parent))\n",
    "    file_count = len(files)\n",
    "    print(f\"Number of files={file_count}\")\n",
    "    for idx, file in tqdm(enumerate(os.listdir(input_parent))):\n",
    "        inputpath = f\"{input_parent}/{file}\"\n",
    "        shuffler.append(inputpath)\n",
    "        df = pd.read_csv(inputpath)\n",
    "        var_list.append(df['Parameter'].unique().tolist())\n",
    "        len_checker.append(len(df['Time'].unique()))\n",
    "    print(f\"for files, time length mean {statistics.mean(len_checker)}, stdev {statistics.stdev(len_checker)}\")\n",
    "    \n",
    "    flattened =list(set(itertools.chain(*var_list)))\n",
    "    var_list_in = [x for x in flattened if x not in ['KCDC_surveillance', 'babyid', 'isFlu','weekNumber']]\n",
    "    var_list = var_list_in + ['babyid', 'isFlu','weekNumber', 'KCDC_surveillance']\n",
    "    \n",
    "    numbering = [x for x in range(len(var_list))]\n",
    "    inputdict = dict(zip(var_list, numbering))\n",
    "    print(inputdict)\n",
    "    inputdict = {\n",
    "        'age_0to2': 0,\n",
    "        'gender': 1,\n",
    "        'dew_point_avg': 2,\n",
    "        'surveillance': 3,\n",
    "        'temperature_min': 4,\n",
    "        'temperature_max': 5,\n",
    "        'antibiotics': 6,\n",
    "        'humidity_avg': 7,\n",
    "        'pressure_avg': 8,\n",
    "        'reducer': 9,\n",
    "        'age_2to5': 10,\n",
    "        'weight': 11,\n",
    "        'age_5to12': 12,\n",
    "        'temperature_avg': 13,\n",
    "        'age_12p': 14,\n",
    "        'fever': 15,\n",
    "        'KCDC_surveillance': 16,\n",
    "        'babyid': 17,\n",
    "        'isFlu': 18,\n",
    "        'weekNumber': 19\n",
    "    }\n",
    "    print(inputdict)\n",
    "    if os.path.exists(outpath_folder):\n",
    "        pass\n",
    "    else: \n",
    "        os.makedirs(outpath_folder)"
   ]
  },
  {
   "cell_type": "code",
   "execution_count": 36,
   "metadata": {},
   "outputs": [],
   "source": [
    "inputdict = {\n",
    "    'age_0to2': 0,\n",
    "    'gender': 1,\n",
    "    'dew_point_avg': 2,\n",
    "    'surveillance': 3,\n",
    "    'temperature_min': 4,\n",
    "    'temperature_max': 5,\n",
    "    'antibiotics': 6,\n",
    "    'humidity_avg': 7,\n",
    "    'pressure_avg': 8,\n",
    "    'reducer': 9,\n",
    "    'age_2to5': 10,\n",
    "    'weight': 11,\n",
    "    'age_5to12': 12,\n",
    "    'temperature_avg': 13,\n",
    "    'age_12p': 14,\n",
    "    'fever': 15,\n",
    "    'KCDC_surveillance': 16,\n",
    "    'babyid': 17,\n",
    "    'isFlu': 18,\n",
    "    'weekNumber': 19\n",
    "}"
   ]
  },
  {
   "cell_type": "code",
   "execution_count": 37,
   "metadata": {},
   "outputs": [],
   "source": [
    "def count_parameters(model):\n",
    "    return sum(p.numel() for p in model.parameters() if p.requires_grad)"
   ]
  },
  {
   "cell_type": "code",
   "execution_count": 28,
   "metadata": {},
   "outputs": [
    {
     "name": "stdout",
     "output_type": "stream",
     "text": [
      "16\n",
      "(1, 3, 16, 70)\n"
     ]
    },
    {
     "data": {
      "application/vnd.jupyter.widget-view+json": {
       "model_id": "16c4d417dd1d4365be670e640f256472",
       "version_major": 2,
       "version_minor": 0
      },
      "text/plain": [
       "  0%|          | 0/6657 [00:00<?, ?it/s]"
      ]
     },
     "metadata": {},
     "output_type": "display_data"
    }
   ],
   "source": [
    "size = 300\n",
    "id_position = inputdict['babyid']\n",
    "input_length = inputdict['babyid']\n",
    "print(id_position)\n",
    "dataset = np.zeros((1, 3, input_length, size))\n",
    "print(dataset.shape)\n",
    "all_x_add = np.zeros((input_length, 1))\n",
    "inputs = []\n",
    "\n",
    "for i in range(len(inputdict)):\n",
    "    t = []\n",
    "    inputs.append(t)\n",
    "\n",
    "bad_file = []\n",
    "bad_file_append = bad_file.append\n",
    "temp_label = []\n",
    "list_file_discarded = []\n",
    "\n",
    "np.random.seed(42)\n",
    "\n",
    "if os.path.exists(f\"{outpath_folder}/dataset.npy\"):\n",
    "    pass\n",
    "else:\n",
    "    for file in tqdm(shuffler):\n",
    "        df = pd.read_csv(file, header=0, dtype={'Time':str}, parse_dates=['Time'], date_parser=timeparser)\n",
    "        df = df.drop(df.columns[0], axis=1)\n",
    "        \n",
    "        if np.isnan(df['Value']).any():\n",
    "            bad_file_append(file)\n",
    "            pass\n",
    "        else:\n",
    "            inputs = df_to_inputs(df=df, inputdict=inputdict, inputs=inputs)\n",
    "            temp_id = (float(df.loc[df['Parameter'] == 'babyid', 'Value']))\n",
    "            temp_check = (float(df.loc[df['Parameter'] == 'isFlu', 'Value']))\n",
    "#             print(temp_id, temp_check)\n",
    "            #파일이름\n",
    "            temp_label.append([os.path.basename(file), temp_id, temp_check])\n",
    "            \n",
    "            s_dataset, all_x, id = df_to_x_m_d(df=df, inputdict=inputdict, size=size, id_posistion=id_position, split=input_length)\n",
    "            dataset = np.concatenate((dataset, s_dataset[np.newaxis, :, :, :]))\n",
    "            all_x_add = np.concatenate((all_x_add, all_x), axis=1)"
   ]
  },
  {
   "cell_type": "code",
   "execution_count": 29,
   "metadata": {},
   "outputs": [
    {
     "name": "stdout",
     "output_type": "stream",
     "text": [
      "(6658, 3, 16, 70)\n",
      "[0. 0. 0. 0. 0. 0. 0. 0. 0. 0. 0. 0. 0. 0. 0. 0.]\n",
      "{'age_5to12': 0, 'humidity_avg': 1, 'age_0to2': 2, 'gender': 3, 'weight': 4, 'temperature_min': 5, 'surveillance': 6, 'temperature_max': 7, 'antibiotics': 8, 'fever': 9, 'dew_point_avg': 10, 'pressure_avg': 11, 'temperature_avg': 12, 'age_12p': 13, 'reducer': 14, 'age_2to5': 15, 'babyid': 16, 'isFlu': 17, 'weekNumber': 18, 'KCDC_surveillance': 19}\n",
      "1.0\n",
      "(6657, 3, 16, 70)\n",
      "(3, 16, 70)\n",
      "hello\n",
      "(16, 465991)\n",
      "[ 0.   0.   0.   0.   0.   0.   0.   0.   0.  39.3  0.   0.   0.   0.\n",
      "  0.   0. ]\n"
     ]
    }
   ],
   "source": [
    "print(dataset.shape)\n",
    "print(dataset[0,0,:,40])\n",
    "print(inputdict)\n",
    "if os.path.exists(f\"{outpath_folder}/dataset.npy\"):\n",
    "    dataset = np.load(f\"{outpath_folder}/dataset.npy\")\n",
    "    print('load dataset.npy')\n",
    "else:\n",
    "    print(inputs[0][0])\n",
    "    dataset = dataset[1:, :, :, :]\n",
    "    \n",
    "    print(dataset.shape)\n",
    "    print(dataset[0].shape)\n",
    "    print(\"hello\")\n",
    "    \n",
    "    print(all_x_add.shape)\n",
    "    all_x_add = all_x_add[:, 1:]\n",
    "    print(all_x_add[:, 55])"
   ]
  },
  {
   "cell_type": "code",
   "execution_count": 30,
   "metadata": {},
   "outputs": [
    {
     "name": "stdout",
     "output_type": "stream",
     "text": [
      "   filename    babyid  isflu\n",
      "0  3609.csv  297495.0    1.0\n",
      "1  6395.csv  224325.0    0.0\n",
      "2  4150.csv  217374.0    0.0\n",
      "3  3656.csv  276061.0    1.0\n",
      "4  2218.csv  184763.0    1.0\n",
      "5  1076.csv  309572.0    1.0\n",
      "6  3337.csv  220158.0    0.0\n",
      "7  4082.csv  104239.0    0.0\n",
      "8  2258.csv  100343.0    1.0\n",
      "9  6525.csv  285125.0    1.0\n"
     ]
    }
   ],
   "source": [
    "df2 = pd.DataFrame(temp_label, columns=['filename', 'babyid', 'isflu'])\n",
    "df2.to_csv(f'{outpath_folder}/label.csv', header=True, index=False)\n",
    "print(df2.head(10))\n",
    "df3 = pd.DataFrame(list_file_discarded, columns=['filename', 'reason'])\n",
    "df3.to_csv(f'{outpath_folder}/discarded.csv', header=True, index=False)"
   ]
  },
  {
   "cell_type": "code",
   "execution_count": 31,
   "metadata": {},
   "outputs": [
    {
     "name": "stdout",
     "output_type": "stream",
     "text": [
      "(6657, 3, 16, 70)\n",
      "(16, 372792)\n",
      "x_mean [0.0010595720938217559, 0.7507065602266142, 0.005490997660894011, 0.007111204103092341, 0.24217363838279793, 0.04806701860554948, 0.34110039915019635, 0.1763020665679521, 0.013626901864846885, 10.914305296250992, -0.03436554432498551, 14.438221313762101, 0.10681962059271656, 0.0001716775038090946, 0.4890299958153607, 0.007561857550591214] 16\n",
      "x_std [0.03253381933926217, 6.487766385161938, 0.07389754126885459, 0.08402758403819847, 14.527082613186352, 1.424306864305219, 3.627019104672928, 2.0162015472136976, 0.11593622993013321, 17.233010719598145, 1.6225347072753733, 119.94379374911354, 1.6294316039911763, 0.013101451470878352, 6.034806133137574, 0.0866295322680192] 16\n",
      "wow (16,)\n",
      "(16,)\n"
     ]
    }
   ],
   "source": [
    "import yaml\n",
    "print(dataset.shape)\n",
    "if os.path.exists(f\"{outpath_folder}/dataset.npy\"):\n",
    "    pass\n",
    "else:\n",
    "    train_proportion = 0.8\n",
    "    train_index = int(all_x_add.shape[1] * train_proportion)\n",
    "    train_x = all_x_add[:, :train_index]\n",
    "    print(train_x.shape)\n",
    "    # print(train_x[2][:1000])\n",
    "\n",
    "    x_mean = get_mean(train_x)\n",
    "    print('x_mean', x_mean, len(x_mean))\n",
    "    x_std = get_std(train_x)\n",
    "    print('x_std', x_std, len(x_std))\n",
    "    x_mean = np.asarray(x_mean)\n",
    "    print(\"wow\",x_mean.shape)\n",
    "    x_std = np.asarray(x_std)\n",
    "    print(x_std.shape)\n",
    "\n",
    "    # dataset = dataset_normalize(dataset=dataset, mean=x_mean, std=x_std)\n",
    "    dataset = np.nan_to_num(dataset)\n",
    "    # nor_mean, nor_median, nor_std, nor_var = normalize_chk(dataset)\n",
    "\n",
    "#     np.save(f'{outpath_folder}/nor_mean', nor_mean)\n",
    "#     np.save(f'{outpath_folder}/nor_median', nor_median)\n",
    "    np.save(f'{outpath_folder}/dataset', dataset)\n"
   ]
  },
  {
   "cell_type": "code",
   "execution_count": 32,
   "metadata": {},
   "outputs": [
    {
     "name": "stdout",
     "output_type": "stream",
     "text": [
      "(6657, 3, 16, 70)\n",
      "      filename    babyid  isflu\n",
      "0     3609.csv  297495.0    1.0\n",
      "1     6395.csv  224325.0    0.0\n",
      "2     4150.csv  217374.0    0.0\n",
      "3     3656.csv  276061.0    1.0\n",
      "4     2218.csv  184763.0    1.0\n",
      "...        ...       ...    ...\n",
      "6652  4173.csv  200861.0    0.0\n",
      "6653   394.csv  312864.0    1.0\n",
      "6654  2628.csv  242210.0    0.0\n",
      "6655  6524.csv  221479.0    1.0\n",
      "6656  2577.csv  320543.0    1.0\n",
      "\n",
      "[6657 rows x 3 columns]\n",
      "[[1]\n",
      " [0]\n",
      " [0]\n",
      " ...\n",
      " [0]\n",
      " [1]\n",
      " [1]]\n",
      "(6657, 1)\n"
     ]
    }
   ],
   "source": [
    "t_dataset = np.load(f\"{outpath_folder}/dataset.npy\")\n",
    "print(t_dataset.shape)\n",
    "df_label = pd.read_csv(f\"{outpath_folder}/label.csv\")\n",
    "print(df_label)\n",
    "np_label = np.array(df_to_y1(df_label), dtype=int)\n",
    "print(np_label)\n",
    "np.save(f\"{outpath_folder}/np_label.npy\", np_label)\n",
    "print(np_label.shape)"
   ]
  },
  {
   "cell_type": "code",
   "execution_count": 33,
   "metadata": {},
   "outputs": [
    {
     "name": "stdout",
     "output_type": "stream",
     "text": [
      "(6657, 3, 16, 70)\n",
      "(6657, 1)\n"
     ]
    }
   ],
   "source": [
    "t_dataset = np.load(f\"{outpath_folder}/dataset.npy\")\n",
    "t_out = np.load(f\"{outpath_folder}/np_label.npy\")\n",
    "\n",
    "print(t_dataset.shape)\n",
    "print(t_out.shape)"
   ]
  },
  {
   "cell_type": "code",
   "execution_count": 39,
   "metadata": {},
   "outputs": [
    {
     "name": "stdout",
     "output_type": "stream",
     "text": [
      "train_data.shape : torch.Size([5325, 3, 16, 70])\t train_label.shape : torch.Size([5325, 1])\n",
      "dev_data.shape : torch.Size([1331, 3, 16, 70])\t dev_label.shape : torch.Size([1331, 1])\n",
      "test_data.shape : torch.Size([1332, 3, 16, 70])\t test_label.shape : torch.Size([1332, 1])\n",
      "tensor([0., 0., 0., 0., 0., 0., 0., 0., 0., 0., 0., 0., 0., 0., 0., 0.])\n"
     ]
    }
   ],
   "source": [
    "train_dataloader, dev_dataloader, test_dataloader = \\\n",
    "        data_dataloader(t_dataset, t_out,train_proportion=0.8, \\\n",
    "                        dev_proportion=0.2, test_proportion=0.2)\n",
    "\n",
    "# x_mean = torch.Tensor(np.load(f\"{outpath_folder}/nor_mean.npy\")).clone().detach()\n",
    "# x_median = torch.Tensor(np.load(f\"{outpath_folder}/nor_median.npy\")).clone().detach()\n",
    "x_mean = torch.zeros(inputdict['babyid'])\n",
    "print(x_mean)\n",
    "auc_collector = []\n",
    "acc_collector = []\n",
    "lr_collector = []\n",
    "h_collector = {}\n",
    "label_collector = []\n",
    "save_point = 100\n",
    "\n",
    "import math\n",
    "\n",
    "input_size = inputdict['babyid']\n",
    "hidden_size = inputdict['babyid']\n",
    "output_size = 1\n",
    "num_layers = 70"
   ]
  },
  {
   "cell_type": "code",
   "execution_count": 40,
   "metadata": {},
   "outputs": [
    {
     "data": {
      "text/plain": [
       "pycm.pycm_obj.ConfusionMatrix"
      ]
     },
     "execution_count": 40,
     "metadata": {},
     "output_type": "execute_result"
    }
   ],
   "source": [
    "ConfusionMatrix"
   ]
  },
  {
   "cell_type": "code",
   "execution_count": 41,
   "metadata": {},
   "outputs": [
    {
     "name": "stdout",
     "output_type": "stream",
     "text": [
      "number of parameters :  273\n",
      "None\n"
     ]
    }
   ],
   "source": [
    "model = GRUD(input_size=input_size, hidden_size=hidden_size, output_size=output_size, dropout=0, dropout_type='Moon', x_mean=x_mean, num_layers=num_layers)\n",
    "\n",
    "count = count_parameters(model)\n",
    "print('number of parameters : ', count)\n",
    "print(list(model.parameters())[0].grad)"
   ]
  },
  {
   "cell_type": "code",
   "execution_count": 42,
   "metadata": {},
   "outputs": [
    {
     "name": "stdout",
     "output_type": "stream",
     "text": [
      "Ranger optimizer loaded. \n",
      "Gradient Centralization usage = True\n",
      "GC applied to both conv and fc layers\n"
     ]
    }
   ],
   "source": [
    "designated_epochs = 95\n",
    "criterion = torch.nn.BCELoss()\n",
    "optimizer = ranger2020.Ranger(model.parameters(), lr=0.1)\n",
    "scheduler = torch.optim.lr_scheduler.OneCycleLR(optimizer, max_lr=0.01, steps_per_epoch=len(train_dataloader), epochs=designated_epochs)\n",
    "\n",
    "epoch_losses = []\n",
    "\n",
    "old_state_dict = {}\n",
    "for key in model.state_dict():\n",
    "    old_state_dict[key] = model.state_dict()[key].clone()"
   ]
  },
  {
   "cell_type": "code",
   "execution_count": null,
   "metadata": {},
   "outputs": [
    {
     "data": {
      "application/vnd.jupyter.widget-view+json": {
       "model_id": "e18e790473ca4761b5a72f4be4bb9bfa",
       "version_major": 2,
       "version_minor": 0
      },
      "text/plain": [
       "  0%|          | 0/95 [00:00<?, ?it/s]"
      ]
     },
     "metadata": {},
     "output_type": "display_data"
    },
    {
     "data": {
      "application/vnd.jupyter.widget-view+json": {
       "model_id": "7625fd4cc37c4bbe8327f6fabb5551d9",
       "version_major": 2,
       "version_minor": 0
      },
      "text/plain": [
       "  0%|          | 0/5325 [00:00<?, ?it/s]"
      ]
     },
     "metadata": {},
     "output_type": "display_data"
    },
    {
     "name": "stdout",
     "output_type": "stream",
     "text": [
      "Not updated in weight_dg_x\n",
      "Not updated in bias_dg_x\n"
     ]
    },
    {
     "data": {
      "application/vnd.jupyter.widget-view+json": {
       "model_id": "f1db8914f1f14a91986e024db026d42b",
       "version_major": 2,
       "version_minor": 0
      },
      "text/plain": [
       "  0%|          | 0/1331 [00:00<?, ?it/s]"
      ]
     },
     "metadata": {},
     "output_type": "display_data"
    },
    {
     "data": {
      "application/vnd.jupyter.widget-view+json": {
       "model_id": "ab539aab4f604dc793a7c3a18f4c5eaa",
       "version_major": 2,
       "version_minor": 0
      },
      "text/plain": [
       "  0%|          | 0/1332 [00:00<?, ?it/s]"
      ]
     },
     "metadata": {},
     "output_type": "display_data"
    },
    {
     "name": "stdout",
     "output_type": "stream",
     "text": [
      "Epoch: 1 Learning rate: 0.00043, Train loss: 0.6959, Dev loss: 0.6889, Test loss: 0.6877, Test AUC: 0.6405\n",
      "[0. 0. 0. ... 0. 1. 1.] [0.49415725 0.49469906 0.48787701 ... 0.48449984 0.45324248 0.51502395]\n",
      "Predict   Flu       Not       \n",
      "Actual\n",
      "Flu       108       545       \n",
      "\n",
      "Not       36        643       \n",
      "\n",
      "\n",
      "True\n",
      "{'Flu': 0.5638138138138138, 'Not': 0.5638138138138138} {'Flu': 0.5561856797786132, 'Not': 0.5561856797786132}\n"
     ]
    },
    {
     "data": {
      "application/vnd.jupyter.widget-view+json": {
       "model_id": "9a7db65628644de6ae403c5439c0ff00",
       "version_major": 2,
       "version_minor": 0
      },
      "text/plain": [
       "  0%|          | 0/5325 [00:00<?, ?it/s]"
      ]
     },
     "metadata": {},
     "output_type": "display_data"
    },
    {
     "name": "stdout",
     "output_type": "stream",
     "text": [
      "Not updated in weight_dg_x\n",
      "Not updated in bias_dg_x\n"
     ]
    },
    {
     "data": {
      "application/vnd.jupyter.widget-view+json": {
       "model_id": "aecf19324f534664a1c4be8805683c49",
       "version_major": 2,
       "version_minor": 0
      },
      "text/plain": [
       "  0%|          | 0/1331 [00:00<?, ?it/s]"
      ]
     },
     "metadata": {},
     "output_type": "display_data"
    },
    {
     "data": {
      "application/vnd.jupyter.widget-view+json": {
       "model_id": "3c0e51df149a481a8577eafe60f8f71f",
       "version_major": 2,
       "version_minor": 0
      },
      "text/plain": [
       "  0%|          | 0/1332 [00:00<?, ?it/s]"
      ]
     },
     "metadata": {},
     "output_type": "display_data"
    },
    {
     "name": "stdout",
     "output_type": "stream",
     "text": [
      "Epoch: 2 Learning rate: 0.00052, Train loss: 0.6822, Dev loss: 0.6722, Test loss: 0.6683, Test AUC: 0.7105\n",
      "[0. 0. 0. ... 0. 1. 1.] [0.51468277 0.51741403 0.45362198 ... 0.4327977  0.35412368 0.54588288]\n",
      "Predict   Flu       Not       \n",
      "Actual\n",
      "Flu       576       77        \n",
      "\n",
      "Not       413       266       \n",
      "\n",
      "\n",
      "True\n",
      "{'Flu': 0.6321321321321322, 'Not': 0.6321321321321322} {'Flu': 0.6369176362861337, 'Not': 0.6369176362861337}\n"
     ]
    },
    {
     "data": {
      "application/vnd.jupyter.widget-view+json": {
       "model_id": "e09020e06cf541098ab55c7bfe5cb7c6",
       "version_major": 2,
       "version_minor": 0
      },
      "text/plain": [
       "  0%|          | 0/5325 [00:00<?, ?it/s]"
      ]
     },
     "metadata": {},
     "output_type": "display_data"
    },
    {
     "name": "stdout",
     "output_type": "stream",
     "text": [
      "Not updated in weight_dg_x\n",
      "Not updated in bias_dg_x\n"
     ]
    },
    {
     "data": {
      "application/vnd.jupyter.widget-view+json": {
       "model_id": "eb52491fc1ad479da56aca5139ffec9d",
       "version_major": 2,
       "version_minor": 0
      },
      "text/plain": [
       "  0%|          | 0/1331 [00:00<?, ?it/s]"
      ]
     },
     "metadata": {},
     "output_type": "display_data"
    },
    {
     "data": {
      "application/vnd.jupyter.widget-view+json": {
       "model_id": "dadfacd550864f09a6abce28a6b81dcd",
       "version_major": 2,
       "version_minor": 0
      },
      "text/plain": [
       "  0%|          | 0/1332 [00:00<?, ?it/s]"
      ]
     },
     "metadata": {},
     "output_type": "display_data"
    },
    {
     "name": "stdout",
     "output_type": "stream",
     "text": [
      "Epoch: 3 Learning rate: 0.00066, Train loss: 0.6147, Dev loss: 0.5549, Test loss: 0.5356, Test AUC: 0.8453\n",
      "[0. 0. 0. ... 0. 1. 1.] [0.3201966  0.3768979  0.27424708 ... 0.34065777 0.21578705 0.66838557]\n",
      "Predict   Flu       Not       \n",
      "Actual\n",
      "Flu       575       78        \n",
      "\n",
      "Not       201       478       \n",
      "\n",
      "\n",
      "True\n",
      "{'Flu': 0.7905405405405406, 'Not': 0.7905405405405406} {'Flu': 0.7922638688098659, 'Not': 0.7922638688098659}\n"
     ]
    },
    {
     "data": {
      "application/vnd.jupyter.widget-view+json": {
       "model_id": "64d9dd2248364f61afbe7149d34b9108",
       "version_major": 2,
       "version_minor": 0
      },
      "text/plain": [
       "  0%|          | 0/5325 [00:00<?, ?it/s]"
      ]
     },
     "metadata": {},
     "output_type": "display_data"
    },
    {
     "name": "stdout",
     "output_type": "stream",
     "text": [
      "Not updated in weight_dg_x\n",
      "Not updated in bias_dg_x\n"
     ]
    },
    {
     "data": {
      "application/vnd.jupyter.widget-view+json": {
       "model_id": "d05b2fee42bc43bf933e2641f3f47a44",
       "version_major": 2,
       "version_minor": 0
      },
      "text/plain": [
       "  0%|          | 0/1331 [00:00<?, ?it/s]"
      ]
     },
     "metadata": {},
     "output_type": "display_data"
    },
    {
     "data": {
      "application/vnd.jupyter.widget-view+json": {
       "model_id": "e553b0ef7c564c369a9b66fe0a0f5cdf",
       "version_major": 2,
       "version_minor": 0
      },
      "text/plain": [
       "  0%|          | 0/1332 [00:00<?, ?it/s]"
      ]
     },
     "metadata": {},
     "output_type": "display_data"
    },
    {
     "name": "stdout",
     "output_type": "stream",
     "text": [
      "Epoch: 4 Learning rate: 0.00086, Train loss: 0.5250, Dev loss: 0.5184, Test loss: 0.4906, Test AUC: 0.8463\n",
      "[0. 0. 0. ... 0. 1. 1.] [0.21266529 0.26908466 0.14348458 ... 0.2238778  0.11955411 0.70187223]\n",
      "Predict   Flu       Not       \n",
      "Actual\n",
      "Flu       564       89        \n",
      "\n",
      "Not       196       483       \n",
      "\n",
      "\n",
      "True\n",
      "{'Flu': 0.786036036036036, 'Not': 0.786036036036036} {'Flu': 0.7875230893102414, 'Not': 0.7875230893102414}\n"
     ]
    },
    {
     "data": {
      "application/vnd.jupyter.widget-view+json": {
       "model_id": "674ec56b81094992a189b405dde488e8",
       "version_major": 2,
       "version_minor": 0
      },
      "text/plain": [
       "  0%|          | 0/5325 [00:00<?, ?it/s]"
      ]
     },
     "metadata": {},
     "output_type": "display_data"
    },
    {
     "name": "stdout",
     "output_type": "stream",
     "text": [
      "Not updated in weight_dg_x\n",
      "Not updated in bias_dg_x\n"
     ]
    },
    {
     "data": {
      "application/vnd.jupyter.widget-view+json": {
       "model_id": "7e8fa238e51c46e694b2bf42e8003456",
       "version_major": 2,
       "version_minor": 0
      },
      "text/plain": [
       "  0%|          | 0/1331 [00:00<?, ?it/s]"
      ]
     },
     "metadata": {},
     "output_type": "display_data"
    },
    {
     "data": {
      "application/vnd.jupyter.widget-view+json": {
       "model_id": "5bf93dd5b40f449095a77d944a63534a",
       "version_major": 2,
       "version_minor": 0
      },
      "text/plain": [
       "  0%|          | 0/1332 [00:00<?, ?it/s]"
      ]
     },
     "metadata": {},
     "output_type": "display_data"
    },
    {
     "name": "stdout",
     "output_type": "stream",
     "text": [
      "Epoch: 5 Learning rate: 0.00111, Train loss: 0.5040, Dev loss: 0.5085, Test loss: 0.4747, Test AUC: 0.8524\n",
      "[0. 0. 0. ... 0. 1. 1.] [0.15197633 0.23761247 0.09268226 ... 0.18679111 0.09220181 0.70387644]\n",
      "Predict   Flu       Not       \n",
      "Actual\n",
      "Flu       568       85        \n",
      "\n",
      "Not       197       482       \n",
      "\n",
      "\n",
      "True\n",
      "{'Flu': 0.7882882882882883, 'Not': 0.7882882882882883} {'Flu': 0.7898494994214986, 'Not': 0.7898494994214986}\n"
     ]
    },
    {
     "data": {
      "application/vnd.jupyter.widget-view+json": {
       "model_id": "b07ff26aa87f4e7a81242c9c2107b403",
       "version_major": 2,
       "version_minor": 0
      },
      "text/plain": [
       "  0%|          | 0/5325 [00:00<?, ?it/s]"
      ]
     },
     "metadata": {},
     "output_type": "display_data"
    },
    {
     "name": "stdout",
     "output_type": "stream",
     "text": [
      "Not updated in weight_dg_x\n",
      "Not updated in bias_dg_x\n"
     ]
    },
    {
     "data": {
      "application/vnd.jupyter.widget-view+json": {
       "model_id": "3daaf358158248c1b89fc72b70b5cd59",
       "version_major": 2,
       "version_minor": 0
      },
      "text/plain": [
       "  0%|          | 0/1331 [00:00<?, ?it/s]"
      ]
     },
     "metadata": {},
     "output_type": "display_data"
    },
    {
     "data": {
      "application/vnd.jupyter.widget-view+json": {
       "model_id": "d503447a26eb40e381fdb330a5c3bbb6",
       "version_major": 2,
       "version_minor": 0
      },
      "text/plain": [
       "  0%|          | 0/1332 [00:00<?, ?it/s]"
      ]
     },
     "metadata": {},
     "output_type": "display_data"
    },
    {
     "name": "stdout",
     "output_type": "stream",
     "text": [
      "Epoch: 6 Learning rate: 0.00141, Train loss: 0.4968, Dev loss: 0.5005, Test loss: 0.4666, Test AUC: 0.8562\n",
      "[0. 0. 0. ... 0. 1. 1.] [0.0972324  0.63871825 0.08148862 ... 0.25831661 0.10428711 0.68467194]\n",
      "Predict   Flu       Not       \n",
      "Actual\n",
      "Flu       601       52        \n",
      "\n",
      "Not       234       445       \n",
      "\n",
      "\n",
      "True\n",
      "{'Flu': 0.7852852852852853, 'Not': 0.7852852852852853} {'Flu': 0.787871543369562, 'Not': 0.787871543369562}\n"
     ]
    },
    {
     "data": {
      "application/vnd.jupyter.widget-view+json": {
       "model_id": "f477ef4f510f4ba3a042e73ef7b34fd1",
       "version_major": 2,
       "version_minor": 0
      },
      "text/plain": [
       "  0%|          | 0/5325 [00:00<?, ?it/s]"
      ]
     },
     "metadata": {},
     "output_type": "display_data"
    },
    {
     "name": "stdout",
     "output_type": "stream",
     "text": [
      "Not updated in weight_dg_x\n",
      "Not updated in bias_dg_x\n"
     ]
    },
    {
     "data": {
      "application/vnd.jupyter.widget-view+json": {
       "model_id": "275647615fbf410b902a9c88c2349ef8",
       "version_major": 2,
       "version_minor": 0
      },
      "text/plain": [
       "  0%|          | 0/1331 [00:00<?, ?it/s]"
      ]
     },
     "metadata": {},
     "output_type": "display_data"
    },
    {
     "data": {
      "application/vnd.jupyter.widget-view+json": {
       "model_id": "17b742a388b640bcb06b18b03a1e5a3d",
       "version_major": 2,
       "version_minor": 0
      },
      "text/plain": [
       "  0%|          | 0/1332 [00:00<?, ?it/s]"
      ]
     },
     "metadata": {},
     "output_type": "display_data"
    },
    {
     "name": "stdout",
     "output_type": "stream",
     "text": [
      "Epoch: 7 Learning rate: 0.00176, Train loss: 0.4838, Dev loss: 0.4808, Test loss: 0.4417, Test AUC: 0.8776\n",
      "[0. 0. 0. ... 0. 1. 1.] [0.06776845 0.49357063 0.06767139 ... 0.20610863 0.08936428 0.73060775]\n",
      "Predict   Flu       Not       \n",
      "Actual\n",
      "Flu       589       64        \n",
      "\n",
      "Not       197       482       \n",
      "\n",
      "\n",
      "True\n",
      "{'Flu': 0.8040540540540541, 'Not': 0.8040540540540541} {'Flu': 0.8059291318870423, 'Not': 0.8059291318870423}\n"
     ]
    },
    {
     "data": {
      "application/vnd.jupyter.widget-view+json": {
       "model_id": "421e6d367186496cb610cc4af70b9381",
       "version_major": 2,
       "version_minor": 0
      },
      "text/plain": [
       "  0%|          | 0/5325 [00:00<?, ?it/s]"
      ]
     },
     "metadata": {},
     "output_type": "display_data"
    },
    {
     "name": "stdout",
     "output_type": "stream",
     "text": [
      "Not updated in weight_dg_x\n",
      "Not updated in bias_dg_x\n"
     ]
    },
    {
     "data": {
      "application/vnd.jupyter.widget-view+json": {
       "model_id": "39bae9cdee924deb8baa4bf30b35c4b9",
       "version_major": 2,
       "version_minor": 0
      },
      "text/plain": [
       "  0%|          | 0/1331 [00:00<?, ?it/s]"
      ]
     },
     "metadata": {},
     "output_type": "display_data"
    },
    {
     "data": {
      "application/vnd.jupyter.widget-view+json": {
       "model_id": "0a10a7fd071549f0bbd234a7f71eb482",
       "version_major": 2,
       "version_minor": 0
      },
      "text/plain": [
       "  0%|          | 0/1332 [00:00<?, ?it/s]"
      ]
     },
     "metadata": {},
     "output_type": "display_data"
    },
    {
     "name": "stdout",
     "output_type": "stream",
     "text": [
      "Epoch: 8 Learning rate: 0.00215, Train loss: 0.4510, Dev loss: 0.4309, Test loss: 0.4010, Test AUC: 0.8949\n",
      "[0. 0. 0. ... 0. 1. 1.] [0.03927643 0.23828034 0.05518891 ... 0.15055494 0.06986455 0.7299729 ]\n",
      "Predict   Flu       Not       \n",
      "Actual\n",
      "Flu       580       73        \n",
      "\n",
      "Not       131       548       \n",
      "\n",
      "\n",
      "True\n",
      "{'Flu': 0.8468468468468469, 'Not': 0.8468468468468469} {'Flu': 0.8476387444828107, 'Not': 0.8476387444828107}\n"
     ]
    },
    {
     "data": {
      "application/vnd.jupyter.widget-view+json": {
       "model_id": "fc913fdea54f44c3aff96bcfe1d43e20",
       "version_major": 2,
       "version_minor": 0
      },
      "text/plain": [
       "  0%|          | 0/5325 [00:00<?, ?it/s]"
      ]
     },
     "metadata": {},
     "output_type": "display_data"
    },
    {
     "name": "stdout",
     "output_type": "stream",
     "text": [
      "Not updated in weight_dg_x\n",
      "Not updated in bias_dg_x\n"
     ]
    },
    {
     "data": {
      "application/vnd.jupyter.widget-view+json": {
       "model_id": "0dd0131f14984c24a4b88019c9e62d57",
       "version_major": 2,
       "version_minor": 0
      },
      "text/plain": [
       "  0%|          | 0/1331 [00:00<?, ?it/s]"
      ]
     },
     "metadata": {},
     "output_type": "display_data"
    },
    {
     "data": {
      "application/vnd.jupyter.widget-view+json": {
       "model_id": "fbb437c6ffab4789860d724a6209c555",
       "version_major": 2,
       "version_minor": 0
      },
      "text/plain": [
       "  0%|          | 0/1332 [00:00<?, ?it/s]"
      ]
     },
     "metadata": {},
     "output_type": "display_data"
    },
    {
     "name": "stdout",
     "output_type": "stream",
     "text": [
      "Epoch: 9 Learning rate: 0.00257, Train loss: 0.4195, Dev loss: 0.4144, Test loss: 0.3940, Test AUC: 0.8984\n",
      "[0. 0. 0. ... 0. 1. 1.] [0.03252519 0.14833055 0.06426048 ... 0.15618117 0.07572307 0.70152962]\n",
      "Predict   Flu       Not       \n",
      "Actual\n",
      "Flu       577       76        \n",
      "\n",
      "Not       138       541       \n",
      "\n",
      "\n",
      "True\n",
      "{'Flu': 0.8393393393393394, 'Not': 0.8393393393393394} {'Flu': 0.8401870149553324, 'Not': 0.8401870149553324}\n"
     ]
    },
    {
     "data": {
      "application/vnd.jupyter.widget-view+json": {
       "model_id": "a6f9da1829d843e1b956a931c66f7002",
       "version_major": 2,
       "version_minor": 0
      },
      "text/plain": [
       "  0%|          | 0/5325 [00:00<?, ?it/s]"
      ]
     },
     "metadata": {},
     "output_type": "display_data"
    },
    {
     "name": "stdout",
     "output_type": "stream",
     "text": [
      "Not updated in weight_dg_x\n",
      "Not updated in bias_dg_x\n"
     ]
    },
    {
     "data": {
      "application/vnd.jupyter.widget-view+json": {
       "model_id": "4e0fb8e668ad4cd1ba2308112a63e999",
       "version_major": 2,
       "version_minor": 0
      },
      "text/plain": [
       "  0%|          | 0/1331 [00:00<?, ?it/s]"
      ]
     },
     "metadata": {},
     "output_type": "display_data"
    },
    {
     "data": {
      "application/vnd.jupyter.widget-view+json": {
       "model_id": "c3fc02fa3c5348e1ad14193271f5a7f9",
       "version_major": 2,
       "version_minor": 0
      },
      "text/plain": [
       "  0%|          | 0/1332 [00:00<?, ?it/s]"
      ]
     },
     "metadata": {},
     "output_type": "display_data"
    },
    {
     "name": "stdout",
     "output_type": "stream",
     "text": [
      "Epoch: 10 Learning rate: 0.00303, Train loss: 0.4128, Dev loss: 0.4108, Test loss: 0.3987, Test AUC: 0.8967\n",
      "[0. 0. 0. ... 0. 1. 1.] [0.07532058 0.08907703 0.10826839 ... 0.13966082 0.11102336 0.6078977 ]\n",
      "Predict   Flu       Not       \n",
      "Actual\n",
      "Flu       576       77        \n",
      "\n",
      "Not       131       548       \n",
      "\n",
      "\n",
      "True\n",
      "{'Flu': 0.8438438438438438, 'Not': 0.8438438438438438} {'Flu': 0.8445759573465167, 'Not': 0.8445759573465167}\n"
     ]
    },
    {
     "data": {
      "application/vnd.jupyter.widget-view+json": {
       "model_id": "3042302234384910a58723f4572487b6",
       "version_major": 2,
       "version_minor": 0
      },
      "text/plain": [
       "  0%|          | 0/5325 [00:00<?, ?it/s]"
      ]
     },
     "metadata": {},
     "output_type": "display_data"
    },
    {
     "name": "stdout",
     "output_type": "stream",
     "text": [
      "Not updated in weight_dg_x\n",
      "Not updated in bias_dg_x\n"
     ]
    },
    {
     "data": {
      "application/vnd.jupyter.widget-view+json": {
       "model_id": "802e6b7d68d645b99b109347f770625c",
       "version_major": 2,
       "version_minor": 0
      },
      "text/plain": [
       "  0%|          | 0/1331 [00:00<?, ?it/s]"
      ]
     },
     "metadata": {},
     "output_type": "display_data"
    },
    {
     "data": {
      "application/vnd.jupyter.widget-view+json": {
       "model_id": "fade3bec0a0a49e0a181d84556c272b9",
       "version_major": 2,
       "version_minor": 0
      },
      "text/plain": [
       "  0%|          | 0/1332 [00:00<?, ?it/s]"
      ]
     },
     "metadata": {},
     "output_type": "display_data"
    },
    {
     "name": "stdout",
     "output_type": "stream",
     "text": [
      "Epoch: 11 Learning rate: 0.00352, Train loss: 0.4074, Dev loss: 0.3955, Test loss: 0.3824, Test AUC: 0.9032\n",
      "[0. 0. 0. ... 0. 1. 1.] [0.04063714 0.09925327 0.09620109 ... 0.15735361 0.0913883  0.5585013 ]\n",
      "Predict   Flu       Not       \n",
      "Actual\n",
      "Flu       571       82        \n",
      "\n",
      "Not       115       564       \n",
      "\n",
      "\n",
      "True\n",
      "{'Flu': 0.8521021021021021, 'Not': 0.8521021021021021} {'Flu': 0.8525295058267384, 'Not': 0.8525295058267384}\n"
     ]
    },
    {
     "data": {
      "application/vnd.jupyter.widget-view+json": {
       "model_id": "2728a3877c00443a84be279299d79f96",
       "version_major": 2,
       "version_minor": 0
      },
      "text/plain": [
       "  0%|          | 0/5325 [00:00<?, ?it/s]"
      ]
     },
     "metadata": {},
     "output_type": "display_data"
    },
    {
     "name": "stdout",
     "output_type": "stream",
     "text": [
      "Not updated in weight_dg_x\n",
      "Not updated in bias_dg_x\n"
     ]
    },
    {
     "data": {
      "application/vnd.jupyter.widget-view+json": {
       "model_id": "110569b3ee854749b61f48938b699601",
       "version_major": 2,
       "version_minor": 0
      },
      "text/plain": [
       "  0%|          | 0/1331 [00:00<?, ?it/s]"
      ]
     },
     "metadata": {},
     "output_type": "display_data"
    },
    {
     "data": {
      "application/vnd.jupyter.widget-view+json": {
       "model_id": "5c6e0c92d97a45d18f02bf4e6dad154b",
       "version_major": 2,
       "version_minor": 0
      },
      "text/plain": [
       "  0%|          | 0/1332 [00:00<?, ?it/s]"
      ]
     },
     "metadata": {},
     "output_type": "display_data"
    },
    {
     "name": "stdout",
     "output_type": "stream",
     "text": [
      "Epoch: 12 Learning rate: 0.00402, Train loss: 0.4018, Dev loss: 0.3896, Test loss: 0.3748, Test AUC: 0.9079\n",
      "[0. 0. 0. ... 0. 1. 1.] [0.03351316 0.10959714 0.0954389  ... 0.17942867 0.09269983 0.48505983]\n",
      "Predict   Flu       Not       \n",
      "Actual\n",
      "Flu       575       78        \n",
      "\n",
      "Not       120       559       \n",
      "\n",
      "\n",
      "True\n",
      "{'Flu': 0.8513513513513513, 'Not': 0.8513513513513513} {'Flu': 0.8519104078378481, 'Not': 0.8519104078378481}\n"
     ]
    },
    {
     "data": {
      "application/vnd.jupyter.widget-view+json": {
       "model_id": "0faf5c4858984878aea15f67e370a609",
       "version_major": 2,
       "version_minor": 0
      },
      "text/plain": [
       "  0%|          | 0/5325 [00:00<?, ?it/s]"
      ]
     },
     "metadata": {},
     "output_type": "display_data"
    },
    {
     "name": "stdout",
     "output_type": "stream",
     "text": [
      "Not updated in weight_dg_x\n",
      "Not updated in bias_dg_x\n"
     ]
    },
    {
     "data": {
      "application/vnd.jupyter.widget-view+json": {
       "model_id": "a254953bd04343a9887ccb2faf320391",
       "version_major": 2,
       "version_minor": 0
      },
      "text/plain": [
       "  0%|          | 0/1331 [00:00<?, ?it/s]"
      ]
     },
     "metadata": {},
     "output_type": "display_data"
    },
    {
     "data": {
      "application/vnd.jupyter.widget-view+json": {
       "model_id": "ef8392170f914d368be9d7284a2f0504",
       "version_major": 2,
       "version_minor": 0
      },
      "text/plain": [
       "  0%|          | 0/1332 [00:00<?, ?it/s]"
      ]
     },
     "metadata": {},
     "output_type": "display_data"
    },
    {
     "name": "stdout",
     "output_type": "stream",
     "text": [
      "Epoch: 13 Learning rate: 0.00454, Train loss: 0.4001, Dev loss: 0.3951, Test loss: 0.3824, Test AUC: 0.9050\n",
      "[0. 0. 0. ... 0. 1. 1.] [0.03165058 0.10727818 0.09087619 ... 0.18858814 0.08765306 0.50263476]\n",
      "Predict   Flu       Not       \n",
      "Actual\n",
      "Flu       583       70        \n",
      "\n",
      "Not       138       541       \n",
      "\n",
      "\n",
      "True\n",
      "{'Flu': 0.8438438438438438, 'Not': 0.8438438438438438} {'Flu': 0.8447811956597735, 'Not': 0.8447811956597735}\n"
     ]
    },
    {
     "data": {
      "application/vnd.jupyter.widget-view+json": {
       "model_id": "6c674bf503e74923b6bd0d8c9c1a9987",
       "version_major": 2,
       "version_minor": 0
      },
      "text/plain": [
       "  0%|          | 0/5325 [00:00<?, ?it/s]"
      ]
     },
     "metadata": {},
     "output_type": "display_data"
    },
    {
     "name": "stdout",
     "output_type": "stream",
     "text": [
      "Not updated in weight_dg_x\n",
      "Not updated in bias_dg_x\n"
     ]
    },
    {
     "data": {
      "application/vnd.jupyter.widget-view+json": {
       "model_id": "ae65fcf0dbbd429f875b7bf868b14c1b",
       "version_major": 2,
       "version_minor": 0
      },
      "text/plain": [
       "  0%|          | 0/1331 [00:00<?, ?it/s]"
      ]
     },
     "metadata": {},
     "output_type": "display_data"
    },
    {
     "data": {
      "application/vnd.jupyter.widget-view+json": {
       "model_id": "55d299a5d14e48238c3e5654cf756f29",
       "version_major": 2,
       "version_minor": 0
      },
      "text/plain": [
       "  0%|          | 0/1332 [00:00<?, ?it/s]"
      ]
     },
     "metadata": {},
     "output_type": "display_data"
    },
    {
     "name": "stdout",
     "output_type": "stream",
     "text": [
      "Epoch: 14 Learning rate: 0.00507, Train loss: 0.4027, Dev loss: 0.3909, Test loss: 0.3789, Test AUC: 0.9067\n",
      "[0. 0. 0. ... 0. 1. 1.] [0.03231869 0.1051636  0.09611419 ... 0.22803757 0.10906842 0.5075317 ]\n",
      "Predict   Flu       Not       \n",
      "Actual\n",
      "Flu       561       92        \n",
      "\n",
      "Not       110       569       \n",
      "\n",
      "\n",
      "True\n",
      "{'Flu': 0.8483483483483484, 'Not': 0.8483483483483484} {'Flu': 0.8485544231111872, 'Not': 0.8485544231111872}\n"
     ]
    },
    {
     "data": {
      "application/vnd.jupyter.widget-view+json": {
       "model_id": "383a4c0cb28d45fe9092a29e93a73ef5",
       "version_major": 2,
       "version_minor": 0
      },
      "text/plain": [
       "  0%|          | 0/5325 [00:00<?, ?it/s]"
      ]
     },
     "metadata": {},
     "output_type": "display_data"
    },
    {
     "name": "stdout",
     "output_type": "stream",
     "text": [
      "Not updated in weight_dg_x\n",
      "Not updated in bias_dg_x\n"
     ]
    },
    {
     "data": {
      "application/vnd.jupyter.widget-view+json": {
       "model_id": "2b9190b66e7d4b26a7b2488d709ff00a",
       "version_major": 2,
       "version_minor": 0
      },
      "text/plain": [
       "  0%|          | 0/1331 [00:00<?, ?it/s]"
      ]
     },
     "metadata": {},
     "output_type": "display_data"
    },
    {
     "data": {
      "application/vnd.jupyter.widget-view+json": {
       "model_id": "6bf007911b5c4d91af3eeb9851ec562b",
       "version_major": 2,
       "version_minor": 0
      },
      "text/plain": [
       "  0%|          | 0/1332 [00:00<?, ?it/s]"
      ]
     },
     "metadata": {},
     "output_type": "display_data"
    },
    {
     "name": "stdout",
     "output_type": "stream",
     "text": [
      "Epoch: 15 Learning rate: 0.00560, Train loss: 0.4016, Dev loss: 0.4109, Test loss: 0.3905, Test AUC: 0.8994\n",
      "[0. 0. 0. ... 0. 1. 1.] [0.03692915 0.20167172 0.04181879 ... 0.135985   0.05677473 0.62329203]\n",
      "Predict   Flu       Not       \n",
      "Actual\n",
      "Flu       572       81        \n",
      "\n",
      "Not       133       546       \n",
      "\n",
      "\n",
      "True\n",
      "{'Flu': 0.8393393393393394, 'Not': 0.8393393393393394} {'Flu': 0.8400404161601491, 'Not': 0.8400404161601491}\n"
     ]
    },
    {
     "data": {
      "application/vnd.jupyter.widget-view+json": {
       "model_id": "88ac39ce99ab404db68a19223c3e8aed",
       "version_major": 2,
       "version_minor": 0
      },
      "text/plain": [
       "  0%|          | 0/5325 [00:00<?, ?it/s]"
      ]
     },
     "metadata": {},
     "output_type": "display_data"
    },
    {
     "name": "stdout",
     "output_type": "stream",
     "text": [
      "Not updated in weight_dg_x\n",
      "Not updated in bias_dg_x\n"
     ]
    },
    {
     "data": {
      "application/vnd.jupyter.widget-view+json": {
       "model_id": "ded8716dab7444b9aad58d214368685c",
       "version_major": 2,
       "version_minor": 0
      },
      "text/plain": [
       "  0%|          | 0/1331 [00:00<?, ?it/s]"
      ]
     },
     "metadata": {},
     "output_type": "display_data"
    },
    {
     "data": {
      "application/vnd.jupyter.widget-view+json": {
       "model_id": "b88cbf41e43c424a975ed123c106a507",
       "version_major": 2,
       "version_minor": 0
      },
      "text/plain": [
       "  0%|          | 0/1332 [00:00<?, ?it/s]"
      ]
     },
     "metadata": {},
     "output_type": "display_data"
    },
    {
     "name": "stdout",
     "output_type": "stream",
     "text": [
      "Epoch: 16 Learning rate: 0.00612, Train loss: 0.4058, Dev loss: 0.3941, Test loss: 0.3810, Test AUC: 0.9057\n",
      "[0. 0. 0. ... 0. 1. 1.] [0.02834367 0.11581789 0.10561465 ... 0.25313497 0.11723444 0.50321746]\n",
      "Predict   Flu       Not       \n",
      "Actual\n",
      "Flu       582       71        \n",
      "\n",
      "Not       138       541       \n",
      "\n",
      "\n",
      "True\n",
      "{'Flu': 0.8430930930930931, 'Not': 0.8430930930930931} {'Flu': 0.8440154988757, 'Not': 0.8440154988757}\n"
     ]
    },
    {
     "data": {
      "application/vnd.jupyter.widget-view+json": {
       "model_id": "cc7d04e7b62f4bcd8905da334676d0cc",
       "version_major": 2,
       "version_minor": 0
      },
      "text/plain": [
       "  0%|          | 0/5325 [00:00<?, ?it/s]"
      ]
     },
     "metadata": {},
     "output_type": "display_data"
    },
    {
     "name": "stdout",
     "output_type": "stream",
     "text": [
      "Not updated in weight_dg_x\n",
      "Not updated in bias_dg_x\n"
     ]
    },
    {
     "data": {
      "application/vnd.jupyter.widget-view+json": {
       "model_id": "a423e9cb8aa24d93842c836c25c62512",
       "version_major": 2,
       "version_minor": 0
      },
      "text/plain": [
       "  0%|          | 0/1331 [00:00<?, ?it/s]"
      ]
     },
     "metadata": {},
     "output_type": "display_data"
    },
    {
     "data": {
      "application/vnd.jupyter.widget-view+json": {
       "model_id": "21ec60ee26114bb09c2dcdbb4f368e13",
       "version_major": 2,
       "version_minor": 0
      },
      "text/plain": [
       "  0%|          | 0/1332 [00:00<?, ?it/s]"
      ]
     },
     "metadata": {},
     "output_type": "display_data"
    },
    {
     "name": "stdout",
     "output_type": "stream",
     "text": [
      "Epoch: 17 Learning rate: 0.00663, Train loss: 0.4024, Dev loss: 0.4119, Test loss: 0.3923, Test AUC: 0.9002\n",
      "[0. 0. 0. ... 0. 1. 1.] [0.03600717 0.18561037 0.0435385  ... 0.1364101  0.06142168 0.63618457]\n",
      "Predict   Flu       Not       \n",
      "Actual\n",
      "Flu       572       81        \n",
      "\n",
      "Not       136       543       \n",
      "\n",
      "\n",
      "True\n",
      "{'Flu': 0.8370870870870871, 'Not': 0.8370870870870871} {'Flu': 0.8378312850850387, 'Not': 0.8378312850850387}\n"
     ]
    },
    {
     "data": {
      "application/vnd.jupyter.widget-view+json": {
       "model_id": "7bd291fab0444be18296970d51a0a34d",
       "version_major": 2,
       "version_minor": 0
      },
      "text/plain": [
       "  0%|          | 0/5325 [00:00<?, ?it/s]"
      ]
     },
     "metadata": {},
     "output_type": "display_data"
    },
    {
     "name": "stdout",
     "output_type": "stream",
     "text": [
      "Not updated in weight_dg_x\n",
      "Not updated in bias_dg_x\n"
     ]
    },
    {
     "data": {
      "application/vnd.jupyter.widget-view+json": {
       "model_id": "f65d383aa7f943ed89a1b9935617f59e",
       "version_major": 2,
       "version_minor": 0
      },
      "text/plain": [
       "  0%|          | 0/1331 [00:00<?, ?it/s]"
      ]
     },
     "metadata": {},
     "output_type": "display_data"
    },
    {
     "data": {
      "application/vnd.jupyter.widget-view+json": {
       "model_id": "5784094cf65747309ca4936afaf27134",
       "version_major": 2,
       "version_minor": 0
      },
      "text/plain": [
       "  0%|          | 0/1332 [00:00<?, ?it/s]"
      ]
     },
     "metadata": {},
     "output_type": "display_data"
    },
    {
     "name": "stdout",
     "output_type": "stream",
     "text": [
      "Epoch: 18 Learning rate: 0.00713, Train loss: 0.4048, Dev loss: 0.4071, Test loss: 0.3864, Test AUC: 0.9015\n",
      "[0. 0. 0. ... 0. 1. 1.] [0.03282757 0.18648697 0.04411129 ... 0.13626094 0.06557707 0.67070198]\n",
      "Predict   Flu       Not       \n",
      "Actual\n",
      "Flu       571       82        \n",
      "\n",
      "Not       128       551       \n",
      "\n",
      "\n",
      "True\n",
      "{'Flu': 0.8423423423423423, 'Not': 0.8423423423423423} {'Flu': 0.8429566045012596, 'Not': 0.8429566045012596}\n"
     ]
    },
    {
     "data": {
      "application/vnd.jupyter.widget-view+json": {
       "model_id": "29e3b25f9548495d91987abe3cee0eb0",
       "version_major": 2,
       "version_minor": 0
      },
      "text/plain": [
       "  0%|          | 0/5325 [00:00<?, ?it/s]"
      ]
     },
     "metadata": {},
     "output_type": "display_data"
    },
    {
     "name": "stdout",
     "output_type": "stream",
     "text": [
      "Not updated in weight_dg_x\n",
      "Not updated in bias_dg_x\n"
     ]
    },
    {
     "data": {
      "application/vnd.jupyter.widget-view+json": {
       "model_id": "8c46659cd0b04144b8e0fc2fc697c184",
       "version_major": 2,
       "version_minor": 0
      },
      "text/plain": [
       "  0%|          | 0/1331 [00:00<?, ?it/s]"
      ]
     },
     "metadata": {},
     "output_type": "display_data"
    },
    {
     "data": {
      "application/vnd.jupyter.widget-view+json": {
       "model_id": "3af8740b35414b84ad5cd41fc832b8d9",
       "version_major": 2,
       "version_minor": 0
      },
      "text/plain": [
       "  0%|          | 0/1332 [00:00<?, ?it/s]"
      ]
     },
     "metadata": {},
     "output_type": "display_data"
    },
    {
     "name": "stdout",
     "output_type": "stream",
     "text": [
      "Epoch: 19 Learning rate: 0.00760, Train loss: 0.4075, Dev loss: 0.3884, Test loss: 0.3736, Test AUC: 0.9104\n",
      "[0. 0. 0. ... 0. 1. 1.] [0.02404226 0.12059097 0.11160388 ... 0.27191794 0.1527558  0.57804132]\n",
      "Predict   Flu       Not       \n",
      "Actual\n",
      "Flu       561       92        \n",
      "\n",
      "Not       109       570       \n",
      "\n",
      "\n",
      "True\n",
      "{'Flu': 0.8490990990990991, 'Not': 0.8490990990990991} {'Flu': 0.849290800136224, 'Not': 0.849290800136224}\n"
     ]
    },
    {
     "data": {
      "application/vnd.jupyter.widget-view+json": {
       "model_id": "a7a0c4c2086248af81a0a4b424af9a2d",
       "version_major": 2,
       "version_minor": 0
      },
      "text/plain": [
       "  0%|          | 0/5325 [00:00<?, ?it/s]"
      ]
     },
     "metadata": {},
     "output_type": "display_data"
    },
    {
     "name": "stdout",
     "output_type": "stream",
     "text": [
      "Not updated in weight_dg_x\n",
      "Not updated in bias_dg_x\n"
     ]
    },
    {
     "data": {
      "application/vnd.jupyter.widget-view+json": {
       "model_id": "cd70a2cc04cd4608a4189f3c42dd9910",
       "version_major": 2,
       "version_minor": 0
      },
      "text/plain": [
       "  0%|          | 0/1331 [00:00<?, ?it/s]"
      ]
     },
     "metadata": {},
     "output_type": "display_data"
    },
    {
     "data": {
      "application/vnd.jupyter.widget-view+json": {
       "model_id": "67e748769ace4dc9bc915c660c5857b4",
       "version_major": 2,
       "version_minor": 0
      },
      "text/plain": [
       "  0%|          | 0/1332 [00:00<?, ?it/s]"
      ]
     },
     "metadata": {},
     "output_type": "display_data"
    },
    {
     "name": "stdout",
     "output_type": "stream",
     "text": [
      "Epoch: 20 Learning rate: 0.00804, Train loss: 0.3991, Dev loss: 0.3914, Test loss: 0.3752, Test AUC: 0.9111\n",
      "[0. 0. 0. ... 0. 1. 1.] [0.02356325 0.09845347 0.0862699  ... 0.22607942 0.13535433 0.54879069]\n",
      "Predict   Flu       Not       \n",
      "Actual\n",
      "Flu       571       82        \n",
      "\n",
      "Not       134       545       \n",
      "\n",
      "\n",
      "True\n",
      "{'Flu': 0.8378378378378378, 'Not': 0.8378378378378378} {'Flu': 0.8385383423510387, 'Not': 0.8385383423510387}\n"
     ]
    },
    {
     "data": {
      "application/vnd.jupyter.widget-view+json": {
       "model_id": "6707efb1c81b46c7838a1911e2427a8a",
       "version_major": 2,
       "version_minor": 0
      },
      "text/plain": [
       "  0%|          | 0/5325 [00:00<?, ?it/s]"
      ]
     },
     "metadata": {},
     "output_type": "display_data"
    },
    {
     "name": "stdout",
     "output_type": "stream",
     "text": [
      "Not updated in weight_dg_x\n",
      "Not updated in bias_dg_x\n"
     ]
    },
    {
     "data": {
      "application/vnd.jupyter.widget-view+json": {
       "model_id": "5fb1fd4e523045d8b544db68557f7ba9",
       "version_major": 2,
       "version_minor": 0
      },
      "text/plain": [
       "  0%|          | 0/1331 [00:00<?, ?it/s]"
      ]
     },
     "metadata": {},
     "output_type": "display_data"
    },
    {
     "data": {
      "application/vnd.jupyter.widget-view+json": {
       "model_id": "fa7a10cd86cf42a5b0296a53a5fa7bcc",
       "version_major": 2,
       "version_minor": 0
      },
      "text/plain": [
       "  0%|          | 0/1332 [00:00<?, ?it/s]"
      ]
     },
     "metadata": {},
     "output_type": "display_data"
    },
    {
     "name": "stdout",
     "output_type": "stream",
     "text": [
      "Epoch: 21 Learning rate: 0.00845, Train loss: 0.3995, Dev loss: 0.3816, Test loss: 0.3667, Test AUC: 0.9133\n",
      "[0. 0. 0. ... 0. 1. 1.] [0.02420936 0.12784608 0.12590471 ... 0.29270923 0.1865463  0.5886026 ]\n",
      "Predict   Flu       Not       \n",
      "Actual\n",
      "Flu       565       88        \n",
      "\n",
      "Not       110       569       \n",
      "\n",
      "\n",
      "True\n",
      "{'Flu': 0.8513513513513513, 'Not': 0.8513513513513513} {'Flu': 0.8516172102474813, 'Not': 0.8516172102474813}\n"
     ]
    },
    {
     "data": {
      "application/vnd.jupyter.widget-view+json": {
       "model_id": "34293e21b76b4f9ea05773ceb47c9cf7",
       "version_major": 2,
       "version_minor": 0
      },
      "text/plain": [
       "  0%|          | 0/5325 [00:00<?, ?it/s]"
      ]
     },
     "metadata": {},
     "output_type": "display_data"
    },
    {
     "name": "stdout",
     "output_type": "stream",
     "text": [
      "Not updated in weight_dg_x\n",
      "Not updated in bias_dg_x\n"
     ]
    },
    {
     "data": {
      "application/vnd.jupyter.widget-view+json": {
       "model_id": "1dd16aadb60a493a9eedbc0596736b1d",
       "version_major": 2,
       "version_minor": 0
      },
      "text/plain": [
       "  0%|          | 0/1331 [00:00<?, ?it/s]"
      ]
     },
     "metadata": {},
     "output_type": "display_data"
    },
    {
     "data": {
      "application/vnd.jupyter.widget-view+json": {
       "model_id": "fe4ca3f66fe6494ba32e5f943ce7e963",
       "version_major": 2,
       "version_minor": 0
      },
      "text/plain": [
       "  0%|          | 0/1332 [00:00<?, ?it/s]"
      ]
     },
     "metadata": {},
     "output_type": "display_data"
    },
    {
     "name": "stdout",
     "output_type": "stream",
     "text": [
      "Epoch: 22 Learning rate: 0.00882, Train loss: 0.3978, Dev loss: 0.3789, Test loss: 0.3624, Test AUC: 0.9171\n",
      "[0. 0. 0. ... 0. 1. 1.] [0.0231648  0.12199441 0.12132116 ... 0.25271106 0.18260808 0.5934431 ]\n",
      "Predict   Flu       Not       \n",
      "Actual\n",
      "Flu       570       83        \n",
      "\n",
      "Not       110       569       \n",
      "\n",
      "\n",
      "True\n",
      "{'Flu': 0.8551051051051051, 'Not': 0.8551051051051051} {'Flu': 0.8554456941678489, 'Not': 0.8554456941678489}\n"
     ]
    },
    {
     "data": {
      "application/vnd.jupyter.widget-view+json": {
       "model_id": "12abc7f599854a37987b1b1b1b677c02",
       "version_major": 2,
       "version_minor": 0
      },
      "text/plain": [
       "  0%|          | 0/5325 [00:00<?, ?it/s]"
      ]
     },
     "metadata": {},
     "output_type": "display_data"
    },
    {
     "name": "stdout",
     "output_type": "stream",
     "text": [
      "Not updated in weight_dg_x\n",
      "Not updated in bias_dg_x\n"
     ]
    },
    {
     "data": {
      "application/vnd.jupyter.widget-view+json": {
       "model_id": "c40cdd57208c494cafdd6d1ae1bff648",
       "version_major": 2,
       "version_minor": 0
      },
      "text/plain": [
       "  0%|          | 0/1331 [00:00<?, ?it/s]"
      ]
     },
     "metadata": {},
     "output_type": "display_data"
    },
    {
     "data": {
      "application/vnd.jupyter.widget-view+json": {
       "model_id": "68e28fa3a35f49659c736d77f69640c3",
       "version_major": 2,
       "version_minor": 0
      },
      "text/plain": [
       "  0%|          | 0/1332 [00:00<?, ?it/s]"
      ]
     },
     "metadata": {},
     "output_type": "display_data"
    },
    {
     "name": "stdout",
     "output_type": "stream",
     "text": [
      "Epoch: 23 Learning rate: 0.00914, Train loss: 0.3978, Dev loss: 0.3977, Test loss: 0.3757, Test AUC: 0.9024\n",
      "[0. 0. 0. ... 0. 1. 1.] [0.03053158 0.17235878 0.05559437 ... 0.13556935 0.1213052  0.71321893]\n",
      "Predict   Flu       Not       \n",
      "Actual\n",
      "Flu       573       80        \n",
      "\n",
      "Not       109       570       \n",
      "\n",
      "\n",
      "True\n",
      "{'Flu': 0.8581081081081081, 'Not': 0.8581081081081081} {'Flu': 0.8584791615451062, 'Not': 0.8584791615451062}\n"
     ]
    },
    {
     "data": {
      "application/vnd.jupyter.widget-view+json": {
       "model_id": "2a71e989fb8746ec8a771a4c9307063b",
       "version_major": 2,
       "version_minor": 0
      },
      "text/plain": [
       "  0%|          | 0/5325 [00:00<?, ?it/s]"
      ]
     },
     "metadata": {},
     "output_type": "display_data"
    },
    {
     "name": "stdout",
     "output_type": "stream",
     "text": [
      "Not updated in weight_dg_x\n",
      "Not updated in bias_dg_x\n"
     ]
    },
    {
     "data": {
      "application/vnd.jupyter.widget-view+json": {
       "model_id": "681fb63f21b24358a098aeb252a3863a",
       "version_major": 2,
       "version_minor": 0
      },
      "text/plain": [
       "  0%|          | 0/1331 [00:00<?, ?it/s]"
      ]
     },
     "metadata": {},
     "output_type": "display_data"
    },
    {
     "data": {
      "application/vnd.jupyter.widget-view+json": {
       "model_id": "79e03b9f84fe4c519d8f487a6792a80c",
       "version_major": 2,
       "version_minor": 0
      },
      "text/plain": [
       "  0%|          | 0/1332 [00:00<?, ?it/s]"
      ]
     },
     "metadata": {},
     "output_type": "display_data"
    },
    {
     "name": "stdout",
     "output_type": "stream",
     "text": [
      "Epoch: 24 Learning rate: 0.00942, Train loss: 0.3959, Dev loss: 0.3921, Test loss: 0.3709, Test AUC: 0.9106\n",
      "[0. 0. 0. ... 0. 1. 1.] [0.02717401 0.12429724 0.08174108 ... 0.14583965 0.12699437 0.62586784]\n",
      "Predict   Flu       Not       \n",
      "Actual\n",
      "Flu       571       82        \n",
      "\n",
      "Not       103       576       \n",
      "\n",
      "\n",
      "True\n",
      "{'Flu': 0.8611111111111112, 'Not': 0.8611111111111112} {'Flu': 0.8613660301271802, 'Not': 0.8613660301271802}\n"
     ]
    },
    {
     "data": {
      "application/vnd.jupyter.widget-view+json": {
       "model_id": "82fb5f29a0e744c8a50ae47843f387e0",
       "version_major": 2,
       "version_minor": 0
      },
      "text/plain": [
       "  0%|          | 0/5325 [00:00<?, ?it/s]"
      ]
     },
     "metadata": {},
     "output_type": "display_data"
    },
    {
     "name": "stdout",
     "output_type": "stream",
     "text": [
      "Not updated in weight_dg_x\n",
      "Not updated in bias_dg_x\n"
     ]
    },
    {
     "data": {
      "application/vnd.jupyter.widget-view+json": {
       "model_id": "8f8be6f23a9249d0ac1a89d5e5e1ee7f",
       "version_major": 2,
       "version_minor": 0
      },
      "text/plain": [
       "  0%|          | 0/1331 [00:00<?, ?it/s]"
      ]
     },
     "metadata": {},
     "output_type": "display_data"
    },
    {
     "data": {
      "application/vnd.jupyter.widget-view+json": {
       "model_id": "3ac1db4cd6d44cbf8f81b52124a37924",
       "version_major": 2,
       "version_minor": 0
      },
      "text/plain": [
       "  0%|          | 0/1332 [00:00<?, ?it/s]"
      ]
     },
     "metadata": {},
     "output_type": "display_data"
    },
    {
     "name": "stdout",
     "output_type": "stream",
     "text": [
      "Epoch: 25 Learning rate: 0.00965, Train loss: 0.3904, Dev loss: 0.3754, Test loss: 0.3561, Test AUC: 0.9188\n",
      "[0. 0. 0. ... 0. 1. 1.] [0.02034962 0.11226354 0.17227368 ... 0.23801135 0.23158114 0.54273152]\n",
      "Predict   Flu       Not       \n",
      "Actual\n",
      "Flu       571       82        \n",
      "\n",
      "Not       103       576       \n",
      "\n",
      "\n",
      "True\n",
      "{'Flu': 0.8611111111111112, 'Not': 0.8611111111111112} {'Flu': 0.8613660301271802, 'Not': 0.8613660301271802}\n"
     ]
    },
    {
     "data": {
      "application/vnd.jupyter.widget-view+json": {
       "model_id": "3c6648cddaa24ec69e7db8fb70ec54fc",
       "version_major": 2,
       "version_minor": 0
      },
      "text/plain": [
       "  0%|          | 0/5325 [00:00<?, ?it/s]"
      ]
     },
     "metadata": {},
     "output_type": "display_data"
    },
    {
     "name": "stdout",
     "output_type": "stream",
     "text": [
      "Not updated in weight_dg_x\n",
      "Not updated in bias_dg_x\n"
     ]
    },
    {
     "data": {
      "application/vnd.jupyter.widget-view+json": {
       "model_id": "841d3f85c5fe4c58a8dffecbaeed0029",
       "version_major": 2,
       "version_minor": 0
      },
      "text/plain": [
       "  0%|          | 0/1331 [00:00<?, ?it/s]"
      ]
     },
     "metadata": {},
     "output_type": "display_data"
    },
    {
     "data": {
      "application/vnd.jupyter.widget-view+json": {
       "model_id": "74f835fe34c3478697546a5b22d446be",
       "version_major": 2,
       "version_minor": 0
      },
      "text/plain": [
       "  0%|          | 0/1332 [00:00<?, ?it/s]"
      ]
     },
     "metadata": {},
     "output_type": "display_data"
    },
    {
     "name": "stdout",
     "output_type": "stream",
     "text": [
      "Epoch: 26 Learning rate: 0.00982, Train loss: 0.3877, Dev loss: 0.3916, Test loss: 0.3700, Test AUC: 0.9099\n",
      "[0. 0. 0. ... 0. 1. 1.] [0.02559719 0.12770303 0.07878597 ... 0.12050314 0.1182953  0.65726674]\n",
      "Predict   Flu       Not       \n",
      "Actual\n",
      "Flu       570       83        \n",
      "\n",
      "Not       98        581       \n",
      "\n",
      "\n",
      "True\n",
      "{'Flu': 0.8641141141141141, 'Not': 0.8641141141141141} {'Flu': 0.8642822184682907, 'Not': 0.8642822184682907}\n"
     ]
    },
    {
     "data": {
      "application/vnd.jupyter.widget-view+json": {
       "model_id": "fcee0020231d4bd49836d54f8fd16347",
       "version_major": 2,
       "version_minor": 0
      },
      "text/plain": [
       "  0%|          | 0/5325 [00:00<?, ?it/s]"
      ]
     },
     "metadata": {},
     "output_type": "display_data"
    },
    {
     "name": "stdout",
     "output_type": "stream",
     "text": [
      "Not updated in weight_dg_x\n",
      "Not updated in bias_dg_x\n"
     ]
    },
    {
     "data": {
      "application/vnd.jupyter.widget-view+json": {
       "model_id": "d68625c90af7404eb42ee70ffeba2241",
       "version_major": 2,
       "version_minor": 0
      },
      "text/plain": [
       "  0%|          | 0/1331 [00:00<?, ?it/s]"
      ]
     },
     "metadata": {},
     "output_type": "display_data"
    },
    {
     "data": {
      "application/vnd.jupyter.widget-view+json": {
       "model_id": "b05b7b01aa8742adbf3189f3dceea415",
       "version_major": 2,
       "version_minor": 0
      },
      "text/plain": [
       "  0%|          | 0/1332 [00:00<?, ?it/s]"
      ]
     },
     "metadata": {},
     "output_type": "display_data"
    },
    {
     "name": "stdout",
     "output_type": "stream",
     "text": [
      "Epoch: 27 Learning rate: 0.00993, Train loss: 0.3856, Dev loss: 0.3705, Test loss: 0.3527, Test AUC: 0.9195\n",
      "[0. 0. 0. ... 0. 1. 1.] [0.02205187 0.10494404 0.15883327 ... 0.23589332 0.24799375 0.55391645]\n",
      "Predict   Flu       Not       \n",
      "Actual\n",
      "Flu       575       78        \n",
      "\n",
      "Not       99        580       \n",
      "\n",
      "\n",
      "True\n",
      "{'Flu': 0.8671171171171171, 'Not': 0.8671171171171171} {'Flu': 0.8673743253636214, 'Not': 0.8673743253636214}\n"
     ]
    },
    {
     "data": {
      "application/vnd.jupyter.widget-view+json": {
       "model_id": "b8aef75b1a9c4e20aed39309bfba6d70",
       "version_major": 2,
       "version_minor": 0
      },
      "text/plain": [
       "  0%|          | 0/5325 [00:00<?, ?it/s]"
      ]
     },
     "metadata": {},
     "output_type": "display_data"
    },
    {
     "name": "stdout",
     "output_type": "stream",
     "text": [
      "Not updated in weight_dg_x\n",
      "Not updated in bias_dg_x\n"
     ]
    },
    {
     "data": {
      "application/vnd.jupyter.widget-view+json": {
       "model_id": "0260051996b44050bcebe0c6ace973eb",
       "version_major": 2,
       "version_minor": 0
      },
      "text/plain": [
       "  0%|          | 0/1331 [00:00<?, ?it/s]"
      ]
     },
     "metadata": {},
     "output_type": "display_data"
    },
    {
     "data": {
      "application/vnd.jupyter.widget-view+json": {
       "model_id": "994b1ca5594b4fc79fd2547704cf5dae",
       "version_major": 2,
       "version_minor": 0
      },
      "text/plain": [
       "  0%|          | 0/1332 [00:00<?, ?it/s]"
      ]
     },
     "metadata": {},
     "output_type": "display_data"
    },
    {
     "name": "stdout",
     "output_type": "stream",
     "text": [
      "Epoch: 28 Learning rate: 0.00999, Train loss: 0.3825, Dev loss: 0.3900, Test loss: 0.3694, Test AUC: 0.9106\n",
      "[0. 0. 0. ... 0. 1. 1.] [0.02369013 0.12012815 0.05568719 ... 0.10887787 0.15225826 0.6576522 ]\n",
      "Predict   Flu       Not       \n",
      "Actual\n",
      "Flu       567       86        \n",
      "\n",
      "Not       105       574       \n",
      "\n",
      "\n",
      "True\n",
      "{'Flu': 0.8566066066066066, 'Not': 0.8566066066066066} {'Flu': 0.8568304889408125, 'Not': 0.8568304889408125}\n"
     ]
    },
    {
     "data": {
      "application/vnd.jupyter.widget-view+json": {
       "model_id": "a600d685ecdb45bbbb5df6c2ea0402be",
       "version_major": 2,
       "version_minor": 0
      },
      "text/plain": [
       "  0%|          | 0/5325 [00:00<?, ?it/s]"
      ]
     },
     "metadata": {},
     "output_type": "display_data"
    },
    {
     "name": "stdout",
     "output_type": "stream",
     "text": [
      "Not updated in weight_dg_x\n",
      "Not updated in bias_dg_x\n"
     ]
    },
    {
     "data": {
      "application/vnd.jupyter.widget-view+json": {
       "model_id": "8f962f0ff8f64512b52c83eb0589232f",
       "version_major": 2,
       "version_minor": 0
      },
      "text/plain": [
       "  0%|          | 0/1331 [00:00<?, ?it/s]"
      ]
     },
     "metadata": {},
     "output_type": "display_data"
    },
    {
     "data": {
      "application/vnd.jupyter.widget-view+json": {
       "model_id": "0f708d355b5c43c88b07d0bf1a4a264e",
       "version_major": 2,
       "version_minor": 0
      },
      "text/plain": [
       "  0%|          | 0/1332 [00:00<?, ?it/s]"
      ]
     },
     "metadata": {},
     "output_type": "display_data"
    },
    {
     "name": "stdout",
     "output_type": "stream",
     "text": [
      "Epoch: 29 Learning rate: 0.01000, Train loss: 0.3753, Dev loss: 0.3619, Test loss: 0.3486, Test AUC: 0.9218\n",
      "[0. 0. 0. ... 0. 1. 1.] [0.02057518 0.09517094 0.14646161 ... 0.24699223 0.46475306 0.5570212 ]\n",
      "Predict   Flu       Not       \n",
      "Actual\n",
      "Flu       573       80        \n",
      "\n",
      "Not       104       575       \n",
      "\n",
      "\n",
      "True\n",
      "{'Flu': 0.8618618618618619, 'Not': 0.8618618618618619} {'Flu': 0.8621610466702903, 'Not': 0.8621610466702903}\n"
     ]
    },
    {
     "data": {
      "application/vnd.jupyter.widget-view+json": {
       "model_id": "ef574e526d6647cd873b539794ef3a43",
       "version_major": 2,
       "version_minor": 0
      },
      "text/plain": [
       "  0%|          | 0/5325 [00:00<?, ?it/s]"
      ]
     },
     "metadata": {},
     "output_type": "display_data"
    },
    {
     "name": "stdout",
     "output_type": "stream",
     "text": [
      "Not updated in weight_dg_x\n",
      "Not updated in bias_dg_x\n"
     ]
    },
    {
     "data": {
      "application/vnd.jupyter.widget-view+json": {
       "model_id": "ff9d1c3a36d7491c991e009dbc858dba",
       "version_major": 2,
       "version_minor": 0
      },
      "text/plain": [
       "  0%|          | 0/1331 [00:00<?, ?it/s]"
      ]
     },
     "metadata": {},
     "output_type": "display_data"
    },
    {
     "data": {
      "application/vnd.jupyter.widget-view+json": {
       "model_id": "c077a5966a464759b1e6438a9776ab60",
       "version_major": 2,
       "version_minor": 0
      },
      "text/plain": [
       "  0%|          | 0/1332 [00:00<?, ?it/s]"
      ]
     },
     "metadata": {},
     "output_type": "display_data"
    },
    {
     "name": "stdout",
     "output_type": "stream",
     "text": [
      "Epoch: 30 Learning rate: 0.00999, Train loss: 0.3691, Dev loss: 0.3608, Test loss: 0.3470, Test AUC: 0.9222\n",
      "[0. 0. 0. ... 0. 1. 1.] [0.01831992 0.08818849 0.12055603 ... 0.21673834 0.47391328 0.55822182]\n",
      "Predict   Flu       Not       \n",
      "Actual\n",
      "Flu       571       82        \n",
      "\n",
      "Not       103       576       \n",
      "\n",
      "\n",
      "True\n",
      "{'Flu': 0.8611111111111112, 'Not': 0.8611111111111112} {'Flu': 0.8613660301271802, 'Not': 0.8613660301271802}\n"
     ]
    },
    {
     "data": {
      "application/vnd.jupyter.widget-view+json": {
       "model_id": "c54774e1da9946cb93092eb064ba6d8e",
       "version_major": 2,
       "version_minor": 0
      },
      "text/plain": [
       "  0%|          | 0/5325 [00:00<?, ?it/s]"
      ]
     },
     "metadata": {},
     "output_type": "display_data"
    },
    {
     "name": "stdout",
     "output_type": "stream",
     "text": [
      "Not updated in weight_dg_x\n",
      "Not updated in bias_dg_x\n"
     ]
    },
    {
     "data": {
      "application/vnd.jupyter.widget-view+json": {
       "model_id": "f917e600facc47349511f4bae5292bf4",
       "version_major": 2,
       "version_minor": 0
      },
      "text/plain": [
       "  0%|          | 0/1331 [00:00<?, ?it/s]"
      ]
     },
     "metadata": {},
     "output_type": "display_data"
    },
    {
     "data": {
      "application/vnd.jupyter.widget-view+json": {
       "model_id": "4064471786bf44e785a774efdb2c6f0c",
       "version_major": 2,
       "version_minor": 0
      },
      "text/plain": [
       "  0%|          | 0/1332 [00:00<?, ?it/s]"
      ]
     },
     "metadata": {},
     "output_type": "display_data"
    },
    {
     "name": "stdout",
     "output_type": "stream",
     "text": [
      "Epoch: 31 Learning rate: 0.00997, Train loss: 0.3670, Dev loss: 0.3773, Test loss: 0.3590, Test AUC: 0.9152\n",
      "[0. 0. 0. ... 0. 1. 1.] [0.02255243 0.10923502 0.06723513 ... 0.10679393 0.31336051 0.66342491]\n",
      "Predict   Flu       Not       \n",
      "Actual\n",
      "Flu       565       88        \n",
      "\n",
      "Not       104       575       \n",
      "\n",
      "\n",
      "True\n",
      "{'Flu': 0.8558558558558559, 'Not': 0.8558558558558559} {'Flu': 0.8560354723977022, 'Not': 0.8560354723977022}\n"
     ]
    },
    {
     "data": {
      "application/vnd.jupyter.widget-view+json": {
       "model_id": "72f6fc9b7e63443ea2b3c299aa3d67cd",
       "version_major": 2,
       "version_minor": 0
      },
      "text/plain": [
       "  0%|          | 0/5325 [00:00<?, ?it/s]"
      ]
     },
     "metadata": {},
     "output_type": "display_data"
    },
    {
     "name": "stdout",
     "output_type": "stream",
     "text": [
      "Not updated in weight_dg_x\n",
      "Not updated in bias_dg_x\n"
     ]
    },
    {
     "data": {
      "application/vnd.jupyter.widget-view+json": {
       "model_id": "337d71f7922049d6a8437d5561edcb65",
       "version_major": 2,
       "version_minor": 0
      },
      "text/plain": [
       "  0%|          | 0/1331 [00:00<?, ?it/s]"
      ]
     },
     "metadata": {},
     "output_type": "display_data"
    },
    {
     "data": {
      "application/vnd.jupyter.widget-view+json": {
       "model_id": "aace0340513b4e0385b04db38ab5decf",
       "version_major": 2,
       "version_minor": 0
      },
      "text/plain": [
       "  0%|          | 0/1332 [00:00<?, ?it/s]"
      ]
     },
     "metadata": {},
     "output_type": "display_data"
    },
    {
     "name": "stdout",
     "output_type": "stream",
     "text": [
      "Epoch: 32 Learning rate: 0.00993, Train loss: 0.3652, Dev loss: 0.3766, Test loss: 0.3585, Test AUC: 0.9149\n",
      "[0. 0. 0. ... 0. 1. 1.] [0.02039243 0.10298625 0.05562356 ... 0.0959232  0.29174465 0.67032897]\n",
      "Predict   Flu       Not       \n",
      "Actual\n",
      "Flu       565       88        \n",
      "\n",
      "Not       103       576       \n",
      "\n",
      "\n",
      "True\n",
      "{'Flu': 0.8566066066066066, 'Not': 0.8566066066066066} {'Flu': 0.856771849422739, 'Not': 0.856771849422739}\n"
     ]
    },
    {
     "data": {
      "application/vnd.jupyter.widget-view+json": {
       "model_id": "71671812c570461bb5611244204c50f4",
       "version_major": 2,
       "version_minor": 0
      },
      "text/plain": [
       "  0%|          | 0/5325 [00:00<?, ?it/s]"
      ]
     },
     "metadata": {},
     "output_type": "display_data"
    },
    {
     "name": "stdout",
     "output_type": "stream",
     "text": [
      "Not updated in weight_dg_x\n",
      "Not updated in bias_dg_x\n"
     ]
    },
    {
     "data": {
      "application/vnd.jupyter.widget-view+json": {
       "model_id": "8959348d56ab408bbef8342b3fdde476",
       "version_major": 2,
       "version_minor": 0
      },
      "text/plain": [
       "  0%|          | 0/1331 [00:00<?, ?it/s]"
      ]
     },
     "metadata": {},
     "output_type": "display_data"
    },
    {
     "data": {
      "application/vnd.jupyter.widget-view+json": {
       "model_id": "62c2ef3a9a014a59aae8fd859dd22b69",
       "version_major": 2,
       "version_minor": 0
      },
      "text/plain": [
       "  0%|          | 0/1332 [00:00<?, ?it/s]"
      ]
     },
     "metadata": {},
     "output_type": "display_data"
    },
    {
     "name": "stdout",
     "output_type": "stream",
     "text": [
      "Epoch: 33 Learning rate: 0.00989, Train loss: 0.3623, Dev loss: 0.3730, Test loss: 0.3544, Test AUC: 0.9172\n",
      "[0. 0. 0. ... 0. 1. 1.] [0.01976002 0.10636824 0.05096735 ... 0.09960869 0.29545686 0.67456996]\n",
      "Predict   Flu       Not       \n",
      "Actual\n",
      "Flu       567       86        \n",
      "\n",
      "Not       97        582       \n",
      "\n",
      "\n",
      "True\n",
      "{'Flu': 0.8626126126126126, 'Not': 0.8626126126126126} {'Flu': 0.862721505141107, 'Not': 0.862721505141107}\n"
     ]
    },
    {
     "data": {
      "application/vnd.jupyter.widget-view+json": {
       "model_id": "52369f3693234897a343f49fab3e6ea2",
       "version_major": 2,
       "version_minor": 0
      },
      "text/plain": [
       "  0%|          | 0/5325 [00:00<?, ?it/s]"
      ]
     },
     "metadata": {},
     "output_type": "display_data"
    },
    {
     "name": "stdout",
     "output_type": "stream",
     "text": [
      "Not updated in weight_dg_x\n",
      "Not updated in bias_dg_x\n"
     ]
    },
    {
     "data": {
      "application/vnd.jupyter.widget-view+json": {
       "model_id": "c703f66d68a84439bf7f563d07d4a253",
       "version_major": 2,
       "version_minor": 0
      },
      "text/plain": [
       "  0%|          | 0/1331 [00:00<?, ?it/s]"
      ]
     },
     "metadata": {},
     "output_type": "display_data"
    },
    {
     "data": {
      "application/vnd.jupyter.widget-view+json": {
       "model_id": "3191dce0fc1440ba8fabc3bff1dbd56e",
       "version_major": 2,
       "version_minor": 0
      },
      "text/plain": [
       "  0%|          | 0/1332 [00:00<?, ?it/s]"
      ]
     },
     "metadata": {},
     "output_type": "display_data"
    },
    {
     "name": "stdout",
     "output_type": "stream",
     "text": [
      "Epoch: 34 Learning rate: 0.00983, Train loss: 0.3597, Dev loss: 0.3702, Test loss: 0.3524, Test AUC: 0.9182\n",
      "[0. 0. 0. ... 0. 1. 1.] [0.01933351 0.10687783 0.04858885 ... 0.09507333 0.30147356 0.68712896]\n",
      "Predict   Flu       Not       \n",
      "Actual\n",
      "Flu       568       85        \n",
      "\n",
      "Not       98        581       \n",
      "\n",
      "\n",
      "True\n",
      "{'Flu': 0.8626126126126126, 'Not': 0.8626126126126126} {'Flu': 0.8627508249001437, 'Not': 0.8627508249001437}\n"
     ]
    },
    {
     "data": {
      "application/vnd.jupyter.widget-view+json": {
       "model_id": "610219379f2d4c9db3e0adc36d6da667",
       "version_major": 2,
       "version_minor": 0
      },
      "text/plain": [
       "  0%|          | 0/5325 [00:00<?, ?it/s]"
      ]
     },
     "metadata": {},
     "output_type": "display_data"
    },
    {
     "name": "stdout",
     "output_type": "stream",
     "text": [
      "Not updated in weight_dg_x\n",
      "Not updated in bias_dg_x\n"
     ]
    },
    {
     "data": {
      "application/vnd.jupyter.widget-view+json": {
       "model_id": "3e9130976b474431a49d589df29aba05",
       "version_major": 2,
       "version_minor": 0
      },
      "text/plain": [
       "  0%|          | 0/1331 [00:00<?, ?it/s]"
      ]
     },
     "metadata": {},
     "output_type": "display_data"
    },
    {
     "data": {
      "application/vnd.jupyter.widget-view+json": {
       "model_id": "553874f792504d3fb70714395c0645cf",
       "version_major": 2,
       "version_minor": 0
      },
      "text/plain": [
       "  0%|          | 0/1332 [00:00<?, ?it/s]"
      ]
     },
     "metadata": {},
     "output_type": "display_data"
    },
    {
     "name": "stdout",
     "output_type": "stream",
     "text": [
      "Epoch: 35 Learning rate: 0.00977, Train loss: 0.3572, Dev loss: 0.3535, Test loss: 0.3362, Test AUC: 0.9253\n",
      "[0. 0. 0. ... 0. 1. 1.] [0.01768995 0.09948136 0.07321942 ... 0.16120796 0.43651894 0.68875045]\n",
      "Predict   Flu       Not       \n",
      "Actual\n",
      "Flu       575       78        \n",
      "\n",
      "Not       99        580       \n",
      "\n",
      "\n",
      "True\n",
      "{'Flu': 0.8671171171171171, 'Not': 0.8671171171171171} {'Flu': 0.8673743253636214, 'Not': 0.8673743253636214}\n"
     ]
    },
    {
     "data": {
      "application/vnd.jupyter.widget-view+json": {
       "model_id": "e9a4badbfab04680bac8326a39c79e01",
       "version_major": 2,
       "version_minor": 0
      },
      "text/plain": [
       "  0%|          | 0/5325 [00:00<?, ?it/s]"
      ]
     },
     "metadata": {},
     "output_type": "display_data"
    },
    {
     "name": "stdout",
     "output_type": "stream",
     "text": [
      "Not updated in weight_dg_x\n",
      "Not updated in bias_dg_x\n"
     ]
    },
    {
     "data": {
      "application/vnd.jupyter.widget-view+json": {
       "model_id": "dcec57f4c88442f9a4b343ae2ff69f8b",
       "version_major": 2,
       "version_minor": 0
      },
      "text/plain": [
       "  0%|          | 0/1331 [00:00<?, ?it/s]"
      ]
     },
     "metadata": {},
     "output_type": "display_data"
    },
    {
     "data": {
      "application/vnd.jupyter.widget-view+json": {
       "model_id": "8a526d6f78b1466db71a148f0ece66d1",
       "version_major": 2,
       "version_minor": 0
      },
      "text/plain": [
       "  0%|          | 0/1332 [00:00<?, ?it/s]"
      ]
     },
     "metadata": {},
     "output_type": "display_data"
    },
    {
     "name": "stdout",
     "output_type": "stream",
     "text": [
      "Epoch: 36 Learning rate: 0.00969, Train loss: 0.3536, Dev loss: 0.3472, Test loss: 0.3310, Test AUC: 0.9280\n",
      "[0. 0. 0. ... 0. 1. 1.] [0.01548972 0.092577   0.08055241 ... 0.18293588 0.49744859 0.64393002]\n",
      "Predict   Flu       Not       \n",
      "Actual\n",
      "Flu       578       75        \n",
      "\n",
      "Not       96        583       \n",
      "\n",
      "\n",
      "True\n",
      "{'Flu': 0.8716216216216216, 'Not': 0.8716216216216216} {'Flu': 0.8718805467909523, 'Not': 0.8718805467909523}\n"
     ]
    },
    {
     "data": {
      "application/vnd.jupyter.widget-view+json": {
       "model_id": "9cac9827f12741e4a9ffc7f44cb95bb4",
       "version_major": 2,
       "version_minor": 0
      },
      "text/plain": [
       "  0%|          | 0/5325 [00:00<?, ?it/s]"
      ]
     },
     "metadata": {},
     "output_type": "display_data"
    },
    {
     "name": "stdout",
     "output_type": "stream",
     "text": [
      "Not updated in weight_dg_x\n",
      "Not updated in bias_dg_x\n"
     ]
    },
    {
     "data": {
      "application/vnd.jupyter.widget-view+json": {
       "model_id": "a22781c851d148f4a770f36b6c262eaf",
       "version_major": 2,
       "version_minor": 0
      },
      "text/plain": [
       "  0%|          | 0/1331 [00:00<?, ?it/s]"
      ]
     },
     "metadata": {},
     "output_type": "display_data"
    },
    {
     "data": {
      "application/vnd.jupyter.widget-view+json": {
       "model_id": "f8c08ae57ddc4c1bb2cfa5d1c66311e5",
       "version_major": 2,
       "version_minor": 0
      },
      "text/plain": [
       "  0%|          | 0/1332 [00:00<?, ?it/s]"
      ]
     },
     "metadata": {},
     "output_type": "display_data"
    },
    {
     "name": "stdout",
     "output_type": "stream",
     "text": [
      "Epoch: 37 Learning rate: 0.00960, Train loss: 0.3521, Dev loss: 0.3443, Test loss: 0.3278, Test AUC: 0.9294\n",
      "[0. 0. 0. ... 0. 1. 1.] [0.01616365 0.09650293 0.0890139  ... 0.20808019 0.5510298  0.66047329]\n",
      "Predict   Flu       Not       \n",
      "Actual\n",
      "Flu       577       76        \n",
      "\n",
      "Not       95        584       \n",
      "\n",
      "\n",
      "True\n",
      "{'Flu': 0.8716216216216216, 'Not': 0.8716216216216216} {'Flu': 0.8718512270319156, 'Not': 0.8718512270319156}\n"
     ]
    },
    {
     "data": {
      "application/vnd.jupyter.widget-view+json": {
       "model_id": "5373656ae9df4b9d8383459c21a95749",
       "version_major": 2,
       "version_minor": 0
      },
      "text/plain": [
       "  0%|          | 0/5325 [00:00<?, ?it/s]"
      ]
     },
     "metadata": {},
     "output_type": "display_data"
    },
    {
     "name": "stdout",
     "output_type": "stream",
     "text": [
      "Not updated in weight_dg_x\n",
      "Not updated in bias_dg_x\n"
     ]
    },
    {
     "data": {
      "application/vnd.jupyter.widget-view+json": {
       "model_id": "88464995f63143759aabea7bdf7c07dc",
       "version_major": 2,
       "version_minor": 0
      },
      "text/plain": [
       "  0%|          | 0/1331 [00:00<?, ?it/s]"
      ]
     },
     "metadata": {},
     "output_type": "display_data"
    },
    {
     "data": {
      "application/vnd.jupyter.widget-view+json": {
       "model_id": "b58c9e56ce2c442798476cd80418d873",
       "version_major": 2,
       "version_minor": 0
      },
      "text/plain": [
       "  0%|          | 0/1332 [00:00<?, ?it/s]"
      ]
     },
     "metadata": {},
     "output_type": "display_data"
    },
    {
     "name": "stdout",
     "output_type": "stream",
     "text": [
      "Epoch: 38 Learning rate: 0.00950, Train loss: 0.3488, Dev loss: 0.3419, Test loss: 0.3264, Test AUC: 0.9295\n",
      "[0. 0. 0. ... 0. 1. 1.] [0.01481358 0.09110864 0.08909821 ... 0.18262343 0.54391265 0.65383482]\n",
      "Predict   Flu       Not       \n",
      "Actual\n",
      "Flu       578       75        \n",
      "\n",
      "Not       95        584       \n",
      "\n",
      "\n",
      "True\n",
      "{'Flu': 0.8723723723723724, 'Not': 0.8723723723723724} {'Flu': 0.8726169238159892, 'Not': 0.8726169238159892}\n"
     ]
    },
    {
     "data": {
      "application/vnd.jupyter.widget-view+json": {
       "model_id": "bb6a8a024e8945eaa69e99138b1e7a67",
       "version_major": 2,
       "version_minor": 0
      },
      "text/plain": [
       "  0%|          | 0/5325 [00:00<?, ?it/s]"
      ]
     },
     "metadata": {},
     "output_type": "display_data"
    },
    {
     "name": "stdout",
     "output_type": "stream",
     "text": [
      "Not updated in weight_dg_x\n",
      "Not updated in bias_dg_x\n"
     ]
    },
    {
     "data": {
      "application/vnd.jupyter.widget-view+json": {
       "model_id": "a68164a5d5954891a54c17bf19450a8d",
       "version_major": 2,
       "version_minor": 0
      },
      "text/plain": [
       "  0%|          | 0/1331 [00:00<?, ?it/s]"
      ]
     },
     "metadata": {},
     "output_type": "display_data"
    },
    {
     "data": {
      "application/vnd.jupyter.widget-view+json": {
       "model_id": "552aaf54963644a2bc021b79c1206a6c",
       "version_major": 2,
       "version_minor": 0
      },
      "text/plain": [
       "  0%|          | 0/1332 [00:00<?, ?it/s]"
      ]
     },
     "metadata": {},
     "output_type": "display_data"
    },
    {
     "name": "stdout",
     "output_type": "stream",
     "text": [
      "Epoch: 39 Learning rate: 0.00940, Train loss: 0.3459, Dev loss: 0.3387, Test loss: 0.3239, Test AUC: 0.9309\n",
      "[0. 0. 0. ... 0. 1. 1.] [0.01442074 0.08867659 0.08689377 ... 0.1850411  0.57001454 0.61553812]\n",
      "Predict   Flu       Not       \n",
      "Actual\n",
      "Flu       578       75        \n",
      "\n",
      "Not       93        586       \n",
      "\n",
      "\n",
      "True\n",
      "{'Flu': 0.8738738738738738, 'Not': 0.8738738738738738} {'Flu': 0.8740896778660628, 'Not': 0.8740896778660628}\n"
     ]
    },
    {
     "data": {
      "application/vnd.jupyter.widget-view+json": {
       "model_id": "0cc58cba0a664623a75a92168ed71bf9",
       "version_major": 2,
       "version_minor": 0
      },
      "text/plain": [
       "  0%|          | 0/5325 [00:00<?, ?it/s]"
      ]
     },
     "metadata": {},
     "output_type": "display_data"
    },
    {
     "name": "stdout",
     "output_type": "stream",
     "text": [
      "Not updated in weight_dg_x\n",
      "Not updated in bias_dg_x\n"
     ]
    },
    {
     "data": {
      "application/vnd.jupyter.widget-view+json": {
       "model_id": "9cb99536568b4eb588b991811fa2a07e",
       "version_major": 2,
       "version_minor": 0
      },
      "text/plain": [
       "  0%|          | 0/1331 [00:00<?, ?it/s]"
      ]
     },
     "metadata": {},
     "output_type": "display_data"
    },
    {
     "data": {
      "application/vnd.jupyter.widget-view+json": {
       "model_id": "4cb0c1bb1cec4469b68baacaf5eb9c13",
       "version_major": 2,
       "version_minor": 0
      },
      "text/plain": [
       "  0%|          | 0/1332 [00:00<?, ?it/s]"
      ]
     },
     "metadata": {},
     "output_type": "display_data"
    },
    {
     "name": "stdout",
     "output_type": "stream",
     "text": [
      "Epoch: 40 Learning rate: 0.00928, Train loss: 0.3431, Dev loss: 0.3366, Test loss: 0.3234, Test AUC: 0.9315\n",
      "[0. 0. 0. ... 0. 1. 1.] [0.01349573 0.0846839  0.07923989 ... 0.18135625 0.60295784 0.53774691]\n",
      "Predict   Flu       Not       \n",
      "Actual\n",
      "Flu       577       76        \n",
      "\n",
      "Not       92        587       \n",
      "\n",
      "\n",
      "True\n",
      "{'Flu': 0.8738738738738738, 'Not': 0.8738738738738738} {'Flu': 0.8740603581070261, 'Not': 0.8740603581070261}\n"
     ]
    },
    {
     "data": {
      "application/vnd.jupyter.widget-view+json": {
       "model_id": "d7f87b046a4b4b518cdcde19bfc4b701",
       "version_major": 2,
       "version_minor": 0
      },
      "text/plain": [
       "  0%|          | 0/5325 [00:00<?, ?it/s]"
      ]
     },
     "metadata": {},
     "output_type": "display_data"
    },
    {
     "name": "stdout",
     "output_type": "stream",
     "text": [
      "Not updated in weight_dg_x\n",
      "Not updated in bias_dg_x\n"
     ]
    },
    {
     "data": {
      "application/vnd.jupyter.widget-view+json": {
       "model_id": "0e500416d5724cf09d30734ef62e2b57",
       "version_major": 2,
       "version_minor": 0
      },
      "text/plain": [
       "  0%|          | 0/1331 [00:00<?, ?it/s]"
      ]
     },
     "metadata": {},
     "output_type": "display_data"
    },
    {
     "data": {
      "application/vnd.jupyter.widget-view+json": {
       "model_id": "e34a6912861c484f85d2ff4cb042925a",
       "version_major": 2,
       "version_minor": 0
      },
      "text/plain": [
       "  0%|          | 0/1332 [00:00<?, ?it/s]"
      ]
     },
     "metadata": {},
     "output_type": "display_data"
    },
    {
     "name": "stdout",
     "output_type": "stream",
     "text": [
      "Epoch: 41 Learning rate: 0.00915, Train loss: 0.3407, Dev loss: 0.3336, Test loss: 0.3228, Test AUC: 0.9326\n",
      "[0. 0. 0. ... 0. 1. 1.] [0.01320134 0.08281557 0.08826787 ... 0.18320639 0.64768916 0.46802068]\n",
      "Predict   Flu       Not       \n",
      "Actual\n",
      "Flu       573       80        \n",
      "\n",
      "Not       91        588       \n",
      "\n",
      "\n",
      "True\n",
      "{'Flu': 0.8716216216216216, 'Not': 0.8716216216216216} {'Flu': 0.871733947995769, 'Not': 0.871733947995769}\n"
     ]
    },
    {
     "data": {
      "application/vnd.jupyter.widget-view+json": {
       "model_id": "4c0fd305e9514b1fa74faf29a745314d",
       "version_major": 2,
       "version_minor": 0
      },
      "text/plain": [
       "  0%|          | 0/5325 [00:00<?, ?it/s]"
      ]
     },
     "metadata": {},
     "output_type": "display_data"
    },
    {
     "name": "stdout",
     "output_type": "stream",
     "text": [
      "Not updated in weight_dg_x\n",
      "Not updated in bias_dg_x\n"
     ]
    },
    {
     "data": {
      "application/vnd.jupyter.widget-view+json": {
       "model_id": "0722894ed3cf45969a03bfcc7ef02a60",
       "version_major": 2,
       "version_minor": 0
      },
      "text/plain": [
       "  0%|          | 0/1331 [00:00<?, ?it/s]"
      ]
     },
     "metadata": {},
     "output_type": "display_data"
    },
    {
     "data": {
      "application/vnd.jupyter.widget-view+json": {
       "model_id": "7ec15d760c244f17a98c063ea2fb1d46",
       "version_major": 2,
       "version_minor": 0
      },
      "text/plain": [
       "  0%|          | 0/1332 [00:00<?, ?it/s]"
      ]
     },
     "metadata": {},
     "output_type": "display_data"
    },
    {
     "name": "stdout",
     "output_type": "stream",
     "text": [
      "Epoch: 42 Learning rate: 0.00902, Train loss: 0.3377, Dev loss: 0.3312, Test loss: 0.3213, Test AUC: 0.9330\n",
      "[0. 0. 0. ... 0. 1. 1.] [0.01193542 0.0799827  0.07102388 ... 0.18301871 0.69926846 0.46414471]\n",
      "Predict   Flu       Not       \n",
      "Actual\n",
      "Flu       574       79        \n",
      "\n",
      "Not       91        588       \n",
      "\n",
      "\n",
      "True\n",
      "{'Flu': 0.8723723723723724, 'Not': 0.8723723723723724} {'Flu': 0.8724996447798424, 'Not': 0.8724996447798424}\n"
     ]
    },
    {
     "data": {
      "application/vnd.jupyter.widget-view+json": {
       "model_id": "bd75067c6cdd486dac8a6cd7ea130741",
       "version_major": 2,
       "version_minor": 0
      },
      "text/plain": [
       "  0%|          | 0/5325 [00:00<?, ?it/s]"
      ]
     },
     "metadata": {},
     "output_type": "display_data"
    },
    {
     "name": "stdout",
     "output_type": "stream",
     "text": [
      "Not updated in weight_dg_x\n",
      "Not updated in bias_dg_x\n"
     ]
    },
    {
     "data": {
      "application/vnd.jupyter.widget-view+json": {
       "model_id": "3a829690c81d465da2e00eb1069a7b8a",
       "version_major": 2,
       "version_minor": 0
      },
      "text/plain": [
       "  0%|          | 0/1331 [00:00<?, ?it/s]"
      ]
     },
     "metadata": {},
     "output_type": "display_data"
    },
    {
     "data": {
      "application/vnd.jupyter.widget-view+json": {
       "model_id": "281ae35b6d7546be95134d53f7d8e36c",
       "version_major": 2,
       "version_minor": 0
      },
      "text/plain": [
       "  0%|          | 0/1332 [00:00<?, ?it/s]"
      ]
     },
     "metadata": {},
     "output_type": "display_data"
    },
    {
     "name": "stdout",
     "output_type": "stream",
     "text": [
      "Epoch: 43 Learning rate: 0.00887, Train loss: 0.3349, Dev loss: 0.3285, Test loss: 0.3188, Test AUC: 0.9340\n",
      "[0. 0. 0. ... 0. 1. 1.] [0.01189629 0.08535253 0.06851879 ... 0.18545119 0.73718548 0.47601825]\n",
      "Predict   Flu       Not       \n",
      "Actual\n",
      "Flu       575       78        \n",
      "\n",
      "Not       91        588       \n",
      "\n",
      "\n",
      "True\n",
      "{'Flu': 0.8731231231231231, 'Not': 0.8731231231231231} {'Flu': 0.873265341563916, 'Not': 0.873265341563916}\n"
     ]
    },
    {
     "data": {
      "application/vnd.jupyter.widget-view+json": {
       "model_id": "0b694749977d43bfb7999bca99a99b09",
       "version_major": 2,
       "version_minor": 0
      },
      "text/plain": [
       "  0%|          | 0/5325 [00:00<?, ?it/s]"
      ]
     },
     "metadata": {},
     "output_type": "display_data"
    },
    {
     "name": "stdout",
     "output_type": "stream",
     "text": [
      "Not updated in weight_dg_x\n",
      "Not updated in bias_dg_x\n"
     ]
    },
    {
     "data": {
      "application/vnd.jupyter.widget-view+json": {
       "model_id": "07def6f3d51d4cd9880252852ca5f60b",
       "version_major": 2,
       "version_minor": 0
      },
      "text/plain": [
       "  0%|          | 0/1331 [00:00<?, ?it/s]"
      ]
     },
     "metadata": {},
     "output_type": "display_data"
    },
    {
     "data": {
      "application/vnd.jupyter.widget-view+json": {
       "model_id": "519e8c0144704001b13dae6331740711",
       "version_major": 2,
       "version_minor": 0
      },
      "text/plain": [
       "  0%|          | 0/1332 [00:00<?, ?it/s]"
      ]
     },
     "metadata": {},
     "output_type": "display_data"
    },
    {
     "name": "stdout",
     "output_type": "stream",
     "text": [
      "Epoch: 44 Learning rate: 0.00872, Train loss: 0.3325, Dev loss: 0.3269, Test loss: 0.3171, Test AUC: 0.9350\n",
      "[0. 0. 0. ... 0. 1. 1.] [0.01108202 0.08096173 0.06113286 ... 0.18549667 0.76091272 0.4663648 ]\n",
      "Predict   Flu       Not       \n",
      "Actual\n",
      "Flu       575       78        \n",
      "\n",
      "Not       90        589       \n",
      "\n",
      "\n",
      "True\n",
      "{'Flu': 0.8738738738738738, 'Not': 0.8738738738738738} {'Flu': 0.8740017185889528, 'Not': 0.8740017185889528}\n"
     ]
    },
    {
     "data": {
      "application/vnd.jupyter.widget-view+json": {
       "model_id": "801cffbe4cf74abe8d42acf4381ddebd",
       "version_major": 2,
       "version_minor": 0
      },
      "text/plain": [
       "  0%|          | 0/5325 [00:00<?, ?it/s]"
      ]
     },
     "metadata": {},
     "output_type": "display_data"
    },
    {
     "name": "stdout",
     "output_type": "stream",
     "text": [
      "Not updated in weight_dg_x\n",
      "Not updated in bias_dg_x\n"
     ]
    },
    {
     "data": {
      "application/vnd.jupyter.widget-view+json": {
       "model_id": "d5b5922d9af14a6cb3cce95289801a6e",
       "version_major": 2,
       "version_minor": 0
      },
      "text/plain": [
       "  0%|          | 0/1331 [00:00<?, ?it/s]"
      ]
     },
     "metadata": {},
     "output_type": "display_data"
    },
    {
     "data": {
      "application/vnd.jupyter.widget-view+json": {
       "model_id": "27f6b62b22614817bc2be514639a4b11",
       "version_major": 2,
       "version_minor": 0
      },
      "text/plain": [
       "  0%|          | 0/1332 [00:00<?, ?it/s]"
      ]
     },
     "metadata": {},
     "output_type": "display_data"
    },
    {
     "name": "stdout",
     "output_type": "stream",
     "text": [
      "Epoch: 45 Learning rate: 0.00856, Train loss: 0.3314, Dev loss: 0.3247, Test loss: 0.3144, Test AUC: 0.9363\n",
      "[0. 0. 0. ... 0. 1. 1.] [0.01095637 0.08384418 0.0603578  ... 0.18806536 0.7816906  0.61314207]\n",
      "Predict   Flu       Not       \n",
      "Actual\n",
      "Flu       578       75        \n",
      "\n",
      "Not       91        588       \n",
      "\n",
      "\n",
      "True\n",
      "{'Flu': 0.8753753753753754, 'Not': 0.8753753753753754} {'Flu': 0.8755624319161365, 'Not': 0.8755624319161365}\n"
     ]
    },
    {
     "data": {
      "application/vnd.jupyter.widget-view+json": {
       "model_id": "d887458183bb42418de359eb9795e1aa",
       "version_major": 2,
       "version_minor": 0
      },
      "text/plain": [
       "  0%|          | 0/5325 [00:00<?, ?it/s]"
      ]
     },
     "metadata": {},
     "output_type": "display_data"
    },
    {
     "name": "stdout",
     "output_type": "stream",
     "text": [
      "Not updated in weight_dg_x\n",
      "Not updated in bias_dg_x\n"
     ]
    },
    {
     "data": {
      "application/vnd.jupyter.widget-view+json": {
       "model_id": "a206a9df56d041e681233d931840b37d",
       "version_major": 2,
       "version_minor": 0
      },
      "text/plain": [
       "  0%|          | 0/1331 [00:00<?, ?it/s]"
      ]
     },
     "metadata": {},
     "output_type": "display_data"
    },
    {
     "data": {
      "application/vnd.jupyter.widget-view+json": {
       "model_id": "343de16762e94c9aa99b43c183a859e4",
       "version_major": 2,
       "version_minor": 0
      },
      "text/plain": [
       "  0%|          | 0/1332 [00:00<?, ?it/s]"
      ]
     },
     "metadata": {},
     "output_type": "display_data"
    },
    {
     "name": "stdout",
     "output_type": "stream",
     "text": [
      "Epoch: 46 Learning rate: 0.00839, Train loss: 0.3297, Dev loss: 0.3237, Test loss: 0.3140, Test AUC: 0.9366\n",
      "[0. 0. 0. ... 0. 1. 1.] [0.01035801 0.0781222  0.0563364  ... 0.18651105 0.80140901 0.44116339]\n",
      "Predict   Flu       Not       \n",
      "Actual\n",
      "Flu       576       77        \n",
      "\n",
      "Not       89        590       \n",
      "\n",
      "\n",
      "True\n",
      "{'Flu': 0.8753753753753754, 'Not': 0.8753753753753754} {'Flu': 0.8755037923980631, 'Not': 0.8755037923980631}\n"
     ]
    },
    {
     "data": {
      "application/vnd.jupyter.widget-view+json": {
       "model_id": "7a789db2f6bf4b2f926649efe2fa544f",
       "version_major": 2,
       "version_minor": 0
      },
      "text/plain": [
       "  0%|          | 0/5325 [00:00<?, ?it/s]"
      ]
     },
     "metadata": {},
     "output_type": "display_data"
    },
    {
     "name": "stdout",
     "output_type": "stream",
     "text": [
      "Not updated in weight_dg_x\n",
      "Not updated in bias_dg_x\n"
     ]
    },
    {
     "data": {
      "application/vnd.jupyter.widget-view+json": {
       "model_id": "399bf84cf9cf4375b4bd06b5a5404906",
       "version_major": 2,
       "version_minor": 0
      },
      "text/plain": [
       "  0%|          | 0/1331 [00:00<?, ?it/s]"
      ]
     },
     "metadata": {},
     "output_type": "display_data"
    },
    {
     "data": {
      "application/vnd.jupyter.widget-view+json": {
       "model_id": "10bc215c0d4e47f187b170dd248b191d",
       "version_major": 2,
       "version_minor": 0
      },
      "text/plain": [
       "  0%|          | 0/1332 [00:00<?, ?it/s]"
      ]
     },
     "metadata": {},
     "output_type": "display_data"
    },
    {
     "name": "stdout",
     "output_type": "stream",
     "text": [
      "Epoch: 47 Learning rate: 0.00821, Train loss: 0.3279, Dev loss: 0.3221, Test loss: 0.3124, Test AUC: 0.9372\n",
      "[0. 0. 0. ... 0. 1. 1.] [0.01024815 0.08240455 0.05424736 ... 0.1872934  0.81300402 0.45722666]\n",
      "Predict   Flu       Not       \n",
      "Actual\n",
      "Flu       576       77        \n",
      "\n",
      "Not       89        590       \n",
      "\n",
      "\n",
      "True\n",
      "{'Flu': 0.8753753753753754, 'Not': 0.8753753753753754} {'Flu': 0.8755037923980631, 'Not': 0.8755037923980631}\n"
     ]
    },
    {
     "data": {
      "application/vnd.jupyter.widget-view+json": {
       "model_id": "2d12e3a266a54accb06851f627435578",
       "version_major": 2,
       "version_minor": 0
      },
      "text/plain": [
       "  0%|          | 0/5325 [00:00<?, ?it/s]"
      ]
     },
     "metadata": {},
     "output_type": "display_data"
    },
    {
     "name": "stdout",
     "output_type": "stream",
     "text": [
      "Not updated in weight_dg_x\n",
      "Not updated in bias_dg_x\n"
     ]
    },
    {
     "data": {
      "application/vnd.jupyter.widget-view+json": {
       "model_id": "d2cd4c176b194902a8e00b837aede411",
       "version_major": 2,
       "version_minor": 0
      },
      "text/plain": [
       "  0%|          | 0/1331 [00:00<?, ?it/s]"
      ]
     },
     "metadata": {},
     "output_type": "display_data"
    },
    {
     "data": {
      "application/vnd.jupyter.widget-view+json": {
       "model_id": "3c90158004f847b8aefa3b0704cff3b1",
       "version_major": 2,
       "version_minor": 0
      },
      "text/plain": [
       "  0%|          | 0/1332 [00:00<?, ?it/s]"
      ]
     },
     "metadata": {},
     "output_type": "display_data"
    },
    {
     "name": "stdout",
     "output_type": "stream",
     "text": [
      "Epoch: 48 Learning rate: 0.00802, Train loss: 0.3268, Dev loss: 0.3218, Test loss: 0.3117, Test AUC: 0.9374\n",
      "[0. 0. 0. ... 0. 1. 1.] [0.0101236  0.08010247 0.05092087 ... 0.18242612 0.81447452 0.45971021]\n",
      "Predict   Flu       Not       \n",
      "Actual\n",
      "Flu       575       78        \n",
      "\n",
      "Not       89        590       \n",
      "\n",
      "\n",
      "True\n",
      "{'Flu': 0.8746246246246246, 'Not': 0.8746246246246246} {'Flu': 0.8747380956139896, 'Not': 0.8747380956139896}\n"
     ]
    },
    {
     "data": {
      "application/vnd.jupyter.widget-view+json": {
       "model_id": "7ff7543bbd2449328fd763a54504f3c7",
       "version_major": 2,
       "version_minor": 0
      },
      "text/plain": [
       "  0%|          | 0/5325 [00:00<?, ?it/s]"
      ]
     },
     "metadata": {},
     "output_type": "display_data"
    },
    {
     "name": "stdout",
     "output_type": "stream",
     "text": [
      "Not updated in weight_dg_x\n",
      "Not updated in bias_dg_x\n"
     ]
    },
    {
     "data": {
      "application/vnd.jupyter.widget-view+json": {
       "model_id": "d42e39312ec24e0aafaa864a96707880",
       "version_major": 2,
       "version_minor": 0
      },
      "text/plain": [
       "  0%|          | 0/1331 [00:00<?, ?it/s]"
      ]
     },
     "metadata": {},
     "output_type": "display_data"
    },
    {
     "data": {
      "application/vnd.jupyter.widget-view+json": {
       "model_id": "f8f4c8d70e6b49ebb87385e5d90fc61d",
       "version_major": 2,
       "version_minor": 0
      },
      "text/plain": [
       "  0%|          | 0/1332 [00:00<?, ?it/s]"
      ]
     },
     "metadata": {},
     "output_type": "display_data"
    },
    {
     "name": "stdout",
     "output_type": "stream",
     "text": [
      "Epoch: 49 Learning rate: 0.00783, Train loss: 0.3275, Dev loss: 0.3213, Test loss: 0.3102, Test AUC: 0.9383\n",
      "[0. 0. 0. ... 0. 1. 1.] [0.00924192 0.08249688 0.05082954 ... 0.18537104 0.83096135 0.44375947]\n",
      "Predict   Flu       Not       \n",
      "Actual\n",
      "Flu       578       75        \n",
      "\n",
      "Not       90        589       \n",
      "\n",
      "\n",
      "True\n",
      "{'Flu': 0.8761261261261262, 'Not': 0.8761261261261262} {'Flu': 0.8762988089411733, 'Not': 0.8762988089411733}\n"
     ]
    },
    {
     "data": {
      "application/vnd.jupyter.widget-view+json": {
       "model_id": "c4b4a0e8a46b4a77bcb3624fee2f28e9",
       "version_major": 2,
       "version_minor": 0
      },
      "text/plain": [
       "  0%|          | 0/5325 [00:00<?, ?it/s]"
      ]
     },
     "metadata": {},
     "output_type": "display_data"
    },
    {
     "name": "stdout",
     "output_type": "stream",
     "text": [
      "Not updated in weight_dg_x\n",
      "Not updated in bias_dg_x\n"
     ]
    },
    {
     "data": {
      "application/vnd.jupyter.widget-view+json": {
       "model_id": "7ab108f90b8c4a3798b5a81271936b9a",
       "version_major": 2,
       "version_minor": 0
      },
      "text/plain": [
       "  0%|          | 0/1331 [00:00<?, ?it/s]"
      ]
     },
     "metadata": {},
     "output_type": "display_data"
    },
    {
     "data": {
      "application/vnd.jupyter.widget-view+json": {
       "model_id": "5a3057e36fdc42938671833cfca64ee2",
       "version_major": 2,
       "version_minor": 0
      },
      "text/plain": [
       "  0%|          | 0/1332 [00:00<?, ?it/s]"
      ]
     },
     "metadata": {},
     "output_type": "display_data"
    },
    {
     "name": "stdout",
     "output_type": "stream",
     "text": [
      "Epoch: 50 Learning rate: 0.00764, Train loss: 0.3253, Dev loss: 0.3204, Test loss: 0.3099, Test AUC: 0.9383\n",
      "[0. 0. 0. ... 0. 1. 1.] [0.00948255 0.07978394 0.04774537 ... 0.18852021 0.83283174 0.45010546]\n",
      "Predict   Flu       Not       \n",
      "Actual\n",
      "Flu       576       77        \n",
      "\n",
      "Not       89        590       \n",
      "\n",
      "\n",
      "True\n",
      "{'Flu': 0.8753753753753754, 'Not': 0.8753753753753754} {'Flu': 0.8755037923980631, 'Not': 0.8755037923980631}\n"
     ]
    },
    {
     "data": {
      "application/vnd.jupyter.widget-view+json": {
       "model_id": "5dcbd794eb9a4f98842456b7faf2c181",
       "version_major": 2,
       "version_minor": 0
      },
      "text/plain": [
       "  0%|          | 0/5325 [00:00<?, ?it/s]"
      ]
     },
     "metadata": {},
     "output_type": "display_data"
    },
    {
     "name": "stdout",
     "output_type": "stream",
     "text": [
      "Not updated in weight_dg_x\n",
      "Not updated in bias_dg_x\n"
     ]
    },
    {
     "data": {
      "application/vnd.jupyter.widget-view+json": {
       "model_id": "6ebc6b7e7a124101a8c59f7372b8719b",
       "version_major": 2,
       "version_minor": 0
      },
      "text/plain": [
       "  0%|          | 0/1331 [00:00<?, ?it/s]"
      ]
     },
     "metadata": {},
     "output_type": "display_data"
    },
    {
     "data": {
      "application/vnd.jupyter.widget-view+json": {
       "model_id": "11e51cbd01904787bfcf2e89660aa429",
       "version_major": 2,
       "version_minor": 0
      },
      "text/plain": [
       "  0%|          | 0/1332 [00:00<?, ?it/s]"
      ]
     },
     "metadata": {},
     "output_type": "display_data"
    },
    {
     "name": "stdout",
     "output_type": "stream",
     "text": [
      "Epoch: 51 Learning rate: 0.00743, Train loss: 0.3241, Dev loss: 0.3195, Test loss: 0.3092, Test AUC: 0.9384\n",
      "[0. 0. 0. ... 0. 1. 1.] [0.0096634  0.08244087 0.04664711 ... 0.18977296 0.83726799 0.4522939 ]\n",
      "Predict   Flu       Not       \n",
      "Actual\n",
      "Flu       575       78        \n",
      "\n",
      "Not       89        590       \n",
      "\n",
      "\n",
      "True\n",
      "{'Flu': 0.8746246246246246, 'Not': 0.8746246246246246} {'Flu': 0.8747380956139896, 'Not': 0.8747380956139896}\n"
     ]
    },
    {
     "data": {
      "application/vnd.jupyter.widget-view+json": {
       "model_id": "0104654ec18142a0a57ddc9b96aed145",
       "version_major": 2,
       "version_minor": 0
      },
      "text/plain": [
       "  0%|          | 0/5325 [00:00<?, ?it/s]"
      ]
     },
     "metadata": {},
     "output_type": "display_data"
    },
    {
     "name": "stdout",
     "output_type": "stream",
     "text": [
      "Not updated in weight_dg_x\n",
      "Not updated in bias_dg_x\n"
     ]
    },
    {
     "data": {
      "application/vnd.jupyter.widget-view+json": {
       "model_id": "633bdb88d5834c0a9a1b0d747e797d9b",
       "version_major": 2,
       "version_minor": 0
      },
      "text/plain": [
       "  0%|          | 0/1331 [00:00<?, ?it/s]"
      ]
     },
     "metadata": {},
     "output_type": "display_data"
    },
    {
     "data": {
      "application/vnd.jupyter.widget-view+json": {
       "model_id": "da0131deba8147f284a1dc80ceede08c",
       "version_major": 2,
       "version_minor": 0
      },
      "text/plain": [
       "  0%|          | 0/1332 [00:00<?, ?it/s]"
      ]
     },
     "metadata": {},
     "output_type": "display_data"
    },
    {
     "name": "stdout",
     "output_type": "stream",
     "text": [
      "Epoch: 52 Learning rate: 0.00722, Train loss: 0.3233, Dev loss: 0.3200, Test loss: 0.3095, Test AUC: 0.9381\n",
      "[0. 0. 0. ... 0. 1. 1.] [0.00966521 0.07932158 0.04305569 ... 0.18290715 0.83535689 0.45780778]\n",
      "Predict   Flu       Not       \n",
      "Actual\n",
      "Flu       577       76        \n",
      "\n",
      "Not       89        590       \n",
      "\n",
      "\n",
      "True\n",
      "{'Flu': 0.8761261261261262, 'Not': 0.8761261261261262} {'Flu': 0.8762694891821365, 'Not': 0.8762694891821365}\n"
     ]
    },
    {
     "data": {
      "application/vnd.jupyter.widget-view+json": {
       "model_id": "a01722d379594dcd8da74841ea923834",
       "version_major": 2,
       "version_minor": 0
      },
      "text/plain": [
       "  0%|          | 0/5325 [00:00<?, ?it/s]"
      ]
     },
     "metadata": {},
     "output_type": "display_data"
    },
    {
     "name": "stdout",
     "output_type": "stream",
     "text": [
      "Not updated in weight_dg_x\n",
      "Not updated in bias_dg_x\n"
     ]
    },
    {
     "data": {
      "application/vnd.jupyter.widget-view+json": {
       "model_id": "8edd7b0e4963431eac112cf4effa616f",
       "version_major": 2,
       "version_minor": 0
      },
      "text/plain": [
       "  0%|          | 0/1331 [00:00<?, ?it/s]"
      ]
     },
     "metadata": {},
     "output_type": "display_data"
    },
    {
     "data": {
      "application/vnd.jupyter.widget-view+json": {
       "model_id": "0af12952b79d45618e3e0a88eb44ebc1",
       "version_major": 2,
       "version_minor": 0
      },
      "text/plain": [
       "  0%|          | 0/1332 [00:00<?, ?it/s]"
      ]
     },
     "metadata": {},
     "output_type": "display_data"
    },
    {
     "name": "stdout",
     "output_type": "stream",
     "text": [
      "Epoch: 53 Learning rate: 0.00701, Train loss: 0.3225, Dev loss: 0.3190, Test loss: 0.3087, Test AUC: 0.9384\n",
      "[0. 0. 0. ... 0. 1. 1.] [0.00976027 0.08288625 0.04263799 ... 0.1870032  0.84375185 0.4639301 ]\n",
      "Predict   Flu       Not       \n",
      "Actual\n",
      "Flu       578       75        \n",
      "\n",
      "Not       89        590       \n",
      "\n",
      "\n",
      "True\n",
      "{'Flu': 0.8768768768768769, 'Not': 0.8768768768768769} {'Flu': 0.8770351859662101, 'Not': 0.8770351859662101}\n"
     ]
    },
    {
     "data": {
      "application/vnd.jupyter.widget-view+json": {
       "model_id": "7b2333099c7d40c4ae41805060562393",
       "version_major": 2,
       "version_minor": 0
      },
      "text/plain": [
       "  0%|          | 0/5325 [00:00<?, ?it/s]"
      ]
     },
     "metadata": {},
     "output_type": "display_data"
    },
    {
     "name": "stdout",
     "output_type": "stream",
     "text": [
      "Not updated in weight_dg_x\n",
      "Not updated in bias_dg_x\n"
     ]
    },
    {
     "data": {
      "application/vnd.jupyter.widget-view+json": {
       "model_id": "f16c87189fd048b099cb7d7fa6c1812c",
       "version_major": 2,
       "version_minor": 0
      },
      "text/plain": [
       "  0%|          | 0/1331 [00:00<?, ?it/s]"
      ]
     },
     "metadata": {},
     "output_type": "display_data"
    },
    {
     "data": {
      "application/vnd.jupyter.widget-view+json": {
       "model_id": "c7e443813a3a48838d21b38ff9c68852",
       "version_major": 2,
       "version_minor": 0
      },
      "text/plain": [
       "  0%|          | 0/1332 [00:00<?, ?it/s]"
      ]
     },
     "metadata": {},
     "output_type": "display_data"
    },
    {
     "name": "stdout",
     "output_type": "stream",
     "text": [
      "Epoch: 54 Learning rate: 0.00679, Train loss: 0.3216, Dev loss: 0.3188, Test loss: 0.3085, Test AUC: 0.9384\n",
      "[0. 0. 0. ... 0. 1. 1.] [0.00958387 0.0807674  0.04120732 ... 0.18532041 0.84682041 0.46176979]\n",
      "Predict   Flu       Not       \n",
      "Actual\n",
      "Flu       577       76        \n",
      "\n",
      "Not       89        590       \n",
      "\n",
      "\n",
      "True\n",
      "{'Flu': 0.8761261261261262, 'Not': 0.8761261261261262} {'Flu': 0.8762694891821365, 'Not': 0.8762694891821365}\n"
     ]
    },
    {
     "data": {
      "application/vnd.jupyter.widget-view+json": {
       "model_id": "89823321d0ce483ebd12d3114db52b55",
       "version_major": 2,
       "version_minor": 0
      },
      "text/plain": [
       "  0%|          | 0/5325 [00:00<?, ?it/s]"
      ]
     },
     "metadata": {},
     "output_type": "display_data"
    },
    {
     "name": "stdout",
     "output_type": "stream",
     "text": [
      "Not updated in weight_dg_x\n",
      "Not updated in bias_dg_x\n"
     ]
    },
    {
     "data": {
      "application/vnd.jupyter.widget-view+json": {
       "model_id": "516b5e629e504cb1ad5b07c226c589de",
       "version_major": 2,
       "version_minor": 0
      },
      "text/plain": [
       "  0%|          | 0/1331 [00:00<?, ?it/s]"
      ]
     },
     "metadata": {},
     "output_type": "display_data"
    },
    {
     "data": {
      "application/vnd.jupyter.widget-view+json": {
       "model_id": "b41107d3309345e892fb72804449f4c0",
       "version_major": 2,
       "version_minor": 0
      },
      "text/plain": [
       "  0%|          | 0/1332 [00:00<?, ?it/s]"
      ]
     },
     "metadata": {},
     "output_type": "display_data"
    },
    {
     "name": "stdout",
     "output_type": "stream",
     "text": [
      "Epoch: 55 Learning rate: 0.00657, Train loss: 0.3208, Dev loss: 0.3178, Test loss: 0.3076, Test AUC: 0.9387\n",
      "[0. 0. 0. ... 0. 1. 1.] [0.00968608 0.08271588 0.04067255 ... 0.18831104 0.84851021 0.46549571]\n",
      "Predict   Flu       Not       \n",
      "Actual\n",
      "Flu       579       74        \n",
      "\n",
      "Not       89        590       \n",
      "\n",
      "\n",
      "True\n",
      "{'Flu': 0.8776276276276276, 'Not': 0.8776276276276276} {'Flu': 0.8778008827502837, 'Not': 0.8778008827502837}\n"
     ]
    },
    {
     "data": {
      "application/vnd.jupyter.widget-view+json": {
       "model_id": "5e2f8aa7b7d74153bfc92d6525df5633",
       "version_major": 2,
       "version_minor": 0
      },
      "text/plain": [
       "  0%|          | 0/5325 [00:00<?, ?it/s]"
      ]
     },
     "metadata": {},
     "output_type": "display_data"
    },
    {
     "name": "stdout",
     "output_type": "stream",
     "text": [
      "Not updated in weight_dg_x\n",
      "Not updated in bias_dg_x\n"
     ]
    },
    {
     "data": {
      "application/vnd.jupyter.widget-view+json": {
       "model_id": "82eb7929072c46209546aeb0ac68e3f8",
       "version_major": 2,
       "version_minor": 0
      },
      "text/plain": [
       "  0%|          | 0/1331 [00:00<?, ?it/s]"
      ]
     },
     "metadata": {},
     "output_type": "display_data"
    },
    {
     "data": {
      "application/vnd.jupyter.widget-view+json": {
       "model_id": "bdeb8a95d6824d79b5a329e87448a1e5",
       "version_major": 2,
       "version_minor": 0
      },
      "text/plain": [
       "  0%|          | 0/1332 [00:00<?, ?it/s]"
      ]
     },
     "metadata": {},
     "output_type": "display_data"
    },
    {
     "name": "stdout",
     "output_type": "stream",
     "text": [
      "Epoch: 56 Learning rate: 0.00634, Train loss: 0.3200, Dev loss: 0.3179, Test loss: 0.3074, Test AUC: 0.9387\n",
      "[0. 0. 0. ... 0. 1. 1.] [0.00954341 0.0815159  0.03947109 ... 0.18799528 0.85045236 0.46358368]\n",
      "Predict   Flu       Not       \n",
      "Actual\n",
      "Flu       578       75        \n",
      "\n",
      "Not       89        590       \n",
      "\n",
      "\n",
      "True\n",
      "{'Flu': 0.8768768768768769, 'Not': 0.8768768768768769} {'Flu': 0.8770351859662101, 'Not': 0.8770351859662101}\n"
     ]
    },
    {
     "data": {
      "application/vnd.jupyter.widget-view+json": {
       "model_id": "1989e6acf49744c49d61dc2b3548224a",
       "version_major": 2,
       "version_minor": 0
      },
      "text/plain": [
       "  0%|          | 0/5325 [00:00<?, ?it/s]"
      ]
     },
     "metadata": {},
     "output_type": "display_data"
    },
    {
     "name": "stdout",
     "output_type": "stream",
     "text": [
      "Not updated in weight_dg_x\n",
      "Not updated in bias_dg_x\n"
     ]
    },
    {
     "data": {
      "application/vnd.jupyter.widget-view+json": {
       "model_id": "6dc817203a2d4855a39d7edab20a66d5",
       "version_major": 2,
       "version_minor": 0
      },
      "text/plain": [
       "  0%|          | 0/1331 [00:00<?, ?it/s]"
      ]
     },
     "metadata": {},
     "output_type": "display_data"
    },
    {
     "data": {
      "application/vnd.jupyter.widget-view+json": {
       "model_id": "2c54ff030b8447bfbcd0b80df6ca42e7",
       "version_major": 2,
       "version_minor": 0
      },
      "text/plain": [
       "  0%|          | 0/1332 [00:00<?, ?it/s]"
      ]
     },
     "metadata": {},
     "output_type": "display_data"
    },
    {
     "name": "stdout",
     "output_type": "stream",
     "text": [
      "Epoch: 57 Learning rate: 0.00611, Train loss: 0.3196, Dev loss: 0.3178, Test loss: 0.3072, Test AUC: 0.9386\n",
      "[0. 0. 0. ... 0. 1. 1.] [0.00950002 0.08222444 0.03913276 ... 0.1888157  0.85245782 0.4659422 ]\n",
      "Predict   Flu       Not       \n",
      "Actual\n",
      "Flu       579       74        \n",
      "\n",
      "Not       89        590       \n",
      "\n",
      "\n",
      "True\n",
      "{'Flu': 0.8776276276276276, 'Not': 0.8776276276276276} {'Flu': 0.8778008827502837, 'Not': 0.8778008827502837}\n"
     ]
    },
    {
     "data": {
      "application/vnd.jupyter.widget-view+json": {
       "model_id": "07d9873a8bc145eebeaac3c4ba4362e3",
       "version_major": 2,
       "version_minor": 0
      },
      "text/plain": [
       "  0%|          | 0/5325 [00:00<?, ?it/s]"
      ]
     },
     "metadata": {},
     "output_type": "display_data"
    },
    {
     "name": "stdout",
     "output_type": "stream",
     "text": [
      "Not updated in weight_dg_x\n",
      "Not updated in bias_dg_x\n"
     ]
    },
    {
     "data": {
      "application/vnd.jupyter.widget-view+json": {
       "model_id": "8df1c267d029465ca41d2959e58ced5c",
       "version_major": 2,
       "version_minor": 0
      },
      "text/plain": [
       "  0%|          | 0/1331 [00:00<?, ?it/s]"
      ]
     },
     "metadata": {},
     "output_type": "display_data"
    },
    {
     "data": {
      "application/vnd.jupyter.widget-view+json": {
       "model_id": "fd3ec67f5e1e4c209184d072accc6b2c",
       "version_major": 2,
       "version_minor": 0
      },
      "text/plain": [
       "  0%|          | 0/1332 [00:00<?, ?it/s]"
      ]
     },
     "metadata": {},
     "output_type": "display_data"
    },
    {
     "name": "stdout",
     "output_type": "stream",
     "text": [
      "Epoch: 58 Learning rate: 0.00588, Train loss: 0.3189, Dev loss: 0.3170, Test loss: 0.3065, Test AUC: 0.9390\n",
      "[0. 0. 0. ... 0. 1. 1.] [0.00931824 0.08021744 0.03859046 ... 0.19101295 0.85694695 0.46410814]\n",
      "Predict   Flu       Not       \n",
      "Actual\n",
      "Flu       578       75        \n",
      "\n",
      "Not       89        590       \n",
      "\n",
      "\n",
      "True\n",
      "{'Flu': 0.8768768768768769, 'Not': 0.8768768768768769} {'Flu': 0.8770351859662101, 'Not': 0.8770351859662101}\n"
     ]
    },
    {
     "data": {
      "application/vnd.jupyter.widget-view+json": {
       "model_id": "5cc9368c99774194808303823d5df807",
       "version_major": 2,
       "version_minor": 0
      },
      "text/plain": [
       "  0%|          | 0/5325 [00:00<?, ?it/s]"
      ]
     },
     "metadata": {},
     "output_type": "display_data"
    },
    {
     "name": "stdout",
     "output_type": "stream",
     "text": [
      "Not updated in weight_dg_x\n",
      "Not updated in bias_dg_x\n"
     ]
    },
    {
     "data": {
      "application/vnd.jupyter.widget-view+json": {
       "model_id": "add19659d4154b39a52a616574398a6c",
       "version_major": 2,
       "version_minor": 0
      },
      "text/plain": [
       "  0%|          | 0/1331 [00:00<?, ?it/s]"
      ]
     },
     "metadata": {},
     "output_type": "display_data"
    },
    {
     "data": {
      "application/vnd.jupyter.widget-view+json": {
       "model_id": "c8c87fb8aef64eefa1285a75043600bd",
       "version_major": 2,
       "version_minor": 0
      },
      "text/plain": [
       "  0%|          | 0/1332 [00:00<?, ?it/s]"
      ]
     },
     "metadata": {},
     "output_type": "display_data"
    },
    {
     "name": "stdout",
     "output_type": "stream",
     "text": [
      "Epoch: 59 Learning rate: 0.00565, Train loss: 0.3184, Dev loss: 0.3169, Test loss: 0.3065, Test AUC: 0.9389\n",
      "[0. 0. 0. ... 0. 1. 1.] [0.00925411 0.07976221 0.03850199 ... 0.18997645 0.85839313 0.46498302]\n",
      "Predict   Flu       Not       \n",
      "Actual\n",
      "Flu       580       73        \n",
      "\n",
      "Not       89        590       \n",
      "\n",
      "\n",
      "True\n",
      "{'Flu': 0.8783783783783784, 'Not': 0.8783783783783784} {'Flu': 0.8785665795343571, 'Not': 0.8785665795343571}\n"
     ]
    },
    {
     "data": {
      "application/vnd.jupyter.widget-view+json": {
       "model_id": "4e4f81c70c8e4f0b99e6c21d20545415",
       "version_major": 2,
       "version_minor": 0
      },
      "text/plain": [
       "  0%|          | 0/5325 [00:00<?, ?it/s]"
      ]
     },
     "metadata": {},
     "output_type": "display_data"
    },
    {
     "name": "stdout",
     "output_type": "stream",
     "text": [
      "Not updated in weight_dg_x\n",
      "Not updated in bias_dg_x\n"
     ]
    },
    {
     "data": {
      "application/vnd.jupyter.widget-view+json": {
       "model_id": "45cccb475bdb4e92ba622e045299501c",
       "version_major": 2,
       "version_minor": 0
      },
      "text/plain": [
       "  0%|          | 0/1331 [00:00<?, ?it/s]"
      ]
     },
     "metadata": {},
     "output_type": "display_data"
    },
    {
     "data": {
      "application/vnd.jupyter.widget-view+json": {
       "model_id": "eafa3382dc7640868109464d75fd9b33",
       "version_major": 2,
       "version_minor": 0
      },
      "text/plain": [
       "  0%|          | 0/1332 [00:00<?, ?it/s]"
      ]
     },
     "metadata": {},
     "output_type": "display_data"
    },
    {
     "name": "stdout",
     "output_type": "stream",
     "text": [
      "Epoch: 60 Learning rate: 0.00541, Train loss: 0.3176, Dev loss: 0.3164, Test loss: 0.3060, Test AUC: 0.9391\n",
      "[0. 0. 0. ... 0. 1. 1.] [0.00920456 0.07837479 0.03819982 ... 0.19150214 0.86187553 0.46607822]\n",
      "Predict   Flu       Not       \n",
      "Actual\n",
      "Flu       580       73        \n",
      "\n",
      "Not       90        589       \n",
      "\n",
      "\n",
      "True\n",
      "{'Flu': 0.8776276276276276, 'Not': 0.8776276276276276} {'Flu': 0.8778302025093203, 'Not': 0.8778302025093203}\n"
     ]
    },
    {
     "data": {
      "application/vnd.jupyter.widget-view+json": {
       "model_id": "5b155bece9bc40f6b707b17a6a13603b",
       "version_major": 2,
       "version_minor": 0
      },
      "text/plain": [
       "  0%|          | 0/5325 [00:00<?, ?it/s]"
      ]
     },
     "metadata": {},
     "output_type": "display_data"
    },
    {
     "name": "stdout",
     "output_type": "stream",
     "text": [
      "Not updated in weight_dg_x\n",
      "Not updated in bias_dg_x\n"
     ]
    },
    {
     "data": {
      "application/vnd.jupyter.widget-view+json": {
       "model_id": "f1252e9ff58a4114b9509c1d9055fc18",
       "version_major": 2,
       "version_minor": 0
      },
      "text/plain": [
       "  0%|          | 0/1331 [00:00<?, ?it/s]"
      ]
     },
     "metadata": {},
     "output_type": "display_data"
    },
    {
     "data": {
      "application/vnd.jupyter.widget-view+json": {
       "model_id": "4864a93b3744430eaf583b1ea2eecb4d",
       "version_major": 2,
       "version_minor": 0
      },
      "text/plain": [
       "  0%|          | 0/1332 [00:00<?, ?it/s]"
      ]
     },
     "metadata": {},
     "output_type": "display_data"
    },
    {
     "name": "stdout",
     "output_type": "stream",
     "text": [
      "Epoch: 61 Learning rate: 0.00518, Train loss: 0.3171, Dev loss: 0.3160, Test loss: 0.3058, Test AUC: 0.9392\n",
      "[0. 0. 0. ... 0. 1. 1.] [0.00919235 0.07936147 0.03890705 ... 0.19179878 0.86354363 0.46614829]\n",
      "Predict   Flu       Not       \n",
      "Actual\n",
      "Flu       580       73        \n",
      "\n",
      "Not       90        589       \n",
      "\n",
      "\n",
      "True\n",
      "{'Flu': 0.8776276276276276, 'Not': 0.8776276276276276} {'Flu': 0.8778302025093203, 'Not': 0.8778302025093203}\n"
     ]
    },
    {
     "data": {
      "application/vnd.jupyter.widget-view+json": {
       "model_id": "a519743797df44559cf4c486a0c96f2b",
       "version_major": 2,
       "version_minor": 0
      },
      "text/plain": [
       "  0%|          | 0/5325 [00:00<?, ?it/s]"
      ]
     },
     "metadata": {},
     "output_type": "display_data"
    },
    {
     "name": "stdout",
     "output_type": "stream",
     "text": [
      "Not updated in weight_dg_x\n",
      "Not updated in bias_dg_x\n"
     ]
    },
    {
     "data": {
      "application/vnd.jupyter.widget-view+json": {
       "model_id": "73afb3d258ed4b56910d8cefb129e944",
       "version_major": 2,
       "version_minor": 0
      },
      "text/plain": [
       "  0%|          | 0/1331 [00:00<?, ?it/s]"
      ]
     },
     "metadata": {},
     "output_type": "display_data"
    },
    {
     "data": {
      "application/vnd.jupyter.widget-view+json": {
       "model_id": "9a1dd03545bb4f158442a32e9b99c8a9",
       "version_major": 2,
       "version_minor": 0
      },
      "text/plain": [
       "  0%|          | 0/1332 [00:00<?, ?it/s]"
      ]
     },
     "metadata": {},
     "output_type": "display_data"
    },
    {
     "name": "stdout",
     "output_type": "stream",
     "text": [
      "Epoch: 62 Learning rate: 0.00494, Train loss: 0.3164, Dev loss: 0.3157, Test loss: 0.3056, Test AUC: 0.9393\n",
      "[0. 0. 0. ... 0. 1. 1.] [0.00912181 0.07897311 0.0389665  ... 0.19237389 0.86686701 0.46347037]\n",
      "Predict   Flu       Not       \n",
      "Actual\n",
      "Flu       580       73        \n",
      "\n",
      "Not       90        589       \n",
      "\n",
      "\n",
      "True\n",
      "{'Flu': 0.8776276276276276, 'Not': 0.8776276276276276} {'Flu': 0.8778302025093203, 'Not': 0.8778302025093203}\n"
     ]
    },
    {
     "data": {
      "application/vnd.jupyter.widget-view+json": {
       "model_id": "13c0f0a2e6974f93aa33e34fab425a78",
       "version_major": 2,
       "version_minor": 0
      },
      "text/plain": [
       "  0%|          | 0/5325 [00:00<?, ?it/s]"
      ]
     },
     "metadata": {},
     "output_type": "display_data"
    },
    {
     "name": "stdout",
     "output_type": "stream",
     "text": [
      "Not updated in weight_dg_x\n",
      "Not updated in bias_dg_x\n"
     ]
    },
    {
     "data": {
      "application/vnd.jupyter.widget-view+json": {
       "model_id": "55e7841c92ad422c86fe15cca6b161a3",
       "version_major": 2,
       "version_minor": 0
      },
      "text/plain": [
       "  0%|          | 0/1331 [00:00<?, ?it/s]"
      ]
     },
     "metadata": {},
     "output_type": "display_data"
    },
    {
     "data": {
      "application/vnd.jupyter.widget-view+json": {
       "model_id": "419412d706cf447fbd435ce980553e96",
       "version_major": 2,
       "version_minor": 0
      },
      "text/plain": [
       "  0%|          | 0/1332 [00:00<?, ?it/s]"
      ]
     },
     "metadata": {},
     "output_type": "display_data"
    },
    {
     "name": "stdout",
     "output_type": "stream",
     "text": [
      "Epoch: 63 Learning rate: 0.00470, Train loss: 0.3160, Dev loss: 0.3155, Test loss: 0.3057, Test AUC: 0.9392\n",
      "[0. 0. 0. ... 0. 1. 1.] [0.00913993 0.0795076  0.04076073 ... 0.19230683 0.86960095 0.46560171]\n",
      "Predict   Flu       Not       \n",
      "Actual\n",
      "Flu       580       73        \n",
      "\n",
      "Not       92        587       \n",
      "\n",
      "\n",
      "True\n",
      "{'Flu': 0.8761261261261262, 'Not': 0.8761261261261262} {'Flu': 0.8763574484592467, 'Not': 0.8763574484592467}\n"
     ]
    },
    {
     "data": {
      "application/vnd.jupyter.widget-view+json": {
       "model_id": "4344dfe706ad443a99cc7219ccd905d6",
       "version_major": 2,
       "version_minor": 0
      },
      "text/plain": [
       "  0%|          | 0/5325 [00:00<?, ?it/s]"
      ]
     },
     "metadata": {},
     "output_type": "display_data"
    },
    {
     "name": "stdout",
     "output_type": "stream",
     "text": [
      "Not updated in weight_dg_x\n",
      "Not updated in bias_dg_x\n"
     ]
    },
    {
     "data": {
      "application/vnd.jupyter.widget-view+json": {
       "model_id": "c307161ab8dc482bb7eaa0c6a1754e25",
       "version_major": 2,
       "version_minor": 0
      },
      "text/plain": [
       "  0%|          | 0/1331 [00:00<?, ?it/s]"
      ]
     },
     "metadata": {},
     "output_type": "display_data"
    },
    {
     "data": {
      "application/vnd.jupyter.widget-view+json": {
       "model_id": "ee7431faa31c4cceb7c5bef02559a5c9",
       "version_major": 2,
       "version_minor": 0
      },
      "text/plain": [
       "  0%|          | 0/1332 [00:00<?, ?it/s]"
      ]
     },
     "metadata": {},
     "output_type": "display_data"
    },
    {
     "name": "stdout",
     "output_type": "stream",
     "text": [
      "Epoch: 64 Learning rate: 0.00447, Train loss: 0.3154, Dev loss: 0.3150, Test loss: 0.3053, Test AUC: 0.9393\n",
      "[0. 0. 0. ... 0. 1. 1.] [0.00912458 0.07891316 0.04095807 ... 0.19371459 0.87289971 0.4712368 ]\n",
      "Predict   Flu       Not       \n",
      "Actual\n",
      "Flu       580       73        \n",
      "\n",
      "Not       91        588       \n",
      "\n",
      "\n",
      "True\n",
      "{'Flu': 0.8768768768768769, 'Not': 0.8768768768768769} {'Flu': 0.8770938254842835, 'Not': 0.8770938254842835}\n"
     ]
    },
    {
     "data": {
      "application/vnd.jupyter.widget-view+json": {
       "model_id": "30b7908b5048493daf9684d03a651120",
       "version_major": 2,
       "version_minor": 0
      },
      "text/plain": [
       "  0%|          | 0/5325 [00:00<?, ?it/s]"
      ]
     },
     "metadata": {},
     "output_type": "display_data"
    },
    {
     "name": "stdout",
     "output_type": "stream",
     "text": [
      "Not updated in weight_dg_x\n",
      "Not updated in bias_dg_x\n"
     ]
    },
    {
     "data": {
      "application/vnd.jupyter.widget-view+json": {
       "model_id": "257071603e8b49b2a73c6ae66fe6648c",
       "version_major": 2,
       "version_minor": 0
      },
      "text/plain": [
       "  0%|          | 0/1331 [00:00<?, ?it/s]"
      ]
     },
     "metadata": {},
     "output_type": "display_data"
    },
    {
     "data": {
      "application/vnd.jupyter.widget-view+json": {
       "model_id": "609b56d4088d41ff87e9086383c75bdd",
       "version_major": 2,
       "version_minor": 0
      },
      "text/plain": [
       "  0%|          | 0/1332 [00:00<?, ?it/s]"
      ]
     },
     "metadata": {},
     "output_type": "display_data"
    },
    {
     "name": "stdout",
     "output_type": "stream",
     "text": [
      "Epoch: 65 Learning rate: 0.00424, Train loss: 0.3150, Dev loss: 0.3147, Test loss: 0.3053, Test AUC: 0.9392\n",
      "[0. 0. 0. ... 0. 1. 1.] [0.00922269 0.08054131 0.04305533 ... 0.19363035 0.87626404 0.47919744]\n",
      "Predict   Flu       Not       \n",
      "Actual\n",
      "Flu       580       73        \n",
      "\n",
      "Not       91        588       \n",
      "\n",
      "\n",
      "True\n",
      "{'Flu': 0.8768768768768769, 'Not': 0.8768768768768769} {'Flu': 0.8770938254842835, 'Not': 0.8770938254842835}\n"
     ]
    },
    {
     "data": {
      "application/vnd.jupyter.widget-view+json": {
       "model_id": "254c1ed525984792b25af342a857d136",
       "version_major": 2,
       "version_minor": 0
      },
      "text/plain": [
       "  0%|          | 0/5325 [00:00<?, ?it/s]"
      ]
     },
     "metadata": {},
     "output_type": "display_data"
    },
    {
     "name": "stdout",
     "output_type": "stream",
     "text": [
      "Not updated in weight_dg_x\n",
      "Not updated in bias_dg_x\n"
     ]
    },
    {
     "data": {
      "application/vnd.jupyter.widget-view+json": {
       "model_id": "1fe20c491ab444a2a39b38a179f697e8",
       "version_major": 2,
       "version_minor": 0
      },
      "text/plain": [
       "  0%|          | 0/1331 [00:00<?, ?it/s]"
      ]
     },
     "metadata": {},
     "output_type": "display_data"
    },
    {
     "data": {
      "application/vnd.jupyter.widget-view+json": {
       "model_id": "6c8c5100ede64cff9299c522be59c1be",
       "version_major": 2,
       "version_minor": 0
      },
      "text/plain": [
       "  0%|          | 0/1332 [00:00<?, ?it/s]"
      ]
     },
     "metadata": {},
     "output_type": "display_data"
    },
    {
     "name": "stdout",
     "output_type": "stream",
     "text": [
      "Epoch: 66 Learning rate: 0.00400, Train loss: 0.3143, Dev loss: 0.3143, Test loss: 0.3050, Test AUC: 0.9392\n",
      "[0. 0. 0. ... 0. 1. 1.] [0.00930419 0.08141751 0.04347706 ... 0.19537643 0.88075191 0.48347855]\n",
      "Predict   Flu       Not       \n",
      "Actual\n",
      "Flu       580       73        \n",
      "\n",
      "Not       90        589       \n",
      "\n",
      "\n",
      "True\n",
      "{'Flu': 0.8776276276276276, 'Not': 0.8776276276276276} {'Flu': 0.8778302025093203, 'Not': 0.8778302025093203}\n"
     ]
    },
    {
     "data": {
      "application/vnd.jupyter.widget-view+json": {
       "model_id": "bfa2d865c41c4ceaa41282472cc87ebc",
       "version_major": 2,
       "version_minor": 0
      },
      "text/plain": [
       "  0%|          | 0/5325 [00:00<?, ?it/s]"
      ]
     },
     "metadata": {},
     "output_type": "display_data"
    },
    {
     "name": "stdout",
     "output_type": "stream",
     "text": [
      "Not updated in weight_dg_x\n",
      "Not updated in bias_dg_x\n"
     ]
    },
    {
     "data": {
      "application/vnd.jupyter.widget-view+json": {
       "model_id": "e1ab4e49922f4b4d8ce30ae9ceab71a5",
       "version_major": 2,
       "version_minor": 0
      },
      "text/plain": [
       "  0%|          | 0/1331 [00:00<?, ?it/s]"
      ]
     },
     "metadata": {},
     "output_type": "display_data"
    },
    {
     "data": {
      "application/vnd.jupyter.widget-view+json": {
       "model_id": "c9255dd4a791430e9f05c66c4f0aee0a",
       "version_major": 2,
       "version_minor": 0
      },
      "text/plain": [
       "  0%|          | 0/1332 [00:00<?, ?it/s]"
      ]
     },
     "metadata": {},
     "output_type": "display_data"
    },
    {
     "name": "stdout",
     "output_type": "stream",
     "text": [
      "Epoch: 67 Learning rate: 0.00377, Train loss: 0.3138, Dev loss: 0.3140, Test loss: 0.3051, Test AUC: 0.9392\n",
      "[0. 0. 0. ... 0. 1. 1.] [0.00946845 0.08223298 0.04742636 ... 0.19708999 0.8860001  0.48985544]\n",
      "Predict   Flu       Not       \n",
      "Actual\n",
      "Flu       581       72        \n",
      "\n",
      "Not       89        590       \n",
      "\n",
      "\n",
      "True\n",
      "{'Flu': 0.8791291291291291, 'Not': 0.8791291291291291} {'Flu': 0.8793322763184306, 'Not': 0.8793322763184306}\n"
     ]
    },
    {
     "data": {
      "application/vnd.jupyter.widget-view+json": {
       "model_id": "8d9fe888528947f1af76d9b4cfb82a30",
       "version_major": 2,
       "version_minor": 0
      },
      "text/plain": [
       "  0%|          | 0/5325 [00:00<?, ?it/s]"
      ]
     },
     "metadata": {},
     "output_type": "display_data"
    },
    {
     "name": "stdout",
     "output_type": "stream",
     "text": [
      "Not updated in weight_dg_x\n",
      "Not updated in bias_dg_x\n"
     ]
    },
    {
     "data": {
      "application/vnd.jupyter.widget-view+json": {
       "model_id": "9afd7620178942c8aa733935210b73ba",
       "version_major": 2,
       "version_minor": 0
      },
      "text/plain": [
       "  0%|          | 0/1331 [00:00<?, ?it/s]"
      ]
     },
     "metadata": {},
     "output_type": "display_data"
    },
    {
     "data": {
      "application/vnd.jupyter.widget-view+json": {
       "model_id": "00666cce676748a0bde607383decb07b",
       "version_major": 2,
       "version_minor": 0
      },
      "text/plain": [
       "  0%|          | 0/1332 [00:00<?, ?it/s]"
      ]
     },
     "metadata": {},
     "output_type": "display_data"
    },
    {
     "name": "stdout",
     "output_type": "stream",
     "text": [
      "Epoch: 68 Learning rate: 0.00355, Train loss: 0.3132, Dev loss: 0.3138, Test loss: 0.3050, Test AUC: 0.9393\n",
      "[0. 0. 0. ... 0. 1. 1.] [0.00947097 0.08271258 0.04928884 ... 0.19776654 0.89029408 0.48921609]\n",
      "Predict   Flu       Not       \n",
      "Actual\n",
      "Flu       582       71        \n",
      "\n",
      "Not       90        589       \n",
      "\n",
      "\n",
      "True\n",
      "{'Flu': 0.8791291291291291, 'Not': 0.8791291291291291} {'Flu': 0.8793615960774673, 'Not': 0.8793615960774673}\n"
     ]
    },
    {
     "data": {
      "application/vnd.jupyter.widget-view+json": {
       "model_id": "b2a11170558646be8c6c1ec23e17130a",
       "version_major": 2,
       "version_minor": 0
      },
      "text/plain": [
       "  0%|          | 0/5325 [00:00<?, ?it/s]"
      ]
     },
     "metadata": {},
     "output_type": "display_data"
    },
    {
     "name": "stdout",
     "output_type": "stream",
     "text": [
      "Not updated in weight_dg_x\n",
      "Not updated in bias_dg_x\n"
     ]
    },
    {
     "data": {
      "application/vnd.jupyter.widget-view+json": {
       "model_id": "b83771f09f4949ccac6efcbc93fb7a31",
       "version_major": 2,
       "version_minor": 0
      },
      "text/plain": [
       "  0%|          | 0/1331 [00:00<?, ?it/s]"
      ]
     },
     "metadata": {},
     "output_type": "display_data"
    },
    {
     "data": {
      "application/vnd.jupyter.widget-view+json": {
       "model_id": "6d8c439599834b7e9619a01f0e6617a1",
       "version_major": 2,
       "version_minor": 0
      },
      "text/plain": [
       "  0%|          | 0/1332 [00:00<?, ?it/s]"
      ]
     },
     "metadata": {},
     "output_type": "display_data"
    },
    {
     "name": "stdout",
     "output_type": "stream",
     "text": [
      "Epoch: 69 Learning rate: 0.00332, Train loss: 0.3129, Dev loss: 0.3137, Test loss: 0.3051, Test AUC: 0.9392\n",
      "[0. 0. 0. ... 0. 1. 1.] [0.00954239 0.08222146 0.05341778 ... 0.19915132 0.89478201 0.49350873]\n",
      "Predict   Flu       Not       \n",
      "Actual\n",
      "Flu       584       69        \n",
      "\n",
      "Not       91        588       \n",
      "\n",
      "\n",
      "True\n",
      "{'Flu': 0.8798798798798799, 'Not': 0.8798798798798799} {'Flu': 0.8801566126205775, 'Not': 0.8801566126205775}\n"
     ]
    },
    {
     "data": {
      "application/vnd.jupyter.widget-view+json": {
       "model_id": "cbab6cdbf42d4cfe8301069aced719c2",
       "version_major": 2,
       "version_minor": 0
      },
      "text/plain": [
       "  0%|          | 0/5325 [00:00<?, ?it/s]"
      ]
     },
     "metadata": {},
     "output_type": "display_data"
    },
    {
     "name": "stdout",
     "output_type": "stream",
     "text": [
      "Not updated in weight_dg_x\n",
      "Not updated in bias_dg_x\n"
     ]
    },
    {
     "data": {
      "application/vnd.jupyter.widget-view+json": {
       "model_id": "9c46d664d92545018b43537e1b1b36b8",
       "version_major": 2,
       "version_minor": 0
      },
      "text/plain": [
       "  0%|          | 0/1331 [00:00<?, ?it/s]"
      ]
     },
     "metadata": {},
     "output_type": "display_data"
    },
    {
     "data": {
      "application/vnd.jupyter.widget-view+json": {
       "model_id": "271c9e1a6181482ca2e792ab5c59566f",
       "version_major": 2,
       "version_minor": 0
      },
      "text/plain": [
       "  0%|          | 0/1332 [00:00<?, ?it/s]"
      ]
     },
     "metadata": {},
     "output_type": "display_data"
    },
    {
     "name": "stdout",
     "output_type": "stream",
     "text": [
      "Epoch: 70 Learning rate: 0.00310, Train loss: 0.3123, Dev loss: 0.3135, Test loss: 0.3044, Test AUC: 0.9396\n",
      "[0. 0. 0. ... 0. 1. 1.] [0.00919518 0.08136214 0.05462396 ... 0.20444509 0.89991385 0.47745216]\n",
      "Predict   Flu       Not       \n",
      "Actual\n",
      "Flu       581       72        \n",
      "\n",
      "Not       90        589       \n",
      "\n",
      "\n",
      "True\n",
      "{'Flu': 0.8783783783783784, 'Not': 0.8783783783783784} {'Flu': 0.8785958992933938, 'Not': 0.8785958992933938}\n"
     ]
    },
    {
     "data": {
      "application/vnd.jupyter.widget-view+json": {
       "model_id": "189f40de7fab4ca3bedaced479f1c5a6",
       "version_major": 2,
       "version_minor": 0
      },
      "text/plain": [
       "  0%|          | 0/5325 [00:00<?, ?it/s]"
      ]
     },
     "metadata": {},
     "output_type": "display_data"
    },
    {
     "name": "stdout",
     "output_type": "stream",
     "text": [
      "Not updated in weight_dg_x\n",
      "Not updated in bias_dg_x\n"
     ]
    },
    {
     "data": {
      "application/vnd.jupyter.widget-view+json": {
       "model_id": "49875c5f98d64026a5bfc7c04deed1a1",
       "version_major": 2,
       "version_minor": 0
      },
      "text/plain": [
       "  0%|          | 0/1331 [00:00<?, ?it/s]"
      ]
     },
     "metadata": {},
     "output_type": "display_data"
    },
    {
     "data": {
      "application/vnd.jupyter.widget-view+json": {
       "model_id": "6d17b1022e9c4fddbaa9fdf5d4481289",
       "version_major": 2,
       "version_minor": 0
      },
      "text/plain": [
       "  0%|          | 0/1332 [00:00<?, ?it/s]"
      ]
     },
     "metadata": {},
     "output_type": "display_data"
    },
    {
     "name": "stdout",
     "output_type": "stream",
     "text": [
      "Epoch: 71 Learning rate: 0.00288, Train loss: 0.3118, Dev loss: 0.3135, Test loss: 0.3050, Test AUC: 0.9392\n",
      "[0. 0. 0. ... 0. 1. 1.] [0.00963296 0.08313339 0.05725088 ... 0.19953759 0.90107191 0.4962014 ]\n",
      "Predict   Flu       Not       \n",
      "Actual\n",
      "Flu       585       68        \n",
      "\n",
      "Not       92        587       \n",
      "\n",
      "\n",
      "True\n",
      "{'Flu': 0.8798798798798799, 'Not': 0.8798798798798799} {'Flu': 0.8801859323796142, 'Not': 0.8801859323796142}\n"
     ]
    },
    {
     "data": {
      "application/vnd.jupyter.widget-view+json": {
       "model_id": "3ca2c2959d744443b8b48f412d25d623",
       "version_major": 2,
       "version_minor": 0
      },
      "text/plain": [
       "  0%|          | 0/5325 [00:00<?, ?it/s]"
      ]
     },
     "metadata": {},
     "output_type": "display_data"
    },
    {
     "name": "stdout",
     "output_type": "stream",
     "text": [
      "Not updated in weight_dg_x\n",
      "Not updated in bias_dg_x\n"
     ]
    },
    {
     "data": {
      "application/vnd.jupyter.widget-view+json": {
       "model_id": "79d09d24fbb84d868ba1551e533100f3",
       "version_major": 2,
       "version_minor": 0
      },
      "text/plain": [
       "  0%|          | 0/1331 [00:00<?, ?it/s]"
      ]
     },
     "metadata": {},
     "output_type": "display_data"
    },
    {
     "data": {
      "application/vnd.jupyter.widget-view+json": {
       "model_id": "73dcc308ec4445269d81a189288f7880",
       "version_major": 2,
       "version_minor": 0
      },
      "text/plain": [
       "  0%|          | 0/1332 [00:00<?, ?it/s]"
      ]
     },
     "metadata": {},
     "output_type": "display_data"
    },
    {
     "name": "stdout",
     "output_type": "stream",
     "text": [
      "Epoch: 72 Learning rate: 0.00267, Train loss: 0.3113, Dev loss: 0.3136, Test loss: 0.3051, Test AUC: 0.9391\n",
      "[0. 0. 0. ... 0. 1. 1.] [0.00963962 0.08218112 0.05854945 ... 0.20324273 0.90485835 0.49181637]\n",
      "Predict   Flu       Not       \n",
      "Actual\n",
      "Flu       585       68        \n",
      "\n",
      "Not       92        587       \n",
      "\n",
      "\n",
      "True\n",
      "{'Flu': 0.8798798798798799, 'Not': 0.8798798798798799} {'Flu': 0.8801859323796142, 'Not': 0.8801859323796142}\n"
     ]
    },
    {
     "data": {
      "application/vnd.jupyter.widget-view+json": {
       "model_id": "d3fdbc961ae74599a5604abfa3c995c2",
       "version_major": 2,
       "version_minor": 0
      },
      "text/plain": [
       "  0%|          | 0/5325 [00:00<?, ?it/s]"
      ]
     },
     "metadata": {},
     "output_type": "display_data"
    },
    {
     "name": "stdout",
     "output_type": "stream",
     "text": [
      "Not updated in weight_dg_x\n",
      "Not updated in bias_dg_x\n"
     ]
    },
    {
     "data": {
      "application/vnd.jupyter.widget-view+json": {
       "model_id": "2c0fe5699ecc4c89a12efe96aa2879de",
       "version_major": 2,
       "version_minor": 0
      },
      "text/plain": [
       "  0%|          | 0/1331 [00:00<?, ?it/s]"
      ]
     },
     "metadata": {},
     "output_type": "display_data"
    },
    {
     "data": {
      "application/vnd.jupyter.widget-view+json": {
       "model_id": "cc9e915f86a54f479fb685056a7cefb2",
       "version_major": 2,
       "version_minor": 0
      },
      "text/plain": [
       "  0%|          | 0/1332 [00:00<?, ?it/s]"
      ]
     },
     "metadata": {},
     "output_type": "display_data"
    },
    {
     "name": "stdout",
     "output_type": "stream",
     "text": [
      "Epoch: 73 Learning rate: 0.00247, Train loss: 0.3109, Dev loss: 0.3135, Test loss: 0.3049, Test AUC: 0.9392\n",
      "[0. 0. 0. ... 0. 1. 1.] [0.00969832 0.08266176 0.06061084 ... 0.20480733 0.90767431 0.49329305]\n",
      "Predict   Flu       Not       \n",
      "Actual\n",
      "Flu       586       67        \n",
      "\n",
      "Not       92        587       \n",
      "\n",
      "\n",
      "True\n",
      "{'Flu': 0.8806306306306306, 'Not': 0.8806306306306306} {'Flu': 0.8809516291636877, 'Not': 0.8809516291636877}\n"
     ]
    },
    {
     "data": {
      "application/vnd.jupyter.widget-view+json": {
       "model_id": "ce596e18413741b7a2341a344b063aef",
       "version_major": 2,
       "version_minor": 0
      },
      "text/plain": [
       "  0%|          | 0/5325 [00:00<?, ?it/s]"
      ]
     },
     "metadata": {},
     "output_type": "display_data"
    },
    {
     "name": "stdout",
     "output_type": "stream",
     "text": [
      "Not updated in weight_dg_x\n",
      "Not updated in bias_dg_x\n"
     ]
    },
    {
     "data": {
      "application/vnd.jupyter.widget-view+json": {
       "model_id": "2aa564e54d394c41b32d97df7a6015a0",
       "version_major": 2,
       "version_minor": 0
      },
      "text/plain": [
       "  0%|          | 0/1331 [00:00<?, ?it/s]"
      ]
     },
     "metadata": {},
     "output_type": "display_data"
    },
    {
     "data": {
      "application/vnd.jupyter.widget-view+json": {
       "model_id": "52d62cd469c643cdb028ba61812454a2",
       "version_major": 2,
       "version_minor": 0
      },
      "text/plain": [
       "  0%|          | 0/1332 [00:00<?, ?it/s]"
      ]
     },
     "metadata": {},
     "output_type": "display_data"
    },
    {
     "name": "stdout",
     "output_type": "stream",
     "text": [
      "Epoch: 74 Learning rate: 0.00227, Train loss: 0.3104, Dev loss: 0.3135, Test loss: 0.3049, Test AUC: 0.9392\n",
      "[0. 0. 0. ... 0. 1. 1.] [0.00969102 0.08243211 0.06139235 ... 0.20628095 0.91003382 0.50186926]\n",
      "Predict   Flu       Not       \n",
      "Actual\n",
      "Flu       588       65        \n",
      "\n",
      "Not       92        587       \n",
      "\n",
      "\n",
      "True\n",
      "{'Flu': 0.8821321321321322, 'Not': 0.8821321321321322} {'Flu': 0.8824830227318348, 'Not': 0.8824830227318348}\n"
     ]
    },
    {
     "data": {
      "application/vnd.jupyter.widget-view+json": {
       "model_id": "e03097456b104f41bc51bf468c69deae",
       "version_major": 2,
       "version_minor": 0
      },
      "text/plain": [
       "  0%|          | 0/5325 [00:00<?, ?it/s]"
      ]
     },
     "metadata": {},
     "output_type": "display_data"
    },
    {
     "name": "stdout",
     "output_type": "stream",
     "text": [
      "Not updated in weight_dg_x\n",
      "Not updated in bias_dg_x\n"
     ]
    },
    {
     "data": {
      "application/vnd.jupyter.widget-view+json": {
       "model_id": "99f679f527b24949be24a7d8d26d67d7",
       "version_major": 2,
       "version_minor": 0
      },
      "text/plain": [
       "  0%|          | 0/1331 [00:00<?, ?it/s]"
      ]
     },
     "metadata": {},
     "output_type": "display_data"
    },
    {
     "data": {
      "application/vnd.jupyter.widget-view+json": {
       "model_id": "f094daaddeed466a925d58ba712ae4a5",
       "version_major": 2,
       "version_minor": 0
      },
      "text/plain": [
       "  0%|          | 0/1332 [00:00<?, ?it/s]"
      ]
     },
     "metadata": {},
     "output_type": "display_data"
    },
    {
     "name": "stdout",
     "output_type": "stream",
     "text": [
      "Epoch: 75 Learning rate: 0.00207, Train loss: 0.3100, Dev loss: 0.3136, Test loss: 0.3053, Test AUC: 0.9391\n",
      "[0. 0. 0. ... 0. 1. 1.] [0.00968415 0.08279306 0.06219388 ... 0.20748909 0.9124884  0.48189875]\n",
      "Predict   Flu       Not       \n",
      "Actual\n",
      "Flu       588       65        \n",
      "\n",
      "Not       92        587       \n",
      "\n",
      "\n",
      "True\n",
      "{'Flu': 0.8821321321321322, 'Not': 0.8821321321321322} {'Flu': 0.8824830227318348, 'Not': 0.8824830227318348}\n"
     ]
    },
    {
     "data": {
      "application/vnd.jupyter.widget-view+json": {
       "model_id": "6df358d801984b339ec7a4dd660a51ae",
       "version_major": 2,
       "version_minor": 0
      },
      "text/plain": [
       "  0%|          | 0/5325 [00:00<?, ?it/s]"
      ]
     },
     "metadata": {},
     "output_type": "display_data"
    },
    {
     "name": "stdout",
     "output_type": "stream",
     "text": [
      "Not updated in weight_dg_x\n",
      "Not updated in bias_dg_x\n"
     ]
    },
    {
     "data": {
      "application/vnd.jupyter.widget-view+json": {
       "model_id": "80d3e128a44544a0aa0ef5449ea07ce5",
       "version_major": 2,
       "version_minor": 0
      },
      "text/plain": [
       "  0%|          | 0/1331 [00:00<?, ?it/s]"
      ]
     },
     "metadata": {},
     "output_type": "display_data"
    },
    {
     "data": {
      "application/vnd.jupyter.widget-view+json": {
       "model_id": "16f348e49d8f485c9d5908410bf35bf0",
       "version_major": 2,
       "version_minor": 0
      },
      "text/plain": [
       "  0%|          | 0/1332 [00:00<?, ?it/s]"
      ]
     },
     "metadata": {},
     "output_type": "display_data"
    },
    {
     "name": "stdout",
     "output_type": "stream",
     "text": [
      "Epoch: 76 Learning rate: 0.00188, Train loss: 0.3096, Dev loss: 0.3136, Test loss: 0.3052, Test AUC: 0.9391\n",
      "[0. 0. 0. ... 0. 1. 1.] [0.00965335 0.08215589 0.06275015 ... 0.20816459 0.91443908 0.49023128]\n",
      "Predict   Flu       Not       \n",
      "Actual\n",
      "Flu       588       65        \n",
      "\n",
      "Not       92        587       \n",
      "\n",
      "\n",
      "True\n",
      "{'Flu': 0.8821321321321322, 'Not': 0.8821321321321322} {'Flu': 0.8824830227318348, 'Not': 0.8824830227318348}\n"
     ]
    },
    {
     "data": {
      "application/vnd.jupyter.widget-view+json": {
       "model_id": "04e4bedc77a34f9dae37451c52311fba",
       "version_major": 2,
       "version_minor": 0
      },
      "text/plain": [
       "  0%|          | 0/5325 [00:00<?, ?it/s]"
      ]
     },
     "metadata": {},
     "output_type": "display_data"
    },
    {
     "name": "stdout",
     "output_type": "stream",
     "text": [
      "Not updated in weight_dg_x\n",
      "Not updated in bias_dg_x\n"
     ]
    },
    {
     "data": {
      "application/vnd.jupyter.widget-view+json": {
       "model_id": "d40e73fe6344481da37e0fe107dc4bd3",
       "version_major": 2,
       "version_minor": 0
      },
      "text/plain": [
       "  0%|          | 0/1331 [00:00<?, ?it/s]"
      ]
     },
     "metadata": {},
     "output_type": "display_data"
    },
    {
     "data": {
      "application/vnd.jupyter.widget-view+json": {
       "model_id": "225b169db8924f539f420f5faf7ee5b5",
       "version_major": 2,
       "version_minor": 0
      },
      "text/plain": [
       "  0%|          | 0/1332 [00:00<?, ?it/s]"
      ]
     },
     "metadata": {},
     "output_type": "display_data"
    },
    {
     "name": "stdout",
     "output_type": "stream",
     "text": [
      "Epoch: 77 Learning rate: 0.00170, Train loss: 0.3091, Dev loss: 0.3136, Test loss: 0.3049, Test AUC: 0.9393\n",
      "[0. 0. 0. ... 0. 1. 1.] [0.0096691  0.08203632 0.06339306 ... 0.20778942 0.91575682 0.50545293]\n",
      "Predict   Flu       Not       \n",
      "Actual\n",
      "Flu       589       64        \n",
      "\n",
      "Not       92        587       \n",
      "\n",
      "\n",
      "True\n",
      "{'Flu': 0.8828828828828829, 'Not': 0.8828828828828829} {'Flu': 0.8832487195159082, 'Not': 0.8832487195159082}\n"
     ]
    },
    {
     "data": {
      "application/vnd.jupyter.widget-view+json": {
       "model_id": "5c3756994fcf492f8ffb2ec032563de4",
       "version_major": 2,
       "version_minor": 0
      },
      "text/plain": [
       "  0%|          | 0/5325 [00:00<?, ?it/s]"
      ]
     },
     "metadata": {},
     "output_type": "display_data"
    },
    {
     "name": "stdout",
     "output_type": "stream",
     "text": [
      "Not updated in weight_dg_x\n",
      "Not updated in bias_dg_x\n"
     ]
    },
    {
     "data": {
      "application/vnd.jupyter.widget-view+json": {
       "model_id": "551824eaf18d4046bb2f766b7f717172",
       "version_major": 2,
       "version_minor": 0
      },
      "text/plain": [
       "  0%|          | 0/1331 [00:00<?, ?it/s]"
      ]
     },
     "metadata": {},
     "output_type": "display_data"
    },
    {
     "data": {
      "application/vnd.jupyter.widget-view+json": {
       "model_id": "db06a02e9682496ebc97c1b172e850de",
       "version_major": 2,
       "version_minor": 0
      },
      "text/plain": [
       "  0%|          | 0/1332 [00:00<?, ?it/s]"
      ]
     },
     "metadata": {},
     "output_type": "display_data"
    },
    {
     "name": "stdout",
     "output_type": "stream",
     "text": [
      "Epoch: 78 Learning rate: 0.00153, Train loss: 0.3088, Dev loss: 0.3137, Test loss: 0.3049, Test AUC: 0.9392\n",
      "[0. 0. 0. ... 0. 1. 1.] [0.00966765 0.08159805 0.06465359 ... 0.20780967 0.9171167  0.50239462]\n",
      "Predict   Flu       Not       \n",
      "Actual\n",
      "Flu       588       65        \n",
      "\n",
      "Not       92        587       \n",
      "\n",
      "\n",
      "True\n",
      "{'Flu': 0.8821321321321322, 'Not': 0.8821321321321322} {'Flu': 0.8824830227318348, 'Not': 0.8824830227318348}\n"
     ]
    },
    {
     "data": {
      "application/vnd.jupyter.widget-view+json": {
       "model_id": "16c123e179d24052a2feadf0cebbf8e3",
       "version_major": 2,
       "version_minor": 0
      },
      "text/plain": [
       "  0%|          | 0/5325 [00:00<?, ?it/s]"
      ]
     },
     "metadata": {},
     "output_type": "display_data"
    },
    {
     "name": "stdout",
     "output_type": "stream",
     "text": [
      "Not updated in weight_dg_x\n",
      "Not updated in bias_dg_x\n"
     ]
    },
    {
     "data": {
      "application/vnd.jupyter.widget-view+json": {
       "model_id": "21a663a2e5f8427caa0f80dc0bfa2cb5",
       "version_major": 2,
       "version_minor": 0
      },
      "text/plain": [
       "  0%|          | 0/1331 [00:00<?, ?it/s]"
      ]
     },
     "metadata": {},
     "output_type": "display_data"
    },
    {
     "data": {
      "application/vnd.jupyter.widget-view+json": {
       "model_id": "c863e4f0db1d4f29ba2aca964069293b",
       "version_major": 2,
       "version_minor": 0
      },
      "text/plain": [
       "  0%|          | 0/1332 [00:00<?, ?it/s]"
      ]
     },
     "metadata": {},
     "output_type": "display_data"
    },
    {
     "name": "stdout",
     "output_type": "stream",
     "text": [
      "Epoch: 79 Learning rate: 0.00136, Train loss: 0.3084, Dev loss: 0.3137, Test loss: 0.3049, Test AUC: 0.9392\n",
      "[0. 0. 0. ... 0. 1. 1.] [0.00966607 0.08129654 0.06544665 ... 0.2073646  0.91784745 0.50511622]\n",
      "Predict   Flu       Not       \n",
      "Actual\n",
      "Flu       588       65        \n",
      "\n",
      "Not       92        587       \n",
      "\n",
      "\n",
      "True\n",
      "{'Flu': 0.8821321321321322, 'Not': 0.8821321321321322} {'Flu': 0.8824830227318348, 'Not': 0.8824830227318348}\n"
     ]
    },
    {
     "data": {
      "application/vnd.jupyter.widget-view+json": {
       "model_id": "67625e7a8c0e468fb1b0cf7c89c88cb8",
       "version_major": 2,
       "version_minor": 0
      },
      "text/plain": [
       "  0%|          | 0/5325 [00:00<?, ?it/s]"
      ]
     },
     "metadata": {},
     "output_type": "display_data"
    },
    {
     "name": "stdout",
     "output_type": "stream",
     "text": [
      "Not updated in weight_dg_x\n",
      "Not updated in bias_dg_x\n"
     ]
    },
    {
     "data": {
      "application/vnd.jupyter.widget-view+json": {
       "model_id": "d8e4bdf837c741c9b71ea50dbcc06c32",
       "version_major": 2,
       "version_minor": 0
      },
      "text/plain": [
       "  0%|          | 0/1331 [00:00<?, ?it/s]"
      ]
     },
     "metadata": {},
     "output_type": "display_data"
    },
    {
     "data": {
      "application/vnd.jupyter.widget-view+json": {
       "model_id": "79f6b449b4934be58ddb6b6a48b41251",
       "version_major": 2,
       "version_minor": 0
      },
      "text/plain": [
       "  0%|          | 0/1332 [00:00<?, ?it/s]"
      ]
     },
     "metadata": {},
     "output_type": "display_data"
    },
    {
     "name": "stdout",
     "output_type": "stream",
     "text": [
      "Epoch: 80 Learning rate: 0.00120, Train loss: 0.3081, Dev loss: 0.3137, Test loss: 0.3050, Test AUC: 0.9392\n",
      "[0. 0. 0. ... 0. 1. 1.] [0.0096441  0.08103789 0.06648298 ... 0.20685251 0.91874391 0.503932  ]\n",
      "Predict   Flu       Not       \n",
      "Actual\n",
      "Flu       588       65        \n",
      "\n",
      "Not       92        587       \n",
      "\n",
      "\n",
      "True\n",
      "{'Flu': 0.8821321321321322, 'Not': 0.8821321321321322} {'Flu': 0.8824830227318348, 'Not': 0.8824830227318348}\n"
     ]
    },
    {
     "data": {
      "application/vnd.jupyter.widget-view+json": {
       "model_id": "e0f849d871234f51b591768f935ed1c5",
       "version_major": 2,
       "version_minor": 0
      },
      "text/plain": [
       "  0%|          | 0/5325 [00:00<?, ?it/s]"
      ]
     },
     "metadata": {},
     "output_type": "display_data"
    },
    {
     "name": "stdout",
     "output_type": "stream",
     "text": [
      "Not updated in weight_dg_x\n",
      "Not updated in bias_dg_x\n"
     ]
    },
    {
     "data": {
      "application/vnd.jupyter.widget-view+json": {
       "model_id": "3d713769c48a4874ac65539d69cbf728",
       "version_major": 2,
       "version_minor": 0
      },
      "text/plain": [
       "  0%|          | 0/1331 [00:00<?, ?it/s]"
      ]
     },
     "metadata": {},
     "output_type": "display_data"
    },
    {
     "data": {
      "application/vnd.jupyter.widget-view+json": {
       "model_id": "3f358e3a2bbb44b98e12b1de53aa4306",
       "version_major": 2,
       "version_minor": 0
      },
      "text/plain": [
       "  0%|          | 0/1332 [00:00<?, ?it/s]"
      ]
     },
     "metadata": {},
     "output_type": "display_data"
    },
    {
     "name": "stdout",
     "output_type": "stream",
     "text": [
      "Epoch: 81 Learning rate: 0.00105, Train loss: 0.3078, Dev loss: 0.3137, Test loss: 0.3050, Test AUC: 0.9391\n",
      "[0. 0. 0. ... 0. 1. 1.] [0.00960814 0.08095853 0.06720021 ... 0.20667312 0.91953695 0.5034098 ]\n",
      "Predict   Flu       Not       \n",
      "Actual\n",
      "Flu       588       65        \n",
      "\n",
      "Not       92        587       \n",
      "\n",
      "\n",
      "True\n",
      "{'Flu': 0.8821321321321322, 'Not': 0.8821321321321322} {'Flu': 0.8824830227318348, 'Not': 0.8824830227318348}\n"
     ]
    },
    {
     "data": {
      "application/vnd.jupyter.widget-view+json": {
       "model_id": "3570075377064530a7f7b2a7a31b1029",
       "version_major": 2,
       "version_minor": 0
      },
      "text/plain": [
       "  0%|          | 0/5325 [00:00<?, ?it/s]"
      ]
     },
     "metadata": {},
     "output_type": "display_data"
    },
    {
     "name": "stdout",
     "output_type": "stream",
     "text": [
      "Not updated in weight_dg_x\n",
      "Not updated in bias_dg_x\n"
     ]
    },
    {
     "data": {
      "application/vnd.jupyter.widget-view+json": {
       "model_id": "c10f150462ab4004973a9314d534d64a",
       "version_major": 2,
       "version_minor": 0
      },
      "text/plain": [
       "  0%|          | 0/1331 [00:00<?, ?it/s]"
      ]
     },
     "metadata": {},
     "output_type": "display_data"
    },
    {
     "data": {
      "application/vnd.jupyter.widget-view+json": {
       "model_id": "0d6f273b0b4b4b56a57aaa353d699b9d",
       "version_major": 2,
       "version_minor": 0
      },
      "text/plain": [
       "  0%|          | 0/1332 [00:00<?, ?it/s]"
      ]
     },
     "metadata": {},
     "output_type": "display_data"
    },
    {
     "name": "stdout",
     "output_type": "stream",
     "text": [
      "Epoch: 82 Learning rate: 0.00091, Train loss: 0.3075, Dev loss: 0.3138, Test loss: 0.3052, Test AUC: 0.9391\n",
      "[0. 0. 0. ... 0. 1. 1.] [0.00958071 0.08067607 0.06808633 ... 0.20676284 0.92051548 0.4972485 ]\n",
      "Predict   Flu       Not       \n",
      "Actual\n",
      "Flu       587       66        \n",
      "\n",
      "Not       92        587       \n",
      "\n",
      "\n",
      "True\n",
      "{'Flu': 0.8813813813813813, 'Not': 0.8813813813813813} {'Flu': 0.8817173259477613, 'Not': 0.8817173259477613}\n"
     ]
    },
    {
     "data": {
      "application/vnd.jupyter.widget-view+json": {
       "model_id": "07eccfa29071436d8c0ce35e08c04708",
       "version_major": 2,
       "version_minor": 0
      },
      "text/plain": [
       "  0%|          | 0/5325 [00:00<?, ?it/s]"
      ]
     },
     "metadata": {},
     "output_type": "display_data"
    },
    {
     "name": "stdout",
     "output_type": "stream",
     "text": [
      "Not updated in weight_dg_x\n",
      "Not updated in bias_dg_x\n"
     ]
    },
    {
     "data": {
      "application/vnd.jupyter.widget-view+json": {
       "model_id": "61dd742929e64fbabec7a950289caae4",
       "version_major": 2,
       "version_minor": 0
      },
      "text/plain": [
       "  0%|          | 0/1331 [00:00<?, ?it/s]"
      ]
     },
     "metadata": {},
     "output_type": "display_data"
    },
    {
     "data": {
      "application/vnd.jupyter.widget-view+json": {
       "model_id": "8598d2b3801440d893c0d81111bc08f2",
       "version_major": 2,
       "version_minor": 0
      },
      "text/plain": [
       "  0%|          | 0/1332 [00:00<?, ?it/s]"
      ]
     },
     "metadata": {},
     "output_type": "display_data"
    },
    {
     "name": "stdout",
     "output_type": "stream",
     "text": [
      "Epoch: 83 Learning rate: 0.00078, Train loss: 0.3072, Dev loss: 0.3139, Test loss: 0.3054, Test AUC: 0.9391\n",
      "[0. 0. 0. ... 0. 1. 1.] [0.00956344 0.08036205 0.06883904 ... 0.20707557 0.92137146 0.49297422]\n",
      "Predict   Flu       Not       \n",
      "Actual\n",
      "Flu       587       66        \n",
      "\n",
      "Not       93        586       \n",
      "\n",
      "\n",
      "True\n",
      "{'Flu': 0.8806306306306306, 'Not': 0.8806306306306306} {'Flu': 0.8809809489227245, 'Not': 0.8809809489227245}\n"
     ]
    },
    {
     "data": {
      "application/vnd.jupyter.widget-view+json": {
       "model_id": "cdec354ac045474d90f71a0d22b3a634",
       "version_major": 2,
       "version_minor": 0
      },
      "text/plain": [
       "  0%|          | 0/5325 [00:00<?, ?it/s]"
      ]
     },
     "metadata": {},
     "output_type": "display_data"
    },
    {
     "name": "stdout",
     "output_type": "stream",
     "text": [
      "Not updated in weight_dg_x\n",
      "Not updated in bias_dg_x\n"
     ]
    },
    {
     "data": {
      "application/vnd.jupyter.widget-view+json": {
       "model_id": "e07a4ec7faa545b4886cc075f584fade",
       "version_major": 2,
       "version_minor": 0
      },
      "text/plain": [
       "  0%|          | 0/1331 [00:00<?, ?it/s]"
      ]
     },
     "metadata": {},
     "output_type": "display_data"
    },
    {
     "data": {
      "application/vnd.jupyter.widget-view+json": {
       "model_id": "97018987f10147379d798147c2f766ce",
       "version_major": 2,
       "version_minor": 0
      },
      "text/plain": [
       "  0%|          | 0/1332 [00:00<?, ?it/s]"
      ]
     },
     "metadata": {},
     "output_type": "display_data"
    },
    {
     "name": "stdout",
     "output_type": "stream",
     "text": [
      "Epoch: 84 Learning rate: 0.00066, Train loss: 0.3069, Dev loss: 0.3140, Test loss: 0.3055, Test AUC: 0.9390\n",
      "[0. 0. 0. ... 0. 1. 1.] [0.0095613  0.08029952 0.06975868 ... 0.20760103 0.9223749  0.49061203]\n",
      "Predict   Flu       Not       \n",
      "Actual\n",
      "Flu       587       66        \n",
      "\n",
      "Not       93        586       \n",
      "\n",
      "\n",
      "True\n",
      "{'Flu': 0.8806306306306306, 'Not': 0.8806306306306306} {'Flu': 0.8809809489227245, 'Not': 0.8809809489227245}\n"
     ]
    },
    {
     "data": {
      "application/vnd.jupyter.widget-view+json": {
       "model_id": "b4aa7cae4de24a00bada9f3f9c4fbc91",
       "version_major": 2,
       "version_minor": 0
      },
      "text/plain": [
       "  0%|          | 0/5325 [00:00<?, ?it/s]"
      ]
     },
     "metadata": {},
     "output_type": "display_data"
    },
    {
     "name": "stdout",
     "output_type": "stream",
     "text": [
      "Not updated in weight_dg_x\n",
      "Not updated in bias_dg_x\n"
     ]
    },
    {
     "data": {
      "application/vnd.jupyter.widget-view+json": {
       "model_id": "27efe584b13a43efb18a3702d488ea9a",
       "version_major": 2,
       "version_minor": 0
      },
      "text/plain": [
       "  0%|          | 0/1331 [00:00<?, ?it/s]"
      ]
     },
     "metadata": {},
     "output_type": "display_data"
    },
    {
     "data": {
      "application/vnd.jupyter.widget-view+json": {
       "model_id": "5d42ed7cbd7140fd9ee5b956c738798d",
       "version_major": 2,
       "version_minor": 0
      },
      "text/plain": [
       "  0%|          | 0/1332 [00:00<?, ?it/s]"
      ]
     },
     "metadata": {},
     "output_type": "display_data"
    },
    {
     "name": "stdout",
     "output_type": "stream",
     "text": [
      "Epoch: 85 Learning rate: 0.00055, Train loss: 0.3067, Dev loss: 0.3141, Test loss: 0.3055, Test AUC: 0.9390\n",
      "[0. 0. 0. ... 0. 1. 1.] [0.0095741  0.08041628 0.07069675 ... 0.20833574 0.92334378 0.49108386]\n",
      "Predict   Flu       Not       \n",
      "Actual\n",
      "Flu       587       66        \n",
      "\n",
      "Not       93        586       \n",
      "\n",
      "\n",
      "True\n",
      "{'Flu': 0.8806306306306306, 'Not': 0.8806306306306306} {'Flu': 0.8809809489227245, 'Not': 0.8809809489227245}\n"
     ]
    },
    {
     "data": {
      "application/vnd.jupyter.widget-view+json": {
       "model_id": "9239152ce6594815991f652e1430da59",
       "version_major": 2,
       "version_minor": 0
      },
      "text/plain": [
       "  0%|          | 0/5325 [00:00<?, ?it/s]"
      ]
     },
     "metadata": {},
     "output_type": "display_data"
    }
   ],
   "source": [
    "for epoch in tqdm(range(designated_epochs)):\n",
    "    losses, acc = [], []\n",
    "    label, pred = [], []\n",
    "    model.train()\n",
    "    temp_h_col = []\n",
    "    for train_data, train_label in tqdm(train_dataloader):\n",
    "        # Zero the parameter gradients\n",
    "        optimizer.zero_grad()\n",
    "        train_data = torch.squeeze(train_data)\n",
    "        train_label = torch.squeeze(train_label).view(-1,1)\n",
    "        \n",
    "        # Forward pass : Compute predicted y by passing train data to the model\n",
    "        y_pred = model(train_data).view(-1, 1)\n",
    "        \n",
    "        # Save predict and label\n",
    "        pred.append(y_pred.item() > 0.5)\n",
    "        label.append(train_label.item())\n",
    "        \n",
    "        # Compute loss\n",
    "        loss = criterion(y_pred, train_label)\n",
    "        acc.append(torch.eq((torch.sigmoid(y_pred).data > 0.5).float(), train_label))\n",
    "        losses.append(loss.item())\n",
    "        \n",
    "        # perform a backward pass, and update the weights.\n",
    "        loss.backward()\n",
    "        optimizer.step()## due to tpu?\n",
    "        #xm.optimizer_step(optimizer, barrier=True)\n",
    "        scheduler.step()\n",
    "    train_acc = torch.mean(torch.cat(acc).float())\n",
    "    train_loss = np.mean(losses)\n",
    "\n",
    "    train_pred_out = pred\n",
    "    train_label_out = label\n",
    "    \n",
    "    ##hidden_state_collect\n",
    "    h_collector[epoch] = temp_h_col\n",
    "    #label_collect.append(label)\n",
    "\n",
    "    # save new params\n",
    "    new_state_dict = {}\n",
    "    for key in model.state_dict():\n",
    "        new_state_dict[key] = model.state_dict()[key].clone()\n",
    "\n",
    "    # compare params\n",
    "    for key in old_state_dict:\n",
    "        if (old_state_dict[key] == new_state_dict[key]).all():\n",
    "            print('Not updated in {}'.format(key))\n",
    "                \n",
    "                \n",
    "    # dev loss\n",
    "    losses, acc = [], []\n",
    "    label, pred = [], []\n",
    "    model.eval()\n",
    "    for dev_data, dev_label in tqdm(dev_dataloader):\n",
    "        # Squeeze the data [1, 33, 49], [1,5] to [33, 49], [5]\n",
    "        dev_data = torch.squeeze(dev_data)\n",
    "        dev_label = torch.squeeze(dev_label).view(-1,1)\n",
    "\n",
    "        # Forward pass : Compute predicted y by passing train data to the model\n",
    "        y_pred = model(dev_data).view(-1,1)\n",
    "\n",
    "        # Save predict and label\n",
    "        pred.append(y_pred.item()) \n",
    "        label.append(dev_label.item())\n",
    "\n",
    "        # Compute loss\n",
    "        loss = criterion(y_pred, dev_label)\n",
    "        acc.append(torch.eq((torch.sigmoid(y_pred).data > 0.5).float(), dev_label))\n",
    "        losses.append(loss.item())\n",
    "\n",
    "    dev_acc = torch.mean(torch.cat(acc).float())\n",
    "    dev_loss = np.mean(losses)\n",
    "\n",
    "    dev_pred_out = pred\n",
    "    dev_label_out = label\n",
    "\n",
    "    # test loss\n",
    "    losses, acc = [], []\n",
    "    label, pred = [], []\n",
    "    model.eval()\n",
    "    for test_data, test_label in tqdm(test_dataloader):\n",
    "        \n",
    "        test_data = torch.squeeze(test_data)\n",
    "        test_label = torch.squeeze(test_label).view(-1,1)\n",
    "        \n",
    "        # Forward pass : Compute predicted y by passing train data to the model\n",
    "        y_pred = model(test_data).view(-1,1)\n",
    "\n",
    "        # Save predict and label\n",
    "        pred.append(y_pred.item()) \n",
    "        label.append(test_label.item())\n",
    "\n",
    "        # Compute loss\n",
    "        #loss = criterion(y_pred, test_label)\n",
    "        loss = criterion(y_pred, test_label)\n",
    "        acc.append(torch.eq((torch.sigmoid(y_pred).data > 0.5).float(), test_label))\n",
    "        losses.append(loss.item())\n",
    "            \n",
    "\n",
    "    test_acc = torch.mean(torch.cat(acc).float())\n",
    "    test_loss = np.mean(losses)\n",
    "\n",
    "    test_pred_out = pred\n",
    "    test_label_out = label\n",
    "    #print(pred, label)\n",
    "\n",
    "    epoch_losses.append([\n",
    "        train_loss, dev_loss, test_loss,\n",
    "        train_acc, dev_acc, test_acc,\n",
    "        train_pred_out, dev_pred_out, test_pred_out,\n",
    "        train_label_out, dev_label_out, test_label_out,\n",
    "    ])\n",
    "\n",
    "    pred = np.asarray(pred)\n",
    "    psuedo_pred = [int(round(x)) for x in pred]\n",
    "    pred_text = ['Flu' if x ==1 else 'Not' for x in psuedo_pred]\n",
    "    label = np.asarray(label)\n",
    "    label_text = ['Flu' if int(x) ==1 else 'Not' for x in label]\n",
    "    auc_score = roc_auc_score(label, pred)\n",
    "    \n",
    "    #print(label, psuedo_pred)\n",
    "    #raise\n",
    "\n",
    "    print(f\"Epoch: {epoch+1} Learning rate: {scheduler.get_last_lr()[0]:.5f}, Train loss: {train_loss:.4f}, Dev loss: {dev_loss:.4f}, Test loss: {test_loss:.4f}, Test AUC: {auc_score:.4f}\")\n",
    "    # save the parameters\n",
    "    auc_collector.append(auc_score)\n",
    "    acc_collector.append(test_acc.item())\n",
    "    lr_collector.append(scheduler.get_last_lr()[0])\n",
    "    train_log = []\n",
    "    train_log.append(model.state_dict())\n",
    "    torch.save(model.state_dict(), f\"{outpath_folder}/para_e_{str(epoch+1).zfill(3)}_lr_{scheduler.get_last_lr()[0]}.pt\")\n",
    "    print(label, pred)\n",
    "    cm = ConfusionMatrix(label_text, pred_text)\n",
    "    cm.print_matrix()\n",
    "    print(cm.binary)\n",
    "    print(cm.ACC, cm.AUC)"
   ]
  }
 ],
 "metadata": {
  "kernelspec": {
   "display_name": "Python 3",
   "language": "python",
   "name": "python3"
  },
  "language_info": {
   "codemirror_mode": {
    "name": "ipython",
    "version": 3
   },
   "file_extension": ".py",
   "mimetype": "text/x-python",
   "name": "python",
   "nbconvert_exporter": "python",
   "pygments_lexer": "ipython3",
   "version": "3.8.10"
  }
 },
 "nbformat": 4,
 "nbformat_minor": 4
}
