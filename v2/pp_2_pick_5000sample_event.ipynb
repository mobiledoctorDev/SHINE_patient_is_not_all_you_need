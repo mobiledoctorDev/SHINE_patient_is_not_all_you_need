{
 "cells": [
  {
   "cell_type": "code",
   "execution_count": 18,
   "metadata": {
    "_cell_guid": "b0cd6b7e-cf85-4554-9638-d3938e50d3d4",
    "_uuid": "1ce15c29-95f5-4c96-9124-5786feee8d91",
    "jupyter": {
     "outputs_hidden": false
    }
   },
   "outputs": [],
   "source": [
    "#%%\n",
    "import pandas as pd\n",
    "import warnings\n",
    "import os\n",
    "import datetime\n",
    "import gc\n",
    "from tqdm.auto import tqdm\n",
    "import shutil, random\n",
    "\n",
    "import pickle\n",
    "import itertools\n",
    "import logging\n",
    "\n",
    "logger = logging.getLogger()\n",
    "logger.setLevel(logging.DEBUG)\n",
    "\n",
    "warnings.simplefilter(action='ignore', category=FutureWarning)\n",
    "# os.umask(0)\n",
    "\n",
    "# from pandarallel import pandarallel\n",
    "# pandarallel.initialize(nb_workers=4, progress_bar=True)\n"
   ]
  },
  {
   "cell_type": "markdown",
   "metadata": {},
   "source": [
    "# Load files and sample 5000 from it"
   ]
  },
  {
   "cell_type": "code",
   "execution_count": 19,
   "metadata": {},
   "outputs": [
    {
     "data": {
      "text/plain": [
       "'v2_episode/2021-12-16/postprocessed'"
      ]
     },
     "execution_count": 19,
     "metadata": {},
     "output_type": "execute_result"
    }
   ],
   "source": [
    "root_path = os.path.join(\"v2_episode\", \"2021-12-16\", \"postprocessed\")\n",
    "root_path"
   ]
  },
  {
   "cell_type": "code",
   "execution_count": 20,
   "metadata": {},
   "outputs": [
    {
     "data": {
      "text/plain": [
       "226655"
      ]
     },
     "execution_count": 20,
     "metadata": {},
     "output_type": "execute_result"
    }
   ],
   "source": [
    "files = os.listdir(root_path)\n",
    "len(files)"
   ]
  },
  {
   "cell_type": "code",
   "execution_count": 24,
   "metadata": {},
   "outputs": [
    {
     "name": "stdout",
     "output_type": "stream",
     "text": [
      "5000 ['59606__66868__13.csv', '95415__154559__5.csv', '68718__84593__1.csv', '54349__57047__12.csv', '175039__429127__4.csv']\n"
     ]
    }
   ],
   "source": [
    "random.seed(1212)\n",
    "\n",
    "sample_size = 5000\n",
    "sample_files = random.sample(files, sample_size)\n",
    "print(len(sample_files), sample_files[:5])"
   ]
  },
  {
   "cell_type": "markdown",
   "metadata": {},
   "source": [
    "# Copy sampled files"
   ]
  },
  {
   "cell_type": "code",
   "execution_count": 36,
   "metadata": {},
   "outputs": [],
   "source": [
    "from pathlib import Path\n",
    "\n",
    "target_dir = \"./data/v2_episode_small\"\n",
    "Path(target_dir).mkdir(exist_ok=True)"
   ]
  },
  {
   "cell_type": "code",
   "execution_count": 38,
   "metadata": {
    "scrolled": true
   },
   "outputs": [
    {
     "name": "stdout",
     "output_type": "stream",
     "text": [
      "file copy: 0 ./data/v2_episode_small/59606__66868__13.csv\n",
      "file copy: 1000 ./data/v2_episode_small/23155__13502__7.csv\n",
      "file copy: 2000 ./data/v2_episode_small/87105__131604__10.csv\n",
      "file copy: 3000 ./data/v2_episode_small/31074__22034__1.csv\n",
      "file copy: 4000 ./data/v2_episode_small/220493__703792__1.csv\n"
     ]
    }
   ],
   "source": [
    "for i, filename in enumerate(sample_files):\n",
    "    src_filepath = os.path.join(root_path, filename)\n",
    "    dst_filepath = os.path.join(target_dir, filename)\n",
    "    if i % 1000 == 0:\n",
    "        print(\"file copy:\", i, dst_filepath)\n",
    "    shutil.copyfile(src_filepath, dst_filepath)\n",
    "    "
   ]
  },
  {
   "cell_type": "markdown",
   "metadata": {},
   "source": [
    "# Copy original files"
   ]
  },
  {
   "cell_type": "code",
   "execution_count": 39,
   "metadata": {},
   "outputs": [
    {
     "name": "stdout",
     "output_type": "stream",
     "text": [
      "file copy: 0 ./data/v2_episode/197572__542299__2.csv\n",
      "file copy: 10000 ./data/v2_episode/219851__698083__2.csv\n",
      "file copy: 20000 ./data/v2_episode/223012__729495__4.csv\n",
      "file copy: 30000 ./data/v2_episode/160167__364637__1.csv\n",
      "file copy: 40000 ./data/v2_episode/82887__120800__3.csv\n",
      "file copy: 50000 ./data/v2_episode/32333__23620__5.csv\n",
      "file copy: 60000 ./data/v2_episode/67108__81305__20.csv\n",
      "file copy: 70000 ./data/v2_episode/227763__779532__1.csv\n",
      "file copy: 80000 ./data/v2_episode/60204__67986__7.csv\n",
      "file copy: 90000 ./data/v2_episode/113958__208370__7.csv\n",
      "file copy: 100000 ./data/v2_episode/27197__17086__30.csv\n",
      "file copy: 110000 ./data/v2_episode/193624__519293__1.csv\n",
      "file copy: 120000 ./data/v2_episode/47915__46628__21.csv\n",
      "file copy: 130000 ./data/v2_episode/229748__802177__1.csv\n",
      "file copy: 140000 ./data/v2_episode/125888__243452__10.csv\n",
      "file copy: 150000 ./data/v2_episode/28661__18895__1.csv\n",
      "file copy: 160000 ./data/v2_episode/205107__588945__5.csv\n"
     ]
    },
    {
     "ename": "FileNotFoundError",
     "evalue": "[Errno 2] No such file or directory: './data/v2_episode/108830__192235__1.csv'",
     "output_type": "error",
     "traceback": [
      "\u001b[0;31m---------------------------------------------------------------------------\u001b[0m",
      "\u001b[0;31mFileNotFoundError\u001b[0m                         Traceback (most recent call last)",
      "\u001b[0;32m<ipython-input-39-cdc1295c95a1>\u001b[0m in \u001b[0;36m<module>\u001b[0;34m\u001b[0m\n\u001b[1;32m      7\u001b[0m     \u001b[0;32mif\u001b[0m \u001b[0mi\u001b[0m \u001b[0;34m%\u001b[0m \u001b[0;36m10000\u001b[0m \u001b[0;34m==\u001b[0m \u001b[0;36m0\u001b[0m\u001b[0;34m:\u001b[0m\u001b[0;34m\u001b[0m\u001b[0;34m\u001b[0m\u001b[0m\n\u001b[1;32m      8\u001b[0m         \u001b[0mprint\u001b[0m\u001b[0;34m(\u001b[0m\u001b[0;34m\"file copy:\"\u001b[0m\u001b[0;34m,\u001b[0m \u001b[0mi\u001b[0m\u001b[0;34m,\u001b[0m \u001b[0mdst_filepath\u001b[0m\u001b[0;34m)\u001b[0m\u001b[0;34m\u001b[0m\u001b[0;34m\u001b[0m\u001b[0m\n\u001b[0;32m----> 9\u001b[0;31m     \u001b[0mshutil\u001b[0m\u001b[0;34m.\u001b[0m\u001b[0mcopyfile\u001b[0m\u001b[0;34m(\u001b[0m\u001b[0msrc_filepath\u001b[0m\u001b[0;34m,\u001b[0m \u001b[0mdst_filepath\u001b[0m\u001b[0;34m)\u001b[0m\u001b[0;34m\u001b[0m\u001b[0;34m\u001b[0m\u001b[0m\n\u001b[0m",
      "\u001b[0;32m~/anaconda3/envs/flu_pred/lib/python3.7/shutil.py\u001b[0m in \u001b[0;36mcopyfile\u001b[0;34m(src, dst, follow_symlinks)\u001b[0m\n\u001b[1;32m    119\u001b[0m     \u001b[0;32melse\u001b[0m\u001b[0;34m:\u001b[0m\u001b[0;34m\u001b[0m\u001b[0;34m\u001b[0m\u001b[0m\n\u001b[1;32m    120\u001b[0m         \u001b[0;32mwith\u001b[0m \u001b[0mopen\u001b[0m\u001b[0;34m(\u001b[0m\u001b[0msrc\u001b[0m\u001b[0;34m,\u001b[0m \u001b[0;34m'rb'\u001b[0m\u001b[0;34m)\u001b[0m \u001b[0;32mas\u001b[0m \u001b[0mfsrc\u001b[0m\u001b[0;34m:\u001b[0m\u001b[0;34m\u001b[0m\u001b[0;34m\u001b[0m\u001b[0m\n\u001b[0;32m--> 121\u001b[0;31m             \u001b[0;32mwith\u001b[0m \u001b[0mopen\u001b[0m\u001b[0;34m(\u001b[0m\u001b[0mdst\u001b[0m\u001b[0;34m,\u001b[0m \u001b[0;34m'wb'\u001b[0m\u001b[0;34m)\u001b[0m \u001b[0;32mas\u001b[0m \u001b[0mfdst\u001b[0m\u001b[0;34m:\u001b[0m\u001b[0;34m\u001b[0m\u001b[0;34m\u001b[0m\u001b[0m\n\u001b[0m\u001b[1;32m    122\u001b[0m                 \u001b[0mcopyfileobj\u001b[0m\u001b[0;34m(\u001b[0m\u001b[0mfsrc\u001b[0m\u001b[0;34m,\u001b[0m \u001b[0mfdst\u001b[0m\u001b[0;34m)\u001b[0m\u001b[0;34m\u001b[0m\u001b[0;34m\u001b[0m\u001b[0m\n\u001b[1;32m    123\u001b[0m     \u001b[0;32mreturn\u001b[0m \u001b[0mdst\u001b[0m\u001b[0;34m\u001b[0m\u001b[0;34m\u001b[0m\u001b[0m\n",
      "\u001b[0;31mFileNotFoundError\u001b[0m: [Errno 2] No such file or directory: './data/v2_episode/108830__192235__1.csv'"
     ]
    }
   ],
   "source": [
    "target_dir = \"./data/v2_episode\"\n",
    "Path(target_dir).mkdir(exist_ok=True)\n",
    "\n",
    "for i, filename in enumerate(files):\n",
    "    src_filepath = os.path.join(root_path, filename)\n",
    "    dst_filepath = os.path.join(target_dir, filename)\n",
    "    if i % 10000 == 0:\n",
    "        print(\"file copy:\", i, dst_filepath)\n",
    "    shutil.copyfile(src_filepath, dst_filepath)"
   ]
  },
  {
   "cell_type": "code",
   "execution_count": null,
   "metadata": {},
   "outputs": [],
   "source": []
  }
 ],
 "metadata": {
  "kernelspec": {
   "display_name": "Python 3",
   "language": "python",
   "name": "python3"
  },
  "language_info": {
   "codemirror_mode": {
    "name": "ipython",
    "version": 3
   },
   "file_extension": ".py",
   "mimetype": "text/x-python",
   "name": "python",
   "nbconvert_exporter": "python",
   "pygments_lexer": "ipython3",
   "version": "3.7.9"
  }
 },
 "nbformat": 4,
 "nbformat_minor": 4
}
