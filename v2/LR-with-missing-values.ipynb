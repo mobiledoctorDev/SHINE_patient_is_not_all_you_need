{
 "cells": [
  {
   "cell_type": "code",
   "execution_count": 97,
   "id": "0cc0c9f5",
   "metadata": {},
   "outputs": [],
   "source": [
    "import os,sys\n",
    "import numpy as np\n",
    "import pandas as pd\n",
    "import matplotlib.pyplot as plt\n",
    "import numpy as np\n",
    "\n",
    "from sklearn.linear_model import LogisticRegression\n",
    "from sklearn.metrics import classification_report, confusion_matrix\n",
    "import seaborn as sns\n",
    "sns.set()"
   ]
  },
  {
   "cell_type": "code",
   "execution_count": 103,
   "id": "55fcdf7c",
   "metadata": {},
   "outputs": [],
   "source": [
    "\n",
    "def train_with_filling(fill_value=0, max_iter=100):\n",
    "    x_original = np.array([[1, 0, 1], [0, 0, 1]])\n",
    "    x_missing = np.array(([[fill_value, 1, 0], [fill_value, 1, 0]]))\n",
    "    x = np.concatenate([x_original, x_missing], axis=0)\n",
    "    y = np.array([1, 0, 1, 0])\n",
    "    print(\"train_data:\")\n",
    "    display(x)\n",
    "    print(\"label_data:\")\n",
    "    display(y)\n",
    "\n",
    "    model = LogisticRegression(solver='liblinear', max_iter=max_iter)\n",
    "    model.fit(x, y)\n",
    "    print(\"model.intercept_:\", model.intercept_, \", model.coef_:\", model.coef_)\n",
    "    return model\n",
    "\n",
    "def run_lr_with_filling_value(fill_value=0):\n",
    "    model = train_with_filling(fill_value=fill_value, max_iter=1000000)\n",
    "    return model.predict_proba([\n",
    "        [1, 0, 1], \n",
    "        [0, 0, 1],\n",
    "        [fill_value, 1, 0], \n",
    "        [fill_value, 1, 0],\n",
    "    ])\n"
   ]
  },
  {
   "cell_type": "markdown",
   "id": "3dde5519",
   "metadata": {},
   "source": [
    "### missing value를 0으로 채운다면?"
   ]
  },
  {
   "cell_type": "code",
   "execution_count": 104,
   "id": "ff552896",
   "metadata": {},
   "outputs": [
    {
     "name": "stdout",
     "output_type": "stream",
     "text": [
      "train_data:\n"
     ]
    },
    {
     "data": {
      "text/plain": [
       "array([[1, 0, 1],\n",
       "       [0, 0, 1],\n",
       "       [0, 1, 0],\n",
       "       [0, 1, 0]])"
      ]
     },
     "metadata": {},
     "output_type": "display_data"
    },
    {
     "name": "stdout",
     "output_type": "stream",
     "text": [
      "label_data:\n"
     ]
    },
    {
     "data": {
      "text/plain": [
       "array([1, 0, 1, 0])"
      ]
     },
     "metadata": {},
     "output_type": "display_data"
    },
    {
     "name": "stdout",
     "output_type": "stream",
     "text": [
      "model.intercept_: [-0.04173375] , model.coef_: [[ 0.4200274   0.0139107  -0.05564445]]\n"
     ]
    },
    {
     "data": {
      "text/plain": [
       "array([[0.42003025, 0.57996975],\n",
       "       [0.52432533, 0.47567467],\n",
       "       [0.50695532, 0.49304468],\n",
       "       [0.50695532, 0.49304468]])"
      ]
     },
     "execution_count": 104,
     "metadata": {},
     "output_type": "execute_result"
    }
   ],
   "source": [
    "run_lr_with_filling_value(0)"
   ]
  },
  {
   "cell_type": "markdown",
   "id": "28f5ea1f",
   "metadata": {},
   "source": [
    "### missing value를 1으로 채운다면?"
   ]
  },
  {
   "cell_type": "code",
   "execution_count": 105,
   "id": "5efe4bcd",
   "metadata": {},
   "outputs": [
    {
     "name": "stdout",
     "output_type": "stream",
     "text": [
      "train_data:\n"
     ]
    },
    {
     "data": {
      "text/plain": [
       "array([[1, 0, 1],\n",
       "       [0, 0, 1],\n",
       "       [1, 1, 0],\n",
       "       [1, 1, 0]])"
      ]
     },
     "metadata": {},
     "output_type": "display_data"
    },
    {
     "name": "stdout",
     "output_type": "stream",
     "text": [
      "label_data:\n"
     ]
    },
    {
     "data": {
      "text/plain": [
       "array([1, 0, 1, 0])"
      ]
     },
     "metadata": {},
     "output_type": "display_data"
    },
    {
     "name": "stdout",
     "output_type": "stream",
     "text": [
      "model.intercept_: [-0.10768277] , model.coef_: [[ 0.35946944 -0.0837975  -0.02388527]]\n"
     ]
    },
    {
     "data": {
      "text/plain": [
       "array([[0.44326998, 0.55673002],\n",
       "       [0.53284465, 0.46715535],\n",
       "       [0.4581012 , 0.5418988 ],\n",
       "       [0.4581012 , 0.5418988 ]])"
      ]
     },
     "execution_count": 105,
     "metadata": {},
     "output_type": "execute_result"
    }
   ],
   "source": [
    "run_lr_with_filling_value(1)"
   ]
  },
  {
   "cell_type": "markdown",
   "id": "04c02bc8",
   "metadata": {},
   "source": [
    "### missing value를 0.5으로 채운다면?"
   ]
  },
  {
   "cell_type": "code",
   "execution_count": 107,
   "id": "e3036830",
   "metadata": {},
   "outputs": [
    {
     "name": "stdout",
     "output_type": "stream",
     "text": [
      "train_data:\n"
     ]
    },
    {
     "data": {
      "text/plain": [
       "array([[1. , 0. , 1. ],\n",
       "       [0. , 0. , 1. ],\n",
       "       [0.5, 1. , 0. ],\n",
       "       [0.5, 1. , 0. ]])"
      ]
     },
     "metadata": {},
     "output_type": "display_data"
    },
    {
     "name": "stdout",
     "output_type": "stream",
     "text": [
      "label_data:\n"
     ]
    },
    {
     "data": {
      "text/plain": [
       "array([1, 0, 1, 0])"
      ]
     },
     "metadata": {},
     "output_type": "display_data"
    },
    {
     "name": "stdout",
     "output_type": "stream",
     "text": [
      "model.intercept_: [-0.08150296] , model.coef_: [[ 0.40845284 -0.04089264 -0.04061031]]\n"
     ]
    },
    {
     "data": {
      "text/plain": [
       "array([[0.42890024, 0.57109976],\n",
       "       [0.53049044, 0.46950956],\n",
       "       [0.4795537 , 0.5204463 ],\n",
       "       [0.4795537 , 0.5204463 ]])"
      ]
     },
     "execution_count": 107,
     "metadata": {},
     "output_type": "execute_result"
    }
   ],
   "source": [
    "run_lr_with_filling_value(0.5)"
   ]
  },
  {
   "cell_type": "markdown",
   "id": "bb498d6b",
   "metadata": {},
   "source": [
    "### missing value를 99로 채운다면?"
   ]
  },
  {
   "cell_type": "code",
   "execution_count": 108,
   "id": "18caa033",
   "metadata": {},
   "outputs": [
    {
     "name": "stdout",
     "output_type": "stream",
     "text": [
      "train_data:\n"
     ]
    },
    {
     "data": {
      "text/plain": [
       "array([[ 1,  0,  1],\n",
       "       [ 0,  0,  1],\n",
       "       [99,  1,  0],\n",
       "       [99,  1,  0]])"
      ]
     },
     "metadata": {},
     "output_type": "display_data"
    },
    {
     "name": "stdout",
     "output_type": "stream",
     "text": [
      "label_data:\n"
     ]
    },
    {
     "data": {
      "text/plain": [
       "array([1, 0, 1, 0])"
      ]
     },
     "metadata": {},
     "output_type": "display_data"
    },
    {
     "name": "stdout",
     "output_type": "stream",
     "text": [
      "model.intercept_: [-0.0038149] , model.coef_: [[ 0.0001917  -0.00505459  0.00123968]]\n"
     ]
    },
    {
     "data": {
      "text/plain": [
       "array([[0.50059588, 0.49940412],\n",
       "       [0.5006438 , 0.4993562 ],\n",
       "       [0.49747271, 0.50252729],\n",
       "       [0.49747271, 0.50252729]])"
      ]
     },
     "execution_count": 108,
     "metadata": {},
     "output_type": "execute_result"
    }
   ],
   "source": [
    "run_lr_with_filling_value(99)"
   ]
  },
  {
   "cell_type": "markdown",
   "id": "bb44abc6",
   "metadata": {},
   "source": [
    "### missing value를 -1로 채운다면?"
   ]
  },
  {
   "cell_type": "code",
   "execution_count": 109,
   "id": "1294a30f",
   "metadata": {},
   "outputs": [
    {
     "name": "stdout",
     "output_type": "stream",
     "text": [
      "train_data:\n"
     ]
    },
    {
     "data": {
      "text/plain": [
       "array([[ 1,  0,  1],\n",
       "       [ 0,  0,  1],\n",
       "       [-1,  1,  0],\n",
       "       [-1,  1,  0]])"
      ]
     },
     "metadata": {},
     "output_type": "display_data"
    },
    {
     "name": "stdout",
     "output_type": "stream",
     "text": [
      "label_data:\n"
     ]
    },
    {
     "data": {
      "text/plain": [
       "array([1, 0, 1, 0])"
      ]
     },
     "metadata": {},
     "output_type": "display_data"
    },
    {
     "name": "stdout",
     "output_type": "stream",
     "text": [
      "model.intercept_: [0.03291574] , model.coef_: [[ 0.32829413  0.0982475  -0.06533176]]\n"
     ]
    },
    {
     "data": {
      "text/plain": [
       "array([[0.42656542, 0.57343458],\n",
       "       [0.50810329, 0.49189671],\n",
       "       [0.54912374, 0.45087626],\n",
       "       [0.54912374, 0.45087626]])"
      ]
     },
     "execution_count": 109,
     "metadata": {},
     "output_type": "execute_result"
    }
   ],
   "source": [
    "run_lr_with_filling_value(-1)"
   ]
  },
  {
   "cell_type": "code",
   "execution_count": 8,
   "id": "0aad8157",
   "metadata": {},
   "outputs": [],
   "source": [
    "import torch"
   ]
  },
  {
   "cell_type": "code",
   "execution_count": 9,
   "id": "ca9d4d1d",
   "metadata": {},
   "outputs": [],
   "source": [
    "import torch\n",
    "import torch.nn as nn\n",
    "import torch.nn.functional as F\n",
    "\n",
    "\n",
    "class Net(nn.Module):\n",
    "\n",
    "    def __init__(self):\n",
    "        super().__init__()\n",
    "        self.fc = nn.Linear(in_features=2, out_features=1)\n",
    "        self.activation = nn.Sigmoid()\n",
    "        \n",
    "    def forward(self, x):\n",
    "        x = self.fc(x)\n",
    "        x = self.activation(x)\n",
    "        return x\n"
   ]
  },
  {
   "cell_type": "code",
   "execution_count": null,
   "id": "09271981",
   "metadata": {},
   "outputs": [],
   "source": []
  },
  {
   "cell_type": "code",
   "execution_count": 10,
   "id": "e3b40526",
   "metadata": {},
   "outputs": [],
   "source": [
    "import torch.optim as optim"
   ]
  },
  {
   "cell_type": "code",
   "execution_count": null,
   "id": "daa8f742",
   "metadata": {},
   "outputs": [],
   "source": []
  },
  {
   "cell_type": "code",
   "execution_count": 86,
   "id": "022476fb",
   "metadata": {},
   "outputs": [
    {
     "name": "stdout",
     "output_type": "stream",
     "text": [
      "Net(\n",
      "  (fc): Linear(in_features=2, out_features=1, bias=True)\n",
      "  (activation): Sigmoid()\n",
      ")\n",
      "Parameter containing:\n",
      "tensor([[-0.2977, -0.5740]], requires_grad=True) Parameter containing:\n",
      "tensor([-0.2817], requires_grad=True)\n"
     ]
    }
   ],
   "source": []
  },
  {
   "cell_type": "code",
   "execution_count": 87,
   "id": "25115850",
   "metadata": {},
   "outputs": [],
   "source": []
  },
  {
   "cell_type": "code",
   "execution_count": 118,
   "id": "d38681be",
   "metadata": {
    "scrolled": true
   },
   "outputs": [
    {
     "name": "stdout",
     "output_type": "stream",
     "text": [
      "Net(\n",
      "  (fc): Linear(in_features=2, out_features=1, bias=True)\n",
      "  (activation): Sigmoid()\n",
      ")\n",
      "Parameter containing:\n",
      "tensor([[-0.4012, -0.1320]], requires_grad=True) Parameter containing:\n",
      "tensor([-0.1413], requires_grad=True)\n"
     ]
    },
    {
     "data": {
      "text/plain": [
       "Net(\n",
       "  (fc): Linear(in_features=2, out_features=1, bias=True)\n",
       "  (activation): Sigmoid()\n",
       ")"
      ]
     },
     "execution_count": 118,
     "metadata": {},
     "output_type": "execute_result"
    }
   ],
   "source": [
    "net = Net()\n",
    "print(net)\n",
    "print(net.fc.weight, net.fc.bias)\n",
    "\n",
    "# weight = net.fc.weight          # Weights in the first convolution layer\n",
    "# weight\n",
    "# # Detach and create a numpy copy, do some modifications on it\n",
    "# weight = weight.detach().numpy()\n",
    "# weight[0,1] = -0.1\n",
    "# net.fc.weight = torch.nn.Parameter(torch.from_numpy(weight))\n",
    "\n",
    "fill_value = 2\n",
    "input_data = torch.tensor(\n",
    "    np.array([\n",
    "        [ 1,  0],\n",
    "        [ 0,  0],\n",
    "       [fill_value,  1],\n",
    "       [fill_value,  1],])).type(torch.float)\n",
    "labels = torch.tensor([[1.0],[0.0],[1.0],[0.0]])\n",
    "\n",
    "optimizer = optim.SGD(net.parameters(), lr=0.1)\n",
    "criterion = nn.BCELoss()\n",
    "\n",
    "net.train(True)   "
   ]
  },
  {
   "cell_type": "code",
   "execution_count": 119,
   "id": "d5968e88",
   "metadata": {},
   "outputs": [
    {
     "name": "stdout",
     "output_type": "stream",
     "text": [
      "loss: tensor(0.3494, grad_fn=<BinaryCrossEntropyBackward0>)\n",
      "Parameter containing:\n",
      "tensor([[ 10.3347, -15.3520]], requires_grad=True) Parameter containing:\n",
      "tensor([-5.3125], requires_grad=True)\n",
      "tensor([[0.9935],\n",
      "        [0.0049],\n",
      "        [0.5012],\n",
      "        [0.5012]], grad_fn=<SigmoidBackward0>)\n",
      "loss: tensor(0.3480, grad_fn=<BinaryCrossEntropyBackward0>)\n",
      "Parameter containing:\n",
      "tensor([[ 11.7437, -17.4684]], requires_grad=True) Parameter containing:\n",
      "tensor([-6.0165], requires_grad=True)\n",
      "tensor([[0.9968],\n",
      "        [0.0024],\n",
      "        [0.5006],\n",
      "        [0.5006]], grad_fn=<SigmoidBackward0>)\n"
     ]
    }
   ],
   "source": [
    " \n",
    "for i in range(100000):\n",
    "    # in your training loop:\n",
    "    optimizer.zero_grad()   # zero the gradient buffers\n",
    "\n",
    "    out = net(input_data)\n",
    "    loss = criterion(out, labels)\n",
    "    loss.backward()\n",
    "    optimizer.step()    # Does the update\n",
    "    \n",
    "    if (i+1) % 50000 == 0:\n",
    "        print('loss:', loss)\n",
    "        print(net.fc.weight, net.fc.bias)\n",
    "        print(out)\n"
   ]
  },
  {
   "cell_type": "code",
   "execution_count": null,
   "id": "1245dce5",
   "metadata": {},
   "outputs": [],
   "source": []
  },
  {
   "cell_type": "code",
   "execution_count": null,
   "id": "30777801",
   "metadata": {},
   "outputs": [],
   "source": []
  }
 ],
 "metadata": {
  "kernelspec": {
   "display_name": "py38",
   "language": "python",
   "name": "py38"
  },
  "language_info": {
   "codemirror_mode": {
    "name": "ipython",
    "version": 3
   },
   "file_extension": ".py",
   "mimetype": "text/x-python",
   "name": "python",
   "nbconvert_exporter": "python",
   "pygments_lexer": "ipython3",
   "version": "3.8.13"
  }
 },
 "nbformat": 4,
 "nbformat_minor": 5
}