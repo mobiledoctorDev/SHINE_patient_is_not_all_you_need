{
 "cells": [
  {
   "cell_type": "code",
   "execution_count": 37,
   "id": "69c7f250",
   "metadata": {},
   "outputs": [],
   "source": [
    "import pandas as pd\n",
    "import numpy as np\n",
    "import math"
   ]
  },
  {
   "cell_type": "code",
   "execution_count": 38,
   "id": "03206400",
   "metadata": {},
   "outputs": [
    {
     "name": "stderr",
     "output_type": "stream",
     "text": [
      "/home/md/anaconda3/envs/flu_screening/lib/python3.8/site-packages/IPython/core/interactiveshell.py:3165: DtypeWarning: Columns (10) have mixed types.Specify dtype option on import or set low_memory=False.\n",
      "  has_raised = await self.run_ast_nodes(code_ast.body, cell_name,\n",
      "/home/md/anaconda3/envs/flu_screening/lib/python3.8/site-packages/IPython/core/interactiveshell.py:3165: DtypeWarning: Columns (7,10) have mixed types.Specify dtype option on import or set low_memory=False.\n",
      "  has_raised = await self.run_ast_nodes(code_ast.body, cell_name,\n",
      "/home/md/anaconda3/envs/flu_screening/lib/python3.8/site-packages/IPython/core/interactiveshell.py:3165: DtypeWarning: Columns (10,11) have mixed types.Specify dtype option on import or set low_memory=False.\n",
      "  has_raised = await self.run_ast_nodes(code_ast.body, cell_name,\n",
      "/home/md/anaconda3/envs/flu_screening/lib/python3.8/site-packages/IPython/core/interactiveshell.py:3165: DtypeWarning: Columns (8,10,11) have mixed types.Specify dtype option on import or set low_memory=False.\n",
      "  has_raised = await self.run_ast_nodes(code_ast.body, cell_name,\n"
     ]
    }
   ],
   "source": [
    "df_md_baby_20190607 = pd.read_csv('md_baby_20190607.csv')\n",
    "df_md_data_2019_1 = pd.read_csv('./mddata_2019/md_data_2019_1.csv')\n",
    "df_md_data_2019_2 = pd.read_csv('./mddata_2019/md_data_2019_2.csv')\n",
    "df_md_data_2019_3 = pd.read_csv('./mddata_2019/md_data_2019_3.csv')\n",
    "df_md_data_2019_4 = pd.read_csv('./mddata_2019/md_data_2019_4.csv')\n",
    "df_md_data_2019_5 = pd.read_csv('./mddata_2019/md_data_2019_5.csv')"
   ]
  },
  {
   "cell_type": "code",
   "execution_count": 39,
   "id": "ddba5594",
   "metadata": {},
   "outputs": [],
   "source": [
    "df_md_baby_20190607 = df_md_baby_20190607[df_md_baby_20190607['name'] != 'test']"
   ]
  },
  {
   "cell_type": "code",
   "execution_count": 40,
   "id": "70bfe300",
   "metadata": {},
   "outputs": [
    {
     "data": {
      "text/plain": [
       "(464608, 1067152)"
      ]
     },
     "execution_count": 40,
     "metadata": {},
     "output_type": "execute_result"
    }
   ],
   "source": [
    "df_md_baby_20190607.shape[0], df_md_data_2019_1.shape[0]"
   ]
  },
  {
   "cell_type": "code",
   "execution_count": 41,
   "id": "1ae97342",
   "metadata": {},
   "outputs": [
    {
     "data": {
      "text/plain": [
       "Index(['_id', 'baby_id', 'app_code', 'group_id', 'type', 'data_1', 'data_2',\n",
       "       'data_3', 'data_4', 'data_5', 'data_6', 'data_7', 'data_8', 'lat',\n",
       "       'lng', 'weight', 'memo', 'date', 'last_update_de', 'is_test',\n",
       "       'is_delete'],\n",
       "      dtype='object')"
      ]
     },
     "execution_count": 41,
     "metadata": {},
     "output_type": "execute_result"
    }
   ],
   "source": [
    "df_md_data_2019_1.columns"
   ]
  },
  {
   "cell_type": "code",
   "execution_count": 42,
   "id": "266b5ce2",
   "metadata": {},
   "outputs": [
    {
     "data": {
      "text/plain": [
       "Index(['_id', 'user_sn', 'name', 'birthday', 'gender', 'weight',\n",
       "       'next_check_time', 'sensing_gaps', 'convulsion', 'url_baby_photo',\n",
       "       'last_update_de', 'last_update_id', 'is_delete'],\n",
       "      dtype='object')"
      ]
     },
     "execution_count": 42,
     "metadata": {},
     "output_type": "execute_result"
    }
   ],
   "source": [
    "df_md_baby_20190607.columns"
   ]
  },
  {
   "cell_type": "code",
   "execution_count": 43,
   "id": "21a0c9ff",
   "metadata": {},
   "outputs": [],
   "source": [
    "df_join_2019_1 = pd.merge(df_md_baby_20190607, df_md_data_2019_1, left_on='_id', right_on='baby_id', how='right')"
   ]
  },
  {
   "cell_type": "code",
   "execution_count": 44,
   "id": "167a6a47",
   "metadata": {},
   "outputs": [],
   "source": [
    "def weight_filter(df):\n",
    "    if math.isnan(df['weight_y']): return df['weight_x']\n",
    "    return df['weight_y']"
   ]
  },
  {
   "cell_type": "code",
   "execution_count": 45,
   "id": "9b00b292",
   "metadata": {},
   "outputs": [],
   "source": [
    "df_join_2019_1['weight_y'] =  df_join_2019_1.apply(weight_filter, axis=1)"
   ]
  },
  {
   "cell_type": "code",
   "execution_count": 46,
   "id": "a0f58455",
   "metadata": {},
   "outputs": [],
   "source": [
    "df_join_2019_1 = df_join_2019_1.rename(columns={'_id_y': '_id', 'weight_y': 'weight', 'last_update_de_y': 'last_update_de', 'is_delete_y': 'is_delete'}).sort_values('_id')"
   ]
  },
  {
   "cell_type": "code",
   "execution_count": 50,
   "id": "6b00011c",
   "metadata": {},
   "outputs": [],
   "source": [
    "df_join_2019_1[df_md_data_2019_1.columns].to_csv('./result/md_data_2019_1.csv')"
   ]
  },
  {
   "cell_type": "code",
   "execution_count": 51,
   "id": "57248412",
   "metadata": {},
   "outputs": [],
   "source": [
    "df_join_2019_2 = pd.merge(df_md_baby_20190607, df_md_data_2019_2, left_on='_id', right_on='baby_id', how='right')\n",
    "df_join_2019_2['weight_y'] =  df_join_2019_2.apply(weight_filter, axis=1)\n",
    "df_join_2019_2 = df_join_2019_2.rename(columns={'_id_y': '_id', 'weight_y': 'weight', 'last_update_de_y': 'last_update_de', 'is_delete_y': 'is_delete'}).sort_values('_id')\n",
    "df_join_2019_2[df_md_data_2019_2.columns].to_csv('./result/md_data_2019_2.csv')"
   ]
  },
  {
   "cell_type": "code",
   "execution_count": 53,
   "id": "cdd6d38c",
   "metadata": {},
   "outputs": [],
   "source": [
    "df_join_2019_3 = pd.merge(df_md_baby_20190607, df_md_data_2019_3, left_on='_id', right_on='baby_id', how='right')\n",
    "df_join_2019_3['weight_y'] =  df_join_2019_3.apply(weight_filter, axis=1)\n",
    "df_join_2019_3 = df_join_2019_3.rename(columns={'_id_y': '_id', 'weight_y': 'weight', 'last_update_de_y': 'last_update_de', 'is_delete_y': 'is_delete'}).sort_values('_id')\n",
    "df_join_2019_3[df_md_data_2019_3.columns].to_csv('./result/md_data_2019_3.csv')"
   ]
  },
  {
   "cell_type": "code",
   "execution_count": 54,
   "id": "80890495",
   "metadata": {},
   "outputs": [],
   "source": [
    "df_join_2019_4 = pd.merge(df_md_baby_20190607, df_md_data_2019_4, left_on='_id', right_on='baby_id', how='right')\n",
    "df_join_2019_4['weight_y'] =  df_join_2019_4.apply(weight_filter, axis=1)\n",
    "df_join_2019_4 = df_join_2019_4.rename(columns={'_id_y': '_id', 'weight_y': 'weight', 'last_update_de_y': 'last_update_de', 'is_delete_y': 'is_delete'}).sort_values('_id')\n",
    "df_join_2019_4[df_md_data_2019_4.columns].to_csv('./result/md_data_2019_4.csv')"
   ]
  },
  {
   "cell_type": "code",
   "execution_count": 55,
   "id": "0aac3412",
   "metadata": {},
   "outputs": [],
   "source": [
    "df_join_2019_5 = pd.merge(df_md_baby_20190607, df_md_data_2019_5, left_on='_id', right_on='baby_id', how='right')\n",
    "df_join_2019_5['weight_y'] =  df_join_2019_5.apply(weight_filter, axis=1)\n",
    "df_join_2019_5 = df_join_2019_5.rename(columns={'_id_y': '_id', 'weight_y': 'weight', 'last_update_de_y': 'last_update_de', 'is_delete_y': 'is_delete'}).sort_values('_id')\n",
    "df_join_2019_5[df_md_data_2019_5.columns].to_csv('./result/md_data_2019_5.csv')"
   ]
  }
 ],
 "metadata": {
  "kernelspec": {
   "display_name": "Python 3",
   "language": "python",
   "name": "python3"
  },
  "language_info": {
   "codemirror_mode": {
    "name": "ipython",
    "version": 3
   },
   "file_extension": ".py",
   "mimetype": "text/x-python",
   "name": "python",
   "nbconvert_exporter": "python",
   "pygments_lexer": "ipython3",
   "version": "3.8.10"
  }
 },
 "nbformat": 4,
 "nbformat_minor": 5
}
