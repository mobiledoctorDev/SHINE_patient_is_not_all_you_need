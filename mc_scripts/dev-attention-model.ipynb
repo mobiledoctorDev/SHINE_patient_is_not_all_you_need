{
 "cells": [
  {
   "cell_type": "markdown",
   "id": "223e6afb",
   "metadata": {
    "pycharm": {
     "name": "#%% md\n"
    }
   },
   "source": [
    "# Import library"
   ]
  },
  {
   "cell_type": "code",
   "execution_count": 1,
   "id": "1dd7f1f1",
   "metadata": {
    "pycharm": {
     "name": "#%%\n"
    }
   },
   "outputs": [],
   "source": [
    "import os\n",
    "import os, sys\n",
    "import glob\n",
    "import re\n",
    "import datetime\n",
    "from datetime import datetime, timedelta \n",
    "import math, copy, time\n",
    "from itertools import cycle\n",
    "from collections import defaultdict\n",
    "\n",
    "from parse import parse\n",
    "import numpy as np\n",
    "import pandas as pd\n",
    "import torch\n",
    "from torch import nn, optim\n",
    "from torch.autograd import Variable\n",
    "from torch.utils.data import Dataset\n",
    "from torch.utils.data import DataLoader\n",
    "import torch.nn.functional as F\n",
    "\n",
    "import torchvision\n",
    "import torchvision.transforms as transforms\n",
    "\n",
    "from sklearn.metrics import roc_auc_score, plot_roc_curve\n",
    "from sklearn import svm\n",
    "\n",
    "\n",
    "from tqdm.notebook import tqdm\n",
    "\n",
    "import matplotlib.pyplot as plt\n",
    "import seaborn\n",
    "\n",
    "%load_ext autoreload\n",
    "%autoreload 2"
   ]
  },
  {
   "cell_type": "code",
   "execution_count": null,
   "id": "10dbda6d",
   "metadata": {},
   "outputs": [],
   "source": []
  },
  {
   "cell_type": "code",
   "execution_count": 2,
   "id": "3b95525f",
   "metadata": {
    "pycharm": {
     "name": "#%%\n"
    }
   },
   "outputs": [],
   "source": [
    "# Util functions\n",
    "def size_and_ratio(df, col, dropna=True):\n",
    "    if pd.__version__ > '1.1':\n",
    "        sr = df.groupby(col, dropna=dropna).size().sort_values(ascending=False)\n",
    "    elif dropna:\n",
    "        sr = df.groupby(col).size().sort_values(ascending=False)\n",
    "    else:  # dropna == False\n",
    "        sr = df.fillna('nan').groupby(col).size().sort_values(ascending=False)\n",
    "    sr_ratio = sr.copy() / sum(sr)\n",
    "    print(\"Sum :\", sum(sr), sr.shape)\n",
    "    sr.name = 'size'\n",
    "    sr_ratio.name = 'ratio'\n",
    "    return pd.concat([sr, sr_ratio], axis=1)"
   ]
  },
  {
   "cell_type": "markdown",
   "id": "3f43473d",
   "metadata": {
    "pycharm": {
     "name": "#%% md\n"
    }
   },
   "source": [
    "# Data load"
   ]
  },
  {
   "cell_type": "code",
   "execution_count": 3,
   "id": "e7c0d9c2",
   "metadata": {
    "pycharm": {
     "name": "#%%\n"
    }
   },
   "outputs": [
    {
     "data": {
      "text/html": [
       "<div>\n",
       "<style scoped>\n",
       "    .dataframe tbody tr th:only-of-type {\n",
       "        vertical-align: middle;\n",
       "    }\n",
       "\n",
       "    .dataframe tbody tr th {\n",
       "        vertical-align: top;\n",
       "    }\n",
       "\n",
       "    .dataframe thead th {\n",
       "        text-align: right;\n",
       "    }\n",
       "</style>\n",
       "<table border=\"1\" class=\"dataframe\">\n",
       "  <thead>\n",
       "    <tr style=\"text-align: right;\">\n",
       "      <th></th>\n",
       "      <th>cough</th>\n",
       "      <th>fever</th>\n",
       "      <th>sore_throat</th>\n",
       "      <th>shortness_of_breath</th>\n",
       "      <th>head_ache</th>\n",
       "      <th>age_60_and_above</th>\n",
       "      <th>gender</th>\n",
       "      <th>confirmed_ratio</th>\n",
       "      <th>weekday_ratio</th>\n",
       "      <th>corona_result</th>\n",
       "    </tr>\n",
       "  </thead>\n",
       "  <tbody>\n",
       "    <tr>\n",
       "      <th>0</th>\n",
       "      <td>0</td>\n",
       "      <td>0</td>\n",
       "      <td>0</td>\n",
       "      <td>0</td>\n",
       "      <td>0</td>\n",
       "      <td>-1</td>\n",
       "      <td>0</td>\n",
       "      <td>0.040948</td>\n",
       "      <td>0.0</td>\n",
       "      <td>0</td>\n",
       "    </tr>\n",
       "    <tr>\n",
       "      <th>1</th>\n",
       "      <td>0</td>\n",
       "      <td>0</td>\n",
       "      <td>0</td>\n",
       "      <td>0</td>\n",
       "      <td>0</td>\n",
       "      <td>-1</td>\n",
       "      <td>1</td>\n",
       "      <td>0.040948</td>\n",
       "      <td>0.0</td>\n",
       "      <td>0</td>\n",
       "    </tr>\n",
       "    <tr>\n",
       "      <th>2</th>\n",
       "      <td>0</td>\n",
       "      <td>0</td>\n",
       "      <td>0</td>\n",
       "      <td>0</td>\n",
       "      <td>0</td>\n",
       "      <td>-1</td>\n",
       "      <td>0</td>\n",
       "      <td>0.040948</td>\n",
       "      <td>0.0</td>\n",
       "      <td>0</td>\n",
       "    </tr>\n",
       "    <tr>\n",
       "      <th>3</th>\n",
       "      <td>0</td>\n",
       "      <td>0</td>\n",
       "      <td>0</td>\n",
       "      <td>0</td>\n",
       "      <td>0</td>\n",
       "      <td>-1</td>\n",
       "      <td>0</td>\n",
       "      <td>0.040948</td>\n",
       "      <td>0.0</td>\n",
       "      <td>0</td>\n",
       "    </tr>\n",
       "    <tr>\n",
       "      <th>4</th>\n",
       "      <td>0</td>\n",
       "      <td>0</td>\n",
       "      <td>0</td>\n",
       "      <td>0</td>\n",
       "      <td>0</td>\n",
       "      <td>-1</td>\n",
       "      <td>1</td>\n",
       "      <td>0.040948</td>\n",
       "      <td>0.0</td>\n",
       "      <td>0</td>\n",
       "    </tr>\n",
       "  </tbody>\n",
       "</table>\n",
       "</div>"
      ],
      "text/plain": [
       "   cough  fever  sore_throat  shortness_of_breath  head_ache  \\\n",
       "0      0      0            0                    0          0   \n",
       "1      0      0            0                    0          0   \n",
       "2      0      0            0                    0          0   \n",
       "3      0      0            0                    0          0   \n",
       "4      0      0            0                    0          0   \n",
       "\n",
       "   age_60_and_above  gender  confirmed_ratio  weekday_ratio  corona_result  \n",
       "0                -1       0         0.040948            0.0              0  \n",
       "1                -1       1         0.040948            0.0              0  \n",
       "2                -1       0         0.040948            0.0              0  \n",
       "3                -1       0         0.040948            0.0              0  \n",
       "4                -1       1         0.040948            0.0              0  "
      ]
     },
     "execution_count": 3,
     "metadata": {},
     "output_type": "execute_result"
    }
   ],
   "source": [
    "df_input = pd.read_csv(\"opendataset/df_input.csv\")\n",
    "df_input.head()"
   ]
  },
  {
   "cell_type": "code",
   "execution_count": 4,
   "id": "15342017",
   "metadata": {
    "pycharm": {
     "name": "#%%\n"
    }
   },
   "outputs": [
    {
     "data": {
      "text/html": [
       "<div>\n",
       "<style scoped>\n",
       "    .dataframe tbody tr th:only-of-type {\n",
       "        vertical-align: middle;\n",
       "    }\n",
       "\n",
       "    .dataframe tbody tr th {\n",
       "        vertical-align: top;\n",
       "    }\n",
       "\n",
       "    .dataframe thead th {\n",
       "        text-align: right;\n",
       "    }\n",
       "</style>\n",
       "<table border=\"1\" class=\"dataframe\">\n",
       "  <thead>\n",
       "    <tr style=\"text-align: right;\">\n",
       "      <th></th>\n",
       "      <th>cough</th>\n",
       "      <th>fever</th>\n",
       "      <th>sore_throat</th>\n",
       "      <th>shortness_of_breath</th>\n",
       "      <th>head_ache</th>\n",
       "      <th>age_60_and_above</th>\n",
       "      <th>gender</th>\n",
       "      <th>confirmed_ratio</th>\n",
       "      <th>weekday_ratio</th>\n",
       "      <th>corona_result</th>\n",
       "    </tr>\n",
       "  </thead>\n",
       "  <tbody>\n",
       "    <tr>\n",
       "      <th>count</th>\n",
       "      <td>7230.000000</td>\n",
       "      <td>7230.000000</td>\n",
       "      <td>7230.000000</td>\n",
       "      <td>7230.000000</td>\n",
       "      <td>7230.000000</td>\n",
       "      <td>7230.000000</td>\n",
       "      <td>7230.000000</td>\n",
       "      <td>7230.000000</td>\n",
       "      <td>7230.000000</td>\n",
       "      <td>7230.000000</td>\n",
       "    </tr>\n",
       "    <tr>\n",
       "      <th>mean</th>\n",
       "      <td>0.017704</td>\n",
       "      <td>0.017566</td>\n",
       "      <td>0.007884</td>\n",
       "      <td>0.001521</td>\n",
       "      <td>0.012310</td>\n",
       "      <td>0.062102</td>\n",
       "      <td>0.539004</td>\n",
       "      <td>0.400977</td>\n",
       "      <td>0.433679</td>\n",
       "      <td>0.072337</td>\n",
       "    </tr>\n",
       "    <tr>\n",
       "      <th>std</th>\n",
       "      <td>0.131882</td>\n",
       "      <td>0.131376</td>\n",
       "      <td>0.088446</td>\n",
       "      <td>0.038979</td>\n",
       "      <td>0.110272</td>\n",
       "      <td>0.467378</td>\n",
       "      <td>0.498511</td>\n",
       "      <td>0.252509</td>\n",
       "      <td>0.338471</td>\n",
       "      <td>0.259064</td>\n",
       "    </tr>\n",
       "    <tr>\n",
       "      <th>min</th>\n",
       "      <td>0.000000</td>\n",
       "      <td>0.000000</td>\n",
       "      <td>0.000000</td>\n",
       "      <td>0.000000</td>\n",
       "      <td>0.000000</td>\n",
       "      <td>-1.000000</td>\n",
       "      <td>0.000000</td>\n",
       "      <td>0.040948</td>\n",
       "      <td>0.000000</td>\n",
       "      <td>0.000000</td>\n",
       "    </tr>\n",
       "    <tr>\n",
       "      <th>25%</th>\n",
       "      <td>0.000000</td>\n",
       "      <td>0.000000</td>\n",
       "      <td>0.000000</td>\n",
       "      <td>0.000000</td>\n",
       "      <td>0.000000</td>\n",
       "      <td>0.000000</td>\n",
       "      <td>0.000000</td>\n",
       "      <td>0.181210</td>\n",
       "      <td>0.166667</td>\n",
       "      <td>0.000000</td>\n",
       "    </tr>\n",
       "    <tr>\n",
       "      <th>50%</th>\n",
       "      <td>0.000000</td>\n",
       "      <td>0.000000</td>\n",
       "      <td>0.000000</td>\n",
       "      <td>0.000000</td>\n",
       "      <td>0.000000</td>\n",
       "      <td>0.000000</td>\n",
       "      <td>1.000000</td>\n",
       "      <td>0.368530</td>\n",
       "      <td>0.333333</td>\n",
       "      <td>0.000000</td>\n",
       "    </tr>\n",
       "    <tr>\n",
       "      <th>75%</th>\n",
       "      <td>0.000000</td>\n",
       "      <td>0.000000</td>\n",
       "      <td>0.000000</td>\n",
       "      <td>0.000000</td>\n",
       "      <td>0.000000</td>\n",
       "      <td>0.000000</td>\n",
       "      <td>1.000000</td>\n",
       "      <td>0.600760</td>\n",
       "      <td>0.666667</td>\n",
       "      <td>0.000000</td>\n",
       "    </tr>\n",
       "    <tr>\n",
       "      <th>max</th>\n",
       "      <td>1.000000</td>\n",
       "      <td>1.000000</td>\n",
       "      <td>1.000000</td>\n",
       "      <td>1.000000</td>\n",
       "      <td>1.000000</td>\n",
       "      <td>1.000000</td>\n",
       "      <td>1.000000</td>\n",
       "      <td>1.000000</td>\n",
       "      <td>1.000000</td>\n",
       "      <td>1.000000</td>\n",
       "    </tr>\n",
       "  </tbody>\n",
       "</table>\n",
       "</div>"
      ],
      "text/plain": [
       "             cough        fever  sore_throat  shortness_of_breath  \\\n",
       "count  7230.000000  7230.000000  7230.000000          7230.000000   \n",
       "mean      0.017704     0.017566     0.007884             0.001521   \n",
       "std       0.131882     0.131376     0.088446             0.038979   \n",
       "min       0.000000     0.000000     0.000000             0.000000   \n",
       "25%       0.000000     0.000000     0.000000             0.000000   \n",
       "50%       0.000000     0.000000     0.000000             0.000000   \n",
       "75%       0.000000     0.000000     0.000000             0.000000   \n",
       "max       1.000000     1.000000     1.000000             1.000000   \n",
       "\n",
       "         head_ache  age_60_and_above       gender  confirmed_ratio  \\\n",
       "count  7230.000000       7230.000000  7230.000000      7230.000000   \n",
       "mean      0.012310          0.062102     0.539004         0.400977   \n",
       "std       0.110272          0.467378     0.498511         0.252509   \n",
       "min       0.000000         -1.000000     0.000000         0.040948   \n",
       "25%       0.000000          0.000000     0.000000         0.181210   \n",
       "50%       0.000000          0.000000     1.000000         0.368530   \n",
       "75%       0.000000          0.000000     1.000000         0.600760   \n",
       "max       1.000000          1.000000     1.000000         1.000000   \n",
       "\n",
       "       weekday_ratio  corona_result  \n",
       "count    7230.000000    7230.000000  \n",
       "mean        0.433679       0.072337  \n",
       "std         0.338471       0.259064  \n",
       "min         0.000000       0.000000  \n",
       "25%         0.166667       0.000000  \n",
       "50%         0.333333       0.000000  \n",
       "75%         0.666667       0.000000  \n",
       "max         1.000000       1.000000  "
      ]
     },
     "execution_count": 4,
     "metadata": {},
     "output_type": "execute_result"
    }
   ],
   "source": [
    "df_input.describe()"
   ]
  },
  {
   "cell_type": "code",
   "execution_count": 5,
   "id": "c51c80f8",
   "metadata": {
    "pycharm": {
     "name": "#%%\n"
    }
   },
   "outputs": [
    {
     "name": "stdout",
     "output_type": "stream",
     "text": [
      "Sum : 7230 (3,)\n"
     ]
    },
    {
     "data": {
      "text/html": [
       "<div>\n",
       "<style scoped>\n",
       "    .dataframe tbody tr th:only-of-type {\n",
       "        vertical-align: middle;\n",
       "    }\n",
       "\n",
       "    .dataframe tbody tr th {\n",
       "        vertical-align: top;\n",
       "    }\n",
       "\n",
       "    .dataframe thead th {\n",
       "        text-align: right;\n",
       "    }\n",
       "</style>\n",
       "<table border=\"1\" class=\"dataframe\">\n",
       "  <thead>\n",
       "    <tr style=\"text-align: right;\">\n",
       "      <th></th>\n",
       "      <th>size</th>\n",
       "      <th>ratio</th>\n",
       "    </tr>\n",
       "    <tr>\n",
       "      <th>age_60_and_above</th>\n",
       "      <th></th>\n",
       "      <th></th>\n",
       "    </tr>\n",
       "  </thead>\n",
       "  <tbody>\n",
       "    <tr>\n",
       "      <th>0</th>\n",
       "      <td>5623</td>\n",
       "      <td>0.777732</td>\n",
       "    </tr>\n",
       "    <tr>\n",
       "      <th>1</th>\n",
       "      <td>1028</td>\n",
       "      <td>0.142185</td>\n",
       "    </tr>\n",
       "    <tr>\n",
       "      <th>-1</th>\n",
       "      <td>579</td>\n",
       "      <td>0.080083</td>\n",
       "    </tr>\n",
       "  </tbody>\n",
       "</table>\n",
       "</div>"
      ],
      "text/plain": [
       "                  size     ratio\n",
       "age_60_and_above                \n",
       " 0                5623  0.777732\n",
       " 1                1028  0.142185\n",
       "-1                 579  0.080083"
      ]
     },
     "execution_count": 5,
     "metadata": {},
     "output_type": "execute_result"
    }
   ],
   "source": [
    "df_input['age_60_and_above'].unique()\n",
    "\n",
    "size_and_ratio(df_input, 'age_60_and_above')"
   ]
  },
  {
   "cell_type": "code",
   "execution_count": null,
   "id": "6060c756",
   "metadata": {},
   "outputs": [],
   "source": []
  },
  {
   "cell_type": "code",
   "execution_count": null,
   "id": "7e868be5",
   "metadata": {},
   "outputs": [],
   "source": []
  },
  {
   "cell_type": "code",
   "execution_count": 6,
   "id": "f07997b3",
   "metadata": {},
   "outputs": [],
   "source": [
    "from model.attention_model import CategoricalAttentionModel"
   ]
  },
  {
   "cell_type": "code",
   "execution_count": 7,
   "id": "01b33fa7",
   "metadata": {
    "pycharm": {
     "name": "#%%\n"
    }
   },
   "outputs": [
    {
     "name": "stdout",
     "output_type": "stream",
     "text": [
      "cough category [0 1] ...\n",
      "fever category [0 1] ...\n",
      "sore_throat category [0 1] ...\n",
      "shortness_of_breath category [0 1] ...\n",
      "head_ache category [0 1] ...\n",
      "age_60_and_above category [-1  0  1] ...\n",
      "gender category [0 1] ...\n",
      "confirmed_ratio float [0.04094774 0.05944027 0.07859325 0.06852142 0.07132832 0.10071824\n",
      " 0.12309089 0.09229753 0.11838521 0.11731198]\n",
      "weekday_ratio category [0.         0.33333333 0.5        0.66666667 0.83333333 0.16666667\n",
      " 1.        ] ...\n",
      "corona_result category [0 1] ...\n"
     ]
    },
    {
     "data": {
      "text/plain": [
       "{'cough_0': 0,\n",
       " 'cough_1': 1,\n",
       " 'fever_0': 2,\n",
       " 'fever_1': 3,\n",
       " 'sore_throat_0': 4,\n",
       " 'sore_throat_1': 5,\n",
       " 'shortness_of_breath_0': 6,\n",
       " 'shortness_of_breath_1': 7,\n",
       " 'head_ache_0': 8,\n",
       " 'head_ache_1': 9,\n",
       " 'age_60_and_above_-1': 10,\n",
       " 'age_60_and_above_0': 11,\n",
       " 'age_60_and_above_1': 12,\n",
       " 'gender_0': 13,\n",
       " 'gender_1': 14,\n",
       " 'confirmed_ratio': 15,\n",
       " 'weekday_ratio_0': 16,\n",
       " 'weekday_ratio_1': 17,\n",
       " 'corona_result_0': 18,\n",
       " 'corona_result_1': 19}"
      ]
     },
     "execution_count": 7,
     "metadata": {},
     "output_type": "execute_result"
    }
   ],
   "source": [
    "from model.utils import get_dict_category_from_dataset\n",
    "\n",
    "dict_category, df_input_typed = get_dict_category_from_dataset(df_input)\n",
    "dict_category"
   ]
  },
  {
   "cell_type": "code",
   "execution_count": 8,
   "id": "adcc16d2",
   "metadata": {
    "pycharm": {
     "name": "#%%\n"
    }
   },
   "outputs": [
    {
     "data": {
      "text/plain": [
       "CategoricalDtype(categories=[0, 1], ordered=False)"
      ]
     },
     "execution_count": 8,
     "metadata": {},
     "output_type": "execute_result"
    }
   ],
   "source": [
    "df_input_typed['gender'].dtype"
   ]
  },
  {
   "cell_type": "code",
   "execution_count": 9,
   "id": "34a86189",
   "metadata": {},
   "outputs": [],
   "source": [
    "from model.utils import get_category_key"
   ]
  },
  {
   "cell_type": "code",
   "execution_count": 10,
   "id": "78abde19",
   "metadata": {
    "pycharm": {
     "name": "#%%\n"
    }
   },
   "outputs": [
    {
     "data": {
      "text/html": [
       "<div>\n",
       "<style scoped>\n",
       "    .dataframe tbody tr th:only-of-type {\n",
       "        vertical-align: middle;\n",
       "    }\n",
       "\n",
       "    .dataframe tbody tr th {\n",
       "        vertical-align: top;\n",
       "    }\n",
       "\n",
       "    .dataframe thead th {\n",
       "        text-align: right;\n",
       "    }\n",
       "</style>\n",
       "<table border=\"1\" class=\"dataframe\">\n",
       "  <thead>\n",
       "    <tr style=\"text-align: right;\">\n",
       "      <th></th>\n",
       "      <th>cough</th>\n",
       "      <th>fever</th>\n",
       "      <th>sore_throat</th>\n",
       "      <th>shortness_of_breath</th>\n",
       "      <th>head_ache</th>\n",
       "      <th>age_60_and_above</th>\n",
       "      <th>gender</th>\n",
       "      <th>confirmed_ratio</th>\n",
       "      <th>weekday_ratio</th>\n",
       "    </tr>\n",
       "  </thead>\n",
       "  <tbody>\n",
       "    <tr>\n",
       "      <th>0</th>\n",
       "      <td>0.0</td>\n",
       "      <td>2.0</td>\n",
       "      <td>4.0</td>\n",
       "      <td>6.0</td>\n",
       "      <td>8.0</td>\n",
       "      <td>10.0</td>\n",
       "      <td>13.0</td>\n",
       "      <td>15.0</td>\n",
       "      <td>16.0</td>\n",
       "    </tr>\n",
       "    <tr>\n",
       "      <th>1</th>\n",
       "      <td>0.0</td>\n",
       "      <td>2.0</td>\n",
       "      <td>4.0</td>\n",
       "      <td>6.0</td>\n",
       "      <td>8.0</td>\n",
       "      <td>10.0</td>\n",
       "      <td>14.0</td>\n",
       "      <td>15.0</td>\n",
       "      <td>16.0</td>\n",
       "    </tr>\n",
       "    <tr>\n",
       "      <th>2</th>\n",
       "      <td>0.0</td>\n",
       "      <td>2.0</td>\n",
       "      <td>4.0</td>\n",
       "      <td>6.0</td>\n",
       "      <td>8.0</td>\n",
       "      <td>10.0</td>\n",
       "      <td>13.0</td>\n",
       "      <td>15.0</td>\n",
       "      <td>16.0</td>\n",
       "    </tr>\n",
       "    <tr>\n",
       "      <th>3</th>\n",
       "      <td>0.0</td>\n",
       "      <td>2.0</td>\n",
       "      <td>4.0</td>\n",
       "      <td>6.0</td>\n",
       "      <td>8.0</td>\n",
       "      <td>10.0</td>\n",
       "      <td>13.0</td>\n",
       "      <td>15.0</td>\n",
       "      <td>16.0</td>\n",
       "    </tr>\n",
       "    <tr>\n",
       "      <th>4</th>\n",
       "      <td>0.0</td>\n",
       "      <td>2.0</td>\n",
       "      <td>4.0</td>\n",
       "      <td>6.0</td>\n",
       "      <td>8.0</td>\n",
       "      <td>10.0</td>\n",
       "      <td>14.0</td>\n",
       "      <td>15.0</td>\n",
       "      <td>16.0</td>\n",
       "    </tr>\n",
       "  </tbody>\n",
       "</table>\n",
       "</div>"
      ],
      "text/plain": [
       "   cough  fever  sore_throat  shortness_of_breath  head_ache  \\\n",
       "0    0.0    2.0          4.0                  6.0        8.0   \n",
       "1    0.0    2.0          4.0                  6.0        8.0   \n",
       "2    0.0    2.0          4.0                  6.0        8.0   \n",
       "3    0.0    2.0          4.0                  6.0        8.0   \n",
       "4    0.0    2.0          4.0                  6.0        8.0   \n",
       "\n",
       "   age_60_and_above  gender  confirmed_ratio  weekday_ratio  \n",
       "0              10.0    13.0             15.0           16.0  \n",
       "1              10.0    14.0             15.0           16.0  \n",
       "2              10.0    13.0             15.0           16.0  \n",
       "3              10.0    13.0             15.0           16.0  \n",
       "4              10.0    14.0             15.0           16.0  "
      ]
     },
     "metadata": {},
     "output_type": "display_data"
    },
    {
     "data": {
      "text/html": [
       "<div>\n",
       "<style scoped>\n",
       "    .dataframe tbody tr th:only-of-type {\n",
       "        vertical-align: middle;\n",
       "    }\n",
       "\n",
       "    .dataframe tbody tr th {\n",
       "        vertical-align: top;\n",
       "    }\n",
       "\n",
       "    .dataframe thead th {\n",
       "        text-align: right;\n",
       "    }\n",
       "</style>\n",
       "<table border=\"1\" class=\"dataframe\">\n",
       "  <thead>\n",
       "    <tr style=\"text-align: right;\">\n",
       "      <th></th>\n",
       "      <th>cough</th>\n",
       "      <th>fever</th>\n",
       "      <th>sore_throat</th>\n",
       "      <th>shortness_of_breath</th>\n",
       "      <th>head_ache</th>\n",
       "      <th>age_60_and_above</th>\n",
       "      <th>gender</th>\n",
       "      <th>confirmed_ratio</th>\n",
       "      <th>weekday_ratio</th>\n",
       "    </tr>\n",
       "  </thead>\n",
       "  <tbody>\n",
       "    <tr>\n",
       "      <th>0</th>\n",
       "      <td>1.0</td>\n",
       "      <td>1.0</td>\n",
       "      <td>1.0</td>\n",
       "      <td>1.0</td>\n",
       "      <td>1.0</td>\n",
       "      <td>1.0</td>\n",
       "      <td>1.0</td>\n",
       "      <td>0.040948</td>\n",
       "      <td>1.0</td>\n",
       "    </tr>\n",
       "    <tr>\n",
       "      <th>1</th>\n",
       "      <td>1.0</td>\n",
       "      <td>1.0</td>\n",
       "      <td>1.0</td>\n",
       "      <td>1.0</td>\n",
       "      <td>1.0</td>\n",
       "      <td>1.0</td>\n",
       "      <td>1.0</td>\n",
       "      <td>0.040948</td>\n",
       "      <td>1.0</td>\n",
       "    </tr>\n",
       "    <tr>\n",
       "      <th>2</th>\n",
       "      <td>1.0</td>\n",
       "      <td>1.0</td>\n",
       "      <td>1.0</td>\n",
       "      <td>1.0</td>\n",
       "      <td>1.0</td>\n",
       "      <td>1.0</td>\n",
       "      <td>1.0</td>\n",
       "      <td>0.040948</td>\n",
       "      <td>1.0</td>\n",
       "    </tr>\n",
       "    <tr>\n",
       "      <th>3</th>\n",
       "      <td>1.0</td>\n",
       "      <td>1.0</td>\n",
       "      <td>1.0</td>\n",
       "      <td>1.0</td>\n",
       "      <td>1.0</td>\n",
       "      <td>1.0</td>\n",
       "      <td>1.0</td>\n",
       "      <td>0.040948</td>\n",
       "      <td>1.0</td>\n",
       "    </tr>\n",
       "    <tr>\n",
       "      <th>4</th>\n",
       "      <td>1.0</td>\n",
       "      <td>1.0</td>\n",
       "      <td>1.0</td>\n",
       "      <td>1.0</td>\n",
       "      <td>1.0</td>\n",
       "      <td>1.0</td>\n",
       "      <td>1.0</td>\n",
       "      <td>0.040948</td>\n",
       "      <td>1.0</td>\n",
       "    </tr>\n",
       "  </tbody>\n",
       "</table>\n",
       "</div>"
      ],
      "text/plain": [
       "   cough  fever  sore_throat  shortness_of_breath  head_ache  \\\n",
       "0    1.0    1.0          1.0                  1.0        1.0   \n",
       "1    1.0    1.0          1.0                  1.0        1.0   \n",
       "2    1.0    1.0          1.0                  1.0        1.0   \n",
       "3    1.0    1.0          1.0                  1.0        1.0   \n",
       "4    1.0    1.0          1.0                  1.0        1.0   \n",
       "\n",
       "   age_60_and_above  gender  confirmed_ratio  weekday_ratio  \n",
       "0               1.0     1.0         0.040948            1.0  \n",
       "1               1.0     1.0         0.040948            1.0  \n",
       "2               1.0     1.0         0.040948            1.0  \n",
       "3               1.0     1.0         0.040948            1.0  \n",
       "4               1.0     1.0         0.040948            1.0  "
      ]
     },
     "metadata": {},
     "output_type": "display_data"
    }
   ],
   "source": [
    "df_train = df_input_typed[[x for x in df_input_typed.columns if x != 'corona_result']]\n",
    "\n",
    "df_train_category = pd.DataFrame()\n",
    "df_train_intensity = df_train_category.copy()\n",
    "\n",
    "for index, row in df_train.iterrows():\n",
    "    for col, val in row.items():\n",
    "        type_name = df_train[col].dtype\n",
    "        key = get_category_key(colname=col, type_name=type_name, value=val)\n",
    "        cat_idx = dict_category[key]\n",
    "\n",
    "        df_train_category.loc[index, col] = cat_idx\n",
    "        if type_name == 'category':\n",
    "            df_train_intensity.loc[index, col] = 1\n",
    "        if type_name == 'float':\n",
    "            df_train_intensity.loc[index, col] = val\n",
    "         \n",
    "    \n",
    "display(df_train_category.head())\n",
    "display(df_train_intensity.head())"
   ]
  },
  {
   "cell_type": "code",
   "execution_count": 11,
   "id": "9569db0b",
   "metadata": {
    "pycharm": {
     "name": "#%%\n"
    }
   },
   "outputs": [
    {
     "data": {
      "text/html": [
       "<div>\n",
       "<style scoped>\n",
       "    .dataframe tbody tr th:only-of-type {\n",
       "        vertical-align: middle;\n",
       "    }\n",
       "\n",
       "    .dataframe tbody tr th {\n",
       "        vertical-align: top;\n",
       "    }\n",
       "\n",
       "    .dataframe thead th {\n",
       "        text-align: right;\n",
       "    }\n",
       "</style>\n",
       "<table border=\"1\" class=\"dataframe\">\n",
       "  <thead>\n",
       "    <tr style=\"text-align: right;\">\n",
       "      <th></th>\n",
       "      <th>cough</th>\n",
       "      <th>fever</th>\n",
       "      <th>sore_throat</th>\n",
       "      <th>shortness_of_breath</th>\n",
       "      <th>head_ache</th>\n",
       "      <th>age_60_and_above</th>\n",
       "      <th>gender</th>\n",
       "      <th>confirmed_ratio</th>\n",
       "      <th>weekday_ratio</th>\n",
       "    </tr>\n",
       "  </thead>\n",
       "  <tbody>\n",
       "    <tr>\n",
       "      <th>206</th>\n",
       "      <td>0.0</td>\n",
       "      <td>2.0</td>\n",
       "      <td>4.0</td>\n",
       "      <td>6.0</td>\n",
       "      <td>8.0</td>\n",
       "      <td>10.0</td>\n",
       "      <td>14.0</td>\n",
       "      <td>15.0</td>\n",
       "      <td>16.0</td>\n",
       "    </tr>\n",
       "    <tr>\n",
       "      <th>5617</th>\n",
       "      <td>0.0</td>\n",
       "      <td>2.0</td>\n",
       "      <td>4.0</td>\n",
       "      <td>6.0</td>\n",
       "      <td>8.0</td>\n",
       "      <td>11.0</td>\n",
       "      <td>13.0</td>\n",
       "      <td>15.0</td>\n",
       "      <td>17.0</td>\n",
       "    </tr>\n",
       "    <tr>\n",
       "      <th>2596</th>\n",
       "      <td>0.0</td>\n",
       "      <td>2.0</td>\n",
       "      <td>4.0</td>\n",
       "      <td>6.0</td>\n",
       "      <td>8.0</td>\n",
       "      <td>10.0</td>\n",
       "      <td>14.0</td>\n",
       "      <td>15.0</td>\n",
       "      <td>16.0</td>\n",
       "    </tr>\n",
       "    <tr>\n",
       "      <th>5761</th>\n",
       "      <td>0.0</td>\n",
       "      <td>2.0</td>\n",
       "      <td>4.0</td>\n",
       "      <td>6.0</td>\n",
       "      <td>8.0</td>\n",
       "      <td>11.0</td>\n",
       "      <td>13.0</td>\n",
       "      <td>15.0</td>\n",
       "      <td>16.0</td>\n",
       "    </tr>\n",
       "    <tr>\n",
       "      <th>3730</th>\n",
       "      <td>0.0</td>\n",
       "      <td>2.0</td>\n",
       "      <td>4.0</td>\n",
       "      <td>6.0</td>\n",
       "      <td>8.0</td>\n",
       "      <td>11.0</td>\n",
       "      <td>13.0</td>\n",
       "      <td>15.0</td>\n",
       "      <td>16.0</td>\n",
       "    </tr>\n",
       "    <tr>\n",
       "      <th>24</th>\n",
       "      <td>0.0</td>\n",
       "      <td>2.0</td>\n",
       "      <td>4.0</td>\n",
       "      <td>6.0</td>\n",
       "      <td>8.0</td>\n",
       "      <td>10.0</td>\n",
       "      <td>14.0</td>\n",
       "      <td>15.0</td>\n",
       "      <td>16.0</td>\n",
       "    </tr>\n",
       "    <tr>\n",
       "      <th>6097</th>\n",
       "      <td>0.0</td>\n",
       "      <td>2.0</td>\n",
       "      <td>4.0</td>\n",
       "      <td>6.0</td>\n",
       "      <td>8.0</td>\n",
       "      <td>11.0</td>\n",
       "      <td>13.0</td>\n",
       "      <td>15.0</td>\n",
       "      <td>16.0</td>\n",
       "    </tr>\n",
       "    <tr>\n",
       "      <th>6131</th>\n",
       "      <td>0.0</td>\n",
       "      <td>2.0</td>\n",
       "      <td>4.0</td>\n",
       "      <td>6.0</td>\n",
       "      <td>8.0</td>\n",
       "      <td>11.0</td>\n",
       "      <td>13.0</td>\n",
       "      <td>15.0</td>\n",
       "      <td>16.0</td>\n",
       "    </tr>\n",
       "    <tr>\n",
       "      <th>2074</th>\n",
       "      <td>0.0</td>\n",
       "      <td>2.0</td>\n",
       "      <td>4.0</td>\n",
       "      <td>6.0</td>\n",
       "      <td>8.0</td>\n",
       "      <td>11.0</td>\n",
       "      <td>14.0</td>\n",
       "      <td>15.0</td>\n",
       "      <td>16.0</td>\n",
       "    </tr>\n",
       "    <tr>\n",
       "      <th>349</th>\n",
       "      <td>0.0</td>\n",
       "      <td>2.0</td>\n",
       "      <td>4.0</td>\n",
       "      <td>6.0</td>\n",
       "      <td>8.0</td>\n",
       "      <td>12.0</td>\n",
       "      <td>14.0</td>\n",
       "      <td>15.0</td>\n",
       "      <td>16.0</td>\n",
       "    </tr>\n",
       "  </tbody>\n",
       "</table>\n",
       "</div>"
      ],
      "text/plain": [
       "      cough  fever  sore_throat  shortness_of_breath  head_ache  \\\n",
       "206     0.0    2.0          4.0                  6.0        8.0   \n",
       "5617    0.0    2.0          4.0                  6.0        8.0   \n",
       "2596    0.0    2.0          4.0                  6.0        8.0   \n",
       "5761    0.0    2.0          4.0                  6.0        8.0   \n",
       "3730    0.0    2.0          4.0                  6.0        8.0   \n",
       "24      0.0    2.0          4.0                  6.0        8.0   \n",
       "6097    0.0    2.0          4.0                  6.0        8.0   \n",
       "6131    0.0    2.0          4.0                  6.0        8.0   \n",
       "2074    0.0    2.0          4.0                  6.0        8.0   \n",
       "349     0.0    2.0          4.0                  6.0        8.0   \n",
       "\n",
       "      age_60_and_above  gender  confirmed_ratio  weekday_ratio  \n",
       "206               10.0    14.0             15.0           16.0  \n",
       "5617              11.0    13.0             15.0           17.0  \n",
       "2596              10.0    14.0             15.0           16.0  \n",
       "5761              11.0    13.0             15.0           16.0  \n",
       "3730              11.0    13.0             15.0           16.0  \n",
       "24                10.0    14.0             15.0           16.0  \n",
       "6097              11.0    13.0             15.0           16.0  \n",
       "6131              11.0    13.0             15.0           16.0  \n",
       "2074              11.0    14.0             15.0           16.0  \n",
       "349               12.0    14.0             15.0           16.0  "
      ]
     },
     "metadata": {},
     "output_type": "display_data"
    },
    {
     "data": {
      "text/html": [
       "<div>\n",
       "<style scoped>\n",
       "    .dataframe tbody tr th:only-of-type {\n",
       "        vertical-align: middle;\n",
       "    }\n",
       "\n",
       "    .dataframe tbody tr th {\n",
       "        vertical-align: top;\n",
       "    }\n",
       "\n",
       "    .dataframe thead th {\n",
       "        text-align: right;\n",
       "    }\n",
       "</style>\n",
       "<table border=\"1\" class=\"dataframe\">\n",
       "  <thead>\n",
       "    <tr style=\"text-align: right;\">\n",
       "      <th></th>\n",
       "      <th>cough</th>\n",
       "      <th>fever</th>\n",
       "      <th>sore_throat</th>\n",
       "      <th>shortness_of_breath</th>\n",
       "      <th>head_ache</th>\n",
       "      <th>age_60_and_above</th>\n",
       "      <th>gender</th>\n",
       "      <th>confirmed_ratio</th>\n",
       "      <th>weekday_ratio</th>\n",
       "    </tr>\n",
       "  </thead>\n",
       "  <tbody>\n",
       "    <tr>\n",
       "      <th>767</th>\n",
       "      <td>1.0</td>\n",
       "      <td>1.0</td>\n",
       "      <td>1.0</td>\n",
       "      <td>1.0</td>\n",
       "      <td>1.0</td>\n",
       "      <td>1.0</td>\n",
       "      <td>1.0</td>\n",
       "      <td>0.123091</td>\n",
       "      <td>1.0</td>\n",
       "    </tr>\n",
       "    <tr>\n",
       "      <th>4770</th>\n",
       "      <td>1.0</td>\n",
       "      <td>1.0</td>\n",
       "      <td>1.0</td>\n",
       "      <td>1.0</td>\n",
       "      <td>1.0</td>\n",
       "      <td>1.0</td>\n",
       "      <td>1.0</td>\n",
       "      <td>0.681252</td>\n",
       "      <td>1.0</td>\n",
       "    </tr>\n",
       "    <tr>\n",
       "      <th>3556</th>\n",
       "      <td>1.0</td>\n",
       "      <td>1.0</td>\n",
       "      <td>1.0</td>\n",
       "      <td>1.0</td>\n",
       "      <td>1.0</td>\n",
       "      <td>1.0</td>\n",
       "      <td>1.0</td>\n",
       "      <td>0.488979</td>\n",
       "      <td>1.0</td>\n",
       "    </tr>\n",
       "    <tr>\n",
       "      <th>404</th>\n",
       "      <td>1.0</td>\n",
       "      <td>1.0</td>\n",
       "      <td>1.0</td>\n",
       "      <td>1.0</td>\n",
       "      <td>1.0</td>\n",
       "      <td>1.0</td>\n",
       "      <td>1.0</td>\n",
       "      <td>0.068521</td>\n",
       "      <td>1.0</td>\n",
       "    </tr>\n",
       "    <tr>\n",
       "      <th>6886</th>\n",
       "      <td>1.0</td>\n",
       "      <td>1.0</td>\n",
       "      <td>1.0</td>\n",
       "      <td>1.0</td>\n",
       "      <td>1.0</td>\n",
       "      <td>1.0</td>\n",
       "      <td>1.0</td>\n",
       "      <td>0.815570</td>\n",
       "      <td>1.0</td>\n",
       "    </tr>\n",
       "    <tr>\n",
       "      <th>6906</th>\n",
       "      <td>1.0</td>\n",
       "      <td>1.0</td>\n",
       "      <td>1.0</td>\n",
       "      <td>1.0</td>\n",
       "      <td>1.0</td>\n",
       "      <td>1.0</td>\n",
       "      <td>1.0</td>\n",
       "      <td>0.815570</td>\n",
       "      <td>1.0</td>\n",
       "    </tr>\n",
       "    <tr>\n",
       "      <th>2596</th>\n",
       "      <td>1.0</td>\n",
       "      <td>1.0</td>\n",
       "      <td>1.0</td>\n",
       "      <td>1.0</td>\n",
       "      <td>1.0</td>\n",
       "      <td>1.0</td>\n",
       "      <td>1.0</td>\n",
       "      <td>0.259886</td>\n",
       "      <td>1.0</td>\n",
       "    </tr>\n",
       "    <tr>\n",
       "      <th>6689</th>\n",
       "      <td>1.0</td>\n",
       "      <td>1.0</td>\n",
       "      <td>1.0</td>\n",
       "      <td>1.0</td>\n",
       "      <td>1.0</td>\n",
       "      <td>1.0</td>\n",
       "      <td>1.0</td>\n",
       "      <td>0.479567</td>\n",
       "      <td>1.0</td>\n",
       "    </tr>\n",
       "    <tr>\n",
       "      <th>1161</th>\n",
       "      <td>1.0</td>\n",
       "      <td>1.0</td>\n",
       "      <td>1.0</td>\n",
       "      <td>1.0</td>\n",
       "      <td>1.0</td>\n",
       "      <td>1.0</td>\n",
       "      <td>1.0</td>\n",
       "      <td>0.117312</td>\n",
       "      <td>1.0</td>\n",
       "    </tr>\n",
       "    <tr>\n",
       "      <th>543</th>\n",
       "      <td>1.0</td>\n",
       "      <td>1.0</td>\n",
       "      <td>1.0</td>\n",
       "      <td>1.0</td>\n",
       "      <td>1.0</td>\n",
       "      <td>1.0</td>\n",
       "      <td>1.0</td>\n",
       "      <td>0.100718</td>\n",
       "      <td>1.0</td>\n",
       "    </tr>\n",
       "  </tbody>\n",
       "</table>\n",
       "</div>"
      ],
      "text/plain": [
       "      cough  fever  sore_throat  shortness_of_breath  head_ache  \\\n",
       "767     1.0    1.0          1.0                  1.0        1.0   \n",
       "4770    1.0    1.0          1.0                  1.0        1.0   \n",
       "3556    1.0    1.0          1.0                  1.0        1.0   \n",
       "404     1.0    1.0          1.0                  1.0        1.0   \n",
       "6886    1.0    1.0          1.0                  1.0        1.0   \n",
       "6906    1.0    1.0          1.0                  1.0        1.0   \n",
       "2596    1.0    1.0          1.0                  1.0        1.0   \n",
       "6689    1.0    1.0          1.0                  1.0        1.0   \n",
       "1161    1.0    1.0          1.0                  1.0        1.0   \n",
       "543     1.0    1.0          1.0                  1.0        1.0   \n",
       "\n",
       "      age_60_and_above  gender  confirmed_ratio  weekday_ratio  \n",
       "767                1.0     1.0         0.123091            1.0  \n",
       "4770               1.0     1.0         0.681252            1.0  \n",
       "3556               1.0     1.0         0.488979            1.0  \n",
       "404                1.0     1.0         0.068521            1.0  \n",
       "6886               1.0     1.0         0.815570            1.0  \n",
       "6906               1.0     1.0         0.815570            1.0  \n",
       "2596               1.0     1.0         0.259886            1.0  \n",
       "6689               1.0     1.0         0.479567            1.0  \n",
       "1161               1.0     1.0         0.117312            1.0  \n",
       "543                1.0     1.0         0.100718            1.0  "
      ]
     },
     "metadata": {},
     "output_type": "display_data"
    }
   ],
   "source": [
    "display(df_train_category.sample(10))\n",
    "display(df_train_intensity.sample(10))"
   ]
  },
  {
   "cell_type": "code",
   "execution_count": 12,
   "id": "6449656c",
   "metadata": {
    "pycharm": {
     "name": "#%%\n"
    }
   },
   "outputs": [
    {
     "name": "stdout",
     "output_type": "stream",
     "text": [
      "Sum : 7230 (2,)\n"
     ]
    },
    {
     "data": {
      "text/html": [
       "<div>\n",
       "<style scoped>\n",
       "    .dataframe tbody tr th:only-of-type {\n",
       "        vertical-align: middle;\n",
       "    }\n",
       "\n",
       "    .dataframe tbody tr th {\n",
       "        vertical-align: top;\n",
       "    }\n",
       "\n",
       "    .dataframe thead th {\n",
       "        text-align: right;\n",
       "    }\n",
       "</style>\n",
       "<table border=\"1\" class=\"dataframe\">\n",
       "  <thead>\n",
       "    <tr style=\"text-align: right;\">\n",
       "      <th></th>\n",
       "      <th>size</th>\n",
       "      <th>ratio</th>\n",
       "    </tr>\n",
       "    <tr>\n",
       "      <th>sore_throat</th>\n",
       "      <th></th>\n",
       "      <th></th>\n",
       "    </tr>\n",
       "  </thead>\n",
       "  <tbody>\n",
       "    <tr>\n",
       "      <th>4.0</th>\n",
       "      <td>7173</td>\n",
       "      <td>0.992116</td>\n",
       "    </tr>\n",
       "    <tr>\n",
       "      <th>5.0</th>\n",
       "      <td>57</td>\n",
       "      <td>0.007884</td>\n",
       "    </tr>\n",
       "  </tbody>\n",
       "</table>\n",
       "</div>"
      ],
      "text/plain": [
       "             size     ratio\n",
       "sore_throat                \n",
       "4.0          7173  0.992116\n",
       "5.0            57  0.007884"
      ]
     },
     "execution_count": 12,
     "metadata": {},
     "output_type": "execute_result"
    }
   ],
   "source": [
    "size_and_ratio(df_train_category, 'sore_throat')"
   ]
  },
  {
   "cell_type": "code",
   "execution_count": 13,
   "id": "fd690397",
   "metadata": {
    "pycharm": {
     "name": "#%%\n"
    }
   },
   "outputs": [],
   "source": [
    "def split_train_test(data, test_ratio, seed=None):\n",
    "    if seed != None:\n",
    "        np.random.seed(seed)\n",
    "    \n",
    "    shuffled_indices = np.random.permutation(len(data)).astype(int)\n",
    "    print(\"shuffled:\", shuffled_indices[:5], '...', \"total len:\", len(data))\n",
    "    test_set_size = int(len(data) * test_ratio)\n",
    "    \n",
    "    test_indices = shuffled_indices[:test_set_size]\n",
    "    train_indices = shuffled_indices[test_set_size:]\n",
    "    \n",
    "    test_data = data[:test_set_size]\n",
    "    train_data = data[test_set_size:]\n",
    "    test_data = data[test_indices]\n",
    "    train_data = data[train_indices]\n",
    "    \n",
    "    return train_data, test_data\n",
    "def split_input_gt(non_split_data):\n",
    "    splited_input = non_split_data[:, :-1]\n",
    "    splited_gt = non_split_data[:, -1]\n",
    "    \n",
    "    return splited_input, splited_gt"
   ]
  },
  {
   "cell_type": "code",
   "execution_count": 14,
   "id": "dd38bf7c",
   "metadata": {
    "pycharm": {
     "name": "#%%\n"
    }
   },
   "outputs": [
    {
     "data": {
      "text/plain": [
       "array([[0],\n",
       "       [0],\n",
       "       [0],\n",
       "       ...,\n",
       "       [1],\n",
       "       [0],\n",
       "       [0]])"
      ]
     },
     "execution_count": 14,
     "metadata": {},
     "output_type": "execute_result"
    }
   ],
   "source": [
    "np_cat = df_train_category.values\n",
    "np_ins = df_train_intensity.values\n",
    "np_gt = df_input_typed[['corona_result']].values\n",
    "np_gt"
   ]
  },
  {
   "cell_type": "code",
   "execution_count": 15,
   "id": "f1a1198e",
   "metadata": {
    "pycharm": {
     "name": "#%%\n"
    }
   },
   "outputs": [
    {
     "name": "stdout",
     "output_type": "stream",
     "text": [
      "shuffled: [3571  241 1807 3269 2200] ... total len: 7230\n",
      "shuffled: [2451 4535 4270 4511 1652] ... total len: 5784\n",
      "shuffled: [3571  241 1807 3269 2200] ... total len: 7230\n",
      "shuffled: [2451 4535 4270 4511 1652] ... total len: 5784\n",
      "shuffled: [3571  241 1807 3269 2200] ... total len: 7230\n",
      "shuffled: [2451 4535 4270 4511 1652] ... total len: 5784\n"
     ]
    }
   ],
   "source": [
    "not_test_np_cat, test_np_cat = split_train_test(np_cat, test_ratio=0.2, seed=1212)\n",
    "train_np_cat, valid_np_cat = split_train_test(not_test_np_cat, test_ratio=0.2, seed=1212)\n",
    "\n",
    "not_test_np_ins, test_np_ins = split_train_test(np_ins, test_ratio=0.2, seed=1212)\n",
    "train_np_ins, valid_np_ins = split_train_test(not_test_np_ins, test_ratio=0.2, seed=1212)\n",
    "\n",
    "\n",
    "not_test_np_gt, test_np_gt = split_train_test(np_gt, test_ratio=0.2, seed=1212)\n",
    "train_np_gt, valid_np_gt = split_train_test(not_test_np_gt, test_ratio=0.2, seed=1212)\n"
   ]
  },
  {
   "cell_type": "code",
   "execution_count": 16,
   "id": "e823fd27",
   "metadata": {
    "pycharm": {
     "name": "#%%\n"
    }
   },
   "outputs": [],
   "source": [
    "train_input = [train_np_cat.copy(), train_np_ins.copy()]\n",
    "train_gt = train_np_gt.copy()\n",
    "\n",
    "valid_input = [valid_np_cat.copy(), valid_np_ins.copy()]\n",
    "valid_gt = valid_np_gt.copy()\n",
    "\n",
    "test_input = [test_np_cat.copy(), test_np_ins.copy()]\n",
    "test_gt = test_np_gt.copy()\n"
   ]
  },
  {
   "cell_type": "code",
   "execution_count": 17,
   "id": "ef37a01d",
   "metadata": {
    "pycharm": {
     "name": "#%%\n"
    },
    "scrolled": true
   },
   "outputs": [
    {
     "name": "stdout",
     "output_type": "stream",
     "text": [
      "(4628, 9) (1156, 9) (1446, 9)\n",
      "(4628, 1) (1156, 1) (1446, 1)\n"
     ]
    }
   ],
   "source": [
    "print(train_input[0].shape, valid_input[0].shape, test_input[0].shape)\n",
    "print(train_gt.shape, valid_gt.shape, test_gt.shape)"
   ]
  },
  {
   "cell_type": "code",
   "execution_count": 18,
   "id": "919f78b8",
   "metadata": {
    "pycharm": {
     "name": "#%%\n"
    }
   },
   "outputs": [
    {
     "name": "stdout",
     "output_type": "stream",
     "text": [
      "# of train data positive:  335\n",
      "# of train data negative:  4293\n",
      "ratio of P/N:  0.07803400885161892\n",
      "\n",
      "# of valid data positive:  90\n",
      "# of valid data negative:  1066\n",
      "ratio of P/N:  0.08442776735459662\n",
      "\n",
      "# of test data positive:  98\n",
      "# of test data negative:  1348\n",
      "ratio of P/N:  0.07270029673590504\n"
     ]
    }
   ],
   "source": [
    "print(\"# of train data positive: \", train_gt.sum())\n",
    "print(\"# of train data negative: \", train_gt.shape[0] - train_gt.sum())\n",
    "print(\"ratio of P/N: \", train_gt.sum()/(train_gt.shape[0] - train_gt.sum()))\n",
    "print(\"\")\n",
    "\n",
    "print(\"# of valid data positive: \", valid_gt.sum())\n",
    "print(\"# of valid data negative: \", valid_gt.shape[0] - valid_gt.sum())\n",
    "print(\"ratio of P/N: \", valid_gt.sum()/(valid_gt.shape[0] - valid_gt.sum()))\n",
    "print(\"\")\n",
    "\n",
    "print(\"# of test data positive: \", test_gt.sum())\n",
    "print(\"# of test data negative: \", test_gt.shape[0] - test_gt.sum())\n",
    "print(\"ratio of P/N: \", test_gt.sum()/(test_gt.shape[0] - test_gt.sum()))"
   ]
  },
  {
   "cell_type": "markdown",
   "id": "4bd3be28",
   "metadata": {},
   "source": [
    "### Check dict_category and train_np_cat"
   ]
  },
  {
   "cell_type": "code",
   "execution_count": 19,
   "id": "26565dc0",
   "metadata": {
    "pycharm": {
     "name": "#%%\n"
    }
   },
   "outputs": [
    {
     "data": {
      "text/plain": [
       "{'cough_0': 0,\n",
       " 'cough_1': 1,\n",
       " 'fever_0': 2,\n",
       " 'fever_1': 3,\n",
       " 'sore_throat_0': 4,\n",
       " 'sore_throat_1': 5,\n",
       " 'shortness_of_breath_0': 6,\n",
       " 'shortness_of_breath_1': 7,\n",
       " 'head_ache_0': 8,\n",
       " 'head_ache_1': 9,\n",
       " 'age_60_and_above_-1': 10,\n",
       " 'age_60_and_above_0': 11,\n",
       " 'age_60_and_above_1': 12,\n",
       " 'gender_0': 13,\n",
       " 'gender_1': 14,\n",
       " 'confirmed_ratio': 15,\n",
       " 'weekday_ratio_0': 16,\n",
       " 'weekday_ratio_1': 17,\n",
       " 'corona_result_0': 18,\n",
       " 'corona_result_1': 19}"
      ]
     },
     "execution_count": 19,
     "metadata": {},
     "output_type": "execute_result"
    }
   ],
   "source": [
    "dict_category"
   ]
  },
  {
   "cell_type": "code",
   "execution_count": 20,
   "id": "15f444d5",
   "metadata": {
    "pycharm": {
     "name": "#%%\n"
    }
   },
   "outputs": [
    {
     "data": {
      "text/plain": [
       "array([[ 0.,  2.,  4., ..., 13., 15., 16.],\n",
       "       [ 0.,  2.,  4., ..., 13., 15., 16.],\n",
       "       [ 0.,  2.,  4., ..., 14., 15., 16.],\n",
       "       ...,\n",
       "       [ 0.,  2.,  4., ..., 13., 15., 16.],\n",
       "       [ 0.,  2.,  4., ..., 14., 15., 16.],\n",
       "       [ 0.,  2.,  4., ..., 13., 15., 17.]])"
      ]
     },
     "execution_count": 20,
     "metadata": {},
     "output_type": "execute_result"
    }
   ],
   "source": [
    "train_np_cat"
   ]
  },
  {
   "cell_type": "markdown",
   "id": "38ee9264",
   "metadata": {
    "pycharm": {
     "name": "#%% md\n"
    }
   },
   "source": [
    "# Category embeding layer"
   ]
  },
  {
   "cell_type": "code",
   "execution_count": 104,
   "id": "d05d150e",
   "metadata": {
    "pycharm": {
     "name": "#%%\n"
    }
   },
   "outputs": [
    {
     "name": "stdout",
     "output_type": "stream",
     "text": [
      "tensor([[-1.1995,  1.0258, -1.5161,  0.6267, -0.4996]],\n",
      "       grad_fn=<EmbeddingBackward0>)\n"
     ]
    }
   ],
   "source": [
    "n = len(dict_category)\n",
    "d = 5\n",
    "embeds = nn.Embedding(n, d)  # n words in vocab, 5 dimensional embeddings\n",
    "\n",
    "# sample test with \"cough\"\n",
    "lookup_tensor = torch.tensor([dict_category[\"cough_0\"]], dtype=torch.long)\n",
    "couth_embed = embeds(lookup_tensor)\n",
    "print(couth_embed)"
   ]
  },
  {
   "cell_type": "code",
   "execution_count": 116,
   "id": "ddf0f85f",
   "metadata": {},
   "outputs": [
    {
     "data": {
      "text/plain": [
       "Embedding(20, 10)"
      ]
     },
     "execution_count": 116,
     "metadata": {},
     "output_type": "execute_result"
    }
   ],
   "source": [
    "embeds"
   ]
  },
  {
   "cell_type": "markdown",
   "id": "76f0661d",
   "metadata": {
    "pycharm": {
     "name": "#%% md\n"
    }
   },
   "source": [
    " Sample inputs"
   ]
  },
  {
   "cell_type": "code",
   "execution_count": 40,
   "id": "55b908ca",
   "metadata": {
    "pycharm": {
     "name": "#%%\n"
    }
   },
   "outputs": [
    {
     "data": {
      "text/plain": [
       "tensor([ 0,  2,  4,  6,  8, 12, 13, 15, 16])"
      ]
     },
     "execution_count": 40,
     "metadata": {},
     "output_type": "execute_result"
    }
   ],
   "source": [
    "train_batch = torch.LongTensor(train_np_cat[0])\n",
    "train_batch"
   ]
  },
  {
   "cell_type": "markdown",
   "id": "1a302a02",
   "metadata": {
    "pycharm": {
     "name": "#%% md\n"
    }
   },
   "source": [
    " intensity values for the samples. Note: only confirmed_ratio has 0.34 values, other have 1"
   ]
  },
  {
   "cell_type": "code",
   "execution_count": 41,
   "id": "ac093c0c",
   "metadata": {
    "pycharm": {
     "name": "#%%\n"
    },
    "scrolled": true
   },
   "outputs": [
    {
     "data": {
      "text/plain": [
       "tensor([1.0000, 1.0000, 1.0000, 1.0000, 1.0000, 1.0000, 1.0000, 0.3438, 1.0000])"
      ]
     },
     "execution_count": 41,
     "metadata": {},
     "output_type": "execute_result"
    }
   ],
   "source": [
    "train_batch_intensity = torch.FloatTensor(train_np_ins[0])\n",
    "train_batch_intensity"
   ]
  },
  {
   "cell_type": "code",
   "execution_count": 51,
   "id": "41a47cd6",
   "metadata": {
    "pycharm": {
     "name": "#%%\n"
    }
   },
   "outputs": [
    {
     "name": "stdout",
     "output_type": "stream",
     "text": [
      "torch.Size([9, 5])\n"
     ]
    },
    {
     "data": {
      "text/plain": [
       "tensor([[ 0.0468,  0.0694, -0.8301, -0.5892, -0.4500],\n",
       "        [ 0.2189,  1.0110,  0.8616, -0.1891,  0.8887],\n",
       "        [-0.6935, -1.9201, -0.5703, -0.9124,  0.1106],\n",
       "        [ 1.1608, -0.3957,  0.0713,  1.3774, -0.6742],\n",
       "        [ 1.6958, -1.1947,  0.1399,  0.9050, -0.6406],\n",
       "        [-0.1252, -0.2113, -0.0383, -1.6542, -0.8345],\n",
       "        [-0.2912,  0.8185, -0.8129, -0.5812, -1.1632],\n",
       "        [-0.4745, -0.8060,  0.4962,  0.0873, -0.6951],\n",
       "        [-1.2760,  1.3263, -0.4213, -0.5523, -0.8796]],\n",
       "       grad_fn=<EmbeddingBackward0>)"
      ]
     },
     "execution_count": 51,
     "metadata": {},
     "output_type": "execute_result"
    }
   ],
   "source": [
    "cat_embeds = embeds(train_batch)\n",
    "print(cat_embeds.shape)\n",
    "cat_embeds"
   ]
  },
  {
   "cell_type": "code",
   "execution_count": 52,
   "id": "4c6c6441",
   "metadata": {
    "pycharm": {
     "name": "#%%\n"
    }
   },
   "outputs": [
    {
     "name": "stdout",
     "output_type": "stream",
     "text": [
      "torch.Size([9, 5])\n"
     ]
    },
    {
     "data": {
      "text/plain": [
       "tensor([[1.0000, 1.0000, 1.0000, 1.0000, 1.0000],\n",
       "        [1.0000, 1.0000, 1.0000, 1.0000, 1.0000],\n",
       "        [1.0000, 1.0000, 1.0000, 1.0000, 1.0000],\n",
       "        [1.0000, 1.0000, 1.0000, 1.0000, 1.0000],\n",
       "        [1.0000, 1.0000, 1.0000, 1.0000, 1.0000],\n",
       "        [1.0000, 1.0000, 1.0000, 1.0000, 1.0000],\n",
       "        [1.0000, 1.0000, 1.0000, 1.0000, 1.0000],\n",
       "        [0.3438, 0.3438, 0.3438, 0.3438, 0.3438],\n",
       "        [1.0000, 1.0000, 1.0000, 1.0000, 1.0000]])"
      ]
     },
     "execution_count": 52,
     "metadata": {},
     "output_type": "execute_result"
    }
   ],
   "source": [
    "intensity = train_batch_intensity.expand(d, 9).transpose(0, 1)\n",
    "print(intensity.shape)\n",
    "intensity"
   ]
  },
  {
   "cell_type": "markdown",
   "id": "58cfffe7",
   "metadata": {
    "pycharm": {
     "name": "#%% md\n"
    }
   },
   "source": [
    "multiple the intensity (scalar)"
   ]
  },
  {
   "cell_type": "code",
   "execution_count": 53,
   "id": "24263823",
   "metadata": {
    "pycharm": {
     "name": "#%%\n"
    }
   },
   "outputs": [
    {
     "name": "stdout",
     "output_type": "stream",
     "text": [
      "torch.Size([9, 5])\n"
     ]
    },
    {
     "data": {
      "text/plain": [
       "tensor([[ 0.0468,  0.0694, -0.8301, -0.5892, -0.4500],\n",
       "        [ 0.2189,  1.0110,  0.8616, -0.1891,  0.8887],\n",
       "        [-0.6935, -1.9201, -0.5703, -0.9124,  0.1106],\n",
       "        [ 1.1608, -0.3957,  0.0713,  1.3774, -0.6742],\n",
       "        [ 1.6958, -1.1947,  0.1399,  0.9050, -0.6406],\n",
       "        [-0.1252, -0.2113, -0.0383, -1.6542, -0.8345],\n",
       "        [-0.2912,  0.8185, -0.8129, -0.5812, -1.1632],\n",
       "        [-0.1631, -0.2771,  0.1706,  0.0300, -0.2389],\n",
       "        [-1.2760,  1.3263, -0.4213, -0.5523, -0.8796]], grad_fn=<MulBackward0>)"
      ]
     },
     "execution_count": 53,
     "metadata": {},
     "output_type": "execute_result"
    }
   ],
   "source": [
    "intensity_embeds = cat_embeds * intensity\n",
    "print(intensity_embeds.shape)\n",
    "intensity_embeds"
   ]
  },
  {
   "cell_type": "markdown",
   "id": "83e0ab52",
   "metadata": {
    "pycharm": {
     "name": "#%% md\n"
    }
   },
   "source": [
    "### Apply attention layer"
   ]
  },
  {
   "cell_type": "code",
   "execution_count": 54,
   "id": "83065e60",
   "metadata": {
    "pycharm": {
     "name": "#%%\n"
    }
   },
   "outputs": [],
   "source": [
    "\n",
    "fc_query = nn.Linear(d, d)\n",
    "fc_key = nn.Linear(d, d)\n",
    "fc_value = nn.Linear(d, d)\n",
    "\n",
    "query = fc_query(intensity_embeds)\n",
    "key = fc_key(intensity_embeds)\n",
    "value = fc_value(intensity_embeds)"
   ]
  },
  {
   "cell_type": "code",
   "execution_count": 66,
   "id": "e5ae8b7f",
   "metadata": {
    "pycharm": {
     "name": "#%%\n"
    }
   },
   "outputs": [
    {
     "data": {
      "text/plain": [
       "(tensor([[-0.2857,  0.1889,  0.1489, -0.1565,  0.6605],\n",
       "         [-0.7395,  0.3893, -0.2984,  0.5636,  0.1867],\n",
       "         [ 0.2933,  0.4409,  0.6648,  0.0376, -0.2046],\n",
       "         [-0.3587,  0.2807,  0.6418, -0.2844,  0.5242],\n",
       "         [-0.1292,  0.7542,  0.8130, -0.6248,  0.0094],\n",
       "         [-0.3969,  0.5077, -0.5793, -0.1518,  0.3529],\n",
       "         [-0.5883, -0.1551, -0.3775, -0.0735,  1.2481],\n",
       "         [-0.3661,  0.1754,  0.0770,  0.2138,  0.4081],\n",
       "         [-0.7898, -0.5310, -0.7525,  0.5241,  1.4550]],\n",
       "        grad_fn=<AddmmBackward0>),\n",
       " tensor([[-0.6269, -0.3281, -0.1026, -0.1579, -0.1261],\n",
       "         [ 0.5384, -0.0798,  0.4958,  0.4476,  0.5327],\n",
       "         [-1.2396, -0.5369,  0.8596, -0.7259, -0.9787],\n",
       "         [ 0.1533, -0.7948, -0.3024,  0.9275,  0.6377],\n",
       "         [ 0.0572, -1.3515, -0.3055,  0.5088,  0.3625],\n",
       "         [-0.5564, -0.7791, -0.0624, -0.2210, -0.7636],\n",
       "         [-0.5556, -0.1371, -0.4583,  0.2827, -0.1186],\n",
       "         [-0.2527, -0.3553,  0.3056,  0.3985, -0.0858],\n",
       "         [-0.4878,  0.4364, -0.0381,  0.5742, -0.1799]],\n",
       "        grad_fn=<AddmmBackward0>),\n",
       " tensor([[ 0.2103, -0.3955,  0.5257, -0.7888, -0.3843],\n",
       "         [-0.9355, -0.1284, -0.4161,  0.3829, -0.5388],\n",
       "         [ 0.3957,  0.0643,  0.9072, -1.3348, -0.3973],\n",
       "         [ 0.4158, -0.6510,  0.5382, -0.4017,  0.3917],\n",
       "         [ 0.7735, -0.1709,  0.3404, -0.8736,  0.7246],\n",
       "         [ 0.3699,  0.0216,  0.0904, -0.9018, -0.5062],\n",
       "         [ 0.2257, -0.7889,  0.5958, -0.5379, -0.6351],\n",
       "         [-0.0198, -0.4214,  0.4629, -0.3722, -0.3709],\n",
       "         [-0.3232, -1.0353,  0.6595, -0.0109, -1.1775]],\n",
       "        grad_fn=<AddmmBackward0>))"
      ]
     },
     "execution_count": 66,
     "metadata": {},
     "output_type": "execute_result"
    }
   ],
   "source": [
    "query, key, value"
   ]
  },
  {
   "cell_type": "code",
   "execution_count": 67,
   "id": "0416d8d4",
   "metadata": {
    "pycharm": {
     "name": "#%%\n"
    }
   },
   "outputs": [
    {
     "data": {
      "text/plain": [
       "(tensor([[-0.0590, -0.0826, -0.1745, -0.0322,  0.2837],\n",
       "         [-0.0563, -0.0774, -0.1727, -0.0299,  0.2800],\n",
       "         [-0.0532, -0.0786, -0.1665, -0.0289,  0.2743],\n",
       "         [-0.0560, -0.0821, -0.1737, -0.0305,  0.2845],\n",
       "         [-0.0536, -0.0768, -0.1710, -0.0255,  0.2808],\n",
       "         [-0.0591, -0.0779, -0.1742, -0.0296,  0.2812],\n",
       "         [-0.0639, -0.0862, -0.1809, -0.0358,  0.2907],\n",
       "         [-0.0574, -0.0808, -0.1726, -0.0317,  0.2808],\n",
       "         [-0.0669, -0.0871, -0.1843, -0.0383,  0.2930]],\n",
       "        grad_fn=<SqueezeBackward1>),\n",
       " tensor([[0.1118, 0.1089, 0.1163, 0.1099, 0.1105, 0.1112, 0.1105, 0.1106, 0.1101],\n",
       "         [0.1113, 0.1164, 0.1178, 0.1079, 0.1084, 0.1099, 0.1073, 0.1120, 0.1090],\n",
       "         [0.1106, 0.1062, 0.1155, 0.1087, 0.1093, 0.1137, 0.1121, 0.1111, 0.1128],\n",
       "         [0.1109, 0.1049, 0.1158, 0.1115, 0.1116, 0.1113, 0.1120, 0.1102, 0.1116],\n",
       "         [0.1102, 0.1015, 0.1222, 0.1076, 0.1093, 0.1139, 0.1117, 0.1105, 0.1132],\n",
       "         [0.1121, 0.1134, 0.1232, 0.1050, 0.1073, 0.1121, 0.1067, 0.1119, 0.1081],\n",
       "         [0.1118, 0.1139, 0.1170, 0.1116, 0.1114, 0.1083, 0.1091, 0.1095, 0.1075],\n",
       "         [0.1116, 0.1118, 0.1140, 0.1099, 0.1102, 0.1107, 0.1101, 0.1112, 0.1104],\n",
       "         [0.1109, 0.1215, 0.1138, 0.1132, 0.1119, 0.1049, 0.1085, 0.1084, 0.1070]],\n",
       "        grad_fn=<SqueezeBackward1>))"
      ]
     },
     "execution_count": 67,
     "metadata": {},
     "output_type": "execute_result"
    }
   ],
   "source": [
    "n_head = 5\n",
    "multihead_attn = nn.MultiheadAttention(embed_dim=d, num_heads=n_head)\n",
    "\n",
    "attn_output, attn_output_weights = multihead_attn(query, key, value)\n",
    "attn_output, attn_output_weights"
   ]
  },
  {
   "cell_type": "code",
   "execution_count": 68,
   "id": "d69c9cfa",
   "metadata": {
    "pycharm": {
     "name": "#%%\n"
    }
   },
   "outputs": [
    {
     "name": "stdout",
     "output_type": "stream",
     "text": [
      "torch.Size([45])\n"
     ]
    },
    {
     "data": {
      "text/plain": [
       "tensor([-0.0590, -0.0826, -0.1745, -0.0322,  0.2837, -0.0563, -0.0774, -0.1727,\n",
       "        -0.0299,  0.2800, -0.0532, -0.0786, -0.1665, -0.0289,  0.2743, -0.0560,\n",
       "        -0.0821, -0.1737, -0.0305,  0.2845, -0.0536, -0.0768, -0.1710, -0.0255,\n",
       "         0.2808, -0.0591, -0.0779, -0.1742, -0.0296,  0.2812, -0.0639, -0.0862,\n",
       "        -0.1809, -0.0358,  0.2907, -0.0574, -0.0808, -0.1726, -0.0317,  0.2808,\n",
       "        -0.0669, -0.0871, -0.1843, -0.0383,  0.2930],\n",
       "       grad_fn=<ReshapeAliasBackward0>)"
      ]
     },
     "execution_count": 68,
     "metadata": {},
     "output_type": "execute_result"
    }
   ],
   "source": [
    "sig_out = torch.flatten(attn_output)\n",
    "print(sig_out.shape)\n",
    "sig_out"
   ]
  },
  {
   "cell_type": "markdown",
   "id": "e2e36b21",
   "metadata": {},
   "source": [
    "Intensity 값도 좀 써보자..."
   ]
  },
  {
   "cell_type": "code",
   "execution_count": 198,
   "id": "58730190",
   "metadata": {},
   "outputs": [
    {
     "ename": "TypeError",
     "evalue": "__init__() got an unexpected keyword argument 'dim'",
     "output_type": "error",
     "traceback": [
      "\u001b[0;31m---------------------------------------------------------------------------\u001b[0m",
      "\u001b[0;31mTypeError\u001b[0m                                 Traceback (most recent call last)",
      "Input \u001b[0;32mIn [198]\u001b[0m, in \u001b[0;36m<cell line: 1>\u001b[0;34m()\u001b[0m\n\u001b[0;32m----> 1\u001b[0m model \u001b[38;5;241m=\u001b[39m \u001b[43mCategoricalAttentionModel\u001b[49m\u001b[43m(\u001b[49m\u001b[43mdict_category\u001b[49m\u001b[43m,\u001b[49m\u001b[43m \u001b[49m\u001b[43mdim\u001b[49m\u001b[38;5;241;43m=\u001b[39;49m\u001b[38;5;241;43m10\u001b[39;49m\u001b[43m,\u001b[49m\u001b[43m \u001b[49m\u001b[43mn_head\u001b[49m\u001b[38;5;241;43m=\u001b[39;49m\u001b[38;5;241;43m5\u001b[39;49m\u001b[43m,\u001b[49m\u001b[43m \u001b[49m\u001b[43mlen_seq\u001b[49m\u001b[38;5;241;43m=\u001b[39;49m\u001b[43mtrain_input\u001b[49m\u001b[43m[\u001b[49m\u001b[38;5;241;43m0\u001b[39;49m\u001b[43m]\u001b[49m\u001b[38;5;241;43m.\u001b[39;49m\u001b[43mshape\u001b[49m\u001b[43m[\u001b[49m\u001b[38;5;241;43m0\u001b[39;49m\u001b[43m]\u001b[49m\u001b[43m)\u001b[49m\n\u001b[1;32m      2\u001b[0m loss \u001b[38;5;241m=\u001b[39m nn\u001b[38;5;241m.\u001b[39mBCELoss()\n\u001b[1;32m      3\u001b[0m optimizer \u001b[38;5;241m=\u001b[39m optim\u001b[38;5;241m.\u001b[39mAdam(model\u001b[38;5;241m.\u001b[39mparameters(), lr\u001b[38;5;241m=\u001b[39m\u001b[38;5;241m0.001\u001b[39m)\n",
      "\u001b[0;31mTypeError\u001b[0m: __init__() got an unexpected keyword argument 'dim'"
     ]
    }
   ],
   "source": [
    "model = CategoricalAttentionModel(dict_category, dim=10, n_head=5, len_seq=train_input[0].shape[0])\n",
    "loss = nn.BCELoss()\n",
    "epoch = 1\n",
    "\n",
    "for i in range(epoch):\n",
    "    for train_batch, train_batch_intensity, train_batch_gt in zip(*train_input, train_gt):\n",
    "        train_batch = torch.LongTensor(train_batch)\n",
    "        train_batch_intensity = torch.FloatTensor(train_batch_intensity)\n",
    "        \n",
    "        print(train_batch.shape, train_batch_intensity.shape, train_batch_gt.shape)\n",
    "        print(train_batch, train_batch_intensity, train_batch_gt)      \n",
    "\n",
    "        out, attn_output_weight = model(train_batch], [train_batch_intensity])\n",
    "        out = loss(out, torch.FloatTensor(train_batch_gt))\n",
    "        out.backward()"
   ]
  },
  {
   "cell_type": "code",
   "execution_count": 114,
   "id": "72a64ceb",
   "metadata": {},
   "outputs": [
    {
     "data": {
      "text/plain": [
       "tensor([[-0.6470, -0.4671, -0.9521, -0.3721,  0.1073, -0.3636, -0.6553, -0.4153,\n",
       "         -0.2740, -0.1161],\n",
       "        [-0.8199,  0.6420,  0.0690,  0.2407,  0.5281,  0.5990, -0.5269, -0.0838,\n",
       "         -1.2944, -2.4451],\n",
       "        [-0.8439,  0.3972, -0.9228, -1.3569, -0.0828,  1.6367,  1.2470,  1.0412,\n",
       "          0.3062, -0.2643],\n",
       "        [-1.4641,  1.1879, -1.0983, -0.3468, -0.4475,  0.1358,  0.5564, -0.7417,\n",
       "         -0.9949, -0.5689],\n",
       "        [ 0.6894,  0.8224,  1.6778,  0.9481,  0.4234, -0.5520,  0.4859,  0.1137,\n",
       "          0.9515, -0.2714],\n",
       "        [-0.0478, -0.2252,  1.4150,  0.5634, -0.6786,  1.0044,  1.2636,  0.9458,\n",
       "         -1.3276,  0.1284],\n",
       "        [-1.3680, -0.8717, -0.9801, -0.0789,  0.1069, -0.2780,  1.3702,  1.5853,\n",
       "          0.9717, -2.1310],\n",
       "        [-0.0193,  1.6397, -1.9519, -0.0153, -0.7928,  0.3646, -0.5454, -0.2519,\n",
       "         -0.9905,  0.0076],\n",
       "        [-0.6290, -0.5411, -0.0429,  0.4950,  1.3508,  0.0924, -0.9634,  1.6695,\n",
       "          0.6529, -1.7690]], grad_fn=<EmbeddingBackward0>)"
      ]
     },
     "execution_count": 114,
     "metadata": {},
     "output_type": "execute_result"
    }
   ],
   "source": [
    "embeds = nn.Embedding(len(dict_category), 10)\n",
    "embeds(train_batch)"
   ]
  },
  {
   "cell_type": "code",
   "execution_count": null,
   "id": "4dfeb385",
   "metadata": {
    "pycharm": {
     "name": "#%%\n"
    }
   },
   "outputs": [],
   "source": []
  },
  {
   "cell_type": "code",
   "execution_count": null,
   "id": "1cc29774",
   "metadata": {
    "pycharm": {
     "name": "#%%\n"
    }
   },
   "outputs": [],
   "source": []
  },
  {
   "cell_type": "markdown",
   "id": "a40fb17f",
   "metadata": {
    "pycharm": {
     "name": "#%% md\n"
    }
   },
   "source": [
    "## Using transformer instead of attention. (positional encoding is included)"
   ]
  },
  {
   "cell_type": "code",
   "execution_count": 124,
   "id": "027370d0",
   "metadata": {
    "pycharm": {
     "name": "#%%\n"
    }
   },
   "outputs": [
    {
     "data": {
      "text/plain": [
       "Transformer(\n",
       "  (encoder): TransformerEncoder(\n",
       "    (layers): ModuleList(\n",
       "      (0): TransformerEncoderLayer(\n",
       "        (self_attn): MultiheadAttention(\n",
       "          (out_proj): NonDynamicallyQuantizableLinear(in_features=10, out_features=10, bias=True)\n",
       "        )\n",
       "        (linear1): Linear(in_features=10, out_features=2048, bias=True)\n",
       "        (dropout): Dropout(p=0.1, inplace=False)\n",
       "        (linear2): Linear(in_features=2048, out_features=10, bias=True)\n",
       "        (norm1): LayerNorm((10,), eps=1e-05, elementwise_affine=True)\n",
       "        (norm2): LayerNorm((10,), eps=1e-05, elementwise_affine=True)\n",
       "        (dropout1): Dropout(p=0.1, inplace=False)\n",
       "        (dropout2): Dropout(p=0.1, inplace=False)\n",
       "      )\n",
       "      (1): TransformerEncoderLayer(\n",
       "        (self_attn): MultiheadAttention(\n",
       "          (out_proj): NonDynamicallyQuantizableLinear(in_features=10, out_features=10, bias=True)\n",
       "        )\n",
       "        (linear1): Linear(in_features=10, out_features=2048, bias=True)\n",
       "        (dropout): Dropout(p=0.1, inplace=False)\n",
       "        (linear2): Linear(in_features=2048, out_features=10, bias=True)\n",
       "        (norm1): LayerNorm((10,), eps=1e-05, elementwise_affine=True)\n",
       "        (norm2): LayerNorm((10,), eps=1e-05, elementwise_affine=True)\n",
       "        (dropout1): Dropout(p=0.1, inplace=False)\n",
       "        (dropout2): Dropout(p=0.1, inplace=False)\n",
       "      )\n",
       "      (2): TransformerEncoderLayer(\n",
       "        (self_attn): MultiheadAttention(\n",
       "          (out_proj): NonDynamicallyQuantizableLinear(in_features=10, out_features=10, bias=True)\n",
       "        )\n",
       "        (linear1): Linear(in_features=10, out_features=2048, bias=True)\n",
       "        (dropout): Dropout(p=0.1, inplace=False)\n",
       "        (linear2): Linear(in_features=2048, out_features=10, bias=True)\n",
       "        (norm1): LayerNorm((10,), eps=1e-05, elementwise_affine=True)\n",
       "        (norm2): LayerNorm((10,), eps=1e-05, elementwise_affine=True)\n",
       "        (dropout1): Dropout(p=0.1, inplace=False)\n",
       "        (dropout2): Dropout(p=0.1, inplace=False)\n",
       "      )\n",
       "      (3): TransformerEncoderLayer(\n",
       "        (self_attn): MultiheadAttention(\n",
       "          (out_proj): NonDynamicallyQuantizableLinear(in_features=10, out_features=10, bias=True)\n",
       "        )\n",
       "        (linear1): Linear(in_features=10, out_features=2048, bias=True)\n",
       "        (dropout): Dropout(p=0.1, inplace=False)\n",
       "        (linear2): Linear(in_features=2048, out_features=10, bias=True)\n",
       "        (norm1): LayerNorm((10,), eps=1e-05, elementwise_affine=True)\n",
       "        (norm2): LayerNorm((10,), eps=1e-05, elementwise_affine=True)\n",
       "        (dropout1): Dropout(p=0.1, inplace=False)\n",
       "        (dropout2): Dropout(p=0.1, inplace=False)\n",
       "      )\n",
       "      (4): TransformerEncoderLayer(\n",
       "        (self_attn): MultiheadAttention(\n",
       "          (out_proj): NonDynamicallyQuantizableLinear(in_features=10, out_features=10, bias=True)\n",
       "        )\n",
       "        (linear1): Linear(in_features=10, out_features=2048, bias=True)\n",
       "        (dropout): Dropout(p=0.1, inplace=False)\n",
       "        (linear2): Linear(in_features=2048, out_features=10, bias=True)\n",
       "        (norm1): LayerNorm((10,), eps=1e-05, elementwise_affine=True)\n",
       "        (norm2): LayerNorm((10,), eps=1e-05, elementwise_affine=True)\n",
       "        (dropout1): Dropout(p=0.1, inplace=False)\n",
       "        (dropout2): Dropout(p=0.1, inplace=False)\n",
       "      )\n",
       "    )\n",
       "    (norm): LayerNorm((10,), eps=1e-05, elementwise_affine=True)\n",
       "  )\n",
       "  (decoder): TransformerDecoder(\n",
       "    (layers): ModuleList(\n",
       "      (0): TransformerDecoderLayer(\n",
       "        (self_attn): MultiheadAttention(\n",
       "          (out_proj): NonDynamicallyQuantizableLinear(in_features=10, out_features=10, bias=True)\n",
       "        )\n",
       "        (multihead_attn): MultiheadAttention(\n",
       "          (out_proj): NonDynamicallyQuantizableLinear(in_features=10, out_features=10, bias=True)\n",
       "        )\n",
       "        (linear1): Linear(in_features=10, out_features=2048, bias=True)\n",
       "        (dropout): Dropout(p=0.1, inplace=False)\n",
       "        (linear2): Linear(in_features=2048, out_features=10, bias=True)\n",
       "        (norm1): LayerNorm((10,), eps=1e-05, elementwise_affine=True)\n",
       "        (norm2): LayerNorm((10,), eps=1e-05, elementwise_affine=True)\n",
       "        (norm3): LayerNorm((10,), eps=1e-05, elementwise_affine=True)\n",
       "        (dropout1): Dropout(p=0.1, inplace=False)\n",
       "        (dropout2): Dropout(p=0.1, inplace=False)\n",
       "        (dropout3): Dropout(p=0.1, inplace=False)\n",
       "      )\n",
       "      (1): TransformerDecoderLayer(\n",
       "        (self_attn): MultiheadAttention(\n",
       "          (out_proj): NonDynamicallyQuantizableLinear(in_features=10, out_features=10, bias=True)\n",
       "        )\n",
       "        (multihead_attn): MultiheadAttention(\n",
       "          (out_proj): NonDynamicallyQuantizableLinear(in_features=10, out_features=10, bias=True)\n",
       "        )\n",
       "        (linear1): Linear(in_features=10, out_features=2048, bias=True)\n",
       "        (dropout): Dropout(p=0.1, inplace=False)\n",
       "        (linear2): Linear(in_features=2048, out_features=10, bias=True)\n",
       "        (norm1): LayerNorm((10,), eps=1e-05, elementwise_affine=True)\n",
       "        (norm2): LayerNorm((10,), eps=1e-05, elementwise_affine=True)\n",
       "        (norm3): LayerNorm((10,), eps=1e-05, elementwise_affine=True)\n",
       "        (dropout1): Dropout(p=0.1, inplace=False)\n",
       "        (dropout2): Dropout(p=0.1, inplace=False)\n",
       "        (dropout3): Dropout(p=0.1, inplace=False)\n",
       "      )\n",
       "      (2): TransformerDecoderLayer(\n",
       "        (self_attn): MultiheadAttention(\n",
       "          (out_proj): NonDynamicallyQuantizableLinear(in_features=10, out_features=10, bias=True)\n",
       "        )\n",
       "        (multihead_attn): MultiheadAttention(\n",
       "          (out_proj): NonDynamicallyQuantizableLinear(in_features=10, out_features=10, bias=True)\n",
       "        )\n",
       "        (linear1): Linear(in_features=10, out_features=2048, bias=True)\n",
       "        (dropout): Dropout(p=0.1, inplace=False)\n",
       "        (linear2): Linear(in_features=2048, out_features=10, bias=True)\n",
       "        (norm1): LayerNorm((10,), eps=1e-05, elementwise_affine=True)\n",
       "        (norm2): LayerNorm((10,), eps=1e-05, elementwise_affine=True)\n",
       "        (norm3): LayerNorm((10,), eps=1e-05, elementwise_affine=True)\n",
       "        (dropout1): Dropout(p=0.1, inplace=False)\n",
       "        (dropout2): Dropout(p=0.1, inplace=False)\n",
       "        (dropout3): Dropout(p=0.1, inplace=False)\n",
       "      )\n",
       "      (3): TransformerDecoderLayer(\n",
       "        (self_attn): MultiheadAttention(\n",
       "          (out_proj): NonDynamicallyQuantizableLinear(in_features=10, out_features=10, bias=True)\n",
       "        )\n",
       "        (multihead_attn): MultiheadAttention(\n",
       "          (out_proj): NonDynamicallyQuantizableLinear(in_features=10, out_features=10, bias=True)\n",
       "        )\n",
       "        (linear1): Linear(in_features=10, out_features=2048, bias=True)\n",
       "        (dropout): Dropout(p=0.1, inplace=False)\n",
       "        (linear2): Linear(in_features=2048, out_features=10, bias=True)\n",
       "        (norm1): LayerNorm((10,), eps=1e-05, elementwise_affine=True)\n",
       "        (norm2): LayerNorm((10,), eps=1e-05, elementwise_affine=True)\n",
       "        (norm3): LayerNorm((10,), eps=1e-05, elementwise_affine=True)\n",
       "        (dropout1): Dropout(p=0.1, inplace=False)\n",
       "        (dropout2): Dropout(p=0.1, inplace=False)\n",
       "        (dropout3): Dropout(p=0.1, inplace=False)\n",
       "      )\n",
       "      (4): TransformerDecoderLayer(\n",
       "        (self_attn): MultiheadAttention(\n",
       "          (out_proj): NonDynamicallyQuantizableLinear(in_features=10, out_features=10, bias=True)\n",
       "        )\n",
       "        (multihead_attn): MultiheadAttention(\n",
       "          (out_proj): NonDynamicallyQuantizableLinear(in_features=10, out_features=10, bias=True)\n",
       "        )\n",
       "        (linear1): Linear(in_features=10, out_features=2048, bias=True)\n",
       "        (dropout): Dropout(p=0.1, inplace=False)\n",
       "        (linear2): Linear(in_features=2048, out_features=10, bias=True)\n",
       "        (norm1): LayerNorm((10,), eps=1e-05, elementwise_affine=True)\n",
       "        (norm2): LayerNorm((10,), eps=1e-05, elementwise_affine=True)\n",
       "        (norm3): LayerNorm((10,), eps=1e-05, elementwise_affine=True)\n",
       "        (dropout1): Dropout(p=0.1, inplace=False)\n",
       "        (dropout2): Dropout(p=0.1, inplace=False)\n",
       "        (dropout3): Dropout(p=0.1, inplace=False)\n",
       "      )\n",
       "      (5): TransformerDecoderLayer(\n",
       "        (self_attn): MultiheadAttention(\n",
       "          (out_proj): NonDynamicallyQuantizableLinear(in_features=10, out_features=10, bias=True)\n",
       "        )\n",
       "        (multihead_attn): MultiheadAttention(\n",
       "          (out_proj): NonDynamicallyQuantizableLinear(in_features=10, out_features=10, bias=True)\n",
       "        )\n",
       "        (linear1): Linear(in_features=10, out_features=2048, bias=True)\n",
       "        (dropout): Dropout(p=0.1, inplace=False)\n",
       "        (linear2): Linear(in_features=2048, out_features=10, bias=True)\n",
       "        (norm1): LayerNorm((10,), eps=1e-05, elementwise_affine=True)\n",
       "        (norm2): LayerNorm((10,), eps=1e-05, elementwise_affine=True)\n",
       "        (norm3): LayerNorm((10,), eps=1e-05, elementwise_affine=True)\n",
       "        (dropout1): Dropout(p=0.1, inplace=False)\n",
       "        (dropout2): Dropout(p=0.1, inplace=False)\n",
       "        (dropout3): Dropout(p=0.1, inplace=False)\n",
       "      )\n",
       "    )\n",
       "    (norm): LayerNorm((10,), eps=1e-05, elementwise_affine=True)\n",
       "  )\n",
       ")"
      ]
     },
     "execution_count": 124,
     "metadata": {},
     "output_type": "execute_result"
    }
   ],
   "source": [
    "transformer_model = nn.Transformer(d_model=10, nhead=5, num_encoder_layers=5)\n",
    "transformer_model"
   ]
  },
  {
   "cell_type": "code",
   "execution_count": 154,
   "id": "ff8fda48",
   "metadata": {},
   "outputs": [
    {
     "data": {
      "text/plain": [
       "10"
      ]
     },
     "execution_count": 154,
     "metadata": {},
     "output_type": "execute_result"
    }
   ],
   "source": [
    "transformer_model.d_model"
   ]
  },
  {
   "cell_type": "code",
   "execution_count": null,
   "id": "99564196",
   "metadata": {},
   "outputs": [],
   "source": [
    "out = transformer_model(intensity_embeds, intensity_embeds)"
   ]
  },
  {
   "cell_type": "code",
   "execution_count": 163,
   "id": "f6e33ede",
   "metadata": {},
   "outputs": [
    {
     "data": {
      "text/plain": [
       "4628"
      ]
     },
     "execution_count": 163,
     "metadata": {},
     "output_type": "execute_result"
    }
   ],
   "source": [
    "len(train_input[0])"
   ]
  },
  {
   "cell_type": "markdown",
   "id": "10830648",
   "metadata": {},
   "source": [
    "Let's train with my own model"
   ]
  },
  {
   "cell_type": "code",
   "execution_count": 175,
   "id": "e312df65",
   "metadata": {},
   "outputs": [
    {
     "name": "stdout",
     "output_type": "stream",
     "text": [
      "Epoch 0 train_loss: tensor(15775.6855, grad_fn=<DivBackward0>)\n",
      "Epoch 1 train_loss: tensor(16750., grad_fn=<DivBackward0>)\n",
      "Epoch 2 train_loss: tensor(16750., grad_fn=<DivBackward0>)\n",
      "Epoch 3 train_loss: tensor(16750., grad_fn=<DivBackward0>)\n",
      "Epoch 4 train_loss: tensor(16750., grad_fn=<DivBackward0>)\n",
      "Epoch 5 train_loss: tensor(16750., grad_fn=<DivBackward0>)\n",
      "Epoch 6 train_loss: tensor(16750., grad_fn=<DivBackward0>)\n",
      "Epoch 7 train_loss: tensor(16750., grad_fn=<DivBackward0>)\n",
      "Epoch 8 train_loss: tensor(16750., grad_fn=<DivBackward0>)\n",
      "Epoch 9 train_loss: tensor(16750., grad_fn=<DivBackward0>)\n"
     ]
    }
   ],
   "source": [
    "from model.attention_model import CategoricalTransformer\n",
    "\n",
    "d_model = 10\n",
    "len_seq = len(train_input[0][0])\n",
    "\n",
    "transformer_model = nn.Transformer(d_model=d_model, nhead=5, num_encoder_layers=5)\n",
    "model = CategoricalTransformer(transformer_model, dict_category, len_seq=len_seq)\n",
    "loss = nn.BCELoss()\n",
    "optimizer = optim.Adam(model.parameters(), lr=0.001)\n",
    "epoch = 10\n",
    "\n",
    "model.train()\n",
    "for i in range(epoch):\n",
    "    total_loss = 0\n",
    "    model.train()\n",
    "    for train_batch, train_batch_intensity, train_batch_gt in zip(*train_input, train_gt):\n",
    "        train_batch = torch.LongTensor(train_batch)\n",
    "        train_batch_intensity = torch.FloatTensor(train_batch_intensity)\n",
    "\n",
    "        out = model(train_batch, train_batch_intensity)\n",
    "        loss_val = loss(out, torch.FloatTensor(train_batch_gt))\n",
    "        total_loss += loss_val\n",
    "        out.backward()\n",
    "        optimizer.step()\n",
    "\n",
    "    \n",
    "    model.eval()\n",
    "    total_loss = total_loss / len(train_input)\n",
    "    print(f\"Epoch {i} train_loss:\", total_loss)\n"
   ]
  },
  {
   "cell_type": "code",
   "execution_count": 176,
   "id": "cbb88ac6",
   "metadata": {},
   "outputs": [
    {
     "data": {
      "text/plain": [
       "CategoricalTransformer(\n",
       "  (cat_embeding): Embedding(20, 10)\n",
       "  (transformer_model): Transformer(\n",
       "    (encoder): TransformerEncoder(\n",
       "      (layers): ModuleList(\n",
       "        (0): TransformerEncoderLayer(\n",
       "          (self_attn): MultiheadAttention(\n",
       "            (out_proj): NonDynamicallyQuantizableLinear(in_features=10, out_features=10, bias=True)\n",
       "          )\n",
       "          (linear1): Linear(in_features=10, out_features=2048, bias=True)\n",
       "          (dropout): Dropout(p=0.1, inplace=False)\n",
       "          (linear2): Linear(in_features=2048, out_features=10, bias=True)\n",
       "          (norm1): LayerNorm((10,), eps=1e-05, elementwise_affine=True)\n",
       "          (norm2): LayerNorm((10,), eps=1e-05, elementwise_affine=True)\n",
       "          (dropout1): Dropout(p=0.1, inplace=False)\n",
       "          (dropout2): Dropout(p=0.1, inplace=False)\n",
       "        )\n",
       "        (1): TransformerEncoderLayer(\n",
       "          (self_attn): MultiheadAttention(\n",
       "            (out_proj): NonDynamicallyQuantizableLinear(in_features=10, out_features=10, bias=True)\n",
       "          )\n",
       "          (linear1): Linear(in_features=10, out_features=2048, bias=True)\n",
       "          (dropout): Dropout(p=0.1, inplace=False)\n",
       "          (linear2): Linear(in_features=2048, out_features=10, bias=True)\n",
       "          (norm1): LayerNorm((10,), eps=1e-05, elementwise_affine=True)\n",
       "          (norm2): LayerNorm((10,), eps=1e-05, elementwise_affine=True)\n",
       "          (dropout1): Dropout(p=0.1, inplace=False)\n",
       "          (dropout2): Dropout(p=0.1, inplace=False)\n",
       "        )\n",
       "        (2): TransformerEncoderLayer(\n",
       "          (self_attn): MultiheadAttention(\n",
       "            (out_proj): NonDynamicallyQuantizableLinear(in_features=10, out_features=10, bias=True)\n",
       "          )\n",
       "          (linear1): Linear(in_features=10, out_features=2048, bias=True)\n",
       "          (dropout): Dropout(p=0.1, inplace=False)\n",
       "          (linear2): Linear(in_features=2048, out_features=10, bias=True)\n",
       "          (norm1): LayerNorm((10,), eps=1e-05, elementwise_affine=True)\n",
       "          (norm2): LayerNorm((10,), eps=1e-05, elementwise_affine=True)\n",
       "          (dropout1): Dropout(p=0.1, inplace=False)\n",
       "          (dropout2): Dropout(p=0.1, inplace=False)\n",
       "        )\n",
       "        (3): TransformerEncoderLayer(\n",
       "          (self_attn): MultiheadAttention(\n",
       "            (out_proj): NonDynamicallyQuantizableLinear(in_features=10, out_features=10, bias=True)\n",
       "          )\n",
       "          (linear1): Linear(in_features=10, out_features=2048, bias=True)\n",
       "          (dropout): Dropout(p=0.1, inplace=False)\n",
       "          (linear2): Linear(in_features=2048, out_features=10, bias=True)\n",
       "          (norm1): LayerNorm((10,), eps=1e-05, elementwise_affine=True)\n",
       "          (norm2): LayerNorm((10,), eps=1e-05, elementwise_affine=True)\n",
       "          (dropout1): Dropout(p=0.1, inplace=False)\n",
       "          (dropout2): Dropout(p=0.1, inplace=False)\n",
       "        )\n",
       "        (4): TransformerEncoderLayer(\n",
       "          (self_attn): MultiheadAttention(\n",
       "            (out_proj): NonDynamicallyQuantizableLinear(in_features=10, out_features=10, bias=True)\n",
       "          )\n",
       "          (linear1): Linear(in_features=10, out_features=2048, bias=True)\n",
       "          (dropout): Dropout(p=0.1, inplace=False)\n",
       "          (linear2): Linear(in_features=2048, out_features=10, bias=True)\n",
       "          (norm1): LayerNorm((10,), eps=1e-05, elementwise_affine=True)\n",
       "          (norm2): LayerNorm((10,), eps=1e-05, elementwise_affine=True)\n",
       "          (dropout1): Dropout(p=0.1, inplace=False)\n",
       "          (dropout2): Dropout(p=0.1, inplace=False)\n",
       "        )\n",
       "      )\n",
       "      (norm): LayerNorm((10,), eps=1e-05, elementwise_affine=True)\n",
       "    )\n",
       "    (decoder): TransformerDecoder(\n",
       "      (layers): ModuleList(\n",
       "        (0): TransformerDecoderLayer(\n",
       "          (self_attn): MultiheadAttention(\n",
       "            (out_proj): NonDynamicallyQuantizableLinear(in_features=10, out_features=10, bias=True)\n",
       "          )\n",
       "          (multihead_attn): MultiheadAttention(\n",
       "            (out_proj): NonDynamicallyQuantizableLinear(in_features=10, out_features=10, bias=True)\n",
       "          )\n",
       "          (linear1): Linear(in_features=10, out_features=2048, bias=True)\n",
       "          (dropout): Dropout(p=0.1, inplace=False)\n",
       "          (linear2): Linear(in_features=2048, out_features=10, bias=True)\n",
       "          (norm1): LayerNorm((10,), eps=1e-05, elementwise_affine=True)\n",
       "          (norm2): LayerNorm((10,), eps=1e-05, elementwise_affine=True)\n",
       "          (norm3): LayerNorm((10,), eps=1e-05, elementwise_affine=True)\n",
       "          (dropout1): Dropout(p=0.1, inplace=False)\n",
       "          (dropout2): Dropout(p=0.1, inplace=False)\n",
       "          (dropout3): Dropout(p=0.1, inplace=False)\n",
       "        )\n",
       "        (1): TransformerDecoderLayer(\n",
       "          (self_attn): MultiheadAttention(\n",
       "            (out_proj): NonDynamicallyQuantizableLinear(in_features=10, out_features=10, bias=True)\n",
       "          )\n",
       "          (multihead_attn): MultiheadAttention(\n",
       "            (out_proj): NonDynamicallyQuantizableLinear(in_features=10, out_features=10, bias=True)\n",
       "          )\n",
       "          (linear1): Linear(in_features=10, out_features=2048, bias=True)\n",
       "          (dropout): Dropout(p=0.1, inplace=False)\n",
       "          (linear2): Linear(in_features=2048, out_features=10, bias=True)\n",
       "          (norm1): LayerNorm((10,), eps=1e-05, elementwise_affine=True)\n",
       "          (norm2): LayerNorm((10,), eps=1e-05, elementwise_affine=True)\n",
       "          (norm3): LayerNorm((10,), eps=1e-05, elementwise_affine=True)\n",
       "          (dropout1): Dropout(p=0.1, inplace=False)\n",
       "          (dropout2): Dropout(p=0.1, inplace=False)\n",
       "          (dropout3): Dropout(p=0.1, inplace=False)\n",
       "        )\n",
       "        (2): TransformerDecoderLayer(\n",
       "          (self_attn): MultiheadAttention(\n",
       "            (out_proj): NonDynamicallyQuantizableLinear(in_features=10, out_features=10, bias=True)\n",
       "          )\n",
       "          (multihead_attn): MultiheadAttention(\n",
       "            (out_proj): NonDynamicallyQuantizableLinear(in_features=10, out_features=10, bias=True)\n",
       "          )\n",
       "          (linear1): Linear(in_features=10, out_features=2048, bias=True)\n",
       "          (dropout): Dropout(p=0.1, inplace=False)\n",
       "          (linear2): Linear(in_features=2048, out_features=10, bias=True)\n",
       "          (norm1): LayerNorm((10,), eps=1e-05, elementwise_affine=True)\n",
       "          (norm2): LayerNorm((10,), eps=1e-05, elementwise_affine=True)\n",
       "          (norm3): LayerNorm((10,), eps=1e-05, elementwise_affine=True)\n",
       "          (dropout1): Dropout(p=0.1, inplace=False)\n",
       "          (dropout2): Dropout(p=0.1, inplace=False)\n",
       "          (dropout3): Dropout(p=0.1, inplace=False)\n",
       "        )\n",
       "        (3): TransformerDecoderLayer(\n",
       "          (self_attn): MultiheadAttention(\n",
       "            (out_proj): NonDynamicallyQuantizableLinear(in_features=10, out_features=10, bias=True)\n",
       "          )\n",
       "          (multihead_attn): MultiheadAttention(\n",
       "            (out_proj): NonDynamicallyQuantizableLinear(in_features=10, out_features=10, bias=True)\n",
       "          )\n",
       "          (linear1): Linear(in_features=10, out_features=2048, bias=True)\n",
       "          (dropout): Dropout(p=0.1, inplace=False)\n",
       "          (linear2): Linear(in_features=2048, out_features=10, bias=True)\n",
       "          (norm1): LayerNorm((10,), eps=1e-05, elementwise_affine=True)\n",
       "          (norm2): LayerNorm((10,), eps=1e-05, elementwise_affine=True)\n",
       "          (norm3): LayerNorm((10,), eps=1e-05, elementwise_affine=True)\n",
       "          (dropout1): Dropout(p=0.1, inplace=False)\n",
       "          (dropout2): Dropout(p=0.1, inplace=False)\n",
       "          (dropout3): Dropout(p=0.1, inplace=False)\n",
       "        )\n",
       "        (4): TransformerDecoderLayer(\n",
       "          (self_attn): MultiheadAttention(\n",
       "            (out_proj): NonDynamicallyQuantizableLinear(in_features=10, out_features=10, bias=True)\n",
       "          )\n",
       "          (multihead_attn): MultiheadAttention(\n",
       "            (out_proj): NonDynamicallyQuantizableLinear(in_features=10, out_features=10, bias=True)\n",
       "          )\n",
       "          (linear1): Linear(in_features=10, out_features=2048, bias=True)\n",
       "          (dropout): Dropout(p=0.1, inplace=False)\n",
       "          (linear2): Linear(in_features=2048, out_features=10, bias=True)\n",
       "          (norm1): LayerNorm((10,), eps=1e-05, elementwise_affine=True)\n",
       "          (norm2): LayerNorm((10,), eps=1e-05, elementwise_affine=True)\n",
       "          (norm3): LayerNorm((10,), eps=1e-05, elementwise_affine=True)\n",
       "          (dropout1): Dropout(p=0.1, inplace=False)\n",
       "          (dropout2): Dropout(p=0.1, inplace=False)\n",
       "          (dropout3): Dropout(p=0.1, inplace=False)\n",
       "        )\n",
       "        (5): TransformerDecoderLayer(\n",
       "          (self_attn): MultiheadAttention(\n",
       "            (out_proj): NonDynamicallyQuantizableLinear(in_features=10, out_features=10, bias=True)\n",
       "          )\n",
       "          (multihead_attn): MultiheadAttention(\n",
       "            (out_proj): NonDynamicallyQuantizableLinear(in_features=10, out_features=10, bias=True)\n",
       "          )\n",
       "          (linear1): Linear(in_features=10, out_features=2048, bias=True)\n",
       "          (dropout): Dropout(p=0.1, inplace=False)\n",
       "          (linear2): Linear(in_features=2048, out_features=10, bias=True)\n",
       "          (norm1): LayerNorm((10,), eps=1e-05, elementwise_affine=True)\n",
       "          (norm2): LayerNorm((10,), eps=1e-05, elementwise_affine=True)\n",
       "          (norm3): LayerNorm((10,), eps=1e-05, elementwise_affine=True)\n",
       "          (dropout1): Dropout(p=0.1, inplace=False)\n",
       "          (dropout2): Dropout(p=0.1, inplace=False)\n",
       "          (dropout3): Dropout(p=0.1, inplace=False)\n",
       "        )\n",
       "      )\n",
       "      (norm): LayerNorm((10,), eps=1e-05, elementwise_affine=True)\n",
       "    )\n",
       "  )\n",
       "  (final_fc): Linear(in_features=90, out_features=1, bias=True)\n",
       "  (final_sigmoid): Sigmoid()\n",
       ")"
      ]
     },
     "execution_count": 176,
     "metadata": {},
     "output_type": "execute_result"
    }
   ],
   "source": [
    "model.eval()"
   ]
  },
  {
   "cell_type": "code",
   "execution_count": null,
   "id": "c066429d",
   "metadata": {},
   "outputs": [],
   "source": []
  },
  {
   "cell_type": "code",
   "execution_count": null,
   "id": "a9b454c2",
   "metadata": {},
   "outputs": [],
   "source": []
  },
  {
   "cell_type": "code",
   "execution_count": null,
   "id": "89dd2e2a",
   "metadata": {},
   "outputs": [],
   "source": []
  },
  {
   "cell_type": "code",
   "execution_count": null,
   "id": "33efc3e2",
   "metadata": {},
   "outputs": [],
   "source": []
  }
 ],
 "metadata": {
  "kernelspec": {
   "display_name": "Python 3",
   "language": "python",
   "name": "python3"
  },
  "language_info": {
   "codemirror_mode": {
    "name": "ipython",
    "version": 3
   },
   "file_extension": ".py",
   "mimetype": "text/x-python",
   "name": "python",
   "nbconvert_exporter": "python",
   "pygments_lexer": "ipython3",
   "version": "3.8.10"
  }
 },
 "nbformat": 4,
 "nbformat_minor": 5
}
