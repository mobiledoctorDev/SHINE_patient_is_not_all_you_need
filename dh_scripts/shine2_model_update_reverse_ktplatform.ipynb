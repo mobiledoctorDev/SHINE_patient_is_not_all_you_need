{
 "cells": [
  {
   "cell_type": "code",
   "execution_count": null,
   "id": "83fc3269",
   "metadata": {
    "pycharm": {
     "name": "#%%\n"
    }
   },
   "outputs": [],
   "source": [
    "from datetime import datetime\n",
    "from sklearn.metrics import roc_auc_score, plot_roc_curve\n",
    "\n",
    "import json\n",
    "import math\n",
    "import matplotlib.pyplot as plt\n",
    "import numpy as np\n",
    "import pandas as pd\n",
    "pd.set_option('display.max_columns', 50)\n",
    "pd.set_option('display.max_rows', 1000)\n",
    "from configparser import ConfigParser\n",
    "\n",
    "import mysql.connector\n",
    "import seaborn as sns\n",
    "from datetime import date\n",
    "from datetime import datetime\n",
    "from datetime import timedelta\n",
    "\n",
    "from getpass import getpass\n",
    "import os\n",
    "import glob\n",
    "import torch\n",
    "import torchvision\n",
    "import torchvision.transforms as transforms\n",
    "from torch import nn, optim\n",
    "\n",
    "import torch.nn.functional as F\n",
    "import math, copy, time\n",
    "from torch.autograd import Variable\n",
    "from torch.utils.data import Dataset\n",
    "from torch.utils.data import DataLoader\n",
    "from itertools import cycle\n",
    "from tqdm.notebook import tqdm\n",
    "import re\n",
    "from sklearn.metrics import roc_auc_score, plot_roc_curve, roc_curve\n",
    "\n",
    "import matplotlib.pyplot as plt\n",
    "import seaborn\n",
    "from collections import defaultdict\n",
    "import shap\n",
    "\n",
    "from sklearn import svm\n",
    "from sklearn.neighbors import KDTree\n",
    "import sqlalchemy\n",
    "from sqlalchemy.pool import NullPool"
   ]
  },
  {
   "cell_type": "code",
   "execution_count": null,
   "id": "9655052c",
   "metadata": {
    "pycharm": {
     "name": "#%%\n"
    }
   },
   "outputs": [],
   "source": [
    "## server config"
   ]
  },
  {
   "cell_type": "code",
   "execution_count": null,
   "id": "81e076c8",
   "metadata": {
    "pycharm": {
     "name": "#%%\n"
    }
   },
   "outputs": [],
   "source": [
    "def make_location(addr1, addr2, addr3, addr4):\n",
    "    if type(addr1) != str: addr1 = ''\n",
    "    if type(addr2) != str: addr2 = ''\n",
    "    if type(addr3) != str: addr3 = ''\n",
    "    if type(addr4) != str: addr4 = ''\n",
    "        \n",
    "    return f'{addr1} {addr2} {addr3} {addr4}'"
   ]
  },
  {
   "cell_type": "code",
   "execution_count": null,
   "id": "ef8cc36f",
   "metadata": {
    "pycharm": {
     "name": "#%%\n"
    }
   },
   "outputs": [],
   "source": [
    "class ReverGeoCoder:\n",
    "    def __init__(self, src_file='./location_korea_20210624.csv'):\n",
    "        df_location = pd.read_csv(src_file)\n",
    "        df_location = df_location[df_location['address_1'].notnull()]\n",
    "        df_location = df_location[['_id','loc_1','loc_2','address_1','address_2','address_3','address_4','address_5']]\n",
    "        df_location = df_location.rename(columns={'_id':'location_id'})\n",
    "        df_location = df_location.reset_index(drop=True)\n",
    "        df_location['loc_1'] = df_location['loc_1'].astype(float)\n",
    "        df_location['loc_2'] = df_location['loc_2'].astype(float)\n",
    "\n",
    "        print(\"Model Source loaded:\", df_location.shape)\n",
    "        self.kdt = KDTree(df_location[['loc_1', 'loc_2']], leaf_size=30, metric='euclidean')\n",
    "        self.df_location = df_location.copy()\n",
    "\n",
    "\n",
    "    def query_one(self, lati, longi):\n",
    "        ret = self.kdt.query([[lati, longi]], k=1, return_distance=False)\n",
    "        print(\"matching index:\", ret)  # Print index\n",
    "        return self.df_location.loc[[x[0] for x in ret], :]\n",
    "    \n",
    "    def query_list(self, list_location):\n",
    "        \"\"\"list should have [lat, lng] as elements. Ex) [[35.18692, 126.8927], [37.69954, 127.1940], [37.26776, 126.9961]]\"\"\"\n",
    "        ret = self.kdt.query(list_location, k=1, return_distance=False)\n",
    "        print(\"matching index:\", ret)  # Print index\n",
    "        return self.df_location.loc[[x[0] for x in ret], :]\n",
    "    \n",
    "    \n",
    "    def query_df(self, df_query):\n",
    "        \"\"\"df should have columns ['lat', 'lng']\"\"\"\n",
    "        ret = self.kdt.query(df_query[['lat', 'lng']].copy(), k=1, return_distance=False)\n",
    "        df_ret = self.df_location.loc[[x[0] for x in ret], :]\n",
    "        df_ret['loca'] = (df_ret.apply(lambda x: \n",
    "                                           make_location(x['address_1'], x['address_2'],\n",
    "                                                         x['address_3'], x['address_4']), axis=1))\n",
    "        df_query = df_query.reset_index(drop=True)\n",
    "        df_ret = df_ret.reset_index(drop=True)\n",
    "        df_query['location'] = df_ret['loca']\n",
    "        return df_query\n",
    "        \n",
    "coder = ReverGeoCoder()\n",
    "\n",
    "display(coder.query_one(35.18692, 126.8927))\n",
    "display(coder.query_list([[35.18692, 126.8927], [37.69954, 127.1940], [37.26776, 126.9961]]))\n"
   ]
  },
  {
   "cell_type": "code",
   "execution_count": null,
   "id": "7d1ffd46",
   "metadata": {
    "pycharm": {
     "name": "#%%\n"
    }
   },
   "outputs": [],
   "source": [
    "def get_postgresql_engine(path_to_yml='./secret.ini'):\n",
    "    config = ConfigParser()\n",
    "    config.read(path_to_yml)\n",
    "\n",
    "    HOSTNAME = config[\"kt_db\"][\"HOSTNAME\"]\n",
    "    PORT = int(config[\"kt_db\"][\"PORT\"])\n",
    "    USERNAME = config[\"kt_db\"][\"USERNAME\"]\n",
    "    PASSWORD = config[\"kt_db\"][\"PASSWORD\"]\n",
    "    DATABASE = config[\"kt_db\"][\"DATABASE\"]\n",
    "    \n",
    "    url = f\"postgresql://{USERNAME}:{PASSWORD}@{HOSTNAME}:{PORT}/{DATABASE}\"\n",
    "    return sqlalchemy.create_engine(url, client_encoding='utf8', poolclass=NullPool)"
   ]
  },
  {
   "cell_type": "code",
   "execution_count": null,
   "id": "0f2b155d",
   "metadata": {
    "pycharm": {
     "name": "#%%\n"
    }
   },
   "outputs": [],
   "source": [
    "kt_engine = get_postgresql_engine()"
   ]
  },
  {
   "cell_type": "code",
   "execution_count": null,
   "id": "c5be0236",
   "metadata": {
    "pycharm": {
     "name": "#%%\n"
    }
   },
   "outputs": [],
   "source": [
    "qry = \"SELECT * FROM shine2_general_pcr\"\n",
    "df_pcr = pd.read_sql(qry, kt_engine)"
   ]
  },
  {
   "cell_type": "code",
   "execution_count": null,
   "id": "b0b05f94",
   "metadata": {
    "pycharm": {
     "name": "#%%\n"
    }
   },
   "outputs": [],
   "source": [
    "df_pcr = df_pcr[df_pcr['lat'].notnull()]\n",
    "df_pcr = df_pcr[df_pcr['lng'].notnull()]\n",
    "df_pcr['lat'] = df_pcr['lat'].astype(float)\n",
    "df_pcr['lng'] = df_pcr['lng'].astype(float)\n",
    "print(df_pcr.shape)\n",
    "\n",
    "df_pcr = df_pcr[(df_pcr['lat'] >= 33) & \n",
    "              (df_pcr['lat'] <= 39) &\n",
    "              (df_pcr['lng'] >= 124) &\n",
    "              (df_pcr['lng'] <= 132)]\n",
    "print(df_pcr.shape)\n",
    "df_pcr.head()"
   ]
  },
  {
   "cell_type": "code",
   "execution_count": null,
   "id": "6b932dbd",
   "metadata": {
    "pycharm": {
     "name": "#%%\n"
    }
   },
   "outputs": [],
   "source": [
    "df_pcr_loc = coder.query_df(df_pcr)\n",
    "df_pcr_loc.head()"
   ]
  },
  {
   "cell_type": "markdown",
   "id": "6bd02152",
   "metadata": {
    "pycharm": {
     "name": "#%% md\n"
    }
   },
   "source": [
    "### md_data에 location 필드 넣어서, 당시 gps 해당 주소 넣어준 csv 불러옴"
   ]
  },
  {
   "cell_type": "code",
   "execution_count": null,
   "id": "966f0b2a",
   "metadata": {
    "pycharm": {
     "name": "#%%\n"
    }
   },
   "outputs": [],
   "source": [
    "# df_md_data_location = pd.read_csv('md_data_with_location.csv')\n",
    "# df_md_data_location = pd.read_csv('md_data_with_location_20221102.csv')"
   ]
  },
  {
   "cell_type": "code",
   "execution_count": null,
   "id": "12cfec25",
   "metadata": {
    "pycharm": {
     "name": "#%%\n"
    }
   },
   "outputs": [],
   "source": [
    "# df_md_data_location.shape[0]"
   ]
  },
  {
   "cell_type": "code",
   "execution_count": null,
   "id": "5c24cb02",
   "metadata": {
    "pycharm": {
     "name": "#%%\n"
    }
   },
   "outputs": [],
   "source": [
    "# df_md_data_location.head()"
   ]
  },
  {
   "cell_type": "code",
   "execution_count": null,
   "id": "3dd7c1a2",
   "metadata": {
    "pycharm": {
     "name": "#%%\n"
    }
   },
   "outputs": [],
   "source": [
    "# df_md_data_location"
   ]
  },
  {
   "cell_type": "code",
   "execution_count": null,
   "id": "9cb8a096",
   "metadata": {
    "pycharm": {
     "name": "#%%\n"
    }
   },
   "outputs": [],
   "source": [
    "# df_md_data_location.shape[0]"
   ]
  },
  {
   "cell_type": "markdown",
   "id": "e9283012",
   "metadata": {
    "pycharm": {
     "name": "#%% md\n"
    }
   },
   "source": [
    "### 샤인데이터에 들어있는 시군구 리스트 이름 뽑아와서 주소를 시군구로 바꿔주는 작업"
   ]
  },
  {
   "cell_type": "code",
   "execution_count": null,
   "id": "01b58023",
   "metadata": {
    "pycharm": {
     "name": "#%%\n"
    }
   },
   "outputs": [],
   "source": [
    "df_sigungu_name = pd.read_csv('sigungu_name.csv')"
   ]
  },
  {
   "cell_type": "code",
   "execution_count": null,
   "id": "a48c6a57",
   "metadata": {
    "pycharm": {
     "name": "#%%\n"
    }
   },
   "outputs": [],
   "source": [
    "df_sigungu_name"
   ]
  },
  {
   "cell_type": "code",
   "execution_count": null,
   "id": "206b7526",
   "metadata": {
    "pycharm": {
     "name": "#%%\n"
    }
   },
   "outputs": [],
   "source": [
    "sigungu_dict = {}\n",
    "for addr_1, addr_2 in df_sigungu_name.values:\n",
    "    if addr_1 not in sigungu_dict:\n",
    "        sigungu_dict[addr_1] = []\n",
    "    sigungu_dict[addr_1].append(addr_2)\n",
    "sigungu_dict"
   ]
  },
  {
   "cell_type": "code",
   "execution_count": null,
   "id": "5fa71b9a",
   "metadata": {
    "pycharm": {
     "name": "#%%\n"
    }
   },
   "outputs": [],
   "source": [
    "def apply_and_concat(df, field, func, cols_name):\n",
    "    return pd.concat((df, df[field].apply(lambda cell: pd.Series(func(cell), index=cols_name))), axis=1)"
   ]
  },
  {
   "cell_type": "code",
   "execution_count": null,
   "id": "66ae1de3",
   "metadata": {
    "pycharm": {
     "name": "#%%\n"
    }
   },
   "outputs": [],
   "source": [
    "def make_sidosigungu(location):\n",
    "    sido = ''\n",
    "    sigungu = ''\n",
    "    if type(location) == float:\n",
    "        return sido, sigungu\n",
    "    for addr1 in sigungu_dict:\n",
    "        if addr1 in location:\n",
    "            sido = addr1\n",
    "            for addr2 in sigungu_dict[addr1]:\n",
    "                if addr2 in location:\n",
    "                    sigungu = addr2\n",
    "    return sido, sigungu"
   ]
  },
  {
   "cell_type": "code",
   "execution_count": null,
   "id": "2d33fca6",
   "metadata": {
    "pycharm": {
     "name": "#%%\n"
    }
   },
   "outputs": [],
   "source": [
    "cols_name = ['sido', 'sigungu']\n",
    "df_pcr_loc = apply_and_concat(df_pcr_loc, 'location', make_sidosigungu, cols_name)"
   ]
  },
  {
   "cell_type": "code",
   "execution_count": null,
   "id": "fe8c28a5",
   "metadata": {
    "pycharm": {
     "name": "#%%\n"
    }
   },
   "outputs": [],
   "source": [
    "df_pcr_loc.head()"
   ]
  },
  {
   "cell_type": "markdown",
   "id": "76a50149",
   "metadata": {
    "pycharm": {
     "name": "#%% md\n"
    }
   },
   "source": [
    "### 이벤트 기간\n",
    "- 1차: 2.28~4.4\n",
    "- 2차: 8.16~10.30"
   ]
  },
  {
   "cell_type": "markdown",
   "id": "5b0ae90b",
   "metadata": {
    "pycharm": {
     "name": "#%% md\n"
    }
   },
   "source": [
    "### sido, sigungu 존재하는 데이터 갯수 체크"
   ]
  },
  {
   "cell_type": "code",
   "execution_count": null,
   "id": "50f2ed60",
   "metadata": {
    "pycharm": {
     "name": "#%%\n"
    }
   },
   "outputs": [],
   "source": [
    "df_pcr_loc[(df_pcr_loc['sido'] == '') |  (df_pcr_loc['sigungu'] == '')].shape[0]"
   ]
  },
  {
   "cell_type": "code",
   "execution_count": null,
   "id": "1bf5c642",
   "metadata": {
    "pycharm": {
     "name": "#%%\n"
    }
   },
   "outputs": [],
   "source": [
    "df_pcr_loc[~((df_pcr_loc['sido'] == '') |  (df_pcr_loc['sigungu'] == ''))].shape[0]"
   ]
  },
  {
   "cell_type": "code",
   "execution_count": null,
   "id": "a595af02",
   "metadata": {
    "pycharm": {
     "name": "#%%\n"
    }
   },
   "outputs": [],
   "source": [
    "df_pcr_loc['sido'] = df_pcr_loc['sido'].fillna('')\n",
    "df_pcr_loc['sigungu'] = df_pcr_loc['sigungu'].fillna('')"
   ]
  },
  {
   "cell_type": "markdown",
   "id": "2d4f415e",
   "metadata": {
    "pycharm": {
     "name": "#%% md\n"
    }
   },
   "source": [
    "### 여기서 일단 sigungu 있는 애들만 따로 저장"
   ]
  },
  {
   "cell_type": "code",
   "execution_count": null,
   "id": "33e7054a",
   "metadata": {
    "pycharm": {
     "name": "#%%\n"
    }
   },
   "outputs": [],
   "source": [
    "df_pcr_loc = (df_pcr_loc[~((df_pcr_loc['sido'] == '') | (df_pcr_loc['sigungu'] == ''))])"
   ]
  },
  {
   "cell_type": "code",
   "execution_count": null,
   "id": "83cb644a",
   "metadata": {
    "pycharm": {
     "name": "#%%\n"
    }
   },
   "outputs": [],
   "source": [
    "df_pcr_loc.head()"
   ]
  },
  {
   "cell_type": "code",
   "execution_count": null,
   "id": "62a2b622",
   "metadata": {
    "pycharm": {
     "name": "#%%\n"
    }
   },
   "outputs": [],
   "source": [
    "df_pcr_loc[df_pcr_loc['pcr_result'] == '1'].shape[0], df_pcr_loc[df_pcr_loc['pcr_result'] == '2'].shape[0]"
   ]
  },
  {
   "cell_type": "markdown",
   "id": "6d18cdc4",
   "metadata": {
    "pycharm": {
     "name": "#%% md\n"
    }
   },
   "source": [
    "### baby 정보 가져오기"
   ]
  },
  {
   "cell_type": "code",
   "execution_count": null,
   "id": "0c75219e",
   "metadata": {
    "pycharm": {
     "name": "#%%\n"
    }
   },
   "outputs": [],
   "source": [
    "df_kt_baby = pd.read_sql('SELECT * FROM shine2_general_user', kt_engine)"
   ]
  },
  {
   "cell_type": "code",
   "execution_count": null,
   "id": "7166f79a",
   "metadata": {
    "pycharm": {
     "name": "#%%\n"
    }
   },
   "outputs": [],
   "source": [
    "df_kt_baby.columns"
   ]
  },
  {
   "cell_type": "code",
   "execution_count": null,
   "id": "d41740ed",
   "metadata": {
    "pycharm": {
     "name": "#%%\n"
    }
   },
   "outputs": [],
   "source": [
    "df_kt_baby = df_kt_baby[~df_kt_baby['gender'].isnull()]"
   ]
  },
  {
   "cell_type": "code",
   "execution_count": null,
   "id": "0960bdad",
   "metadata": {
    "pycharm": {
     "name": "#%%\n"
    }
   },
   "outputs": [],
   "source": [
    "df_kt_baby['birthday'] = df_kt_baby['birthday'].astype(str)"
   ]
  },
  {
   "cell_type": "code",
   "execution_count": null,
   "id": "582e9d4d",
   "metadata": {
    "pycharm": {
     "name": "#%%\n"
    }
   },
   "outputs": [],
   "source": [
    "df_kt_baby['birthday'].apply(lambda x : x[:4]).unique()"
   ]
  },
  {
   "cell_type": "code",
   "execution_count": null,
   "id": "24165192",
   "metadata": {
    "pycharm": {
     "name": "#%%\n"
    }
   },
   "outputs": [],
   "source": [
    "df_kt_baby['gender'] = df_kt_baby['gender'].astype(int)"
   ]
  },
  {
   "cell_type": "code",
   "execution_count": null,
   "id": "95b04403",
   "metadata": {
    "pycharm": {
     "name": "#%%\n"
    }
   },
   "outputs": [],
   "source": [
    "def get_age(birthday):\n",
    "    return datetime.now().year - int(birthday[:4])"
   ]
  },
  {
   "cell_type": "code",
   "execution_count": null,
   "id": "cce76784",
   "metadata": {
    "pycharm": {
     "name": "#%%\n"
    }
   },
   "outputs": [],
   "source": [
    "df_kt_baby['age'] = df_kt_baby['birthday'].apply(get_age)"
   ]
  },
  {
   "cell_type": "code",
   "execution_count": null,
   "id": "2ce6063d",
   "metadata": {
    "pycharm": {
     "name": "#%%\n"
    }
   },
   "outputs": [],
   "source": [
    "df_kt_baby['age_60_and_above'] = df_kt_baby['age'].apply(lambda age: 1 if age >= 60 else 0)"
   ]
  },
  {
   "cell_type": "code",
   "execution_count": null,
   "id": "57743155",
   "metadata": {
    "pycharm": {
     "name": "#%%\n"
    }
   },
   "outputs": [],
   "source": [
    "df_kt_baby[df_kt_baby['age_60_and_above'] == 1]"
   ]
  },
  {
   "cell_type": "markdown",
   "id": "e68c373c",
   "metadata": {
    "pycharm": {
     "name": "#%% md\n"
    }
   },
   "source": [
    "### 시군구 넣어준 md_data에서 pcr 데이터랑 selfcheck 데이터 따로 뽑기"
   ]
  },
  {
   "cell_type": "code",
   "execution_count": null,
   "id": "261ca40f",
   "metadata": {
    "pycharm": {
     "name": "#%%\n"
    }
   },
   "outputs": [],
   "source": [
    "patients_str = ','.join(df_pcr_loc['patient_id'].astype(str).unique().tolist())"
   ]
  },
  {
   "cell_type": "code",
   "execution_count": null,
   "id": "998c1ba2",
   "metadata": {
    "pycharm": {
     "name": "#%%\n"
    }
   },
   "outputs": [],
   "source": [
    "df_selfcheck = pd.read_sql(f\"SELECT * FROM shine2_general_selfcheck WHERE patient_id IN ({patients_str})\", kt_engine)"
   ]
  },
  {
   "cell_type": "code",
   "execution_count": null,
   "id": "d7843b73",
   "metadata": {
    "pycharm": {
     "name": "#%%\n"
    }
   },
   "outputs": [],
   "source": [
    "df_selfcheck['reg_date'].astype(str)"
   ]
  },
  {
   "cell_type": "code",
   "execution_count": null,
   "id": "aeae5dcd",
   "metadata": {
    "pycharm": {
     "name": "#%%\n"
    }
   },
   "outputs": [],
   "source": [
    "df_pcr_loc.shape[0]"
   ]
  },
  {
   "cell_type": "code",
   "execution_count": null,
   "id": "b4f11c58",
   "metadata": {
    "pycharm": {
     "name": "#%%\n"
    }
   },
   "outputs": [],
   "source": [
    "df_pcr_loc[df_pcr_loc['pcr_result'] == '2'].shape[0], df_pcr_loc[df_pcr_loc['pcr_result'] == '1'].shape[0]"
   ]
  },
  {
   "cell_type": "code",
   "execution_count": null,
   "id": "54f34c67",
   "metadata": {
    "pycharm": {
     "name": "#%%\n"
    }
   },
   "outputs": [],
   "source": [
    "df_pcr_loc['patient_id'].shape[0], df_pcr_loc['patient_id'].unique().shape[0]"
   ]
  },
  {
   "cell_type": "code",
   "execution_count": null,
   "id": "1f4bb73f",
   "metadata": {
    "pycharm": {
     "name": "#%%\n"
    }
   },
   "outputs": [],
   "source": [
    "df_pcr_loc.shape[0]"
   ]
  },
  {
   "cell_type": "code",
   "execution_count": null,
   "id": "9f8c8d93",
   "metadata": {
    "pycharm": {
     "name": "#%%\n"
    }
   },
   "outputs": [],
   "source": [
    "df_kt_baby['patient_id'] = df_kt_baby['patient_id'].astype(int)"
   ]
  },
  {
   "cell_type": "markdown",
   "id": "2d74e421",
   "metadata": {
    "pycharm": {
     "name": "#%% md\n"
    }
   },
   "source": [
    "### pcr 데이터에 유저 정보(생일, 성별, 나이, 60세이상) 입력 + pcr에 붙은 sido, sigungu 살림"
   ]
  },
  {
   "cell_type": "code",
   "execution_count": null,
   "id": "ed324414",
   "metadata": {
    "pycharm": {
     "name": "#%%\n"
    }
   },
   "outputs": [],
   "source": [
    "df_pcr_loc = pd.merge(df_pcr_loc, df_kt_baby, how='left', on='patient_id')"
   ]
  },
  {
   "cell_type": "code",
   "execution_count": null,
   "id": "4a725153",
   "metadata": {
    "pycharm": {
     "name": "#%%\n"
    }
   },
   "outputs": [],
   "source": [
    "df_pcr_loc.columns"
   ]
  },
  {
   "cell_type": "code",
   "execution_count": null,
   "id": "3bea6738",
   "metadata": {
    "pycharm": {
     "name": "#%%\n"
    }
   },
   "outputs": [],
   "source": [
    "df_pcr_loc['pcr_date'] = df_pcr_loc['pcr_date'].astype(str)\n",
    "df_selfcheck['selfcheck_date'] = df_selfcheck['selfcheck_date'].astype(str)"
   ]
  },
  {
   "cell_type": "markdown",
   "id": "434ecb29",
   "metadata": {
    "pycharm": {
     "name": "#%% md\n"
    }
   },
   "source": [
    "### pcr 데이터 입력 당시 시군구를 넣음"
   ]
  },
  {
   "cell_type": "code",
   "execution_count": null,
   "id": "602d23ff",
   "metadata": {
    "pycharm": {
     "name": "#%%\n"
    }
   },
   "outputs": [],
   "source": [
    "df_res_temp = pd.merge(df_pcr_loc, df_selfcheck, how='inner', on='patient_id', suffixes=('_pcr', '_selfcheck'))"
   ]
  },
  {
   "cell_type": "code",
   "execution_count": null,
   "id": "0ef4a8e6",
   "metadata": {
    "pycharm": {
     "name": "#%%\n"
    }
   },
   "outputs": [],
   "source": [
    "df_res_temp.columns"
   ]
  },
  {
   "cell_type": "code",
   "execution_count": null,
   "id": "9f786f3d",
   "metadata": {
    "pycharm": {
     "name": "#%%\n"
    }
   },
   "outputs": [],
   "source": [
    "def generate_diff_date(selfcheck_date, pcr_date):\n",
    "    selfcheck_date = pd.to_datetime(selfcheck_date, format='%Y-%m-%d')\n",
    "    pcr_date = pd.to_datetime(pcr_date, format='%Y-%m-%d')\n",
    "    delta = abs(int((selfcheck_date - pcr_date) / pd.Timedelta(days=1)))\n",
    "    return delta"
   ]
  },
  {
   "cell_type": "code",
   "execution_count": null,
   "id": "6b80c319",
   "metadata": {
    "pycharm": {
     "name": "#%%\n"
    }
   },
   "outputs": [],
   "source": [
    "df_res_temp['time_diff'] = df_res_temp.apply(lambda x: generate_diff_date(x['selfcheck_date'], x['pcr_date']), axis=1)"
   ]
  },
  {
   "cell_type": "code",
   "execution_count": null,
   "id": "574d3c29",
   "metadata": {
    "pycharm": {
     "name": "#%%\n"
    }
   },
   "outputs": [],
   "source": [
    "df_res_temp = df_res_temp.sort_values('time_diff')\n",
    "df_res_temp = df_res_temp.drop_duplicates(subset='_id_pcr', keep=\"first\")"
   ]
  },
  {
   "cell_type": "code",
   "execution_count": null,
   "id": "4a4b9dbc",
   "metadata": {
    "pycharm": {
     "name": "#%%\n"
    }
   },
   "outputs": [],
   "source": [
    "df_res_temp = df_res_temp[df_res_temp['time_diff'] <= 14]"
   ]
  },
  {
   "cell_type": "code",
   "execution_count": null,
   "id": "70fb8886",
   "metadata": {
    "pycharm": {
     "name": "#%%\n"
    }
   },
   "outputs": [],
   "source": [
    "df_res_temp.head()"
   ]
  },
  {
   "cell_type": "code",
   "execution_count": null,
   "id": "2f0c3ccc",
   "metadata": {
    "pycharm": {
     "name": "#%%\n"
    }
   },
   "outputs": [],
   "source": [
    "df_res = df_res_temp[['patient_id', 'gender', 'age', 'birthday', 'age_60_and_above',\\\n",
    "                                   'fever', 'sx_name', 'etc_status', 'is_abroad', 'is_visit', \\\n",
    "                                   'is_contact', 'is_isolation', 'selfcheck_reason',\\\n",
    "                                   'selfcheck_date', 'pcr_date', 'pcr_place', 'sido', 'sigungu', 'pcr_result']]"
   ]
  },
  {
   "cell_type": "markdown",
   "id": "4d9c0771",
   "metadata": {
    "pycharm": {
     "name": "#%% md\n"
    }
   },
   "source": [
    "### 아래 방식대로하면 3시간 걸림..."
   ]
  },
  {
   "cell_type": "code",
   "execution_count": null,
   "id": "d6b74524",
   "metadata": {
    "scrolled": false,
    "pycharm": {
     "name": "#%%\n"
    }
   },
   "outputs": [],
   "source": [
    "\n",
    "# df_res = pd.DataFrame([], columns=['baby_id', 'gender', 'age', 'birthday', 'age_60_and_above',\\\n",
    "#                                    'fever', 'sx_name', 'etc_status', 'is_abroad', 'is_visit', \\\n",
    "#                                    'is_contact', 'is_isolation', 'selfcheck_reason',\\\n",
    "#                                    'self_check_date', 'test_date', 'pcr_place', 'sido', 'sigungu', 'pcr_result'])\n",
    "\n",
    "# display(df_res)\n",
    "# cnt = 0\n",
    "\n",
    "# is_confirmed = [0] * 3\n",
    "\n",
    "# # self_check_num = {\n",
    "# #     'old': [],\n",
    "# #     'new': []\n",
    "# # }\n",
    "\n",
    "# self_check_cnt = defaultdict(int)\n",
    "# for idx, (i, row) in enumerate(df_pcr_loc.iterrows()):\n",
    "#     if idx % 1000 == 0: print(idx)\n",
    "#     if row['pcr_date'] <= '2021-12-01': continue\n",
    "#     pcr_date = pd.to_datetime(row['pcr_date'],format='%Y-%m-%d')\n",
    "#     pcr_result = row['pcr_result']\n",
    "#     lower_date = (pd.to_datetime(row['pcr_date'],format='%Y-%m-%d') - timedelta(days=14)).strftime(\"%Y-%m-%d\")\n",
    "#     upper_date = (pd.to_datetime(row['pcr_date'],format='%Y-%m-%d') + timedelta(days=14)).strftime(\"%Y-%m-%d\")\n",
    "#     df_self = df_selfcheck[df_selfcheck['patient_id'] == row['patient_id']]\n",
    "    \n",
    "#     df_self = df_self[(df_self['selfcheck_date'] >= lower_date) & (df_self['selfcheck_date'] <= upper_date)]\n",
    "#     df_self = df_self.sort_values('reg_date')\n",
    "# #     self_check_num['old'].append(df_self.shape[0])\n",
    "# #     df_self = df_self.drop_duplicates(subset=['reg_date'])\n",
    "# #     self_check_num['new'].append(df_self.shape[0])\n",
    "#     self_check_cnt[df_self.shape[0]] += 1\n",
    "#     if df_self.shape[0] == 0: continue\n",
    "#     for i, ser_self in df_self.iterrows():\n",
    "#         is_confirmed[int(row['pcr_result'])] += 1\n",
    "#         append_row = ([row['patient_id'], row['gender'], row['age'], row['birthday'], \n",
    "#                        row['age_60_and_above'], ser_self['fever'], ser_self['sx_name'], ser_self['etc_status'],\n",
    "#                        ser_self['is_abroad'], ser_self['is_visit'], ser_self['is_contact'], \n",
    "#                        ser_self['is_isolation'], ser_self['selfcheck_reason'], ser_self['selfcheck_date'], \n",
    "#                        row['pcr_date'], row['pcr_place'], row['sido'], row['sigungu'], row['pcr_result']])\n",
    "#         df_res = df_res.append(pd.Series(append_row, index=df_res.columns), ignore_index=True)"
   ]
  },
  {
   "cell_type": "code",
   "execution_count": null,
   "id": "18fed432",
   "metadata": {
    "pycharm": {
     "name": "#%%\n"
    }
   },
   "outputs": [],
   "source": [
    "sx_name_dicts = {'마른 기침': '104',\n",
    " '피가 섞인 기침': '108',\n",
    " '가래': '107',\n",
    " '가슴통증': '102',\n",
    " '콧물': '106',\n",
    " '인후통(목통증)': '105',\n",
    " '숨참': '101',\n",
    " '근육통': '303',\n",
    " '두통': '302',\n",
    " '오한': '301',\n",
    " '미각소실': '309',\n",
    " '후각소실': '310',\n",
    " '늘어지고\\n피곤함': '311',\n",
    " '입맛없음': '201',\n",
    " '설사': '204',\n",
    " '변비': '206',\n",
    " '눈 충혈': '312',\n",
    " '입술 파래짐': '103',\n",
    " '재채기': '109',\n",
    " '몸통발진': '313',\n",
    " '입술 주변 물집': '314',\n",
    " '기타': '999'}"
   ]
  },
  {
   "cell_type": "code",
   "execution_count": null,
   "id": "e13e9c04",
   "metadata": {
    "pycharm": {
     "name": "#%%\n"
    }
   },
   "outputs": [],
   "source": [
    "def symp_filter(sx_name, _other, is_contact, selfcheck_reason):\n",
    "    symptoms = [0, 0, 0, 0, 0, 0, 0, 0, 0, 0, 0]\n",
    "    purposes = [1, 0, 0] # 'indication_other', 'indication_abroad', 'indication_contact'\n",
    "    if sx_name != None and sx_name != '':\n",
    "        symptom_check_list = [sx_name_dicts[i] for i in sx_name.split('`')]\n",
    "        if '104' or '108' in symptom_check_list: symptoms[0] = 1\n",
    "        if '105' in symptom_check_list: symptoms[1] = 1 # 가래, 인후통 따로\n",
    "        if '101' in symptom_check_list: symptoms[2] = 1 # 가슴통증따로\n",
    "        if '302' in symptom_check_list: symptoms[3] = 1\n",
    "        #### 여기부터 기존에 없는 증상\n",
    "        if '106' in symptom_check_list: symptoms[4] = 1\n",
    "        if '303' in symptom_check_list: symptoms[5] = 1\n",
    "        if '301' in symptom_check_list: symptoms[6] = 1\n",
    "        if '309' in symptom_check_list: symptoms[7] = 1\n",
    "        if '310' in symptom_check_list: symptoms[8] = 1\n",
    "        if '107' in symptom_check_list: symptoms[9] = 1\n",
    "        if '102' in symptom_check_list: symptoms[10] = 1\n",
    "    \n",
    "    if _other != None:\n",
    "        if '두통' or '머리' in _other: symptoms[3] = 1\n",
    "        if '인후' or '침' or '목' in _other: symptoms[1] = 1\n",
    "        if '가래' in _other: symptoms[9] = 1\n",
    "        if '기침' in _other: symptoms[0] = 1\n",
    "    \n",
    "    if is_contact == 1: purposes = [0, 0, 1]\n",
    "    if selfcheck_reason == '6' and purposes[0] == 1: purposes = [0, 1, 0]\n",
    "    return symptoms + purposes"
   ]
  },
  {
   "cell_type": "code",
   "execution_count": null,
   "id": "4e04154c",
   "metadata": {
    "pycharm": {
     "name": "#%%\n"
    }
   },
   "outputs": [],
   "source": [
    "def apply_and_concat(df, sx_name, _other, is_contact, selfcheck_reason, func, cols_name):\n",
    "    return pd.concat((df, df.apply(lambda x: pd.Series(func(x[sx_name], x[_other], \\\n",
    "                                   x[is_contact], x[selfcheck_reason]), index=cols_name), axis=1)), axis=1)"
   ]
  },
  {
   "cell_type": "code",
   "execution_count": null,
   "id": "e46c3685",
   "metadata": {
    "pycharm": {
     "name": "#%%\n"
    }
   },
   "outputs": [],
   "source": [
    "df_res.columns"
   ]
  },
  {
   "cell_type": "code",
   "execution_count": null,
   "id": "5112e779",
   "metadata": {
    "pycharm": {
     "name": "#%%\n"
    }
   },
   "outputs": [],
   "source": [
    "df_res['fever'] = df_res['fever'].apply(lambda x: 0 if x == '' else x)"
   ]
  },
  {
   "cell_type": "code",
   "execution_count": null,
   "id": "a7823eab",
   "metadata": {
    "pycharm": {
     "name": "#%%\n"
    }
   },
   "outputs": [],
   "source": [
    "cols = ['cough', 'sore_throat', 'shortness_of_breath',\\\n",
    "        'head_ache', 'runny_nose', 'muscle_pain', 'chills',\\\n",
    "        'loss_of_taste', 'loss_of_smell', 'sputum', 'chest_pain',\\\n",
    "        'indication_other', 'indication_abroad', 'indication_contact']\n",
    "\n",
    "df_res = apply_and_concat(df_res, 'sx_name', 'etc_status', 'is_contact', 'selfcheck_reason', symp_filter, cols)"
   ]
  },
  {
   "cell_type": "code",
   "execution_count": null,
   "id": "c837bbe1",
   "metadata": {
    "pycharm": {
     "name": "#%%\n"
    }
   },
   "outputs": [],
   "source": [
    "df_res.columns"
   ]
  },
  {
   "cell_type": "code",
   "execution_count": null,
   "id": "c0f1304a",
   "metadata": {
    "pycharm": {
     "name": "#%%\n"
    }
   },
   "outputs": [],
   "source": [
    "df_res['weekday'] = pd.to_datetime(df_res['pcr_date']).dt.dayofweek"
   ]
  },
  {
   "cell_type": "code",
   "execution_count": null,
   "id": "32b244ba",
   "metadata": {
    "pycharm": {
     "name": "#%%\n"
    }
   },
   "outputs": [],
   "source": [
    "df_res['pcr_result'] = df_res['pcr_result'].astype(int)"
   ]
  },
  {
   "cell_type": "code",
   "execution_count": null,
   "id": "90938f58",
   "metadata": {
    "pycharm": {
     "name": "#%%\n"
    }
   },
   "outputs": [],
   "source": [
    "df_res['age_ratio'] = df_res['age'] / 100"
   ]
  },
  {
   "cell_type": "code",
   "execution_count": null,
   "id": "d7ec30cc",
   "metadata": {
    "pycharm": {
     "name": "#%%\n"
    }
   },
   "outputs": [],
   "source": [
    "df_res[df_res['pcr_result'] == 1].shape[0], df_res[df_res['pcr_result'] == 2].shape[0]"
   ]
  },
  {
   "cell_type": "code",
   "execution_count": null,
   "id": "7363e824",
   "metadata": {
    "pycharm": {
     "name": "#%%\n"
    }
   },
   "outputs": [],
   "source": [
    "df_res"
   ]
  },
  {
   "cell_type": "markdown",
   "id": "4d166315",
   "metadata": {
    "pycharm": {
     "name": "#%% md\n"
    }
   },
   "source": [
    "### 가입일 데이터 제외 "
   ]
  },
  {
   "cell_type": "code",
   "execution_count": null,
   "id": "7fd16f5b",
   "metadata": {
    "pycharm": {
     "name": "#%%\n"
    }
   },
   "outputs": [],
   "source": [
    "# qry = 'SELECT b._id as baby_id, u.join_date FROM md_user u JOIN md_baby b ON u._id = b.user_sn;'\n",
    "# cols = ['baby_id', 'join_date']\n",
    "\n",
    "# df_joindate = create_df(qry, cols, shine_conf)\n",
    "# df_joindate['baby_id'] = df_joindate['baby_id'].astype(int)\n",
    "# df_res['baby_id'] = df_res['baby_id'].astype(int)\n",
    "\n",
    "# df_res = pd.merge(df_res, df_joindate, how='inner', on='baby_id')"
   ]
  },
  {
   "cell_type": "code",
   "execution_count": null,
   "id": "86a80dc9",
   "metadata": {
    "pycharm": {
     "name": "#%%\n"
    }
   },
   "outputs": [],
   "source": [
    "# df_res"
   ]
  },
  {
   "cell_type": "code",
   "execution_count": null,
   "id": "c9fc93a0",
   "metadata": {
    "pycharm": {
     "name": "#%%\n"
    }
   },
   "outputs": [],
   "source": [
    "# df_res['join_date'] = df_res['join_date'].apply(lambda x: x[:10])"
   ]
  },
  {
   "cell_type": "code",
   "execution_count": null,
   "id": "b575be87",
   "metadata": {
    "pycharm": {
     "name": "#%%\n"
    }
   },
   "outputs": [],
   "source": [
    "df_res = df_res.sort_values('pcr_date', ascending=True)"
   ]
  },
  {
   "cell_type": "code",
   "execution_count": null,
   "id": "ec8652cc",
   "metadata": {
    "pycharm": {
     "name": "#%%\n"
    }
   },
   "outputs": [],
   "source": [
    "df_res"
   ]
  },
  {
   "cell_type": "code",
   "execution_count": null,
   "id": "7fedcbcb",
   "metadata": {
    "pycharm": {
     "name": "#%%\n"
    }
   },
   "outputs": [],
   "source": [
    "df_res[df_res['pcr_result'] == 1].shape[0], df_res[df_res['pcr_result'] == 2].shape[0]"
   ]
  },
  {
   "cell_type": "code",
   "execution_count": null,
   "id": "e3c77907",
   "metadata": {
    "pycharm": {
     "name": "#%%\n"
    }
   },
   "outputs": [],
   "source": [
    "df_res.columns # 증상과 요일이 채워짐"
   ]
  },
  {
   "cell_type": "markdown",
   "id": "5bf2affd",
   "metadata": {
    "pycharm": {
     "name": "#%% md\n"
    }
   },
   "source": [
    "### 백신 정보인데 아직 인풋으로 안넣어줌"
   ]
  },
  {
   "cell_type": "code",
   "execution_count": null,
   "id": "7df62516",
   "metadata": {
    "pycharm": {
     "name": "#%%\n"
    }
   },
   "outputs": [],
   "source": [
    "# df_vac = df_md_data_location[df_md_data_location['type'] == 104][['_id', 'baby_id', 'data_1', 'data_2', 'data_3', 'data_7']]\n",
    "# df_vac.columns = ['_id', 'baby_id', 'vac_date', 'vac_type', 'vac_degree', 'vac_confirmed']\n",
    "# df_vac = df_vac[df_vac['vac_confirmed'] == 'Y']\n",
    "# df_vac"
   ]
  },
  {
   "cell_type": "code",
   "execution_count": null,
   "id": "c4e8812f",
   "metadata": {
    "pycharm": {
     "name": "#%%\n"
    }
   },
   "outputs": [],
   "source": [
    "# def vac_degree_filter(baby_id, self_check_date):\n",
    "#     vac_degree = 0\n",
    "#     df_vac_info = df_vac[(df_vac['baby_id'] == str(baby_id)) & (df_vac['vac_date'] < self_check_date)]\n",
    "#     df_vac_info = df_vac_info.sort_values('vac_degree')\n",
    "#     if df_vac_info.shape[0] != 0:\n",
    "#         vac_degree = int(df_vac_info.iloc[-1]['vac_degree'])\n",
    "#     return vac_degree"
   ]
  },
  {
   "cell_type": "code",
   "execution_count": null,
   "id": "a726ca4c",
   "metadata": {
    "pycharm": {
     "name": "#%%\n"
    }
   },
   "outputs": [],
   "source": [
    "# df_res['vac_degree'] = df_res.apply(lambda df: vac_degree_filter(df['baby_id'], df['self_check_date']), axis=1)"
   ]
  },
  {
   "cell_type": "code",
   "execution_count": null,
   "id": "980cb351",
   "metadata": {
    "pycharm": {
     "name": "#%%\n"
    }
   },
   "outputs": [],
   "source": [
    "df_res['pcr_result'] = df_res['pcr_result'].astype(int)"
   ]
  },
  {
   "cell_type": "code",
   "execution_count": null,
   "id": "933b6883",
   "metadata": {
    "pycharm": {
     "name": "#%%\n"
    }
   },
   "outputs": [],
   "source": [
    "df_res['age_ratio'] = df_res['age'] / 100"
   ]
  },
  {
   "cell_type": "code",
   "execution_count": null,
   "id": "d2519826",
   "metadata": {
    "pycharm": {
     "name": "#%%\n"
    }
   },
   "outputs": [],
   "source": [
    "df_res[df_res['pcr_result'] == 1].shape[0], df_res[df_res['pcr_result'] == 2].shape[0]"
   ]
  },
  {
   "cell_type": "code",
   "execution_count": null,
   "id": "fad83cad",
   "metadata": {
    "pycharm": {
     "name": "#%%\n"
    }
   },
   "outputs": [],
   "source": [
    "df_res.columns"
   ]
  },
  {
   "cell_type": "code",
   "execution_count": null,
   "id": "8263edf3",
   "metadata": {
    "pycharm": {
     "name": "#%%\n"
    }
   },
   "outputs": [],
   "source": [
    "df_covid = df_res"
   ]
  },
  {
   "cell_type": "markdown",
   "id": "1f29c595",
   "metadata": {
    "pycharm": {
     "name": "#%% md\n"
    }
   },
   "source": [
    "### pcr 결과를 0: 음성 ,1: 양성으로 바꿔주는 작업"
   ]
  },
  {
   "cell_type": "code",
   "execution_count": null,
   "id": "caee6143",
   "metadata": {
    "pycharm": {
     "name": "#%%\n"
    }
   },
   "outputs": [],
   "source": [
    "df_covid['pcr_result'] = df_covid['pcr_result'].apply(lambda x: int(x) - 1)"
   ]
  },
  {
   "cell_type": "markdown",
   "id": "eb769625",
   "metadata": {
    "pycharm": {
     "name": "#%% md\n"
    }
   },
   "source": [
    "### 본격적으로 유행도 붙여주는 작업"
   ]
  },
  {
   "cell_type": "code",
   "execution_count": null,
   "id": "348797e3",
   "metadata": {
    "pycharm": {
     "name": "#%%\n"
    }
   },
   "outputs": [],
   "source": [
    "def filter_date(date):\n",
    "    year = f\"20{date[-2:]}\"\n",
    "    month = date[:date.index('/')]\n",
    "    month = f'0{month}' if len(month) == 1 else month\n",
    "    day = date[date.index('/') + 1 : date.rindex('/')]\n",
    "    day = f'0{day}' if len(day) == 1 else day\n",
    "    res = f'{year}-{month}-{day}'\n",
    "    return res"
   ]
  },
  {
   "cell_type": "code",
   "execution_count": null,
   "id": "5e98d4c3",
   "metadata": {
    "pycharm": {
     "name": "#%%\n"
    }
   },
   "outputs": [],
   "source": [
    "def get_global_confirmed_df(df_timeseries_confirm):\n",
    "    df_confirmed_global = df_timeseries_confirm.sum().reset_index()\n",
    "    df_confirmed_global = df_confirmed_global.rename(columns={'index': 'global_confirmed_date', 0: 'global_confirmed_numsum'}).iloc[3:, :]\n",
    "    df_confirmed_global = df_confirmed_global.reset_index(drop=True)\n",
    "    df_confirmed_global['global_confirmed_num'] = df_confirmed_global['global_confirmed_numsum'] - df_confirmed_global.shift(1)['global_confirmed_numsum']\n",
    "    df_confirmed_global = df_confirmed_global.dropna()\n",
    "    df_confirmed_global['global_confirmed_num'] = df_confirmed_global['global_confirmed_num'].astype(int)\n",
    "    df_confirmed_global['global_confirmed_date'] = df_confirmed_global['global_confirmed_date'].apply(filter_date)\n",
    "    return df_confirmed_global"
   ]
  },
  {
   "cell_type": "code",
   "execution_count": null,
   "id": "edb9dfe5",
   "metadata": {
    "pycharm": {
     "name": "#%%\n"
    }
   },
   "outputs": [],
   "source": [
    "def get_kor_confirmed_df(df_timeseries_confirm):\n",
    "    rows = []\n",
    "    for idx, values in enumerate(df_timeseries_confirm[df_timeseries_confirm['Country/Region'] == 'Korea, South'].iteritems()):\n",
    "        if idx < 4: continue\n",
    "        year = f\"20{values[0][-2:]}\"\n",
    "        month = values[0][:values[0].index('/')]\n",
    "        month = f'0{month}' if len(month) == 1 else month\n",
    "        day = values[0][values[0].index('/') + 1 : values[0].rindex('/')]\n",
    "        day = f'0{day}' if len(day) == 1 else day\n",
    "        date = f'{year}-{month}-{day}'\n",
    "        confirmed_num = values[1].item()\n",
    "        rows.append([date, confirmed_num])\n",
    "    df_numsum_confirmed = pd.DataFrame(rows, columns=['confirmed_date', 'confirmed_numsum'])\n",
    "    df_numsum_confirmed['confirmed_num'] = df_numsum_confirmed['confirmed_numsum'] - df_numsum_confirmed.shift(1)['confirmed_numsum']\n",
    "    df_numsum_confirmed = df_numsum_confirmed.dropna()\n",
    "    df_numsum_confirmed['confirmed_num'] = df_numsum_confirmed['confirmed_num'].astype(int)\n",
    "    return df_numsum_confirmed"
   ]
  },
  {
   "cell_type": "code",
   "execution_count": null,
   "id": "b7cce01c",
   "metadata": {
    "pycharm": {
     "name": "#%%\n"
    }
   },
   "outputs": [],
   "source": [
    "def get_confirmed_df():\n",
    "    url = \"https://raw.githubusercontent.com/CSSEGISandData/COVID-19/master/csse_covid_19_data/csse_covid_19_time_series/time_series_covid19_confirmed_global.csv\"\n",
    "    df_timeseries_confirm = pd.read_csv(url)\n",
    "    display(df_timeseries_confirm)\n",
    "    global_confirmed_df = get_global_confirmed_df(df_timeseries_confirm)\n",
    "    kor_confirmed_df = get_kor_confirmed_df(df_timeseries_confirm)\n",
    "    return global_confirmed_df, kor_confirmed_df"
   ]
  },
  {
   "cell_type": "code",
   "execution_count": null,
   "id": "9b3d03de",
   "metadata": {
    "pycharm": {
     "name": "#%%\n"
    }
   },
   "outputs": [],
   "source": [
    "def display_performance(clf, pred, valid_input, valid_gt):\n",
    "    pred = np.array(pred)\n",
    "\n",
    "    print('accuracy %.4f' % (accuracy_score(pred, valid_gt)))\n",
    "    print('precision %.4f' % (precision_score(pred, valid_gt)))\n",
    "    print('recall %.4f' % (recall_score(pred, valid_gt)))\n",
    "    print('f1-score %.4f' % (f1_score(pred, valid_gt)))\n",
    "    print(confusion_matrix(pred, valid_gt))\n",
    "    plot_roc_curve(clf, valid_input, valid_gt)"
   ]
  },
  {
   "cell_type": "code",
   "execution_count": null,
   "id": "60e58b70",
   "metadata": {
    "pycharm": {
     "name": "#%%\n"
    }
   },
   "outputs": [],
   "source": [
    "global_confirmed_df, kor_confirmed_df = get_confirmed_df()"
   ]
  },
  {
   "cell_type": "code",
   "execution_count": null,
   "id": "d2f48a6d",
   "metadata": {
    "pycharm": {
     "name": "#%%\n"
    }
   },
   "outputs": [],
   "source": [
    "def kor_find_week_confirmed_num(confirmed_date):\n",
    "    date_column='confirmed_date'\n",
    "    cur_datetime = pd.to_datetime(confirmed_date, format='%Y-%m-%d')\n",
    "    before_week_datetime = cur_datetime - timedelta(days=7)\n",
    "    before_week_date = before_week_datetime.strftime('%Y-%m-%d')\n",
    "    df = kor_confirmed_df[(before_week_date < kor_confirmed_df[date_column]) & (kor_confirmed_df[date_column] <= confirmed_date)]\n",
    "    return int(df['confirmed_num'].mean() // 1)"
   ]
  },
  {
   "cell_type": "code",
   "execution_count": null,
   "id": "a2c05c66",
   "metadata": {
    "pycharm": {
     "name": "#%%\n"
    }
   },
   "outputs": [],
   "source": [
    "def global_find_week_confirmed_num(confirmed_date):\n",
    "    date_column = 'global_confirmed_date'\n",
    "    cur_datetime = pd.to_datetime(confirmed_date, format='%Y-%m-%d')\n",
    "    before_week_datetime = cur_datetime - timedelta(days=7)\n",
    "    before_week_date = before_week_datetime.strftime('%Y-%m-%d')\n",
    "    df = global_confirmed_df[(before_week_date < global_confirmed_df[date_column]) & (global_confirmed_df[date_column] <= confirmed_date)]\n",
    "    return int(df['global_confirmed_num'].mean() // 1)"
   ]
  },
  {
   "cell_type": "code",
   "execution_count": null,
   "id": "bd2dadd3",
   "metadata": {
    "pycharm": {
     "name": "#%%\n"
    }
   },
   "outputs": [],
   "source": [
    "global_confirmed_df['global_confirmed_week_num'] = global_confirmed_df['global_confirmed_date'].apply(global_find_week_confirmed_num)"
   ]
  },
  {
   "cell_type": "code",
   "execution_count": null,
   "id": "327a2a68",
   "metadata": {
    "pycharm": {
     "name": "#%%\n"
    }
   },
   "outputs": [],
   "source": [
    "kor_confirmed_df['confirmed_week_num'] = kor_confirmed_df['confirmed_date'].apply(kor_find_week_confirmed_num)"
   ]
  },
  {
   "cell_type": "code",
   "execution_count": null,
   "id": "d548ed4b",
   "metadata": {
    "pycharm": {
     "name": "#%%\n"
    }
   },
   "outputs": [],
   "source": [
    "kor_confirmed_df.tail()"
   ]
  },
  {
   "cell_type": "code",
   "execution_count": null,
   "id": "d059f3a0",
   "metadata": {
    "pycharm": {
     "name": "#%%\n"
    }
   },
   "outputs": [],
   "source": [
    "global_confirmed_df.tail()"
   ]
  },
  {
   "cell_type": "code",
   "execution_count": null,
   "id": "e96c65fa",
   "metadata": {
    "pycharm": {
     "name": "#%%\n"
    }
   },
   "outputs": [],
   "source": [
    "CONFIRMED_MAX = 11934 / 9.217 * 51.78  # 66033\n",
    "GLOBAL_CONFIRMED_MAX = 1498041"
   ]
  },
  {
   "cell_type": "code",
   "execution_count": null,
   "id": "0a51f52c",
   "metadata": {
    "pycharm": {
     "name": "#%%\n"
    }
   },
   "outputs": [],
   "source": [
    "kor_confirmed_df['confirmed_ratio'] = kor_confirmed_df['confirmed_num'] / CONFIRMED_MAX\n",
    "global_confirmed_df['global_confirmed_ratio'] = global_confirmed_df['global_confirmed_num'] / GLOBAL_CONFIRMED_MAX\n",
    "kor_confirmed_df['confirmed_week_ratio'] = kor_confirmed_df['confirmed_week_num'] / CONFIRMED_MAX\n",
    "global_confirmed_df['global_confirmed_week_ratio'] = global_confirmed_df['global_confirmed_week_num'] / GLOBAL_CONFIRMED_MAX"
   ]
  },
  {
   "cell_type": "code",
   "execution_count": null,
   "id": "cb8d221e",
   "metadata": {
    "pycharm": {
     "name": "#%%\n"
    }
   },
   "outputs": [],
   "source": [
    "df_pcr_loc"
   ]
  },
  {
   "cell_type": "code",
   "execution_count": null,
   "id": "c5775bae",
   "metadata": {
    "pycharm": {
     "name": "#%%\n"
    }
   },
   "outputs": [],
   "source": [
    "df_sigungu_population = df_pcr_loc[['sido', 'sigungu']].drop_duplicates().reset_index(drop=True)"
   ]
  },
  {
   "cell_type": "code",
   "execution_count": null,
   "id": "3a0d960d",
   "metadata": {
    "pycharm": {
     "name": "#%%\n"
    }
   },
   "outputs": [],
   "source": [
    "df_sigungu_population"
   ]
  },
  {
   "cell_type": "markdown",
   "id": "7c5e73f8",
   "metadata": {
    "pycharm": {
     "name": "#%% md\n"
    }
   },
   "source": [
    "### 인구수로 nomalization\n",
    "- 2022년 6월 기준 행정구역 총 인구수 \n",
    "- https://jumin.mois.go.kr/ 여기 참고"
   ]
  },
  {
   "cell_type": "code",
   "execution_count": null,
   "id": "f412fead",
   "metadata": {
    "scrolled": false,
    "pycharm": {
     "name": "#%%\n"
    }
   },
   "outputs": [],
   "source": [
    "df_sigungu_population_raw = pd.read_csv('./sigungu_population/population_1.csv', encoding='cp949')\n",
    "for i in range(2, 18):\n",
    "    df_append = pd.read_csv(f'./sigungu_population/population_{i}.csv', encoding='cp949')\n",
    "    df_sigungu_population_raw = pd.concat((df_sigungu_population_raw, df_append))\n",
    "df_sigungu_population_raw.reset_index(drop=True)\n",
    "df_sigungu_population_raw.head()"
   ]
  },
  {
   "cell_type": "code",
   "execution_count": null,
   "id": "9c96201a",
   "metadata": {
    "pycharm": {
     "name": "#%%\n"
    }
   },
   "outputs": [],
   "source": [
    "for idx, row in df_sigungu_population.iterrows():\n",
    "    sido = row['sido']\n",
    "    sigungu = row['sigungu']\n",
    "    if sido == '충북':\n",
    "        sido = '충청북도'\n",
    "    elif sido == '충남':\n",
    "        sido = '충청남도'\n",
    "    elif sido == '경북':\n",
    "        sido = '경상북도'\n",
    "    elif sido == '경남':\n",
    "        sido = '경상남도'\n",
    "    elif sido == '전북':\n",
    "        sido = '전라북도'\n",
    "    elif sido == '전남':\n",
    "         sido = '전라남도'\n",
    "    condit1 = df_sigungu_population_raw['행정구역'].str.contains(sido)\n",
    "    condit2 = df_sigungu_population_raw['행정구역'].str.contains(sigungu)\n",
    "    print(row['sido'], row['sigungu'])\n",
    "    df_res = df_sigungu_population_raw[condit1 & condit2]\n",
    "    \n",
    "    if df_res.shape[0] == 0:\n",
    "        print(0)\n",
    "    elif df_res.shape[0] == 1:\n",
    "        print(df_res['2022년06월_총인구수'].item().replace(',', ''))\n",
    "    else:\n",
    "        display(df_res)\n",
    "        if sido == '인천' and sigungu == '동구':\n",
    "            print(df_res[df_res['행정구역'] == '인천광역시 동구 (2814000000)']['2022년06월_총인구수'].item().replace(',', ''))\n",
    "        elif sido == '경기' and sigungu == '양주':\n",
    "            print(df_res[df_res['행정구역'] == '경기도 양주시 (4163000000)']['2022년06월_총인구수'].item().replace(',', ''))\n",
    "        elif sido == '부산' and sigungu == '서구':\n",
    "            print(df_res[df_res['행정구역'] == '부산광역시 서구 (2614000000)']['2022년06월_총인구수'].item().replace(',', ''))\n",
    "        else:\n",
    "            print(df_res['2022년06월_총인구수'].map(lambda x: int(x.replace(',', ''))).max())\n",
    "            "
   ]
  },
  {
   "cell_type": "code",
   "execution_count": null,
   "id": "5b167d19",
   "metadata": {
    "pycharm": {
     "name": "#%%\n"
    }
   },
   "outputs": [],
   "source": [
    "def find_population(sido, sigungu):\n",
    "    if sido == '충북':\n",
    "        sido = '충청북도'\n",
    "    elif sido == '충남':\n",
    "        sido = '충청남도'\n",
    "    elif sido == '경북':\n",
    "        sido = '경상북도'\n",
    "    elif sido == '경남':\n",
    "        sido = '경상남도'\n",
    "    elif sido == '전북':\n",
    "        sido = '전라북도'\n",
    "    elif sido == '전남':\n",
    "         sido = '전라남도'\n",
    "    condit1 = df_sigungu_population_raw['행정구역'].str.contains(sido)\n",
    "    condit2 = df_sigungu_population_raw['행정구역'].str.contains(sigungu)\n",
    "    df_res = df_sigungu_population_raw[condit1 & condit2]\n",
    "\n",
    "    if df_res.shape[0] == 0:\n",
    "        return None\n",
    "    elif df_res.shape[0] == 1:\n",
    "        return int(df_res['2022년06월_총인구수'].item().replace(',', ''))\n",
    "    else:\n",
    "        res = df_res['2022년06월_총인구수'].map(lambda x: int(x.replace(',', ''))).max()\n",
    "        if sido == '인천' and sigungu == '동구':\n",
    "            res = df_res[df_res['행정구역'] == '인천광역시 동구 (2814000000)']['2022년06월_총인구수'].item().replace(',', '')\n",
    "        if sido == '경기' and sigungu == '양주':\n",
    "            res = df_res[df_res['행정구역'] == '경기도 양주시 (4163000000)']['2022년06월_총인구수'].item().replace(',', '')\n",
    "        if sido == '부산' and sigungu == '서구':\n",
    "            res = df_res[df_res['행정구역'] == '부산광역시 서구 (2614000000)']['2022년06월_총인구수'].item().replace(',', '')\n",
    "        return int(res)"
   ]
  },
  {
   "cell_type": "code",
   "execution_count": null,
   "id": "65bee841",
   "metadata": {
    "pycharm": {
     "name": "#%%\n"
    }
   },
   "outputs": [],
   "source": [
    "df_sigungu_population['population'] = df_sigungu_population.apply(lambda x: find_population(x['sido'], x['sigungu']), axis=1)"
   ]
  },
  {
   "cell_type": "code",
   "execution_count": null,
   "id": "7aab34c6",
   "metadata": {
    "pycharm": {
     "name": "#%%\n"
    }
   },
   "outputs": [],
   "source": [
    "df_sigungu_population = df_sigungu_population[~df_sigungu_population['population'].isnull()].reset_index(drop=True)"
   ]
  },
  {
   "cell_type": "markdown",
   "id": "9e7ffd2e",
   "metadata": {
    "pycharm": {
     "name": "#%% md\n"
    }
   },
   "source": [
    "### 시도시군구 인구수 구함"
   ]
  },
  {
   "cell_type": "code",
   "execution_count": null,
   "id": "8298832c",
   "metadata": {
    "pycharm": {
     "name": "#%%\n"
    }
   },
   "outputs": [],
   "source": [
    "df_sigungu_population.sort_values(['sido', 'sigungu'])"
   ]
  },
  {
   "cell_type": "code",
   "execution_count": null,
   "id": "33f8521c",
   "metadata": {
    "pycharm": {
     "name": "#%%\n"
    }
   },
   "outputs": [],
   "source": [
    "def find_sigungu_confirmed_ratio(sido, sigungu, confirmed_total):\n",
    "    sido_condit = df_sigungu_population['sido'] == sido \n",
    "    sigungu_condit = df_sigungu_population['sigungu'] == sigungu\n",
    "    df_popul = df_sigungu_population[sido_condit & sigungu_condit]\n",
    "    if df_popul.shape[0] == 0: return None\n",
    "    return float(confirmed_total) / df_popul['population'].item()"
   ]
  },
  {
   "cell_type": "markdown",
   "id": "25b2e212",
   "metadata": {
    "pycharm": {
     "name": "#%% md\n"
    }
   },
   "source": [
    "### 우리 지역별 확진자수 디비에서 가져와서 csv파일에 저장한거 불러옴"
   ]
  },
  {
   "cell_type": "code",
   "execution_count": null,
   "id": "73d1c93c",
   "metadata": {
    "pycharm": {
     "name": "#%%\n"
    }
   },
   "outputs": [],
   "source": [
    "df_confirmed_sigungu_old = pd.read_csv('sigungu_confirmed_num.csv')"
   ]
  },
  {
   "cell_type": "code",
   "execution_count": null,
   "id": "41d2d321",
   "metadata": {
    "pycharm": {
     "name": "#%%\n"
    }
   },
   "outputs": [],
   "source": [
    "df_confirmed_sigungu = pd.read_sql('SELECT * FROM shine2_covid_sigungu', kt_engine)"
   ]
  },
  {
   "cell_type": "code",
   "execution_count": null,
   "id": "cf0319bd",
   "metadata": {
    "pycharm": {
     "name": "#%%\n"
    }
   },
   "outputs": [],
   "source": [
    "def revert_to_int(s):\n",
    "    try:\n",
    "        if len(s) >=4 and s[1] == ',':\n",
    "            return int(s[:1] + s[2:])\n",
    "        if s[-1] == '+':\n",
    "            return int(s[:-2])\n",
    "        return int(s)\n",
    "    except ValueError:\n",
    "        print(s)\n",
    "        return s"
   ]
  },
  {
   "cell_type": "code",
   "execution_count": null,
   "id": "562574f3",
   "metadata": {
    "pycharm": {
     "name": "#%%\n"
    }
   },
   "outputs": [],
   "source": [
    "df_confirmed_sigungu['confirmed_total'] = df_confirmed_sigungu['confirmed_total'].apply(revert_to_int)"
   ]
  },
  {
   "cell_type": "code",
   "execution_count": null,
   "id": "f5fc7921",
   "metadata": {
    "pycharm": {
     "name": "#%%\n"
    }
   },
   "outputs": [],
   "source": [
    "def get_confirmed_ratio_sigungu(standard_date, sido, sigungu, confirmed_total):\n",
    "    yesterdate = (datetime.strptime(standard_date, '%Y-%m-%d') - timedelta(days=1)).strftime('%Y-%m-%d')\n",
    "    condit0 = df_confirmed_sigungu['standard_date'] == standard_date\n",
    "    condit1 = df_confirmed_sigungu['standard_date'] == yesterdate\n",
    "    condit2 = df_confirmed_sigungu['sido'] == sido\n",
    "    condit3 = df_confirmed_sigungu['sigungu'] == sigungu\n",
    "    df_yesterday = df_confirmed_sigungu[(condit1 & condit2 & condit3)]\n",
    "    df_today = df_confirmed_sigungu[(condit0 & condit2 & condit3)]\n",
    "    if df_yesterday.shape[0] == 0: return 0\n",
    "#     display(df_today)\n",
    "#     display(df_yesterday)\n",
    "    return confirmed_total - df_yesterday['confirmed_total'].item()"
   ]
  },
  {
   "cell_type": "code",
   "execution_count": null,
   "id": "a9abb4bf",
   "metadata": {
    "pycharm": {
     "name": "#%%\n"
    }
   },
   "outputs": [],
   "source": [
    "# df_confirmed_sigungu['sigungu_confirmed_num'] = df_confirmed_sigungu.apply(lambda df: get_confirmed_ratio_sigungu(df['standard_date'], df['sido'], df['sigungu'], df['confirmed_total']), axis=1)"
   ]
  },
  {
   "cell_type": "markdown",
   "id": "d0248312",
   "metadata": {
    "pycharm": {
     "name": "#%% md\n"
    }
   },
   "source": [
    "### 기존에 시군구 다 존재하던 애들에 sigungu_confirmed_ratio 붙여줌"
   ]
  },
  {
   "cell_type": "code",
   "execution_count": null,
   "id": "f24ba071",
   "metadata": {
    "pycharm": {
     "name": "#%%\n"
    }
   },
   "outputs": [],
   "source": [
    "df_confirmed_sigungu['sigungu_confirmed_ratio'] = df_confirmed_sigungu.apply(lambda x : find_sigungu_confirmed_ratio(x['sido'], x['sigungu'], x['confirmed_total']), axis=1)"
   ]
  },
  {
   "cell_type": "code",
   "execution_count": null,
   "id": "ee73003f",
   "metadata": {
    "pycharm": {
     "name": "#%%\n"
    }
   },
   "outputs": [],
   "source": [
    "df_confirmed_sigungu = df_confirmed_sigungu[~df_confirmed_sigungu['sigungu_confirmed_ratio'].isnull()]"
   ]
  },
  {
   "cell_type": "code",
   "execution_count": null,
   "id": "5b2aab9b",
   "metadata": {
    "pycharm": {
     "name": "#%%\n"
    }
   },
   "outputs": [],
   "source": [
    "df_confirmed_sigungu = df_confirmed_sigungu.rename(columns={'standard_date': 'pcr_date'})"
   ]
  },
  {
   "cell_type": "code",
   "execution_count": null,
   "id": "0b4b1536",
   "metadata": {
    "pycharm": {
     "name": "#%%\n"
    }
   },
   "outputs": [],
   "source": [
    "df_confirmed_sigungu['pcr_date'] = df_confirmed_sigungu['pcr_date'].astype(str).apply(lambda x : x[:10])"
   ]
  },
  {
   "cell_type": "markdown",
   "id": "5084a8a8",
   "metadata": {
    "pycharm": {
     "name": "#%% md\n"
    }
   },
   "source": [
    "### 전세계 유행도, 한국 유행도 붙임"
   ]
  },
  {
   "cell_type": "code",
   "execution_count": null,
   "id": "89fa6310",
   "metadata": {
    "pycharm": {
     "name": "#%%\n"
    }
   },
   "outputs": [],
   "source": [
    "df_covid = pd.merge(df_covid, kor_confirmed_df, how='left', left_on='pcr_date', right_on='confirmed_date')"
   ]
  },
  {
   "cell_type": "code",
   "execution_count": null,
   "id": "8501e315",
   "metadata": {
    "pycharm": {
     "name": "#%%\n"
    }
   },
   "outputs": [],
   "source": [
    "df_covid = pd.merge(df_covid, global_confirmed_df, how='left', left_on='pcr_date', right_on='global_confirmed_date')"
   ]
  },
  {
   "cell_type": "code",
   "execution_count": null,
   "id": "0d8320e5",
   "metadata": {
    "pycharm": {
     "name": "#%%\n"
    }
   },
   "outputs": [],
   "source": [
    "df_covid.head()"
   ]
  },
  {
   "cell_type": "markdown",
   "id": "8eafffb2",
   "metadata": {
    "pycharm": {
     "name": "#%% md\n"
    }
   },
   "source": [
    "### 시군구 유행도 붙임"
   ]
  },
  {
   "cell_type": "code",
   "execution_count": null,
   "id": "89458a45",
   "metadata": {
    "pycharm": {
     "name": "#%%\n"
    }
   },
   "outputs": [],
   "source": [
    "df_confirmed_sigungu"
   ]
  },
  {
   "cell_type": "code",
   "execution_count": null,
   "id": "9cd03322",
   "metadata": {
    "pycharm": {
     "name": "#%%\n"
    }
   },
   "outputs": [],
   "source": [
    "df_covid = pd.merge(df_covid, df_confirmed_sigungu, on=['pcr_date', 'sido', 'sigungu'], how='left')"
   ]
  },
  {
   "cell_type": "code",
   "execution_count": null,
   "id": "27cc8722",
   "metadata": {
    "pycharm": {
     "name": "#%%\n"
    }
   },
   "outputs": [],
   "source": [
    "display(df_confirmed_sigungu)\n",
    "display(df_covid)"
   ]
  },
  {
   "cell_type": "code",
   "execution_count": null,
   "id": "3ef8cdac",
   "metadata": {
    "pycharm": {
     "name": "#%%\n"
    }
   },
   "outputs": [],
   "source": [
    "df_covid[df_covid['sigungu_confirmed_ratio'].isnull()].shape, df_covid[~df_covid['sigungu_confirmed_ratio'].isnull()].shape"
   ]
  },
  {
   "cell_type": "code",
   "execution_count": null,
   "id": "1f3a9d8e",
   "metadata": {
    "pycharm": {
     "name": "#%%\n"
    }
   },
   "outputs": [],
   "source": [
    "df_covid['sigungu_confirmed_ratio'].unique()"
   ]
  },
  {
   "cell_type": "code",
   "execution_count": null,
   "id": "c9bd00cd",
   "metadata": {
    "pycharm": {
     "name": "#%%\n"
    }
   },
   "outputs": [],
   "source": [
    "CONFIRMED_MAX = 11934 / 9.217 * 51.78  # 66033\n",
    "GLOBAL_CONFIRMED_MAX = 1498041"
   ]
  },
  {
   "cell_type": "code",
   "execution_count": null,
   "id": "f62eb4a4",
   "metadata": {
    "pycharm": {
     "name": "#%%\n"
    }
   },
   "outputs": [],
   "source": [
    "df_covid['confirmed_ratio'] = df_covid['confirmed_num'] / CONFIRMED_MAX\n",
    "df_covid['global_confirmed_ratio'] = df_covid['global_confirmed_num'] / GLOBAL_CONFIRMED_MAX\n",
    "df_covid['confirmed_week_ratio'] = df_covid['confirmed_week_num'] / CONFIRMED_MAX\n",
    "df_covid['global_confirmed_week_ratio'] = df_covid['global_confirmed_week_num'] / GLOBAL_CONFIRMED_MAX"
   ]
  },
  {
   "cell_type": "code",
   "execution_count": null,
   "id": "7b5837bd",
   "metadata": {
    "pycharm": {
     "name": "#%%\n"
    }
   },
   "outputs": [],
   "source": [
    "df_covid = df_covid[~df_covid['confirmed_date'].isna()]"
   ]
  },
  {
   "cell_type": "markdown",
   "id": "25e0d432",
   "metadata": {
    "pycharm": {
     "name": "#%% md\n"
    }
   },
   "source": [
    "### 시군구 있는 데이터 없는 데이터 구분하는 마스킹 컬럼 추가"
   ]
  },
  {
   "cell_type": "code",
   "execution_count": null,
   "id": "4b976c52",
   "metadata": {
    "pycharm": {
     "name": "#%%\n"
    }
   },
   "outputs": [],
   "source": [
    "def mask_filter(sido, sigungu):\n",
    "    if sido == '' or sigungu == '': return 0\n",
    "    return 1"
   ]
  },
  {
   "cell_type": "code",
   "execution_count": null,
   "id": "f66e63f7",
   "metadata": {
    "pycharm": {
     "name": "#%%\n"
    }
   },
   "outputs": [],
   "source": [
    "df_covid['mask'] = df_covid.apply(lambda x: mask_filter(x['sido'], x['sigungu']), axis=1)"
   ]
  },
  {
   "cell_type": "code",
   "execution_count": null,
   "id": "b2ea769a",
   "metadata": {
    "pycharm": {
     "name": "#%%\n"
    }
   },
   "outputs": [],
   "source": [
    "df_covid['sigungu_confirmed_ratio'] = df_covid['sigungu_confirmed_ratio'].fillna(0)"
   ]
  },
  {
   "cell_type": "code",
   "execution_count": null,
   "id": "7d07eaa2",
   "metadata": {
    "pycharm": {
     "name": "#%%\n"
    }
   },
   "outputs": [],
   "source": [
    "israel_symptom_input_cols = ['cough', 'fever', 'sore_throat', 'shortness_of_breath', 'head_ache']\n",
    "\n",
    "symptom_input_cols = (['runny_nose', 'muscle_pain', 'chills',  'loss_of_taste', \n",
    "                       'loss_of_smell', 'sputum', 'chest_pain'])\n",
    "\n",
    "surveilance_cols = (['global_confirmed_ratio', 'confirmed_ratio', 'sigungu_confirmed_ratio'])\n",
    "# surveilance_cols = (['global_confirmed_ratio', 'confirmed_ratio'])\n",
    "\n",
    "# shap value 찍어보자!! kernel explain\n",
    "\n",
    "mask_col = ['mask']\n",
    "\n",
    "indication_cols = ['indication_other','indication_abroad', 'indication_contact']\n",
    "other_cols = ['gender', 'age_ratio', 'weekday']\n",
    "res_col = ['pcr_result']\n",
    "\n",
    "cols = (israel_symptom_input_cols + symptom_input_cols + \n",
    "        indication_cols + surveilance_cols + mask_col + \n",
    "        other_cols + res_col)\n",
    "\n",
    "# cols = israel_symptom_input_cols + symptom_input_cols + surveilance_cols + mask_col + res_col\n",
    "\n",
    "\n",
    "# symptom_input_cols = ['cough', 'fever', 'confirmed_ratio', \\\n",
    "#                       'sigungu_confirmed_ratio', 'mask', 'pcr_result']\n",
    "#\n",
    "# 'indication_other','indication_abroad', 'indication_contact'\n",
    "#'mask', 'confirmed_ratio', 'sigungu_confirmed_ratio'\n",
    "# 'confirmed_week_ratio', 'global_confirmed_week_ratio', \n",
    "\n",
    "# 0~10 기존 / 11~17 추가된 7 feature\n",
    "\n",
    "# input_cols = ['cough', 'fever', 'sore_throat','shortness_of_breath',\\\n",
    "#               'head_ache', 'gender', 'runny_nose', 'muscle_pain', 'chills',\\\n",
    "#               'loss_of_taste', 'loss_of_smell', 'sputum', 'chest_pain', 'age_ratio', 'weekday'\n",
    "#\n",
    "#               'gender', 'confirmed_ratio',\\\n",
    "#               'global_confirmed_ratio', 'indication_other',\\\n",
    "#               'indication_abroad', 'indication_contact', 'pcr_result']"
   ]
  },
  {
   "cell_type": "code",
   "execution_count": null,
   "id": "84e68c63",
   "metadata": {
    "pycharm": {
     "name": "#%%\n"
    }
   },
   "outputs": [],
   "source": [
    "input_cols = ['selfcheck_date'] + cols"
   ]
  },
  {
   "cell_type": "code",
   "execution_count": null,
   "id": "bcfa35ec",
   "metadata": {
    "pycharm": {
     "name": "#%%\n"
    }
   },
   "outputs": [],
   "source": [
    "# AUC 0.91 나왔던 FEATURE라서 해본건데 그렇게 안나옴 데이터 구성에 따라 auc가 다르게 나온다\n",
    "\n",
    "# input_cols = ['cough', 'fever', 'sore_throat','shortness_of_breath',\\\n",
    "#               'head_ache', 'gender', 'confirmed_ratio',\\\n",
    "#               'global_confirmed_ratio', 'indication_other',\\\n",
    "#               'indication_abroad', 'indication_contact',\\\n",
    "#               'runny_nose', 'muscle_pain', 'chills',\\\n",
    "#               'loss_of_taste', 'loss_of_smell', 'sputum', 'chest_pain', 'age_ratio',\\\n",
    "#               'confirmed_week_ratio', 'global_confirmed_week_ratio',\\\n",
    "#               'weekday','pcr_result']"
   ]
  },
  {
   "cell_type": "code",
   "execution_count": null,
   "id": "d8ae1e5a",
   "metadata": {
    "pycharm": {
     "name": "#%%\n"
    }
   },
   "outputs": [],
   "source": [
    "df_input = df_covid[~df_covid['confirmed_ratio'].isna()]"
   ]
  },
  {
   "cell_type": "markdown",
   "id": "c64abebd",
   "metadata": {
    "pycharm": {
     "name": "#%% md\n"
    }
   },
   "source": [
    "### mask를 이용해서 시군구 있는 애들만 뽑는다 (실험 조건 중 하나)"
   ]
  },
  {
   "cell_type": "code",
   "execution_count": null,
   "id": "05d9d79b",
   "metadata": {
    "pycharm": {
     "name": "#%%\n"
    }
   },
   "outputs": [],
   "source": [
    "# df_input = df_input[df_input['mask'] == 1]"
   ]
  },
  {
   "cell_type": "code",
   "execution_count": null,
   "id": "19293607",
   "metadata": {
    "pycharm": {
     "name": "#%%\n"
    }
   },
   "outputs": [],
   "source": [
    "df_input['pcr_result'].unique()"
   ]
  },
  {
   "cell_type": "code",
   "execution_count": null,
   "id": "cfd377c0",
   "metadata": {
    "pycharm": {
     "name": "#%%\n"
    }
   },
   "outputs": [],
   "source": [
    "neg_cnt = df_input[df_input['pcr_result'] == 0].shape[0]\n",
    "neg_cnt"
   ]
  },
  {
   "cell_type": "markdown",
   "id": "c77eb05e",
   "metadata": {
    "pycharm": {
     "name": "#%% md\n"
    }
   },
   "source": [
    "### 양성 갯수 줄이는 작업인데 안했음"
   ]
  },
  {
   "cell_type": "code",
   "execution_count": null,
   "id": "e012ef4b",
   "metadata": {
    "pycharm": {
     "name": "#%%\n"
    }
   },
   "outputs": [],
   "source": [
    "# df_input_balanced = df_input.sort_values('pcr_result').iloc[:neg_cnt*2]"
   ]
  },
  {
   "cell_type": "markdown",
   "id": "1bda886d",
   "metadata": {
    "pycharm": {
     "name": "#%% md\n"
    }
   },
   "source": [
    "#### 이벤트 기간\n",
    "1차: 2.28 - 4.4\n",
    "2차: 8.16 - 10.31"
   ]
  },
  {
   "cell_type": "code",
   "execution_count": null,
   "id": "2d52bbd6",
   "metadata": {
    "pycharm": {
     "name": "#%%\n"
    }
   },
   "outputs": [],
   "source": [
    "event_start_date_1 = '2022-02-14'\n",
    "event_end_date_1 = '2022-04-18'\n",
    "event_start_date_2 = '2022-08-02'\n",
    "event_end_date_2 = '2022-11-14'"
   ]
  },
  {
   "cell_type": "code",
   "execution_count": null,
   "id": "c41d18e9",
   "metadata": {
    "pycharm": {
     "name": "#%%\n"
    }
   },
   "outputs": [],
   "source": [
    "# df_input_balanced = df_input[(event_start_date_2 <= df_input['test_date']) & (df_input['test_date'] <= event_end_date_2)]\n",
    "df_input_balanced = df_input"
   ]
  },
  {
   "cell_type": "code",
   "execution_count": null,
   "id": "8ae9d243",
   "metadata": {
    "pycharm": {
     "name": "#%%\n"
    }
   },
   "outputs": [],
   "source": [
    "from collections import Counter"
   ]
  },
  {
   "cell_type": "code",
   "execution_count": null,
   "id": "3b660886",
   "metadata": {
    "pycharm": {
     "name": "#%%\n"
    }
   },
   "outputs": [],
   "source": [
    "baby_id_counter = Counter(df_input_balanced['patient_id'])"
   ]
  },
  {
   "cell_type": "code",
   "execution_count": null,
   "id": "b6677011",
   "metadata": {
    "pycharm": {
     "name": "#%%\n"
    }
   },
   "outputs": [],
   "source": [
    "baby_ids_only_one = [x for x, count in baby_id_counter.items() if count == 1]\n",
    "len(baby_ids_only_one)"
   ]
  },
  {
   "cell_type": "code",
   "execution_count": null,
   "id": "f86c9850",
   "metadata": {
    "pycharm": {
     "name": "#%%\n"
    }
   },
   "outputs": [],
   "source": [
    "baby_ids = df_input_balanced['patient_id'].unique()"
   ]
  },
  {
   "cell_type": "code",
   "execution_count": null,
   "id": "10b2eb13",
   "metadata": {
    "pycharm": {
     "name": "#%%\n"
    }
   },
   "outputs": [],
   "source": [
    "baby_ids.shape"
   ]
  },
  {
   "cell_type": "code",
   "execution_count": null,
   "id": "44803d7e",
   "metadata": {
    "pycharm": {
     "name": "#%%\n"
    }
   },
   "outputs": [],
   "source": [
    "Counter(baby_id_counter.values())"
   ]
  },
  {
   "cell_type": "code",
   "execution_count": null,
   "id": "23bfa2c2",
   "metadata": {
    "pycharm": {
     "name": "#%%\n"
    }
   },
   "outputs": [],
   "source": [
    "# df_input_balanced = df_input_balanced[df_input_balanced['baby_id'].isin(baby_ids_only_one)]"
   ]
  },
  {
   "cell_type": "code",
   "execution_count": null,
   "id": "a3c56f13",
   "metadata": {
    "pycharm": {
     "name": "#%%\n"
    }
   },
   "outputs": [],
   "source": [
    "# df_input_balanced"
   ]
  },
  {
   "cell_type": "code",
   "execution_count": null,
   "id": "0b3097e1",
   "metadata": {
    "pycharm": {
     "name": "#%%\n"
    }
   },
   "outputs": [],
   "source": [
    "# input_cols.append('baby_id')"
   ]
  },
  {
   "cell_type": "code",
   "execution_count": null,
   "id": "7b2e7a56",
   "metadata": {
    "pycharm": {
     "name": "#%%\n"
    }
   },
   "outputs": [],
   "source": [
    "input_cols = ['patient_id'] + input_cols\n",
    "input_cols"
   ]
  },
  {
   "cell_type": "code",
   "execution_count": null,
   "id": "0c5f9009",
   "metadata": {
    "pycharm": {
     "name": "#%%\n"
    }
   },
   "outputs": [],
   "source": [
    "df_input_final = df_input_balanced[input_cols]"
   ]
  },
  {
   "cell_type": "code",
   "execution_count": null,
   "id": "9e272567",
   "metadata": {
    "pycharm": {
     "name": "#%%\n"
    }
   },
   "outputs": [],
   "source": [
    "df_input_final.sort_values('selfcheck_date')"
   ]
  },
  {
   "cell_type": "code",
   "execution_count": null,
   "id": "9068317e",
   "metadata": {
    "pycharm": {
     "name": "#%%\n"
    }
   },
   "outputs": [],
   "source": [
    "df_input_final['global_confirmed_ratio'] = df_input_final['global_confirmed_ratio'] / df_input_final['global_confirmed_ratio'].max() \n",
    "df_input_final['confirmed_ratio'] = df_input_final['confirmed_ratio'] / df_input_final['confirmed_ratio'].max()\n",
    "df_input_final['sigungu_confirmed_ratio'] = df_input_final['sigungu_confirmed_ratio'] / df_input_final['sigungu_confirmed_ratio'].max()"
   ]
  },
  {
   "cell_type": "code",
   "execution_count": null,
   "id": "f8e605c8",
   "metadata": {
    "pycharm": {
     "name": "#%%\n"
    }
   },
   "outputs": [],
   "source": [
    "(df_input_final['global_confirmed_ratio'].max(), \n",
    " df_input_final['confirmed_ratio'].max(), \n",
    " df_input_final['sigungu_confirmed_ratio'].max())"
   ]
  },
  {
   "cell_type": "markdown",
   "id": "c30371f2",
   "metadata": {
    "pycharm": {
     "name": "#%% md\n"
    }
   },
   "source": [
    "### 최종 데이터셋 음성 양성 갯수"
   ]
  },
  {
   "cell_type": "code",
   "execution_count": null,
   "id": "27e4cae2",
   "metadata": {
    "pycharm": {
     "name": "#%%\n"
    }
   },
   "outputs": [],
   "source": [
    "df_input_final[df_input_final['pcr_result'] == 0].shape, df_input_final[df_input_final['pcr_result'] == 1].shape"
   ]
  },
  {
   "cell_type": "code",
   "execution_count": null,
   "id": "4d450d56",
   "metadata": {
    "pycharm": {
     "name": "#%%\n"
    }
   },
   "outputs": [],
   "source": [
    "def split_input_gt(non_split_data):\n",
    "    splited_input = non_split_data[:, :-1]\n",
    "    splited_gt = non_split_data[:, -1]\n",
    "    \n",
    "    return splited_input, splited_gt"
   ]
  },
  {
   "cell_type": "code",
   "execution_count": null,
   "id": "dba8ee6e",
   "metadata": {
    "pycharm": {
     "name": "#%%\n"
    }
   },
   "outputs": [],
   "source": [
    "def split_train_test(data, test_ratio):\n",
    "#     shuffled_indices = np.random.permutation(len(data)).astype(int)\n",
    "    test_set_size = int(len(data) * test_ratio)\n",
    "    \n",
    "#     test_indices = shuffled_indices[:test_set_size]\n",
    "#     train_indices = shuffled_indices[test_set_size:]\n",
    "    \n",
    "    print(len(data))\n",
    "#     print(test_indices.dtype)\n",
    "#     print(train_indices.dtype)\n",
    "    \n",
    "    test_data = data[:test_set_size]\n",
    "    train_data = data[test_set_size:]\n",
    "#     test_data = data[test_indices]\n",
    "#     train_data = data[train_indices]\n",
    "    \n",
    "    return train_data, test_data"
   ]
  },
  {
   "cell_type": "code",
   "execution_count": null,
   "id": "30fbae8d",
   "metadata": {
    "pycharm": {
     "name": "#%%\n"
    }
   },
   "outputs": [],
   "source": [
    "def split_df_with_ratio(df, ratio=0.2):\n",
    "    baby_ids = df['patient_id'].unique()\n",
    "    np.random.shuffle(baby_ids)\n",
    "    test_set_size = int(len(baby_ids) * ratio)\n",
    "    test_ids = baby_ids[:test_set_size]\n",
    "    train_ids = baby_ids[test_set_size:]\n",
    "    print(f'baby_ids가 나눠진 갯수 {len(train_ids)} {len(test_ids)}')\n",
    "    return df[df['patient_id'].isin(train_ids)], df[df['patient_id'].isin(test_ids)]"
   ]
  },
  {
   "cell_type": "code",
   "execution_count": null,
   "id": "00232dbb",
   "metadata": {
    "pycharm": {
     "name": "#%%\n"
    }
   },
   "outputs": [],
   "source": [
    "# input_arr = df_input_final.values"
   ]
  },
  {
   "cell_type": "code",
   "execution_count": null,
   "id": "cece51e1",
   "metadata": {
    "pycharm": {
     "name": "#%%\n"
    }
   },
   "outputs": [],
   "source": [
    "# train_datas, test_datas = split_train_test(input_arr, test_ratio=0.4)\n",
    "\n",
    "# train_input, train_gt = split_input_gt(train_datas)\n",
    "# test_input, test_gt = split_input_gt(test_datas)"
   ]
  },
  {
   "cell_type": "code",
   "execution_count": null,
   "id": "f8849580",
   "metadata": {
    "pycharm": {
     "name": "#%%\n"
    }
   },
   "outputs": [],
   "source": [
    "for col in input_cols:\n",
    "    if df_input_final[df_input_final[col].isna()].shape[0] != 0:\n",
    "        df_input_final[df_input_final[col].isna()] = df_input_final[df_input_final[col].isna()].fillna(0)"
   ]
  },
  {
   "cell_type": "code",
   "execution_count": null,
   "id": "ce8ece5e",
   "metadata": {
    "pycharm": {
     "name": "#%%\n"
    }
   },
   "outputs": [],
   "source": [
    "np.random.seed(1212)"
   ]
  },
  {
   "cell_type": "code",
   "execution_count": null,
   "id": "1bd303ed",
   "metadata": {
    "pycharm": {
     "name": "#%%\n"
    }
   },
   "outputs": [],
   "source": [
    "df_train, df_test = split_df_with_ratio(df_input_final, 0.4)\n",
    "df_test, df_vaild = split_df_with_ratio(df_test, 0.5)"
   ]
  },
  {
   "cell_type": "code",
   "execution_count": null,
   "id": "e4b1605b",
   "metadata": {
    "pycharm": {
     "name": "#%%\n"
    }
   },
   "outputs": [],
   "source": [
    "df_train['pcr_result'].value_counts()"
   ]
  },
  {
   "cell_type": "code",
   "execution_count": null,
   "id": "dca0c810",
   "metadata": {
    "pycharm": {
     "name": "#%%\n"
    }
   },
   "outputs": [],
   "source": [
    "df_test['pcr_result'].value_counts()"
   ]
  },
  {
   "cell_type": "code",
   "execution_count": null,
   "id": "0d6d1d2e",
   "metadata": {
    "pycharm": {
     "name": "#%%\n"
    }
   },
   "outputs": [],
   "source": [
    "df_vaild['pcr_result'].value_counts()"
   ]
  },
  {
   "cell_type": "code",
   "execution_count": null,
   "id": "339cbbfc",
   "metadata": {
    "pycharm": {
     "name": "#%%\n"
    }
   },
   "outputs": [],
   "source": [
    "df_train.shape, df_test.shape, df_vaild.shape"
   ]
  },
  {
   "cell_type": "code",
   "execution_count": null,
   "id": "416c06bb",
   "metadata": {
    "pycharm": {
     "name": "#%%\n"
    }
   },
   "outputs": [],
   "source": [
    "# df_train.to_csv('df_train_v3_1.csv', index=False)\n",
    "# df_vaild.to_csv('df_valid_v3_1.csv', index=False)\n",
    "# df_test.to_csv('df_test_v3_1.csv', index=False)"
   ]
  },
  {
   "cell_type": "code",
   "execution_count": null,
   "id": "2c516529",
   "metadata": {
    "pycharm": {
     "name": "#%%\n"
    }
   },
   "outputs": [],
   "source": [
    "# df_train_mc = pd.read_csv('df_train_mc.csv')\n",
    "# df_test_mc = pd.read_csv('df_test.csv')"
   ]
  },
  {
   "cell_type": "code",
   "execution_count": null,
   "id": "2348c4d7",
   "metadata": {
    "pycharm": {
     "name": "#%%\n"
    }
   },
   "outputs": [],
   "source": [
    "df_train.values[:, 1:]"
   ]
  },
  {
   "cell_type": "code",
   "execution_count": null,
   "id": "22b836e2",
   "metadata": {
    "pycharm": {
     "name": "#%%\n"
    }
   },
   "outputs": [],
   "source": [
    "train_datas = df_train.values[:, 2:]\n",
    "test_datas = df_test.values[:, 2:]\n",
    "\n",
    "train_input, train_gt = split_input_gt(train_datas)\n",
    "test_input, test_gt = split_input_gt(test_datas)"
   ]
  },
  {
   "cell_type": "code",
   "execution_count": null,
   "id": "b77ef1b0",
   "metadata": {
    "pycharm": {
     "name": "#%%\n"
    }
   },
   "outputs": [],
   "source": [
    "train_gt = train_gt.astype(float)\n",
    "test_gt = test_gt.astype(float)"
   ]
  },
  {
   "cell_type": "code",
   "execution_count": null,
   "id": "878124fa",
   "metadata": {
    "pycharm": {
     "name": "#%%\n"
    }
   },
   "outputs": [],
   "source": [
    "train_input.shape, train_gt.shape, test_input.shape, test_gt.shape"
   ]
  },
  {
   "cell_type": "code",
   "execution_count": null,
   "id": "6e4b527c",
   "metadata": {
    "pycharm": {
     "name": "#%%\n"
    }
   },
   "outputs": [],
   "source": [
    "train_input = train_input.astype(float)\n",
    "test_input = test_input.astype(float)"
   ]
  },
  {
   "cell_type": "code",
   "execution_count": null,
   "id": "a4a3e94d",
   "metadata": {
    "pycharm": {
     "name": "#%%\n"
    }
   },
   "outputs": [],
   "source": [
    "from sklearn.linear_model import LogisticRegression\n",
    "from sklearn.metrics import accuracy_score, precision_score, recall_score, f1_score, confusion_matrix\n",
    "import joblib"
   ]
  },
  {
   "cell_type": "code",
   "execution_count": null,
   "id": "ba0ae5a8",
   "metadata": {
    "pycharm": {
     "name": "#%%\n"
    }
   },
   "outputs": [],
   "source": [
    "logistic_clf = LogisticRegression(C=1000.0, random_state=0)"
   ]
  },
  {
   "cell_type": "code",
   "execution_count": null,
   "id": "4a812161",
   "metadata": {
    "pycharm": {
     "name": "#%%\n"
    }
   },
   "outputs": [],
   "source": [
    "logistic_clf.fit(train_input, train_gt)"
   ]
  },
  {
   "cell_type": "code",
   "execution_count": null,
   "id": "4e639f87",
   "metadata": {
    "pycharm": {
     "name": "#%%\n"
    }
   },
   "outputs": [],
   "source": [
    "train_input"
   ]
  },
  {
   "cell_type": "code",
   "execution_count": null,
   "id": "f6e7a773",
   "metadata": {
    "pycharm": {
     "name": "#%%\n"
    }
   },
   "outputs": [],
   "source": [
    "# explainer = shap.Explainer(logistic_clf)\n",
    "input_cols[1:-1]"
   ]
  },
  {
   "cell_type": "code",
   "execution_count": null,
   "id": "ba86c16d",
   "metadata": {
    "pycharm": {
     "name": "#%%\n"
    }
   },
   "outputs": [],
   "source": [
    "explainer = shap.Explainer(logistic_clf, train_input, feature_names=input_cols[1:-1])\n",
    "shap_values = explainer(test_input)"
   ]
  },
  {
   "cell_type": "code",
   "execution_count": null,
   "id": "92008ca4",
   "metadata": {
    "pycharm": {
     "name": "#%%\n"
    }
   },
   "outputs": [],
   "source": [
    "shap.plots.beeswarm(shap_values)"
   ]
  },
  {
   "cell_type": "code",
   "execution_count": null,
   "id": "27504939",
   "metadata": {
    "pycharm": {
     "name": "#%%\n"
    }
   },
   "outputs": [],
   "source": [
    "shap.plots.bar(shap_values)"
   ]
  },
  {
   "cell_type": "code",
   "execution_count": null,
   "id": "c769671d",
   "metadata": {
    "pycharm": {
     "name": "#%%\n"
    }
   },
   "outputs": [],
   "source": [
    "shap.initjs()\n",
    "shap.plots.force(shap_values[0])"
   ]
  },
  {
   "cell_type": "code",
   "execution_count": null,
   "id": "5c653ac6",
   "metadata": {
    "pycharm": {
     "name": "#%%\n"
    }
   },
   "outputs": [],
   "source": [
    "# shap.plots.force(shap_values)"
   ]
  },
  {
   "cell_type": "code",
   "execution_count": null,
   "id": "e5225221",
   "metadata": {
    "pycharm": {
     "name": "#%%\n"
    }
   },
   "outputs": [],
   "source": [
    "pred = logistic_clf.predict(test_input)"
   ]
  },
  {
   "cell_type": "code",
   "execution_count": null,
   "id": "ef6bd18f",
   "metadata": {
    "pycharm": {
     "name": "#%%\n"
    }
   },
   "outputs": [],
   "source": [
    "accuracy_score(test_gt, pred)"
   ]
  },
  {
   "cell_type": "code",
   "execution_count": null,
   "id": "5d89e6d4",
   "metadata": {
    "pycharm": {
     "name": "#%%\n"
    }
   },
   "outputs": [],
   "source": [
    "display_performance(logistic_clf, pred, test_input, test_gt)"
   ]
  },
  {
   "cell_type": "code",
   "execution_count": null,
   "id": "a8ec427d",
   "metadata": {
    "pycharm": {
     "name": "#%%\n"
    }
   },
   "outputs": [],
   "source": [
    "import torch\n",
    "import torch.nn as nn\n",
    "import torch.nn.functional as F\n",
    "\n",
    "class Net(nn.Module):\n",
    "\n",
    "    def __init__(self):\n",
    "        super().__init__()\n",
    "        self.fc = nn.Linear(in_features=16, out_features=1)\n",
    "        self.activation = nn.Sigmoid()\n",
    "        \n",
    "    def forward(self, x):\n",
    "        x = self.fc(x)\n",
    "        x = self.activation(x)\n",
    "        x = x.reshape(-1, 1)\n",
    "        return x\n"
   ]
  },
  {
   "cell_type": "code",
   "execution_count": null,
   "id": "590d92f8",
   "metadata": {
    "pycharm": {
     "name": "#%%\n"
    }
   },
   "outputs": [],
   "source": [
    "net = Net()\n",
    "print(net)\n",
    "print(net.fc.weight, net.fc.bias)\n",
    "\n",
    "device = 'cpu'\n",
    "optimizer = optim.Adam(net.parameters(), lr=0.1)\n",
    "criterion = nn.BCELoss()"
   ]
  },
  {
   "cell_type": "code",
   "execution_count": null,
   "id": "3c9a7105",
   "metadata": {
    "pycharm": {
     "name": "#%%\n"
    }
   },
   "outputs": [],
   "source": [
    "class ShineDataset(Dataset):\n",
    "    def __init__(self, input_data, gt, transform=None, target_transform=None):\n",
    "        self.input_data = input_data\n",
    "        self.gt = gt\n",
    "        self.transform = transform\n",
    "        self.target_transform = target_transform\n",
    "    \n",
    "    def __len__(self):\n",
    "        return len(self.input_data)\n",
    "    \n",
    "    def __getitem__(self, idx):\n",
    "        return self.input_data[idx], self.gt[idx]"
   ]
  },
  {
   "cell_type": "code",
   "execution_count": null,
   "id": "aa8d55a7",
   "metadata": {
    "pycharm": {
     "name": "#%%\n"
    }
   },
   "outputs": [],
   "source": [
    "def plot_roc_curve_for_dnn(fper, tper):\n",
    "    plt.plot(fper, tper, color='red', label='ROC')\n",
    "    plt.plot([0, 1], [0, 1], color='green', linestyle='--')\n",
    "    plt.xlabel('False Positive Rate')\n",
    "    plt.ylabel('True Positive Rate')\n",
    "    plt.title('Receiver Operating Characteristic Curve')\n",
    "    plt.legend()\n",
    "    plt.show()"
   ]
  },
  {
   "cell_type": "code",
   "execution_count": null,
   "id": "3f482471",
   "metadata": {
    "pycharm": {
     "name": "#%%\n"
    }
   },
   "outputs": [],
   "source": [
    "training_data = ShineDataset(torch.Tensor(train_input), torch.Tensor(train_gt.reshape(-1, 1)))\n",
    "valid_data = ShineDataset(torch.Tensor(test_input), torch.Tensor(test_gt.reshape(-1, 1)))\n",
    "\n",
    "train_dataloader = DataLoader(training_data, batch_size = 128, shuffle=False)\n",
    "valid_dataloader = DataLoader(valid_data, batch_size=64, shuffle=False)"
   ]
  },
  {
   "cell_type": "code",
   "execution_count": null,
   "id": "6dd41e30",
   "metadata": {
    "pycharm": {
     "name": "#%%\n"
    }
   },
   "outputs": [],
   "source": [
    "train_input.shape"
   ]
  }
 ],
 "metadata": {
  "kernelspec": {
   "display_name": "Python 3",
   "language": "python",
   "name": "python3"
  },
  "language_info": {
   "codemirror_mode": {
    "name": "ipython",
    "version": 3
   },
   "file_extension": ".py",
   "mimetype": "text/x-python",
   "name": "python",
   "nbconvert_exporter": "python",
   "pygments_lexer": "ipython3",
   "version": "3.8.10"
  }
 },
 "nbformat": 4,
 "nbformat_minor": 5
}