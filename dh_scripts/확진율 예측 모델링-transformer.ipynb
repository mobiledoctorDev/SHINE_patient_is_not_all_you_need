{
 "cells": [
  {
   "cell_type": "markdown",
   "id": "3768d95e",
   "metadata": {},
   "source": [
    "### 기간설정"
   ]
  },
  {
   "cell_type": "code",
   "execution_count": 1,
   "id": "f483bd87",
   "metadata": {},
   "outputs": [],
   "source": [
    "# ! /usr/bin/python3\n",
    "# fmt: off\n",
    "import re\n",
    "import math\n",
    "from configparser import ConfigParser\n",
    "from datetime import datetime, timedelta\n",
    "from numpy import record\n",
    "import numpy as np\n",
    "import pymysql\n",
    "pymysql.install_as_MySQLdb()\n",
    "\n",
    "\n",
    "import pandas as pd\n",
    "import requests\n",
    "import xmltodict\n",
    "import torch\n",
    "import torch.nn as nn\n",
    "import torch.optim as optim\n",
    "from torch.utils.data import TensorDataset, DataLoader\n",
    "\n",
    "\n",
    "from sqlalchemy import create_engine, MetaData, Table, select, insert, func # sudo apt-get install -y python3-mysqldb\n",
    "from bs4 import BeautifulSoup\n",
    "from sqlalchemy.engine import create_engine\n",
    "from sqlalchemy.sql.schema import MetaData\n",
    "# fmt: on\n",
    "\n",
    "config = ConfigParser()\n",
    "config.read(\"./covid_data/shine_covid19_status/config/secret.ini\")\n",
    "\n",
    "HOSTNAME = config[\"appmd_db\"][\"HOSTNAME\"]\n",
    "PORT = int(config[\"appmd_db\"][\"PORT\"])\n",
    "USERNAME = config[\"appmd_db\"][\"USERNAME\"]\n",
    "PASSWORD = config[\"appmd_db\"][\"PASSWORD\"]\n",
    "DATABASE = config[\"appmd_db\"][\"DATABASE\"]\n",
    "CHARSET1 = config[\"appmd_db\"][\"CHARSET1\"]\n",
    "CHARSET2 = config[\"appmd_db\"][\"CHARSET2\"]\n",
    "GOKR_APIKEY = config[\"datagokr_api\"][\"APIKEY_2\"]\n",
    "\n",
    "con_str = f\"mysql+mysqldb://{USERNAME}:{PASSWORD}@{HOSTNAME}:{PORT}/{DATABASE}?charset={CHARSET1}\""
   ]
  },
  {
   "cell_type": "code",
   "execution_count": 2,
   "id": "9ca097f4",
   "metadata": {},
   "outputs": [],
   "source": [
    "df_surveilance = pd.read_csv('df_surveilance.csv')"
   ]
  },
  {
   "cell_type": "code",
   "execution_count": 3,
   "id": "b33199ff",
   "metadata": {},
   "outputs": [],
   "source": [
    "del df_surveilance['Unnamed: 0']"
   ]
  },
  {
   "cell_type": "code",
   "execution_count": 4,
   "id": "76405221",
   "metadata": {},
   "outputs": [
    {
     "data": {
      "text/plain": [
       "'2022-10-31'"
      ]
     },
     "execution_count": 4,
     "metadata": {},
     "output_type": "execute_result"
    }
   ],
   "source": [
    "df_surveilance['date'].max()"
   ]
  },
  {
   "cell_type": "code",
   "execution_count": 5,
   "id": "f4858402",
   "metadata": {},
   "outputs": [
    {
     "data": {
      "text/plain": [
       "(11457, 4)"
      ]
     },
     "execution_count": 5,
     "metadata": {},
     "output_type": "execute_result"
    }
   ],
   "source": [
    "df_surveilance.shape"
   ]
  },
  {
   "cell_type": "markdown",
   "id": "9978cecd",
   "metadata": {},
   "source": [
    "### 중복 제거"
   ]
  },
  {
   "cell_type": "code",
   "execution_count": 6,
   "id": "fa61d99a",
   "metadata": {
    "scrolled": false
   },
   "outputs": [],
   "source": [
    "df_surveilance = df_surveilance.sort_values('confirmed_daily', ascending=False).drop_duplicates(['date', 'sido'])"
   ]
  },
  {
   "cell_type": "code",
   "execution_count": 7,
   "id": "4bf86881",
   "metadata": {},
   "outputs": [
    {
     "data": {
      "text/plain": [
       "(11001, 4)"
      ]
     },
     "execution_count": 7,
     "metadata": {},
     "output_type": "execute_result"
    }
   ],
   "source": [
    "df_surveilance.shape"
   ]
  },
  {
   "cell_type": "code",
   "execution_count": 8,
   "id": "1ca17092",
   "metadata": {},
   "outputs": [],
   "source": [
    "# df_surveilance.to_csv('surveillance.csv', index=False)"
   ]
  },
  {
   "cell_type": "code",
   "execution_count": 9,
   "id": "f195f24c",
   "metadata": {},
   "outputs": [],
   "source": [
    "df_surveilance = pd.read_csv('surveillance.csv')"
   ]
  },
  {
   "cell_type": "code",
   "execution_count": 10,
   "id": "12fbad74",
   "metadata": {},
   "outputs": [
    {
     "data": {
      "text/html": [
       "<div>\n",
       "<style scoped>\n",
       "    .dataframe tbody tr th:only-of-type {\n",
       "        vertical-align: middle;\n",
       "    }\n",
       "\n",
       "    .dataframe tbody tr th {\n",
       "        vertical-align: top;\n",
       "    }\n",
       "\n",
       "    .dataframe thead th {\n",
       "        text-align: right;\n",
       "    }\n",
       "</style>\n",
       "<table border=\"1\" class=\"dataframe\">\n",
       "  <thead>\n",
       "    <tr style=\"text-align: right;\">\n",
       "      <th></th>\n",
       "      <th>date</th>\n",
       "      <th>sido</th>\n",
       "      <th>confirmed_total</th>\n",
       "      <th>confirmed_daily</th>\n",
       "    </tr>\n",
       "  </thead>\n",
       "  <tbody>\n",
       "    <tr>\n",
       "      <th>0</th>\n",
       "      <td>2022-03-17</td>\n",
       "      <td>합계</td>\n",
       "      <td>8250592.0</td>\n",
       "      <td>621328.0</td>\n",
       "    </tr>\n",
       "    <tr>\n",
       "      <th>1</th>\n",
       "      <td>2022-03-23</td>\n",
       "      <td>합계</td>\n",
       "      <td>10427247.0</td>\n",
       "      <td>490881.0</td>\n",
       "    </tr>\n",
       "    <tr>\n",
       "      <th>2</th>\n",
       "      <td>2022-03-30</td>\n",
       "      <td>합계</td>\n",
       "      <td>12774956.0</td>\n",
       "      <td>424641.0</td>\n",
       "    </tr>\n",
       "    <tr>\n",
       "      <th>3</th>\n",
       "      <td>2022-03-18</td>\n",
       "      <td>합계</td>\n",
       "      <td>8657609.0</td>\n",
       "      <td>407017.0</td>\n",
       "    </tr>\n",
       "    <tr>\n",
       "      <th>4</th>\n",
       "      <td>2022-03-16</td>\n",
       "      <td>합계</td>\n",
       "      <td>7629275.0</td>\n",
       "      <td>400741.0</td>\n",
       "    </tr>\n",
       "    <tr>\n",
       "      <th>...</th>\n",
       "      <td>...</td>\n",
       "      <td>...</td>\n",
       "      <td>...</td>\n",
       "      <td>...</td>\n",
       "    </tr>\n",
       "    <tr>\n",
       "      <th>10996</th>\n",
       "      <td>2021-04-17</td>\n",
       "      <td>세종</td>\n",
       "      <td>341.0</td>\n",
       "      <td>0.0</td>\n",
       "    </tr>\n",
       "    <tr>\n",
       "      <th>10997</th>\n",
       "      <td>2021-04-06</td>\n",
       "      <td>제주</td>\n",
       "      <td>636.0</td>\n",
       "      <td>0.0</td>\n",
       "    </tr>\n",
       "    <tr>\n",
       "      <th>10998</th>\n",
       "      <td>2021-11-04</td>\n",
       "      <td>세종</td>\n",
       "      <td>1373.0</td>\n",
       "      <td>0.0</td>\n",
       "    </tr>\n",
       "    <tr>\n",
       "      <th>10999</th>\n",
       "      <td>2021-04-11</td>\n",
       "      <td>광주</td>\n",
       "      <td>2234.0</td>\n",
       "      <td>0.0</td>\n",
       "    </tr>\n",
       "    <tr>\n",
       "      <th>11000</th>\n",
       "      <td>2021-09-01</td>\n",
       "      <td>세종</td>\n",
       "      <td>100.3</td>\n",
       "      <td>-892.7</td>\n",
       "    </tr>\n",
       "  </tbody>\n",
       "</table>\n",
       "<p>11001 rows × 4 columns</p>\n",
       "</div>"
      ],
      "text/plain": [
       "             date sido  confirmed_total  confirmed_daily\n",
       "0      2022-03-17   합계        8250592.0         621328.0\n",
       "1      2022-03-23   합계       10427247.0         490881.0\n",
       "2      2022-03-30   합계       12774956.0         424641.0\n",
       "3      2022-03-18   합계        8657609.0         407017.0\n",
       "4      2022-03-16   합계        7629275.0         400741.0\n",
       "...           ...  ...              ...              ...\n",
       "10996  2021-04-17   세종            341.0              0.0\n",
       "10997  2021-04-06   제주            636.0              0.0\n",
       "10998  2021-11-04   세종           1373.0              0.0\n",
       "10999  2021-04-11   광주           2234.0              0.0\n",
       "11000  2021-09-01   세종            100.3           -892.7\n",
       "\n",
       "[11001 rows x 4 columns]"
      ]
     },
     "execution_count": 10,
     "metadata": {},
     "output_type": "execute_result"
    }
   ],
   "source": [
    "df_surveilance"
   ]
  },
  {
   "cell_type": "code",
   "execution_count": 11,
   "id": "454c62de",
   "metadata": {},
   "outputs": [],
   "source": [
    "# for date, df in df_surveilance.groupby('date'):\n",
    "#     if df.shape[0] != 19:\n",
    "#         display(df)"
   ]
  },
  {
   "cell_type": "code",
   "execution_count": 12,
   "id": "79eb56f0",
   "metadata": {},
   "outputs": [],
   "source": [
    "# df_sido_population = pd.read_csv('sido_population.csv', encoding='CP949')"
   ]
  },
  {
   "cell_type": "code",
   "execution_count": 13,
   "id": "3396a487",
   "metadata": {},
   "outputs": [],
   "source": [
    "# df_sido_population = (df_sido_population.drop(0)\n",
    "#  .reset_index(drop=True)\n",
    "#  .rename(columns={'시·도별(1)': 'sido', '2021': 'population'})[['sido', 'population']])"
   ]
  },
  {
   "cell_type": "code",
   "execution_count": 14,
   "id": "34ecb609",
   "metadata": {},
   "outputs": [],
   "source": [
    "# df_sido_population.replace('전국', '합계', inplace=True)"
   ]
  },
  {
   "cell_type": "code",
   "execution_count": 15,
   "id": "3d16424f",
   "metadata": {},
   "outputs": [],
   "source": [
    "# df_sido_population"
   ]
  },
  {
   "cell_type": "code",
   "execution_count": 16,
   "id": "8f8f4f79",
   "metadata": {},
   "outputs": [],
   "source": [
    "df_sido_population = pd.read_csv('sido_population.csv')"
   ]
  },
  {
   "cell_type": "code",
   "execution_count": 17,
   "id": "89bc5c95",
   "metadata": {},
   "outputs": [
    {
     "data": {
      "text/html": [
       "<div>\n",
       "<style scoped>\n",
       "    .dataframe tbody tr th:only-of-type {\n",
       "        vertical-align: middle;\n",
       "    }\n",
       "\n",
       "    .dataframe tbody tr th {\n",
       "        vertical-align: top;\n",
       "    }\n",
       "\n",
       "    .dataframe thead th {\n",
       "        text-align: right;\n",
       "    }\n",
       "</style>\n",
       "<table border=\"1\" class=\"dataframe\">\n",
       "  <thead>\n",
       "    <tr style=\"text-align: right;\">\n",
       "      <th></th>\n",
       "      <th>sido</th>\n",
       "      <th>population</th>\n",
       "    </tr>\n",
       "  </thead>\n",
       "  <tbody>\n",
       "    <tr>\n",
       "      <th>0</th>\n",
       "      <td>합계</td>\n",
       "      <td>52739009</td>\n",
       "    </tr>\n",
       "    <tr>\n",
       "      <th>1</th>\n",
       "      <td>서울</td>\n",
       "      <td>9736027</td>\n",
       "    </tr>\n",
       "    <tr>\n",
       "      <th>2</th>\n",
       "      <td>부산</td>\n",
       "      <td>3396109</td>\n",
       "    </tr>\n",
       "    <tr>\n",
       "      <th>3</th>\n",
       "      <td>대구</td>\n",
       "      <td>2412642</td>\n",
       "    </tr>\n",
       "    <tr>\n",
       "      <th>4</th>\n",
       "      <td>인천</td>\n",
       "      <td>3014739</td>\n",
       "    </tr>\n",
       "    <tr>\n",
       "      <th>5</th>\n",
       "      <td>광주</td>\n",
       "      <td>1462545</td>\n",
       "    </tr>\n",
       "    <tr>\n",
       "      <th>6</th>\n",
       "      <td>대전</td>\n",
       "      <td>1469543</td>\n",
       "    </tr>\n",
       "    <tr>\n",
       "      <th>7</th>\n",
       "      <td>울산</td>\n",
       "      <td>1138419</td>\n",
       "    </tr>\n",
       "    <tr>\n",
       "      <th>8</th>\n",
       "      <td>세종</td>\n",
       "      <td>376779</td>\n",
       "    </tr>\n",
       "    <tr>\n",
       "      <th>9</th>\n",
       "      <td>경기</td>\n",
       "      <td>13925862</td>\n",
       "    </tr>\n",
       "    <tr>\n",
       "      <th>10</th>\n",
       "      <td>강원</td>\n",
       "      <td>1555876</td>\n",
       "    </tr>\n",
       "    <tr>\n",
       "      <th>11</th>\n",
       "      <td>충북</td>\n",
       "      <td>1633472</td>\n",
       "    </tr>\n",
       "    <tr>\n",
       "      <th>12</th>\n",
       "      <td>충남</td>\n",
       "      <td>2181835</td>\n",
       "    </tr>\n",
       "    <tr>\n",
       "      <th>13</th>\n",
       "      <td>전북</td>\n",
       "      <td>1817186</td>\n",
       "    </tr>\n",
       "    <tr>\n",
       "      <th>14</th>\n",
       "      <td>전남</td>\n",
       "      <td>1865459</td>\n",
       "    </tr>\n",
       "    <tr>\n",
       "      <th>15</th>\n",
       "      <td>경북</td>\n",
       "      <td>2677709</td>\n",
       "    </tr>\n",
       "    <tr>\n",
       "      <th>16</th>\n",
       "      <td>경남</td>\n",
       "      <td>3377331</td>\n",
       "    </tr>\n",
       "    <tr>\n",
       "      <th>17</th>\n",
       "      <td>제주</td>\n",
       "      <td>697476</td>\n",
       "    </tr>\n",
       "  </tbody>\n",
       "</table>\n",
       "</div>"
      ],
      "text/plain": [
       "   sido  population\n",
       "0    합계    52739009\n",
       "1    서울     9736027\n",
       "2    부산     3396109\n",
       "3    대구     2412642\n",
       "4    인천     3014739\n",
       "5    광주     1462545\n",
       "6    대전     1469543\n",
       "7    울산     1138419\n",
       "8    세종      376779\n",
       "9    경기    13925862\n",
       "10   강원     1555876\n",
       "11   충북     1633472\n",
       "12   충남     2181835\n",
       "13   전북     1817186\n",
       "14   전남     1865459\n",
       "15   경북     2677709\n",
       "16   경남     3377331\n",
       "17   제주      697476"
      ]
     },
     "execution_count": 17,
     "metadata": {},
     "output_type": "execute_result"
    }
   ],
   "source": [
    "df_sido_population"
   ]
  },
  {
   "cell_type": "code",
   "execution_count": 18,
   "id": "fa712e53",
   "metadata": {},
   "outputs": [],
   "source": [
    "sido_population_dict = {key: value for key, value in df_sido_population.to_numpy()}"
   ]
  },
  {
   "cell_type": "code",
   "execution_count": 19,
   "id": "c9b8f98d",
   "metadata": {},
   "outputs": [
    {
     "data": {
      "text/plain": [
       "{'합계': 52739009,\n",
       " '서울': 9736027,\n",
       " '부산': 3396109,\n",
       " '대구': 2412642,\n",
       " '인천': 3014739,\n",
       " '광주': 1462545,\n",
       " '대전': 1469543,\n",
       " '울산': 1138419,\n",
       " '세종': 376779,\n",
       " '경기': 13925862,\n",
       " '강원': 1555876,\n",
       " '충북': 1633472,\n",
       " '충남': 2181835,\n",
       " '전북': 1817186,\n",
       " '전남': 1865459,\n",
       " '경북': 2677709,\n",
       " '경남': 3377331,\n",
       " '제주': 697476}"
      ]
     },
     "execution_count": 19,
     "metadata": {},
     "output_type": "execute_result"
    }
   ],
   "source": [
    "sido_population_dict"
   ]
  },
  {
   "cell_type": "code",
   "execution_count": 20,
   "id": "88f7380d",
   "metadata": {},
   "outputs": [],
   "source": [
    "def f(sido, confirmed_daily):\n",
    "    try:\n",
    "        return float(confirmed_daily) / float(sido_population_dict[sido])\n",
    "    except:\n",
    "        return -1"
   ]
  },
  {
   "cell_type": "code",
   "execution_count": 21,
   "id": "5ab900c3",
   "metadata": {},
   "outputs": [],
   "source": [
    "condit0 = (df_surveilance['sido'] == '세종') & (df_surveilance['date'] == '2021-08-30')\n",
    "condit1 = (df_surveilance['sido'] == '세종') & (df_surveilance['date'] == '2021-08-31')\n",
    "condit2 = (df_surveilance['sido'] == '세종') & (df_surveilance['date'] == '2021-09-01')\n",
    "condit3 = (df_surveilance['sido'] == '세종') & (df_surveilance['date'] == '2021-09-02')\n",
    "condit4 = (df_surveilance['sido'] == '세종') & (df_surveilance['date'] == '2021-09-03')"
   ]
  },
  {
   "cell_type": "code",
   "execution_count": 22,
   "id": "bc2c2da1",
   "metadata": {},
   "outputs": [
    {
     "data": {
      "text/plain": [
       "(             date sido  confirmed_total  confirmed_daily\n",
       " 10061  2021-08-30   세종            985.0              8.0,\n",
       "              date sido  confirmed_total  confirmed_daily\n",
       " 10053  2021-08-31   세종            993.0              8.0,\n",
       "              date sido  confirmed_total  confirmed_daily\n",
       " 11000  2021-09-01   세종            100.3           -892.7,\n",
       "             date sido  confirmed_total  confirmed_daily\n",
       " 3935  2021-09-02   세종           1010.0            909.7,\n",
       "              date sido  confirmed_total  confirmed_daily\n",
       " 10597  2021-09-03   세종           1014.0              4.0)"
      ]
     },
     "execution_count": 22,
     "metadata": {},
     "output_type": "execute_result"
    }
   ],
   "source": [
    "df_surveilance[condit0], df_surveilance[condit1], df_surveilance[condit2], df_surveilance[condit3], df_surveilance[condit4]"
   ]
  },
  {
   "cell_type": "code",
   "execution_count": 23,
   "id": "6ff298b2",
   "metadata": {},
   "outputs": [],
   "source": [
    "df_surveilance.loc[condit2, 'confirmed_daily'] = 7\n",
    "df_surveilance.loc[condit3, 'confirmed_daily'] = 10"
   ]
  },
  {
   "cell_type": "code",
   "execution_count": 24,
   "id": "db34a8a9",
   "metadata": {},
   "outputs": [],
   "source": [
    "# for (date, sido), df in df_surveilance.sort_values(['date', 'sido']).groupby(['date', 'sido']):\n",
    "#     yesterdate = (datetime.strptime(date, '%Y-%m-%d') - timedelta(days=1)).strftime('%Y-%m-%d')\n",
    "#     df_yester = df_surveilance[(df_surveilance['sido'] == sido) & (df_surveilance['date'] == yesterdate)]\n",
    "    \n",
    "#     if df_yester.shape[0] == 0: continue\n",
    "#     if (df['confirmed_total'].item() - df_yester['confirmed_total'].item()) < 0:\n",
    "#         print(date, sido, df['confirmed_total'].item(), df_yester['confirmed_total'].item())\n",
    "#         print(date, sido, df['confirmed_daily'].item(), df_yester['confirmed_daily'].item())\n",
    "#         print()"
   ]
  },
  {
   "cell_type": "code",
   "execution_count": 25,
   "id": "8bd572d1",
   "metadata": {},
   "outputs": [],
   "source": [
    "df_surveilance['surveilance'] = df_surveilance.apply(lambda x: f(x['sido'], x['confirmed_daily']), axis=1)"
   ]
  },
  {
   "cell_type": "code",
   "execution_count": 26,
   "id": "c7b2538d",
   "metadata": {
    "scrolled": true
   },
   "outputs": [],
   "source": [
    "df_surveilance = df_surveilance[df_surveilance['surveilance'] != -1]"
   ]
  },
  {
   "cell_type": "code",
   "execution_count": 27,
   "id": "36cb8e73",
   "metadata": {},
   "outputs": [
    {
     "data": {
      "text/html": [
       "<div>\n",
       "<style scoped>\n",
       "    .dataframe tbody tr th:only-of-type {\n",
       "        vertical-align: middle;\n",
       "    }\n",
       "\n",
       "    .dataframe tbody tr th {\n",
       "        vertical-align: top;\n",
       "    }\n",
       "\n",
       "    .dataframe thead th {\n",
       "        text-align: right;\n",
       "    }\n",
       "</style>\n",
       "<table border=\"1\" class=\"dataframe\">\n",
       "  <thead>\n",
       "    <tr style=\"text-align: right;\">\n",
       "      <th></th>\n",
       "      <th>date</th>\n",
       "      <th>sido</th>\n",
       "      <th>confirmed_total</th>\n",
       "      <th>confirmed_daily</th>\n",
       "      <th>surveilance</th>\n",
       "    </tr>\n",
       "  </thead>\n",
       "  <tbody>\n",
       "  </tbody>\n",
       "</table>\n",
       "</div>"
      ],
      "text/plain": [
       "Empty DataFrame\n",
       "Columns: [date, sido, confirmed_total, confirmed_daily, surveilance]\n",
       "Index: []"
      ]
     },
     "execution_count": 27,
     "metadata": {},
     "output_type": "execute_result"
    }
   ],
   "source": [
    "df_surveilance[df_surveilance['surveilance'] < 0]"
   ]
  },
  {
   "cell_type": "code",
   "execution_count": 28,
   "id": "5fe40d57",
   "metadata": {},
   "outputs": [
    {
     "data": {
      "text/plain": [
       "10996    2021-04-17\n",
       "10997    2021-04-06\n",
       "10998    2021-11-04\n",
       "10999    2021-04-11\n",
       "11000    2021-09-01\n",
       "Name: date, dtype: object"
      ]
     },
     "execution_count": 28,
     "metadata": {},
     "output_type": "execute_result"
    }
   ],
   "source": [
    "df_surveilance['date'].tail()"
   ]
  },
  {
   "cell_type": "code",
   "execution_count": 29,
   "id": "2a3301eb",
   "metadata": {},
   "outputs": [
    {
     "data": {
      "text/html": [
       "<div>\n",
       "<style scoped>\n",
       "    .dataframe tbody tr th:only-of-type {\n",
       "        vertical-align: middle;\n",
       "    }\n",
       "\n",
       "    .dataframe tbody tr th {\n",
       "        vertical-align: top;\n",
       "    }\n",
       "\n",
       "    .dataframe thead th {\n",
       "        text-align: right;\n",
       "    }\n",
       "</style>\n",
       "<table border=\"1\" class=\"dataframe\">\n",
       "  <thead>\n",
       "    <tr style=\"text-align: right;\">\n",
       "      <th></th>\n",
       "      <th>date</th>\n",
       "      <th>sido</th>\n",
       "      <th>confirmed_total</th>\n",
       "      <th>confirmed_daily</th>\n",
       "      <th>surveilance</th>\n",
       "    </tr>\n",
       "  </thead>\n",
       "  <tbody>\n",
       "    <tr>\n",
       "      <th>4616</th>\n",
       "      <td>2021-04-01</td>\n",
       "      <td>합계</td>\n",
       "      <td>103630.0</td>\n",
       "      <td>551.0</td>\n",
       "      <td>1.044767e-05</td>\n",
       "    </tr>\n",
       "    <tr>\n",
       "      <th>5727</th>\n",
       "      <td>2021-04-01</td>\n",
       "      <td>서울</td>\n",
       "      <td>32228.0</td>\n",
       "      <td>199.0</td>\n",
       "      <td>2.043955e-05</td>\n",
       "    </tr>\n",
       "    <tr>\n",
       "      <th>6187</th>\n",
       "      <td>2021-04-01</td>\n",
       "      <td>경기</td>\n",
       "      <td>28709.0</td>\n",
       "      <td>130.0</td>\n",
       "      <td>9.335149e-06</td>\n",
       "    </tr>\n",
       "    <tr>\n",
       "      <th>7192</th>\n",
       "      <td>2021-04-01</td>\n",
       "      <td>부산</td>\n",
       "      <td>3859.0</td>\n",
       "      <td>54.0</td>\n",
       "      <td>1.590055e-05</td>\n",
       "    </tr>\n",
       "    <tr>\n",
       "      <th>8588</th>\n",
       "      <td>2021-04-01</td>\n",
       "      <td>전북</td>\n",
       "      <td>1473.0</td>\n",
       "      <td>22.0</td>\n",
       "      <td>1.210663e-05</td>\n",
       "    </tr>\n",
       "    <tr>\n",
       "      <th>8742</th>\n",
       "      <td>2021-04-01</td>\n",
       "      <td>경남</td>\n",
       "      <td>2981.0</td>\n",
       "      <td>21.0</td>\n",
       "      <td>6.217928e-06</td>\n",
       "    </tr>\n",
       "    <tr>\n",
       "      <th>8764</th>\n",
       "      <td>2021-04-01</td>\n",
       "      <td>인천</td>\n",
       "      <td>5078.0</td>\n",
       "      <td>20.0</td>\n",
       "      <td>6.634073e-06</td>\n",
       "    </tr>\n",
       "    <tr>\n",
       "      <th>8778</th>\n",
       "      <td>2021-04-01</td>\n",
       "      <td>충북</td>\n",
       "      <td>2210.0</td>\n",
       "      <td>20.0</td>\n",
       "      <td>1.224386e-05</td>\n",
       "    </tr>\n",
       "    <tr>\n",
       "      <th>8780</th>\n",
       "      <td>2021-04-01</td>\n",
       "      <td>강원</td>\n",
       "      <td>2350.0</td>\n",
       "      <td>20.0</td>\n",
       "      <td>1.285449e-05</td>\n",
       "    </tr>\n",
       "    <tr>\n",
       "      <th>9258</th>\n",
       "      <td>2021-04-01</td>\n",
       "      <td>충남</td>\n",
       "      <td>2646.0</td>\n",
       "      <td>15.0</td>\n",
       "      <td>6.874947e-06</td>\n",
       "    </tr>\n",
       "    <tr>\n",
       "      <th>9398</th>\n",
       "      <td>2021-04-01</td>\n",
       "      <td>세종</td>\n",
       "      <td>283.0</td>\n",
       "      <td>13.0</td>\n",
       "      <td>3.450298e-05</td>\n",
       "    </tr>\n",
       "    <tr>\n",
       "      <th>9772</th>\n",
       "      <td>2021-04-01</td>\n",
       "      <td>대전</td>\n",
       "      <td>1296.0</td>\n",
       "      <td>10.0</td>\n",
       "      <td>6.804837e-06</td>\n",
       "    </tr>\n",
       "    <tr>\n",
       "      <th>10122</th>\n",
       "      <td>2021-04-01</td>\n",
       "      <td>대구</td>\n",
       "      <td>8934.0</td>\n",
       "      <td>7.0</td>\n",
       "      <td>2.901384e-06</td>\n",
       "    </tr>\n",
       "    <tr>\n",
       "      <th>10219</th>\n",
       "      <td>2021-04-01</td>\n",
       "      <td>경북</td>\n",
       "      <td>3511.0</td>\n",
       "      <td>7.0</td>\n",
       "      <td>2.614175e-06</td>\n",
       "    </tr>\n",
       "    <tr>\n",
       "      <th>10522</th>\n",
       "      <td>2021-04-01</td>\n",
       "      <td>울산</td>\n",
       "      <td>1159.0</td>\n",
       "      <td>5.0</td>\n",
       "      <td>4.392056e-06</td>\n",
       "    </tr>\n",
       "    <tr>\n",
       "      <th>10704</th>\n",
       "      <td>2021-04-01</td>\n",
       "      <td>광주</td>\n",
       "      <td>2212.0</td>\n",
       "      <td>3.0</td>\n",
       "      <td>2.051219e-06</td>\n",
       "    </tr>\n",
       "    <tr>\n",
       "      <th>10802</th>\n",
       "      <td>2021-04-01</td>\n",
       "      <td>제주</td>\n",
       "      <td>627.0</td>\n",
       "      <td>2.0</td>\n",
       "      <td>2.867482e-06</td>\n",
       "    </tr>\n",
       "    <tr>\n",
       "      <th>10894</th>\n",
       "      <td>2021-04-01</td>\n",
       "      <td>전남</td>\n",
       "      <td>914.0</td>\n",
       "      <td>1.0</td>\n",
       "      <td>5.360611e-07</td>\n",
       "    </tr>\n",
       "  </tbody>\n",
       "</table>\n",
       "</div>"
      ],
      "text/plain": [
       "             date sido  confirmed_total  confirmed_daily   surveilance\n",
       "4616   2021-04-01   합계         103630.0            551.0  1.044767e-05\n",
       "5727   2021-04-01   서울          32228.0            199.0  2.043955e-05\n",
       "6187   2021-04-01   경기          28709.0            130.0  9.335149e-06\n",
       "7192   2021-04-01   부산           3859.0             54.0  1.590055e-05\n",
       "8588   2021-04-01   전북           1473.0             22.0  1.210663e-05\n",
       "8742   2021-04-01   경남           2981.0             21.0  6.217928e-06\n",
       "8764   2021-04-01   인천           5078.0             20.0  6.634073e-06\n",
       "8778   2021-04-01   충북           2210.0             20.0  1.224386e-05\n",
       "8780   2021-04-01   강원           2350.0             20.0  1.285449e-05\n",
       "9258   2021-04-01   충남           2646.0             15.0  6.874947e-06\n",
       "9398   2021-04-01   세종            283.0             13.0  3.450298e-05\n",
       "9772   2021-04-01   대전           1296.0             10.0  6.804837e-06\n",
       "10122  2021-04-01   대구           8934.0              7.0  2.901384e-06\n",
       "10219  2021-04-01   경북           3511.0              7.0  2.614175e-06\n",
       "10522  2021-04-01   울산           1159.0              5.0  4.392056e-06\n",
       "10704  2021-04-01   광주           2212.0              3.0  2.051219e-06\n",
       "10802  2021-04-01   제주            627.0              2.0  2.867482e-06\n",
       "10894  2021-04-01   전남            914.0              1.0  5.360611e-07"
      ]
     },
     "metadata": {},
     "output_type": "display_data"
    }
   ],
   "source": [
    "for date, df in df_surveilance.groupby('date'):\n",
    "    display(df)\n",
    "    break"
   ]
  },
  {
   "cell_type": "code",
   "execution_count": 30,
   "id": "9a0ca0cb",
   "metadata": {},
   "outputs": [],
   "source": [
    "df_surveilance.to_csv('sido_surveillance.csv', index=False)"
   ]
  },
  {
   "cell_type": "code",
   "execution_count": 31,
   "id": "fc86b78a",
   "metadata": {},
   "outputs": [
    {
     "data": {
      "text/plain": [
       "0.6945716189065739"
      ]
     },
     "execution_count": 31,
     "metadata": {},
     "output_type": "execute_result"
    }
   ],
   "source": [
    "df_surveilance['surveilance'].max() * 50"
   ]
  },
  {
   "cell_type": "code",
   "execution_count": 32,
   "id": "365c5e81",
   "metadata": {},
   "outputs": [
    {
     "name": "stderr",
     "output_type": "stream",
     "text": [
      "<ipython-input-32-e2ae1648788f>:1: SettingWithCopyWarning: \n",
      "A value is trying to be set on a copy of a slice from a DataFrame.\n",
      "Try using .loc[row_indexer,col_indexer] = value instead\n",
      "\n",
      "See the caveats in the documentation: https://pandas.pydata.org/pandas-docs/stable/user_guide/indexing.html#returning-a-view-versus-a-copy\n",
      "  df_surveilance['surveilance'] = df_surveilance['surveilance'].apply(lambda x: 50*x)\n"
     ]
    }
   ],
   "source": [
    "df_surveilance['surveilance'] = df_surveilance['surveilance'].apply(lambda x: 50*x)"
   ]
  },
  {
   "cell_type": "code",
   "execution_count": 33,
   "id": "438835d2",
   "metadata": {},
   "outputs": [],
   "source": [
    "sido_dict = {\n",
    "    '제주': 1,\n",
    "    '세종': 2,\n",
    "    '경남': 3,\n",
    "    '인천': 4,\n",
    "    '강원': 5,\n",
    "    '충북': 6,\n",
    "    '대구': 7,\n",
    "    '전남': 8,\n",
    "    '전북': 9,\n",
    "    '경북': 10,\n",
    "    '울산': 11,\n",
    "    '부산': 12,\n",
    "    '충남': 13,\n",
    "    '광주': 14,\n",
    "    '서울': 15,\n",
    "    '경기': 16,\n",
    "    '대전': 17,\n",
    "    '합계': 18\n",
    "}"
   ]
  },
  {
   "cell_type": "code",
   "execution_count": 34,
   "id": "1c1ecff7",
   "metadata": {
    "scrolled": true
   },
   "outputs": [],
   "source": [
    "input_arr = []\n",
    "for date, df_bydate in df_surveilance.groupby('date'):\n",
    "    input_row = [0] * 19\n",
    "    input_row[0] = date\n",
    "    for sido, df_bysido in df_bydate.groupby('sido'):\n",
    "        try:\n",
    "            input_row[sido_dict[sido]] = df_bysido['surveilance'].item()\n",
    "        except:\n",
    "            continue\n",
    "    input_row.append(df_bydate[df_bydate['sido'] == '합계']['surveilance'].item())\n",
    "    input_arr.append(input_row)"
   ]
  },
  {
   "cell_type": "code",
   "execution_count": 35,
   "id": "d8245679",
   "metadata": {},
   "outputs": [],
   "source": [
    "input_data = np.array(input_arr)"
   ]
  },
  {
   "cell_type": "code",
   "execution_count": 36,
   "id": "3e2a4948",
   "metadata": {},
   "outputs": [],
   "source": [
    "# seq_len: 7, 14"
   ]
  },
  {
   "cell_type": "code",
   "execution_count": 37,
   "id": "5e14a05d",
   "metadata": {},
   "outputs": [
    {
     "data": {
      "text/plain": [
       "(579, 20)"
      ]
     },
     "execution_count": 37,
     "metadata": {},
     "output_type": "execute_result"
    }
   ],
   "source": [
    "input_data.shape"
   ]
  },
  {
   "cell_type": "code",
   "execution_count": 38,
   "id": "e195b47a",
   "metadata": {},
   "outputs": [],
   "source": [
    "cols = ['날짜'] + list(sido_dict.keys())"
   ]
  },
  {
   "cell_type": "code",
   "execution_count": 39,
   "id": "006379b1",
   "metadata": {},
   "outputs": [],
   "source": [
    "df_1 = pd.DataFrame(input_data[:, :-1], columns=cols).sort_values('날짜')\n",
    "df_2 = pd.DataFrame(input_data[:, :-1], columns=cols).sort_values('날짜')"
   ]
  },
  {
   "cell_type": "code",
   "execution_count": 40,
   "id": "a35ac770",
   "metadata": {},
   "outputs": [],
   "source": [
    "df_output = pd.concat([df_1, df_2], axis=0).sort_values('날짜')"
   ]
  },
  {
   "cell_type": "code",
   "execution_count": null,
   "id": "96db80bb",
   "metadata": {},
   "outputs": [],
   "source": []
  },
  {
   "cell_type": "code",
   "execution_count": 41,
   "id": "4bed3731",
   "metadata": {},
   "outputs": [],
   "source": [
    "df_output.to_csv('surveillance_data_v2.csv', index=False)"
   ]
  },
  {
   "cell_type": "code",
   "execution_count": 42,
   "id": "e03b9354",
   "metadata": {},
   "outputs": [
    {
     "data": {
      "text/plain": [
       "array([ True,  True,  True,  True,  True])"
      ]
     },
     "execution_count": 42,
     "metadata": {},
     "output_type": "execute_result"
    }
   ],
   "source": [
    "input_data[:, -1][:5] == input_data[:, -2][:5]"
   ]
  },
  {
   "cell_type": "code",
   "execution_count": 43,
   "id": "6c5e9f7d",
   "metadata": {},
   "outputs": [],
   "source": [
    "input_data[:, 1:] = input_data[:, 1:].astype(float)"
   ]
  },
  {
   "cell_type": "code",
   "execution_count": 44,
   "id": "259c3ede",
   "metadata": {},
   "outputs": [],
   "source": [
    "date_data = input_data[:, 0]"
   ]
  },
  {
   "cell_type": "code",
   "execution_count": 45,
   "id": "2a7e2516",
   "metadata": {},
   "outputs": [],
   "source": [
    "x_data = input_data[:, 1:-1]\n",
    "y_data = input_data[:, -1]"
   ]
  },
  {
   "cell_type": "code",
   "execution_count": 46,
   "id": "4c4ca4c6",
   "metadata": {},
   "outputs": [
    {
     "data": {
      "text/plain": [
       "((579, 18), (579,))"
      ]
     },
     "execution_count": 46,
     "metadata": {},
     "output_type": "execute_result"
    }
   ],
   "source": [
    "x_data.shape, y_data.shape"
   ]
  },
  {
   "cell_type": "code",
   "execution_count": 47,
   "id": "150224d7",
   "metadata": {},
   "outputs": [],
   "source": [
    "x_data = x_data.astype(float)\n",
    "y_data = y_data.astype(float)"
   ]
  },
  {
   "cell_type": "code",
   "execution_count": 48,
   "id": "9faa1179",
   "metadata": {},
   "outputs": [],
   "source": [
    "device = 'cpu'"
   ]
  },
  {
   "cell_type": "code",
   "execution_count": 49,
   "id": "97628649",
   "metadata": {},
   "outputs": [],
   "source": [
    "# np.save('surveillance_input', x_data)\n",
    "# np.save('surveillance_label', y_data)"
   ]
  },
  {
   "cell_type": "code",
   "execution_count": 50,
   "id": "eb4c0b2e",
   "metadata": {},
   "outputs": [
    {
     "data": {
      "text/plain": [
       "array([[1.43374109e-04, 1.72514923e-03, 3.10896385e-04, ...,\n",
       "        4.66757462e-04, 3.40241830e-04, 5.22383725e-04],\n",
       "       [2.86748218e-04, 1.06163029e-03, 2.66482616e-04, ...,\n",
       "        5.74470722e-04, 6.46459478e-04, 5.28072115e-04],\n",
       "       [7.16870545e-05, 1.32703787e-03, 4.14528514e-04, ...,\n",
       "        5.27794976e-04, 6.46459478e-04, 5.14799207e-04],\n",
       "       ...,\n",
       "       [1.49825944e-02, 3.99438398e-02, 2.46644466e-02, ...,\n",
       "        3.94912717e-02, 4.03526811e-02, 3.53827278e-02],\n",
       "       [1.63446484e-02, 4.36595458e-02, 2.29915279e-02, ...,\n",
       "        3.47949736e-02, 3.52150294e-02, 3.27186656e-02],\n",
       "       [1.63446484e-02, 4.36595458e-02, 2.29915279e-02, ...,\n",
       "        3.47949736e-02, 3.52150294e-02, 3.27186656e-02]])"
      ]
     },
     "execution_count": 50,
     "metadata": {},
     "output_type": "execute_result"
    }
   ],
   "source": [
    "x_data"
   ]
  },
  {
   "cell_type": "code",
   "execution_count": 51,
   "id": "193ab07a",
   "metadata": {},
   "outputs": [],
   "source": [
    "def seq_data(x, y, sequence_length):\n",
    "    src_seq = []\n",
    "    tgt_seq = []\n",
    "    y_seq = []\n",
    "    for i in range(len(x) - sequence_length):\n",
    "        src_seq.append(x[i: i+sequence_length])\n",
    "        tgt_seq.append(x[i+sequence_length])\n",
    "        y_seq.append(y[i+sequence_length])\n",
    "        \n",
    "    return (torch.FloatTensor(src_seq).to(device), \n",
    "            torch.FloatTensor(tgt_seq).to(device).reshape(-1, 1, 18),\n",
    "            torch.FloatTensor(y_seq).to(device))"
   ]
  },
  {
   "cell_type": "code",
   "execution_count": 54,
   "id": "d863b6e1",
   "metadata": {},
   "outputs": [],
   "source": [
    "sequence_length = 8"
   ]
  },
  {
   "cell_type": "code",
   "execution_count": 55,
   "id": "5bf903ef",
   "metadata": {},
   "outputs": [],
   "source": [
    "src_seq, tgt_seq, y_seq = seq_data(x_data, y_data, sequence_length)"
   ]
  },
  {
   "cell_type": "code",
   "execution_count": 56,
   "id": "ced9c46f",
   "metadata": {},
   "outputs": [
    {
     "data": {
      "text/plain": [
       "(torch.Size([571, 8, 18]), torch.Size([571, 1, 18]), torch.Size([571]))"
      ]
     },
     "execution_count": 56,
     "metadata": {},
     "output_type": "execute_result"
    }
   ],
   "source": [
    "src_seq.shape, tgt_seq.shape, y_seq.shape"
   ]
  },
  {
   "cell_type": "code",
   "execution_count": 57,
   "id": "24451377",
   "metadata": {},
   "outputs": [],
   "source": [
    "def split_train_and_test(src_seq, tgt_seq, y_seq, date_data, ratio=0.3):\n",
    "    sz = int((src_seq.shape[0])*(1-ratio))\n",
    "    train_src = src_seq[:sz]\n",
    "    train_tgt = tgt_seq[:sz]\n",
    "    train_y = y_seq[:sz]\n",
    "    train_date = date_data[:sz]\n",
    "    \n",
    "    test_src = src_seq[sz:]\n",
    "    test_tgt = tgt_seq[sz:]\n",
    "    test_y = y_seq[sz:]\n",
    "    test_date = date_data[sz:]\n",
    "    return train_src, train_tgt, train_y, train_date, test_src, test_tgt, test_y, test_date"
   ]
  },
  {
   "cell_type": "code",
   "execution_count": 58,
   "id": "8a354ef1",
   "metadata": {},
   "outputs": [],
   "source": [
    "(train_src, train_tgt, train_y, train_date, \n",
    " etc_src, etc_tgt, etc_y, etc_date) = split_train_and_test(src_seq, tgt_seq, y_seq, date_data)"
   ]
  },
  {
   "cell_type": "markdown",
   "id": "0c850266",
   "metadata": {},
   "source": [
    "### period\n",
    "- train: 2021-04-01 ~ 2022-05-05\n",
    "- valid: 2022-05-06 ~ 2022-07-30\n",
    "- test: 2022-07-31 ~ 2022-10-31"
   ]
  },
  {
   "cell_type": "code",
   "execution_count": 59,
   "id": "a0e39c71",
   "metadata": {},
   "outputs": [
    {
     "data": {
      "text/plain": [
       "(array(['2021-04-01', '2021-04-02', '2021-04-03', '2021-04-04',\n",
       "        '2021-04-05', '2021-04-06', '2021-04-07', '2021-04-08',\n",
       "        '2021-04-09', '2021-04-10', '2021-04-11', '2021-04-12',\n",
       "        '2021-04-13', '2021-04-14', '2021-04-15', '2021-04-16',\n",
       "        '2021-04-17', '2021-04-18', '2021-04-19', '2021-04-20',\n",
       "        '2021-04-21', '2021-04-22', '2021-04-23', '2021-04-24',\n",
       "        '2021-04-25', '2021-04-26', '2021-04-27', '2021-04-28',\n",
       "        '2021-04-29', '2021-04-30', '2021-05-01', '2021-05-02',\n",
       "        '2021-05-03', '2021-05-04', '2021-05-05', '2021-05-06',\n",
       "        '2021-05-07', '2021-05-08', '2021-05-09', '2021-05-10',\n",
       "        '2021-05-11', '2021-05-12', '2021-05-13', '2021-05-14',\n",
       "        '2021-05-15', '2021-05-16', '2021-05-17', '2021-05-18',\n",
       "        '2021-05-19', '2021-05-20', '2021-05-21', '2021-05-22',\n",
       "        '2021-05-23', '2021-05-24', '2021-05-25', '2021-05-26',\n",
       "        '2021-05-27', '2021-05-28', '2021-05-29', '2021-05-30',\n",
       "        '2021-05-31', '2021-06-01', '2021-06-02', '2021-06-03',\n",
       "        '2021-06-04', '2021-06-05', '2021-06-06', '2021-06-07',\n",
       "        '2021-06-08', '2021-06-09', '2021-06-10', '2021-06-11',\n",
       "        '2021-06-12', '2021-06-13', '2021-06-14', '2021-06-15',\n",
       "        '2021-06-16', '2021-06-17', '2021-06-18', '2021-06-19',\n",
       "        '2021-06-20', '2021-06-21', '2021-06-22', '2021-06-23',\n",
       "        '2021-06-24', '2021-06-25', '2021-06-26', '2021-06-27',\n",
       "        '2021-06-28', '2021-06-29', '2021-06-30', '2021-07-01',\n",
       "        '2021-07-02', '2021-07-03', '2021-07-04', '2021-07-05',\n",
       "        '2021-07-06', '2021-07-07', '2021-07-08', '2021-07-09',\n",
       "        '2021-07-10', '2021-07-11', '2021-07-12', '2021-07-13',\n",
       "        '2021-07-14', '2021-07-15', '2021-07-16', '2021-07-17',\n",
       "        '2021-07-18', '2021-07-19', '2021-07-20', '2021-07-21',\n",
       "        '2021-07-22', '2021-07-23', '2021-07-24', '2021-07-25',\n",
       "        '2021-07-26', '2021-07-27', '2021-07-28', '2021-07-29',\n",
       "        '2021-07-30', '2021-07-31', '2021-08-01', '2021-08-02',\n",
       "        '2021-08-03', '2021-08-04', '2021-08-05', '2021-08-06',\n",
       "        '2021-08-07', '2021-08-08', '2021-08-09', '2021-08-10',\n",
       "        '2021-08-11', '2021-08-12', '2021-08-13', '2021-08-14',\n",
       "        '2021-08-15', '2021-08-16', '2021-08-17', '2021-08-18',\n",
       "        '2021-08-19', '2021-08-20', '2021-08-21', '2021-08-22',\n",
       "        '2021-08-23', '2021-08-24', '2021-08-25', '2021-08-26',\n",
       "        '2021-08-27', '2021-08-28', '2021-08-29', '2021-08-30',\n",
       "        '2021-08-31', '2021-09-01', '2021-09-02', '2021-09-03',\n",
       "        '2021-09-04', '2021-09-05', '2021-09-06', '2021-09-07',\n",
       "        '2021-09-08', '2021-09-09', '2021-09-10', '2021-09-11',\n",
       "        '2021-09-12', '2021-09-13', '2021-09-14', '2021-09-15',\n",
       "        '2021-09-16', '2021-09-17', '2021-09-18', '2021-09-19',\n",
       "        '2021-09-20', '2021-09-21', '2021-09-22', '2021-09-23',\n",
       "        '2021-09-24', '2021-09-25', '2021-09-26', '2021-09-27',\n",
       "        '2021-09-28', '2021-09-29', '2021-09-30', '2021-10-01',\n",
       "        '2021-10-02', '2021-10-03', '2021-10-04', '2021-10-05',\n",
       "        '2021-10-06', '2021-10-07', '2021-10-08', '2021-10-09',\n",
       "        '2021-10-10', '2021-10-11', '2021-10-12', '2021-10-13',\n",
       "        '2021-10-14', '2021-10-15', '2021-10-16', '2021-10-17',\n",
       "        '2021-10-18', '2021-10-19', '2021-10-20', '2021-10-21',\n",
       "        '2021-10-22', '2021-10-23', '2021-10-24', '2021-10-25',\n",
       "        '2021-10-26', '2021-10-27', '2021-10-28', '2021-10-29',\n",
       "        '2021-10-30', '2021-10-31', '2021-11-01', '2021-11-02',\n",
       "        '2021-11-03', '2021-11-04', '2021-11-05', '2021-11-06',\n",
       "        '2021-11-07', '2021-11-08', '2021-11-09', '2021-11-10',\n",
       "        '2021-11-11', '2021-11-12', '2021-11-13', '2021-11-14',\n",
       "        '2021-11-15', '2021-11-16', '2021-11-17', '2021-11-18',\n",
       "        '2021-11-19', '2021-11-20', '2021-11-21', '2021-11-22',\n",
       "        '2021-11-23', '2021-11-24', '2021-11-25', '2021-11-26',\n",
       "        '2021-11-27', '2021-11-28', '2021-11-29', '2021-11-30',\n",
       "        '2021-12-01', '2021-12-02', '2021-12-03', '2021-12-04',\n",
       "        '2021-12-05', '2021-12-06', '2021-12-07', '2021-12-08',\n",
       "        '2021-12-09', '2021-12-10', '2021-12-11', '2021-12-12',\n",
       "        '2021-12-13', '2021-12-14', '2021-12-15', '2021-12-16',\n",
       "        '2021-12-17', '2021-12-18', '2021-12-19', '2021-12-20',\n",
       "        '2021-12-21', '2021-12-22', '2021-12-23', '2021-12-24',\n",
       "        '2021-12-25', '2021-12-26', '2021-12-27', '2021-12-28',\n",
       "        '2021-12-29', '2021-12-30', '2021-12-31', '2022-01-01',\n",
       "        '2022-01-02', '2022-01-03', '2022-01-04', '2022-01-05',\n",
       "        '2022-01-06', '2022-01-07', '2022-01-08', '2022-01-09',\n",
       "        '2022-01-10', '2022-01-11', '2022-01-12', '2022-01-13',\n",
       "        '2022-01-14', '2022-01-15', '2022-01-16', '2022-01-17',\n",
       "        '2022-01-18', '2022-01-19', '2022-01-20', '2022-01-21',\n",
       "        '2022-01-22', '2022-01-23', '2022-01-24', '2022-01-25',\n",
       "        '2022-01-26', '2022-01-27', '2022-01-28', '2022-01-29',\n",
       "        '2022-01-30', '2022-01-31', '2022-02-01', '2022-02-02',\n",
       "        '2022-02-03', '2022-02-04', '2022-02-05', '2022-02-06',\n",
       "        '2022-02-07', '2022-02-08', '2022-02-09', '2022-02-10',\n",
       "        '2022-02-11', '2022-02-12', '2022-02-13', '2022-02-14',\n",
       "        '2022-02-15', '2022-02-16', '2022-02-17', '2022-02-18',\n",
       "        '2022-02-19', '2022-02-20', '2022-02-21', '2022-02-22',\n",
       "        '2022-02-23', '2022-02-24', '2022-02-25', '2022-02-26',\n",
       "        '2022-02-27', '2022-02-28', '2022-03-01', '2022-03-02',\n",
       "        '2022-03-03', '2022-03-04', '2022-03-05', '2022-03-06',\n",
       "        '2022-03-07', '2022-03-08', '2022-03-09', '2022-03-10',\n",
       "        '2022-03-11', '2022-03-12', '2022-03-13', '2022-03-14',\n",
       "        '2022-03-15', '2022-03-16', '2022-03-17', '2022-03-18',\n",
       "        '2022-03-19', '2022-03-20', '2022-03-21', '2022-03-22',\n",
       "        '2022-03-23', '2022-03-24', '2022-03-25', '2022-03-26',\n",
       "        '2022-03-27', '2022-03-28', '2022-03-29', '2022-03-30',\n",
       "        '2022-03-31', '2022-04-01', '2022-04-02', '2022-04-03',\n",
       "        '2022-04-04', '2022-04-05', '2022-04-06', '2022-04-07',\n",
       "        '2022-04-08', '2022-04-09', '2022-04-10', '2022-04-11',\n",
       "        '2022-04-12', '2022-04-13', '2022-04-14', '2022-04-15',\n",
       "        '2022-04-16', '2022-04-17', '2022-04-18', '2022-04-19',\n",
       "        '2022-04-20', '2022-04-21', '2022-04-22', '2022-04-23',\n",
       "        '2022-04-24', '2022-04-25', '2022-04-26', '2022-04-27',\n",
       "        '2022-04-28', '2022-04-29', '2022-04-30', '2022-05-01',\n",
       "        '2022-05-02', '2022-05-03', '2022-05-04'], dtype='<U32'),\n",
       " array(['2022-05-05', '2022-05-06', '2022-05-07', '2022-05-08',\n",
       "        '2022-05-09', '2022-05-10', '2022-05-11', '2022-05-12',\n",
       "        '2022-05-13', '2022-05-14', '2022-05-15', '2022-05-16',\n",
       "        '2022-05-17', '2022-05-18', '2022-05-19', '2022-05-20',\n",
       "        '2022-05-21', '2022-05-22', '2022-05-23', '2022-05-24',\n",
       "        '2022-05-25', '2022-05-26', '2022-05-27', '2022-05-28',\n",
       "        '2022-05-29', '2022-05-30', '2022-05-31', '2022-06-01',\n",
       "        '2022-06-02', '2022-06-03', '2022-06-04', '2022-06-05',\n",
       "        '2022-06-06', '2022-06-07', '2022-06-08', '2022-06-09',\n",
       "        '2022-06-10', '2022-06-11', '2022-06-12', '2022-06-13',\n",
       "        '2022-06-14', '2022-06-15', '2022-06-16', '2022-06-17',\n",
       "        '2022-06-18', '2022-06-19', '2022-06-20', '2022-06-21',\n",
       "        '2022-06-22', '2022-06-23', '2022-06-24', '2022-06-25',\n",
       "        '2022-06-26', '2022-06-27', '2022-06-28', '2022-06-29',\n",
       "        '2022-06-30', '2022-07-01', '2022-07-02', '2022-07-03',\n",
       "        '2022-07-04', '2022-07-05', '2022-07-06', '2022-07-07',\n",
       "        '2022-07-08', '2022-07-09', '2022-07-10', '2022-07-11',\n",
       "        '2022-07-12', '2022-07-13', '2022-07-14', '2022-07-15',\n",
       "        '2022-07-16', '2022-07-17', '2022-07-18', '2022-07-19',\n",
       "        '2022-07-20', '2022-07-21', '2022-07-22', '2022-07-23',\n",
       "        '2022-07-24', '2022-07-25', '2022-07-26', '2022-07-27',\n",
       "        '2022-07-28', '2022-07-29', '2022-07-30', '2022-07-31',\n",
       "        '2022-08-01', '2022-08-02', '2022-08-03', '2022-08-04',\n",
       "        '2022-08-05', '2022-08-06', '2022-08-07', '2022-08-08',\n",
       "        '2022-08-09', '2022-08-10', '2022-08-11', '2022-08-12',\n",
       "        '2022-08-13', '2022-08-14', '2022-08-15', '2022-08-16',\n",
       "        '2022-08-17', '2022-08-18', '2022-08-19', '2022-08-20',\n",
       "        '2022-08-21', '2022-08-22', '2022-08-23', '2022-08-24',\n",
       "        '2022-08-25', '2022-08-26', '2022-08-27', '2022-08-28',\n",
       "        '2022-08-29', '2022-08-30', '2022-08-31', '2022-09-01',\n",
       "        '2022-09-02', '2022-09-03', '2022-09-04', '2022-09-05',\n",
       "        '2022-09-06', '2022-09-07', '2022-09-08', '2022-09-09',\n",
       "        '2022-09-10', '2022-09-11', '2022-09-12', '2022-09-13',\n",
       "        '2022-09-14', '2022-09-15', '2022-09-16', '2022-09-17',\n",
       "        '2022-09-18', '2022-09-19', '2022-09-20', '2022-09-21',\n",
       "        '2022-09-22', '2022-09-23', '2022-09-24', '2022-09-25',\n",
       "        '2022-09-26', '2022-09-27', '2022-09-28', '2022-09-29',\n",
       "        '2022-09-30', '2022-10-01', '2022-10-02', '2022-10-03',\n",
       "        '2022-10-04', '2022-10-05', '2022-10-06', '2022-10-07',\n",
       "        '2022-10-08', '2022-10-09', '2022-10-10', '2022-10-11',\n",
       "        '2022-10-12', '2022-10-13', '2022-10-14', '2022-10-15',\n",
       "        '2022-10-16', '2022-10-17', '2022-10-18', '2022-10-19',\n",
       "        '2022-10-20', '2022-10-21', '2022-10-22', '2022-10-23',\n",
       "        '2022-10-24', '2022-10-25', '2022-10-26', '2022-10-27',\n",
       "        '2022-10-28', '2022-10-29', '2022-10-30', '2022-10-31'],\n",
       "       dtype='<U32'))"
      ]
     },
     "execution_count": 59,
     "metadata": {},
     "output_type": "execute_result"
    }
   ],
   "source": [
    "train_date,etc_date"
   ]
  },
  {
   "cell_type": "code",
   "execution_count": 60,
   "id": "0f344c98",
   "metadata": {},
   "outputs": [],
   "source": [
    "(valid_src, valid_tgt, valid_y, valid_date, \n",
    " test_src, test_tgt, test_y, test_date) = split_train_and_test(etc_src, etc_tgt, etc_y, etc_date, ratio=0.5)"
   ]
  },
  {
   "cell_type": "code",
   "execution_count": 61,
   "id": "2bd055fe",
   "metadata": {},
   "outputs": [
    {
     "data": {
      "text/plain": [
       "(array(['2022-07-25', '2022-07-26', '2022-07-27', '2022-07-28',\n",
       "        '2022-07-29'], dtype='<U32'),\n",
       " array(['2022-10-27', '2022-10-28', '2022-10-29', '2022-10-30',\n",
       "        '2022-10-31'], dtype='<U32'))"
      ]
     },
     "execution_count": 61,
     "metadata": {},
     "output_type": "execute_result"
    }
   ],
   "source": [
    "valid_date[-5:], test_date[-5:]"
   ]
  },
  {
   "cell_type": "code",
   "execution_count": 62,
   "id": "44700fb3",
   "metadata": {},
   "outputs": [
    {
     "data": {
      "text/plain": [
       "tensor([1.4337e-04, 1.7251e-03, 3.1090e-04, 3.3170e-04, 6.4272e-04, 6.1219e-04,\n",
       "        1.4507e-04, 2.6803e-05, 6.0533e-04, 1.3071e-04, 2.1960e-04, 7.9503e-04,\n",
       "        3.4375e-04, 1.0256e-04, 1.0220e-03, 4.6676e-04, 3.4024e-04, 5.2238e-04])"
      ]
     },
     "execution_count": 62,
     "metadata": {},
     "output_type": "execute_result"
    }
   ],
   "source": [
    "train_src[0, 0, :]"
   ]
  },
  {
   "cell_type": "code",
   "execution_count": 63,
   "id": "40a527a4",
   "metadata": {},
   "outputs": [
    {
     "data": {
      "text/plain": [
       "(torch.Size([399, 8, 18]),\n",
       " torch.Size([86, 8, 18]),\n",
       " torch.Size([86, 8, 18]),\n",
       " torch.Size([399, 1, 18]),\n",
       " torch.Size([86, 1, 18]),\n",
       " torch.Size([86, 1, 18]))"
      ]
     },
     "execution_count": 63,
     "metadata": {},
     "output_type": "execute_result"
    }
   ],
   "source": [
    "train_src.shape, valid_src.shape, test_src.shape, train_tgt.shape, valid_tgt.shape, test_tgt.shape"
   ]
  },
  {
   "cell_type": "code",
   "execution_count": 64,
   "id": "08708745",
   "metadata": {},
   "outputs": [],
   "source": [
    "train = torch.utils.data.TensorDataset(train_src, train_tgt)\n",
    "valid = torch.utils.data.TensorDataset(valid_src, valid_tgt)\n",
    "test = torch.utils.data.TensorDataset(test_src, test_tgt)\n",
    "\n",
    "batch_size = 1\n",
    "train_loader = torch.utils.data.DataLoader(dataset=train, batch_size=batch_size, shuffle=False)\n",
    "valid_loader = torch.utils.data.DataLoader(dataset=valid, batch_size=batch_size, shuffle=False)\n",
    "test_loader = torch.utils.data.DataLoader(dataset=test, batch_size=batch_size, shuffle=False)"
   ]
  },
  {
   "cell_type": "markdown",
   "id": "b0d8fede",
   "metadata": {},
   "source": [
    "### Transformer"
   ]
  },
  {
   "cell_type": "code",
   "execution_count": 65,
   "id": "d4810fff",
   "metadata": {},
   "outputs": [],
   "source": [
    "class PositionalEncoding(nn.Module):\n",
    "\n",
    "    def __init__(self, d_model, dropout=0.1, max_len=5000):\n",
    "        super(PositionalEncoding, self).__init__()\n",
    "        self.dropout = nn.Dropout(p=dropout)\n",
    "        \n",
    "        # Compute the positional encodings once in log space.\n",
    "        pe = torch.zeros(max_len, d_model)\n",
    "        position = torch.arange(0, max_len).unsqueeze(1)\n",
    "        div_term = torch.exp(torch.arange(0, d_model, 2) *\n",
    "                             -(math.log(10000.0) / d_model))\n",
    "        pe[:, 0::2] = torch.sin(position * div_term)\n",
    "        pe[:, 1::2] = torch.cos(position * div_term)\n",
    "        pe = pe.unsqueeze(0)\n",
    "        self.register_buffer('pe', pe)\n",
    "        \n",
    "    def forward(self, x):\n",
    "        x = x + self.pe[:, :x.size(1)]\n",
    "        return self.dropout(x)"
   ]
  },
  {
   "cell_type": "code",
   "execution_count": 66,
   "id": "8b1e82e2",
   "metadata": {},
   "outputs": [],
   "source": [
    "# class TransformerModel(nn.Module):\n",
    "#     def __init__(self, feature_len, d_model, nhead, nhid, nlayers):\n",
    "#         super(TransformerModel, self).__init__()\n",
    "#         self.feature_len = feature_len\n",
    "#         self.d_model = d_model\n",
    "#         self.nhead = nhead # d_model / nhead -> 정수\n",
    "#         self.nhid = nhid\n",
    "#         self.nlayers = nlayers\n",
    "        \n",
    "#         self.emb = nn.Linear(feature_len, d_model)\n",
    "# #         fc layer로 차원 변형\n",
    "#         self.pe = PositionalEncoding(d_model)\n",
    "#         self.transformer = nn.Transformer(d_model, nhead,\n",
    "#                                           num_encoder_layers=nlayers,\n",
    "#                                           num_decoder_layers=nlayers,\n",
    "#                                           dim_feedforward=nhid,\n",
    "#                                          )\n",
    "#         self.lin = nn.Linear(d_model, 1)\n",
    "# #         self.lin2 = nn.Linear(7, 1)\n",
    "# #         self.lin.weight = self.emb.weight\n",
    "    \n",
    "#     def forward(self, src, tgt, pad_id=0):\n",
    "#         mem = self.encode(src, pad_id)\n",
    "# #         return self.deconde_nothing(mem)\n",
    "#         return self.decode(tgt, mem, pad_id)\n",
    "    \n",
    "#     def encode(self, src, pad_id=0):\n",
    "#         x = self.emb(src) * math.sqrt(self.d_model)\n",
    "#         x = self.pe(x)\n",
    "#         memory = self.transformer.encoder(x.transpose(0, 1))\n",
    "#         return memory\n",
    "    \n",
    "# #     def deconde_nothing(self, memory):\n",
    "# #         out = self.lin(memory.transpose(0, 1))\n",
    "# #         out = self.lin2(out.view(out.size(0), -1))\n",
    "# #         return out\n",
    "        \n",
    "#     def decode(self, tgt, memory, pad_id=0):\n",
    "#         x = self.emb(tgt) * math.sqrt(self.d_model)\n",
    "#         x = self.pe(x)\n",
    "        \n",
    "# #         tgt_mask = self.transformer.generate_square_subsequent_mask(x.size(1))\n",
    "#         out = self.transformer.decoder(x.transpose(0, 1), memory)\n",
    "    \n",
    "#         return self.lin(out.transpose(0, 1))\n",
    "    \n",
    "#     def greedy_decoding(self, src, start_token):\n",
    "#         N = src.size(0)\n",
    "#         mem, mk = self.encode(src)\n",
    "#         preds = tokenizer.to_tensor([start_token]*N)\n",
    "\n",
    "#         for _ in range(10):\n",
    "#             y_pred = self.decode(preds, mem, mk)\n",
    "#             t_pred = torch.argmax(y_pred[:,-1,:], axis=-1, keepdims=True)\n",
    "#             preds = torch.cat([preds, t_pred], axis=1)            \n",
    "\n",
    "#         return tokenizer.to_string(preds[:, 1:])"
   ]
  },
  {
   "cell_type": "code",
   "execution_count": 67,
   "id": "1eef3de0",
   "metadata": {},
   "outputs": [],
   "source": [
    "class TransformerModel(nn.Module):\n",
    "    def __init__(self, feature_len, d_model, nhead, nhid, nlayers):\n",
    "        super(TransformerModel, self).__init__()\n",
    "        self.feature_len = feature_len\n",
    "        self.d_model = d_model\n",
    "        self.nhead = nhead # d_model / nhead -> 정수\n",
    "        self.nhid = nhid\n",
    "        self.nlayers = nlayers\n",
    "        self.bias_instant = (10000 * 50 / 52739009)\n",
    "        \n",
    "        self.emb = nn.Linear(feature_len, d_model)\n",
    "#         fc layer로 차원 변형\n",
    "        self.pe = PositionalEncoding(d_model)\n",
    "        self.transformer = nn.Transformer(d_model, nhead,\n",
    "                                          num_encoder_layers=nlayers,\n",
    "                                          num_decoder_layers=nlayers,\n",
    "                                          dim_feedforward=nhid,\n",
    "                                         )\n",
    "        self.lin = nn.Linear(d_model, 1)\n",
    "#         self.final = nn.Sequential(\n",
    "#             nn.Linear(d_model, 64),\n",
    "#             nn.ReLU(),\n",
    "#             nn.Linear(64, 1),\n",
    "#             nn.ReLU()\n",
    "#         )\n",
    "#         self.lin2 = nn.Linear(2, 1, bias=False)\n",
    "#         self.lin.weight = self.emb.weight\n",
    "    \n",
    "    def forward(self, src, tgt, pad_id=0):\n",
    "        mem = self.encode(src, pad_id)\n",
    "#         out1 = self.decode(tgt, mem, pad_id).reshape(-1, 1)\n",
    "#         out2 = src[:, -1, -1].reshape(-1, 1)\n",
    "#         out = torch.cat([out1, out2], dim=1)\n",
    "#         out = self.lin2(out)\n",
    "#         print(out.shape)\n",
    "        return self.decode(tgt, mem, pad_id).reshape(-1, 1)\n",
    "\n",
    "    def encode(self, src, pad_id=0):\n",
    "        x = self.emb(src) * math.sqrt(self.d_model)\n",
    "        x = self.pe(x)\n",
    "        memory = self.transformer.encoder(x.transpose(0, 1))\n",
    "        return memory\n",
    "    \n",
    "#     def deconde_nothing(self, memory):\n",
    "#         out = self.lin(memory.transpose(0, 1))\n",
    "#         out = self.lin2(out.view(out.size(0), -1))\n",
    "#         return out\n",
    "        \n",
    "    def decode(self, tgt, memory, pad_id=0):\n",
    "        x = self.emb(tgt) * math.sqrt(self.d_model)\n",
    "        x = self.pe(x)\n",
    "        \n",
    "#         tgt_mask = self.transformer.generate_square_subsequent_mask(x.size(1))\n",
    "        out = self.transformer.decoder(x.transpose(0, 1), memory)\n",
    "    \n",
    "        return self.lin(out.transpose(0, 1)) - self.bias_instant\n",
    "    \n",
    "    def greedy_decoding(self, src, start_token):\n",
    "        N = src.size(0)\n",
    "        mem, mk = self.encode(src)\n",
    "        preds = tokenizer.to_tensor([start_token]*N)\n",
    "\n",
    "        for _ in range(10):\n",
    "            y_pred = self.decode(preds, mem, mk)\n",
    "            t_pred = torch.argmax(y_pred[:,-1,:], axis=-1, keepdims=True)\n",
    "            preds = torch.cat([preds, t_pred], axis=1)            \n",
    "\n",
    "        return tokenizer.to_string(preds[:, 1:])"
   ]
  },
  {
   "cell_type": "code",
   "execution_count": 68,
   "id": "6e46e3b2",
   "metadata": {},
   "outputs": [],
   "source": [
    "class Trainer:\n",
    "    def __init__(self, model, loss_fn, optimizer, pad_id=0):\n",
    "        self.model = model\n",
    "        self.loss_fn = loss_fn\n",
    "        self.optimizer = optimizer\n",
    "        self.pad_id = pad_id\n",
    "        self.losses = []\n",
    "        self.current_epoch = 0\n",
    "    \n",
    "    def train_and_valid(self, train_src, train_tgt, valid_src, valid_tgt, max_epoch=1, batch_size=8):\n",
    "        min_loss = 1\n",
    "        train_ds = torch.utils.data.TensorDataset(train_src, train_tgt)\n",
    "        valid_ds = torch.utils.data.TensorDataset(valid_src, valid_tgt)\n",
    "        \n",
    "        train_loader = DataLoader(train_ds, batch_size=batch_size, shuffle=False)\n",
    "        valid_loader = DataLoader(valid_ds, batch_size=1, shuffle=False)\n",
    "        \n",
    "        \n",
    "        for epoch in range(1, max_epoch+1):\n",
    "            self.model.train()\n",
    "            running_loss = 0\n",
    "            self.current_epoch += 1\n",
    "#             print(\"EPOCH: %s :: \" %self.current_epoch, end='')\n",
    "            for i, (src, tgt) in enumerate(train_loader):\n",
    "#                 tgt_ = src[:, -1, :].view(src.size(0), 1, -1)\n",
    "                y_pred = self.model(src, tgt, self.pad_id).reshape(-1, 1)\n",
    "                y_gt = tgt[:, :, -1]\n",
    "                loss = self.loss_fn(y_pred, y_gt)\n",
    "                self.optimizer.zero_grad()\n",
    "                loss.backward()\n",
    "                self.optimizer.step()\n",
    "                running_loss += loss.item()\n",
    "            \n",
    "            running_loss = round(running_loss / (i+1), 6)\n",
    "            self.losses.append(running_loss)\n",
    "            \n",
    "            self.model.eval()\n",
    "            \n",
    "            n = len(valid_loader)\n",
    "            valid_loss = 0.0\n",
    "            for src, tgt in valid_loader:\n",
    "                tgt_ = src[:, -1, :].view(src.size(0), 1, -1)\n",
    "                y_pred = transformer_model(src, tgt_, 0).reshape(-1, 1)\n",
    "                y_gt = tgt[:, :, -1]\n",
    "        \n",
    "                loss = self.loss_fn(y_pred, y_gt)\n",
    "                valid_loss += loss.item()\n",
    "            valid_loss /= n\n",
    "            if epoch % 100 == 0:\n",
    "                print(f'current epoch: {epoch} and valid loss: {valid_loss}')\n",
    "            if valid_loss < min_loss:\n",
    "                min_loss = valid_loss\n",
    "                print(f'EPOCH: {self.current_epoch}, min_loss: {min_loss:.7f}')\n",
    "                torch.save(transformer_model.state_dict(), f'./model_transformer_min_w4_{epoch}.pt')\n"
   ]
  },
  {
   "cell_type": "code",
   "execution_count": 69,
   "id": "7c7196d4",
   "metadata": {},
   "outputs": [
    {
     "name": "stdout",
     "output_type": "stream",
     "text": [
      "torch.Size([399, 8, 18]) torch.Size([399, 1, 18])\n"
     ]
    }
   ],
   "source": [
    "transformer_model = TransformerModel(train_src.shape[2], \n",
    "                         d_model=64, nhead=4, \n",
    "                         nhid=256, nlayers=6)\n",
    "\n",
    "print(train_src.shape, train_tgt.shape)\n",
    "\n"
   ]
  },
  {
   "cell_type": "code",
   "execution_count": 70,
   "id": "45e48da4",
   "metadata": {},
   "outputs": [],
   "source": [
    "# transformer_model.reset_parameters()"
   ]
  },
  {
   "cell_type": "markdown",
   "id": "cc040605",
   "metadata": {},
   "source": [
    "## 조심!!!!!!!!!!!! 트레이닝 파라미터 덮어씌울 수 있어"
   ]
  },
  {
   "cell_type": "code",
   "execution_count": 71,
   "id": "990c690a",
   "metadata": {},
   "outputs": [],
   "source": [
    "# EPOCH: 1, min_loss: 0.0583623\n",
    "# EPOCH: 2, min_loss: 0.0239808\n",
    "# EPOCH: 3, min_loss: 0.0208644\n",
    "# EPOCH: 4, min_loss: 0.0140658\n",
    "# EPOCH: 5, min_loss: 0.0008690\n",
    "# EPOCH: 7, min_loss: 0.0007629\n",
    "# EPOCH: 9, min_loss: 0.0004584\n",
    "# EPOCH: 31, min_loss: 0.0004130\n",
    "# EPOCH: 60, min_loss: 0.0003674\n",
    "# EPOCH: 62, min_loss: 0.0002223\n",
    "# EPOCH: 63, min_loss: 0.0002190\n",
    "# EPOCH: 93, min_loss: 0.0001728\n",
    "# EPOCH: 170, min_loss: 0.0001435\n",
    "# EPOCH: 171, min_loss: 0.0001384\n",
    "# EPOCH: 187, min_loss: 0.0001359\n",
    "# EPOCH: 227, min_loss: 0.0001336\n",
    "# EPOCH: 240, min_loss: 0.0001313\n",
    "# EPOCH: 259, min_loss: 0.0001280\n",
    "# EPOCH: 261, min_loss: 0.0001244\n",
    "# EPOCH: 299, min_loss: 0.0001199\n",
    "# EPOCH: 301, min_loss: 0.0001187\n",
    "# EPOCH: 452, min_loss: 0.0001143\n",
    "# EPOCH: 527, min_loss: 0.0001132\n",
    "# EPOCH: 529, min_loss: 0.0001129\n",
    "# EPOCH: 531, min_loss: 0.0001076\n",
    "# EPOCH: 539, min_loss: 0.0001011\n",
    "# EPOCH: 599, min_loss: 0.0000991\n",
    "# EPOCH: 643, min_loss: 0.0000985\n",
    "# EPOCH: 645, min_loss: 0.0000983\n",
    "# EPOCH: 659, min_loss: 0.0000947\n",
    "# EPOCH: 673, min_loss: 0.0000917\n",
    "# EPOCH: 742, min_loss: 0.0000901\n",
    "# EPOCH: 756, min_loss: 0.0000858\n",
    "# EPOCH: 951, min_loss: 0.0000857\n",
    "# EPOCH: 957, min_loss: 0.0000833\n",
    "# EPOCH: 971, min_loss: 0.0000832\n",
    "# EPOCH: 983, min_loss: 0.0000829\n",
    "# EPOCH: 1007, min_loss: 0.0000813\n",
    "# EPOCH: 1022, min_loss: 0.0000799\n",
    "# EPOCH: 1051, min_loss: 0.0000757\n",
    "# EPOCH: 1157, min_loss: 0.0000749\n",
    "# EPOCH: 1227, min_loss: 0.0000747\n",
    "# EPOCH: 1241, min_loss: 0.0000744\n",
    "# EPOCH: 1253, min_loss: 0.0000717\n",
    "# EPOCH: 1261, min_loss: 0.0000699\n",
    "# EPOCH: 1484, min_loss: 0.0000683\n",
    "# EPOCH: 1531, min_loss: 0.0000638"
   ]
  },
  {
   "cell_type": "markdown",
   "id": "8a4e60e5",
   "metadata": {},
   "source": [
    "### 트레이닝하려면 아래꺼 주석 제거"
   ]
  },
  {
   "cell_type": "code",
   "execution_count": 72,
   "id": "60401aed",
   "metadata": {
    "scrolled": true
   },
   "outputs": [
    {
     "name": "stdout",
     "output_type": "stream",
     "text": [
      "EPOCH: 1, min_loss: 0.0818475\n",
      "EPOCH: 2, min_loss: 0.0816384\n",
      "EPOCH: 3, min_loss: 0.0268657\n",
      "EPOCH: 16, min_loss: 0.0162299\n",
      "EPOCH: 18, min_loss: 0.0058658\n",
      "EPOCH: 19, min_loss: 0.0013140\n",
      "EPOCH: 29, min_loss: 0.0011886\n",
      "EPOCH: 36, min_loss: 0.0003342\n",
      "EPOCH: 43, min_loss: 0.0003288\n",
      "EPOCH: 72, min_loss: 0.0003206\n",
      "current epoch: 100 and valid loss: 0.004346959464423573\n",
      "EPOCH: 122, min_loss: 0.0002895\n",
      "EPOCH: 138, min_loss: 0.0002705\n",
      "current epoch: 200 and valid loss: 0.0007771767826109808\n",
      "EPOCH: 203, min_loss: 0.0002674\n",
      "EPOCH: 204, min_loss: 0.0001985\n",
      "EPOCH: 205, min_loss: 0.0001769\n",
      "current epoch: 300 and valid loss: 0.0015787077144798173\n",
      "current epoch: 400 and valid loss: 0.0004429854314430109\n",
      "current epoch: 500 and valid loss: 0.0002446481288065246\n",
      "EPOCH: 512, min_loss: 0.0001597\n",
      "current epoch: 600 and valid loss: 0.000375826660136327\n",
      "EPOCH: 666, min_loss: 0.0001566\n",
      "current epoch: 700 and valid loss: 0.00023188000330718998\n",
      "EPOCH: 705, min_loss: 0.0001535\n",
      "EPOCH: 746, min_loss: 0.0001519\n",
      "current epoch: 800 and valid loss: 0.0002635851649933965\n",
      "EPOCH: 890, min_loss: 0.0001448\n",
      "EPOCH: 893, min_loss: 0.0001423\n",
      "current epoch: 900 and valid loss: 0.0002953763405620385\n",
      "current epoch: 1000 and valid loss: 0.00019869142242247704\n",
      "current epoch: 1100 and valid loss: 0.0003003641645629272\n",
      "EPOCH: 1109, min_loss: 0.0001412\n",
      "EPOCH: 1122, min_loss: 0.0001266\n",
      "EPOCH: 1196, min_loss: 0.0001241\n",
      "current epoch: 1200 and valid loss: 0.0001702180965724178\n",
      "EPOCH: 1228, min_loss: 0.0001215\n",
      "current epoch: 1300 and valid loss: 0.0006995019405431501\n",
      "current epoch: 1400 and valid loss: 0.0003672455141990805\n",
      "current epoch: 1500 and valid loss: 0.00014804301083392888\n",
      "current epoch: 1600 and valid loss: 0.00015027871769068577\n",
      "current epoch: 1700 and valid loss: 0.00018157035059006906\n",
      "current epoch: 1800 and valid loss: 0.00019994685799354324\n",
      "current epoch: 1900 and valid loss: 0.00018103237987122578\n",
      "current epoch: 2000 and valid loss: 0.00017136955931895939\n",
      "current epoch: 2100 and valid loss: 0.0002016584415454048\n",
      "current epoch: 2200 and valid loss: 0.00012999566034031375\n",
      "current epoch: 2300 and valid loss: 0.00013725031336998204\n",
      "current epoch: 2400 and valid loss: 0.00013789271164210175\n",
      "current epoch: 2500 and valid loss: 0.0001765695006446173\n",
      "current epoch: 2600 and valid loss: 0.0001610778128886186\n",
      "current epoch: 2700 and valid loss: 0.00013576771373238568\n",
      "current epoch: 2800 and valid loss: 0.00018850822761160723\n",
      "current epoch: 2900 and valid loss: 0.00014760921316189714\n",
      "current epoch: 3000 and valid loss: 0.0002548184241866926\n",
      "current epoch: 3100 and valid loss: 0.00015448327796189495\n",
      "current epoch: 3200 and valid loss: 0.00018367682913255156\n",
      "current epoch: 3300 and valid loss: 0.00016650149610563438\n",
      "current epoch: 3400 and valid loss: 0.00030850683464386217\n",
      "EPOCH: 3455, min_loss: 0.0001186\n",
      "EPOCH: 3470, min_loss: 0.0001125\n",
      "EPOCH: 3471, min_loss: 0.0001091\n",
      "EPOCH: 3472, min_loss: 0.0001079\n",
      "EPOCH: 3473, min_loss: 0.0001065\n",
      "current epoch: 3500 and valid loss: 0.0001921071011802097\n",
      "current epoch: 3600 and valid loss: 0.0001976082724531456\n",
      "current epoch: 3700 and valid loss: 0.00034854422683932483\n",
      "current epoch: 3800 and valid loss: 0.00013522242534641128\n",
      "EPOCH: 3897, min_loss: 0.0001036\n",
      "current epoch: 3900 and valid loss: 0.00027467716937137703\n",
      "current epoch: 4000 and valid loss: 0.00019037746271290544\n",
      "current epoch: 4100 and valid loss: 0.00014373498437130153\n",
      "current epoch: 4200 and valid loss: 0.0001208567424233713\n",
      "current epoch: 4300 and valid loss: 0.00015159269502922293\n",
      "current epoch: 4400 and valid loss: 0.0001271828177945784\n",
      "current epoch: 4500 and valid loss: 0.00017322183775721233\n",
      "EPOCH: 4544, min_loss: 0.0001010\n",
      "current epoch: 4600 and valid loss: 0.00012069909431714514\n",
      "current epoch: 4700 and valid loss: 0.0001475922989142435\n",
      "EPOCH: 4720, min_loss: 0.0001006\n",
      "current epoch: 4800 and valid loss: 0.00012016237336713554\n",
      "current epoch: 4900 and valid loss: 0.00015796660716316764\n",
      "EPOCH: 4916, min_loss: 0.0000989\n",
      "current epoch: 5000 and valid loss: 0.00022211347333954767\n"
     ]
    }
   ],
   "source": [
    "for p in transformer_model.parameters():\n",
    "    if p.dim() > 1:\n",
    "        nn.init.xavier_uniform_(p)\n",
    "\n",
    "loss_fn = nn.MSELoss()\n",
    "optimizer = optim.Adam(transformer_model.parameters(), lr=1e-4)\n",
    "\n",
    "trainer = Trainer(transformer_model, loss_fn, optimizer)\n",
    "trainer.train_and_valid(train_src, train_tgt, valid_src, valid_tgt, max_epoch=5000, batch_size=8)"
   ]
  },
  {
   "cell_type": "code",
   "execution_count": 84,
   "id": "9a10c9e1",
   "metadata": {},
   "outputs": [
    {
     "data": {
      "text/plain": [
       "<All keys matched successfully>"
      ]
     },
     "execution_count": 84,
     "metadata": {},
     "output_type": "execute_result"
    }
   ],
   "source": [
    "# transformer_model.load_state_dict(torch.load('./model_transformer_min_v5.pt'))\n",
    "\n",
    "## 바로 아래꺼가 젤 좋은 놈 \n",
    "# transformer_model.load_state_dict(torch.load(f'./model_transformer_min_w2_{4626}.pt'))\n",
    "\n",
    "# transformer_model.load_state_dict(torch.load(f'./model_transformer_min_w3_{2085}.pt'))\n",
    "\n",
    "# 얘넨 새로만든 ppt 첫번쨰\n",
    "# transformer_model.load_state_dict(torch.load(f'./model_transformer_min_w3_{188}.pt'))\n",
    "\n",
    "# 얘넨 새로만든 ppt 두번쨰\n",
    "# transformer_model.load_state_dict(torch.load(f'./model_transformer_min_w3_{92}.pt'))\n",
    "\n",
    "# # 얘넨 새로만든 ppt 세번쨰\n",
    "# transformer_model.load_state_dict(torch.load(f'./model_transformer_min_w3_{13}.pt'))\n",
    "\n",
    "# 얘넨 새로새로 만든 ppt 첫번쨰\n",
    "# transformer_model.load_state_dict(torch.load(f'./model_transformer_min_w3_{70}.pt'))\n",
    "\n",
    "# 얘넨 새로새로 만든 ppt 두번쨰\n",
    "# transformer_model.load_state_dict(torch.load(f'./model_transformer_min_w3_{452}.pt'))\n",
    "\n",
    "# 얘넨 새로새로 만든 ppt 세번쨰\n",
    "# transformer_model.load_state_dict(torch.load(f'./model_transformer_min_w3_{531}.pt'))\n",
    "\n",
    "# 얘넨 length 새로 만든 ppt 첫번쨰\n",
    "# transformer_model.load_state_dict(torch.load(f'./model_transformer_min_w4_{2969}.pt'))\n",
    "\n",
    "# 얘넨 length 새로 만든 ppt 두번쨰\n",
    "transformer_model.load_state_dict(torch.load(f'./model_transformer_min_w4_{1589}.pt'))"
   ]
  },
  {
   "cell_type": "code",
   "execution_count": 85,
   "id": "1d7d7a87",
   "metadata": {},
   "outputs": [
    {
     "data": {
      "text/plain": [
       "TransformerModel(\n",
       "  (emb): Linear(in_features=18, out_features=64, bias=True)\n",
       "  (pe): PositionalEncoding(\n",
       "    (dropout): Dropout(p=0.1, inplace=False)\n",
       "  )\n",
       "  (transformer): Transformer(\n",
       "    (encoder): TransformerEncoder(\n",
       "      (layers): ModuleList(\n",
       "        (0): TransformerEncoderLayer(\n",
       "          (self_attn): MultiheadAttention(\n",
       "            (out_proj): _LinearWithBias(in_features=64, out_features=64, bias=True)\n",
       "          )\n",
       "          (linear1): Linear(in_features=64, out_features=256, bias=True)\n",
       "          (dropout): Dropout(p=0.1, inplace=False)\n",
       "          (linear2): Linear(in_features=256, out_features=64, bias=True)\n",
       "          (norm1): LayerNorm((64,), eps=1e-05, elementwise_affine=True)\n",
       "          (norm2): LayerNorm((64,), eps=1e-05, elementwise_affine=True)\n",
       "          (dropout1): Dropout(p=0.1, inplace=False)\n",
       "          (dropout2): Dropout(p=0.1, inplace=False)\n",
       "        )\n",
       "        (1): TransformerEncoderLayer(\n",
       "          (self_attn): MultiheadAttention(\n",
       "            (out_proj): _LinearWithBias(in_features=64, out_features=64, bias=True)\n",
       "          )\n",
       "          (linear1): Linear(in_features=64, out_features=256, bias=True)\n",
       "          (dropout): Dropout(p=0.1, inplace=False)\n",
       "          (linear2): Linear(in_features=256, out_features=64, bias=True)\n",
       "          (norm1): LayerNorm((64,), eps=1e-05, elementwise_affine=True)\n",
       "          (norm2): LayerNorm((64,), eps=1e-05, elementwise_affine=True)\n",
       "          (dropout1): Dropout(p=0.1, inplace=False)\n",
       "          (dropout2): Dropout(p=0.1, inplace=False)\n",
       "        )\n",
       "        (2): TransformerEncoderLayer(\n",
       "          (self_attn): MultiheadAttention(\n",
       "            (out_proj): _LinearWithBias(in_features=64, out_features=64, bias=True)\n",
       "          )\n",
       "          (linear1): Linear(in_features=64, out_features=256, bias=True)\n",
       "          (dropout): Dropout(p=0.1, inplace=False)\n",
       "          (linear2): Linear(in_features=256, out_features=64, bias=True)\n",
       "          (norm1): LayerNorm((64,), eps=1e-05, elementwise_affine=True)\n",
       "          (norm2): LayerNorm((64,), eps=1e-05, elementwise_affine=True)\n",
       "          (dropout1): Dropout(p=0.1, inplace=False)\n",
       "          (dropout2): Dropout(p=0.1, inplace=False)\n",
       "        )\n",
       "        (3): TransformerEncoderLayer(\n",
       "          (self_attn): MultiheadAttention(\n",
       "            (out_proj): _LinearWithBias(in_features=64, out_features=64, bias=True)\n",
       "          )\n",
       "          (linear1): Linear(in_features=64, out_features=256, bias=True)\n",
       "          (dropout): Dropout(p=0.1, inplace=False)\n",
       "          (linear2): Linear(in_features=256, out_features=64, bias=True)\n",
       "          (norm1): LayerNorm((64,), eps=1e-05, elementwise_affine=True)\n",
       "          (norm2): LayerNorm((64,), eps=1e-05, elementwise_affine=True)\n",
       "          (dropout1): Dropout(p=0.1, inplace=False)\n",
       "          (dropout2): Dropout(p=0.1, inplace=False)\n",
       "        )\n",
       "        (4): TransformerEncoderLayer(\n",
       "          (self_attn): MultiheadAttention(\n",
       "            (out_proj): _LinearWithBias(in_features=64, out_features=64, bias=True)\n",
       "          )\n",
       "          (linear1): Linear(in_features=64, out_features=256, bias=True)\n",
       "          (dropout): Dropout(p=0.1, inplace=False)\n",
       "          (linear2): Linear(in_features=256, out_features=64, bias=True)\n",
       "          (norm1): LayerNorm((64,), eps=1e-05, elementwise_affine=True)\n",
       "          (norm2): LayerNorm((64,), eps=1e-05, elementwise_affine=True)\n",
       "          (dropout1): Dropout(p=0.1, inplace=False)\n",
       "          (dropout2): Dropout(p=0.1, inplace=False)\n",
       "        )\n",
       "        (5): TransformerEncoderLayer(\n",
       "          (self_attn): MultiheadAttention(\n",
       "            (out_proj): _LinearWithBias(in_features=64, out_features=64, bias=True)\n",
       "          )\n",
       "          (linear1): Linear(in_features=64, out_features=256, bias=True)\n",
       "          (dropout): Dropout(p=0.1, inplace=False)\n",
       "          (linear2): Linear(in_features=256, out_features=64, bias=True)\n",
       "          (norm1): LayerNorm((64,), eps=1e-05, elementwise_affine=True)\n",
       "          (norm2): LayerNorm((64,), eps=1e-05, elementwise_affine=True)\n",
       "          (dropout1): Dropout(p=0.1, inplace=False)\n",
       "          (dropout2): Dropout(p=0.1, inplace=False)\n",
       "        )\n",
       "      )\n",
       "      (norm): LayerNorm((64,), eps=1e-05, elementwise_affine=True)\n",
       "    )\n",
       "    (decoder): TransformerDecoder(\n",
       "      (layers): ModuleList(\n",
       "        (0): TransformerDecoderLayer(\n",
       "          (self_attn): MultiheadAttention(\n",
       "            (out_proj): _LinearWithBias(in_features=64, out_features=64, bias=True)\n",
       "          )\n",
       "          (multihead_attn): MultiheadAttention(\n",
       "            (out_proj): _LinearWithBias(in_features=64, out_features=64, bias=True)\n",
       "          )\n",
       "          (linear1): Linear(in_features=64, out_features=256, bias=True)\n",
       "          (dropout): Dropout(p=0.1, inplace=False)\n",
       "          (linear2): Linear(in_features=256, out_features=64, bias=True)\n",
       "          (norm1): LayerNorm((64,), eps=1e-05, elementwise_affine=True)\n",
       "          (norm2): LayerNorm((64,), eps=1e-05, elementwise_affine=True)\n",
       "          (norm3): LayerNorm((64,), eps=1e-05, elementwise_affine=True)\n",
       "          (dropout1): Dropout(p=0.1, inplace=False)\n",
       "          (dropout2): Dropout(p=0.1, inplace=False)\n",
       "          (dropout3): Dropout(p=0.1, inplace=False)\n",
       "        )\n",
       "        (1): TransformerDecoderLayer(\n",
       "          (self_attn): MultiheadAttention(\n",
       "            (out_proj): _LinearWithBias(in_features=64, out_features=64, bias=True)\n",
       "          )\n",
       "          (multihead_attn): MultiheadAttention(\n",
       "            (out_proj): _LinearWithBias(in_features=64, out_features=64, bias=True)\n",
       "          )\n",
       "          (linear1): Linear(in_features=64, out_features=256, bias=True)\n",
       "          (dropout): Dropout(p=0.1, inplace=False)\n",
       "          (linear2): Linear(in_features=256, out_features=64, bias=True)\n",
       "          (norm1): LayerNorm((64,), eps=1e-05, elementwise_affine=True)\n",
       "          (norm2): LayerNorm((64,), eps=1e-05, elementwise_affine=True)\n",
       "          (norm3): LayerNorm((64,), eps=1e-05, elementwise_affine=True)\n",
       "          (dropout1): Dropout(p=0.1, inplace=False)\n",
       "          (dropout2): Dropout(p=0.1, inplace=False)\n",
       "          (dropout3): Dropout(p=0.1, inplace=False)\n",
       "        )\n",
       "        (2): TransformerDecoderLayer(\n",
       "          (self_attn): MultiheadAttention(\n",
       "            (out_proj): _LinearWithBias(in_features=64, out_features=64, bias=True)\n",
       "          )\n",
       "          (multihead_attn): MultiheadAttention(\n",
       "            (out_proj): _LinearWithBias(in_features=64, out_features=64, bias=True)\n",
       "          )\n",
       "          (linear1): Linear(in_features=64, out_features=256, bias=True)\n",
       "          (dropout): Dropout(p=0.1, inplace=False)\n",
       "          (linear2): Linear(in_features=256, out_features=64, bias=True)\n",
       "          (norm1): LayerNorm((64,), eps=1e-05, elementwise_affine=True)\n",
       "          (norm2): LayerNorm((64,), eps=1e-05, elementwise_affine=True)\n",
       "          (norm3): LayerNorm((64,), eps=1e-05, elementwise_affine=True)\n",
       "          (dropout1): Dropout(p=0.1, inplace=False)\n",
       "          (dropout2): Dropout(p=0.1, inplace=False)\n",
       "          (dropout3): Dropout(p=0.1, inplace=False)\n",
       "        )\n",
       "        (3): TransformerDecoderLayer(\n",
       "          (self_attn): MultiheadAttention(\n",
       "            (out_proj): _LinearWithBias(in_features=64, out_features=64, bias=True)\n",
       "          )\n",
       "          (multihead_attn): MultiheadAttention(\n",
       "            (out_proj): _LinearWithBias(in_features=64, out_features=64, bias=True)\n",
       "          )\n",
       "          (linear1): Linear(in_features=64, out_features=256, bias=True)\n",
       "          (dropout): Dropout(p=0.1, inplace=False)\n",
       "          (linear2): Linear(in_features=256, out_features=64, bias=True)\n",
       "          (norm1): LayerNorm((64,), eps=1e-05, elementwise_affine=True)\n",
       "          (norm2): LayerNorm((64,), eps=1e-05, elementwise_affine=True)\n",
       "          (norm3): LayerNorm((64,), eps=1e-05, elementwise_affine=True)\n",
       "          (dropout1): Dropout(p=0.1, inplace=False)\n",
       "          (dropout2): Dropout(p=0.1, inplace=False)\n",
       "          (dropout3): Dropout(p=0.1, inplace=False)\n",
       "        )\n",
       "        (4): TransformerDecoderLayer(\n",
       "          (self_attn): MultiheadAttention(\n",
       "            (out_proj): _LinearWithBias(in_features=64, out_features=64, bias=True)\n",
       "          )\n",
       "          (multihead_attn): MultiheadAttention(\n",
       "            (out_proj): _LinearWithBias(in_features=64, out_features=64, bias=True)\n",
       "          )\n",
       "          (linear1): Linear(in_features=64, out_features=256, bias=True)\n",
       "          (dropout): Dropout(p=0.1, inplace=False)\n",
       "          (linear2): Linear(in_features=256, out_features=64, bias=True)\n",
       "          (norm1): LayerNorm((64,), eps=1e-05, elementwise_affine=True)\n",
       "          (norm2): LayerNorm((64,), eps=1e-05, elementwise_affine=True)\n",
       "          (norm3): LayerNorm((64,), eps=1e-05, elementwise_affine=True)\n",
       "          (dropout1): Dropout(p=0.1, inplace=False)\n",
       "          (dropout2): Dropout(p=0.1, inplace=False)\n",
       "          (dropout3): Dropout(p=0.1, inplace=False)\n",
       "        )\n",
       "        (5): TransformerDecoderLayer(\n",
       "          (self_attn): MultiheadAttention(\n",
       "            (out_proj): _LinearWithBias(in_features=64, out_features=64, bias=True)\n",
       "          )\n",
       "          (multihead_attn): MultiheadAttention(\n",
       "            (out_proj): _LinearWithBias(in_features=64, out_features=64, bias=True)\n",
       "          )\n",
       "          (linear1): Linear(in_features=64, out_features=256, bias=True)\n",
       "          (dropout): Dropout(p=0.1, inplace=False)\n",
       "          (linear2): Linear(in_features=256, out_features=64, bias=True)\n",
       "          (norm1): LayerNorm((64,), eps=1e-05, elementwise_affine=True)\n",
       "          (norm2): LayerNorm((64,), eps=1e-05, elementwise_affine=True)\n",
       "          (norm3): LayerNorm((64,), eps=1e-05, elementwise_affine=True)\n",
       "          (dropout1): Dropout(p=0.1, inplace=False)\n",
       "          (dropout2): Dropout(p=0.1, inplace=False)\n",
       "          (dropout3): Dropout(p=0.1, inplace=False)\n",
       "        )\n",
       "      )\n",
       "      (norm): LayerNorm((64,), eps=1e-05, elementwise_affine=True)\n",
       "    )\n",
       "  )\n",
       "  (lin): Linear(in_features=64, out_features=1, bias=True)\n",
       ")"
      ]
     },
     "execution_count": 85,
     "metadata": {},
     "output_type": "execute_result"
    }
   ],
   "source": [
    "transformer_model"
   ]
  },
  {
   "cell_type": "code",
   "execution_count": 86,
   "id": "a74962fd",
   "metadata": {},
   "outputs": [
    {
     "data": {
      "text/plain": [
       "0.009480648375474784"
      ]
     },
     "execution_count": 86,
     "metadata": {},
     "output_type": "execute_result"
    }
   ],
   "source": [
    "(10000 * 50 / 52739009)"
   ]
  },
  {
   "cell_type": "code",
   "execution_count": 87,
   "id": "0517814d",
   "metadata": {},
   "outputs": [
    {
     "name": "stdout",
     "output_type": "stream",
     "text": [
      "[epoch: 0] loss: 0.0006448\n"
     ]
    }
   ],
   "source": [
    "transformer_model.eval()\n",
    "criterion = nn.MSELoss()\n",
    "loss_graph = [] # 그래프 그릴 목적인 loss.\n",
    "n = len(test_loader)\n",
    "\n",
    "for epoch in range(1):\n",
    "    running_loss = 0.0\n",
    "    \n",
    "    for src, tgt in test_loader:\n",
    "        tgt_ = src[:, -1, :].view(src.size(0), 1, -1)\n",
    "        y_pred = transformer_model(src, tgt_, 0).reshape(-1, 1)\n",
    "        \n",
    "        y_gt = tgt[:, :, -1]\n",
    "#         print(y_gt.item() + (10000 * 50 / 52739009))\n",
    "#         print(round(y_pred.item() / 50 * 52739009), round(y_gt.item() / 50 * 52739009))\n",
    "        loss = criterion(y_pred, y_gt)\n",
    "        running_loss += loss.item()\n",
    "    loss_graph.append(running_loss / n)\n",
    "#     if epoch % 100 == 0:\n",
    "#         print(out, target)\n",
    "    print('[epoch: %d] loss: %.7f' % (epoch, running_loss/n))"
   ]
  },
  {
   "cell_type": "code",
   "execution_count": 92,
   "id": "cb415626",
   "metadata": {},
   "outputs": [
    {
     "data": {
      "text/plain": [
       "('2023-02-27', '2023-02-21')"
      ]
     },
     "execution_count": 92,
     "metadata": {},
     "output_type": "execute_result"
    }
   ],
   "source": [
    "(datetime.today() - timedelta(days=1)).strftime('%Y-%m-%d'), (datetime.today() - timedelta(days=7)).strftime('%Y-%m-%d')"
   ]
  },
  {
   "cell_type": "code",
   "execution_count": 77,
   "id": "8c9ae4dd",
   "metadata": {},
   "outputs": [],
   "source": [
    "class BaseLine(nn.Module):\n",
    "    def forward(self, x):\n",
    "        return x[:, -1, -1].reshape(-1, 1)"
   ]
  },
  {
   "cell_type": "code",
   "execution_count": 78,
   "id": "a9974e3c",
   "metadata": {},
   "outputs": [],
   "source": [
    "baseline = BaseLine()"
   ]
  },
  {
   "cell_type": "code",
   "execution_count": 79,
   "id": "e955fa5d",
   "metadata": {
    "scrolled": false
   },
   "outputs": [
    {
     "name": "stdout",
     "output_type": "stream",
     "text": [
      "어제: 731, 오늘: 735\n",
      "어제: 735, 오늘: 797\n",
      "어제: 797, 오늘: 785\n",
      "어제: 785, 오늘: 644\n",
      "어제: 644, 오늘: 499\n",
      "어제: 499, 오늘: 512\n",
      "어제: 512, 오늘: 769\n",
      "어제: 769, 오늘: 679\n",
      "어제: 679, 오늘: 661\n",
      "어제: 661, 오늘: 627\n",
      "어제: 627, 오늘: 606\n",
      "어제: 606, 오늘: 488\n",
      "어제: 488, 오늘: 541\n",
      "어제: 541, 오늘: 676\n",
      "어제: 676, 오늘: 574\n",
      "어제: 574, 오늘: 525\n",
      "어제: 525, 오늘: 701\n",
      "어제: 701, 오늘: 564\n",
      "어제: 564, 오늘: 463\n",
      "어제: 463, 오늘: 510\n",
      "어제: 510, 오늘: 634\n",
      "어제: 634, 오늘: 715\n",
      "어제: 715, 오늘: 747\n",
      "어제: 747, 오늘: 681\n",
      "어제: 681, 오늘: 610\n",
      "어제: 610, 오늘: 619\n",
      "어제: 619, 오늘: 528\n",
      "어제: 528, 오늘: 654\n",
      "어제: 654, 오늘: 646\n",
      "어제: 646, 오늘: 561\n",
      "어제: 561, 오늘: 666\n",
      "어제: 666, 오늘: 585\n",
      "어제: 585, 오늘: 530\n",
      "어제: 530, 오늘: 516\n",
      "어제: 516, 오늘: 705\n",
      "어제: 705, 오늘: 629\n",
      "어제: 629, 오늘: 587\n",
      "어제: 587, 오늘: 533\n",
      "어제: 533, 오늘: 480\n",
      "어제: 480, 오늘: 430\n",
      "어제: 430, 오늘: 459\n",
      "어제: 459, 오늘: 677\n",
      "어제: 677, 오늘: 681\n",
      "어제: 681, 오늘: 695\n",
      "어제: 695, 오늘: 744\n",
      "어제: 744, 오늘: 556\n",
      "어제: 556, 오늘: 485\n",
      "어제: 485, 오늘: 454\n",
      "어제: 454, 오늘: 602\n",
      "어제: 602, 오늘: 610\n",
      "어제: 610, 오늘: 556\n",
      "어제: 556, 오늘: 565\n",
      "어제: 565, 오늘: 452\n",
      "어제: 452, 오늘: 399\n",
      "어제: 399, 오늘: 373\n",
      "어제: 373, 오늘: 545\n",
      "어제: 545, 오늘: 540\n",
      "어제: 540, 오늘: 507\n",
      "어제: 507, 오늘: 482\n",
      "어제: 482, 오늘: 429\n",
      "어제: 429, 오늘: 357\n",
      "어제: 357, 오늘: 394\n",
      "어제: 394, 오늘: 645\n",
      "어제: 645, 오늘: 610\n",
      "어제: 610, 오늘: 634\n",
      "어제: 634, 오늘: 668\n",
      "어제: 668, 오늘: 614\n",
      "어제: 614, 오늘: 501\n",
      "어제: 501, 오늘: 595\n",
      "어제: 595, 오늘: 794\n",
      "어제: 794, 오늘: 761\n",
      "어제: 761, 오늘: 825\n",
      "어제: 825, 오늘: 794\n",
      "어제: 794, 오늘: 743\n",
      "어제: 743, 오늘: 711\n",
      "어제: 711, 오늘: 746\n",
      "어제: 746, 오늘: 1211\n",
      "어제: 1211, 오늘: 1275\n",
      "어제: 1275, 오늘: 1316\n",
      "어제: 1316, 오늘: 1378\n",
      "어제: 1378, 오늘: 1324\n",
      "어제: 1324, 오늘: 1100\n",
      "어제: 1100, 오늘: 1150\n",
      "어제: 1150, 오늘: 1613\n",
      "어제: 1613, 오늘: 1599\n",
      "어제: 1599, 오늘: 1535\n",
      "어제: 1535, 오늘: 1449\n",
      "어제: 1449, 오늘: 1453\n",
      "어제: 1453, 오늘: 1251\n",
      "어제: 1251, 오늘: 1278\n",
      "어제: 1278, 오늘: 1781\n",
      "어제: 1781, 오늘: 1841\n",
      "어제: 1841, 오늘: 1629\n",
      "어제: 1629, 오늘: 1627\n",
      "어제: 1627, 오늘: 1487\n",
      "어제: 1487, 오늘: 1318\n",
      "어제: 1318, 오늘: 1363\n",
      "어제: 1363, 오늘: 1895\n",
      "어제: 1895, 오늘: 1673\n",
      "어제: 1673, 오늘: 1710\n",
      "어제: 1710, 오늘: 1538\n",
      "어제: 1538, 오늘: 1442\n",
      "어제: 1442, 오늘: 1218\n",
      "어제: 1218, 오늘: 1200\n",
      "어제: 1200, 오늘: 1725\n",
      "어제: 1725, 오늘: 1775\n",
      "어제: 1775, 오늘: 1704\n",
      "어제: 1704, 오늘: 1823\n",
      "어제: 1823, 오늘: 1728\n",
      "어제: 1728, 오늘: 1491\n",
      "어제: 1491, 오늘: 1537\n",
      "어제: 1537, 오늘: 2221\n",
      "어제: 2221, 오늘: 1987\n",
      "어제: 1987, 오늘: 1989\n",
      "어제: 1989, 오늘: 1928\n",
      "어제: 1928, 오늘: 1816\n",
      "어제: 1816, 오늘: 1555\n",
      "어제: 1555, 오늘: 1372\n",
      "어제: 1372, 오늘: 1803\n",
      "어제: 1803, 오늘: 2152\n",
      "어제: 2152, 오늘: 2050\n",
      "어제: 2050, 오늘: 1877\n",
      "어제: 1877, 오늘: 1626\n",
      "어제: 1626, 오늘: 1417\n",
      "어제: 1417, 오늘: 1507\n",
      "어제: 1507, 오늘: 2154\n",
      "어제: 2154, 오늘: 1882\n",
      "어제: 1882, 오늘: 1837\n",
      "어제: 1837, 오늘: 1791\n",
      "어제: 1791, 오늘: 1619\n",
      "어제: 1619, 오늘: 1485\n",
      "어제: 1485, 오늘: 1371\n",
      "어제: 1371, 오늘: 2024\n",
      "어제: 2024, 오늘: 1960\n",
      "어제: 1960, 오늘: 1708\n",
      "어제: 1708, 오늘: 1803\n",
      "어제: 1803, 오늘: 1490\n",
      "어제: 1490, 오늘: 1375\n",
      "어제: 1375, 오늘: 1597\n",
      "어제: 1597, 오늘: 2048\n",
      "어제: 2048, 오늘: 2049\n",
      "어제: 2049, 오늘: 1892\n",
      "어제: 1892, 오늘: 1864\n",
      "어제: 1864, 오늘: 1755\n",
      "어제: 1755, 오늘: 1433\n",
      "어제: 1433, 오늘: 1495\n",
      "어제: 1495, 오늘: 2078\n",
      "어제: 2078, 오늘: 1943\n",
      "어제: 1943, 오늘: 2008\n",
      "어제: 2008, 오늘: 2087\n",
      "어제: 2087, 오늘: 1909\n",
      "어제: 1909, 오늘: 1604\n",
      "어제: 1604, 오늘: 1729\n",
      "어제: 1729, 오늘: 1720\n",
      "어제: 1720, 오늘: 1715\n",
      "어제: 1715, 오늘: 2430\n",
      "어제: 2430, 오늘: 3271\n",
      "어제: 3271, 오늘: 2770\n",
      "어제: 2770, 오늘: 2382\n",
      "어제: 2382, 오늘: 2289\n",
      "어제: 2289, 오늘: 2881\n",
      "어제: 2881, 오늘: 2563\n",
      "어제: 2563, 오늘: 2484\n",
      "어제: 2484, 오늘: 2247\n",
      "어제: 2247, 오늘: 2085\n",
      "어제: 2085, 오늘: 1670\n",
      "어제: 1670, 오늘: 1574\n",
      "어제: 1574, 오늘: 2027\n",
      "어제: 2027, 오늘: 2425\n",
      "어제: 2425, 오늘: 2175\n",
      "어제: 2175, 오늘: 1953\n",
      "어제: 1953, 오늘: 1594\n",
      "어제: 1594, 오늘: 1297\n",
      "어제: 1297, 오늘: 1347\n",
      "어제: 1347, 오늘: 1584\n",
      "어제: 1584, 오늘: 1940\n",
      "어제: 1940, 오늘: 1684\n",
      "어제: 1684, 오늘: 1618\n",
      "어제: 1618, 오늘: 1420\n",
      "어제: 1420, 오늘: 1050\n",
      "어제: 1050, 오늘: 1073\n",
      "어제: 1073, 오늘: 1571\n",
      "어제: 1571, 오늘: 1441\n",
      "어제: 1441, 오늘: 1440\n",
      "어제: 1440, 오늘: 1508\n",
      "어제: 1508, 오늘: 1423\n",
      "어제: 1423, 오늘: 1190\n",
      "어제: 1190, 오늘: 1266\n",
      "어제: 1266, 오늘: 1952\n",
      "어제: 1952, 오늘: 2111\n",
      "어제: 2111, 오늘: 2124\n",
      "어제: 2124, 오늘: 2104\n",
      "어제: 2104, 오늘: 2061\n",
      "어제: 2061, 오늘: 1686\n",
      "어제: 1686, 오늘: 1589\n",
      "어제: 1589, 오늘: 2667\n",
      "어제: 2667, 오늘: 2482\n",
      "어제: 2482, 오늘: 2344\n",
      "어제: 2344, 오늘: 2248\n",
      "어제: 2248, 오늘: 2224\n",
      "어제: 2224, 오늘: 1760\n",
      "어제: 1760, 오늘: 1715\n",
      "어제: 1715, 오늘: 2425\n",
      "어제: 2425, 오늘: 2520\n",
      "어제: 2520, 오늘: 2368\n",
      "어제: 2368, 오늘: 2325\n",
      "어제: 2325, 오늘: 2419\n",
      "어제: 2419, 오늘: 2006\n",
      "어제: 2006, 오늘: 2125\n",
      "어제: 2125, 오늘: 3187\n",
      "어제: 3187, 오늘: 3292\n",
      "어제: 3292, 오늘: 3034\n",
      "어제: 3034, 오늘: 3212\n",
      "어제: 3212, 오늘: 3120\n",
      "어제: 3120, 오늘: 2827\n",
      "어제: 2827, 오늘: 2699\n",
      "어제: 2699, 오늘: 4115\n",
      "어제: 4115, 오늘: 3938\n",
      "어제: 3938, 오늘: 3901\n",
      "어제: 3901, 오늘: 4068\n",
      "어제: 4068, 오늘: 3928\n",
      "어제: 3928, 오늘: 3309\n",
      "어제: 3309, 오늘: 3032\n",
      "어제: 3032, 오늘: 5123\n",
      "어제: 5123, 오늘: 5266\n",
      "어제: 5266, 오늘: 4944\n",
      "어제: 4944, 오늘: 5352\n",
      "어제: 5352, 오늘: 5128\n",
      "어제: 5128, 오늘: 4325\n",
      "어제: 4325, 오늘: 4954\n",
      "어제: 4954, 오늘: 7175\n",
      "어제: 7175, 오늘: 7102\n",
      "어제: 7102, 오늘: 7022\n",
      "어제: 7022, 오늘: 6977\n",
      "어제: 6977, 오늘: 6689\n",
      "어제: 6689, 오늘: 5817\n",
      "어제: 5817, 오늘: 5567\n",
      "어제: 5567, 오늘: 7850\n",
      "어제: 7850, 오늘: 7622\n",
      "어제: 7622, 오늘: 7435\n",
      "어제: 7435, 오늘: 7314\n",
      "어제: 7314, 오늘: 6236\n",
      "어제: 6236, 오늘: 5318\n",
      "어제: 5318, 오늘: 5202\n",
      "어제: 5202, 오늘: 7456\n",
      "어제: 7456, 오늘: 6919\n",
      "어제: 6919, 오늘: 6233\n",
      "어제: 6233, 오늘: 5842\n",
      "어제: 5842, 오늘: 5419\n",
      "어제: 5419, 오늘: 4207\n",
      "어제: 4207, 오늘: 3865\n",
      "어제: 3865, 오늘: 5409\n",
      "어제: 5409, 오늘: 5037\n",
      "어제: 5037, 오늘: 4875\n",
      "어제: 4875, 오늘: 4416\n",
      "어제: 4416, 오늘: 3833\n",
      "어제: 3833, 오늘: 3129\n",
      "어제: 3129, 오늘: 3024\n",
      "어제: 3024, 오늘: 4444\n",
      "어제: 4444, 오늘: 4126\n",
      "어제: 4126, 오늘: 3717\n",
      "어제: 3717, 오늘: 3510\n",
      "어제: 3510, 오늘: 3376\n",
      "어제: 3376, 오늘: 3007\n",
      "어제: 3007, 오늘: 3097\n",
      "어제: 3097, 오늘: 4388\n",
      "어제: 4388, 오늘: 4167\n",
      "어제: 4167, 오늘: 4542\n",
      "어제: 4542, 오늘: 4423\n",
      "어제: 4423, 오늘: 4194\n",
      "어제: 4194, 오늘: 3859\n",
      "어제: 3859, 오늘: 4072\n",
      "어제: 4072, 오늘: 5805\n",
      "어제: 5805, 오늘: 6603\n",
      "어제: 6603, 오늘: 6769\n",
      "어제: 6769, 오늘: 7009\n",
      "어제: 7009, 오늘: 7630\n",
      "어제: 7630, 오늘: 7513\n",
      "어제: 7513, 오늘: 8571\n",
      "어제: 8571, 오늘: 13012\n",
      "어제: 13012, 오늘: 14518\n",
      "어제: 14518, 오늘: 16096\n",
      "어제: 16096, 오늘: 17542\n",
      "어제: 17542, 오늘: 17532\n",
      "어제: 17532, 오늘: 17085\n",
      "어제: 17085, 오늘: 18343\n",
      "어제: 18343, 오늘: 20270\n",
      "어제: 20270, 오늘: 22907\n",
      "어제: 22907, 오늘: 27443\n",
      "어제: 27443, 오늘: 36362\n",
      "어제: 36362, 오늘: 38691\n",
      "어제: 38691, 오늘: 35286\n",
      "어제: 35286, 오늘: 36719\n",
      "어제: 36719, 오늘: 49567\n",
      "어제: 49567, 오늘: 54122\n",
      "어제: 54122, 오늘: 53926\n",
      "어제: 53926, 오늘: 54941\n",
      "어제: 54941, 오늘: 56431\n",
      "어제: 56431, 오늘: 54619\n",
      "어제: 54619, 오늘: 57177\n",
      "어제: 57177, 오늘: 90443\n",
      "어제: 90443, 오늘: 93135\n",
      "어제: 93135, 오늘: 109831\n",
      "어제: 109831, 오늘: 102211\n",
      "어제: 102211, 오늘: 104829\n",
      "어제: 104829, 오늘: 95362\n",
      "어제: 95362, 오늘: 99573\n",
      "어제: 99573, 오늘: 171452\n",
      "어제: 171452, 오늘: 170016\n",
      "어제: 170016, 오늘: 165890\n",
      "어제: 165890, 오늘: 166209\n",
      "어제: 166209, 오늘: 163566\n",
      "어제: 163566, 오늘: 139626\n",
      "어제: 139626, 오늘: 138993\n",
      "어제: 138993, 오늘: 219241\n",
      "어제: 219241, 오늘: 198803\n",
      "어제: 198803, 오늘: 266853\n",
      "어제: 266853, 오늘: 254327\n",
      "어제: 254327, 오늘: 243628\n",
      "어제: 243628, 오늘: 210716\n",
      "어제: 210716, 오늘: 202721\n",
      "어제: 202721, 오늘: 342446\n",
      "어제: 342446, 오늘: 327549\n",
      "어제: 327549, 오늘: 282987\n",
      "어제: 282987, 오늘: 383665\n",
      "어제: 383665, 오늘: 350190\n",
      "어제: 350190, 오늘: 309790\n",
      "어제: 309790, 오늘: 362338\n",
      "어제: 362338, 오늘: 400741\n",
      "어제: 400741, 오늘: 621328\n",
      "어제: 621328, 오늘: 407017\n",
      "어제: 407017, 오늘: 381454\n",
      "어제: 381454, 오늘: 334708\n",
      "어제: 334708, 오늘: 209169\n",
      "어제: 209169, 오늘: 353980\n",
      "어제: 353980, 오늘: 490881\n",
      "어제: 490881, 오늘: 395598\n",
      "어제: 395598, 오늘: 339514\n",
      "어제: 339514, 오늘: 335580\n",
      "어제: 335580, 오늘: 318130\n",
      "어제: 318130, 오늘: 187213\n",
      "어제: 187213, 오늘: 347554\n",
      "어제: 347554, 오늘: 424641\n",
      "어제: 424641, 오늘: 320743\n",
      "어제: 320743, 오늘: 280273\n",
      "어제: 280273, 오늘: 264171\n",
      "어제: 264171, 오늘: 234301\n",
      "어제: 234301, 오늘: 127190\n",
      "어제: 127190, 오늘: 266135\n",
      "어제: 266135, 오늘: 286294\n",
      "어제: 286294, 오늘: 224820\n",
      "어제: 224820, 오늘: 205333\n",
      "어제: 205333, 오늘: 185566\n",
      "어제: 185566, 오늘: 164481\n",
      "어제: 164481, 오늘: 90928\n",
      "어제: 90928, 오늘: 210755\n",
      "어제: 210755, 오늘: 195419\n",
      "어제: 195419, 오늘: 148443\n",
      "어제: 148443, 오늘: 125846\n",
      "어제: 125846, 오늘: 107916\n",
      "어제: 107916, 오늘: 93001\n",
      "어제: 93001, 오늘: 47743\n",
      "어제: 47743, 오늘: 118504\n",
      "어제: 118504, 오늘: 111319\n",
      "어제: 111319, 오늘: 90867\n",
      "어제: 90867, 오늘: 81058\n",
      "어제: 81058, 오늘: 75449\n",
      "어제: 75449, 오늘: 64725\n",
      "어제: 64725, 오늘: 34370\n",
      "어제: 34370, 오늘: 80361\n",
      "어제: 80361, 오늘: 76787\n",
      "어제: 76787, 오늘: 57464\n",
      "어제: 57464, 오늘: 50568\n",
      "어제: 50568, 오늘: 43286\n",
      "어제: 43286, 오늘: 37771\n",
      "어제: 37771, 오늘: 20084\n",
      "어제: 20084, 오늘: 51131\n",
      "어제: 51131, 오늘: 49064\n",
      "어제: 49064, 오늘: 42296\n",
      "어제: 42296, 오늘: 26714\n",
      "어제: 26714, 오늘: 39600\n",
      "어제: 39600, 오늘: 40064\n",
      "어제: 40064, 오늘: 20601\n",
      "어제: 20601, 오늘: 49933\n",
      "어제: 49933, 오늘: 43925\n",
      "어제: 43925, 오늘: 35906\n",
      "어제: 35906, 오늘: 32451\n",
      "어제: 32451, 오늘: 29581\n",
      "어제: 29581, 오늘: 25434\n",
      "어제: 25434, 오늘: 13296\n",
      "[epoch: 0] loss: 0.0038666\n"
     ]
    }
   ],
   "source": [
    "for epoch in range(1):\n",
    "    running_loss = 0.0\n",
    "#     print(' 오늘')\n",
    "    for src, tgt in train_loader:\n",
    "        y_pred = baseline(src)\n",
    "        y_gt = tgt[:, :, -1]\n",
    "        print(f'어제: {round(y_pred.item() / 50 * 52739009)}, 오늘: {round(y_gt.item() / 50 * 52739009)}')\n",
    "        loss = criterion(y_pred, y_gt)\n",
    "        running_loss += loss.item()\n",
    "    loss_graph.append(running_loss / n)\n",
    "#     if epoch % 100 == 0:\n",
    "#         print(out, target)\n",
    "    print('[epoch: %d] loss: %.7f' % (epoch, running_loss/n))"
   ]
  },
  {
   "cell_type": "code",
   "execution_count": 80,
   "id": "f5355998",
   "metadata": {},
   "outputs": [
    {
     "name": "stdout",
     "output_type": "stream",
     "text": [
      "[epoch: 0] loss: 0.0001922\n"
     ]
    }
   ],
   "source": [
    "for epoch in range(1):\n",
    "    running_loss = 0.0\n",
    "    \n",
    "    for src, tgt in valid_loader:\n",
    "        y_pred = baseline(src)\n",
    "        y_gt = tgt[:, :, -1]\n",
    "#         print(round(y_pred.item() / 50 * 52739009), round(y_gt.item() / 50 * 52739009))\n",
    "        loss = criterion(y_pred, y_gt)\n",
    "        running_loss += loss.item()\n",
    "    loss_graph.append(running_loss / n)\n",
    "#     if epoch % 100 == 0:\n",
    "#         print(out, target)\n",
    "    print('[epoch: %d] loss: %.7f' % (epoch, running_loss/n))"
   ]
  },
  {
   "cell_type": "code",
   "execution_count": 82,
   "id": "82bd390d",
   "metadata": {},
   "outputs": [
    {
     "name": "stdout",
     "output_type": "stream",
     "text": [
      "[epoch: 0] loss: 0.0006242\n"
     ]
    }
   ],
   "source": [
    "for epoch in range(1):\n",
    "    running_loss = 0.0\n",
    "    \n",
    "    for src, tgt in test_loader:\n",
    "        y_pred = baseline(src)\n",
    "        y_gt = tgt[:, :, -1]\n",
    "#         print(round(y_pred.item() / 50 * 52739009), round(y_gt.item() / 50 * 52739009))\n",
    "        loss = criterion(y_pred, y_gt)\n",
    "        running_loss += loss.item()\n",
    "    loss_graph.append(running_loss / n)\n",
    "#     if epoch % 100 == 0:\n",
    "#         print(out, target)\n",
    "    print('[epoch: %d] loss: %.7f' % (epoch, running_loss/n))"
   ]
  },
  {
   "cell_type": "markdown",
   "id": "1a747fd5",
   "metadata": {},
   "source": [
    "### LSTM"
   ]
  },
  {
   "cell_type": "code",
   "execution_count": 68,
   "id": "a25fc842",
   "metadata": {},
   "outputs": [],
   "source": [
    "class LSTM(nn.Module):\n",
    "    def __init__(self, input_size, hidden_size, sequence_length, num_layers, device):\n",
    "        super(LSTM, self).__init__()\n",
    "        self.device = device\n",
    "        self.hidden_size = hidden_size\n",
    "        self.sequence_length = sequence_length\n",
    "        self.num_layers = num_layers\n",
    "        \n",
    "        self.lstm = nn.LSTM(input_size, hidden_size, num_layers=num_layers, batch_first=True)\n",
    "        self.fc = nn.Linear(hidden_size, 1, bias=True)\n",
    "#         self.act = nn.relu()\n",
    "    \n",
    "    def reset_hidden_state(self):\n",
    "        self.hidden = (\n",
    "                torch.zeros(self.num_layers, self.sequence_length, self.hidden_size),\n",
    "                torch.zeros(self.num_layers, self.sequence_length, self.hidden_size))\n",
    "    \n",
    "    def forward(self, x):\n",
    "        out, _status = self.lstm(x)\n",
    "        out = self.fc(out[:, -1]) # seq_len = 7이라 그 중 마지막 하나 뽑은거, # 다써서 해보기\n",
    "#         out = self.act(out) # 유행도 fc로하면 너무 들쭉 날쭉이라 노말라이징하고 그냥 시그모이드 넣어줌\n",
    "#         relu를 써서 해봐라\n",
    "#         print(out.shape)\n",
    "        return out"
   ]
  },
  {
   "cell_type": "code",
   "execution_count": 69,
   "id": "15164296",
   "metadata": {},
   "outputs": [
    {
     "data": {
      "text/plain": [
       "torch.Size([390, 21, 18])"
      ]
     },
     "execution_count": 69,
     "metadata": {},
     "output_type": "execute_result"
    }
   ],
   "source": [
    "train_src.shape"
   ]
  },
  {
   "cell_type": "code",
   "execution_count": 70,
   "id": "ecb38379",
   "metadata": {},
   "outputs": [],
   "source": [
    "train_y = train_y.view(-1, 1)"
   ]
  },
  {
   "cell_type": "code",
   "execution_count": 71,
   "id": "d750884b",
   "metadata": {},
   "outputs": [
    {
     "data": {
      "text/plain": [
       "torch.Size([390, 1])"
      ]
     },
     "execution_count": 71,
     "metadata": {},
     "output_type": "execute_result"
    }
   ],
   "source": [
    "train_y.shape"
   ]
  },
  {
   "cell_type": "code",
   "execution_count": 72,
   "id": "83ec6590",
   "metadata": {},
   "outputs": [],
   "source": [
    "input_size = train_src.size(2)\n",
    "num_layers = 2\n",
    "hidden_size = 1"
   ]
  },
  {
   "cell_type": "code",
   "execution_count": 73,
   "id": "e3b19fa1",
   "metadata": {},
   "outputs": [
    {
     "data": {
      "text/plain": [
       "(18, 1, 21, 2)"
      ]
     },
     "execution_count": 73,
     "metadata": {},
     "output_type": "execute_result"
    }
   ],
   "source": [
    "input_size, hidden_size, sequence_length, num_layers"
   ]
  },
  {
   "cell_type": "code",
   "execution_count": 74,
   "id": "16b29194",
   "metadata": {},
   "outputs": [],
   "source": [
    "lstm_model = LSTM(input_size=input_size,\n",
    "                   hidden_size=hidden_size,\n",
    "                   sequence_length=sequence_length,\n",
    "                   num_layers=num_layers,\n",
    "                   device=device).to(device)"
   ]
  },
  {
   "cell_type": "code",
   "execution_count": 75,
   "id": "652f501a",
   "metadata": {},
   "outputs": [],
   "source": [
    "num_epochs = 10000000\n",
    "optimizer = optim.Adam(lstm_model.parameters(), lr=1e-5)"
   ]
  },
  {
   "cell_type": "code",
   "execution_count": 76,
   "id": "c567a4f8",
   "metadata": {},
   "outputs": [
    {
     "data": {
      "text/plain": [
       "<All keys matched successfully>"
      ]
     },
     "execution_count": 76,
     "metadata": {},
     "output_type": "execute_result"
    }
   ],
   "source": [
    "lstm_model.load_state_dict(torch.load('model_ll_27000.pt'))"
   ]
  },
  {
   "cell_type": "code",
   "execution_count": 78,
   "id": "0304f418",
   "metadata": {},
   "outputs": [
    {
     "name": "stdout",
     "output_type": "stream",
     "text": [
      "[epoch: 0] loss: 0.0572776\n"
     ]
    }
   ],
   "source": [
    "lstm_model.eval()\n",
    "\n",
    "loss_graph = [] # 그래프 그릴 목적인 loss.\n",
    "n = len(valid_loader)\n",
    "\n",
    "for epoch in range(1):\n",
    "    running_loss = 0.0\n",
    "    \n",
    "    for data in valid_loader:\n",
    "        seq, target = data\n",
    "        lstm_model.reset_hidden_state()\n",
    "        \n",
    "        out = lstm_model(seq)\n",
    "        loss = criterion(out, target)\n",
    "        running_loss += loss.item()\n",
    "    loss_graph.append(running_loss / n)\n",
    "#     if epoch % 100 == 0:\n",
    "#         print(out, target)\n",
    "    print('[epoch: %d] loss: %.7f' % (epoch, running_loss/n))"
   ]
  },
  {
   "cell_type": "code",
   "execution_count": 79,
   "id": "99eb26d8",
   "metadata": {},
   "outputs": [
    {
     "name": "stdout",
     "output_type": "stream",
     "text": [
      "[epoch: 0] loss: 2.2275069\n"
     ]
    }
   ],
   "source": [
    "lstm_model.eval()\n",
    "\n",
    "loss_graph = [] # 그래프 그릴 목적인 loss.\n",
    "n = len(test_loader)\n",
    "\n",
    "for epoch in range(1):\n",
    "    running_loss = 0.0\n",
    "    \n",
    "    for data in test_loader:\n",
    "        seq, target = data\n",
    "        lstm_model.reset_hidden_state()\n",
    "        \n",
    "        out = lstm_model(seq)\n",
    "        loss = criterion(out, target)\n",
    "        running_loss += loss.item()\n",
    "    loss_graph.append(running_loss / n)\n",
    "#     if epoch % 100 == 0:\n",
    "#         print(out, target)\n",
    "    print('[epoch: %d] loss: %.7f' % (epoch, running_loss/n))"
   ]
  },
  {
   "cell_type": "code",
   "execution_count": 80,
   "id": "f5689a19",
   "metadata": {},
   "outputs": [],
   "source": [
    "right_url = \"http://apis.data.go.kr/1352000/ODMS_COVID_04/callCovid04Api?serviceKey=7hvnIPUUDLQVonGE4aJIyQrlylHljiClTenXST%2BFA7nEdL0x6kVtZ1S1SR3QIZfN7v2Bi4YCHxdBQEZi%2BZyKpA%3D%3D\""
   ]
  },
  {
   "cell_type": "code",
   "execution_count": 81,
   "id": "7bc1d388",
   "metadata": {},
   "outputs": [],
   "source": [
    "def get_dict(apikey, date):\n",
    "    url = f'http://apis.data.go.kr/1352000/ODMS_COVID_04/callCovid04Api?serviceKey={GOKR_APIKEY}&std_day={date}'\n",
    "    return xmltodict.parse(requests.get(url).text)"
   ]
  },
  {
   "cell_type": "code",
   "execution_count": 82,
   "id": "48d60976",
   "metadata": {},
   "outputs": [],
   "source": [
    "def get_rows_by_date(apikey, date):\n",
    "    rows = []\n",
    "    surveilance_dict = get_dict(apikey, date)\n",
    "    for i in surveilance_dict['response']['body']['items']['item']:\n",
    "        sido = i['gubun']\n",
    "        confirmed_total = i['defCnt']\n",
    "        confirmed_daily = i['incDec']\n",
    "        rows.append([date, sido, confirmed_total, confirmed_daily])\n",
    "    return rows"
   ]
  },
  {
   "cell_type": "code",
   "execution_count": 83,
   "id": "73564dbc",
   "metadata": {},
   "outputs": [
    {
     "data": {
      "text/plain": [
       "'52739009'"
      ]
     },
     "execution_count": 83,
     "metadata": {},
     "output_type": "execute_result"
    }
   ],
   "source": [
    "sido_population_dict['합계']"
   ]
  },
  {
   "cell_type": "code",
   "execution_count": 84,
   "id": "831ca1cc",
   "metadata": {},
   "outputs": [],
   "source": [
    "def get_df_surveilance(apikey, ed_dt):\n",
    "    st_dt = ed_dt - timedelta(days=7)\n",
    "    df_surveilance = pd.DataFrame([], columns=['date', 'sido', 'confirmed_total', 'confirmed_daily'])\n",
    "    \n",
    "    while st_dt <= ed_dt:\n",
    "        st_dt_str = st_dt.strftime('%Y-%m-%d')\n",
    "        \n",
    "        try:\n",
    "            rows = get_rows_by_date(apikey, st_dt_str)\n",
    "        except:\n",
    "#             st_dt += timedelta(days=1)\n",
    "            print('error, date:', st_dt_str)\n",
    "            break\n",
    "            \n",
    "        st_dt += timedelta(days=1)\n",
    "        for row in rows:\n",
    "            df_surveilance.loc[len(df_surveilance)] = row\n",
    "        print(st_dt_str)\n",
    "        \n",
    "    df_surveilance['surveilance'] = df_surveilance.apply(lambda x: f(x['sido'], x['confirmed_daily']), axis=1)\n",
    "    df_surveilance['surveilance'] = df_surveilance['surveilance'].apply(lambda x: 50*x)\n",
    "    df_surveilance = df_surveilance.sort_values('date')\n",
    "\n",
    "    input_arr = []\n",
    "    for date, df_bydate in df_surveilance.groupby('date'):\n",
    "        input_row = [0] * 19\n",
    "        input_row[0] = date\n",
    "        for sido, df_bysido in df_bydate.groupby('sido'):\n",
    "            try:\n",
    "    #             print(sido)\n",
    "    #             if sido == '합계': \n",
    "    #                 print(df_bysido['surveilance'].item())\n",
    "    #                 print(df_bydate[df_bydate['sido'] == '합계']['surveilance'].item())\n",
    "                input_row[sido_dict[sido]] = df_bysido['surveilance'].item()\n",
    "            except:\n",
    "                continue\n",
    "        input_arr.append(input_row)\n",
    "    input_data = torch.FloatTensor(np.array(input_arr)[:, 1:].astype(float))\n",
    "    x = input_data[:-1, :].view(1, -1, 18)\n",
    "    y = input_data[-1, -1].view(1, 1)\n",
    "    return x, y"
   ]
  },
  {
   "cell_type": "code",
   "execution_count": 85,
   "id": "eb3f4206",
   "metadata": {},
   "outputs": [],
   "source": [
    "# src, y_gt = get_df_surveilance(GOKR_APIKEY, datetime.today() - timedelta(3))\n"
   ]
  },
  {
   "cell_type": "code",
   "execution_count": 86,
   "id": "836e412c",
   "metadata": {},
   "outputs": [],
   "source": [
    "class RealtimeService:\n",
    "    def __init__(self, src, y_gt, *models):\n",
    "        self.models = models\n",
    "        self.src = src\n",
    "        self.y_gt = y_gt\n",
    "        self.criterion =  nn.MSELoss()\n",
    "    \n",
    "    def set_dataset(self, td):\n",
    "        print(timedelta)\n",
    "        src, y_gt = get_df_surveilance(GOKR_APIKEY, datetime.today() - timedelta(td))\n",
    "        self.src = src\n",
    "        self.y_gt = y_gt\n",
    "    \n",
    "    def show_models(self):\n",
    "        print(self.models)\n",
    "        \n",
    "    def online_prediction(self, model_idx):\n",
    "        model = self.models[model_idx]\n",
    "        if isinstance(model, TransformerModel):\n",
    "            tgt_ = self.src[:, -1, :].view(self.src.size(0), 1, -1)\n",
    "            y_pred = model(self.src, tgt_, 0).reshape(-1, 1)\n",
    "        else:\n",
    "            y_pred = model(self.src)\n",
    "        \n",
    "        return y_pred\n",
    "    \n",
    "    def get_loss(self, model_idx):\n",
    "        y_pred = online_prediction(model_idx)\n",
    "        return self.criterion(y_pred, self.y_gt)\n",
    "    \n",
    "    def get_models(self):\n",
    "        return self.models\n",
    "    \n",
    "    def get_confirmed_num(self, model_idx):\n",
    "        return round(self.online_prediction(model_idx).item() / 50 * 52739009)\n",
    "    \n",
    "    def get_gt_confrimed_num(self):\n",
    "        return round(self.y_gt.item() / 50 * 52739009)\n",
    "    \n",
    "    def convert_to_confirmed_num(self, surveilance):\n",
    "        return round(surveilance / 50 * 52739009)\n",
    "    \n",
    "    def display_confirmed_num(self, test_loader, test_date):\n",
    "        days = []\n",
    "        gt = []\n",
    "        bl_pred = []\n",
    "        bl_abs = []\n",
    "        lstm_pred = []\n",
    "        lstm_abs = []\n",
    "        tf_pred = []\n",
    "        tf_abs = []\n",
    "        \n",
    "        \n",
    "        for idx, data in enumerate(test_loader):\n",
    "#             if idx < 70: continue\n",
    "            seq, target = data\n",
    "            \n",
    "            baseline = self.models[0]\n",
    "            lstm_model = self.models[1]\n",
    "            transformer_model = self.models[2]\n",
    "            y_gt = target[:, :, -1]\n",
    "            \n",
    "            lstm_model.reset_hidden_state()\n",
    "            \n",
    "            baseline_out = baseline(seq)\n",
    "            lstm_out = lstm_model(seq)\n",
    "            \n",
    "            tgt_ = seq[:, -1, :].view(seq.size(0), 1, -1)\n",
    "            trasformer_out = transformer_model(seq, tgt_, 0).reshape(-1, 1)\n",
    "            y_gt = self.convert_to_confirmed_num(y_gt.item())\n",
    "            baseline_out = self.convert_to_confirmed_num(baseline_out.item())\n",
    "            lstm_out = self.convert_to_confirmed_num(lstm_out.item())\n",
    "            transformer_out = self.convert_to_confirmed_num(trasformer_out.item()) - 10000\n",
    "            days.append(test_date[idx][5:])\n",
    "            gt.append(y_gt)\n",
    "            \n",
    "            bl_pred.append(baseline_out)\n",
    "            bl_abs.append(abs(y_gt-baseline_out))\n",
    "            \n",
    "            lstm_pred.append(lstm_out)\n",
    "            lstm_abs.append(abs(y_gt-lstm_out))\n",
    "            \n",
    "            tf_pred.append(transformer_out)\n",
    "            tf_abs.append(abs(y_gt-transformer_out))\n",
    "        print(f'실제 확진자수: {sum(gt)}, baseline 확진자수: {sum(bl_pred)}, \\\n",
    "                lstm 확진자수: {sum(lstm_pred)}, transformer 확진자수: {sum(tf_pred)}')\n",
    "        \n",
    "        print(f'baseline 오차합: {sum(bl_abs)}, lstm 오차합: {sum(lstm_abs)}, transformer 오차합: {sum(tf_abs)}')\n",
    "        fig = plt.figure(figsize=(30,10))\n",
    "        fig.set_facecolor('white') \n",
    "        ax = fig.add_subplot()\n",
    "        ax.tick_params(labelrotation=45)\n",
    "        ax.plot(days,gt,marker='o',label='GROUND TRUTH', color='lightgrey')\n",
    "#         ax.plot(days,bl_pred,marker='o',label='BASELINE', color='dimgrey')\n",
    "#         ax.plot(days,lstm_pred,marker='o',label='LSTM', color='dimgrey')\n",
    "        ax.plot(days,tf_pred,marker='o',label='TRANSFORMER', color='dimgrey')\n",
    "#         ax.plot(days,bl_abs,marker='o',label='BASELINE', color='dimgrey')\n",
    "#         ax.plot(days,lstm_abs,marker='o',label='LSTM')\n",
    "#         ax.plot(days,tf_abs,marker='o',label='TRANSFORMER')\n",
    "        ax.legend()\n",
    "        fig.savefig('transformer.png')\n",
    "        \n",
    "#         plt.fill_between(days, gt, bl_pred, interpolate=True, alpha = 0.25)"
   ]
  },
  {
   "cell_type": "code",
   "execution_count": 87,
   "id": "b296c5b5",
   "metadata": {},
   "outputs": [],
   "source": [
    "rt_service = RealtimeService(src, y_gt, baseline, lstm_model, transformer_model)"
   ]
  },
  {
   "cell_type": "code",
   "execution_count": 88,
   "id": "b87ce61d",
   "metadata": {},
   "outputs": [],
   "source": [
    "import matplotlib.pyplot as plt"
   ]
  },
  {
   "cell_type": "code",
   "execution_count": 89,
   "id": "36dc759f",
   "metadata": {},
   "outputs": [],
   "source": [
    "# rt_service.display_period(test_loader, test_date)"
   ]
  },
  {
   "cell_type": "code",
   "execution_count": 90,
   "id": "09456103",
   "metadata": {
    "scrolled": false
   },
   "outputs": [
    {
     "name": "stdout",
     "output_type": "stream",
     "text": [
      "실제 확진자수: 5032184, baseline 확진자수: 5052965,                 lstm 확진자수: 113862162, transformer 확진자수: 2980181\n",
      "baseline 오차합: 1359403, lstm 오차합: 108829978, transformer 오차합: 2409261\n"
     ]
    },
    {
     "data": {
      "image/png": "[encoded data removed]",
      "text/plain": [
       "<Figure size 2160x720 with 1 Axes>"
      ]
     },
     "metadata": {},
     "output_type": "display_data"
    }
   ],
   "source": [
    "rt_service.display_confirmed_num(test_loader, test_date)"
   ]
  },
  {
   "cell_type": "code",
   "execution_count": null,
   "id": "b28bdedb",
   "metadata": {},
   "outputs": [],
   "source": []
  },
  {
   "cell_type": "code",
   "execution_count": 100,
   "id": "08f1e45c",
   "metadata": {},
   "outputs": [
    {
     "data": {
      "text/plain": [
       "(34511, 20721)"
      ]
     },
     "execution_count": 100,
     "metadata": {},
     "output_type": "execute_result"
    }
   ],
   "source": [
    "\n",
    "rt_service.get_gt_confrimed_num(), rt_service.get_confirmed_num(2)"
   ]
  },
  {
   "cell_type": "code",
   "execution_count": 91,
   "id": "359a9e1c",
   "metadata": {},
   "outputs": [],
   "source": [
    "days = []\n",
    "gt = []\n",
    "bl_pred = []\n",
    "lstm_pred = []\n",
    "tf_pred = []"
   ]
  },
  {
   "cell_type": "code",
   "execution_count": 92,
   "id": "0ef92f1e",
   "metadata": {},
   "outputs": [],
   "source": [
    "gt_old = gt\n",
    "bl_pred_old = bl_pred\n",
    "lstm_pred_old =lstm_pred\n",
    "tf_pred_old = tf_pred"
   ]
  },
  {
   "cell_type": "code",
   "execution_count": 93,
   "id": "ee38a513",
   "metadata": {},
   "outputs": [
    {
     "name": "stdout",
     "output_type": "stream",
     "text": [
      "<class 'datetime.timedelta'>\n",
      "2023-01-02\n",
      "2023-01-03\n",
      "2023-01-04\n",
      "2023-01-05\n",
      "2023-01-06\n",
      "2023-01-07\n",
      "2023-01-08\n",
      "2023-01-09\n",
      "<class 'datetime.timedelta'>\n",
      "2023-01-03\n",
      "2023-01-04\n",
      "2023-01-05\n",
      "2023-01-06\n",
      "2023-01-07\n",
      "2023-01-08\n",
      "2023-01-09\n",
      "2023-01-10\n",
      "<class 'datetime.timedelta'>\n",
      "2023-01-04\n",
      "2023-01-05\n",
      "2023-01-06\n",
      "2023-01-07\n",
      "2023-01-08\n",
      "2023-01-09\n",
      "2023-01-10\n",
      "2023-01-11\n",
      "<class 'datetime.timedelta'>\n",
      "error, date: 2023-01-05\n"
     ]
    },
    {
     "ename": "ValueError",
     "evalue": "Wrong number of items passed 4, placement implies 1",
     "output_type": "error",
     "traceback": [
      "\u001b[0;31m---------------------------------------------------------------------------\u001b[0m",
      "\u001b[0;31mKeyError\u001b[0m                                  Traceback (most recent call last)",
      "\u001b[0;32m~/anaconda3/envs/flu_screening/lib/python3.8/site-packages/pandas/core/indexes/base.py\u001b[0m in \u001b[0;36mget_loc\u001b[0;34m(self, key, method, tolerance)\u001b[0m\n\u001b[1;32m   3079\u001b[0m             \u001b[0;32mtry\u001b[0m\u001b[0;34m:\u001b[0m\u001b[0;34m\u001b[0m\u001b[0;34m\u001b[0m\u001b[0m\n\u001b[0;32m-> 3080\u001b[0;31m                 \u001b[0;32mreturn\u001b[0m \u001b[0mself\u001b[0m\u001b[0;34m.\u001b[0m\u001b[0m_engine\u001b[0m\u001b[0;34m.\u001b[0m\u001b[0mget_loc\u001b[0m\u001b[0;34m(\u001b[0m\u001b[0mcasted_key\u001b[0m\u001b[0;34m)\u001b[0m\u001b[0;34m\u001b[0m\u001b[0;34m\u001b[0m\u001b[0m\n\u001b[0m\u001b[1;32m   3081\u001b[0m             \u001b[0;32mexcept\u001b[0m \u001b[0mKeyError\u001b[0m \u001b[0;32mas\u001b[0m \u001b[0merr\u001b[0m\u001b[0;34m:\u001b[0m\u001b[0;34m\u001b[0m\u001b[0;34m\u001b[0m\u001b[0m\n",
      "\u001b[0;32mpandas/_libs/index.pyx\u001b[0m in \u001b[0;36mpandas._libs.index.IndexEngine.get_loc\u001b[0;34m()\u001b[0m\n",
      "\u001b[0;32mpandas/_libs/index.pyx\u001b[0m in \u001b[0;36mpandas._libs.index.IndexEngine.get_loc\u001b[0;34m()\u001b[0m\n",
      "\u001b[0;32mpandas/_libs/hashtable_class_helper.pxi\u001b[0m in \u001b[0;36mpandas._libs.hashtable.PyObjectHashTable.get_item\u001b[0;34m()\u001b[0m\n",
      "\u001b[0;32mpandas/_libs/hashtable_class_helper.pxi\u001b[0m in \u001b[0;36mpandas._libs.hashtable.PyObjectHashTable.get_item\u001b[0;34m()\u001b[0m\n",
      "\u001b[0;31mKeyError\u001b[0m: 'surveilance'",
      "\nThe above exception was the direct cause of the following exception:\n",
      "\u001b[0;31mKeyError\u001b[0m                                  Traceback (most recent call last)",
      "\u001b[0;32m~/anaconda3/envs/flu_screening/lib/python3.8/site-packages/pandas/core/generic.py\u001b[0m in \u001b[0;36m_set_item\u001b[0;34m(self, key, value)\u001b[0m\n\u001b[1;32m   3825\u001b[0m         \u001b[0;32mtry\u001b[0m\u001b[0;34m:\u001b[0m\u001b[0;34m\u001b[0m\u001b[0;34m\u001b[0m\u001b[0m\n\u001b[0;32m-> 3826\u001b[0;31m             \u001b[0mloc\u001b[0m \u001b[0;34m=\u001b[0m \u001b[0mself\u001b[0m\u001b[0;34m.\u001b[0m\u001b[0m_info_axis\u001b[0m\u001b[0;34m.\u001b[0m\u001b[0mget_loc\u001b[0m\u001b[0;34m(\u001b[0m\u001b[0mkey\u001b[0m\u001b[0;34m)\u001b[0m\u001b[0;34m\u001b[0m\u001b[0;34m\u001b[0m\u001b[0m\n\u001b[0m\u001b[1;32m   3827\u001b[0m         \u001b[0;32mexcept\u001b[0m \u001b[0mKeyError\u001b[0m\u001b[0;34m:\u001b[0m\u001b[0;34m\u001b[0m\u001b[0;34m\u001b[0m\u001b[0m\n",
      "\u001b[0;32m~/anaconda3/envs/flu_screening/lib/python3.8/site-packages/pandas/core/indexes/base.py\u001b[0m in \u001b[0;36mget_loc\u001b[0;34m(self, key, method, tolerance)\u001b[0m\n\u001b[1;32m   3081\u001b[0m             \u001b[0;32mexcept\u001b[0m \u001b[0mKeyError\u001b[0m \u001b[0;32mas\u001b[0m \u001b[0merr\u001b[0m\u001b[0;34m:\u001b[0m\u001b[0;34m\u001b[0m\u001b[0;34m\u001b[0m\u001b[0m\n\u001b[0;32m-> 3082\u001b[0;31m                 \u001b[0;32mraise\u001b[0m \u001b[0mKeyError\u001b[0m\u001b[0;34m(\u001b[0m\u001b[0mkey\u001b[0m\u001b[0;34m)\u001b[0m \u001b[0;32mfrom\u001b[0m \u001b[0merr\u001b[0m\u001b[0;34m\u001b[0m\u001b[0;34m\u001b[0m\u001b[0m\n\u001b[0m\u001b[1;32m   3083\u001b[0m \u001b[0;34m\u001b[0m\u001b[0m\n",
      "\u001b[0;31mKeyError\u001b[0m: 'surveilance'",
      "\nDuring handling of the above exception, another exception occurred:\n",
      "\u001b[0;31mValueError\u001b[0m                                Traceback (most recent call last)",
      "\u001b[0;32m<ipython-input-93-ca319ffd96b5>\u001b[0m in \u001b[0;36m<module>\u001b[0;34m\u001b[0m\n\u001b[1;32m      1\u001b[0m \u001b[0;32mfor\u001b[0m \u001b[0mi\u001b[0m \u001b[0;32min\u001b[0m \u001b[0mreversed\u001b[0m\u001b[0;34m(\u001b[0m\u001b[0mrange\u001b[0m\u001b[0;34m(\u001b[0m\u001b[0;36m30\u001b[0m\u001b[0;34m)\u001b[0m\u001b[0;34m)\u001b[0m\u001b[0;34m:\u001b[0m\u001b[0;34m\u001b[0m\u001b[0;34m\u001b[0m\u001b[0m\n\u001b[1;32m      2\u001b[0m     \u001b[0mdays\u001b[0m\u001b[0;34m.\u001b[0m\u001b[0mappend\u001b[0m\u001b[0;34m(\u001b[0m\u001b[0;34m(\u001b[0m\u001b[0mdatetime\u001b[0m\u001b[0;34m.\u001b[0m\u001b[0mtoday\u001b[0m\u001b[0;34m(\u001b[0m\u001b[0;34m)\u001b[0m \u001b[0;34m-\u001b[0m \u001b[0mtimedelta\u001b[0m\u001b[0;34m(\u001b[0m\u001b[0mi\u001b[0m\u001b[0;34m+\u001b[0m\u001b[0;36m1\u001b[0m\u001b[0;34m)\u001b[0m\u001b[0;34m)\u001b[0m\u001b[0;34m.\u001b[0m\u001b[0mstrftime\u001b[0m\u001b[0;34m(\u001b[0m\u001b[0;34m'%Y-%m-%d'\u001b[0m\u001b[0;34m)\u001b[0m\u001b[0;34m)\u001b[0m\u001b[0;34m\u001b[0m\u001b[0;34m\u001b[0m\u001b[0m\n\u001b[0;32m----> 3\u001b[0;31m     \u001b[0mrt_service\u001b[0m\u001b[0;34m.\u001b[0m\u001b[0mset_dataset\u001b[0m\u001b[0;34m(\u001b[0m\u001b[0mi\u001b[0m\u001b[0;34m)\u001b[0m\u001b[0;34m\u001b[0m\u001b[0;34m\u001b[0m\u001b[0m\n\u001b[0m\u001b[1;32m      4\u001b[0m     \u001b[0mgt\u001b[0m\u001b[0;34m.\u001b[0m\u001b[0mappend\u001b[0m\u001b[0;34m(\u001b[0m\u001b[0mrt_service\u001b[0m\u001b[0;34m.\u001b[0m\u001b[0mget_gt_confrimed_num\u001b[0m\u001b[0;34m(\u001b[0m\u001b[0;34m)\u001b[0m\u001b[0;34m)\u001b[0m\u001b[0;34m\u001b[0m\u001b[0;34m\u001b[0m\u001b[0m\n\u001b[1;32m      5\u001b[0m     \u001b[0mbl_pred\u001b[0m\u001b[0;34m.\u001b[0m\u001b[0mappend\u001b[0m\u001b[0;34m(\u001b[0m\u001b[0mrt_service\u001b[0m\u001b[0;34m.\u001b[0m\u001b[0mget_confirmed_num\u001b[0m\u001b[0;34m(\u001b[0m\u001b[0;36m0\u001b[0m\u001b[0;34m)\u001b[0m\u001b[0;34m)\u001b[0m\u001b[0;34m\u001b[0m\u001b[0;34m\u001b[0m\u001b[0m\n",
      "\u001b[0;32m<ipython-input-85-6d9f4070cd9d>\u001b[0m in \u001b[0;36mset_dataset\u001b[0;34m(self, td)\u001b[0m\n\u001b[1;32m      8\u001b[0m     \u001b[0;32mdef\u001b[0m \u001b[0mset_dataset\u001b[0m\u001b[0;34m(\u001b[0m\u001b[0mself\u001b[0m\u001b[0;34m,\u001b[0m \u001b[0mtd\u001b[0m\u001b[0;34m)\u001b[0m\u001b[0;34m:\u001b[0m\u001b[0;34m\u001b[0m\u001b[0;34m\u001b[0m\u001b[0m\n\u001b[1;32m      9\u001b[0m         \u001b[0mprint\u001b[0m\u001b[0;34m(\u001b[0m\u001b[0mtimedelta\u001b[0m\u001b[0;34m)\u001b[0m\u001b[0;34m\u001b[0m\u001b[0;34m\u001b[0m\u001b[0m\n\u001b[0;32m---> 10\u001b[0;31m         \u001b[0msrc\u001b[0m\u001b[0;34m,\u001b[0m \u001b[0my_gt\u001b[0m \u001b[0;34m=\u001b[0m \u001b[0mget_df_surveilance\u001b[0m\u001b[0;34m(\u001b[0m\u001b[0mGOKR_APIKEY\u001b[0m\u001b[0;34m,\u001b[0m \u001b[0mdatetime\u001b[0m\u001b[0;34m.\u001b[0m\u001b[0mtoday\u001b[0m\u001b[0;34m(\u001b[0m\u001b[0;34m)\u001b[0m \u001b[0;34m-\u001b[0m \u001b[0mtimedelta\u001b[0m\u001b[0;34m(\u001b[0m\u001b[0mtd\u001b[0m\u001b[0;34m)\u001b[0m\u001b[0;34m)\u001b[0m\u001b[0;34m\u001b[0m\u001b[0;34m\u001b[0m\u001b[0m\n\u001b[0m\u001b[1;32m     11\u001b[0m         \u001b[0mself\u001b[0m\u001b[0;34m.\u001b[0m\u001b[0msrc\u001b[0m \u001b[0;34m=\u001b[0m \u001b[0msrc\u001b[0m\u001b[0;34m\u001b[0m\u001b[0;34m\u001b[0m\u001b[0m\n\u001b[1;32m     12\u001b[0m         \u001b[0mself\u001b[0m\u001b[0;34m.\u001b[0m\u001b[0my_gt\u001b[0m \u001b[0;34m=\u001b[0m \u001b[0my_gt\u001b[0m\u001b[0;34m\u001b[0m\u001b[0;34m\u001b[0m\u001b[0m\n",
      "\u001b[0;32m<ipython-input-83-4d5cedccbadd>\u001b[0m in \u001b[0;36mget_df_surveilance\u001b[0;34m(apikey, ed_dt)\u001b[0m\n\u001b[1;32m     18\u001b[0m         \u001b[0mprint\u001b[0m\u001b[0;34m(\u001b[0m\u001b[0mst_dt_str\u001b[0m\u001b[0;34m)\u001b[0m\u001b[0;34m\u001b[0m\u001b[0;34m\u001b[0m\u001b[0m\n\u001b[1;32m     19\u001b[0m \u001b[0;34m\u001b[0m\u001b[0m\n\u001b[0;32m---> 20\u001b[0;31m     \u001b[0mdf_surveilance\u001b[0m\u001b[0;34m[\u001b[0m\u001b[0;34m'surveilance'\u001b[0m\u001b[0;34m]\u001b[0m \u001b[0;34m=\u001b[0m \u001b[0mdf_surveilance\u001b[0m\u001b[0;34m.\u001b[0m\u001b[0mapply\u001b[0m\u001b[0;34m(\u001b[0m\u001b[0;32mlambda\u001b[0m \u001b[0mx\u001b[0m\u001b[0;34m:\u001b[0m \u001b[0mf\u001b[0m\u001b[0;34m(\u001b[0m\u001b[0mx\u001b[0m\u001b[0;34m[\u001b[0m\u001b[0;34m'sido'\u001b[0m\u001b[0;34m]\u001b[0m\u001b[0;34m,\u001b[0m \u001b[0mx\u001b[0m\u001b[0;34m[\u001b[0m\u001b[0;34m'confirmed_daily'\u001b[0m\u001b[0;34m]\u001b[0m\u001b[0;34m)\u001b[0m\u001b[0;34m,\u001b[0m \u001b[0maxis\u001b[0m\u001b[0;34m=\u001b[0m\u001b[0;36m1\u001b[0m\u001b[0;34m)\u001b[0m\u001b[0;34m\u001b[0m\u001b[0;34m\u001b[0m\u001b[0m\n\u001b[0m\u001b[1;32m     21\u001b[0m     \u001b[0mdf_surveilance\u001b[0m\u001b[0;34m[\u001b[0m\u001b[0;34m'surveilance'\u001b[0m\u001b[0;34m]\u001b[0m \u001b[0;34m=\u001b[0m \u001b[0mdf_surveilance\u001b[0m\u001b[0;34m[\u001b[0m\u001b[0;34m'surveilance'\u001b[0m\u001b[0;34m]\u001b[0m\u001b[0;34m.\u001b[0m\u001b[0mapply\u001b[0m\u001b[0;34m(\u001b[0m\u001b[0;32mlambda\u001b[0m \u001b[0mx\u001b[0m\u001b[0;34m:\u001b[0m \u001b[0;36m50\u001b[0m\u001b[0;34m*\u001b[0m\u001b[0mx\u001b[0m\u001b[0;34m)\u001b[0m\u001b[0;34m\u001b[0m\u001b[0;34m\u001b[0m\u001b[0m\n\u001b[1;32m     22\u001b[0m     \u001b[0mdf_surveilance\u001b[0m \u001b[0;34m=\u001b[0m \u001b[0mdf_surveilance\u001b[0m\u001b[0;34m.\u001b[0m\u001b[0msort_values\u001b[0m\u001b[0;34m(\u001b[0m\u001b[0;34m'date'\u001b[0m\u001b[0;34m)\u001b[0m\u001b[0;34m\u001b[0m\u001b[0;34m\u001b[0m\u001b[0m\n",
      "\u001b[0;32m~/anaconda3/envs/flu_screening/lib/python3.8/site-packages/pandas/core/frame.py\u001b[0m in \u001b[0;36m__setitem__\u001b[0;34m(self, key, value)\u001b[0m\n\u001b[1;32m   3161\u001b[0m         \u001b[0;32melse\u001b[0m\u001b[0;34m:\u001b[0m\u001b[0;34m\u001b[0m\u001b[0;34m\u001b[0m\u001b[0m\n\u001b[1;32m   3162\u001b[0m             \u001b[0;31m# set column\u001b[0m\u001b[0;34m\u001b[0m\u001b[0;34m\u001b[0m\u001b[0;34m\u001b[0m\u001b[0m\n\u001b[0;32m-> 3163\u001b[0;31m             \u001b[0mself\u001b[0m\u001b[0;34m.\u001b[0m\u001b[0m_set_item\u001b[0m\u001b[0;34m(\u001b[0m\u001b[0mkey\u001b[0m\u001b[0;34m,\u001b[0m \u001b[0mvalue\u001b[0m\u001b[0;34m)\u001b[0m\u001b[0;34m\u001b[0m\u001b[0;34m\u001b[0m\u001b[0m\n\u001b[0m\u001b[1;32m   3164\u001b[0m \u001b[0;34m\u001b[0m\u001b[0m\n\u001b[1;32m   3165\u001b[0m     \u001b[0;32mdef\u001b[0m \u001b[0m_setitem_slice\u001b[0m\u001b[0;34m(\u001b[0m\u001b[0mself\u001b[0m\u001b[0;34m,\u001b[0m \u001b[0mkey\u001b[0m\u001b[0;34m:\u001b[0m \u001b[0mslice\u001b[0m\u001b[0;34m,\u001b[0m \u001b[0mvalue\u001b[0m\u001b[0;34m)\u001b[0m\u001b[0;34m:\u001b[0m\u001b[0;34m\u001b[0m\u001b[0;34m\u001b[0m\u001b[0m\n",
      "\u001b[0;32m~/anaconda3/envs/flu_screening/lib/python3.8/site-packages/pandas/core/frame.py\u001b[0m in \u001b[0;36m_set_item\u001b[0;34m(self, key, value)\u001b[0m\n\u001b[1;32m   3241\u001b[0m         \u001b[0mself\u001b[0m\u001b[0;34m.\u001b[0m\u001b[0m_ensure_valid_index\u001b[0m\u001b[0;34m(\u001b[0m\u001b[0mvalue\u001b[0m\u001b[0;34m)\u001b[0m\u001b[0;34m\u001b[0m\u001b[0;34m\u001b[0m\u001b[0m\n\u001b[1;32m   3242\u001b[0m         \u001b[0mvalue\u001b[0m \u001b[0;34m=\u001b[0m \u001b[0mself\u001b[0m\u001b[0;34m.\u001b[0m\u001b[0m_sanitize_column\u001b[0m\u001b[0;34m(\u001b[0m\u001b[0mkey\u001b[0m\u001b[0;34m,\u001b[0m \u001b[0mvalue\u001b[0m\u001b[0;34m)\u001b[0m\u001b[0;34m\u001b[0m\u001b[0;34m\u001b[0m\u001b[0m\n\u001b[0;32m-> 3243\u001b[0;31m         \u001b[0mNDFrame\u001b[0m\u001b[0;34m.\u001b[0m\u001b[0m_set_item\u001b[0m\u001b[0;34m(\u001b[0m\u001b[0mself\u001b[0m\u001b[0;34m,\u001b[0m \u001b[0mkey\u001b[0m\u001b[0;34m,\u001b[0m \u001b[0mvalue\u001b[0m\u001b[0;34m)\u001b[0m\u001b[0;34m\u001b[0m\u001b[0;34m\u001b[0m\u001b[0m\n\u001b[0m\u001b[1;32m   3244\u001b[0m \u001b[0;34m\u001b[0m\u001b[0m\n\u001b[1;32m   3245\u001b[0m         \u001b[0;31m# check if we are modifying a copy\u001b[0m\u001b[0;34m\u001b[0m\u001b[0;34m\u001b[0m\u001b[0;34m\u001b[0m\u001b[0m\n",
      "\u001b[0;32m~/anaconda3/envs/flu_screening/lib/python3.8/site-packages/pandas/core/generic.py\u001b[0m in \u001b[0;36m_set_item\u001b[0;34m(self, key, value)\u001b[0m\n\u001b[1;32m   3827\u001b[0m         \u001b[0;32mexcept\u001b[0m \u001b[0mKeyError\u001b[0m\u001b[0;34m:\u001b[0m\u001b[0;34m\u001b[0m\u001b[0;34m\u001b[0m\u001b[0m\n\u001b[1;32m   3828\u001b[0m             \u001b[0;31m# This item wasn't present, just insert at end\u001b[0m\u001b[0;34m\u001b[0m\u001b[0;34m\u001b[0m\u001b[0;34m\u001b[0m\u001b[0m\n\u001b[0;32m-> 3829\u001b[0;31m             \u001b[0mself\u001b[0m\u001b[0;34m.\u001b[0m\u001b[0m_mgr\u001b[0m\u001b[0;34m.\u001b[0m\u001b[0minsert\u001b[0m\u001b[0;34m(\u001b[0m\u001b[0mlen\u001b[0m\u001b[0;34m(\u001b[0m\u001b[0mself\u001b[0m\u001b[0;34m.\u001b[0m\u001b[0m_info_axis\u001b[0m\u001b[0;34m)\u001b[0m\u001b[0;34m,\u001b[0m \u001b[0mkey\u001b[0m\u001b[0;34m,\u001b[0m \u001b[0mvalue\u001b[0m\u001b[0;34m)\u001b[0m\u001b[0;34m\u001b[0m\u001b[0;34m\u001b[0m\u001b[0m\n\u001b[0m\u001b[1;32m   3830\u001b[0m             \u001b[0;32mreturn\u001b[0m\u001b[0;34m\u001b[0m\u001b[0;34m\u001b[0m\u001b[0m\n\u001b[1;32m   3831\u001b[0m \u001b[0;34m\u001b[0m\u001b[0m\n",
      "\u001b[0;32m~/anaconda3/envs/flu_screening/lib/python3.8/site-packages/pandas/core/internals/managers.py\u001b[0m in \u001b[0;36minsert\u001b[0;34m(self, loc, item, value, allow_duplicates)\u001b[0m\n\u001b[1;32m   1201\u001b[0m             \u001b[0mvalue\u001b[0m \u001b[0;34m=\u001b[0m \u001b[0msafe_reshape\u001b[0m\u001b[0;34m(\u001b[0m\u001b[0mvalue\u001b[0m\u001b[0;34m,\u001b[0m \u001b[0;34m(\u001b[0m\u001b[0;36m1\u001b[0m\u001b[0;34m,\u001b[0m\u001b[0;34m)\u001b[0m \u001b[0;34m+\u001b[0m \u001b[0mvalue\u001b[0m\u001b[0;34m.\u001b[0m\u001b[0mshape\u001b[0m\u001b[0;34m)\u001b[0m\u001b[0;34m\u001b[0m\u001b[0;34m\u001b[0m\u001b[0m\n\u001b[1;32m   1202\u001b[0m \u001b[0;34m\u001b[0m\u001b[0m\n\u001b[0;32m-> 1203\u001b[0;31m         \u001b[0mblock\u001b[0m \u001b[0;34m=\u001b[0m \u001b[0mmake_block\u001b[0m\u001b[0;34m(\u001b[0m\u001b[0mvalues\u001b[0m\u001b[0;34m=\u001b[0m\u001b[0mvalue\u001b[0m\u001b[0;34m,\u001b[0m \u001b[0mndim\u001b[0m\u001b[0;34m=\u001b[0m\u001b[0mself\u001b[0m\u001b[0;34m.\u001b[0m\u001b[0mndim\u001b[0m\u001b[0;34m,\u001b[0m \u001b[0mplacement\u001b[0m\u001b[0;34m=\u001b[0m\u001b[0mslice\u001b[0m\u001b[0;34m(\u001b[0m\u001b[0mloc\u001b[0m\u001b[0;34m,\u001b[0m \u001b[0mloc\u001b[0m \u001b[0;34m+\u001b[0m \u001b[0;36m1\u001b[0m\u001b[0;34m)\u001b[0m\u001b[0;34m)\u001b[0m\u001b[0;34m\u001b[0m\u001b[0;34m\u001b[0m\u001b[0m\n\u001b[0m\u001b[1;32m   1204\u001b[0m \u001b[0;34m\u001b[0m\u001b[0m\n\u001b[1;32m   1205\u001b[0m         \u001b[0;32mfor\u001b[0m \u001b[0mblkno\u001b[0m\u001b[0;34m,\u001b[0m \u001b[0mcount\u001b[0m \u001b[0;32min\u001b[0m \u001b[0m_fast_count_smallints\u001b[0m\u001b[0;34m(\u001b[0m\u001b[0mself\u001b[0m\u001b[0;34m.\u001b[0m\u001b[0mblknos\u001b[0m\u001b[0;34m[\u001b[0m\u001b[0mloc\u001b[0m\u001b[0;34m:\u001b[0m\u001b[0;34m]\u001b[0m\u001b[0;34m)\u001b[0m\u001b[0;34m:\u001b[0m\u001b[0;34m\u001b[0m\u001b[0;34m\u001b[0m\u001b[0m\n",
      "\u001b[0;32m~/anaconda3/envs/flu_screening/lib/python3.8/site-packages/pandas/core/internals/blocks.py\u001b[0m in \u001b[0;36mmake_block\u001b[0;34m(values, placement, klass, ndim, dtype)\u001b[0m\n\u001b[1;32m   2740\u001b[0m         \u001b[0mvalues\u001b[0m \u001b[0;34m=\u001b[0m \u001b[0mDatetimeArray\u001b[0m\u001b[0;34m.\u001b[0m\u001b[0m_simple_new\u001b[0m\u001b[0;34m(\u001b[0m\u001b[0mvalues\u001b[0m\u001b[0;34m,\u001b[0m \u001b[0mdtype\u001b[0m\u001b[0;34m=\u001b[0m\u001b[0mdtype\u001b[0m\u001b[0;34m)\u001b[0m\u001b[0;34m\u001b[0m\u001b[0;34m\u001b[0m\u001b[0m\n\u001b[1;32m   2741\u001b[0m \u001b[0;34m\u001b[0m\u001b[0m\n\u001b[0;32m-> 2742\u001b[0;31m     \u001b[0;32mreturn\u001b[0m \u001b[0mklass\u001b[0m\u001b[0;34m(\u001b[0m\u001b[0mvalues\u001b[0m\u001b[0;34m,\u001b[0m \u001b[0mndim\u001b[0m\u001b[0;34m=\u001b[0m\u001b[0mndim\u001b[0m\u001b[0;34m,\u001b[0m \u001b[0mplacement\u001b[0m\u001b[0;34m=\u001b[0m\u001b[0mplacement\u001b[0m\u001b[0;34m)\u001b[0m\u001b[0;34m\u001b[0m\u001b[0;34m\u001b[0m\u001b[0m\n\u001b[0m\u001b[1;32m   2743\u001b[0m \u001b[0;34m\u001b[0m\u001b[0m\n\u001b[1;32m   2744\u001b[0m \u001b[0;34m\u001b[0m\u001b[0m\n",
      "\u001b[0;32m~/anaconda3/envs/flu_screening/lib/python3.8/site-packages/pandas/core/internals/blocks.py\u001b[0m in \u001b[0;36m__init__\u001b[0;34m(self, values, placement, ndim)\u001b[0m\n\u001b[1;32m    140\u001b[0m \u001b[0;34m\u001b[0m\u001b[0m\n\u001b[1;32m    141\u001b[0m         \u001b[0;32mif\u001b[0m \u001b[0mself\u001b[0m\u001b[0;34m.\u001b[0m\u001b[0m_validate_ndim\u001b[0m \u001b[0;32mand\u001b[0m \u001b[0mself\u001b[0m\u001b[0;34m.\u001b[0m\u001b[0mndim\u001b[0m \u001b[0;32mand\u001b[0m \u001b[0mlen\u001b[0m\u001b[0;34m(\u001b[0m\u001b[0mself\u001b[0m\u001b[0;34m.\u001b[0m\u001b[0mmgr_locs\u001b[0m\u001b[0;34m)\u001b[0m \u001b[0;34m!=\u001b[0m \u001b[0mlen\u001b[0m\u001b[0;34m(\u001b[0m\u001b[0mself\u001b[0m\u001b[0;34m.\u001b[0m\u001b[0mvalues\u001b[0m\u001b[0;34m)\u001b[0m\u001b[0;34m:\u001b[0m\u001b[0;34m\u001b[0m\u001b[0;34m\u001b[0m\u001b[0m\n\u001b[0;32m--> 142\u001b[0;31m             raise ValueError(\n\u001b[0m\u001b[1;32m    143\u001b[0m                 \u001b[0;34mf\"Wrong number of items passed {len(self.values)}, \"\u001b[0m\u001b[0;34m\u001b[0m\u001b[0;34m\u001b[0m\u001b[0m\n\u001b[1;32m    144\u001b[0m                 \u001b[0;34mf\"placement implies {len(self.mgr_locs)}\"\u001b[0m\u001b[0;34m\u001b[0m\u001b[0;34m\u001b[0m\u001b[0m\n",
      "\u001b[0;31mValueError\u001b[0m: Wrong number of items passed 4, placement implies 1"
     ]
    }
   ],
   "source": [
    "for i in reversed(range(30)):\n",
    "    days.append((datetime.today() - timedelta(i+1)).strftime('%Y-%m-%d'))\n",
    "    rt_service.set_dataset(i)\n",
    "    gt.append(rt_service.get_gt_confrimed_num())\n",
    "    bl_pred.append(rt_service.get_confirmed_num(0))\n",
    "    lstm_pred.append(rt_service.get_confirmed_num(1))\n",
    "    tf_pred.append(rt_service.get_confirmed_num(2))"
   ]
  },
  {
   "cell_type": "code",
   "execution_count": null,
   "id": "ede56197",
   "metadata": {},
   "outputs": [],
   "source": [
    "len(days), len(gt)"
   ]
  },
  {
   "cell_type": "code",
   "execution_count": null,
   "id": "9b3fca33",
   "metadata": {},
   "outputs": [],
   "source": [
    "days = []\n",
    "for i in reversed(range(14)):\n",
    "    days.append((datetime.today() - timedelta(i+1)).strftime('%m-%d'))"
   ]
  },
  {
   "cell_type": "code",
   "execution_count": null,
   "id": "760d5e74",
   "metadata": {},
   "outputs": [],
   "source": [
    "import matplotlib.pyplot as plt\n",
    "\n",
    "fig = plt.figure(figsize=(10,10))\n",
    "fig.set_facecolor('white') \n",
    "ax = fig.add_subplot()\n",
    "ax.plot(days,gt,marker='o',label='A')\n",
    "ax.plot(days,bl_pred,marker='o',label='B')\n",
    "plt.fill_between(days, gt, bl_pred, interpolate=True, alpha = 0.25)"
   ]
  },
  {
   "cell_type": "code",
   "execution_count": null,
   "id": "a01b9f45",
   "metadata": {},
   "outputs": [],
   "source": [
    "fig = plt.figure(figsize=(10,10))\n",
    "fig.set_facecolor('white') \n",
    "ax = fig.add_subplot()\n",
    "ax.plot(days,gt,marker='o',label='A')\n",
    "ax.plot(days,lstm_pred,marker='o',label='C')\n",
    "plt.fill_between(days, gt, lstm_pred, interpolate=True, alpha = 0.25)"
   ]
  },
  {
   "cell_type": "code",
   "execution_count": null,
   "id": "92b6e4c2",
   "metadata": {},
   "outputs": [],
   "source": [
    "fig = plt.figure(figsize=(10,10))\n",
    "fig.set_facecolor('white') \n",
    "ax = fig.add_subplot()\n",
    "ax.plot(days,gt,marker='o',label='A')\n",
    "ax.plot(days,tf_pred,marker='o',label='D')\n",
    "plt.fill_between(days, gt, tf_pred, interpolate=True, alpha = 0.25)"
   ]
  },
  {
   "cell_type": "code",
   "execution_count": null,
   "id": "9d59d195",
   "metadata": {},
   "outputs": [],
   "source": []
  }
 ],
 "metadata": {
  "kernelspec": {
   "display_name": "Python 3",
   "language": "python",
   "name": "python3"
  },
  "language_info": {
   "codemirror_mode": {
    "name": "ipython",
    "version": 3
   },
   "file_extension": ".py",
   "mimetype": "text/x-python",
   "name": "python",
   "nbconvert_exporter": "python",
   "pygments_lexer": "ipython3",
   "version": "3.8.10"
  }
 },
 "nbformat": 4,
 "nbformat_minor": 5
}
