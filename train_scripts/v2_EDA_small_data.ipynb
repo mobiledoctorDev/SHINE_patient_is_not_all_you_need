{
 "cells": [
  {
   "cell_type": "code",
   "execution_count": 9,
   "id": "5bade20c",
   "metadata": {},
   "outputs": [],
   "source": [
    "import os\n",
    "import pandas as pd\n",
    "import numpy as np\n",
    "\n",
    "pd.set_option(\"display.max_rows\", 1000)\n",
    "pd.set_option('display.max_columns', 100)\n"
   ]
  },
  {
   "cell_type": "code",
   "execution_count": 10,
   "id": "9f10541a",
   "metadata": {},
   "outputs": [
    {
     "name": "stdout",
     "output_type": "stream",
     "text": [
      "['/Users/mckim/anaconda3/envs/py36/lib/python36.zip', '/Users/mckim/anaconda3/envs/py36/lib/python3.6', '/Users/mckim/anaconda3/envs/py36/lib/python3.6/lib-dynload', '', '/Users/mckim/anaconda3/envs/py36/lib/python3.6/site-packages', '/Users/mckim/anaconda3/envs/py36/lib/python3.6/site-packages/IPython/extensions', '/Users/mckim/.ipython']\n"
     ]
    }
   ],
   "source": [
    "import sys\n",
    "\n",
    "sys.path.append(\"..\")\n",
    "from mc_lib.utils import size_and_ratio\n",
    "sys.path.remove(\"..\")\n",
    "print(sys.path)"
   ]
  },
  {
   "cell_type": "code",
   "execution_count": 3,
   "id": "b7f75cd9",
   "metadata": {},
   "outputs": [
    {
     "data": {
      "text/plain": [
       "(584874, 23)"
      ]
     },
     "execution_count": 3,
     "metadata": {},
     "output_type": "execute_result"
    }
   ],
   "source": [
    "\n",
    "\n",
    "df_small = pd.read_csv(\"../v2/data/md_data_1percent_sampled_seed_1212.csv\", dtype=str)\n",
    "df_small.shape"
   ]
  },
  {
   "cell_type": "code",
   "execution_count": 4,
   "id": "8da562a5",
   "metadata": {},
   "outputs": [
    {
     "data": {
      "text/html": [
       "<div>\n",
       "<style scoped>\n",
       "    .dataframe tbody tr th:only-of-type {\n",
       "        vertical-align: middle;\n",
       "    }\n",
       "\n",
       "    .dataframe tbody tr th {\n",
       "        vertical-align: top;\n",
       "    }\n",
       "\n",
       "    .dataframe thead th {\n",
       "        text-align: right;\n",
       "    }\n",
       "</style>\n",
       "<table border=\"1\" class=\"dataframe\">\n",
       "  <thead>\n",
       "    <tr style=\"text-align: right;\">\n",
       "      <th></th>\n",
       "      <th>_id</th>\n",
       "      <th>baby_id</th>\n",
       "      <th>date</th>\n",
       "      <th>type</th>\n",
       "      <th>data_1</th>\n",
       "      <th>data_2</th>\n",
       "      <th>data_3</th>\n",
       "      <th>data_4</th>\n",
       "      <th>data_5</th>\n",
       "      <th>data_6</th>\n",
       "      <th>...</th>\n",
       "      <th>is_test</th>\n",
       "      <th>is_delete</th>\n",
       "      <th>weight</th>\n",
       "      <th>gender</th>\n",
       "      <th>birthday</th>\n",
       "      <th>convulsion</th>\n",
       "      <th>group_id</th>\n",
       "      <th>lat</th>\n",
       "      <th>lng</th>\n",
       "      <th>last_update_de</th>\n",
       "    </tr>\n",
       "  </thead>\n",
       "  <tbody>\n",
       "    <tr>\n",
       "      <th>count</th>\n",
       "      <td>584874</td>\n",
       "      <td>584874</td>\n",
       "      <td>584874</td>\n",
       "      <td>584874</td>\n",
       "      <td>584858</td>\n",
       "      <td>495099</td>\n",
       "      <td>109264</td>\n",
       "      <td>373821</td>\n",
       "      <td>45617</td>\n",
       "      <td>371</td>\n",
       "      <td>...</td>\n",
       "      <td>584874</td>\n",
       "      <td>584874</td>\n",
       "      <td>584700</td>\n",
       "      <td>290329</td>\n",
       "      <td>584874</td>\n",
       "      <td>584874</td>\n",
       "      <td>67046</td>\n",
       "      <td>100888</td>\n",
       "      <td>100888</td>\n",
       "      <td>364534</td>\n",
       "    </tr>\n",
       "    <tr>\n",
       "      <th>unique</th>\n",
       "      <td>584840</td>\n",
       "      <td>8984</td>\n",
       "      <td>562988</td>\n",
       "      <td>7</td>\n",
       "      <td>23095</td>\n",
       "      <td>18083</td>\n",
       "      <td>469</td>\n",
       "      <td>236</td>\n",
       "      <td>1857</td>\n",
       "      <td>99</td>\n",
       "      <td>...</td>\n",
       "      <td>1</td>\n",
       "      <td>1</td>\n",
       "      <td>522</td>\n",
       "      <td>5</td>\n",
       "      <td>4497</td>\n",
       "      <td>4</td>\n",
       "      <td>66369</td>\n",
       "      <td>32627</td>\n",
       "      <td>10274</td>\n",
       "      <td>355325</td>\n",
       "    </tr>\n",
       "    <tr>\n",
       "      <th>top</th>\n",
       "      <td>22416616</td>\n",
       "      <td>19344</td>\n",
       "      <td>2021-05-29 00:15:08</td>\n",
       "      <td>1</td>\n",
       "      <td>0</td>\n",
       "      <td>C</td>\n",
       "      <td>1</td>\n",
       "      <td>0</td>\n",
       "      <td>맥시부펜</td>\n",
       "      <td>2.0</td>\n",
       "      <td>...</td>\n",
       "      <td>0</td>\n",
       "      <td>0</td>\n",
       "      <td>11.0</td>\n",
       "      <td>0</td>\n",
       "      <td>2016-11-24 00:00:00</td>\n",
       "      <td>0</td>\n",
       "      <td>20210529200656</td>\n",
       "      <td>37.52981</td>\n",
       "      <td>126.9378</td>\n",
       "      <td>2020-02-15 20:37:51</td>\n",
       "    </tr>\n",
       "    <tr>\n",
       "      <th>freq</th>\n",
       "      <td>2</td>\n",
       "      <td>5528</td>\n",
       "      <td>43</td>\n",
       "      <td>344461</td>\n",
       "      <td>105792</td>\n",
       "      <td>341461</td>\n",
       "      <td>94681</td>\n",
       "      <td>267074</td>\n",
       "      <td>8287</td>\n",
       "      <td>76</td>\n",
       "      <td>...</td>\n",
       "      <td>584874</td>\n",
       "      <td>584874</td>\n",
       "      <td>17489</td>\n",
       "      <td>114048</td>\n",
       "      <td>3634</td>\n",
       "      <td>428943</td>\n",
       "      <td>13</td>\n",
       "      <td>430</td>\n",
       "      <td>527</td>\n",
       "      <td>79</td>\n",
       "    </tr>\n",
       "  </tbody>\n",
       "</table>\n",
       "<p>4 rows × 23 columns</p>\n",
       "</div>"
      ],
      "text/plain": [
       "             _id baby_id                 date    type  data_1  data_2  data_3  \\\n",
       "count     584874  584874               584874  584874  584858  495099  109264   \n",
       "unique    584840    8984               562988       7   23095   18083     469   \n",
       "top     22416616   19344  2021-05-29 00:15:08       1       0       C       1   \n",
       "freq           2    5528                   43  344461  105792  341461   94681   \n",
       "\n",
       "        data_4 data_5 data_6  ... is_test is_delete  weight  gender  \\\n",
       "count   373821  45617    371  ...  584874    584874  584700  290329   \n",
       "unique     236   1857     99  ...       1         1     522       5   \n",
       "top          0   맥시부펜    2.0  ...       0         0    11.0       0   \n",
       "freq    267074   8287     76  ...  584874    584874   17489  114048   \n",
       "\n",
       "                   birthday convulsion        group_id       lat       lng  \\\n",
       "count                584874     584874           67046    100888    100888   \n",
       "unique                 4497          4           66369     32627     10274   \n",
       "top     2016-11-24 00:00:00          0  20210529200656  37.52981  126.9378   \n",
       "freq                   3634     428943              13       430       527   \n",
       "\n",
       "             last_update_de  \n",
       "count                364534  \n",
       "unique               355325  \n",
       "top     2020-02-15 20:37:51  \n",
       "freq                     79  \n",
       "\n",
       "[4 rows x 23 columns]"
      ]
     },
     "execution_count": 4,
     "metadata": {},
     "output_type": "execute_result"
    }
   ],
   "source": [
    "df_small.describe()"
   ]
  },
  {
   "cell_type": "markdown",
   "id": "60f714d8",
   "metadata": {},
   "source": [
    "# Check type\n",
    "1=체온, 2=해열제, 3=결과레포트(열나요조언), 4=memo (증상, 진단)"
   ]
  },
  {
   "cell_type": "code",
   "execution_count": 12,
   "id": "07e72f3e",
   "metadata": {
    "scrolled": false
   },
   "outputs": [
    {
     "name": "stdout",
     "output_type": "stream",
     "text": [
      "Sum : 584874 (7,)\n"
     ]
    },
    {
     "data": {
      "text/html": [
       "<div>\n",
       "<style scoped>\n",
       "    .dataframe tbody tr th:only-of-type {\n",
       "        vertical-align: middle;\n",
       "    }\n",
       "\n",
       "    .dataframe tbody tr th {\n",
       "        vertical-align: top;\n",
       "    }\n",
       "\n",
       "    .dataframe thead th {\n",
       "        text-align: right;\n",
       "    }\n",
       "</style>\n",
       "<table border=\"1\" class=\"dataframe\">\n",
       "  <thead>\n",
       "    <tr style=\"text-align: right;\">\n",
       "      <th></th>\n",
       "      <th>size</th>\n",
       "      <th>ratio</th>\n",
       "    </tr>\n",
       "    <tr>\n",
       "      <th>type</th>\n",
       "      <th></th>\n",
       "      <th></th>\n",
       "    </tr>\n",
       "  </thead>\n",
       "  <tbody>\n",
       "    <tr>\n",
       "      <th>1</th>\n",
       "      <td>344461</td>\n",
       "      <td>0.588949</td>\n",
       "    </tr>\n",
       "    <tr>\n",
       "      <th>2</th>\n",
       "      <td>110393</td>\n",
       "      <td>0.188747</td>\n",
       "    </tr>\n",
       "    <tr>\n",
       "      <th>3</th>\n",
       "      <td>91107</td>\n",
       "      <td>0.155772</td>\n",
       "    </tr>\n",
       "    <tr>\n",
       "      <th>7</th>\n",
       "      <td>22397</td>\n",
       "      <td>0.038294</td>\n",
       "    </tr>\n",
       "    <tr>\n",
       "      <th>4</th>\n",
       "      <td>14129</td>\n",
       "      <td>0.024157</td>\n",
       "    </tr>\n",
       "    <tr>\n",
       "      <th>101</th>\n",
       "      <td>2254</td>\n",
       "      <td>0.003854</td>\n",
       "    </tr>\n",
       "    <tr>\n",
       "      <th>102</th>\n",
       "      <td>133</td>\n",
       "      <td>0.000227</td>\n",
       "    </tr>\n",
       "  </tbody>\n",
       "</table>\n",
       "</div>"
      ],
      "text/plain": [
       "        size     ratio\n",
       "type                  \n",
       "1     344461  0.588949\n",
       "2     110393  0.188747\n",
       "3      91107  0.155772\n",
       "7      22397  0.038294\n",
       "4      14129  0.024157\n",
       "101     2254  0.003854\n",
       "102      133  0.000227"
      ]
     },
     "metadata": {},
     "output_type": "display_data"
    }
   ],
   "source": [
    "display(size_and_ratio(df_small, 'type'))"
   ]
  },
  {
   "cell_type": "markdown",
   "id": "f6fab01f",
   "metadata": {},
   "source": [
    "# 성별\n",
    "0=남자 , 1=여자"
   ]
  },
  {
   "cell_type": "code",
   "execution_count": 13,
   "id": "4dd61788",
   "metadata": {},
   "outputs": [
    {
     "name": "stdout",
     "output_type": "stream",
     "text": [
      "Sum : 290329 (5,)\n"
     ]
    },
    {
     "data": {
      "text/html": [
       "<div>\n",
       "<style scoped>\n",
       "    .dataframe tbody tr th:only-of-type {\n",
       "        vertical-align: middle;\n",
       "    }\n",
       "\n",
       "    .dataframe tbody tr th {\n",
       "        vertical-align: top;\n",
       "    }\n",
       "\n",
       "    .dataframe thead th {\n",
       "        text-align: right;\n",
       "    }\n",
       "</style>\n",
       "<table border=\"1\" class=\"dataframe\">\n",
       "  <thead>\n",
       "    <tr style=\"text-align: right;\">\n",
       "      <th></th>\n",
       "      <th>size</th>\n",
       "      <th>ratio</th>\n",
       "    </tr>\n",
       "    <tr>\n",
       "      <th>gender</th>\n",
       "      <th></th>\n",
       "      <th></th>\n",
       "    </tr>\n",
       "  </thead>\n",
       "  <tbody>\n",
       "    <tr>\n",
       "      <th>0</th>\n",
       "      <td>114048</td>\n",
       "      <td>0.392823</td>\n",
       "    </tr>\n",
       "    <tr>\n",
       "      <th>1</th>\n",
       "      <td>106292</td>\n",
       "      <td>0.366109</td>\n",
       "    </tr>\n",
       "    <tr>\n",
       "      <th>1.0</th>\n",
       "      <td>36200</td>\n",
       "      <td>0.124686</td>\n",
       "    </tr>\n",
       "    <tr>\n",
       "      <th>0.0</th>\n",
       "      <td>33543</td>\n",
       "      <td>0.115534</td>\n",
       "    </tr>\n",
       "    <tr>\n",
       "      <th>-1.0</th>\n",
       "      <td>246</td>\n",
       "      <td>0.000847</td>\n",
       "    </tr>\n",
       "  </tbody>\n",
       "</table>\n",
       "</div>"
      ],
      "text/plain": [
       "          size     ratio\n",
       "gender                  \n",
       "0       114048  0.392823\n",
       "1       106292  0.366109\n",
       "1.0      36200  0.124686\n",
       "0.0      33543  0.115534\n",
       "-1.0       246  0.000847"
      ]
     },
     "metadata": {},
     "output_type": "display_data"
    }
   ],
   "source": [
    "display(size_and_ratio(df_small, 'gender'))"
   ]
  },
  {
   "cell_type": "code",
   "execution_count": 26,
   "id": "0b924344",
   "metadata": {},
   "outputs": [
    {
     "name": "stdout",
     "output_type": "stream",
     "text": [
      "Sum : 290329 (3,)\n"
     ]
    },
    {
     "data": {
      "text/html": [
       "<div>\n",
       "<style scoped>\n",
       "    .dataframe tbody tr th:only-of-type {\n",
       "        vertical-align: middle;\n",
       "    }\n",
       "\n",
       "    .dataframe tbody tr th {\n",
       "        vertical-align: top;\n",
       "    }\n",
       "\n",
       "    .dataframe thead th {\n",
       "        text-align: right;\n",
       "    }\n",
       "</style>\n",
       "<table border=\"1\" class=\"dataframe\">\n",
       "  <thead>\n",
       "    <tr style=\"text-align: right;\">\n",
       "      <th></th>\n",
       "      <th>size</th>\n",
       "      <th>ratio</th>\n",
       "    </tr>\n",
       "    <tr>\n",
       "      <th>gender</th>\n",
       "      <th></th>\n",
       "      <th></th>\n",
       "    </tr>\n",
       "  </thead>\n",
       "  <tbody>\n",
       "    <tr>\n",
       "      <th>0.0</th>\n",
       "      <td>147591</td>\n",
       "      <td>0.508358</td>\n",
       "    </tr>\n",
       "    <tr>\n",
       "      <th>1.0</th>\n",
       "      <td>142492</td>\n",
       "      <td>0.490795</td>\n",
       "    </tr>\n",
       "    <tr>\n",
       "      <th>-1.0</th>\n",
       "      <td>246</td>\n",
       "      <td>0.000847</td>\n",
       "    </tr>\n",
       "  </tbody>\n",
       "</table>\n",
       "</div>"
      ],
      "text/plain": [
       "          size     ratio\n",
       "gender                  \n",
       " 0.0    147591  0.508358\n",
       " 1.0    142492  0.490795\n",
       "-1.0       246  0.000847"
      ]
     },
     "metadata": {},
     "output_type": "display_data"
    }
   ],
   "source": [
    "df_small['gender'] = df_small['gender'].astype(float)\n",
    "\n",
    "display(size_and_ratio(df_small, 'gender'))"
   ]
  },
  {
   "cell_type": "markdown",
   "id": "e316b576",
   "metadata": {},
   "source": [
    "# Birthday"
   ]
  },
  {
   "cell_type": "code",
   "execution_count": 27,
   "id": "9f3ea100",
   "metadata": {},
   "outputs": [
    {
     "name": "stdout",
     "output_type": "stream",
     "text": [
      "Sum : 584874 (4497,)\n"
     ]
    },
    {
     "data": {
      "text/html": [
       "<div>\n",
       "<style scoped>\n",
       "    .dataframe tbody tr th:only-of-type {\n",
       "        vertical-align: middle;\n",
       "    }\n",
       "\n",
       "    .dataframe tbody tr th {\n",
       "        vertical-align: top;\n",
       "    }\n",
       "\n",
       "    .dataframe thead th {\n",
       "        text-align: right;\n",
       "    }\n",
       "</style>\n",
       "<table border=\"1\" class=\"dataframe\">\n",
       "  <thead>\n",
       "    <tr style=\"text-align: right;\">\n",
       "      <th></th>\n",
       "      <th>size</th>\n",
       "      <th>ratio</th>\n",
       "    </tr>\n",
       "    <tr>\n",
       "      <th>birthday</th>\n",
       "      <th></th>\n",
       "      <th></th>\n",
       "    </tr>\n",
       "  </thead>\n",
       "  <tbody>\n",
       "    <tr>\n",
       "      <th>2016-11-24 00:00:00</th>\n",
       "      <td>3634</td>\n",
       "      <td>0.006213</td>\n",
       "    </tr>\n",
       "    <tr>\n",
       "      <th>2016-11-24</th>\n",
       "      <td>2317</td>\n",
       "      <td>0.003962</td>\n",
       "    </tr>\n",
       "    <tr>\n",
       "      <th>2019-04-23</th>\n",
       "      <td>1852</td>\n",
       "      <td>0.003166</td>\n",
       "    </tr>\n",
       "    <tr>\n",
       "      <th>2016-08-21 00:00:00</th>\n",
       "      <td>1698</td>\n",
       "      <td>0.002903</td>\n",
       "    </tr>\n",
       "    <tr>\n",
       "      <th>2017-05-02</th>\n",
       "      <td>1349</td>\n",
       "      <td>0.002306</td>\n",
       "    </tr>\n",
       "    <tr>\n",
       "      <th>...</th>\n",
       "      <td>...</td>\n",
       "      <td>...</td>\n",
       "    </tr>\n",
       "    <tr>\n",
       "      <th>1996-05-09</th>\n",
       "      <td>1</td>\n",
       "      <td>0.000002</td>\n",
       "    </tr>\n",
       "    <tr>\n",
       "      <th>2021-03-13</th>\n",
       "      <td>1</td>\n",
       "      <td>0.000002</td>\n",
       "    </tr>\n",
       "    <tr>\n",
       "      <th>1993-01-16</th>\n",
       "      <td>1</td>\n",
       "      <td>0.000002</td>\n",
       "    </tr>\n",
       "    <tr>\n",
       "      <th>1992-12-18</th>\n",
       "      <td>1</td>\n",
       "      <td>0.000002</td>\n",
       "    </tr>\n",
       "    <tr>\n",
       "      <th>2021-05-27</th>\n",
       "      <td>1</td>\n",
       "      <td>0.000002</td>\n",
       "    </tr>\n",
       "  </tbody>\n",
       "</table>\n",
       "<p>4497 rows × 2 columns</p>\n",
       "</div>"
      ],
      "text/plain": [
       "                     size     ratio\n",
       "birthday                           \n",
       "2016-11-24 00:00:00  3634  0.006213\n",
       "2016-11-24           2317  0.003962\n",
       "2019-04-23           1852  0.003166\n",
       "2016-08-21 00:00:00  1698  0.002903\n",
       "2017-05-02           1349  0.002306\n",
       "...                   ...       ...\n",
       "1996-05-09              1  0.000002\n",
       "2021-03-13              1  0.000002\n",
       "1993-01-16              1  0.000002\n",
       "1992-12-18              1  0.000002\n",
       "2021-05-27              1  0.000002\n",
       "\n",
       "[4497 rows x 2 columns]"
      ]
     },
     "metadata": {},
     "output_type": "display_data"
    }
   ],
   "source": [
    "display(size_and_ratio(df_small, 'birthday'))"
   ]
  },
  {
   "cell_type": "markdown",
   "id": "27c9417e",
   "metadata": {},
   "source": [
    "# Convulsion\n"
   ]
  },
  {
   "cell_type": "code",
   "execution_count": 31,
   "id": "c68dab6a",
   "metadata": {
    "scrolled": false
   },
   "outputs": [
    {
     "name": "stdout",
     "output_type": "stream",
     "text": [
      "Sum : 584874 (2,)\n"
     ]
    },
    {
     "data": {
      "text/html": [
       "<div>\n",
       "<style scoped>\n",
       "    .dataframe tbody tr th:only-of-type {\n",
       "        vertical-align: middle;\n",
       "    }\n",
       "\n",
       "    .dataframe tbody tr th {\n",
       "        vertical-align: top;\n",
       "    }\n",
       "\n",
       "    .dataframe thead th {\n",
       "        text-align: right;\n",
       "    }\n",
       "</style>\n",
       "<table border=\"1\" class=\"dataframe\">\n",
       "  <thead>\n",
       "    <tr style=\"text-align: right;\">\n",
       "      <th></th>\n",
       "      <th>size</th>\n",
       "      <th>ratio</th>\n",
       "    </tr>\n",
       "    <tr>\n",
       "      <th>convulsion</th>\n",
       "      <th></th>\n",
       "      <th></th>\n",
       "    </tr>\n",
       "  </thead>\n",
       "  <tbody>\n",
       "    <tr>\n",
       "      <th>0.0</th>\n",
       "      <td>488836</td>\n",
       "      <td>0.835797</td>\n",
       "    </tr>\n",
       "    <tr>\n",
       "      <th>1.0</th>\n",
       "      <td>96038</td>\n",
       "      <td>0.164203</td>\n",
       "    </tr>\n",
       "  </tbody>\n",
       "</table>\n",
       "</div>"
      ],
      "text/plain": [
       "              size     ratio\n",
       "convulsion                  \n",
       "0.0         488836  0.835797\n",
       "1.0          96038  0.164203"
      ]
     },
     "metadata": {},
     "output_type": "display_data"
    }
   ],
   "source": [
    "df_small['convulsion'] = df_small['convulsion'].astype(float)\n",
    "display(size_and_ratio(df_small, 'convulsion', dropna=False))"
   ]
  },
  {
   "cell_type": "code",
   "execution_count": 32,
   "id": "35c74864",
   "metadata": {},
   "outputs": [
    {
     "name": "stdout",
     "output_type": "stream",
     "text": [
      "Sum : 584874 (7,)\n"
     ]
    },
    {
     "data": {
      "text/html": [
       "<div>\n",
       "<style scoped>\n",
       "    .dataframe tbody tr th:only-of-type {\n",
       "        vertical-align: middle;\n",
       "    }\n",
       "\n",
       "    .dataframe tbody tr th {\n",
       "        vertical-align: top;\n",
       "    }\n",
       "\n",
       "    .dataframe thead th {\n",
       "        text-align: right;\n",
       "    }\n",
       "</style>\n",
       "<table border=\"1\" class=\"dataframe\">\n",
       "  <thead>\n",
       "    <tr style=\"text-align: right;\">\n",
       "      <th></th>\n",
       "      <th></th>\n",
       "      <th>size</th>\n",
       "      <th>ratio</th>\n",
       "    </tr>\n",
       "    <tr>\n",
       "      <th>convulsion</th>\n",
       "      <th>gender</th>\n",
       "      <th></th>\n",
       "      <th></th>\n",
       "    </tr>\n",
       "  </thead>\n",
       "  <tbody>\n",
       "    <tr>\n",
       "      <th rowspan=\"3\" valign=\"top\">0.0</th>\n",
       "      <th>nan</th>\n",
       "      <td>265115</td>\n",
       "      <td>0.453286</td>\n",
       "    </tr>\n",
       "    <tr>\n",
       "      <th>0.0</th>\n",
       "      <td>112325</td>\n",
       "      <td>0.192050</td>\n",
       "    </tr>\n",
       "    <tr>\n",
       "      <th>1.0</th>\n",
       "      <td>111150</td>\n",
       "      <td>0.190041</td>\n",
       "    </tr>\n",
       "    <tr>\n",
       "      <th rowspan=\"3\" valign=\"top\">1.0</th>\n",
       "      <th>0.0</th>\n",
       "      <td>35266</td>\n",
       "      <td>0.060297</td>\n",
       "    </tr>\n",
       "    <tr>\n",
       "      <th>1.0</th>\n",
       "      <td>31342</td>\n",
       "      <td>0.053588</td>\n",
       "    </tr>\n",
       "    <tr>\n",
       "      <th>nan</th>\n",
       "      <td>29430</td>\n",
       "      <td>0.050319</td>\n",
       "    </tr>\n",
       "    <tr>\n",
       "      <th>0.0</th>\n",
       "      <th>-1.0</th>\n",
       "      <td>246</td>\n",
       "      <td>0.000421</td>\n",
       "    </tr>\n",
       "  </tbody>\n",
       "</table>\n",
       "</div>"
      ],
      "text/plain": [
       "                     size     ratio\n",
       "convulsion gender                  \n",
       "0.0        nan     265115  0.453286\n",
       "           0.0     112325  0.192050\n",
       "           1.0     111150  0.190041\n",
       "1.0        0.0      35266  0.060297\n",
       "           1.0      31342  0.053588\n",
       "           nan      29430  0.050319\n",
       "0.0        -1.0       246  0.000421"
      ]
     },
     "metadata": {},
     "output_type": "display_data"
    }
   ],
   "source": [
    "display(size_and_ratio(df_small, ['convulsion', 'gender'], dropna=False))"
   ]
  },
  {
   "cell_type": "code",
   "execution_count": null,
   "id": "d2fccb6b",
   "metadata": {},
   "outputs": [],
   "source": []
  }
 ],
 "metadata": {
  "kernelspec": {
   "display_name": "py36",
   "language": "python",
   "name": "py36"
  },
  "language_info": {
   "codemirror_mode": {
    "name": "ipython",
    "version": 3
   },
   "file_extension": ".py",
   "mimetype": "text/x-python",
   "name": "python",
   "nbconvert_exporter": "python",
   "pygments_lexer": "ipython3",
   "version": "3.6.9"
  }
 },
 "nbformat": 4,
 "nbformat_minor": 5
}
