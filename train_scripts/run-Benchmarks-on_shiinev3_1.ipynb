{
 "cells": [
  {
   "cell_type": "markdown",
   "id": "223e6afb",
   "metadata": {
    "pycharm": {
     "name": "#%% md\n"
    }
   },
   "source": [
    "# Import library"
   ]
  },
  {
   "cell_type": "code",
   "execution_count": 1,
   "id": "1dd7f1f1",
   "metadata": {
    "pycharm": {
     "name": "#%%\n"
    }
   },
   "outputs": [],
   "source": [
    "import os\n",
    "import os, sys\n",
    "import glob\n",
    "import re\n",
    "import datetime\n",
    "from datetime import datetime, timedelta \n",
    "import math, copy, time\n",
    "from itertools import cycle\n",
    "from collections import defaultdict\n",
    "\n",
    "from parse import parse\n",
    "import numpy as np\n",
    "import pandas as pd\n",
    "\n",
    "import torch\n",
    "from torch import nn, optim\n",
    "from torch.autograd import Variable\n",
    "from torch.utils.data import Dataset\n",
    "from torch.utils.data import DataLoader\n",
    "import torch.nn.functional as F\n",
    "\n",
    "# import torchvision\n",
    "# import torchvision.transforms as transforms\n",
    "\n",
    "from sklearn.metrics import roc_auc_score, plot_roc_curve\n",
    "from sklearn import svm\n",
    "\n",
    "\n",
    "from tqdm.notebook import tqdm\n",
    "\n",
    "import matplotlib.pyplot as plt\n",
    "import seaborn\n",
    "\n",
    "%load_ext autoreload\n",
    "%autoreload 2"
   ]
  },
  {
   "cell_type": "code",
   "execution_count": 2,
   "id": "327af99d",
   "metadata": {},
   "outputs": [],
   "source": [
    "pd.set_option(\"display.max_column\", 100)"
   ]
  },
  {
   "cell_type": "code",
   "execution_count": 3,
   "id": "011b0722",
   "metadata": {},
   "outputs": [],
   "source": [
    "# Util functions\n",
    "def size_and_ratio(df, col, dropna=True):\n",
    "    if pd.__version__ > '1.1':\n",
    "        sr = df.groupby(col, dropna=dropna).size().sort_values(ascending=False)\n",
    "    elif dropna:\n",
    "        sr = df.groupby(col).size().sort_values(ascending=False)\n",
    "    else:  # dropna == False\n",
    "        sr = df.fillna('nan').groupby(col).size().sort_values(ascending=False)\n",
    "    sr_ratio = sr.copy() / sum(sr)\n",
    "    print(\"Sum :\", sum(sr), sr.shape)\n",
    "    sr.name = 'size'\n",
    "    sr_ratio.name = 'ratio'\n",
    "    return pd.concat([sr, sr_ratio], axis=1)"
   ]
  },
  {
   "cell_type": "markdown",
   "id": "3f43473d",
   "metadata": {
    "pycharm": {
     "name": "#%% md\n"
    }
   },
   "source": [
    "# Data load"
   ]
  },
  {
   "cell_type": "code",
   "execution_count": 4,
   "id": "e7c0d9c2",
   "metadata": {
    "pycharm": {
     "name": "#%%\n"
    }
   },
   "outputs": [
    {
     "name": "stdout",
     "output_type": "stream",
     "text": [
      "(14093, 24) (4647, 24) (4586, 24)\n"
     ]
    },
    {
     "data": {
      "text/html": [
       "<div>\n",
       "<style scoped>\n",
       "    .dataframe tbody tr th:only-of-type {\n",
       "        vertical-align: middle;\n",
       "    }\n",
       "\n",
       "    .dataframe tbody tr th {\n",
       "        vertical-align: top;\n",
       "    }\n",
       "\n",
       "    .dataframe thead th {\n",
       "        text-align: right;\n",
       "    }\n",
       "</style>\n",
       "<table border=\"1\" class=\"dataframe\">\n",
       "  <thead>\n",
       "    <tr style=\"text-align: right;\">\n",
       "      <th></th>\n",
       "      <th>baby_id</th>\n",
       "      <th>cough</th>\n",
       "      <th>fever</th>\n",
       "      <th>sore_throat</th>\n",
       "      <th>shortness_of_breath</th>\n",
       "      <th>head_ache</th>\n",
       "      <th>runny_nose</th>\n",
       "      <th>muscle_pain</th>\n",
       "      <th>chills</th>\n",
       "      <th>loss_of_taste</th>\n",
       "      <th>loss_of_smell</th>\n",
       "      <th>sputum</th>\n",
       "      <th>chest_pain</th>\n",
       "      <th>indication_other</th>\n",
       "      <th>indication_abroad</th>\n",
       "      <th>indication_contact</th>\n",
       "      <th>global_confirmed_ratio</th>\n",
       "      <th>confirmed_ratio</th>\n",
       "      <th>sigungu_confirmed_ratio</th>\n",
       "      <th>mask</th>\n",
       "      <th>gender</th>\n",
       "      <th>age_ratio</th>\n",
       "      <th>weekday</th>\n",
       "      <th>pcr_result</th>\n",
       "    </tr>\n",
       "  </thead>\n",
       "  <tbody>\n",
       "    <tr>\n",
       "      <th>0</th>\n",
       "      <td>21099</td>\n",
       "      <td>1</td>\n",
       "      <td>0</td>\n",
       "      <td>0</td>\n",
       "      <td>0</td>\n",
       "      <td>1</td>\n",
       "      <td>0</td>\n",
       "      <td>0</td>\n",
       "      <td>0</td>\n",
       "      <td>0</td>\n",
       "      <td>0</td>\n",
       "      <td>1</td>\n",
       "      <td>0</td>\n",
       "      <td>0</td>\n",
       "      <td>0</td>\n",
       "      <td>1</td>\n",
       "      <td>0.173311</td>\n",
       "      <td>0.007956</td>\n",
       "      <td>0.012987</td>\n",
       "      <td>1</td>\n",
       "      <td>0.0</td>\n",
       "      <td>0.18</td>\n",
       "      <td>3</td>\n",
       "      <td>0</td>\n",
       "    </tr>\n",
       "    <tr>\n",
       "      <th>1</th>\n",
       "      <td>21151</td>\n",
       "      <td>0</td>\n",
       "      <td>0</td>\n",
       "      <td>1</td>\n",
       "      <td>0</td>\n",
       "      <td>1</td>\n",
       "      <td>0</td>\n",
       "      <td>0</td>\n",
       "      <td>0</td>\n",
       "      <td>0</td>\n",
       "      <td>0</td>\n",
       "      <td>0</td>\n",
       "      <td>0</td>\n",
       "      <td>0</td>\n",
       "      <td>0</td>\n",
       "      <td>1</td>\n",
       "      <td>0.179009</td>\n",
       "      <td>0.008614</td>\n",
       "      <td>0.013084</td>\n",
       "      <td>1</td>\n",
       "      <td>0.0</td>\n",
       "      <td>0.17</td>\n",
       "      <td>4</td>\n",
       "      <td>0</td>\n",
       "    </tr>\n",
       "    <tr>\n",
       "      <th>2</th>\n",
       "      <td>21024</td>\n",
       "      <td>0</td>\n",
       "      <td>0</td>\n",
       "      <td>1</td>\n",
       "      <td>0</td>\n",
       "      <td>1</td>\n",
       "      <td>0</td>\n",
       "      <td>0</td>\n",
       "      <td>0</td>\n",
       "      <td>0</td>\n",
       "      <td>0</td>\n",
       "      <td>0</td>\n",
       "      <td>0</td>\n",
       "      <td>1</td>\n",
       "      <td>0</td>\n",
       "      <td>0</td>\n",
       "      <td>0.179009</td>\n",
       "      <td>0.008614</td>\n",
       "      <td>0.013084</td>\n",
       "      <td>1</td>\n",
       "      <td>1.0</td>\n",
       "      <td>0.29</td>\n",
       "      <td>4</td>\n",
       "      <td>0</td>\n",
       "    </tr>\n",
       "    <tr>\n",
       "      <th>3</th>\n",
       "      <td>21176</td>\n",
       "      <td>0</td>\n",
       "      <td>0</td>\n",
       "      <td>1</td>\n",
       "      <td>0</td>\n",
       "      <td>1</td>\n",
       "      <td>0</td>\n",
       "      <td>0</td>\n",
       "      <td>0</td>\n",
       "      <td>0</td>\n",
       "      <td>0</td>\n",
       "      <td>0</td>\n",
       "      <td>0</td>\n",
       "      <td>1</td>\n",
       "      <td>0</td>\n",
       "      <td>0</td>\n",
       "      <td>0.131500</td>\n",
       "      <td>0.008252</td>\n",
       "      <td>0.000000</td>\n",
       "      <td>0</td>\n",
       "      <td>0.0</td>\n",
       "      <td>0.40</td>\n",
       "      <td>5</td>\n",
       "      <td>0</td>\n",
       "    </tr>\n",
       "    <tr>\n",
       "      <th>4</th>\n",
       "      <td>4467</td>\n",
       "      <td>0</td>\n",
       "      <td>0</td>\n",
       "      <td>1</td>\n",
       "      <td>0</td>\n",
       "      <td>1</td>\n",
       "      <td>0</td>\n",
       "      <td>0</td>\n",
       "      <td>0</td>\n",
       "      <td>0</td>\n",
       "      <td>0</td>\n",
       "      <td>0</td>\n",
       "      <td>0</td>\n",
       "      <td>1</td>\n",
       "      <td>0</td>\n",
       "      <td>0</td>\n",
       "      <td>0.131500</td>\n",
       "      <td>0.008252</td>\n",
       "      <td>0.000000</td>\n",
       "      <td>0</td>\n",
       "      <td>1.0</td>\n",
       "      <td>0.34</td>\n",
       "      <td>5</td>\n",
       "      <td>0</td>\n",
       "    </tr>\n",
       "  </tbody>\n",
       "</table>\n",
       "</div>"
      ],
      "text/plain": [
       "   baby_id  cough  fever  sore_throat  shortness_of_breath  head_ache  \\\n",
       "0    21099      1      0            0                    0          1   \n",
       "1    21151      0      0            1                    0          1   \n",
       "2    21024      0      0            1                    0          1   \n",
       "3    21176      0      0            1                    0          1   \n",
       "4     4467      0      0            1                    0          1   \n",
       "\n",
       "   runny_nose  muscle_pain  chills  loss_of_taste  loss_of_smell  sputum  \\\n",
       "0           0            0       0              0              0       1   \n",
       "1           0            0       0              0              0       0   \n",
       "2           0            0       0              0              0       0   \n",
       "3           0            0       0              0              0       0   \n",
       "4           0            0       0              0              0       0   \n",
       "\n",
       "   chest_pain  indication_other  indication_abroad  indication_contact  \\\n",
       "0           0                 0                  0                   1   \n",
       "1           0                 0                  0                   1   \n",
       "2           0                 1                  0                   0   \n",
       "3           0                 1                  0                   0   \n",
       "4           0                 1                  0                   0   \n",
       "\n",
       "   global_confirmed_ratio  confirmed_ratio  sigungu_confirmed_ratio  mask  \\\n",
       "0                0.173311         0.007956                 0.012987     1   \n",
       "1                0.179009         0.008614                 0.013084     1   \n",
       "2                0.179009         0.008614                 0.013084     1   \n",
       "3                0.131500         0.008252                 0.000000     0   \n",
       "4                0.131500         0.008252                 0.000000     0   \n",
       "\n",
       "   gender  age_ratio  weekday  pcr_result  \n",
       "0     0.0       0.18        3           0  \n",
       "1     0.0       0.17        4           0  \n",
       "2     1.0       0.29        4           0  \n",
       "3     0.0       0.40        5           0  \n",
       "4     1.0       0.34        5           0  "
      ]
     },
     "execution_count": 4,
     "metadata": {},
     "output_type": "execute_result"
    }
   ],
   "source": [
    "df_train = pd.read_csv(\"data/df_data_v3_1/df_train_v3_1.csv\")\n",
    "df_val = pd.read_csv(\"data/df_data_v3_1/df_valid_v3_1.csv\")\n",
    "df_test = pd.read_csv(\"data/df_data_v3_1/df_test_v3_1.csv\")\n",
    "print(df_train.shape, df_val.shape, df_test.shape)\n",
    "df_train.head()"
   ]
  },
  {
   "cell_type": "code",
   "execution_count": 5,
   "id": "568790f5",
   "metadata": {},
   "outputs": [
    {
     "name": "stdout",
     "output_type": "stream",
     "text": [
      "Train: (14093, 24) 9641\n",
      "Validaiton: (4647, 24) 3213\n"
     ]
    }
   ],
   "source": [
    "import random\n",
    "print(\"Train:\", df_train.shape, df_train['baby_id'].nunique())\n",
    "print(\"Validaiton:\", df_val.shape, df_val['baby_id'].nunique())"
   ]
  },
  {
   "cell_type": "markdown",
   "id": "94da1ce6",
   "metadata": {},
   "source": [
    "## Remove baby_id and results"
   ]
  },
  {
   "cell_type": "code",
   "execution_count": 6,
   "id": "c72fac99",
   "metadata": {},
   "outputs": [],
   "source": [
    "exclude_cols = ['baby_id', 'pcr_result']\n",
    "cols = [x for x in df_train.columns if x not in exclude_cols]\n",
    "\n",
    "df_train_gt = df_train[['pcr_result']]\n",
    "df_train_input = df_train[cols]\n",
    "df_val_gt = df_val[['pcr_result']]\n",
    "df_val_input = df_val[cols]\n",
    "df_test_gt = df_test[['pcr_result']]\n",
    "df_test_input = df_test[cols]\n"
   ]
  },
  {
   "cell_type": "code",
   "execution_count": 7,
   "id": "4dceb7b0",
   "metadata": {},
   "outputs": [
    {
     "name": "stdout",
     "output_type": "stream",
     "text": [
      "(18740, 24)\n"
     ]
    }
   ],
   "source": [
    "df_trainval = pd.concat([df_train, df_val], axis=0)\n",
    "print(df_trainval.shape)\n"
   ]
  },
  {
   "cell_type": "code",
   "execution_count": 8,
   "id": "87591709",
   "metadata": {},
   "outputs": [
    {
     "name": "stdout",
     "output_type": "stream",
     "text": [
      "Sum : 18740 (2,)\n"
     ]
    },
    {
     "data": {
      "text/html": [
       "<div>\n",
       "<style scoped>\n",
       "    .dataframe tbody tr th:only-of-type {\n",
       "        vertical-align: middle;\n",
       "    }\n",
       "\n",
       "    .dataframe tbody tr th {\n",
       "        vertical-align: top;\n",
       "    }\n",
       "\n",
       "    .dataframe thead th {\n",
       "        text-align: right;\n",
       "    }\n",
       "</style>\n",
       "<table border=\"1\" class=\"dataframe\">\n",
       "  <thead>\n",
       "    <tr style=\"text-align: right;\">\n",
       "      <th></th>\n",
       "      <th>size</th>\n",
       "      <th>ratio</th>\n",
       "    </tr>\n",
       "    <tr>\n",
       "      <th>pcr_result</th>\n",
       "      <th></th>\n",
       "      <th></th>\n",
       "    </tr>\n",
       "  </thead>\n",
       "  <tbody>\n",
       "    <tr>\n",
       "      <th>1</th>\n",
       "      <td>13478</td>\n",
       "      <td>0.71921</td>\n",
       "    </tr>\n",
       "    <tr>\n",
       "      <th>0</th>\n",
       "      <td>5262</td>\n",
       "      <td>0.28079</td>\n",
       "    </tr>\n",
       "  </tbody>\n",
       "</table>\n",
       "</div>"
      ],
      "text/plain": [
       "             size    ratio\n",
       "pcr_result                \n",
       "1           13478  0.71921\n",
       "0            5262  0.28079"
      ]
     },
     "execution_count": 8,
     "metadata": {},
     "output_type": "execute_result"
    }
   ],
   "source": [
    "size_and_ratio(df_trainval, 'pcr_result')"
   ]
  },
  {
   "cell_type": "code",
   "execution_count": 9,
   "id": "35af78db",
   "metadata": {},
   "outputs": [
    {
     "name": "stdout",
     "output_type": "stream",
     "text": [
      "Sum : 4586 (2,)\n"
     ]
    },
    {
     "data": {
      "text/html": [
       "<div>\n",
       "<style scoped>\n",
       "    .dataframe tbody tr th:only-of-type {\n",
       "        vertical-align: middle;\n",
       "    }\n",
       "\n",
       "    .dataframe tbody tr th {\n",
       "        vertical-align: top;\n",
       "    }\n",
       "\n",
       "    .dataframe thead th {\n",
       "        text-align: right;\n",
       "    }\n",
       "</style>\n",
       "<table border=\"1\" class=\"dataframe\">\n",
       "  <thead>\n",
       "    <tr style=\"text-align: right;\">\n",
       "      <th></th>\n",
       "      <th>size</th>\n",
       "      <th>ratio</th>\n",
       "    </tr>\n",
       "    <tr>\n",
       "      <th>pcr_result</th>\n",
       "      <th></th>\n",
       "      <th></th>\n",
       "    </tr>\n",
       "  </thead>\n",
       "  <tbody>\n",
       "    <tr>\n",
       "      <th>1</th>\n",
       "      <td>3332</td>\n",
       "      <td>0.726559</td>\n",
       "    </tr>\n",
       "    <tr>\n",
       "      <th>0</th>\n",
       "      <td>1254</td>\n",
       "      <td>0.273441</td>\n",
       "    </tr>\n",
       "  </tbody>\n",
       "</table>\n",
       "</div>"
      ],
      "text/plain": [
       "            size     ratio\n",
       "pcr_result                \n",
       "1           3332  0.726559\n",
       "0           1254  0.273441"
      ]
     },
     "execution_count": 9,
     "metadata": {},
     "output_type": "execute_result"
    }
   ],
   "source": [
    "size_and_ratio(df_test, 'pcr_result')"
   ]
  },
  {
   "cell_type": "code",
   "execution_count": 10,
   "id": "6c9ffdc2",
   "metadata": {},
   "outputs": [
    {
     "data": {
      "image/png": "[encoded data removed]",
      "text/plain": [
       "<Figure size 432x288 with 1 Axes>"
      ]
     },
     "metadata": {
      "needs_background": "light"
     },
     "output_type": "display_data"
    }
   ],
   "source": [
    "df_trainval.hist('baby_id', bins=100)\n",
    "plt.show()"
   ]
  },
  {
   "cell_type": "code",
   "execution_count": 11,
   "id": "a45b34a8",
   "metadata": {},
   "outputs": [
    {
     "data": {
      "image/png": "[encoded data removed]",
      "text/plain": [
       "<Figure size 432x288 with 1 Axes>"
      ]
     },
     "metadata": {
      "needs_background": "light"
     },
     "output_type": "display_data"
    }
   ],
   "source": [
    "df_test.hist('baby_id',bins=100)\n",
    "plt.show()"
   ]
  },
  {
   "cell_type": "code",
   "execution_count": 12,
   "id": "750cf502",
   "metadata": {},
   "outputs": [
    {
     "name": "stdout",
     "output_type": "stream",
     "text": [
      "12854 3214\n"
     ]
    }
   ],
   "source": [
    "print(df_trainval['baby_id'].nunique(), df_test['baby_id'].nunique())"
   ]
  },
  {
   "cell_type": "markdown",
   "id": "aa328487",
   "metadata": {},
   "source": [
    "# Check Logistic regression performance"
   ]
  },
  {
   "cell_type": "code",
   "execution_count": 84,
   "id": "1edee0f0",
   "metadata": {},
   "outputs": [
    {
     "name": "stdout",
     "output_type": "stream",
     "text": [
      "start to train: x.shape:(18740, 22), y.shape:(18740,)\n",
      "Model: LogisticRegression()\n",
      "Found predict_proba\n",
      "(18740,) (18740,)\n",
      "train set auc 0.849256568230142\n",
      "train set auc 0.8383881064387477\n"
     ]
    },
    {
     "name": "stderr",
     "output_type": "stream",
     "text": [
      "/Users/mckim/miniconda3/envs/py38/lib/python3.8/site-packages/sklearn/linear_model/_logistic.py:444: ConvergenceWarning: lbfgs failed to converge (status=1):\n",
      "STOP: TOTAL NO. of ITERATIONS REACHED LIMIT.\n",
      "\n",
      "Increase the number of iterations (max_iter) or scale the data as shown in:\n",
      "    https://scikit-learn.org/stable/modules/preprocessing.html\n",
      "Please also refer to the documentation for alternative solver options:\n",
      "    https://scikit-learn.org/stable/modules/linear_model.html#logistic-regression\n",
      "  n_iter_i = _check_optimize_result(\n"
     ]
    },
    {
     "data": {
      "text/plain": [
       "(LogisticRegression(), 0.8383881064387477)"
      ]
     },
     "execution_count": 84,
     "metadata": {},
     "output_type": "execute_result"
    }
   ],
   "source": [
    "from sklearn.linear_model import LogisticRegression\n",
    "from sklearn.metrics import roc_auc_score\n",
    "\n",
    "def run_one_full_train_test(df_trainval, df_test, cols, model):\n",
    "    x = df_trainval[cols]\n",
    "    y = df_trainval['pcr_result']\n",
    "    print(f\"start to train: x.shape:{x.shape}, y.shape:{y.shape}\")\n",
    "\n",
    "    model.fit(x, y)\n",
    "    print(f\"Model: {model}\")\n",
    "    if getattr(model, 'predict_proba', False):\n",
    "        print(\"Found predict_proba\")\n",
    "        pred_raw = model.predict_proba(df_trainval[cols])\n",
    "        pred_pos = np.array([x[1] for x in pred_raw])\n",
    "    else:\n",
    "        pred_pos = model.predict(df_trainval[cols])\n",
    "    \n",
    "    gt = df_trainval['pcr_result']\n",
    "\n",
    "    print(pred_pos.shape, gt.shape)\n",
    "    print(\"train set auc\", roc_auc_score(gt, pred_pos))\n",
    "\n",
    "    if getattr(model, 'predict_proba', False):\n",
    "        pred_raw = model.predict_proba(df_test[cols])\n",
    "        pred_pos = np.array([x[1] for x in pred_raw])\n",
    "    else:\n",
    "        pred_pos = model.predict(df_test[cols])\n",
    "    \n",
    "    gt = df_test['pcr_result']\n",
    "    test_result = roc_auc_score(gt, pred_pos)\n",
    "    print(\"test set auc\", test_result)\n",
    "        \n",
    "    return model, test_result\n",
    "\n",
    "lr_model = LogisticRegression()\n",
    "\n",
    "run_one_full_train_test(df_trainval, df_test, cols, lr_model)"
   ]
  },
  {
   "cell_type": "markdown",
   "id": "aa828934",
   "metadata": {},
   "source": [
    "## repeat 5 times"
   ]
  },
  {
   "cell_type": "code",
   "execution_count": 169,
   "id": "c79e8e60",
   "metadata": {
    "scrolled": false
   },
   "outputs": [
    {
     "name": "stdout",
     "output_type": "stream",
     "text": [
      "start to train: x.shape:(14992, 22), y.shape:(14992,)\n",
      "Model: LogisticRegression()\n",
      "Found predict_proba\n",
      "(14992,) (14992,)\n",
      "train set auc 0.8529035027646228\n",
      "train set auc 0.838625043318763\n",
      "start to train: x.shape:(14992, 22), y.shape:(14992,)\n"
     ]
    },
    {
     "name": "stderr",
     "output_type": "stream",
     "text": [
      "/Users/mckim/miniconda3/envs/py38/lib/python3.8/site-packages/sklearn/linear_model/_logistic.py:444: ConvergenceWarning: lbfgs failed to converge (status=1):\n",
      "STOP: TOTAL NO. of ITERATIONS REACHED LIMIT.\n",
      "\n",
      "Increase the number of iterations (max_iter) or scale the data as shown in:\n",
      "    https://scikit-learn.org/stable/modules/preprocessing.html\n",
      "Please also refer to the documentation for alternative solver options:\n",
      "    https://scikit-learn.org/stable/modules/linear_model.html#logistic-regression\n",
      "  n_iter_i = _check_optimize_result(\n",
      "/Users/mckim/miniconda3/envs/py38/lib/python3.8/site-packages/sklearn/linear_model/_logistic.py:444: ConvergenceWarning: lbfgs failed to converge (status=1):\n",
      "STOP: TOTAL NO. of ITERATIONS REACHED LIMIT.\n",
      "\n",
      "Increase the number of iterations (max_iter) or scale the data as shown in:\n",
      "    https://scikit-learn.org/stable/modules/preprocessing.html\n",
      "Please also refer to the documentation for alternative solver options:\n",
      "    https://scikit-learn.org/stable/modules/linear_model.html#logistic-regression\n",
      "  n_iter_i = _check_optimize_result(\n"
     ]
    },
    {
     "name": "stdout",
     "output_type": "stream",
     "text": [
      "Model: LogisticRegression()\n",
      "Found predict_proba\n",
      "(14992,) (14992,)\n",
      "train set auc 0.8471471528407548\n",
      "train set auc 0.8381056968241842\n",
      "start to train: x.shape:(14992, 22), y.shape:(14992,)\n",
      "Model: LogisticRegression()\n",
      "Found predict_proba\n",
      "(14992,) (14992,)\n",
      "train set auc 0.8489024277242401\n",
      "train set auc 0.838121731946367\n",
      "start to train: x.shape:(14992, 22), y.shape:(14992,)\n"
     ]
    },
    {
     "name": "stderr",
     "output_type": "stream",
     "text": [
      "/Users/mckim/miniconda3/envs/py38/lib/python3.8/site-packages/sklearn/linear_model/_logistic.py:444: ConvergenceWarning: lbfgs failed to converge (status=1):\n",
      "STOP: TOTAL NO. of ITERATIONS REACHED LIMIT.\n",
      "\n",
      "Increase the number of iterations (max_iter) or scale the data as shown in:\n",
      "    https://scikit-learn.org/stable/modules/preprocessing.html\n",
      "Please also refer to the documentation for alternative solver options:\n",
      "    https://scikit-learn.org/stable/modules/linear_model.html#logistic-regression\n",
      "  n_iter_i = _check_optimize_result(\n",
      "/Users/mckim/miniconda3/envs/py38/lib/python3.8/site-packages/sklearn/linear_model/_logistic.py:444: ConvergenceWarning: lbfgs failed to converge (status=1):\n",
      "STOP: TOTAL NO. of ITERATIONS REACHED LIMIT.\n",
      "\n",
      "Increase the number of iterations (max_iter) or scale the data as shown in:\n",
      "    https://scikit-learn.org/stable/modules/preprocessing.html\n",
      "Please also refer to the documentation for alternative solver options:\n",
      "    https://scikit-learn.org/stable/modules/linear_model.html#logistic-regression\n",
      "  n_iter_i = _check_optimize_result(\n"
     ]
    },
    {
     "name": "stdout",
     "output_type": "stream",
     "text": [
      "Model: LogisticRegression()\n",
      "Found predict_proba\n",
      "(14992,) (14992,)\n",
      "train set auc 0.8453316982771265\n",
      "train set auc 0.8381724699449158\n",
      "start to train: x.shape:(14992, 22), y.shape:(14992,)\n",
      "Model: LogisticRegression()\n",
      "Found predict_proba\n",
      "(14992,) (14992,)\n",
      "train set auc 0.8461592444966044\n",
      "train set auc 0.8386626181573107\n"
     ]
    },
    {
     "name": "stderr",
     "output_type": "stream",
     "text": [
      "/Users/mckim/miniconda3/envs/py38/lib/python3.8/site-packages/sklearn/linear_model/_logistic.py:444: ConvergenceWarning: lbfgs failed to converge (status=1):\n",
      "STOP: TOTAL NO. of ITERATIONS REACHED LIMIT.\n",
      "\n",
      "Increase the number of iterations (max_iter) or scale the data as shown in:\n",
      "    https://scikit-learn.org/stable/modules/preprocessing.html\n",
      "Please also refer to the documentation for alternative solver options:\n",
      "    https://scikit-learn.org/stable/modules/linear_model.html#logistic-regression\n",
      "  n_iter_i = _check_optimize_result(\n"
     ]
    }
   ],
   "source": [
    "test_result = dict()\n",
    "models = dict()\n",
    "for i in range(5):\n",
    "    models[i], test_result[i] = run_one_full_train_test(\n",
    "        df_trainval.sample(int(df_trainval.shape[0]* 0.8), random_state=i), \n",
    "        df_test, cols,\n",
    "        lr_model\n",
    "    )"
   ]
  },
  {
   "cell_type": "code",
   "execution_count": 170,
   "id": "94963594",
   "metadata": {},
   "outputs": [
    {
     "name": "stdout",
     "output_type": "stream",
     "text": [
      "{0: 0.838625043318763, 1: 0.8381056968241842, 2: 0.838121731946367, 3: 0.8381724699449158, 4: 0.8386626181573107}\n",
      "mean: 0.8383375120383081 std: 0.0002513588908400427\n"
     ]
    }
   ],
   "source": [
    "print(test_result)\n",
    "print(\"mean:\", np.mean(list(test_result.values())), \"std:\", np.std(list(test_result.values())))\n"
   ]
  },
  {
   "cell_type": "markdown",
   "id": "127a42f8",
   "metadata": {},
   "source": [
    "### Use xgboost"
   ]
  },
  {
   "cell_type": "code",
   "execution_count": 171,
   "id": "0df1e4ce",
   "metadata": {},
   "outputs": [],
   "source": [
    "import xgboost as xgb\n",
    "from sklearn.metrics import mean_squared_error\n",
    "import pandas as pd\n",
    "import numpy as np"
   ]
  },
  {
   "cell_type": "code",
   "execution_count": 172,
   "id": "b17272bc",
   "metadata": {},
   "outputs": [],
   "source": [
    "xg_reg = xgb.XGBRegressor(objective ='reg:linear', colsample_bytree = 0.3, learning_rate = 0.1,\n",
    "                max_depth = 5, alpha = 10, n_estimators = 10)"
   ]
  },
  {
   "cell_type": "code",
   "execution_count": 173,
   "id": "645f4940",
   "metadata": {
    "scrolled": false
   },
   "outputs": [
    {
     "name": "stdout",
     "output_type": "stream",
     "text": [
      "start to train: x.shape:(18740, 22), y.shape:(18740,)\n",
      "[19:30:55] WARNING: /Users/runner/work/xgboost/xgboost/python-package/build/temp.macosx-11.0-arm64-cpython-38/xgboost/src/objective/regression_obj.cu:213: reg:linear is now deprecated in favor of reg:squarederror.\n",
      "Model: XGBRegressor(alpha=10, base_score=0.5, booster='gbtree', callbacks=None,\n",
      "             colsample_bylevel=1, colsample_bynode=1, colsample_bytree=0.3,\n",
      "             early_stopping_rounds=None, enable_categorical=False,\n",
      "             eval_metric=None, feature_types=None, gamma=0, gpu_id=-1,\n",
      "             grow_policy='depthwise', importance_type=None,\n",
      "             interaction_constraints='', learning_rate=0.1, max_bin=256,\n",
      "             max_cat_threshold=64, max_cat_to_onehot=4, max_delta_step=0,\n",
      "             max_depth=5, max_leaves=0, min_child_weight=1, missing=nan,\n",
      "             monotone_constraints='()', n_estimators=10, n_jobs=0,\n",
      "             num_parallel_tree=1, objective='reg:linear', ...)\n",
      "(18740,) (18740,)\n",
      "train set auc 0.8494123114267215\n",
      "train set auc 0.830604131604795\n"
     ]
    },
    {
     "data": {
      "text/plain": [
       "(XGBRegressor(alpha=10, base_score=0.5, booster='gbtree', callbacks=None,\n",
       "              colsample_bylevel=1, colsample_bynode=1, colsample_bytree=0.3,\n",
       "              early_stopping_rounds=None, enable_categorical=False,\n",
       "              eval_metric=None, feature_types=None, gamma=0, gpu_id=-1,\n",
       "              grow_policy='depthwise', importance_type=None,\n",
       "              interaction_constraints='', learning_rate=0.1, max_bin=256,\n",
       "              max_cat_threshold=64, max_cat_to_onehot=4, max_delta_step=0,\n",
       "              max_depth=5, max_leaves=0, min_child_weight=1, missing=nan,\n",
       "              monotone_constraints='()', n_estimators=10, n_jobs=0,\n",
       "              num_parallel_tree=1, objective='reg:linear', ...),\n",
       " 0.830604131604795)"
      ]
     },
     "execution_count": 173,
     "metadata": {},
     "output_type": "execute_result"
    }
   ],
   "source": [
    "\n",
    "run_one_full_train_test(df_trainval, df_test, cols, xg_reg)"
   ]
  },
  {
   "cell_type": "code",
   "execution_count": 175,
   "id": "3e272e28",
   "metadata": {
    "scrolled": true
   },
   "outputs": [
    {
     "name": "stdout",
     "output_type": "stream",
     "text": [
      "start to train: x.shape:(14992, 22), y.shape:(14992,)\n",
      "[19:30:59] WARNING: /Users/runner/work/xgboost/xgboost/python-package/build/temp.macosx-11.0-arm64-cpython-38/xgboost/src/objective/regression_obj.cu:213: reg:linear is now deprecated in favor of reg:squarederror.\n",
      "Model: XGBRegressor(alpha=10, base_score=0.5, booster='gbtree', callbacks=None,\n",
      "             colsample_bylevel=1, colsample_bynode=1, colsample_bytree=0.3,\n",
      "             early_stopping_rounds=None, enable_categorical=False,\n",
      "             eval_metric=None, feature_types=None, gamma=0, gpu_id=-1,\n",
      "             grow_policy='depthwise', importance_type=None,\n",
      "             interaction_constraints='', learning_rate=0.1, max_bin=256,\n",
      "             max_cat_threshold=64, max_cat_to_onehot=4, max_delta_step=0,\n",
      "             max_depth=5, max_leaves=0, min_child_weight=1, missing=nan,\n",
      "             monotone_constraints='()', n_estimators=10, n_jobs=0,\n",
      "             num_parallel_tree=1, objective='reg:linear', ...)\n",
      "(14992,) (14992,)\n",
      "train set auc 0.852408307371697\n",
      "train set auc 0.8304989459898792\n",
      "start to train: x.shape:(14992, 22), y.shape:(14992,)\n",
      "[19:30:59] WARNING: /Users/runner/work/xgboost/xgboost/python-package/build/temp.macosx-11.0-arm64-cpython-38/xgboost/src/objective/regression_obj.cu:213: reg:linear is now deprecated in favor of reg:squarederror.\n",
      "Model: XGBRegressor(alpha=10, base_score=0.5, booster='gbtree', callbacks=None,\n",
      "             colsample_bylevel=1, colsample_bynode=1, colsample_bytree=0.3,\n",
      "             early_stopping_rounds=None, enable_categorical=False,\n",
      "             eval_metric=None, feature_types=None, gamma=0, gpu_id=-1,\n",
      "             grow_policy='depthwise', importance_type=None,\n",
      "             interaction_constraints='', learning_rate=0.1, max_bin=256,\n",
      "             max_cat_threshold=64, max_cat_to_onehot=4, max_delta_step=0,\n",
      "             max_depth=5, max_leaves=0, min_child_weight=1, missing=nan,\n",
      "             monotone_constraints='()', n_estimators=10, n_jobs=0,\n",
      "             num_parallel_tree=1, objective='reg:linear', ...)\n",
      "(14992,) (14992,)\n",
      "train set auc 0.8469959821941834\n",
      "train set auc 0.8283381534431956\n",
      "start to train: x.shape:(14992, 22), y.shape:(14992,)\n",
      "[19:30:59] WARNING: /Users/runner/work/xgboost/xgboost/python-package/build/temp.macosx-11.0-arm64-cpython-38/xgboost/src/objective/regression_obj.cu:213: reg:linear is now deprecated in favor of reg:squarederror.\n",
      "Model: XGBRegressor(alpha=10, base_score=0.5, booster='gbtree', callbacks=None,\n",
      "             colsample_bylevel=1, colsample_bynode=1, colsample_bytree=0.3,\n",
      "             early_stopping_rounds=None, enable_categorical=False,\n",
      "             eval_metric=None, feature_types=None, gamma=0, gpu_id=-1,\n",
      "             grow_policy='depthwise', importance_type=None,\n",
      "             interaction_constraints='', learning_rate=0.1, max_bin=256,\n",
      "             max_cat_threshold=64, max_cat_to_onehot=4, max_delta_step=0,\n",
      "             max_depth=5, max_leaves=0, min_child_weight=1, missing=nan,\n",
      "             monotone_constraints='()', n_estimators=10, n_jobs=0,\n",
      "             num_parallel_tree=1, objective='reg:linear', ...)\n",
      "(14992,) (14992,)\n",
      "train set auc 0.8489224601997952\n",
      "train set auc 0.8300372780691224\n",
      "start to train: x.shape:(14992, 22), y.shape:(14992,)\n",
      "[19:30:59] WARNING: /Users/runner/work/xgboost/xgboost/python-package/build/temp.macosx-11.0-arm64-cpython-38/xgboost/src/objective/regression_obj.cu:213: reg:linear is now deprecated in favor of reg:squarederror.\n",
      "Model: XGBRegressor(alpha=10, base_score=0.5, booster='gbtree', callbacks=None,\n",
      "             colsample_bylevel=1, colsample_bynode=1, colsample_bytree=0.3,\n",
      "             early_stopping_rounds=None, enable_categorical=False,\n",
      "             eval_metric=None, feature_types=None, gamma=0, gpu_id=-1,\n",
      "             grow_policy='depthwise', importance_type=None,\n",
      "             interaction_constraints='', learning_rate=0.1, max_bin=256,\n",
      "             max_cat_threshold=64, max_cat_to_onehot=4, max_delta_step=0,\n",
      "             max_depth=5, max_leaves=0, min_child_weight=1, missing=nan,\n",
      "             monotone_constraints='()', n_estimators=10, n_jobs=0,\n",
      "             num_parallel_tree=1, objective='reg:linear', ...)\n",
      "(14992,) (14992,)\n",
      "train set auc 0.8457336677136102\n",
      "train set auc 0.8290787606908792\n",
      "start to train: x.shape:(14992, 22), y.shape:(14992,)\n",
      "[19:30:59] WARNING: /Users/runner/work/xgboost/xgboost/python-package/build/temp.macosx-11.0-arm64-cpython-38/xgboost/src/objective/regression_obj.cu:213: reg:linear is now deprecated in favor of reg:squarederror.\n",
      "Model: XGBRegressor(alpha=10, base_score=0.5, booster='gbtree', callbacks=None,\n",
      "             colsample_bylevel=1, colsample_bynode=1, colsample_bytree=0.3,\n",
      "             early_stopping_rounds=None, enable_categorical=False,\n",
      "             eval_metric=None, feature_types=None, gamma=0, gpu_id=-1,\n",
      "             grow_policy='depthwise', importance_type=None,\n",
      "             interaction_constraints='', learning_rate=0.1, max_bin=256,\n",
      "             max_cat_threshold=64, max_cat_to_onehot=4, max_delta_step=0,\n",
      "             max_depth=5, max_leaves=0, min_child_weight=1, missing=nan,\n",
      "             monotone_constraints='()', n_estimators=10, n_jobs=0,\n",
      "             num_parallel_tree=1, objective='reg:linear', ...)\n",
      "(14992,) (14992,)\n",
      "train set auc 0.844576174362659\n",
      "train set auc 0.8294619283119947\n"
     ]
    }
   ],
   "source": [
    "test_result = dict()\n",
    "models = dict()\n",
    "for i in range(5):\n",
    "    models[i], test_result[i] = run_one_full_train_test(\n",
    "        df_trainval.sample(int(df_trainval.shape[0]* 0.8), random_state=i), \n",
    "        df_test, cols,\n",
    "        xg_reg\n",
    "    )"
   ]
  },
  {
   "cell_type": "code",
   "execution_count": 176,
   "id": "1a29e85d",
   "metadata": {},
   "outputs": [
    {
     "name": "stdout",
     "output_type": "stream",
     "text": [
      "{0: 0.8304989459898792, 1: 0.8283381534431956, 2: 0.8300372780691224, 3: 0.8290787606908792, 4: 0.8294619283119947}\n",
      "mean: 0.8294830133010143 std: 0.0007501863108692136\n"
     ]
    }
   ],
   "source": [
    "print(test_result)\n",
    "print(\"mean:\", np.mean(list(test_result.values())), \"std:\", np.std(list(test_result.values())))\n"
   ]
  },
  {
   "cell_type": "markdown",
   "id": "6f2535d9",
   "metadata": {},
   "source": [
    "### LGBM"
   ]
  },
  {
   "cell_type": "code",
   "execution_count": 182,
   "id": "80a2897f",
   "metadata": {},
   "outputs": [],
   "source": [
    "import lightgbm as lgb"
   ]
  },
  {
   "cell_type": "code",
   "execution_count": 178,
   "id": "1faf7c60",
   "metadata": {
    "scrolled": true
   },
   "outputs": [
    {
     "name": "stdout",
     "output_type": "stream",
     "text": [
      "start to train: x.shape:(14992, 22), y.shape:(14992,)\n",
      "Model: LGBMClassifier(learning_rate=0.09, max_depth=-5, random_state=42)\n",
      "Found predict_proba\n",
      "(14992,) (14992,)\n",
      "train set auc 0.9139740018570103\n",
      "train set auc 0.8472786243684077\n",
      "start to train: x.shape:(14992, 22), y.shape:(14992,)\n",
      "Model: LGBMClassifier(learning_rate=0.09, max_depth=-5, random_state=42)\n",
      "Found predict_proba\n",
      "(14992,) (14992,)\n",
      "train set auc 0.9093282452222899\n",
      "train set auc 0.8440041088205618\n",
      "start to train: x.shape:(14992, 22), y.shape:(14992,)\n",
      "Model: LGBMClassifier(learning_rate=0.09, max_depth=-5, random_state=42)\n",
      "Found predict_proba\n",
      "(14992,) (14992,)\n",
      "train set auc 0.9122993112181863\n",
      "train set auc 0.8467651414632839\n",
      "start to train: x.shape:(14992, 22), y.shape:(14992,)\n",
      "Model: LGBMClassifier(learning_rate=0.09, max_depth=-5, random_state=42)\n",
      "Found predict_proba\n",
      "(14992,) (14992,)\n",
      "train set auc 0.9089411193776726\n",
      "train set auc 0.8452445571530047\n",
      "start to train: x.shape:(14992, 22), y.shape:(14992,)\n",
      "Model: LGBMClassifier(learning_rate=0.09, max_depth=-5, random_state=42)\n",
      "Found predict_proba\n",
      "(14992,) (14992,)\n",
      "train set auc 0.9085570001380086\n",
      "train set auc 0.8453708038239218\n"
     ]
    }
   ],
   "source": [
    "lgb_model = lgb.LGBMClassifier(learning_rate=0.09,max_depth=-5,random_state=42)\n",
    "test_result = dict()\n",
    "models = dict()\n",
    "for i in range(5):\n",
    "    models[i], test_result[i] = run_one_full_train_test(\n",
    "        df_trainval.sample(int(df_trainval.shape[0]* 0.8), random_state=i), \n",
    "        df_test, cols,\n",
    "        lgb_model\n",
    "    )"
   ]
  },
  {
   "cell_type": "code",
   "execution_count": 179,
   "id": "3ce1e1f9",
   "metadata": {},
   "outputs": [
    {
     "name": "stdout",
     "output_type": "stream",
     "text": [
      "{0: 0.8472786243684077, 1: 0.8440041088205618, 2: 0.8467651414632839, 3: 0.8452445571530047, 4: 0.8453708038239218}\n",
      "mean: 0.8457326471258361 std: 0.0011673129195661717\n"
     ]
    }
   ],
   "source": [
    "print(test_result)\n",
    "print(\"mean:\", np.mean(list(test_result.values())), \"std:\", np.std(list(test_result.values())))\n"
   ]
  },
  {
   "cell_type": "markdown",
   "id": "c5e8f9a3",
   "metadata": {},
   "source": [
    "## TabNet"
   ]
  },
  {
   "cell_type": "code",
   "execution_count": 180,
   "id": "8a5f5326",
   "metadata": {},
   "outputs": [],
   "source": [
    "import pandas as pd\n",
    "import numpy  as np\n",
    "from tqdm.auto import tqdm\n",
    "from pytorch_tabnet.tab_model import TabNetClassifier\n",
    "from sklearn.model_selection import KFold\n",
    "from sklearn.model_selection import train_test_split\n",
    "from sklearn.metrics import mean_squared_log_error\n",
    "import torch"
   ]
  },
  {
   "cell_type": "code",
   "execution_count": 166,
   "id": "d5211d85",
   "metadata": {
    "scrolled": true
   },
   "outputs": [
    {
     "name": "stderr",
     "output_type": "stream",
     "text": [
      "/Users/mckim/miniconda3/envs/py38/lib/python3.8/site-packages/pytorch_tabnet/abstract_model.py:75: UserWarning: Device used : cpu\n",
      "  warnings.warn(f\"Device used : {self.device}\")\n"
     ]
    },
    {
     "name": "stdout",
     "output_type": "stream",
     "text": [
      "start to train: x_train.shape:(7496, 22), y_train.shape:(7496,)\n",
      "start to train: x_val.shape:(1874, 22), y_val.shape:(1874,)\n",
      "y_train mean:0.7174493062966916. y_val mean:0.7118463180362861\n",
      "epoch 0  | loss: 0.69268 | train_auc: 0.53499 | valid_auc: 0.52151 |  0:00:00s\n",
      "epoch 2  | loss: 0.49088 | train_auc: 0.64811 | valid_auc: 0.64805 |  0:00:02s\n",
      "epoch 4  | loss: 0.45949 | train_auc: 0.71413 | valid_auc: 0.71036 |  0:00:04s\n",
      "epoch 6  | loss: 0.4389  | train_auc: 0.67799 | valid_auc: 0.67464 |  0:00:05s\n",
      "epoch 8  | loss: 0.43326 | train_auc: 0.71618 | valid_auc: 0.72723 |  0:00:07s\n",
      "epoch 10 | loss: 0.4256  | train_auc: 0.73286 | valid_auc: 0.73602 |  0:00:08s\n",
      "epoch 12 | loss: 0.42665 | train_auc: 0.75132 | valid_auc: 0.75345 |  0:00:09s\n",
      "epoch 14 | loss: 0.42617 | train_auc: 0.79667 | valid_auc: 0.80656 |  0:00:11s\n",
      "epoch 16 | loss: 0.42077 | train_auc: 0.80482 | valid_auc: 0.81248 |  0:00:12s\n",
      "epoch 18 | loss: 0.41756 | train_auc: 0.81207 | valid_auc: 0.82365 |  0:00:14s\n",
      "epoch 20 | loss: 0.41516 | train_auc: 0.81831 | valid_auc: 0.82751 |  0:00:15s\n",
      "epoch 22 | loss: 0.41595 | train_auc: 0.82734 | valid_auc: 0.83608 |  0:00:16s\n",
      "epoch 24 | loss: 0.41223 | train_auc: 0.82728 | valid_auc: 0.83483 |  0:00:18s\n",
      "epoch 26 | loss: 0.41131 | train_auc: 0.8309  | valid_auc: 0.83638 |  0:00:19s\n",
      "epoch 28 | loss: 0.40818 | train_auc: 0.8347  | valid_auc: 0.83542 |  0:00:21s\n",
      "epoch 30 | loss: 0.40813 | train_auc: 0.84064 | valid_auc: 0.83651 |  0:00:22s\n",
      "epoch 32 | loss: 0.41067 | train_auc: 0.84208 | valid_auc: 0.84226 |  0:00:23s\n",
      "epoch 34 | loss: 0.40966 | train_auc: 0.84686 | valid_auc: 0.84797 |  0:00:25s\n",
      "epoch 36 | loss: 0.40426 | train_auc: 0.85356 | valid_auc: 0.85115 |  0:00:26s\n",
      "epoch 38 | loss: 0.4056  | train_auc: 0.85586 | valid_auc: 0.85285 |  0:00:28s\n",
      "epoch 40 | loss: 0.4034  | train_auc: 0.85878 | valid_auc: 0.85216 |  0:00:29s\n",
      "epoch 42 | loss: 0.40017 | train_auc: 0.85855 | valid_auc: 0.85373 |  0:00:30s\n",
      "epoch 44 | loss: 0.40284 | train_auc: 0.86325 | valid_auc: 0.85622 |  0:00:32s\n",
      "epoch 46 | loss: 0.40319 | train_auc: 0.865   | valid_auc: 0.85409 |  0:00:33s\n",
      "epoch 48 | loss: 0.40227 | train_auc: 0.86506 | valid_auc: 0.8509  |  0:00:35s\n",
      "epoch 50 | loss: 0.40322 | train_auc: 0.85587 | valid_auc: 0.84641 |  0:00:36s\n",
      "epoch 52 | loss: 0.40509 | train_auc: 0.86681 | valid_auc: 0.85216 |  0:00:37s\n",
      "epoch 54 | loss: 0.40395 | train_auc: 0.86722 | valid_auc: 0.85578 |  0:00:39s\n",
      "epoch 56 | loss: 0.40005 | train_auc: 0.86968 | valid_auc: 0.85786 |  0:00:40s\n",
      "epoch 58 | loss: 0.40083 | train_auc: 0.87144 | valid_auc: 0.8567  |  0:00:42s\n",
      "epoch 60 | loss: 0.40298 | train_auc: 0.87128 | valid_auc: 0.85497 |  0:00:43s\n",
      "epoch 62 | loss: 0.39774 | train_auc: 0.87475 | valid_auc: 0.85666 |  0:00:44s\n",
      "epoch 64 | loss: 0.39906 | train_auc: 0.87322 | valid_auc: 0.85493 |  0:00:46s\n",
      "epoch 66 | loss: 0.40047 | train_auc: 0.8761  | valid_auc: 0.856   |  0:00:47s\n",
      "epoch 68 | loss: 0.39369 | train_auc: 0.87401 | valid_auc: 0.85479 |  0:00:49s\n",
      "epoch 70 | loss: 0.39646 | train_auc: 0.87721 | valid_auc: 0.85567 |  0:00:50s\n",
      "epoch 72 | loss: 0.39133 | train_auc: 0.87891 | valid_auc: 0.85395 |  0:00:52s\n",
      "epoch 74 | loss: 0.39313 | train_auc: 0.87928 | valid_auc: 0.85451 |  0:00:54s\n",
      "epoch 76 | loss: 0.38937 | train_auc: 0.88199 | valid_auc: 0.85056 |  0:00:55s\n",
      "epoch 78 | loss: 0.39153 | train_auc: 0.88198 | valid_auc: 0.85338 |  0:00:57s\n",
      "epoch 80 | loss: 0.39065 | train_auc: 0.88189 | valid_auc: 0.85338 |  0:00:59s\n",
      "epoch 82 | loss: 0.39201 | train_auc: 0.8838  | valid_auc: 0.85438 |  0:01:00s\n",
      "epoch 84 | loss: 0.38466 | train_auc: 0.88525 | valid_auc: 0.85452 |  0:01:02s\n",
      "epoch 86 | loss: 0.38715 | train_auc: 0.88571 | valid_auc: 0.85189 |  0:01:03s\n",
      "epoch 88 | loss: 0.38622 | train_auc: 0.88425 | valid_auc: 0.85097 |  0:01:05s\n",
      "epoch 90 | loss: 0.38531 | train_auc: 0.88415 | valid_auc: 0.84908 |  0:01:06s\n",
      "epoch 92 | loss: 0.39067 | train_auc: 0.88711 | valid_auc: 0.848   |  0:01:08s\n",
      "epoch 94 | loss: 0.38657 | train_auc: 0.8857  | valid_auc: 0.84334 |  0:01:09s\n",
      "epoch 96 | loss: 0.38547 | train_auc: 0.88429 | valid_auc: 0.85058 |  0:01:10s\n",
      "epoch 98 | loss: 0.38594 | train_auc: 0.88536 | valid_auc: 0.84338 |  0:01:12s\n",
      "epoch 100| loss: 0.38601 | train_auc: 0.8878  | valid_auc: 0.84894 |  0:01:13s\n",
      "epoch 102| loss: 0.38255 | train_auc: 0.88926 | valid_auc: 0.85018 |  0:01:15s\n",
      "epoch 104| loss: 0.38433 | train_auc: 0.88753 | valid_auc: 0.84889 |  0:01:16s\n",
      "epoch 106| loss: 0.38445 | train_auc: 0.88589 | valid_auc: 0.85435 |  0:01:17s\n",
      "epoch 108| loss: 0.3855  | train_auc: 0.88691 | valid_auc: 0.84364 |  0:01:19s\n",
      "epoch 110| loss: 0.38122 | train_auc: 0.8894  | valid_auc: 0.84479 |  0:01:20s\n",
      "epoch 112| loss: 0.37814 | train_auc: 0.88997 | valid_auc: 0.84879 |  0:01:22s\n",
      "epoch 114| loss: 0.38349 | train_auc: 0.8896  | valid_auc: 0.85005 |  0:01:23s\n",
      "epoch 116| loss: 0.37735 | train_auc: 0.89115 | valid_auc: 0.84756 |  0:01:25s\n",
      "epoch 118| loss: 0.37417 | train_auc: 0.89483 | valid_auc: 0.85649 |  0:01:26s\n",
      "epoch 120| loss: 0.37337 | train_auc: 0.89677 | valid_auc: 0.84729 |  0:01:28s\n",
      "epoch 122| loss: 0.36427 | train_auc: 0.89782 | valid_auc: 0.8476  |  0:01:29s\n",
      "epoch 124| loss: 0.37084 | train_auc: 0.89827 | valid_auc: 0.84454 |  0:01:31s\n",
      "epoch 126| loss: 0.37506 | train_auc: 0.89634 | valid_auc: 0.84416 |  0:01:33s\n",
      "epoch 128| loss: 0.36771 | train_auc: 0.89913 | valid_auc: 0.84857 |  0:01:35s\n",
      "epoch 130| loss: 0.36943 | train_auc: 0.89913 | valid_auc: 0.84655 |  0:01:36s\n",
      "epoch 132| loss: 0.36633 | train_auc: 0.89658 | valid_auc: 0.84901 |  0:01:38s\n",
      "epoch 134| loss: 0.37276 | train_auc: 0.89283 | valid_auc: 0.84808 |  0:01:40s\n",
      "epoch 136| loss: 0.36948 | train_auc: 0.89655 | valid_auc: 0.84702 |  0:01:41s\n",
      "epoch 138| loss: 0.37097 | train_auc: 0.89336 | valid_auc: 0.84853 |  0:01:43s\n",
      "epoch 140| loss: 0.37144 | train_auc: 0.89665 | valid_auc: 0.85122 |  0:01:45s\n",
      "epoch 142| loss: 0.36504 | train_auc: 0.89984 | valid_auc: 0.84392 |  0:01:47s\n",
      "epoch 144| loss: 0.36188 | train_auc: 0.90025 | valid_auc: 0.84283 |  0:01:48s\n",
      "epoch 146| loss: 0.36804 | train_auc: 0.89963 | valid_auc: 0.84503 |  0:01:50s\n",
      "epoch 148| loss: 0.36563 | train_auc: 0.90149 | valid_auc: 0.84613 |  0:01:52s\n",
      "epoch 150| loss: 0.36556 | train_auc: 0.89811 | valid_auc: 0.8475  |  0:01:54s\n",
      "epoch 152| loss: 0.36968 | train_auc: 0.90151 | valid_auc: 0.85093 |  0:01:55s\n",
      "epoch 154| loss: 0.36002 | train_auc: 0.90438 | valid_auc: 0.84743 |  0:01:57s\n",
      "epoch 156| loss: 0.359   | train_auc: 0.9074  | valid_auc: 0.84234 |  0:01:59s\n",
      "\n",
      "Early stopping occurred at epoch 156 with best_epoch = 56 and best_valid_auc = 0.85786\n",
      "Model: TabNetClassifier(n_d=8, n_a=8, n_steps=3, gamma=1.3, cat_idxs=[], cat_dims=[], cat_emb_dim=1, n_independent=2, n_shared=2, epsilon=1e-15, momentum=0.02, lambda_sparse=0.001, seed=1212, clip_value=1, verbose=2, optimizer_fn=<class 'torch.optim.adam.Adam'>, optimizer_params={'lr': 0.02}, scheduler_fn=None, scheduler_params={}, mask_type='sparsemax', input_dim=22, output_dim=2, device_name='auto', n_shared_decoder=1, n_indep_decoder=1)\n"
     ]
    },
    {
     "name": "stderr",
     "output_type": "stream",
     "text": [
      "/Users/mckim/miniconda3/envs/py38/lib/python3.8/site-packages/pytorch_tabnet/callbacks.py:172: UserWarning: Best weights from best epoch are automatically used!\n",
      "  warnings.warn(wrn_msg)\n"
     ]
    },
    {
     "data": {
      "image/png": "[encoded data removed]",
      "text/plain": [
       "<Figure size 432x288 with 1 Axes>"
      ]
     },
     "metadata": {
      "needs_background": "light"
     },
     "output_type": "display_data"
    },
    {
     "name": "stdout",
     "output_type": "stream",
     "text": [
      "y_val.head:[1 1 0 1 1]\n",
      "BEST AUC SCORE ON VALIDATION SET : 0.8578592648120384\n",
      "start to test: x_test.shape:(4586, 22), y_test.shape:(4586,)\n"
     ]
    },
    {
     "data": {
      "text/plain": [
       "array([8.19890322e-02, 2.91435020e-02, 1.11333044e-01, 5.16517743e-02,\n",
       "       4.30659322e-02, 6.80885324e-02, 4.71671498e-03, 1.30531696e-02,\n",
       "       6.04307339e-02, 5.51238781e-02, 1.45590741e-01, 2.36497617e-02,\n",
       "       1.73333839e-02, 5.91865342e-04, 7.92322157e-03, 4.55345700e-02,\n",
       "       1.51826284e-01, 2.49395253e-02, 1.51220416e-04, 4.66986155e-05,\n",
       "       7.20948074e-05, 6.37443205e-02])"
      ]
     },
     "metadata": {},
     "output_type": "display_data"
    },
    {
     "data": {
      "image/png": "[encoded data removed]",
      "text/plain": [
       "<Figure size 432x288 with 1 Axes>"
      ]
     },
     "metadata": {
      "needs_background": "light"
     },
     "output_type": "display_data"
    },
    {
     "name": "stdout",
     "output_type": "stream",
     "text": [
      "preds_test head:[[0.66228783 0.33771214]\n",
      " [0.7375122  0.26248777]\n",
      " [0.72635597 0.27364403]\n",
      " [0.61716497 0.38283503]\n",
      " [0.546746   0.45325395]]\n",
      "BEST AUC SCORE ON TEST SET : 0.8299095954171143\n",
      "Best epoch:56\n",
      "save_path ./train_data/TabNetClassifier_TabNet_DEFAULT_0056.pth\n",
      "Successfully saved model at ./train_data/TabNetClassifier_TabNet_DEFAULT_0056.pth.zip\n",
      "Success to save to :  ./train_data/TabNetClassifier_TabNet_DEFAULT_0056.pth\n",
      "start to train: x_train.shape:(7496, 22), y_train.shape:(7496,)\n",
      "start to train: x_val.shape:(1874, 22), y_val.shape:(1874,)\n",
      "y_train mean:0.7226520811099253. y_val mean:0.7118463180362861\n"
     ]
    },
    {
     "name": "stderr",
     "output_type": "stream",
     "text": [
      "/Users/mckim/miniconda3/envs/py38/lib/python3.8/site-packages/pytorch_tabnet/abstract_model.py:75: UserWarning: Device used : cpu\n",
      "  warnings.warn(f\"Device used : {self.device}\")\n"
     ]
    },
    {
     "name": "stdout",
     "output_type": "stream",
     "text": [
      "epoch 0  | loss: 0.69332 | train_auc: 0.5618  | valid_auc: 0.57075 |  0:00:00s\n",
      "epoch 2  | loss: 0.47209 | train_auc: 0.77577 | valid_auc: 0.77227 |  0:00:03s\n",
      "epoch 4  | loss: 0.45377 | train_auc: 0.7992  | valid_auc: 0.80979 |  0:00:04s\n",
      "epoch 6  | loss: 0.44022 | train_auc: 0.79565 | valid_auc: 0.80915 |  0:00:06s\n",
      "epoch 8  | loss: 0.43019 | train_auc: 0.79619 | valid_auc: 0.81123 |  0:00:08s\n",
      "epoch 10 | loss: 0.42319 | train_auc: 0.80449 | valid_auc: 0.817   |  0:00:10s\n",
      "epoch 12 | loss: 0.42033 | train_auc: 0.81064 | valid_auc: 0.81781 |  0:00:11s\n",
      "epoch 14 | loss: 0.41872 | train_auc: 0.81748 | valid_auc: 0.82508 |  0:00:13s\n",
      "epoch 16 | loss: 0.41337 | train_auc: 0.81738 | valid_auc: 0.82841 |  0:00:15s\n",
      "epoch 18 | loss: 0.41101 | train_auc: 0.82574 | valid_auc: 0.83361 |  0:00:16s\n",
      "epoch 20 | loss: 0.41044 | train_auc: 0.82997 | valid_auc: 0.8342  |  0:00:18s\n",
      "epoch 22 | loss: 0.4096  | train_auc: 0.83208 | valid_auc: 0.8374  |  0:00:20s\n",
      "epoch 24 | loss: 0.41059 | train_auc: 0.83356 | valid_auc: 0.8365  |  0:00:22s\n",
      "epoch 26 | loss: 0.4145  | train_auc: 0.83406 | valid_auc: 0.83603 |  0:00:24s\n",
      "epoch 28 | loss: 0.40508 | train_auc: 0.83977 | valid_auc: 0.84373 |  0:00:25s\n",
      "epoch 30 | loss: 0.4034  | train_auc: 0.83493 | valid_auc: 0.83499 |  0:00:27s\n",
      "epoch 32 | loss: 0.40611 | train_auc: 0.84364 | valid_auc: 0.84286 |  0:00:29s\n",
      "epoch 34 | loss: 0.40109 | train_auc: 0.84393 | valid_auc: 0.83981 |  0:00:30s\n",
      "epoch 36 | loss: 0.39576 | train_auc: 0.85375 | valid_auc: 0.85297 |  0:00:32s\n",
      "epoch 38 | loss: 0.39961 | train_auc: 0.85486 | valid_auc: 0.85214 |  0:00:34s\n",
      "epoch 40 | loss: 0.39583 | train_auc: 0.85485 | valid_auc: 0.84818 |  0:00:36s\n",
      "epoch 42 | loss: 0.3991  | train_auc: 0.85441 | valid_auc: 0.84823 |  0:00:37s\n",
      "epoch 44 | loss: 0.3975  | train_auc: 0.85988 | valid_auc: 0.85094 |  0:00:39s\n",
      "epoch 46 | loss: 0.3958  | train_auc: 0.86133 | valid_auc: 0.85329 |  0:00:41s\n",
      "epoch 48 | loss: 0.3993  | train_auc: 0.86594 | valid_auc: 0.85499 |  0:00:42s\n",
      "epoch 50 | loss: 0.4004  | train_auc: 0.86371 | valid_auc: 0.85454 |  0:00:44s\n",
      "epoch 52 | loss: 0.39828 | train_auc: 0.86584 | valid_auc: 0.85765 |  0:00:46s\n",
      "epoch 54 | loss: 0.39564 | train_auc: 0.86446 | valid_auc: 0.85146 |  0:00:48s\n",
      "epoch 56 | loss: 0.39527 | train_auc: 0.87146 | valid_auc: 0.85574 |  0:00:49s\n",
      "epoch 58 | loss: 0.39306 | train_auc: 0.87406 | valid_auc: 0.85595 |  0:00:51s\n",
      "epoch 60 | loss: 0.39429 | train_auc: 0.87154 | valid_auc: 0.85777 |  0:00:53s\n",
      "epoch 62 | loss: 0.39399 | train_auc: 0.87469 | valid_auc: 0.85763 |  0:00:55s\n",
      "epoch 64 | loss: 0.38958 | train_auc: 0.87648 | valid_auc: 0.85287 |  0:00:56s\n",
      "epoch 66 | loss: 0.38702 | train_auc: 0.87313 | valid_auc: 0.85438 |  0:00:59s\n",
      "epoch 68 | loss: 0.38698 | train_auc: 0.8752  | valid_auc: 0.85404 |  0:01:01s\n",
      "epoch 70 | loss: 0.39352 | train_auc: 0.87831 | valid_auc: 0.85583 |  0:01:03s\n",
      "epoch 72 | loss: 0.39168 | train_auc: 0.87773 | valid_auc: 0.85206 |  0:01:04s\n",
      "epoch 74 | loss: 0.39264 | train_auc: 0.88024 | valid_auc: 0.85466 |  0:01:06s\n",
      "epoch 76 | loss: 0.39285 | train_auc: 0.88147 | valid_auc: 0.85554 |  0:01:08s\n",
      "epoch 78 | loss: 0.38454 | train_auc: 0.88095 | valid_auc: 0.84628 |  0:01:10s\n",
      "epoch 80 | loss: 0.38795 | train_auc: 0.88189 | valid_auc: 0.85501 |  0:01:12s\n",
      "epoch 82 | loss: 0.38762 | train_auc: 0.88315 | valid_auc: 0.85657 |  0:01:14s\n",
      "epoch 84 | loss: 0.38404 | train_auc: 0.88528 | valid_auc: 0.85908 |  0:01:15s\n",
      "epoch 86 | loss: 0.38412 | train_auc: 0.88506 | valid_auc: 0.85383 |  0:01:17s\n",
      "epoch 88 | loss: 0.38695 | train_auc: 0.8822  | valid_auc: 0.85187 |  0:01:19s\n",
      "epoch 90 | loss: 0.38386 | train_auc: 0.88323 | valid_auc: 0.85558 |  0:01:20s\n",
      "epoch 92 | loss: 0.38198 | train_auc: 0.8838  | valid_auc: 0.85    |  0:01:22s\n",
      "epoch 94 | loss: 0.38418 | train_auc: 0.88207 | valid_auc: 0.85269 |  0:01:24s\n",
      "epoch 96 | loss: 0.38626 | train_auc: 0.88262 | valid_auc: 0.85575 |  0:01:26s\n",
      "epoch 98 | loss: 0.38151 | train_auc: 0.88628 | valid_auc: 0.84934 |  0:01:27s\n",
      "epoch 100| loss: 0.38336 | train_auc: 0.88221 | valid_auc: 0.85794 |  0:01:29s\n",
      "epoch 102| loss: 0.38259 | train_auc: 0.8843  | valid_auc: 0.85755 |  0:01:31s\n",
      "epoch 104| loss: 0.38104 | train_auc: 0.88743 | valid_auc: 0.85522 |  0:01:33s\n",
      "epoch 106| loss: 0.3823  | train_auc: 0.88985 | valid_auc: 0.84869 |  0:01:34s\n",
      "epoch 108| loss: 0.38122 | train_auc: 0.88959 | valid_auc: 0.85258 |  0:01:36s\n",
      "epoch 110| loss: 0.37901 | train_auc: 0.8868  | valid_auc: 0.85235 |  0:01:38s\n",
      "epoch 112| loss: 0.38672 | train_auc: 0.88374 | valid_auc: 0.85905 |  0:01:40s\n",
      "epoch 114| loss: 0.37479 | train_auc: 0.89062 | valid_auc: 0.85268 |  0:01:42s\n",
      "epoch 116| loss: 0.3748  | train_auc: 0.89037 | valid_auc: 0.85575 |  0:01:43s\n",
      "epoch 118| loss: 0.37962 | train_auc: 0.89002 | valid_auc: 0.853   |  0:01:45s\n",
      "epoch 120| loss: 0.37443 | train_auc: 0.89161 | valid_auc: 0.8598  |  0:01:47s\n",
      "epoch 122| loss: 0.37559 | train_auc: 0.89207 | valid_auc: 0.85469 |  0:01:49s\n",
      "epoch 124| loss: 0.37262 | train_auc: 0.89514 | valid_auc: 0.85617 |  0:01:50s\n",
      "epoch 126| loss: 0.36669 | train_auc: 0.89499 | valid_auc: 0.85559 |  0:01:52s\n",
      "epoch 128| loss: 0.36903 | train_auc: 0.89405 | valid_auc: 0.84616 |  0:01:54s\n",
      "epoch 130| loss: 0.36629 | train_auc: 0.89626 | valid_auc: 0.84909 |  0:01:55s\n",
      "epoch 132| loss: 0.37543 | train_auc: 0.89563 | valid_auc: 0.85044 |  0:01:57s\n",
      "epoch 134| loss: 0.37072 | train_auc: 0.89604 | valid_auc: 0.84661 |  0:01:59s\n",
      "epoch 136| loss: 0.3675  | train_auc: 0.89762 | valid_auc: 0.84364 |  0:02:01s\n",
      "epoch 138| loss: 0.36949 | train_auc: 0.89819 | valid_auc: 0.85095 |  0:02:03s\n",
      "epoch 140| loss: 0.36461 | train_auc: 0.90081 | valid_auc: 0.85018 |  0:02:05s\n",
      "epoch 142| loss: 0.36835 | train_auc: 0.90133 | valid_auc: 0.84369 |  0:02:07s\n",
      "epoch 144| loss: 0.36892 | train_auc: 0.90019 | valid_auc: 0.84453 |  0:02:09s\n",
      "epoch 146| loss: 0.36721 | train_auc: 0.89999 | valid_auc: 0.84684 |  0:02:10s\n",
      "epoch 148| loss: 0.36274 | train_auc: 0.9019  | valid_auc: 0.8438  |  0:02:12s\n",
      "epoch 150| loss: 0.36405 | train_auc: 0.8999  | valid_auc: 0.84719 |  0:02:14s\n",
      "epoch 152| loss: 0.36813 | train_auc: 0.90069 | valid_auc: 0.84461 |  0:02:16s\n",
      "epoch 154| loss: 0.36391 | train_auc: 0.89932 | valid_auc: 0.84274 |  0:02:18s\n",
      "epoch 156| loss: 0.366   | train_auc: 0.90118 | valid_auc: 0.84653 |  0:02:20s\n",
      "epoch 158| loss: 0.36499 | train_auc: 0.90222 | valid_auc: 0.83957 |  0:02:21s\n",
      "epoch 160| loss: 0.36482 | train_auc: 0.90205 | valid_auc: 0.8392  |  0:02:23s\n",
      "epoch 162| loss: 0.36535 | train_auc: 0.89942 | valid_auc: 0.84858 |  0:02:25s\n",
      "epoch 164| loss: 0.36131 | train_auc: 0.90596 | valid_auc: 0.84697 |  0:02:27s\n",
      "epoch 166| loss: 0.36051 | train_auc: 0.90696 | valid_auc: 0.84821 |  0:02:29s\n",
      "epoch 168| loss: 0.35691 | train_auc: 0.90742 | valid_auc: 0.84501 |  0:02:30s\n",
      "epoch 170| loss: 0.35894 | train_auc: 0.90778 | valid_auc: 0.84974 |  0:02:32s\n",
      "epoch 172| loss: 0.35491 | train_auc: 0.90538 | valid_auc: 0.84026 |  0:02:33s\n",
      "epoch 174| loss: 0.35055 | train_auc: 0.91025 | valid_auc: 0.84249 |  0:02:35s\n",
      "epoch 176| loss: 0.35537 | train_auc: 0.90656 | valid_auc: 0.83763 |  0:02:37s\n",
      "epoch 178| loss: 0.35894 | train_auc: 0.90583 | valid_auc: 0.84266 |  0:02:38s\n",
      "epoch 180| loss: 0.36027 | train_auc: 0.90789 | valid_auc: 0.839   |  0:02:40s\n",
      "epoch 182| loss: 0.35849 | train_auc: 0.9062  | valid_auc: 0.83926 |  0:02:42s\n",
      "epoch 184| loss: 0.35227 | train_auc: 0.91161 | valid_auc: 0.83715 |  0:02:44s\n",
      "epoch 186| loss: 0.35422 | train_auc: 0.90854 | valid_auc: 0.83652 |  0:02:46s\n",
      "epoch 188| loss: 0.35005 | train_auc: 0.90932 | valid_auc: 0.84146 |  0:02:48s\n",
      "epoch 190| loss: 0.3482  | train_auc: 0.91115 | valid_auc: 0.83737 |  0:02:49s\n",
      "epoch 192| loss: 0.36339 | train_auc: 0.90583 | valid_auc: 0.83915 |  0:02:51s\n",
      "epoch 194| loss: 0.36135 | train_auc: 0.90354 | valid_auc: 0.83881 |  0:02:52s\n",
      "epoch 196| loss: 0.35508 | train_auc: 0.90597 | valid_auc: 0.84189 |  0:02:54s\n",
      "epoch 198| loss: 0.35078 | train_auc: 0.9127  | valid_auc: 0.84052 |  0:02:55s\n",
      "epoch 200| loss: 0.34419 | train_auc: 0.91511 | valid_auc: 0.84205 |  0:02:57s\n",
      "epoch 202| loss: 0.34879 | train_auc: 0.91403 | valid_auc: 0.8346  |  0:02:58s\n",
      "epoch 204| loss: 0.34671 | train_auc: 0.91361 | valid_auc: 0.83498 |  0:03:00s\n",
      "epoch 206| loss: 0.34529 | train_auc: 0.9153  | valid_auc: 0.83721 |  0:03:01s\n"
     ]
    },
    {
     "name": "stdout",
     "output_type": "stream",
     "text": [
      "epoch 208| loss: 0.34523 | train_auc: 0.91603 | valid_auc: 0.83265 |  0:03:03s\n",
      "epoch 210| loss: 0.34826 | train_auc: 0.9136  | valid_auc: 0.83651 |  0:03:05s\n",
      "epoch 212| loss: 0.35418 | train_auc: 0.91149 | valid_auc: 0.83351 |  0:03:07s\n",
      "epoch 214| loss: 0.34998 | train_auc: 0.91506 | valid_auc: 0.84276 |  0:03:09s\n",
      "epoch 216| loss: 0.3413  | train_auc: 0.91572 | valid_auc: 0.83224 |  0:03:11s\n",
      "epoch 218| loss: 0.34341 | train_auc: 0.91912 | valid_auc: 0.8327  |  0:03:13s\n",
      "epoch 220| loss: 0.34547 | train_auc: 0.91531 | valid_auc: 0.83372 |  0:03:15s\n",
      "\n",
      "Early stopping occurred at epoch 220 with best_epoch = 120 and best_valid_auc = 0.8598\n"
     ]
    },
    {
     "name": "stderr",
     "output_type": "stream",
     "text": [
      "/Users/mckim/miniconda3/envs/py38/lib/python3.8/site-packages/pytorch_tabnet/callbacks.py:172: UserWarning: Best weights from best epoch are automatically used!\n",
      "  warnings.warn(wrn_msg)\n"
     ]
    },
    {
     "name": "stdout",
     "output_type": "stream",
     "text": [
      "Model: TabNetClassifier(n_d=8, n_a=8, n_steps=3, gamma=1.3, cat_idxs=[], cat_dims=[], cat_emb_dim=1, n_independent=2, n_shared=2, epsilon=1e-15, momentum=0.02, lambda_sparse=0.001, seed=1212, clip_value=1, verbose=2, optimizer_fn=<class 'torch.optim.adam.Adam'>, optimizer_params={'lr': 0.02}, scheduler_fn=None, scheduler_params={}, mask_type='sparsemax', input_dim=22, output_dim=2, device_name='auto', n_shared_decoder=1, n_indep_decoder=1)\n"
     ]
    },
    {
     "data": {
      "image/png": "[encoded data removed]",
      "text/plain": [
       "<Figure size 432x288 with 1 Axes>"
      ]
     },
     "metadata": {
      "needs_background": "light"
     },
     "output_type": "display_data"
    },
    {
     "name": "stdout",
     "output_type": "stream",
     "text": [
      "y_val.head:[0 1 0 0 1]\n",
      "BEST AUC SCORE ON VALIDATION SET : 0.8598013493253374\n",
      "start to test: x_test.shape:(4586, 22), y_test.shape:(4586,)\n"
     ]
    },
    {
     "data": {
      "text/plain": [
       "array([8.98482971e-02, 6.92239009e-02, 4.04541044e-02, 7.90495954e-03,\n",
       "       8.82356935e-02, 2.70997154e-02, 3.85178150e-02, 2.58978173e-02,\n",
       "       3.68196989e-02, 1.64496910e-02, 8.77105540e-02, 7.34876672e-03,\n",
       "       1.04341596e-02, 5.89869393e-03, 6.79785149e-03, 8.04814898e-02,\n",
       "       1.46003233e-01, 1.80985648e-05, 1.00200553e-01, 5.44936772e-02,\n",
       "       2.51571997e-02, 3.50040304e-02])"
      ]
     },
     "metadata": {},
     "output_type": "display_data"
    },
    {
     "data": {
      "image/png": "[encoded data removed]",
      "text/plain": [
       "<Figure size 432x288 with 1 Axes>"
      ]
     },
     "metadata": {
      "needs_background": "light"
     },
     "output_type": "display_data"
    },
    {
     "name": "stdout",
     "output_type": "stream",
     "text": [
      "preds_test head:[[0.9408746  0.05912547]\n",
      " [0.68785536 0.3121446 ]\n",
      " [0.63568217 0.36431783]\n",
      " [0.7321817  0.26781833]\n",
      " [0.83739287 0.16260721]]\n",
      "BEST AUC SCORE ON TEST SET : 0.8266923994478175\n",
      "Best epoch:120\n",
      "save_path ./train_data/TabNetClassifier_TabNet_DEFAULT_0120.pth\n",
      "Successfully saved model at ./train_data/TabNetClassifier_TabNet_DEFAULT_0120.pth.zip\n",
      "Success to save to :  ./train_data/TabNetClassifier_TabNet_DEFAULT_0120.pth\n",
      "start to train: x_train.shape:(7496, 22), y_train.shape:(7496,)\n",
      "start to train: x_val.shape:(1874, 22), y_val.shape:(1874,)\n",
      "y_train mean:0.7202508004268944. y_val mean:0.7299893276414088\n"
     ]
    },
    {
     "name": "stderr",
     "output_type": "stream",
     "text": [
      "/Users/mckim/miniconda3/envs/py38/lib/python3.8/site-packages/pytorch_tabnet/abstract_model.py:75: UserWarning: Device used : cpu\n",
      "  warnings.warn(f\"Device used : {self.device}\")\n"
     ]
    },
    {
     "name": "stdout",
     "output_type": "stream",
     "text": [
      "epoch 0  | loss: 0.67307 | train_auc: 0.47067 | valid_auc: 0.46621 |  0:00:01s\n",
      "epoch 2  | loss: 0.4851  | train_auc: 0.67565 | valid_auc: 0.67943 |  0:00:02s\n",
      "epoch 4  | loss: 0.46602 | train_auc: 0.73829 | valid_auc: 0.74772 |  0:00:04s\n",
      "epoch 6  | loss: 0.45325 | train_auc: 0.75546 | valid_auc: 0.75556 |  0:00:05s\n",
      "epoch 8  | loss: 0.44614 | train_auc: 0.79473 | valid_auc: 0.79595 |  0:00:07s\n",
      "epoch 10 | loss: 0.43428 | train_auc: 0.8075  | valid_auc: 0.8114  |  0:00:09s\n",
      "epoch 12 | loss: 0.42961 | train_auc: 0.81369 | valid_auc: 0.81628 |  0:00:11s\n",
      "epoch 14 | loss: 0.42652 | train_auc: 0.81084 | valid_auc: 0.82078 |  0:00:13s\n",
      "epoch 16 | loss: 0.42757 | train_auc: 0.81094 | valid_auc: 0.82736 |  0:00:15s\n",
      "epoch 18 | loss: 0.4296  | train_auc: 0.81272 | valid_auc: 0.82127 |  0:00:16s\n",
      "epoch 20 | loss: 0.42479 | train_auc: 0.81831 | valid_auc: 0.82125 |  0:00:18s\n",
      "epoch 22 | loss: 0.4205  | train_auc: 0.826   | valid_auc: 0.83094 |  0:00:20s\n",
      "epoch 24 | loss: 0.42339 | train_auc: 0.82595 | valid_auc: 0.82414 |  0:00:22s\n",
      "epoch 26 | loss: 0.42135 | train_auc: 0.82663 | valid_auc: 0.82788 |  0:00:24s\n",
      "epoch 28 | loss: 0.421   | train_auc: 0.824   | valid_auc: 0.82579 |  0:00:25s\n",
      "epoch 30 | loss: 0.41692 | train_auc: 0.83151 | valid_auc: 0.83587 |  0:00:27s\n",
      "epoch 32 | loss: 0.41675 | train_auc: 0.83647 | valid_auc: 0.84035 |  0:00:28s\n",
      "epoch 34 | loss: 0.41409 | train_auc: 0.83472 | valid_auc: 0.83243 |  0:00:30s\n",
      "epoch 36 | loss: 0.41513 | train_auc: 0.83901 | valid_auc: 0.83416 |  0:00:32s\n",
      "epoch 38 | loss: 0.41702 | train_auc: 0.84241 | valid_auc: 0.8379  |  0:00:33s\n",
      "epoch 40 | loss: 0.41623 | train_auc: 0.8434  | valid_auc: 0.83937 |  0:00:35s\n",
      "epoch 42 | loss: 0.4125  | train_auc: 0.84514 | valid_auc: 0.83986 |  0:00:36s\n",
      "epoch 44 | loss: 0.4145  | train_auc: 0.84704 | valid_auc: 0.83936 |  0:00:38s\n",
      "epoch 46 | loss: 0.41463 | train_auc: 0.84798 | valid_auc: 0.8401  |  0:00:40s\n",
      "epoch 48 | loss: 0.40927 | train_auc: 0.84856 | valid_auc: 0.84036 |  0:00:41s\n",
      "epoch 50 | loss: 0.40805 | train_auc: 0.85531 | valid_auc: 0.84227 |  0:00:43s\n",
      "epoch 52 | loss: 0.40846 | train_auc: 0.85816 | valid_auc: 0.83755 |  0:00:45s\n",
      "epoch 54 | loss: 0.40309 | train_auc: 0.8588  | valid_auc: 0.83729 |  0:00:46s\n",
      "epoch 56 | loss: 0.40801 | train_auc: 0.86227 | valid_auc: 0.84108 |  0:00:48s\n",
      "epoch 58 | loss: 0.40181 | train_auc: 0.86351 | valid_auc: 0.83953 |  0:00:50s\n",
      "epoch 60 | loss: 0.40103 | train_auc: 0.86477 | valid_auc: 0.83777 |  0:00:51s\n",
      "epoch 62 | loss: 0.40074 | train_auc: 0.86498 | valid_auc: 0.83913 |  0:00:53s\n",
      "epoch 64 | loss: 0.40063 | train_auc: 0.86687 | valid_auc: 0.84431 |  0:00:54s\n",
      "epoch 66 | loss: 0.40219 | train_auc: 0.86868 | valid_auc: 0.84061 |  0:00:56s\n",
      "epoch 68 | loss: 0.40248 | train_auc: 0.86678 | valid_auc: 0.84237 |  0:00:57s\n",
      "epoch 70 | loss: 0.39767 | train_auc: 0.86967 | valid_auc: 0.84291 |  0:00:59s\n",
      "epoch 72 | loss: 0.39519 | train_auc: 0.87168 | valid_auc: 0.84157 |  0:01:01s\n",
      "epoch 74 | loss: 0.39795 | train_auc: 0.87283 | valid_auc: 0.84365 |  0:01:02s\n",
      "epoch 76 | loss: 0.39809 | train_auc: 0.87236 | valid_auc: 0.84734 |  0:01:04s\n",
      "epoch 78 | loss: 0.39416 | train_auc: 0.87279 | valid_auc: 0.84137 |  0:01:05s\n",
      "epoch 80 | loss: 0.39746 | train_auc: 0.87378 | valid_auc: 0.84901 |  0:01:06s\n",
      "epoch 82 | loss: 0.39063 | train_auc: 0.87564 | valid_auc: 0.8461  |  0:01:08s\n",
      "epoch 84 | loss: 0.38989 | train_auc: 0.87674 | valid_auc: 0.84213 |  0:01:10s\n",
      "epoch 86 | loss: 0.39318 | train_auc: 0.87794 | valid_auc: 0.84047 |  0:01:11s\n",
      "epoch 88 | loss: 0.38732 | train_auc: 0.87682 | valid_auc: 0.84199 |  0:01:13s\n",
      "epoch 90 | loss: 0.39189 | train_auc: 0.8778  | valid_auc: 0.84296 |  0:01:15s\n",
      "epoch 92 | loss: 0.39283 | train_auc: 0.87827 | valid_auc: 0.83998 |  0:01:16s\n",
      "epoch 94 | loss: 0.38868 | train_auc: 0.87806 | valid_auc: 0.84253 |  0:01:18s\n",
      "epoch 96 | loss: 0.39072 | train_auc: 0.88031 | valid_auc: 0.83212 |  0:01:20s\n",
      "epoch 98 | loss: 0.39238 | train_auc: 0.88043 | valid_auc: 0.83679 |  0:01:21s\n",
      "epoch 100| loss: 0.39236 | train_auc: 0.88089 | valid_auc: 0.84733 |  0:01:23s\n",
      "epoch 102| loss: 0.39185 | train_auc: 0.87858 | valid_auc: 0.84083 |  0:01:25s\n",
      "epoch 104| loss: 0.39556 | train_auc: 0.87707 | valid_auc: 0.83853 |  0:01:26s\n",
      "epoch 106| loss: 0.39115 | train_auc: 0.87928 | valid_auc: 0.8437  |  0:01:28s\n",
      "epoch 108| loss: 0.3891  | train_auc: 0.88128 | valid_auc: 0.83995 |  0:01:30s\n",
      "epoch 110| loss: 0.3848  | train_auc: 0.88468 | valid_auc: 0.83772 |  0:01:32s\n",
      "epoch 112| loss: 0.3861  | train_auc: 0.88048 | valid_auc: 0.83932 |  0:01:34s\n",
      "epoch 114| loss: 0.3888  | train_auc: 0.87929 | valid_auc: 0.83557 |  0:01:35s\n",
      "epoch 116| loss: 0.39314 | train_auc: 0.88187 | valid_auc: 0.83712 |  0:01:37s\n",
      "epoch 118| loss: 0.38669 | train_auc: 0.88494 | valid_auc: 0.83439 |  0:01:39s\n",
      "epoch 120| loss: 0.38403 | train_auc: 0.88601 | valid_auc: 0.83525 |  0:01:40s\n",
      "epoch 122| loss: 0.38562 | train_auc: 0.8835  | valid_auc: 0.83643 |  0:01:42s\n",
      "epoch 124| loss: 0.38375 | train_auc: 0.88717 | valid_auc: 0.83713 |  0:01:43s\n",
      "epoch 126| loss: 0.38314 | train_auc: 0.89003 | valid_auc: 0.83628 |  0:01:45s\n",
      "epoch 128| loss: 0.37801 | train_auc: 0.89009 | valid_auc: 0.83761 |  0:01:46s\n",
      "epoch 130| loss: 0.37816 | train_auc: 0.88704 | valid_auc: 0.83629 |  0:01:48s\n",
      "epoch 132| loss: 0.37864 | train_auc: 0.89002 | valid_auc: 0.83203 |  0:01:50s\n",
      "epoch 134| loss: 0.37364 | train_auc: 0.89484 | valid_auc: 0.8371  |  0:01:51s\n",
      "epoch 136| loss: 0.37586 | train_auc: 0.89244 | valid_auc: 0.8347  |  0:01:53s\n",
      "epoch 138| loss: 0.37209 | train_auc: 0.89594 | valid_auc: 0.82657 |  0:01:54s\n",
      "epoch 140| loss: 0.37395 | train_auc: 0.89158 | valid_auc: 0.83296 |  0:01:56s\n",
      "epoch 142| loss: 0.37731 | train_auc: 0.893   | valid_auc: 0.831   |  0:01:57s\n",
      "epoch 144| loss: 0.3789  | train_auc: 0.89083 | valid_auc: 0.83557 |  0:01:59s\n",
      "epoch 146| loss: 0.37435 | train_auc: 0.89657 | valid_auc: 0.83553 |  0:02:00s\n",
      "epoch 148| loss: 0.37028 | train_auc: 0.8947  | valid_auc: 0.83408 |  0:02:02s\n",
      "epoch 150| loss: 0.37126 | train_auc: 0.89734 | valid_auc: 0.83475 |  0:02:03s\n",
      "epoch 152| loss: 0.36866 | train_auc: 0.8965  | valid_auc: 0.82855 |  0:02:05s\n",
      "epoch 154| loss: 0.37258 | train_auc: 0.89739 | valid_auc: 0.82538 |  0:02:07s\n",
      "epoch 156| loss: 0.36616 | train_auc: 0.90001 | valid_auc: 0.82483 |  0:02:08s\n",
      "epoch 158| loss: 0.36779 | train_auc: 0.89729 | valid_auc: 0.83035 |  0:02:10s\n",
      "epoch 160| loss: 0.36861 | train_auc: 0.89579 | valid_auc: 0.82742 |  0:02:11s\n",
      "epoch 162| loss: 0.36975 | train_auc: 0.89566 | valid_auc: 0.83292 |  0:02:13s\n",
      "epoch 164| loss: 0.36983 | train_auc: 0.89677 | valid_auc: 0.83389 |  0:02:14s\n",
      "epoch 166| loss: 0.36466 | train_auc: 0.90185 | valid_auc: 0.83508 |  0:02:16s\n",
      "epoch 168| loss: 0.36044 | train_auc: 0.90068 | valid_auc: 0.83549 |  0:02:17s\n",
      "epoch 170| loss: 0.36042 | train_auc: 0.9043  | valid_auc: 0.83452 |  0:02:19s\n",
      "epoch 172| loss: 0.36026 | train_auc: 0.90423 | valid_auc: 0.83412 |  0:02:20s\n",
      "epoch 174| loss: 0.36331 | train_auc: 0.90352 | valid_auc: 0.83438 |  0:02:22s\n",
      "epoch 176| loss: 0.35926 | train_auc: 0.9033  | valid_auc: 0.83537 |  0:02:23s\n",
      "epoch 178| loss: 0.36468 | train_auc: 0.90338 | valid_auc: 0.82943 |  0:02:25s\n",
      "epoch 180| loss: 0.36279 | train_auc: 0.90158 | valid_auc: 0.83217 |  0:02:26s\n",
      "\n",
      "Early stopping occurred at epoch 180 with best_epoch = 80 and best_valid_auc = 0.84901\n",
      "Model: TabNetClassifier(n_d=8, n_a=8, n_steps=3, gamma=1.3, cat_idxs=[], cat_dims=[], cat_emb_dim=1, n_independent=2, n_shared=2, epsilon=1e-15, momentum=0.02, lambda_sparse=0.001, seed=1212, clip_value=1, verbose=2, optimizer_fn=<class 'torch.optim.adam.Adam'>, optimizer_params={'lr': 0.02}, scheduler_fn=None, scheduler_params={}, mask_type='sparsemax', input_dim=22, output_dim=2, device_name='auto', n_shared_decoder=1, n_indep_decoder=1)\n"
     ]
    },
    {
     "name": "stderr",
     "output_type": "stream",
     "text": [
      "/Users/mckim/miniconda3/envs/py38/lib/python3.8/site-packages/pytorch_tabnet/callbacks.py:172: UserWarning: Best weights from best epoch are automatically used!\n",
      "  warnings.warn(wrn_msg)\n"
     ]
    },
    {
     "data": {
      "image/png": "[encoded data removed]",
      "text/plain": [
       "<Figure size 432x288 with 1 Axes>"
      ]
     },
     "metadata": {
      "needs_background": "light"
     },
     "output_type": "display_data"
    },
    {
     "name": "stdout",
     "output_type": "stream",
     "text": [
      "y_val.head:[1 1 1 1 0]\n",
      "BEST AUC SCORE ON VALIDATION SET : 0.8490063680281071\n",
      "start to test: x_test.shape:(4586, 22), y_test.shape:(4586,)\n"
     ]
    },
    {
     "data": {
      "text/plain": [
       "array([1.47924411e-01, 3.58034020e-02, 9.48853158e-02, 3.67165350e-03,\n",
       "       3.04909736e-02, 1.11293019e-01, 1.00751324e-03, 8.22197955e-03,\n",
       "       2.98278338e-02, 9.39826311e-02, 5.78949237e-02, 1.73296550e-06,\n",
       "       5.79966244e-02, 2.01184973e-05, 8.89036612e-03, 6.52687952e-02,\n",
       "       1.53160644e-01, 1.32352891e-02, 3.77640532e-02, 4.21683799e-03,\n",
       "       2.72857640e-02, 1.71561188e-02])"
      ]
     },
     "metadata": {},
     "output_type": "display_data"
    },
    {
     "data": {
      "image/png": "[encoded data removed]",
      "text/plain": [
       "<Figure size 432x288 with 1 Axes>"
      ]
     },
     "metadata": {
      "needs_background": "light"
     },
     "output_type": "display_data"
    },
    {
     "name": "stdout",
     "output_type": "stream",
     "text": [
      "preds_test head:[[0.7540891  0.24591093]\n",
      " [0.87220305 0.12779702]\n",
      " [0.85246634 0.14753363]\n",
      " [0.8659547  0.1340453 ]\n",
      " [0.6801608  0.31983912]]\n",
      "BEST AUC SCORE ON TEST SET : 0.8363573898458905\n",
      "Best epoch:80\n",
      "save_path ./train_data/TabNetClassifier_TabNet_DEFAULT_0080.pth\n",
      "Successfully saved model at ./train_data/TabNetClassifier_TabNet_DEFAULT_0080.pth.zip\n",
      "Success to save to :  ./train_data/TabNetClassifier_TabNet_DEFAULT_0080.pth\n",
      "start to train: x_train.shape:(7496, 22), y_train.shape:(7496,)\n",
      "start to train: x_val.shape:(1874, 22), y_val.shape:(1874,)\n",
      "y_train mean:0.7145144076840982. y_val mean:0.7182497331910352\n"
     ]
    },
    {
     "name": "stderr",
     "output_type": "stream",
     "text": [
      "/Users/mckim/miniconda3/envs/py38/lib/python3.8/site-packages/pytorch_tabnet/abstract_model.py:75: UserWarning: Device used : cpu\n",
      "  warnings.warn(f\"Device used : {self.device}\")\n"
     ]
    },
    {
     "name": "stdout",
     "output_type": "stream",
     "text": [
      "epoch 0  | loss: 0.68003 | train_auc: 0.61264 | valid_auc: 0.58366 |  0:00:00s\n",
      "epoch 2  | loss: 0.49003 | train_auc: 0.74643 | valid_auc: 0.73199 |  0:00:02s\n",
      "epoch 4  | loss: 0.45724 | train_auc: 0.8033  | valid_auc: 0.79731 |  0:00:03s\n",
      "epoch 6  | loss: 0.4466  | train_auc: 0.81048 | valid_auc: 0.80103 |  0:00:05s\n",
      "epoch 8  | loss: 0.44319 | train_auc: 0.80598 | valid_auc: 0.79356 |  0:00:07s\n",
      "epoch 10 | loss: 0.43348 | train_auc: 0.80699 | valid_auc: 0.79768 |  0:00:08s\n",
      "epoch 12 | loss: 0.43049 | train_auc: 0.81448 | valid_auc: 0.80754 |  0:00:10s\n",
      "epoch 14 | loss: 0.42772 | train_auc: 0.81737 | valid_auc: 0.8089  |  0:00:11s\n",
      "epoch 16 | loss: 0.4247  | train_auc: 0.82468 | valid_auc: 0.81476 |  0:00:13s\n",
      "epoch 18 | loss: 0.42656 | train_auc: 0.82563 | valid_auc: 0.81748 |  0:00:14s\n",
      "epoch 20 | loss: 0.42757 | train_auc: 0.82741 | valid_auc: 0.81883 |  0:00:16s\n",
      "epoch 22 | loss: 0.42228 | train_auc: 0.82917 | valid_auc: 0.81921 |  0:00:17s\n",
      "epoch 24 | loss: 0.42299 | train_auc: 0.83591 | valid_auc: 0.82474 |  0:00:19s\n",
      "epoch 26 | loss: 0.41884 | train_auc: 0.83933 | valid_auc: 0.82681 |  0:00:20s\n",
      "epoch 28 | loss: 0.41954 | train_auc: 0.84139 | valid_auc: 0.82701 |  0:00:22s\n",
      "epoch 30 | loss: 0.41867 | train_auc: 0.84462 | valid_auc: 0.8277  |  0:00:24s\n",
      "epoch 32 | loss: 0.42313 | train_auc: 0.84378 | valid_auc: 0.82671 |  0:00:25s\n",
      "epoch 34 | loss: 0.42268 | train_auc: 0.84259 | valid_auc: 0.82799 |  0:00:27s\n",
      "epoch 36 | loss: 0.42119 | train_auc: 0.84442 | valid_auc: 0.82811 |  0:00:28s\n",
      "epoch 38 | loss: 0.4178  | train_auc: 0.84579 | valid_auc: 0.82965 |  0:00:30s\n",
      "epoch 40 | loss: 0.41767 | train_auc: 0.84957 | valid_auc: 0.83168 |  0:00:31s\n",
      "epoch 42 | loss: 0.41915 | train_auc: 0.85039 | valid_auc: 0.83328 |  0:00:33s\n",
      "epoch 44 | loss: 0.41779 | train_auc: 0.85027 | valid_auc: 0.83126 |  0:00:34s\n",
      "epoch 46 | loss: 0.41636 | train_auc: 0.85294 | valid_auc: 0.83623 |  0:00:36s\n",
      "epoch 48 | loss: 0.41834 | train_auc: 0.8548  | valid_auc: 0.83369 |  0:00:37s\n",
      "epoch 50 | loss: 0.41027 | train_auc: 0.85832 | valid_auc: 0.83587 |  0:00:39s\n",
      "epoch 52 | loss: 0.41506 | train_auc: 0.85693 | valid_auc: 0.83135 |  0:00:41s\n",
      "epoch 54 | loss: 0.41058 | train_auc: 0.85821 | valid_auc: 0.83598 |  0:00:42s\n",
      "epoch 56 | loss: 0.41047 | train_auc: 0.85999 | valid_auc: 0.83396 |  0:00:44s\n",
      "epoch 58 | loss: 0.41037 | train_auc: 0.86374 | valid_auc: 0.83352 |  0:00:46s\n",
      "epoch 60 | loss: 0.40567 | train_auc: 0.86292 | valid_auc: 0.83469 |  0:00:47s\n",
      "epoch 62 | loss: 0.409   | train_auc: 0.86345 | valid_auc: 0.83733 |  0:00:49s\n",
      "epoch 64 | loss: 0.41432 | train_auc: 0.86107 | valid_auc: 0.83536 |  0:00:50s\n",
      "epoch 66 | loss: 0.41439 | train_auc: 0.86394 | valid_auc: 0.83609 |  0:00:52s\n",
      "epoch 68 | loss: 0.40924 | train_auc: 0.86746 | valid_auc: 0.83826 |  0:00:54s\n",
      "epoch 70 | loss: 0.40772 | train_auc: 0.86311 | valid_auc: 0.83589 |  0:00:55s\n",
      "epoch 72 | loss: 0.41472 | train_auc: 0.86555 | valid_auc: 0.83297 |  0:00:57s\n",
      "epoch 74 | loss: 0.40943 | train_auc: 0.86578 | valid_auc: 0.83273 |  0:00:58s\n",
      "epoch 76 | loss: 0.41056 | train_auc: 0.86521 | valid_auc: 0.83406 |  0:01:00s\n",
      "epoch 78 | loss: 0.41081 | train_auc: 0.86623 | valid_auc: 0.83535 |  0:01:01s\n",
      "epoch 80 | loss: 0.40621 | train_auc: 0.86778 | valid_auc: 0.83504 |  0:01:03s\n",
      "epoch 82 | loss: 0.40157 | train_auc: 0.87208 | valid_auc: 0.83276 |  0:01:05s\n",
      "epoch 84 | loss: 0.40349 | train_auc: 0.87162 | valid_auc: 0.83519 |  0:01:06s\n",
      "epoch 86 | loss: 0.40378 | train_auc: 0.87103 | valid_auc: 0.83928 |  0:01:08s\n",
      "epoch 88 | loss: 0.40148 | train_auc: 0.87248 | valid_auc: 0.83946 |  0:01:09s\n",
      "epoch 90 | loss: 0.40057 | train_auc: 0.8744  | valid_auc: 0.83732 |  0:01:11s\n",
      "epoch 92 | loss: 0.4008  | train_auc: 0.87549 | valid_auc: 0.84067 |  0:01:13s\n",
      "epoch 94 | loss: 0.4012  | train_auc: 0.87402 | valid_auc: 0.83522 |  0:01:14s\n",
      "epoch 96 | loss: 0.40149 | train_auc: 0.87501 | valid_auc: 0.83951 |  0:01:16s\n",
      "epoch 98 | loss: 0.39686 | train_auc: 0.87491 | valid_auc: 0.83482 |  0:01:18s\n",
      "epoch 100| loss: 0.39887 | train_auc: 0.87676 | valid_auc: 0.83089 |  0:01:20s\n",
      "epoch 102| loss: 0.39796 | train_auc: 0.87738 | valid_auc: 0.83545 |  0:01:21s\n",
      "epoch 104| loss: 0.39732 | train_auc: 0.87767 | valid_auc: 0.83412 |  0:01:23s\n",
      "epoch 106| loss: 0.39732 | train_auc: 0.87774 | valid_auc: 0.83446 |  0:01:25s\n",
      "epoch 108| loss: 0.39629 | train_auc: 0.87857 | valid_auc: 0.82932 |  0:01:27s\n",
      "epoch 110| loss: 0.39754 | train_auc: 0.87725 | valid_auc: 0.83093 |  0:01:28s\n",
      "epoch 112| loss: 0.40083 | train_auc: 0.87636 | valid_auc: 0.83114 |  0:01:30s\n",
      "epoch 114| loss: 0.4036  | train_auc: 0.87241 | valid_auc: 0.83206 |  0:01:33s\n",
      "epoch 116| loss: 0.39848 | train_auc: 0.87614 | valid_auc: 0.83305 |  0:01:35s\n",
      "epoch 118| loss: 0.40394 | train_auc: 0.87183 | valid_auc: 0.83384 |  0:01:36s\n",
      "epoch 120| loss: 0.3963  | train_auc: 0.8735  | valid_auc: 0.83536 |  0:01:38s\n",
      "epoch 122| loss: 0.39818 | train_auc: 0.87715 | valid_auc: 0.8278  |  0:01:39s\n",
      "epoch 124| loss: 0.39743 | train_auc: 0.87874 | valid_auc: 0.82691 |  0:01:41s\n",
      "epoch 126| loss: 0.39315 | train_auc: 0.87868 | valid_auc: 0.82875 |  0:01:43s\n",
      "epoch 128| loss: 0.39286 | train_auc: 0.87871 | valid_auc: 0.82886 |  0:01:44s\n",
      "epoch 130| loss: 0.39653 | train_auc: 0.8733  | valid_auc: 0.82894 |  0:01:46s\n",
      "epoch 132| loss: 0.39954 | train_auc: 0.87616 | valid_auc: 0.82566 |  0:01:48s\n",
      "epoch 134| loss: 0.40447 | train_auc: 0.87363 | valid_auc: 0.82586 |  0:01:50s\n",
      "epoch 136| loss: 0.3953  | train_auc: 0.87902 | valid_auc: 0.83032 |  0:01:51s\n",
      "epoch 138| loss: 0.39225 | train_auc: 0.88059 | valid_auc: 0.83113 |  0:01:53s\n",
      "epoch 140| loss: 0.38883 | train_auc: 0.8836  | valid_auc: 0.83022 |  0:01:54s\n",
      "epoch 142| loss: 0.38519 | train_auc: 0.88616 | valid_auc: 0.82977 |  0:01:56s\n",
      "epoch 144| loss: 0.38505 | train_auc: 0.88575 | valid_auc: 0.82632 |  0:01:58s\n",
      "epoch 146| loss: 0.38239 | train_auc: 0.88958 | valid_auc: 0.82682 |  0:01:59s\n",
      "epoch 148| loss: 0.38866 | train_auc: 0.88801 | valid_auc: 0.82647 |  0:02:01s\n",
      "epoch 150| loss: 0.38904 | train_auc: 0.88648 | valid_auc: 0.82645 |  0:02:03s\n",
      "epoch 152| loss: 0.38547 | train_auc: 0.88703 | valid_auc: 0.82387 |  0:02:04s\n",
      "epoch 154| loss: 0.38907 | train_auc: 0.88626 | valid_auc: 0.82532 |  0:02:06s\n",
      "epoch 156| loss: 0.38914 | train_auc: 0.88576 | valid_auc: 0.83076 |  0:02:07s\n",
      "epoch 158| loss: 0.38973 | train_auc: 0.89089 | valid_auc: 0.82811 |  0:02:09s\n",
      "epoch 160| loss: 0.38077 | train_auc: 0.89118 | valid_auc: 0.82546 |  0:02:10s\n",
      "epoch 162| loss: 0.37904 | train_auc: 0.89447 | valid_auc: 0.82372 |  0:02:12s\n",
      "epoch 164| loss: 0.37819 | train_auc: 0.89237 | valid_auc: 0.82549 |  0:02:14s\n",
      "epoch 166| loss: 0.37678 | train_auc: 0.89396 | valid_auc: 0.82607 |  0:02:15s\n",
      "epoch 168| loss: 0.3783  | train_auc: 0.89214 | valid_auc: 0.82564 |  0:02:17s\n",
      "epoch 170| loss: 0.38029 | train_auc: 0.89406 | valid_auc: 0.82662 |  0:02:18s\n",
      "epoch 172| loss: 0.37792 | train_auc: 0.89399 | valid_auc: 0.82694 |  0:02:20s\n",
      "epoch 174| loss: 0.37407 | train_auc: 0.89573 | valid_auc: 0.82431 |  0:02:21s\n",
      "epoch 176| loss: 0.37907 | train_auc: 0.8954  | valid_auc: 0.82425 |  0:02:23s\n",
      "epoch 178| loss: 0.37336 | train_auc: 0.8977  | valid_auc: 0.81512 |  0:02:25s\n",
      "epoch 180| loss: 0.36978 | train_auc: 0.89855 | valid_auc: 0.82148 |  0:02:26s\n",
      "epoch 182| loss: 0.37535 | train_auc: 0.89799 | valid_auc: 0.81853 |  0:02:28s\n",
      "epoch 184| loss: 0.36926 | train_auc: 0.90165 | valid_auc: 0.82494 |  0:02:30s\n",
      "epoch 186| loss: 0.36856 | train_auc: 0.90351 | valid_auc: 0.82117 |  0:02:31s\n",
      "epoch 188| loss: 0.36847 | train_auc: 0.90072 | valid_auc: 0.82399 |  0:02:33s\n",
      "epoch 190| loss: 0.36522 | train_auc: 0.90412 | valid_auc: 0.81766 |  0:02:35s\n",
      "\n",
      "Early stopping occurred at epoch 191 with best_epoch = 91 and best_valid_auc = 0.84093\n",
      "Model: TabNetClassifier(n_d=8, n_a=8, n_steps=3, gamma=1.3, cat_idxs=[], cat_dims=[], cat_emb_dim=1, n_independent=2, n_shared=2, epsilon=1e-15, momentum=0.02, lambda_sparse=0.001, seed=1212, clip_value=1, verbose=2, optimizer_fn=<class 'torch.optim.adam.Adam'>, optimizer_params={'lr': 0.02}, scheduler_fn=None, scheduler_params={}, mask_type='sparsemax', input_dim=22, output_dim=2, device_name='auto', n_shared_decoder=1, n_indep_decoder=1)\n"
     ]
    },
    {
     "name": "stderr",
     "output_type": "stream",
     "text": [
      "/Users/mckim/miniconda3/envs/py38/lib/python3.8/site-packages/pytorch_tabnet/callbacks.py:172: UserWarning: Best weights from best epoch are automatically used!\n",
      "  warnings.warn(wrn_msg)\n"
     ]
    },
    {
     "data": {
      "image/png": "[encoded data removed]",
      "text/plain": [
       "<Figure size 432x288 with 1 Axes>"
      ]
     },
     "metadata": {
      "needs_background": "light"
     },
     "output_type": "display_data"
    },
    {
     "name": "stdout",
     "output_type": "stream",
     "text": [
      "y_val.head:[1 1 1 1 0]\n",
      "BEST AUC SCORE ON VALIDATION SET : 0.840928086586519\n",
      "start to test: x_test.shape:(4586, 22), y_test.shape:(4586,)\n"
     ]
    },
    {
     "data": {
      "text/plain": [
       "array([8.63548456e-02, 4.35794598e-02, 1.21022620e-01, 1.51627731e-02,\n",
       "       2.93920836e-02, 2.72375857e-02, 1.63545771e-02, 3.68653661e-02,\n",
       "       2.65529163e-02, 2.81009174e-02, 1.24012162e-01, 5.83566393e-02,\n",
       "       1.92370175e-04, 2.12336237e-02, 1.52815705e-03, 2.52066030e-02,\n",
       "       2.59635272e-01, 1.70121827e-03, 2.81998563e-03, 1.57030702e-02,\n",
       "       1.44324537e-02, 4.45553005e-02])"
      ]
     },
     "metadata": {},
     "output_type": "display_data"
    },
    {
     "data": {
      "image/png": "[encoded data removed]",
      "text/plain": [
       "<Figure size 432x288 with 1 Axes>"
      ]
     },
     "metadata": {
      "needs_background": "light"
     },
     "output_type": "display_data"
    },
    {
     "name": "stdout",
     "output_type": "stream",
     "text": [
      "preds_test head:[[0.8449489  0.15505113]\n",
      " [0.8347692  0.16523086]\n",
      " [0.82473403 0.17526595]\n",
      " [0.9149397  0.08506031]\n",
      " [0.69968003 0.30032   ]]\n",
      "BEST AUC SCORE ON TEST SET : 0.8356437072436631\n",
      "Best epoch:91\n",
      "save_path ./train_data/TabNetClassifier_TabNet_DEFAULT_0091.pth\n",
      "Successfully saved model at ./train_data/TabNetClassifier_TabNet_DEFAULT_0091.pth.zip\n",
      "Success to save to :  ./train_data/TabNetClassifier_TabNet_DEFAULT_0091.pth\n",
      "start to train: x_train.shape:(7496, 22), y_train.shape:(7496,)\n",
      "start to train: x_val.shape:(1874, 22), y_val.shape:(1874,)\n",
      "y_train mean:0.722385272145144. y_val mean:0.7113127001067235\n"
     ]
    },
    {
     "name": "stderr",
     "output_type": "stream",
     "text": [
      "/Users/mckim/miniconda3/envs/py38/lib/python3.8/site-packages/pytorch_tabnet/abstract_model.py:75: UserWarning: Device used : cpu\n",
      "  warnings.warn(f\"Device used : {self.device}\")\n"
     ]
    },
    {
     "name": "stdout",
     "output_type": "stream",
     "text": [
      "epoch 0  | loss: 0.66193 | train_auc: 0.57412 | valid_auc: 0.58663 |  0:00:00s\n",
      "epoch 2  | loss: 0.4851  | train_auc: 0.75179 | valid_auc: 0.75382 |  0:00:02s\n",
      "epoch 4  | loss: 0.4612  | train_auc: 0.76586 | valid_auc: 0.74904 |  0:00:03s\n",
      "epoch 6  | loss: 0.4493  | train_auc: 0.79796 | valid_auc: 0.7763  |  0:00:05s\n",
      "epoch 8  | loss: 0.43775 | train_auc: 0.79882 | valid_auc: 0.77388 |  0:00:06s\n",
      "epoch 10 | loss: 0.42941 | train_auc: 0.82114 | valid_auc: 0.7992  |  0:00:08s\n",
      "epoch 12 | loss: 0.42392 | train_auc: 0.81982 | valid_auc: 0.80189 |  0:00:10s\n",
      "epoch 14 | loss: 0.41987 | train_auc: 0.81806 | valid_auc: 0.80544 |  0:00:11s\n",
      "epoch 16 | loss: 0.41641 | train_auc: 0.82154 | valid_auc: 0.81056 |  0:00:13s\n",
      "epoch 18 | loss: 0.4155  | train_auc: 0.81536 | valid_auc: 0.8057  |  0:00:14s\n",
      "epoch 20 | loss: 0.4156  | train_auc: 0.83365 | valid_auc: 0.82346 |  0:00:16s\n",
      "epoch 22 | loss: 0.40994 | train_auc: 0.82821 | valid_auc: 0.81726 |  0:00:17s\n",
      "epoch 24 | loss: 0.40412 | train_auc: 0.83605 | valid_auc: 0.81995 |  0:00:19s\n",
      "epoch 26 | loss: 0.41043 | train_auc: 0.83822 | valid_auc: 0.8226  |  0:00:21s\n",
      "epoch 28 | loss: 0.40807 | train_auc: 0.84477 | valid_auc: 0.82652 |  0:00:22s\n",
      "epoch 30 | loss: 0.40527 | train_auc: 0.84699 | valid_auc: 0.82365 |  0:00:24s\n",
      "epoch 32 | loss: 0.40652 | train_auc: 0.85026 | valid_auc: 0.82783 |  0:00:26s\n",
      "epoch 34 | loss: 0.40714 | train_auc: 0.85557 | valid_auc: 0.83276 |  0:00:29s\n",
      "epoch 36 | loss: 0.39961 | train_auc: 0.8564  | valid_auc: 0.83427 |  0:00:31s\n",
      "epoch 38 | loss: 0.40016 | train_auc: 0.85684 | valid_auc: 0.83683 |  0:00:33s\n",
      "epoch 40 | loss: 0.40377 | train_auc: 0.85784 | valid_auc: 0.83925 |  0:00:34s\n",
      "epoch 42 | loss: 0.40195 | train_auc: 0.86044 | valid_auc: 0.84169 |  0:00:36s\n",
      "epoch 44 | loss: 0.4019  | train_auc: 0.85623 | valid_auc: 0.83479 |  0:00:37s\n",
      "epoch 46 | loss: 0.39784 | train_auc: 0.86391 | valid_auc: 0.83472 |  0:00:39s\n",
      "epoch 48 | loss: 0.39715 | train_auc: 0.86583 | valid_auc: 0.8373  |  0:00:41s\n",
      "epoch 50 | loss: 0.39713 | train_auc: 0.86709 | valid_auc: 0.83883 |  0:00:43s\n",
      "epoch 52 | loss: 0.39789 | train_auc: 0.86464 | valid_auc: 0.83689 |  0:00:45s\n",
      "epoch 54 | loss: 0.40826 | train_auc: 0.8621  | valid_auc: 0.83827 |  0:00:46s\n",
      "epoch 56 | loss: 0.40333 | train_auc: 0.8632  | valid_auc: 0.84024 |  0:00:48s\n",
      "epoch 58 | loss: 0.4051  | train_auc: 0.86492 | valid_auc: 0.8414  |  0:00:50s\n",
      "epoch 60 | loss: 0.40325 | train_auc: 0.8664  | valid_auc: 0.83408 |  0:00:52s\n",
      "epoch 62 | loss: 0.40209 | train_auc: 0.86965 | valid_auc: 0.83791 |  0:00:53s\n",
      "epoch 64 | loss: 0.3977  | train_auc: 0.8701  | valid_auc: 0.84093 |  0:00:55s\n",
      "epoch 66 | loss: 0.39885 | train_auc: 0.87268 | valid_auc: 0.83605 |  0:00:57s\n",
      "epoch 68 | loss: 0.40025 | train_auc: 0.8701  | valid_auc: 0.83882 |  0:00:58s\n",
      "epoch 70 | loss: 0.39806 | train_auc: 0.87442 | valid_auc: 0.83966 |  0:01:00s\n",
      "epoch 72 | loss: 0.39641 | train_auc: 0.874   | valid_auc: 0.84307 |  0:01:01s\n",
      "epoch 74 | loss: 0.3934  | train_auc: 0.87572 | valid_auc: 0.84332 |  0:01:03s\n",
      "epoch 76 | loss: 0.39463 | train_auc: 0.87631 | valid_auc: 0.84525 |  0:01:05s\n",
      "epoch 78 | loss: 0.39609 | train_auc: 0.87352 | valid_auc: 0.8469  |  0:01:07s\n",
      "epoch 80 | loss: 0.39405 | train_auc: 0.87731 | valid_auc: 0.84406 |  0:01:09s\n",
      "epoch 82 | loss: 0.38843 | train_auc: 0.88039 | valid_auc: 0.84591 |  0:01:11s\n",
      "epoch 84 | loss: 0.3866  | train_auc: 0.88243 | valid_auc: 0.84176 |  0:01:12s\n",
      "epoch 86 | loss: 0.38669 | train_auc: 0.88275 | valid_auc: 0.84168 |  0:01:14s\n",
      "epoch 88 | loss: 0.38677 | train_auc: 0.88233 | valid_auc: 0.84257 |  0:01:16s\n",
      "epoch 90 | loss: 0.38342 | train_auc: 0.88207 | valid_auc: 0.84089 |  0:01:17s\n",
      "epoch 92 | loss: 0.3893  | train_auc: 0.88307 | valid_auc: 0.83966 |  0:01:19s\n",
      "epoch 94 | loss: 0.38548 | train_auc: 0.88168 | valid_auc: 0.84274 |  0:01:20s\n",
      "epoch 96 | loss: 0.38761 | train_auc: 0.88194 | valid_auc: 0.84743 |  0:01:22s\n",
      "epoch 98 | loss: 0.39009 | train_auc: 0.88379 | valid_auc: 0.8374  |  0:01:24s\n",
      "epoch 100| loss: 0.38623 | train_auc: 0.88504 | valid_auc: 0.84147 |  0:01:25s\n",
      "epoch 102| loss: 0.37805 | train_auc: 0.88427 | valid_auc: 0.84156 |  0:01:27s\n",
      "epoch 104| loss: 0.38525 | train_auc: 0.88601 | valid_auc: 0.84363 |  0:01:28s\n",
      "epoch 106| loss: 0.38189 | train_auc: 0.8844  | valid_auc: 0.84502 |  0:01:30s\n",
      "epoch 108| loss: 0.38408 | train_auc: 0.88371 | valid_auc: 0.84223 |  0:01:32s\n",
      "epoch 110| loss: 0.38362 | train_auc: 0.88815 | valid_auc: 0.84968 |  0:01:33s\n",
      "epoch 112| loss: 0.38106 | train_auc: 0.88428 | valid_auc: 0.8455  |  0:01:35s\n",
      "epoch 114| loss: 0.38335 | train_auc: 0.88203 | valid_auc: 0.83824 |  0:01:37s\n",
      "epoch 116| loss: 0.38355 | train_auc: 0.88415 | valid_auc: 0.84419 |  0:01:38s\n",
      "epoch 118| loss: 0.37893 | train_auc: 0.88498 | valid_auc: 0.84522 |  0:01:40s\n",
      "epoch 120| loss: 0.38113 | train_auc: 0.88641 | valid_auc: 0.84474 |  0:01:42s\n",
      "epoch 122| loss: 0.38116 | train_auc: 0.88722 | valid_auc: 0.84052 |  0:01:44s\n",
      "epoch 124| loss: 0.38576 | train_auc: 0.88639 | valid_auc: 0.84574 |  0:01:46s\n",
      "epoch 126| loss: 0.38103 | train_auc: 0.88853 | valid_auc: 0.84507 |  0:01:48s\n",
      "epoch 128| loss: 0.3772  | train_auc: 0.88934 | valid_auc: 0.84557 |  0:01:49s\n",
      "epoch 130| loss: 0.37848 | train_auc: 0.88733 | valid_auc: 0.83453 |  0:01:51s\n",
      "epoch 132| loss: 0.38017 | train_auc: 0.88543 | valid_auc: 0.84346 |  0:01:53s\n",
      "epoch 134| loss: 0.38391 | train_auc: 0.88731 | valid_auc: 0.83943 |  0:01:55s\n",
      "epoch 136| loss: 0.37729 | train_auc: 0.88969 | valid_auc: 0.84065 |  0:01:57s\n",
      "epoch 138| loss: 0.37583 | train_auc: 0.89143 | valid_auc: 0.83684 |  0:01:59s\n",
      "epoch 140| loss: 0.36939 | train_auc: 0.89286 | valid_auc: 0.83998 |  0:02:00s\n",
      "epoch 142| loss: 0.37379 | train_auc: 0.88745 | valid_auc: 0.83905 |  0:02:02s\n",
      "epoch 144| loss: 0.38374 | train_auc: 0.88682 | valid_auc: 0.83846 |  0:02:04s\n",
      "epoch 146| loss: 0.3771  | train_auc: 0.89209 | valid_auc: 0.83903 |  0:02:06s\n",
      "epoch 148| loss: 0.37194 | train_auc: 0.89358 | valid_auc: 0.83645 |  0:02:08s\n",
      "epoch 150| loss: 0.36629 | train_auc: 0.89501 | valid_auc: 0.83674 |  0:02:11s\n",
      "epoch 152| loss: 0.37091 | train_auc: 0.89564 | valid_auc: 0.8378  |  0:02:13s\n",
      "epoch 154| loss: 0.36891 | train_auc: 0.89212 | valid_auc: 0.82916 |  0:02:15s\n",
      "epoch 156| loss: 0.37062 | train_auc: 0.89502 | valid_auc: 0.83144 |  0:02:16s\n",
      "epoch 158| loss: 0.37159 | train_auc: 0.89361 | valid_auc: 0.83083 |  0:02:18s\n",
      "epoch 160| loss: 0.37202 | train_auc: 0.89138 | valid_auc: 0.83667 |  0:02:19s\n",
      "epoch 162| loss: 0.38117 | train_auc: 0.88737 | valid_auc: 0.83604 |  0:02:20s\n",
      "epoch 164| loss: 0.37904 | train_auc: 0.888   | valid_auc: 0.83283 |  0:02:22s\n",
      "epoch 166| loss: 0.37538 | train_auc: 0.89184 | valid_auc: 0.83581 |  0:02:23s\n",
      "epoch 168| loss: 0.36859 | train_auc: 0.89477 | valid_auc: 0.83204 |  0:02:25s\n",
      "epoch 170| loss: 0.36661 | train_auc: 0.89733 | valid_auc: 0.83106 |  0:02:26s\n",
      "epoch 172| loss: 0.36634 | train_auc: 0.89793 | valid_auc: 0.83509 |  0:02:27s\n",
      "epoch 174| loss: 0.3672  | train_auc: 0.89726 | valid_auc: 0.83343 |  0:02:29s\n",
      "epoch 176| loss: 0.36435 | train_auc: 0.90075 | valid_auc: 0.83231 |  0:02:30s\n",
      "epoch 178| loss: 0.36657 | train_auc: 0.90029 | valid_auc: 0.83036 |  0:02:31s\n",
      "epoch 180| loss: 0.36361 | train_auc: 0.89939 | valid_auc: 0.82741 |  0:02:33s\n",
      "epoch 182| loss: 0.36274 | train_auc: 0.90035 | valid_auc: 0.8272  |  0:02:34s\n",
      "epoch 184| loss: 0.36199 | train_auc: 0.89898 | valid_auc: 0.8323  |  0:02:35s\n",
      "epoch 186| loss: 0.36228 | train_auc: 0.90275 | valid_auc: 0.82924 |  0:02:36s\n",
      "epoch 188| loss: 0.3617  | train_auc: 0.90393 | valid_auc: 0.83037 |  0:02:38s\n",
      "epoch 190| loss: 0.36296 | train_auc: 0.90097 | valid_auc: 0.82872 |  0:02:39s\n",
      "epoch 192| loss: 0.36002 | train_auc: 0.90416 | valid_auc: 0.82618 |  0:02:40s\n",
      "epoch 194| loss: 0.35748 | train_auc: 0.90482 | valid_auc: 0.82651 |  0:02:42s\n",
      "epoch 196| loss: 0.36366 | train_auc: 0.90461 | valid_auc: 0.83488 |  0:02:43s\n",
      "epoch 198| loss: 0.35646 | train_auc: 0.90633 | valid_auc: 0.8285  |  0:02:45s\n",
      "epoch 200| loss: 0.3571  | train_auc: 0.90632 | valid_auc: 0.82629 |  0:02:46s\n",
      "epoch 202| loss: 0.35931 | train_auc: 0.90554 | valid_auc: 0.82933 |  0:02:48s\n",
      "epoch 204| loss: 0.35923 | train_auc: 0.90566 | valid_auc: 0.83117 |  0:02:49s\n",
      "epoch 206| loss: 0.35972 | train_auc: 0.90662 | valid_auc: 0.82671 |  0:02:51s\n"
     ]
    },
    {
     "name": "stdout",
     "output_type": "stream",
     "text": [
      "epoch 208| loss: 0.35822 | train_auc: 0.90855 | valid_auc: 0.8263  |  0:02:52s\n",
      "epoch 210| loss: 0.359   | train_auc: 0.90133 | valid_auc: 0.82298 |  0:02:53s\n",
      "\n",
      "Early stopping occurred at epoch 210 with best_epoch = 110 and best_valid_auc = 0.84968\n",
      "Model: TabNetClassifier(n_d=8, n_a=8, n_steps=3, gamma=1.3, cat_idxs=[], cat_dims=[], cat_emb_dim=1, n_independent=2, n_shared=2, epsilon=1e-15, momentum=0.02, lambda_sparse=0.001, seed=1212, clip_value=1, verbose=2, optimizer_fn=<class 'torch.optim.adam.Adam'>, optimizer_params={'lr': 0.02}, scheduler_fn=None, scheduler_params={}, mask_type='sparsemax', input_dim=22, output_dim=2, device_name='auto', n_shared_decoder=1, n_indep_decoder=1)\n"
     ]
    },
    {
     "name": "stderr",
     "output_type": "stream",
     "text": [
      "/Users/mckim/miniconda3/envs/py38/lib/python3.8/site-packages/pytorch_tabnet/callbacks.py:172: UserWarning: Best weights from best epoch are automatically used!\n",
      "  warnings.warn(wrn_msg)\n"
     ]
    },
    {
     "data": {
      "image/png": "[encoded data removed]",
      "text/plain": [
       "<Figure size 432x288 with 1 Axes>"
      ]
     },
     "metadata": {
      "needs_background": "light"
     },
     "output_type": "display_data"
    },
    {
     "name": "stdout",
     "output_type": "stream",
     "text": [
      "y_val.head:[0 1 1 1 1]\n",
      "BEST AUC SCORE ON VALIDATION SET : 0.8496816902931833\n",
      "start to test: x_test.shape:(4586, 22), y_test.shape:(4586,)\n"
     ]
    },
    {
     "data": {
      "text/plain": [
       "array([8.32147692e-02, 9.69377393e-02, 1.04870509e-01, 9.47144138e-02,\n",
       "       8.71989790e-03, 3.91971992e-02, 1.24288059e-04, 3.84688202e-02,\n",
       "       2.87961391e-02, 1.14432118e-02, 1.26981323e-01, 1.50592836e-02,\n",
       "       2.28354652e-02, 3.70827884e-02, 0.00000000e+00, 0.00000000e+00,\n",
       "       2.43164439e-01, 1.31129274e-02, 8.95424787e-03, 1.31401200e-05,\n",
       "       2.63093980e-02, 0.00000000e+00])"
      ]
     },
     "metadata": {},
     "output_type": "display_data"
    },
    {
     "data": {
      "image/png": "[encoded data removed]",
      "text/plain": [
       "<Figure size 432x288 with 1 Axes>"
      ]
     },
     "metadata": {
      "needs_background": "light"
     },
     "output_type": "display_data"
    },
    {
     "name": "stdout",
     "output_type": "stream",
     "text": [
      "preds_test head:[[0.9747454  0.02525461]\n",
      " [0.8693075  0.13069248]\n",
      " [0.8818259  0.1181741 ]\n",
      " [0.8540124  0.14598759]\n",
      " [0.914753   0.08524698]]\n",
      "BEST AUC SCORE ON TEST SET : 0.8373971598208662\n",
      "Best epoch:110\n",
      "save_path ./train_data/TabNetClassifier_TabNet_DEFAULT_0110.pth\n",
      "Successfully saved model at ./train_data/TabNetClassifier_TabNet_DEFAULT_0110.pth.zip\n",
      "Success to save to :  ./train_data/TabNetClassifier_TabNet_DEFAULT_0110.pth\n"
     ]
    },
    {
     "data": {
      "text/plain": [
       "<Figure size 432x288 with 0 Axes>"
      ]
     },
     "metadata": {},
     "output_type": "display_data"
    }
   ],
   "source": [
    "def run_one_full_train_test_with_tabnet(df_trainval, df_test, cols, model):\n",
    "    df_train, df_val = train_test_split(df_trainval, test_size=0.2)\n",
    "    x_train = df_train[cols].to_numpy()\n",
    "    y_train = df_train['pcr_result'].to_numpy()\n",
    "    x_val = df_val[cols].to_numpy()\n",
    "    y_val = df_val['pcr_result'].to_numpy()\n",
    "    x_test = df_test[cols].to_numpy()\n",
    "    y_test = df_test['pcr_result'].to_numpy()\n",
    "\n",
    "    print(f\"start to train: x_train.shape:{x_train.shape}, y_train.shape:{y_train.shape}\")\n",
    "    print(f\"start to train: x_val.shape:{x_val.shape}, y_val.shape:{y_val.shape}\")\n",
    "    print(f\"y_train mean:{np.mean(y_train)}. y_val mean:{np.mean(y_val)}\")\n",
    "\n",
    "    model.fit(\n",
    "        X_train=x_train, y_train=y_train,\n",
    "        eval_set=[(x_train, y_train), (x_val, y_val)],\n",
    "        eval_name=['train', 'valid'],\n",
    "#         patience=2, \n",
    "#         max_epochs=100,\n",
    "        patience=100, \n",
    "        max_epochs=1000,\n",
    "        eval_metric=['auc'],\n",
    "    )\n",
    "    \n",
    "    print(f\"Model: {model}\")\n",
    "    # plot losses\n",
    "    plt.plot(model.history['loss'], label='loss')\n",
    "\n",
    "    # plot accuracy\n",
    "    plt.plot(model.history['train_auc'], label='train_auc')\n",
    "    plt.plot(model.history['valid_auc'], label='valid_auc')\n",
    "    plt.legend(['loss', 'train_auc', 'valid_auc'])\n",
    "    plt.show()\n",
    "    plt.clf()\n",
    "\n",
    "    # determine best accuracy for validation set\n",
    "    preds_valid = model.predict_proba(x_val)\n",
    "    print(f\"y_val.head:{y_val[:5]}\")\n",
    "    pred_pos = np.array([x[1] for x in preds_valid])\n",
    "    valid_auc = roc_auc_score(y_val, pred_pos)\n",
    "    print(f\"BEST AUC SCORE ON VALIDATION SET : {valid_auc}\")\n",
    "    \n",
    "    print(f\"start to test: x_test.shape:{x_test.shape}, y_test.shape:{y_test.shape}\")\n",
    "    # find and plot feature importance\n",
    "    y_pred = model.predict(x_test)\n",
    "    feature_importances_ = model.feature_importances_\n",
    "    display(feature_importances_)\n",
    "    feat_importances = pd.Series(model.feature_importances_, index=cols)\n",
    "    feat_importances.nlargest(20).plot(kind='barh')\n",
    "    plt.show()\n",
    "    plt.clf()\n",
    "\n",
    "    # determine best accuracy for test set\n",
    "    preds = model.predict_proba(x_test)\n",
    "    pred_pos = np.array([x[1] for x in preds])\n",
    "    test_auc = roc_auc_score(y_test, pred_pos)\n",
    "    print(f\"preds_test head:{preds[:5]}\")\n",
    "    print(f\"BEST AUC SCORE ON TEST SET : {test_auc}\")\n",
    "    \n",
    "    config_name = 'TabNet_DEFAULT'\n",
    "    best_epoch, element = max(enumerate(model.history['valid_auc']), key=lambda x: x[1])\n",
    "    print(f\"Best epoch:{best_epoch}\")\n",
    "    best_model = save_model(config_name, model, best_epoch)\n",
    "    \n",
    "    return model, test_auc\n",
    "\n",
    "def save_model(config_name, model, epoch):\n",
    "    save_path = f\"./train_data/{model.__class__.__name__}_{config_name}_{epoch:04d}.pth\"\n",
    "    print(\"save_path\", save_path)\n",
    "    model.save_model(save_path)\n",
    "    print(\"Success to save to : \", save_path)\n",
    "    return model\n",
    "\n",
    "\n",
    "test_result = dict()\n",
    "models = dict()\n",
    "for i in range(5):\n",
    "    tab_model = TabNetClassifier(verbose = 2,seed = 1212)\n",
    "    models[i], test_result[i] = run_one_full_train_test_with_tabnet(\n",
    "        df_trainval, \n",
    "        df_test, cols,\n",
    "        tab_model\n",
    "    )\n",
    "    "
   ]
  },
  {
   "cell_type": "code",
   "execution_count": 167,
   "id": "b8bb458b",
   "metadata": {},
   "outputs": [
    {
     "name": "stdout",
     "output_type": "stream",
     "text": [
      "{0: 0.8299095954171143, 1: 0.8266923994478175, 2: 0.8363573898458905, 3: 0.8356437072436631, 4: 0.8373971598208662}\n",
      "mean: 0.8332000503550703 std: 0.0041649152103427145\n"
     ]
    }
   ],
   "source": [
    "print(test_result)\n",
    "print(\"mean:\", np.mean(list(test_result.values())), \"std:\", np.std(list(test_result.values())))\n"
   ]
  },
  {
   "cell_type": "code",
   "execution_count": null,
   "id": "c5de966a",
   "metadata": {},
   "outputs": [],
   "source": []
  }
 ],
 "metadata": {
  "kernelspec": {
   "display_name": "py38",
   "language": "python",
   "name": "py38"
  },
  "language_info": {
   "codemirror_mode": {
    "name": "ipython",
    "version": 3
   },
   "file_extension": ".py",
   "mimetype": "text/x-python",
   "name": "python",
   "nbconvert_exporter": "python",
   "pygments_lexer": "ipython3",
   "version": "3.8.15"
  }
 },
 "nbformat": 4,
 "nbformat_minor": 5
}
