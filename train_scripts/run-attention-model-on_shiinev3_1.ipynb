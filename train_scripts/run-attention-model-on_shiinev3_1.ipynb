{
 "cells": [
  {
   "cell_type": "markdown",
   "id": "223e6afb",
   "metadata": {
    "pycharm": {
     "name": "#%% md\n"
    }
   },
   "source": [
    "# Import library"
   ]
  },
  {
   "cell_type": "code",
   "execution_count": 2,
   "id": "1dd7f1f1",
   "metadata": {
    "pycharm": {
     "name": "#%%\n"
    }
   },
   "outputs": [],
   "source": [
    "import os\n",
    "import os, sys\n",
    "import glob\n",
    "import re\n",
    "import datetime\n",
    "from datetime import datetime, timedelta \n",
    "import math, copy, time\n",
    "from itertools import cycle\n",
    "from collections import defaultdict\n",
    "\n",
    "from parse import parse\n",
    "import numpy as np\n",
    "import pandas as pd\n",
    "\n",
    "import torch\n",
    "from torch import nn, optim\n",
    "from torch.autograd import Variable\n",
    "from torch.utils.data import Dataset\n",
    "from torch.utils.data import DataLoader\n",
    "import torch.nn.functional as F\n",
    "\n",
    "# import torchvision\n",
    "# import torchvision.transforms as transforms\n",
    "\n",
    "from sklearn.metrics import roc_auc_score, plot_roc_curve\n",
    "from sklearn import svm\n",
    "\n",
    "\n",
    "from tqdm.notebook import tqdm\n",
    "\n",
    "import matplotlib.pyplot as plt\n",
    "import seaborn\n",
    "\n",
    "%load_ext autoreload\n",
    "%autoreload 2"
   ]
  },
  {
   "cell_type": "code",
   "execution_count": 3,
   "id": "2d83a330",
   "metadata": {},
   "outputs": [],
   "source": [
    "pd.set_option(\"display.max_column\", 100)"
   ]
  },
  {
   "cell_type": "code",
   "execution_count": 4,
   "id": "011b0722",
   "metadata": {},
   "outputs": [],
   "source": [
    "# Util functions\n",
    "def size_and_ratio(df, col, dropna=True):\n",
    "    if pd.__version__ > '1.1':\n",
    "        sr = df.groupby(col, dropna=dropna).size().sort_values(ascending=False)\n",
    "    elif dropna:\n",
    "        sr = df.groupby(col).size().sort_values(ascending=False)\n",
    "    else:  # dropna == False\n",
    "        sr = df.fillna('nan').groupby(col).size().sort_values(ascending=False)\n",
    "    sr_ratio = sr.copy() / sum(sr)\n",
    "    print(\"Sum :\", sum(sr), sr.shape)\n",
    "    sr.name = 'size'\n",
    "    sr_ratio.name = 'ratio'\n",
    "    return pd.concat([sr, sr_ratio], axis=1)"
   ]
  },
  {
   "cell_type": "markdown",
   "id": "3f43473d",
   "metadata": {
    "pycharm": {
     "name": "#%% md\n"
    }
   },
   "source": [
    "# Data load"
   ]
  },
  {
   "cell_type": "code",
   "execution_count": 5,
   "id": "e7c0d9c2",
   "metadata": {
    "pycharm": {
     "name": "#%%\n"
    }
   },
   "outputs": [
    {
     "name": "stdout",
     "output_type": "stream",
     "text": [
      "(14093, 24) (4647, 24) (4586, 24)\n"
     ]
    },
    {
     "data": {
      "text/html": [
       "<div>\n",
       "<style scoped>\n",
       "    .dataframe tbody tr th:only-of-type {\n",
       "        vertical-align: middle;\n",
       "    }\n",
       "\n",
       "    .dataframe tbody tr th {\n",
       "        vertical-align: top;\n",
       "    }\n",
       "\n",
       "    .dataframe thead th {\n",
       "        text-align: right;\n",
       "    }\n",
       "</style>\n",
       "<table border=\"1\" class=\"dataframe\">\n",
       "  <thead>\n",
       "    <tr style=\"text-align: right;\">\n",
       "      <th></th>\n",
       "      <th>baby_id</th>\n",
       "      <th>cough</th>\n",
       "      <th>fever</th>\n",
       "      <th>sore_throat</th>\n",
       "      <th>shortness_of_breath</th>\n",
       "      <th>head_ache</th>\n",
       "      <th>runny_nose</th>\n",
       "      <th>muscle_pain</th>\n",
       "      <th>chills</th>\n",
       "      <th>loss_of_taste</th>\n",
       "      <th>loss_of_smell</th>\n",
       "      <th>sputum</th>\n",
       "      <th>chest_pain</th>\n",
       "      <th>indication_other</th>\n",
       "      <th>indication_abroad</th>\n",
       "      <th>indication_contact</th>\n",
       "      <th>global_confirmed_ratio</th>\n",
       "      <th>confirmed_ratio</th>\n",
       "      <th>sigungu_confirmed_ratio</th>\n",
       "      <th>mask</th>\n",
       "      <th>gender</th>\n",
       "      <th>age_ratio</th>\n",
       "      <th>weekday</th>\n",
       "      <th>pcr_result</th>\n",
       "    </tr>\n",
       "  </thead>\n",
       "  <tbody>\n",
       "    <tr>\n",
       "      <th>0</th>\n",
       "      <td>21099</td>\n",
       "      <td>1</td>\n",
       "      <td>0</td>\n",
       "      <td>0</td>\n",
       "      <td>0</td>\n",
       "      <td>1</td>\n",
       "      <td>0</td>\n",
       "      <td>0</td>\n",
       "      <td>0</td>\n",
       "      <td>0</td>\n",
       "      <td>0</td>\n",
       "      <td>1</td>\n",
       "      <td>0</td>\n",
       "      <td>0</td>\n",
       "      <td>0</td>\n",
       "      <td>1</td>\n",
       "      <td>0.173311</td>\n",
       "      <td>0.007956</td>\n",
       "      <td>0.012987</td>\n",
       "      <td>1</td>\n",
       "      <td>0.0</td>\n",
       "      <td>0.18</td>\n",
       "      <td>3</td>\n",
       "      <td>0</td>\n",
       "    </tr>\n",
       "    <tr>\n",
       "      <th>1</th>\n",
       "      <td>21151</td>\n",
       "      <td>0</td>\n",
       "      <td>0</td>\n",
       "      <td>1</td>\n",
       "      <td>0</td>\n",
       "      <td>1</td>\n",
       "      <td>0</td>\n",
       "      <td>0</td>\n",
       "      <td>0</td>\n",
       "      <td>0</td>\n",
       "      <td>0</td>\n",
       "      <td>0</td>\n",
       "      <td>0</td>\n",
       "      <td>0</td>\n",
       "      <td>0</td>\n",
       "      <td>1</td>\n",
       "      <td>0.179009</td>\n",
       "      <td>0.008614</td>\n",
       "      <td>0.013084</td>\n",
       "      <td>1</td>\n",
       "      <td>0.0</td>\n",
       "      <td>0.17</td>\n",
       "      <td>4</td>\n",
       "      <td>0</td>\n",
       "    </tr>\n",
       "    <tr>\n",
       "      <th>2</th>\n",
       "      <td>21024</td>\n",
       "      <td>0</td>\n",
       "      <td>0</td>\n",
       "      <td>1</td>\n",
       "      <td>0</td>\n",
       "      <td>1</td>\n",
       "      <td>0</td>\n",
       "      <td>0</td>\n",
       "      <td>0</td>\n",
       "      <td>0</td>\n",
       "      <td>0</td>\n",
       "      <td>0</td>\n",
       "      <td>0</td>\n",
       "      <td>1</td>\n",
       "      <td>0</td>\n",
       "      <td>0</td>\n",
       "      <td>0.179009</td>\n",
       "      <td>0.008614</td>\n",
       "      <td>0.013084</td>\n",
       "      <td>1</td>\n",
       "      <td>1.0</td>\n",
       "      <td>0.29</td>\n",
       "      <td>4</td>\n",
       "      <td>0</td>\n",
       "    </tr>\n",
       "    <tr>\n",
       "      <th>3</th>\n",
       "      <td>21176</td>\n",
       "      <td>0</td>\n",
       "      <td>0</td>\n",
       "      <td>1</td>\n",
       "      <td>0</td>\n",
       "      <td>1</td>\n",
       "      <td>0</td>\n",
       "      <td>0</td>\n",
       "      <td>0</td>\n",
       "      <td>0</td>\n",
       "      <td>0</td>\n",
       "      <td>0</td>\n",
       "      <td>0</td>\n",
       "      <td>1</td>\n",
       "      <td>0</td>\n",
       "      <td>0</td>\n",
       "      <td>0.131500</td>\n",
       "      <td>0.008252</td>\n",
       "      <td>0.000000</td>\n",
       "      <td>0</td>\n",
       "      <td>0.0</td>\n",
       "      <td>0.40</td>\n",
       "      <td>5</td>\n",
       "      <td>0</td>\n",
       "    </tr>\n",
       "    <tr>\n",
       "      <th>4</th>\n",
       "      <td>4467</td>\n",
       "      <td>0</td>\n",
       "      <td>0</td>\n",
       "      <td>1</td>\n",
       "      <td>0</td>\n",
       "      <td>1</td>\n",
       "      <td>0</td>\n",
       "      <td>0</td>\n",
       "      <td>0</td>\n",
       "      <td>0</td>\n",
       "      <td>0</td>\n",
       "      <td>0</td>\n",
       "      <td>0</td>\n",
       "      <td>1</td>\n",
       "      <td>0</td>\n",
       "      <td>0</td>\n",
       "      <td>0.131500</td>\n",
       "      <td>0.008252</td>\n",
       "      <td>0.000000</td>\n",
       "      <td>0</td>\n",
       "      <td>1.0</td>\n",
       "      <td>0.34</td>\n",
       "      <td>5</td>\n",
       "      <td>0</td>\n",
       "    </tr>\n",
       "  </tbody>\n",
       "</table>\n",
       "</div>"
      ],
      "text/plain": [
       "   baby_id  cough  fever  sore_throat  shortness_of_breath  head_ache  \\\n",
       "0    21099      1      0            0                    0          1   \n",
       "1    21151      0      0            1                    0          1   \n",
       "2    21024      0      0            1                    0          1   \n",
       "3    21176      0      0            1                    0          1   \n",
       "4     4467      0      0            1                    0          1   \n",
       "\n",
       "   runny_nose  muscle_pain  chills  loss_of_taste  loss_of_smell  sputum  \\\n",
       "0           0            0       0              0              0       1   \n",
       "1           0            0       0              0              0       0   \n",
       "2           0            0       0              0              0       0   \n",
       "3           0            0       0              0              0       0   \n",
       "4           0            0       0              0              0       0   \n",
       "\n",
       "   chest_pain  indication_other  indication_abroad  indication_contact  \\\n",
       "0           0                 0                  0                   1   \n",
       "1           0                 0                  0                   1   \n",
       "2           0                 1                  0                   0   \n",
       "3           0                 1                  0                   0   \n",
       "4           0                 1                  0                   0   \n",
       "\n",
       "   global_confirmed_ratio  confirmed_ratio  sigungu_confirmed_ratio  mask  \\\n",
       "0                0.173311         0.007956                 0.012987     1   \n",
       "1                0.179009         0.008614                 0.013084     1   \n",
       "2                0.179009         0.008614                 0.013084     1   \n",
       "3                0.131500         0.008252                 0.000000     0   \n",
       "4                0.131500         0.008252                 0.000000     0   \n",
       "\n",
       "   gender  age_ratio  weekday  pcr_result  \n",
       "0     0.0       0.18        3           0  \n",
       "1     0.0       0.17        4           0  \n",
       "2     1.0       0.29        4           0  \n",
       "3     0.0       0.40        5           0  \n",
       "4     1.0       0.34        5           0  "
      ]
     },
     "execution_count": 5,
     "metadata": {},
     "output_type": "execute_result"
    }
   ],
   "source": [
    "df_train = pd.read_csv(\"data/df_data_v3_1/df_train_v3_1.csv\")\n",
    "df_val = pd.read_csv(\"data/df_data_v3_1/df_valid_v3_1.csv\")\n",
    "df_test = pd.read_csv(\"data/df_data_v3_1/df_test_v3_1.csv\")\n",
    "print(df_train.shape, df_val.shape, df_test.shape)\n",
    "df_train.head()"
   ]
  },
  {
   "cell_type": "code",
   "execution_count": 6,
   "id": "5884a375",
   "metadata": {},
   "outputs": [
    {
     "name": "stdout",
     "output_type": "stream",
     "text": [
      "Train: (14093, 24) 9641\n",
      "Validaiton: (4647, 24) 3213\n"
     ]
    }
   ],
   "source": [
    "import random\n",
    "print(\"Train:\", df_train.shape, df_train['baby_id'].nunique())\n",
    "print(\"Validaiton:\", df_val.shape, df_val['baby_id'].nunique())"
   ]
  },
  {
   "cell_type": "markdown",
   "id": "8077513a",
   "metadata": {},
   "source": [
    "## Remove baby_id and results"
   ]
  },
  {
   "cell_type": "code",
   "execution_count": 7,
   "id": "d1abed3a",
   "metadata": {},
   "outputs": [],
   "source": [
    "exclude_cols = ['baby_id', 'pcr_result']\n",
    "cols = [x for x in df_train.columns if x not in exclude_cols]\n",
    "\n",
    "df_train_gt = df_train[['pcr_result']]\n",
    "df_train_input = df_train[cols]\n",
    "df_val_gt = df_val[['pcr_result']]\n",
    "df_val_input = df_val[cols]\n",
    "df_test_gt = df_test[['pcr_result']]\n",
    "df_test_input = df_test[cols]\n"
   ]
  },
  {
   "cell_type": "markdown",
   "id": "7c56763a",
   "metadata": {},
   "source": [
    "# Make category values"
   ]
  },
  {
   "cell_type": "code",
   "execution_count": 8,
   "id": "f07997b3",
   "metadata": {},
   "outputs": [],
   "source": [
    "from model.attention_model import CategoricalAttentionModel\n",
    "from model.utils import get_dict_category_from_dataset\n",
    "from model.utils import get_category_key, create_cat_and_intensity_from_df"
   ]
  },
  {
   "cell_type": "code",
   "execution_count": 9,
   "id": "01b33fa7",
   "metadata": {
    "pycharm": {
     "name": "#%%\n"
    },
    "scrolled": true
   },
   "outputs": [
    {
     "name": "stdout",
     "output_type": "stream",
     "text": [
      "(18740, 24)\n",
      "cough category [1 0] ...\n",
      "fever category [0 1] ...\n",
      "sore_throat category [0 1] ...\n",
      "shortness_of_breath category [0 1] ...\n",
      "head_ache category [1 0] ...\n",
      "runny_nose category [0 1] ...\n",
      "muscle_pain category [0 1] ...\n",
      "chills category [0 1] ...\n",
      "loss_of_taste category [0 1] ...\n",
      "loss_of_smell category [0 1] ...\n",
      "sputum category [1 0] ...\n",
      "chest_pain category [0 1] ...\n",
      "indication_other category [0 1] ...\n",
      "indication_abroad category [0 1] ...\n",
      "indication_contact category [1 0] ...\n",
      "global_confirmed_ratio float [0.1733114  0.17900909 0.13149977 0.14631498 0.15655098 0.17425644\n",
      " 0.17103502 0.16990724 0.12749546 0.14885249]\n",
      "confirmed_ratio float [0.00795568 0.00861396 0.00825183 0.00797017 0.01154644 0.01142734\n",
      " 0.0113018  0.01122937 0.01076423 0.00895517]\n",
      "sigungu_confirmed_ratio float [0.01298674 0.01308374 0.         0.01324623 0.01342084 0.0135712\n",
      " 0.01798011 0.01397984 0.01779546 0.0141302 ]\n",
      "mask category [1 0] ...\n",
      "gender category [0. 1.] ...\n",
      "age_ratio float [0.18 0.17 0.29 0.4  0.34 0.41 0.35 0.36 0.43 0.5 ]\n",
      "weekday category [3 4 5 0 1 2 6] ...\n",
      "cough category [1 0] ...\n",
      "fever category [0 1] ...\n",
      "sore_throat category [0 1] ...\n",
      "shortness_of_breath category [0 1] ...\n",
      "head_ache category [1 0] ...\n",
      "runny_nose category [0 1] ...\n",
      "muscle_pain category [0 1] ...\n",
      "chills category [0 1] ...\n",
      "loss_of_taste category [0 1] ...\n",
      "loss_of_smell category [0 1] ...\n",
      "sputum category [1 0] ...\n",
      "chest_pain category [0 1] ...\n",
      "indication_other category [0 1] ...\n",
      "indication_abroad category [0 1] ...\n",
      "indication_contact category [1 0] ...\n",
      "global_confirmed_ratio float [0.1733114  0.17900909 0.13149977 0.14631498 0.15655098 0.17425644\n",
      " 0.17103502 0.16990724 0.12749546 0.14885249]\n",
      "confirmed_ratio float [0.00795568 0.00861396 0.00825183 0.00797017 0.01154644 0.01142734\n",
      " 0.0113018  0.01122937 0.01076423 0.00895517]\n",
      "sigungu_confirmed_ratio float [0.01298674 0.01308374 0.         0.01324623 0.01342084 0.0135712\n",
      " 0.01798011 0.01397984 0.01779546 0.0141302 ]\n",
      "mask category [1 0] ...\n",
      "gender category [0. 1.] ...\n",
      "age_ratio float [0.18 0.17 0.29 0.4  0.34 0.41 0.35 0.36 0.43 0.5 ]\n",
      "weekday category [3 4 5 0 1 2 6] ...\n",
      "cough category [0 1] ...\n",
      "fever category [0 1] ...\n",
      "sore_throat category [0 1] ...\n",
      "shortness_of_breath category [0 1] ...\n",
      "head_ache category [0 1] ...\n",
      "runny_nose category [0 1] ...\n",
      "muscle_pain category [0 1] ...\n",
      "chills category [0 1] ...\n",
      "loss_of_taste category [0 1] ...\n",
      "loss_of_smell category [0 1] ...\n",
      "sputum category [0 1] ...\n",
      "chest_pain category [0 1] ...\n",
      "indication_other category [1 0] ...\n",
      "indication_abroad category [0 1] ...\n",
      "indication_contact category [0 1] ...\n",
      "global_confirmed_ratio float [0.17900909 0.15655098 0.17103502 0.14885249 0.18225966 0.18804529\n",
      " 0.12597869 0.18077277 0.21837262 0.17249324]\n",
      "confirmed_ratio float [0.00861396 0.01154644 0.0113018  0.00895517 0.01196491 0.01177016\n",
      " 0.00855602 0.00837093 0.00939295 0.00872019]\n",
      "sigungu_confirmed_ratio float [0.01352955 0.         0.02669003 0.01436165 0.01504657 0.00354929\n",
      " 0.02688911 0.01078178 0.02015396 0.01399809]\n",
      "mask category [1 0] ...\n",
      "gender category [1. 0.] ...\n",
      "age_ratio float [0.38 0.35 0.44 0.43 0.2  0.41 0.25 0.29 0.19 0.16]\n",
      "weekday category [4 1 3 0 6 5 2] ...\n",
      "cough category [1 0] ...\n",
      "fever category [0 1] ...\n",
      "sore_throat category [0 1] ...\n",
      "shortness_of_breath category [0 1] ...\n",
      "head_ache category [0 1] ...\n",
      "runny_nose category [0 1] ...\n",
      "muscle_pain category [0 1] ...\n",
      "chills category [0 1] ...\n",
      "loss_of_taste category [0 1] ...\n",
      "loss_of_smell category [0 1] ...\n",
      "sputum category [1 0] ...\n",
      "chest_pain category [0 1] ...\n",
      "indication_other category [0 1] ...\n",
      "indication_abroad category [0 1] ...\n",
      "indication_contact category [1 0] ...\n",
      "global_confirmed_ratio float [0.1733114  0.17900909 0.11310892 0.14631498 0.17425644 0.17103502\n",
      " 0.16990724 0.14885249 0.1813347  0.18804529]\n",
      "confirmed_ratio float [0.00795568 0.00861396 0.00695941 0.00797017 0.01142734 0.0113018\n",
      " 0.01122937 0.00895517 0.01226749 0.01177016]\n",
      "sigungu_confirmed_ratio float [0.01298674 0.0121382  0.01308374 0.01685886 0.01342084 0.01374824\n",
      " 0.01397984 0.01776561 0.00419044 0.0188718 ]\n",
      "mask category [1 0] ...\n",
      "gender category [0. 1.] ...\n",
      "age_ratio float [0.4  0.51 0.2  0.26 0.31 0.32 0.38 0.46 0.55 0.3 ]\n",
      "weekday category [3 4 6 0 2 5 1] ...\n"
     ]
    },
    {
     "data": {
      "text/plain": [
       "{'cough_1.0': 0,\n",
       " 'cough_0.0': 1,\n",
       " 'fever_0.0': 2,\n",
       " 'fever_1.0': 3,\n",
       " 'sore_throat_0.0': 4,\n",
       " 'sore_throat_1.0': 5,\n",
       " 'shortness_of_breath_0.0': 6,\n",
       " 'shortness_of_breath_1.0': 7,\n",
       " 'head_ache_1.0': 8,\n",
       " 'head_ache_0.0': 9,\n",
       " 'runny_nose_0.0': 10,\n",
       " 'runny_nose_1.0': 11,\n",
       " 'muscle_pain_0.0': 12,\n",
       " 'muscle_pain_1.0': 13,\n",
       " 'chills_0.0': 14,\n",
       " 'chills_1.0': 15,\n",
       " 'loss_of_taste_0.0': 16,\n",
       " 'loss_of_taste_1.0': 17,\n",
       " 'loss_of_smell_0.0': 18,\n",
       " 'loss_of_smell_1.0': 19,\n",
       " 'sputum_1.0': 20,\n",
       " 'sputum_0.0': 21,\n",
       " 'chest_pain_0.0': 22,\n",
       " 'chest_pain_1.0': 23,\n",
       " 'indication_other_0.0': 24,\n",
       " 'indication_other_1.0': 25,\n",
       " 'indication_abroad_0.0': 26,\n",
       " 'indication_abroad_1.0': 27,\n",
       " 'indication_contact_1.0': 28,\n",
       " 'indication_contact_0.0': 29,\n",
       " 'global_confirmed_ratio': 30,\n",
       " 'confirmed_ratio': 31,\n",
       " 'sigungu_confirmed_ratio': 32,\n",
       " 'mask_1.0': 33,\n",
       " 'mask_0.0': 34,\n",
       " 'gender_0.0': 35,\n",
       " 'gender_1.0': 36,\n",
       " 'age_ratio': 37,\n",
       " 'weekday_3.0': 38,\n",
       " 'weekday_4.0': 39,\n",
       " 'weekday_5.0': 40,\n",
       " 'weekday_0.0': 41,\n",
       " 'weekday_1.0': 42,\n",
       " 'weekday_2.0': 43,\n",
       " 'weekday_6.0': 44}"
      ]
     },
     "execution_count": 9,
     "metadata": {},
     "output_type": "execute_result"
    }
   ],
   "source": [
    "df_trainval = pd.concat([df_train, df_val], axis=0)\n",
    "print(df_trainval.shape)\n",
    "\n",
    "dict_category, df_trainval_typed = get_dict_category_from_dataset(df_trainval[cols])\n",
    "_, df_train_typed = get_dict_category_from_dataset(df_train[cols])\n",
    "_, df_val_typed = get_dict_category_from_dataset(df_val[cols])\n",
    "_, df_test_typed = get_dict_category_from_dataset(df_test[cols])\n",
    "dict_category"
   ]
  },
  {
   "cell_type": "markdown",
   "id": "1e5bcba2",
   "metadata": {},
   "source": [
    "### category 값, intensity 값 생성"
   ]
  },
  {
   "cell_type": "markdown",
   "id": "300594d6",
   "metadata": {},
   "source": [
    "### train 데이터 먼저"
   ]
  },
  {
   "cell_type": "code",
   "execution_count": null,
   "id": "78abde19",
   "metadata": {
    "pycharm": {
     "name": "#%%\n"
    }
   },
   "outputs": [],
   "source": [
    "df_train_category, df_train_intensity = create_cat_and_intensity_from_df(df_train_typed, dict_category)\n",
    "\n",
    "display(df_train_category.sample(10))\n",
    "display(df_train_intensity.sample(10))"
   ]
  },
  {
   "cell_type": "markdown",
   "id": "c06244bf",
   "metadata": {},
   "source": [
    "예시로 sore_throat id값 확인해봄"
   ]
  },
  {
   "cell_type": "code",
   "execution_count": null,
   "id": "6449656c",
   "metadata": {
    "pycharm": {
     "name": "#%%\n"
    },
    "scrolled": true
   },
   "outputs": [],
   "source": [
    "size_and_ratio(df_train_category, 'sore_throat')"
   ]
  },
  {
   "cell_type": "markdown",
   "id": "2d79e058",
   "metadata": {},
   "source": [
    "### df_val에서 df_cat값과 df_intensity 값 생성"
   ]
  },
  {
   "cell_type": "code",
   "execution_count": null,
   "id": "1d3122ca",
   "metadata": {},
   "outputs": [],
   "source": [
    "df_val_category, df_val_intensity = create_cat_and_intensity_from_df(df_val_typed, dict_category)\n"
   ]
  },
  {
   "cell_type": "markdown",
   "id": "f5fe90c5",
   "metadata": {},
   "source": [
    "### df_test에서도 마찬가지로 생성"
   ]
  },
  {
   "cell_type": "code",
   "execution_count": null,
   "id": "0e4144b6",
   "metadata": {},
   "outputs": [],
   "source": [
    "df_test_category, df_test_intensity = create_cat_and_intensity_from_df(df_test_typed, dict_category)\n"
   ]
  },
  {
   "cell_type": "code",
   "execution_count": null,
   "id": "dd38bf7c",
   "metadata": {
    "pycharm": {
     "name": "#%%\n"
    }
   },
   "outputs": [],
   "source": [
    "train_np_cat = df_train_category.values\n",
    "train_np_ins = df_train_intensity.values\n",
    "train_np_gt = df_train_gt[['pcr_result']].values\n",
    "\n",
    "val_np_cat = df_val_category.values\n",
    "val_np_ins = df_val_intensity.values\n",
    "val_np_gt = df_val_gt[['pcr_result']].values\n",
    "\n",
    "test_np_cat = df_test_category.values\n",
    "test_np_ins = df_test_intensity.values\n",
    "test_np_gt = df_test_gt[['pcr_result']].values\n",
    "\n",
    "train_np_gt, val_np_gt, test_np_gt"
   ]
  },
  {
   "cell_type": "code",
   "execution_count": null,
   "id": "e823fd27",
   "metadata": {
    "pycharm": {
     "name": "#%%\n"
    }
   },
   "outputs": [],
   "source": [
    "train_input = [train_np_cat.copy(), train_np_ins.copy()]\n",
    "train_gt = train_np_gt.copy()\n",
    "\n",
    "valid_input = [val_np_cat.copy(), val_np_ins.copy()]\n",
    "valid_gt = val_np_gt.copy()\n",
    "\n",
    "test_input = [test_np_cat.copy(), test_np_ins.copy()]\n",
    "test_gt = test_np_gt.copy()\n"
   ]
  },
  {
   "cell_type": "code",
   "execution_count": null,
   "id": "ef37a01d",
   "metadata": {
    "pycharm": {
     "name": "#%%\n"
    },
    "scrolled": true
   },
   "outputs": [],
   "source": [
    "print(train_input[0].shape, valid_input[0].shape, test_input[0].shape)\n",
    "print(train_gt.shape, valid_gt.shape, test_gt.shape)"
   ]
  },
  {
   "cell_type": "code",
   "execution_count": null,
   "id": "919f78b8",
   "metadata": {
    "pycharm": {
     "name": "#%%\n"
    }
   },
   "outputs": [],
   "source": [
    "print(\"# of train data positive: \", train_gt.sum())\n",
    "print(\"# of train data negative: \", train_gt.shape[0] - train_gt.sum())\n",
    "print(\"ratio of P/N: \", train_gt.sum()/(train_gt.shape[0] - train_gt.sum()))\n",
    "print(\"\")\n",
    "\n",
    "print(\"# of valid data positive: \", valid_gt.sum())\n",
    "print(\"# of valid data negative: \", valid_gt.shape[0] - valid_gt.sum())\n",
    "print(\"ratio of P/N: \", valid_gt.sum()/(valid_gt.shape[0] - valid_gt.sum()))\n",
    "print(\"\")\n",
    "\n",
    "print(\"# of test data positive: \", test_gt.sum())\n",
    "print(\"# of test data negative: \", test_gt.shape[0] - test_gt.sum())\n",
    "print(\"ratio of P/N: \", test_gt.sum()/(test_gt.shape[0] - test_gt.sum()))"
   ]
  },
  {
   "cell_type": "markdown",
   "id": "9ec8eb37",
   "metadata": {},
   "source": [
    "### Check dict_category"
   ]
  },
  {
   "cell_type": "code",
   "execution_count": null,
   "id": "26565dc0",
   "metadata": {
    "pycharm": {
     "name": "#%%\n"
    }
   },
   "outputs": [],
   "source": [
    "dict_category"
   ]
  },
  {
   "cell_type": "markdown",
   "id": "1b8577ff",
   "metadata": {},
   "source": [
    "## Let's Train imported class (simple attention module without inesity encoding)"
   ]
  },
  {
   "cell_type": "code",
   "execution_count": null,
   "id": "ecf384a2",
   "metadata": {},
   "outputs": [],
   "source": [
    "from model.attention_model import CategoricalAtentionMultiplyIntensityModel, CategoricalAttentionAddIntensityModel\n",
    "from model.simple_attention import CategoricalAttentionSimpleModel\n",
    "from model.base_dataloader import IsraelDataLoader, IsraelDatasetWithIntensity\n",
    "from model.utils import run_validation"
   ]
  },
  {
   "cell_type": "code",
   "execution_count": null,
   "id": "4c3ebffc",
   "metadata": {},
   "outputs": [],
   "source": [
    "train_input"
   ]
  },
  {
   "cell_type": "code",
   "execution_count": null,
   "id": "5b3ac549",
   "metadata": {},
   "outputs": [],
   "source": [
    "print(\"cat value:\", train_input[0].shape)\n",
    "print(\"intensity value:\", train_input[1].shape)\n",
    "print(\"Ground truth value:\", train_gt.shape)"
   ]
  },
  {
   "cell_type": "markdown",
   "id": "23199ca8",
   "metadata": {},
   "source": [
    "# Dataset, data_loader"
   ]
  },
  {
   "cell_type": "code",
   "execution_count": null,
   "id": "9dcbca48",
   "metadata": {},
   "outputs": [],
   "source": [
    "import logging\n",
    "\n",
    "logging.basicConfig(level=logging.INFO)\n",
    "logger = logging.getLogger(__name__)"
   ]
  },
  {
   "cell_type": "code",
   "execution_count": null,
   "id": "2290f5ab",
   "metadata": {},
   "outputs": [],
   "source": [
    "# creat dataset\n",
    "\n",
    "train_dataset = IsraelDatasetWithIntensity(\n",
    "    train_np_cat,\n",
    "    train_np_ins,\n",
    "    train_np_gt,\n",
    "    dict_category\n",
    ")\n",
    "\n",
    "val_dataset = IsraelDatasetWithIntensity(\n",
    "    val_np_cat,\n",
    "    val_np_ins,\n",
    "    val_np_gt,\n",
    "    dict_category\n",
    ")\n",
    "\n",
    "test_dataset = IsraelDatasetWithIntensity(\n",
    "    test_np_cat, \n",
    "    test_np_ins,\n",
    "    test_np_gt,\n",
    "    dict_category\n",
    ")"
   ]
  },
  {
   "cell_type": "markdown",
   "id": "df23aaba",
   "metadata": {},
   "source": [
    "## CategoricalAttentionSimpleModel"
   ]
  },
  {
   "cell_type": "code",
   "execution_count": 91,
   "id": "a6fa5458",
   "metadata": {
    "scrolled": true
   },
   "outputs": [
    {
     "name": "stdout",
     "output_type": "stream",
     "text": [
      "d_model: 128 n_head: 2 len_seq: 22\n"
     ]
    },
    {
     "name": "stderr",
     "output_type": "stream",
     "text": [
      "INFO:model.simple_attention:Epoch Step: 0 Train Loss: 0.028435930609703064 elapsed: 2.479694128036499\n",
      "INFO:__main__:epoch 0 val auc: 0.7865921688121542\n",
      "INFO:model.simple_attention:Epoch Step: 1 Train Loss: 0.025547616183757782 elapsed: 1.4231297969818115\n",
      "INFO:__main__:epoch 1 val auc: 0.7860069926413265\n",
      "INFO:model.simple_attention:Epoch Step: 2 Train Loss: 0.022680940106511116 elapsed: 1.4236347675323486\n",
      "INFO:__main__:epoch 2 val auc: 0.7866531345667509\n",
      "INFO:model.simple_attention:Epoch Step: 3 Train Loss: 0.023071130737662315 elapsed: 1.4312961101531982\n",
      "INFO:__main__:epoch 3 val auc: 0.7899979321556921\n",
      "INFO:model.simple_attention:Epoch Step: 4 Train Loss: 0.02349257655441761 elapsed: 1.4623210430145264\n",
      "INFO:__main__:epoch 4 val auc: 0.793574589758704\n",
      "INFO:model.simple_attention:Epoch Step: 5 Train Loss: 0.021567175164818764 elapsed: 1.4093742370605469\n",
      "INFO:__main__:epoch 5 val auc: 0.7932440911943109\n",
      "INFO:model.simple_attention:Epoch Step: 6 Train Loss: 0.021651579067111015 elapsed: 1.4150547981262207\n",
      "INFO:__main__:epoch 6 val auc: 0.7890143988515146\n",
      "INFO:model.simple_attention:Epoch Step: 7 Train Loss: 0.02213587611913681 elapsed: 1.4863250255584717\n",
      "INFO:__main__:epoch 7 val auc: 0.7887827765206974\n",
      "INFO:model.simple_attention:Epoch Step: 8 Train Loss: 0.022677842527627945 elapsed: 1.4030981063842773\n",
      "INFO:__main__:epoch 8 val auc: 0.792437394230952\n",
      "INFO:model.simple_attention:Epoch Step: 9 Train Loss: 0.023930421099066734 elapsed: 1.4057528972625732\n",
      "INFO:__main__:epoch 9 val auc: 0.7913313352094464\n"
     ]
    }
   ],
   "source": [
    "d_model = 128\n",
    "n_head = 2\n",
    "\n",
    "model = CategoricalAttentionSimpleModel(\n",
    "    dict_category, d_model=d_model, n_head=n_head, len_seq=train_dataset.dataset_np_cat.shape[1]\n",
    ")\n",
    "\n",
    "print(\"d_model:\", model.d_model, \"n_head:\", model.n_head, 'len_seq:', model.len_seq)\n",
    "loss_func = nn.BCELoss()\n",
    "optimizer = optim.RAdam(model.parameters(), lr=3*1e-5)\n",
    "batch_size = 64\n",
    "epochs = 10\n",
    "\n",
    "train_loader = IsraelDataLoader(train_dataset, batch_size=batch_size, shuffle=True)\n",
    "val_loader = IsraelDataLoader(val_dataset, batch_size=batch_size, shuffle=False)\n",
    "\n",
    "train_log = dict()\n",
    "val_log = dict()\n",
    "loss_func = nn.BCELoss()\n",
    "val_metrics = {\n",
    "    \"loss\": loss_func,\n",
    "    'auc': lambda pred, gt: roc_auc_score(gt.numpy(), pred.numpy())\n",
    "}\n",
    "\n",
    "import copy\n",
    "\n",
    "model.train()\n",
    "for epoch in range(epochs):\n",
    "    # **************** Train ****************\n",
    "    train_result_info = CategoricalAttentionSimpleModel.train_on_epoch(epoch, train_loader, model, loss_func, optimizer)\n",
    "    train_log[f'epoch_train_{epoch}'] = train_result_info\n",
    "    logger.debug(f\"epoch {epoch} train finished. train_result_info:{train_result_info}\")\n",
    "    \n",
    "    # ************** validation *********************\n",
    "    model.eval()\n",
    "    val_ts_cat = torch.LongTensor(val_np_cat)\n",
    "    val_ts_gt = torch.FloatTensor(val_np_gt)\n",
    "    val_result = run_validation(model, val_metrics, val_ts_cat, val_ts_gt)\n",
    "    \n",
    "    val_log[f'epoch_val_{epoch}'] = val_result\n",
    "\n",
    "    logger.info(f\"epoch {epoch} val auc: {val_result['auc']}\")\n",
    "\n",
    "    if not val_log:\n",
    "        best_model = copy.deepcopy(model)\n",
    "    elif val_result['auc'] >= max(val_log.values(), key=lambda x : x['auc'])['auc']:\n",
    "        best_model = copy.deepcopy(model)\n",
    "    "
   ]
  },
  {
   "cell_type": "code",
   "execution_count": 94,
   "id": "3b058429",
   "metadata": {
    "scrolled": false
   },
   "outputs": [
    {
     "data": {
      "text/plain": [
       "{'epoch_val_0': {'loss': tensor(0.6024), 'auc': 0.7865921688121542},\n",
       " 'epoch_val_1': {'loss': tensor(0.5191), 'auc': 0.7860069926413265},\n",
       " 'epoch_val_2': {'loss': tensor(0.5376), 'auc': 0.7866531345667509},\n",
       " 'epoch_val_3': {'loss': tensor(0.4726), 'auc': 0.7899979321556921},\n",
       " 'epoch_val_4': {'loss': tensor(0.4921), 'auc': 0.793574589758704},\n",
       " 'epoch_val_5': {'loss': tensor(0.4976), 'auc': 0.7932440911943109},\n",
       " 'epoch_val_6': {'loss': tensor(0.4863), 'auc': 0.7890143988515146},\n",
       " 'epoch_val_7': {'loss': tensor(0.5070), 'auc': 0.7887827765206974},\n",
       " 'epoch_val_8': {'loss': tensor(0.5387), 'auc': 0.792437394230952},\n",
       " 'epoch_val_9': {'loss': tensor(0.4729), 'auc': 0.7913313352094464}}"
      ]
     },
     "metadata": {},
     "output_type": "display_data"
    },
    {
     "data": {
      "text/plain": [
       "{'loss': tensor(0.4921), 'auc': 0.793574589758704}"
      ]
     },
     "execution_count": 94,
     "metadata": {},
     "output_type": "execute_result"
    }
   ],
   "source": [
    "## Check the best model's validation performance\n",
    "display(val_log)\n",
    "max(val_log.values(), key=lambda x : x['auc'])\n"
   ]
  },
  {
   "cell_type": "code",
   "execution_count": null,
   "id": "e5f6f5e5",
   "metadata": {},
   "outputs": [],
   "source": []
  },
  {
   "cell_type": "markdown",
   "id": "4fd6c385",
   "metadata": {},
   "source": [
    "\n",
    "## CategoricalAtention MultiplyIntensity Model"
   ]
  },
  {
   "cell_type": "code",
   "execution_count": 95,
   "id": "ea48b9ea",
   "metadata": {
    "scrolled": true
   },
   "outputs": [
    {
     "name": "stdout",
     "output_type": "stream",
     "text": [
      "d_model: 128 n_head: 2 len_seq: 22\n"
     ]
    },
    {
     "name": "stderr",
     "output_type": "stream",
     "text": [
      "INFO:model.base_model:Epoch Step: 0 Train Loss: 0.017019765451550484 elapsed: 1.7608428001403809\n",
      "INFO:model.base_model:cur_epoch:0, validation elapsed_time:0.2615170478820801\n",
      "INFO:__main__:epoch 0 val auc: 0.8003089882299252\n",
      "INFO:model.base_model:Epoch Step: 1 Train Loss: 0.01570836827158928 elapsed: 2.9120898246765137\n",
      "INFO:model.base_model:cur_epoch:1, validation elapsed_time:0.18551397323608398\n",
      "INFO:__main__:epoch 1 val auc: 0.7909983409708886\n",
      "INFO:model.base_model:Epoch Step: 2 Train Loss: 0.015375824645161629 elapsed: 2.8725366592407227\n",
      "INFO:model.base_model:cur_epoch:2, validation elapsed_time:0.19037389755249023\n",
      "INFO:__main__:epoch 2 val auc: 0.79646957178985\n",
      "INFO:model.base_model:Epoch Step: 3 Train Loss: 0.016488058492541313 elapsed: 3.175119161605835\n",
      "INFO:model.base_model:cur_epoch:3, validation elapsed_time:0.18777108192443848\n",
      "INFO:__main__:epoch 3 val auc: 0.8143900572341276\n",
      "INFO:model.base_model:Epoch Step: 4 Train Loss: 0.0175065528601408 elapsed: 3.119485855102539\n",
      "INFO:model.base_model:cur_epoch:4, validation elapsed_time:0.18632125854492188\n",
      "INFO:__main__:epoch 4 val auc: 0.7659887147991102\n",
      "INFO:model.base_model:Epoch Step: 5 Train Loss: 0.01662421226501465 elapsed: 3.0847179889678955\n",
      "INFO:model.base_model:cur_epoch:5, validation elapsed_time:0.18031787872314453\n",
      "INFO:__main__:epoch 5 val auc: 0.7502872402122036\n",
      "INFO:model.base_model:Epoch Step: 6 Train Loss: 0.016333376988768578 elapsed: 2.962230920791626\n",
      "INFO:model.base_model:cur_epoch:6, validation elapsed_time:0.18329691886901855\n",
      "INFO:__main__:epoch 6 val auc: 0.521425719229526\n",
      "INFO:model.base_model:Epoch Step: 7 Train Loss: 0.016280606389045715 elapsed: 2.9629688262939453\n",
      "INFO:model.base_model:cur_epoch:7, validation elapsed_time:0.1800990104675293\n",
      "INFO:__main__:epoch 7 val auc: 0.6534248968454679\n",
      "INFO:model.base_model:Epoch Step: 8 Train Loss: 0.020262181758880615 elapsed: 2.9451799392700195\n",
      "INFO:model.base_model:cur_epoch:8, validation elapsed_time:0.18253207206726074\n",
      "INFO:__main__:epoch 8 val auc: 0.7120475699264133\n",
      "INFO:model.base_model:Epoch Step: 9 Train Loss: 0.017959468066692352 elapsed: 3.0986270904541016\n",
      "INFO:model.base_model:cur_epoch:9, validation elapsed_time:0.189208984375\n",
      "INFO:__main__:epoch 9 val auc: 0.794830745754977\n"
     ]
    }
   ],
   "source": [
    "d_model = 128\n",
    "n_head = 2\n",
    "\n",
    "model = CategoricalAtentionMultiplyIntensityModel(\n",
    "    dict_category, d_model=d_model, n_head=n_head, len_seq=train_dataset.dataset_np_cat.shape[1],\n",
    ")\n",
    "\n",
    "print(\"d_model:\", model.d_model, \"n_head:\", model.n_head, 'len_seq:', model.len_seq)\n",
    "loss_func = nn.BCELoss()\n",
    "optimizer = optim.Adam(model.parameters(), lr=3*1e-5)\n",
    "batch_size = 32\n",
    "epochs = 10\n",
    "\n",
    "train_loader = IsraelDataLoader(train_dataset, batch_size=batch_size, shuffle=True)\n",
    "val_loader = IsraelDataLoader(val_dataset, batch_size=batch_size, shuffle=False)\n",
    "\n",
    "train_log = dict()\n",
    "val_log = dict()\n",
    "loss_func = nn.BCELoss()\n",
    "val_metrics = {\n",
    "    \"loss\": loss_func,\n",
    "    'auc': lambda pred, gt: roc_auc_score(gt.numpy(), pred.numpy())\n",
    "}\n",
    "\n",
    "model.train()\n",
    "for epoch in range(epochs):\n",
    "    # **************** Train ****************\n",
    "    train_result_info = CategoricalAtentionMultiplyIntensityModel.train_on_epoch(epoch, train_loader, model, loss_func, optimizer)\n",
    "    train_log[f'epoch_train_{epoch}'] = train_result_info\n",
    "    logger.debug(f\"epoch {epoch} train finished. train_result_info:{train_result_info}\")\n",
    "    \n",
    "    # ************** validation *********************\n",
    "    val_result = CategoricalAtentionMultiplyIntensityModel.validation_on_epoch(epoch, model, val_loader, val_metrics)\n",
    "    val_log[f'epoch_val_{epoch}'] = val_result\n",
    "\n",
    "    logger.info(f\"epoch {epoch} val auc: {val_result['auc']}\")\n",
    "\n",
    "    if not val_log:\n",
    "        best_model = model.copy()\n",
    "    elif val_result['auc'] >= max(val_log.values(), key=lambda x : x['auc'])['auc']:\n",
    "        best_model = model.copy()"
   ]
  },
  {
   "cell_type": "code",
   "execution_count": 96,
   "id": "ad20d686",
   "metadata": {
    "scrolled": false
   },
   "outputs": [
    {
     "data": {
      "text/plain": [
       "{'epoch_val_0': {'loss': tensor(0.4966), 'auc': 0.8003089882299252},\n",
       " 'epoch_val_1': {'loss': tensor(0.5366), 'auc': 0.7909983409708886},\n",
       " 'epoch_val_2': {'loss': tensor(0.5421), 'auc': 0.79646957178985},\n",
       " 'epoch_val_3': {'loss': tensor(0.6148), 'auc': 0.8143900572341276},\n",
       " 'epoch_val_4': {'loss': tensor(0.6852), 'auc': 0.7659887147991102},\n",
       " 'epoch_val_5': {'loss': tensor(0.5384), 'auc': 0.7502872402122036},\n",
       " 'epoch_val_6': {'loss': tensor(0.6561), 'auc': 0.521425719229526},\n",
       " 'epoch_val_7': {'loss': tensor(0.5823), 'auc': 0.6534248968454679},\n",
       " 'epoch_val_8': {'loss': tensor(0.9448), 'auc': 0.7120475699264133},\n",
       " 'epoch_val_9': {'loss': tensor(0.6347), 'auc': 0.794830745754977}}"
      ]
     },
     "metadata": {},
     "output_type": "display_data"
    },
    {
     "name": "stderr",
     "output_type": "stream",
     "text": [
      "INFO:model.base_model:cur_epoch:9, validation elapsed_time:0.16588401794433594\n"
     ]
    },
    {
     "data": {
      "text/plain": [
       "{'loss': tensor(0.6643), 'auc': 0.8135130846597012}"
      ]
     },
     "execution_count": 96,
     "metadata": {},
     "output_type": "execute_result"
    }
   ],
   "source": [
    "## Check the best model's validation performance\n",
    "display(val_log)\n",
    "max(val_log.values(), key=lambda x : x['auc'])\n",
    "\n",
    "## Check the best model's test performance\n",
    "test_loader = IsraelDataLoader(test_dataset, batch_size=64, shuffle=False)\n",
    "\n",
    "best_model.eval()\n",
    "test_result = model.validation_on_epoch(epoch, best_model, test_loader, val_metrics)\n",
    "test_result"
   ]
  },
  {
   "cell_type": "code",
   "execution_count": null,
   "id": "1483f49e",
   "metadata": {},
   "outputs": [],
   "source": []
  },
  {
   "cell_type": "code",
   "execution_count": null,
   "id": "452632d5",
   "metadata": {},
   "outputs": [],
   "source": []
  },
  {
   "cell_type": "markdown",
   "id": "236074db",
   "metadata": {},
   "source": [
    "\n",
    "## CategoricalAtention MultiplyIntensity Model with dropout"
   ]
  },
  {
   "cell_type": "code",
   "execution_count": 97,
   "id": "2fb3a38e",
   "metadata": {},
   "outputs": [
    {
     "name": "stdout",
     "output_type": "stream",
     "text": [
      "d_model: 128 n_head: 2 len_seq: 22\n"
     ]
    },
    {
     "name": "stderr",
     "output_type": "stream",
     "text": [
      "INFO:model.base_model:Epoch Step: 0 Train Loss: 0.017478717491030693 elapsed: 3.693838119506836\n",
      "INFO:model.base_model:cur_epoch:0, validation elapsed_time:0.18227720260620117\n",
      "INFO:__main__:epoch 0 val auc: 0.8002827242303817\n",
      "INFO:model.base_model:Epoch Step: 1 Train Loss: 0.015553481876850128 elapsed: 3.01898193359375\n",
      "INFO:model.base_model:cur_epoch:1, validation elapsed_time:0.1799449920654297\n",
      "INFO:__main__:epoch 1 val auc: 0.7999102745716948\n",
      "INFO:model.base_model:Epoch Step: 2 Train Loss: 0.017034394666552544 elapsed: 3.083362102508545\n",
      "INFO:model.base_model:cur_epoch:2, validation elapsed_time:0.18827533721923828\n",
      "INFO:__main__:epoch 2 val auc: 0.8141896902511837\n",
      "INFO:model.base_model:Epoch Step: 3 Train Loss: 0.015669047832489014 elapsed: 3.1451220512390137\n",
      "INFO:model.base_model:cur_epoch:3, validation elapsed_time:0.18166017532348633\n",
      "INFO:__main__:epoch 3 val auc: 0.7927374693388602\n",
      "INFO:model.base_model:Epoch Step: 4 Train Loss: 0.016531746834516525 elapsed: 3.1298530101776123\n",
      "INFO:model.base_model:cur_epoch:4, validation elapsed_time:0.1891789436340332\n",
      "INFO:__main__:epoch 4 val auc: 0.8004738215664278\n",
      "INFO:model.base_model:Epoch Step: 5 Train Loss: 0.017820842564105988 elapsed: 3.232869863510132\n",
      "INFO:model.base_model:cur_epoch:5, validation elapsed_time:0.19044709205627441\n",
      "INFO:__main__:epoch 5 val auc: 0.8030500703542431\n",
      "INFO:model.base_model:Epoch Step: 6 Train Loss: 0.019249241799116135 elapsed: 3.367479085922241\n",
      "INFO:model.base_model:cur_epoch:6, validation elapsed_time:0.18911290168762207\n",
      "INFO:__main__:epoch 6 val auc: 0.7925388849803199\n",
      "INFO:model.base_model:Epoch Step: 7 Train Loss: 0.018085503950715065 elapsed: 3.29762601852417\n",
      "INFO:model.base_model:cur_epoch:7, validation elapsed_time:0.18348288536071777\n",
      "INFO:__main__:epoch 7 val auc: 0.7926063870243958\n",
      "INFO:model.base_model:Epoch Step: 8 Train Loss: 0.019297314807772636 elapsed: 3.2431399822235107\n",
      "INFO:model.base_model:cur_epoch:8, validation elapsed_time:0.18935918807983398\n",
      "INFO:__main__:epoch 8 val auc: 0.7519579158030842\n",
      "INFO:model.base_model:Epoch Step: 9 Train Loss: 0.019491098821163177 elapsed: 3.370944023132324\n",
      "INFO:model.base_model:cur_epoch:9, validation elapsed_time:0.1951611042022705\n",
      "INFO:__main__:epoch 9 val auc: 0.795687950409766\n"
     ]
    }
   ],
   "source": [
    "d_model = 128\n",
    "n_head = 2\n",
    "\n",
    "model = CategoricalAtentionMultiplyIntensityModel(\n",
    "    dict_category, d_model=d_model, n_head=n_head, len_seq=train_dataset.dataset_np_cat.shape[1],\n",
    "    dropout=0.3\n",
    ")\n",
    "\n",
    "print(\"d_model:\", model.d_model, \"n_head:\", model.n_head, 'len_seq:', model.len_seq)\n",
    "loss_func = nn.BCELoss()\n",
    "optimizer = optim.Adam(model.parameters(), lr=3*1e-5)\n",
    "batch_size = 32\n",
    "epochs = 10\n",
    "\n",
    "train_log = dict()\n",
    "val_log = dict()\n",
    "loss_func = nn.BCELoss()\n",
    "val_metrics = {\n",
    "    \"loss\": loss_func,\n",
    "    'auc': lambda pred, gt: roc_auc_score(gt.numpy(), pred.numpy())\n",
    "}\n",
    "\n",
    "model.train()\n",
    "for epoch in range(epochs):\n",
    "    # **************** Train ****************\n",
    "    train_result_info = CategoricalAtentionMultiplyIntensityModel.train_on_epoch(epoch, train_loader, model, loss_func, optimizer)\n",
    "    train_log[f'epoch_train_{epoch}'] = train_result_info\n",
    "    logger.debug(f\"epoch {epoch} train finished. train_result_info:{train_result_info}\")\n",
    "    \n",
    "    # ************** validation *********************\n",
    "    val_result = CategoricalAtentionMultiplyIntensityModel.validation_on_epoch(epoch, model, val_loader, val_metrics)\n",
    "    val_log[f'epoch_val_{epoch}'] = val_result\n",
    "\n",
    "    logger.info(f\"epoch {epoch} val auc: {val_result['auc']}\")\n",
    "\n",
    "    if not val_log:\n",
    "        best_model = model.copy()\n",
    "    elif val_result['auc'] >= max(val_log.values(), key=lambda x : x['auc'])['auc']:\n",
    "        best_model = model.copy()\n",
    "    "
   ]
  },
  {
   "cell_type": "code",
   "execution_count": 98,
   "id": "909be714",
   "metadata": {},
   "outputs": [
    {
     "data": {
      "text/plain": [
       "{'epoch_val_0': {'loss': tensor(0.4756), 'auc': 0.8002827242303817},\n",
       " 'epoch_val_1': {'loss': tensor(0.4703), 'auc': 0.7999102745716948},\n",
       " 'epoch_val_2': {'loss': tensor(0.5246), 'auc': 0.8141896902511837},\n",
       " 'epoch_val_3': {'loss': tensor(0.5563), 'auc': 0.7927374693388602},\n",
       " 'epoch_val_4': {'loss': tensor(0.5064), 'auc': 0.8004738215664278},\n",
       " 'epoch_val_5': {'loss': tensor(0.5159), 'auc': 0.8030500703542431},\n",
       " 'epoch_val_6': {'loss': tensor(0.7625), 'auc': 0.7925388849803199},\n",
       " 'epoch_val_7': {'loss': tensor(0.5992), 'auc': 0.7926063870243958},\n",
       " 'epoch_val_8': {'loss': tensor(0.6542), 'auc': 0.7519579158030842},\n",
       " 'epoch_val_9': {'loss': tensor(0.4765), 'auc': 0.795687950409766}}"
      ]
     },
     "metadata": {},
     "output_type": "display_data"
    },
    {
     "name": "stderr",
     "output_type": "stream",
     "text": [
      "INFO:model.base_model:cur_epoch:9, validation elapsed_time:0.1581571102142334\n"
     ]
    },
    {
     "name": "stdout",
     "output_type": "stream",
     "text": [
      "Best validation performance: {'loss': tensor(0.5246), 'auc': 0.8141896902511837}\n"
     ]
    },
    {
     "data": {
      "text/plain": [
       "{'loss': tensor(0.5175), 'auc': 0.8159574834718576}"
      ]
     },
     "execution_count": 98,
     "metadata": {},
     "output_type": "execute_result"
    }
   ],
   "source": [
    "## Check the best model's validation performance\n",
    "display(val_log)\n",
    "print(\"Best validation performance:\", max(val_log.values(), key=lambda x : x['auc']))\n",
    "\n",
    "## Check the best model's test performance\n",
    "test_loader = IsraelDataLoader(test_dataset, batch_size=64, shuffle=False)\n",
    "\n",
    "best_model.eval()\n",
    "test_result = best_model.validation_on_epoch(epoch, best_model, test_loader, val_metrics)\n",
    "test_result"
   ]
  },
  {
   "cell_type": "markdown",
   "id": "67a15dfa",
   "metadata": {},
   "source": [
    "## Transformer 모델 \n",
    "-> 쓸데없이 decoder레이어 있어서 학습 잘 안되는것 같아 빼버림"
   ]
  },
  {
   "cell_type": "markdown",
   "id": "5e811f0e",
   "metadata": {
    "pycharm": {
     "name": "#%%\n"
    }
   },
   "source": [
    "## Transformer encoder\n",
    "일단 3층짜리로 한번 돌려보자"
   ]
  },
  {
   "cell_type": "code",
   "execution_count": 62,
   "id": "333c9e58",
   "metadata": {},
   "outputs": [],
   "source": [
    "from model.attention_model import CategoricalTransformerEncoderMultiplyIntensity, CategoricalTransformerEncoderAddIntensity"
   ]
  },
  {
   "cell_type": "code",
   "execution_count": 1,
   "id": "d64220b3",
   "metadata": {
    "pycharm": {
     "name": "#%%\n"
    }
   },
   "outputs": [
    {
     "ename": "NameError",
     "evalue": "name 'IsraelDataLoader' is not defined",
     "output_type": "error",
     "traceback": [
      "\u001b[0;31m---------------------------------------------------------------------------\u001b[0m",
      "\u001b[0;31mNameError\u001b[0m                                 Traceback (most recent call last)",
      "Input \u001b[0;32mIn [1]\u001b[0m, in \u001b[0;36m<cell line: 4>\u001b[0;34m()\u001b[0m\n\u001b[1;32m      1\u001b[0m batch_size \u001b[38;5;241m=\u001b[39m \u001b[38;5;241m32\u001b[39m\n\u001b[1;32m      2\u001b[0m epochs \u001b[38;5;241m=\u001b[39m \u001b[38;5;241m10\u001b[39m\n\u001b[0;32m----> 4\u001b[0m train_loader \u001b[38;5;241m=\u001b[39m \u001b[43mIsraelDataLoader\u001b[49m(train_dataset, batch_size\u001b[38;5;241m=\u001b[39mbatch_size, shuffle\u001b[38;5;241m=\u001b[39m\u001b[38;5;28;01mTrue\u001b[39;00m)\n\u001b[1;32m      5\u001b[0m val_loader \u001b[38;5;241m=\u001b[39m IsraelDataLoader(val_dataset, batch_size\u001b[38;5;241m=\u001b[39mbatch_size, shuffle\u001b[38;5;241m=\u001b[39m\u001b[38;5;28;01mFalse\u001b[39;00m)\n\u001b[1;32m      7\u001b[0m len_seq \u001b[38;5;241m=\u001b[39m train_input[\u001b[38;5;241m0\u001b[39m]\u001b[38;5;241m.\u001b[39mshape[\u001b[38;5;241m1\u001b[39m]\n",
      "\u001b[0;31mNameError\u001b[0m: name 'IsraelDataLoader' is not defined"
     ]
    }
   ],
   "source": [
    "batch_size = 32\n",
    "epochs = 10\n",
    "\n",
    "train_loader = IsraelDataLoader(train_dataset, batch_size=batch_size, shuffle=True)\n",
    "val_loader = IsraelDataLoader(val_dataset, batch_size=batch_size, shuffle=False)\n",
    "\n",
    "len_seq = train_input[0].shape[1]\n",
    "print(\"len_seq:\", len_seq)\n",
    "d_model = 64\n",
    "n_head = 4\n",
    "loss_func = nn.BCELoss()\n",
    "\n",
    "encoder_layer = nn.TransformerEncoderLayer(d_model=d_model, nhead=n_head)\n",
    "transformer_encoder = nn.TransformerEncoder(encoder_layer, num_layers=3)\n",
    "model = CategoricalTransformerEncoderMultiplyIntensity(\n",
    "    transformer_encoder=transformer_encoder,\n",
    "    dict_category=dict_category,\n",
    "    len_seq=len_seq,\n",
    "    dropout=0.3\n",
    ")\n",
    "\n",
    "model.eval()\n",
    "\n",
    "print(\"d_model:\", model.d_model, \"n_head:\", model.n_head, 'len_seq:', model.len_seq)\n",
    "loss_func = nn.BCELoss()\n",
    "optimizer = optim.RAdam(model.parameters(), lr=1e-4)\n",
    "\n",
    "train_log = dict()\n",
    "val_log = dict()\n",
    "loss_func = nn.BCELoss()\n",
    "val_metrics = {\n",
    "    \"loss\": loss_func,\n",
    "    'auc': lambda pred, gt: roc_auc_score(gt.numpy(), pred.numpy())\n",
    "}\n",
    "\n",
    "\n",
    "for epoch in range(epochs):\n",
    "    # **************** Train ****************\n",
    "    train_result_info = CategoricalTransformerEncoderMultiplyIntensity.train_on_epoch(epoch, train_loader, model, loss_func, optimizer, verbose=True)\n",
    "    train_log[f'epoch_train_{epoch}'] = train_result_info\n",
    "    logger.debug(f\"epoch {epoch} train finished. train_result_info:{train_result_info}\")\n",
    "    \n",
    "    # ************** validation *********************\n",
    "    val_result = CategoricalTransformerEncoderMultiplyIntensity.validation_on_epoch(epoch, model, val_loader, val_metrics)\n",
    "    val_log[f'epoch_val_{epoch}'] = val_result\n",
    "    logger.info(f\"epoch {epoch} val result: {val_result}\")\n",
    "\n",
    "    if not val_log:\n",
    "        best_model = model.copy()\n",
    "    elif val_result['auc'] >= max(val_log.values(), key=lambda x : x['auc'])['auc']:\n",
    "        best_model = model.copy()\n",
    "    "
   ]
  },
  {
   "cell_type": "code",
   "execution_count": 64,
   "id": "4dfeb385",
   "metadata": {
    "pycharm": {
     "name": "#%%\n"
    }
   },
   "outputs": [
    {
     "data": {
      "text/plain": [
       "{'epoch_val_0': {'loss': tensor(0.6341), 'auc': 0.8024701232149989},\n",
       " 'epoch_val_1': {'loss': tensor(0.5979), 'auc': 0.8056727862181743},\n",
       " 'epoch_val_2': {'loss': tensor(0.4554), 'auc': 0.8045673214048031},\n",
       " 'epoch_val_3': {'loss': tensor(0.5578), 'auc': 0.8065964233423969},\n",
       " 'epoch_val_4': {'loss': tensor(0.5047), 'auc': 0.8079625078435473},\n",
       " 'epoch_val_5': {'loss': tensor(0.5876), 'auc': 0.8005703209674659},\n",
       " 'epoch_val_6': {'loss': tensor(0.5164), 'auc': 0.8000219857009754},\n",
       " 'epoch_val_7': {'loss': tensor(0.4785), 'auc': 0.7945602622121655},\n",
       " 'epoch_val_8': {'loss': tensor(0.4757), 'auc': 0.7988025517674127},\n",
       " 'epoch_val_9': {'loss': tensor(0.6145), 'auc': 0.8062426318191325}}"
      ]
     },
     "execution_count": 64,
     "metadata": {},
     "output_type": "execute_result"
    }
   ],
   "source": [
    "val_log"
   ]
  },
  {
   "cell_type": "code",
   "execution_count": 65,
   "id": "1cc29774",
   "metadata": {
    "pycharm": {
     "name": "#%%\n"
    }
   },
   "outputs": [
    {
     "data": {
      "text/plain": [
       "{'loss': tensor(0.5047), 'auc': 0.8079625078435473}"
      ]
     },
     "execution_count": 65,
     "metadata": {},
     "output_type": "execute_result"
    }
   ],
   "source": [
    "max(val_log.values(), key=lambda x : x['auc'])"
   ]
  },
  {
   "cell_type": "code",
   "execution_count": 69,
   "id": "3f14de04",
   "metadata": {},
   "outputs": [
    {
     "name": "stderr",
     "output_type": "stream",
     "text": [
      "INFO:model.base_model:cur_epoch:0, validation elapsed_time:1.0178778171539307\n"
     ]
    },
    {
     "data": {
      "text/plain": [
       "{'loss': tensor(0.5296), 'auc': 0.8023155434422573}"
      ]
     },
     "execution_count": 69,
     "metadata": {},
     "output_type": "execute_result"
    }
   ],
   "source": [
    "\n",
    "test_loader = IsraelDataLoader(test_dataset, batch_size=64, shuffle=False)\n",
    "\n",
    "best_model.eval()\n",
    "test_result = CategoricalTransformerEncoderMultiplyIntensity.validation_on_epoch(epoch, best_model, test_loader, val_metrics)\n",
    "test_result"
   ]
  },
  {
   "cell_type": "code",
   "execution_count": null,
   "id": "2cccc5b9",
   "metadata": {},
   "outputs": [],
   "source": []
  },
  {
   "cell_type": "code",
   "execution_count": null,
   "id": "5f0c04b7",
   "metadata": {},
   "outputs": [],
   "source": []
  }
 ],
 "metadata": {
  "kernelspec": {
   "display_name": "py38",
   "language": "python",
   "name": "py38"
  },
  "language_info": {
   "codemirror_mode": {
    "name": "ipython",
    "version": 3
   },
   "file_extension": ".py",
   "mimetype": "text/x-python",
   "name": "python",
   "nbconvert_exporter": "python",
   "pygments_lexer": "ipython3",
   "version": "3.8.13"
  }
 },
 "nbformat": 4,
 "nbformat_minor": 5
}
