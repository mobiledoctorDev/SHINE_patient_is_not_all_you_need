{
 "cells": [
  {
   "cell_type": "markdown",
   "id": "223e6afb",
   "metadata": {
    "pycharm": {
     "name": "#%% md\n"
    }
   },
   "source": [
    "# Import library"
   ]
  },
  {
   "cell_type": "code",
   "execution_count": 48,
   "id": "1dd7f1f1",
   "metadata": {
    "pycharm": {
     "name": "#%%\n"
    }
   },
   "outputs": [
    {
     "name": "stdout",
     "output_type": "stream",
     "text": [
      "The autoreload extension is already loaded. To reload it, use:\n",
      "  %reload_ext autoreload\n"
     ]
    }
   ],
   "source": [
    "import os\n",
    "import os, sys\n",
    "import glob\n",
    "import re\n",
    "import datetime\n",
    "from datetime import datetime, timedelta \n",
    "import math, copy, time\n",
    "from itertools import cycle\n",
    "from collections import defaultdict\n",
    "\n",
    "from parse import parse\n",
    "import numpy as np\n",
    "import pandas as pd\n",
    "\n",
    "import torch\n",
    "from torch import nn, optim\n",
    "from torch.autograd import Variable\n",
    "from torch.utils.data import Dataset\n",
    "from torch.utils.data import DataLoader\n",
    "import torch.nn.functional as F\n",
    "\n",
    "# import torchvision\n",
    "# import torchvision.transforms as transforms\n",
    "\n",
    "from sklearn.metrics import roc_auc_score, plot_roc_curve\n",
    "from sklearn import svm\n",
    "\n",
    "\n",
    "from tqdm.notebook import tqdm\n",
    "\n",
    "import matplotlib.pyplot as plt\n",
    "import seaborn\n",
    "\n",
    "%load_ext autoreload\n",
    "%autoreload 2"
   ]
  },
  {
   "cell_type": "code",
   "execution_count": 49,
   "id": "327af99d",
   "metadata": {},
   "outputs": [],
   "source": [
    "pd.set_option(\"display.max_column\", 100)"
   ]
  },
  {
   "cell_type": "code",
   "execution_count": 50,
   "id": "011b0722",
   "metadata": {},
   "outputs": [],
   "source": [
    "# Util functions\n",
    "def size_and_ratio(df, col, dropna=True):\n",
    "    if pd.__version__ > '1.1':\n",
    "        sr = df.groupby(col, dropna=dropna).size().sort_values(ascending=False)\n",
    "    elif dropna:\n",
    "        sr = df.groupby(col).size().sort_values(ascending=False)\n",
    "    else:  # dropna == False\n",
    "        sr = df.fillna('nan').groupby(col).size().sort_values(ascending=False)\n",
    "    sr_ratio = sr.copy() / sum(sr)\n",
    "    print(\"Sum :\", sum(sr), sr.shape)\n",
    "    sr.name = 'size'\n",
    "    sr_ratio.name = 'ratio'\n",
    "    return pd.concat([sr, sr_ratio], axis=1)"
   ]
  },
  {
   "cell_type": "markdown",
   "id": "3f43473d",
   "metadata": {
    "pycharm": {
     "name": "#%% md\n"
    }
   },
   "source": [
    "# Data load"
   ]
  },
  {
   "cell_type": "code",
   "execution_count": 107,
   "id": "e7c0d9c2",
   "metadata": {
    "pycharm": {
     "name": "#%%\n"
    }
   },
   "outputs": [
    {
     "name": "stdout",
     "output_type": "stream",
     "text": [
      "(6137, 24) (1716, 24)\n"
     ]
    },
    {
     "data": {
      "text/html": [
       "<div>\n",
       "<style scoped>\n",
       "    .dataframe tbody tr th:only-of-type {\n",
       "        vertical-align: middle;\n",
       "    }\n",
       "\n",
       "    .dataframe tbody tr th {\n",
       "        vertical-align: top;\n",
       "    }\n",
       "\n",
       "    .dataframe thead th {\n",
       "        text-align: right;\n",
       "    }\n",
       "</style>\n",
       "<table border=\"1\" class=\"dataframe\">\n",
       "  <thead>\n",
       "    <tr style=\"text-align: right;\">\n",
       "      <th></th>\n",
       "      <th>baby_id</th>\n",
       "      <th>cough</th>\n",
       "      <th>fever</th>\n",
       "      <th>sore_throat</th>\n",
       "      <th>shortness_of_breath</th>\n",
       "      <th>head_ache</th>\n",
       "      <th>runny_nose</th>\n",
       "      <th>muscle_pain</th>\n",
       "      <th>chills</th>\n",
       "      <th>loss_of_taste</th>\n",
       "      <th>loss_of_smell</th>\n",
       "      <th>sputum</th>\n",
       "      <th>chest_pain</th>\n",
       "      <th>indication_other</th>\n",
       "      <th>indication_abroad</th>\n",
       "      <th>indication_contact</th>\n",
       "      <th>global_confirmed_ratio</th>\n",
       "      <th>confirmed_ratio</th>\n",
       "      <th>sigungu_confirmed_ratio</th>\n",
       "      <th>mask</th>\n",
       "      <th>gender</th>\n",
       "      <th>age_ratio</th>\n",
       "      <th>weekday</th>\n",
       "      <th>pcr_result</th>\n",
       "    </tr>\n",
       "  </thead>\n",
       "  <tbody>\n",
       "    <tr>\n",
       "      <th>0</th>\n",
       "      <td>21099</td>\n",
       "      <td>1</td>\n",
       "      <td>0</td>\n",
       "      <td>0</td>\n",
       "      <td>0</td>\n",
       "      <td>1</td>\n",
       "      <td>0</td>\n",
       "      <td>0</td>\n",
       "      <td>0</td>\n",
       "      <td>0</td>\n",
       "      <td>0</td>\n",
       "      <td>1</td>\n",
       "      <td>0</td>\n",
       "      <td>0</td>\n",
       "      <td>0</td>\n",
       "      <td>1</td>\n",
       "      <td>0.173322</td>\n",
       "      <td>0.007956</td>\n",
       "      <td>0.012987</td>\n",
       "      <td>1</td>\n",
       "      <td>0</td>\n",
       "      <td>0.18</td>\n",
       "      <td>3</td>\n",
       "      <td>0</td>\n",
       "    </tr>\n",
       "    <tr>\n",
       "      <th>1</th>\n",
       "      <td>21151</td>\n",
       "      <td>0</td>\n",
       "      <td>0</td>\n",
       "      <td>1</td>\n",
       "      <td>0</td>\n",
       "      <td>1</td>\n",
       "      <td>0</td>\n",
       "      <td>0</td>\n",
       "      <td>0</td>\n",
       "      <td>0</td>\n",
       "      <td>0</td>\n",
       "      <td>0</td>\n",
       "      <td>0</td>\n",
       "      <td>0</td>\n",
       "      <td>0</td>\n",
       "      <td>1</td>\n",
       "      <td>0.179024</td>\n",
       "      <td>0.008614</td>\n",
       "      <td>0.013084</td>\n",
       "      <td>1</td>\n",
       "      <td>0</td>\n",
       "      <td>0.17</td>\n",
       "      <td>4</td>\n",
       "      <td>0</td>\n",
       "    </tr>\n",
       "    <tr>\n",
       "      <th>2</th>\n",
       "      <td>21024</td>\n",
       "      <td>0</td>\n",
       "      <td>0</td>\n",
       "      <td>1</td>\n",
       "      <td>0</td>\n",
       "      <td>1</td>\n",
       "      <td>0</td>\n",
       "      <td>0</td>\n",
       "      <td>0</td>\n",
       "      <td>0</td>\n",
       "      <td>0</td>\n",
       "      <td>0</td>\n",
       "      <td>0</td>\n",
       "      <td>1</td>\n",
       "      <td>0</td>\n",
       "      <td>0</td>\n",
       "      <td>0.179024</td>\n",
       "      <td>0.008614</td>\n",
       "      <td>0.013084</td>\n",
       "      <td>1</td>\n",
       "      <td>1</td>\n",
       "      <td>0.29</td>\n",
       "      <td>4</td>\n",
       "      <td>0</td>\n",
       "    </tr>\n",
       "    <tr>\n",
       "      <th>3</th>\n",
       "      <td>20822</td>\n",
       "      <td>0</td>\n",
       "      <td>0</td>\n",
       "      <td>0</td>\n",
       "      <td>0</td>\n",
       "      <td>0</td>\n",
       "      <td>0</td>\n",
       "      <td>0</td>\n",
       "      <td>0</td>\n",
       "      <td>0</td>\n",
       "      <td>0</td>\n",
       "      <td>0</td>\n",
       "      <td>0</td>\n",
       "      <td>1</td>\n",
       "      <td>0</td>\n",
       "      <td>0</td>\n",
       "      <td>0.179024</td>\n",
       "      <td>0.008614</td>\n",
       "      <td>0.012138</td>\n",
       "      <td>1</td>\n",
       "      <td>0</td>\n",
       "      <td>0.51</td>\n",
       "      <td>4</td>\n",
       "      <td>0</td>\n",
       "    </tr>\n",
       "    <tr>\n",
       "      <th>4</th>\n",
       "      <td>21113</td>\n",
       "      <td>0</td>\n",
       "      <td>0</td>\n",
       "      <td>0</td>\n",
       "      <td>0</td>\n",
       "      <td>0</td>\n",
       "      <td>0</td>\n",
       "      <td>0</td>\n",
       "      <td>0</td>\n",
       "      <td>0</td>\n",
       "      <td>0</td>\n",
       "      <td>0</td>\n",
       "      <td>0</td>\n",
       "      <td>1</td>\n",
       "      <td>0</td>\n",
       "      <td>0</td>\n",
       "      <td>0.179024</td>\n",
       "      <td>0.008614</td>\n",
       "      <td>0.013084</td>\n",
       "      <td>1</td>\n",
       "      <td>0</td>\n",
       "      <td>0.40</td>\n",
       "      <td>4</td>\n",
       "      <td>0</td>\n",
       "    </tr>\n",
       "  </tbody>\n",
       "</table>\n",
       "</div>"
      ],
      "text/plain": [
       "   baby_id  cough  fever  sore_throat  shortness_of_breath  head_ache  \\\n",
       "0    21099      1      0            0                    0          1   \n",
       "1    21151      0      0            1                    0          1   \n",
       "2    21024      0      0            1                    0          1   \n",
       "3    20822      0      0            0                    0          0   \n",
       "4    21113      0      0            0                    0          0   \n",
       "\n",
       "   runny_nose  muscle_pain  chills  loss_of_taste  loss_of_smell  sputum  \\\n",
       "0           0            0       0              0              0       1   \n",
       "1           0            0       0              0              0       0   \n",
       "2           0            0       0              0              0       0   \n",
       "3           0            0       0              0              0       0   \n",
       "4           0            0       0              0              0       0   \n",
       "\n",
       "   chest_pain  indication_other  indication_abroad  indication_contact  \\\n",
       "0           0                 0                  0                   1   \n",
       "1           0                 0                  0                   1   \n",
       "2           0                 1                  0                   0   \n",
       "3           0                 1                  0                   0   \n",
       "4           0                 1                  0                   0   \n",
       "\n",
       "   global_confirmed_ratio  confirmed_ratio  sigungu_confirmed_ratio  mask  \\\n",
       "0                0.173322         0.007956                 0.012987     1   \n",
       "1                0.179024         0.008614                 0.013084     1   \n",
       "2                0.179024         0.008614                 0.013084     1   \n",
       "3                0.179024         0.008614                 0.012138     1   \n",
       "4                0.179024         0.008614                 0.013084     1   \n",
       "\n",
       "   gender  age_ratio  weekday  pcr_result  \n",
       "0       0       0.18        3           0  \n",
       "1       0       0.17        4           0  \n",
       "2       1       0.29        4           0  \n",
       "3       0       0.51        4           0  \n",
       "4       0       0.40        4           0  "
      ]
     },
     "execution_count": 107,
     "metadata": {},
     "output_type": "execute_result"
    }
   ],
   "source": [
    "max_babyid = 40000\n",
    "\n",
    "df_train = pd.read_csv(\"data/df_train.csv\")\n",
    "df_train = df_train[df_train['baby_id'] < max_babyid]\n",
    "\n",
    "df_test = pd.read_csv(\"data/df_test.csv\")\n",
    "df_test = df_test[df_test['baby_id'] < max_babyid]\n",
    "\n",
    "print(df_train.shape, df_test.shape)\n",
    "df_train.head()"
   ]
  },
  {
   "cell_type": "code",
   "execution_count": 108,
   "id": "568790f5",
   "metadata": {},
   "outputs": [
    {
     "name": "stdout",
     "output_type": "stream",
     "text": [
      "(6137, 24)\n",
      "Train: (4909, 24) 3513\n",
      "Validaiton: (1228, 24) 1097\n"
     ]
    }
   ],
   "source": [
    "import random\n",
    "from sklearn.model_selection import train_test_split\n",
    "\n",
    "print(df_train.shape)\n",
    "df_train, df_val = train_test_split(df_train, test_size=0.2, random_state=1212)\n",
    "print(\"Train:\", df_train.shape, df_train['baby_id'].nunique())\n",
    "print(\"Validaiton:\", df_val.shape, df_val['baby_id'].nunique())"
   ]
  },
  {
   "cell_type": "markdown",
   "id": "94da1ce6",
   "metadata": {},
   "source": [
    "## Remove baby_id and results"
   ]
  },
  {
   "cell_type": "code",
   "execution_count": 109,
   "id": "c72fac99",
   "metadata": {},
   "outputs": [],
   "source": [
    "exclude_cols = ['baby_id', 'pcr_result']\n",
    "cols = [x for x in df_train.columns if x not in exclude_cols]\n",
    "\n",
    "df_train_gt = df_train[['pcr_result']]\n",
    "df_train_input = df_train[cols]\n",
    "df_val_gt = df_val[['pcr_result']]\n",
    "df_val_input = df_val[cols]\n",
    "df_test_gt = df_test[['pcr_result']]\n",
    "df_test_input = df_test[cols]\n"
   ]
  },
  {
   "cell_type": "code",
   "execution_count": 110,
   "id": "4dceb7b0",
   "metadata": {},
   "outputs": [
    {
     "name": "stdout",
     "output_type": "stream",
     "text": [
      "(6137, 24)\n"
     ]
    }
   ],
   "source": [
    "# df_trainval = df_train.copy()\n",
    "df_trainval = pd.concat([df_train, df_val], axis=0)\n",
    "print(df_trainval.shape)\n"
   ]
  },
  {
   "cell_type": "code",
   "execution_count": 111,
   "id": "87591709",
   "metadata": {},
   "outputs": [
    {
     "name": "stdout",
     "output_type": "stream",
     "text": [
      "Sum : 6137 (2,)\n"
     ]
    },
    {
     "data": {
      "text/html": [
       "<div>\n",
       "<style scoped>\n",
       "    .dataframe tbody tr th:only-of-type {\n",
       "        vertical-align: middle;\n",
       "    }\n",
       "\n",
       "    .dataframe tbody tr th {\n",
       "        vertical-align: top;\n",
       "    }\n",
       "\n",
       "    .dataframe thead th {\n",
       "        text-align: right;\n",
       "    }\n",
       "</style>\n",
       "<table border=\"1\" class=\"dataframe\">\n",
       "  <thead>\n",
       "    <tr style=\"text-align: right;\">\n",
       "      <th></th>\n",
       "      <th>size</th>\n",
       "      <th>ratio</th>\n",
       "    </tr>\n",
       "    <tr>\n",
       "      <th>pcr_result</th>\n",
       "      <th></th>\n",
       "      <th></th>\n",
       "    </tr>\n",
       "  </thead>\n",
       "  <tbody>\n",
       "    <tr>\n",
       "      <th>1</th>\n",
       "      <td>4418</td>\n",
       "      <td>0.719896</td>\n",
       "    </tr>\n",
       "    <tr>\n",
       "      <th>0</th>\n",
       "      <td>1719</td>\n",
       "      <td>0.280104</td>\n",
       "    </tr>\n",
       "  </tbody>\n",
       "</table>\n",
       "</div>"
      ],
      "text/plain": [
       "            size     ratio\n",
       "pcr_result                \n",
       "1           4418  0.719896\n",
       "0           1719  0.280104"
      ]
     },
     "execution_count": 111,
     "metadata": {},
     "output_type": "execute_result"
    }
   ],
   "source": [
    "size_and_ratio(df_trainval, 'pcr_result')"
   ]
  },
  {
   "cell_type": "code",
   "execution_count": 112,
   "id": "35af78db",
   "metadata": {},
   "outputs": [
    {
     "name": "stdout",
     "output_type": "stream",
     "text": [
      "Sum : 1716 (2,)\n"
     ]
    },
    {
     "data": {
      "text/html": [
       "<div>\n",
       "<style scoped>\n",
       "    .dataframe tbody tr th:only-of-type {\n",
       "        vertical-align: middle;\n",
       "    }\n",
       "\n",
       "    .dataframe tbody tr th {\n",
       "        vertical-align: top;\n",
       "    }\n",
       "\n",
       "    .dataframe thead th {\n",
       "        text-align: right;\n",
       "    }\n",
       "</style>\n",
       "<table border=\"1\" class=\"dataframe\">\n",
       "  <thead>\n",
       "    <tr style=\"text-align: right;\">\n",
       "      <th></th>\n",
       "      <th>size</th>\n",
       "      <th>ratio</th>\n",
       "    </tr>\n",
       "    <tr>\n",
       "      <th>pcr_result</th>\n",
       "      <th></th>\n",
       "      <th></th>\n",
       "    </tr>\n",
       "  </thead>\n",
       "  <tbody>\n",
       "    <tr>\n",
       "      <th>1</th>\n",
       "      <td>1346</td>\n",
       "      <td>0.784382</td>\n",
       "    </tr>\n",
       "    <tr>\n",
       "      <th>0</th>\n",
       "      <td>370</td>\n",
       "      <td>0.215618</td>\n",
       "    </tr>\n",
       "  </tbody>\n",
       "</table>\n",
       "</div>"
      ],
      "text/plain": [
       "            size     ratio\n",
       "pcr_result                \n",
       "1           1346  0.784382\n",
       "0            370  0.215618"
      ]
     },
     "execution_count": 112,
     "metadata": {},
     "output_type": "execute_result"
    }
   ],
   "source": [
    "size_and_ratio(df_test, 'pcr_result')"
   ]
  },
  {
   "cell_type": "code",
   "execution_count": 113,
   "id": "6c9ffdc2",
   "metadata": {},
   "outputs": [
    {
     "data": {
      "image/png": "[encoded data removed]",
      "text/plain": [
       "<Figure size 432x288 with 1 Axes>"
      ]
     },
     "metadata": {
      "needs_background": "light"
     },
     "output_type": "display_data"
    }
   ],
   "source": [
    "df_trainval.hist('baby_id', bins=100)\n",
    "plt.show()"
   ]
  },
  {
   "cell_type": "code",
   "execution_count": 114,
   "id": "a45b34a8",
   "metadata": {},
   "outputs": [
    {
     "data": {
      "image/png": "[encoded data removed]",
      "text/plain": [
       "<Figure size 432x288 with 1 Axes>"
      ]
     },
     "metadata": {
      "needs_background": "light"
     },
     "output_type": "display_data"
    }
   ],
   "source": [
    "df_test.hist('baby_id',bins=100)\n",
    "plt.show()"
   ]
  },
  {
   "cell_type": "code",
   "execution_count": 115,
   "id": "e681c148",
   "metadata": {},
   "outputs": [
    {
     "data": {
      "text/plain": [
       "39999"
      ]
     },
     "execution_count": 115,
     "metadata": {},
     "output_type": "execute_result"
    }
   ],
   "source": [
    "df_trainval['baby_id'].max()"
   ]
  },
  {
   "cell_type": "code",
   "execution_count": 116,
   "id": "750cf502",
   "metadata": {},
   "outputs": [
    {
     "name": "stdout",
     "output_type": "stream",
     "text": [
      "4159 1232\n"
     ]
    }
   ],
   "source": [
    "print(df_trainval['baby_id'].nunique(), df_test['baby_id'].nunique())"
   ]
  },
  {
   "cell_type": "markdown",
   "id": "aa328487",
   "metadata": {},
   "source": [
    "# Check Logistic regression performance"
   ]
  },
  {
   "cell_type": "code",
   "execution_count": 117,
   "id": "1edee0f0",
   "metadata": {},
   "outputs": [
    {
     "name": "stdout",
     "output_type": "stream",
     "text": [
      "start to train: x.shape:(6137, 22), y.shape:(6137,)\n",
      "Model: LogisticRegression()\n",
      "Found predict_proba\n",
      "(6137,) (6137,)\n",
      "train set auc 0.8346367694062393\n",
      "test set auc 0.7787157142283443\n"
     ]
    },
    {
     "name": "stderr",
     "output_type": "stream",
     "text": [
      "/Users/mckim/miniconda3/envs/py38/lib/python3.8/site-packages/sklearn/linear_model/_logistic.py:444: ConvergenceWarning: lbfgs failed to converge (status=1):\n",
      "STOP: TOTAL NO. of ITERATIONS REACHED LIMIT.\n",
      "\n",
      "Increase the number of iterations (max_iter) or scale the data as shown in:\n",
      "    https://scikit-learn.org/stable/modules/preprocessing.html\n",
      "Please also refer to the documentation for alternative solver options:\n",
      "    https://scikit-learn.org/stable/modules/linear_model.html#logistic-regression\n",
      "  n_iter_i = _check_optimize_result(\n"
     ]
    },
    {
     "data": {
      "text/plain": [
       "(LogisticRegression(), 0.7787157142283443)"
      ]
     },
     "execution_count": 117,
     "metadata": {},
     "output_type": "execute_result"
    }
   ],
   "source": [
    "from sklearn.linear_model import LogisticRegression\n",
    "from sklearn.metrics import roc_auc_score\n",
    "\n",
    "def run_one_full_train_test(df_trainval, df_test, cols, model):\n",
    "    x = df_trainval[cols]\n",
    "    y = df_trainval['pcr_result']\n",
    "    print(f\"start to train: x.shape:{x.shape}, y.shape:{y.shape}\")\n",
    "\n",
    "    model.fit(x, y)\n",
    "    print(f\"Model: {model}\")\n",
    "    if getattr(model, 'predict_proba', False):\n",
    "        print(\"Found predict_proba\")\n",
    "        pred_raw = model.predict_proba(df_trainval[cols])\n",
    "        pred_pos = np.array([x[1] for x in pred_raw])\n",
    "    else:\n",
    "        pred_pos = model.predict(df_trainval[cols])\n",
    "    \n",
    "    gt = df_trainval['pcr_result']\n",
    "\n",
    "    print(pred_pos.shape, gt.shape)\n",
    "    print(\"train set auc\", roc_auc_score(gt, pred_pos))\n",
    "\n",
    "    if getattr(model, 'predict_proba', False):\n",
    "        pred_raw = model.predict_proba(df_test[cols])\n",
    "        pred_pos = np.array([x[1] for x in pred_raw])\n",
    "    else:\n",
    "        pred_pos = model.predict(df_test[cols])\n",
    "    \n",
    "    gt = df_test['pcr_result']\n",
    "    test_result = roc_auc_score(gt, pred_pos)\n",
    "    print(\"test set auc\", test_result)\n",
    "        \n",
    "    return model, test_result\n",
    "\n",
    "lr_model = LogisticRegression()\n",
    "\n",
    "run_one_full_train_test(df_trainval, df_test, cols, lr_model)"
   ]
  },
  {
   "cell_type": "markdown",
   "id": "aa828934",
   "metadata": {},
   "source": [
    "## repeat 5 times"
   ]
  },
  {
   "cell_type": "code",
   "execution_count": 118,
   "id": "c79e8e60",
   "metadata": {
    "scrolled": false
   },
   "outputs": [
    {
     "name": "stdout",
     "output_type": "stream",
     "text": [
      "start to train: x.shape:(4909, 22), y.shape:(4909,)\n",
      "Model: LogisticRegression()\n",
      "Found predict_proba\n",
      "(4909,) (4909,)\n",
      "train set auc 0.8339556875651591\n",
      "test set auc 0.7776555158427373\n",
      "start to train: x.shape:(4909, 22), y.shape:(4909,)\n",
      "Model: LogisticRegression()\n",
      "Found predict_proba\n",
      "(4909,) (4909,)\n",
      "train set auc 0.8375940899638471\n",
      "test set auc 0.7802317176017027\n",
      "start to train: x.shape:(4909, 22), y.shape:(4909,)\n",
      "Model: LogisticRegression()\n",
      "Found predict_proba\n",
      "(4909,) (4909,)\n",
      "train set auc 0.8362211456255344\n",
      "test set auc 0.7776896510180313\n",
      "start to train: x.shape:(4909, 22), y.shape:(4909,)\n",
      "Model: LogisticRegression()\n",
      "Found predict_proba\n",
      "(4909,) (4909,)\n",
      "train set auc 0.8360980008083824\n",
      "test set auc 0.7756254768884785\n",
      "start to train: x.shape:(4909, 22), y.shape:(4909,)\n",
      "Model: LogisticRegression()\n",
      "Found predict_proba\n",
      "(4909,) (4909,)\n",
      "train set auc 0.834845564301087\n",
      "test set auc 0.7781715593751255\n"
     ]
    },
    {
     "name": "stderr",
     "output_type": "stream",
     "text": [
      "/Users/mckim/miniconda3/envs/py38/lib/python3.8/site-packages/sklearn/linear_model/_logistic.py:444: ConvergenceWarning: lbfgs failed to converge (status=1):\n",
      "STOP: TOTAL NO. of ITERATIONS REACHED LIMIT.\n",
      "\n",
      "Increase the number of iterations (max_iter) or scale the data as shown in:\n",
      "    https://scikit-learn.org/stable/modules/preprocessing.html\n",
      "Please also refer to the documentation for alternative solver options:\n",
      "    https://scikit-learn.org/stable/modules/linear_model.html#logistic-regression\n",
      "  n_iter_i = _check_optimize_result(\n"
     ]
    }
   ],
   "source": [
    "test_result = dict()\n",
    "models = dict()\n",
    "for i in range(5):\n",
    "    models[i], test_result[i] = run_one_full_train_test(\n",
    "        df_trainval.sample(int(df_trainval.shape[0]* 0.8), random_state=i), \n",
    "        df_test, cols,\n",
    "        lr_model\n",
    "    )"
   ]
  },
  {
   "cell_type": "code",
   "execution_count": 119,
   "id": "94963594",
   "metadata": {},
   "outputs": [
    {
     "name": "stdout",
     "output_type": "stream",
     "text": [
      "{0: 0.7776555158427373, 1: 0.7802317176017027, 2: 0.7776896510180313, 3: 0.7756254768884785, 4: 0.7781715593751255}\n",
      "mean: 0.7778747841452149 std: 0.0014686692516601156\n"
     ]
    }
   ],
   "source": [
    "print(test_result)\n",
    "print(\"mean:\", np.mean(list(test_result.values())), \"std:\", np.std(list(test_result.values())))\n"
   ]
  },
  {
   "cell_type": "markdown",
   "id": "127a42f8",
   "metadata": {},
   "source": [
    "### Use xgboost"
   ]
  },
  {
   "cell_type": "code",
   "execution_count": 106,
   "id": "0df1e4ce",
   "metadata": {},
   "outputs": [],
   "source": [
    "import xgboost as xgb\n",
    "from sklearn.metrics import mean_squared_error\n",
    "import pandas as pd\n",
    "import numpy as np"
   ]
  },
  {
   "cell_type": "code",
   "execution_count": 65,
   "id": "b17272bc",
   "metadata": {},
   "outputs": [],
   "source": [
    "xg_reg = xgb.XGBRegressor(objective ='reg:linear', colsample_bytree = 0.3, learning_rate = 0.1,\n",
    "                max_depth = 5, alpha = 10, n_estimators = 10)"
   ]
  },
  {
   "cell_type": "code",
   "execution_count": 66,
   "id": "645f4940",
   "metadata": {
    "scrolled": false
   },
   "outputs": [
    {
     "name": "stdout",
     "output_type": "stream",
     "text": [
      "start to train: x.shape:(12546, 22), y.shape:(12546,)\n",
      "[10:05:20] WARNING: /Users/runner/work/xgboost/xgboost/python-package/build/temp.macosx-11.0-arm64-cpython-38/xgboost/src/objective/regression_obj.cu:213: reg:linear is now deprecated in favor of reg:squarederror.\n",
      "Model: XGBRegressor(alpha=10, base_score=0.5, booster='gbtree', callbacks=None,\n",
      "             colsample_bylevel=1, colsample_bynode=1, colsample_bytree=0.3,\n",
      "             early_stopping_rounds=None, enable_categorical=False,\n",
      "             eval_metric=None, feature_types=None, gamma=0, gpu_id=-1,\n",
      "             grow_policy='depthwise', importance_type=None,\n",
      "             interaction_constraints='', learning_rate=0.1, max_bin=256,\n",
      "             max_cat_threshold=64, max_cat_to_onehot=4, max_delta_step=0,\n",
      "             max_depth=5, max_leaves=0, min_child_weight=1, missing=nan,\n",
      "             monotone_constraints='()', n_estimators=10, n_jobs=0,\n",
      "             num_parallel_tree=1, objective='reg:linear', ...)\n",
      "(12546,) (12546,)\n",
      "train set auc 0.8435449671158176\n",
      "test set auc 0.776696558536557\n"
     ]
    },
    {
     "data": {
      "text/plain": [
       "(XGBRegressor(alpha=10, base_score=0.5, booster='gbtree', callbacks=None,\n",
       "              colsample_bylevel=1, colsample_bynode=1, colsample_bytree=0.3,\n",
       "              early_stopping_rounds=None, enable_categorical=False,\n",
       "              eval_metric=None, feature_types=None, gamma=0, gpu_id=-1,\n",
       "              grow_policy='depthwise', importance_type=None,\n",
       "              interaction_constraints='', learning_rate=0.1, max_bin=256,\n",
       "              max_cat_threshold=64, max_cat_to_onehot=4, max_delta_step=0,\n",
       "              max_depth=5, max_leaves=0, min_child_weight=1, missing=nan,\n",
       "              monotone_constraints='()', n_estimators=10, n_jobs=0,\n",
       "              num_parallel_tree=1, objective='reg:linear', ...),\n",
       " 0.776696558536557)"
      ]
     },
     "execution_count": 66,
     "metadata": {},
     "output_type": "execute_result"
    }
   ],
   "source": [
    "\n",
    "run_one_full_train_test(df_trainval, df_test, cols, xg_reg)"
   ]
  },
  {
   "cell_type": "code",
   "execution_count": 41,
   "id": "3e272e28",
   "metadata": {
    "scrolled": true
   },
   "outputs": [
    {
     "name": "stdout",
     "output_type": "stream",
     "text": [
      "start to train: x.shape:(10372, 22), y.shape:(10372,)\n",
      "[10:01:48] WARNING: /Users/runner/work/xgboost/xgboost/python-package/build/temp.macosx-11.0-arm64-cpython-38/xgboost/src/objective/regression_obj.cu:213: reg:linear is now deprecated in favor of reg:squarederror.\n",
      "Model: XGBRegressor(alpha=10, base_score=0.5, booster='gbtree', callbacks=None,\n",
      "             colsample_bylevel=1, colsample_bynode=1, colsample_bytree=0.3,\n",
      "             early_stopping_rounds=None, enable_categorical=False,\n",
      "             eval_metric=None, feature_types=None, gamma=0, gpu_id=-1,\n",
      "             grow_policy='depthwise', importance_type=None,\n",
      "             interaction_constraints='', learning_rate=0.1, max_bin=256,\n",
      "             max_cat_threshold=64, max_cat_to_onehot=4, max_delta_step=0,\n",
      "             max_depth=5, max_leaves=0, min_child_weight=1, missing=nan,\n",
      "             monotone_constraints='()', n_estimators=10, n_jobs=0,\n",
      "             num_parallel_tree=1, objective='reg:linear', ...)\n",
      "(10372,) (10372,)\n",
      "train set auc 0.845775212524664\n",
      "test set auc 0.777307852779551\n",
      "start to train: x.shape:(10372, 22), y.shape:(10372,)\n",
      "[10:01:48] WARNING: /Users/runner/work/xgboost/xgboost/python-package/build/temp.macosx-11.0-arm64-cpython-38/xgboost/src/objective/regression_obj.cu:213: reg:linear is now deprecated in favor of reg:squarederror.\n",
      "Model: XGBRegressor(alpha=10, base_score=0.5, booster='gbtree', callbacks=None,\n",
      "             colsample_bylevel=1, colsample_bynode=1, colsample_bytree=0.3,\n",
      "             early_stopping_rounds=None, enable_categorical=False,\n",
      "             eval_metric=None, feature_types=None, gamma=0, gpu_id=-1,\n",
      "             grow_policy='depthwise', importance_type=None,\n",
      "             interaction_constraints='', learning_rate=0.1, max_bin=256,\n",
      "             max_cat_threshold=64, max_cat_to_onehot=4, max_delta_step=0,\n",
      "             max_depth=5, max_leaves=0, min_child_weight=1, missing=nan,\n",
      "             monotone_constraints='()', n_estimators=10, n_jobs=0,\n",
      "             num_parallel_tree=1, objective='reg:linear', ...)\n",
      "(10372,) (10372,)\n",
      "train set auc 0.8462443248533059\n",
      "test set auc 0.7782255140745707\n",
      "start to train: x.shape:(10372, 22), y.shape:(10372,)\n",
      "[10:01:48] WARNING: /Users/runner/work/xgboost/xgboost/python-package/build/temp.macosx-11.0-arm64-cpython-38/xgboost/src/objective/regression_obj.cu:213: reg:linear is now deprecated in favor of reg:squarederror.\n",
      "Model: XGBRegressor(alpha=10, base_score=0.5, booster='gbtree', callbacks=None,\n",
      "             colsample_bylevel=1, colsample_bynode=1, colsample_bytree=0.3,\n",
      "             early_stopping_rounds=None, enable_categorical=False,\n",
      "             eval_metric=None, feature_types=None, gamma=0, gpu_id=-1,\n",
      "             grow_policy='depthwise', importance_type=None,\n",
      "             interaction_constraints='', learning_rate=0.1, max_bin=256,\n",
      "             max_cat_threshold=64, max_cat_to_onehot=4, max_delta_step=0,\n",
      "             max_depth=5, max_leaves=0, min_child_weight=1, missing=nan,\n",
      "             monotone_constraints='()', n_estimators=10, n_jobs=0,\n",
      "             num_parallel_tree=1, objective='reg:linear', ...)\n",
      "(10372,) (10372,)\n",
      "train set auc 0.8452671543923373\n",
      "test set auc 0.780313134086719\n",
      "start to train: x.shape:(10372, 22), y.shape:(10372,)\n",
      "[10:01:48] WARNING: /Users/runner/work/xgboost/xgboost/python-package/build/temp.macosx-11.0-arm64-cpython-38/xgboost/src/objective/regression_obj.cu:213: reg:linear is now deprecated in favor of reg:squarederror.\n",
      "Model: XGBRegressor(alpha=10, base_score=0.5, booster='gbtree', callbacks=None,\n",
      "             colsample_bylevel=1, colsample_bynode=1, colsample_bytree=0.3,\n",
      "             early_stopping_rounds=None, enable_categorical=False,\n",
      "             eval_metric=None, feature_types=None, gamma=0, gpu_id=-1,\n",
      "             grow_policy='depthwise', importance_type=None,\n",
      "             interaction_constraints='', learning_rate=0.1, max_bin=256,\n",
      "             max_cat_threshold=64, max_cat_to_onehot=4, max_delta_step=0,\n",
      "             max_depth=5, max_leaves=0, min_child_weight=1, missing=nan,\n",
      "             monotone_constraints='()', n_estimators=10, n_jobs=0,\n",
      "             num_parallel_tree=1, objective='reg:linear', ...)\n",
      "(10372,) (10372,)\n",
      "train set auc 0.8452217782117126\n",
      "test set auc 0.7782341320077171\n",
      "start to train: x.shape:(10372, 22), y.shape:(10372,)\n",
      "[10:01:48] WARNING: /Users/runner/work/xgboost/xgboost/python-package/build/temp.macosx-11.0-arm64-cpython-38/xgboost/src/objective/regression_obj.cu:213: reg:linear is now deprecated in favor of reg:squarederror.\n",
      "Model: XGBRegressor(alpha=10, base_score=0.5, booster='gbtree', callbacks=None,\n",
      "             colsample_bylevel=1, colsample_bynode=1, colsample_bytree=0.3,\n",
      "             early_stopping_rounds=None, enable_categorical=False,\n",
      "             eval_metric=None, feature_types=None, gamma=0, gpu_id=-1,\n",
      "             grow_policy='depthwise', importance_type=None,\n",
      "             interaction_constraints='', learning_rate=0.1, max_bin=256,\n",
      "             max_cat_threshold=64, max_cat_to_onehot=4, max_delta_step=0,\n",
      "             max_depth=5, max_leaves=0, min_child_weight=1, missing=nan,\n",
      "             monotone_constraints='()', n_estimators=10, n_jobs=0,\n",
      "             num_parallel_tree=1, objective='reg:linear', ...)\n",
      "(10372,) (10372,)\n",
      "train set auc 0.8471677048925066\n",
      "test set auc 0.7792733358771095\n"
     ]
    }
   ],
   "source": [
    "test_result = dict()\n",
    "models = dict()\n",
    "for i in range(5):\n",
    "    models[i], test_result[i] = run_one_full_train_test(\n",
    "        df_trainval.sample(int(df_trainval.shape[0]* 0.8), random_state=i), \n",
    "        df_test, cols,\n",
    "        xg_reg\n",
    "    )"
   ]
  },
  {
   "cell_type": "code",
   "execution_count": 42,
   "id": "1a29e85d",
   "metadata": {},
   "outputs": [
    {
     "name": "stdout",
     "output_type": "stream",
     "text": [
      "{0: 0.777307852779551, 1: 0.7782255140745707, 2: 0.780313134086719, 3: 0.7782341320077171, 4: 0.7792733358771095}\n",
      "mean: 0.7786707937651335 std: 0.0010302324351337776\n"
     ]
    }
   ],
   "source": [
    "print(test_result)\n",
    "print(\"mean:\", np.mean(list(test_result.values())), \"std:\", np.std(list(test_result.values())))\n"
   ]
  },
  {
   "cell_type": "markdown",
   "id": "6f2535d9",
   "metadata": {},
   "source": [
    "### LGBM"
   ]
  },
  {
   "cell_type": "code",
   "execution_count": 43,
   "id": "80a2897f",
   "metadata": {},
   "outputs": [],
   "source": [
    "import lightgbm as lgb"
   ]
  },
  {
   "cell_type": "code",
   "execution_count": 44,
   "id": "1faf7c60",
   "metadata": {
    "scrolled": true
   },
   "outputs": [
    {
     "name": "stdout",
     "output_type": "stream",
     "text": [
      "start to train: x.shape:(10372, 22), y.shape:(10372,)\n",
      "Model: LGBMClassifier(learning_rate=0.09, max_depth=-5, random_state=42)\n",
      "Found predict_proba\n",
      "(10372,) (10372,)\n",
      "train set auc 0.9253358412165692\n",
      "test set auc 0.8228387709519784\n",
      "start to train: x.shape:(10372, 22), y.shape:(10372,)\n",
      "Model: LGBMClassifier(learning_rate=0.09, max_depth=-5, random_state=42)\n",
      "Found predict_proba\n",
      "(10372,) (10372,)\n",
      "train set auc 0.925341153145737\n",
      "test set auc 0.8260826798562648\n",
      "start to train: x.shape:(10372, 22), y.shape:(10372,)\n",
      "Model: LGBMClassifier(learning_rate=0.09, max_depth=-5, random_state=42)\n",
      "Found predict_proba\n",
      "(10372,) (10372,)\n",
      "train set auc 0.926773477952284\n",
      "test set auc 0.8278591627648232\n",
      "start to train: x.shape:(10372, 22), y.shape:(10372,)\n",
      "Model: LGBMClassifier(learning_rate=0.09, max_depth=-5, random_state=42)\n",
      "Found predict_proba\n",
      "(10372,) (10372,)\n",
      "train set auc 0.9250399154826365\n",
      "test set auc 0.8227184170580397\n",
      "start to train: x.shape:(10372, 22), y.shape:(10372,)\n",
      "Model: LGBMClassifier(learning_rate=0.09, max_depth=-5, random_state=42)\n",
      "Found predict_proba\n",
      "(10372,) (10372,)\n",
      "train set auc 0.9273838961232278\n",
      "test set auc 0.8329077857379744\n"
     ]
    }
   ],
   "source": [
    "lgb_model = lgb.LGBMClassifier(learning_rate=0.09,max_depth=-5,random_state=42)\n",
    "test_result = dict()\n",
    "models = dict()\n",
    "for i in range(5):\n",
    "    models[i], test_result[i] = run_one_full_train_test(\n",
    "        df_trainval.sample(int(df_trainval.shape[0]* 0.8), random_state=i), \n",
    "        df_test, cols,\n",
    "        lgb_model\n",
    "    )"
   ]
  },
  {
   "cell_type": "code",
   "execution_count": 45,
   "id": "3ce1e1f9",
   "metadata": {},
   "outputs": [
    {
     "name": "stdout",
     "output_type": "stream",
     "text": [
      "{0: 0.8228387709519784, 1: 0.8260826798562648, 2: 0.8278591627648232, 3: 0.8227184170580397, 4: 0.8329077857379744}\n",
      "mean: 0.826481363273816 std: 0.003762563717430573\n"
     ]
    }
   ],
   "source": [
    "print(test_result)\n",
    "print(\"mean:\", np.mean(list(test_result.values())), \"std:\", np.std(list(test_result.values())))\n"
   ]
  },
  {
   "cell_type": "markdown",
   "id": "c5e8f9a3",
   "metadata": {},
   "source": [
    "## TabNet"
   ]
  },
  {
   "cell_type": "code",
   "execution_count": 46,
   "id": "8a5f5326",
   "metadata": {},
   "outputs": [],
   "source": [
    "import pandas as pd\n",
    "import numpy  as np\n",
    "from tqdm.auto import tqdm\n",
    "from pytorch_tabnet.tab_model import TabNetClassifier\n",
    "from sklearn.model_selection import KFold\n",
    "from sklearn.model_selection import train_test_split\n",
    "from sklearn.metrics import mean_squared_log_error\n",
    "import torch"
   ]
  },
  {
   "cell_type": "code",
   "execution_count": 47,
   "id": "d5211d85",
   "metadata": {
    "scrolled": true
   },
   "outputs": [
    {
     "name": "stderr",
     "output_type": "stream",
     "text": [
      "/Users/mckim/miniconda3/envs/py38/lib/python3.8/site-packages/pytorch_tabnet/abstract_model.py:75: UserWarning: Device used : cpu\n",
      "  warnings.warn(f\"Device used : {self.device}\")\n"
     ]
    },
    {
     "name": "stdout",
     "output_type": "stream",
     "text": [
      "start to train: x_train.shape:(10372, 22), y_train.shape:(10372,)\n",
      "start to train: x_val.shape:(2593, 22), y_val.shape:(2593,)\n",
      "y_train mean:0.7486502121095256. y_val mean:0.7365985345160047\n",
      "epoch 0  | loss: 0.61708 | train_auc: 0.52023 | valid_auc: 0.50836 |  0:00:01s\n",
      "epoch 2  | loss: 0.44796 | train_auc: 0.72802 | valid_auc: 0.73309 |  0:00:03s\n",
      "epoch 4  | loss: 0.42956 | train_auc: 0.78467 | valid_auc: 0.78796 |  0:00:04s\n",
      "epoch 6  | loss: 0.41121 | train_auc: 0.80725 | valid_auc: 0.7985  |  0:00:06s\n",
      "epoch 8  | loss: 0.40484 | train_auc: 0.82496 | valid_auc: 0.81729 |  0:00:08s\n",
      "epoch 10 | loss: 0.40117 | train_auc: 0.81157 | valid_auc: 0.81161 |  0:00:10s\n",
      "epoch 12 | loss: 0.40014 | train_auc: 0.82981 | valid_auc: 0.8269  |  0:00:12s\n",
      "epoch 14 | loss: 0.39696 | train_auc: 0.83447 | valid_auc: 0.82722 |  0:00:14s\n",
      "epoch 16 | loss: 0.39573 | train_auc: 0.83732 | valid_auc: 0.82684 |  0:00:16s\n",
      "epoch 18 | loss: 0.39752 | train_auc: 0.83938 | valid_auc: 0.82956 |  0:00:18s\n",
      "epoch 20 | loss: 0.39414 | train_auc: 0.84326 | valid_auc: 0.83236 |  0:00:20s\n",
      "epoch 22 | loss: 0.39958 | train_auc: 0.84035 | valid_auc: 0.82979 |  0:00:22s\n",
      "epoch 24 | loss: 0.3976  | train_auc: 0.84338 | valid_auc: 0.83374 |  0:00:24s\n",
      "epoch 26 | loss: 0.3949  | train_auc: 0.84614 | valid_auc: 0.83387 |  0:00:26s\n",
      "epoch 28 | loss: 0.39185 | train_auc: 0.84894 | valid_auc: 0.83698 |  0:00:28s\n",
      "epoch 30 | loss: 0.39148 | train_auc: 0.85406 | valid_auc: 0.84174 |  0:00:30s\n",
      "epoch 32 | loss: 0.39215 | train_auc: 0.85606 | valid_auc: 0.84056 |  0:00:32s\n",
      "epoch 34 | loss: 0.39087 | train_auc: 0.85562 | valid_auc: 0.83925 |  0:00:34s\n",
      "epoch 36 | loss: 0.38838 | train_auc: 0.85922 | valid_auc: 0.84129 |  0:00:36s\n",
      "epoch 38 | loss: 0.39047 | train_auc: 0.86165 | valid_auc: 0.84379 |  0:00:38s\n",
      "epoch 40 | loss: 0.38733 | train_auc: 0.862   | valid_auc: 0.84372 |  0:00:40s\n",
      "epoch 42 | loss: 0.38901 | train_auc: 0.86112 | valid_auc: 0.84078 |  0:00:41s\n",
      "epoch 44 | loss: 0.38704 | train_auc: 0.86142 | valid_auc: 0.84131 |  0:00:43s\n",
      "epoch 46 | loss: 0.38671 | train_auc: 0.86384 | valid_auc: 0.84152 |  0:00:45s\n",
      "epoch 48 | loss: 0.38432 | train_auc: 0.86761 | valid_auc: 0.84265 |  0:00:47s\n",
      "epoch 50 | loss: 0.38478 | train_auc: 0.86419 | valid_auc: 0.83872 |  0:00:50s\n",
      "epoch 52 | loss: 0.38721 | train_auc: 0.86332 | valid_auc: 0.8379  |  0:00:52s\n",
      "epoch 54 | loss: 0.38403 | train_auc: 0.86782 | valid_auc: 0.84255 |  0:00:54s\n",
      "epoch 56 | loss: 0.38332 | train_auc: 0.86767 | valid_auc: 0.84297 |  0:00:56s\n",
      "epoch 58 | loss: 0.38154 | train_auc: 0.86902 | valid_auc: 0.84139 |  0:00:58s\n",
      "epoch 60 | loss: 0.38122 | train_auc: 0.8689  | valid_auc: 0.83997 |  0:01:00s\n",
      "epoch 62 | loss: 0.38168 | train_auc: 0.8696  | valid_auc: 0.83914 |  0:01:02s\n",
      "epoch 64 | loss: 0.38095 | train_auc: 0.87208 | valid_auc: 0.83921 |  0:01:04s\n",
      "epoch 66 | loss: 0.37988 | train_auc: 0.87352 | valid_auc: 0.83529 |  0:01:06s\n",
      "epoch 68 | loss: 0.37753 | train_auc: 0.87251 | valid_auc: 0.83783 |  0:01:08s\n",
      "epoch 70 | loss: 0.37971 | train_auc: 0.87169 | valid_auc: 0.8407  |  0:01:10s\n",
      "epoch 72 | loss: 0.3769  | train_auc: 0.87503 | valid_auc: 0.8395  |  0:01:12s\n",
      "epoch 74 | loss: 0.3761  | train_auc: 0.87341 | valid_auc: 0.83824 |  0:01:14s\n",
      "epoch 76 | loss: 0.37542 | train_auc: 0.87441 | valid_auc: 0.83739 |  0:01:16s\n",
      "epoch 78 | loss: 0.37577 | train_auc: 0.87681 | valid_auc: 0.83803 |  0:01:17s\n",
      "epoch 80 | loss: 0.37548 | train_auc: 0.87569 | valid_auc: 0.83576 |  0:01:19s\n",
      "epoch 82 | loss: 0.37339 | train_auc: 0.87374 | valid_auc: 0.83259 |  0:01:21s\n",
      "epoch 84 | loss: 0.37501 | train_auc: 0.87553 | valid_auc: 0.83662 |  0:01:23s\n",
      "epoch 86 | loss: 0.37708 | train_auc: 0.87556 | valid_auc: 0.83732 |  0:01:25s\n",
      "epoch 88 | loss: 0.37303 | train_auc: 0.87868 | valid_auc: 0.83637 |  0:01:27s\n",
      "epoch 90 | loss: 0.37395 | train_auc: 0.8781  | valid_auc: 0.83617 |  0:01:29s\n",
      "epoch 92 | loss: 0.37334 | train_auc: 0.87626 | valid_auc: 0.837   |  0:01:31s\n",
      "epoch 94 | loss: 0.37283 | train_auc: 0.87889 | valid_auc: 0.83742 |  0:01:33s\n",
      "epoch 96 | loss: 0.37358 | train_auc: 0.87926 | valid_auc: 0.83623 |  0:01:35s\n",
      "epoch 98 | loss: 0.3738  | train_auc: 0.87873 | valid_auc: 0.83877 |  0:01:37s\n",
      "epoch 100| loss: 0.36989 | train_auc: 0.88062 | valid_auc: 0.83874 |  0:01:39s\n",
      "epoch 102| loss: 0.37019 | train_auc: 0.88115 | valid_auc: 0.83666 |  0:01:41s\n",
      "epoch 104| loss: 0.37085 | train_auc: 0.88209 | valid_auc: 0.83494 |  0:01:43s\n",
      "epoch 106| loss: 0.36467 | train_auc: 0.88255 | valid_auc: 0.83458 |  0:01:45s\n",
      "epoch 108| loss: 0.36461 | train_auc: 0.88255 | valid_auc: 0.82882 |  0:01:46s\n",
      "epoch 110| loss: 0.37378 | train_auc: 0.88097 | valid_auc: 0.83508 |  0:01:48s\n",
      "epoch 112| loss: 0.368   | train_auc: 0.88402 | valid_auc: 0.8297  |  0:01:50s\n",
      "epoch 114| loss: 0.36513 | train_auc: 0.88618 | valid_auc: 0.83243 |  0:01:52s\n",
      "epoch 116| loss: 0.36725 | train_auc: 0.88376 | valid_auc: 0.83382 |  0:01:54s\n",
      "epoch 118| loss: 0.36442 | train_auc: 0.88564 | valid_auc: 0.83315 |  0:01:56s\n",
      "epoch 120| loss: 0.36874 | train_auc: 0.88522 | valid_auc: 0.8373  |  0:01:58s\n",
      "epoch 122| loss: 0.36683 | train_auc: 0.88682 | valid_auc: 0.83277 |  0:02:00s\n",
      "epoch 124| loss: 0.36192 | train_auc: 0.8871  | valid_auc: 0.82948 |  0:02:02s\n",
      "epoch 126| loss: 0.36209 | train_auc: 0.88791 | valid_auc: 0.83422 |  0:02:04s\n",
      "epoch 128| loss: 0.36427 | train_auc: 0.88769 | valid_auc: 0.83425 |  0:02:06s\n",
      "epoch 130| loss: 0.36193 | train_auc: 0.88947 | valid_auc: 0.83262 |  0:02:08s\n",
      "epoch 132| loss: 0.35866 | train_auc: 0.8899  | valid_auc: 0.8345  |  0:02:10s\n",
      "epoch 134| loss: 0.36176 | train_auc: 0.89142 | valid_auc: 0.8368  |  0:02:12s\n",
      "epoch 136| loss: 0.36047 | train_auc: 0.89145 | valid_auc: 0.83313 |  0:02:14s\n",
      "epoch 138| loss: 0.35561 | train_auc: 0.89097 | valid_auc: 0.83368 |  0:02:16s\n",
      "\n",
      "Early stopping occurred at epoch 139 with best_epoch = 39 and best_valid_auc = 0.84456\n",
      "Model: TabNetClassifier(n_d=8, n_a=8, n_steps=3, gamma=1.3, cat_idxs=[], cat_dims=[], cat_emb_dim=1, n_independent=2, n_shared=2, epsilon=1e-15, momentum=0.02, lambda_sparse=0.001, seed=1212, clip_value=1, verbose=2, optimizer_fn=<class 'torch.optim.adam.Adam'>, optimizer_params={'lr': 0.02}, scheduler_fn=None, scheduler_params={}, mask_type='sparsemax', input_dim=22, output_dim=2, device_name='auto', n_shared_decoder=1, n_indep_decoder=1)\n"
     ]
    },
    {
     "name": "stderr",
     "output_type": "stream",
     "text": [
      "/Users/mckim/miniconda3/envs/py38/lib/python3.8/site-packages/pytorch_tabnet/callbacks.py:172: UserWarning: Best weights from best epoch are automatically used!\n",
      "  warnings.warn(wrn_msg)\n"
     ]
    },
    {
     "data": {
      "image/png": "[encoded data removed]",
      "text/plain": [
       "<Figure size 432x288 with 1 Axes>"
      ]
     },
     "metadata": {
      "needs_background": "light"
     },
     "output_type": "display_data"
    },
    {
     "name": "stdout",
     "output_type": "stream",
     "text": [
      "y_val.head:[0 0 1 1 1]\n",
      "BEST AUC SCORE ON VALIDATION SET : 0.8445589599319294\n",
      "start to test: x_test.shape:(3469, 22), y_test.shape:(3469,)\n"
     ]
    },
    {
     "data": {
      "text/plain": [
       "array([0.22761082, 0.06525877, 0.1554641 , 0.00049433, 0.02009045,\n",
       "       0.11947101, 0.        , 0.01131381, 0.01980297, 0.0010189 ,\n",
       "       0.11041201, 0.00546085, 0.01241436, 0.02093564, 0.05781961,\n",
       "       0.01110555, 0.0957745 , 0.00292292, 0.0027982 , 0.02809324,\n",
       "       0.02791163, 0.00382634])"
      ]
     },
     "metadata": {},
     "output_type": "display_data"
    },
    {
     "data": {
      "image/png": "[encoded data removed]",
      "text/plain": [
       "<Figure size 432x288 with 1 Axes>"
      ]
     },
     "metadata": {
      "needs_background": "light"
     },
     "output_type": "display_data"
    },
    {
     "name": "stdout",
     "output_type": "stream",
     "text": [
      "preds_test head:[[0.5772931  0.42270684]\n",
      " [0.7493811  0.25061896]\n",
      " [0.56479806 0.43520197]\n",
      " [0.56940687 0.4305931 ]\n",
      " [0.66409427 0.3359057 ]]\n",
      "BEST AUC SCORE ON TEST SET : 0.7806801391707052\n",
      "Best epoch:39\n",
      "save_path ./train_data/TabNetClassifier_TabNet_DEFAULT_0039.pth\n",
      "Successfully saved model at ./train_data/TabNetClassifier_TabNet_DEFAULT_0039.pth.zip\n",
      "Success to save to :  ./train_data/TabNetClassifier_TabNet_DEFAULT_0039.pth\n",
      "start to train: x_train.shape:(10372, 22), y_train.shape:(10372,)\n",
      "start to train: x_val.shape:(2593, 22), y_val.shape:(2593,)\n",
      "y_train mean:0.7433474739683764. y_val mean:0.7578094870806016\n"
     ]
    },
    {
     "name": "stderr",
     "output_type": "stream",
     "text": [
      "/Users/mckim/miniconda3/envs/py38/lib/python3.8/site-packages/pytorch_tabnet/abstract_model.py:75: UserWarning: Device used : cpu\n",
      "  warnings.warn(f\"Device used : {self.device}\")\n"
     ]
    },
    {
     "name": "stdout",
     "output_type": "stream",
     "text": [
      "epoch 0  | loss: 0.62055 | train_auc: 0.56695 | valid_auc: 0.55419 |  0:00:00s\n",
      "epoch 2  | loss: 0.46086 | train_auc: 0.67944 | valid_auc: 0.68225 |  0:00:02s\n",
      "epoch 4  | loss: 0.44193 | train_auc: 0.75651 | valid_auc: 0.77356 |  0:00:04s\n",
      "epoch 6  | loss: 0.4282  | train_auc: 0.76506 | valid_auc: 0.77623 |  0:00:06s\n",
      "epoch 8  | loss: 0.41754 | train_auc: 0.79361 | valid_auc: 0.80082 |  0:00:08s\n"
     ]
    },
    {
     "ename": "KeyboardInterrupt",
     "evalue": "",
     "output_type": "error",
     "traceback": [
      "\u001b[0;31m---------------------------------------------------------------------------\u001b[0m",
      "\u001b[0;31mKeyboardInterrupt\u001b[0m                         Traceback (most recent call last)",
      "Input \u001b[0;32mIn [47]\u001b[0m, in \u001b[0;36m<cell line: 77>\u001b[0;34m()\u001b[0m\n\u001b[1;32m     77\u001b[0m \u001b[38;5;28;01mfor\u001b[39;00m i \u001b[38;5;129;01min\u001b[39;00m \u001b[38;5;28mrange\u001b[39m(\u001b[38;5;241m5\u001b[39m):\n\u001b[1;32m     78\u001b[0m     tab_model \u001b[38;5;241m=\u001b[39m TabNetClassifier(verbose \u001b[38;5;241m=\u001b[39m \u001b[38;5;241m2\u001b[39m,seed \u001b[38;5;241m=\u001b[39m \u001b[38;5;241m1212\u001b[39m)\n\u001b[0;32m---> 79\u001b[0m     models[i], test_result[i] \u001b[38;5;241m=\u001b[39m \u001b[43mrun_one_full_train_test_with_tabnet\u001b[49m\u001b[43m(\u001b[49m\n\u001b[1;32m     80\u001b[0m \u001b[43m        \u001b[49m\u001b[43mdf_trainval\u001b[49m\u001b[43m,\u001b[49m\u001b[43m \u001b[49m\n\u001b[1;32m     81\u001b[0m \u001b[43m        \u001b[49m\u001b[43mdf_test\u001b[49m\u001b[43m,\u001b[49m\u001b[43m \u001b[49m\u001b[43mcols\u001b[49m\u001b[43m,\u001b[49m\n\u001b[1;32m     82\u001b[0m \u001b[43m        \u001b[49m\u001b[43mtab_model\u001b[49m\n\u001b[1;32m     83\u001b[0m \u001b[43m    \u001b[49m\u001b[43m)\u001b[49m\n",
      "Input \u001b[0;32mIn [47]\u001b[0m, in \u001b[0;36mrun_one_full_train_test_with_tabnet\u001b[0;34m(df_trainval, df_test, cols, model)\u001b[0m\n\u001b[1;32m     11\u001b[0m     \u001b[38;5;28mprint\u001b[39m(\u001b[38;5;124mf\u001b[39m\u001b[38;5;124m\"\u001b[39m\u001b[38;5;124mstart to train: x_val.shape:\u001b[39m\u001b[38;5;132;01m{\u001b[39;00mx_val\u001b[38;5;241m.\u001b[39mshape\u001b[38;5;132;01m}\u001b[39;00m\u001b[38;5;124m, y_val.shape:\u001b[39m\u001b[38;5;132;01m{\u001b[39;00my_val\u001b[38;5;241m.\u001b[39mshape\u001b[38;5;132;01m}\u001b[39;00m\u001b[38;5;124m\"\u001b[39m)\n\u001b[1;32m     12\u001b[0m     \u001b[38;5;28mprint\u001b[39m(\u001b[38;5;124mf\u001b[39m\u001b[38;5;124m\"\u001b[39m\u001b[38;5;124my_train mean:\u001b[39m\u001b[38;5;132;01m{\u001b[39;00mnp\u001b[38;5;241m.\u001b[39mmean(y_train)\u001b[38;5;132;01m}\u001b[39;00m\u001b[38;5;124m. y_val mean:\u001b[39m\u001b[38;5;132;01m{\u001b[39;00mnp\u001b[38;5;241m.\u001b[39mmean(y_val)\u001b[38;5;132;01m}\u001b[39;00m\u001b[38;5;124m\"\u001b[39m)\n\u001b[0;32m---> 14\u001b[0m     \u001b[43mmodel\u001b[49m\u001b[38;5;241;43m.\u001b[39;49m\u001b[43mfit\u001b[49m\u001b[43m(\u001b[49m\n\u001b[1;32m     15\u001b[0m \u001b[43m        \u001b[49m\u001b[43mX_train\u001b[49m\u001b[38;5;241;43m=\u001b[39;49m\u001b[43mx_train\u001b[49m\u001b[43m,\u001b[49m\u001b[43m \u001b[49m\u001b[43my_train\u001b[49m\u001b[38;5;241;43m=\u001b[39;49m\u001b[43my_train\u001b[49m\u001b[43m,\u001b[49m\n\u001b[1;32m     16\u001b[0m \u001b[43m        \u001b[49m\u001b[43meval_set\u001b[49m\u001b[38;5;241;43m=\u001b[39;49m\u001b[43m[\u001b[49m\u001b[43m(\u001b[49m\u001b[43mx_train\u001b[49m\u001b[43m,\u001b[49m\u001b[43m \u001b[49m\u001b[43my_train\u001b[49m\u001b[43m)\u001b[49m\u001b[43m,\u001b[49m\u001b[43m \u001b[49m\u001b[43m(\u001b[49m\u001b[43mx_val\u001b[49m\u001b[43m,\u001b[49m\u001b[43m \u001b[49m\u001b[43my_val\u001b[49m\u001b[43m)\u001b[49m\u001b[43m]\u001b[49m\u001b[43m,\u001b[49m\n\u001b[1;32m     17\u001b[0m \u001b[43m        \u001b[49m\u001b[43meval_name\u001b[49m\u001b[38;5;241;43m=\u001b[39;49m\u001b[43m[\u001b[49m\u001b[38;5;124;43m'\u001b[39;49m\u001b[38;5;124;43mtrain\u001b[39;49m\u001b[38;5;124;43m'\u001b[39;49m\u001b[43m,\u001b[49m\u001b[43m \u001b[49m\u001b[38;5;124;43m'\u001b[39;49m\u001b[38;5;124;43mvalid\u001b[39;49m\u001b[38;5;124;43m'\u001b[39;49m\u001b[43m]\u001b[49m\u001b[43m,\u001b[49m\n\u001b[1;32m     18\u001b[0m \u001b[38;5;66;43;03m#         patience=2, \u001b[39;49;00m\n\u001b[1;32m     19\u001b[0m \u001b[38;5;66;43;03m#         max_epochs=100,\u001b[39;49;00m\n\u001b[1;32m     20\u001b[0m \u001b[43m        \u001b[49m\u001b[43mpatience\u001b[49m\u001b[38;5;241;43m=\u001b[39;49m\u001b[38;5;241;43m100\u001b[39;49m\u001b[43m,\u001b[49m\u001b[43m \u001b[49m\n\u001b[1;32m     21\u001b[0m \u001b[43m        \u001b[49m\u001b[43mmax_epochs\u001b[49m\u001b[38;5;241;43m=\u001b[39;49m\u001b[38;5;241;43m1000\u001b[39;49m\u001b[43m,\u001b[49m\n\u001b[1;32m     22\u001b[0m \u001b[43m        \u001b[49m\u001b[43meval_metric\u001b[49m\u001b[38;5;241;43m=\u001b[39;49m\u001b[43m[\u001b[49m\u001b[38;5;124;43m'\u001b[39;49m\u001b[38;5;124;43mauc\u001b[39;49m\u001b[38;5;124;43m'\u001b[39;49m\u001b[43m]\u001b[49m\u001b[43m,\u001b[49m\n\u001b[1;32m     23\u001b[0m \u001b[43m    \u001b[49m\u001b[43m)\u001b[49m\n\u001b[1;32m     25\u001b[0m     \u001b[38;5;28mprint\u001b[39m(\u001b[38;5;124mf\u001b[39m\u001b[38;5;124m\"\u001b[39m\u001b[38;5;124mModel: \u001b[39m\u001b[38;5;132;01m{\u001b[39;00mmodel\u001b[38;5;132;01m}\u001b[39;00m\u001b[38;5;124m\"\u001b[39m)\n\u001b[1;32m     26\u001b[0m     \u001b[38;5;66;03m# plot losses\u001b[39;00m\n",
      "File \u001b[0;32m~/miniconda3/envs/py38/lib/python3.8/site-packages/pytorch_tabnet/abstract_model.py:241\u001b[0m, in \u001b[0;36mTabModel.fit\u001b[0;34m(self, X_train, y_train, eval_set, eval_name, eval_metric, loss_fn, weights, max_epochs, patience, batch_size, virtual_batch_size, num_workers, drop_last, callbacks, pin_memory, from_unsupervised, warm_start, augmentations)\u001b[0m\n\u001b[1;32m    236\u001b[0m \u001b[38;5;28;01mfor\u001b[39;00m epoch_idx \u001b[38;5;129;01min\u001b[39;00m \u001b[38;5;28mrange\u001b[39m(\u001b[38;5;28mself\u001b[39m\u001b[38;5;241m.\u001b[39mmax_epochs):\n\u001b[1;32m    237\u001b[0m \n\u001b[1;32m    238\u001b[0m     \u001b[38;5;66;03m# Call method on_epoch_begin for all callbacks\u001b[39;00m\n\u001b[1;32m    239\u001b[0m     \u001b[38;5;28mself\u001b[39m\u001b[38;5;241m.\u001b[39m_callback_container\u001b[38;5;241m.\u001b[39mon_epoch_begin(epoch_idx)\n\u001b[0;32m--> 241\u001b[0m     \u001b[38;5;28;43mself\u001b[39;49m\u001b[38;5;241;43m.\u001b[39;49m\u001b[43m_train_epoch\u001b[49m\u001b[43m(\u001b[49m\u001b[43mtrain_dataloader\u001b[49m\u001b[43m)\u001b[49m\n\u001b[1;32m    243\u001b[0m     \u001b[38;5;66;03m# Apply predict epoch to all eval sets\u001b[39;00m\n\u001b[1;32m    244\u001b[0m     \u001b[38;5;28;01mfor\u001b[39;00m eval_name, valid_dataloader \u001b[38;5;129;01min\u001b[39;00m \u001b[38;5;28mzip\u001b[39m(eval_names, valid_dataloaders):\n",
      "File \u001b[0;32m~/miniconda3/envs/py38/lib/python3.8/site-packages/pytorch_tabnet/abstract_model.py:457\u001b[0m, in \u001b[0;36mTabModel._train_epoch\u001b[0;34m(self, train_loader)\u001b[0m\n\u001b[1;32m    454\u001b[0m \u001b[38;5;28;01mfor\u001b[39;00m batch_idx, (X, y) \u001b[38;5;129;01min\u001b[39;00m \u001b[38;5;28menumerate\u001b[39m(train_loader):\n\u001b[1;32m    455\u001b[0m     \u001b[38;5;28mself\u001b[39m\u001b[38;5;241m.\u001b[39m_callback_container\u001b[38;5;241m.\u001b[39mon_batch_begin(batch_idx)\n\u001b[0;32m--> 457\u001b[0m     batch_logs \u001b[38;5;241m=\u001b[39m \u001b[38;5;28;43mself\u001b[39;49m\u001b[38;5;241;43m.\u001b[39;49m\u001b[43m_train_batch\u001b[49m\u001b[43m(\u001b[49m\u001b[43mX\u001b[49m\u001b[43m,\u001b[49m\u001b[43m \u001b[49m\u001b[43my\u001b[49m\u001b[43m)\u001b[49m\n\u001b[1;32m    459\u001b[0m     \u001b[38;5;28mself\u001b[39m\u001b[38;5;241m.\u001b[39m_callback_container\u001b[38;5;241m.\u001b[39mon_batch_end(batch_idx, batch_logs)\n\u001b[1;32m    461\u001b[0m epoch_logs \u001b[38;5;241m=\u001b[39m {\u001b[38;5;124m\"\u001b[39m\u001b[38;5;124mlr\u001b[39m\u001b[38;5;124m\"\u001b[39m: \u001b[38;5;28mself\u001b[39m\u001b[38;5;241m.\u001b[39m_optimizer\u001b[38;5;241m.\u001b[39mparam_groups[\u001b[38;5;241m-\u001b[39m\u001b[38;5;241m1\u001b[39m][\u001b[38;5;124m\"\u001b[39m\u001b[38;5;124mlr\u001b[39m\u001b[38;5;124m\"\u001b[39m]}\n",
      "File \u001b[0;32m~/miniconda3/envs/py38/lib/python3.8/site-packages/pytorch_tabnet/abstract_model.py:495\u001b[0m, in \u001b[0;36mTabModel._train_batch\u001b[0;34m(self, X, y)\u001b[0m\n\u001b[1;32m    492\u001b[0m \u001b[38;5;28;01mfor\u001b[39;00m param \u001b[38;5;129;01min\u001b[39;00m \u001b[38;5;28mself\u001b[39m\u001b[38;5;241m.\u001b[39mnetwork\u001b[38;5;241m.\u001b[39mparameters():\n\u001b[1;32m    493\u001b[0m     param\u001b[38;5;241m.\u001b[39mgrad \u001b[38;5;241m=\u001b[39m \u001b[38;5;28;01mNone\u001b[39;00m\n\u001b[0;32m--> 495\u001b[0m output, M_loss \u001b[38;5;241m=\u001b[39m \u001b[38;5;28;43mself\u001b[39;49m\u001b[38;5;241;43m.\u001b[39;49m\u001b[43mnetwork\u001b[49m\u001b[43m(\u001b[49m\u001b[43mX\u001b[49m\u001b[43m)\u001b[49m\n\u001b[1;32m    497\u001b[0m loss \u001b[38;5;241m=\u001b[39m \u001b[38;5;28mself\u001b[39m\u001b[38;5;241m.\u001b[39mcompute_loss(output, y)\n\u001b[1;32m    498\u001b[0m \u001b[38;5;66;03m# Add the overall sparsity loss\u001b[39;00m\n",
      "File \u001b[0;32m~/miniconda3/envs/py38/lib/python3.8/site-packages/torch/nn/modules/module.py:1130\u001b[0m, in \u001b[0;36mModule._call_impl\u001b[0;34m(self, *input, **kwargs)\u001b[0m\n\u001b[1;32m   1126\u001b[0m \u001b[38;5;66;03m# If we don't have any hooks, we want to skip the rest of the logic in\u001b[39;00m\n\u001b[1;32m   1127\u001b[0m \u001b[38;5;66;03m# this function, and just call forward.\u001b[39;00m\n\u001b[1;32m   1128\u001b[0m \u001b[38;5;28;01mif\u001b[39;00m \u001b[38;5;129;01mnot\u001b[39;00m (\u001b[38;5;28mself\u001b[39m\u001b[38;5;241m.\u001b[39m_backward_hooks \u001b[38;5;129;01mor\u001b[39;00m \u001b[38;5;28mself\u001b[39m\u001b[38;5;241m.\u001b[39m_forward_hooks \u001b[38;5;129;01mor\u001b[39;00m \u001b[38;5;28mself\u001b[39m\u001b[38;5;241m.\u001b[39m_forward_pre_hooks \u001b[38;5;129;01mor\u001b[39;00m _global_backward_hooks\n\u001b[1;32m   1129\u001b[0m         \u001b[38;5;129;01mor\u001b[39;00m _global_forward_hooks \u001b[38;5;129;01mor\u001b[39;00m _global_forward_pre_hooks):\n\u001b[0;32m-> 1130\u001b[0m     \u001b[38;5;28;01mreturn\u001b[39;00m \u001b[43mforward_call\u001b[49m\u001b[43m(\u001b[49m\u001b[38;5;241;43m*\u001b[39;49m\u001b[38;5;28;43minput\u001b[39;49m\u001b[43m,\u001b[49m\u001b[43m \u001b[49m\u001b[38;5;241;43m*\u001b[39;49m\u001b[38;5;241;43m*\u001b[39;49m\u001b[43mkwargs\u001b[49m\u001b[43m)\u001b[49m\n\u001b[1;32m   1131\u001b[0m \u001b[38;5;66;03m# Do not call functions when jit is used\u001b[39;00m\n\u001b[1;32m   1132\u001b[0m full_backward_hooks, non_full_backward_hooks \u001b[38;5;241m=\u001b[39m [], []\n",
      "File \u001b[0;32m~/miniconda3/envs/py38/lib/python3.8/site-packages/pytorch_tabnet/tab_network.py:586\u001b[0m, in \u001b[0;36mTabNet.forward\u001b[0;34m(self, x)\u001b[0m\n\u001b[1;32m    584\u001b[0m \u001b[38;5;28;01mdef\u001b[39;00m \u001b[38;5;21mforward\u001b[39m(\u001b[38;5;28mself\u001b[39m, x):\n\u001b[1;32m    585\u001b[0m     x \u001b[38;5;241m=\u001b[39m \u001b[38;5;28mself\u001b[39m\u001b[38;5;241m.\u001b[39membedder(x)\n\u001b[0;32m--> 586\u001b[0m     \u001b[38;5;28;01mreturn\u001b[39;00m \u001b[38;5;28;43mself\u001b[39;49m\u001b[38;5;241;43m.\u001b[39;49m\u001b[43mtabnet\u001b[49m\u001b[43m(\u001b[49m\u001b[43mx\u001b[49m\u001b[43m)\u001b[49m\n",
      "File \u001b[0;32m~/miniconda3/envs/py38/lib/python3.8/site-packages/torch/nn/modules/module.py:1130\u001b[0m, in \u001b[0;36mModule._call_impl\u001b[0;34m(self, *input, **kwargs)\u001b[0m\n\u001b[1;32m   1126\u001b[0m \u001b[38;5;66;03m# If we don't have any hooks, we want to skip the rest of the logic in\u001b[39;00m\n\u001b[1;32m   1127\u001b[0m \u001b[38;5;66;03m# this function, and just call forward.\u001b[39;00m\n\u001b[1;32m   1128\u001b[0m \u001b[38;5;28;01mif\u001b[39;00m \u001b[38;5;129;01mnot\u001b[39;00m (\u001b[38;5;28mself\u001b[39m\u001b[38;5;241m.\u001b[39m_backward_hooks \u001b[38;5;129;01mor\u001b[39;00m \u001b[38;5;28mself\u001b[39m\u001b[38;5;241m.\u001b[39m_forward_hooks \u001b[38;5;129;01mor\u001b[39;00m \u001b[38;5;28mself\u001b[39m\u001b[38;5;241m.\u001b[39m_forward_pre_hooks \u001b[38;5;129;01mor\u001b[39;00m _global_backward_hooks\n\u001b[1;32m   1129\u001b[0m         \u001b[38;5;129;01mor\u001b[39;00m _global_forward_hooks \u001b[38;5;129;01mor\u001b[39;00m _global_forward_pre_hooks):\n\u001b[0;32m-> 1130\u001b[0m     \u001b[38;5;28;01mreturn\u001b[39;00m \u001b[43mforward_call\u001b[49m\u001b[43m(\u001b[49m\u001b[38;5;241;43m*\u001b[39;49m\u001b[38;5;28;43minput\u001b[39;49m\u001b[43m,\u001b[49m\u001b[43m \u001b[49m\u001b[38;5;241;43m*\u001b[39;49m\u001b[38;5;241;43m*\u001b[39;49m\u001b[43mkwargs\u001b[49m\u001b[43m)\u001b[49m\n\u001b[1;32m   1131\u001b[0m \u001b[38;5;66;03m# Do not call functions when jit is used\u001b[39;00m\n\u001b[1;32m   1132\u001b[0m full_backward_hooks, non_full_backward_hooks \u001b[38;5;241m=\u001b[39m [], []\n",
      "File \u001b[0;32m~/miniconda3/envs/py38/lib/python3.8/site-packages/pytorch_tabnet/tab_network.py:471\u001b[0m, in \u001b[0;36mTabNetNoEmbeddings.forward\u001b[0;34m(self, x)\u001b[0m\n\u001b[1;32m    469\u001b[0m \u001b[38;5;28;01mdef\u001b[39;00m \u001b[38;5;21mforward\u001b[39m(\u001b[38;5;28mself\u001b[39m, x):\n\u001b[1;32m    470\u001b[0m     res \u001b[38;5;241m=\u001b[39m \u001b[38;5;241m0\u001b[39m\n\u001b[0;32m--> 471\u001b[0m     steps_output, M_loss \u001b[38;5;241m=\u001b[39m \u001b[38;5;28;43mself\u001b[39;49m\u001b[38;5;241;43m.\u001b[39;49m\u001b[43mencoder\u001b[49m\u001b[43m(\u001b[49m\u001b[43mx\u001b[49m\u001b[43m)\u001b[49m\n\u001b[1;32m    472\u001b[0m     res \u001b[38;5;241m=\u001b[39m torch\u001b[38;5;241m.\u001b[39msum(torch\u001b[38;5;241m.\u001b[39mstack(steps_output, dim\u001b[38;5;241m=\u001b[39m\u001b[38;5;241m0\u001b[39m), dim\u001b[38;5;241m=\u001b[39m\u001b[38;5;241m0\u001b[39m)\n\u001b[1;32m    474\u001b[0m     \u001b[38;5;28;01mif\u001b[39;00m \u001b[38;5;28mself\u001b[39m\u001b[38;5;241m.\u001b[39mis_multi_task:\n\u001b[1;32m    475\u001b[0m         \u001b[38;5;66;03m# Result will be in list format\u001b[39;00m\n",
      "File \u001b[0;32m~/miniconda3/envs/py38/lib/python3.8/site-packages/torch/nn/modules/module.py:1130\u001b[0m, in \u001b[0;36mModule._call_impl\u001b[0;34m(self, *input, **kwargs)\u001b[0m\n\u001b[1;32m   1126\u001b[0m \u001b[38;5;66;03m# If we don't have any hooks, we want to skip the rest of the logic in\u001b[39;00m\n\u001b[1;32m   1127\u001b[0m \u001b[38;5;66;03m# this function, and just call forward.\u001b[39;00m\n\u001b[1;32m   1128\u001b[0m \u001b[38;5;28;01mif\u001b[39;00m \u001b[38;5;129;01mnot\u001b[39;00m (\u001b[38;5;28mself\u001b[39m\u001b[38;5;241m.\u001b[39m_backward_hooks \u001b[38;5;129;01mor\u001b[39;00m \u001b[38;5;28mself\u001b[39m\u001b[38;5;241m.\u001b[39m_forward_hooks \u001b[38;5;129;01mor\u001b[39;00m \u001b[38;5;28mself\u001b[39m\u001b[38;5;241m.\u001b[39m_forward_pre_hooks \u001b[38;5;129;01mor\u001b[39;00m _global_backward_hooks\n\u001b[1;32m   1129\u001b[0m         \u001b[38;5;129;01mor\u001b[39;00m _global_forward_hooks \u001b[38;5;129;01mor\u001b[39;00m _global_forward_pre_hooks):\n\u001b[0;32m-> 1130\u001b[0m     \u001b[38;5;28;01mreturn\u001b[39;00m \u001b[43mforward_call\u001b[49m\u001b[43m(\u001b[49m\u001b[38;5;241;43m*\u001b[39;49m\u001b[38;5;28;43minput\u001b[39;49m\u001b[43m,\u001b[49m\u001b[43m \u001b[49m\u001b[38;5;241;43m*\u001b[39;49m\u001b[38;5;241;43m*\u001b[39;49m\u001b[43mkwargs\u001b[49m\u001b[43m)\u001b[49m\n\u001b[1;32m   1131\u001b[0m \u001b[38;5;66;03m# Do not call functions when jit is used\u001b[39;00m\n\u001b[1;32m   1132\u001b[0m full_backward_hooks, non_full_backward_hooks \u001b[38;5;241m=\u001b[39m [], []\n",
      "File \u001b[0;32m~/miniconda3/envs/py38/lib/python3.8/site-packages/pytorch_tabnet/tab_network.py:160\u001b[0m, in \u001b[0;36mTabNetEncoder.forward\u001b[0;34m(self, x, prior)\u001b[0m\n\u001b[1;32m    158\u001b[0m steps_output \u001b[38;5;241m=\u001b[39m []\n\u001b[1;32m    159\u001b[0m \u001b[38;5;28;01mfor\u001b[39;00m step \u001b[38;5;129;01min\u001b[39;00m \u001b[38;5;28mrange\u001b[39m(\u001b[38;5;28mself\u001b[39m\u001b[38;5;241m.\u001b[39mn_steps):\n\u001b[0;32m--> 160\u001b[0m     M \u001b[38;5;241m=\u001b[39m \u001b[38;5;28;43mself\u001b[39;49m\u001b[38;5;241;43m.\u001b[39;49m\u001b[43matt_transformers\u001b[49m\u001b[43m[\u001b[49m\u001b[43mstep\u001b[49m\u001b[43m]\u001b[49m\u001b[43m(\u001b[49m\u001b[43mprior\u001b[49m\u001b[43m,\u001b[49m\u001b[43m \u001b[49m\u001b[43matt\u001b[49m\u001b[43m)\u001b[49m\n\u001b[1;32m    161\u001b[0m     M_loss \u001b[38;5;241m+\u001b[39m\u001b[38;5;241m=\u001b[39m torch\u001b[38;5;241m.\u001b[39mmean(\n\u001b[1;32m    162\u001b[0m         torch\u001b[38;5;241m.\u001b[39msum(torch\u001b[38;5;241m.\u001b[39mmul(M, torch\u001b[38;5;241m.\u001b[39mlog(M \u001b[38;5;241m+\u001b[39m \u001b[38;5;28mself\u001b[39m\u001b[38;5;241m.\u001b[39mepsilon)), dim\u001b[38;5;241m=\u001b[39m\u001b[38;5;241m1\u001b[39m)\n\u001b[1;32m    163\u001b[0m     )\n\u001b[1;32m    164\u001b[0m     \u001b[38;5;66;03m# update prior\u001b[39;00m\n",
      "File \u001b[0;32m~/miniconda3/envs/py38/lib/python3.8/site-packages/torch/nn/modules/module.py:1130\u001b[0m, in \u001b[0;36mModule._call_impl\u001b[0;34m(self, *input, **kwargs)\u001b[0m\n\u001b[1;32m   1126\u001b[0m \u001b[38;5;66;03m# If we don't have any hooks, we want to skip the rest of the logic in\u001b[39;00m\n\u001b[1;32m   1127\u001b[0m \u001b[38;5;66;03m# this function, and just call forward.\u001b[39;00m\n\u001b[1;32m   1128\u001b[0m \u001b[38;5;28;01mif\u001b[39;00m \u001b[38;5;129;01mnot\u001b[39;00m (\u001b[38;5;28mself\u001b[39m\u001b[38;5;241m.\u001b[39m_backward_hooks \u001b[38;5;129;01mor\u001b[39;00m \u001b[38;5;28mself\u001b[39m\u001b[38;5;241m.\u001b[39m_forward_hooks \u001b[38;5;129;01mor\u001b[39;00m \u001b[38;5;28mself\u001b[39m\u001b[38;5;241m.\u001b[39m_forward_pre_hooks \u001b[38;5;129;01mor\u001b[39;00m _global_backward_hooks\n\u001b[1;32m   1129\u001b[0m         \u001b[38;5;129;01mor\u001b[39;00m _global_forward_hooks \u001b[38;5;129;01mor\u001b[39;00m _global_forward_pre_hooks):\n\u001b[0;32m-> 1130\u001b[0m     \u001b[38;5;28;01mreturn\u001b[39;00m \u001b[43mforward_call\u001b[49m\u001b[43m(\u001b[49m\u001b[38;5;241;43m*\u001b[39;49m\u001b[38;5;28;43minput\u001b[39;49m\u001b[43m,\u001b[49m\u001b[43m \u001b[49m\u001b[38;5;241;43m*\u001b[39;49m\u001b[38;5;241;43m*\u001b[39;49m\u001b[43mkwargs\u001b[49m\u001b[43m)\u001b[49m\n\u001b[1;32m   1131\u001b[0m \u001b[38;5;66;03m# Do not call functions when jit is used\u001b[39;00m\n\u001b[1;32m   1132\u001b[0m full_backward_hooks, non_full_backward_hooks \u001b[38;5;241m=\u001b[39m [], []\n",
      "File \u001b[0;32m~/miniconda3/envs/py38/lib/python3.8/site-packages/pytorch_tabnet/tab_network.py:640\u001b[0m, in \u001b[0;36mAttentiveTransformer.forward\u001b[0;34m(self, priors, processed_feat)\u001b[0m\n\u001b[1;32m    638\u001b[0m x \u001b[38;5;241m=\u001b[39m \u001b[38;5;28mself\u001b[39m\u001b[38;5;241m.\u001b[39mbn(x)\n\u001b[1;32m    639\u001b[0m x \u001b[38;5;241m=\u001b[39m torch\u001b[38;5;241m.\u001b[39mmul(x, priors)\n\u001b[0;32m--> 640\u001b[0m x \u001b[38;5;241m=\u001b[39m \u001b[38;5;28;43mself\u001b[39;49m\u001b[38;5;241;43m.\u001b[39;49m\u001b[43mselector\u001b[49m\u001b[43m(\u001b[49m\u001b[43mx\u001b[49m\u001b[43m)\u001b[49m\n\u001b[1;32m    641\u001b[0m \u001b[38;5;28;01mreturn\u001b[39;00m x\n",
      "File \u001b[0;32m~/miniconda3/envs/py38/lib/python3.8/site-packages/torch/nn/modules/module.py:1130\u001b[0m, in \u001b[0;36mModule._call_impl\u001b[0;34m(self, *input, **kwargs)\u001b[0m\n\u001b[1;32m   1126\u001b[0m \u001b[38;5;66;03m# If we don't have any hooks, we want to skip the rest of the logic in\u001b[39;00m\n\u001b[1;32m   1127\u001b[0m \u001b[38;5;66;03m# this function, and just call forward.\u001b[39;00m\n\u001b[1;32m   1128\u001b[0m \u001b[38;5;28;01mif\u001b[39;00m \u001b[38;5;129;01mnot\u001b[39;00m (\u001b[38;5;28mself\u001b[39m\u001b[38;5;241m.\u001b[39m_backward_hooks \u001b[38;5;129;01mor\u001b[39;00m \u001b[38;5;28mself\u001b[39m\u001b[38;5;241m.\u001b[39m_forward_hooks \u001b[38;5;129;01mor\u001b[39;00m \u001b[38;5;28mself\u001b[39m\u001b[38;5;241m.\u001b[39m_forward_pre_hooks \u001b[38;5;129;01mor\u001b[39;00m _global_backward_hooks\n\u001b[1;32m   1129\u001b[0m         \u001b[38;5;129;01mor\u001b[39;00m _global_forward_hooks \u001b[38;5;129;01mor\u001b[39;00m _global_forward_pre_hooks):\n\u001b[0;32m-> 1130\u001b[0m     \u001b[38;5;28;01mreturn\u001b[39;00m \u001b[43mforward_call\u001b[49m\u001b[43m(\u001b[49m\u001b[38;5;241;43m*\u001b[39;49m\u001b[38;5;28;43minput\u001b[39;49m\u001b[43m,\u001b[49m\u001b[43m \u001b[49m\u001b[38;5;241;43m*\u001b[39;49m\u001b[38;5;241;43m*\u001b[39;49m\u001b[43mkwargs\u001b[49m\u001b[43m)\u001b[49m\n\u001b[1;32m   1131\u001b[0m \u001b[38;5;66;03m# Do not call functions when jit is used\u001b[39;00m\n\u001b[1;32m   1132\u001b[0m full_backward_hooks, non_full_backward_hooks \u001b[38;5;241m=\u001b[39m [], []\n",
      "File \u001b[0;32m~/miniconda3/envs/py38/lib/python3.8/site-packages/pytorch_tabnet/sparsemax.py:109\u001b[0m, in \u001b[0;36mSparsemax.forward\u001b[0;34m(self, input)\u001b[0m\n\u001b[1;32m    108\u001b[0m \u001b[38;5;28;01mdef\u001b[39;00m \u001b[38;5;21mforward\u001b[39m(\u001b[38;5;28mself\u001b[39m, \u001b[38;5;28minput\u001b[39m):\n\u001b[0;32m--> 109\u001b[0m     \u001b[38;5;28;01mreturn\u001b[39;00m \u001b[43msparsemax\u001b[49m\u001b[43m(\u001b[49m\u001b[38;5;28;43minput\u001b[39;49m\u001b[43m,\u001b[49m\u001b[43m \u001b[49m\u001b[38;5;28;43mself\u001b[39;49m\u001b[38;5;241;43m.\u001b[39;49m\u001b[43mdim\u001b[49m\u001b[43m)\u001b[49m\n",
      "File \u001b[0;32m~/miniconda3/envs/py38/lib/python3.8/site-packages/pytorch_tabnet/sparsemax.py:52\u001b[0m, in \u001b[0;36mSparsemaxFunction.forward\u001b[0;34m(ctx, input, dim)\u001b[0m\n\u001b[1;32m     50\u001b[0m max_val, _ \u001b[38;5;241m=\u001b[39m \u001b[38;5;28minput\u001b[39m\u001b[38;5;241m.\u001b[39mmax(dim\u001b[38;5;241m=\u001b[39mdim, keepdim\u001b[38;5;241m=\u001b[39m\u001b[38;5;28;01mTrue\u001b[39;00m)\n\u001b[1;32m     51\u001b[0m \u001b[38;5;28minput\u001b[39m \u001b[38;5;241m-\u001b[39m\u001b[38;5;241m=\u001b[39m max_val  \u001b[38;5;66;03m# same numerical stability trick as for softmax\u001b[39;00m\n\u001b[0;32m---> 52\u001b[0m tau, supp_size \u001b[38;5;241m=\u001b[39m \u001b[43mSparsemaxFunction\u001b[49m\u001b[38;5;241;43m.\u001b[39;49m\u001b[43m_threshold_and_support\u001b[49m\u001b[43m(\u001b[49m\u001b[38;5;28;43minput\u001b[39;49m\u001b[43m,\u001b[49m\u001b[43m \u001b[49m\u001b[43mdim\u001b[49m\u001b[38;5;241;43m=\u001b[39;49m\u001b[43mdim\u001b[49m\u001b[43m)\u001b[49m\n\u001b[1;32m     53\u001b[0m output \u001b[38;5;241m=\u001b[39m torch\u001b[38;5;241m.\u001b[39mclamp(\u001b[38;5;28minput\u001b[39m \u001b[38;5;241m-\u001b[39m tau, \u001b[38;5;28mmin\u001b[39m\u001b[38;5;241m=\u001b[39m\u001b[38;5;241m0\u001b[39m)\n\u001b[1;32m     54\u001b[0m ctx\u001b[38;5;241m.\u001b[39msave_for_backward(supp_size, output)\n",
      "File \u001b[0;32m~/miniconda3/envs/py38/lib/python3.8/site-packages/pytorch_tabnet/sparsemax.py:88\u001b[0m, in \u001b[0;36mSparsemaxFunction._threshold_and_support\u001b[0;34m(input, dim)\u001b[0m\n\u001b[1;32m     69\u001b[0m \u001b[38;5;129m@staticmethod\u001b[39m\n\u001b[1;32m     70\u001b[0m \u001b[38;5;28;01mdef\u001b[39;00m \u001b[38;5;21m_threshold_and_support\u001b[39m(\u001b[38;5;28minput\u001b[39m, dim\u001b[38;5;241m=\u001b[39m\u001b[38;5;241m-\u001b[39m\u001b[38;5;241m1\u001b[39m):\n\u001b[1;32m     71\u001b[0m     \u001b[38;5;124;03m\"\"\"Sparsemax building block: compute the threshold\u001b[39;00m\n\u001b[1;32m     72\u001b[0m \n\u001b[1;32m     73\u001b[0m \u001b[38;5;124;03m    Parameters\u001b[39;00m\n\u001b[0;32m   (...)\u001b[0m\n\u001b[1;32m     85\u001b[0m \n\u001b[1;32m     86\u001b[0m \u001b[38;5;124;03m    \"\"\"\u001b[39;00m\n\u001b[0;32m---> 88\u001b[0m     input_srt, _ \u001b[38;5;241m=\u001b[39m \u001b[43mtorch\u001b[49m\u001b[38;5;241;43m.\u001b[39;49m\u001b[43msort\u001b[49m\u001b[43m(\u001b[49m\u001b[38;5;28;43minput\u001b[39;49m\u001b[43m,\u001b[49m\u001b[43m \u001b[49m\u001b[43mdescending\u001b[49m\u001b[38;5;241;43m=\u001b[39;49m\u001b[38;5;28;43;01mTrue\u001b[39;49;00m\u001b[43m,\u001b[49m\u001b[43m \u001b[49m\u001b[43mdim\u001b[49m\u001b[38;5;241;43m=\u001b[39;49m\u001b[43mdim\u001b[49m\u001b[43m)\u001b[49m\n\u001b[1;32m     89\u001b[0m     input_cumsum \u001b[38;5;241m=\u001b[39m input_srt\u001b[38;5;241m.\u001b[39mcumsum(dim) \u001b[38;5;241m-\u001b[39m \u001b[38;5;241m1\u001b[39m\n\u001b[1;32m     90\u001b[0m     rhos \u001b[38;5;241m=\u001b[39m _make_ix_like(\u001b[38;5;28minput\u001b[39m, dim)\n",
      "\u001b[0;31mKeyboardInterrupt\u001b[0m: "
     ]
    },
    {
     "data": {
      "text/plain": [
       "<Figure size 432x288 with 0 Axes>"
      ]
     },
     "metadata": {},
     "output_type": "display_data"
    }
   ],
   "source": [
    "def run_one_full_train_test_with_tabnet(df_trainval, df_test, cols, model):\n",
    "    df_train, df_val = train_test_split(df_trainval, test_size=0.2)\n",
    "    x_train = df_train[cols].to_numpy()\n",
    "    y_train = df_train['pcr_result'].to_numpy()\n",
    "    x_val = df_val[cols].to_numpy()\n",
    "    y_val = df_val['pcr_result'].to_numpy()\n",
    "    x_test = df_test[cols].to_numpy()\n",
    "    y_test = df_test['pcr_result'].to_numpy()\n",
    "\n",
    "    print(f\"start to train: x_train.shape:{x_train.shape}, y_train.shape:{y_train.shape}\")\n",
    "    print(f\"start to train: x_val.shape:{x_val.shape}, y_val.shape:{y_val.shape}\")\n",
    "    print(f\"y_train mean:{np.mean(y_train)}. y_val mean:{np.mean(y_val)}\")\n",
    "\n",
    "    model.fit(\n",
    "        X_train=x_train, y_train=y_train,\n",
    "        eval_set=[(x_train, y_train), (x_val, y_val)],\n",
    "        eval_name=['train', 'valid'],\n",
    "#         patience=2, \n",
    "#         max_epochs=100,\n",
    "        patience=100, \n",
    "        max_epochs=1000,\n",
    "        eval_metric=['auc'],\n",
    "    )\n",
    "    \n",
    "    print(f\"Model: {model}\")\n",
    "    # plot losses\n",
    "    plt.plot(model.history['loss'], label='loss')\n",
    "\n",
    "    # plot accuracy\n",
    "    plt.plot(model.history['train_auc'], label='train_auc')\n",
    "    plt.plot(model.history['valid_auc'], label='valid_auc')\n",
    "    plt.legend(['loss', 'train_auc', 'valid_auc'])\n",
    "    plt.show()\n",
    "    plt.clf()\n",
    "\n",
    "    # determine best accuracy for validation set\n",
    "    preds_valid = model.predict_proba(x_val)\n",
    "    print(f\"y_val.head:{y_val[:5]}\")\n",
    "    pred_pos = np.array([x[1] for x in preds_valid])\n",
    "    valid_auc = roc_auc_score(y_val, pred_pos)\n",
    "    print(f\"BEST AUC SCORE ON VALIDATION SET : {valid_auc}\")\n",
    "    \n",
    "    print(f\"start to test: x_test.shape:{x_test.shape}, y_test.shape:{y_test.shape}\")\n",
    "    # find and plot feature importance\n",
    "    y_pred = model.predict(x_test)\n",
    "    feature_importances_ = model.feature_importances_\n",
    "    display(feature_importances_)\n",
    "    feat_importances = pd.Series(model.feature_importances_, index=cols)\n",
    "    feat_importances.nlargest(20).plot(kind='barh')\n",
    "    plt.show()\n",
    "    plt.clf()\n",
    "\n",
    "    # determine best accuracy for test set\n",
    "    preds = model.predict_proba(x_test)\n",
    "    pred_pos = np.array([x[1] for x in preds])\n",
    "    test_auc = roc_auc_score(y_test, pred_pos)\n",
    "    print(f\"preds_test head:{preds[:5]}\")\n",
    "    print(f\"BEST AUC SCORE ON TEST SET : {test_auc}\")\n",
    "    \n",
    "    config_name = 'TabNet_DEFAULT'\n",
    "    best_epoch, element = max(enumerate(model.history['valid_auc']), key=lambda x: x[1])\n",
    "    print(f\"Best epoch:{best_epoch}\")\n",
    "    best_model = save_model(config_name, model, best_epoch)\n",
    "    \n",
    "    return model, test_auc\n",
    "\n",
    "def save_model(config_name, model, epoch):\n",
    "    save_path = f\"./train_data/{model.__class__.__name__}_{config_name}_{epoch:04d}.pth\"\n",
    "    print(\"save_path\", save_path)\n",
    "    model.save_model(save_path)\n",
    "    print(\"Success to save to : \", save_path)\n",
    "    return model\n",
    "\n",
    "\n",
    "test_result = dict()\n",
    "models = dict()\n",
    "for i in range(5):\n",
    "    tab_model = TabNetClassifier(verbose = 2,seed = 1212)\n",
    "    models[i], test_result[i] = run_one_full_train_test_with_tabnet(\n",
    "        df_trainval, \n",
    "        df_test, cols,\n",
    "        tab_model\n",
    "    )\n",
    "    "
   ]
  },
  {
   "cell_type": "code",
   "execution_count": null,
   "id": "b8bb458b",
   "metadata": {},
   "outputs": [],
   "source": [
    "print(test_result)\n",
    "print(\"mean:\", np.mean(list(test_result.values())), \"std:\", np.std(list(test_result.values())))\n"
   ]
  },
  {
   "cell_type": "code",
   "execution_count": null,
   "id": "c5de966a",
   "metadata": {},
   "outputs": [],
   "source": []
  }
 ],
 "metadata": {
  "kernelspec": {
   "display_name": "py38",
   "language": "python",
   "name": "py38"
  },
  "language_info": {
   "codemirror_mode": {
    "name": "ipython",
    "version": 3
   },
   "file_extension": ".py",
   "mimetype": "text/x-python",
   "name": "python",
   "nbconvert_exporter": "python",
   "pygments_lexer": "ipython3",
   "version": "3.8.13"
  }
 },
 "nbformat": 4,
 "nbformat_minor": 5
}
