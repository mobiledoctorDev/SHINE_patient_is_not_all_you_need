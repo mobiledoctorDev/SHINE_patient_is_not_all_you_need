{
 "cells": [
  {
   "cell_type": "code",
   "execution_count": 1,
   "metadata": {},
   "outputs": [],
   "source": [
    "import os\n",
    "import pandas as pd\n",
    "import numpy as np\n"
   ]
  },
  {
   "cell_type": "code",
   "execution_count": 2,
   "metadata": {},
   "outputs": [
    {
     "name": "stdout",
     "output_type": "stream",
     "text": [
      "['/Users/mckim/anaconda3/envs/py36/lib/python36.zip', '/Users/mckim/anaconda3/envs/py36/lib/python3.6', '/Users/mckim/anaconda3/envs/py36/lib/python3.6/lib-dynload', '', '/Users/mckim/anaconda3/envs/py36/lib/python3.6/site-packages', '/Users/mckim/anaconda3/envs/py36/lib/python3.6/site-packages/IPython/extensions', '/Users/mckim/.ipython']\n"
     ]
    }
   ],
   "source": [
    "import sys\n",
    "\n",
    "sys.path.append(\"..\")\n",
    "from mc_lib.utils import size_and_ratio\n",
    "sys.path.remove(\"..\")\n",
    "print(sys.path)"
   ]
  },
  {
   "cell_type": "code",
   "execution_count": 3,
   "metadata": {},
   "outputs": [],
   "source": [
    "def get_month_df(year, month, base_folder='../v2/data'):\n",
    "    \"\"\"Get md_data as pandas.DataFrame from v2 csv file\"\"\"\n",
    "    filename = 'md_data_{:04d}_{:02d}.csv'.format(year, month)\n",
    "    filepath = os.path.join('../v2/data/', filename)\n",
    "    \n",
    "    df = pd.read_csv(filepath, dtype=str)\n",
    "    print(\"{} file loaded. shape:{}\".format(filepath, df.shape))\n",
    "    return df\n",
    "        \n",
    "# Sample code\n",
    "# df1 = get_month_df(2016, 9)\n",
    "# df2 = get_month_df(2019, 2)\n",
    "# df3 = get_month_df(2015, 9)\n",
    "# df4 = get_month_df(2018, 10)\n",
    "# df = pd.concat([df1, df2, df3, df4], axis=0)"
   ]
  },
  {
   "cell_type": "code",
   "execution_count": 4,
   "metadata": {
    "scrolled": true
   },
   "outputs": [
    {
     "name": "stdout",
     "output_type": "stream",
     "text": [
      "[Errno 2] File ../v2/data/md_data_2015_01.csv does not exist: '../v2/data/md_data_2015_01.csv' : 2015.1 data not loaded\n",
      "[Errno 2] File ../v2/data/md_data_2015_02.csv does not exist: '../v2/data/md_data_2015_02.csv' : 2015.2 data not loaded\n",
      "[Errno 2] File ../v2/data/md_data_2015_03.csv does not exist: '../v2/data/md_data_2015_03.csv' : 2015.3 data not loaded\n",
      "[Errno 2] File ../v2/data/md_data_2015_04.csv does not exist: '../v2/data/md_data_2015_04.csv' : 2015.4 data not loaded\n",
      "[Errno 2] File ../v2/data/md_data_2015_05.csv does not exist: '../v2/data/md_data_2015_05.csv' : 2015.5 data not loaded\n",
      "[Errno 2] File ../v2/data/md_data_2015_06.csv does not exist: '../v2/data/md_data_2015_06.csv' : 2015.6 data not loaded\n",
      "../v2/data/md_data_2015_07.csv file loaded. shape:(137, 19)\n",
      "2015 7 (137, 19)\n",
      "../v2/data/md_data_2015_08.csv file loaded. shape:(422, 19)\n",
      "2015 8 (422, 19)\n",
      "../v2/data/md_data_2015_09.csv file loaded. shape:(786, 19)\n",
      "2015 9 (786, 19)\n",
      "../v2/data/md_data_2015_10.csv file loaded. shape:(1303, 19)\n",
      "2015 10 (1303, 19)\n",
      "../v2/data/md_data_2015_11.csv file loaded. shape:(2202, 19)\n",
      "2015 11 (2202, 19)\n",
      "../v2/data/md_data_2015_12.csv file loaded. shape:(4839, 19)\n",
      "2015 12 (4839, 19)\n",
      "../v2/data/md_data_2016_01.csv file loaded. shape:(5042, 19)\n",
      "2016 1 (5042, 19)\n",
      "../v2/data/md_data_2016_02.csv file loaded. shape:(8710, 19)\n",
      "2016 2 (8710, 19)\n",
      "../v2/data/md_data_2016_03.csv file loaded. shape:(15004, 19)\n",
      "2016 3 (15004, 19)\n",
      "../v2/data/md_data_2016_04.csv file loaded. shape:(43229, 19)\n",
      "2016 4 (43229, 19)\n",
      "../v2/data/md_data_2016_05.csv file loaded. shape:(70428, 19)\n",
      "2016 5 (70428, 19)\n",
      "../v2/data/md_data_2016_06.csv file loaded. shape:(98500, 19)\n",
      "2016 6 (98500, 19)\n",
      "../v2/data/md_data_2016_07.csv file loaded. shape:(398329, 19)\n",
      "2016 7 (398329, 19)\n",
      "../v2/data/md_data_2016_08.csv file loaded. shape:(408388, 19)\n",
      "2016 8 (408388, 19)\n",
      "../v2/data/md_data_2016_09.csv file loaded. shape:(382435, 19)\n",
      "2016 9 (382435, 19)\n",
      "../v2/data/md_data_2016_10.csv file loaded. shape:(413712, 19)\n",
      "2016 10 (413712, 19)\n",
      "../v2/data/md_data_2016_11.csv file loaded. shape:(506888, 19)\n",
      "2016 11 (506888, 19)\n",
      "../v2/data/md_data_2016_12.csv file loaded. shape:(750299, 19)\n",
      "2016 12 (750299, 19)\n",
      "../v2/data/md_data_2017_01.csv file loaded. shape:(506659, 19)\n",
      "2017 1 (506659, 19)\n",
      "../v2/data/md_data_2017_02.csv file loaded. shape:(440268, 19)\n",
      "2017 2 (440268, 19)\n",
      "../v2/data/md_data_2017_03.csv file loaded. shape:(621390, 19)\n",
      "2017 3 (621390, 19)\n",
      "../v2/data/md_data_2017_04.csv file loaded. shape:(829518, 19)\n",
      "2017 4 (829518, 19)\n",
      "../v2/data/md_data_2017_05.csv file loaded. shape:(957498, 19)\n",
      "2017 5 (957498, 19)\n",
      "../v2/data/md_data_2017_06.csv file loaded. shape:(769716, 19)\n",
      "2017 6 (769716, 19)\n",
      "../v2/data/md_data_2017_07.csv file loaded. shape:(624145, 17)\n",
      "2017 7 (624145, 17)\n",
      "../v2/data/md_data_2017_08.csv file loaded. shape:(485484, 17)\n",
      "2017 8 (485484, 17)\n",
      "../v2/data/md_data_2017_09.csv file loaded. shape:(473438, 17)\n",
      "2017 9 (473438, 17)\n",
      "../v2/data/md_data_2017_10.csv file loaded. shape:(507636, 17)\n",
      "2017 10 (507636, 17)\n",
      "../v2/data/md_data_2017_11.csv file loaded. shape:(684400, 17)\n",
      "2017 11 (684400, 17)\n",
      "../v2/data/md_data_2017_12.csv file loaded. shape:(1187544, 17)\n",
      "2017 12 (1187544, 17)\n",
      "../v2/data/md_data_2018_01.csv file loaded. shape:(1269957, 17)\n",
      "2018 1 (1269957, 17)\n",
      "../v2/data/md_data_2018_02.csv file loaded. shape:(771640, 17)\n",
      "2018 2 (771640, 17)\n",
      "../v2/data/md_data_2018_03.csv file loaded. shape:(807773, 17)\n",
      "2018 3 (807773, 17)\n",
      "../v2/data/md_data_2018_04.csv file loaded. shape:(1229000, 17)\n",
      "2018 4 (1229000, 17)\n",
      "../v2/data/md_data_2018_05.csv file loaded. shape:(1596830, 17)\n",
      "2018 5 (1596830, 17)\n",
      "../v2/data/md_data_2018_06.csv file loaded. shape:(1534448, 17)\n",
      "2018 6 (1534448, 17)\n",
      "../v2/data/md_data_2018_07.csv file loaded. shape:(1746564, 17)\n",
      "2018 7 (1746564, 17)\n",
      "../v2/data/md_data_2018_08.csv file loaded. shape:(1431115, 17)\n",
      "2018 8 (1431115, 17)\n",
      "../v2/data/md_data_2018_09.csv file loaded. shape:(1464542, 17)\n",
      "2018 9 (1464542, 17)\n",
      "../v2/data/md_data_2018_10.csv file loaded. shape:(1408273, 17)\n",
      "2018 10 (1408273, 17)\n",
      "../v2/data/md_data_2018_11.csv file loaded. shape:(2065062, 17)\n",
      "2018 11 (2065062, 17)\n",
      "../v2/data/md_data_2018_12.csv file loaded. shape:(3093161, 17)\n",
      "2018 12 (3093161, 17)\n",
      "../v2/data/md_data_2019_01.csv file loaded. shape:(1067152, 25)\n",
      "2019 1 (1067152, 25)\n",
      "../v2/data/md_data_2019_02.csv file loaded. shape:(786097, 25)\n",
      "2019 2 (786097, 25)\n",
      "../v2/data/md_data_2019_03.csv file loaded. shape:(1189297, 25)\n",
      "2019 3 (1189297, 25)\n",
      "../v2/data/md_data_2019_04.csv file loaded. shape:(2047629, 25)\n",
      "2019 4 (2047629, 25)\n",
      "../v2/data/md_data_2019_05.csv file loaded. shape:(2067085, 25)\n",
      "2019 5 (2067085, 25)\n",
      "../v2/data/md_data_2019_06.csv file loaded. shape:(1934446, 24)\n",
      "2019 6 (1934446, 24)\n",
      "../v2/data/md_data_2019_07.csv file loaded. shape:(2055513, 24)\n",
      "2019 7 (2055513, 24)\n",
      "../v2/data/md_data_2019_08.csv file loaded. shape:(1686712, 24)\n",
      "2019 8 (1686712, 24)\n",
      "../v2/data/md_data_2019_09.csv file loaded. shape:(1733030, 24)\n",
      "2019 9 (1733030, 24)\n",
      "../v2/data/md_data_2019_10.csv file loaded. shape:(1752700, 24)\n",
      "2019 10 (1752700, 24)\n",
      "../v2/data/md_data_2019_11.csv file loaded. shape:(1863694, 24)\n",
      "2019 11 (1863694, 24)\n",
      "../v2/data/md_data_2019_12.csv file loaded. shape:(2528864, 24)\n",
      "2019 12 (2528864, 24)\n",
      "../v2/data/md_data_2020_01.csv file loaded. shape:(2108464, 24)\n",
      "2020 1 (2108464, 24)\n",
      "../v2/data/md_data_2020_02.csv file loaded. shape:(1068511, 24)\n",
      "2020 2 (1068511, 24)\n",
      "../v2/data/md_data_2020_03.csv file loaded. shape:(702784, 24)\n",
      "2020 3 (702784, 24)\n",
      "../v2/data/md_data_2020_04.csv file loaded. shape:(670961, 24)\n",
      "2020 4 (670961, 24)\n",
      "../v2/data/md_data_2020_05.csv file loaded. shape:(896269, 24)\n",
      "2020 5 (896269, 24)\n",
      "../v2/data/md_data_2020_06.csv file loaded. shape:(907479, 24)\n",
      "2020 6 (907479, 24)\n",
      "../v2/data/md_data_2020_07.csv file loaded. shape:(950947, 24)\n",
      "2020 7 (950947, 24)\n",
      "../v2/data/md_data_2020_08.csv file loaded. shape:(870863, 24)\n",
      "2020 8 (870863, 24)\n",
      "../v2/data/md_data_2020_09.csv file loaded. shape:(775685, 24)\n",
      "2020 9 (775685, 24)\n",
      "../v2/data/md_data_2020_10.csv file loaded. shape:(1014498, 24)\n",
      "2020 10 (1014498, 24)\n",
      "../v2/data/md_data_2020_11.csv file loaded. shape:(963495, 24)\n",
      "2020 11 (963495, 24)\n",
      "../v2/data/md_data_2020_12.csv file loaded. shape:(844764, 24)\n",
      "2020 12 (844764, 24)\n",
      "../v2/data/md_data_2021_01.csv file loaded. shape:(717116, 24)\n",
      "2021 1 (717116, 24)\n",
      "../v2/data/md_data_2021_02.csv file loaded. shape:(695677, 24)\n",
      "2021 2 (695677, 24)\n",
      "../v2/data/md_data_2021_03.csv file loaded. shape:(1119991, 24)\n",
      "2021 3 (1119991, 24)\n",
      "../v2/data/md_data_2021_04.csv file loaded. shape:(1120025, 24)\n",
      "2021 4 (1120025, 24)\n",
      "../v2/data/md_data_2021_05.csv file loaded. shape:(1207600, 24)\n",
      "2021 5 (1207600, 24)\n",
      "[Errno 2] File ../v2/data/md_data_2021_06.csv does not exist: '../v2/data/md_data_2021_06.csv' : 2021.6 data not loaded\n",
      "[Errno 2] File ../v2/data/md_data_2021_07.csv does not exist: '../v2/data/md_data_2021_07.csv' : 2021.7 data not loaded\n",
      "[Errno 2] File ../v2/data/md_data_2021_08.csv does not exist: '../v2/data/md_data_2021_08.csv' : 2021.8 data not loaded\n",
      "[Errno 2] File ../v2/data/md_data_2021_09.csv does not exist: '../v2/data/md_data_2021_09.csv' : 2021.9 data not loaded\n",
      "[Errno 2] File ../v2/data/md_data_2021_10.csv does not exist: '../v2/data/md_data_2021_10.csv' : 2021.10 data not loaded\n",
      "[Errno 2] File ../v2/data/md_data_2021_11.csv does not exist: '../v2/data/md_data_2021_11.csv' : 2021.11 data not loaded\n",
      "[Errno 2] File ../v2/data/md_data_2021_12.csv does not exist: '../v2/data/md_data_2021_12.csv' : 2021.12 data not loaded\n"
     ]
    }
   ],
   "source": [
    "\n",
    "\n",
    "dfs = []\n",
    "for year in range(2015, 2022):\n",
    "    for month in range(1, 13):    \n",
    "        try:\n",
    "            df_tmp = get_month_df(year, month)\n",
    "            print(year, month, df_tmp.shape)\n",
    "            dfs.append(df_tmp)\n",
    "        except Exception as e:\n",
    "            print(\"{} : {}.{} data not loaded\".format(e, year, month))\n",
    "            continue\n",
    "            "
   ]
  },
  {
   "cell_type": "code",
   "execution_count": 5,
   "metadata": {},
   "outputs": [
    {
     "name": "stdout",
     "output_type": "stream",
     "text": [
      "../v2/data/md_data_2015_10.csv file loaded. shape:(1303, 19)\n"
     ]
    },
    {
     "data": {
      "text/plain": [
       "(1303, 19)"
      ]
     },
     "execution_count": 5,
     "metadata": {},
     "output_type": "execute_result"
    }
   ],
   "source": [
    "df_tmp = get_month_df(2015, 10)\n",
    "df_tmp.shape"
   ]
  },
  {
   "cell_type": "code",
   "execution_count": 6,
   "metadata": {},
   "outputs": [
    {
     "data": {
      "text/plain": [
       "array(['39.2', '38.2', '0', '1', '5', '36.9', '37.2', '37.7', '37.6',\n",
       "       '36.8', '37.3', '37.1', '37.4', '36.6', '39.0', '38.6', '37.8',\n",
       "       '38.3', '36.3', '38.0', '37.5', '36.5', '36.7', '39.4', '37.0',\n",
       "       '38.1', '38.4', '39.1', '39.5', '38.8', '37.9', '38.9', '38.5',\n",
       "       '39.7', '40.1', '36.4', '35.9', '38.7', '36.0', '39.3', '39.6',\n",
       "       '36.1', '35.5', '35.8', '39.8', '36.2', '35.6', '35.7', '34.0',\n",
       "       '34.9', '35.3', '39.9'], dtype=object)"
      ]
     },
     "execution_count": 6,
     "metadata": {},
     "output_type": "execute_result"
    }
   ],
   "source": [
    "df_tmp['data_1'].unique()"
   ]
  },
  {
   "cell_type": "code",
   "execution_count": 7,
   "metadata": {},
   "outputs": [
    {
     "data": {
      "text/plain": [
       "Index(['_id', 'baby_id', 'date', 'type', 'data_1', 'data_2', 'data_3',\n",
       "       'data_4', 'data_5', 'data_6', 'data_7', 'data_8', 'memo', 'is_test',\n",
       "       'is_delete', 'weight', 'gender', 'birthday', 'convulsion'],\n",
       "      dtype='object')"
      ]
     },
     "execution_count": 7,
     "metadata": {},
     "output_type": "execute_result"
    }
   ],
   "source": [
    "df_tmp.columns"
   ]
  },
  {
   "cell_type": "code",
   "execution_count": 8,
   "metadata": {},
   "outputs": [
    {
     "data": {
      "text/html": [
       "<div>\n",
       "<style scoped>\n",
       "    .dataframe tbody tr th:only-of-type {\n",
       "        vertical-align: middle;\n",
       "    }\n",
       "\n",
       "    .dataframe tbody tr th {\n",
       "        vertical-align: top;\n",
       "    }\n",
       "\n",
       "    .dataframe thead th {\n",
       "        text-align: right;\n",
       "    }\n",
       "</style>\n",
       "<table border=\"1\" class=\"dataframe\">\n",
       "  <thead>\n",
       "    <tr style=\"text-align: right;\">\n",
       "      <th></th>\n",
       "      <th>_id</th>\n",
       "      <th>baby_id</th>\n",
       "      <th>date</th>\n",
       "      <th>type</th>\n",
       "      <th>data_1</th>\n",
       "      <th>data_2</th>\n",
       "      <th>data_3</th>\n",
       "      <th>data_4</th>\n",
       "      <th>data_5</th>\n",
       "      <th>data_6</th>\n",
       "      <th>data_7</th>\n",
       "      <th>data_8</th>\n",
       "      <th>memo</th>\n",
       "      <th>is_test</th>\n",
       "      <th>is_delete</th>\n",
       "      <th>weight</th>\n",
       "      <th>gender</th>\n",
       "      <th>birthday</th>\n",
       "      <th>convulsion</th>\n",
       "    </tr>\n",
       "  </thead>\n",
       "  <tbody>\n",
       "    <tr>\n",
       "      <th>0</th>\n",
       "      <td>old_901635</td>\n",
       "      <td>5f01c78171e70019_1</td>\n",
       "      <td>2015-10-05 10:30:00</td>\n",
       "      <td>1.0</td>\n",
       "      <td>39.2</td>\n",
       "      <td>C</td>\n",
       "      <td>NaN</td>\n",
       "      <td>NaN</td>\n",
       "      <td>NaN</td>\n",
       "      <td>NaN</td>\n",
       "      <td>NaN</td>\n",
       "      <td>NaN</td>\n",
       "      <td>NaN</td>\n",
       "      <td>NaN</td>\n",
       "      <td>NaN</td>\n",
       "      <td>NaN</td>\n",
       "      <td>NaN</td>\n",
       "      <td>NaN</td>\n",
       "      <td>NaN</td>\n",
       "    </tr>\n",
       "    <tr>\n",
       "      <th>1</th>\n",
       "      <td>old_2479183</td>\n",
       "      <td>ff73c09851ddf597_1</td>\n",
       "      <td>2015-10-15 13:36:00</td>\n",
       "      <td>1.0</td>\n",
       "      <td>38.2</td>\n",
       "      <td>C</td>\n",
       "      <td>NaN</td>\n",
       "      <td>NaN</td>\n",
       "      <td>NaN</td>\n",
       "      <td>NaN</td>\n",
       "      <td>NaN</td>\n",
       "      <td>NaN</td>\n",
       "      <td>NaN</td>\n",
       "      <td>NaN</td>\n",
       "      <td>NaN</td>\n",
       "      <td>12.0</td>\n",
       "      <td>1.0</td>\n",
       "      <td>2015-10-15</td>\n",
       "      <td>NaN</td>\n",
       "    </tr>\n",
       "    <tr>\n",
       "      <th>2</th>\n",
       "      <td>old_4645307</td>\n",
       "      <td>a2475c76af3e9a5e_1</td>\n",
       "      <td>2015-10-04 18:16:00</td>\n",
       "      <td>2.0</td>\n",
       "      <td>0</td>\n",
       "      <td>-1</td>\n",
       "      <td>NaN</td>\n",
       "      <td>NaN</td>\n",
       "      <td>NaN</td>\n",
       "      <td>NaN</td>\n",
       "      <td>NaN</td>\n",
       "      <td>NaN</td>\n",
       "      <td>NaN</td>\n",
       "      <td>NaN</td>\n",
       "      <td>NaN</td>\n",
       "      <td>28.0</td>\n",
       "      <td>1.0</td>\n",
       "      <td>2015-10-04</td>\n",
       "      <td>NaN</td>\n",
       "    </tr>\n",
       "    <tr>\n",
       "      <th>3</th>\n",
       "      <td>old_4713703</td>\n",
       "      <td>4EC34F44-61C1-4944-9B9E-E6C9060D02C8_1</td>\n",
       "      <td>2015-10-01 01:00:00</td>\n",
       "      <td>2.0</td>\n",
       "      <td>0</td>\n",
       "      <td>-1</td>\n",
       "      <td>NaN</td>\n",
       "      <td>NaN</td>\n",
       "      <td>NaN</td>\n",
       "      <td>NaN</td>\n",
       "      <td>NaN</td>\n",
       "      <td>NaN</td>\n",
       "      <td>NaN</td>\n",
       "      <td>NaN</td>\n",
       "      <td>NaN</td>\n",
       "      <td>10.6</td>\n",
       "      <td>1.0</td>\n",
       "      <td>2015-10-01</td>\n",
       "      <td>NaN</td>\n",
       "    </tr>\n",
       "    <tr>\n",
       "      <th>4</th>\n",
       "      <td>old_4725561</td>\n",
       "      <td>57b08f88941a93b8_1</td>\n",
       "      <td>2015-10-04 19:20:00</td>\n",
       "      <td>2.0</td>\n",
       "      <td>0</td>\n",
       "      <td>-1</td>\n",
       "      <td>NaN</td>\n",
       "      <td>NaN</td>\n",
       "      <td>NaN</td>\n",
       "      <td>NaN</td>\n",
       "      <td>NaN</td>\n",
       "      <td>NaN</td>\n",
       "      <td>NaN</td>\n",
       "      <td>NaN</td>\n",
       "      <td>NaN</td>\n",
       "      <td>12.4</td>\n",
       "      <td>0.0</td>\n",
       "      <td>2015-10-04</td>\n",
       "      <td>NaN</td>\n",
       "    </tr>\n",
       "  </tbody>\n",
       "</table>\n",
       "</div>"
      ],
      "text/plain": [
       "           _id                                 baby_id                 date  \\\n",
       "0   old_901635                      5f01c78171e70019_1  2015-10-05 10:30:00   \n",
       "1  old_2479183                      ff73c09851ddf597_1  2015-10-15 13:36:00   \n",
       "2  old_4645307                      a2475c76af3e9a5e_1  2015-10-04 18:16:00   \n",
       "3  old_4713703  4EC34F44-61C1-4944-9B9E-E6C9060D02C8_1  2015-10-01 01:00:00   \n",
       "4  old_4725561                      57b08f88941a93b8_1  2015-10-04 19:20:00   \n",
       "\n",
       "  type data_1 data_2 data_3 data_4 data_5 data_6 data_7 data_8 memo is_test  \\\n",
       "0  1.0   39.2      C    NaN    NaN    NaN    NaN    NaN    NaN  NaN     NaN   \n",
       "1  1.0   38.2      C    NaN    NaN    NaN    NaN    NaN    NaN  NaN     NaN   \n",
       "2  2.0      0     -1    NaN    NaN    NaN    NaN    NaN    NaN  NaN     NaN   \n",
       "3  2.0      0     -1    NaN    NaN    NaN    NaN    NaN    NaN  NaN     NaN   \n",
       "4  2.0      0     -1    NaN    NaN    NaN    NaN    NaN    NaN  NaN     NaN   \n",
       "\n",
       "  is_delete weight gender    birthday convulsion  \n",
       "0       NaN    NaN    NaN         NaN        NaN  \n",
       "1       NaN   12.0    1.0  2015-10-15        NaN  \n",
       "2       NaN   28.0    1.0  2015-10-04        NaN  \n",
       "3       NaN   10.6    1.0  2015-10-01        NaN  \n",
       "4       NaN   12.4    0.0  2015-10-04        NaN  "
      ]
     },
     "execution_count": 8,
     "metadata": {},
     "output_type": "execute_result"
    }
   ],
   "source": [
    "df_tmp.head()"
   ]
  },
  {
   "cell_type": "code",
   "execution_count": 9,
   "metadata": {},
   "outputs": [
    {
     "data": {
      "text/plain": [
       "(66964062, 25)"
      ]
     },
     "execution_count": 9,
     "metadata": {},
     "output_type": "execute_result"
    }
   ],
   "source": [
    "df_raw = pd.concat(dfs, axis=0)\n",
    "df_raw.shape"
   ]
  },
  {
   "cell_type": "code",
   "execution_count": 10,
   "metadata": {},
   "outputs": [
    {
     "data": {
      "text/html": [
       "<div>\n",
       "<style scoped>\n",
       "    .dataframe tbody tr th:only-of-type {\n",
       "        vertical-align: middle;\n",
       "    }\n",
       "\n",
       "    .dataframe tbody tr th {\n",
       "        vertical-align: top;\n",
       "    }\n",
       "\n",
       "    .dataframe thead th {\n",
       "        text-align: right;\n",
       "    }\n",
       "</style>\n",
       "<table border=\"1\" class=\"dataframe\">\n",
       "  <thead>\n",
       "    <tr style=\"text-align: right;\">\n",
       "      <th></th>\n",
       "      <th>_id</th>\n",
       "      <th>baby_id</th>\n",
       "      <th>date</th>\n",
       "      <th>type</th>\n",
       "      <th>data_1</th>\n",
       "      <th>data_2</th>\n",
       "      <th>data_3</th>\n",
       "      <th>data_4</th>\n",
       "      <th>data_5</th>\n",
       "      <th>data_6</th>\n",
       "      <th>...</th>\n",
       "      <th>weight</th>\n",
       "      <th>gender</th>\n",
       "      <th>birthday</th>\n",
       "      <th>convulsion</th>\n",
       "      <th>Unnamed: 0</th>\n",
       "      <th>app_code</th>\n",
       "      <th>group_id</th>\n",
       "      <th>lat</th>\n",
       "      <th>lng</th>\n",
       "      <th>last_update_de</th>\n",
       "    </tr>\n",
       "  </thead>\n",
       "  <tbody>\n",
       "    <tr>\n",
       "      <th>0</th>\n",
       "      <td>old_8836</td>\n",
       "      <td>3e33d8f4493e5b0c_1</td>\n",
       "      <td>2015-07-19 13:19:00</td>\n",
       "      <td>4.0</td>\n",
       "      <td>3</td>\n",
       "      <td>23.0</td>\n",
       "      <td>NaN</td>\n",
       "      <td>NaN</td>\n",
       "      <td>NaN</td>\n",
       "      <td>NaN</td>\n",
       "      <td>...</td>\n",
       "      <td>18.0</td>\n",
       "      <td>0.0</td>\n",
       "      <td>2015-07-19</td>\n",
       "      <td>NaN</td>\n",
       "      <td>NaN</td>\n",
       "      <td>NaN</td>\n",
       "      <td>NaN</td>\n",
       "      <td>NaN</td>\n",
       "      <td>NaN</td>\n",
       "      <td>NaN</td>\n",
       "    </tr>\n",
       "    <tr>\n",
       "      <th>1</th>\n",
       "      <td>old_13438</td>\n",
       "      <td>581f561db2b59b0_1</td>\n",
       "      <td>2015-07-16 00:13:00</td>\n",
       "      <td>4.0</td>\n",
       "      <td>3</td>\n",
       "      <td>6.0</td>\n",
       "      <td>NaN</td>\n",
       "      <td>NaN</td>\n",
       "      <td>NaN</td>\n",
       "      <td>NaN</td>\n",
       "      <td>...</td>\n",
       "      <td>14.0</td>\n",
       "      <td>0.0</td>\n",
       "      <td>2015-07-16</td>\n",
       "      <td>NaN</td>\n",
       "      <td>NaN</td>\n",
       "      <td>NaN</td>\n",
       "      <td>NaN</td>\n",
       "      <td>NaN</td>\n",
       "      <td>NaN</td>\n",
       "      <td>NaN</td>\n",
       "    </tr>\n",
       "    <tr>\n",
       "      <th>2</th>\n",
       "      <td>old_153053</td>\n",
       "      <td>94c092a60db5eac6_1</td>\n",
       "      <td>2015-07-15 19:04:00</td>\n",
       "      <td>1.0</td>\n",
       "      <td>39.5</td>\n",
       "      <td>C</td>\n",
       "      <td>NaN</td>\n",
       "      <td>NaN</td>\n",
       "      <td>NaN</td>\n",
       "      <td>NaN</td>\n",
       "      <td>...</td>\n",
       "      <td>27.0</td>\n",
       "      <td>0.0</td>\n",
       "      <td>2015-07-15</td>\n",
       "      <td>NaN</td>\n",
       "      <td>NaN</td>\n",
       "      <td>NaN</td>\n",
       "      <td>NaN</td>\n",
       "      <td>NaN</td>\n",
       "      <td>NaN</td>\n",
       "      <td>NaN</td>\n",
       "    </tr>\n",
       "    <tr>\n",
       "      <th>3</th>\n",
       "      <td>old_254506</td>\n",
       "      <td>bd1224d9b8b2027c_5</td>\n",
       "      <td>2015-07-26 12:26:00</td>\n",
       "      <td>1.0</td>\n",
       "      <td>39.9</td>\n",
       "      <td>C</td>\n",
       "      <td>NaN</td>\n",
       "      <td>NaN</td>\n",
       "      <td>NaN</td>\n",
       "      <td>NaN</td>\n",
       "      <td>...</td>\n",
       "      <td>12.0</td>\n",
       "      <td>0.0</td>\n",
       "      <td>2015-07-26</td>\n",
       "      <td>NaN</td>\n",
       "      <td>NaN</td>\n",
       "      <td>NaN</td>\n",
       "      <td>NaN</td>\n",
       "      <td>NaN</td>\n",
       "      <td>NaN</td>\n",
       "      <td>NaN</td>\n",
       "    </tr>\n",
       "    <tr>\n",
       "      <th>4</th>\n",
       "      <td>old_254509</td>\n",
       "      <td>bd1224d9b8b2027c_5</td>\n",
       "      <td>2015-07-26 12:28:00</td>\n",
       "      <td>1.0</td>\n",
       "      <td>39.9</td>\n",
       "      <td>C</td>\n",
       "      <td>NaN</td>\n",
       "      <td>NaN</td>\n",
       "      <td>NaN</td>\n",
       "      <td>NaN</td>\n",
       "      <td>...</td>\n",
       "      <td>12.0</td>\n",
       "      <td>0.0</td>\n",
       "      <td>2015-07-26</td>\n",
       "      <td>NaN</td>\n",
       "      <td>NaN</td>\n",
       "      <td>NaN</td>\n",
       "      <td>NaN</td>\n",
       "      <td>NaN</td>\n",
       "      <td>NaN</td>\n",
       "      <td>NaN</td>\n",
       "    </tr>\n",
       "  </tbody>\n",
       "</table>\n",
       "<p>5 rows × 25 columns</p>\n",
       "</div>"
      ],
      "text/plain": [
       "          _id             baby_id                 date type data_1 data_2  \\\n",
       "0    old_8836  3e33d8f4493e5b0c_1  2015-07-19 13:19:00  4.0      3   23.0   \n",
       "1   old_13438   581f561db2b59b0_1  2015-07-16 00:13:00  4.0      3    6.0   \n",
       "2  old_153053  94c092a60db5eac6_1  2015-07-15 19:04:00  1.0   39.5      C   \n",
       "3  old_254506  bd1224d9b8b2027c_5  2015-07-26 12:26:00  1.0   39.9      C   \n",
       "4  old_254509  bd1224d9b8b2027c_5  2015-07-26 12:28:00  1.0   39.9      C   \n",
       "\n",
       "  data_3 data_4 data_5 data_6  ... weight gender    birthday convulsion  \\\n",
       "0    NaN    NaN    NaN    NaN  ...   18.0    0.0  2015-07-19        NaN   \n",
       "1    NaN    NaN    NaN    NaN  ...   14.0    0.0  2015-07-16        NaN   \n",
       "2    NaN    NaN    NaN    NaN  ...   27.0    0.0  2015-07-15        NaN   \n",
       "3    NaN    NaN    NaN    NaN  ...   12.0    0.0  2015-07-26        NaN   \n",
       "4    NaN    NaN    NaN    NaN  ...   12.0    0.0  2015-07-26        NaN   \n",
       "\n",
       "  Unnamed: 0 app_code group_id  lat  lng last_update_de  \n",
       "0        NaN      NaN      NaN  NaN  NaN            NaN  \n",
       "1        NaN      NaN      NaN  NaN  NaN            NaN  \n",
       "2        NaN      NaN      NaN  NaN  NaN            NaN  \n",
       "3        NaN      NaN      NaN  NaN  NaN            NaN  \n",
       "4        NaN      NaN      NaN  NaN  NaN            NaN  \n",
       "\n",
       "[5 rows x 25 columns]"
      ]
     },
     "execution_count": 10,
     "metadata": {},
     "output_type": "execute_result"
    }
   ],
   "source": [
    "df_raw.head()"
   ]
  },
  {
   "cell_type": "markdown",
   "metadata": {},
   "source": [
    "### Check columns"
   ]
  },
  {
   "cell_type": "code",
   "execution_count": 11,
   "metadata": {},
   "outputs": [
    {
     "data": {
      "text/plain": [
       "Index(['_id', 'baby_id', 'date', 'type', 'data_1', 'data_2', 'data_3',\n",
       "       'data_4', 'data_5', 'data_6', 'data_7', 'data_8', 'memo', 'is_test',\n",
       "       'is_delete', 'weight', 'gender', 'birthday', 'convulsion', 'Unnamed: 0',\n",
       "       'app_code', 'group_id', 'lat', 'lng', 'last_update_de'],\n",
       "      dtype='object')"
      ]
     },
     "execution_count": 11,
     "metadata": {},
     "output_type": "execute_result"
    }
   ],
   "source": [
    "df_raw.columns"
   ]
  },
  {
   "cell_type": "markdown",
   "metadata": {},
   "source": [
    "# Remove test and deleted data"
   ]
  },
  {
   "cell_type": "code",
   "execution_count": 12,
   "metadata": {},
   "outputs": [
    {
     "name": "stdout",
     "output_type": "stream",
     "text": [
      "Before: (66964062, 25)\n",
      "After: (59307583, 25)\n"
     ]
    }
   ],
   "source": [
    "print(\"Before:\", df_raw.shape)\n",
    "df = df_raw\n",
    "df = df[df['is_test'] == '0']\n",
    "df = df[df['is_delete'] == '0']\n",
    "print(\"After:\", df.shape)"
   ]
  },
  {
   "cell_type": "markdown",
   "metadata": {},
   "source": [
    "# Filter out null values"
   ]
  },
  {
   "cell_type": "code",
   "execution_count": 13,
   "metadata": {},
   "outputs": [
    {
     "name": "stdout",
     "output_type": "stream",
     "text": [
      "After: (59280058, 25)\n"
     ]
    }
   ],
   "source": [
    "df = df[df['birthday'].notnull()]\n",
    "print(\"After:\", df.shape)"
   ]
  },
  {
   "cell_type": "markdown",
   "metadata": {},
   "source": [
    "# Basic statistics"
   ]
  },
  {
   "cell_type": "code",
   "execution_count": 14,
   "metadata": {},
   "outputs": [
    {
     "name": "stdout",
     "output_type": "stream",
     "text": [
      "Sum : 59280058 (7,)\n"
     ]
    },
    {
     "data": {
      "text/html": [
       "<div>\n",
       "<style scoped>\n",
       "    .dataframe tbody tr th:only-of-type {\n",
       "        vertical-align: middle;\n",
       "    }\n",
       "\n",
       "    .dataframe tbody tr th {\n",
       "        vertical-align: top;\n",
       "    }\n",
       "\n",
       "    .dataframe thead th {\n",
       "        text-align: right;\n",
       "    }\n",
       "</style>\n",
       "<table border=\"1\" class=\"dataframe\">\n",
       "  <thead>\n",
       "    <tr style=\"text-align: right;\">\n",
       "      <th></th>\n",
       "      <th>size</th>\n",
       "      <th>ratio</th>\n",
       "    </tr>\n",
       "    <tr>\n",
       "      <th>type</th>\n",
       "      <th></th>\n",
       "      <th></th>\n",
       "    </tr>\n",
       "  </thead>\n",
       "  <tbody>\n",
       "    <tr>\n",
       "      <th>1</th>\n",
       "      <td>35026397</td>\n",
       "      <td>0.590863</td>\n",
       "    </tr>\n",
       "    <tr>\n",
       "      <th>2</th>\n",
       "      <td>11085410</td>\n",
       "      <td>0.187001</td>\n",
       "    </tr>\n",
       "    <tr>\n",
       "      <th>3</th>\n",
       "      <td>9219335</td>\n",
       "      <td>0.155522</td>\n",
       "    </tr>\n",
       "    <tr>\n",
       "      <th>7</th>\n",
       "      <td>2221956</td>\n",
       "      <td>0.037482</td>\n",
       "    </tr>\n",
       "    <tr>\n",
       "      <th>4</th>\n",
       "      <td>1486495</td>\n",
       "      <td>0.025076</td>\n",
       "    </tr>\n",
       "    <tr>\n",
       "      <th>101</th>\n",
       "      <td>226009</td>\n",
       "      <td>0.003813</td>\n",
       "    </tr>\n",
       "    <tr>\n",
       "      <th>102</th>\n",
       "      <td>14456</td>\n",
       "      <td>0.000244</td>\n",
       "    </tr>\n",
       "  </tbody>\n",
       "</table>\n",
       "</div>"
      ],
      "text/plain": [
       "          size     ratio\n",
       "type                    \n",
       "1     35026397  0.590863\n",
       "2     11085410  0.187001\n",
       "3      9219335  0.155522\n",
       "7      2221956  0.037482\n",
       "4      1486495  0.025076\n",
       "101     226009  0.003813\n",
       "102      14456  0.000244"
      ]
     },
     "execution_count": 14,
     "metadata": {},
     "output_type": "execute_result"
    }
   ],
   "source": [
    "size_and_ratio(df, 'type')"
   ]
  },
  {
   "cell_type": "code",
   "execution_count": 15,
   "metadata": {},
   "outputs": [
    {
     "data": {
      "text/plain": [
       "(264571, 25)"
      ]
     },
     "execution_count": 15,
     "metadata": {},
     "output_type": "execute_result"
    }
   ],
   "source": [
    "df_dx = df[(df['type'] == '4') & (df['data_1'] == '3')]\n",
    "df_dx.shape"
   ]
  },
  {
   "cell_type": "code",
   "execution_count": 16,
   "metadata": {},
   "outputs": [
    {
     "name": "stdout",
     "output_type": "stream",
     "text": [
      "149234\n",
      "(23410751, 25)\n"
     ]
    }
   ],
   "source": [
    "babies_dx = df_dx['baby_id'].unique().tolist()\n",
    "print(len(babies_dx))\n",
    "df_with_diagnosis = df[df['baby_id'].isin(babies_dx)]\n",
    "print(df_with_diagnosis.shape)"
   ]
  },
  {
   "cell_type": "code",
   "execution_count": 17,
   "metadata": {
    "scrolled": true
   },
   "outputs": [],
   "source": [
    "df_with_diagnosis.to_csv(\"../v2/data/md_data__with_baby_having_dx.csv\", index=False)"
   ]
  },
  {
   "cell_type": "code",
   "execution_count": null,
   "metadata": {},
   "outputs": [],
   "source": []
  },
  {
   "cell_type": "markdown",
   "metadata": {},
   "source": [
    "## Sample small"
   ]
  },
  {
   "cell_type": "code",
   "execution_count": 18,
   "metadata": {},
   "outputs": [
    {
     "data": {
      "text/plain": [
       "8984"
      ]
     },
     "execution_count": 18,
     "metadata": {},
     "output_type": "execute_result"
    }
   ],
   "source": [
    "import random\n",
    "random.seed(1212)\n",
    "babies = df['baby_id'].unique().tolist()\n",
    "babyies_sampled = random.sample(list(babies), len(babies) // 100)\n",
    "len(babyies_sampled)"
   ]
  },
  {
   "cell_type": "code",
   "execution_count": 19,
   "metadata": {},
   "outputs": [
    {
     "data": {
      "text/plain": [
       "(584874, 25)"
      ]
     },
     "execution_count": 19,
     "metadata": {},
     "output_type": "execute_result"
    }
   ],
   "source": [
    "df_sampled = df[df['baby_id'].isin(babyies_sampled)]\n",
    "df_sampled.shape"
   ]
  },
  {
   "cell_type": "code",
   "execution_count": 20,
   "metadata": {},
   "outputs": [
    {
     "data": {
      "text/plain": [
       "(584874, 23)"
      ]
     },
     "execution_count": 20,
     "metadata": {},
     "output_type": "execute_result"
    }
   ],
   "source": [
    "target_cols = [\n",
    "    '_id', 'baby_id', 'date', 'type',\n",
    "    'data_1', 'data_2', 'data_3', 'data_4', 'data_5', 'data_6', 'data_7', 'data_8',\n",
    "    'memo', 'is_test', 'is_delete', \n",
    "    'weight', 'gender', 'birthday', 'convulsion', \n",
    "    'group_id', 'lat', 'lng', 'last_update_de']\n",
    "df_sampled = df_sampled[target_cols]\n",
    "df_sampled.shape"
   ]
  },
  {
   "cell_type": "code",
   "execution_count": 21,
   "metadata": {},
   "outputs": [],
   "source": [
    "df_sampled.to_csv(\"../v2/data/md_data__1percent_sampled_seed_1212.csv\", index=False)"
   ]
  },
  {
   "cell_type": "code",
   "execution_count": null,
   "metadata": {},
   "outputs": [],
   "source": []
  }
 ],
 "metadata": {
  "kernelspec": {
   "display_name": "py36",
   "language": "python",
   "name": "py36"
  },
  "language_info": {
   "codemirror_mode": {
    "name": "ipython",
    "version": 3
   },
   "file_extension": ".py",
   "mimetype": "text/x-python",
   "name": "python",
   "nbconvert_exporter": "python",
   "pygments_lexer": "ipython3",
   "version": "3.6.9"
  },
  "pycharm": {
   "stem_cell": {
    "cell_type": "raw",
    "metadata": {
     "collapsed": false
    },
    "source": []
   }
  }
 },
 "nbformat": 4,
 "nbformat_minor": 4
}
