{
 "cells": [
  {
   "cell_type": "code",
   "execution_count": 1,
   "metadata": {},
   "outputs": [],
   "source": [
    "import os\n",
    "import pandas as pd\n",
    "import numpy as np\n"
   ]
  },
  {
   "cell_type": "code",
   "execution_count": 2,
   "metadata": {},
   "outputs": [
    {
     "name": "stdout",
     "output_type": "stream",
     "text": [
      "['/Users/mckim/anaconda3/envs/py36/lib/python36.zip', '/Users/mckim/anaconda3/envs/py36/lib/python3.6', '/Users/mckim/anaconda3/envs/py36/lib/python3.6/lib-dynload', '', '/Users/mckim/anaconda3/envs/py36/lib/python3.6/site-packages', '/Users/mckim/anaconda3/envs/py36/lib/python3.6/site-packages/IPython/extensions', '/Users/mckim/.ipython']\n"
     ]
    }
   ],
   "source": [
    "import sys\n",
    "\n",
    "sys.path.append(\"..\")\n",
    "from mc_lib.utils import size_and_ratio\n",
    "sys.path.remove(\"..\")\n",
    "print(sys.path)"
   ]
  },
  {
   "cell_type": "code",
   "execution_count": 20,
   "metadata": {},
   "outputs": [],
   "source": [
    "filepath = \"../v2/data/md_data__with_baby_having_dx.csv\""
   ]
  },
  {
   "cell_type": "code",
   "execution_count": 5,
   "metadata": {},
   "outputs": [],
   "source": [
    "df_with_diagnosis = pd.read_csv(filepath, dtype=str)"
   ]
  },
  {
   "cell_type": "code",
   "execution_count": 6,
   "metadata": {},
   "outputs": [
    {
     "data": {
      "text/plain": [
       "(23410751, 25)"
      ]
     },
     "execution_count": 6,
     "metadata": {},
     "output_type": "execute_result"
    }
   ],
   "source": [
    "df_with_diagnosis.shape"
   ]
  },
  {
   "cell_type": "code",
   "execution_count": 7,
   "metadata": {},
   "outputs": [
    {
     "data": {
      "text/plain": [
       "array(['38.0', '13_0_11_5_2_0_0_1_2', '38.5', ..., '2021-05-31 17:59:17',\n",
       "       '2021-05-31 17:11:03', '2021-05-31 21:00:01'], dtype=object)"
      ]
     },
     "execution_count": 7,
     "metadata": {},
     "output_type": "execute_result"
    }
   ],
   "source": [
    "df_with_diagnosis['data_1'].unique()"
   ]
  },
  {
   "cell_type": "code",
   "execution_count": 8,
   "metadata": {},
   "outputs": [
    {
     "data": {
      "text/plain": [
       "(23410172, 25)"
      ]
     },
     "execution_count": 8,
     "metadata": {},
     "output_type": "execute_result"
    }
   ],
   "source": [
    "df_nonull = df_with_diagnosis[df_with_diagnosis['data_1'].notnull()]\n",
    "df_nonull.shape"
   ]
  },
  {
   "cell_type": "code",
   "execution_count": 9,
   "metadata": {},
   "outputs": [
    {
     "data": {
      "text/plain": [
       "9"
      ]
     },
     "execution_count": 9,
     "metadata": {},
     "output_type": "execute_result"
    }
   ],
   "source": [
    "df_single_digit = df_nonull[df_nonull['data_1'].str.len() == 1]\n",
    "df_single_digit['data_1'].nunique()"
   ]
  },
  {
   "cell_type": "code",
   "execution_count": 10,
   "metadata": {},
   "outputs": [
    {
     "data": {
      "text/plain": [
       "array(['0', '1', '3', '5', '2', '4', '8', '7', '6'], dtype=object)"
      ]
     },
     "execution_count": 10,
     "metadata": {},
     "output_type": "execute_result"
    }
   ],
   "source": [
    "df_single_digit['data_1'].unique()"
   ]
  },
  {
   "cell_type": "code",
   "execution_count": 11,
   "metadata": {},
   "outputs": [
    {
     "data": {
      "text/plain": [
       "(0, 25)"
      ]
     },
     "execution_count": 11,
     "metadata": {},
     "output_type": "execute_result"
    }
   ],
   "source": [
    "df_null = df_with_diagnosis[df_with_diagnosis['type'].isnull()]\n",
    "df_null.shape"
   ]
  },
  {
   "cell_type": "code",
   "execution_count": null,
   "metadata": {},
   "outputs": [],
   "source": []
  },
  {
   "cell_type": "code",
   "execution_count": 12,
   "metadata": {},
   "outputs": [
    {
     "name": "stdout",
     "output_type": "stream",
     "text": [
      "(0, 25)\n"
     ]
    },
    {
     "data": {
      "text/plain": [
       "count     23410751\n",
       "unique           7\n",
       "top              1\n",
       "freq      13508461\n",
       "Name: type, dtype: object"
      ]
     },
     "metadata": {},
     "output_type": "display_data"
    },
    {
     "name": "stdout",
     "output_type": "stream",
     "text": [
      "(0, 25)\n"
     ]
    },
    {
     "data": {
      "text/plain": [
       "count     23410751\n",
       "unique           3\n",
       "top              1\n",
       "freq      11775474\n",
       "Name: gender, dtype: object"
      ]
     },
     "metadata": {},
     "output_type": "display_data"
    },
    {
     "name": "stdout",
     "output_type": "stream",
     "text": [
      "(0, 25)\n"
     ]
    },
    {
     "data": {
      "text/plain": [
       "count     23410751\n",
       "unique           2\n",
       "top              0\n",
       "freq      18501430\n",
       "Name: convulsion, dtype: object"
      ]
     },
     "metadata": {},
     "output_type": "display_data"
    }
   ],
   "source": [
    "cols_to_int = ['type', 'gender', 'convulsion']\n",
    "\n",
    "for col in cols_to_int:\n",
    "    print(df_with_diagnosis[df_with_diagnosis[col].isnull()].shape)\n",
    "    df_with_diagnosis[col] = df_with_diagnosis[col].apply(lambda x : str(int(float(x))) if pd.notnull(x) else None)\n",
    "    display(df_with_diagnosis[col].describe())"
   ]
  },
  {
   "cell_type": "code",
   "execution_count": 14,
   "metadata": {},
   "outputs": [
    {
     "data": {
      "text/html": [
       "<div>\n",
       "<style scoped>\n",
       "    .dataframe tbody tr th:only-of-type {\n",
       "        vertical-align: middle;\n",
       "    }\n",
       "\n",
       "    .dataframe tbody tr th {\n",
       "        vertical-align: top;\n",
       "    }\n",
       "\n",
       "    .dataframe thead th {\n",
       "        text-align: right;\n",
       "    }\n",
       "</style>\n",
       "<table border=\"1\" class=\"dataframe\">\n",
       "  <thead>\n",
       "    <tr style=\"text-align: right;\">\n",
       "      <th></th>\n",
       "      <th>_id</th>\n",
       "      <th>baby_id</th>\n",
       "      <th>date</th>\n",
       "      <th>type</th>\n",
       "      <th>data_1</th>\n",
       "      <th>data_2</th>\n",
       "      <th>data_3</th>\n",
       "      <th>data_4</th>\n",
       "      <th>data_5</th>\n",
       "      <th>data_6</th>\n",
       "      <th>...</th>\n",
       "      <th>weight</th>\n",
       "      <th>gender</th>\n",
       "      <th>birthday</th>\n",
       "      <th>convulsion</th>\n",
       "      <th>Unnamed: 0</th>\n",
       "      <th>app_code</th>\n",
       "      <th>group_id</th>\n",
       "      <th>lat</th>\n",
       "      <th>lng</th>\n",
       "      <th>last_update_de</th>\n",
       "    </tr>\n",
       "  </thead>\n",
       "  <tbody>\n",
       "    <tr>\n",
       "      <th>23379918</th>\n",
       "      <td>85503079</td>\n",
       "      <td>1000023</td>\n",
       "      <td>2021-05-08 12:59:00</td>\n",
       "      <td>2</td>\n",
       "      <td>0</td>\n",
       "      <td>0.022</td>\n",
       "      <td>2</td>\n",
       "      <td>1</td>\n",
       "      <td>세토펜(정) 325 mg</td>\n",
       "      <td>NaN</td>\n",
       "      <td>...</td>\n",
       "      <td>22.0</td>\n",
       "      <td>1</td>\n",
       "      <td>2013-06-18</td>\n",
       "      <td>1</td>\n",
       "      <td>NaN</td>\n",
       "      <td>100</td>\n",
       "      <td>NaN</td>\n",
       "      <td>37.64491</td>\n",
       "      <td>127.1179</td>\n",
       "      <td>2021-05-08 13:09:38</td>\n",
       "    </tr>\n",
       "    <tr>\n",
       "      <th>23379947</th>\n",
       "      <td>85709154</td>\n",
       "      <td>1000023</td>\n",
       "      <td>2021-05-12 00:04:56</td>\n",
       "      <td>1</td>\n",
       "      <td>37.7</td>\n",
       "      <td>C</td>\n",
       "      <td>NaN</td>\n",
       "      <td>0</td>\n",
       "      <td>NaN</td>\n",
       "      <td>NaN</td>\n",
       "      <td>...</td>\n",
       "      <td>22.0</td>\n",
       "      <td>1</td>\n",
       "      <td>2013-06-18</td>\n",
       "      <td>1</td>\n",
       "      <td>NaN</td>\n",
       "      <td>100</td>\n",
       "      <td>20210512000503</td>\n",
       "      <td>37.64503</td>\n",
       "      <td>127.1177</td>\n",
       "      <td>2021-05-12 00:05:03</td>\n",
       "    </tr>\n",
       "    <tr>\n",
       "      <th>23379948</th>\n",
       "      <td>85712400</td>\n",
       "      <td>1000023</td>\n",
       "      <td>2021-05-12 01:36:56</td>\n",
       "      <td>1</td>\n",
       "      <td>38</td>\n",
       "      <td>C</td>\n",
       "      <td>NaN</td>\n",
       "      <td>0</td>\n",
       "      <td>NaN</td>\n",
       "      <td>NaN</td>\n",
       "      <td>...</td>\n",
       "      <td>22.0</td>\n",
       "      <td>1</td>\n",
       "      <td>2013-06-18</td>\n",
       "      <td>1</td>\n",
       "      <td>NaN</td>\n",
       "      <td>100</td>\n",
       "      <td>20210512013706</td>\n",
       "      <td>37.64493</td>\n",
       "      <td>127.1179</td>\n",
       "      <td>2021-05-12 01:37:06</td>\n",
       "    </tr>\n",
       "    <tr>\n",
       "      <th>23379949</th>\n",
       "      <td>85712922</td>\n",
       "      <td>1000023</td>\n",
       "      <td>2021-05-12 01:54:12</td>\n",
       "      <td>1</td>\n",
       "      <td>38.1</td>\n",
       "      <td>C</td>\n",
       "      <td>NaN</td>\n",
       "      <td>0</td>\n",
       "      <td>NaN</td>\n",
       "      <td>NaN</td>\n",
       "      <td>...</td>\n",
       "      <td>22.0</td>\n",
       "      <td>1</td>\n",
       "      <td>2013-06-18</td>\n",
       "      <td>1</td>\n",
       "      <td>NaN</td>\n",
       "      <td>100</td>\n",
       "      <td>20210512015419</td>\n",
       "      <td>37.64492</td>\n",
       "      <td>127.1179</td>\n",
       "      <td>2021-05-12 01:54:20</td>\n",
       "    </tr>\n",
       "    <tr>\n",
       "      <th>23379950</th>\n",
       "      <td>85712930</td>\n",
       "      <td>1000023</td>\n",
       "      <td>2021-05-12 01:54:26</td>\n",
       "      <td>2</td>\n",
       "      <td>0</td>\n",
       "      <td>8</td>\n",
       "      <td>1</td>\n",
       "      <td>2</td>\n",
       "      <td>부루펜</td>\n",
       "      <td>NaN</td>\n",
       "      <td>...</td>\n",
       "      <td>22.0</td>\n",
       "      <td>1</td>\n",
       "      <td>2013-06-18</td>\n",
       "      <td>1</td>\n",
       "      <td>NaN</td>\n",
       "      <td>100</td>\n",
       "      <td>NaN</td>\n",
       "      <td>37.64504</td>\n",
       "      <td>127.1176</td>\n",
       "      <td>2021-05-12 01:54:40</td>\n",
       "    </tr>\n",
       "  </tbody>\n",
       "</table>\n",
       "<p>5 rows × 25 columns</p>\n",
       "</div>"
      ],
      "text/plain": [
       "               _id  baby_id                 date type data_1 data_2 data_3  \\\n",
       "23379918  85503079  1000023  2021-05-08 12:59:00    2      0  0.022      2   \n",
       "23379947  85709154  1000023  2021-05-12 00:04:56    1   37.7      C    NaN   \n",
       "23379948  85712400  1000023  2021-05-12 01:36:56    1     38      C    NaN   \n",
       "23379949  85712922  1000023  2021-05-12 01:54:12    1   38.1      C    NaN   \n",
       "23379950  85712930  1000023  2021-05-12 01:54:26    2      0      8      1   \n",
       "\n",
       "         data_4         data_5 data_6  ... weight gender    birthday  \\\n",
       "23379918      1  세토펜(정) 325 mg    NaN  ...   22.0      1  2013-06-18   \n",
       "23379947      0            NaN    NaN  ...   22.0      1  2013-06-18   \n",
       "23379948      0            NaN    NaN  ...   22.0      1  2013-06-18   \n",
       "23379949      0            NaN    NaN  ...   22.0      1  2013-06-18   \n",
       "23379950      2            부루펜    NaN  ...   22.0      1  2013-06-18   \n",
       "\n",
       "         convulsion Unnamed: 0 app_code        group_id       lat       lng  \\\n",
       "23379918          1        NaN      100             NaN  37.64491  127.1179   \n",
       "23379947          1        NaN      100  20210512000503  37.64503  127.1177   \n",
       "23379948          1        NaN      100  20210512013706  37.64493  127.1179   \n",
       "23379949          1        NaN      100  20210512015419  37.64492  127.1179   \n",
       "23379950          1        NaN      100             NaN  37.64504  127.1176   \n",
       "\n",
       "               last_update_de  \n",
       "23379918  2021-05-08 13:09:38  \n",
       "23379947  2021-05-12 00:05:03  \n",
       "23379948  2021-05-12 01:37:06  \n",
       "23379949  2021-05-12 01:54:20  \n",
       "23379950  2021-05-12 01:54:40  \n",
       "\n",
       "[5 rows x 25 columns]"
      ]
     },
     "execution_count": 14,
     "metadata": {},
     "output_type": "execute_result"
    }
   ],
   "source": [
    "df_with_diagnosis = df_with_diagnosis.sort_values('baby_id')\n",
    "df_with_diagnosis.head()"
   ]
  },
  {
   "cell_type": "code",
   "execution_count": 15,
   "metadata": {},
   "outputs": [
    {
     "name": "stdout",
     "output_type": "stream",
     "text": [
      "(0, 25)\n",
      "(0, 25)\n",
      "(0, 25)\n"
     ]
    }
   ],
   "source": [
    "cols_to_int = ['type', 'gender', 'convulsion']\n",
    "\n",
    "for col in cols_to_int:\n",
    "    print(df_with_diagnosis[df_with_diagnosis[col].isnull()].shape)"
   ]
  },
  {
   "cell_type": "code",
   "execution_count": 16,
   "metadata": {},
   "outputs": [
    {
     "data": {
      "text/plain": [
       "count     23410751\n",
       "unique           3\n",
       "top              1\n",
       "freq      11775474\n",
       "Name: gender, dtype: object"
      ]
     },
     "execution_count": 16,
     "metadata": {},
     "output_type": "execute_result"
    }
   ],
   "source": [
    "df_with_diagnosis['gender'].describe()"
   ]
  },
  {
   "cell_type": "code",
   "execution_count": 28,
   "metadata": {},
   "outputs": [],
   "source": [
    "new_filepath = \"../v2/data/md_data__with_baby_having_dx_sorted.csv\""
   ]
  },
  {
   "cell_type": "code",
   "execution_count": 29,
   "metadata": {},
   "outputs": [],
   "source": [
    "df_with_diagnosis.to_csv(new_filepath, index=False)"
   ]
  },
  {
   "cell_type": "code",
   "execution_count": 27,
   "metadata": {},
   "outputs": [
    {
     "data": {
      "text/html": [
       "<div>\n",
       "<style scoped>\n",
       "    .dataframe tbody tr th:only-of-type {\n",
       "        vertical-align: middle;\n",
       "    }\n",
       "\n",
       "    .dataframe tbody tr th {\n",
       "        vertical-align: top;\n",
       "    }\n",
       "\n",
       "    .dataframe thead th {\n",
       "        text-align: right;\n",
       "    }\n",
       "</style>\n",
       "<table border=\"1\" class=\"dataframe\">\n",
       "  <thead>\n",
       "    <tr style=\"text-align: right;\">\n",
       "      <th></th>\n",
       "      <th>_id</th>\n",
       "      <th>baby_id</th>\n",
       "      <th>date</th>\n",
       "      <th>type</th>\n",
       "      <th>data_1</th>\n",
       "      <th>data_2</th>\n",
       "      <th>data_3</th>\n",
       "      <th>data_4</th>\n",
       "      <th>data_5</th>\n",
       "      <th>data_6</th>\n",
       "      <th>...</th>\n",
       "      <th>weight</th>\n",
       "      <th>gender</th>\n",
       "      <th>birthday</th>\n",
       "      <th>convulsion</th>\n",
       "      <th>Unnamed: 0</th>\n",
       "      <th>app_code</th>\n",
       "      <th>group_id</th>\n",
       "      <th>lat</th>\n",
       "      <th>lng</th>\n",
       "      <th>last_update_de</th>\n",
       "    </tr>\n",
       "  </thead>\n",
       "  <tbody>\n",
       "    <tr>\n",
       "      <th>0</th>\n",
       "      <td>85503079</td>\n",
       "      <td>1000023</td>\n",
       "      <td>2021-05-08 12:59:00</td>\n",
       "      <td>2</td>\n",
       "      <td>0</td>\n",
       "      <td>0.022</td>\n",
       "      <td>2</td>\n",
       "      <td>1</td>\n",
       "      <td>세토펜(정) 325 mg</td>\n",
       "      <td>NaN</td>\n",
       "      <td>...</td>\n",
       "      <td>22.0</td>\n",
       "      <td>1</td>\n",
       "      <td>2013-06-18</td>\n",
       "      <td>1</td>\n",
       "      <td>NaN</td>\n",
       "      <td>100</td>\n",
       "      <td>NaN</td>\n",
       "      <td>37.64491</td>\n",
       "      <td>127.1179</td>\n",
       "      <td>2021-05-08 13:09:38</td>\n",
       "    </tr>\n",
       "    <tr>\n",
       "      <th>1</th>\n",
       "      <td>85709154</td>\n",
       "      <td>1000023</td>\n",
       "      <td>2021-05-12 00:04:56</td>\n",
       "      <td>1</td>\n",
       "      <td>37.7</td>\n",
       "      <td>C</td>\n",
       "      <td>NaN</td>\n",
       "      <td>0</td>\n",
       "      <td>NaN</td>\n",
       "      <td>NaN</td>\n",
       "      <td>...</td>\n",
       "      <td>22.0</td>\n",
       "      <td>1</td>\n",
       "      <td>2013-06-18</td>\n",
       "      <td>1</td>\n",
       "      <td>NaN</td>\n",
       "      <td>100</td>\n",
       "      <td>20210512000503</td>\n",
       "      <td>37.64503</td>\n",
       "      <td>127.1177</td>\n",
       "      <td>2021-05-12 00:05:03</td>\n",
       "    </tr>\n",
       "    <tr>\n",
       "      <th>2</th>\n",
       "      <td>85712400</td>\n",
       "      <td>1000023</td>\n",
       "      <td>2021-05-12 01:36:56</td>\n",
       "      <td>1</td>\n",
       "      <td>38</td>\n",
       "      <td>C</td>\n",
       "      <td>NaN</td>\n",
       "      <td>0</td>\n",
       "      <td>NaN</td>\n",
       "      <td>NaN</td>\n",
       "      <td>...</td>\n",
       "      <td>22.0</td>\n",
       "      <td>1</td>\n",
       "      <td>2013-06-18</td>\n",
       "      <td>1</td>\n",
       "      <td>NaN</td>\n",
       "      <td>100</td>\n",
       "      <td>20210512013706</td>\n",
       "      <td>37.64493</td>\n",
       "      <td>127.1179</td>\n",
       "      <td>2021-05-12 01:37:06</td>\n",
       "    </tr>\n",
       "    <tr>\n",
       "      <th>3</th>\n",
       "      <td>85712922</td>\n",
       "      <td>1000023</td>\n",
       "      <td>2021-05-12 01:54:12</td>\n",
       "      <td>1</td>\n",
       "      <td>38.1</td>\n",
       "      <td>C</td>\n",
       "      <td>NaN</td>\n",
       "      <td>0</td>\n",
       "      <td>NaN</td>\n",
       "      <td>NaN</td>\n",
       "      <td>...</td>\n",
       "      <td>22.0</td>\n",
       "      <td>1</td>\n",
       "      <td>2013-06-18</td>\n",
       "      <td>1</td>\n",
       "      <td>NaN</td>\n",
       "      <td>100</td>\n",
       "      <td>20210512015419</td>\n",
       "      <td>37.64492</td>\n",
       "      <td>127.1179</td>\n",
       "      <td>2021-05-12 01:54:20</td>\n",
       "    </tr>\n",
       "    <tr>\n",
       "      <th>4</th>\n",
       "      <td>85712930</td>\n",
       "      <td>1000023</td>\n",
       "      <td>2021-05-12 01:54:26</td>\n",
       "      <td>2</td>\n",
       "      <td>0</td>\n",
       "      <td>8</td>\n",
       "      <td>1</td>\n",
       "      <td>2</td>\n",
       "      <td>부루펜</td>\n",
       "      <td>NaN</td>\n",
       "      <td>...</td>\n",
       "      <td>22.0</td>\n",
       "      <td>1</td>\n",
       "      <td>2013-06-18</td>\n",
       "      <td>1</td>\n",
       "      <td>NaN</td>\n",
       "      <td>100</td>\n",
       "      <td>NaN</td>\n",
       "      <td>37.64504</td>\n",
       "      <td>127.1176</td>\n",
       "      <td>2021-05-12 01:54:40</td>\n",
       "    </tr>\n",
       "  </tbody>\n",
       "</table>\n",
       "<p>5 rows × 25 columns</p>\n",
       "</div>"
      ],
      "text/plain": [
       "        _id  baby_id                 date type data_1 data_2 data_3 data_4  \\\n",
       "0  85503079  1000023  2021-05-08 12:59:00    2      0  0.022      2      1   \n",
       "1  85709154  1000023  2021-05-12 00:04:56    1   37.7      C    NaN      0   \n",
       "2  85712400  1000023  2021-05-12 01:36:56    1     38      C    NaN      0   \n",
       "3  85712922  1000023  2021-05-12 01:54:12    1   38.1      C    NaN      0   \n",
       "4  85712930  1000023  2021-05-12 01:54:26    2      0      8      1      2   \n",
       "\n",
       "          data_5 data_6  ... weight gender    birthday convulsion Unnamed: 0  \\\n",
       "0  세토펜(정) 325 mg    NaN  ...   22.0      1  2013-06-18          1        NaN   \n",
       "1            NaN    NaN  ...   22.0      1  2013-06-18          1        NaN   \n",
       "2            NaN    NaN  ...   22.0      1  2013-06-18          1        NaN   \n",
       "3            NaN    NaN  ...   22.0      1  2013-06-18          1        NaN   \n",
       "4            부루펜    NaN  ...   22.0      1  2013-06-18          1        NaN   \n",
       "\n",
       "  app_code        group_id       lat       lng       last_update_de  \n",
       "0      100             NaN  37.64491  127.1179  2021-05-08 13:09:38  \n",
       "1      100  20210512000503  37.64503  127.1177  2021-05-12 00:05:03  \n",
       "2      100  20210512013706  37.64493  127.1179  2021-05-12 01:37:06  \n",
       "3      100  20210512015419  37.64492  127.1179  2021-05-12 01:54:20  \n",
       "4      100             NaN  37.64504  127.1176  2021-05-12 01:54:40  \n",
       "\n",
       "[5 rows x 25 columns]"
      ]
     },
     "execution_count": 27,
     "metadata": {},
     "output_type": "execute_result"
    }
   ],
   "source": [
    "df_new_dx = pd.read_csv(filepath, dtype=str)\n",
    "df_new_dx.head()"
   ]
  },
  {
   "cell_type": "code",
   "execution_count": 30,
   "metadata": {},
   "outputs": [],
   "source": [
    "df_null_gender = df_with_diagnosis[df_with_diagnosis['gender'].isnull()]\n",
    "\n"
   ]
  },
  {
   "cell_type": "code",
   "execution_count": 31,
   "metadata": {},
   "outputs": [
    {
     "data": {
      "text/plain": [
       "count       0\n",
       "unique      0\n",
       "top       NaN\n",
       "freq      NaN\n",
       "Name: date, dtype: object"
      ]
     },
     "execution_count": 31,
     "metadata": {},
     "output_type": "execute_result"
    }
   ],
   "source": [
    "pd.to_datetime(df_null_gender['date']).describe()"
   ]
  },
  {
   "cell_type": "code",
   "execution_count": 32,
   "metadata": {},
   "outputs": [
    {
     "data": {
      "image/png": "[encoded data removed]",
      "text/plain": [
       "<Figure size 432x288 with 1 Axes>"
      ]
     },
     "metadata": {},
     "output_type": "display_data"
    }
   ],
   "source": [
    "from matplotlib import pyplot as plt\n",
    "import seaborn as sns\n",
    "sns.set()\n",
    "\n",
    "plt.hist(pd.to_datetime(df_null_gender['date']), bins=50)\n",
    "plt.show()"
   ]
  },
  {
   "cell_type": "code",
   "execution_count": null,
   "metadata": {},
   "outputs": [],
   "source": []
  },
  {
   "cell_type": "code",
   "execution_count": null,
   "metadata": {},
   "outputs": [],
   "source": []
  },
  {
   "cell_type": "code",
   "execution_count": 32,
   "metadata": {},
   "outputs": [
    {
     "data": {
      "image/png": "[encoded data removed]",
      "text/plain": [
       "<Figure size 432x288 with 1 Axes>"
      ]
     },
     "metadata": {},
     "output_type": "display_data"
    }
   ],
   "source": [
    "from matplotlib import pyplot as plt\n",
    "import seaborn as sns\n",
    "sns.set()\n",
    "\n",
    "plt.hist(pd.to_datetime(df_null_gender['date']), bins=50)\n",
    "plt.show()"
   ]
  },
  {
   "cell_type": "code",
   "execution_count": 33,
   "metadata": {},
   "outputs": [
    {
     "data": {
      "image/png": "[encoded data removed]",
      "text/plain": [
       "<Figure size 432x288 with 1 Axes>"
      ]
     },
     "metadata": {},
     "output_type": "display_data"
    }
   ],
   "source": [
    "\n",
    "plt.hist(pd.to_datetime(df_with_diagnosis['date']), bins=50)\n",
    "plt.show()"
   ]
  },
  {
   "cell_type": "code",
   "execution_count": null,
   "metadata": {},
   "outputs": [],
   "source": []
  }
 ],
 "metadata": {
  "kernelspec": {
   "display_name": "py36",
   "language": "python",
   "name": "py36"
  },
  "language_info": {
   "codemirror_mode": {
    "name": "ipython",
    "version": 3
   },
   "file_extension": ".py",
   "mimetype": "text/x-python",
   "name": "python",
   "nbconvert_exporter": "python",
   "pygments_lexer": "ipython3",
   "version": "3.6.9"
  },
  "pycharm": {
   "stem_cell": {
    "cell_type": "raw",
    "metadata": {
     "collapsed": false
    },
    "source": []
   }
  }
 },
 "nbformat": 4,
 "nbformat_minor": 4
}
