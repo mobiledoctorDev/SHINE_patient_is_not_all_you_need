{
 "cells": [
  {
   "cell_type": "markdown",
   "id": "223e6afb",
   "metadata": {
    "pycharm": {
     "name": "#%% md\n"
    }
   },
   "source": [
    "# Import library"
   ]
  },
  {
   "cell_type": "code",
   "execution_count": 1,
   "id": "1dd7f1f1",
   "metadata": {
    "pycharm": {
     "name": "#%%\n"
    }
   },
   "outputs": [],
   "source": [
    "import os\n",
    "import os, sys\n",
    "import glob\n",
    "import re\n",
    "import datetime\n",
    "from datetime import datetime, timedelta \n",
    "import math, copy, time\n",
    "from itertools import cycle\n",
    "from collections import defaultdict\n",
    "\n",
    "from parse import parse\n",
    "import numpy as np\n",
    "import pandas as pd\n",
    "import torch\n",
    "from torch import nn, optim\n",
    "from torch.autograd import Variable\n",
    "from torch.utils.data import Dataset\n",
    "from torch.utils.data import DataLoader\n",
    "import torch.nn.functional as F\n",
    "\n",
    "# import torchvision\n",
    "# import torchvision.transforms as transforms\n",
    "\n",
    "from sklearn.metrics import roc_auc_score, plot_roc_curve\n",
    "from sklearn import svm\n",
    "\n",
    "\n",
    "from tqdm.notebook import tqdm\n",
    "\n",
    "import matplotlib.pyplot as plt\n",
    "import seaborn\n",
    "\n",
    "%load_ext autoreload\n",
    "%autoreload 2"
   ]
  },
  {
   "cell_type": "code",
   "execution_count": 2,
   "id": "011b0722",
   "metadata": {
    "pycharm": {
     "name": "#%%\n"
    }
   },
   "outputs": [],
   "source": [
    "# Util functions\n",
    "def size_and_ratio(df, col, dropna=True):\n",
    "    if pd.__version__ > '1.1':\n",
    "        sr = df.groupby(col, dropna=dropna).size().sort_values(ascending=False)\n",
    "    elif dropna:\n",
    "        sr = df.groupby(col).size().sort_values(ascending=False)\n",
    "    else:  # dropna == False\n",
    "        sr = df.fillna('nan').groupby(col).size().sort_values(ascending=False)\n",
    "    sr_ratio = sr.copy() / sum(sr)\n",
    "    print(\"Sum :\", sum(sr), sr.shape)\n",
    "    sr.name = 'size'\n",
    "    sr_ratio.name = 'ratio'\n",
    "    return pd.concat([sr, sr_ratio], axis=1)"
   ]
  },
  {
   "cell_type": "markdown",
   "id": "3f43473d",
   "metadata": {
    "pycharm": {
     "name": "#%% md\n"
    }
   },
   "source": [
    "# Data load"
   ]
  },
  {
   "cell_type": "code",
   "execution_count": 3,
   "id": "e7c0d9c2",
   "metadata": {
    "pycharm": {
     "name": "#%%\n"
    }
   },
   "outputs": [
    {
     "data": {
      "text/html": [
       "<div>\n",
       "<style scoped>\n",
       "    .dataframe tbody tr th:only-of-type {\n",
       "        vertical-align: middle;\n",
       "    }\n",
       "\n",
       "    .dataframe tbody tr th {\n",
       "        vertical-align: top;\n",
       "    }\n",
       "\n",
       "    .dataframe thead th {\n",
       "        text-align: right;\n",
       "    }\n",
       "</style>\n",
       "<table border=\"1\" class=\"dataframe\">\n",
       "  <thead>\n",
       "    <tr style=\"text-align: right;\">\n",
       "      <th></th>\n",
       "      <th>cough</th>\n",
       "      <th>fever</th>\n",
       "      <th>sore_throat</th>\n",
       "      <th>shortness_of_breath</th>\n",
       "      <th>head_ache</th>\n",
       "      <th>age_60_and_above</th>\n",
       "      <th>gender</th>\n",
       "      <th>confirmed_ratio</th>\n",
       "      <th>weekday_ratio</th>\n",
       "      <th>corona_result</th>\n",
       "    </tr>\n",
       "  </thead>\n",
       "  <tbody>\n",
       "    <tr>\n",
       "      <th>0</th>\n",
       "      <td>0</td>\n",
       "      <td>0</td>\n",
       "      <td>0</td>\n",
       "      <td>0</td>\n",
       "      <td>0</td>\n",
       "      <td>-1</td>\n",
       "      <td>0</td>\n",
       "      <td>0.040948</td>\n",
       "      <td>0.0</td>\n",
       "      <td>0</td>\n",
       "    </tr>\n",
       "    <tr>\n",
       "      <th>1</th>\n",
       "      <td>0</td>\n",
       "      <td>0</td>\n",
       "      <td>0</td>\n",
       "      <td>0</td>\n",
       "      <td>0</td>\n",
       "      <td>-1</td>\n",
       "      <td>1</td>\n",
       "      <td>0.040948</td>\n",
       "      <td>0.0</td>\n",
       "      <td>0</td>\n",
       "    </tr>\n",
       "    <tr>\n",
       "      <th>2</th>\n",
       "      <td>0</td>\n",
       "      <td>0</td>\n",
       "      <td>0</td>\n",
       "      <td>0</td>\n",
       "      <td>0</td>\n",
       "      <td>-1</td>\n",
       "      <td>0</td>\n",
       "      <td>0.040948</td>\n",
       "      <td>0.0</td>\n",
       "      <td>0</td>\n",
       "    </tr>\n",
       "    <tr>\n",
       "      <th>3</th>\n",
       "      <td>0</td>\n",
       "      <td>0</td>\n",
       "      <td>0</td>\n",
       "      <td>0</td>\n",
       "      <td>0</td>\n",
       "      <td>-1</td>\n",
       "      <td>0</td>\n",
       "      <td>0.040948</td>\n",
       "      <td>0.0</td>\n",
       "      <td>0</td>\n",
       "    </tr>\n",
       "    <tr>\n",
       "      <th>4</th>\n",
       "      <td>0</td>\n",
       "      <td>0</td>\n",
       "      <td>0</td>\n",
       "      <td>0</td>\n",
       "      <td>0</td>\n",
       "      <td>-1</td>\n",
       "      <td>1</td>\n",
       "      <td>0.040948</td>\n",
       "      <td>0.0</td>\n",
       "      <td>0</td>\n",
       "    </tr>\n",
       "  </tbody>\n",
       "</table>\n",
       "</div>"
      ],
      "text/plain": [
       "   cough  fever  sore_throat  shortness_of_breath  head_ache  \\\n",
       "0      0      0            0                    0          0   \n",
       "1      0      0            0                    0          0   \n",
       "2      0      0            0                    0          0   \n",
       "3      0      0            0                    0          0   \n",
       "4      0      0            0                    0          0   \n",
       "\n",
       "   age_60_and_above  gender  confirmed_ratio  weekday_ratio  corona_result  \n",
       "0                -1       0         0.040948            0.0              0  \n",
       "1                -1       1         0.040948            0.0              0  \n",
       "2                -1       0         0.040948            0.0              0  \n",
       "3                -1       0         0.040948            0.0              0  \n",
       "4                -1       1         0.040948            0.0              0  "
      ]
     },
     "execution_count": 3,
     "metadata": {},
     "output_type": "execute_result"
    }
   ],
   "source": [
    "df_input = pd.read_csv(\"opendataset/df_input.csv\")\n",
    "df_input.head()"
   ]
  },
  {
   "cell_type": "code",
   "execution_count": 4,
   "id": "f07997b3",
   "metadata": {
    "pycharm": {
     "name": "#%%\n"
    }
   },
   "outputs": [],
   "source": [
    "from model.attention_model import CategoricalAttentionModel\n",
    "from model.utils import get_dict_category_from_dataset\n",
    "from model.utils import get_category_key"
   ]
  },
  {
   "cell_type": "code",
   "execution_count": 5,
   "id": "01b33fa7",
   "metadata": {
    "pycharm": {
     "name": "#%%\n"
    },
    "scrolled": false
   },
   "outputs": [
    {
     "name": "stdout",
     "output_type": "stream",
     "text": [
      "cough category [0 1] ...\n",
      "fever category [0 1] ...\n",
      "sore_throat category [0 1] ...\n",
      "shortness_of_breath category [0 1] ...\n",
      "head_ache category [0 1] ...\n",
      "age_60_and_above category [-1  0  1] ...\n",
      "gender category [0 1] ...\n",
      "confirmed_ratio float [0.04094774 0.05944027 0.07859325 0.06852142 0.07132832 0.10071824\n",
      " 0.12309089 0.09229753 0.11838521 0.11731198]\n",
      "weekday_ratio category [0.         0.33333333 0.5        0.66666667 0.83333333 0.16666667\n",
      " 1.        ] ...\n",
      "corona_result category [0 1] ...\n"
     ]
    },
    {
     "data": {
      "text/plain": [
       "{'cough_0': 0,\n",
       " 'cough_1': 1,\n",
       " 'fever_0': 2,\n",
       " 'fever_1': 3,\n",
       " 'sore_throat_0': 4,\n",
       " 'sore_throat_1': 5,\n",
       " 'shortness_of_breath_0': 6,\n",
       " 'shortness_of_breath_1': 7,\n",
       " 'head_ache_0': 8,\n",
       " 'head_ache_1': 9,\n",
       " 'age_60_and_above_-1': 10,\n",
       " 'age_60_and_above_0': 11,\n",
       " 'age_60_and_above_1': 12,\n",
       " 'gender_0': 13,\n",
       " 'gender_1': 14,\n",
       " 'confirmed_ratio': 15,\n",
       " 'weekday_ratio_0': 16,\n",
       " 'weekday_ratio_1': 17,\n",
       " 'corona_result_0': 18,\n",
       " 'corona_result_1': 19}"
      ]
     },
     "execution_count": 5,
     "metadata": {},
     "output_type": "execute_result"
    }
   ],
   "source": [
    "dict_category, df_input_typed = get_dict_category_from_dataset(df_input)\n",
    "dict_category"
   ]
  },
  {
   "cell_type": "markdown",
   "id": "1e5bcba2",
   "metadata": {
    "pycharm": {
     "name": "#%% md\n"
    }
   },
   "source": [
    "### category 값, intensity 값 생성"
   ]
  },
  {
   "cell_type": "code",
   "execution_count": 6,
   "id": "78abde19",
   "metadata": {
    "pycharm": {
     "name": "#%%\n"
    }
   },
   "outputs": [
    {
     "data": {
      "text/html": [
       "<div>\n",
       "<style scoped>\n",
       "    .dataframe tbody tr th:only-of-type {\n",
       "        vertical-align: middle;\n",
       "    }\n",
       "\n",
       "    .dataframe tbody tr th {\n",
       "        vertical-align: top;\n",
       "    }\n",
       "\n",
       "    .dataframe thead th {\n",
       "        text-align: right;\n",
       "    }\n",
       "</style>\n",
       "<table border=\"1\" class=\"dataframe\">\n",
       "  <thead>\n",
       "    <tr style=\"text-align: right;\">\n",
       "      <th></th>\n",
       "      <th>cough</th>\n",
       "      <th>fever</th>\n",
       "      <th>sore_throat</th>\n",
       "      <th>shortness_of_breath</th>\n",
       "      <th>head_ache</th>\n",
       "      <th>age_60_and_above</th>\n",
       "      <th>gender</th>\n",
       "      <th>confirmed_ratio</th>\n",
       "      <th>weekday_ratio</th>\n",
       "    </tr>\n",
       "  </thead>\n",
       "  <tbody>\n",
       "    <tr>\n",
       "      <th>139</th>\n",
       "      <td>0.0</td>\n",
       "      <td>2.0</td>\n",
       "      <td>4.0</td>\n",
       "      <td>6.0</td>\n",
       "      <td>8.0</td>\n",
       "      <td>10.0</td>\n",
       "      <td>14.0</td>\n",
       "      <td>15.0</td>\n",
       "      <td>16.0</td>\n",
       "    </tr>\n",
       "    <tr>\n",
       "      <th>5285</th>\n",
       "      <td>0.0</td>\n",
       "      <td>2.0</td>\n",
       "      <td>4.0</td>\n",
       "      <td>6.0</td>\n",
       "      <td>8.0</td>\n",
       "      <td>12.0</td>\n",
       "      <td>13.0</td>\n",
       "      <td>15.0</td>\n",
       "      <td>16.0</td>\n",
       "    </tr>\n",
       "    <tr>\n",
       "      <th>1226</th>\n",
       "      <td>0.0</td>\n",
       "      <td>2.0</td>\n",
       "      <td>4.0</td>\n",
       "      <td>6.0</td>\n",
       "      <td>8.0</td>\n",
       "      <td>11.0</td>\n",
       "      <td>14.0</td>\n",
       "      <td>15.0</td>\n",
       "      <td>17.0</td>\n",
       "    </tr>\n",
       "    <tr>\n",
       "      <th>3844</th>\n",
       "      <td>0.0</td>\n",
       "      <td>2.0</td>\n",
       "      <td>4.0</td>\n",
       "      <td>6.0</td>\n",
       "      <td>8.0</td>\n",
       "      <td>11.0</td>\n",
       "      <td>13.0</td>\n",
       "      <td>15.0</td>\n",
       "      <td>16.0</td>\n",
       "    </tr>\n",
       "    <tr>\n",
       "      <th>1631</th>\n",
       "      <td>0.0</td>\n",
       "      <td>2.0</td>\n",
       "      <td>4.0</td>\n",
       "      <td>6.0</td>\n",
       "      <td>8.0</td>\n",
       "      <td>11.0</td>\n",
       "      <td>13.0</td>\n",
       "      <td>15.0</td>\n",
       "      <td>16.0</td>\n",
       "    </tr>\n",
       "    <tr>\n",
       "      <th>1108</th>\n",
       "      <td>0.0</td>\n",
       "      <td>2.0</td>\n",
       "      <td>4.0</td>\n",
       "      <td>6.0</td>\n",
       "      <td>8.0</td>\n",
       "      <td>11.0</td>\n",
       "      <td>13.0</td>\n",
       "      <td>15.0</td>\n",
       "      <td>16.0</td>\n",
       "    </tr>\n",
       "    <tr>\n",
       "      <th>2770</th>\n",
       "      <td>0.0</td>\n",
       "      <td>2.0</td>\n",
       "      <td>4.0</td>\n",
       "      <td>6.0</td>\n",
       "      <td>8.0</td>\n",
       "      <td>11.0</td>\n",
       "      <td>14.0</td>\n",
       "      <td>15.0</td>\n",
       "      <td>16.0</td>\n",
       "    </tr>\n",
       "    <tr>\n",
       "      <th>5430</th>\n",
       "      <td>0.0</td>\n",
       "      <td>2.0</td>\n",
       "      <td>4.0</td>\n",
       "      <td>6.0</td>\n",
       "      <td>8.0</td>\n",
       "      <td>11.0</td>\n",
       "      <td>14.0</td>\n",
       "      <td>15.0</td>\n",
       "      <td>16.0</td>\n",
       "    </tr>\n",
       "    <tr>\n",
       "      <th>6101</th>\n",
       "      <td>0.0</td>\n",
       "      <td>2.0</td>\n",
       "      <td>4.0</td>\n",
       "      <td>6.0</td>\n",
       "      <td>8.0</td>\n",
       "      <td>12.0</td>\n",
       "      <td>14.0</td>\n",
       "      <td>15.0</td>\n",
       "      <td>16.0</td>\n",
       "    </tr>\n",
       "    <tr>\n",
       "      <th>2857</th>\n",
       "      <td>0.0</td>\n",
       "      <td>2.0</td>\n",
       "      <td>4.0</td>\n",
       "      <td>6.0</td>\n",
       "      <td>8.0</td>\n",
       "      <td>11.0</td>\n",
       "      <td>13.0</td>\n",
       "      <td>15.0</td>\n",
       "      <td>16.0</td>\n",
       "    </tr>\n",
       "  </tbody>\n",
       "</table>\n",
       "</div>"
      ],
      "text/plain": [
       "      cough  fever  sore_throat  shortness_of_breath  head_ache  \\\n",
       "139     0.0    2.0          4.0                  6.0        8.0   \n",
       "5285    0.0    2.0          4.0                  6.0        8.0   \n",
       "1226    0.0    2.0          4.0                  6.0        8.0   \n",
       "3844    0.0    2.0          4.0                  6.0        8.0   \n",
       "1631    0.0    2.0          4.0                  6.0        8.0   \n",
       "1108    0.0    2.0          4.0                  6.0        8.0   \n",
       "2770    0.0    2.0          4.0                  6.0        8.0   \n",
       "5430    0.0    2.0          4.0                  6.0        8.0   \n",
       "6101    0.0    2.0          4.0                  6.0        8.0   \n",
       "2857    0.0    2.0          4.0                  6.0        8.0   \n",
       "\n",
       "      age_60_and_above  gender  confirmed_ratio  weekday_ratio  \n",
       "139               10.0    14.0             15.0           16.0  \n",
       "5285              12.0    13.0             15.0           16.0  \n",
       "1226              11.0    14.0             15.0           17.0  \n",
       "3844              11.0    13.0             15.0           16.0  \n",
       "1631              11.0    13.0             15.0           16.0  \n",
       "1108              11.0    13.0             15.0           16.0  \n",
       "2770              11.0    14.0             15.0           16.0  \n",
       "5430              11.0    14.0             15.0           16.0  \n",
       "6101              12.0    14.0             15.0           16.0  \n",
       "2857              11.0    13.0             15.0           16.0  "
      ]
     },
     "metadata": {},
     "output_type": "display_data"
    },
    {
     "data": {
      "text/html": [
       "<div>\n",
       "<style scoped>\n",
       "    .dataframe tbody tr th:only-of-type {\n",
       "        vertical-align: middle;\n",
       "    }\n",
       "\n",
       "    .dataframe tbody tr th {\n",
       "        vertical-align: top;\n",
       "    }\n",
       "\n",
       "    .dataframe thead th {\n",
       "        text-align: right;\n",
       "    }\n",
       "</style>\n",
       "<table border=\"1\" class=\"dataframe\">\n",
       "  <thead>\n",
       "    <tr style=\"text-align: right;\">\n",
       "      <th></th>\n",
       "      <th>cough</th>\n",
       "      <th>fever</th>\n",
       "      <th>sore_throat</th>\n",
       "      <th>shortness_of_breath</th>\n",
       "      <th>head_ache</th>\n",
       "      <th>age_60_and_above</th>\n",
       "      <th>gender</th>\n",
       "      <th>confirmed_ratio</th>\n",
       "      <th>weekday_ratio</th>\n",
       "    </tr>\n",
       "  </thead>\n",
       "  <tbody>\n",
       "    <tr>\n",
       "      <th>3684</th>\n",
       "      <td>1.0</td>\n",
       "      <td>1.0</td>\n",
       "      <td>1.0</td>\n",
       "      <td>1.0</td>\n",
       "      <td>1.0</td>\n",
       "      <td>1.0</td>\n",
       "      <td>1.0</td>\n",
       "      <td>0.343763</td>\n",
       "      <td>1.0</td>\n",
       "    </tr>\n",
       "    <tr>\n",
       "      <th>1667</th>\n",
       "      <td>1.0</td>\n",
       "      <td>1.0</td>\n",
       "      <td>1.0</td>\n",
       "      <td>1.0</td>\n",
       "      <td>1.0</td>\n",
       "      <td>1.0</td>\n",
       "      <td>1.0</td>\n",
       "      <td>0.181210</td>\n",
       "      <td>1.0</td>\n",
       "    </tr>\n",
       "    <tr>\n",
       "      <th>5466</th>\n",
       "      <td>1.0</td>\n",
       "      <td>1.0</td>\n",
       "      <td>1.0</td>\n",
       "      <td>1.0</td>\n",
       "      <td>1.0</td>\n",
       "      <td>1.0</td>\n",
       "      <td>1.0</td>\n",
       "      <td>0.600760</td>\n",
       "      <td>1.0</td>\n",
       "    </tr>\n",
       "    <tr>\n",
       "      <th>1716</th>\n",
       "      <td>1.0</td>\n",
       "      <td>1.0</td>\n",
       "      <td>1.0</td>\n",
       "      <td>1.0</td>\n",
       "      <td>1.0</td>\n",
       "      <td>1.0</td>\n",
       "      <td>1.0</td>\n",
       "      <td>0.192190</td>\n",
       "      <td>1.0</td>\n",
       "    </tr>\n",
       "    <tr>\n",
       "      <th>6521</th>\n",
       "      <td>1.0</td>\n",
       "      <td>1.0</td>\n",
       "      <td>1.0</td>\n",
       "      <td>1.0</td>\n",
       "      <td>1.0</td>\n",
       "      <td>1.0</td>\n",
       "      <td>1.0</td>\n",
       "      <td>0.524395</td>\n",
       "      <td>1.0</td>\n",
       "    </tr>\n",
       "    <tr>\n",
       "      <th>1139</th>\n",
       "      <td>1.0</td>\n",
       "      <td>1.0</td>\n",
       "      <td>1.0</td>\n",
       "      <td>1.0</td>\n",
       "      <td>1.0</td>\n",
       "      <td>1.0</td>\n",
       "      <td>1.0</td>\n",
       "      <td>0.117312</td>\n",
       "      <td>1.0</td>\n",
       "    </tr>\n",
       "    <tr>\n",
       "      <th>755</th>\n",
       "      <td>1.0</td>\n",
       "      <td>1.0</td>\n",
       "      <td>1.0</td>\n",
       "      <td>1.0</td>\n",
       "      <td>1.0</td>\n",
       "      <td>1.0</td>\n",
       "      <td>1.0</td>\n",
       "      <td>0.123091</td>\n",
       "      <td>1.0</td>\n",
       "    </tr>\n",
       "    <tr>\n",
       "      <th>5474</th>\n",
       "      <td>1.0</td>\n",
       "      <td>1.0</td>\n",
       "      <td>1.0</td>\n",
       "      <td>1.0</td>\n",
       "      <td>1.0</td>\n",
       "      <td>1.0</td>\n",
       "      <td>1.0</td>\n",
       "      <td>0.600760</td>\n",
       "      <td>1.0</td>\n",
       "    </tr>\n",
       "    <tr>\n",
       "      <th>1628</th>\n",
       "      <td>1.0</td>\n",
       "      <td>1.0</td>\n",
       "      <td>1.0</td>\n",
       "      <td>1.0</td>\n",
       "      <td>1.0</td>\n",
       "      <td>1.0</td>\n",
       "      <td>1.0</td>\n",
       "      <td>0.181210</td>\n",
       "      <td>1.0</td>\n",
       "    </tr>\n",
       "    <tr>\n",
       "      <th>592</th>\n",
       "      <td>1.0</td>\n",
       "      <td>1.0</td>\n",
       "      <td>1.0</td>\n",
       "      <td>1.0</td>\n",
       "      <td>1.0</td>\n",
       "      <td>1.0</td>\n",
       "      <td>1.0</td>\n",
       "      <td>0.100718</td>\n",
       "      <td>1.0</td>\n",
       "    </tr>\n",
       "  </tbody>\n",
       "</table>\n",
       "</div>"
      ],
      "text/plain": [
       "      cough  fever  sore_throat  shortness_of_breath  head_ache  \\\n",
       "3684    1.0    1.0          1.0                  1.0        1.0   \n",
       "1667    1.0    1.0          1.0                  1.0        1.0   \n",
       "5466    1.0    1.0          1.0                  1.0        1.0   \n",
       "1716    1.0    1.0          1.0                  1.0        1.0   \n",
       "6521    1.0    1.0          1.0                  1.0        1.0   \n",
       "1139    1.0    1.0          1.0                  1.0        1.0   \n",
       "755     1.0    1.0          1.0                  1.0        1.0   \n",
       "5474    1.0    1.0          1.0                  1.0        1.0   \n",
       "1628    1.0    1.0          1.0                  1.0        1.0   \n",
       "592     1.0    1.0          1.0                  1.0        1.0   \n",
       "\n",
       "      age_60_and_above  gender  confirmed_ratio  weekday_ratio  \n",
       "3684               1.0     1.0         0.343763            1.0  \n",
       "1667               1.0     1.0         0.181210            1.0  \n",
       "5466               1.0     1.0         0.600760            1.0  \n",
       "1716               1.0     1.0         0.192190            1.0  \n",
       "6521               1.0     1.0         0.524395            1.0  \n",
       "1139               1.0     1.0         0.117312            1.0  \n",
       "755                1.0     1.0         0.123091            1.0  \n",
       "5474               1.0     1.0         0.600760            1.0  \n",
       "1628               1.0     1.0         0.181210            1.0  \n",
       "592                1.0     1.0         0.100718            1.0  "
      ]
     },
     "metadata": {},
     "output_type": "display_data"
    }
   ],
   "source": [
    "df_train = df_input_typed[[x for x in df_input_typed.columns if x != 'corona_result']]\n",
    "\n",
    "df_train_category = pd.DataFrame()\n",
    "df_train_intensity = df_train_category.copy()\n",
    "\n",
    "for index, row in df_train.iterrows():\n",
    "    for col, val in row.items():\n",
    "        type_name = df_train[col].dtype\n",
    "        key = get_category_key(colname=col, type_name=type_name, value=val)\n",
    "        cat_idx = dict_category[key]\n",
    "\n",
    "        df_train_category.loc[index, col] = cat_idx\n",
    "        if type_name == 'category':\n",
    "            df_train_intensity.loc[index, col] = 1\n",
    "        if type_name == 'float':\n",
    "            df_train_intensity.loc[index, col] = val\n",
    "\n",
    "\n",
    "display(df_train_category.sample(10))\n",
    "display(df_train_intensity.sample(10))"
   ]
  },
  {
   "cell_type": "markdown",
   "id": "c06244bf",
   "metadata": {
    "pycharm": {
     "name": "#%% md\n"
    }
   },
   "source": [
    "예시로 sore_throat id값 확인해봄"
   ]
  },
  {
   "cell_type": "code",
   "execution_count": 7,
   "id": "6449656c",
   "metadata": {
    "pycharm": {
     "name": "#%%\n"
    },
    "scrolled": true
   },
   "outputs": [
    {
     "name": "stdout",
     "output_type": "stream",
     "text": [
      "Sum : 7230 (2,)\n"
     ]
    },
    {
     "data": {
      "text/html": [
       "<div>\n",
       "<style scoped>\n",
       "    .dataframe tbody tr th:only-of-type {\n",
       "        vertical-align: middle;\n",
       "    }\n",
       "\n",
       "    .dataframe tbody tr th {\n",
       "        vertical-align: top;\n",
       "    }\n",
       "\n",
       "    .dataframe thead th {\n",
       "        text-align: right;\n",
       "    }\n",
       "</style>\n",
       "<table border=\"1\" class=\"dataframe\">\n",
       "  <thead>\n",
       "    <tr style=\"text-align: right;\">\n",
       "      <th></th>\n",
       "      <th>size</th>\n",
       "      <th>ratio</th>\n",
       "    </tr>\n",
       "    <tr>\n",
       "      <th>sore_throat</th>\n",
       "      <th></th>\n",
       "      <th></th>\n",
       "    </tr>\n",
       "  </thead>\n",
       "  <tbody>\n",
       "    <tr>\n",
       "      <th>4.0</th>\n",
       "      <td>7173</td>\n",
       "      <td>0.992116</td>\n",
       "    </tr>\n",
       "    <tr>\n",
       "      <th>5.0</th>\n",
       "      <td>57</td>\n",
       "      <td>0.007884</td>\n",
       "    </tr>\n",
       "  </tbody>\n",
       "</table>\n",
       "</div>"
      ],
      "text/plain": [
       "             size     ratio\n",
       "sore_throat                \n",
       "4.0          7173  0.992116\n",
       "5.0            57  0.007884"
      ]
     },
     "execution_count": 7,
     "metadata": {},
     "output_type": "execute_result"
    }
   ],
   "source": [
    "size_and_ratio(df_train_category, 'sore_throat')"
   ]
  },
  {
   "cell_type": "code",
   "execution_count": 8,
   "id": "fd690397",
   "metadata": {
    "pycharm": {
     "name": "#%%\n"
    }
   },
   "outputs": [],
   "source": [
    "def split_train_test(data, test_ratio, seed=None):\n",
    "    if seed != None:\n",
    "        np.random.seed(seed)\n",
    "    \n",
    "    shuffled_indices = np.random.permutation(len(data)).astype(int)\n",
    "    print(\"shuffled:\", shuffled_indices[:5], '...', \"total len:\", len(data))\n",
    "    test_set_size = int(len(data) * test_ratio)\n",
    "    \n",
    "    test_indices = shuffled_indices[:test_set_size]\n",
    "    train_indices = shuffled_indices[test_set_size:]\n",
    "    \n",
    "    test_data = data[:test_set_size]\n",
    "    train_data = data[test_set_size:]\n",
    "    test_data = data[test_indices]\n",
    "    train_data = data[train_indices]\n",
    "    \n",
    "    return train_data, test_data\n",
    "def split_input_gt(non_split_data):\n",
    "    splited_input = non_split_data[:, :-1]\n",
    "    splited_gt = non_split_data[:, -1]\n",
    "    \n",
    "    return splited_input, splited_gt"
   ]
  },
  {
   "cell_type": "code",
   "execution_count": 9,
   "id": "dd38bf7c",
   "metadata": {
    "pycharm": {
     "name": "#%%\n"
    }
   },
   "outputs": [
    {
     "data": {
      "text/plain": [
       "array([[0],\n",
       "       [0],\n",
       "       [0],\n",
       "       ...,\n",
       "       [1],\n",
       "       [0],\n",
       "       [0]])"
      ]
     },
     "execution_count": 9,
     "metadata": {},
     "output_type": "execute_result"
    }
   ],
   "source": [
    "np_cat = df_train_category.values\n",
    "np_ins = df_train_intensity.values\n",
    "np_gt = df_input_typed[['corona_result']].values\n",
    "np_gt"
   ]
  },
  {
   "cell_type": "code",
   "execution_count": 10,
   "id": "f1a1198e",
   "metadata": {
    "pycharm": {
     "name": "#%%\n"
    }
   },
   "outputs": [
    {
     "name": "stdout",
     "output_type": "stream",
     "text": [
      "shuffled: [3571  241 1807 3269 2200] ... total len: 7230\n",
      "shuffled: [2451 4535 4270 4511 1652] ... total len: 5784\n",
      "shuffled: [3571  241 1807 3269 2200] ... total len: 7230\n",
      "shuffled: [2451 4535 4270 4511 1652] ... total len: 5784\n",
      "shuffled: [3571  241 1807 3269 2200] ... total len: 7230\n",
      "shuffled: [2451 4535 4270 4511 1652] ... total len: 5784\n"
     ]
    }
   ],
   "source": [
    "not_test_np_cat, test_np_cat = split_train_test(np_cat, test_ratio=0.2, seed=1212)\n",
    "train_np_cat, valid_np_cat = split_train_test(not_test_np_cat, test_ratio=0.2, seed=1212)\n",
    "\n",
    "not_test_np_ins, test_np_ins = split_train_test(np_ins, test_ratio=0.2, seed=1212)\n",
    "train_np_ins, valid_np_ins = split_train_test(not_test_np_ins, test_ratio=0.2, seed=1212)\n",
    "\n",
    "\n",
    "not_test_np_gt, test_np_gt = split_train_test(np_gt, test_ratio=0.2, seed=1212)\n",
    "train_np_gt, valid_np_gt = split_train_test(not_test_np_gt, test_ratio=0.2, seed=1212)\n"
   ]
  },
  {
   "cell_type": "code",
   "execution_count": 11,
   "id": "e823fd27",
   "metadata": {
    "pycharm": {
     "name": "#%%\n"
    }
   },
   "outputs": [],
   "source": [
    "train_input = [train_np_cat.copy(), train_np_ins.copy()]\n",
    "train_gt = train_np_gt.copy()\n",
    "\n",
    "valid_input = [valid_np_cat.copy(), valid_np_ins.copy()]\n",
    "valid_gt = valid_np_gt.copy()\n",
    "\n",
    "test_input = [test_np_cat.copy(), test_np_ins.copy()]\n",
    "test_gt = test_np_gt.copy()\n"
   ]
  },
  {
   "cell_type": "code",
   "execution_count": 12,
   "id": "ef37a01d",
   "metadata": {
    "pycharm": {
     "name": "#%%\n"
    },
    "scrolled": true
   },
   "outputs": [
    {
     "name": "stdout",
     "output_type": "stream",
     "text": [
      "(4628, 9) (1156, 9) (1446, 9)\n",
      "(4628, 1) (1156, 1) (1446, 1)\n"
     ]
    }
   ],
   "source": [
    "print(train_input[0].shape, valid_input[0].shape, test_input[0].shape)\n",
    "print(train_gt.shape, valid_gt.shape, test_gt.shape)"
   ]
  },
  {
   "cell_type": "code",
   "execution_count": 13,
   "id": "919f78b8",
   "metadata": {
    "pycharm": {
     "name": "#%%\n"
    }
   },
   "outputs": [
    {
     "name": "stdout",
     "output_type": "stream",
     "text": [
      "# of train data positive:  335\n",
      "# of train data negative:  4293\n",
      "ratio of P/N:  0.07803400885161892\n",
      "\n",
      "# of valid data positive:  90\n",
      "# of valid data negative:  1066\n",
      "ratio of P/N:  0.08442776735459662\n",
      "\n",
      "# of test data positive:  98\n",
      "# of test data negative:  1348\n",
      "ratio of P/N:  0.07270029673590504\n"
     ]
    }
   ],
   "source": [
    "print(\"# of train data positive: \", train_gt.sum())\n",
    "print(\"# of train data negative: \", train_gt.shape[0] - train_gt.sum())\n",
    "print(\"ratio of P/N: \", train_gt.sum()/(train_gt.shape[0] - train_gt.sum()))\n",
    "print(\"\")\n",
    "\n",
    "print(\"# of valid data positive: \", valid_gt.sum())\n",
    "print(\"# of valid data negative: \", valid_gt.shape[0] - valid_gt.sum())\n",
    "print(\"ratio of P/N: \", valid_gt.sum()/(valid_gt.shape[0] - valid_gt.sum()))\n",
    "print(\"\")\n",
    "\n",
    "print(\"# of test data positive: \", test_gt.sum())\n",
    "print(\"# of test data negative: \", test_gt.shape[0] - test_gt.sum())\n",
    "print(\"ratio of P/N: \", test_gt.sum()/(test_gt.shape[0] - test_gt.sum()))"
   ]
  },
  {
   "cell_type": "markdown",
   "id": "9ec8eb37",
   "metadata": {
    "pycharm": {
     "name": "#%% md\n"
    }
   },
   "source": [
    "### Check dict_category"
   ]
  },
  {
   "cell_type": "code",
   "execution_count": 14,
   "id": "26565dc0",
   "metadata": {
    "pycharm": {
     "name": "#%%\n"
    }
   },
   "outputs": [
    {
     "data": {
      "text/plain": [
       "{'cough_0': 0,\n",
       " 'cough_1': 1,\n",
       " 'fever_0': 2,\n",
       " 'fever_1': 3,\n",
       " 'sore_throat_0': 4,\n",
       " 'sore_throat_1': 5,\n",
       " 'shortness_of_breath_0': 6,\n",
       " 'shortness_of_breath_1': 7,\n",
       " 'head_ache_0': 8,\n",
       " 'head_ache_1': 9,\n",
       " 'age_60_and_above_-1': 10,\n",
       " 'age_60_and_above_0': 11,\n",
       " 'age_60_and_above_1': 12,\n",
       " 'gender_0': 13,\n",
       " 'gender_1': 14,\n",
       " 'confirmed_ratio': 15,\n",
       " 'weekday_ratio_0': 16,\n",
       " 'weekday_ratio_1': 17,\n",
       " 'corona_result_0': 18,\n",
       " 'corona_result_1': 19}"
      ]
     },
     "execution_count": 14,
     "metadata": {},
     "output_type": "execute_result"
    }
   ],
   "source": [
    "dict_category"
   ]
  },
  {
   "cell_type": "markdown",
   "id": "1b8577ff",
   "metadata": {
    "pycharm": {
     "name": "#%% md\n"
    }
   },
   "source": [
    "## Let's Train imported class (simple attention module without inesity encoding)"
   ]
  },
  {
   "cell_type": "code",
   "execution_count": 15,
   "id": "ecf384a2",
   "metadata": {
    "pycharm": {
     "name": "#%%\n"
    }
   },
   "outputs": [],
   "source": [
    "from model.attention_model import CategoricalAttentionModel,CategoricalAttentionSimpleModel\n",
    "# from model.attention_model import DataIteratorForIsraelModel"
   ]
  },
  {
   "cell_type": "code",
   "execution_count": 16,
   "id": "debc65ba",
   "metadata": {
    "pycharm": {
     "name": "#%%\n"
    }
   },
   "outputs": [],
   "source": [
    "# from model.attention_model import IsraelDataset"
   ]
  },
  {
   "cell_type": "code",
   "execution_count": 17,
   "id": "244bc16c",
   "metadata": {
    "scrolled": true,
    "pycharm": {
     "name": "#%%\n"
    }
   },
   "outputs": [],
   "source": [
    "# train_data_iter = IsraelDataset(train_input[0], train_input[1], train_gt, batch_size=64, shuffle=True)\n",
    "# batch = next(iter(train_data_iter))"
   ]
  },
  {
   "cell_type": "code",
   "execution_count": 18,
   "id": "4c3ebffc",
   "metadata": {
    "pycharm": {
     "name": "#%%\n"
    }
   },
   "outputs": [
    {
     "data": {
      "text/plain": [
       "[array([[ 0.,  2.,  4., ..., 13., 15., 16.],\n",
       "        [ 0.,  2.,  4., ..., 13., 15., 16.],\n",
       "        [ 0.,  2.,  4., ..., 14., 15., 16.],\n",
       "        ...,\n",
       "        [ 0.,  2.,  4., ..., 13., 15., 16.],\n",
       "        [ 0.,  2.,  4., ..., 14., 15., 16.],\n",
       "        [ 0.,  2.,  4., ..., 13., 15., 17.]]),\n",
       " array([[1.        , 1.        , 1.        , ..., 1.        , 0.3437629 ,\n",
       "         1.        ],\n",
       "        [1.        , 1.        , 1.        , ..., 1.        , 0.86237926,\n",
       "         1.        ],\n",
       "        [1.        , 1.        , 1.        , ..., 1.        , 0.07132832,\n",
       "         1.        ],\n",
       "        ...,\n",
       "        [1.        , 1.        , 1.        , ..., 1.        , 0.70882523,\n",
       "         1.        ],\n",
       "        [1.        , 1.        , 1.        , ..., 1.        , 0.48897878,\n",
       "         1.        ],\n",
       "        [1.        , 1.        , 1.        , ..., 1.        , 0.10352514,\n",
       "         1.        ]])]"
      ]
     },
     "execution_count": 18,
     "metadata": {},
     "output_type": "execute_result"
    }
   ],
   "source": [
    "train_input"
   ]
  },
  {
   "cell_type": "code",
   "execution_count": 19,
   "id": "5b3ac549",
   "metadata": {
    "pycharm": {
     "name": "#%%\n"
    }
   },
   "outputs": [
    {
     "name": "stdout",
     "output_type": "stream",
     "text": [
      "cat value: (4628, 9)\n",
      "intensity value: (4628, 9)\n",
      "Ground truth value: (4628, 1)\n"
     ]
    }
   ],
   "source": [
    "print(\"cat value:\", train_input[0].shape)\n",
    "print(\"intensity value:\", train_input[1].shape)\n",
    "print(\"Ground truth value:\", train_gt.shape)"
   ]
  },
  {
   "cell_type": "code",
   "execution_count": 20,
   "id": "89d944c0",
   "metadata": {
    "pycharm": {
     "name": "#%%\n"
    }
   },
   "outputs": [],
   "source": [
    "def validation(model, metrics, val_input, val_gt):\n",
    "    \n",
    "    # ************************\n",
    "    val_pred, attn_val = model(val_input)\n",
    "    # ************************\n",
    "    print(val_pred.shape, val_gt.shape)\n",
    "    result = dict()\n",
    "    for key, metric_func in metrics.items():\n",
    "        result[key] = metric_func(val_pred.detach(), val_gt.detach())\n",
    "    return result"
   ]
  },
  {
   "cell_type": "markdown",
   "id": "df23aaba",
   "metadata": {
    "pycharm": {
     "name": "#%% md\n"
    }
   },
   "source": [
    "## CategoricalAttentionSimpleModel\n",
    "무작위로 뽑아서 1000step 학습"
   ]
  },
  {
   "cell_type": "code",
   "execution_count": 21,
   "id": "a6fa5458",
   "metadata": {
    "scrolled": true,
    "pycharm": {
     "name": "#%%\n"
    }
   },
   "outputs": [
    {
     "name": "stdout",
     "output_type": "stream",
     "text": [
      "Cur Step: 0 Train Loss: 0.07385271042585373 elapsed: 0.06293201446533203\n",
      "torch.Size([1156, 1]) torch.Size([1156, 1])\n",
      "{'loss': tensor(0.6666), 'auc': 0.48689806128830526}\n",
      "Cur Step: 1000 Train Loss: 0.00902252271771431 elapsed: 0.0019049644470214844\n",
      "torch.Size([1156, 1]) torch.Size([1156, 1])\n",
      "{'loss': tensor(0.3373), 'auc': 0.5424640400250157}\n",
      "Cur Step: 2000 Train Loss: 0.021527260541915894 elapsed: 0.0021643638610839844\n",
      "torch.Size([1156, 1]) torch.Size([1156, 1])\n",
      "{'loss': tensor(0.2435), 'auc': 0.7156920992286846}\n",
      "Cur Step: 3000 Train Loss: 0.041874781250953674 elapsed: 0.0019969940185546875\n",
      "torch.Size([1156, 1]) torch.Size([1156, 1])\n",
      "{'loss': tensor(0.2577), 'auc': 0.6911663539712319}\n",
      "Cur Step: 4000 Train Loss: 0.022433899343013763 elapsed: 0.002185821533203125\n",
      "torch.Size([1156, 1]) torch.Size([1156, 1])\n",
      "{'loss': tensor(0.2605), 'auc': 0.6391077756931415}\n",
      "Cur Step: 5000 Train Loss: 0.01905936747789383 elapsed: 0.0020003318786621094\n",
      "torch.Size([1156, 1]) torch.Size([1156, 1])\n",
      "{'loss': tensor(0.2757), 'auc': 0.7156451949134875}\n",
      "Cur Step: 6000 Train Loss: 0.022600727155804634 elapsed: 0.002112150192260742\n",
      "torch.Size([1156, 1]) torch.Size([1156, 1])\n",
      "{'loss': tensor(0.2580), 'auc': 0.6999009797790285}\n",
      "Cur Step: 7000 Train Loss: 0.06420709192752838 elapsed: 0.0021800994873046875\n",
      "torch.Size([1156, 1]) torch.Size([1156, 1])\n",
      "{'loss': tensor(0.3401), 'auc': 0.6377631853241611}\n",
      "Cur Step: 8000 Train Loss: 0.025956982746720314 elapsed: 0.0021178722381591797\n",
      "torch.Size([1156, 1]) torch.Size([1156, 1])\n",
      "{'loss': tensor(0.2374), 'auc': 0.7105013550135503}\n",
      "Cur Step: 9000 Train Loss: 0.031218435615301132 elapsed: 0.0019409656524658203\n",
      "torch.Size([1156, 1]) torch.Size([1156, 1])\n",
      "{'loss': tensor(0.2691), 'auc': 0.644063998332291}\n",
      "Cur Step: 10000 Train Loss: 0.03759452700614929 elapsed: 0.0020749568939208984\n",
      "torch.Size([1156, 1]) torch.Size([1156, 1])\n",
      "{'loss': tensor(0.2740), 'auc': 0.699015009380863}\n",
      "Cur Step: 11000 Train Loss: 0.05530683696269989 elapsed: 0.0022399425506591797\n",
      "torch.Size([1156, 1]) torch.Size([1156, 1])\n",
      "{'loss': tensor(0.2822), 'auc': 0.6940587867417135}\n",
      "Cur Step: 12000 Train Loss: 0.017276694998145103 elapsed: 0.0021851062774658203\n",
      "torch.Size([1156, 1]) torch.Size([1156, 1])\n",
      "{'loss': tensor(0.2822), 'auc': 0.7246456118407338}\n",
      "Cur Step: 13000 Train Loss: 0.027319423854351044 elapsed: 0.0020728111267089844\n",
      "torch.Size([1156, 1]) torch.Size([1156, 1])\n",
      "{'loss': tensor(0.3272), 'auc': 0.7035178236397749}\n",
      "Cur Step: 14000 Train Loss: 0.05690975487232208 elapsed: 0.002015829086303711\n",
      "torch.Size([1156, 1]) torch.Size([1156, 1])\n",
      "{'loss': tensor(0.3373), 'auc': 0.6955753595997499}\n",
      "Cur Step: 15000 Train Loss: 0.03167201951146126 elapsed: 0.0022919178009033203\n",
      "torch.Size([1156, 1]) torch.Size([1156, 1])\n",
      "{'loss': tensor(0.3239), 'auc': 0.6411924119241194}\n",
      "Cur Step: 16000 Train Loss: 0.03698195144534111 elapsed: 0.0020399093627929688\n",
      "torch.Size([1156, 1]) torch.Size([1156, 1])\n",
      "{'loss': tensor(0.3355), 'auc': 0.6483739837398373}\n",
      "Cur Step: 17000 Train Loss: 0.00961404386907816 elapsed: 0.0022249221801757812\n",
      "torch.Size([1156, 1]) torch.Size([1156, 1])\n",
      "{'loss': tensor(0.3057), 'auc': 0.6845945382530748}\n",
      "Cur Step: 18000 Train Loss: 0.03697669133543968 elapsed: 0.002148151397705078\n",
      "torch.Size([1156, 1]) torch.Size([1156, 1])\n",
      "{'loss': tensor(0.3164), 'auc': 0.7102459870752553}\n",
      "Cur Step: 19000 Train Loss: 0.023170027881860733 elapsed: 0.001886129379272461\n",
      "torch.Size([1156, 1]) torch.Size([1156, 1])\n",
      "{'loss': tensor(0.2873), 'auc': 0.7195017719407963}\n"
     ]
    }
   ],
   "source": [
    "d_model = 16\n",
    "n_head = 4\n",
    "model = CategoricalAttentionSimpleModel(dict_category, d_model=d_model, n_head=n_head, len_seq=train_input[0].shape[1])\n",
    "loss_func = nn.BCELoss()\n",
    "optimizer = optim.Adam(model.parameters(), lr=0.0001)\n",
    "batch_size = 64\n",
    "\n",
    "n_steps = 20000\n",
    "log_result = dict()\n",
    "\n",
    "model.train()\n",
    "for cur_step in range(n_steps):\n",
    "    \"\"\"Train on single item of train data\"\"\"\n",
    "    start = time.time()\n",
    "    total_tokens = 0\n",
    "    total_loss = 0\n",
    "\n",
    "    model.train()\n",
    "    \n",
    "    train_batch_cat_value , train_batch_intensity_value = train_input\n",
    "    random_indeicies = torch.randperm(len(train_input[0]))[:batch_size]\n",
    "#     print(random_indeicies)\n",
    "    train_batch_input = torch.LongTensor(train_batch_cat_value[random_indeicies])\n",
    "    train_batch_gt = torch.FloatTensor(train_gt[random_indeicies])\n",
    "#     print(train_batch_input)\n",
    "#     print(train_batch_gt)\n",
    "    \n",
    "    # **************************************************\n",
    "    out, attn_output_weights = model(train_batch_input)\n",
    "    # **************************************************\n",
    "    \n",
    "#     print(\"Final_out:\", out, \"Gt:\", train_batch_gt)\n",
    "    loss_val = loss_func(out, torch.FloatTensor(train_batch_gt))\n",
    "#     print(\"loss:\", loss_val)\n",
    "    total_loss += loss_val\n",
    "    total_tokens += len(train_batch_input[0])\n",
    "    loss_val.backward()\n",
    "    optimizer.step()\n",
    "\n",
    "    total_train_loss_by_token = total_loss / total_tokens\n",
    "\n",
    "    model.eval()\n",
    "\n",
    "    # Some validation here\n",
    "    elapsed = time.time() - start\n",
    "    if cur_step % 1000 == 0:\n",
    "        print(f\"Cur Step: {cur_step} Train Loss: {total_train_loss_by_token} elapsed: {elapsed}\")\n",
    "        val_category, val_intensity = valid_input\n",
    "        val_category = torch.LongTensor(val_category)\n",
    "        val_intensity = torch.FloatTensor(val_intensity)\n",
    "        val_gt = torch.FloatTensor(valid_gt)\n",
    "#         print(val_category, val_intensity)\n",
    "        val_metrics = {\n",
    "            \"loss\": loss_func,\n",
    "            'auc': lambda pred, gt : roc_auc_score(gt.numpy(), pred.numpy())\n",
    "            }\n",
    "        val_result = validation(model, val_metrics, val_category, val_gt)\n",
    "        print(val_result)\n",
    "        log_result[cur_step] = val_result"
   ]
  },
  {
   "cell_type": "code",
   "execution_count": 22,
   "id": "a743cc49",
   "metadata": {
    "pycharm": {
     "name": "#%%\n"
    }
   },
   "outputs": [
    {
     "data": {
      "text/plain": [
       "{0: {'loss': tensor(0.6666), 'auc': 0.48689806128830526},\n",
       " 1000: {'loss': tensor(0.3373), 'auc': 0.5424640400250157},\n",
       " 2000: {'loss': tensor(0.2435), 'auc': 0.7156920992286846},\n",
       " 3000: {'loss': tensor(0.2577), 'auc': 0.6911663539712319},\n",
       " 4000: {'loss': tensor(0.2605), 'auc': 0.6391077756931415},\n",
       " 5000: {'loss': tensor(0.2757), 'auc': 0.7156451949134875},\n",
       " 6000: {'loss': tensor(0.2580), 'auc': 0.6999009797790285},\n",
       " 7000: {'loss': tensor(0.3401), 'auc': 0.6377631853241611},\n",
       " 8000: {'loss': tensor(0.2374), 'auc': 0.7105013550135503},\n",
       " 9000: {'loss': tensor(0.2691), 'auc': 0.644063998332291},\n",
       " 10000: {'loss': tensor(0.2740), 'auc': 0.699015009380863},\n",
       " 11000: {'loss': tensor(0.2822), 'auc': 0.6940587867417135},\n",
       " 12000: {'loss': tensor(0.2822), 'auc': 0.7246456118407338},\n",
       " 13000: {'loss': tensor(0.3272), 'auc': 0.7035178236397749},\n",
       " 14000: {'loss': tensor(0.3373), 'auc': 0.6955753595997499},\n",
       " 15000: {'loss': tensor(0.3239), 'auc': 0.6411924119241194},\n",
       " 16000: {'loss': tensor(0.3355), 'auc': 0.6483739837398373},\n",
       " 17000: {'loss': tensor(0.3057), 'auc': 0.6845945382530748},\n",
       " 18000: {'loss': tensor(0.3164), 'auc': 0.7102459870752553},\n",
       " 19000: {'loss': tensor(0.2873), 'auc': 0.7195017719407963}}"
      ]
     },
     "execution_count": 22,
     "metadata": {},
     "output_type": "execute_result"
    }
   ],
   "source": [
    "log_result"
   ]
  },
  {
   "cell_type": "code",
   "execution_count": 23,
   "id": "3b058429",
   "metadata": {
    "pycharm": {
     "name": "#%%\n"
    }
   },
   "outputs": [
    {
     "data": {
      "text/plain": [
       "{'loss': tensor(0.2822), 'auc': 0.7246456118407338}"
      ]
     },
     "execution_count": 23,
     "metadata": {},
     "output_type": "execute_result"
    }
   ],
   "source": [
    "max(log_result.values(), key=lambda x : x['auc'])"
   ]
  },
  {
   "cell_type": "code",
   "execution_count": 24,
   "id": "f96c4334",
   "metadata": {
    "pycharm": {
     "name": "#%%\n"
    }
   },
   "outputs": [
    {
     "data": {
      "text/plain": [
       "{'loss': tensor(0.2374), 'auc': 0.7105013550135503}"
      ]
     },
     "execution_count": 24,
     "metadata": {},
     "output_type": "execute_result"
    }
   ],
   "source": [
    "min(log_result.values(), key=lambda x : x['loss'])"
   ]
  },
  {
   "cell_type": "code",
   "execution_count": 25,
   "id": "44b97196",
   "metadata": {
    "pycharm": {
     "name": "#%%\n"
    }
   },
   "outputs": [],
   "source": [
    "from model.utils import run_epoch"
   ]
  },
  {
   "cell_type": "markdown",
   "id": "4fd6c385",
   "metadata": {
    "pycharm": {
     "name": "#%% md\n"
    }
   },
   "source": [
    "## CategoricalAttentionModel"
   ]
  },
  {
   "cell_type": "code",
   "execution_count": 26,
   "id": "ea48b9ea",
   "metadata": {
    "scrolled": true,
    "pycharm": {
     "name": "#%%\n"
    }
   },
   "outputs": [
    {
     "name": "stdout",
     "output_type": "stream",
     "text": [
      "len_seq: 9\n",
      "Cur Step: 0 Train Loss: 0.016994865611195564 elapsed: 0.005062103271484375\n",
      "torch.Size([1156, 1]) torch.Size([1156, 1])\n",
      "{'loss': tensor(0.6933), 'auc': 0.3784083802376485}\n",
      "Cur Step: 1000 Train Loss: 0.016994865611195564 elapsed: 0.0034208297729492188\n",
      "torch.Size([1156, 1]) torch.Size([1156, 1])\n",
      "{'loss': tensor(0.3404), 'auc': 0.6560245987075256}\n",
      "Cur Step: 2000 Train Loss: 0.016994865611195564 elapsed: 0.0037000179290771484\n",
      "torch.Size([1156, 1]) torch.Size([1156, 1])\n",
      "{'loss': tensor(0.2606), 'auc': 0.7111528038357307}\n",
      "Cur Step: 3000 Train Loss: 0.016994865611195564 elapsed: 0.0036361217498779297\n",
      "torch.Size([1156, 1]) torch.Size([1156, 1])\n",
      "{'loss': tensor(0.3234), 'auc': 0.7193089430894308}\n",
      "Cur Step: 4000 Train Loss: 0.016994865611195564 elapsed: 0.003638029098510742\n",
      "torch.Size([1156, 1]) torch.Size([1156, 1])\n",
      "{'loss': tensor(0.2920), 'auc': 0.7397071086095477}\n",
      "Cur Step: 5000 Train Loss: 0.016994865611195564 elapsed: 0.0034220218658447266\n",
      "torch.Size([1156, 1]) torch.Size([1156, 1])\n",
      "{'loss': tensor(0.3547), 'auc': 0.7681050656660412}\n",
      "Cur Step: 6000 Train Loss: 0.016994865611195564 elapsed: 0.003458738327026367\n",
      "torch.Size([1156, 1]) torch.Size([1156, 1])\n",
      "{'loss': tensor(0.3214), 'auc': 0.7632061705232437}\n",
      "Cur Step: 7000 Train Loss: 0.016994865611195564 elapsed: 0.0037012100219726562\n",
      "torch.Size([1156, 1]) torch.Size([1156, 1])\n",
      "{'loss': tensor(0.3038), 'auc': 0.6353137377527621}\n",
      "Cur Step: 8000 Train Loss: 0.016994865611195564 elapsed: 0.0031850337982177734\n",
      "torch.Size([1156, 1]) torch.Size([1156, 1])\n",
      "{'loss': tensor(0.3353), 'auc': 0.7478580362726704}\n",
      "Cur Step: 9000 Train Loss: 0.016994865611195564 elapsed: 0.003309011459350586\n",
      "torch.Size([1156, 1]) torch.Size([1156, 1])\n",
      "{'loss': tensor(0.2520), 'auc': 0.7463779445486762}\n",
      "Cur Step: 10000 Train Loss: 0.016994865611195564 elapsed: 0.0032911300659179688\n",
      "torch.Size([1156, 1]) torch.Size([1156, 1])\n",
      "{'loss': tensor(0.2446), 'auc': 0.7567698561601001}\n",
      "Cur Step: 11000 Train Loss: 0.016994865611195564 elapsed: 0.0034706592559814453\n",
      "torch.Size([1156, 1]) torch.Size([1156, 1])\n",
      "{'loss': tensor(0.2386), 'auc': 0.7705753595997497}\n",
      "Cur Step: 12000 Train Loss: 0.016994865611195564 elapsed: 0.0031430721282958984\n",
      "torch.Size([1156, 1]) torch.Size([1156, 1])\n",
      "{'loss': tensor(0.2784), 'auc': 0.7505472170106317}\n",
      "Cur Step: 13000 Train Loss: 0.016994865611195564 elapsed: 0.003191709518432617\n",
      "torch.Size([1156, 1]) torch.Size([1156, 1])\n",
      "{'loss': tensor(0.2300), 'auc': 0.7513550135501357}\n",
      "Cur Step: 14000 Train Loss: 0.016994865611195564 elapsed: 0.003142833709716797\n",
      "torch.Size([1156, 1]) torch.Size([1156, 1])\n",
      "{'loss': tensor(0.2365), 'auc': 0.7522149259954137}\n",
      "Cur Step: 15000 Train Loss: 0.016994865611195564 elapsed: 0.0033168792724609375\n",
      "torch.Size([1156, 1]) torch.Size([1156, 1])\n",
      "{'loss': tensor(0.2874), 'auc': 0.7418125912028353}\n",
      "Cur Step: 16000 Train Loss: 0.016994865611195564 elapsed: 0.0034291744232177734\n",
      "torch.Size([1156, 1]) torch.Size([1156, 1])\n",
      "{'loss': tensor(0.3431), 'auc': 0.7100844277673546}\n",
      "Cur Step: 17000 Train Loss: 0.016994865611195564 elapsed: 0.0032722949981689453\n",
      "torch.Size([1156, 1]) torch.Size([1156, 1])\n",
      "{'loss': tensor(0.2554), 'auc': 0.7144308943089431}\n",
      "Cur Step: 18000 Train Loss: 0.016994865611195564 elapsed: 0.003381967544555664\n",
      "torch.Size([1156, 1]) torch.Size([1156, 1])\n",
      "{'loss': tensor(0.3217), 'auc': 0.7198926412341047}\n",
      "Cur Step: 19000 Train Loss: 0.016994865611195564 elapsed: 0.0033490657806396484\n",
      "torch.Size([1156, 1]) torch.Size([1156, 1])\n",
      "{'loss': tensor(0.3303), 'auc': 0.7186731290389827}\n"
     ]
    }
   ],
   "source": [
    "\n",
    "len_seq = train_input[0].shape[1]\n",
    "print(\"len_seq:\", len_seq)\n",
    "\n",
    "\n",
    "model = CategoricalAttentionModel(dict_category, d_model=d_model, n_head=n_head, len_seq=len_seq)\n",
    "loss_func = nn.BCELoss()\n",
    "optimizer = optim.Adam(model.parameters(), lr=0.0001)\n",
    "batch_size = 128\n",
    "n_steps = 20000\n",
    "log_result_attention = dict()\n",
    "\n",
    "model.train()\n",
    "for cur_step in range(n_steps):\n",
    "    \"\"\"Train on single item of train data\"\"\"\n",
    "    start = time.time()\n",
    "    total_tokens = 0\n",
    "    total_loss = 0\n",
    "\n",
    "    model.train()\n",
    "    \n",
    "    train_batch_cat_value , train_batch_intensity_value = train_input\n",
    "    random_indeicies = torch.randperm(len(train_input[0]))[:batch_size]\n",
    "    train_batch_input = torch.LongTensor(train_batch_cat_value[random_indeicies])\n",
    "    train_batch_intensity = torch.FloatTensor(train_batch_intensity_value[random_indeicies])\n",
    "    train_batch_gt = torch.FloatTensor(train_gt[random_indeicies])\n",
    "#     print(train_batch_input)\n",
    "#     print(train_batch_gt)\n",
    "    \n",
    "    # **************************************************\n",
    "    out, attn_output_weights = model([train_batch_input, train_batch_intensity])\n",
    "    # **************************************************\n",
    "    \n",
    "#     print(\"Final_out:\", out, \"Gt:\", train_batch_gt)\n",
    "    loss_train = loss_func(out, torch.FloatTensor(train_batch_gt))\n",
    "#     print(\"loss:\", loss_val)\n",
    "    total_loss += loss_val\n",
    "    total_tokens += len(train_batch_input[0])\n",
    "    \n",
    "    # Back propagation\n",
    "    loss_train.backward()\n",
    "    optimizer.step()\n",
    "\n",
    "    total_train_loss_by_token = total_loss / total_tokens\n",
    "\n",
    "    model.eval()\n",
    "\n",
    "    # Some validation here\n",
    "    elapsed = time.time() - start\n",
    "    if cur_step % 1000 == 0:\n",
    "        print(f\"Cur Step: {cur_step} Train Loss: {total_train_loss_by_token} elapsed: {elapsed}\")\n",
    "        val_category, val_intensity = valid_input\n",
    "        val_category = torch.LongTensor(val_category)\n",
    "        val_intensity = torch.FloatTensor(val_intensity)\n",
    "        val_gt = torch.FloatTensor(valid_gt)\n",
    "#         print(val_category, val_intensity)\n",
    "        val_metrics = {\n",
    "            \"loss\": loss_func,\n",
    "            'auc': lambda pred, gt : roc_auc_score(gt.numpy(), pred.numpy())\n",
    "            }\n",
    "        val_result = validation(model, val_metrics, [val_category, val_intensity], val_gt)\n",
    "        print(val_result)\n",
    "        log_result_attention[cur_step] = val_result"
   ]
  },
  {
   "cell_type": "code",
   "execution_count": 27,
   "id": "ad20d686",
   "metadata": {
    "scrolled": false,
    "pycharm": {
     "name": "#%%\n"
    }
   },
   "outputs": [
    {
     "data": {
      "text/plain": [
       "{0: {'loss': tensor(0.6933), 'auc': 0.3784083802376485},\n",
       " 1000: {'loss': tensor(0.3404), 'auc': 0.6560245987075256},\n",
       " 2000: {'loss': tensor(0.2606), 'auc': 0.7111528038357307},\n",
       " 3000: {'loss': tensor(0.3234), 'auc': 0.7193089430894308},\n",
       " 4000: {'loss': tensor(0.2920), 'auc': 0.7397071086095477},\n",
       " 5000: {'loss': tensor(0.3547), 'auc': 0.7681050656660412},\n",
       " 6000: {'loss': tensor(0.3214), 'auc': 0.7632061705232437},\n",
       " 7000: {'loss': tensor(0.3038), 'auc': 0.6353137377527621},\n",
       " 8000: {'loss': tensor(0.3353), 'auc': 0.7478580362726704},\n",
       " 9000: {'loss': tensor(0.2520), 'auc': 0.7463779445486762},\n",
       " 10000: {'loss': tensor(0.2446), 'auc': 0.7567698561601001},\n",
       " 11000: {'loss': tensor(0.2386), 'auc': 0.7705753595997497},\n",
       " 12000: {'loss': tensor(0.2784), 'auc': 0.7505472170106317},\n",
       " 13000: {'loss': tensor(0.2300), 'auc': 0.7513550135501357},\n",
       " 14000: {'loss': tensor(0.2365), 'auc': 0.7522149259954137},\n",
       " 15000: {'loss': tensor(0.2874), 'auc': 0.7418125912028353},\n",
       " 16000: {'loss': tensor(0.3431), 'auc': 0.7100844277673546},\n",
       " 17000: {'loss': tensor(0.2554), 'auc': 0.7144308943089431},\n",
       " 18000: {'loss': tensor(0.3217), 'auc': 0.7198926412341047},\n",
       " 19000: {'loss': tensor(0.3303), 'auc': 0.7186731290389827}}"
      ]
     },
     "execution_count": 27,
     "metadata": {},
     "output_type": "execute_result"
    }
   ],
   "source": [
    "log_result_attention"
   ]
  },
  {
   "cell_type": "code",
   "execution_count": 28,
   "id": "1483f49e",
   "metadata": {
    "pycharm": {
     "name": "#%%\n"
    }
   },
   "outputs": [
    {
     "data": {
      "text/plain": [
       "{'loss': tensor(0.2386), 'auc': 0.7705753595997497}"
      ]
     },
     "execution_count": 28,
     "metadata": {},
     "output_type": "execute_result"
    }
   ],
   "source": [
    "max(log_result_attention.values(), key=lambda x : x['auc'])"
   ]
  },
  {
   "cell_type": "code",
   "execution_count": null,
   "id": "d64220b3",
   "metadata": {
    "pycharm": {
     "name": "#%%\n"
    }
   },
   "outputs": [],
   "source": []
  },
  {
   "cell_type": "code",
   "execution_count": null,
   "id": "4dfeb385",
   "metadata": {
    "pycharm": {
     "name": "#%%\n"
    }
   },
   "outputs": [],
   "source": []
  },
  {
   "cell_type": "code",
   "execution_count": null,
   "id": "1cc29774",
   "metadata": {
    "pycharm": {
     "name": "#%%\n"
    }
   },
   "outputs": [],
   "source": []
  }
 ],
 "metadata": {
  "kernelspec": {
   "display_name": "py38",
   "language": "python",
   "name": "py38"
  },
  "language_info": {
   "codemirror_mode": {
    "name": "ipython",
    "version": 3
   },
   "file_extension": ".py",
   "mimetype": "text/x-python",
   "name": "python",
   "nbconvert_exporter": "python",
   "pygments_lexer": "ipython3",
   "version": "3.8.13"
  }
 },
 "nbformat": 4,
 "nbformat_minor": 5
}